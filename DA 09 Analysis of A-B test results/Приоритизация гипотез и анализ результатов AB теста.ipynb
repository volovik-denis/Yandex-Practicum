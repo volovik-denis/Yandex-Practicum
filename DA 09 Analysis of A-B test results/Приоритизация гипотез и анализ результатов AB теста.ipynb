{
 "cells": [
  {
   "cell_type": "markdown",
   "metadata": {},
   "source": [
    "# Приоритизация гипотез и анализ результатов A/B теста"
   ]
  },
  {
   "cell_type": "markdown",
   "metadata": {},
   "source": [
    "## Описание проекта"
   ]
  },
  {
   "cell_type": "markdown",
   "metadata": {},
   "source": [
    "Вы — аналитик крупного интернет-магазина. Вместе с отделом маркетинга вы подготовили список гипотез для увеличения выручки.\n",
    "Приоритизируйте гипотезы, запустите A/B-тест и проанализируйте результаты. \n",
    "\n",
    "**Часть 1. Приоритизация гипотез.**\n",
    "\n",
    "В файле /datasets/hypothesis.csv 9 гипотез по увеличению выручки интернет-магазина с указанными параметрами Reach, Impact, Confidence, Effort.\n",
    "\n",
    "Задача:\n",
    "* Примените фреймворк ICE для приоритизации гипотез. Отсортируйте их по убыванию приоритета.\n",
    "* Примените фреймворк RICE для приоритизации гипотез. Отсортируйте их по убыванию приоритета.\n",
    "* Укажите, как изменилась приоритизация гипотез при применении RICE вместо ICE. Объясните, почему так произошло.\n",
    "\n",
    "**Часть 2. Анализ A/B-теста**\n",
    "\n",
    "Вы провели A/B-тест и получили результаты, которые описаны в файлах /datasets/orders.csv и /datasets/visitors.csv.\n",
    "\n",
    "Задача:\n",
    "* Проанализируйте A/B-тест:\n",
    "* Постройте график кумулятивной выручки по группам. Сделайте выводы и предположения.\n",
    "* Постройте график кумулятивного среднего чека по группам. Сделайте выводы и предположения.\n",
    "* Постройте график относительного изменения кумулятивного среднего чека группы B к группе A. Сделайте выводы и предположения.\n",
    "* Постройте график кумулятивного среднего количества заказов на посетителя по группам. Сделайте выводы и предположения.\n",
    "* Постройте график относительного изменения кумулятивного среднего количества заказов на посетителя группы B к группе A. Сделайте выводы и предположения.\n",
    "* Постройте точечный график количества заказов по пользователям. Сделайте выводы и предположения.\n",
    "* Посчитайте 95-й и 99-й перцентили количества заказов на пользователя. Выберите границу для определения аномальных пользователей.\n",
    "* Постройте точечный график стоимостей заказов. Сделайте выводы и предположения.\n",
    "* Посчитайте 95-й и 99-й перцентили стоимости заказов. Выберите границу для определения аномальных заказов.\n",
    "* Посчитайте статистическую значимость различий в среднем количестве заказов на посетителя между группами по «сырым» данным. Сделайте выводы и предположения.\n",
    "* Посчитайте статистическую значимость различий в среднем чеке заказа между группами по «сырым» данным. Сделайте выводы и предположения.\n",
    "* Посчитайте статистическую значимость различий в среднем количестве заказов на посетителя между группами по «очищенным» данным. Сделайте выводы и предположения.\n",
    "* Посчитайте статистическую значимость различий в среднем чеке заказа между группами по «очищенным» данным. Сделайте выводы и предположения.\n",
    "\n",
    "Примите решение по результатам теста и объясните его. Варианты решений:\n",
    "1. Остановить тест, зафиксировать победу одной из групп.\n",
    "2. Остановить тест, зафиксировать отсутствие различий между группами.\n",
    "3. Продолжить тест."
   ]
  },
  {
   "cell_type": "markdown",
   "metadata": {},
   "source": [
    "## Описание данных"
   ]
  },
  {
   "cell_type": "markdown",
   "metadata": {},
   "source": [
    "Данные для первой части:\n",
    "\n",
    "Файл /datasets/hypothesis.csv\n",
    "\n",
    "* Hypothesis — **краткое описание гипотезы;**\n",
    "* Reach — **охват пользователей по 10-балльной шкале;**\n",
    "* Impact — **влияние на пользователей по 10-балльной шкале;**\n",
    "* Confidence — **уверенность в гипотезе по 10-балльной шкале;**\n",
    "* Efforts — **затраты ресурсов на проверку гипотезы по 10-балльной шкале. Чем больше значение Efforts, тем дороже проверка гипотезы.**\n",
    "\n",
    "Данные для второй части:\n",
    "\n",
    "Файл /datasets/orders.csv\n",
    "\n",
    "* transactionId — **идентификатор заказа;**\n",
    "* visitorId — **идентификатор пользователя, совершившего заказ;**\n",
    "* date — **дата, когда был совершён заказ;**\n",
    "* revenue — **выручка заказа;**\n",
    "* group — **группа A/B-теста, в которую попал заказ.**\n",
    "\n",
    "Файл /datasets/visitors.csv\n",
    "\n",
    "* date — **дата;**\n",
    "* group — **группа A/B-теста;**\n",
    "* visitors — **количество пользователей в указанную дату в указанной группе A/B-теста**"
   ]
  },
  {
   "cell_type": "markdown",
   "metadata": {},
   "source": [
    "## Работа с проектом"
   ]
  },
  {
   "cell_type": "markdown",
   "metadata": {},
   "source": [
    "### Открываю файл с данными и изучаю общую информацию"
   ]
  },
  {
   "cell_type": "markdown",
   "metadata": {},
   "source": [
    "**Импортирую все необходимые библиотеки для проекта**"
   ]
  },
  {
   "cell_type": "code",
   "execution_count": 2,
   "metadata": {},
   "outputs": [],
   "source": [
    "import pandas as pd\n",
    "import matplotlib.pyplot as plt\n",
    "import numpy as np\n",
    "import seaborn as sns\n",
    "from scipy import stats as st\n",
    "import math as mth\n",
    "import matplotlib.ticker as mtick\n",
    "import warnings\n",
    "warnings.filterwarnings('ignore')\n",
    "pd.set_option('display.max_colwidth', False)"
   ]
  },
  {
   "cell_type": "markdown",
   "metadata": {},
   "source": [
    "**Открываю файлы с данными**"
   ]
  },
  {
   "cell_type": "code",
   "execution_count": 3,
   "metadata": {},
   "outputs": [],
   "source": [
    "hypothesis = pd.read_csv('/datasets/hypothesis.csv')\n",
    "orders = pd.read_csv('/datasets/orders.csv')\n",
    "visitors = pd.read_csv('/datasets/visitors.csv')"
   ]
  },
  {
   "cell_type": "markdown",
   "metadata": {},
   "source": [
    "**Вывожу на экран первые 10 строк таблиц, изучаю данные**"
   ]
  },
  {
   "cell_type": "code",
   "execution_count": 4,
   "metadata": {},
   "outputs": [
    {
     "data": {
      "text/html": [
       "<div>\n",
       "<style scoped>\n",
       "    .dataframe tbody tr th:only-of-type {\n",
       "        vertical-align: middle;\n",
       "    }\n",
       "\n",
       "    .dataframe tbody tr th {\n",
       "        vertical-align: top;\n",
       "    }\n",
       "\n",
       "    .dataframe thead th {\n",
       "        text-align: right;\n",
       "    }\n",
       "</style>\n",
       "<table border=\"1\" class=\"dataframe\">\n",
       "  <thead>\n",
       "    <tr style=\"text-align: right;\">\n",
       "      <th></th>\n",
       "      <th>Hypothesis</th>\n",
       "      <th>Reach</th>\n",
       "      <th>Impact</th>\n",
       "      <th>Confidence</th>\n",
       "      <th>Efforts</th>\n",
       "    </tr>\n",
       "  </thead>\n",
       "  <tbody>\n",
       "    <tr>\n",
       "      <th>0</th>\n",
       "      <td>Добавить два новых канала привлечения трафика, что позволит привлекать на 30% больше пользователей</td>\n",
       "      <td>3</td>\n",
       "      <td>10</td>\n",
       "      <td>8</td>\n",
       "      <td>6</td>\n",
       "    </tr>\n",
       "    <tr>\n",
       "      <th>1</th>\n",
       "      <td>Запустить собственную службу доставки, что сократит срок доставки заказов</td>\n",
       "      <td>2</td>\n",
       "      <td>5</td>\n",
       "      <td>4</td>\n",
       "      <td>10</td>\n",
       "    </tr>\n",
       "    <tr>\n",
       "      <th>2</th>\n",
       "      <td>Добавить блоки рекомендаций товаров на сайт интернет магазина, чтобы повысить конверсию и средний чек заказа</td>\n",
       "      <td>8</td>\n",
       "      <td>3</td>\n",
       "      <td>7</td>\n",
       "      <td>3</td>\n",
       "    </tr>\n",
       "    <tr>\n",
       "      <th>3</th>\n",
       "      <td>Изменить структура категорий, что увеличит конверсию, т.к. пользователи быстрее найдут нужный товар</td>\n",
       "      <td>8</td>\n",
       "      <td>3</td>\n",
       "      <td>3</td>\n",
       "      <td>8</td>\n",
       "    </tr>\n",
       "    <tr>\n",
       "      <th>4</th>\n",
       "      <td>Изменить цвет фона главной страницы, чтобы увеличить вовлеченность пользователей</td>\n",
       "      <td>3</td>\n",
       "      <td>1</td>\n",
       "      <td>1</td>\n",
       "      <td>1</td>\n",
       "    </tr>\n",
       "    <tr>\n",
       "      <th>5</th>\n",
       "      <td>Добавить страницу отзывов клиентов о магазине, что позволит увеличить количество заказов</td>\n",
       "      <td>3</td>\n",
       "      <td>2</td>\n",
       "      <td>2</td>\n",
       "      <td>3</td>\n",
       "    </tr>\n",
       "    <tr>\n",
       "      <th>6</th>\n",
       "      <td>Показать на главной странице баннеры с актуальными акциями и распродажами, чтобы увеличить конверсию</td>\n",
       "      <td>5</td>\n",
       "      <td>3</td>\n",
       "      <td>8</td>\n",
       "      <td>3</td>\n",
       "    </tr>\n",
       "    <tr>\n",
       "      <th>7</th>\n",
       "      <td>Добавить форму подписки на все основные страницы, чтобы собрать базу клиентов для email-рассылок</td>\n",
       "      <td>10</td>\n",
       "      <td>7</td>\n",
       "      <td>8</td>\n",
       "      <td>5</td>\n",
       "    </tr>\n",
       "    <tr>\n",
       "      <th>8</th>\n",
       "      <td>Запустить акцию, дающую скидку на товар в день рождения</td>\n",
       "      <td>1</td>\n",
       "      <td>9</td>\n",
       "      <td>9</td>\n",
       "      <td>5</td>\n",
       "    </tr>\n",
       "  </tbody>\n",
       "</table>\n",
       "</div>"
      ],
      "text/plain": [
       "                                                                                                     Hypothesis  \\\n",
       "0  Добавить два новых канала привлечения трафика, что позволит привлекать на 30% больше пользователей             \n",
       "1  Запустить собственную службу доставки, что сократит срок доставки заказов                                      \n",
       "2  Добавить блоки рекомендаций товаров на сайт интернет магазина, чтобы повысить конверсию и средний чек заказа   \n",
       "3  Изменить структура категорий, что увеличит конверсию, т.к. пользователи быстрее найдут нужный товар            \n",
       "4  Изменить цвет фона главной страницы, чтобы увеличить вовлеченность пользователей                               \n",
       "5  Добавить страницу отзывов клиентов о магазине, что позволит увеличить количество заказов                       \n",
       "6  Показать на главной странице баннеры с актуальными акциями и распродажами, чтобы увеличить конверсию           \n",
       "7  Добавить форму подписки на все основные страницы, чтобы собрать базу клиентов для email-рассылок               \n",
       "8  Запустить акцию, дающую скидку на товар в день рождения                                                        \n",
       "\n",
       "   Reach  Impact  Confidence  Efforts  \n",
       "0  3      10      8           6        \n",
       "1  2      5       4           10       \n",
       "2  8      3       7           3        \n",
       "3  8      3       3           8        \n",
       "4  3      1       1           1        \n",
       "5  3      2       2           3        \n",
       "6  5      3       8           3        \n",
       "7  10     7       8           5        \n",
       "8  1      9       9           5        "
      ]
     },
     "metadata": {},
     "output_type": "display_data"
    },
    {
     "data": {
      "text/html": [
       "<div>\n",
       "<style scoped>\n",
       "    .dataframe tbody tr th:only-of-type {\n",
       "        vertical-align: middle;\n",
       "    }\n",
       "\n",
       "    .dataframe tbody tr th {\n",
       "        vertical-align: top;\n",
       "    }\n",
       "\n",
       "    .dataframe thead th {\n",
       "        text-align: right;\n",
       "    }\n",
       "</style>\n",
       "<table border=\"1\" class=\"dataframe\">\n",
       "  <thead>\n",
       "    <tr style=\"text-align: right;\">\n",
       "      <th></th>\n",
       "      <th>transactionId</th>\n",
       "      <th>visitorId</th>\n",
       "      <th>date</th>\n",
       "      <th>revenue</th>\n",
       "      <th>group</th>\n",
       "    </tr>\n",
       "  </thead>\n",
       "  <tbody>\n",
       "    <tr>\n",
       "      <th>0</th>\n",
       "      <td>3667963787</td>\n",
       "      <td>3312258926</td>\n",
       "      <td>2019-08-15</td>\n",
       "      <td>1650</td>\n",
       "      <td>B</td>\n",
       "    </tr>\n",
       "    <tr>\n",
       "      <th>1</th>\n",
       "      <td>2804400009</td>\n",
       "      <td>3642806036</td>\n",
       "      <td>2019-08-15</td>\n",
       "      <td>730</td>\n",
       "      <td>B</td>\n",
       "    </tr>\n",
       "    <tr>\n",
       "      <th>2</th>\n",
       "      <td>2961555356</td>\n",
       "      <td>4069496402</td>\n",
       "      <td>2019-08-15</td>\n",
       "      <td>400</td>\n",
       "      <td>A</td>\n",
       "    </tr>\n",
       "    <tr>\n",
       "      <th>3</th>\n",
       "      <td>3797467345</td>\n",
       "      <td>1196621759</td>\n",
       "      <td>2019-08-15</td>\n",
       "      <td>9759</td>\n",
       "      <td>B</td>\n",
       "    </tr>\n",
       "    <tr>\n",
       "      <th>4</th>\n",
       "      <td>2282983706</td>\n",
       "      <td>2322279887</td>\n",
       "      <td>2019-08-15</td>\n",
       "      <td>2308</td>\n",
       "      <td>B</td>\n",
       "    </tr>\n",
       "    <tr>\n",
       "      <th>5</th>\n",
       "      <td>182168103</td>\n",
       "      <td>935554773</td>\n",
       "      <td>2019-08-15</td>\n",
       "      <td>2210</td>\n",
       "      <td>B</td>\n",
       "    </tr>\n",
       "    <tr>\n",
       "      <th>6</th>\n",
       "      <td>398296753</td>\n",
       "      <td>2900797465</td>\n",
       "      <td>2019-08-15</td>\n",
       "      <td>1860</td>\n",
       "      <td>B</td>\n",
       "    </tr>\n",
       "    <tr>\n",
       "      <th>7</th>\n",
       "      <td>2626614568</td>\n",
       "      <td>78758296</td>\n",
       "      <td>2019-08-15</td>\n",
       "      <td>1044</td>\n",
       "      <td>A</td>\n",
       "    </tr>\n",
       "    <tr>\n",
       "      <th>8</th>\n",
       "      <td>1576988021</td>\n",
       "      <td>295230930</td>\n",
       "      <td>2019-08-15</td>\n",
       "      <td>13710</td>\n",
       "      <td>A</td>\n",
       "    </tr>\n",
       "    <tr>\n",
       "      <th>9</th>\n",
       "      <td>1506739906</td>\n",
       "      <td>1882260405</td>\n",
       "      <td>2019-08-15</td>\n",
       "      <td>1855</td>\n",
       "      <td>B</td>\n",
       "    </tr>\n",
       "  </tbody>\n",
       "</table>\n",
       "</div>"
      ],
      "text/plain": [
       "   transactionId   visitorId        date  revenue group\n",
       "0  3667963787     3312258926  2019-08-15  1650     B   \n",
       "1  2804400009     3642806036  2019-08-15  730      B   \n",
       "2  2961555356     4069496402  2019-08-15  400      A   \n",
       "3  3797467345     1196621759  2019-08-15  9759     B   \n",
       "4  2282983706     2322279887  2019-08-15  2308     B   \n",
       "5  182168103      935554773   2019-08-15  2210     B   \n",
       "6  398296753      2900797465  2019-08-15  1860     B   \n",
       "7  2626614568     78758296    2019-08-15  1044     A   \n",
       "8  1576988021     295230930   2019-08-15  13710    A   \n",
       "9  1506739906     1882260405  2019-08-15  1855     B   "
      ]
     },
     "metadata": {},
     "output_type": "display_data"
    },
    {
     "data": {
      "text/html": [
       "<div>\n",
       "<style scoped>\n",
       "    .dataframe tbody tr th:only-of-type {\n",
       "        vertical-align: middle;\n",
       "    }\n",
       "\n",
       "    .dataframe tbody tr th {\n",
       "        vertical-align: top;\n",
       "    }\n",
       "\n",
       "    .dataframe thead th {\n",
       "        text-align: right;\n",
       "    }\n",
       "</style>\n",
       "<table border=\"1\" class=\"dataframe\">\n",
       "  <thead>\n",
       "    <tr style=\"text-align: right;\">\n",
       "      <th></th>\n",
       "      <th>date</th>\n",
       "      <th>group</th>\n",
       "      <th>visitors</th>\n",
       "    </tr>\n",
       "  </thead>\n",
       "  <tbody>\n",
       "    <tr>\n",
       "      <th>0</th>\n",
       "      <td>2019-08-01</td>\n",
       "      <td>A</td>\n",
       "      <td>719</td>\n",
       "    </tr>\n",
       "    <tr>\n",
       "      <th>1</th>\n",
       "      <td>2019-08-02</td>\n",
       "      <td>A</td>\n",
       "      <td>619</td>\n",
       "    </tr>\n",
       "    <tr>\n",
       "      <th>2</th>\n",
       "      <td>2019-08-03</td>\n",
       "      <td>A</td>\n",
       "      <td>507</td>\n",
       "    </tr>\n",
       "    <tr>\n",
       "      <th>3</th>\n",
       "      <td>2019-08-04</td>\n",
       "      <td>A</td>\n",
       "      <td>717</td>\n",
       "    </tr>\n",
       "    <tr>\n",
       "      <th>4</th>\n",
       "      <td>2019-08-05</td>\n",
       "      <td>A</td>\n",
       "      <td>756</td>\n",
       "    </tr>\n",
       "    <tr>\n",
       "      <th>5</th>\n",
       "      <td>2019-08-06</td>\n",
       "      <td>A</td>\n",
       "      <td>667</td>\n",
       "    </tr>\n",
       "    <tr>\n",
       "      <th>6</th>\n",
       "      <td>2019-08-07</td>\n",
       "      <td>A</td>\n",
       "      <td>644</td>\n",
       "    </tr>\n",
       "    <tr>\n",
       "      <th>7</th>\n",
       "      <td>2019-08-08</td>\n",
       "      <td>A</td>\n",
       "      <td>610</td>\n",
       "    </tr>\n",
       "    <tr>\n",
       "      <th>8</th>\n",
       "      <td>2019-08-09</td>\n",
       "      <td>A</td>\n",
       "      <td>617</td>\n",
       "    </tr>\n",
       "    <tr>\n",
       "      <th>9</th>\n",
       "      <td>2019-08-10</td>\n",
       "      <td>A</td>\n",
       "      <td>406</td>\n",
       "    </tr>\n",
       "  </tbody>\n",
       "</table>\n",
       "</div>"
      ],
      "text/plain": [
       "         date group  visitors\n",
       "0  2019-08-01  A     719     \n",
       "1  2019-08-02  A     619     \n",
       "2  2019-08-03  A     507     \n",
       "3  2019-08-04  A     717     \n",
       "4  2019-08-05  A     756     \n",
       "5  2019-08-06  A     667     \n",
       "6  2019-08-07  A     644     \n",
       "7  2019-08-08  A     610     \n",
       "8  2019-08-09  A     617     \n",
       "9  2019-08-10  A     406     "
      ]
     },
     "metadata": {},
     "output_type": "display_data"
    }
   ],
   "source": [
    "display(hypothesis.head(10))\n",
    "display(orders.head(10))\n",
    "display(visitors.head(10))"
   ]
  },
  {
   "cell_type": "markdown",
   "metadata": {},
   "source": [
    "**Вывожу сводную информацию о каждой таблице**"
   ]
  },
  {
   "cell_type": "code",
   "execution_count": 5,
   "metadata": {
    "scrolled": true
   },
   "outputs": [
    {
     "name": "stdout",
     "output_type": "stream",
     "text": [
      "<class 'pandas.core.frame.DataFrame'>\n",
      "RangeIndex: 9 entries, 0 to 8\n",
      "Data columns (total 5 columns):\n",
      " #   Column      Non-Null Count  Dtype \n",
      "---  ------      --------------  ----- \n",
      " 0   Hypothesis  9 non-null      object\n",
      " 1   Reach       9 non-null      int64 \n",
      " 2   Impact      9 non-null      int64 \n",
      " 3   Confidence  9 non-null      int64 \n",
      " 4   Efforts     9 non-null      int64 \n",
      "dtypes: int64(4), object(1)\n",
      "memory usage: 488.0+ bytes\n",
      "<class 'pandas.core.frame.DataFrame'>\n",
      "RangeIndex: 1197 entries, 0 to 1196\n",
      "Data columns (total 5 columns):\n",
      " #   Column         Non-Null Count  Dtype \n",
      "---  ------         --------------  ----- \n",
      " 0   transactionId  1197 non-null   int64 \n",
      " 1   visitorId      1197 non-null   int64 \n",
      " 2   date           1197 non-null   object\n",
      " 3   revenue        1197 non-null   int64 \n",
      " 4   group          1197 non-null   object\n",
      "dtypes: int64(3), object(2)\n",
      "memory usage: 46.9+ KB\n",
      "<class 'pandas.core.frame.DataFrame'>\n",
      "RangeIndex: 62 entries, 0 to 61\n",
      "Data columns (total 3 columns):\n",
      " #   Column    Non-Null Count  Dtype \n",
      "---  ------    --------------  ----- \n",
      " 0   date      62 non-null     object\n",
      " 1   group     62 non-null     object\n",
      " 2   visitors  62 non-null     int64 \n",
      "dtypes: int64(1), object(2)\n",
      "memory usage: 1.6+ KB\n"
     ]
    }
   ],
   "source": [
    "hypothesis.info()\n",
    "orders.info()\n",
    "visitors.info()"
   ]
  },
  {
   "cell_type": "markdown",
   "metadata": {},
   "source": [
    "### Подготавливаю данные "
   ]
  },
  {
   "cell_type": "markdown",
   "metadata": {},
   "source": [
    "**Привожу названия столбцов к нижнему регистру**"
   ]
  },
  {
   "cell_type": "code",
   "execution_count": 6,
   "metadata": {
    "scrolled": false
   },
   "outputs": [],
   "source": [
    "hypothesis.columns = hypothesis.columns.str.lower()"
   ]
  },
  {
   "cell_type": "markdown",
   "metadata": {},
   "source": [
    "**Переименовываю столбцы `transactionId` и `visitorId` таблицы `orders`**"
   ]
  },
  {
   "cell_type": "code",
   "execution_count": 7,
   "metadata": {},
   "outputs": [],
   "source": [
    "orders = orders.rename(\n",
    "    columns={\n",
    "        'transactionId':'transaction_id',\n",
    "        'visitorId':'visitor_id'\n",
    "    }\n",
    ")"
   ]
  },
  {
   "cell_type": "markdown",
   "metadata": {},
   "source": [
    "**Меняю тип столбца `date` таблицы `visitors` и `orders` с date на datetime**"
   ]
  },
  {
   "cell_type": "code",
   "execution_count": 8,
   "metadata": {},
   "outputs": [],
   "source": [
    "orders['date'] = pd.to_datetime(orders['date'])\n",
    "visitors['date'] = pd.to_datetime(visitors['date'])"
   ]
  },
  {
   "cell_type": "markdown",
   "metadata": {},
   "source": [
    "**Так как в данных отсутствуют пропуски, осталось проверить их на дубликаты**"
   ]
  },
  {
   "cell_type": "code",
   "execution_count": 9,
   "metadata": {},
   "outputs": [
    {
     "name": "stdout",
     "output_type": "stream",
     "text": [
      "0\n",
      "0\n",
      "0\n"
     ]
    }
   ],
   "source": [
    "print(hypothesis.duplicated().sum())\n",
    "print(orders.duplicated().sum())\n",
    "print(visitors.duplicated().sum())"
   ]
  },
  {
   "cell_type": "markdown",
   "metadata": {},
   "source": [
    "**Дубликаты отсутствуют. Снова вывожу сводную информацию обо всех таблицах после изменений в них**"
   ]
  },
  {
   "cell_type": "code",
   "execution_count": 10,
   "metadata": {},
   "outputs": [
    {
     "name": "stdout",
     "output_type": "stream",
     "text": [
      "<class 'pandas.core.frame.DataFrame'>\n",
      "RangeIndex: 9 entries, 0 to 8\n",
      "Data columns (total 5 columns):\n",
      " #   Column      Non-Null Count  Dtype \n",
      "---  ------      --------------  ----- \n",
      " 0   hypothesis  9 non-null      object\n",
      " 1   reach       9 non-null      int64 \n",
      " 2   impact      9 non-null      int64 \n",
      " 3   confidence  9 non-null      int64 \n",
      " 4   efforts     9 non-null      int64 \n",
      "dtypes: int64(4), object(1)\n",
      "memory usage: 488.0+ bytes\n",
      "<class 'pandas.core.frame.DataFrame'>\n",
      "RangeIndex: 1197 entries, 0 to 1196\n",
      "Data columns (total 5 columns):\n",
      " #   Column          Non-Null Count  Dtype         \n",
      "---  ------          --------------  -----         \n",
      " 0   transaction_id  1197 non-null   int64         \n",
      " 1   visitor_id      1197 non-null   int64         \n",
      " 2   date            1197 non-null   datetime64[ns]\n",
      " 3   revenue         1197 non-null   int64         \n",
      " 4   group           1197 non-null   object        \n",
      "dtypes: datetime64[ns](1), int64(3), object(1)\n",
      "memory usage: 46.9+ KB\n",
      "<class 'pandas.core.frame.DataFrame'>\n",
      "RangeIndex: 62 entries, 0 to 61\n",
      "Data columns (total 3 columns):\n",
      " #   Column    Non-Null Count  Dtype         \n",
      "---  ------    --------------  -----         \n",
      " 0   date      62 non-null     datetime64[ns]\n",
      " 1   group     62 non-null     object        \n",
      " 2   visitors  62 non-null     int64         \n",
      "dtypes: datetime64[ns](1), int64(1), object(1)\n",
      "memory usage: 1.6+ KB\n"
     ]
    }
   ],
   "source": [
    "hypothesis.info()\n",
    "orders.info()\n",
    "visitors.info()"
   ]
  },
  {
   "cell_type": "markdown",
   "metadata": {},
   "source": [
    "## Приоритизация гипотез"
   ]
  },
  {
   "cell_type": "markdown",
   "metadata": {},
   "source": [
    "**Применяю фреймворк ICE для приоритизации гипотез**"
   ]
  },
  {
   "cell_type": "code",
   "execution_count": 11,
   "metadata": {},
   "outputs": [],
   "source": [
    "hypothesis['ICE'] = ((hypothesis['impact'] * hypothesis['confidence']) / hypothesis['efforts']).round(1)"
   ]
  },
  {
   "cell_type": "markdown",
   "metadata": {},
   "source": [
    "**Сортирую гипотезы по убыванию, вывожу на экран**"
   ]
  },
  {
   "cell_type": "code",
   "execution_count": 12,
   "metadata": {},
   "outputs": [
    {
     "data": {
      "text/html": [
       "<div>\n",
       "<style scoped>\n",
       "    .dataframe tbody tr th:only-of-type {\n",
       "        vertical-align: middle;\n",
       "    }\n",
       "\n",
       "    .dataframe tbody tr th {\n",
       "        vertical-align: top;\n",
       "    }\n",
       "\n",
       "    .dataframe thead th {\n",
       "        text-align: right;\n",
       "    }\n",
       "</style>\n",
       "<table border=\"1\" class=\"dataframe\">\n",
       "  <thead>\n",
       "    <tr style=\"text-align: right;\">\n",
       "      <th></th>\n",
       "      <th>hypothesis</th>\n",
       "      <th>ICE</th>\n",
       "    </tr>\n",
       "  </thead>\n",
       "  <tbody>\n",
       "    <tr>\n",
       "      <th>8</th>\n",
       "      <td>Запустить акцию, дающую скидку на товар в день рождения</td>\n",
       "      <td>16.2</td>\n",
       "    </tr>\n",
       "    <tr>\n",
       "      <th>0</th>\n",
       "      <td>Добавить два новых канала привлечения трафика, что позволит привлекать на 30% больше пользователей</td>\n",
       "      <td>13.3</td>\n",
       "    </tr>\n",
       "    <tr>\n",
       "      <th>7</th>\n",
       "      <td>Добавить форму подписки на все основные страницы, чтобы собрать базу клиентов для email-рассылок</td>\n",
       "      <td>11.2</td>\n",
       "    </tr>\n",
       "    <tr>\n",
       "      <th>6</th>\n",
       "      <td>Показать на главной странице баннеры с актуальными акциями и распродажами, чтобы увеличить конверсию</td>\n",
       "      <td>8.0</td>\n",
       "    </tr>\n",
       "    <tr>\n",
       "      <th>2</th>\n",
       "      <td>Добавить блоки рекомендаций товаров на сайт интернет магазина, чтобы повысить конверсию и средний чек заказа</td>\n",
       "      <td>7.0</td>\n",
       "    </tr>\n",
       "    <tr>\n",
       "      <th>1</th>\n",
       "      <td>Запустить собственную службу доставки, что сократит срок доставки заказов</td>\n",
       "      <td>2.0</td>\n",
       "    </tr>\n",
       "    <tr>\n",
       "      <th>5</th>\n",
       "      <td>Добавить страницу отзывов клиентов о магазине, что позволит увеличить количество заказов</td>\n",
       "      <td>1.3</td>\n",
       "    </tr>\n",
       "    <tr>\n",
       "      <th>3</th>\n",
       "      <td>Изменить структура категорий, что увеличит конверсию, т.к. пользователи быстрее найдут нужный товар</td>\n",
       "      <td>1.1</td>\n",
       "    </tr>\n",
       "    <tr>\n",
       "      <th>4</th>\n",
       "      <td>Изменить цвет фона главной страницы, чтобы увеличить вовлеченность пользователей</td>\n",
       "      <td>1.0</td>\n",
       "    </tr>\n",
       "  </tbody>\n",
       "</table>\n",
       "</div>"
      ],
      "text/plain": [
       "                                                                                                     hypothesis  \\\n",
       "8  Запустить акцию, дающую скидку на товар в день рождения                                                        \n",
       "0  Добавить два новых канала привлечения трафика, что позволит привлекать на 30% больше пользователей             \n",
       "7  Добавить форму подписки на все основные страницы, чтобы собрать базу клиентов для email-рассылок               \n",
       "6  Показать на главной странице баннеры с актуальными акциями и распродажами, чтобы увеличить конверсию           \n",
       "2  Добавить блоки рекомендаций товаров на сайт интернет магазина, чтобы повысить конверсию и средний чек заказа   \n",
       "1  Запустить собственную службу доставки, что сократит срок доставки заказов                                      \n",
       "5  Добавить страницу отзывов клиентов о магазине, что позволит увеличить количество заказов                       \n",
       "3  Изменить структура категорий, что увеличит конверсию, т.к. пользователи быстрее найдут нужный товар            \n",
       "4  Изменить цвет фона главной страницы, чтобы увеличить вовлеченность пользователей                               \n",
       "\n",
       "    ICE  \n",
       "8  16.2  \n",
       "0  13.3  \n",
       "7  11.2  \n",
       "6  8.0   \n",
       "2  7.0   \n",
       "1  2.0   \n",
       "5  1.3   \n",
       "3  1.1   \n",
       "4  1.0   "
      ]
     },
     "metadata": {},
     "output_type": "display_data"
    }
   ],
   "source": [
    "display(hypothesis[['hypothesis','ICE']].sort_values(by='ICE', ascending=False))"
   ]
  },
  {
   "cell_type": "markdown",
   "metadata": {},
   "source": [
    "**Применяю фреймворк RICE для приоритизации гипотез**"
   ]
  },
  {
   "cell_type": "code",
   "execution_count": 13,
   "metadata": {},
   "outputs": [],
   "source": [
    "hypothesis['RICE'] = (hypothesis['reach'] * hypothesis['impact'] * hypothesis['confidence']) / hypothesis['efforts']"
   ]
  },
  {
   "cell_type": "markdown",
   "metadata": {},
   "source": [
    "**Сортирую гипотезы по убыванию, вывожу на экран**"
   ]
  },
  {
   "cell_type": "code",
   "execution_count": 14,
   "metadata": {},
   "outputs": [
    {
     "data": {
      "text/html": [
       "<div>\n",
       "<style scoped>\n",
       "    .dataframe tbody tr th:only-of-type {\n",
       "        vertical-align: middle;\n",
       "    }\n",
       "\n",
       "    .dataframe tbody tr th {\n",
       "        vertical-align: top;\n",
       "    }\n",
       "\n",
       "    .dataframe thead th {\n",
       "        text-align: right;\n",
       "    }\n",
       "</style>\n",
       "<table border=\"1\" class=\"dataframe\">\n",
       "  <thead>\n",
       "    <tr style=\"text-align: right;\">\n",
       "      <th></th>\n",
       "      <th>hypothesis</th>\n",
       "      <th>RICE</th>\n",
       "    </tr>\n",
       "  </thead>\n",
       "  <tbody>\n",
       "    <tr>\n",
       "      <th>7</th>\n",
       "      <td>Добавить форму подписки на все основные страницы, чтобы собрать базу клиентов для email-рассылок</td>\n",
       "      <td>112.0</td>\n",
       "    </tr>\n",
       "    <tr>\n",
       "      <th>2</th>\n",
       "      <td>Добавить блоки рекомендаций товаров на сайт интернет магазина, чтобы повысить конверсию и средний чек заказа</td>\n",
       "      <td>56.0</td>\n",
       "    </tr>\n",
       "    <tr>\n",
       "      <th>0</th>\n",
       "      <td>Добавить два новых канала привлечения трафика, что позволит привлекать на 30% больше пользователей</td>\n",
       "      <td>40.0</td>\n",
       "    </tr>\n",
       "    <tr>\n",
       "      <th>6</th>\n",
       "      <td>Показать на главной странице баннеры с актуальными акциями и распродажами, чтобы увеличить конверсию</td>\n",
       "      <td>40.0</td>\n",
       "    </tr>\n",
       "    <tr>\n",
       "      <th>8</th>\n",
       "      <td>Запустить акцию, дающую скидку на товар в день рождения</td>\n",
       "      <td>16.2</td>\n",
       "    </tr>\n",
       "    <tr>\n",
       "      <th>3</th>\n",
       "      <td>Изменить структура категорий, что увеличит конверсию, т.к. пользователи быстрее найдут нужный товар</td>\n",
       "      <td>9.0</td>\n",
       "    </tr>\n",
       "    <tr>\n",
       "      <th>1</th>\n",
       "      <td>Запустить собственную службу доставки, что сократит срок доставки заказов</td>\n",
       "      <td>4.0</td>\n",
       "    </tr>\n",
       "    <tr>\n",
       "      <th>5</th>\n",
       "      <td>Добавить страницу отзывов клиентов о магазине, что позволит увеличить количество заказов</td>\n",
       "      <td>4.0</td>\n",
       "    </tr>\n",
       "    <tr>\n",
       "      <th>4</th>\n",
       "      <td>Изменить цвет фона главной страницы, чтобы увеличить вовлеченность пользователей</td>\n",
       "      <td>3.0</td>\n",
       "    </tr>\n",
       "  </tbody>\n",
       "</table>\n",
       "</div>"
      ],
      "text/plain": [
       "                                                                                                     hypothesis  \\\n",
       "7  Добавить форму подписки на все основные страницы, чтобы собрать базу клиентов для email-рассылок               \n",
       "2  Добавить блоки рекомендаций товаров на сайт интернет магазина, чтобы повысить конверсию и средний чек заказа   \n",
       "0  Добавить два новых канала привлечения трафика, что позволит привлекать на 30% больше пользователей             \n",
       "6  Показать на главной странице баннеры с актуальными акциями и распродажами, чтобы увеличить конверсию           \n",
       "8  Запустить акцию, дающую скидку на товар в день рождения                                                        \n",
       "3  Изменить структура категорий, что увеличит конверсию, т.к. пользователи быстрее найдут нужный товар            \n",
       "1  Запустить собственную службу доставки, что сократит срок доставки заказов                                      \n",
       "5  Добавить страницу отзывов клиентов о магазине, что позволит увеличить количество заказов                       \n",
       "4  Изменить цвет фона главной страницы, чтобы увеличить вовлеченность пользователей                               \n",
       "\n",
       "    RICE  \n",
       "7  112.0  \n",
       "2  56.0   \n",
       "0  40.0   \n",
       "6  40.0   \n",
       "8  16.2   \n",
       "3  9.0    \n",
       "1  4.0    \n",
       "5  4.0    \n",
       "4  3.0    "
      ]
     },
     "metadata": {},
     "output_type": "display_data"
    }
   ],
   "source": [
    "display(hypothesis[['hypothesis','RICE']].sort_values(by='RICE', ascending=False))"
   ]
  },
  {
   "cell_type": "markdown",
   "metadata": {},
   "source": [
    "**Приоритизация гипотез изменилась благодаря параметру охвата пользователей (`reach`), который учитывает RICE, но не учитывает ICE. В ICE лучшими гипотезами считались 8, 0 и 7, а в RICE 7, 2 и 0. Как мы видим, гипотеза 8 не так хорошо подходит**"
   ]
  },
  {
   "cell_type": "markdown",
   "metadata": {},
   "source": [
    "## Анализ A/B-теста"
   ]
  },
  {
   "cell_type": "markdown",
   "metadata": {},
   "source": [
    "**Создаю таблицу `cumulativeData` по двум таблицам**"
   ]
  },
  {
   "cell_type": "code",
   "execution_count": 15,
   "metadata": {
    "scrolled": true
   },
   "outputs": [
    {
     "data": {
      "text/html": [
       "<div>\n",
       "<style scoped>\n",
       "    .dataframe tbody tr th:only-of-type {\n",
       "        vertical-align: middle;\n",
       "    }\n",
       "\n",
       "    .dataframe tbody tr th {\n",
       "        vertical-align: top;\n",
       "    }\n",
       "\n",
       "    .dataframe thead th {\n",
       "        text-align: right;\n",
       "    }\n",
       "</style>\n",
       "<table border=\"1\" class=\"dataframe\">\n",
       "  <thead>\n",
       "    <tr style=\"text-align: right;\">\n",
       "      <th></th>\n",
       "      <th>date</th>\n",
       "      <th>group</th>\n",
       "      <th>orders</th>\n",
       "      <th>buyers</th>\n",
       "      <th>revenue</th>\n",
       "      <th>visitors</th>\n",
       "    </tr>\n",
       "  </thead>\n",
       "  <tbody>\n",
       "    <tr>\n",
       "      <th>0</th>\n",
       "      <td>2019-08-01</td>\n",
       "      <td>A</td>\n",
       "      <td>24</td>\n",
       "      <td>20</td>\n",
       "      <td>148579</td>\n",
       "      <td>719</td>\n",
       "    </tr>\n",
       "    <tr>\n",
       "      <th>1</th>\n",
       "      <td>2019-08-01</td>\n",
       "      <td>B</td>\n",
       "      <td>21</td>\n",
       "      <td>20</td>\n",
       "      <td>101217</td>\n",
       "      <td>713</td>\n",
       "    </tr>\n",
       "    <tr>\n",
       "      <th>2</th>\n",
       "      <td>2019-08-02</td>\n",
       "      <td>A</td>\n",
       "      <td>44</td>\n",
       "      <td>38</td>\n",
       "      <td>242401</td>\n",
       "      <td>1338</td>\n",
       "    </tr>\n",
       "    <tr>\n",
       "      <th>3</th>\n",
       "      <td>2019-08-02</td>\n",
       "      <td>B</td>\n",
       "      <td>45</td>\n",
       "      <td>43</td>\n",
       "      <td>266748</td>\n",
       "      <td>1294</td>\n",
       "    </tr>\n",
       "    <tr>\n",
       "      <th>4</th>\n",
       "      <td>2019-08-03</td>\n",
       "      <td>A</td>\n",
       "      <td>68</td>\n",
       "      <td>62</td>\n",
       "      <td>354874</td>\n",
       "      <td>1845</td>\n",
       "    </tr>\n",
       "  </tbody>\n",
       "</table>\n",
       "</div>"
      ],
      "text/plain": [
       "        date group  orders  buyers  revenue  visitors\n",
       "0 2019-08-01  A     24      20      148579   719     \n",
       "1 2019-08-01  B     21      20      101217   713     \n",
       "2 2019-08-02  A     44      38      242401   1338    \n",
       "3 2019-08-02  B     45      43      266748   1294    \n",
       "4 2019-08-03  A     68      62      354874   1845    "
      ]
     },
     "metadata": {},
     "output_type": "display_data"
    }
   ],
   "source": [
    "#Создадим массив уникальных пар значений дат и групп теста\n",
    "datesGroups = orders[['date','group']].drop_duplicates()\n",
    "\n",
    "#Получаем агрегированные кумулятивные по дням данные о заказах \n",
    "ordersAggregated = datesGroups.apply(lambda x: orders[np.logical_and(orders['date'] <= x['date'], orders['group'] == x['group'])]. \\\n",
    "                                     agg({'date' : 'max', \n",
    "                                          'group' : 'max', \n",
    "                                          'transaction_id' : pd.Series.nunique, \n",
    "                                          'visitor_id' : pd.Series.nunique, \n",
    "                                          'revenue' : 'sum'}), axis=1).sort_values(by=['date','group'])\n",
    "\n",
    "#Получаем агрегированные кумулятивные по дням данные о посетителях интернет-магазина \n",
    "visitorsAggregated = datesGroups.apply(lambda x: visitors[np.logical_and(visitors['date'] <= x['date'], visitors['group'] == x['group'])]. \\\n",
    "                                       agg({'date' : 'max', \n",
    "                                            'group' : 'max', \n",
    "                                            'visitors' : 'sum'}), axis=1).sort_values(by=['date','group'])\n",
    "\n",
    "#Объединим кумулятивные данные в одной таблице и присваиваем ее столбцам понятные названия\n",
    "cumulativeData = ordersAggregated.merge(visitorsAggregated, left_on=['date', 'group'], right_on=['date', 'group'])\n",
    "\n",
    "#Переименуем столбцы\n",
    "cumulativeData.columns = ['date', 'group', 'orders', 'buyers', 'revenue', 'visitors']\n",
    "\n",
    "display(cumulativeData.head(5))"
   ]
  },
  {
   "cell_type": "markdown",
   "metadata": {},
   "source": [
    "**Строю график кумулятивной выручки для обеих групп**"
   ]
  },
  {
   "cell_type": "code",
   "execution_count": 16,
   "metadata": {},
   "outputs": [
    {
     "data": {
      "image/png": "[encoded data removed]",
      "text/plain": [
       "<Figure size 1080x360 with 1 Axes>"
      ]
     },
     "metadata": {
      "needs_background": "light"
     },
     "output_type": "display_data"
    }
   ],
   "source": [
    "cumulativeRevenueA = cumulativeData[cumulativeData['group']=='A'][['date','revenue','orders']]\n",
    "cumulativeRevenueB = cumulativeData[cumulativeData['group']=='B'][['date','revenue','orders']]\n",
    "plt.figure(figsize=(15,5))\n",
    "plt.plot(cumulativeRevenueA['date'], cumulativeRevenueA['revenue'], label='Группа A')\n",
    "plt.plot(cumulativeRevenueB['date'], cumulativeRevenueB['revenue'], label='Группа B')\n",
    "plt.title('Кумулятивная выручка') \n",
    "plt.legend();"
   ]
  },
  {
   "cell_type": "markdown",
   "metadata": {},
   "source": [
    "В течение всего времени выручка постепенно увеличивается, но в группе B заметен резкий скачок в конце 2 недели. Это может быть связано с увеличением числа заказов"
   ]
  },
  {
   "cell_type": "markdown",
   "metadata": {},
   "source": [
    "**Строю график кумулятивного среднего чека для обеих групп**"
   ]
  },
  {
   "cell_type": "code",
   "execution_count": 17,
   "metadata": {},
   "outputs": [
    {
     "data": {
      "image/png": "[encoded data removed]",
      "text/plain": [
       "<Figure size 1080x360 with 1 Axes>"
      ]
     },
     "metadata": {
      "needs_background": "light"
     },
     "output_type": "display_data"
    }
   ],
   "source": [
    "plt.figure(figsize=(15,5))\n",
    "\n",
    "plt.plot(cumulativeRevenueA['date'], cumulativeRevenueA['revenue']/cumulativeRevenueA['orders'], label='Группа A')\n",
    "plt.plot(cumulativeRevenueB['date'], cumulativeRevenueB['revenue']/cumulativeRevenueB['orders'], label='Группа B')\n",
    "plt.title('Кумулятивный средний чек') \n",
    "plt.legend();"
   ]
  },
  {
   "cell_type": "markdown",
   "metadata": {},
   "source": [
    "На графике видно, как в то же время, что и на графике кумулятивной выручки, возрасла выручка, возрос средний чек, соответственно в этот период времени попало несколько крупных заказов. Речь лишь о группе B"
   ]
  },
  {
   "cell_type": "markdown",
   "metadata": {},
   "source": [
    "**Строю график относительного изменения кумулятивного среднего чека группы B к группе A**"
   ]
  },
  {
   "cell_type": "code",
   "execution_count": 18,
   "metadata": {},
   "outputs": [
    {
     "data": {
      "image/png": "[encoded data removed]",
      "text/plain": [
       "<Figure size 1080x360 with 1 Axes>"
      ]
     },
     "metadata": {
      "needs_background": "light"
     },
     "output_type": "display_data"
    }
   ],
   "source": [
    "plt.figure(figsize=(15,5))\n",
    "plt.title('Относительное изменение кумулятивного среднего чека групп B к A') \n",
    "\n",
    "# собираем данные в одном датафрейме\n",
    "mergedCumulativeRevenue = cumulativeRevenueA.merge(cumulativeRevenueB, left_on='date', right_on='date', how='left', suffixes=['A', 'B'])\n",
    "\n",
    "# cтроим отношение средних чеков\n",
    "plt.plot(mergedCumulativeRevenue['date'], (mergedCumulativeRevenue['revenueB']/mergedCumulativeRevenue['ordersB'])/(mergedCumulativeRevenue['revenueA']/mergedCumulativeRevenue['ordersA'])-1)\n",
    "\n",
    "# добавляем ось X\n",
    "plt.axhline(y=0, color='black', linestyle='--');"
   ]
  },
  {
   "cell_type": "markdown",
   "metadata": {},
   "source": [
    "График относительного изменения среднего чека между группа во многих местах постоянно меняется. Это также может быть связано с крупными заказами в определённые периоды времени"
   ]
  },
  {
   "cell_type": "markdown",
   "metadata": {},
   "source": [
    "**Строю график кумулятивного среднего количества заказов на посетителя по группам**"
   ]
  },
  {
   "cell_type": "markdown",
   "metadata": {},
   "source": [
    "**Считаю количество заказов по пользователям**"
   ]
  },
  {
   "cell_type": "code",
   "execution_count": 19,
   "metadata": {},
   "outputs": [
    {
     "name": "stdout",
     "output_type": "stream",
     "text": [
      "      visitor_id  orders\n",
      "1023  4256040402  11    \n",
      "591   2458001652  11    \n",
      "569   2378935119  9     \n",
      "487   2038680547  8     \n",
      "44    199603092   5     \n",
      "744   3062433592  5     \n",
      "55    237748145   5     \n",
      "917   3803269165  5     \n",
      "299   1230306981  5     \n",
      "897   3717692402  5     \n"
     ]
    }
   ],
   "source": [
    "ordersByUsers = (\n",
    "    orders.groupby('visitor_id', as_index=False)\n",
    "    .agg({'transaction_id': 'nunique'})\n",
    ")\n",
    "\n",
    "ordersByUsers.columns = ['visitor_id', 'orders']\n",
    "\n",
    "print(ordersByUsers.sort_values(by='orders', ascending=False).head(10)) "
   ]
  },
  {
   "cell_type": "markdown",
   "metadata": {},
   "source": [
    "**Считаю количество заказов по пользователям по группам, вывожу на экран**"
   ]
  },
  {
   "cell_type": "code",
   "execution_count": 20,
   "metadata": {},
   "outputs": [],
   "source": [
    "# разделяю пользователей на группы A и B\n",
    "visitorsGroup = orders[['visitor_id', 'group']]\n",
    "\n",
    "# разделяю заказы на группы A и B\n",
    "ordersGroup = orders[['transaction_id', 'visitor_id']].merge(visitorsGroup, on='visitor_id', how='left')\n",
    "\n",
    "# расчет количества заказов по пользователям в группе A\n",
    "ordersByUsersA = (\n",
    "    ordersGroup[ordersGroup['group'] =='A']\n",
    "    .groupby('visitor_id', as_index=False)\n",
    "    .agg({'transaction_id': 'nunique'})\n",
    ")\n",
    "\n",
    "ordersByUsersA.columns = ['visitor_id', 'orders']\n",
    "\n",
    "# расчет количества заказов по пользователям в группе B\n",
    "ordersByUsersB = (\n",
    "    ordersGroup[ordersGroup['group'] =='B']\n",
    "    .groupby('visitor_id', as_index=False)\n",
    "    .agg({'transaction_id': 'nunique'})\n",
    ")\n",
    "\n",
    "ordersByUsersB.columns = ['visitor_id', 'orders']"
   ]
  },
  {
   "cell_type": "markdown",
   "metadata": {},
   "source": [
    "**Строю график кумулятивного среднего количества заказов на посетителя**"
   ]
  },
  {
   "cell_type": "code",
   "execution_count": 21,
   "metadata": {},
   "outputs": [
    {
     "data": {
      "image/png": "[encoded data removed]",
      "text/plain": [
       "<Figure size 1080x360 with 1 Axes>"
      ]
     },
     "metadata": {
      "needs_background": "light"
     },
     "output_type": "display_data"
    }
   ],
   "source": [
    "cumulativeData['conversion'] = cumulativeData['orders'] / cumulativeData['visitors']\n",
    "\n",
    "cumulativeDataA = cumulativeData[cumulativeData['group']=='A']\n",
    "cumulativeDataB = cumulativeData[cumulativeData['group']=='B']\n",
    "\n",
    "plt.figure(figsize=(15,5))\n",
    "plt.plot(cumulativeDataA['date'], cumulativeDataA['conversion'], label='Группа A')\n",
    "plt.plot(cumulativeDataB['date'], cumulativeDataB['conversion'], label='Группа B')\n",
    "plt.title('Кумулятивное среднее количество заказов на посетителя')\n",
    "plt.legend();"
   ]
  },
  {
   "cell_type": "markdown",
   "metadata": {},
   "source": [
    "Сначала конверсия группы А имела хорошие показатели, но после 3 августа она начала резко падать, а конверсия группы B 4 августа начала резко расти и обогнала группу А"
   ]
  },
  {
   "cell_type": "markdown",
   "metadata": {},
   "source": [
    "**Строю график относительного изменения кумулятивного среднего количества заказов на посетителя группы B к группе A**"
   ]
  },
  {
   "cell_type": "code",
   "execution_count": 22,
   "metadata": {},
   "outputs": [
    {
     "data": {
      "image/png": "[encoded data removed]",
      "text/plain": [
       "<Figure size 1080x360 with 1 Axes>"
      ]
     },
     "metadata": {
      "needs_background": "light"
     },
     "output_type": "display_data"
    }
   ],
   "source": [
    "mergedCumulativeConversions = cumulativeDataA[['date','conversion']].merge(cumulativeDataB[['date','conversion']], left_on='date', right_on='date', how='left', suffixes=['A', 'B'])\n",
    "plt.figure(figsize=(15,5))\n",
    "plt.plot(mergedCumulativeConversions['date'], mergedCumulativeConversions['conversionB']/mergedCumulativeConversions['conversionA']-1, label=\"Относительное изменение кумулятивного среднего количества заказов на посетителя группы B к A\")\n",
    "plt.axhline(y=0, color='black', linestyle='--')\n",
    "plt.axhline(y=0.1, color='grey', linestyle='--')\n",
    "plt.title('Относительное изменение кумулятивного среднего количества заказов на посетителя группы B к A')\n",
    "#plt.axis([\"2019-04-01\", '2019-04-23', -0.6, 0.6]) \n",
    "plt.show()"
   ]
  },
  {
   "cell_type": "markdown",
   "metadata": {},
   "source": [
    "Группа B почти с самого начала впереди по показателю изменения среднего количества заказов на посетителя"
   ]
  },
  {
   "cell_type": "markdown",
   "metadata": {},
   "source": [
    "**Строю точечный график количества заказов по пользователям**"
   ]
  },
  {
   "cell_type": "code",
   "execution_count": 23,
   "metadata": {},
   "outputs": [
    {
     "data": {
      "image/png": "[encoded data removed]",
      "text/plain": [
       "<Figure size 1080x360 with 1 Axes>"
      ]
     },
     "metadata": {
      "needs_background": "light"
     },
     "output_type": "display_data"
    }
   ],
   "source": [
    "plt.figure(figsize=(15,5))\n",
    "plt.title('График количества заказов по пользователям')\n",
    "x_values = pd.Series(range(0,len(ordersByUsers)))\n",
    "plt.scatter(x_values, ordersByUsers['orders']);"
   ]
  },
  {
   "cell_type": "markdown",
   "metadata": {},
   "source": [
    "Больше всего пользователей, которые сделали 1 заказ, чуть меньше - 2 заказа, ещё меньше - 3 заказа. Скорее всего 8 и выше заказов можно считать аномальными выбросами, но в этом ещё нужно убедиться"
   ]
  },
  {
   "cell_type": "markdown",
   "metadata": {},
   "source": [
    "**Считаю 95-й и 99-й перцентили количества заказов на пользователя. Считаю границу для определения аномальных пользователей**"
   ]
  },
  {
   "cell_type": "code",
   "execution_count": 24,
   "metadata": {},
   "outputs": [
    {
     "name": "stdout",
     "output_type": "stream",
     "text": [
      "[2. 4.]\n"
     ]
    }
   ],
   "source": [
    "print(np.percentile(ordersByUsers['orders'], [95, 99]))"
   ]
  },
  {
   "cell_type": "markdown",
   "metadata": {},
   "source": [
    "95% пользователей совершает не более 1 заказа , 99% совершает 2 заказа. Всё, что выше 99% - аномалия"
   ]
  },
  {
   "cell_type": "markdown",
   "metadata": {},
   "source": [
    "**Строю точечный график стоимостей заказов**"
   ]
  },
  {
   "cell_type": "code",
   "execution_count": 25,
   "metadata": {},
   "outputs": [
    {
     "data": {
      "image/png": "[encoded data removed]",
      "text/plain": [
       "<Figure size 1080x360 with 1 Axes>"
      ]
     },
     "metadata": {
      "needs_background": "light"
     },
     "output_type": "display_data"
    }
   ],
   "source": [
    "plt.figure(figsize=(15,5))\n",
    "plt.title('График стоимости заказов')\n",
    "x_values = pd.Series(range(0,len(orders['revenue'])))\n",
    "plt.scatter(x_values, orders['revenue']);"
   ]
  },
  {
   "cell_type": "markdown",
   "metadata": {},
   "source": [
    "Все суммы заказов находятся ниже 200000 за исключением выброса свыше 1000000"
   ]
  },
  {
   "cell_type": "markdown",
   "metadata": {},
   "source": [
    "**Считаю 95-й и 99-й перцентили стоимости заказов. Выбираю границу для определения аномальных заказов**"
   ]
  },
  {
   "cell_type": "code",
   "execution_count": 26,
   "metadata": {},
   "outputs": [
    {
     "name": "stdout",
     "output_type": "stream",
     "text": [
      "[28000.  58233.2]\n"
     ]
    }
   ],
   "source": [
    "print(np.percentile(orders['revenue'], [95, 99]))"
   ]
  },
  {
   "cell_type": "markdown",
   "metadata": {},
   "source": [
    "Лишь 5% заказов стоят дороже 28000. Это и будет планкой для определния аномальных значений"
   ]
  },
  {
   "cell_type": "markdown",
   "metadata": {},
   "source": [
    "**Считаю статистическую значимость различий в среднем количестве заказов на посетителя между группами по «сырым» данным**"
   ]
  },
  {
   "cell_type": "code",
   "execution_count": 27,
   "metadata": {},
   "outputs": [
    {
     "data": {
      "text/html": [
       "<div>\n",
       "<style scoped>\n",
       "    .dataframe tbody tr th:only-of-type {\n",
       "        vertical-align: middle;\n",
       "    }\n",
       "\n",
       "    .dataframe tbody tr th {\n",
       "        vertical-align: top;\n",
       "    }\n",
       "\n",
       "    .dataframe thead th {\n",
       "        text-align: right;\n",
       "    }\n",
       "</style>\n",
       "<table border=\"1\" class=\"dataframe\">\n",
       "  <thead>\n",
       "    <tr style=\"text-align: right;\">\n",
       "      <th></th>\n",
       "      <th>date</th>\n",
       "      <th>ordersPerDateA</th>\n",
       "      <th>revenuePerDateA</th>\n",
       "      <th>ordersPerDateB</th>\n",
       "      <th>revenuePerDateB</th>\n",
       "      <th>ordersCummulativeA</th>\n",
       "      <th>revenueCummulativeA</th>\n",
       "      <th>ordersCummulativeB</th>\n",
       "      <th>revenueCummulativeB</th>\n",
       "      <th>visitorsPerDateA</th>\n",
       "      <th>visitorsPerDateB</th>\n",
       "      <th>visitorsCummulativeA</th>\n",
       "      <th>visitorsCummulativeB</th>\n",
       "    </tr>\n",
       "  </thead>\n",
       "  <tbody>\n",
       "    <tr>\n",
       "      <th>0</th>\n",
       "      <td>2019-08-01</td>\n",
       "      <td>24</td>\n",
       "      <td>148579</td>\n",
       "      <td>21</td>\n",
       "      <td>101217</td>\n",
       "      <td>24</td>\n",
       "      <td>148579</td>\n",
       "      <td>21</td>\n",
       "      <td>101217</td>\n",
       "      <td>719</td>\n",
       "      <td>713</td>\n",
       "      <td>719</td>\n",
       "      <td>713</td>\n",
       "    </tr>\n",
       "    <tr>\n",
       "      <th>1</th>\n",
       "      <td>2019-08-02</td>\n",
       "      <td>20</td>\n",
       "      <td>93822</td>\n",
       "      <td>24</td>\n",
       "      <td>165531</td>\n",
       "      <td>44</td>\n",
       "      <td>242401</td>\n",
       "      <td>45</td>\n",
       "      <td>266748</td>\n",
       "      <td>619</td>\n",
       "      <td>581</td>\n",
       "      <td>1338</td>\n",
       "      <td>1294</td>\n",
       "    </tr>\n",
       "    <tr>\n",
       "      <th>2</th>\n",
       "      <td>2019-08-03</td>\n",
       "      <td>24</td>\n",
       "      <td>112473</td>\n",
       "      <td>16</td>\n",
       "      <td>114248</td>\n",
       "      <td>68</td>\n",
       "      <td>354874</td>\n",
       "      <td>61</td>\n",
       "      <td>380996</td>\n",
       "      <td>507</td>\n",
       "      <td>509</td>\n",
       "      <td>1845</td>\n",
       "      <td>1803</td>\n",
       "    </tr>\n",
       "    <tr>\n",
       "      <th>3</th>\n",
       "      <td>2019-08-04</td>\n",
       "      <td>16</td>\n",
       "      <td>70825</td>\n",
       "      <td>17</td>\n",
       "      <td>108571</td>\n",
       "      <td>84</td>\n",
       "      <td>425699</td>\n",
       "      <td>78</td>\n",
       "      <td>489567</td>\n",
       "      <td>717</td>\n",
       "      <td>770</td>\n",
       "      <td>2562</td>\n",
       "      <td>2573</td>\n",
       "    </tr>\n",
       "    <tr>\n",
       "      <th>4</th>\n",
       "      <td>2019-08-05</td>\n",
       "      <td>25</td>\n",
       "      <td>124218</td>\n",
       "      <td>23</td>\n",
       "      <td>92428</td>\n",
       "      <td>109</td>\n",
       "      <td>549917</td>\n",
       "      <td>101</td>\n",
       "      <td>581995</td>\n",
       "      <td>756</td>\n",
       "      <td>707</td>\n",
       "      <td>3318</td>\n",
       "      <td>3280</td>\n",
       "    </tr>\n",
       "  </tbody>\n",
       "</table>\n",
       "</div>"
      ],
      "text/plain": [
       "        date  ordersPerDateA  revenuePerDateA  ordersPerDateB  \\\n",
       "0 2019-08-01  24              148579           21               \n",
       "1 2019-08-02  20              93822            24               \n",
       "2 2019-08-03  24              112473           16               \n",
       "3 2019-08-04  16              70825            17               \n",
       "4 2019-08-05  25              124218           23               \n",
       "\n",
       "   revenuePerDateB  ordersCummulativeA  revenueCummulativeA  \\\n",
       "0  101217           24                  148579                \n",
       "1  165531           44                  242401                \n",
       "2  114248           68                  354874                \n",
       "3  108571           84                  425699                \n",
       "4  92428            109                 549917                \n",
       "\n",
       "   ordersCummulativeB  revenueCummulativeB  visitorsPerDateA  \\\n",
       "0  21                  101217               719                \n",
       "1  45                  266748               619                \n",
       "2  61                  380996               507                \n",
       "3  78                  489567               717                \n",
       "4  101                 581995               756                \n",
       "\n",
       "   visitorsPerDateB  visitorsCummulativeA  visitorsCummulativeB  \n",
       "0  713               719                   713                   \n",
       "1  581               1338                  1294                  \n",
       "2  509               1845                  1803                  \n",
       "3  770               2562                  2573                  \n",
       "4  707               3318                  3280                  "
      ]
     },
     "metadata": {},
     "output_type": "display_data"
    }
   ],
   "source": [
    "visitorsADaily = visitors[visitors['group'] == 'A'][['date', 'visitors']]\n",
    "visitorsADaily.columns = ['date', 'visitorsPerDateA']\n",
    "\n",
    "visitorsACummulative = visitorsADaily.apply(\n",
    "    lambda x: visitorsADaily[visitorsADaily['date'] <= x['date']].agg(\n",
    "        {'date': 'max', 'visitorsPerDateA': 'sum'}\n",
    "    ),\n",
    "    axis=1,\n",
    ")\n",
    "visitorsACummulative.columns = ['date', 'visitorsCummulativeA']\n",
    "\n",
    "visitorsBDaily = visitors[visitors['group'] == 'B'][['date', 'visitors']]\n",
    "visitorsBDaily.columns = ['date', 'visitorsPerDateB']\n",
    "\n",
    "visitorsBCummulative = visitorsBDaily.apply(\n",
    "    lambda x: visitorsBDaily[visitorsBDaily['date'] <= x['date']].agg(\n",
    "        {'date': 'max', 'visitorsPerDateB': 'sum'}\n",
    "    ),\n",
    "    axis=1,\n",
    ")\n",
    "visitorsBCummulative.columns = ['date', 'visitorsCummulativeB']\n",
    "\n",
    "ordersADaily = (\n",
    "    orders[orders['group'] == 'A'][['date', 'transaction_id', 'visitor_id', 'revenue']]\n",
    "    .groupby('date', as_index=False)\n",
    "    .agg({'transaction_id': pd.Series.nunique, 'revenue': 'sum'})\n",
    ")\n",
    "ordersADaily.columns = ['date', 'ordersPerDateA', 'revenuePerDateA']\n",
    "\n",
    "ordersACummulative = ordersADaily.apply(\n",
    "    lambda x: ordersADaily[ordersADaily['date'] <= x['date']].agg(\n",
    "        {'date': 'max', 'ordersPerDateA': 'sum', 'revenuePerDateA': 'sum'}\n",
    "    ),\n",
    "    axis=1,\n",
    ").sort_values(by=['date'])\n",
    "ordersACummulative.columns = [\n",
    "    'date',\n",
    "    'ordersCummulativeA',\n",
    "    'revenueCummulativeA',\n",
    "]\n",
    "\n",
    "ordersBDaily = (\n",
    "    orders[orders['group'] == 'B'][['date', 'transaction_id', 'visitor_id', 'revenue']]\n",
    "    .groupby('date', as_index=False)\n",
    "    .agg({'transaction_id': pd.Series.nunique, 'revenue': 'sum'})\n",
    ")\n",
    "ordersBDaily.columns = ['date', 'ordersPerDateB', 'revenuePerDateB']\n",
    "\n",
    "ordersBCummulative = ordersBDaily.apply(\n",
    "    lambda x: ordersBDaily[ordersBDaily['date'] <= x['date']].agg(\n",
    "        {'date': 'max', 'ordersPerDateB': 'sum', 'revenuePerDateB': 'sum'}\n",
    "    ),\n",
    "    axis=1,\n",
    ").sort_values(by=['date'])\n",
    "ordersBCummulative.columns = [\n",
    "    'date',\n",
    "    'ordersCummulativeB',\n",
    "    'revenueCummulativeB',\n",
    "]\n",
    "\n",
    "data = (\n",
    "    ordersADaily.merge(\n",
    "        ordersBDaily, left_on='date', right_on='date', how='left'\n",
    "    )\n",
    "    .merge(ordersACummulative, left_on='date', right_on='date', how='left')\n",
    "    .merge(ordersBCummulative, left_on='date', right_on='date', how='left')\n",
    "    .merge(visitorsADaily, left_on='date', right_on='date', how='left')\n",
    "    .merge(visitorsBDaily, left_on='date', right_on='date', how='left')\n",
    "    .merge(visitorsACummulative, left_on='date', right_on='date', how='left')\n",
    "    .merge(visitorsBCummulative, left_on='date', right_on='date', how='left')\n",
    ")\n",
    "\n",
    "display(data.head(5)) "
   ]
  },
  {
   "cell_type": "code",
   "execution_count": 28,
   "metadata": {},
   "outputs": [],
   "source": [
    "# создаю переменные ordersByUsersA и ordersByUsersB со столбцами ['userId', 'orders']. \n",
    "# в них для пользователей, которые заказывали хотя бы 1 раз, укажу число совершённых заказов. \n",
    "ordersByUsersA = (\n",
    "    orders[orders['group']=='A']\n",
    "    .groupby('visitor_id', as_index=False)\n",
    "    .agg({'transaction_id' : pd.Series.nunique})\n",
    ")\n",
    "ordersByUsersA.columns = ['userId', 'orders']\n",
    "\n",
    "ordersByUsersB = (\n",
    "    orders[orders['group']=='B']\n",
    "    .groupby('visitor_id', as_index=False)\n",
    "    .agg({'transaction_id' : pd.Series.nunique})\n",
    ")\n",
    "ordersByUsersB.columns = ['userId', 'orders']"
   ]
  },
  {
   "cell_type": "code",
   "execution_count": 29,
   "metadata": {},
   "outputs": [],
   "source": [
    "# сообщаю переменные ordersByUsersA и ordersByUsersB.\n",
    "# в них для пользователей, которые заказывали хотя бы 1 раз, указываю число заказов\n",
    "\n",
    "ordersByUsersA = orders[orders['group']=='A'].groupby('visitor_id', as_index=False).agg({'transaction_id' : pd.Series.nunique})\n",
    "ordersByUsersA.columns = ['userId', 'orders']\n",
    "\n",
    "ordersByUsersB = orders[orders['group']=='B'].groupby('visitor_id', as_index=False).agg({'transaction_id' : pd.Series.nunique})\n",
    "ordersByUsersB.columns = ['userId', 'orders']\n",
    "\n",
    "# сообщаю переменные sampleA и sampleB, в которых пользователям из разных групп будет соотетствовать количество заказов\n",
    "\n",
    "sampleA = pd.concat([ordersByUsersA['orders'],pd.Series(0, index=np.arange(data['visitorsPerDateA'].sum() - len(ordersByUsersA['orders'])), name='orders')],axis=0)\n",
    "sampleB = pd.concat([ordersByUsersB['orders'],pd.Series(0, index=np.arange(data['visitorsPerDateB'].sum() - len(ordersByUsersB['orders'])), name='orders')],axis=0)"
   ]
  },
  {
   "cell_type": "markdown",
   "metadata": {},
   "source": [
    "* Нулевая гипотеза (H_0): статистически значимых различий между конверсиями нет\n",
    "* Альтернативная гипотеза (H_1): статистически значимые различия есть"
   ]
  },
  {
   "cell_type": "code",
   "execution_count": 30,
   "metadata": {},
   "outputs": [
    {
     "name": "stdout",
     "output_type": "stream",
     "text": [
      "alpha = 0.05\n",
      "p-value = 0.017\n",
      "Относительный показатель 'B' и 'A' = 0.138\n"
     ]
    }
   ],
   "source": [
    "print(\"alpha =\",0.05)\n",
    "\n",
    "print(\"p-value = {0:.3f}\".format(st.mannwhitneyu(sampleA, sampleB)[1]))\n",
    "\n",
    "print(\"Относительный показатель 'B' и 'A' = {0:.3f}\".format(sampleB.mean() / sampleA.mean() - 1))"
   ]
  },
  {
   "cell_type": "markdown",
   "metadata": {},
   "source": [
    "Нулевую гипотезу отвергаю, так как p-value ниже alpha, значит, различия между группами A и B есть. Относительная разница в конверсиях - 13,8%"
   ]
  },
  {
   "cell_type": "markdown",
   "metadata": {},
   "source": [
    "**Считаю статистическую значимость различий в среднем количестве заказов на посетителя между группами по «очищенным» данным**"
   ]
  },
  {
   "cell_type": "markdown",
   "metadata": {},
   "source": [
    "Отталкиваясь от предыдущих пунктов, за аномальные данные я посчитал следующее:\n",
    "\n",
    "* пользователь совершает 3 заказа и больше\n",
    "* пользователь совершает заказ дороже 28000"
   ]
  },
  {
   "cell_type": "markdown",
   "metadata": {},
   "source": [
    "Вывожу на экран количество аномальных значений"
   ]
  },
  {
   "cell_type": "code",
   "execution_count": 31,
   "metadata": {},
   "outputs": [
    {
     "name": "stdout",
     "output_type": "stream",
     "text": [
      "1099    148427295\n",
      "18      199603092\n",
      "928     204675465\n",
      "23      237748145\n",
      "37      249864742\n",
      "dtype: int64\n",
      "Всего аномальных значений 74\n"
     ]
    }
   ],
   "source": [
    "usersWithManyOrders = pd.concat([ordersByUsersA[ordersByUsersA['orders'] > 2]['userId'], ordersByUsersB[ordersByUsersB['orders'] > 2]['userId']], axis = 0)\n",
    "usersWithExpensiveOrders = orders[orders['revenue'] > 28000]['visitor_id']\n",
    "abnormalUsers = pd.concat([usersWithManyOrders, usersWithExpensiveOrders], axis = 0).drop_duplicates().sort_values()\n",
    "print(abnormalUsers.head(5))\n",
    "print(\"Всего аномальных значений\" ,len(abnormalUsers)) "
   ]
  },
  {
   "cell_type": "markdown",
   "metadata": {},
   "source": [
    "Фильтрую данные, исключая аномальные значения"
   ]
  },
  {
   "cell_type": "code",
   "execution_count": 32,
   "metadata": {},
   "outputs": [],
   "source": [
    "sampleAFiltered = pd.concat([ordersByUsersA[np.logical_not(ordersByUsersA['userId'].isin(abnormalUsers))]['orders'],pd.Series(0, index=np.arange(data['visitorsPerDateA'].sum() - len(ordersByUsersA['orders'])),name='orders')],axis=0)\n",
    "sampleBFiltered = pd.concat([ordersByUsersB[np.logical_not(ordersByUsersB['userId'].isin(abnormalUsers))]['orders'],pd.Series(0, index=np.arange(data['visitorsPerDateB'].sum() - len(ordersByUsersB['orders'])),name='orders')],axis=0)"
   ]
  },
  {
   "cell_type": "markdown",
   "metadata": {},
   "source": [
    "* Нулевая гипотеза (H_0): статистически значимых различий между конверсиями нет\n",
    "* Альтернативная гипотеза (H_1): статистически значимые различия есть"
   ]
  },
  {
   "cell_type": "code",
   "execution_count": 33,
   "metadata": {
    "scrolled": true
   },
   "outputs": [
    {
     "name": "stdout",
     "output_type": "stream",
     "text": [
      "alpha = 0.05\n",
      "p-value = 0.013\n",
      "Относительный показатель 'B' и 'A' = 0.173\n"
     ]
    }
   ],
   "source": [
    "print(\"alpha =\",0.05)\n",
    "print(\"p-value = {0:.3f}\".format(st.mannwhitneyu(sampleAFiltered, sampleBFiltered)[1]))\n",
    "print(\"Относительный показатель 'B' и 'A' = {0:.3f}\".format(sampleBFiltered.mean()/sampleAFiltered.mean()-1))"
   ]
  },
  {
   "cell_type": "markdown",
   "metadata": {},
   "source": [
    "Нулевую гипотезу отвергаю, так как p-value ниже alpha, значит, различия между группами A и B есть. Относительная разница в конверсиях - 17,3%. Практически никакой разницы между статистической значимостью различий в среднем количестве заказов на посетителя между группами по «очищенным» данным и «сырым»"
   ]
  },
  {
   "cell_type": "markdown",
   "metadata": {},
   "source": [
    "**Считаю статистическую значимость различий в среднем чеке заказа между группами по «сырым» данным**"
   ]
  },
  {
   "cell_type": "markdown",
   "metadata": {},
   "source": [
    "* Нулевая гипотеза (H_0): статистически значимых различий между конверсиями нет\n",
    "* Альтернативная гипотеза (H_1): статистически значимые различия есть"
   ]
  },
  {
   "cell_type": "markdown",
   "metadata": {},
   "source": [
    "Чтобы рассчитать статистическую значимость различий в среднем чеке, передам критерию mannwhitneyu() данные о выручке с заказов. А ещё найду относительные различия в среднем чеке между группами"
   ]
  },
  {
   "cell_type": "code",
   "execution_count": 35,
   "metadata": {
    "scrolled": true
   },
   "outputs": [
    {
     "name": "stdout",
     "output_type": "stream",
     "text": [
      "alpha = 0.05\n",
      "p-value = 0.729\n",
      "Относительный показатель 'B' и 'A' = 0.259\n"
     ]
    }
   ],
   "source": [
    "print(\"alpha =\",0.05)\n",
    "print(\"p-value = {0:.3f}\".format(st.mannwhitneyu(orders[orders['group']=='A']['revenue'], orders[orders['group']=='B']['revenue'])[1]))\n",
    "print(\"Относительный показатель 'B' и 'A' = {0:.3f}\".format(orders[orders['group']=='B']['revenue'].mean()/orders[orders['group']=='A']['revenue'].mean()-1)) "
   ]
  },
  {
   "cell_type": "markdown",
   "metadata": {},
   "source": [
    "p-value гораздо выше alpha, соответсвенно я не отвергаю нулевую гипотезу и считаю, что значимых различий в среднем чеке между группами по \"сырым\" данным нет. Средний чек группы 'B' выше среднего чека группы 'A' на 26%"
   ]
  },
  {
   "cell_type": "markdown",
   "metadata": {},
   "source": [
    "**Считаю статистическую значимость различий в среднем чеке заказа между группами по «очищенным» данным**"
   ]
  },
  {
   "cell_type": "markdown",
   "metadata": {},
   "source": [
    "* Нулевая гипотеза (H_0): статистически значимых различий между конверсиями нет\n",
    "* Альтернативная гипотеза (H_1): статистически значимые различия есть"
   ]
  },
  {
   "cell_type": "code",
   "execution_count": null,
   "metadata": {},
   "outputs": [],
   "source": [
    "print(\"alpha =\",0.05)\n",
    "print(\"p-value = {0:.3f}\".format(stats.mannwhitneyu(\n",
    "    orders[np.logical_and(\n",
    "        orders['group']=='A',\n",
    "        np.logical_not(orders['visitor_id'].isin(abnormalUsers)))]['revenue'],\n",
    "    orders[np.logical_and(\n",
    "        orders['group']=='B',\n",
    "        np.logical_not(orders['visitor_id'].isin(abnormalUsers)))]['revenue'], alternative = 'two-sided')[1]))\n",
    "\n",
    "print(\"Относительный показатель 'B' и 'A' = {0:.3f}\".format(\n",
    "    orders[np.logical_and(orders['group']=='B',np.logical_not(orders['visitor_id'].isin(abnormalUsers)))]['revenue'].mean()/\n",
    "    orders[np.logical_and(\n",
    "        orders['group']=='A',\n",
    "        np.logical_not(orders['visitor_id'].isin(abnormalUsers)))]['revenue'].mean() - 1)) "
   ]
  },
  {
   "cell_type": "markdown",
   "metadata": {},
   "source": [
    "p-value гораздо выше alpha, а также оно ещё немного увеличилось по сравнению с результатами в 'сырых' данных, соответсвенно я не отвергаю нулевую гипотезу и считаю, что значимых различий в среднем чеке между группами по \"сырым\" данным нет. Средний чек группы 'B' ниже среднего чека группы 'A' на 2%"
   ]
  },
  {
   "cell_type": "markdown",
   "metadata": {},
   "source": [
    "## Результаты A/B теста"
   ]
  },
  {
   "cell_type": "markdown",
   "metadata": {},
   "source": [
    "Варианты решений:\n",
    "\n",
    "* **Остановить тест, зафиксировать победу одной из групп.**\n",
    "* Остановить тест, зафиксировать отсутствие различий между группами.\n",
    "* Продолжить тест."
   ]
  },
  {
   "cell_type": "markdown",
   "metadata": {},
   "source": [
    "Обрабатывая результаты проведенного А/В теста, можно смело зафиксировать победу группы В. Прирост конверсии в этой группе составил выше 17% по сравнению с группой А. \n",
    "\n",
    "**Результат: остановить тест, зафиксировать победу группы B**"
   ]
  }
 ],
 "metadata": {
  "ExecuteTimeLog": [
   {
    "duration": 1268,
    "start_time": "2023-03-28T05:51:17.525Z"
   },
   {
    "duration": 220,
    "start_time": "2023-03-28T05:52:04.499Z"
   },
   {
    "duration": 12,
    "start_time": "2023-03-28T05:53:31.338Z"
   },
   {
    "duration": 22,
    "start_time": "2023-03-28T05:53:39.807Z"
   },
   {
    "duration": 18,
    "start_time": "2023-03-28T05:55:56.315Z"
   },
   {
    "duration": 23,
    "start_time": "2023-03-28T05:55:59.375Z"
   },
   {
    "duration": 11,
    "start_time": "2023-03-28T06:01:09.569Z"
   },
   {
    "duration": 10,
    "start_time": "2023-03-28T06:04:16.556Z"
   },
   {
    "duration": 22,
    "start_time": "2023-03-28T06:06:09.431Z"
   },
   {
    "duration": 375,
    "start_time": "2023-03-28T06:21:02.623Z"
   },
   {
    "duration": 327,
    "start_time": "2023-03-28T06:21:45.960Z"
   },
   {
    "duration": 335,
    "start_time": "2023-03-28T07:02:11.216Z"
   },
   {
    "duration": 927,
    "start_time": "2023-03-28T07:02:19.795Z"
   },
   {
    "duration": 326,
    "start_time": "2023-03-28T07:02:22.883Z"
   },
   {
    "duration": 4,
    "start_time": "2023-03-28T07:02:29.181Z"
   },
   {
    "duration": 152,
    "start_time": "2023-03-28T07:02:29.187Z"
   },
   {
    "duration": 20,
    "start_time": "2023-03-28T07:02:29.341Z"
   },
   {
    "duration": 59,
    "start_time": "2023-03-28T07:02:29.363Z"
   },
   {
    "duration": 47,
    "start_time": "2023-03-28T07:02:29.424Z"
   },
   {
    "duration": 380,
    "start_time": "2023-03-28T07:02:29.473Z"
   },
   {
    "duration": 5,
    "start_time": "2023-03-28T07:03:30.805Z"
   },
   {
    "duration": 7,
    "start_time": "2023-03-28T07:04:40.177Z"
   },
   {
    "duration": 22,
    "start_time": "2023-03-28T07:14:02.991Z"
   },
   {
    "duration": 21,
    "start_time": "2023-03-28T07:14:05.100Z"
   },
   {
    "duration": 4,
    "start_time": "2023-03-28T07:14:09.842Z"
   },
   {
    "duration": 99,
    "start_time": "2023-03-28T07:14:09.849Z"
   },
   {
    "duration": 18,
    "start_time": "2023-03-28T07:14:09.949Z"
   },
   {
    "duration": 21,
    "start_time": "2023-03-28T07:14:09.968Z"
   },
   {
    "duration": 15,
    "start_time": "2023-03-28T07:14:09.991Z"
   },
   {
    "duration": 17,
    "start_time": "2023-03-28T07:14:10.008Z"
   },
   {
    "duration": 23,
    "start_time": "2023-03-28T07:14:18.651Z"
   },
   {
    "duration": 9,
    "start_time": "2023-03-28T07:52:40.328Z"
   },
   {
    "duration": 22,
    "start_time": "2023-03-28T07:54:22.515Z"
   },
   {
    "duration": 4,
    "start_time": "2023-03-28T07:56:09.218Z"
   },
   {
    "duration": 3,
    "start_time": "2023-03-28T07:56:14.598Z"
   },
   {
    "duration": 95,
    "start_time": "2023-03-28T07:56:14.604Z"
   },
   {
    "duration": 16,
    "start_time": "2023-03-28T07:56:14.701Z"
   },
   {
    "duration": 49,
    "start_time": "2023-03-28T07:56:14.719Z"
   },
   {
    "duration": 21,
    "start_time": "2023-03-28T07:56:14.772Z"
   },
   {
    "duration": 35,
    "start_time": "2023-03-28T07:56:14.794Z"
   },
   {
    "duration": 47,
    "start_time": "2023-03-28T07:56:14.831Z"
   },
   {
    "duration": 56,
    "start_time": "2023-03-28T07:56:14.880Z"
   },
   {
    "duration": 39,
    "start_time": "2023-03-28T07:56:14.938Z"
   },
   {
    "duration": 11,
    "start_time": "2023-03-28T08:14:33.863Z"
   },
   {
    "duration": 13,
    "start_time": "2023-03-28T08:14:40.200Z"
   },
   {
    "duration": 3643,
    "start_time": "2023-03-28T08:16:48.484Z"
   },
   {
    "duration": 5,
    "start_time": "2023-03-28T08:17:16.667Z"
   },
   {
    "duration": 5,
    "start_time": "2023-03-28T08:17:28.284Z"
   },
   {
    "duration": 10,
    "start_time": "2023-03-28T08:17:51.175Z"
   },
   {
    "duration": 4,
    "start_time": "2023-03-28T08:18:01.285Z"
   },
   {
    "duration": 9,
    "start_time": "2023-03-28T08:18:02.855Z"
   },
   {
    "duration": 4,
    "start_time": "2023-03-28T08:18:06.296Z"
   },
   {
    "duration": 9,
    "start_time": "2023-03-28T08:18:07.566Z"
   },
   {
    "duration": 4,
    "start_time": "2023-03-28T08:18:17.224Z"
   },
   {
    "duration": 4,
    "start_time": "2023-03-28T08:18:19.997Z"
   },
   {
    "duration": 9,
    "start_time": "2023-03-28T08:18:22.029Z"
   },
   {
    "duration": 4,
    "start_time": "2023-03-28T08:18:27.633Z"
   },
   {
    "duration": 9,
    "start_time": "2023-03-28T08:18:29.375Z"
   },
   {
    "duration": 9,
    "start_time": "2023-03-28T08:22:14.950Z"
   },
   {
    "duration": 4,
    "start_time": "2023-03-28T08:22:55.502Z"
   },
   {
    "duration": 10,
    "start_time": "2023-03-28T08:25:29.436Z"
   },
   {
    "duration": 9,
    "start_time": "2023-03-28T08:25:39.587Z"
   },
   {
    "duration": 10,
    "start_time": "2023-03-28T08:28:55.033Z"
   },
   {
    "duration": 5,
    "start_time": "2023-03-28T08:32:11.853Z"
   },
   {
    "duration": 26,
    "start_time": "2023-03-28T10:51:36.326Z"
   },
   {
    "duration": 29,
    "start_time": "2023-03-28T10:53:37.011Z"
   },
   {
    "duration": 299,
    "start_time": "2023-03-28T10:53:55.328Z"
   },
   {
    "duration": 308,
    "start_time": "2023-03-28T10:56:04.484Z"
   },
   {
    "duration": 296,
    "start_time": "2023-03-28T10:56:12.722Z"
   },
   {
    "duration": 95,
    "start_time": "2023-03-28T10:56:41.456Z"
   },
   {
    "duration": 301,
    "start_time": "2023-03-28T10:59:01.065Z"
   },
   {
    "duration": 204,
    "start_time": "2023-03-28T10:59:34.165Z"
   },
   {
    "duration": 206,
    "start_time": "2023-03-28T10:59:37.808Z"
   },
   {
    "duration": 207,
    "start_time": "2023-03-28T11:00:16.117Z"
   },
   {
    "duration": 188,
    "start_time": "2023-03-28T11:00:24.341Z"
   },
   {
    "duration": 299,
    "start_time": "2023-03-28T11:00:37.384Z"
   },
   {
    "duration": 244,
    "start_time": "2023-03-28T11:00:43.528Z"
   },
   {
    "duration": 254,
    "start_time": "2023-03-28T11:01:09.269Z"
   },
   {
    "duration": 177,
    "start_time": "2023-03-28T11:07:24.434Z"
   },
   {
    "duration": 253,
    "start_time": "2023-03-28T11:07:43.249Z"
   },
   {
    "duration": 265,
    "start_time": "2023-03-28T11:07:55.986Z"
   },
   {
    "duration": 180,
    "start_time": "2023-03-28T11:08:14.676Z"
   },
   {
    "duration": 194,
    "start_time": "2023-03-28T11:08:47.772Z"
   },
   {
    "duration": 186,
    "start_time": "2023-03-28T11:11:00.535Z"
   },
   {
    "duration": 368,
    "start_time": "2023-03-28T11:29:56.440Z"
   },
   {
    "duration": 322,
    "start_time": "2023-03-28T11:30:07.497Z"
   },
   {
    "duration": 332,
    "start_time": "2023-03-28T11:30:17.767Z"
   },
   {
    "duration": 125,
    "start_time": "2023-03-28T11:30:56.823Z"
   },
   {
    "duration": 346,
    "start_time": "2023-03-28T11:31:00.777Z"
   },
   {
    "duration": 382,
    "start_time": "2023-03-28T11:31:05.551Z"
   },
   {
    "duration": 313,
    "start_time": "2023-03-28T11:31:10.009Z"
   },
   {
    "duration": 272,
    "start_time": "2023-03-28T11:31:16.724Z"
   },
   {
    "duration": 299,
    "start_time": "2023-03-28T11:31:20.893Z"
   },
   {
    "duration": 278,
    "start_time": "2023-03-28T11:31:32.026Z"
   },
   {
    "duration": 10,
    "start_time": "2023-03-28T11:45:19.362Z"
   },
   {
    "duration": 130,
    "start_time": "2023-03-28T11:45:32.874Z"
   },
   {
    "duration": 133,
    "start_time": "2023-03-28T11:45:42.098Z"
   },
   {
    "duration": 11,
    "start_time": "2023-03-28T11:46:26.026Z"
   },
   {
    "duration": 1380,
    "start_time": "2023-03-28T11:46:50.148Z"
   },
   {
    "duration": 1373,
    "start_time": "2023-03-28T11:46:56.333Z"
   },
   {
    "duration": 1516,
    "start_time": "2023-03-28T11:47:04.938Z"
   },
   {
    "duration": 1433,
    "start_time": "2023-03-28T11:47:13.236Z"
   },
   {
    "duration": 1512,
    "start_time": "2023-03-28T11:47:19.716Z"
   },
   {
    "duration": 1484,
    "start_time": "2023-03-28T11:47:35.247Z"
   },
   {
    "duration": 1529,
    "start_time": "2023-03-28T11:47:39.943Z"
   },
   {
    "duration": 154,
    "start_time": "2023-03-28T11:49:19.993Z"
   },
   {
    "duration": 146,
    "start_time": "2023-03-28T11:49:26.653Z"
   },
   {
    "duration": 9,
    "start_time": "2023-03-28T11:50:56.331Z"
   },
   {
    "duration": 13,
    "start_time": "2023-03-28T11:51:03.419Z"
   },
   {
    "duration": 12,
    "start_time": "2023-03-28T11:51:09.564Z"
   },
   {
    "duration": 11,
    "start_time": "2023-03-28T11:51:13.458Z"
   },
   {
    "duration": 15,
    "start_time": "2023-03-28T11:51:33.384Z"
   },
   {
    "duration": 14,
    "start_time": "2023-03-28T11:53:39.620Z"
   },
   {
    "duration": 98,
    "start_time": "2023-03-28T11:55:10.090Z"
   },
   {
    "duration": 130,
    "start_time": "2023-03-28T11:56:11.142Z"
   },
   {
    "duration": 268,
    "start_time": "2023-03-28T11:56:16.660Z"
   },
   {
    "duration": 15,
    "start_time": "2023-03-28T12:13:43.635Z"
   },
   {
    "duration": 126,
    "start_time": "2023-03-28T12:14:16.742Z"
   },
   {
    "duration": 15,
    "start_time": "2023-03-28T12:14:45.213Z"
   },
   {
    "duration": 15,
    "start_time": "2023-03-28T12:15:21.410Z"
   },
   {
    "duration": 15,
    "start_time": "2023-03-28T12:15:46.453Z"
   },
   {
    "duration": 3,
    "start_time": "2023-03-28T12:15:55.639Z"
   },
   {
    "duration": 75,
    "start_time": "2023-03-28T12:15:55.644Z"
   },
   {
    "duration": 16,
    "start_time": "2023-03-28T12:15:55.721Z"
   },
   {
    "duration": 22,
    "start_time": "2023-03-28T12:15:55.739Z"
   },
   {
    "duration": 15,
    "start_time": "2023-03-28T12:15:55.762Z"
   },
   {
    "duration": 8,
    "start_time": "2023-03-28T12:15:55.779Z"
   },
   {
    "duration": 17,
    "start_time": "2023-03-28T12:15:55.789Z"
   },
   {
    "duration": 18,
    "start_time": "2023-03-28T12:15:55.807Z"
   },
   {
    "duration": 28,
    "start_time": "2023-03-28T12:15:55.826Z"
   },
   {
    "duration": 4,
    "start_time": "2023-03-28T12:15:55.856Z"
   },
   {
    "duration": 17,
    "start_time": "2023-03-28T12:15:55.861Z"
   },
   {
    "duration": 10,
    "start_time": "2023-03-28T12:15:55.880Z"
   },
   {
    "duration": 22,
    "start_time": "2023-03-28T12:15:55.892Z"
   },
   {
    "duration": 288,
    "start_time": "2023-03-28T12:15:55.916Z"
   },
   {
    "duration": 200,
    "start_time": "2023-03-28T12:15:56.205Z"
   },
   {
    "duration": 230,
    "start_time": "2023-03-28T12:15:56.406Z"
   },
   {
    "duration": 304,
    "start_time": "2023-03-28T12:15:56.638Z"
   },
   {
    "duration": 9,
    "start_time": "2023-03-28T12:15:56.944Z"
   },
   {
    "duration": 30,
    "start_time": "2023-03-28T12:15:56.954Z"
   },
   {
    "duration": 0,
    "start_time": "2023-03-28T12:15:56.987Z"
   },
   {
    "duration": 0,
    "start_time": "2023-03-28T12:15:56.988Z"
   },
   {
    "duration": 19,
    "start_time": "2023-03-28T12:16:40.358Z"
   },
   {
    "duration": 15,
    "start_time": "2023-03-28T12:16:56.312Z"
   },
   {
    "duration": 15,
    "start_time": "2023-03-28T12:20:43.519Z"
   },
   {
    "duration": 2477,
    "start_time": "2023-03-28T12:21:00.279Z"
   },
   {
    "duration": 16,
    "start_time": "2023-03-28T12:21:12.158Z"
   },
   {
    "duration": 4,
    "start_time": "2023-03-28T12:23:26.755Z"
   },
   {
    "duration": 3,
    "start_time": "2023-03-28T12:23:35.320Z"
   },
   {
    "duration": 3,
    "start_time": "2023-03-28T12:23:42.282Z"
   },
   {
    "duration": 16,
    "start_time": "2023-03-28T12:24:05.083Z"
   },
   {
    "duration": 16,
    "start_time": "2023-03-28T12:24:39.477Z"
   },
   {
    "duration": 14,
    "start_time": "2023-03-28T12:24:48.756Z"
   },
   {
    "duration": 12,
    "start_time": "2023-03-28T12:26:07.445Z"
   },
   {
    "duration": 8,
    "start_time": "2023-03-28T12:27:55.025Z"
   },
   {
    "duration": 4,
    "start_time": "2023-03-28T12:28:03.094Z"
   },
   {
    "duration": 11,
    "start_time": "2023-03-28T12:29:55.004Z"
   },
   {
    "duration": 9,
    "start_time": "2023-03-28T12:43:47.801Z"
   },
   {
    "duration": 13,
    "start_time": "2023-03-28T12:44:28.498Z"
   },
   {
    "duration": 21,
    "start_time": "2023-03-28T12:44:39.950Z"
   },
   {
    "duration": 124,
    "start_time": "2023-03-28T12:46:28.655Z"
   },
   {
    "duration": 170,
    "start_time": "2023-03-28T12:46:30.304Z"
   },
   {
    "duration": 136,
    "start_time": "2023-03-28T12:46:53.068Z"
   },
   {
    "duration": 126,
    "start_time": "2023-03-28T12:46:57.985Z"
   },
   {
    "duration": 139,
    "start_time": "2023-03-28T12:49:30.859Z"
   },
   {
    "duration": 145,
    "start_time": "2023-03-28T12:50:12.895Z"
   },
   {
    "duration": 121,
    "start_time": "2023-03-28T12:50:49.010Z"
   },
   {
    "duration": 117,
    "start_time": "2023-03-28T12:51:23.201Z"
   },
   {
    "duration": 20,
    "start_time": "2023-03-28T12:51:29.417Z"
   },
   {
    "duration": 22,
    "start_time": "2023-03-28T12:51:39.682Z"
   },
   {
    "duration": 21,
    "start_time": "2023-03-28T12:51:43.733Z"
   },
   {
    "duration": 8,
    "start_time": "2023-03-28T12:51:51.331Z"
   },
   {
    "duration": 9,
    "start_time": "2023-03-28T12:51:56.203Z"
   },
   {
    "duration": 15,
    "start_time": "2023-03-28T12:52:11.043Z"
   },
   {
    "duration": 70,
    "start_time": "2023-03-28T12:53:42.114Z"
   },
   {
    "duration": 153,
    "start_time": "2023-03-28T12:55:09.598Z"
   },
   {
    "duration": 145,
    "start_time": "2023-03-28T12:57:37.608Z"
   },
   {
    "duration": 12,
    "start_time": "2023-03-28T12:58:09.430Z"
   },
   {
    "duration": 1369,
    "start_time": "2023-03-28T12:58:28.979Z"
   },
   {
    "duration": 1539,
    "start_time": "2023-03-28T12:58:40.328Z"
   },
   {
    "duration": 8,
    "start_time": "2023-03-28T13:00:06.861Z"
   },
   {
    "duration": 156,
    "start_time": "2023-03-28T13:01:46.640Z"
   },
   {
    "duration": 259,
    "start_time": "2023-03-28T13:02:29.028Z"
   },
   {
    "duration": 276,
    "start_time": "2023-03-28T13:02:35.784Z"
   },
   {
    "duration": 138,
    "start_time": "2023-03-28T13:06:34.548Z"
   },
   {
    "duration": 136,
    "start_time": "2023-03-28T13:07:33.423Z"
   },
   {
    "duration": 330,
    "start_time": "2023-03-28T13:07:37.829Z"
   },
   {
    "duration": 145,
    "start_time": "2023-03-28T13:15:49.879Z"
   },
   {
    "duration": 205,
    "start_time": "2023-03-28T17:07:47.587Z"
   },
   {
    "duration": 173,
    "start_time": "2023-03-28T17:08:16.618Z"
   },
   {
    "duration": 188,
    "start_time": "2023-03-28T17:08:25.372Z"
   },
   {
    "duration": 309,
    "start_time": "2023-03-28T17:12:32.221Z"
   },
   {
    "duration": 335,
    "start_time": "2023-03-28T17:18:16.888Z"
   },
   {
    "duration": 324,
    "start_time": "2023-03-28T17:18:53.087Z"
   },
   {
    "duration": 17,
    "start_time": "2023-03-28T17:19:15.484Z"
   },
   {
    "duration": 305,
    "start_time": "2023-03-28T17:19:37.916Z"
   },
   {
    "duration": 342,
    "start_time": "2023-03-28T17:20:07.159Z"
   },
   {
    "duration": 283,
    "start_time": "2023-03-28T17:23:15.635Z"
   },
   {
    "duration": 321,
    "start_time": "2023-03-28T17:23:55.291Z"
   },
   {
    "duration": 330,
    "start_time": "2023-03-28T17:24:12.171Z"
   },
   {
    "duration": 338,
    "start_time": "2023-03-28T17:24:37.504Z"
   },
   {
    "duration": 456,
    "start_time": "2023-03-28T17:24:47.873Z"
   },
   {
    "duration": 414,
    "start_time": "2023-03-28T17:24:52.644Z"
   },
   {
    "duration": 354,
    "start_time": "2023-03-28T17:24:55.667Z"
   },
   {
    "duration": 363,
    "start_time": "2023-03-28T17:26:48.169Z"
   },
   {
    "duration": 349,
    "start_time": "2023-03-28T17:27:02.972Z"
   },
   {
    "duration": 368,
    "start_time": "2023-03-28T17:27:09.375Z"
   },
   {
    "duration": 337,
    "start_time": "2023-03-28T17:27:14.868Z"
   },
   {
    "duration": 301,
    "start_time": "2023-03-28T17:27:23.333Z"
   },
   {
    "duration": 10,
    "start_time": "2023-03-28T17:29:35.279Z"
   },
   {
    "duration": 10,
    "start_time": "2023-03-28T17:29:41.077Z"
   },
   {
    "duration": 246,
    "start_time": "2023-03-28T17:31:31.775Z"
   },
   {
    "duration": 127,
    "start_time": "2023-03-28T17:31:51.796Z"
   },
   {
    "duration": 140,
    "start_time": "2023-03-28T17:32:02.420Z"
   },
   {
    "duration": 323,
    "start_time": "2023-03-28T17:32:34.264Z"
   },
   {
    "duration": 311,
    "start_time": "2023-03-28T17:32:46.545Z"
   },
   {
    "duration": 8,
    "start_time": "2023-03-28T17:36:48.219Z"
   },
   {
    "duration": 4,
    "start_time": "2023-03-28T17:37:00.777Z"
   },
   {
    "duration": 5,
    "start_time": "2023-03-28T17:37:11.580Z"
   },
   {
    "duration": 4,
    "start_time": "2023-03-28T17:37:34.601Z"
   },
   {
    "duration": 4,
    "start_time": "2023-03-28T17:38:33.277Z"
   },
   {
    "duration": 162,
    "start_time": "2023-03-28T17:44:02.182Z"
   },
   {
    "duration": 5,
    "start_time": "2023-03-28T17:47:57.516Z"
   },
   {
    "duration": 122,
    "start_time": "2023-03-28T17:54:47.584Z"
   },
   {
    "duration": 104,
    "start_time": "2023-03-28T17:55:53.869Z"
   },
   {
    "duration": 183,
    "start_time": "2023-03-28T17:56:34.357Z"
   },
   {
    "duration": 227,
    "start_time": "2023-03-28T17:56:49.025Z"
   },
   {
    "duration": 330,
    "start_time": "2023-03-28T17:57:04.397Z"
   },
   {
    "duration": 13,
    "start_time": "2023-03-28T18:11:37.448Z"
   },
   {
    "duration": 170,
    "start_time": "2023-03-28T18:13:16.273Z"
   },
   {
    "duration": 167,
    "start_time": "2023-03-28T18:14:32.257Z"
   },
   {
    "duration": 156,
    "start_time": "2023-03-28T18:15:05.309Z"
   },
   {
    "duration": 31,
    "start_time": "2023-03-28T18:19:49.891Z"
   },
   {
    "duration": 147,
    "start_time": "2023-03-28T18:20:05.207Z"
   },
   {
    "duration": 10,
    "start_time": "2023-03-28T18:37:06.760Z"
   },
   {
    "duration": 30,
    "start_time": "2023-03-28T18:37:34.902Z"
   },
   {
    "duration": 14,
    "start_time": "2023-03-28T18:38:13.554Z"
   },
   {
    "duration": 24,
    "start_time": "2023-03-28T18:38:42.717Z"
   },
   {
    "duration": 33,
    "start_time": "2023-03-28T18:39:16.766Z"
   },
   {
    "duration": 21,
    "start_time": "2023-03-28T18:39:18.659Z"
   },
   {
    "duration": 9,
    "start_time": "2023-03-28T18:39:35.940Z"
   },
   {
    "duration": 22,
    "start_time": "2023-03-28T18:39:43.902Z"
   },
   {
    "duration": 24,
    "start_time": "2023-03-28T18:40:58.198Z"
   },
   {
    "duration": 23,
    "start_time": "2023-03-28T18:41:18.333Z"
   },
   {
    "duration": 26,
    "start_time": "2023-03-28T18:42:23.179Z"
   },
   {
    "duration": 27,
    "start_time": "2023-03-28T18:42:49.721Z"
   },
   {
    "duration": 25,
    "start_time": "2023-03-28T18:43:03.177Z"
   },
   {
    "duration": 1267,
    "start_time": "2023-03-28T18:58:19.001Z"
   },
   {
    "duration": 1339,
    "start_time": "2023-03-28T18:58:44.836Z"
   },
   {
    "duration": 1200,
    "start_time": "2023-03-28T18:59:19.284Z"
   },
   {
    "duration": 1934,
    "start_time": "2023-03-28T18:59:39.998Z"
   },
   {
    "duration": 1284,
    "start_time": "2023-03-28T19:00:15.476Z"
   },
   {
    "duration": 1505,
    "start_time": "2023-03-28T19:00:50.395Z"
   },
   {
    "duration": 5,
    "start_time": "2023-03-28T19:01:23.641Z"
   },
   {
    "duration": 1176,
    "start_time": "2023-03-28T19:01:53.871Z"
   },
   {
    "duration": 8,
    "start_time": "2023-03-28T19:02:01.273Z"
   },
   {
    "duration": 8,
    "start_time": "2023-03-28T19:02:30.984Z"
   },
   {
    "duration": 9,
    "start_time": "2023-03-28T19:02:37.127Z"
   },
   {
    "duration": 9,
    "start_time": "2023-03-28T19:02:44.144Z"
   },
   {
    "duration": 9,
    "start_time": "2023-03-28T19:02:56.697Z"
   },
   {
    "duration": 11,
    "start_time": "2023-03-28T19:03:14.848Z"
   },
   {
    "duration": 15,
    "start_time": "2023-03-28T19:03:29.612Z"
   },
   {
    "duration": 12,
    "start_time": "2023-03-28T19:03:47.242Z"
   },
   {
    "duration": 11,
    "start_time": "2023-03-28T19:03:52.586Z"
   },
   {
    "duration": 10,
    "start_time": "2023-03-28T19:04:05.085Z"
   },
   {
    "duration": 8,
    "start_time": "2023-03-28T19:07:24.198Z"
   },
   {
    "duration": 35,
    "start_time": "2023-03-28T19:07:29.938Z"
   },
   {
    "duration": 87,
    "start_time": "2023-03-28T19:08:21.206Z"
   },
   {
    "duration": 37,
    "start_time": "2023-03-28T19:08:25.159Z"
   },
   {
    "duration": 24,
    "start_time": "2023-03-28T19:10:13.252Z"
   },
   {
    "duration": 13,
    "start_time": "2023-03-28T19:17:51.428Z"
   },
   {
    "duration": 91,
    "start_time": "2023-03-28T19:18:25.127Z"
   },
   {
    "duration": 65,
    "start_time": "2023-03-28T19:19:04.809Z"
   },
   {
    "duration": 91,
    "start_time": "2023-03-28T19:19:07.765Z"
   },
   {
    "duration": 24,
    "start_time": "2023-03-28T19:19:30.162Z"
   },
   {
    "duration": 12,
    "start_time": "2023-03-28T19:19:42.347Z"
   },
   {
    "duration": 1206,
    "start_time": "2023-03-28T20:24:26.450Z"
   },
   {
    "duration": 12,
    "start_time": "2023-03-28T20:24:45.796Z"
   },
   {
    "duration": 80,
    "start_time": "2023-03-28T20:28:17.988Z"
   },
   {
    "duration": 4,
    "start_time": "2023-03-28T20:31:34.000Z"
   },
   {
    "duration": 96,
    "start_time": "2023-03-28T20:31:34.007Z"
   },
   {
    "duration": 21,
    "start_time": "2023-03-28T20:31:34.105Z"
   },
   {
    "duration": 23,
    "start_time": "2023-03-28T20:31:34.129Z"
   },
   {
    "duration": 14,
    "start_time": "2023-03-28T20:31:34.154Z"
   },
   {
    "duration": 11,
    "start_time": "2023-03-28T20:31:34.170Z"
   },
   {
    "duration": 14,
    "start_time": "2023-03-28T20:31:34.182Z"
   },
   {
    "duration": 11,
    "start_time": "2023-03-28T20:31:34.199Z"
   },
   {
    "duration": 36,
    "start_time": "2023-03-28T20:31:34.212Z"
   },
   {
    "duration": 6,
    "start_time": "2023-03-28T20:31:34.252Z"
   },
   {
    "duration": 28,
    "start_time": "2023-03-28T20:31:34.260Z"
   },
   {
    "duration": 19,
    "start_time": "2023-03-28T20:31:34.290Z"
   },
   {
    "duration": 19,
    "start_time": "2023-03-28T20:31:34.311Z"
   },
   {
    "duration": 338,
    "start_time": "2023-03-28T20:31:34.332Z"
   },
   {
    "duration": 258,
    "start_time": "2023-03-28T20:31:34.672Z"
   },
   {
    "duration": 279,
    "start_time": "2023-03-28T20:31:34.932Z"
   },
   {
    "duration": 330,
    "start_time": "2023-03-28T20:31:35.213Z"
   },
   {
    "duration": 14,
    "start_time": "2023-03-28T20:31:35.545Z"
   },
   {
    "duration": 39,
    "start_time": "2023-03-28T20:31:35.561Z"
   },
   {
    "duration": 243,
    "start_time": "2023-03-28T20:31:35.602Z"
   },
   {
    "duration": 332,
    "start_time": "2023-03-28T20:31:35.847Z"
   },
   {
    "duration": 161,
    "start_time": "2023-03-28T20:31:36.182Z"
   },
   {
    "duration": 5,
    "start_time": "2023-03-28T20:31:36.346Z"
   },
   {
    "duration": 166,
    "start_time": "2023-03-28T20:31:36.352Z"
   },
   {
    "duration": 5,
    "start_time": "2023-03-28T20:31:36.519Z"
   },
   {
    "duration": 263,
    "start_time": "2023-03-28T20:31:36.526Z"
   },
   {
    "duration": 192,
    "start_time": "2023-03-28T20:31:36.791Z"
   },
   {
    "duration": 207,
    "start_time": "2023-03-28T20:31:36.988Z"
   },
   {
    "duration": 24,
    "start_time": "2023-03-28T20:31:37.197Z"
   },
   {
    "duration": 12,
    "start_time": "2023-03-28T20:31:37.223Z"
   },
   {
    "duration": 9,
    "start_time": "2023-03-28T20:31:37.237Z"
   },
   {
    "duration": 53,
    "start_time": "2023-03-28T20:31:37.248Z"
   },
   {
    "duration": 12,
    "start_time": "2023-03-28T20:31:37.303Z"
   },
   {
    "duration": 16,
    "start_time": "2023-03-28T20:31:37.316Z"
   },
   {
    "duration": 1253,
    "start_time": "2023-03-29T06:56:11.010Z"
   },
   {
    "duration": 69,
    "start_time": "2023-03-29T06:56:12.265Z"
   },
   {
    "duration": 32,
    "start_time": "2023-03-29T06:56:12.339Z"
   },
   {
    "duration": 31,
    "start_time": "2023-03-29T06:56:12.374Z"
   },
   {
    "duration": 18,
    "start_time": "2023-03-29T06:56:12.407Z"
   },
   {
    "duration": 7,
    "start_time": "2023-03-29T06:56:12.427Z"
   },
   {
    "duration": 12,
    "start_time": "2023-03-29T06:56:12.436Z"
   },
   {
    "duration": 23,
    "start_time": "2023-03-29T06:56:12.450Z"
   },
   {
    "duration": 24,
    "start_time": "2023-03-29T06:56:12.477Z"
   },
   {
    "duration": 32,
    "start_time": "2023-03-29T06:56:12.505Z"
   },
   {
    "duration": 10,
    "start_time": "2023-03-29T06:56:12.539Z"
   },
   {
    "duration": 6,
    "start_time": "2023-03-29T06:56:12.550Z"
   },
   {
    "duration": 11,
    "start_time": "2023-03-29T06:56:12.557Z"
   },
   {
    "duration": 351,
    "start_time": "2023-03-29T06:56:12.570Z"
   },
   {
    "duration": 324,
    "start_time": "2023-03-29T06:56:12.923Z"
   },
   {
    "duration": 231,
    "start_time": "2023-03-29T06:56:13.248Z"
   },
   {
    "duration": 316,
    "start_time": "2023-03-29T06:56:13.480Z"
   },
   {
    "duration": 9,
    "start_time": "2023-03-29T06:56:13.798Z"
   },
   {
    "duration": 37,
    "start_time": "2023-03-29T06:56:13.809Z"
   },
   {
    "duration": 278,
    "start_time": "2023-03-29T06:56:13.848Z"
   },
   {
    "duration": 329,
    "start_time": "2023-03-29T06:56:14.131Z"
   },
   {
    "duration": 177,
    "start_time": "2023-03-29T06:56:14.462Z"
   },
   {
    "duration": 5,
    "start_time": "2023-03-29T06:56:14.641Z"
   },
   {
    "duration": 171,
    "start_time": "2023-03-29T06:56:14.648Z"
   },
   {
    "duration": 8,
    "start_time": "2023-03-29T06:56:14.820Z"
   },
   {
    "duration": 309,
    "start_time": "2023-03-29T06:56:14.831Z"
   },
   {
    "duration": 157,
    "start_time": "2023-03-29T06:56:15.142Z"
   },
   {
    "duration": 152,
    "start_time": "2023-03-29T06:56:15.302Z"
   },
   {
    "duration": 32,
    "start_time": "2023-03-29T06:56:15.456Z"
   },
   {
    "duration": 10,
    "start_time": "2023-03-29T06:56:15.491Z"
   },
   {
    "duration": 34,
    "start_time": "2023-03-29T06:56:15.504Z"
   },
   {
    "duration": 104,
    "start_time": "2023-03-29T06:56:15.541Z"
   },
   {
    "duration": 0,
    "start_time": "2023-03-29T06:56:15.648Z"
   },
   {
    "duration": 1,
    "start_time": "2023-03-29T06:56:15.649Z"
   },
   {
    "duration": 48,
    "start_time": "2023-03-29T16:31:54.734Z"
   },
   {
    "duration": 6,
    "start_time": "2023-03-29T16:32:02.999Z"
   },
   {
    "duration": 8,
    "start_time": "2023-03-29T16:32:11.238Z"
   },
   {
    "duration": 10,
    "start_time": "2023-03-29T16:32:13.092Z"
   },
   {
    "duration": 8,
    "start_time": "2023-03-29T16:32:19.207Z"
   },
   {
    "duration": 1448,
    "start_time": "2023-03-29T16:32:36.005Z"
   },
   {
    "duration": 5,
    "start_time": "2023-03-29T16:32:39.415Z"
   },
   {
    "duration": 243,
    "start_time": "2023-03-29T16:32:39.423Z"
   },
   {
    "duration": 21,
    "start_time": "2023-03-29T16:32:39.667Z"
   },
   {
    "duration": 22,
    "start_time": "2023-03-29T16:32:39.690Z"
   },
   {
    "duration": 4,
    "start_time": "2023-03-29T16:32:39.715Z"
   },
   {
    "duration": 27,
    "start_time": "2023-03-29T16:32:39.720Z"
   },
   {
    "duration": 15,
    "start_time": "2023-03-29T16:32:39.748Z"
   },
   {
    "duration": 12,
    "start_time": "2023-03-29T16:32:39.764Z"
   },
   {
    "duration": 26,
    "start_time": "2023-03-29T16:32:39.778Z"
   },
   {
    "duration": 7,
    "start_time": "2023-03-29T16:32:39.806Z"
   },
   {
    "duration": 15,
    "start_time": "2023-03-29T16:32:39.816Z"
   },
   {
    "duration": 18,
    "start_time": "2023-03-29T16:32:39.834Z"
   },
   {
    "duration": 16,
    "start_time": "2023-03-29T16:32:39.855Z"
   },
   {
    "duration": 336,
    "start_time": "2023-03-29T16:32:39.873Z"
   },
   {
    "duration": 329,
    "start_time": "2023-03-29T16:32:40.210Z"
   },
   {
    "duration": 225,
    "start_time": "2023-03-29T16:32:40.541Z"
   },
   {
    "duration": 385,
    "start_time": "2023-03-29T16:32:40.768Z"
   },
   {
    "duration": 9,
    "start_time": "2023-03-29T16:32:41.154Z"
   },
   {
    "duration": 21,
    "start_time": "2023-03-29T16:32:41.165Z"
   },
   {
    "duration": 262,
    "start_time": "2023-03-29T16:32:41.187Z"
   },
   {
    "duration": 336,
    "start_time": "2023-03-29T16:32:41.451Z"
   },
   {
    "duration": 183,
    "start_time": "2023-03-29T16:32:41.789Z"
   },
   {
    "duration": 4,
    "start_time": "2023-03-29T16:32:41.974Z"
   },
   {
    "duration": 266,
    "start_time": "2023-03-29T16:32:41.979Z"
   },
   {
    "duration": 4,
    "start_time": "2023-03-29T16:32:42.246Z"
   },
   {
    "duration": 279,
    "start_time": "2023-03-29T16:32:42.252Z"
   },
   {
    "duration": 228,
    "start_time": "2023-03-29T16:32:42.535Z"
   },
   {
    "duration": 212,
    "start_time": "2023-03-29T16:32:42.766Z"
   },
   {
    "duration": 25,
    "start_time": "2023-03-29T16:32:42.982Z"
   },
   {
    "duration": 22,
    "start_time": "2023-03-29T16:32:43.009Z"
   },
   {
    "duration": 13,
    "start_time": "2023-03-29T16:32:43.034Z"
   },
   {
    "duration": 95,
    "start_time": "2023-03-29T16:32:43.048Z"
   },
   {
    "duration": 0,
    "start_time": "2023-03-29T16:32:43.145Z"
   },
   {
    "duration": 0,
    "start_time": "2023-03-29T16:32:43.146Z"
   },
   {
    "duration": 308,
    "start_time": "2023-03-29T16:35:31.970Z"
   },
   {
    "duration": 25,
    "start_time": "2023-03-29T16:36:49.579Z"
   },
   {
    "duration": 110,
    "start_time": "2023-03-29T16:38:24.408Z"
   },
   {
    "duration": 1348,
    "start_time": "2023-03-29T19:19:49.230Z"
   },
   {
    "duration": 85,
    "start_time": "2023-03-29T19:19:50.581Z"
   },
   {
    "duration": 32,
    "start_time": "2023-03-29T19:19:50.668Z"
   },
   {
    "duration": 48,
    "start_time": "2023-03-29T19:19:50.703Z"
   },
   {
    "duration": 5,
    "start_time": "2023-03-29T19:19:50.756Z"
   },
   {
    "duration": 5,
    "start_time": "2023-03-29T19:19:50.763Z"
   },
   {
    "duration": 16,
    "start_time": "2023-03-29T19:19:50.771Z"
   },
   {
    "duration": 32,
    "start_time": "2023-03-29T19:19:50.790Z"
   },
   {
    "duration": 26,
    "start_time": "2023-03-29T19:19:50.828Z"
   },
   {
    "duration": 5,
    "start_time": "2023-03-29T19:19:50.857Z"
   },
   {
    "duration": 34,
    "start_time": "2023-03-29T19:19:50.864Z"
   },
   {
    "duration": 33,
    "start_time": "2023-03-29T19:19:50.900Z"
   },
   {
    "duration": 29,
    "start_time": "2023-03-29T19:19:50.934Z"
   },
   {
    "duration": 355,
    "start_time": "2023-03-29T19:19:50.974Z"
   },
   {
    "duration": 324,
    "start_time": "2023-03-29T19:19:51.336Z"
   },
   {
    "duration": 323,
    "start_time": "2023-03-29T19:19:51.662Z"
   },
   {
    "duration": 396,
    "start_time": "2023-03-29T19:19:51.987Z"
   },
   {
    "duration": 28,
    "start_time": "2023-03-29T19:19:52.385Z"
   },
   {
    "duration": 25,
    "start_time": "2023-03-29T19:19:52.415Z"
   },
   {
    "duration": 272,
    "start_time": "2023-03-29T19:19:52.442Z"
   },
   {
    "duration": 330,
    "start_time": "2023-03-29T19:19:52.716Z"
   },
   {
    "duration": 155,
    "start_time": "2023-03-29T19:19:53.050Z"
   },
   {
    "duration": 4,
    "start_time": "2023-03-29T19:19:53.207Z"
   },
   {
    "duration": 172,
    "start_time": "2023-03-29T19:19:53.212Z"
   },
   {
    "duration": 4,
    "start_time": "2023-03-29T19:19:53.386Z"
   },
   {
    "duration": 352,
    "start_time": "2023-03-29T19:19:53.392Z"
   },
   {
    "duration": 185,
    "start_time": "2023-03-29T19:19:53.746Z"
   },
   {
    "duration": 181,
    "start_time": "2023-03-29T19:19:53.935Z"
   },
   {
    "duration": 30,
    "start_time": "2023-03-29T19:19:54.122Z"
   },
   {
    "duration": 26,
    "start_time": "2023-03-29T19:19:54.154Z"
   },
   {
    "duration": 20,
    "start_time": "2023-03-29T19:19:54.181Z"
   },
   {
    "duration": 42,
    "start_time": "2023-03-29T19:19:54.202Z"
   },
   {
    "duration": 128,
    "start_time": "2023-03-29T19:19:54.246Z"
   },
   {
    "duration": 0,
    "start_time": "2023-03-29T19:19:54.376Z"
   },
   {
    "duration": 50,
    "start_time": "2023-04-02T09:17:40.557Z"
   },
   {
    "duration": 1198,
    "start_time": "2023-04-02T09:17:57.500Z"
   },
   {
    "duration": 229,
    "start_time": "2023-04-02T09:17:58.700Z"
   },
   {
    "duration": 20,
    "start_time": "2023-04-02T09:17:58.930Z"
   },
   {
    "duration": 26,
    "start_time": "2023-04-02T09:17:58.952Z"
   },
   {
    "duration": 3,
    "start_time": "2023-04-02T09:17:58.981Z"
   },
   {
    "duration": 15,
    "start_time": "2023-04-02T09:17:58.986Z"
   },
   {
    "duration": 21,
    "start_time": "2023-04-02T09:17:59.002Z"
   },
   {
    "duration": 17,
    "start_time": "2023-04-02T09:17:59.025Z"
   },
   {
    "duration": 31,
    "start_time": "2023-04-02T09:17:59.044Z"
   },
   {
    "duration": 5,
    "start_time": "2023-04-02T09:17:59.077Z"
   },
   {
    "duration": 20,
    "start_time": "2023-04-02T09:17:59.084Z"
   },
   {
    "duration": 5,
    "start_time": "2023-04-02T09:17:59.106Z"
   },
   {
    "duration": 10,
    "start_time": "2023-04-02T09:17:59.113Z"
   },
   {
    "duration": 313,
    "start_time": "2023-04-02T09:17:59.126Z"
   },
   {
    "duration": 245,
    "start_time": "2023-04-02T09:17:59.441Z"
   },
   {
    "duration": 191,
    "start_time": "2023-04-02T09:17:59.688Z"
   },
   {
    "duration": 245,
    "start_time": "2023-04-02T09:17:59.881Z"
   },
   {
    "duration": 8,
    "start_time": "2023-04-02T09:18:00.127Z"
   },
   {
    "duration": 21,
    "start_time": "2023-04-02T09:18:00.136Z"
   },
   {
    "duration": 194,
    "start_time": "2023-04-02T09:18:00.158Z"
   },
   {
    "duration": 272,
    "start_time": "2023-04-02T09:18:00.353Z"
   },
   {
    "duration": 121,
    "start_time": "2023-04-02T09:18:00.627Z"
   },
   {
    "duration": 3,
    "start_time": "2023-04-02T09:18:00.750Z"
   },
   {
    "duration": 140,
    "start_time": "2023-04-02T09:18:00.755Z"
   },
   {
    "duration": 3,
    "start_time": "2023-04-02T09:18:00.896Z"
   },
   {
    "duration": 238,
    "start_time": "2023-04-02T09:18:00.900Z"
   },
   {
    "duration": 133,
    "start_time": "2023-04-02T09:18:01.139Z"
   },
   {
    "duration": 129,
    "start_time": "2023-04-02T09:18:01.274Z"
   },
   {
    "duration": 19,
    "start_time": "2023-04-02T09:18:01.407Z"
   },
   {
    "duration": 23,
    "start_time": "2023-04-02T09:18:01.427Z"
   },
   {
    "duration": 41,
    "start_time": "2023-04-02T09:18:01.451Z"
   },
   {
    "duration": 59,
    "start_time": "2023-04-02T09:18:01.493Z"
   },
   {
    "duration": 117,
    "start_time": "2023-04-02T09:18:01.554Z"
   },
   {
    "duration": 0,
    "start_time": "2023-04-02T09:18:01.672Z"
   },
   {
    "duration": 9,
    "start_time": "2023-04-03T19:31:42.069Z"
   }
  ],
  "kernelspec": {
   "display_name": "Python 3 (ipykernel)",
   "language": "python",
   "name": "python3"
  },
  "language_info": {
   "codemirror_mode": {
    "name": "ipython",
    "version": 3
   },
   "file_extension": ".py",
   "mimetype": "text/x-python",
   "name": "python",
   "nbconvert_exporter": "python",
   "pygments_lexer": "ipython3",
   "version": "3.9.13"
  },
  "toc": {
   "base_numbering": 1,
   "nav_menu": {},
   "number_sections": true,
   "sideBar": true,
   "skip_h1_title": true,
   "title_cell": "Table of Contents",
   "title_sidebar": "Contents",
   "toc_cell": false,
   "toc_position": {},
   "toc_section_display": true,
   "toc_window_display": false
  }
 },
 "nbformat": 4,
 "nbformat_minor": 2
}
