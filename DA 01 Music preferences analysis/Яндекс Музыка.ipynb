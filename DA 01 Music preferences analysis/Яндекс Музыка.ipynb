{
 "cells": [
  {
   "cell_type": "markdown",
   "metadata": {
    "deletable": false,
    "editable": false,
    "id": "E0vqbgi9ay0H"
   },
   "source": [
    "# Яндекс Музыка"
   ]
  },
  {
   "cell_type": "markdown",
   "metadata": {},
   "source": [
    "## Описание проекта\n",
    "\n",
    "Сравнение Москвы и Петербурга окружено мифами:\n",
    "* Москва — мегаполис, подчинённый жёсткому ритму рабочей недели;\n",
    "* Петербург — город своеобразной культуры, непохожий на Москву.\n",
    "\n",
    "Некоторые мифы отражают действительность. Другие — пустые стереотипы. Бизнес должен отличать первые от вторых, чтобы принимать рациональные решения. На реальных данных Яндекс Музыки вы проверите гипотезы и сравните поведение пользователей двух столиц.\n",
    "\n",
    "**Гипотезы**\n",
    "\n",
    "1. Активность пользователей зависит от дня недели. Причём в Москве и Петербурге это проявляется по-разному.\n",
    "2. Утром в понедельник в Москве преобладают одни жанры музыки, а в Петербурге — другие. Это верно и для вечера пятницы.\n",
    "3. Москва и Петербург предпочитают разные жанры музыки. В Москве чаще слушают поп-музыку, в Петербурге — русский рэп.\n",
    "\n",
    "**Данные**\n",
    "\n",
    "Данные хранятся в файле `yandex_music_project.csv`. На платформе он находится по пути `/datasets/yandex_music_project.csv`. Скачать датасет для работы с ним вне проекта можно здесь.\n",
    "\n",
    "Описание колонок:\n",
    "\n",
    "* userID — идентификатор пользователя;\n",
    "* Track — название трека;\n",
    "* artist — имя исполнителя;\n",
    "* genre — название жанра;\n",
    "* City — город пользователя;\n",
    "* time — время начала прослушивания;\n",
    "* Day — день недели."
   ]
  },
  {
   "cell_type": "markdown",
   "metadata": {
    "id": "Ml1hmfXC_Zcs"
   },
   "source": [
    "## Загрузка и обзор данных"
   ]
  },
  {
   "cell_type": "code",
   "execution_count": 197,
   "metadata": {
    "deletable": false,
    "id": "AXN7PHPN_Zcs"
   },
   "outputs": [],
   "source": [
    "import pandas as pd# импорт библиотеки pandas"
   ]
  },
  {
   "cell_type": "code",
   "execution_count": 198,
   "metadata": {
    "deletable": false,
    "id": "fFVu7vqh_Zct"
   },
   "outputs": [],
   "source": [
    "df = pd.read_csv('/datasets/yandex_music_project.csv')# чтение файла с данными и сохранение в df"
   ]
  },
  {
   "cell_type": "code",
   "execution_count": 199,
   "metadata": {
    "deletable": false,
    "id": "oWTVX3gW_Zct",
    "scrolled": true
   },
   "outputs": [
    {
     "data": {
      "text/html": [
       "<div>\n",
       "<style scoped>\n",
       "    .dataframe tbody tr th:only-of-type {\n",
       "        vertical-align: middle;\n",
       "    }\n",
       "\n",
       "    .dataframe tbody tr th {\n",
       "        vertical-align: top;\n",
       "    }\n",
       "\n",
       "    .dataframe thead th {\n",
       "        text-align: right;\n",
       "    }\n",
       "</style>\n",
       "<table border=\"1\" class=\"dataframe\">\n",
       "  <thead>\n",
       "    <tr style=\"text-align: right;\">\n",
       "      <th></th>\n",
       "      <th>userID</th>\n",
       "      <th>Track</th>\n",
       "      <th>artist</th>\n",
       "      <th>genre</th>\n",
       "      <th>City</th>\n",
       "      <th>time</th>\n",
       "      <th>Day</th>\n",
       "    </tr>\n",
       "  </thead>\n",
       "  <tbody>\n",
       "    <tr>\n",
       "      <th>0</th>\n",
       "      <td>FFB692EC</td>\n",
       "      <td>Kamigata To Boots</td>\n",
       "      <td>The Mass Missile</td>\n",
       "      <td>rock</td>\n",
       "      <td>Saint-Petersburg</td>\n",
       "      <td>20:28:33</td>\n",
       "      <td>Wednesday</td>\n",
       "    </tr>\n",
       "    <tr>\n",
       "      <th>1</th>\n",
       "      <td>55204538</td>\n",
       "      <td>Delayed Because of Accident</td>\n",
       "      <td>Andreas Rönnberg</td>\n",
       "      <td>rock</td>\n",
       "      <td>Moscow</td>\n",
       "      <td>14:07:09</td>\n",
       "      <td>Friday</td>\n",
       "    </tr>\n",
       "    <tr>\n",
       "      <th>2</th>\n",
       "      <td>20EC38</td>\n",
       "      <td>Funiculì funiculà</td>\n",
       "      <td>Mario Lanza</td>\n",
       "      <td>pop</td>\n",
       "      <td>Saint-Petersburg</td>\n",
       "      <td>20:58:07</td>\n",
       "      <td>Wednesday</td>\n",
       "    </tr>\n",
       "    <tr>\n",
       "      <th>3</th>\n",
       "      <td>A3DD03C9</td>\n",
       "      <td>Dragons in the Sunset</td>\n",
       "      <td>Fire + Ice</td>\n",
       "      <td>folk</td>\n",
       "      <td>Saint-Petersburg</td>\n",
       "      <td>08:37:09</td>\n",
       "      <td>Monday</td>\n",
       "    </tr>\n",
       "    <tr>\n",
       "      <th>4</th>\n",
       "      <td>E2DC1FAE</td>\n",
       "      <td>Soul People</td>\n",
       "      <td>Space Echo</td>\n",
       "      <td>dance</td>\n",
       "      <td>Moscow</td>\n",
       "      <td>08:34:34</td>\n",
       "      <td>Monday</td>\n",
       "    </tr>\n",
       "    <tr>\n",
       "      <th>5</th>\n",
       "      <td>842029A1</td>\n",
       "      <td>Преданная</td>\n",
       "      <td>IMPERVTOR</td>\n",
       "      <td>rusrap</td>\n",
       "      <td>Saint-Petersburg</td>\n",
       "      <td>13:09:41</td>\n",
       "      <td>Friday</td>\n",
       "    </tr>\n",
       "    <tr>\n",
       "      <th>6</th>\n",
       "      <td>4CB90AA5</td>\n",
       "      <td>True</td>\n",
       "      <td>Roman Messer</td>\n",
       "      <td>dance</td>\n",
       "      <td>Moscow</td>\n",
       "      <td>13:00:07</td>\n",
       "      <td>Wednesday</td>\n",
       "    </tr>\n",
       "    <tr>\n",
       "      <th>7</th>\n",
       "      <td>F03E1C1F</td>\n",
       "      <td>Feeling This Way</td>\n",
       "      <td>Polina Griffith</td>\n",
       "      <td>dance</td>\n",
       "      <td>Moscow</td>\n",
       "      <td>20:47:49</td>\n",
       "      <td>Wednesday</td>\n",
       "    </tr>\n",
       "    <tr>\n",
       "      <th>8</th>\n",
       "      <td>8FA1D3BE</td>\n",
       "      <td>И вновь продолжается бой</td>\n",
       "      <td>NaN</td>\n",
       "      <td>ruspop</td>\n",
       "      <td>Moscow</td>\n",
       "      <td>09:17:40</td>\n",
       "      <td>Friday</td>\n",
       "    </tr>\n",
       "    <tr>\n",
       "      <th>9</th>\n",
       "      <td>E772D5C0</td>\n",
       "      <td>Pessimist</td>\n",
       "      <td>NaN</td>\n",
       "      <td>dance</td>\n",
       "      <td>Saint-Petersburg</td>\n",
       "      <td>21:20:49</td>\n",
       "      <td>Wednesday</td>\n",
       "    </tr>\n",
       "  </tbody>\n",
       "</table>\n",
       "</div>"
      ],
      "text/plain": [
       "     userID                        Track            artist   genre  \\\n",
       "0  FFB692EC            Kamigata To Boots  The Mass Missile    rock   \n",
       "1  55204538  Delayed Because of Accident  Andreas Rönnberg    rock   \n",
       "2    20EC38            Funiculì funiculà       Mario Lanza     pop   \n",
       "3  A3DD03C9        Dragons in the Sunset        Fire + Ice    folk   \n",
       "4  E2DC1FAE                  Soul People        Space Echo   dance   \n",
       "5  842029A1                    Преданная         IMPERVTOR  rusrap   \n",
       "6  4CB90AA5                         True      Roman Messer   dance   \n",
       "7  F03E1C1F             Feeling This Way   Polina Griffith   dance   \n",
       "8  8FA1D3BE     И вновь продолжается бой               NaN  ruspop   \n",
       "9  E772D5C0                    Pessimist               NaN   dance   \n",
       "\n",
       "             City        time        Day  \n",
       "0  Saint-Petersburg  20:28:33  Wednesday  \n",
       "1            Moscow  14:07:09     Friday  \n",
       "2  Saint-Petersburg  20:58:07  Wednesday  \n",
       "3  Saint-Petersburg  08:37:09     Monday  \n",
       "4            Moscow  08:34:34     Monday  \n",
       "5  Saint-Petersburg  13:09:41     Friday  \n",
       "6            Moscow  13:00:07  Wednesday  \n",
       "7            Moscow  20:47:49  Wednesday  \n",
       "8            Moscow  09:17:40     Friday  \n",
       "9  Saint-Petersburg  21:20:49  Wednesday  "
      ]
     },
     "execution_count": 199,
     "metadata": {},
     "output_type": "execute_result"
    }
   ],
   "source": [
    "df.head(10)# получение первых 10 строк таблицы df"
   ]
  },
  {
   "cell_type": "code",
   "execution_count": 200,
   "metadata": {
    "deletable": false,
    "id": "DSf2kIb-_Zct",
    "scrolled": false
   },
   "outputs": [
    {
     "name": "stdout",
     "output_type": "stream",
     "text": [
      "<class 'pandas.core.frame.DataFrame'>\n",
      "RangeIndex: 65079 entries, 0 to 65078\n",
      "Data columns (total 7 columns):\n",
      " #   Column    Non-Null Count  Dtype \n",
      "---  ------    --------------  ----- \n",
      " 0     userID  65079 non-null  object\n",
      " 1   Track     63848 non-null  object\n",
      " 2   artist    57876 non-null  object\n",
      " 3   genre     63881 non-null  object\n",
      " 4     City    65079 non-null  object\n",
      " 5   time      65079 non-null  object\n",
      " 6   Day       65079 non-null  object\n",
      "dtypes: object(7)\n",
      "memory usage: 3.5+ MB\n"
     ]
    }
   ],
   "source": [
    "df.info()# получение общей информации о данных в таблице df"
   ]
  },
  {
   "cell_type": "markdown",
   "metadata": {},
   "source": [
    "Итак, в таблице семь столбцов. Тип данных во всех столбцах — object.\n",
    "\n",
    "Согласно документации к данным:\n",
    "\n",
    "* userID — идентификатор пользователя;\n",
    "* Track — название трека;\n",
    "* artist — имя исполнителя;\n",
    "* genre — название жанра;\n",
    "* City — город пользователя;\n",
    "* time — время начала прослушивания;\n",
    "* Day — день недели.\n",
    "\n",
    "В названиях колонок видны три нарушения стиля:\n",
    "\n",
    "1. Строчные буквы сочетаются с прописными.\n",
    "2. Встречаются пробелы.\n",
    "3. Слитное написание двух слов вместо \"змеиного_регистра\".\n",
    "\n",
    "Количество значений в столбцах различается. Значит, в данных есть пропущенные значения.\n",
    "\n",
    "**Выводы**\n",
    "\n",
    "В каждой строке таблицы — данные о прослушанном треке. Часть колонок описывает саму композицию: название, исполнителя и жанр. Остальные данные рассказывают о пользователе: из какого он города, когда он слушал музыку.\n",
    "\n",
    "Предварительно можно утверждать, что, данных достаточно для проверки гипотез. Но встречаются пропуски в данных, а в названиях колонок — расхождения с хорошим стилем.\n",
    "\n",
    "Чтобы двигаться дальше, нужно устранить проблемы в данных."
   ]
  },
  {
   "cell_type": "markdown",
   "metadata": {
    "id": "SjYF6Ub9_Zct"
   },
   "source": [
    "## Предобработка данных"
   ]
  },
  {
   "cell_type": "code",
   "execution_count": 202,
   "metadata": {
    "deletable": false,
    "id": "oKOTdF_Q_Zct"
   },
   "outputs": [
    {
     "data": {
      "text/plain": [
       "Index(['  userID', 'Track', 'artist', 'genre', '  City  ', 'time', 'Day'], dtype='object')"
      ]
     },
     "execution_count": 202,
     "metadata": {},
     "output_type": "execute_result"
    }
   ],
   "source": [
    "df.columns# перечень названий столбцов таблицы df"
   ]
  },
  {
   "cell_type": "code",
   "execution_count": 203,
   "metadata": {
    "deletable": false,
    "id": "ISlFqs5y_Zct"
   },
   "outputs": [],
   "source": [
    "df = df.rename(\n",
    "    columns={\n",
    "        '  userID': 'user_id',\n",
    "'Track': 'track',\n",
    "'  City  ': 'city',\n",
    "'Day': 'day',\n",
    "    }\n",
    ")# переименование столбцов"
   ]
  },
  {
   "cell_type": "code",
   "execution_count": 204,
   "metadata": {
    "deletable": false,
    "id": "d4NOAmTW_Zct"
   },
   "outputs": [
    {
     "data": {
      "text/plain": [
       "Index(['user_id', 'track', 'artist', 'genre', 'city', 'time', 'day'], dtype='object')"
      ]
     },
     "execution_count": 204,
     "metadata": {},
     "output_type": "execute_result"
    }
   ],
   "source": [
    "df.columns# проверка результатов - перечень названий столбцов"
   ]
  },
  {
   "cell_type": "markdown",
   "metadata": {
    "id": "5ISfbcfY_Zct",
    "tags": [
     "start_task"
    ]
   },
   "source": [
    "### Пропуски значений"
   ]
  },
  {
   "cell_type": "code",
   "execution_count": 205,
   "metadata": {
    "deletable": false,
    "id": "RskX29qr_Zct"
   },
   "outputs": [
    {
     "data": {
      "text/plain": [
       "user_id       0\n",
       "track      1231\n",
       "artist     7203\n",
       "genre      1198\n",
       "city          0\n",
       "time          0\n",
       "day           0\n",
       "dtype: int64"
      ]
     },
     "execution_count": 205,
     "metadata": {},
     "output_type": "execute_result"
    }
   ],
   "source": [
    "df.isna().sum()# подсчёт пропусков"
   ]
  },
  {
   "cell_type": "code",
   "execution_count": 206,
   "metadata": {
    "deletable": false,
    "id": "KplB5qWs_Zct"
   },
   "outputs": [],
   "source": [
    "columns_to_replace = []\n",
    "for x in df:\n",
    "    df['track'] = df['track'].fillna('unknown')\n",
    "    df['artist'] = df['artist'].fillna('unknown')\n",
    "    df['genre'] = df['genre'].fillna('unknown')# перебор названий столбцов в цикле и замена пропущенных значений на 'unknown'"
   ]
  },
  {
   "cell_type": "code",
   "execution_count": 207,
   "metadata": {
    "deletable": false,
    "id": "Tq4nYRX4_Zct"
   },
   "outputs": [
    {
     "data": {
      "text/plain": [
       "user_id    0\n",
       "track      0\n",
       "artist     0\n",
       "genre      0\n",
       "city       0\n",
       "time       0\n",
       "day        0\n",
       "dtype: int64"
      ]
     },
     "execution_count": 207,
     "metadata": {},
     "output_type": "execute_result"
    }
   ],
   "source": [
    "df.isna().sum()# подсчёт пропусков"
   ]
  },
  {
   "cell_type": "markdown",
   "metadata": {
    "id": "BWKRtBJ3_Zct",
    "tags": [
     "start_task"
    ]
   },
   "source": [
    "### Дубликаты"
   ]
  },
  {
   "cell_type": "code",
   "execution_count": 208,
   "metadata": {
    "deletable": false,
    "id": "36eES_S0_Zct"
   },
   "outputs": [
    {
     "data": {
      "text/plain": [
       "3826"
      ]
     },
     "execution_count": 208,
     "metadata": {},
     "output_type": "execute_result"
    }
   ],
   "source": [
    "df.duplicated().sum()# подсчёт явных дубликатов"
   ]
  },
  {
   "cell_type": "code",
   "execution_count": 209,
   "metadata": {
    "deletable": false,
    "id": "exFHq6tt_Zct"
   },
   "outputs": [],
   "source": [
    "df = df.drop_duplicates()# удаление явных дубликатов"
   ]
  },
  {
   "cell_type": "code",
   "execution_count": 210,
   "metadata": {
    "deletable": false,
    "id": "-8PuNWQ0_Zct"
   },
   "outputs": [
    {
     "data": {
      "text/plain": [
       "0"
      ]
     },
     "execution_count": 210,
     "metadata": {},
     "output_type": "execute_result"
    }
   ],
   "source": [
    "df.duplicated().sum()# проверка на отсутствие дубликатов"
   ]
  },
  {
   "cell_type": "code",
   "execution_count": 211,
   "metadata": {
    "deletable": false,
    "id": "JIUcqzZN_Zct"
   },
   "outputs": [
    {
     "data": {
      "text/plain": [
       "array(['acid', 'acoustic', 'action', 'adult', 'africa', 'afrikaans',\n",
       "       'alternative', 'alternativepunk', 'ambient', 'americana',\n",
       "       'animated', 'anime', 'arabesk', 'arabic', 'arena',\n",
       "       'argentinetango', 'art', 'audiobook', 'author', 'avantgarde',\n",
       "       'axé', 'baile', 'balkan', 'beats', 'bigroom', 'black', 'bluegrass',\n",
       "       'blues', 'bollywood', 'bossa', 'brazilian', 'breakbeat', 'breaks',\n",
       "       'broadway', 'cantautori', 'cantopop', 'canzone', 'caribbean',\n",
       "       'caucasian', 'celtic', 'chamber', 'chanson', 'children', 'chill',\n",
       "       'chinese', 'choral', 'christian', 'christmas', 'classical',\n",
       "       'classicmetal', 'club', 'colombian', 'comedy', 'conjazz',\n",
       "       'contemporary', 'country', 'cuban', 'dance', 'dancehall',\n",
       "       'dancepop', 'dark', 'death', 'deep', 'deutschrock', 'deutschspr',\n",
       "       'dirty', 'disco', 'dnb', 'documentary', 'downbeat', 'downtempo',\n",
       "       'drum', 'dub', 'dubstep', 'eastern', 'easy', 'electronic',\n",
       "       'electropop', 'emo', 'entehno', 'epicmetal', 'estrada', 'ethnic',\n",
       "       'eurofolk', 'european', 'experimental', 'extrememetal', 'fado',\n",
       "       'fairytail', 'film', 'fitness', 'flamenco', 'folk', 'folklore',\n",
       "       'folkmetal', 'folkrock', 'folktronica', 'forró', 'frankreich',\n",
       "       'französisch', 'french', 'funk', 'future', 'gangsta', 'garage',\n",
       "       'german', 'ghazal', 'gitarre', 'glitch', 'gospel', 'gothic',\n",
       "       'grime', 'grunge', 'gypsy', 'handsup', \"hard'n'heavy\", 'hardcore',\n",
       "       'hardstyle', 'hardtechno', 'hip', 'hip-hop', 'hiphop',\n",
       "       'historisch', 'holiday', 'hop', 'horror', 'house', 'hymn', 'idm',\n",
       "       'independent', 'indian', 'indie', 'indipop', 'industrial',\n",
       "       'inspirational', 'instrumental', 'international', 'irish', 'jam',\n",
       "       'japanese', 'jazz', 'jewish', 'jpop', 'jungle', 'k-pop',\n",
       "       'karadeniz', 'karaoke', 'kayokyoku', 'korean', 'laiko', 'latin',\n",
       "       'latino', 'leftfield', 'local', 'lounge', 'loungeelectronic',\n",
       "       'lovers', 'malaysian', 'mandopop', 'marschmusik', 'meditative',\n",
       "       'mediterranean', 'melodic', 'metal', 'metalcore', 'mexican',\n",
       "       'middle', 'minimal', 'miscellaneous', 'modern', 'mood', 'mpb',\n",
       "       'muslim', 'native', 'neoklassik', 'neue', 'new', 'newage',\n",
       "       'newwave', 'nu', 'nujazz', 'numetal', 'oceania', 'old', 'opera',\n",
       "       'orchestral', 'other', 'piano', 'podcasts', 'pop', 'popdance',\n",
       "       'popelectronic', 'popeurodance', 'poprussian', 'post',\n",
       "       'posthardcore', 'postrock', 'power', 'progmetal', 'progressive',\n",
       "       'psychedelic', 'punjabi', 'punk', 'quebecois', 'ragga', 'ram',\n",
       "       'rancheras', 'rap', 'rave', 'reggae', 'reggaeton', 'regional',\n",
       "       'relax', 'religious', 'retro', 'rhythm', 'rnb', 'rnr', 'rock',\n",
       "       'rockabilly', 'rockalternative', 'rockindie', 'rockother',\n",
       "       'romance', 'roots', 'ruspop', 'rusrap', 'rusrock', 'russian',\n",
       "       'salsa', 'samba', 'scenic', 'schlager', 'self', 'sertanejo',\n",
       "       'shanson', 'shoegazing', 'showtunes', 'singer', 'ska', 'skarock',\n",
       "       'slow', 'smooth', 'soft', 'soul', 'soulful', 'sound', 'soundtrack',\n",
       "       'southern', 'specialty', 'speech', 'spiritual', 'sport',\n",
       "       'stonerrock', 'surf', 'swing', 'synthpop', 'synthrock',\n",
       "       'sängerportrait', 'tango', 'tanzorchester', 'taraftar', 'tatar',\n",
       "       'tech', 'techno', 'teen', 'thrash', 'top', 'traditional',\n",
       "       'tradjazz', 'trance', 'tribal', 'trip', 'triphop', 'tropical',\n",
       "       'türk', 'türkçe', 'ukrrock', 'unknown', 'urban', 'uzbek',\n",
       "       'variété', 'vi', 'videogame', 'vocal', 'western', 'world',\n",
       "       'worldbeat', 'ïîï', 'электроника'], dtype=object)"
      ]
     },
     "execution_count": 211,
     "metadata": {},
     "output_type": "execute_result"
    }
   ],
   "source": [
    "sorted_series = df.sort_values(by='genre', ascending=True)\n",
    "sorted_series['genre'].unique()# Просмотр уникальных названий жанров"
   ]
  },
  {
   "cell_type": "code",
   "execution_count": 212,
   "metadata": {
    "deletable": false,
    "id": "ErNDkmns_Zct"
   },
   "outputs": [],
   "source": [
    "duplicates = ['hip', 'hop', 'hip-hop']\n",
    "name = 'hiphop'\n",
    "df['genre'] = df['genre'].replace(duplicates, name)# Устранение неявных дубликатов"
   ]
  },
  {
   "cell_type": "code",
   "execution_count": 213,
   "metadata": {
    "deletable": false,
    "id": "wvixALnFG15m"
   },
   "outputs": [
    {
     "data": {
      "text/plain": [
       "array(['acid', 'acoustic', 'action', 'adult', 'africa', 'afrikaans',\n",
       "       'alternative', 'alternativepunk', 'ambient', 'americana',\n",
       "       'animated', 'anime', 'arabesk', 'arabic', 'arena',\n",
       "       'argentinetango', 'art', 'audiobook', 'author', 'avantgarde',\n",
       "       'axé', 'baile', 'balkan', 'beats', 'bigroom', 'black', 'bluegrass',\n",
       "       'blues', 'bollywood', 'bossa', 'brazilian', 'breakbeat', 'breaks',\n",
       "       'broadway', 'cantautori', 'cantopop', 'canzone', 'caribbean',\n",
       "       'caucasian', 'celtic', 'chamber', 'chanson', 'children', 'chill',\n",
       "       'chinese', 'choral', 'christian', 'christmas', 'classical',\n",
       "       'classicmetal', 'club', 'colombian', 'comedy', 'conjazz',\n",
       "       'contemporary', 'country', 'cuban', 'dance', 'dancehall',\n",
       "       'dancepop', 'dark', 'death', 'deep', 'deutschrock', 'deutschspr',\n",
       "       'dirty', 'disco', 'dnb', 'documentary', 'downbeat', 'downtempo',\n",
       "       'drum', 'dub', 'dubstep', 'eastern', 'easy', 'electronic',\n",
       "       'electropop', 'emo', 'entehno', 'epicmetal', 'estrada', 'ethnic',\n",
       "       'eurofolk', 'european', 'experimental', 'extrememetal', 'fado',\n",
       "       'fairytail', 'film', 'fitness', 'flamenco', 'folk', 'folklore',\n",
       "       'folkmetal', 'folkrock', 'folktronica', 'forró', 'frankreich',\n",
       "       'französisch', 'french', 'funk', 'future', 'gangsta', 'garage',\n",
       "       'german', 'ghazal', 'gitarre', 'glitch', 'gospel', 'gothic',\n",
       "       'grime', 'grunge', 'gypsy', 'handsup', \"hard'n'heavy\", 'hardcore',\n",
       "       'hardstyle', 'hardtechno', 'hiphop', 'historisch', 'holiday',\n",
       "       'horror', 'house', 'hymn', 'idm', 'independent', 'indian', 'indie',\n",
       "       'indipop', 'industrial', 'inspirational', 'instrumental',\n",
       "       'international', 'irish', 'jam', 'japanese', 'jazz', 'jewish',\n",
       "       'jpop', 'jungle', 'k-pop', 'karadeniz', 'karaoke', 'kayokyoku',\n",
       "       'korean', 'laiko', 'latin', 'latino', 'leftfield', 'local',\n",
       "       'lounge', 'loungeelectronic', 'lovers', 'malaysian', 'mandopop',\n",
       "       'marschmusik', 'meditative', 'mediterranean', 'melodic', 'metal',\n",
       "       'metalcore', 'mexican', 'middle', 'minimal', 'miscellaneous',\n",
       "       'modern', 'mood', 'mpb', 'muslim', 'native', 'neoklassik', 'neue',\n",
       "       'new', 'newage', 'newwave', 'nu', 'nujazz', 'numetal', 'oceania',\n",
       "       'old', 'opera', 'orchestral', 'other', 'piano', 'podcasts', 'pop',\n",
       "       'popdance', 'popelectronic', 'popeurodance', 'poprussian', 'post',\n",
       "       'posthardcore', 'postrock', 'power', 'progmetal', 'progressive',\n",
       "       'psychedelic', 'punjabi', 'punk', 'quebecois', 'ragga', 'ram',\n",
       "       'rancheras', 'rap', 'rave', 'reggae', 'reggaeton', 'regional',\n",
       "       'relax', 'religious', 'retro', 'rhythm', 'rnb', 'rnr', 'rock',\n",
       "       'rockabilly', 'rockalternative', 'rockindie', 'rockother',\n",
       "       'romance', 'roots', 'ruspop', 'rusrap', 'rusrock', 'russian',\n",
       "       'salsa', 'samba', 'scenic', 'schlager', 'self', 'sertanejo',\n",
       "       'shanson', 'shoegazing', 'showtunes', 'singer', 'ska', 'skarock',\n",
       "       'slow', 'smooth', 'soft', 'soul', 'soulful', 'sound', 'soundtrack',\n",
       "       'southern', 'specialty', 'speech', 'spiritual', 'sport',\n",
       "       'stonerrock', 'surf', 'swing', 'synthpop', 'synthrock',\n",
       "       'sängerportrait', 'tango', 'tanzorchester', 'taraftar', 'tatar',\n",
       "       'tech', 'techno', 'teen', 'thrash', 'top', 'traditional',\n",
       "       'tradjazz', 'trance', 'tribal', 'trip', 'triphop', 'tropical',\n",
       "       'türk', 'türkçe', 'ukrrock', 'unknown', 'urban', 'uzbek',\n",
       "       'variété', 'vi', 'videogame', 'vocal', 'western', 'world',\n",
       "       'worldbeat', 'ïîï', 'электроника'], dtype=object)"
      ]
     },
     "execution_count": 213,
     "metadata": {},
     "output_type": "execute_result"
    }
   ],
   "source": [
    "sorted_series = df.sort_values(by='genre', ascending=True)\n",
    "sorted_series['genre'].unique()# Проверка на неявные дубликаты"
   ]
  },
  {
   "cell_type": "markdown",
   "metadata": {
    "id": "jz6a9-7HQUDd"
   },
   "source": [
    "**Выводы**\n",
    "\n",
    "Предобработка обнаружила три проблемы в данных:\n",
    "\n",
    "- нарушения в стиле заголовков,\n",
    "- пропущенные значения,\n",
    "- дубликаты — явные и неявные."
   ]
  },
  {
   "cell_type": "markdown",
   "metadata": {
    "deletable": false,
    "editable": false,
    "id": "WttZHXH0SqKk"
   },
   "source": [
    "## Проверка гипотез"
   ]
  },
  {
   "cell_type": "markdown",
   "metadata": {
    "deletable": false,
    "editable": false,
    "id": "Im936VVi_Zcu"
   },
   "source": [
    "### Сравнение поведения пользователей двух столиц"
   ]
  },
  {
   "cell_type": "markdown",
   "metadata": {
    "id": "nwt_MuaL_Zcu"
   },
   "source": [
    "Проверка первой гипотезы: пользователи по-разному слушают музыку в Москве и Санкт-Петербурге.\n",
    "\n",
    "Проверим это предположение по данным о трёх днях недели — понедельнике, среде и пятнице"
   ]
  },
  {
   "cell_type": "code",
   "execution_count": 214,
   "metadata": {
    "deletable": false,
    "id": "0_Qs96oh_Zcu"
   },
   "outputs": [
    {
     "name": "stdout",
     "output_type": "stream",
     "text": [
      "city\n",
      "Moscow              42741\n",
      "Saint-Petersburg    18512\n",
      "Name: genre, dtype: int64\n"
     ]
    }
   ],
   "source": [
    "df_count = df.groupby('city')['genre'].count()\n",
    "print(df_count)\n",
    "# Подсчёт прослушиваний в каждом городе"
   ]
  },
  {
   "cell_type": "markdown",
   "metadata": {
    "id": "dzli3w8o_Zcu",
    "tags": [
     "start_task"
    ]
   },
   "source": [
    "В Москве прослушиваний больше, чем в Петербурге. Из этого не следует, что московские пользователи чаще слушают музыку. Просто самих пользователей в Москве больше."
   ]
  },
  {
   "cell_type": "code",
   "execution_count": 215,
   "metadata": {
    "deletable": false,
    "id": "uZMKjiJz_Zcu"
   },
   "outputs": [
    {
     "name": "stdout",
     "output_type": "stream",
     "text": [
      "day\n",
      "Friday       21840\n",
      "Monday       21354\n",
      "Wednesday    18059\n",
      "Name: city, dtype: int64\n"
     ]
    }
   ],
   "source": [
    "df_days = df.groupby('day')['city'].count()\n",
    "print(df_days)# Подсчёт прослушиваний в каждый из трёх дней"
   ]
  },
  {
   "cell_type": "markdown",
   "metadata": {
    "deletable": false,
    "editable": false,
    "id": "cC2tNrlL_Zcu"
   },
   "source": [
    "В среднем пользователи из двух городов менее активны по средам. Но картина может измениться, если рассмотреть каждый город в отдельности."
   ]
  },
  {
   "cell_type": "code",
   "execution_count": 216,
   "metadata": {
    "deletable": false,
    "id": "Nz3GdQB1_Zcu"
   },
   "outputs": [],
   "source": [
    "def number_tracks(day, city):# <создание функции number_tracks()>\n",
    "    # Объявляется функция с двумя параметрами: day, city.\n",
    "    track_list = df[df['day'] == day]\n",
    "    track_list = track_list[track_list['city'] == city]\n",
    "    track_list_count = track_list['user_id'].count()\n",
    "    return track_list_count\n",
    "# В переменной track_list сохраняются те строки таблицы df, для которых \n",
    "# значение в столбце 'day' равно параметру day и одновременно значение\n",
    "# в столбце 'city' равно параметру city (используйте последовательную фильтрацию\n",
    "# с помощью логической индексации или сложные логические выражения в одну строку, если вы уже знакомы с ними).\n",
    "# В переменной track_list_count сохраняется число значений столбца 'user_id',\n",
    "# рассчитанное методом count() для таблицы track_list.\n",
    "# Функция возвращает число - значение track_list_count.\n",
    "\n",
    "# Функция для подсчёта прослушиваний для конкретного города и дня.\n",
    "# С помощью последовательной фильтрации с логической индексацией она \n",
    "# сначала получит из исходной таблицы строки с нужным днём,\n",
    "# затем из результата отфильтрует строки с нужным городом,\n",
    "# методом count() посчитает количество значений в колонке user_id. \n",
    "# Это количество функция вернёт в качестве результата"
   ]
  },
  {
   "cell_type": "code",
   "execution_count": 217,
   "metadata": {
    "deletable": false,
    "id": "rJcRATNQ_Zcu"
   },
   "outputs": [
    {
     "data": {
      "text/plain": [
       "15740"
      ]
     },
     "execution_count": 217,
     "metadata": {},
     "output_type": "execute_result"
    }
   ],
   "source": [
    "number_tracks(day='Monday', city='Moscow')# количество прослушиваний в Москве по понедельникам"
   ]
  },
  {
   "cell_type": "code",
   "execution_count": 218,
   "metadata": {
    "deletable": false,
    "id": "hq_ncZ5T_Zcu"
   },
   "outputs": [
    {
     "data": {
      "text/plain": [
       "5614"
      ]
     },
     "execution_count": 218,
     "metadata": {},
     "output_type": "execute_result"
    }
   ],
   "source": [
    "number_tracks(day='Monday', city='Saint-Petersburg')# количество прослушиваний в Санкт-Петербурге по понедельникам"
   ]
  },
  {
   "cell_type": "code",
   "execution_count": 219,
   "metadata": {
    "deletable": false,
    "id": "_NTy2VPU_Zcu"
   },
   "outputs": [
    {
     "data": {
      "text/plain": [
       "11056"
      ]
     },
     "execution_count": 219,
     "metadata": {},
     "output_type": "execute_result"
    }
   ],
   "source": [
    "number_tracks(day='Wednesday', city='Moscow')# количество прослушиваний в Москве по средам"
   ]
  },
  {
   "cell_type": "code",
   "execution_count": 220,
   "metadata": {
    "deletable": false,
    "id": "j2y3TAwo_Zcu"
   },
   "outputs": [
    {
     "data": {
      "text/plain": [
       "7003"
      ]
     },
     "execution_count": 220,
     "metadata": {},
     "output_type": "execute_result"
    }
   ],
   "source": [
    "number_tracks(day='Wednesday', city='Saint-Petersburg')# количество прослушиваний в Санкт-Петербурге по средам"
   ]
  },
  {
   "cell_type": "code",
   "execution_count": 221,
   "metadata": {
    "deletable": false,
    "id": "vYDw5u_K_Zcu"
   },
   "outputs": [
    {
     "data": {
      "text/plain": [
       "15945"
      ]
     },
     "execution_count": 221,
     "metadata": {},
     "output_type": "execute_result"
    }
   ],
   "source": [
    "number_tracks(day='Friday', city='Moscow')# количество прослушиваний в Москве по пятницам"
   ]
  },
  {
   "cell_type": "code",
   "execution_count": 222,
   "metadata": {
    "deletable": false,
    "id": "8_yzFtW3_Zcu"
   },
   "outputs": [
    {
     "data": {
      "text/plain": [
       "5895"
      ]
     },
     "execution_count": 222,
     "metadata": {},
     "output_type": "execute_result"
    }
   ],
   "source": [
    "number_tracks(day='Friday', city='Saint-Petersburg')# количество прослушиваний в Санкт-Петербурге по пятницам"
   ]
  },
  {
   "cell_type": "code",
   "execution_count": 223,
   "metadata": {
    "deletable": false,
    "id": "APAcLpOr_Zcu"
   },
   "outputs": [
    {
     "name": "stdout",
     "output_type": "stream",
     "text": [
      "<class 'pandas.core.frame.DataFrame'>\n",
      "Int64Index: 61253 entries, 0 to 65078\n",
      "Data columns (total 7 columns):\n",
      " #   Column   Non-Null Count  Dtype \n",
      "---  ------   --------------  ----- \n",
      " 0   user_id  61253 non-null  object\n",
      " 1   track    61253 non-null  object\n",
      " 2   artist   61253 non-null  object\n",
      " 3   genre    61253 non-null  object\n",
      " 4   city     61253 non-null  object\n",
      " 5   time     61253 non-null  object\n",
      " 6   day      61253 non-null  object\n",
      "dtypes: object(7)\n",
      "memory usage: 3.7+ MB\n"
     ]
    }
   ],
   "source": [
    "import pandas as pd\n",
    "\n",
    "entries = ['city', 'monday', 'wednesday', 'friday']\n",
    "info = pd.DataFrame(data=[['Москва', 15740, 11056, 15648], ['Санкт-Петербург', 5614, 7003, 5895]], columns=entries)\n",
    "df.info()# Таблица с результатами"
   ]
  },
  {
   "cell_type": "markdown",
   "metadata": {
    "deletable": false,
    "editable": false,
    "id": "-EgPIHYu_Zcu"
   },
   "source": [
    "**Выводы**\n",
    "\n",
    "Данные показывают разницу поведения пользователей:\n",
    "\n",
    "- В Москве пик прослушиваний приходится на понедельник и пятницу, а в среду заметен спад.\n",
    "- В Петербурге, наоборот, больше слушают музыку по средам. Активность в понедельник и пятницу здесь почти в равной мере уступает среде.\n",
    "\n",
    "Значит, данные говорят в пользу первой гипотезы."
   ]
  },
  {
   "cell_type": "markdown",
   "metadata": {
    "deletable": false,
    "editable": false,
    "id": "atZAxtq4_Zcu"
   },
   "source": [
    "### Музыка в начале и в конце недели"
   ]
  },
  {
   "cell_type": "markdown",
   "metadata": {
    "deletable": false,
    "editable": false,
    "id": "eXrQqXFH_Zcu"
   },
   "source": [
    "Согласно второй гипотезе, утром в понедельник в Москве преобладают одни жанры, а в Петербурге — другие. Так же и вечером пятницы преобладают разные жанры — в зависимости от города."
   ]
  },
  {
   "cell_type": "code",
   "execution_count": 224,
   "metadata": {
    "deletable": false,
    "id": "qeaFfM_P_Zcu"
   },
   "outputs": [],
   "source": [
    "moscow_general = df[df['city'] == 'Moscow']# получение таблицы moscow_general из тех строк таблицы df, \n",
    "# для которых значение в столбце 'city' равно 'Moscow'\n"
   ]
  },
  {
   "cell_type": "code",
   "execution_count": 225,
   "metadata": {
    "deletable": false,
    "id": "ORaVRKto_Zcu"
   },
   "outputs": [],
   "source": [
    "spb_general = df[df['city'] == 'Saint-Petersburg']# получение таблицы spb_general из тех строк таблицы df,\n",
    "# для которых значение в столбце 'city' равно 'Saint-Petersburg'\n"
   ]
  },
  {
   "cell_type": "code",
   "execution_count": 226,
   "metadata": {
    "deletable": false,
    "id": "laJT9BYl_Zcu"
   },
   "outputs": [],
   "source": [
    "# Объявление функции genre_weekday() с параметрами table, day, time1, time2,\n",
    "# которая возвращает информацию о самых популярных жанрах в указанный день в\n",
    "# заданное время:\n",
    "# 1) в переменную genre_df сохраняются те строки переданного датафрейма table, для\n",
    "#    которых одновременно:\n",
    "#    - значение в столбце day равно значению аргумента day\n",
    "#    - значение в столбце time больше значения аргумента time1\n",
    "#    - значение в столбце time меньше значения аргумента time2\n",
    "#    Используйте последовательную фильтрацию с помощью логической индексации.\n",
    "# 2) сгруппировать датафрейм genre_df по столбцу genre, взять один из его\n",
    "#    столбцов и посчитать методом count() количество записей для каждого из\n",
    "#    присутствующих жанров, получившийся Series записать в переменную\n",
    "#    genre_df_count\n",
    "# 3) отсортировать genre_df_count по убыванию встречаемости и сохранить\n",
    "#    в переменную genre_df_sorted\n",
    "# 4) вернуть Series из 10 первых значений genre_df_sorted, это будут топ-10\n",
    "#    популярных жанров (в указанный день, в заданное время)\n",
    "\n",
    "def genre_weekday(df, day, time1, time2):\n",
    "    # последовательная фильтрация\n",
    "    # оставляем в genre_df только те строки df, у которых день равен day\n",
    "    genre_df = df[df['day'] == day]# ваш код здесь\n",
    "    # оставляем в genre_df только те строки genre_df, у которых время меньше time2\n",
    "    genre_df = genre_df[genre_df['time'] < time2]# ваш код здесь\n",
    "    # оставляем в genre_df только те строки genre_df, у которых время больше time1\n",
    "    genre_df = genre_df[genre_df['time'] > time1]# ваш код здесь\n",
    "    # сгруппируем отфильтрованный датафрейм по столбцу с названиями жанров, возьмём столбец genre и посчитаем кол-во строк для каждого жанра методом count()\n",
    "    genre_df_grouped = genre_df.groupby('genre')['genre'].count()# ваш код здесь\n",
    "    # отсортируем результат по убыванию (чтобы в начале Series оказались самые популярные жанры)\n",
    "    genre_df_sorted = genre_df_grouped.sort_values(ascending=False)# ваш код здесь\n",
    "    # вернём Series с 10 самыми популярными жанрами в указанный отрезок времени заданного дня\n",
    "    return genre_df_sorted[:10]"
   ]
  },
  {
   "cell_type": "code",
   "execution_count": 227,
   "metadata": {
    "deletable": false,
    "id": "yz7itPUQ_Zcu"
   },
   "outputs": [
    {
     "data": {
      "text/plain": [
       "genre\n",
       "pop            781\n",
       "dance          549\n",
       "electronic     480\n",
       "rock           474\n",
       "hiphop         286\n",
       "ruspop         186\n",
       "world          181\n",
       "rusrap         175\n",
       "alternative    164\n",
       "unknown        161\n",
       "Name: genre, dtype: int64"
      ]
     },
     "execution_count": 227,
     "metadata": {},
     "output_type": "execute_result"
    }
   ],
   "source": [
    "genre_weekday(moscow_general, 'Monday', '07:00', '11:00')# вызов функции для утра понедельника в Москве (вместо df — таблица moscow_general)\n",
    "# объекты, хранящие время, являются строками и сравниваются как строки\n",
    "# пример вызова: genre_weekday(moscow_general, 'Monday', '07:00', '11:00')"
   ]
  },
  {
   "cell_type": "code",
   "execution_count": 228,
   "metadata": {
    "deletable": false,
    "id": "kwUcHPdy_Zcu"
   },
   "outputs": [
    {
     "data": {
      "text/plain": [
       "genre\n",
       "pop            218\n",
       "dance          182\n",
       "rock           162\n",
       "electronic     147\n",
       "hiphop          80\n",
       "ruspop          64\n",
       "alternative     58\n",
       "rusrap          55\n",
       "jazz            44\n",
       "classical       40\n",
       "Name: genre, dtype: int64"
      ]
     },
     "execution_count": 228,
     "metadata": {},
     "output_type": "execute_result"
    }
   ],
   "source": [
    "genre_weekday(spb_general, 'Monday', '07:00', '11:00')\n",
    "# вызов функции для утра понедельника в Петербурге (вместо df — таблица spb_general)"
   ]
  },
  {
   "cell_type": "code",
   "execution_count": 229,
   "metadata": {
    "deletable": false,
    "id": "EzXVRE1o_Zcu"
   },
   "outputs": [
    {
     "data": {
      "text/plain": [
       "genre\n",
       "pop            713\n",
       "rock           517\n",
       "dance          495\n",
       "electronic     482\n",
       "hiphop         273\n",
       "world          208\n",
       "ruspop         170\n",
       "alternative    163\n",
       "classical      163\n",
       "rusrap         142\n",
       "Name: genre, dtype: int64"
      ]
     },
     "execution_count": 229,
     "metadata": {},
     "output_type": "execute_result"
    }
   ],
   "source": [
    "genre_weekday(moscow_general, 'Friday', '17:00', '23:00')# вызов функции для вечера пятницы в Москве"
   ]
  },
  {
   "cell_type": "code",
   "execution_count": 230,
   "metadata": {
    "deletable": false,
    "id": "JZaEKu5v_Zcu"
   },
   "outputs": [
    {
     "data": {
      "text/plain": [
       "genre\n",
       "pop            256\n",
       "electronic     216\n",
       "rock           216\n",
       "dance          210\n",
       "hiphop          97\n",
       "alternative     63\n",
       "jazz            61\n",
       "classical       60\n",
       "rusrap          59\n",
       "world           54\n",
       "Name: genre, dtype: int64"
      ]
     },
     "execution_count": 230,
     "metadata": {},
     "output_type": "execute_result"
    }
   ],
   "source": [
    "genre_weekday(spb_general, 'Friday', '17:00', '23:00')# вызов функции для вечера пятницы в Петербурге"
   ]
  },
  {
   "cell_type": "markdown",
   "metadata": {
    "deletable": false,
    "editable": false,
    "id": "wrCe4MNX_Zcu"
   },
   "source": [
    "**Выводы**\n",
    "\n",
    "Если сравнить топ-10 жанров в понедельник утром, можно сделать такие выводы:\n",
    "\n",
    "1. В Москве и Петербурге слушают похожую музыку. Единственное отличие — в московский рейтинг вошёл жанр “world”, а в петербургский — джаз и классика.\n",
    "\n",
    "2. В Москве пропущенных значений оказалось так много, что значение `'unknown'` заняло десятое место среди самых популярных жанров. Значит, пропущенные значения занимают существенную долю в данных и угрожают достоверности исследования.\n",
    "\n",
    "Вечер пятницы не меняет эту картину. Некоторые жанры поднимаются немного выше, другие спускаются, но в целом топ-10 остаётся тем же самым.\n",
    "\n",
    "Таким образом, вторая гипотеза подтвердилась лишь частично:\n",
    "* Пользователи слушают похожую музыку в начале недели и в конце.\n",
    "* Разница между Москвой и Петербургом не слишком выражена. В Москве чаще слушают русскую популярную музыку, в Петербурге — джаз.\n",
    "\n",
    "Однако пропуски в данных ставят под сомнение этот результат. В Москве их так много, что рейтинг топ-10 мог бы выглядеть иначе, если бы не утерянные  данные о жанрах."
   ]
  },
  {
   "cell_type": "markdown",
   "metadata": {
    "deletable": false,
    "editable": false,
    "id": "JolODAqr_Zcu"
   },
   "source": [
    "### Жанровые предпочтения в Москве и Петербурге\n",
    "\n",
    "Гипотеза: Петербург — столица рэпа, музыку этого жанра там слушают чаще, чем в Москве.  А Москва — город контрастов, в котором, тем не менее, преобладает поп-музыка."
   ]
  },
  {
   "cell_type": "code",
   "execution_count": 231,
   "metadata": {
    "deletable": false,
    "id": "r19lIPke_Zcu"
   },
   "outputs": [],
   "source": [
    "moscow_genres_sum = moscow_general.groupby('genre')['genre'].count()# одной строкой: группировка таблицы moscow_general по столбцу 'genre', \n",
    "# подсчёт числа значений 'genre' в этой группировке методом count(), \n",
    "moscow_genres = moscow_genres_sum.sort_values(ascending=False)# сортировка получившегося Series в порядке убывания и сохранение в moscow_genres"
   ]
  },
  {
   "cell_type": "code",
   "execution_count": 232,
   "metadata": {
    "deletable": false,
    "id": "WhCSooF8_Zcv"
   },
   "outputs": [
    {
     "data": {
      "text/plain": [
       "genre\n",
       "pop            5892\n",
       "dance          4435\n",
       "rock           3965\n",
       "electronic     3786\n",
       "hiphop         2096\n",
       "classical      1616\n",
       "world          1432\n",
       "alternative    1379\n",
       "ruspop         1372\n",
       "rusrap         1161\n",
       "Name: genre, dtype: int64"
      ]
     },
     "execution_count": 232,
     "metadata": {},
     "output_type": "execute_result"
    }
   ],
   "source": [
    "moscow_genres.head(10)# просмотр первых 10 строк moscow_genres"
   ]
  },
  {
   "cell_type": "code",
   "execution_count": 233,
   "metadata": {
    "deletable": false,
    "id": "gluLIpE7_Zcv"
   },
   "outputs": [],
   "source": [
    "spb_genres_sum = spb_general.groupby('genre')['genre'].count()# одной строкой: группировка таблицы spb_general по столбцу 'genre', \n",
    "# подсчёт числа значений 'genre' в этой группировке методом count(), \n",
    "spb_genres = spb_genres_sum.sort_values(ascending=False)# сортировка получившегося Series в порядке убывания и сохранение в spb_genres"
   ]
  },
  {
   "cell_type": "code",
   "execution_count": 234,
   "metadata": {
    "deletable": false,
    "id": "uaGJHjVU_Zcv"
   },
   "outputs": [
    {
     "data": {
      "text/plain": [
       "genre\n",
       "pop            2431\n",
       "dance          1932\n",
       "rock           1879\n",
       "electronic     1736\n",
       "hiphop          960\n",
       "alternative     649\n",
       "classical       646\n",
       "rusrap          564\n",
       "ruspop          538\n",
       "world           515\n",
       "Name: genre, dtype: int64"
      ]
     },
     "execution_count": 234,
     "metadata": {},
     "output_type": "execute_result"
    }
   ],
   "source": [
    "spb_genres.head(10) # просмотр первых 10 строк spb_genres"
   ]
  },
  {
   "cell_type": "markdown",
   "metadata": {
    "deletable": false,
    "editable": false,
    "id": "RY51YJYu_Zcv"
   },
   "source": [
    "**Выводы**"
   ]
  },
  {
   "cell_type": "markdown",
   "metadata": {
    "deletable": false,
    "editable": false,
    "id": "nVhnJEm__Zcv"
   },
   "source": [
    "Гипотеза частично подтвердилась:\n",
    "* Поп-музыка — самый популярный жанр в Москве, как и предполагала гипотеза. Более того, в топ-10 жанров встречается близкий жанр — русская популярная музыка.\n",
    "* Вопреки ожиданиям, рэп одинаково популярен в Москве и Петербурге. \n"
   ]
  },
  {
   "cell_type": "markdown",
   "metadata": {
    "deletable": false,
    "editable": false,
    "id": "ykKQ0N65_Zcv"
   },
   "source": [
    "## Итоги исследования"
   ]
  },
  {
   "cell_type": "markdown",
   "metadata": {
    "id": "tjUwbHb3_Zcv"
   },
   "source": [
    "Вы проверили три гипотезы и установили:\n",
    "\n",
    "1. День недели по-разному влияет на активность пользователей в Москве и Петербурге. \n",
    "\n",
    "Первая гипотеза полностью подтвердилась.\n",
    "\n",
    "2. Музыкальные предпочтения не сильно меняются в течение недели — будь то Москва или Петербург. Небольшие различия заметны в начале недели, по понедельникам:\n",
    "* в Москве слушают музыку жанра “world”,\n",
    "* в Петербурге — джаз и классику.\n",
    "\n",
    "Таким образом, вторая гипотеза подтвердилась лишь отчасти. Этот результат мог оказаться иным, если бы не пропуски в данных.\n",
    "\n",
    "3. Во вкусах пользователей Москвы и Петербурга больше общего чем различий. Вопреки ожиданиям, предпочтения жанров в Петербурге напоминают московские.\n",
    "\n",
    "Третья гипотеза не подтвердилась. Если различия в предпочтениях и существуют, на основной массе пользователей они незаметны."
   ]
  }
 ],
 "metadata": {
  "ExecuteTimeLog": [
   {
    "duration": 47,
    "start_time": "2022-10-29T06:48:37.083Z"
   },
   {
    "duration": 8,
    "start_time": "2022-10-29T06:50:01.635Z"
   },
   {
    "duration": 43,
    "start_time": "2022-10-29T06:50:21.534Z"
   },
   {
    "duration": 395,
    "start_time": "2022-10-29T06:50:54.764Z"
   },
   {
    "duration": 406,
    "start_time": "2022-10-29T06:51:16.877Z"
   },
   {
    "duration": 452,
    "start_time": "2022-10-29T06:51:19.093Z"
   },
   {
    "duration": 151,
    "start_time": "2022-10-29T06:51:29.806Z"
   },
   {
    "duration": 3,
    "start_time": "2022-10-29T06:51:32.488Z"
   },
   {
    "duration": 3,
    "start_time": "2022-10-29T06:51:36.365Z"
   },
   {
    "duration": 155,
    "start_time": "2022-10-29T06:51:37.850Z"
   },
   {
    "duration": 3,
    "start_time": "2022-10-29T06:51:46.427Z"
   },
   {
    "duration": 160,
    "start_time": "2022-10-29T06:51:47.752Z"
   },
   {
    "duration": 2,
    "start_time": "2022-10-29T06:51:53.647Z"
   },
   {
    "duration": 157,
    "start_time": "2022-10-29T06:51:53.658Z"
   },
   {
    "duration": 3,
    "start_time": "2022-10-29T06:51:53.817Z"
   },
   {
    "duration": 10,
    "start_time": "2022-10-29T06:51:53.821Z"
   },
   {
    "duration": 11,
    "start_time": "2022-10-29T06:51:53.833Z"
   },
   {
    "duration": 8,
    "start_time": "2022-10-29T06:51:53.845Z"
   },
   {
    "duration": 9,
    "start_time": "2022-10-29T06:51:53.854Z"
   },
   {
    "duration": 6,
    "start_time": "2022-10-29T06:51:53.865Z"
   },
   {
    "duration": 8,
    "start_time": "2022-10-29T06:51:53.872Z"
   },
   {
    "duration": 7,
    "start_time": "2022-10-29T06:51:53.881Z"
   },
   {
    "duration": 2,
    "start_time": "2022-10-29T06:51:53.890Z"
   },
   {
    "duration": 5,
    "start_time": "2022-10-29T06:51:53.894Z"
   },
   {
    "duration": 5,
    "start_time": "2022-10-29T06:51:53.900Z"
   },
   {
    "duration": 3,
    "start_time": "2022-10-29T06:51:53.906Z"
   },
   {
    "duration": 4,
    "start_time": "2022-10-29T06:51:53.911Z"
   },
   {
    "duration": 5,
    "start_time": "2022-10-29T06:51:53.916Z"
   },
   {
    "duration": 5,
    "start_time": "2022-10-29T06:51:53.922Z"
   },
   {
    "duration": 3,
    "start_time": "2022-10-29T06:51:53.929Z"
   },
   {
    "duration": 3,
    "start_time": "2022-10-29T06:51:53.934Z"
   },
   {
    "duration": 5,
    "start_time": "2022-10-29T06:51:53.938Z"
   },
   {
    "duration": 7,
    "start_time": "2022-10-29T06:51:53.945Z"
   },
   {
    "duration": 4,
    "start_time": "2022-10-29T06:51:53.953Z"
   },
   {
    "duration": 16,
    "start_time": "2022-10-29T06:51:53.959Z"
   },
   {
    "duration": 14,
    "start_time": "2022-10-29T06:51:53.977Z"
   },
   {
    "duration": 7,
    "start_time": "2022-10-29T06:51:53.992Z"
   },
   {
    "duration": 4,
    "start_time": "2022-10-29T06:51:54.000Z"
   },
   {
    "duration": 4,
    "start_time": "2022-10-29T06:51:54.005Z"
   },
   {
    "duration": 5,
    "start_time": "2022-10-29T06:51:54.011Z"
   },
   {
    "duration": 6,
    "start_time": "2022-10-29T06:51:54.018Z"
   },
   {
    "duration": 83,
    "start_time": "2022-10-29T06:51:54.026Z"
   },
   {
    "duration": 0,
    "start_time": "2022-10-29T06:51:54.112Z"
   },
   {
    "duration": 0,
    "start_time": "2022-10-29T06:51:54.113Z"
   },
   {
    "duration": 0,
    "start_time": "2022-10-29T06:51:54.114Z"
   },
   {
    "duration": 0,
    "start_time": "2022-10-29T06:51:54.116Z"
   },
   {
    "duration": 0,
    "start_time": "2022-10-29T06:51:54.117Z"
   },
   {
    "duration": 0,
    "start_time": "2022-10-29T06:51:54.119Z"
   },
   {
    "duration": 0,
    "start_time": "2022-10-29T06:51:54.120Z"
   },
   {
    "duration": 0,
    "start_time": "2022-10-29T06:51:54.122Z"
   },
   {
    "duration": 344,
    "start_time": "2022-10-29T06:52:04.042Z"
   },
   {
    "duration": 159,
    "start_time": "2022-10-29T06:52:05.332Z"
   },
   {
    "duration": 60,
    "start_time": "2022-10-29T06:52:39.528Z"
   },
   {
    "duration": 9,
    "start_time": "2022-10-29T06:52:49.941Z"
   },
   {
    "duration": 28,
    "start_time": "2022-10-29T06:59:29.313Z"
   },
   {
    "duration": 16,
    "start_time": "2022-10-29T07:35:25.592Z"
   },
   {
    "duration": 14,
    "start_time": "2022-10-29T07:35:47.697Z"
   },
   {
    "duration": 13,
    "start_time": "2022-10-29T07:36:25.473Z"
   },
   {
    "duration": 4,
    "start_time": "2022-10-29T07:37:35.059Z"
   },
   {
    "duration": 11,
    "start_time": "2022-10-29T07:40:42.631Z"
   },
   {
    "duration": 41,
    "start_time": "2022-10-29T07:41:02.549Z"
   },
   {
    "duration": 4,
    "start_time": "2022-10-29T07:41:18.927Z"
   },
   {
    "duration": 71,
    "start_time": "2022-10-29T07:42:05.711Z"
   },
   {
    "duration": 22,
    "start_time": "2022-10-29T07:42:13.206Z"
   },
   {
    "duration": 106,
    "start_time": "2022-10-29T07:52:33.195Z"
   },
   {
    "duration": 24,
    "start_time": "2022-10-29T07:53:58.470Z"
   },
   {
    "duration": 69,
    "start_time": "2022-10-29T07:54:27.737Z"
   },
   {
    "duration": 52,
    "start_time": "2022-10-29T07:55:14.898Z"
   },
   {
    "duration": 380,
    "start_time": "2022-10-29T07:55:25.156Z"
   },
   {
    "duration": 153,
    "start_time": "2022-10-29T07:55:25.538Z"
   },
   {
    "duration": 15,
    "start_time": "2022-10-29T07:55:25.693Z"
   },
   {
    "duration": 28,
    "start_time": "2022-10-29T07:55:25.715Z"
   },
   {
    "duration": 2,
    "start_time": "2022-10-29T07:55:25.745Z"
   },
   {
    "duration": 10,
    "start_time": "2022-10-29T07:55:25.748Z"
   },
   {
    "duration": 15,
    "start_time": "2022-10-29T07:55:25.759Z"
   },
   {
    "duration": 17,
    "start_time": "2022-10-29T07:55:25.776Z"
   },
   {
    "duration": 23,
    "start_time": "2022-10-29T07:55:25.795Z"
   },
   {
    "duration": 104,
    "start_time": "2022-10-29T07:55:25.820Z"
   },
   {
    "duration": 24,
    "start_time": "2022-10-29T07:55:25.926Z"
   },
   {
    "duration": 79,
    "start_time": "2022-10-29T07:55:25.952Z"
   },
   {
    "duration": 3,
    "start_time": "2022-10-29T07:55:26.032Z"
   },
   {
    "duration": 5,
    "start_time": "2022-10-29T07:55:26.037Z"
   },
   {
    "duration": 4,
    "start_time": "2022-10-29T07:55:26.044Z"
   },
   {
    "duration": 7,
    "start_time": "2022-10-29T07:55:26.049Z"
   },
   {
    "duration": 19,
    "start_time": "2022-10-29T07:55:26.057Z"
   },
   {
    "duration": 4,
    "start_time": "2022-10-29T07:55:26.077Z"
   },
   {
    "duration": 5,
    "start_time": "2022-10-29T07:55:26.083Z"
   },
   {
    "duration": 4,
    "start_time": "2022-10-29T07:55:26.091Z"
   },
   {
    "duration": 6,
    "start_time": "2022-10-29T07:55:26.097Z"
   },
   {
    "duration": 4,
    "start_time": "2022-10-29T07:55:26.104Z"
   },
   {
    "duration": 4,
    "start_time": "2022-10-29T07:55:26.110Z"
   },
   {
    "duration": 5,
    "start_time": "2022-10-29T07:55:26.115Z"
   },
   {
    "duration": 6,
    "start_time": "2022-10-29T07:55:26.121Z"
   },
   {
    "duration": 4,
    "start_time": "2022-10-29T07:55:26.128Z"
   },
   {
    "duration": 4,
    "start_time": "2022-10-29T07:55:26.134Z"
   },
   {
    "duration": 5,
    "start_time": "2022-10-29T07:55:26.139Z"
   },
   {
    "duration": 5,
    "start_time": "2022-10-29T07:55:26.145Z"
   },
   {
    "duration": 69,
    "start_time": "2022-10-29T07:55:26.152Z"
   },
   {
    "duration": 0,
    "start_time": "2022-10-29T07:55:26.222Z"
   },
   {
    "duration": 0,
    "start_time": "2022-10-29T07:55:26.223Z"
   },
   {
    "duration": 0,
    "start_time": "2022-10-29T07:55:26.224Z"
   },
   {
    "duration": 0,
    "start_time": "2022-10-29T07:55:26.225Z"
   },
   {
    "duration": 0,
    "start_time": "2022-10-29T07:55:26.226Z"
   },
   {
    "duration": 0,
    "start_time": "2022-10-29T07:55:26.228Z"
   },
   {
    "duration": 0,
    "start_time": "2022-10-29T07:55:26.229Z"
   },
   {
    "duration": 0,
    "start_time": "2022-10-29T07:55:26.230Z"
   },
   {
    "duration": 124,
    "start_time": "2022-10-29T07:57:03.464Z"
   },
   {
    "duration": 71,
    "start_time": "2022-10-29T07:57:10.961Z"
   },
   {
    "duration": 59,
    "start_time": "2022-10-29T07:57:37.725Z"
   },
   {
    "duration": 44,
    "start_time": "2022-10-29T08:01:45.489Z"
   },
   {
    "duration": 46,
    "start_time": "2022-10-29T08:02:11.054Z"
   },
   {
    "duration": 55,
    "start_time": "2022-10-29T08:02:46.045Z"
   },
   {
    "duration": 39,
    "start_time": "2022-10-29T08:05:41.948Z"
   },
   {
    "duration": 47,
    "start_time": "2022-10-29T08:05:46.055Z"
   },
   {
    "duration": 34,
    "start_time": "2022-10-29T08:07:05.812Z"
   },
   {
    "duration": 36,
    "start_time": "2022-10-29T08:07:31.272Z"
   },
   {
    "duration": 46,
    "start_time": "2022-10-29T08:07:52.837Z"
   },
   {
    "duration": 1180,
    "start_time": "2022-10-29T08:07:59.025Z"
   },
   {
    "duration": 939,
    "start_time": "2022-10-29T08:08:09.669Z"
   },
   {
    "duration": 35,
    "start_time": "2022-10-29T08:08:18.224Z"
   },
   {
    "duration": 37,
    "start_time": "2022-10-29T08:09:02.372Z"
   },
   {
    "duration": 35,
    "start_time": "2022-10-29T08:09:23.591Z"
   },
   {
    "duration": 7,
    "start_time": "2022-10-29T08:10:33.049Z"
   },
   {
    "duration": 2,
    "start_time": "2022-10-29T08:10:43.587Z"
   },
   {
    "duration": 2,
    "start_time": "2022-10-29T08:10:45.521Z"
   },
   {
    "duration": 8,
    "start_time": "2022-10-29T08:10:47.364Z"
   },
   {
    "duration": 35,
    "start_time": "2022-10-29T08:10:52.011Z"
   },
   {
    "duration": 2,
    "start_time": "2022-10-29T08:10:54.141Z"
   },
   {
    "duration": 7,
    "start_time": "2022-10-29T08:13:48.169Z"
   },
   {
    "duration": 7,
    "start_time": "2022-10-29T08:14:03.528Z"
   },
   {
    "duration": 44,
    "start_time": "2022-10-29T08:14:09.443Z"
   },
   {
    "duration": 48,
    "start_time": "2022-10-29T08:14:24.694Z"
   },
   {
    "duration": 47,
    "start_time": "2022-10-29T08:15:41.442Z"
   },
   {
    "duration": 96,
    "start_time": "2022-10-29T08:20:27.964Z"
   },
   {
    "duration": 10,
    "start_time": "2022-10-29T08:20:43.874Z"
   },
   {
    "duration": 8,
    "start_time": "2022-10-29T08:21:38.745Z"
   },
   {
    "duration": 7,
    "start_time": "2022-10-29T08:21:53.900Z"
   },
   {
    "duration": 4,
    "start_time": "2022-10-29T08:22:00.244Z"
   },
   {
    "duration": 44,
    "start_time": "2022-10-29T08:22:40.260Z"
   },
   {
    "duration": 41,
    "start_time": "2022-10-29T08:22:53.342Z"
   },
   {
    "duration": 42,
    "start_time": "2022-10-29T08:23:21.329Z"
   },
   {
    "duration": 12,
    "start_time": "2022-10-29T08:27:10.597Z"
   },
   {
    "duration": 57,
    "start_time": "2022-10-29T08:27:45.067Z"
   },
   {
    "duration": 52,
    "start_time": "2022-10-29T08:36:00.669Z"
   },
   {
    "duration": 17,
    "start_time": "2022-10-29T08:36:10.876Z"
   },
   {
    "duration": 10,
    "start_time": "2022-10-29T08:39:54.934Z"
   },
   {
    "duration": 28,
    "start_time": "2022-10-29T08:41:01.155Z"
   },
   {
    "duration": 10,
    "start_time": "2022-10-29T08:43:21.072Z"
   },
   {
    "duration": 10,
    "start_time": "2022-10-29T08:43:32.352Z"
   },
   {
    "duration": 11,
    "start_time": "2022-10-29T08:44:10.547Z"
   },
   {
    "duration": 7,
    "start_time": "2022-10-29T08:44:26.979Z"
   },
   {
    "duration": 32,
    "start_time": "2022-10-29T08:44:38.704Z"
   },
   {
    "duration": 10,
    "start_time": "2022-10-29T08:47:14.643Z"
   },
   {
    "duration": 6,
    "start_time": "2022-10-29T08:47:40.923Z"
   },
   {
    "duration": 25,
    "start_time": "2022-10-29T08:47:50.921Z"
   },
   {
    "duration": 36,
    "start_time": "2022-10-29T08:48:04.397Z"
   },
   {
    "duration": 10,
    "start_time": "2022-10-29T08:49:08.567Z"
   },
   {
    "duration": 11,
    "start_time": "2022-10-29T08:50:24.237Z"
   },
   {
    "duration": 9,
    "start_time": "2022-10-29T08:50:47.178Z"
   },
   {
    "duration": 10,
    "start_time": "2022-10-29T08:52:32.628Z"
   },
   {
    "duration": 10,
    "start_time": "2022-10-29T08:52:41.594Z"
   },
   {
    "duration": 11,
    "start_time": "2022-10-29T08:52:58.894Z"
   },
   {
    "duration": 9,
    "start_time": "2022-10-29T08:53:05.068Z"
   },
   {
    "duration": 15,
    "start_time": "2022-10-29T08:53:16.645Z"
   },
   {
    "duration": 12,
    "start_time": "2022-10-29T08:55:24.396Z"
   },
   {
    "duration": 33,
    "start_time": "2022-10-29T08:58:14.383Z"
   },
   {
    "duration": 10,
    "start_time": "2022-10-29T08:59:08.717Z"
   },
   {
    "duration": 31,
    "start_time": "2022-10-29T08:59:28.182Z"
   },
   {
    "duration": 10,
    "start_time": "2022-10-29T09:00:01.854Z"
   },
   {
    "duration": 3,
    "start_time": "2022-10-29T09:04:12.487Z"
   },
   {
    "duration": 169,
    "start_time": "2022-10-29T09:04:12.492Z"
   },
   {
    "duration": 10,
    "start_time": "2022-10-29T09:04:12.662Z"
   },
   {
    "duration": 0,
    "start_time": "2022-10-29T09:04:12.675Z"
   },
   {
    "duration": 0,
    "start_time": "2022-10-29T09:04:12.676Z"
   },
   {
    "duration": 0,
    "start_time": "2022-10-29T09:04:12.677Z"
   },
   {
    "duration": 0,
    "start_time": "2022-10-29T09:04:12.692Z"
   },
   {
    "duration": 0,
    "start_time": "2022-10-29T09:04:12.693Z"
   },
   {
    "duration": 0,
    "start_time": "2022-10-29T09:04:12.696Z"
   },
   {
    "duration": 0,
    "start_time": "2022-10-29T09:04:12.697Z"
   },
   {
    "duration": 0,
    "start_time": "2022-10-29T09:04:12.699Z"
   },
   {
    "duration": 0,
    "start_time": "2022-10-29T09:04:12.700Z"
   },
   {
    "duration": 0,
    "start_time": "2022-10-29T09:04:12.702Z"
   },
   {
    "duration": 1,
    "start_time": "2022-10-29T09:04:12.704Z"
   },
   {
    "duration": 0,
    "start_time": "2022-10-29T09:04:12.706Z"
   },
   {
    "duration": 0,
    "start_time": "2022-10-29T09:04:12.707Z"
   },
   {
    "duration": 0,
    "start_time": "2022-10-29T09:04:12.709Z"
   },
   {
    "duration": 0,
    "start_time": "2022-10-29T09:04:12.711Z"
   },
   {
    "duration": 0,
    "start_time": "2022-10-29T09:04:12.713Z"
   },
   {
    "duration": 0,
    "start_time": "2022-10-29T09:04:12.714Z"
   },
   {
    "duration": 0,
    "start_time": "2022-10-29T09:04:12.716Z"
   },
   {
    "duration": 0,
    "start_time": "2022-10-29T09:04:12.718Z"
   },
   {
    "duration": 0,
    "start_time": "2022-10-29T09:04:12.720Z"
   },
   {
    "duration": 0,
    "start_time": "2022-10-29T09:04:12.721Z"
   },
   {
    "duration": 0,
    "start_time": "2022-10-29T09:04:12.723Z"
   },
   {
    "duration": 0,
    "start_time": "2022-10-29T09:04:12.725Z"
   },
   {
    "duration": 0,
    "start_time": "2022-10-29T09:04:12.726Z"
   },
   {
    "duration": 0,
    "start_time": "2022-10-29T09:04:12.728Z"
   },
   {
    "duration": 0,
    "start_time": "2022-10-29T09:04:12.730Z"
   },
   {
    "duration": 0,
    "start_time": "2022-10-29T09:04:12.790Z"
   },
   {
    "duration": 0,
    "start_time": "2022-10-29T09:04:12.792Z"
   },
   {
    "duration": 0,
    "start_time": "2022-10-29T09:04:12.794Z"
   },
   {
    "duration": 0,
    "start_time": "2022-10-29T09:04:12.795Z"
   },
   {
    "duration": 0,
    "start_time": "2022-10-29T09:04:12.796Z"
   },
   {
    "duration": 0,
    "start_time": "2022-10-29T09:04:12.797Z"
   },
   {
    "duration": 0,
    "start_time": "2022-10-29T09:04:12.798Z"
   },
   {
    "duration": 0,
    "start_time": "2022-10-29T09:04:12.799Z"
   },
   {
    "duration": 0,
    "start_time": "2022-10-29T09:04:12.799Z"
   },
   {
    "duration": 0,
    "start_time": "2022-10-29T09:04:12.801Z"
   },
   {
    "duration": 11,
    "start_time": "2022-10-29T09:04:35.891Z"
   },
   {
    "duration": 2,
    "start_time": "2022-10-29T09:04:56.326Z"
   },
   {
    "duration": 173,
    "start_time": "2022-10-29T09:04:56.331Z"
   },
   {
    "duration": 14,
    "start_time": "2022-10-29T09:04:56.506Z"
   },
   {
    "duration": 27,
    "start_time": "2022-10-29T09:05:08.511Z"
   },
   {
    "duration": 10,
    "start_time": "2022-10-29T09:05:17.180Z"
   },
   {
    "duration": 10,
    "start_time": "2022-10-29T09:05:31.410Z"
   },
   {
    "duration": 3,
    "start_time": "2022-10-29T09:05:50.383Z"
   },
   {
    "duration": 44,
    "start_time": "2022-10-29T09:06:16.653Z"
   },
   {
    "duration": 10,
    "start_time": "2022-10-29T09:06:44.912Z"
   },
   {
    "duration": 3,
    "start_time": "2022-10-29T09:06:56.009Z"
   },
   {
    "duration": 170,
    "start_time": "2022-10-29T09:06:56.014Z"
   },
   {
    "duration": 11,
    "start_time": "2022-10-29T09:06:56.186Z"
   },
   {
    "duration": 28,
    "start_time": "2022-10-29T09:06:56.200Z"
   },
   {
    "duration": 3,
    "start_time": "2022-10-29T09:06:56.229Z"
   },
   {
    "duration": 5,
    "start_time": "2022-10-29T09:06:56.233Z"
   },
   {
    "duration": 9,
    "start_time": "2022-10-29T09:06:56.240Z"
   },
   {
    "duration": 4,
    "start_time": "2022-10-29T09:06:56.250Z"
   },
   {
    "duration": 24,
    "start_time": "2022-10-29T09:06:56.292Z"
   },
   {
    "duration": 122,
    "start_time": "2022-10-29T09:06:56.318Z"
   },
   {
    "duration": 24,
    "start_time": "2022-10-29T09:06:56.442Z"
   },
   {
    "duration": 87,
    "start_time": "2022-10-29T09:06:56.469Z"
   },
   {
    "duration": 99,
    "start_time": "2022-10-29T09:06:56.558Z"
   },
   {
    "duration": 111,
    "start_time": "2022-10-29T09:06:56.660Z"
   },
   {
    "duration": 74,
    "start_time": "2022-10-29T09:06:56.773Z"
   },
   {
    "duration": 10,
    "start_time": "2022-10-29T09:06:56.849Z"
   },
   {
    "duration": 62,
    "start_time": "2022-10-29T09:06:56.861Z"
   },
   {
    "duration": 9,
    "start_time": "2022-10-29T09:06:56.925Z"
   },
   {
    "duration": 11,
    "start_time": "2022-10-29T09:06:56.936Z"
   },
   {
    "duration": 3,
    "start_time": "2022-10-29T09:06:56.948Z"
   },
   {
    "duration": 7,
    "start_time": "2022-10-29T09:06:56.952Z"
   },
   {
    "duration": 4,
    "start_time": "2022-10-29T09:06:56.961Z"
   },
   {
    "duration": 5,
    "start_time": "2022-10-29T09:06:56.992Z"
   },
   {
    "duration": 2,
    "start_time": "2022-10-29T09:06:57.001Z"
   },
   {
    "duration": 5,
    "start_time": "2022-10-29T09:06:57.005Z"
   },
   {
    "duration": 6,
    "start_time": "2022-10-29T09:06:57.012Z"
   },
   {
    "duration": 7,
    "start_time": "2022-10-29T09:06:57.019Z"
   },
   {
    "duration": 8,
    "start_time": "2022-10-29T09:06:57.028Z"
   },
   {
    "duration": 9,
    "start_time": "2022-10-29T09:06:57.037Z"
   },
   {
    "duration": 84,
    "start_time": "2022-10-29T09:06:57.047Z"
   },
   {
    "duration": 0,
    "start_time": "2022-10-29T09:06:57.132Z"
   },
   {
    "duration": 0,
    "start_time": "2022-10-29T09:06:57.134Z"
   },
   {
    "duration": 0,
    "start_time": "2022-10-29T09:06:57.135Z"
   },
   {
    "duration": 0,
    "start_time": "2022-10-29T09:06:57.136Z"
   },
   {
    "duration": 0,
    "start_time": "2022-10-29T09:06:57.137Z"
   },
   {
    "duration": 0,
    "start_time": "2022-10-29T09:06:57.138Z"
   },
   {
    "duration": 0,
    "start_time": "2022-10-29T09:06:57.140Z"
   },
   {
    "duration": 0,
    "start_time": "2022-10-29T09:06:57.141Z"
   },
   {
    "duration": 48,
    "start_time": "2022-10-30T10:16:14.874Z"
   },
   {
    "duration": 44,
    "start_time": "2022-10-30T10:18:42.904Z"
   },
   {
    "duration": 4,
    "start_time": "2022-10-30T10:18:50.751Z"
   },
   {
    "duration": 8,
    "start_time": "2022-10-31T03:14:29.878Z"
   },
   {
    "duration": 4,
    "start_time": "2022-10-31T03:14:56.038Z"
   },
   {
    "duration": 56,
    "start_time": "2022-10-31T03:16:37.042Z"
   },
   {
    "duration": 45,
    "start_time": "2022-10-31T03:16:43.153Z"
   },
   {
    "duration": 41,
    "start_time": "2022-10-31T03:17:32.416Z"
   },
   {
    "duration": 6,
    "start_time": "2022-10-31T03:17:40.237Z"
   },
   {
    "duration": 8,
    "start_time": "2022-10-31T03:19:32.015Z"
   },
   {
    "duration": 6,
    "start_time": "2022-10-31T03:19:54.120Z"
   },
   {
    "duration": 7,
    "start_time": "2022-10-31T03:20:01.738Z"
   },
   {
    "duration": 356,
    "start_time": "2022-10-31T03:20:51.024Z"
   },
   {
    "duration": 213,
    "start_time": "2022-10-31T03:20:51.382Z"
   },
   {
    "duration": 16,
    "start_time": "2022-10-31T03:20:51.596Z"
   },
   {
    "duration": 26,
    "start_time": "2022-10-31T03:20:51.614Z"
   },
   {
    "duration": 23,
    "start_time": "2022-10-31T03:20:51.641Z"
   },
   {
    "duration": 13,
    "start_time": "2022-10-31T03:20:51.665Z"
   },
   {
    "duration": 22,
    "start_time": "2022-10-31T03:20:51.679Z"
   },
   {
    "duration": 39,
    "start_time": "2022-10-31T03:20:51.702Z"
   },
   {
    "duration": 62,
    "start_time": "2022-10-31T03:20:51.742Z"
   },
   {
    "duration": 101,
    "start_time": "2022-10-31T03:20:51.806Z"
   },
   {
    "duration": 20,
    "start_time": "2022-10-31T03:20:51.908Z"
   },
   {
    "duration": 70,
    "start_time": "2022-10-31T03:20:51.929Z"
   },
   {
    "duration": 62,
    "start_time": "2022-10-31T03:20:52.001Z"
   },
   {
    "duration": 66,
    "start_time": "2022-10-31T03:20:52.065Z"
   },
   {
    "duration": 57,
    "start_time": "2022-10-31T03:20:52.133Z"
   },
   {
    "duration": 10,
    "start_time": "2022-10-31T03:20:52.191Z"
   },
   {
    "duration": 47,
    "start_time": "2022-10-31T03:20:52.202Z"
   },
   {
    "duration": 26,
    "start_time": "2022-10-31T03:20:52.251Z"
   },
   {
    "duration": 9,
    "start_time": "2022-10-31T03:20:52.279Z"
   },
   {
    "duration": 3,
    "start_time": "2022-10-31T03:20:52.289Z"
   },
   {
    "duration": 20,
    "start_time": "2022-10-31T03:20:52.294Z"
   },
   {
    "duration": 49,
    "start_time": "2022-10-31T03:20:52.316Z"
   },
   {
    "duration": 0,
    "start_time": "2022-10-31T03:20:52.367Z"
   },
   {
    "duration": 0,
    "start_time": "2022-10-31T03:20:52.368Z"
   },
   {
    "duration": 0,
    "start_time": "2022-10-31T03:20:52.369Z"
   },
   {
    "duration": 0,
    "start_time": "2022-10-31T03:20:52.370Z"
   },
   {
    "duration": 0,
    "start_time": "2022-10-31T03:20:52.371Z"
   },
   {
    "duration": 0,
    "start_time": "2022-10-31T03:20:52.372Z"
   },
   {
    "duration": 0,
    "start_time": "2022-10-31T03:20:52.373Z"
   },
   {
    "duration": 0,
    "start_time": "2022-10-31T03:20:52.374Z"
   },
   {
    "duration": 0,
    "start_time": "2022-10-31T03:20:52.375Z"
   },
   {
    "duration": 0,
    "start_time": "2022-10-31T03:20:52.376Z"
   },
   {
    "duration": 0,
    "start_time": "2022-10-31T03:20:52.377Z"
   },
   {
    "duration": 0,
    "start_time": "2022-10-31T03:20:52.378Z"
   },
   {
    "duration": 0,
    "start_time": "2022-10-31T03:20:52.379Z"
   },
   {
    "duration": 0,
    "start_time": "2022-10-31T03:20:52.379Z"
   },
   {
    "duration": 0,
    "start_time": "2022-10-31T03:20:52.380Z"
   },
   {
    "duration": 0,
    "start_time": "2022-10-31T03:20:52.382Z"
   },
   {
    "duration": 16,
    "start_time": "2022-10-31T03:22:13.585Z"
   },
   {
    "duration": 3,
    "start_time": "2022-10-31T03:22:20.403Z"
   },
   {
    "duration": 169,
    "start_time": "2022-10-31T03:22:20.407Z"
   },
   {
    "duration": 11,
    "start_time": "2022-10-31T03:22:20.578Z"
   },
   {
    "duration": 28,
    "start_time": "2022-10-31T03:22:20.590Z"
   },
   {
    "duration": 3,
    "start_time": "2022-10-31T03:22:20.620Z"
   },
   {
    "duration": 6,
    "start_time": "2022-10-31T03:22:20.624Z"
   },
   {
    "duration": 7,
    "start_time": "2022-10-31T03:22:20.632Z"
   },
   {
    "duration": 5,
    "start_time": "2022-10-31T03:22:20.641Z"
   },
   {
    "duration": 50,
    "start_time": "2022-10-31T03:22:20.647Z"
   },
   {
    "duration": 84,
    "start_time": "2022-10-31T03:22:20.698Z"
   },
   {
    "duration": 30,
    "start_time": "2022-10-31T03:22:20.785Z"
   },
   {
    "duration": 72,
    "start_time": "2022-10-31T03:22:20.817Z"
   },
   {
    "duration": 60,
    "start_time": "2022-10-31T03:22:20.890Z"
   },
   {
    "duration": 66,
    "start_time": "2022-10-31T03:22:20.951Z"
   },
   {
    "duration": 43,
    "start_time": "2022-10-31T03:22:21.019Z"
   },
   {
    "duration": 19,
    "start_time": "2022-10-31T03:22:21.063Z"
   },
   {
    "duration": 48,
    "start_time": "2022-10-31T03:22:21.083Z"
   },
   {
    "duration": 9,
    "start_time": "2022-10-31T03:22:21.132Z"
   },
   {
    "duration": 8,
    "start_time": "2022-10-31T03:22:21.143Z"
   },
   {
    "duration": 26,
    "start_time": "2022-10-31T03:22:21.152Z"
   },
   {
    "duration": 31,
    "start_time": "2022-10-31T03:22:21.179Z"
   },
   {
    "duration": 14,
    "start_time": "2022-10-31T03:22:21.212Z"
   },
   {
    "duration": 14,
    "start_time": "2022-10-31T03:22:21.227Z"
   },
   {
    "duration": 13,
    "start_time": "2022-10-31T03:22:21.243Z"
   },
   {
    "duration": 36,
    "start_time": "2022-10-31T03:22:21.257Z"
   },
   {
    "duration": 25,
    "start_time": "2022-10-31T03:22:21.295Z"
   },
   {
    "duration": 28,
    "start_time": "2022-10-31T03:24:38.062Z"
   },
   {
    "duration": 9,
    "start_time": "2022-10-31T03:25:11.939Z"
   },
   {
    "duration": 8,
    "start_time": "2022-10-31T03:25:31.965Z"
   },
   {
    "duration": 8,
    "start_time": "2022-10-31T03:25:45.637Z"
   },
   {
    "duration": 7,
    "start_time": "2022-10-31T03:26:06.881Z"
   },
   {
    "duration": 9,
    "start_time": "2022-10-31T03:26:37.228Z"
   },
   {
    "duration": 9,
    "start_time": "2022-10-31T03:28:05.148Z"
   },
   {
    "duration": 9,
    "start_time": "2022-10-31T03:28:12.397Z"
   },
   {
    "duration": 8,
    "start_time": "2022-10-31T03:28:21.665Z"
   },
   {
    "duration": 3,
    "start_time": "2022-10-31T03:31:01.184Z"
   },
   {
    "duration": 170,
    "start_time": "2022-10-31T03:31:01.190Z"
   },
   {
    "duration": 16,
    "start_time": "2022-10-31T03:31:01.362Z"
   },
   {
    "duration": 42,
    "start_time": "2022-10-31T03:31:01.380Z"
   },
   {
    "duration": 2,
    "start_time": "2022-10-31T03:31:01.425Z"
   },
   {
    "duration": 8,
    "start_time": "2022-10-31T03:31:01.429Z"
   },
   {
    "duration": 12,
    "start_time": "2022-10-31T03:31:01.439Z"
   },
   {
    "duration": 4,
    "start_time": "2022-10-31T03:31:01.452Z"
   },
   {
    "duration": 35,
    "start_time": "2022-10-31T03:31:01.457Z"
   },
   {
    "duration": 101,
    "start_time": "2022-10-31T03:31:01.494Z"
   },
   {
    "duration": 21,
    "start_time": "2022-10-31T03:31:01.598Z"
   },
   {
    "duration": 77,
    "start_time": "2022-10-31T03:31:01.621Z"
   },
   {
    "duration": 57,
    "start_time": "2022-10-31T03:31:01.700Z"
   },
   {
    "duration": 60,
    "start_time": "2022-10-31T03:31:01.759Z"
   },
   {
    "duration": 43,
    "start_time": "2022-10-31T03:31:01.821Z"
   },
   {
    "duration": 10,
    "start_time": "2022-10-31T03:31:01.877Z"
   },
   {
    "duration": 43,
    "start_time": "2022-10-31T03:31:01.888Z"
   },
   {
    "duration": 9,
    "start_time": "2022-10-31T03:31:01.933Z"
   },
   {
    "duration": 33,
    "start_time": "2022-10-31T03:31:01.944Z"
   },
   {
    "duration": 34,
    "start_time": "2022-10-31T03:31:01.979Z"
   },
   {
    "duration": 119,
    "start_time": "2022-10-31T03:31:02.014Z"
   },
   {
    "duration": 20,
    "start_time": "2022-10-31T03:31:02.134Z"
   },
   {
    "duration": 20,
    "start_time": "2022-10-31T03:31:02.155Z"
   },
   {
    "duration": 21,
    "start_time": "2022-10-31T03:31:02.177Z"
   },
   {
    "duration": 23,
    "start_time": "2022-10-31T03:31:02.200Z"
   },
   {
    "duration": 14,
    "start_time": "2022-10-31T03:31:02.224Z"
   },
   {
    "duration": 9,
    "start_time": "2022-10-31T03:31:05.988Z"
   },
   {
    "duration": 26,
    "start_time": "2022-10-31T03:36:12.038Z"
   },
   {
    "duration": 714,
    "start_time": "2022-10-31T03:39:48.579Z"
   },
   {
    "duration": 6,
    "start_time": "2022-10-31T03:40:06.771Z"
   },
   {
    "duration": 6,
    "start_time": "2022-10-31T03:41:01.173Z"
   },
   {
    "duration": 3,
    "start_time": "2022-10-31T03:41:04.940Z"
   },
   {
    "duration": 162,
    "start_time": "2022-10-31T03:41:04.945Z"
   },
   {
    "duration": 11,
    "start_time": "2022-10-31T03:41:05.109Z"
   },
   {
    "duration": 32,
    "start_time": "2022-10-31T03:41:05.122Z"
   },
   {
    "duration": 4,
    "start_time": "2022-10-31T03:41:05.157Z"
   },
   {
    "duration": 24,
    "start_time": "2022-10-31T03:41:05.162Z"
   },
   {
    "duration": 19,
    "start_time": "2022-10-31T03:41:05.189Z"
   },
   {
    "duration": 15,
    "start_time": "2022-10-31T03:41:05.209Z"
   },
   {
    "duration": 36,
    "start_time": "2022-10-31T03:41:05.228Z"
   },
   {
    "duration": 116,
    "start_time": "2022-10-31T03:41:05.266Z"
   },
   {
    "duration": 21,
    "start_time": "2022-10-31T03:41:05.383Z"
   },
   {
    "duration": 78,
    "start_time": "2022-10-31T03:41:05.406Z"
   },
   {
    "duration": 62,
    "start_time": "2022-10-31T03:41:05.486Z"
   },
   {
    "duration": 73,
    "start_time": "2022-10-31T03:41:05.549Z"
   },
   {
    "duration": 53,
    "start_time": "2022-10-31T03:41:05.624Z"
   },
   {
    "duration": 11,
    "start_time": "2022-10-31T03:41:05.679Z"
   },
   {
    "duration": 48,
    "start_time": "2022-10-31T03:41:05.692Z"
   },
   {
    "duration": 11,
    "start_time": "2022-10-31T03:41:05.743Z"
   },
   {
    "duration": 31,
    "start_time": "2022-10-31T03:41:05.755Z"
   },
   {
    "duration": 4,
    "start_time": "2022-10-31T03:41:05.788Z"
   },
   {
    "duration": 26,
    "start_time": "2022-10-31T03:41:05.793Z"
   },
   {
    "duration": 15,
    "start_time": "2022-10-31T03:41:05.820Z"
   },
   {
    "duration": 14,
    "start_time": "2022-10-31T03:41:05.837Z"
   },
   {
    "duration": 14,
    "start_time": "2022-10-31T03:41:05.878Z"
   },
   {
    "duration": 15,
    "start_time": "2022-10-31T03:41:05.894Z"
   },
   {
    "duration": 13,
    "start_time": "2022-10-31T03:41:05.910Z"
   },
   {
    "duration": 58,
    "start_time": "2022-10-31T03:41:05.925Z"
   },
   {
    "duration": 13,
    "start_time": "2022-10-31T03:41:05.985Z"
   },
   {
    "duration": 17,
    "start_time": "2022-10-31T03:41:06.000Z"
   },
   {
    "duration": 9,
    "start_time": "2022-10-31T03:41:14.485Z"
   },
   {
    "duration": 9,
    "start_time": "2022-10-31T03:41:30.903Z"
   },
   {
    "duration": 5,
    "start_time": "2022-10-31T04:16:14.838Z"
   },
   {
    "duration": 4,
    "start_time": "2022-10-31T04:17:51.569Z"
   },
   {
    "duration": 5,
    "start_time": "2022-10-31T04:19:21.614Z"
   },
   {
    "duration": 5,
    "start_time": "2022-10-31T04:19:48.556Z"
   },
   {
    "duration": 5,
    "start_time": "2022-10-31T04:20:14.831Z"
   },
   {
    "duration": 4,
    "start_time": "2022-10-31T04:21:51.290Z"
   },
   {
    "duration": 4,
    "start_time": "2022-10-31T04:22:18.935Z"
   },
   {
    "duration": 5,
    "start_time": "2022-10-31T04:23:11.080Z"
   },
   {
    "duration": 6,
    "start_time": "2022-10-31T04:24:24.283Z"
   },
   {
    "duration": 4,
    "start_time": "2022-10-31T04:25:22.749Z"
   },
   {
    "duration": 5,
    "start_time": "2022-10-31T04:26:18.894Z"
   },
   {
    "duration": 5,
    "start_time": "2022-10-31T04:27:49.661Z"
   },
   {
    "duration": 5,
    "start_time": "2022-10-31T04:28:47.504Z"
   },
   {
    "duration": 6,
    "start_time": "2022-10-31T04:29:04.570Z"
   },
   {
    "duration": 4,
    "start_time": "2022-10-31T04:29:41.463Z"
   },
   {
    "duration": 4,
    "start_time": "2022-10-31T04:29:59.613Z"
   },
   {
    "duration": 4,
    "start_time": "2022-10-31T04:32:14.122Z"
   },
   {
    "duration": 13,
    "start_time": "2022-10-31T04:39:21.153Z"
   },
   {
    "duration": 7,
    "start_time": "2022-10-31T04:41:07.714Z"
   },
   {
    "duration": 8,
    "start_time": "2022-10-31T04:41:35.816Z"
   },
   {
    "duration": 3,
    "start_time": "2022-10-31T05:09:48.905Z"
   },
   {
    "duration": 170,
    "start_time": "2022-10-31T05:09:48.911Z"
   },
   {
    "duration": 12,
    "start_time": "2022-10-31T05:09:49.082Z"
   },
   {
    "duration": 30,
    "start_time": "2022-10-31T05:09:49.096Z"
   },
   {
    "duration": 2,
    "start_time": "2022-10-31T05:09:49.128Z"
   },
   {
    "duration": 5,
    "start_time": "2022-10-31T05:09:49.132Z"
   },
   {
    "duration": 10,
    "start_time": "2022-10-31T05:09:49.139Z"
   },
   {
    "duration": 4,
    "start_time": "2022-10-31T05:09:49.176Z"
   },
   {
    "duration": 27,
    "start_time": "2022-10-31T05:09:49.182Z"
   },
   {
    "duration": 94,
    "start_time": "2022-10-31T05:09:49.211Z"
   },
   {
    "duration": 23,
    "start_time": "2022-10-31T05:09:49.307Z"
   },
   {
    "duration": 80,
    "start_time": "2022-10-31T05:09:49.332Z"
   },
   {
    "duration": 78,
    "start_time": "2022-10-31T05:09:49.416Z"
   },
   {
    "duration": 58,
    "start_time": "2022-10-31T05:09:49.498Z"
   },
   {
    "duration": 62,
    "start_time": "2022-10-31T05:09:49.558Z"
   },
   {
    "duration": 10,
    "start_time": "2022-10-31T05:09:49.622Z"
   },
   {
    "duration": 56,
    "start_time": "2022-10-31T05:09:49.634Z"
   },
   {
    "duration": 11,
    "start_time": "2022-10-31T05:09:49.691Z"
   },
   {
    "duration": 10,
    "start_time": "2022-10-31T05:09:49.703Z"
   },
   {
    "duration": 4,
    "start_time": "2022-10-31T05:09:49.714Z"
   },
   {
    "duration": 21,
    "start_time": "2022-10-31T05:09:49.719Z"
   },
   {
    "duration": 36,
    "start_time": "2022-10-31T05:09:49.742Z"
   },
   {
    "duration": 14,
    "start_time": "2022-10-31T05:09:49.780Z"
   },
   {
    "duration": 13,
    "start_time": "2022-10-31T05:09:49.796Z"
   },
   {
    "duration": 15,
    "start_time": "2022-10-31T05:09:49.811Z"
   },
   {
    "duration": 14,
    "start_time": "2022-10-31T05:09:49.828Z"
   },
   {
    "duration": 57,
    "start_time": "2022-10-31T05:09:49.844Z"
   },
   {
    "duration": 11,
    "start_time": "2022-10-31T05:09:49.904Z"
   },
   {
    "duration": 9,
    "start_time": "2022-10-31T05:09:49.916Z"
   },
   {
    "duration": 8,
    "start_time": "2022-10-31T05:09:49.927Z"
   },
   {
    "duration": 45,
    "start_time": "2022-10-31T05:09:49.937Z"
   },
   {
    "duration": 16,
    "start_time": "2022-10-31T05:09:49.983Z"
   },
   {
    "duration": 8,
    "start_time": "2022-10-31T05:09:50.001Z"
   },
   {
    "duration": 0,
    "start_time": "2022-10-31T05:09:50.011Z"
   },
   {
    "duration": 0,
    "start_time": "2022-10-31T05:09:50.012Z"
   },
   {
    "duration": 0,
    "start_time": "2022-10-31T05:09:50.013Z"
   },
   {
    "duration": 0,
    "start_time": "2022-10-31T05:09:50.015Z"
   },
   {
    "duration": 0,
    "start_time": "2022-10-31T05:09:50.017Z"
   },
   {
    "duration": 13,
    "start_time": "2022-10-31T05:10:21.497Z"
   },
   {
    "duration": 13,
    "start_time": "2022-10-31T05:10:21.842Z"
   },
   {
    "duration": 12,
    "start_time": "2022-10-31T05:13:25.640Z"
   },
   {
    "duration": 19,
    "start_time": "2022-10-31T05:13:26.257Z"
   },
   {
    "duration": 12,
    "start_time": "2022-10-31T05:13:26.797Z"
   },
   {
    "duration": 9,
    "start_time": "2022-10-31T05:19:50.775Z"
   },
   {
    "duration": 9,
    "start_time": "2022-10-31T05:20:29.543Z"
   },
   {
    "duration": 13,
    "start_time": "2022-10-31T05:20:45.856Z"
   },
   {
    "duration": 12,
    "start_time": "2022-10-31T05:20:58.528Z"
   },
   {
    "duration": 8,
    "start_time": "2022-10-31T05:21:02.119Z"
   },
   {
    "duration": 11,
    "start_time": "2022-10-31T05:22:28.863Z"
   },
   {
    "duration": 5,
    "start_time": "2022-10-31T05:22:52.223Z"
   },
   {
    "duration": 8,
    "start_time": "2022-10-31T05:29:25.485Z"
   },
   {
    "duration": 7,
    "start_time": "2022-10-31T05:29:55.390Z"
   },
   {
    "duration": 2,
    "start_time": "2022-10-31T05:30:15.959Z"
   },
   {
    "duration": 157,
    "start_time": "2022-10-31T05:30:15.963Z"
   },
   {
    "duration": 12,
    "start_time": "2022-10-31T05:30:16.123Z"
   },
   {
    "duration": 29,
    "start_time": "2022-10-31T05:30:16.137Z"
   },
   {
    "duration": 8,
    "start_time": "2022-10-31T05:30:16.168Z"
   },
   {
    "duration": 8,
    "start_time": "2022-10-31T05:30:16.178Z"
   },
   {
    "duration": 14,
    "start_time": "2022-10-31T05:30:16.187Z"
   },
   {
    "duration": 10,
    "start_time": "2022-10-31T05:30:16.202Z"
   },
   {
    "duration": 33,
    "start_time": "2022-10-31T05:30:16.213Z"
   },
   {
    "duration": 93,
    "start_time": "2022-10-31T05:30:16.248Z"
   },
   {
    "duration": 23,
    "start_time": "2022-10-31T05:30:16.343Z"
   },
   {
    "duration": 73,
    "start_time": "2022-10-31T05:30:16.368Z"
   },
   {
    "duration": 77,
    "start_time": "2022-10-31T05:30:16.442Z"
   },
   {
    "duration": 61,
    "start_time": "2022-10-31T05:30:16.522Z"
   },
   {
    "duration": 49,
    "start_time": "2022-10-31T05:30:16.585Z"
   },
   {
    "duration": 10,
    "start_time": "2022-10-31T05:30:16.636Z"
   },
   {
    "duration": 67,
    "start_time": "2022-10-31T05:30:16.648Z"
   },
   {
    "duration": 11,
    "start_time": "2022-10-31T05:30:16.716Z"
   },
   {
    "duration": 10,
    "start_time": "2022-10-31T05:30:16.728Z"
   },
   {
    "duration": 4,
    "start_time": "2022-10-31T05:30:16.740Z"
   },
   {
    "duration": 42,
    "start_time": "2022-10-31T05:30:16.745Z"
   },
   {
    "duration": 18,
    "start_time": "2022-10-31T05:30:16.788Z"
   },
   {
    "duration": 16,
    "start_time": "2022-10-31T05:30:16.808Z"
   },
   {
    "duration": 14,
    "start_time": "2022-10-31T05:30:16.826Z"
   },
   {
    "duration": 46,
    "start_time": "2022-10-31T05:30:16.842Z"
   },
   {
    "duration": 14,
    "start_time": "2022-10-31T05:30:16.890Z"
   },
   {
    "duration": 38,
    "start_time": "2022-10-31T05:30:16.906Z"
   },
   {
    "duration": 35,
    "start_time": "2022-10-31T05:30:16.945Z"
   },
   {
    "duration": 11,
    "start_time": "2022-10-31T05:30:16.981Z"
   },
   {
    "duration": 5,
    "start_time": "2022-10-31T05:30:16.994Z"
   },
   {
    "duration": 38,
    "start_time": "2022-10-31T05:30:17.000Z"
   },
   {
    "duration": 16,
    "start_time": "2022-10-31T05:30:17.040Z"
   },
   {
    "duration": 36,
    "start_time": "2022-10-31T05:30:17.058Z"
   },
   {
    "duration": 12,
    "start_time": "2022-10-31T05:30:17.097Z"
   },
   {
    "duration": 12,
    "start_time": "2022-10-31T05:30:17.110Z"
   },
   {
    "duration": 4,
    "start_time": "2022-10-31T05:30:17.124Z"
   },
   {
    "duration": 10,
    "start_time": "2022-10-31T05:30:17.130Z"
   },
   {
    "duration": 8,
    "start_time": "2022-10-31T05:30:17.142Z"
   }
  ],
  "celltoolbar": "Edit Metadata",
  "colab": {
   "collapsed_sections": [
    "E0vqbgi9ay0H",
    "VUC88oWjTJw2"
   ],
   "name": "automatization_template_upd4.ipynb",
   "provenance": []
  },
  "kernelspec": {
   "display_name": "Python 3 (ipykernel)",
   "language": "python",
   "name": "python3"
  },
  "language_info": {
   "codemirror_mode": {
    "name": "ipython",
    "version": 3
   },
   "file_extension": ".py",
   "mimetype": "text/x-python",
   "name": "python",
   "nbconvert_exporter": "python",
   "pygments_lexer": "ipython3",
   "version": "3.9.13"
  },
  "toc": {
   "base_numbering": 1,
   "nav_menu": {
    "height": "215px",
    "width": "403px"
   },
   "number_sections": true,
   "sideBar": true,
   "skip_h1_title": true,
   "title_cell": "Table of Contents",
   "title_sidebar": "Contents",
   "toc_cell": false,
   "toc_position": {
    "height": "calc(100% - 180px)",
    "left": "10px",
    "top": "150px",
    "width": "285.825px"
   },
   "toc_section_display": true,
   "toc_window_display": false
  }
 },
 "nbformat": 4,
 "nbformat_minor": 1
}
