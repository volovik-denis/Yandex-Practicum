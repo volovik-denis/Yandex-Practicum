{
 "cells": [
  {
   "cell_type": "markdown",
   "metadata": {},
   "source": [
    "# Анализ поведения пользователей в мобильном приложении "
   ]
  },
  {
   "cell_type": "markdown",
   "metadata": {},
   "source": [
    "## Описание проекта"
   ]
  },
  {
   "cell_type": "markdown",
   "metadata": {},
   "source": [
    "Вы работаете в стартапе, который продаёт продукты питания. Нужно разобраться, как ведут себя пользователи вашего мобильного приложения. \n",
    "\n",
    "Изучите воронку продаж. Узнайте, как пользователи доходят до покупки. Сколько пользователей доходит до покупки, а сколько — «застревает» на предыдущих шагах? На каких именно?\n",
    "\n",
    "После этого исследуйте результаты A/A/B-эксперимента. Дизайнеры захотели поменять шрифты во всём приложении, а менеджеры испугались, что пользователям будет непривычно. Договорились принять решение по результатам A/A/B-теста. Пользователей разбили на 3 группы: 2 контрольные со старыми шрифтами и одну экспериментальную — с новыми. Выясните, какой шрифт лучше.\n",
    "Создание двух групп A вместо одной имеет определённые преимущества. Если две контрольные группы окажутся равны, вы можете быть уверены в точности проведенного тестирования. Если же между значениями A и A будут существенные различия, это поможет обнаружить факторы, которые привели к искажению результатов. Сравнение контрольных групп также помогает понять, сколько времени и данных потребуется для дальнейших тестов.\n",
    "\n",
    "В случае общей аналитики и A/A/B-эксперимента работайте с одними и теми же данными. В реальных проектах всегда идут эксперименты. Аналитики исследуют качество работы приложения по общим данным, не учитывая принадлежность пользователей к экспериментам.\n",
    "\n",
    "**Изучите и проверьте данные**\n",
    "\n",
    "* Сколько всего событий в логе?\n",
    "* Сколько всего пользователей в логе?\n",
    "* Сколько в среднем событий приходится на пользователя?\n",
    "* Данными за какой период вы располагаете? Найдите максимальную и минимальную дату. Постройте гистограмму по дате и времени. Можно ли быть уверенным, что у вас одинаково полные данные за весь период? Технически в логи новых дней по некоторым пользователям могут «доезжать» события из прошлого — это может «перекашивать данные». Определите, с какого момента данные полные и отбросьте более старые. Данными за какой период времени вы располагаете на самом деле?\n",
    "* Много ли событий и пользователей вы потеряли, отбросив старые данные?\n",
    "* Проверьте, что у вас есть пользователи из всех трёх экспериментальных групп.\n",
    "\n",
    "**Изучите воронку событий**\n",
    "\n",
    "* Посмотрите, какие события есть в логах, как часто они встречаются. Отсортируйте события по частоте.\n",
    "* Посчитайте, сколько пользователей совершали каждое из этих событий. Отсортируйте события по числу пользователей. Посчитайте долю пользователей, которые хоть раз совершали событие.\n",
    "* Предположите, в каком порядке происходят события. Все ли они выстраиваются в последовательную цепочку? Их не нужно учитывать при расчёте воронки.\n",
    "* По воронке событий посчитайте, какая доля пользователей проходит на следующий шаг воронки (от числа пользователей на предыдущем). То есть для последовательности событий A → B → C посчитайте отношение числа пользователей с событием B к количеству пользователей с событием A, а также отношение числа пользователей с событием C к количеству пользователей с событием B.\n",
    "* На каком шаге теряете больше всего пользователей?\n",
    "* Какая доля пользователей доходит от первого события до оплаты?\n",
    "\n",
    "**Изучите результаты эксперимента**\n",
    "\n",
    "* Сколько пользователей в каждой экспериментальной группе?\n",
    "* Есть 2 контрольные группы для А/А-эксперимента, чтобы проверить корректность всех механизмов и расчётов. Проверьте, находят ли статистические критерии разницу между выборками 246 и 247.\n",
    "* Выберите самое популярное событие. Посчитайте число пользователей, совершивших это событие в каждой из контрольных групп. Посчитайте долю пользователей, совершивших это событие. Проверьте, будет ли отличие между группами статистически достоверным. Проделайте то же самое для всех других событий (удобно обернуть проверку в отдельную функцию). Можно ли сказать, что разбиение на группы работает корректно?\n",
    "* Аналогично поступите с группой с изменённым шрифтом. Сравните результаты с каждой из контрольных групп в отдельности по каждому событию. Сравните результаты с объединённой контрольной группой. Какие выводы из эксперимента можно сделать?\n",
    "* Какой уровень значимости вы выбрали при проверке статистических гипотез выше? Посчитайте, сколько проверок статистических гипотез вы сделали. При уровне значимости 0.1 каждый десятый раз можно получать ложный результат. Какой уровень значимости стоит применить? Если вы хотите изменить его, проделайте предыдущие пункты и проверьте свои выводы."
   ]
  },
  {
   "cell_type": "markdown",
   "metadata": {},
   "source": [
    "## Описание данных"
   ]
  },
  {
   "cell_type": "markdown",
   "metadata": {},
   "source": [
    "Каждая запись в логе — это действие пользователя, или событие. \n",
    "\n",
    "* EventName — **название события;**\n",
    "* DeviceIDHash — **уникальный идентификатор пользователя;**\n",
    "* EventTimestamp — **время события;**\n",
    "* ExpId — **номер эксперимента: 246 и 247 — контрольные группы, а 248 — экспериментальная.**"
   ]
  },
  {
   "cell_type": "markdown",
   "metadata": {},
   "source": [
    "## Работа с проектом"
   ]
  },
  {
   "cell_type": "markdown",
   "metadata": {},
   "source": [
    "### Открываю файл с данными и изучаю общую информацию"
   ]
  },
  {
   "cell_type": "markdown",
   "metadata": {},
   "source": [
    "**Импортирую все необходимые библиотеки для проекта**"
   ]
  },
  {
   "cell_type": "code",
   "execution_count": 1,
   "metadata": {},
   "outputs": [],
   "source": [
    "import pandas as pd\n",
    "import matplotlib.pyplot as plt\n",
    "import numpy as np\n",
    "import seaborn as sns\n",
    "from scipy import stats as st\n",
    "import math as mth\n",
    "import matplotlib.ticker as mtick\n",
    "import warnings\n",
    "import plotly.express as px\n",
    "from plotly import graph_objects as go\n",
    "warnings.filterwarnings('ignore')\n",
    "pd.set_option('display.max_colwidth', False)"
   ]
  },
  {
   "cell_type": "markdown",
   "metadata": {},
   "source": [
    "**Открываю файлы с данными**"
   ]
  },
  {
   "cell_type": "code",
   "execution_count": 2,
   "metadata": {},
   "outputs": [],
   "source": [
    "df = pd.read_csv('/datasets/logs_exp.csv', sep='\\t')"
   ]
  },
  {
   "cell_type": "markdown",
   "metadata": {},
   "source": [
    "**Вывожу на экран первые 10 строк таблиц, изучаю данные**"
   ]
  },
  {
   "cell_type": "code",
   "execution_count": 3,
   "metadata": {},
   "outputs": [
    {
     "data": {
      "text/html": [
       "<div>\n",
       "<style scoped>\n",
       "    .dataframe tbody tr th:only-of-type {\n",
       "        vertical-align: middle;\n",
       "    }\n",
       "\n",
       "    .dataframe tbody tr th {\n",
       "        vertical-align: top;\n",
       "    }\n",
       "\n",
       "    .dataframe thead th {\n",
       "        text-align: right;\n",
       "    }\n",
       "</style>\n",
       "<table border=\"1\" class=\"dataframe\">\n",
       "  <thead>\n",
       "    <tr style=\"text-align: right;\">\n",
       "      <th></th>\n",
       "      <th>EventName</th>\n",
       "      <th>DeviceIDHash</th>\n",
       "      <th>EventTimestamp</th>\n",
       "      <th>ExpId</th>\n",
       "    </tr>\n",
       "  </thead>\n",
       "  <tbody>\n",
       "    <tr>\n",
       "      <th>0</th>\n",
       "      <td>MainScreenAppear</td>\n",
       "      <td>4575588528974610257</td>\n",
       "      <td>1564029816</td>\n",
       "      <td>246</td>\n",
       "    </tr>\n",
       "    <tr>\n",
       "      <th>1</th>\n",
       "      <td>MainScreenAppear</td>\n",
       "      <td>7416695313311560658</td>\n",
       "      <td>1564053102</td>\n",
       "      <td>246</td>\n",
       "    </tr>\n",
       "    <tr>\n",
       "      <th>2</th>\n",
       "      <td>PaymentScreenSuccessful</td>\n",
       "      <td>3518123091307005509</td>\n",
       "      <td>1564054127</td>\n",
       "      <td>248</td>\n",
       "    </tr>\n",
       "    <tr>\n",
       "      <th>3</th>\n",
       "      <td>CartScreenAppear</td>\n",
       "      <td>3518123091307005509</td>\n",
       "      <td>1564054127</td>\n",
       "      <td>248</td>\n",
       "    </tr>\n",
       "    <tr>\n",
       "      <th>4</th>\n",
       "      <td>PaymentScreenSuccessful</td>\n",
       "      <td>6217807653094995999</td>\n",
       "      <td>1564055322</td>\n",
       "      <td>248</td>\n",
       "    </tr>\n",
       "    <tr>\n",
       "      <th>5</th>\n",
       "      <td>CartScreenAppear</td>\n",
       "      <td>6217807653094995999</td>\n",
       "      <td>1564055323</td>\n",
       "      <td>248</td>\n",
       "    </tr>\n",
       "    <tr>\n",
       "      <th>6</th>\n",
       "      <td>OffersScreenAppear</td>\n",
       "      <td>8351860793733343758</td>\n",
       "      <td>1564066242</td>\n",
       "      <td>246</td>\n",
       "    </tr>\n",
       "    <tr>\n",
       "      <th>7</th>\n",
       "      <td>MainScreenAppear</td>\n",
       "      <td>5682100281902512875</td>\n",
       "      <td>1564085677</td>\n",
       "      <td>246</td>\n",
       "    </tr>\n",
       "    <tr>\n",
       "      <th>8</th>\n",
       "      <td>MainScreenAppear</td>\n",
       "      <td>1850981295691852772</td>\n",
       "      <td>1564086702</td>\n",
       "      <td>247</td>\n",
       "    </tr>\n",
       "    <tr>\n",
       "      <th>9</th>\n",
       "      <td>MainScreenAppear</td>\n",
       "      <td>5407636962369102641</td>\n",
       "      <td>1564112112</td>\n",
       "      <td>246</td>\n",
       "    </tr>\n",
       "  </tbody>\n",
       "</table>\n",
       "</div>"
      ],
      "text/plain": [
       "                 EventName         DeviceIDHash  EventTimestamp  ExpId\n",
       "0  MainScreenAppear         4575588528974610257  1564029816      246  \n",
       "1  MainScreenAppear         7416695313311560658  1564053102      246  \n",
       "2  PaymentScreenSuccessful  3518123091307005509  1564054127      248  \n",
       "3  CartScreenAppear         3518123091307005509  1564054127      248  \n",
       "4  PaymentScreenSuccessful  6217807653094995999  1564055322      248  \n",
       "5  CartScreenAppear         6217807653094995999  1564055323      248  \n",
       "6  OffersScreenAppear       8351860793733343758  1564066242      246  \n",
       "7  MainScreenAppear         5682100281902512875  1564085677      246  \n",
       "8  MainScreenAppear         1850981295691852772  1564086702      247  \n",
       "9  MainScreenAppear         5407636962369102641  1564112112      246  "
      ]
     },
     "metadata": {},
     "output_type": "display_data"
    }
   ],
   "source": [
    "display(df.head(10))"
   ]
  },
  {
   "cell_type": "markdown",
   "metadata": {},
   "source": [
    "**Вывожу сводную информацию о таблице**"
   ]
  },
  {
   "cell_type": "code",
   "execution_count": 4,
   "metadata": {},
   "outputs": [
    {
     "name": "stdout",
     "output_type": "stream",
     "text": [
      "<class 'pandas.core.frame.DataFrame'>\n",
      "RangeIndex: 244126 entries, 0 to 244125\n",
      "Data columns (total 4 columns):\n",
      " #   Column          Non-Null Count   Dtype \n",
      "---  ------          --------------   ----- \n",
      " 0   EventName       244126 non-null  object\n",
      " 1   DeviceIDHash    244126 non-null  int64 \n",
      " 2   EventTimestamp  244126 non-null  int64 \n",
      " 3   ExpId           244126 non-null  int64 \n",
      "dtypes: int64(3), object(1)\n",
      "memory usage: 7.5+ MB\n"
     ]
    }
   ],
   "source": [
    "df.info()"
   ]
  },
  {
   "cell_type": "markdown",
   "metadata": {},
   "source": [
    "**Пропусков в таблице нет, названия столбцов необходимо изменить для удобства**"
   ]
  },
  {
   "cell_type": "markdown",
   "metadata": {},
   "source": [
    "### Подготовка данных"
   ]
  },
  {
   "cell_type": "markdown",
   "metadata": {},
   "source": [
    "**Переименовываю столбцы**"
   ]
  },
  {
   "cell_type": "code",
   "execution_count": 5,
   "metadata": {},
   "outputs": [],
   "source": [
    "df = df.rename(\n",
    "    columns={\n",
    "        'EventName':'event_name',\n",
    "        'DeviceIDHash':'user_id',\n",
    "        'EventTimestamp':'event_time',\n",
    "        'ExpId':'group'\n",
    "    }\n",
    ")"
   ]
  },
  {
   "cell_type": "markdown",
   "metadata": {},
   "source": [
    "**Добавляю столбец даты и времени**"
   ]
  },
  {
   "cell_type": "code",
   "execution_count": 6,
   "metadata": {},
   "outputs": [],
   "source": [
    "df['datetime'] = pd.to_datetime(df['event_time'], unit='s')"
   ]
  },
  {
   "cell_type": "markdown",
   "metadata": {},
   "source": [
    "**Добавляю столбец только с датов без времени**"
   ]
  },
  {
   "cell_type": "code",
   "execution_count": 7,
   "metadata": {},
   "outputs": [],
   "source": [
    "df['date'] = df['datetime'].dt.date"
   ]
  },
  {
   "cell_type": "markdown",
   "metadata": {},
   "source": [
    "**Проверяю проедланные выше действия**"
   ]
  },
  {
   "cell_type": "code",
   "execution_count": 8,
   "metadata": {},
   "outputs": [
    {
     "data": {
      "text/html": [
       "<div>\n",
       "<style scoped>\n",
       "    .dataframe tbody tr th:only-of-type {\n",
       "        vertical-align: middle;\n",
       "    }\n",
       "\n",
       "    .dataframe tbody tr th {\n",
       "        vertical-align: top;\n",
       "    }\n",
       "\n",
       "    .dataframe thead th {\n",
       "        text-align: right;\n",
       "    }\n",
       "</style>\n",
       "<table border=\"1\" class=\"dataframe\">\n",
       "  <thead>\n",
       "    <tr style=\"text-align: right;\">\n",
       "      <th></th>\n",
       "      <th>event_name</th>\n",
       "      <th>user_id</th>\n",
       "      <th>event_time</th>\n",
       "      <th>group</th>\n",
       "      <th>datetime</th>\n",
       "      <th>date</th>\n",
       "    </tr>\n",
       "  </thead>\n",
       "  <tbody>\n",
       "    <tr>\n",
       "      <th>0</th>\n",
       "      <td>MainScreenAppear</td>\n",
       "      <td>4575588528974610257</td>\n",
       "      <td>1564029816</td>\n",
       "      <td>246</td>\n",
       "      <td>2019-07-25 04:43:36</td>\n",
       "      <td>2019-07-25</td>\n",
       "    </tr>\n",
       "    <tr>\n",
       "      <th>1</th>\n",
       "      <td>MainScreenAppear</td>\n",
       "      <td>7416695313311560658</td>\n",
       "      <td>1564053102</td>\n",
       "      <td>246</td>\n",
       "      <td>2019-07-25 11:11:42</td>\n",
       "      <td>2019-07-25</td>\n",
       "    </tr>\n",
       "    <tr>\n",
       "      <th>2</th>\n",
       "      <td>PaymentScreenSuccessful</td>\n",
       "      <td>3518123091307005509</td>\n",
       "      <td>1564054127</td>\n",
       "      <td>248</td>\n",
       "      <td>2019-07-25 11:28:47</td>\n",
       "      <td>2019-07-25</td>\n",
       "    </tr>\n",
       "    <tr>\n",
       "      <th>3</th>\n",
       "      <td>CartScreenAppear</td>\n",
       "      <td>3518123091307005509</td>\n",
       "      <td>1564054127</td>\n",
       "      <td>248</td>\n",
       "      <td>2019-07-25 11:28:47</td>\n",
       "      <td>2019-07-25</td>\n",
       "    </tr>\n",
       "    <tr>\n",
       "      <th>4</th>\n",
       "      <td>PaymentScreenSuccessful</td>\n",
       "      <td>6217807653094995999</td>\n",
       "      <td>1564055322</td>\n",
       "      <td>248</td>\n",
       "      <td>2019-07-25 11:48:42</td>\n",
       "      <td>2019-07-25</td>\n",
       "    </tr>\n",
       "    <tr>\n",
       "      <th>5</th>\n",
       "      <td>CartScreenAppear</td>\n",
       "      <td>6217807653094995999</td>\n",
       "      <td>1564055323</td>\n",
       "      <td>248</td>\n",
       "      <td>2019-07-25 11:48:43</td>\n",
       "      <td>2019-07-25</td>\n",
       "    </tr>\n",
       "    <tr>\n",
       "      <th>6</th>\n",
       "      <td>OffersScreenAppear</td>\n",
       "      <td>8351860793733343758</td>\n",
       "      <td>1564066242</td>\n",
       "      <td>246</td>\n",
       "      <td>2019-07-25 14:50:42</td>\n",
       "      <td>2019-07-25</td>\n",
       "    </tr>\n",
       "    <tr>\n",
       "      <th>7</th>\n",
       "      <td>MainScreenAppear</td>\n",
       "      <td>5682100281902512875</td>\n",
       "      <td>1564085677</td>\n",
       "      <td>246</td>\n",
       "      <td>2019-07-25 20:14:37</td>\n",
       "      <td>2019-07-25</td>\n",
       "    </tr>\n",
       "    <tr>\n",
       "      <th>8</th>\n",
       "      <td>MainScreenAppear</td>\n",
       "      <td>1850981295691852772</td>\n",
       "      <td>1564086702</td>\n",
       "      <td>247</td>\n",
       "      <td>2019-07-25 20:31:42</td>\n",
       "      <td>2019-07-25</td>\n",
       "    </tr>\n",
       "    <tr>\n",
       "      <th>9</th>\n",
       "      <td>MainScreenAppear</td>\n",
       "      <td>5407636962369102641</td>\n",
       "      <td>1564112112</td>\n",
       "      <td>246</td>\n",
       "      <td>2019-07-26 03:35:12</td>\n",
       "      <td>2019-07-26</td>\n",
       "    </tr>\n",
       "  </tbody>\n",
       "</table>\n",
       "</div>"
      ],
      "text/plain": [
       "                event_name              user_id  event_time  group  \\\n",
       "0  MainScreenAppear         4575588528974610257  1564029816  246     \n",
       "1  MainScreenAppear         7416695313311560658  1564053102  246     \n",
       "2  PaymentScreenSuccessful  3518123091307005509  1564054127  248     \n",
       "3  CartScreenAppear         3518123091307005509  1564054127  248     \n",
       "4  PaymentScreenSuccessful  6217807653094995999  1564055322  248     \n",
       "5  CartScreenAppear         6217807653094995999  1564055323  248     \n",
       "6  OffersScreenAppear       8351860793733343758  1564066242  246     \n",
       "7  MainScreenAppear         5682100281902512875  1564085677  246     \n",
       "8  MainScreenAppear         1850981295691852772  1564086702  247     \n",
       "9  MainScreenAppear         5407636962369102641  1564112112  246     \n",
       "\n",
       "             datetime        date  \n",
       "0 2019-07-25 04:43:36  2019-07-25  \n",
       "1 2019-07-25 11:11:42  2019-07-25  \n",
       "2 2019-07-25 11:28:47  2019-07-25  \n",
       "3 2019-07-25 11:28:47  2019-07-25  \n",
       "4 2019-07-25 11:48:42  2019-07-25  \n",
       "5 2019-07-25 11:48:43  2019-07-25  \n",
       "6 2019-07-25 14:50:42  2019-07-25  \n",
       "7 2019-07-25 20:14:37  2019-07-25  \n",
       "8 2019-07-25 20:31:42  2019-07-25  \n",
       "9 2019-07-26 03:35:12  2019-07-26  "
      ]
     },
     "metadata": {},
     "output_type": "display_data"
    },
    {
     "name": "stdout",
     "output_type": "stream",
     "text": [
      "<class 'pandas.core.frame.DataFrame'>\n",
      "RangeIndex: 244126 entries, 0 to 244125\n",
      "Data columns (total 6 columns):\n",
      " #   Column      Non-Null Count   Dtype         \n",
      "---  ------      --------------   -----         \n",
      " 0   event_name  244126 non-null  object        \n",
      " 1   user_id     244126 non-null  int64         \n",
      " 2   event_time  244126 non-null  int64         \n",
      " 3   group       244126 non-null  int64         \n",
      " 4   datetime    244126 non-null  datetime64[ns]\n",
      " 5   date        244126 non-null  object        \n",
      "dtypes: datetime64[ns](1), int64(3), object(2)\n",
      "memory usage: 11.2+ MB\n"
     ]
    }
   ],
   "source": [
    "display(df.head(10))\n",
    "df.info()"
   ]
  },
  {
   "cell_type": "code",
   "execution_count": 9,
   "metadata": {},
   "outputs": [],
   "source": [
    "df['date'] = df['datetime'].astype('datetime64[D]')"
   ]
  },
  {
   "cell_type": "markdown",
   "metadata": {},
   "source": [
    "**Изменяю названия групп в столбе group с `246`, `247` и `248` на `A1`, `A2` и `B` соответственно**"
   ]
  },
  {
   "cell_type": "code",
   "execution_count": 10,
   "metadata": {},
   "outputs": [],
   "source": [
    "df['group'] = df['group'].replace(246, 'A1')\n",
    "df['group'] = df['group'].replace(247, 'A2')\n",
    "df['group'] = df['group'].replace(248, 'B')"
   ]
  },
  {
   "cell_type": "markdown",
   "metadata": {},
   "source": [
    "**Проверяю таблицу на наличие дубликатов**"
   ]
  },
  {
   "cell_type": "code",
   "execution_count": 11,
   "metadata": {},
   "outputs": [
    {
     "data": {
      "text/plain": [
       "413"
      ]
     },
     "execution_count": 11,
     "metadata": {},
     "output_type": "execute_result"
    }
   ],
   "source": [
    "df.duplicated().sum()"
   ]
  },
  {
   "cell_type": "markdown",
   "metadata": {},
   "source": [
    "**Удаляю явные дубликаты**"
   ]
  },
  {
   "cell_type": "code",
   "execution_count": 12,
   "metadata": {},
   "outputs": [],
   "source": [
    "df = df.drop_duplicates().reset_index(drop=True)"
   ]
  },
  {
   "cell_type": "markdown",
   "metadata": {},
   "source": [
    "**Проверяю итоговые данные готовой таблицы**"
   ]
  },
  {
   "cell_type": "code",
   "execution_count": 13,
   "metadata": {},
   "outputs": [
    {
     "data": {
      "text/html": [
       "<div>\n",
       "<style scoped>\n",
       "    .dataframe tbody tr th:only-of-type {\n",
       "        vertical-align: middle;\n",
       "    }\n",
       "\n",
       "    .dataframe tbody tr th {\n",
       "        vertical-align: top;\n",
       "    }\n",
       "\n",
       "    .dataframe thead th {\n",
       "        text-align: right;\n",
       "    }\n",
       "</style>\n",
       "<table border=\"1\" class=\"dataframe\">\n",
       "  <thead>\n",
       "    <tr style=\"text-align: right;\">\n",
       "      <th></th>\n",
       "      <th>event_name</th>\n",
       "      <th>user_id</th>\n",
       "      <th>event_time</th>\n",
       "      <th>group</th>\n",
       "      <th>datetime</th>\n",
       "      <th>date</th>\n",
       "    </tr>\n",
       "  </thead>\n",
       "  <tbody>\n",
       "    <tr>\n",
       "      <th>0</th>\n",
       "      <td>MainScreenAppear</td>\n",
       "      <td>4575588528974610257</td>\n",
       "      <td>1564029816</td>\n",
       "      <td>A1</td>\n",
       "      <td>2019-07-25 04:43:36</td>\n",
       "      <td>2019-07-25</td>\n",
       "    </tr>\n",
       "    <tr>\n",
       "      <th>1</th>\n",
       "      <td>MainScreenAppear</td>\n",
       "      <td>7416695313311560658</td>\n",
       "      <td>1564053102</td>\n",
       "      <td>A1</td>\n",
       "      <td>2019-07-25 11:11:42</td>\n",
       "      <td>2019-07-25</td>\n",
       "    </tr>\n",
       "    <tr>\n",
       "      <th>2</th>\n",
       "      <td>PaymentScreenSuccessful</td>\n",
       "      <td>3518123091307005509</td>\n",
       "      <td>1564054127</td>\n",
       "      <td>B</td>\n",
       "      <td>2019-07-25 11:28:47</td>\n",
       "      <td>2019-07-25</td>\n",
       "    </tr>\n",
       "    <tr>\n",
       "      <th>3</th>\n",
       "      <td>CartScreenAppear</td>\n",
       "      <td>3518123091307005509</td>\n",
       "      <td>1564054127</td>\n",
       "      <td>B</td>\n",
       "      <td>2019-07-25 11:28:47</td>\n",
       "      <td>2019-07-25</td>\n",
       "    </tr>\n",
       "    <tr>\n",
       "      <th>4</th>\n",
       "      <td>PaymentScreenSuccessful</td>\n",
       "      <td>6217807653094995999</td>\n",
       "      <td>1564055322</td>\n",
       "      <td>B</td>\n",
       "      <td>2019-07-25 11:48:42</td>\n",
       "      <td>2019-07-25</td>\n",
       "    </tr>\n",
       "    <tr>\n",
       "      <th>5</th>\n",
       "      <td>CartScreenAppear</td>\n",
       "      <td>6217807653094995999</td>\n",
       "      <td>1564055323</td>\n",
       "      <td>B</td>\n",
       "      <td>2019-07-25 11:48:43</td>\n",
       "      <td>2019-07-25</td>\n",
       "    </tr>\n",
       "    <tr>\n",
       "      <th>6</th>\n",
       "      <td>OffersScreenAppear</td>\n",
       "      <td>8351860793733343758</td>\n",
       "      <td>1564066242</td>\n",
       "      <td>A1</td>\n",
       "      <td>2019-07-25 14:50:42</td>\n",
       "      <td>2019-07-25</td>\n",
       "    </tr>\n",
       "    <tr>\n",
       "      <th>7</th>\n",
       "      <td>MainScreenAppear</td>\n",
       "      <td>5682100281902512875</td>\n",
       "      <td>1564085677</td>\n",
       "      <td>A1</td>\n",
       "      <td>2019-07-25 20:14:37</td>\n",
       "      <td>2019-07-25</td>\n",
       "    </tr>\n",
       "    <tr>\n",
       "      <th>8</th>\n",
       "      <td>MainScreenAppear</td>\n",
       "      <td>1850981295691852772</td>\n",
       "      <td>1564086702</td>\n",
       "      <td>A2</td>\n",
       "      <td>2019-07-25 20:31:42</td>\n",
       "      <td>2019-07-25</td>\n",
       "    </tr>\n",
       "    <tr>\n",
       "      <th>9</th>\n",
       "      <td>MainScreenAppear</td>\n",
       "      <td>5407636962369102641</td>\n",
       "      <td>1564112112</td>\n",
       "      <td>A1</td>\n",
       "      <td>2019-07-26 03:35:12</td>\n",
       "      <td>2019-07-26</td>\n",
       "    </tr>\n",
       "  </tbody>\n",
       "</table>\n",
       "</div>"
      ],
      "text/plain": [
       "                event_name              user_id  event_time group  \\\n",
       "0  MainScreenAppear         4575588528974610257  1564029816  A1     \n",
       "1  MainScreenAppear         7416695313311560658  1564053102  A1     \n",
       "2  PaymentScreenSuccessful  3518123091307005509  1564054127  B      \n",
       "3  CartScreenAppear         3518123091307005509  1564054127  B      \n",
       "4  PaymentScreenSuccessful  6217807653094995999  1564055322  B      \n",
       "5  CartScreenAppear         6217807653094995999  1564055323  B      \n",
       "6  OffersScreenAppear       8351860793733343758  1564066242  A1     \n",
       "7  MainScreenAppear         5682100281902512875  1564085677  A1     \n",
       "8  MainScreenAppear         1850981295691852772  1564086702  A2     \n",
       "9  MainScreenAppear         5407636962369102641  1564112112  A1     \n",
       "\n",
       "             datetime       date  \n",
       "0 2019-07-25 04:43:36 2019-07-25  \n",
       "1 2019-07-25 11:11:42 2019-07-25  \n",
       "2 2019-07-25 11:28:47 2019-07-25  \n",
       "3 2019-07-25 11:28:47 2019-07-25  \n",
       "4 2019-07-25 11:48:42 2019-07-25  \n",
       "5 2019-07-25 11:48:43 2019-07-25  \n",
       "6 2019-07-25 14:50:42 2019-07-25  \n",
       "7 2019-07-25 20:14:37 2019-07-25  \n",
       "8 2019-07-25 20:31:42 2019-07-25  \n",
       "9 2019-07-26 03:35:12 2019-07-26  "
      ]
     },
     "metadata": {},
     "output_type": "display_data"
    },
    {
     "name": "stdout",
     "output_type": "stream",
     "text": [
      "<class 'pandas.core.frame.DataFrame'>\n",
      "RangeIndex: 243713 entries, 0 to 243712\n",
      "Data columns (total 6 columns):\n",
      " #   Column      Non-Null Count   Dtype         \n",
      "---  ------      --------------   -----         \n",
      " 0   event_name  243713 non-null  object        \n",
      " 1   user_id     243713 non-null  int64         \n",
      " 2   event_time  243713 non-null  int64         \n",
      " 3   group       243713 non-null  object        \n",
      " 4   datetime    243713 non-null  datetime64[ns]\n",
      " 5   date        243713 non-null  datetime64[ns]\n",
      "dtypes: datetime64[ns](2), int64(2), object(2)\n",
      "memory usage: 11.2+ MB\n"
     ]
    }
   ],
   "source": [
    "display(df.head(10))\n",
    "df.info()"
   ]
  },
  {
   "cell_type": "markdown",
   "metadata": {},
   "source": [
    "**Дубликаты во всех столбцах удалены, добавлено 2 новых столбца, изменены типы данных столбцов, переименованы все столбцы, перименованы названия групп, можно приступать к следюущему этапу**"
   ]
  },
  {
   "cell_type": "markdown",
   "metadata": {},
   "source": [
    "## Изучение и проверка данных"
   ]
  },
  {
   "cell_type": "markdown",
   "metadata": {},
   "source": [
    "**Вывожу на экране количество событий в логе**"
   ]
  },
  {
   "cell_type": "code",
   "execution_count": 14,
   "metadata": {},
   "outputs": [
    {
     "name": "stdout",
     "output_type": "stream",
     "text": [
      "243713\n"
     ]
    }
   ],
   "source": [
    "print(df['event_name'].count())"
   ]
  },
  {
   "cell_type": "markdown",
   "metadata": {},
   "source": [
    "**Вывожу на экран более подобную информацию о событиях в логе**"
   ]
  },
  {
   "cell_type": "code",
   "execution_count": 15,
   "metadata": {},
   "outputs": [
    {
     "data": {
      "text/plain": [
       "MainScreenAppear           119101\n",
       "OffersScreenAppear         46808 \n",
       "CartScreenAppear           42668 \n",
       "PaymentScreenSuccessful    34118 \n",
       "Tutorial                   1018  \n",
       "Name: event_name, dtype: int64"
      ]
     },
     "execution_count": 15,
     "metadata": {},
     "output_type": "execute_result"
    }
   ],
   "source": [
    "df['event_name'].value_counts()"
   ]
  },
  {
   "cell_type": "markdown",
   "metadata": {},
   "source": [
    "**Всего 5 уникальных событий, из них больше всего `MainScreenAppear`**"
   ]
  },
  {
   "cell_type": "markdown",
   "metadata": {},
   "source": [
    "**Вывожу на экране количество пользователей в логе**"
   ]
  },
  {
   "cell_type": "code",
   "execution_count": 16,
   "metadata": {},
   "outputs": [
    {
     "name": "stdout",
     "output_type": "stream",
     "text": [
      "7551\n"
     ]
    }
   ],
   "source": [
    "unique_user_id = df['user_id'].nunique()\n",
    "print(unique_user_id)"
   ]
  },
  {
   "cell_type": "markdown",
   "metadata": {},
   "source": [
    "**Вывожу на экран средее число событий на одного пользователя**"
   ]
  },
  {
   "cell_type": "code",
   "execution_count": 17,
   "metadata": {},
   "outputs": [
    {
     "name": "stdout",
     "output_type": "stream",
     "text": [
      "32.0\n"
     ]
    }
   ],
   "source": [
    "events_sum = (df['event_name'].count()) / unique_user_id\n",
    "print(events_sum.round())"
   ]
  },
  {
   "cell_type": "markdown",
   "metadata": {},
   "source": [
    "**Определяю минимальную и максимальную даты логов**"
   ]
  },
  {
   "cell_type": "code",
   "execution_count": 18,
   "metadata": {},
   "outputs": [
    {
     "name": "stdout",
     "output_type": "stream",
     "text": [
      "2019-07-25 00:00:00\n",
      "2019-08-07 00:00:00\n"
     ]
    }
   ],
   "source": [
    "print(df['date'].min())\n",
    "print(df['date'].max())"
   ]
  },
  {
   "cell_type": "markdown",
   "metadata": {},
   "source": [
    "**Самая ранняя дата: 25 июля 2019 года**\n",
    "\n",
    "**Самая поздняя дата: 7 августа 2019 года**"
   ]
  },
  {
   "cell_type": "markdown",
   "metadata": {},
   "source": [
    "**Строю гистограмму по дате и времени**"
   ]
  },
  {
   "cell_type": "code",
   "execution_count": 19,
   "metadata": {},
   "outputs": [
    {
     "data": {
      "image/png": "[encoded data removed]",
      "text/plain": [
       "<Figure size 1080x360 with 1 Axes>"
      ]
     },
     "metadata": {
      "needs_background": "light"
     },
     "output_type": "display_data"
    }
   ],
   "source": [
    "plt.figure(figsize=(15,5))\n",
    "df['datetime'].hist(bins=10)\n",
    "plt.title('Гистограмма по дате и времени')\n",
    "plt.show()"
   ]
  },
  {
   "cell_type": "code",
   "execution_count": 20,
   "metadata": {},
   "outputs": [
    {
     "data": {
      "image/png": "[encoded data removed]",
      "text/plain": [
       "<Figure size 1008x360 with 1 Axes>"
      ]
     },
     "metadata": {
      "needs_background": "light"
     },
     "output_type": "display_data"
    }
   ],
   "source": [
    "df['datetime'].hist(bins=14*24, figsize=(14, 5));"
   ]
  },
  {
   "cell_type": "markdown",
   "metadata": {},
   "source": [
    "**Судя по гистограмме, большинство данных мы имеем за пероди с 1 августа, поэтому стоит отбросить данные, которых мало**"
   ]
  },
  {
   "cell_type": "code",
   "execution_count": 21,
   "metadata": {},
   "outputs": [
    {
     "name": "stdout",
     "output_type": "stream",
     "text": [
      "7551\n",
      "243713\n"
     ]
    }
   ],
   "source": [
    "df_user_id = df['user_id'].nunique()\n",
    "df_event_name = df['event_name'].count()\n",
    "print(df_user_id)\n",
    "print(df_event_name)"
   ]
  },
  {
   "cell_type": "markdown",
   "metadata": {},
   "source": [
    "**Удаляю неполные данные за период до 1 августа**"
   ]
  },
  {
   "cell_type": "code",
   "execution_count": 22,
   "metadata": {},
   "outputs": [],
   "source": [
    "df = df.loc[df['date'] > '2019-07-31']"
   ]
  },
  {
   "cell_type": "markdown",
   "metadata": {},
   "source": [
    "**Строю гистограмму по дате и времени после удаления части данных, проверяю**"
   ]
  },
  {
   "cell_type": "code",
   "execution_count": 23,
   "metadata": {},
   "outputs": [
    {
     "data": {
      "image/png": "[encoded data removed]",
      "text/plain": [
       "<Figure size 1080x360 with 1 Axes>"
      ]
     },
     "metadata": {
      "needs_background": "light"
     },
     "output_type": "display_data"
    }
   ],
   "source": [
    "plt.figure(figsize=(15,5))\n",
    "df['datetime'].hist(bins=10)\n",
    "plt.title('Гистограмма по дате и времени')\n",
    "plt.show()"
   ]
  },
  {
   "cell_type": "markdown",
   "metadata": {},
   "source": [
    "**Данные корректно удалены. Теперь я работаю с данными, начиная с 1 августа. Оцениваю количество потерянных данных**"
   ]
  },
  {
   "cell_type": "code",
   "execution_count": 24,
   "metadata": {},
   "outputs": [
    {
     "name": "stdout",
     "output_type": "stream",
     "text": [
      "7534\n",
      "240887\n"
     ]
    }
   ],
   "source": [
    "df_new_user_id = df['user_id'].nunique()\n",
    "df_new_event = df['event_name'].count()\n",
    "print(df_new_user_id)\n",
    "print(df_new_event)"
   ]
  },
  {
   "cell_type": "markdown",
   "metadata": {},
   "source": [
    "**До удаления данных было 7551 пользователей, после удаления данных стало 7534, утеряно 17 пользователей. До удаления данных было 243713 событий, после удаления данных стало 240887, утеряно 2826 событий**"
   ]
  },
  {
   "cell_type": "code",
   "execution_count": 25,
   "metadata": {},
   "outputs": [
    {
     "name": "stdout",
     "output_type": "stream",
     "text": [
      "Потеряно 2826 событий, что составляет 1.2 %\n"
     ]
    }
   ],
   "source": [
    "print('Потеряно', (df_event_name - df_new_event), 'событий, что составляет', ((df_event_name - df_new_event)/df_event_name*100).round(1), '%')"
   ]
  },
  {
   "cell_type": "code",
   "execution_count": 26,
   "metadata": {
    "scrolled": true
   },
   "outputs": [
    {
     "name": "stdout",
     "output_type": "stream",
     "text": [
      "Потеряно 17 пользователей, что составляет 0.22513574361011784 %\n"
     ]
    }
   ],
   "source": [
    "print('Потеряно', (df_user_id - df_new_user_id), 'пользователей, что составляет', ((df_user_id - df_new_user_id)/df_user_id*100), '%')"
   ]
  },
  {
   "cell_type": "markdown",
   "metadata": {},
   "source": [
    "**Проверяю количество пользователей из каждой экспеттментальной группы**"
   ]
  },
  {
   "cell_type": "code",
   "execution_count": 27,
   "metadata": {},
   "outputs": [
    {
     "data": {
      "text/plain": [
       "group\n",
       "A1    2484\n",
       "A2    2513\n",
       "B     2537\n",
       "Name: user_id, dtype: int64"
      ]
     },
     "execution_count": 27,
     "metadata": {},
     "output_type": "execute_result"
    }
   ],
   "source": [
    "df.groupby('group')['user_id'].nunique()"
   ]
  },
  {
   "cell_type": "markdown",
   "metadata": {},
   "source": [
    "**В каждой экспериментальной группе есть примерно 2500 пользователей. Можем переходить к следующему этапу**"
   ]
  },
  {
   "cell_type": "markdown",
   "metadata": {},
   "source": [
    "## Изучение воронки событий"
   ]
  },
  {
   "cell_type": "markdown",
   "metadata": {},
   "source": [
    "**Сортирую события по частоте**"
   ]
  },
  {
   "cell_type": "code",
   "execution_count": 28,
   "metadata": {},
   "outputs": [
    {
     "data": {
      "text/plain": [
       "MainScreenAppear           117328\n",
       "OffersScreenAppear         46333 \n",
       "CartScreenAppear           42303 \n",
       "PaymentScreenSuccessful    33918 \n",
       "Tutorial                   1005  \n",
       "Name: event_name, dtype: int64"
      ]
     },
     "execution_count": 28,
     "metadata": {},
     "output_type": "execute_result"
    }
   ],
   "source": [
    "df['event_name'].value_counts()"
   ]
  },
  {
   "cell_type": "markdown",
   "metadata": {},
   "source": [
    "События:\n",
    "* MainScreenAppear - появление главного экрана (117328)\n",
    "* OffersScreenAppear - появление экрана предложений (46333)\n",
    "* CartScreenAppear - появление экрана корзины (42303)\n",
    "* PaymentScreenSuccessful - экран успешной оплаты (33918)\n",
    "* Tutorial - обучение (1005)"
   ]
  },
  {
   "cell_type": "markdown",
   "metadata": {},
   "source": [
    "**Считаю, сколько пользователей совершали каждое из этих событий**"
   ]
  },
  {
   "cell_type": "code",
   "execution_count": 29,
   "metadata": {},
   "outputs": [
    {
     "data": {
      "text/html": [
       "<div>\n",
       "<style scoped>\n",
       "    .dataframe tbody tr th:only-of-type {\n",
       "        vertical-align: middle;\n",
       "    }\n",
       "\n",
       "    .dataframe tbody tr th {\n",
       "        vertical-align: top;\n",
       "    }\n",
       "\n",
       "    .dataframe thead th {\n",
       "        text-align: right;\n",
       "    }\n",
       "</style>\n",
       "<table border=\"1\" class=\"dataframe\">\n",
       "  <thead>\n",
       "    <tr style=\"text-align: right;\">\n",
       "      <th></th>\n",
       "      <th>event_name</th>\n",
       "      <th>total_users</th>\n",
       "      <th>percent</th>\n",
       "    </tr>\n",
       "  </thead>\n",
       "  <tbody>\n",
       "    <tr>\n",
       "      <th>0</th>\n",
       "      <td>MainScreenAppear</td>\n",
       "      <td>7419</td>\n",
       "      <td>98.473586</td>\n",
       "    </tr>\n",
       "    <tr>\n",
       "      <th>1</th>\n",
       "      <td>OffersScreenAppear</td>\n",
       "      <td>4593</td>\n",
       "      <td>60.963632</td>\n",
       "    </tr>\n",
       "    <tr>\n",
       "      <th>2</th>\n",
       "      <td>CartScreenAppear</td>\n",
       "      <td>3734</td>\n",
       "      <td>49.561986</td>\n",
       "    </tr>\n",
       "    <tr>\n",
       "      <th>3</th>\n",
       "      <td>PaymentScreenSuccessful</td>\n",
       "      <td>3539</td>\n",
       "      <td>46.973719</td>\n",
       "    </tr>\n",
       "    <tr>\n",
       "      <th>4</th>\n",
       "      <td>Tutorial</td>\n",
       "      <td>840</td>\n",
       "      <td>11.149456</td>\n",
       "    </tr>\n",
       "  </tbody>\n",
       "</table>\n",
       "</div>"
      ],
      "text/plain": [
       "                event_name  total_users    percent\n",
       "0  MainScreenAppear         7419         98.473586\n",
       "1  OffersScreenAppear       4593         60.963632\n",
       "2  CartScreenAppear         3734         49.561986\n",
       "3  PaymentScreenSuccessful  3539         46.973719\n",
       "4  Tutorial                 840          11.149456"
      ]
     },
     "metadata": {},
     "output_type": "display_data"
    }
   ],
   "source": [
    "events_users = df.groupby('event_name')['user_id'].nunique().sort_values(ascending=False).reset_index().rename(columns={'user_id': 'total_users'})\n",
    "events_users['percent'] = (events_users['total_users'] / df['user_id'].nunique() * 100)\n",
    "display(events_users)"
   ]
  },
  {
   "cell_type": "markdown",
   "metadata": {},
   "source": [
    "**Предполагаю, в каком порядке происходят события**"
   ]
  },
  {
   "cell_type": "markdown",
   "metadata": {},
   "source": [
    "Как вы видим из предыдущей таблицы, событие `Tutorial` используется лишь 11%, можно было бы предположить, что оно находится самым последним пунктом в цепочке, но это не так. Обычно `Tutorial` пропускают пользователи, предполагая, что смогут разобраться с приложением самостоятельно, поэтому я предполагаю, что порядок действий следующий: `MainScreenAppear` --> `Tutorial` --> `OffersScreenAppear` --> `CartScreenAppear` --> `PaymentScreenSuccessful`"
   ]
  },
  {
   "cell_type": "markdown",
   "metadata": {},
   "source": [
    "**Считаю, какая доля пользователей проходит на следующий шаг воронки**"
   ]
  },
  {
   "cell_type": "markdown",
   "metadata": {},
   "source": [
    "**Для начала следует исключить действие `Tutorial`, так как его пропускает большинство пользователей**"
   ]
  },
  {
   "cell_type": "code",
   "execution_count": 30,
   "metadata": {},
   "outputs": [],
   "source": [
    "df = df.query('event_name != \"Tutorial\"')"
   ]
  },
  {
   "cell_type": "markdown",
   "metadata": {},
   "source": [
    "**Проверяю таблицу без `Tutorial`, задаю переменную `df_groupby`**"
   ]
  },
  {
   "cell_type": "code",
   "execution_count": 31,
   "metadata": {},
   "outputs": [
    {
     "name": "stdout",
     "output_type": "stream",
     "text": [
      "event_name\n",
      "MainScreenAppear           7419\n",
      "OffersScreenAppear         4593\n",
      "CartScreenAppear           3734\n",
      "PaymentScreenSuccessful    3539\n",
      "Name: user_id, dtype: int64\n"
     ]
    }
   ],
   "source": [
    "df_groupby = df.groupby('event_name')['user_id'].nunique().sort_values(ascending=False)\n",
    "print(df_groupby)"
   ]
  },
  {
   "cell_type": "markdown",
   "metadata": {},
   "source": [
    "**Считаю, какая доля пользователей переходит на следующий шаг воронки**"
   ]
  },
  {
   "cell_type": "code",
   "execution_count": 32,
   "metadata": {},
   "outputs": [
    {
     "name": "stdout",
     "output_type": "stream",
     "text": [
      "61.908613020622724\n",
      "81.29762682342695\n",
      "94.7777182645956\n"
     ]
    }
   ],
   "source": [
    "print((df_groupby[1]/df_groupby[0] * 100))\n",
    "print((df_groupby[2]/df_groupby[1] * 100))\n",
    "print((df_groupby[3]/df_groupby[2] * 100))"
   ]
  },
  {
   "cell_type": "code",
   "execution_count": 33,
   "metadata": {},
   "outputs": [
    {
     "data": {
      "text/html": [
       "<div>\n",
       "<style scoped>\n",
       "    .dataframe tbody tr th:only-of-type {\n",
       "        vertical-align: middle;\n",
       "    }\n",
       "\n",
       "    .dataframe tbody tr th {\n",
       "        vertical-align: top;\n",
       "    }\n",
       "\n",
       "    .dataframe thead th {\n",
       "        text-align: right;\n",
       "    }\n",
       "</style>\n",
       "<table border=\"1\" class=\"dataframe\">\n",
       "  <thead>\n",
       "    <tr style=\"text-align: right;\">\n",
       "      <th></th>\n",
       "      <th>event_name</th>\n",
       "      <th>user_id</th>\n",
       "      <th>percent</th>\n",
       "    </tr>\n",
       "  </thead>\n",
       "  <tbody>\n",
       "    <tr>\n",
       "      <th>1</th>\n",
       "      <td>MainScreenAppear</td>\n",
       "      <td>7419</td>\n",
       "      <td>nan%</td>\n",
       "    </tr>\n",
       "    <tr>\n",
       "      <th>2</th>\n",
       "      <td>OffersScreenAppear</td>\n",
       "      <td>4593</td>\n",
       "      <td>61.91%</td>\n",
       "    </tr>\n",
       "    <tr>\n",
       "      <th>0</th>\n",
       "      <td>CartScreenAppear</td>\n",
       "      <td>3734</td>\n",
       "      <td>81.30%</td>\n",
       "    </tr>\n",
       "    <tr>\n",
       "      <th>3</th>\n",
       "      <td>PaymentScreenSuccessful</td>\n",
       "      <td>3539</td>\n",
       "      <td>94.78%</td>\n",
       "    </tr>\n",
       "  </tbody>\n",
       "</table>\n",
       "</div>"
      ],
      "text/plain": [
       "                event_name  user_id percent\n",
       "1  MainScreenAppear         7419     nan%  \n",
       "2  OffersScreenAppear       4593     61.91%\n",
       "0  CartScreenAppear         3734     81.30%\n",
       "3  PaymentScreenSuccessful  3539     94.78%"
      ]
     },
     "metadata": {},
     "output_type": "display_data"
    }
   ],
   "source": [
    "event_funnel = df.groupby('event_name')['user_id'].nunique().reset_index()\n",
    "event_percent = event_funnel.sort_values(by='user_id',ascending=False)\n",
    "event_percent['percent'] = event_percent['user_id']/event_percent['user_id'].shift(1)\n",
    "event_percent['percent'] = (event_percent['percent'] * 100).map('{0:.2f}%'.format)\n",
    "display(event_percent)"
   ]
  },
  {
   "cell_type": "markdown",
   "metadata": {},
   "source": [
    "62% пользователей переходит с главного экрана на экран предложений. 81% пользователей переходит с экрана предложений на экран появления корзины. 94% пользователей переходит с экрана появления корзины на экран успешной оплаты. Больше всего пользователей теряется при переходе с главного экрана на экран предложений, теряется 38% пользователей"
   ]
  },
  {
   "cell_type": "markdown",
   "metadata": {},
   "source": [
    "**Считаю количество пользователей, которое доходит с первого этапа до последнего**"
   ]
  },
  {
   "cell_type": "code",
   "execution_count": 34,
   "metadata": {},
   "outputs": [
    {
     "name": "stdout",
     "output_type": "stream",
     "text": [
      "47.70184661005526\n"
     ]
    }
   ],
   "source": [
    "print((df_groupby[3]/df_groupby[0] * 100))"
   ]
  },
  {
   "cell_type": "markdown",
   "metadata": {},
   "source": [
    "## Изучение результатов эксперимента"
   ]
  },
  {
   "cell_type": "markdown",
   "metadata": {},
   "source": [
    "**Считаю количество пользователей в каждой экспериментальной группе**"
   ]
  },
  {
   "cell_type": "code",
   "execution_count": 35,
   "metadata": {},
   "outputs": [
    {
     "name": "stdout",
     "output_type": "stream",
     "text": [
      "group\n",
      "A1       2483\n",
      "A2       2512\n",
      "B        2535\n",
      "A1+A2    4995\n",
      "Name: user_id, dtype: int64\n"
     ]
    }
   ],
   "source": [
    "users_group = df.groupby('group')['user_id'].nunique()\n",
    "users_group['A1+A2'] = users_group['A1'] + users_group['A2']\n",
    "print(users_group)"
   ]
  },
  {
   "cell_type": "markdown",
   "metadata": {},
   "source": [
    "**Проверяю, находят ли статистические критерии разницу между выборками 246(A1) и 247(A2)**"
   ]
  },
  {
   "cell_type": "markdown",
   "metadata": {},
   "source": [
    "Критерии успешного A/A-теста: \n",
    "* Количество пользователей в различных группах различается не более, чем на 1%;\n",
    "* Для всех групп фиксируют и отправляют в системы аналитики данные об одном и том же;\n",
    "* Различие ключевых метрик по группам не превышает 1% и не имеет статистической значимости;\n",
    "* Попавший в одну из групп посетитель остаётся в этой группе до конца теста. Если пользователь видит разные версии исследуемой страницы в ходе одного исследования, неизвестно, какая именно повлияла на его решения. Значит, и результаты такого теста нельзя интерпретировать однозначно."
   ]
  },
  {
   "cell_type": "code",
   "execution_count": 36,
   "metadata": {},
   "outputs": [
    {
     "name": "stdout",
     "output_type": "stream",
     "text": [
      "1.1544585987261087\n"
     ]
    }
   ],
   "source": [
    "A1 = (df[df['group'] == 'A1']['user_id']).nunique()\n",
    "A2 = (df[df['group'] == 'A2']['user_id']).nunique()\n",
    "print(100 - A1 / A2 * 100)"
   ]
  },
  {
   "cell_type": "markdown",
   "metadata": {},
   "source": [
    "Количество пользователей между группами А1 и А2 отличаются более, чем на 1%, что не является успешным А/А тестом"
   ]
  },
  {
   "cell_type": "markdown",
   "metadata": {},
   "source": [
    "**Группирую данные, задаю переменную `df_group`, считаю число пользователей, совершивших событие `MainScreenAppear` в каждой из групп**"
   ]
  },
  {
   "cell_type": "code",
   "execution_count": 37,
   "metadata": {},
   "outputs": [
    {
     "data": {
      "text/html": [
       "<div>\n",
       "<style scoped>\n",
       "    .dataframe tbody tr th:only-of-type {\n",
       "        vertical-align: middle;\n",
       "    }\n",
       "\n",
       "    .dataframe tbody tr th {\n",
       "        vertical-align: top;\n",
       "    }\n",
       "\n",
       "    .dataframe thead th {\n",
       "        text-align: right;\n",
       "    }\n",
       "</style>\n",
       "<table border=\"1\" class=\"dataframe\">\n",
       "  <thead>\n",
       "    <tr style=\"text-align: right;\">\n",
       "      <th>group</th>\n",
       "      <th>A1</th>\n",
       "      <th>A2</th>\n",
       "      <th>B</th>\n",
       "    </tr>\n",
       "    <tr>\n",
       "      <th>event_name</th>\n",
       "      <th></th>\n",
       "      <th></th>\n",
       "      <th></th>\n",
       "    </tr>\n",
       "  </thead>\n",
       "  <tbody>\n",
       "    <tr>\n",
       "      <th>MainScreenAppear</th>\n",
       "      <td>2450</td>\n",
       "      <td>2476</td>\n",
       "      <td>2493</td>\n",
       "    </tr>\n",
       "    <tr>\n",
       "      <th>OffersScreenAppear</th>\n",
       "      <td>1542</td>\n",
       "      <td>1520</td>\n",
       "      <td>1531</td>\n",
       "    </tr>\n",
       "    <tr>\n",
       "      <th>CartScreenAppear</th>\n",
       "      <td>1266</td>\n",
       "      <td>1238</td>\n",
       "      <td>1230</td>\n",
       "    </tr>\n",
       "    <tr>\n",
       "      <th>PaymentScreenSuccessful</th>\n",
       "      <td>1200</td>\n",
       "      <td>1158</td>\n",
       "      <td>1181</td>\n",
       "    </tr>\n",
       "  </tbody>\n",
       "</table>\n",
       "</div>"
      ],
      "text/plain": [
       "group                      A1    A2     B\n",
       "event_name                               \n",
       "MainScreenAppear         2450  2476  2493\n",
       "OffersScreenAppear       1542  1520  1531\n",
       "CartScreenAppear         1266  1238  1230\n",
       "PaymentScreenSuccessful  1200  1158  1181"
      ]
     },
     "metadata": {},
     "output_type": "display_data"
    }
   ],
   "source": [
    "df_group = df.pivot_table(index='event_name', values='user_id', columns='group',aggfunc=lambda x: len(x.unique()))\n",
    "display(df_group.sort_values(by='A1', ascending=False))"
   ]
  },
  {
   "cell_type": "markdown",
   "metadata": {},
   "source": [
    "Самым популярным событием во всех группах явялется появление главного экрана"
   ]
  },
  {
   "cell_type": "markdown",
   "metadata": {},
   "source": [
    "**Строю таблицу, в которой будет видно более детально, сколько пользователей из каждой группы совершали каждое из событий. Задаю переменную `df_test`**"
   ]
  },
  {
   "cell_type": "code",
   "execution_count": 38,
   "metadata": {},
   "outputs": [
    {
     "data": {
      "text/html": [
       "<div>\n",
       "<style scoped>\n",
       "    .dataframe tbody tr th:only-of-type {\n",
       "        vertical-align: middle;\n",
       "    }\n",
       "\n",
       "    .dataframe tbody tr th {\n",
       "        vertical-align: top;\n",
       "    }\n",
       "\n",
       "    .dataframe thead th {\n",
       "        text-align: right;\n",
       "    }\n",
       "</style>\n",
       "<table border=\"1\" class=\"dataframe\">\n",
       "  <thead>\n",
       "    <tr style=\"text-align: right;\">\n",
       "      <th>group</th>\n",
       "      <th>event_name</th>\n",
       "      <th>A1</th>\n",
       "      <th>A2</th>\n",
       "      <th>B</th>\n",
       "      <th>A1+A2</th>\n",
       "      <th>procent_A1</th>\n",
       "      <th>procent_A2</th>\n",
       "      <th>procent_B</th>\n",
       "      <th>procent_A1+A2</th>\n",
       "    </tr>\n",
       "  </thead>\n",
       "  <tbody>\n",
       "    <tr>\n",
       "      <th>0</th>\n",
       "      <td>MainScreenAppear</td>\n",
       "      <td>2450</td>\n",
       "      <td>2476</td>\n",
       "      <td>2493</td>\n",
       "      <td>4926</td>\n",
       "      <td>97.531847</td>\n",
       "      <td>98.566879</td>\n",
       "      <td>98.343195</td>\n",
       "      <td>98.618619</td>\n",
       "    </tr>\n",
       "    <tr>\n",
       "      <th>1</th>\n",
       "      <td>OffersScreenAppear</td>\n",
       "      <td>1542</td>\n",
       "      <td>1520</td>\n",
       "      <td>1531</td>\n",
       "      <td>3062</td>\n",
       "      <td>61.385350</td>\n",
       "      <td>60.509554</td>\n",
       "      <td>60.394477</td>\n",
       "      <td>61.301301</td>\n",
       "    </tr>\n",
       "    <tr>\n",
       "      <th>2</th>\n",
       "      <td>CartScreenAppear</td>\n",
       "      <td>1266</td>\n",
       "      <td>1238</td>\n",
       "      <td>1230</td>\n",
       "      <td>2504</td>\n",
       "      <td>50.398089</td>\n",
       "      <td>49.283439</td>\n",
       "      <td>48.520710</td>\n",
       "      <td>50.130130</td>\n",
       "    </tr>\n",
       "    <tr>\n",
       "      <th>3</th>\n",
       "      <td>PaymentScreenSuccessful</td>\n",
       "      <td>1200</td>\n",
       "      <td>1158</td>\n",
       "      <td>1181</td>\n",
       "      <td>2358</td>\n",
       "      <td>47.770701</td>\n",
       "      <td>46.098726</td>\n",
       "      <td>46.587771</td>\n",
       "      <td>47.207207</td>\n",
       "    </tr>\n",
       "  </tbody>\n",
       "</table>\n",
       "</div>"
      ],
      "text/plain": [
       "group               event_name    A1    A2     B  A1+A2  procent_A1  \\\n",
       "0      MainScreenAppear         2450  2476  2493  4926   97.531847    \n",
       "1      OffersScreenAppear       1542  1520  1531  3062   61.385350    \n",
       "2      CartScreenAppear         1266  1238  1230  2504   50.398089    \n",
       "3      PaymentScreenSuccessful  1200  1158  1181  2358   47.770701    \n",
       "\n",
       "group  procent_A2  procent_B  procent_A1+A2  \n",
       "0      98.566879   98.343195  98.618619      \n",
       "1      60.509554   60.394477  61.301301      \n",
       "2      49.283439   48.520710  50.130130      \n",
       "3      46.098726   46.587771  47.207207      "
      ]
     },
     "metadata": {},
     "output_type": "display_data"
    }
   ],
   "source": [
    "df_test = df.pivot_table(index='event_name', columns='group', values='user_id',aggfunc='nunique')\\\n",
    ".sort_values(by='A1', ascending=False).reset_index()\n",
    "df_test['A1+A2'] = df_test['A1'] + df_test['A2']\n",
    "df_test['procent_A1'] = (df_test['A1'] / users_group['A2'] * 100)\n",
    "df_test['procent_A2'] = (df_test['A2'] / users_group['A2'] * 100)\n",
    "df_test['procent_B'] = (df_test['B'] / users_group['B'] * 100)\n",
    "df_test['procent_A1+A2'] = ((df_test['A1'] + df_test['A2']) / (users_group['A1'] + users_group['A2']) * 100)\n",
    "display(df_test)"
   ]
  },
  {
   "cell_type": "markdown",
   "metadata": {},
   "source": [
    "Событие `появление главного экрана`:\n",
    "* Группа A1 - 97.5%\n",
    "* Группа A2 - 98.5%\n",
    "* Группа B - 98.3%\n",
    "\n",
    "Событие `появление экрана предложений`:\n",
    "* Группа A1 - 61.3%\n",
    "* Группа A2 - 60.5%\n",
    "* Группа B - 60.4%\n",
    "\n",
    "Событие `появление экрана корзины`:\n",
    "* Группа A1 - 50.4%\n",
    "* Группа A2 - 49.2%\n",
    "* Группа B - 48.5%\n",
    "\n",
    "Событие `экран успешной оплаты`:\n",
    "* Группа A1 - 47.8%\n",
    "* Группа A2 - 46%\n",
    "* Группа B - 46.6%"
   ]
  },
  {
   "cell_type": "markdown",
   "metadata": {},
   "source": [
    "**Статистиечкой разница между конверсиями пользователей между группами `A1` и `A2` нет. Проверяю, работает ли корректно разбиение на группы**"
   ]
  },
  {
   "cell_type": "code",
   "execution_count": 39,
   "metadata": {},
   "outputs": [],
   "source": [
    "def z_test(group1, group2, alpha): \n",
    "    p1_event = df_test.loc[event_name, group1]\n",
    "    p2_event = df_test.loc[event_name, group2] \n",
    "    p1_users = users_group.loc[group1]\n",
    "    p2_users = users_group.loc[group2]\n",
    "    \n",
    "    # ваш код\n",
    "    # пропорция успехов в первой группе:\n",
    "    p1 = p1_event / p1_users \n",
    "    # пропорция успехов во второй группе\n",
    "    p2 = p2_event / p2_users \n",
    "    \n",
    "    # пропорция успехов в комбинированном датасете\n",
    "    p_combined = (p1_event + p2_event) / (p1_users + p2_users) \n",
    "    \n",
    "    # разница пропорций в датасетах\n",
    "    difference = p1 - p2\n",
    "    \n",
    "    # считаем статистику в ст.отклонениях стандартного нормального распределения\n",
    "    z_value = difference / mth.sqrt(p_combined * (1 - p_combined) * (1 / p1_users + 1 / p2_users))\n",
    "    \n",
    "    # задаем стандартное нормальное распределение (среднее 0, ст.отклонение 1)\n",
    "    distr = st.norm(0, 1)\n",
    "    p_value = (1 - distr.cdf(abs(z_value))) * 2\n",
    "    \n",
    "    # введем поправку Бонферрони, поделим альфа на число гипотез для всех проверок\n",
    "    bonferroni_alpha = alpha / 17\n",
    "    \n",
    "    print('Проверка для групп {} и {}, событие: {}, p-значение: {p_value:.2f}'.format(group1, group2, event_name, p_value=p_value))\n",
    "    if (p_value < bonferroni_alpha):\n",
    "        print(\"Отвергаем нулевую гипотезу о равенстве данных в группах\")\n",
    "    else:\n",
    "        print(\"Не получилось отвергнуть нулевую гипотезу о равенстве данных в группах\")"
   ]
  },
  {
   "cell_type": "markdown",
   "metadata": {},
   "source": [
    "**Сравниваю группы `A1` и `A2`**"
   ]
  },
  {
   "cell_type": "code",
   "execution_count": 40,
   "metadata": {},
   "outputs": [
    {
     "name": "stdout",
     "output_type": "stream",
     "text": [
      "Проверка для групп A1 и A2, событие: 0, p-значение: 0.75\n",
      "Не получилось отвергнуть нулевую гипотезу о равенстве данных в группах\n",
      "\n",
      "Проверка для групп A1 и A2, событие: 1, p-значение: 0.25\n",
      "Не получилось отвергнуть нулевую гипотезу о равенстве данных в группах\n",
      "\n",
      "Проверка для групп A1 и A2, событие: 2, p-значение: 0.23\n",
      "Не получилось отвергнуть нулевую гипотезу о равенстве данных в группах\n",
      "\n",
      "Проверка для групп A1 и A2, событие: 3, p-значение: 0.11\n",
      "Не получилось отвергнуть нулевую гипотезу о равенстве данных в группах\n",
      "\n"
     ]
    }
   ],
   "source": [
    "for event_name in df_test.index:\n",
    "    z_test('A1', 'A2', 0.01)\n",
    "    print()"
   ]
  },
  {
   "cell_type": "markdown",
   "metadata": {},
   "source": [
    "**Можно сказать, что разбивка на группы работает корректно**"
   ]
  },
  {
   "cell_type": "markdown",
   "metadata": {},
   "source": [
    "**Сравниваю группы `A1` и `B`**"
   ]
  },
  {
   "cell_type": "code",
   "execution_count": 41,
   "metadata": {},
   "outputs": [
    {
     "name": "stdout",
     "output_type": "stream",
     "text": [
      "Проверка для групп A1 и B, событие: 0, p-значение: 0.34\n",
      "Не получилось отвергнуть нулевую гипотезу о равенстве данных в группах\n",
      "\n",
      "Проверка для групп A1 и B, событие: 1, p-значение: 0.21\n",
      "Не получилось отвергнуть нулевую гипотезу о равенстве данных в группах\n",
      "\n",
      "Проверка для групп A1 и B, событие: 2, p-значение: 0.08\n",
      "Не получилось отвергнуть нулевую гипотезу о равенстве данных в группах\n",
      "\n",
      "Проверка для групп A1 и B, событие: 3, p-значение: 0.22\n",
      "Не получилось отвергнуть нулевую гипотезу о равенстве данных в группах\n",
      "\n"
     ]
    }
   ],
   "source": [
    "for event_name in df_test.index:\n",
    "    z_test('A1', 'B', 0.01)\n",
    "    print()"
   ]
  },
  {
   "cell_type": "markdown",
   "metadata": {},
   "source": [
    "**Статистиечкой разница между конверсиями пользователей между группами `A1` и `B` нет**"
   ]
  },
  {
   "cell_type": "markdown",
   "metadata": {},
   "source": [
    "**Сравниваю группы `A2` и `B`**"
   ]
  },
  {
   "cell_type": "code",
   "execution_count": 42,
   "metadata": {},
   "outputs": [
    {
     "name": "stdout",
     "output_type": "stream",
     "text": [
      "Проверка для групп A2 и B, событие: 0, p-значение: 0.52\n",
      "Не получилось отвергнуть нулевую гипотезу о равенстве данных в группах\n",
      "\n",
      "Проверка для групп A2 и B, событие: 1, p-значение: 0.93\n",
      "Не получилось отвергнуть нулевую гипотезу о равенстве данных в группах\n",
      "\n",
      "Проверка для групп A2 и B, событие: 2, p-значение: 0.59\n",
      "Не получилось отвергнуть нулевую гипотезу о равенстве данных в группах\n",
      "\n",
      "Проверка для групп A2 и B, событие: 3, p-значение: 0.73\n",
      "Не получилось отвергнуть нулевую гипотезу о равенстве данных в группах\n",
      "\n"
     ]
    }
   ],
   "source": [
    "for event_name in df_test.index:\n",
    "    z_test('A2', 'B', 0.01)\n",
    "    print()"
   ]
  },
  {
   "cell_type": "markdown",
   "metadata": {},
   "source": [
    "**Статистиечкой разница между конверсиями пользователей между группами `A2` и `B` нет**"
   ]
  },
  {
   "cell_type": "code",
   "execution_count": 43,
   "metadata": {},
   "outputs": [
    {
     "name": "stdout",
     "output_type": "stream",
     "text": [
      "Проверка для групп A1+A2 и B, событие: 0, p-значение: 0.35\n",
      "Не получилось отвергнуть нулевую гипотезу о равенстве данных в группах\n",
      "\n",
      "Проверка для групп A1+A2 и B, событие: 1, p-значение: 0.45\n",
      "Не получилось отвергнуть нулевую гипотезу о равенстве данных в группах\n",
      "\n",
      "Проверка для групп A1+A2 и B, событие: 2, p-значение: 0.19\n",
      "Не получилось отвергнуть нулевую гипотезу о равенстве данных в группах\n",
      "\n",
      "Проверка для групп A1+A2 и B, событие: 3, p-значение: 0.61\n",
      "Не получилось отвергнуть нулевую гипотезу о равенстве данных в группах\n",
      "\n"
     ]
    }
   ],
   "source": [
    "for event_name in df_test.index:\n",
    "    z_test('A1+A2', 'B', 0.01)\n",
    "    print()"
   ]
  },
  {
   "cell_type": "markdown",
   "metadata": {},
   "source": [
    "**Статистической разницы между конверсиями пользователей между группами `A2` и `B` нет**"
   ]
  },
  {
   "cell_type": "markdown",
   "metadata": {},
   "source": [
    "## Вывод"
   ]
  },
  {
   "cell_type": "markdown",
   "metadata": {},
   "source": [
    "**Изучение и проверка данных:**\n",
    "\n",
    "Всего 5 уникальных событий:\n",
    "* MainScreenAppear - появление главного экрана (117328)\n",
    "* OffersScreenAppear - появление экрана предложений (46333)\n",
    "* CartScreenAppear - появление экрана корзины (42303)\n",
    "* PaymentScreenSuccessful - экран успешной оплаты (33918)\n",
    "* Tutorial - обучение (1005)\n",
    "\n",
    "\n",
    "* Самое популярное событие - появление главного экрана\n",
    "* Всего в логе 7551 пользователь, на каждого в среднем приходится 32 события\n",
    "* Самая ранняя дата: 25 июля 2019 года. Самая поздняя дата: 7 августа 2019 года\n",
    "\n",
    "Тест был запущен 1 августа, так как данных за июль мало\n",
    "\n",
    "**Изучение воронки событий**:\n",
    "\n",
    "* Был выявлен следующий порядок действий: MainScreenAppear --> Tutorial --> OffersScreenAppear --> CartScreenAppear --> PaymentScreenSuccessful\n",
    "* 62% пользователей переходит с главного экрана на экран предложений\n",
    "* 81% пользователей переходит с экрана предложений на экран появления корзины\n",
    "* 94% пользователей переходит с экрана появления корзины на экран успешной оплаты\n",
    "* 48% пользователей проходит от начала и до конца\n",
    "* Больше всего пользователей теряется при переходе с главного экрана на экран предложений(38%)\n",
    "\n",
    "**Изучение результатов эксперимента:**\n",
    "\n",
    "* Самым популярным событием во всех группах явялется появление главного экрана\n",
    "* Статистиечкой разница между конверсиями пользователей между группами A1 и A2 нет\n",
    "* Статистиечкой разница между конверсиями пользователей между группами A1 и B нет\n",
    "* Статистиечкой разница между конверсиями пользователей между группами A2 и B нет\n",
    "\n",
    "**По результатам экспериментов со всему группами было выявлено, что разницы между группами нет, соответсвенно можно утверждать, что изменение шрифта эффекта на пользователей не оказало**"
   ]
  }
 ],
 "metadata": {
  "ExecuteTimeLog": [
   {
    "duration": 46,
    "start_time": "2023-04-02T09:16:44.413Z"
   },
   {
    "duration": 1089,
    "start_time": "2023-04-02T09:16:51.913Z"
   },
   {
    "duration": 466,
    "start_time": "2023-04-02T09:16:53.005Z"
   },
   {
    "duration": 10,
    "start_time": "2023-04-02T09:17:11.323Z"
   },
   {
    "duration": 127,
    "start_time": "2023-04-02T09:17:18.141Z"
   },
   {
    "duration": 25,
    "start_time": "2023-04-02T09:18:42.956Z"
   },
   {
    "duration": 3,
    "start_time": "2023-04-02T10:07:33.435Z"
   },
   {
    "duration": 7,
    "start_time": "2023-04-02T10:12:14.365Z"
   },
   {
    "duration": 2369,
    "start_time": "2023-04-02T10:15:24.921Z"
   },
   {
    "duration": 1525,
    "start_time": "2023-04-02T10:15:58.639Z"
   },
   {
    "duration": 6,
    "start_time": "2023-04-02T10:16:06.037Z"
   },
   {
    "duration": 1987,
    "start_time": "2023-04-02T10:16:06.810Z"
   },
   {
    "duration": 24,
    "start_time": "2023-04-02T10:16:20.539Z"
   },
   {
    "duration": 3,
    "start_time": "2023-04-02T10:16:43.003Z"
   },
   {
    "duration": 135,
    "start_time": "2023-04-02T10:16:43.008Z"
   },
   {
    "duration": 8,
    "start_time": "2023-04-02T10:16:43.145Z"
   },
   {
    "duration": 35,
    "start_time": "2023-04-02T10:16:43.154Z"
   },
   {
    "duration": 11,
    "start_time": "2023-04-02T10:16:43.190Z"
   },
   {
    "duration": 21,
    "start_time": "2023-04-02T10:16:43.202Z"
   },
   {
    "duration": 49,
    "start_time": "2023-04-02T10:16:43.224Z"
   },
   {
    "duration": 16,
    "start_time": "2023-04-02T10:16:57.421Z"
   },
   {
    "duration": 7,
    "start_time": "2023-04-02T10:17:16.809Z"
   },
   {
    "duration": 5,
    "start_time": "2023-04-02T10:17:31.142Z"
   },
   {
    "duration": 16,
    "start_time": "2023-04-02T10:17:33.220Z"
   },
   {
    "duration": 8,
    "start_time": "2023-04-02T10:17:37.684Z"
   },
   {
    "duration": 28,
    "start_time": "2023-04-02T10:20:20.268Z"
   },
   {
    "duration": 27,
    "start_time": "2023-04-02T10:20:21.789Z"
   },
   {
    "duration": 7,
    "start_time": "2023-04-02T10:20:23.692Z"
   },
   {
    "duration": 5,
    "start_time": "2023-04-02T10:20:32.111Z"
   },
   {
    "duration": 16,
    "start_time": "2023-04-02T10:20:33.099Z"
   },
   {
    "duration": 10,
    "start_time": "2023-04-02T10:20:45.482Z"
   },
   {
    "duration": 49,
    "start_time": "2023-04-02T10:22:25.086Z"
   },
   {
    "duration": 27,
    "start_time": "2023-04-02T10:22:55.524Z"
   },
   {
    "duration": 1215,
    "start_time": "2023-04-02T10:34:27.681Z"
   },
   {
    "duration": 16,
    "start_time": "2023-04-02T10:34:55.975Z"
   },
   {
    "duration": 25,
    "start_time": "2023-04-02T10:34:58.610Z"
   },
   {
    "duration": 8,
    "start_time": "2023-04-02T10:40:35.263Z"
   },
   {
    "duration": 43,
    "start_time": "2023-04-02T10:41:12.712Z"
   },
   {
    "duration": 28,
    "start_time": "2023-04-02T10:41:14.923Z"
   },
   {
    "duration": 69,
    "start_time": "2023-04-02T10:43:39.868Z"
   },
   {
    "duration": 92,
    "start_time": "2023-04-02T10:45:12.904Z"
   },
   {
    "duration": 41,
    "start_time": "2023-04-02T10:45:32.049Z"
   },
   {
    "duration": 11,
    "start_time": "2023-04-02T13:05:32.696Z"
   },
   {
    "duration": 4,
    "start_time": "2023-04-02T13:06:11.807Z"
   },
   {
    "duration": 6,
    "start_time": "2023-04-02T13:06:31.800Z"
   },
   {
    "duration": 23,
    "start_time": "2023-04-02T13:07:22.980Z"
   },
   {
    "duration": 20,
    "start_time": "2023-04-02T13:07:48.714Z"
   },
   {
    "duration": 102,
    "start_time": "2023-04-02T13:08:12.604Z"
   },
   {
    "duration": 37,
    "start_time": "2023-04-02T13:09:16.545Z"
   },
   {
    "duration": 30,
    "start_time": "2023-04-02T13:09:25.869Z"
   },
   {
    "duration": 0,
    "start_time": "2023-04-02T13:12:08.594Z"
   },
   {
    "duration": 14,
    "start_time": "2023-04-02T13:12:45.104Z"
   },
   {
    "duration": 274,
    "start_time": "2023-04-02T13:12:45.120Z"
   },
   {
    "duration": 8,
    "start_time": "2023-04-02T13:12:45.395Z"
   },
   {
    "duration": 27,
    "start_time": "2023-04-02T13:12:45.404Z"
   },
   {
    "duration": 5,
    "start_time": "2023-04-02T13:12:45.432Z"
   },
   {
    "duration": 29,
    "start_time": "2023-04-02T13:12:45.438Z"
   },
   {
    "duration": 59,
    "start_time": "2023-04-02T13:12:45.472Z"
   },
   {
    "duration": 43,
    "start_time": "2023-04-02T13:12:45.533Z"
   },
   {
    "duration": 16,
    "start_time": "2023-04-02T13:12:45.578Z"
   },
   {
    "duration": 33,
    "start_time": "2023-04-02T13:12:45.595Z"
   },
   {
    "duration": 101,
    "start_time": "2023-04-02T13:12:45.630Z"
   },
   {
    "duration": 98,
    "start_time": "2023-04-02T13:12:45.732Z"
   },
   {
    "duration": 53,
    "start_time": "2023-04-02T13:12:45.832Z"
   },
   {
    "duration": 12,
    "start_time": "2023-04-02T13:12:45.886Z"
   },
   {
    "duration": 21,
    "start_time": "2023-04-02T13:12:45.900Z"
   },
   {
    "duration": 8,
    "start_time": "2023-04-02T13:12:45.922Z"
   },
   {
    "duration": 25,
    "start_time": "2023-04-02T13:12:45.956Z"
   },
   {
    "duration": 44,
    "start_time": "2023-04-02T13:13:16.027Z"
   },
   {
    "duration": 11,
    "start_time": "2023-04-02T13:13:32.217Z"
   },
   {
    "duration": 25,
    "start_time": "2023-04-02T13:13:40.137Z"
   },
   {
    "duration": 10,
    "start_time": "2023-04-02T13:13:44.303Z"
   },
   {
    "duration": 6,
    "start_time": "2023-04-02T13:14:10.708Z"
   },
   {
    "duration": 3,
    "start_time": "2023-04-02T13:14:22.212Z"
   },
   {
    "duration": 10,
    "start_time": "2023-04-02T13:14:28.187Z"
   },
   {
    "duration": 10,
    "start_time": "2023-04-02T13:15:03.212Z"
   },
   {
    "duration": 18,
    "start_time": "2023-04-02T13:15:06.466Z"
   },
   {
    "duration": 10,
    "start_time": "2023-04-02T13:15:09.110Z"
   },
   {
    "duration": 7,
    "start_time": "2023-04-02T13:18:20.522Z"
   },
   {
    "duration": 5,
    "start_time": "2023-04-02T13:18:37.015Z"
   },
   {
    "duration": 6,
    "start_time": "2023-04-02T13:18:47.587Z"
   },
   {
    "duration": 5,
    "start_time": "2023-04-02T13:18:52.306Z"
   },
   {
    "duration": 5,
    "start_time": "2023-04-02T13:18:58.833Z"
   },
   {
    "duration": 4,
    "start_time": "2023-04-02T13:19:35.881Z"
   },
   {
    "duration": 211,
    "start_time": "2023-04-02T13:25:21.867Z"
   },
   {
    "duration": 250,
    "start_time": "2023-04-02T13:26:27.689Z"
   },
   {
    "duration": 156,
    "start_time": "2023-04-02T13:26:30.892Z"
   },
   {
    "duration": 254,
    "start_time": "2023-04-02T13:26:56.817Z"
   },
   {
    "duration": 194,
    "start_time": "2023-04-02T13:27:02.481Z"
   },
   {
    "duration": 176,
    "start_time": "2023-04-02T13:27:13.469Z"
   },
   {
    "duration": 215,
    "start_time": "2023-04-02T13:27:18.261Z"
   },
   {
    "duration": 203,
    "start_time": "2023-04-02T13:27:22.741Z"
   },
   {
    "duration": 196,
    "start_time": "2023-04-02T13:27:30.494Z"
   },
   {
    "duration": 173,
    "start_time": "2023-04-02T13:27:34.767Z"
   },
   {
    "duration": 182,
    "start_time": "2023-04-02T13:27:39.197Z"
   },
   {
    "duration": 168,
    "start_time": "2023-04-02T13:28:14.018Z"
   },
   {
    "duration": 13,
    "start_time": "2023-04-02T13:37:48.002Z"
   },
   {
    "duration": 169,
    "start_time": "2023-04-02T13:37:53.161Z"
   },
   {
    "duration": 14,
    "start_time": "2023-04-02T13:38:27.165Z"
   },
   {
    "duration": 1468,
    "start_time": "2023-04-02T13:40:51.469Z"
   },
   {
    "duration": 14,
    "start_time": "2023-04-02T13:41:07.819Z"
   },
   {
    "duration": 32,
    "start_time": "2023-04-02T13:44:59.390Z"
   },
   {
    "duration": 36,
    "start_time": "2023-04-02T13:45:52.064Z"
   },
   {
    "duration": 19,
    "start_time": "2023-04-02T14:03:53.420Z"
   },
   {
    "duration": 77,
    "start_time": "2023-04-02T14:12:23.930Z"
   },
   {
    "duration": 67,
    "start_time": "2023-04-02T14:12:33.705Z"
   },
   {
    "duration": 52,
    "start_time": "2023-04-02T14:12:42.386Z"
   },
   {
    "duration": 61,
    "start_time": "2023-04-02T14:12:48.916Z"
   },
   {
    "duration": 109,
    "start_time": "2023-04-02T14:14:18.986Z"
   },
   {
    "duration": 54,
    "start_time": "2023-04-02T14:14:22.677Z"
   },
   {
    "duration": 83,
    "start_time": "2023-04-02T14:14:26.108Z"
   },
   {
    "duration": 101,
    "start_time": "2023-04-02T14:14:29.778Z"
   },
   {
    "duration": 65,
    "start_time": "2023-04-02T14:14:49.682Z"
   },
   {
    "duration": 84,
    "start_time": "2023-04-02T14:17:00.322Z"
   },
   {
    "duration": 1956,
    "start_time": "2023-04-02T14:17:08.382Z"
   },
   {
    "duration": 57,
    "start_time": "2023-04-02T14:19:02.323Z"
   },
   {
    "duration": 54,
    "start_time": "2023-04-02T14:19:13.868Z"
   },
   {
    "duration": 64,
    "start_time": "2023-04-02T14:19:57.081Z"
   },
   {
    "duration": 66,
    "start_time": "2023-04-02T14:20:32.201Z"
   },
   {
    "duration": 68,
    "start_time": "2023-04-02T14:21:01.332Z"
   },
   {
    "duration": 57,
    "start_time": "2023-04-02T14:21:07.487Z"
   },
   {
    "duration": 63,
    "start_time": "2023-04-02T14:21:16.569Z"
   },
   {
    "duration": 62,
    "start_time": "2023-04-02T14:21:29.119Z"
   },
   {
    "duration": 64,
    "start_time": "2023-04-02T14:21:34.568Z"
   },
   {
    "duration": 7,
    "start_time": "2023-04-03T05:50:42.332Z"
   },
   {
    "duration": 42,
    "start_time": "2023-04-03T05:50:47.337Z"
   },
   {
    "duration": 13,
    "start_time": "2023-04-03T05:52:02.525Z"
   },
   {
    "duration": 44,
    "start_time": "2023-04-03T05:52:04.319Z"
   },
   {
    "duration": 47,
    "start_time": "2023-04-03T05:52:12.726Z"
   },
   {
    "duration": 7,
    "start_time": "2023-04-03T06:28:28.157Z"
   },
   {
    "duration": 43,
    "start_time": "2023-04-03T06:28:39.830Z"
   },
   {
    "duration": 42,
    "start_time": "2023-04-03T06:28:43.428Z"
   },
   {
    "duration": 45,
    "start_time": "2023-04-03T06:29:22.804Z"
   },
   {
    "duration": 45,
    "start_time": "2023-04-03T06:29:30.907Z"
   },
   {
    "duration": 3,
    "start_time": "2023-04-03T06:29:42.352Z"
   },
   {
    "duration": 52,
    "start_time": "2023-04-03T06:29:59.700Z"
   },
   {
    "duration": 93,
    "start_time": "2023-04-03T06:30:37.838Z"
   },
   {
    "duration": 72,
    "start_time": "2023-04-03T06:30:42.832Z"
   },
   {
    "duration": 80,
    "start_time": "2023-04-03T06:30:49.296Z"
   },
   {
    "duration": 3,
    "start_time": "2023-04-03T06:30:56.310Z"
   },
   {
    "duration": 4,
    "start_time": "2023-04-03T06:31:05.608Z"
   },
   {
    "duration": 3,
    "start_time": "2023-04-03T06:31:08.357Z"
   },
   {
    "duration": 4,
    "start_time": "2023-04-03T06:31:23.936Z"
   },
   {
    "duration": 4,
    "start_time": "2023-04-03T06:31:30.136Z"
   },
   {
    "duration": 43,
    "start_time": "2023-04-03T06:32:02.508Z"
   },
   {
    "duration": 3,
    "start_time": "2023-04-03T06:38:25.125Z"
   },
   {
    "duration": 39,
    "start_time": "2023-04-03T06:39:57.316Z"
   },
   {
    "duration": 7,
    "start_time": "2023-04-03T08:40:04.814Z"
   },
   {
    "duration": 8,
    "start_time": "2023-04-03T08:40:13.700Z"
   },
   {
    "duration": 8,
    "start_time": "2023-04-03T08:40:38.033Z"
   },
   {
    "duration": 51,
    "start_time": "2023-04-03T08:42:04.306Z"
   },
   {
    "duration": 2,
    "start_time": "2023-04-03T08:42:23.874Z"
   },
   {
    "duration": 3,
    "start_time": "2023-04-03T08:42:27.632Z"
   },
   {
    "duration": 3,
    "start_time": "2023-04-03T08:42:38.479Z"
   },
   {
    "duration": 34,
    "start_time": "2023-04-03T08:42:47.570Z"
   },
   {
    "duration": 9,
    "start_time": "2023-04-03T08:49:29.369Z"
   },
   {
    "duration": 64,
    "start_time": "2023-04-03T08:49:35.391Z"
   },
   {
    "duration": 95,
    "start_time": "2023-04-03T08:49:50.489Z"
   },
   {
    "duration": 4,
    "start_time": "2023-04-03T08:50:00.391Z"
   },
   {
    "duration": 50,
    "start_time": "2023-04-03T08:50:06.286Z"
   },
   {
    "duration": 54,
    "start_time": "2023-04-03T08:50:11.653Z"
   },
   {
    "duration": 51,
    "start_time": "2023-04-03T08:50:35.877Z"
   },
   {
    "duration": 49,
    "start_time": "2023-04-03T08:50:43.258Z"
   },
   {
    "duration": 50,
    "start_time": "2023-04-03T08:50:52.480Z"
   },
   {
    "duration": 52,
    "start_time": "2023-04-03T08:50:56.407Z"
   },
   {
    "duration": 50,
    "start_time": "2023-04-03T08:51:10.298Z"
   },
   {
    "duration": 53,
    "start_time": "2023-04-03T08:52:38.726Z"
   },
   {
    "duration": 154,
    "start_time": "2023-04-03T09:00:26.544Z"
   },
   {
    "duration": 2990,
    "start_time": "2023-04-03T09:00:35.210Z"
   },
   {
    "duration": 2970,
    "start_time": "2023-04-03T09:00:42.097Z"
   },
   {
    "duration": 82,
    "start_time": "2023-04-03T09:00:55.890Z"
   },
   {
    "duration": 41,
    "start_time": "2023-04-03T09:01:57.947Z"
   },
   {
    "duration": 81,
    "start_time": "2023-04-03T09:02:04.022Z"
   },
   {
    "duration": 84,
    "start_time": "2023-04-03T09:02:21.982Z"
   },
   {
    "duration": 84,
    "start_time": "2023-04-03T09:02:32.951Z"
   },
   {
    "duration": 84,
    "start_time": "2023-04-03T09:02:50.507Z"
   },
   {
    "duration": 82,
    "start_time": "2023-04-03T09:03:05.725Z"
   },
   {
    "duration": 81,
    "start_time": "2023-04-03T09:03:21.318Z"
   },
   {
    "duration": 74,
    "start_time": "2023-04-03T09:04:42.173Z"
   },
   {
    "duration": 16,
    "start_time": "2023-04-03T19:24:53.426Z"
   },
   {
    "duration": 15,
    "start_time": "2023-04-03T19:26:05.453Z"
   },
   {
    "duration": 7,
    "start_time": "2023-04-03T19:35:43.148Z"
   },
   {
    "duration": 5,
    "start_time": "2023-04-03T19:38:24.316Z"
   },
   {
    "duration": 1128,
    "start_time": "2023-04-03T19:38:30.592Z"
   },
   {
    "duration": 7,
    "start_time": "2023-04-03T19:38:40.854Z"
   },
   {
    "duration": 10,
    "start_time": "2023-04-03T19:38:52.366Z"
   },
   {
    "duration": 8,
    "start_time": "2023-04-03T19:43:21.571Z"
   },
   {
    "duration": 9,
    "start_time": "2023-04-03T19:43:44.674Z"
   },
   {
    "duration": 90,
    "start_time": "2023-04-03T19:44:48.156Z"
   },
   {
    "duration": 10,
    "start_time": "2023-04-03T19:44:57.693Z"
   },
   {
    "duration": 1471,
    "start_time": "2023-04-03T20:29:17.848Z"
   },
   {
    "duration": 229,
    "start_time": "2023-04-03T20:29:19.322Z"
   },
   {
    "duration": 18,
    "start_time": "2023-04-03T20:29:19.554Z"
   },
   {
    "duration": 40,
    "start_time": "2023-04-03T20:29:19.590Z"
   },
   {
    "duration": 14,
    "start_time": "2023-04-03T20:29:19.634Z"
   },
   {
    "duration": 40,
    "start_time": "2023-04-03T20:29:19.651Z"
   },
   {
    "duration": 119,
    "start_time": "2023-04-03T20:29:19.694Z"
   },
   {
    "duration": 82,
    "start_time": "2023-04-03T20:29:19.815Z"
   },
   {
    "duration": 28,
    "start_time": "2023-04-03T20:29:19.900Z"
   },
   {
    "duration": 73,
    "start_time": "2023-04-03T20:29:19.932Z"
   },
   {
    "duration": 113,
    "start_time": "2023-04-03T20:29:20.006Z"
   },
   {
    "duration": 132,
    "start_time": "2023-04-03T20:29:20.120Z"
   },
   {
    "duration": 50,
    "start_time": "2023-04-03T20:29:20.254Z"
   },
   {
    "duration": 15,
    "start_time": "2023-04-03T20:29:20.307Z"
   },
   {
    "duration": 42,
    "start_time": "2023-04-03T20:29:20.324Z"
   },
   {
    "duration": 22,
    "start_time": "2023-04-03T20:29:20.368Z"
   },
   {
    "duration": 57,
    "start_time": "2023-04-03T20:29:20.392Z"
   },
   {
    "duration": 8,
    "start_time": "2023-04-03T20:29:20.451Z"
   },
   {
    "duration": 309,
    "start_time": "2023-04-03T20:29:20.462Z"
   },
   {
    "duration": 26,
    "start_time": "2023-04-03T20:29:20.773Z"
   },
   {
    "duration": 222,
    "start_time": "2023-04-03T20:29:20.801Z"
   },
   {
    "duration": 16,
    "start_time": "2023-04-03T20:29:21.026Z"
   },
   {
    "duration": 63,
    "start_time": "2023-04-03T20:29:21.044Z"
   },
   {
    "duration": 45,
    "start_time": "2023-04-03T20:29:21.110Z"
   },
   {
    "duration": 110,
    "start_time": "2023-04-03T20:29:21.157Z"
   },
   {
    "duration": 26,
    "start_time": "2023-04-03T20:29:21.268Z"
   },
   {
    "duration": 51,
    "start_time": "2023-04-03T20:29:21.295Z"
   },
   {
    "duration": 4,
    "start_time": "2023-04-03T20:29:21.347Z"
   },
   {
    "duration": 5,
    "start_time": "2023-04-03T20:29:21.353Z"
   },
   {
    "duration": 67,
    "start_time": "2023-04-03T20:29:21.359Z"
   },
   {
    "duration": 43,
    "start_time": "2023-04-03T20:29:21.428Z"
   },
   {
    "duration": 67,
    "start_time": "2023-04-03T20:29:21.489Z"
   },
   {
    "duration": 109,
    "start_time": "2023-04-03T20:29:21.557Z"
   },
   {
    "duration": 8,
    "start_time": "2023-04-03T20:29:21.667Z"
   },
   {
    "duration": 36,
    "start_time": "2023-04-03T20:29:21.677Z"
   },
   {
    "duration": 21,
    "start_time": "2023-04-03T20:29:21.715Z"
   },
   {
    "duration": 12,
    "start_time": "2023-04-03T20:29:21.738Z"
   },
   {
    "duration": 656,
    "start_time": "2023-04-03T20:33:35.882Z"
   },
   {
    "duration": 60,
    "start_time": "2023-04-04T07:29:51.125Z"
   },
   {
    "duration": 1355,
    "start_time": "2023-04-04T07:30:13.574Z"
   },
   {
    "duration": 708,
    "start_time": "2023-04-04T07:30:14.931Z"
   },
   {
    "duration": 12,
    "start_time": "2023-04-04T07:30:15.641Z"
   },
   {
    "duration": 20,
    "start_time": "2023-04-04T07:30:15.656Z"
   },
   {
    "duration": 8,
    "start_time": "2023-04-04T07:30:15.678Z"
   },
   {
    "duration": 26,
    "start_time": "2023-04-04T07:30:15.687Z"
   },
   {
    "duration": 104,
    "start_time": "2023-04-04T07:30:15.715Z"
   },
   {
    "duration": 50,
    "start_time": "2023-04-04T07:30:15.821Z"
   },
   {
    "duration": 44,
    "start_time": "2023-04-04T07:30:15.873Z"
   },
   {
    "duration": 40,
    "start_time": "2023-04-04T07:30:15.921Z"
   },
   {
    "duration": 111,
    "start_time": "2023-04-04T07:30:15.963Z"
   },
   {
    "duration": 129,
    "start_time": "2023-04-04T07:30:16.076Z"
   },
   {
    "duration": 55,
    "start_time": "2023-04-04T07:30:16.207Z"
   },
   {
    "duration": 11,
    "start_time": "2023-04-04T07:30:16.264Z"
   },
   {
    "duration": 57,
    "start_time": "2023-04-04T07:30:16.278Z"
   },
   {
    "duration": 8,
    "start_time": "2023-04-04T07:30:16.337Z"
   },
   {
    "duration": 11,
    "start_time": "2023-04-04T07:30:16.347Z"
   },
   {
    "duration": 6,
    "start_time": "2023-04-04T07:30:16.360Z"
   },
   {
    "duration": 324,
    "start_time": "2023-04-04T07:30:16.367Z"
   },
   {
    "duration": 675,
    "start_time": "2023-04-04T07:30:16.693Z"
   },
   {
    "duration": 12,
    "start_time": "2023-04-04T07:30:17.369Z"
   },
   {
    "duration": 297,
    "start_time": "2023-04-04T07:30:17.383Z"
   },
   {
    "duration": 23,
    "start_time": "2023-04-04T07:30:17.682Z"
   },
   {
    "duration": 0,
    "start_time": "2023-04-04T07:30:55.926Z"
   },
   {
    "duration": 0,
    "start_time": "2023-04-04T07:30:55.927Z"
   },
   {
    "duration": 0,
    "start_time": "2023-04-04T07:30:55.929Z"
   },
   {
    "duration": 0,
    "start_time": "2023-04-04T07:30:55.930Z"
   },
   {
    "duration": 0,
    "start_time": "2023-04-04T07:30:55.931Z"
   },
   {
    "duration": 0,
    "start_time": "2023-04-04T07:30:55.932Z"
   },
   {
    "duration": 0,
    "start_time": "2023-04-04T07:30:55.934Z"
   },
   {
    "duration": 0,
    "start_time": "2023-04-04T07:30:55.935Z"
   },
   {
    "duration": 0,
    "start_time": "2023-04-04T07:30:55.938Z"
   },
   {
    "duration": 0,
    "start_time": "2023-04-04T07:30:55.939Z"
   },
   {
    "duration": 1,
    "start_time": "2023-04-04T07:30:55.940Z"
   },
   {
    "duration": 0,
    "start_time": "2023-04-04T07:30:56.003Z"
   },
   {
    "duration": 0,
    "start_time": "2023-04-04T07:30:56.005Z"
   },
   {
    "duration": 0,
    "start_time": "2023-04-04T07:30:56.006Z"
   },
   {
    "duration": 0,
    "start_time": "2023-04-04T07:30:56.008Z"
   },
   {
    "duration": 0,
    "start_time": "2023-04-04T07:30:56.009Z"
   },
   {
    "duration": 0,
    "start_time": "2023-04-04T07:30:56.011Z"
   },
   {
    "duration": 0,
    "start_time": "2023-04-04T07:30:56.012Z"
   },
   {
    "duration": 0,
    "start_time": "2023-04-04T07:30:56.014Z"
   },
   {
    "duration": 0,
    "start_time": "2023-04-04T07:30:56.016Z"
   },
   {
    "duration": 0,
    "start_time": "2023-04-04T07:30:56.017Z"
   },
   {
    "duration": 0,
    "start_time": "2023-04-04T07:30:56.018Z"
   },
   {
    "duration": 0,
    "start_time": "2023-04-04T07:30:56.020Z"
   },
   {
    "duration": 0,
    "start_time": "2023-04-04T07:30:56.021Z"
   },
   {
    "duration": 0,
    "start_time": "2023-04-04T07:30:56.023Z"
   },
   {
    "duration": 0,
    "start_time": "2023-04-04T07:30:56.024Z"
   },
   {
    "duration": 0,
    "start_time": "2023-04-04T07:30:56.025Z"
   },
   {
    "duration": 0,
    "start_time": "2023-04-04T07:30:56.026Z"
   },
   {
    "duration": 0,
    "start_time": "2023-04-04T07:30:56.027Z"
   },
   {
    "duration": 0,
    "start_time": "2023-04-04T07:30:56.028Z"
   },
   {
    "duration": 0,
    "start_time": "2023-04-04T07:30:56.029Z"
   },
   {
    "duration": 0,
    "start_time": "2023-04-04T07:30:56.030Z"
   },
   {
    "duration": 0,
    "start_time": "2023-04-04T07:30:56.032Z"
   },
   {
    "duration": 0,
    "start_time": "2023-04-04T07:30:56.033Z"
   },
   {
    "duration": 0,
    "start_time": "2023-04-04T07:30:56.034Z"
   },
   {
    "duration": 0,
    "start_time": "2023-04-04T07:30:56.035Z"
   },
   {
    "duration": 0,
    "start_time": "2023-04-04T07:30:56.037Z"
   },
   {
    "duration": 0,
    "start_time": "2023-04-04T07:30:56.037Z"
   },
   {
    "duration": 0,
    "start_time": "2023-04-04T07:30:56.038Z"
   },
   {
    "duration": 4,
    "start_time": "2023-04-04T07:31:13.761Z"
   },
   {
    "duration": 174,
    "start_time": "2023-04-04T07:31:13.768Z"
   },
   {
    "duration": 9,
    "start_time": "2023-04-04T07:31:13.944Z"
   },
   {
    "duration": 20,
    "start_time": "2023-04-04T07:31:13.955Z"
   },
   {
    "duration": 26,
    "start_time": "2023-04-04T07:31:13.977Z"
   },
   {
    "duration": 8,
    "start_time": "2023-04-04T07:31:14.005Z"
   },
   {
    "duration": 91,
    "start_time": "2023-04-04T07:31:14.015Z"
   },
   {
    "duration": 35,
    "start_time": "2023-04-04T07:31:14.108Z"
   },
   {
    "duration": 18,
    "start_time": "2023-04-04T07:31:14.144Z"
   },
   {
    "duration": 58,
    "start_time": "2023-04-04T07:31:14.165Z"
   },
   {
    "duration": 87,
    "start_time": "2023-04-04T07:31:14.225Z"
   },
   {
    "duration": 116,
    "start_time": "2023-04-04T07:31:14.313Z"
   },
   {
    "duration": 34,
    "start_time": "2023-04-04T07:31:14.431Z"
   },
   {
    "duration": 11,
    "start_time": "2023-04-04T07:31:14.467Z"
   },
   {
    "duration": 43,
    "start_time": "2023-04-04T07:31:14.479Z"
   },
   {
    "duration": 9,
    "start_time": "2023-04-04T07:31:14.524Z"
   },
   {
    "duration": 10,
    "start_time": "2023-04-04T07:31:14.535Z"
   },
   {
    "duration": 37,
    "start_time": "2023-04-04T07:31:14.547Z"
   },
   {
    "duration": 207,
    "start_time": "2023-04-04T07:31:14.585Z"
   },
   {
    "duration": 625,
    "start_time": "2023-04-04T07:31:14.793Z"
   },
   {
    "duration": 12,
    "start_time": "2023-04-04T07:31:15.420Z"
   },
   {
    "duration": 219,
    "start_time": "2023-04-04T07:31:15.433Z"
   },
   {
    "duration": 14,
    "start_time": "2023-04-04T07:31:15.654Z"
   },
   {
    "duration": 41562,
    "start_time": "2023-04-04T07:31:15.669Z"
   },
   {
    "duration": 0,
    "start_time": "2023-04-04T07:31:57.335Z"
   },
   {
    "duration": 0,
    "start_time": "2023-04-04T07:31:57.336Z"
   },
   {
    "duration": 0,
    "start_time": "2023-04-04T07:31:57.337Z"
   },
   {
    "duration": 0,
    "start_time": "2023-04-04T07:31:57.402Z"
   },
   {
    "duration": 0,
    "start_time": "2023-04-04T07:31:57.404Z"
   },
   {
    "duration": 0,
    "start_time": "2023-04-04T07:31:57.405Z"
   },
   {
    "duration": 0,
    "start_time": "2023-04-04T07:31:57.406Z"
   },
   {
    "duration": 0,
    "start_time": "2023-04-04T07:31:57.407Z"
   },
   {
    "duration": 0,
    "start_time": "2023-04-04T07:31:57.408Z"
   },
   {
    "duration": 0,
    "start_time": "2023-04-04T07:31:57.409Z"
   },
   {
    "duration": 0,
    "start_time": "2023-04-04T07:31:57.410Z"
   },
   {
    "duration": 0,
    "start_time": "2023-04-04T07:31:57.411Z"
   },
   {
    "duration": 0,
    "start_time": "2023-04-04T07:31:57.413Z"
   },
   {
    "duration": 0,
    "start_time": "2023-04-04T07:31:57.414Z"
   },
   {
    "duration": 0,
    "start_time": "2023-04-04T07:31:57.415Z"
   },
   {
    "duration": 0,
    "start_time": "2023-04-04T07:31:57.416Z"
   },
   {
    "duration": 0,
    "start_time": "2023-04-04T07:31:57.417Z"
   },
   {
    "duration": 0,
    "start_time": "2023-04-04T07:31:57.418Z"
   },
   {
    "duration": 0,
    "start_time": "2023-04-04T07:31:57.419Z"
   },
   {
    "duration": 0,
    "start_time": "2023-04-04T07:31:57.420Z"
   },
   {
    "duration": 0,
    "start_time": "2023-04-04T07:31:57.421Z"
   },
   {
    "duration": 0,
    "start_time": "2023-04-04T07:31:57.422Z"
   },
   {
    "duration": 0,
    "start_time": "2023-04-04T07:31:57.422Z"
   },
   {
    "duration": 0,
    "start_time": "2023-04-04T07:31:57.423Z"
   },
   {
    "duration": 0,
    "start_time": "2023-04-04T07:31:57.424Z"
   },
   {
    "duration": 0,
    "start_time": "2023-04-04T07:31:57.425Z"
   },
   {
    "duration": 0,
    "start_time": "2023-04-04T07:31:57.426Z"
   },
   {
    "duration": 0,
    "start_time": "2023-04-04T07:31:57.427Z"
   },
   {
    "duration": 0,
    "start_time": "2023-04-04T07:31:57.428Z"
   },
   {
    "duration": 0,
    "start_time": "2023-04-04T07:31:57.429Z"
   },
   {
    "duration": 0,
    "start_time": "2023-04-04T07:31:57.431Z"
   },
   {
    "duration": 0,
    "start_time": "2023-04-04T07:31:57.432Z"
   },
   {
    "duration": 0,
    "start_time": "2023-04-04T07:31:57.433Z"
   },
   {
    "duration": 0,
    "start_time": "2023-04-04T07:31:57.434Z"
   },
   {
    "duration": 0,
    "start_time": "2023-04-04T07:31:57.435Z"
   },
   {
    "duration": 0,
    "start_time": "2023-04-04T07:31:57.436Z"
   },
   {
    "duration": 0,
    "start_time": "2023-04-04T07:31:57.437Z"
   },
   {
    "duration": 0,
    "start_time": "2023-04-04T07:31:57.438Z"
   },
   {
    "duration": 0,
    "start_time": "2023-04-04T07:32:53.715Z"
   },
   {
    "duration": 193,
    "start_time": "2023-04-04T07:33:23.812Z"
   },
   {
    "duration": 0,
    "start_time": "2023-04-04T07:34:04.418Z"
   },
   {
    "duration": 6,
    "start_time": "2023-04-04T07:34:13.042Z"
   },
   {
    "duration": 11,
    "start_time": "2023-04-04T07:34:15.641Z"
   },
   {
    "duration": 4,
    "start_time": "2023-04-04T07:34:23.684Z"
   },
   {
    "duration": 161,
    "start_time": "2023-04-04T07:34:23.691Z"
   },
   {
    "duration": 11,
    "start_time": "2023-04-04T07:34:23.854Z"
   },
   {
    "duration": 38,
    "start_time": "2023-04-04T07:34:23.868Z"
   },
   {
    "duration": 8,
    "start_time": "2023-04-04T07:34:23.907Z"
   },
   {
    "duration": 21,
    "start_time": "2023-04-04T07:34:23.916Z"
   },
   {
    "duration": 96,
    "start_time": "2023-04-04T07:34:23.939Z"
   },
   {
    "duration": 41,
    "start_time": "2023-04-04T07:34:24.038Z"
   },
   {
    "duration": 34,
    "start_time": "2023-04-04T07:34:24.082Z"
   },
   {
    "duration": 35,
    "start_time": "2023-04-04T07:34:24.117Z"
   },
   {
    "duration": 112,
    "start_time": "2023-04-04T07:34:24.153Z"
   },
   {
    "duration": 120,
    "start_time": "2023-04-04T07:34:24.266Z"
   },
   {
    "duration": 57,
    "start_time": "2023-04-04T07:34:24.388Z"
   },
   {
    "duration": 18,
    "start_time": "2023-04-04T07:34:24.447Z"
   },
   {
    "duration": 41,
    "start_time": "2023-04-04T07:34:24.467Z"
   },
   {
    "duration": 15,
    "start_time": "2023-04-04T07:34:24.510Z"
   },
   {
    "duration": 13,
    "start_time": "2023-04-04T07:34:24.527Z"
   },
   {
    "duration": 8,
    "start_time": "2023-04-04T07:34:24.542Z"
   },
   {
    "duration": 236,
    "start_time": "2023-04-04T07:34:24.551Z"
   },
   {
    "duration": 707,
    "start_time": "2023-04-04T07:34:24.788Z"
   },
   {
    "duration": 16,
    "start_time": "2023-04-04T07:34:25.497Z"
   },
   {
    "duration": 216,
    "start_time": "2023-04-04T07:34:25.515Z"
   },
   {
    "duration": 16,
    "start_time": "2023-04-04T07:34:25.732Z"
   },
   {
    "duration": 3,
    "start_time": "2023-04-04T07:34:33.651Z"
   },
   {
    "duration": 175,
    "start_time": "2023-04-04T07:34:33.656Z"
   },
   {
    "duration": 11,
    "start_time": "2023-04-04T07:34:33.833Z"
   },
   {
    "duration": 38,
    "start_time": "2023-04-04T07:34:33.847Z"
   },
   {
    "duration": 16,
    "start_time": "2023-04-04T07:34:33.887Z"
   },
   {
    "duration": 10,
    "start_time": "2023-04-04T07:34:33.905Z"
   },
   {
    "duration": 89,
    "start_time": "2023-04-04T07:34:33.917Z"
   },
   {
    "duration": 37,
    "start_time": "2023-04-04T07:34:34.008Z"
   },
   {
    "duration": 19,
    "start_time": "2023-04-04T07:34:34.048Z"
   },
   {
    "duration": 63,
    "start_time": "2023-04-04T07:34:34.069Z"
   },
   {
    "duration": 102,
    "start_time": "2023-04-04T07:34:34.133Z"
   },
   {
    "duration": 117,
    "start_time": "2023-04-04T07:34:34.237Z"
   },
   {
    "duration": 34,
    "start_time": "2023-04-04T07:34:34.356Z"
   },
   {
    "duration": 10,
    "start_time": "2023-04-04T07:34:34.403Z"
   },
   {
    "duration": 23,
    "start_time": "2023-04-04T07:34:34.415Z"
   },
   {
    "duration": 18,
    "start_time": "2023-04-04T07:34:34.440Z"
   },
   {
    "duration": 11,
    "start_time": "2023-04-04T07:34:34.460Z"
   },
   {
    "duration": 30,
    "start_time": "2023-04-04T07:34:34.473Z"
   },
   {
    "duration": 205,
    "start_time": "2023-04-04T07:34:34.505Z"
   },
   {
    "duration": 613,
    "start_time": "2023-04-04T07:34:34.712Z"
   },
   {
    "duration": 12,
    "start_time": "2023-04-04T07:34:35.327Z"
   },
   {
    "duration": 217,
    "start_time": "2023-04-04T07:34:35.340Z"
   },
   {
    "duration": 16,
    "start_time": "2023-04-04T07:34:35.559Z"
   },
   {
    "duration": 39812,
    "start_time": "2023-04-04T07:34:35.578Z"
   },
   {
    "duration": 33,
    "start_time": "2023-04-04T07:35:16.111Z"
   },
   {
    "duration": 150,
    "start_time": "2023-04-04T07:35:16.146Z"
   },
   {
    "duration": 9,
    "start_time": "2023-04-04T07:35:16.297Z"
   },
   {
    "duration": 21,
    "start_time": "2023-04-04T07:35:16.307Z"
   },
   {
    "duration": 7,
    "start_time": "2023-04-04T07:35:16.330Z"
   },
   {
    "duration": 7,
    "start_time": "2023-04-04T07:35:16.338Z"
   },
   {
    "duration": 95,
    "start_time": "2023-04-04T07:35:16.346Z"
   },
   {
    "duration": 34,
    "start_time": "2023-04-04T07:35:16.443Z"
   },
   {
    "duration": 38,
    "start_time": "2023-04-04T07:35:16.479Z"
   },
   {
    "duration": 31,
    "start_time": "2023-04-04T07:35:16.519Z"
   },
   {
    "duration": 97,
    "start_time": "2023-04-04T07:35:16.552Z"
   },
   {
    "duration": 116,
    "start_time": "2023-04-04T07:35:16.651Z"
   },
   {
    "duration": 43,
    "start_time": "2023-04-04T07:35:16.769Z"
   },
   {
    "duration": 11,
    "start_time": "2023-04-04T07:35:16.813Z"
   },
   {
    "duration": 23,
    "start_time": "2023-04-04T07:35:16.825Z"
   },
   {
    "duration": 12,
    "start_time": "2023-04-04T07:35:16.850Z"
   },
   {
    "duration": 11,
    "start_time": "2023-04-04T07:35:16.864Z"
   },
   {
    "duration": 30,
    "start_time": "2023-04-04T07:35:16.877Z"
   },
   {
    "duration": 241,
    "start_time": "2023-04-04T07:35:16.909Z"
   },
   {
    "duration": 666,
    "start_time": "2023-04-04T07:35:17.152Z"
   },
   {
    "duration": 14,
    "start_time": "2023-04-04T07:35:17.820Z"
   },
   {
    "duration": 317,
    "start_time": "2023-04-04T07:35:17.836Z"
   },
   {
    "duration": 23,
    "start_time": "2023-04-04T07:35:18.155Z"
   },
   {
    "duration": 85,
    "start_time": "2023-04-04T07:35:18.180Z"
   },
   {
    "duration": 21,
    "start_time": "2023-04-04T07:35:18.267Z"
   },
   {
    "duration": 73,
    "start_time": "2023-04-04T07:35:18.290Z"
   },
   {
    "duration": 23,
    "start_time": "2023-04-04T07:35:18.364Z"
   },
   {
    "duration": 63,
    "start_time": "2023-04-04T07:35:18.389Z"
   },
   {
    "duration": 5,
    "start_time": "2023-04-04T07:35:18.454Z"
   },
   {
    "duration": 6,
    "start_time": "2023-04-04T07:35:18.461Z"
   },
   {
    "duration": 72,
    "start_time": "2023-04-04T07:35:18.469Z"
   },
   {
    "duration": 39,
    "start_time": "2023-04-04T07:35:18.543Z"
   },
   {
    "duration": 76,
    "start_time": "2023-04-04T07:35:18.583Z"
   },
   {
    "duration": 108,
    "start_time": "2023-04-04T07:35:18.661Z"
   },
   {
    "duration": 7,
    "start_time": "2023-04-04T07:35:18.771Z"
   },
   {
    "duration": 29,
    "start_time": "2023-04-04T07:35:18.780Z"
   },
   {
    "duration": 10,
    "start_time": "2023-04-04T07:35:18.810Z"
   },
   {
    "duration": 10,
    "start_time": "2023-04-04T07:35:18.821Z"
   },
   {
    "duration": 14,
    "start_time": "2023-04-04T07:36:05.982Z"
   },
   {
    "duration": 16,
    "start_time": "2023-04-04T07:38:33.567Z"
   },
   {
    "duration": 4,
    "start_time": "2023-04-04T07:38:50.169Z"
   },
   {
    "duration": 158,
    "start_time": "2023-04-04T07:38:50.175Z"
   },
   {
    "duration": 8,
    "start_time": "2023-04-04T07:38:50.335Z"
   },
   {
    "duration": 26,
    "start_time": "2023-04-04T07:38:50.345Z"
   },
   {
    "duration": 8,
    "start_time": "2023-04-04T07:38:50.376Z"
   },
   {
    "duration": 9,
    "start_time": "2023-04-04T07:38:50.402Z"
   },
   {
    "duration": 80,
    "start_time": "2023-04-04T07:38:50.413Z"
   },
   {
    "duration": 37,
    "start_time": "2023-04-04T07:38:50.495Z"
   },
   {
    "duration": 19,
    "start_time": "2023-04-04T07:38:50.534Z"
   },
   {
    "duration": 58,
    "start_time": "2023-04-04T07:38:50.556Z"
   },
   {
    "duration": 94,
    "start_time": "2023-04-04T07:38:50.615Z"
   },
   {
    "duration": 121,
    "start_time": "2023-04-04T07:38:50.711Z"
   },
   {
    "duration": 35,
    "start_time": "2023-04-04T07:38:50.834Z"
   },
   {
    "duration": 11,
    "start_time": "2023-04-04T07:38:50.870Z"
   },
   {
    "duration": 22,
    "start_time": "2023-04-04T07:38:50.903Z"
   },
   {
    "duration": 23,
    "start_time": "2023-04-04T07:38:50.927Z"
   },
   {
    "duration": 26,
    "start_time": "2023-04-04T07:38:50.952Z"
   },
   {
    "duration": 22,
    "start_time": "2023-04-04T07:38:50.980Z"
   },
   {
    "duration": 224,
    "start_time": "2023-04-04T07:38:51.004Z"
   },
   {
    "duration": 748,
    "start_time": "2023-04-04T07:38:51.229Z"
   },
   {
    "duration": 34,
    "start_time": "2023-04-04T07:38:51.979Z"
   },
   {
    "duration": 15,
    "start_time": "2023-04-04T07:38:52.015Z"
   },
   {
    "duration": 232,
    "start_time": "2023-04-04T07:38:52.033Z"
   },
   {
    "duration": 15,
    "start_time": "2023-04-04T07:38:52.267Z"
   },
   {
    "duration": 61,
    "start_time": "2023-04-04T07:38:52.284Z"
   },
   {
    "duration": 25,
    "start_time": "2023-04-04T07:38:52.347Z"
   },
   {
    "duration": 80,
    "start_time": "2023-04-04T07:38:52.374Z"
   },
   {
    "duration": 21,
    "start_time": "2023-04-04T07:38:52.458Z"
   },
   {
    "duration": 67,
    "start_time": "2023-04-04T07:38:52.481Z"
   },
   {
    "duration": 4,
    "start_time": "2023-04-04T07:38:52.550Z"
   },
   {
    "duration": 13,
    "start_time": "2023-04-04T07:38:52.555Z"
   },
   {
    "duration": 52,
    "start_time": "2023-04-04T07:38:52.570Z"
   },
   {
    "duration": 51,
    "start_time": "2023-04-04T07:38:52.624Z"
   },
   {
    "duration": 100,
    "start_time": "2023-04-04T07:38:52.677Z"
   },
   {
    "duration": 96,
    "start_time": "2023-04-04T07:38:52.779Z"
   },
   {
    "duration": 8,
    "start_time": "2023-04-04T07:38:52.877Z"
   },
   {
    "duration": 49,
    "start_time": "2023-04-04T07:38:52.886Z"
   },
   {
    "duration": 64,
    "start_time": "2023-04-04T07:38:52.936Z"
   },
   {
    "duration": 21,
    "start_time": "2023-04-04T07:38:53.002Z"
   },
   {
    "duration": 15,
    "start_time": "2023-04-04T07:40:11.982Z"
   },
   {
    "duration": 14,
    "start_time": "2023-04-04T07:40:20.938Z"
   },
   {
    "duration": 27,
    "start_time": "2023-04-04T07:41:49.645Z"
   },
   {
    "duration": 3,
    "start_time": "2023-04-04T07:42:06.143Z"
   },
   {
    "duration": 161,
    "start_time": "2023-04-04T07:42:06.150Z"
   },
   {
    "duration": 9,
    "start_time": "2023-04-04T07:42:06.313Z"
   },
   {
    "duration": 21,
    "start_time": "2023-04-04T07:42:06.324Z"
   },
   {
    "duration": 7,
    "start_time": "2023-04-04T07:42:06.346Z"
   },
   {
    "duration": 9,
    "start_time": "2023-04-04T07:42:06.354Z"
   },
   {
    "duration": 104,
    "start_time": "2023-04-04T07:42:06.364Z"
   },
   {
    "duration": 61,
    "start_time": "2023-04-04T07:42:06.471Z"
   },
   {
    "duration": 20,
    "start_time": "2023-04-04T07:42:06.535Z"
   },
   {
    "duration": 45,
    "start_time": "2023-04-04T07:42:06.558Z"
   },
   {
    "duration": 86,
    "start_time": "2023-04-04T07:42:06.605Z"
   },
   {
    "duration": 122,
    "start_time": "2023-04-04T07:42:06.704Z"
   },
   {
    "duration": 38,
    "start_time": "2023-04-04T07:42:06.829Z"
   },
   {
    "duration": 11,
    "start_time": "2023-04-04T07:42:06.869Z"
   },
   {
    "duration": 41,
    "start_time": "2023-04-04T07:42:06.881Z"
   },
   {
    "duration": 23,
    "start_time": "2023-04-04T07:42:06.924Z"
   },
   {
    "duration": 11,
    "start_time": "2023-04-04T07:42:06.948Z"
   },
   {
    "duration": 7,
    "start_time": "2023-04-04T07:42:06.961Z"
   },
   {
    "duration": 242,
    "start_time": "2023-04-04T07:42:06.971Z"
   },
   {
    "duration": 632,
    "start_time": "2023-04-04T07:42:07.214Z"
   },
   {
    "duration": 16,
    "start_time": "2023-04-04T07:42:07.848Z"
   },
   {
    "duration": 14,
    "start_time": "2023-04-04T07:42:07.866Z"
   },
   {
    "duration": 231,
    "start_time": "2023-04-04T07:42:07.882Z"
   },
   {
    "duration": 16,
    "start_time": "2023-04-04T07:42:08.114Z"
   },
   {
    "duration": 27,
    "start_time": "2023-04-04T07:42:08.132Z"
   },
   {
    "duration": 69,
    "start_time": "2023-04-04T07:42:08.161Z"
   },
   {
    "duration": 22,
    "start_time": "2023-04-04T07:42:08.232Z"
   },
   {
    "duration": 77,
    "start_time": "2023-04-04T07:42:08.257Z"
   },
   {
    "duration": 22,
    "start_time": "2023-04-04T07:42:08.336Z"
   },
   {
    "duration": 69,
    "start_time": "2023-04-04T07:42:08.360Z"
   },
   {
    "duration": 4,
    "start_time": "2023-04-04T07:42:08.431Z"
   },
   {
    "duration": 6,
    "start_time": "2023-04-04T07:42:08.437Z"
   },
   {
    "duration": 59,
    "start_time": "2023-04-04T07:42:08.445Z"
   },
   {
    "duration": 39,
    "start_time": "2023-04-04T07:42:08.506Z"
   },
   {
    "duration": 81,
    "start_time": "2023-04-04T07:42:08.547Z"
   },
   {
    "duration": 96,
    "start_time": "2023-04-04T07:42:08.630Z"
   },
   {
    "duration": 8,
    "start_time": "2023-04-04T07:42:08.728Z"
   },
   {
    "duration": 12,
    "start_time": "2023-04-04T07:42:08.738Z"
   },
   {
    "duration": 8,
    "start_time": "2023-04-04T07:42:08.752Z"
   },
   {
    "duration": 41,
    "start_time": "2023-04-04T07:42:08.762Z"
   },
   {
    "duration": 15,
    "start_time": "2023-04-04T07:42:59.338Z"
   },
   {
    "duration": 4,
    "start_time": "2023-04-04T07:43:02.910Z"
   },
   {
    "duration": 165,
    "start_time": "2023-04-04T07:43:02.916Z"
   },
   {
    "duration": 8,
    "start_time": "2023-04-04T07:43:03.083Z"
   },
   {
    "duration": 40,
    "start_time": "2023-04-04T07:43:03.093Z"
   },
   {
    "duration": 15,
    "start_time": "2023-04-04T07:43:03.135Z"
   },
   {
    "duration": 7,
    "start_time": "2023-04-04T07:43:03.152Z"
   },
   {
    "duration": 99,
    "start_time": "2023-04-04T07:43:03.161Z"
   },
   {
    "duration": 41,
    "start_time": "2023-04-04T07:43:03.262Z"
   },
   {
    "duration": 18,
    "start_time": "2023-04-04T07:43:03.305Z"
   },
   {
    "duration": 31,
    "start_time": "2023-04-04T07:43:03.325Z"
   },
   {
    "duration": 102,
    "start_time": "2023-04-04T07:43:03.358Z"
   },
   {
    "duration": 122,
    "start_time": "2023-04-04T07:43:03.462Z"
   },
   {
    "duration": 35,
    "start_time": "2023-04-04T07:43:03.586Z"
   },
   {
    "duration": 10,
    "start_time": "2023-04-04T07:43:03.624Z"
   },
   {
    "duration": 25,
    "start_time": "2023-04-04T07:43:03.636Z"
   },
   {
    "duration": 20,
    "start_time": "2023-04-04T07:43:03.663Z"
   },
   {
    "duration": 24,
    "start_time": "2023-04-04T07:43:03.685Z"
   },
   {
    "duration": 8,
    "start_time": "2023-04-04T07:43:03.711Z"
   },
   {
    "duration": 207,
    "start_time": "2023-04-04T07:43:03.721Z"
   },
   {
    "duration": 736,
    "start_time": "2023-04-04T07:43:03.930Z"
   },
   {
    "duration": 15,
    "start_time": "2023-04-04T07:43:04.667Z"
   },
   {
    "duration": 25,
    "start_time": "2023-04-04T07:43:04.684Z"
   },
   {
    "duration": 205,
    "start_time": "2023-04-04T07:43:04.711Z"
   },
   {
    "duration": 15,
    "start_time": "2023-04-04T07:43:04.918Z"
   },
   {
    "duration": 27,
    "start_time": "2023-04-04T07:43:04.935Z"
   },
   {
    "duration": 63,
    "start_time": "2023-04-04T07:43:04.964Z"
   },
   {
    "duration": 22,
    "start_time": "2023-04-04T07:43:05.029Z"
   },
   {
    "duration": 75,
    "start_time": "2023-04-04T07:43:05.053Z"
   },
   {
    "duration": 21,
    "start_time": "2023-04-04T07:43:05.130Z"
   },
   {
    "duration": 75,
    "start_time": "2023-04-04T07:43:05.153Z"
   },
   {
    "duration": 5,
    "start_time": "2023-04-04T07:43:05.231Z"
   },
   {
    "duration": 23,
    "start_time": "2023-04-04T07:43:05.238Z"
   },
   {
    "duration": 64,
    "start_time": "2023-04-04T07:43:05.263Z"
   },
   {
    "duration": 40,
    "start_time": "2023-04-04T07:43:05.329Z"
   },
   {
    "duration": 70,
    "start_time": "2023-04-04T07:43:05.371Z"
   },
   {
    "duration": 100,
    "start_time": "2023-04-04T07:43:05.443Z"
   },
   {
    "duration": 8,
    "start_time": "2023-04-04T07:43:05.545Z"
   },
   {
    "duration": 31,
    "start_time": "2023-04-04T07:43:05.555Z"
   },
   {
    "duration": 22,
    "start_time": "2023-04-04T07:43:05.587Z"
   },
   {
    "duration": 31,
    "start_time": "2023-04-04T07:43:05.611Z"
   },
   {
    "duration": 3,
    "start_time": "2023-04-04T07:43:51.682Z"
   },
   {
    "duration": 12,
    "start_time": "2023-04-04T07:43:56.054Z"
   },
   {
    "duration": 6,
    "start_time": "2023-04-04T07:44:01.884Z"
   },
   {
    "duration": 4,
    "start_time": "2023-04-04T07:44:26.617Z"
   },
   {
    "duration": 5,
    "start_time": "2023-04-04T07:44:40.873Z"
   },
   {
    "duration": 5,
    "start_time": "2023-04-04T07:44:51.953Z"
   },
   {
    "duration": 71,
    "start_time": "2023-04-04T07:45:00.839Z"
   },
   {
    "duration": 58,
    "start_time": "2023-04-04T07:45:08.016Z"
   },
   {
    "duration": 53,
    "start_time": "2023-04-04T07:45:11.710Z"
   },
   {
    "duration": 4,
    "start_time": "2023-04-04T07:45:39.511Z"
   },
   {
    "duration": 9,
    "start_time": "2023-04-04T07:47:24.266Z"
   },
   {
    "duration": 9,
    "start_time": "2023-04-04T07:47:37.064Z"
   },
   {
    "duration": 9,
    "start_time": "2023-04-04T07:47:45.822Z"
   },
   {
    "duration": 9,
    "start_time": "2023-04-04T07:47:49.347Z"
   },
   {
    "duration": 12,
    "start_time": "2023-04-04T07:47:58.028Z"
   },
   {
    "duration": 9,
    "start_time": "2023-04-04T07:48:00.315Z"
   },
   {
    "duration": 4,
    "start_time": "2023-04-04T07:48:04.376Z"
   },
   {
    "duration": 4,
    "start_time": "2023-04-04T07:48:13.414Z"
   },
   {
    "duration": 4,
    "start_time": "2023-04-04T07:48:38.137Z"
   },
   {
    "duration": 5,
    "start_time": "2023-04-04T07:48:47.394Z"
   },
   {
    "duration": 11,
    "start_time": "2023-04-04T07:48:48.029Z"
   },
   {
    "duration": 46,
    "start_time": "2023-04-04T07:49:39.314Z"
   },
   {
    "duration": 4,
    "start_time": "2023-04-04T07:51:14.819Z"
   },
   {
    "duration": 164,
    "start_time": "2023-04-04T07:51:14.826Z"
   },
   {
    "duration": 12,
    "start_time": "2023-04-04T07:51:14.992Z"
   },
   {
    "duration": 51,
    "start_time": "2023-04-04T07:51:15.005Z"
   },
   {
    "duration": 10,
    "start_time": "2023-04-04T07:51:15.058Z"
   },
   {
    "duration": 7,
    "start_time": "2023-04-04T07:51:15.070Z"
   },
   {
    "duration": 87,
    "start_time": "2023-04-04T07:51:15.079Z"
   },
   {
    "duration": 40,
    "start_time": "2023-04-04T07:51:15.168Z"
   },
   {
    "duration": 18,
    "start_time": "2023-04-04T07:51:15.211Z"
   },
   {
    "duration": 32,
    "start_time": "2023-04-04T07:51:15.231Z"
   },
   {
    "duration": 110,
    "start_time": "2023-04-04T07:51:15.265Z"
   },
   {
    "duration": 126,
    "start_time": "2023-04-04T07:51:15.377Z"
   },
   {
    "duration": 47,
    "start_time": "2023-04-04T07:51:15.505Z"
   },
   {
    "duration": 11,
    "start_time": "2023-04-04T07:51:15.555Z"
   },
   {
    "duration": 47,
    "start_time": "2023-04-04T07:51:15.567Z"
   },
   {
    "duration": 9,
    "start_time": "2023-04-04T07:51:15.616Z"
   },
   {
    "duration": 19,
    "start_time": "2023-04-04T07:51:15.626Z"
   },
   {
    "duration": 6,
    "start_time": "2023-04-04T07:51:15.646Z"
   },
   {
    "duration": 222,
    "start_time": "2023-04-04T07:51:15.654Z"
   },
   {
    "duration": 612,
    "start_time": "2023-04-04T07:51:15.878Z"
   },
   {
    "duration": 20,
    "start_time": "2023-04-04T07:51:16.492Z"
   },
   {
    "duration": 13,
    "start_time": "2023-04-04T07:51:16.514Z"
   },
   {
    "duration": 226,
    "start_time": "2023-04-04T07:51:16.528Z"
   },
   {
    "duration": 16,
    "start_time": "2023-04-04T07:51:16.755Z"
   },
   {
    "duration": 5,
    "start_time": "2023-04-04T07:51:16.773Z"
   },
   {
    "duration": 5,
    "start_time": "2023-04-04T07:51:16.779Z"
   },
   {
    "duration": 45,
    "start_time": "2023-04-04T07:51:16.804Z"
   },
   {
    "duration": 22,
    "start_time": "2023-04-04T07:51:16.851Z"
   },
   {
    "duration": 84,
    "start_time": "2023-04-04T07:51:16.874Z"
   },
   {
    "duration": 21,
    "start_time": "2023-04-04T07:51:16.961Z"
   },
   {
    "duration": 85,
    "start_time": "2023-04-04T07:51:16.984Z"
   },
   {
    "duration": 4,
    "start_time": "2023-04-04T07:51:17.072Z"
   },
   {
    "duration": 5,
    "start_time": "2023-04-04T07:51:17.078Z"
   },
   {
    "duration": 57,
    "start_time": "2023-04-04T07:51:17.085Z"
   },
   {
    "duration": 39,
    "start_time": "2023-04-04T07:51:17.144Z"
   },
   {
    "duration": 186,
    "start_time": "2023-04-04T07:51:17.185Z"
   },
   {
    "duration": 103,
    "start_time": "2023-04-04T07:51:17.373Z"
   },
   {
    "duration": 7,
    "start_time": "2023-04-04T07:51:17.478Z"
   },
   {
    "duration": 22,
    "start_time": "2023-04-04T07:51:17.486Z"
   },
   {
    "duration": 11,
    "start_time": "2023-04-04T07:51:17.509Z"
   },
   {
    "duration": 8,
    "start_time": "2023-04-04T07:51:17.524Z"
   },
   {
    "duration": 4,
    "start_time": "2023-04-04T07:51:46.861Z"
   },
   {
    "duration": 10,
    "start_time": "2023-04-04T07:51:55.408Z"
   },
   {
    "duration": 4,
    "start_time": "2023-04-04T07:51:57.633Z"
   },
   {
    "duration": 9,
    "start_time": "2023-04-04T07:57:56.528Z"
   },
   {
    "duration": 98,
    "start_time": "2023-04-04T07:58:32.933Z"
   },
   {
    "duration": 23,
    "start_time": "2023-04-04T07:58:44.734Z"
   },
   {
    "duration": 1097,
    "start_time": "2023-04-04T07:58:59.757Z"
   },
   {
    "duration": 2105,
    "start_time": "2023-04-04T08:03:26.150Z"
   },
   {
    "duration": 4,
    "start_time": "2023-04-04T08:03:31.900Z"
   },
   {
    "duration": 21,
    "start_time": "2023-04-04T08:08:28.928Z"
   },
   {
    "duration": 19,
    "start_time": "2023-04-04T08:08:58.638Z"
   },
   {
    "duration": 9,
    "start_time": "2023-04-04T08:09:10.467Z"
   },
   {
    "duration": 18,
    "start_time": "2023-04-04T08:09:34.724Z"
   },
   {
    "duration": 10,
    "start_time": "2023-04-04T08:09:51.089Z"
   },
   {
    "duration": 11,
    "start_time": "2023-04-04T08:11:54.288Z"
   },
   {
    "duration": 51,
    "start_time": "2023-04-04T08:12:08.139Z"
   },
   {
    "duration": 12,
    "start_time": "2023-04-04T08:12:16.120Z"
   },
   {
    "duration": 13,
    "start_time": "2023-04-04T08:15:01.144Z"
   },
   {
    "duration": 11,
    "start_time": "2023-04-04T08:15:27.822Z"
   },
   {
    "duration": 10,
    "start_time": "2023-04-04T08:16:06.850Z"
   },
   {
    "duration": 11,
    "start_time": "2023-04-04T08:17:54.289Z"
   },
   {
    "duration": 25,
    "start_time": "2023-04-04T08:18:06.855Z"
   },
   {
    "duration": 128,
    "start_time": "2023-04-04T08:18:13.061Z"
   },
   {
    "duration": 140,
    "start_time": "2023-04-04T08:20:38.124Z"
   },
   {
    "duration": 5,
    "start_time": "2023-04-04T08:20:46.188Z"
   },
   {
    "duration": 140,
    "start_time": "2023-04-04T08:20:51.739Z"
   },
   {
    "duration": 149,
    "start_time": "2023-04-04T08:21:01.971Z"
   },
   {
    "duration": 107,
    "start_time": "2023-04-04T08:21:08.052Z"
   },
   {
    "duration": 113,
    "start_time": "2023-04-04T08:21:26.670Z"
   },
   {
    "duration": 113,
    "start_time": "2023-04-04T08:21:41.119Z"
   },
   {
    "duration": 15,
    "start_time": "2023-04-04T08:25:49.966Z"
   },
   {
    "duration": 88,
    "start_time": "2023-04-04T08:25:53.458Z"
   },
   {
    "duration": 76,
    "start_time": "2023-04-04T08:26:00.715Z"
   },
   {
    "duration": 227,
    "start_time": "2023-04-04T08:26:07.525Z"
   },
   {
    "duration": 88,
    "start_time": "2023-04-04T08:26:11.970Z"
   },
   {
    "duration": 12,
    "start_time": "2023-04-04T08:26:49.222Z"
   },
   {
    "duration": 73,
    "start_time": "2023-04-04T08:26:53.856Z"
   },
   {
    "duration": 11,
    "start_time": "2023-04-04T08:27:20.515Z"
   },
   {
    "duration": 75,
    "start_time": "2023-04-04T08:27:25.057Z"
   },
   {
    "duration": 5,
    "start_time": "2023-04-04T08:27:49.885Z"
   },
   {
    "duration": 165,
    "start_time": "2023-04-04T08:27:49.892Z"
   },
   {
    "duration": 10,
    "start_time": "2023-04-04T08:27:50.059Z"
   },
   {
    "duration": 44,
    "start_time": "2023-04-04T08:27:50.072Z"
   },
   {
    "duration": 22,
    "start_time": "2023-04-04T08:27:50.118Z"
   },
   {
    "duration": 65,
    "start_time": "2023-04-04T08:27:50.143Z"
   },
   {
    "duration": 80,
    "start_time": "2023-04-04T08:27:50.210Z"
   },
   {
    "duration": 38,
    "start_time": "2023-04-04T08:27:50.292Z"
   },
   {
    "duration": 17,
    "start_time": "2023-04-04T08:27:50.332Z"
   },
   {
    "duration": 52,
    "start_time": "2023-04-04T08:27:50.351Z"
   },
   {
    "duration": 81,
    "start_time": "2023-04-04T08:27:50.405Z"
   },
   {
    "duration": 116,
    "start_time": "2023-04-04T08:27:50.487Z"
   },
   {
    "duration": 35,
    "start_time": "2023-04-04T08:27:50.605Z"
   },
   {
    "duration": 11,
    "start_time": "2023-04-04T08:27:50.642Z"
   },
   {
    "duration": 49,
    "start_time": "2023-04-04T08:27:50.655Z"
   },
   {
    "duration": 34,
    "start_time": "2023-04-04T08:27:50.705Z"
   },
   {
    "duration": 14,
    "start_time": "2023-04-04T08:27:50.740Z"
   },
   {
    "duration": 15,
    "start_time": "2023-04-04T08:27:50.756Z"
   },
   {
    "duration": 208,
    "start_time": "2023-04-04T08:27:50.773Z"
   },
   {
    "duration": 646,
    "start_time": "2023-04-04T08:27:50.983Z"
   },
   {
    "duration": 14,
    "start_time": "2023-04-04T08:27:51.631Z"
   },
   {
    "duration": 24,
    "start_time": "2023-04-04T08:27:51.647Z"
   },
   {
    "duration": 256,
    "start_time": "2023-04-04T08:27:51.673Z"
   },
   {
    "duration": 20,
    "start_time": "2023-04-04T08:27:51.932Z"
   },
   {
    "duration": 6,
    "start_time": "2023-04-04T08:27:51.954Z"
   },
   {
    "duration": 6,
    "start_time": "2023-04-04T08:27:51.961Z"
   },
   {
    "duration": 86,
    "start_time": "2023-04-04T08:27:51.969Z"
   },
   {
    "duration": 29,
    "start_time": "2023-04-04T08:27:52.057Z"
   },
   {
    "duration": 82,
    "start_time": "2023-04-04T08:27:52.105Z"
   },
   {
    "duration": 18,
    "start_time": "2023-04-04T08:27:52.188Z"
   },
   {
    "duration": 58,
    "start_time": "2023-04-04T08:27:52.207Z"
   },
   {
    "duration": 5,
    "start_time": "2023-04-04T08:27:52.266Z"
   },
   {
    "duration": 93,
    "start_time": "2023-04-04T08:27:52.273Z"
   },
   {
    "duration": 4,
    "start_time": "2023-04-04T08:27:52.367Z"
   },
   {
    "duration": 59,
    "start_time": "2023-04-04T08:27:52.373Z"
   },
   {
    "duration": 40,
    "start_time": "2023-04-04T08:27:52.434Z"
   },
   {
    "duration": 68,
    "start_time": "2023-04-04T08:27:52.476Z"
   },
   {
    "duration": 107,
    "start_time": "2023-04-04T08:27:52.545Z"
   },
   {
    "duration": 11,
    "start_time": "2023-04-04T08:27:52.655Z"
   },
   {
    "duration": 56,
    "start_time": "2023-04-04T08:27:52.668Z"
   },
   {
    "duration": 52,
    "start_time": "2023-04-04T08:27:52.727Z"
   },
   {
    "duration": 9,
    "start_time": "2023-04-04T08:27:52.781Z"
   },
   {
    "duration": 11,
    "start_time": "2023-04-04T08:28:06.161Z"
   },
   {
    "duration": 11,
    "start_time": "2023-04-04T08:28:09.516Z"
   },
   {
    "duration": 76,
    "start_time": "2023-04-04T08:28:15.060Z"
   },
   {
    "duration": 12,
    "start_time": "2023-04-04T08:28:56.929Z"
   },
   {
    "duration": 75,
    "start_time": "2023-04-04T08:29:08.518Z"
   },
   {
    "duration": 1150,
    "start_time": "2023-04-04T08:29:23.614Z"
   },
   {
    "duration": 75,
    "start_time": "2023-04-04T08:29:32.213Z"
   },
   {
    "duration": 13,
    "start_time": "2023-04-04T08:30:59.316Z"
   },
   {
    "duration": 73,
    "start_time": "2023-04-04T08:31:03.217Z"
   },
   {
    "duration": 34,
    "start_time": "2023-04-04T08:31:11.366Z"
   },
   {
    "duration": 79,
    "start_time": "2023-04-04T08:31:18.424Z"
   },
   {
    "duration": 14,
    "start_time": "2023-04-04T08:33:11.143Z"
   },
   {
    "duration": 12,
    "start_time": "2023-04-04T08:33:34.859Z"
   },
   {
    "duration": 14,
    "start_time": "2023-04-04T08:33:39.217Z"
   },
   {
    "duration": 16,
    "start_time": "2023-04-04T08:33:43.445Z"
   },
   {
    "duration": 13,
    "start_time": "2023-04-04T08:33:53.477Z"
   },
   {
    "duration": 15,
    "start_time": "2023-04-04T08:34:04.944Z"
   },
   {
    "duration": 73,
    "start_time": "2023-04-04T08:35:34.167Z"
   },
   {
    "duration": 23,
    "start_time": "2023-04-04T08:38:40.046Z"
   },
   {
    "duration": 65,
    "start_time": "2023-04-04T08:39:29.805Z"
   },
   {
    "duration": 58,
    "start_time": "2023-04-04T08:39:39.300Z"
   },
   {
    "duration": 121,
    "start_time": "2023-04-04T08:40:24.618Z"
   },
   {
    "duration": 56,
    "start_time": "2023-04-04T08:40:35.655Z"
   },
   {
    "duration": 55,
    "start_time": "2023-04-04T08:40:46.812Z"
   },
   {
    "duration": 56,
    "start_time": "2023-04-04T08:41:35.875Z"
   },
   {
    "duration": 56,
    "start_time": "2023-04-04T08:41:56.773Z"
   },
   {
    "duration": 68,
    "start_time": "2023-04-04T08:42:35.078Z"
   },
   {
    "duration": 1565,
    "start_time": "2023-04-04T08:45:17.136Z"
   },
   {
    "duration": 93,
    "start_time": "2023-04-04T08:47:14.543Z"
   },
   {
    "duration": 89,
    "start_time": "2023-04-04T08:47:58.395Z"
   },
   {
    "duration": 88,
    "start_time": "2023-04-04T08:48:55.741Z"
   },
   {
    "duration": 90,
    "start_time": "2023-04-04T08:49:15.328Z"
   },
   {
    "duration": 114,
    "start_time": "2023-04-04T08:49:27.139Z"
   },
   {
    "duration": 1010,
    "start_time": "2023-04-04T08:49:35.098Z"
   },
   {
    "duration": 927,
    "start_time": "2023-04-04T08:49:56.248Z"
   },
   {
    "duration": 4,
    "start_time": "2023-04-04T08:51:58.806Z"
   },
   {
    "duration": 142,
    "start_time": "2023-04-04T08:51:58.811Z"
   },
   {
    "duration": 8,
    "start_time": "2023-04-04T08:51:58.954Z"
   },
   {
    "duration": 29,
    "start_time": "2023-04-04T08:51:58.964Z"
   },
   {
    "duration": 5,
    "start_time": "2023-04-04T08:51:59.002Z"
   },
   {
    "duration": 7,
    "start_time": "2023-04-04T08:51:59.010Z"
   },
   {
    "duration": 88,
    "start_time": "2023-04-04T08:51:59.018Z"
   },
   {
    "duration": 38,
    "start_time": "2023-04-04T08:51:59.108Z"
   },
   {
    "duration": 18,
    "start_time": "2023-04-04T08:51:59.149Z"
   },
   {
    "duration": 49,
    "start_time": "2023-04-04T08:51:59.169Z"
   },
   {
    "duration": 73,
    "start_time": "2023-04-04T08:51:59.220Z"
   },
   {
    "duration": 88,
    "start_time": "2023-04-04T08:51:59.303Z"
   },
   {
    "duration": 35,
    "start_time": "2023-04-04T08:51:59.402Z"
   },
   {
    "duration": 11,
    "start_time": "2023-04-04T08:51:59.439Z"
   },
   {
    "duration": 25,
    "start_time": "2023-04-04T08:51:59.452Z"
   },
   {
    "duration": 32,
    "start_time": "2023-04-04T08:51:59.479Z"
   },
   {
    "duration": 21,
    "start_time": "2023-04-04T08:51:59.513Z"
   },
   {
    "duration": 13,
    "start_time": "2023-04-04T08:51:59.536Z"
   },
   {
    "duration": 296,
    "start_time": "2023-04-04T08:51:59.551Z"
   },
   {
    "duration": 743,
    "start_time": "2023-04-04T08:51:59.849Z"
   },
   {
    "duration": 21,
    "start_time": "2023-04-04T08:52:00.594Z"
   },
   {
    "duration": 14,
    "start_time": "2023-04-04T08:52:00.617Z"
   },
   {
    "duration": 234,
    "start_time": "2023-04-04T08:52:00.633Z"
   },
   {
    "duration": 16,
    "start_time": "2023-04-04T08:52:00.870Z"
   },
   {
    "duration": 21,
    "start_time": "2023-04-04T08:52:00.887Z"
   },
   {
    "duration": 18,
    "start_time": "2023-04-04T08:52:00.910Z"
   },
   {
    "duration": 78,
    "start_time": "2023-04-04T08:52:00.930Z"
   },
   {
    "duration": 40,
    "start_time": "2023-04-04T08:52:01.009Z"
   },
   {
    "duration": 94,
    "start_time": "2023-04-04T08:52:01.050Z"
   },
   {
    "duration": 19,
    "start_time": "2023-04-04T08:52:01.146Z"
   },
   {
    "duration": 68,
    "start_time": "2023-04-04T08:52:01.167Z"
   },
   {
    "duration": 4,
    "start_time": "2023-04-04T08:52:01.237Z"
   },
   {
    "duration": 82,
    "start_time": "2023-04-04T08:52:01.243Z"
   },
   {
    "duration": 3,
    "start_time": "2023-04-04T08:52:01.327Z"
   },
   {
    "duration": 73,
    "start_time": "2023-04-04T08:52:01.331Z"
   },
   {
    "duration": 40,
    "start_time": "2023-04-04T08:52:01.405Z"
   },
   {
    "duration": 78,
    "start_time": "2023-04-04T08:52:01.446Z"
   },
   {
    "duration": 110,
    "start_time": "2023-04-04T08:52:01.525Z"
   },
   {
    "duration": 12,
    "start_time": "2023-04-04T08:52:01.637Z"
   },
   {
    "duration": 58,
    "start_time": "2023-04-04T08:52:01.650Z"
   },
   {
    "duration": 40,
    "start_time": "2023-04-04T08:52:01.710Z"
   },
   {
    "duration": 842,
    "start_time": "2023-04-04T08:52:01.752Z"
   },
   {
    "duration": 4,
    "start_time": "2023-04-04T08:52:39.998Z"
   },
   {
    "duration": 4,
    "start_time": "2023-04-04T08:52:58.061Z"
   },
   {
    "duration": 5,
    "start_time": "2023-04-04T08:53:17.336Z"
   },
   {
    "duration": 14,
    "start_time": "2023-04-04T08:54:27.667Z"
   },
   {
    "duration": 13,
    "start_time": "2023-04-04T08:54:32.360Z"
   },
   {
    "duration": 13,
    "start_time": "2023-04-04T08:54:41.429Z"
   },
   {
    "duration": 14,
    "start_time": "2023-04-04T08:54:44.498Z"
   },
   {
    "duration": 790,
    "start_time": "2023-04-04T08:54:48.701Z"
   },
   {
    "duration": 17,
    "start_time": "2023-04-04T08:54:55.360Z"
   },
   {
    "duration": 926,
    "start_time": "2023-04-04T08:59:03.114Z"
   },
   {
    "duration": 99,
    "start_time": "2023-04-04T08:59:13.329Z"
   },
   {
    "duration": 982,
    "start_time": "2023-04-04T08:59:19.198Z"
   },
   {
    "duration": 5,
    "start_time": "2023-04-04T08:59:25.348Z"
   },
   {
    "duration": 173,
    "start_time": "2023-04-04T08:59:25.355Z"
   },
   {
    "duration": 8,
    "start_time": "2023-04-04T08:59:25.531Z"
   },
   {
    "duration": 25,
    "start_time": "2023-04-04T08:59:25.540Z"
   },
   {
    "duration": 5,
    "start_time": "2023-04-04T08:59:25.567Z"
   },
   {
    "duration": 36,
    "start_time": "2023-04-04T08:59:25.574Z"
   },
   {
    "duration": 75,
    "start_time": "2023-04-04T08:59:25.616Z"
   },
   {
    "duration": 59,
    "start_time": "2023-04-04T08:59:25.693Z"
   },
   {
    "duration": 18,
    "start_time": "2023-04-04T08:59:25.755Z"
   },
   {
    "duration": 42,
    "start_time": "2023-04-04T08:59:25.775Z"
   },
   {
    "duration": 99,
    "start_time": "2023-04-04T08:59:25.824Z"
   },
   {
    "duration": 112,
    "start_time": "2023-04-04T08:59:25.924Z"
   },
   {
    "duration": 38,
    "start_time": "2023-04-04T08:59:26.038Z"
   },
   {
    "duration": 44,
    "start_time": "2023-04-04T08:59:26.078Z"
   },
   {
    "duration": 28,
    "start_time": "2023-04-04T08:59:26.124Z"
   },
   {
    "duration": 10,
    "start_time": "2023-04-04T08:59:26.154Z"
   },
   {
    "duration": 15,
    "start_time": "2023-04-04T08:59:26.166Z"
   },
   {
    "duration": 26,
    "start_time": "2023-04-04T08:59:26.183Z"
   },
   {
    "duration": 226,
    "start_time": "2023-04-04T08:59:26.218Z"
   },
   {
    "duration": 704,
    "start_time": "2023-04-04T08:59:26.445Z"
   },
   {
    "duration": 19,
    "start_time": "2023-04-04T08:59:27.152Z"
   },
   {
    "duration": 31,
    "start_time": "2023-04-04T08:59:27.173Z"
   },
   {
    "duration": 236,
    "start_time": "2023-04-04T08:59:27.210Z"
   },
   {
    "duration": 17,
    "start_time": "2023-04-04T08:59:27.449Z"
   },
   {
    "duration": 6,
    "start_time": "2023-04-04T08:59:27.468Z"
   },
   {
    "duration": 38,
    "start_time": "2023-04-04T08:59:27.477Z"
   },
   {
    "duration": 66,
    "start_time": "2023-04-04T08:59:27.521Z"
   },
   {
    "duration": 37,
    "start_time": "2023-04-04T08:59:27.589Z"
   },
   {
    "duration": 80,
    "start_time": "2023-04-04T08:59:27.629Z"
   },
   {
    "duration": 24,
    "start_time": "2023-04-04T08:59:27.710Z"
   },
   {
    "duration": 85,
    "start_time": "2023-04-04T08:59:27.736Z"
   },
   {
    "duration": 5,
    "start_time": "2023-04-04T08:59:27.823Z"
   },
   {
    "duration": 87,
    "start_time": "2023-04-04T08:59:27.831Z"
   },
   {
    "duration": 4,
    "start_time": "2023-04-04T08:59:27.922Z"
   },
   {
    "duration": 59,
    "start_time": "2023-04-04T08:59:27.929Z"
   },
   {
    "duration": 52,
    "start_time": "2023-04-04T08:59:27.990Z"
   },
   {
    "duration": 134,
    "start_time": "2023-04-04T08:59:28.045Z"
   },
   {
    "duration": 254,
    "start_time": "2023-04-04T08:59:28.181Z"
   },
   {
    "duration": 13,
    "start_time": "2023-04-04T08:59:28.436Z"
   },
   {
    "duration": 21,
    "start_time": "2023-04-04T08:59:28.451Z"
   },
   {
    "duration": 9,
    "start_time": "2023-04-04T08:59:28.474Z"
   },
   {
    "duration": 1151,
    "start_time": "2023-04-04T08:59:28.485Z"
   },
   {
    "duration": 119,
    "start_time": "2023-04-04T08:59:45.006Z"
   },
   {
    "duration": 1108,
    "start_time": "2023-04-04T09:00:52.398Z"
   },
   {
    "duration": 9,
    "start_time": "2023-04-04T09:01:56.416Z"
   },
   {
    "duration": 9,
    "start_time": "2023-04-04T09:02:05.901Z"
   },
   {
    "duration": 49,
    "start_time": "2023-04-04T09:21:39.132Z"
   },
   {
    "duration": 46,
    "start_time": "2023-04-04T09:21:43.830Z"
   },
   {
    "duration": 39,
    "start_time": "2023-04-04T09:21:45.901Z"
   },
   {
    "duration": 1228,
    "start_time": "2023-04-04T15:25:14.381Z"
   },
   {
    "duration": 163,
    "start_time": "2023-04-04T15:25:15.610Z"
   },
   {
    "duration": 11,
    "start_time": "2023-04-04T15:25:15.776Z"
   },
   {
    "duration": 19,
    "start_time": "2023-04-04T15:25:15.788Z"
   },
   {
    "duration": 7,
    "start_time": "2023-04-04T15:25:15.808Z"
   },
   {
    "duration": 10,
    "start_time": "2023-04-04T15:25:15.834Z"
   },
   {
    "duration": 77,
    "start_time": "2023-04-04T15:25:15.846Z"
   },
   {
    "duration": 46,
    "start_time": "2023-04-04T15:25:15.925Z"
   },
   {
    "duration": 16,
    "start_time": "2023-04-04T15:25:15.972Z"
   },
   {
    "duration": 61,
    "start_time": "2023-04-04T15:25:15.990Z"
   },
   {
    "duration": 89,
    "start_time": "2023-04-04T15:25:16.052Z"
   },
   {
    "duration": 117,
    "start_time": "2023-04-04T15:25:16.143Z"
   },
   {
    "duration": 36,
    "start_time": "2023-04-04T15:25:16.261Z"
   },
   {
    "duration": 11,
    "start_time": "2023-04-04T15:25:16.299Z"
   },
   {
    "duration": 45,
    "start_time": "2023-04-04T15:25:16.312Z"
   },
   {
    "duration": 10,
    "start_time": "2023-04-04T15:25:16.358Z"
   },
   {
    "duration": 11,
    "start_time": "2023-04-04T15:25:16.370Z"
   },
   {
    "duration": 29,
    "start_time": "2023-04-04T15:25:16.382Z"
   },
   {
    "duration": 279,
    "start_time": "2023-04-04T15:25:16.412Z"
   },
   {
    "duration": 590,
    "start_time": "2023-04-04T15:25:16.692Z"
   },
   {
    "duration": 19,
    "start_time": "2023-04-04T15:25:17.285Z"
   },
   {
    "duration": 28,
    "start_time": "2023-04-04T15:25:17.306Z"
   },
   {
    "duration": 297,
    "start_time": "2023-04-04T15:25:17.339Z"
   },
   {
    "duration": 16,
    "start_time": "2023-04-04T15:25:17.638Z"
   },
   {
    "duration": 5,
    "start_time": "2023-04-04T15:25:17.656Z"
   },
   {
    "duration": 6,
    "start_time": "2023-04-04T15:25:17.662Z"
   },
   {
    "duration": 75,
    "start_time": "2023-04-04T15:25:17.669Z"
   },
   {
    "duration": 48,
    "start_time": "2023-04-04T15:25:17.746Z"
   },
   {
    "duration": 77,
    "start_time": "2023-04-04T15:25:17.796Z"
   },
   {
    "duration": 18,
    "start_time": "2023-04-04T15:25:17.874Z"
   },
   {
    "duration": 63,
    "start_time": "2023-04-04T15:25:17.893Z"
   },
   {
    "duration": 4,
    "start_time": "2023-04-04T15:25:17.958Z"
   },
   {
    "duration": 56,
    "start_time": "2023-04-04T15:25:17.963Z"
   },
   {
    "duration": 3,
    "start_time": "2023-04-04T15:25:18.034Z"
   },
   {
    "duration": 44,
    "start_time": "2023-04-04T15:25:18.039Z"
   },
   {
    "duration": 49,
    "start_time": "2023-04-04T15:25:18.085Z"
   },
   {
    "duration": 58,
    "start_time": "2023-04-04T15:25:18.136Z"
   },
   {
    "duration": 95,
    "start_time": "2023-04-04T15:25:18.196Z"
   },
   {
    "duration": 5,
    "start_time": "2023-04-04T15:25:18.292Z"
   },
   {
    "duration": 13,
    "start_time": "2023-04-04T15:25:18.299Z"
   },
   {
    "duration": 27,
    "start_time": "2023-04-04T15:25:18.314Z"
   },
   {
    "duration": 10,
    "start_time": "2023-04-04T15:25:18.342Z"
   },
   {
    "duration": 1823,
    "start_time": "2023-04-04T15:25:18.354Z"
   },
   {
    "duration": 9,
    "start_time": "2023-04-04T15:28:42.522Z"
   },
   {
    "duration": 4,
    "start_time": "2023-04-04T15:29:16.732Z"
   },
   {
    "duration": 67,
    "start_time": "2023-04-05T07:28:02.623Z"
   },
   {
    "duration": 6,
    "start_time": "2023-04-05T07:28:06.911Z"
   },
   {
    "duration": 1355,
    "start_time": "2023-04-05T07:28:09.230Z"
   },
   {
    "duration": 600,
    "start_time": "2023-04-05T07:28:10.588Z"
   },
   {
    "duration": 13,
    "start_time": "2023-04-05T07:28:11.190Z"
   },
   {
    "duration": 20,
    "start_time": "2023-04-05T07:28:11.206Z"
   },
   {
    "duration": 7,
    "start_time": "2023-04-05T07:28:11.228Z"
   },
   {
    "duration": 13,
    "start_time": "2023-04-05T07:28:11.237Z"
   },
   {
    "duration": 79,
    "start_time": "2023-04-05T07:28:11.251Z"
   },
   {
    "duration": 42,
    "start_time": "2023-04-05T07:28:11.332Z"
   },
   {
    "duration": 24,
    "start_time": "2023-04-05T07:28:11.375Z"
   },
   {
    "duration": 64,
    "start_time": "2023-04-05T07:28:11.401Z"
   },
   {
    "duration": 94,
    "start_time": "2023-04-05T07:28:11.467Z"
   },
   {
    "duration": 124,
    "start_time": "2023-04-05T07:28:11.562Z"
   },
   {
    "duration": 34,
    "start_time": "2023-04-05T07:28:11.688Z"
   },
   {
    "duration": 10,
    "start_time": "2023-04-05T07:28:11.723Z"
   },
   {
    "duration": 37,
    "start_time": "2023-04-05T07:28:11.735Z"
   },
   {
    "duration": 9,
    "start_time": "2023-04-05T07:28:11.773Z"
   },
   {
    "duration": 16,
    "start_time": "2023-04-05T07:28:11.784Z"
   },
   {
    "duration": 9,
    "start_time": "2023-04-05T07:28:11.801Z"
   },
   {
    "duration": 291,
    "start_time": "2023-04-05T07:28:11.811Z"
   },
   {
    "duration": 562,
    "start_time": "2023-04-05T07:28:12.103Z"
   },
   {
    "duration": 25,
    "start_time": "2023-04-05T07:28:12.666Z"
   },
   {
    "duration": 15,
    "start_time": "2023-04-05T07:28:12.693Z"
   },
   {
    "duration": 245,
    "start_time": "2023-04-05T07:28:12.709Z"
   },
   {
    "duration": 26,
    "start_time": "2023-04-05T07:28:12.956Z"
   },
   {
    "duration": 14,
    "start_time": "2023-04-05T07:28:12.983Z"
   },
   {
    "duration": 7,
    "start_time": "2023-04-05T07:28:12.999Z"
   },
   {
    "duration": 42,
    "start_time": "2023-04-05T07:28:13.007Z"
   },
   {
    "duration": 45,
    "start_time": "2023-04-05T07:28:13.052Z"
   },
   {
    "duration": 74,
    "start_time": "2023-04-05T07:28:13.099Z"
   },
   {
    "duration": 21,
    "start_time": "2023-04-05T07:28:13.175Z"
   },
   {
    "duration": 46,
    "start_time": "2023-04-05T07:28:13.198Z"
   },
   {
    "duration": 4,
    "start_time": "2023-04-05T07:28:13.245Z"
   },
   {
    "duration": 73,
    "start_time": "2023-04-05T07:28:13.250Z"
   },
   {
    "duration": 3,
    "start_time": "2023-04-05T07:28:13.324Z"
   },
   {
    "duration": 67,
    "start_time": "2023-04-05T07:28:13.328Z"
   },
   {
    "duration": 37,
    "start_time": "2023-04-05T07:28:13.397Z"
   },
   {
    "duration": 109,
    "start_time": "2023-04-05T07:28:13.435Z"
   },
   {
    "duration": 103,
    "start_time": "2023-04-05T07:28:13.545Z"
   },
   {
    "duration": 5,
    "start_time": "2023-04-05T07:28:13.649Z"
   },
   {
    "duration": 53,
    "start_time": "2023-04-05T07:28:13.655Z"
   },
   {
    "duration": 15,
    "start_time": "2023-04-05T07:28:13.710Z"
   },
   {
    "duration": 12,
    "start_time": "2023-04-05T07:28:13.726Z"
   },
   {
    "duration": 1465,
    "start_time": "2023-04-05T07:28:13.740Z"
   },
   {
    "duration": 1295,
    "start_time": "2023-04-05T07:28:21.322Z"
   },
   {
    "duration": 1276,
    "start_time": "2023-04-05T07:28:27.714Z"
   },
   {
    "duration": 1316,
    "start_time": "2023-04-05T07:32:27.012Z"
   },
   {
    "duration": 4,
    "start_time": "2023-04-05T07:35:51.252Z"
   },
   {
    "duration": 4,
    "start_time": "2023-04-05T07:35:53.764Z"
   },
   {
    "duration": 3200,
    "start_time": "2023-04-05T07:36:05.256Z"
   },
   {
    "duration": 4,
    "start_time": "2023-04-05T07:36:12.213Z"
   },
   {
    "duration": 198,
    "start_time": "2023-04-05T07:36:12.220Z"
   },
   {
    "duration": 9,
    "start_time": "2023-04-05T07:36:12.419Z"
   },
   {
    "duration": 67,
    "start_time": "2023-04-05T07:36:12.430Z"
   },
   {
    "duration": 9,
    "start_time": "2023-04-05T07:36:12.499Z"
   },
   {
    "duration": 16,
    "start_time": "2023-04-05T07:36:12.509Z"
   },
   {
    "duration": 72,
    "start_time": "2023-04-05T07:36:12.527Z"
   },
   {
    "duration": 39,
    "start_time": "2023-04-05T07:36:12.601Z"
   },
   {
    "duration": 17,
    "start_time": "2023-04-05T07:36:12.642Z"
   },
   {
    "duration": 51,
    "start_time": "2023-04-05T07:36:12.661Z"
   },
   {
    "duration": 98,
    "start_time": "2023-04-05T07:36:12.714Z"
   },
   {
    "duration": 116,
    "start_time": "2023-04-05T07:36:12.814Z"
   },
   {
    "duration": 40,
    "start_time": "2023-04-05T07:36:12.932Z"
   },
   {
    "duration": 19,
    "start_time": "2023-04-05T07:36:12.975Z"
   },
   {
    "duration": 37,
    "start_time": "2023-04-05T07:36:12.996Z"
   },
   {
    "duration": 14,
    "start_time": "2023-04-05T07:36:13.035Z"
   },
   {
    "duration": 28,
    "start_time": "2023-04-05T07:36:13.051Z"
   },
   {
    "duration": 41,
    "start_time": "2023-04-05T07:36:13.081Z"
   },
   {
    "duration": 178,
    "start_time": "2023-04-05T07:36:13.123Z"
   },
   {
    "duration": 515,
    "start_time": "2023-04-05T07:36:13.303Z"
   },
   {
    "duration": 15,
    "start_time": "2023-04-05T07:36:13.820Z"
   },
   {
    "duration": 11,
    "start_time": "2023-04-05T07:36:13.837Z"
   },
   {
    "duration": 194,
    "start_time": "2023-04-05T07:36:13.849Z"
   },
   {
    "duration": 13,
    "start_time": "2023-04-05T07:36:14.044Z"
   },
   {
    "duration": 15,
    "start_time": "2023-04-05T07:36:14.058Z"
   },
   {
    "duration": 35,
    "start_time": "2023-04-05T07:36:14.075Z"
   },
   {
    "duration": 82,
    "start_time": "2023-04-05T07:36:14.112Z"
   },
   {
    "duration": 18,
    "start_time": "2023-04-05T07:36:14.196Z"
   },
   {
    "duration": 60,
    "start_time": "2023-04-05T07:36:14.215Z"
   },
   {
    "duration": 21,
    "start_time": "2023-04-05T07:36:14.276Z"
   },
   {
    "duration": 52,
    "start_time": "2023-04-05T07:36:14.298Z"
   },
   {
    "duration": 20,
    "start_time": "2023-04-05T07:36:14.352Z"
   },
   {
    "duration": 56,
    "start_time": "2023-04-05T07:36:14.374Z"
   },
   {
    "duration": 4,
    "start_time": "2023-04-05T07:36:14.432Z"
   },
   {
    "duration": 63,
    "start_time": "2023-04-05T07:36:14.438Z"
   },
   {
    "duration": 37,
    "start_time": "2023-04-05T07:36:14.502Z"
   },
   {
    "duration": 78,
    "start_time": "2023-04-05T07:36:14.540Z"
   },
   {
    "duration": 102,
    "start_time": "2023-04-05T07:36:14.619Z"
   },
   {
    "duration": 4,
    "start_time": "2023-04-05T07:36:14.723Z"
   },
   {
    "duration": 7,
    "start_time": "2023-04-05T07:36:14.729Z"
   },
   {
    "duration": 16,
    "start_time": "2023-04-05T07:36:14.739Z"
   },
   {
    "duration": 21,
    "start_time": "2023-04-05T07:36:14.756Z"
   },
   {
    "duration": 21,
    "start_time": "2023-04-05T07:36:14.778Z"
   },
   {
    "duration": 2516,
    "start_time": "2023-04-05T07:36:14.801Z"
   },
   {
    "duration": 1818,
    "start_time": "2023-04-05T07:36:40.195Z"
   },
   {
    "duration": 2245,
    "start_time": "2023-04-05T07:38:08.088Z"
   },
   {
    "duration": 4,
    "start_time": "2023-04-05T07:41:57.511Z"
   },
   {
    "duration": 10,
    "start_time": "2023-04-05T07:42:10.444Z"
   },
   {
    "duration": 9,
    "start_time": "2023-04-05T07:43:40.625Z"
   },
   {
    "duration": 37,
    "start_time": "2023-04-05T07:46:48.221Z"
   },
   {
    "duration": 5,
    "start_time": "2023-04-05T07:46:53.353Z"
   },
   {
    "duration": 148,
    "start_time": "2023-04-05T07:46:53.360Z"
   },
   {
    "duration": 8,
    "start_time": "2023-04-05T07:46:53.509Z"
   },
   {
    "duration": 47,
    "start_time": "2023-04-05T07:46:53.519Z"
   },
   {
    "duration": 7,
    "start_time": "2023-04-05T07:46:53.568Z"
   },
   {
    "duration": 36,
    "start_time": "2023-04-05T07:46:53.576Z"
   },
   {
    "duration": 91,
    "start_time": "2023-04-05T07:46:53.615Z"
   },
   {
    "duration": 36,
    "start_time": "2023-04-05T07:46:53.708Z"
   },
   {
    "duration": 30,
    "start_time": "2023-04-05T07:46:53.746Z"
   },
   {
    "duration": 35,
    "start_time": "2023-04-05T07:46:53.777Z"
   },
   {
    "duration": 107,
    "start_time": "2023-04-05T07:46:53.814Z"
   },
   {
    "duration": 160,
    "start_time": "2023-04-05T07:46:53.923Z"
   },
   {
    "duration": 33,
    "start_time": "2023-04-05T07:46:54.084Z"
   },
   {
    "duration": 24,
    "start_time": "2023-04-05T07:46:54.119Z"
   },
   {
    "duration": 40,
    "start_time": "2023-04-05T07:46:54.144Z"
   },
   {
    "duration": 10,
    "start_time": "2023-04-05T07:46:54.186Z"
   },
   {
    "duration": 14,
    "start_time": "2023-04-05T07:46:54.198Z"
   },
   {
    "duration": 26,
    "start_time": "2023-04-05T07:46:54.214Z"
   },
   {
    "duration": 184,
    "start_time": "2023-04-05T07:46:54.242Z"
   },
   {
    "duration": 587,
    "start_time": "2023-04-05T07:46:54.427Z"
   },
   {
    "duration": 14,
    "start_time": "2023-04-05T07:46:55.016Z"
   },
   {
    "duration": 24,
    "start_time": "2023-04-05T07:46:55.032Z"
   },
   {
    "duration": 195,
    "start_time": "2023-04-05T07:46:55.058Z"
   },
   {
    "duration": 15,
    "start_time": "2023-04-05T07:46:55.257Z"
   },
   {
    "duration": 4,
    "start_time": "2023-04-05T07:46:55.273Z"
   },
   {
    "duration": 24,
    "start_time": "2023-04-05T07:46:55.279Z"
   },
   {
    "duration": 54,
    "start_time": "2023-04-05T07:46:55.305Z"
   },
   {
    "duration": 21,
    "start_time": "2023-04-05T07:46:55.361Z"
   },
   {
    "duration": 64,
    "start_time": "2023-04-05T07:46:55.384Z"
   },
   {
    "duration": 28,
    "start_time": "2023-04-05T07:46:55.450Z"
   },
   {
    "duration": 51,
    "start_time": "2023-04-05T07:46:55.479Z"
   },
   {
    "duration": 5,
    "start_time": "2023-04-05T07:46:55.532Z"
   },
   {
    "duration": 95,
    "start_time": "2023-04-05T07:46:55.538Z"
   },
   {
    "duration": 3,
    "start_time": "2023-04-05T07:46:55.635Z"
   },
   {
    "duration": 77,
    "start_time": "2023-04-05T07:46:55.640Z"
   },
   {
    "duration": 70,
    "start_time": "2023-04-05T07:46:55.719Z"
   },
   {
    "duration": 71,
    "start_time": "2023-04-05T07:46:55.791Z"
   },
   {
    "duration": 100,
    "start_time": "2023-04-05T07:46:55.872Z"
   },
   {
    "duration": 5,
    "start_time": "2023-04-05T07:46:55.974Z"
   },
   {
    "duration": 17,
    "start_time": "2023-04-05T07:46:55.980Z"
   },
   {
    "duration": 15,
    "start_time": "2023-04-05T07:46:55.998Z"
   },
   {
    "duration": 22,
    "start_time": "2023-04-05T07:46:56.015Z"
   },
   {
    "duration": 26,
    "start_time": "2023-04-05T07:46:56.038Z"
   },
   {
    "duration": 1403,
    "start_time": "2023-04-05T11:44:32.495Z"
   },
   {
    "duration": 168,
    "start_time": "2023-04-05T11:44:33.900Z"
   },
   {
    "duration": 13,
    "start_time": "2023-04-05T11:44:34.069Z"
   },
   {
    "duration": 21,
    "start_time": "2023-04-05T11:44:34.084Z"
   },
   {
    "duration": 24,
    "start_time": "2023-04-05T11:44:34.108Z"
   },
   {
    "duration": 19,
    "start_time": "2023-04-05T11:44:34.135Z"
   },
   {
    "duration": 92,
    "start_time": "2023-04-05T11:44:34.156Z"
   },
   {
    "duration": 47,
    "start_time": "2023-04-05T11:44:34.250Z"
   },
   {
    "duration": 28,
    "start_time": "2023-04-05T11:44:34.299Z"
   },
   {
    "duration": 39,
    "start_time": "2023-04-05T11:44:34.330Z"
   },
   {
    "duration": 108,
    "start_time": "2023-04-05T11:44:34.371Z"
   },
   {
    "duration": 127,
    "start_time": "2023-04-05T11:44:34.481Z"
   },
   {
    "duration": 39,
    "start_time": "2023-04-05T11:44:34.610Z"
   },
   {
    "duration": 12,
    "start_time": "2023-04-05T11:44:34.651Z"
   },
   {
    "duration": 26,
    "start_time": "2023-04-05T11:44:34.665Z"
   },
   {
    "duration": 32,
    "start_time": "2023-04-05T11:44:34.693Z"
   },
   {
    "duration": 11,
    "start_time": "2023-04-05T11:44:34.728Z"
   },
   {
    "duration": 7,
    "start_time": "2023-04-05T11:44:34.741Z"
   },
   {
    "duration": 330,
    "start_time": "2023-04-05T11:44:34.750Z"
   },
   {
    "duration": 643,
    "start_time": "2023-04-05T11:44:35.084Z"
   },
   {
    "duration": 16,
    "start_time": "2023-04-05T11:44:35.729Z"
   },
   {
    "duration": 13,
    "start_time": "2023-04-05T11:44:35.747Z"
   },
   {
    "duration": 337,
    "start_time": "2023-04-05T11:44:35.762Z"
   },
   {
    "duration": 25,
    "start_time": "2023-04-05T11:44:36.102Z"
   },
   {
    "duration": 5,
    "start_time": "2023-04-05T11:44:36.129Z"
   },
   {
    "duration": 26,
    "start_time": "2023-04-05T11:44:36.136Z"
   },
   {
    "duration": 46,
    "start_time": "2023-04-05T11:44:36.164Z"
   },
   {
    "duration": 23,
    "start_time": "2023-04-05T11:44:36.224Z"
   },
   {
    "duration": 75,
    "start_time": "2023-04-05T11:44:36.250Z"
   },
   {
    "duration": 29,
    "start_time": "2023-04-05T11:44:36.328Z"
   },
   {
    "duration": 78,
    "start_time": "2023-04-05T11:44:36.359Z"
   },
   {
    "duration": 5,
    "start_time": "2023-04-05T11:44:36.440Z"
   },
   {
    "duration": 76,
    "start_time": "2023-04-05T11:44:36.447Z"
   },
   {
    "duration": 4,
    "start_time": "2023-04-05T11:44:36.525Z"
   },
   {
    "duration": 61,
    "start_time": "2023-04-05T11:44:36.531Z"
   },
   {
    "duration": 49,
    "start_time": "2023-04-05T11:44:36.594Z"
   },
   {
    "duration": 65,
    "start_time": "2023-04-05T11:44:36.645Z"
   },
   {
    "duration": 111,
    "start_time": "2023-04-05T11:44:36.724Z"
   },
   {
    "duration": 7,
    "start_time": "2023-04-05T11:44:36.837Z"
   },
   {
    "duration": 15,
    "start_time": "2023-04-05T11:44:36.846Z"
   },
   {
    "duration": 12,
    "start_time": "2023-04-05T11:44:36.863Z"
   },
   {
    "duration": 13,
    "start_time": "2023-04-05T11:44:36.877Z"
   },
   {
    "duration": 41,
    "start_time": "2023-04-05T11:44:36.891Z"
   },
   {
    "duration": 1467,
    "start_time": "2023-04-17T09:12:29.969Z"
   },
   {
    "duration": 4,
    "start_time": "2023-04-17T10:00:53.399Z"
   },
   {
    "duration": 57,
    "start_time": "2023-05-06T05:22:22.066Z"
   },
   {
    "duration": 1285,
    "start_time": "2023-05-15T08:34:01.280Z"
   },
   {
    "duration": 155,
    "start_time": "2023-05-15T08:34:02.567Z"
   },
   {
    "duration": 12,
    "start_time": "2023-05-15T08:34:02.724Z"
   },
   {
    "duration": 29,
    "start_time": "2023-05-15T08:34:02.737Z"
   },
   {
    "duration": 7,
    "start_time": "2023-05-15T08:34:02.774Z"
   },
   {
    "duration": 9,
    "start_time": "2023-05-15T08:34:02.782Z"
   },
   {
    "duration": 91,
    "start_time": "2023-05-15T08:34:02.792Z"
   },
   {
    "duration": 41,
    "start_time": "2023-05-15T08:34:02.884Z"
   },
   {
    "duration": 17,
    "start_time": "2023-05-15T08:34:02.927Z"
   },
   {
    "duration": 56,
    "start_time": "2023-05-15T08:34:02.946Z"
   },
   {
    "duration": 96,
    "start_time": "2023-05-15T08:34:03.003Z"
   },
   {
    "duration": 126,
    "start_time": "2023-05-15T08:34:03.100Z"
   },
   {
    "duration": 35,
    "start_time": "2023-05-15T08:34:03.228Z"
   },
   {
    "duration": 12,
    "start_time": "2023-05-15T08:34:03.274Z"
   },
   {
    "duration": 26,
    "start_time": "2023-05-15T08:34:03.287Z"
   },
   {
    "duration": 8,
    "start_time": "2023-05-15T08:34:03.314Z"
   },
   {
    "duration": 13,
    "start_time": "2023-05-15T08:34:03.323Z"
   },
   {
    "duration": 38,
    "start_time": "2023-05-15T08:34:03.338Z"
   },
   {
    "duration": 288,
    "start_time": "2023-05-15T08:34:03.378Z"
   },
   {
    "duration": 657,
    "start_time": "2023-05-15T08:34:03.668Z"
   },
   {
    "duration": 17,
    "start_time": "2023-05-15T08:34:04.327Z"
   },
   {
    "duration": 13,
    "start_time": "2023-05-15T08:34:04.346Z"
   },
   {
    "duration": 269,
    "start_time": "2023-05-15T08:34:04.375Z"
   },
   {
    "duration": 17,
    "start_time": "2023-05-15T08:34:04.648Z"
   },
   {
    "duration": 4,
    "start_time": "2023-05-15T08:34:04.675Z"
   },
   {
    "duration": 8,
    "start_time": "2023-05-15T08:34:04.681Z"
   },
   {
    "duration": 49,
    "start_time": "2023-05-15T08:34:04.690Z"
   },
   {
    "duration": 38,
    "start_time": "2023-05-15T08:34:04.741Z"
   },
   {
    "duration": 69,
    "start_time": "2023-05-15T08:34:04.781Z"
   },
   {
    "duration": 25,
    "start_time": "2023-05-15T08:34:04.852Z"
   },
   {
    "duration": 48,
    "start_time": "2023-05-15T08:34:04.879Z"
   },
   {
    "duration": 4,
    "start_time": "2023-05-15T08:34:04.928Z"
   },
   {
    "duration": 83,
    "start_time": "2023-05-15T08:34:04.935Z"
   },
   {
    "duration": 4,
    "start_time": "2023-05-15T08:34:05.020Z"
   },
   {
    "duration": 53,
    "start_time": "2023-05-15T08:34:05.026Z"
   },
   {
    "duration": 38,
    "start_time": "2023-05-15T08:34:05.081Z"
   },
   {
    "duration": 77,
    "start_time": "2023-05-15T08:34:05.121Z"
   },
   {
    "duration": 98,
    "start_time": "2023-05-15T08:34:05.200Z"
   },
   {
    "duration": 6,
    "start_time": "2023-05-15T08:34:05.300Z"
   },
   {
    "duration": 38,
    "start_time": "2023-05-15T08:34:05.307Z"
   },
   {
    "duration": 9,
    "start_time": "2023-05-15T08:34:05.348Z"
   },
   {
    "duration": 25,
    "start_time": "2023-05-15T08:34:05.359Z"
   },
   {
    "duration": 11,
    "start_time": "2023-05-15T08:34:05.386Z"
   }
  ],
  "kernelspec": {
   "display_name": "Python 3 (ipykernel)",
   "language": "python",
   "name": "python3"
  },
  "language_info": {
   "codemirror_mode": {
    "name": "ipython",
    "version": 3
   },
   "file_extension": ".py",
   "mimetype": "text/x-python",
   "name": "python",
   "nbconvert_exporter": "python",
   "pygments_lexer": "ipython3",
   "version": "3.9.13"
  },
  "toc": {
   "base_numbering": 1,
   "nav_menu": {},
   "number_sections": false,
   "sideBar": true,
   "skip_h1_title": false,
   "title_cell": "Table of Contents",
   "title_sidebar": "Contents",
   "toc_cell": false,
   "toc_position": {
    "height": "calc(100% - 180px)",
    "left": "10px",
    "top": "150px",
    "width": "181.42px"
   },
   "toc_section_display": true,
   "toc_window_display": true
  }
 },
 "nbformat": 4,
 "nbformat_minor": 2
}
