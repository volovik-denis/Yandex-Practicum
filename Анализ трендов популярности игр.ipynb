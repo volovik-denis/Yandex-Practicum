{
 "cells": [
  {
   "cell_type": "markdown",
   "metadata": {},
   "source": [
    "# Анализ трендов популярности игр"
   ]
  },
  {
   "cell_type": "markdown",
   "metadata": {},
   "source": [
    "## Описание проекта\n",
    "\n",
    "Вы работаете в интернет-магазине «Стримчик», который продаёт по всему миру компьютерные игры. Из открытых источников доступны исторические данные о продажах игр, оценки пользователей и экспертов, жанры и платформы (например, Xbox или PlayStation). Вам нужно выявить определяющие успешность игры закономерности. Это позволит сделать ставку на потенциально популярный продукт и спланировать рекламные кампании.\n",
    "\n",
    "Перед вами данные до 2016 года. Представим, что сейчас декабрь 2016 г., и вы планируете кампанию на 2017-й. Нужно отработать принцип работы с данными. Неважно, прогнозируете ли вы продажи на 2017 год по данным 2016-го или же 2027-й — по данным 2026 года.\n",
    "\n",
    "В наборе данных попадается аббревиатура ESRB (Entertainment Software Rating Board) — это ассоциация, определяющая возрастной рейтинг компьютерных игр. ESRB оценивает игровой контент и присваивает ему подходящую возрастную категорию, например, «Для взрослых», «Для детей младшего возраста» или «Для подростков»."
   ]
  },
  {
   "cell_type": "markdown",
   "metadata": {},
   "source": [
    "## Описание данных\n",
    "\n",
    "- name - **название игры**\n",
    "- platform - **игровая платформа**\n",
    "- year_of_release - **год выпуска**\n",
    "- genre - **жанр игры**\n",
    "- na_sales - **продажи в Северной Америке (миллионы проданных копий)**      \n",
    "- eu_sales - **продажи в Европе (миллионы проданных копий)**      \n",
    "- jp_sales - **продажи в Японии (миллионы проданных копий)**      \n",
    "- other_sales - **продажи в других странах (миллионы проданных копий)**      \n",
    "- critic_score - **оценка критиков (максимум 100)**    \n",
    "- user_score - **оценка пользователей (максимум 10)**     \n",
    "- rating - **рейтинг от организации ESRB (англ. Entertainment Software Rating Board). Эта ассоциация определяет рейтинг компьютерных игр и присваивает им подходящую возрастную категорию**        \n",
    "- na_sales_sum - **суммарные продажи в Северной Америке (миллионы проданных копий)**     \n",
    "- eu_sales_sum - **суммарные продажи в Европе (миллионы проданных копий)**    \n",
    "- jp_sales_sum - **суммарные продажи в Японии (миллионы проданных копий)**    \n",
    "- other_sales_sum - **суммарные продажи в других странах (миллионы проданных копий)**"
   ]
  },
  {
   "cell_type": "markdown",
   "metadata": {},
   "source": [
    "## Работа с проектом ##"
   ]
  },
  {
   "cell_type": "markdown",
   "metadata": {},
   "source": [
    "### Открываю файл с данными и изучаю общую информацию"
   ]
  },
  {
   "cell_type": "markdown",
   "metadata": {},
   "source": [
    "**Импортирую все необходимые библиотеки для проекта**"
   ]
  },
  {
   "cell_type": "code",
   "execution_count": 1,
   "metadata": {},
   "outputs": [],
   "source": [
    "import pandas as pd\n",
    "import matplotlib.pyplot as plt\n",
    "import numpy as np\n",
    "import seaborn as sns\n",
    "from scipy import stats as st"
   ]
  },
  {
   "cell_type": "markdown",
   "metadata": {},
   "source": [
    "**Открываю файл с данными**"
   ]
  },
  {
   "cell_type": "code",
   "execution_count": 2,
   "metadata": {},
   "outputs": [],
   "source": [
    "data = pd.read_csv('/datasets/games.csv')"
   ]
  },
  {
   "cell_type": "markdown",
   "metadata": {},
   "source": [
    "**Вывожу на экран первые 5 строк, изучаю данные**"
   ]
  },
  {
   "cell_type": "code",
   "execution_count": 3,
   "metadata": {
    "scrolled": false
   },
   "outputs": [
    {
     "data": {
      "text/html": [
       "<div>\n",
       "<style scoped>\n",
       "    .dataframe tbody tr th:only-of-type {\n",
       "        vertical-align: middle;\n",
       "    }\n",
       "\n",
       "    .dataframe tbody tr th {\n",
       "        vertical-align: top;\n",
       "    }\n",
       "\n",
       "    .dataframe thead th {\n",
       "        text-align: right;\n",
       "    }\n",
       "</style>\n",
       "<table border=\"1\" class=\"dataframe\">\n",
       "  <thead>\n",
       "    <tr style=\"text-align: right;\">\n",
       "      <th></th>\n",
       "      <th>Name</th>\n",
       "      <th>Platform</th>\n",
       "      <th>Year_of_Release</th>\n",
       "      <th>Genre</th>\n",
       "      <th>NA_sales</th>\n",
       "      <th>EU_sales</th>\n",
       "      <th>JP_sales</th>\n",
       "      <th>Other_sales</th>\n",
       "      <th>Critic_Score</th>\n",
       "      <th>User_Score</th>\n",
       "      <th>Rating</th>\n",
       "    </tr>\n",
       "  </thead>\n",
       "  <tbody>\n",
       "    <tr>\n",
       "      <th>0</th>\n",
       "      <td>Wii Sports</td>\n",
       "      <td>Wii</td>\n",
       "      <td>2006.0</td>\n",
       "      <td>Sports</td>\n",
       "      <td>41.36</td>\n",
       "      <td>28.96</td>\n",
       "      <td>3.77</td>\n",
       "      <td>8.45</td>\n",
       "      <td>76.0</td>\n",
       "      <td>8</td>\n",
       "      <td>E</td>\n",
       "    </tr>\n",
       "    <tr>\n",
       "      <th>1</th>\n",
       "      <td>Super Mario Bros.</td>\n",
       "      <td>NES</td>\n",
       "      <td>1985.0</td>\n",
       "      <td>Platform</td>\n",
       "      <td>29.08</td>\n",
       "      <td>3.58</td>\n",
       "      <td>6.81</td>\n",
       "      <td>0.77</td>\n",
       "      <td>NaN</td>\n",
       "      <td>NaN</td>\n",
       "      <td>NaN</td>\n",
       "    </tr>\n",
       "    <tr>\n",
       "      <th>2</th>\n",
       "      <td>Mario Kart Wii</td>\n",
       "      <td>Wii</td>\n",
       "      <td>2008.0</td>\n",
       "      <td>Racing</td>\n",
       "      <td>15.68</td>\n",
       "      <td>12.76</td>\n",
       "      <td>3.79</td>\n",
       "      <td>3.29</td>\n",
       "      <td>82.0</td>\n",
       "      <td>8.3</td>\n",
       "      <td>E</td>\n",
       "    </tr>\n",
       "    <tr>\n",
       "      <th>3</th>\n",
       "      <td>Wii Sports Resort</td>\n",
       "      <td>Wii</td>\n",
       "      <td>2009.0</td>\n",
       "      <td>Sports</td>\n",
       "      <td>15.61</td>\n",
       "      <td>10.93</td>\n",
       "      <td>3.28</td>\n",
       "      <td>2.95</td>\n",
       "      <td>80.0</td>\n",
       "      <td>8</td>\n",
       "      <td>E</td>\n",
       "    </tr>\n",
       "    <tr>\n",
       "      <th>4</th>\n",
       "      <td>Pokemon Red/Pokemon Blue</td>\n",
       "      <td>GB</td>\n",
       "      <td>1996.0</td>\n",
       "      <td>Role-Playing</td>\n",
       "      <td>11.27</td>\n",
       "      <td>8.89</td>\n",
       "      <td>10.22</td>\n",
       "      <td>1.00</td>\n",
       "      <td>NaN</td>\n",
       "      <td>NaN</td>\n",
       "      <td>NaN</td>\n",
       "    </tr>\n",
       "  </tbody>\n",
       "</table>\n",
       "</div>"
      ],
      "text/plain": [
       "                       Name Platform  Year_of_Release         Genre  NA_sales  \\\n",
       "0                Wii Sports      Wii           2006.0        Sports     41.36   \n",
       "1         Super Mario Bros.      NES           1985.0      Platform     29.08   \n",
       "2            Mario Kart Wii      Wii           2008.0        Racing     15.68   \n",
       "3         Wii Sports Resort      Wii           2009.0        Sports     15.61   \n",
       "4  Pokemon Red/Pokemon Blue       GB           1996.0  Role-Playing     11.27   \n",
       "\n",
       "   EU_sales  JP_sales  Other_sales  Critic_Score User_Score Rating  \n",
       "0     28.96      3.77         8.45          76.0          8      E  \n",
       "1      3.58      6.81         0.77           NaN        NaN    NaN  \n",
       "2     12.76      3.79         3.29          82.0        8.3      E  \n",
       "3     10.93      3.28         2.95          80.0          8      E  \n",
       "4      8.89     10.22         1.00           NaN        NaN    NaN  "
      ]
     },
     "metadata": {},
     "output_type": "display_data"
    }
   ],
   "source": [
    "display(data.head(5))"
   ]
  },
  {
   "cell_type": "markdown",
   "metadata": {},
   "source": [
    "**Вывожу сводную информацию о таблице**"
   ]
  },
  {
   "cell_type": "code",
   "execution_count": 4,
   "metadata": {},
   "outputs": [
    {
     "name": "stdout",
     "output_type": "stream",
     "text": [
      "<class 'pandas.core.frame.DataFrame'>\n",
      "RangeIndex: 16715 entries, 0 to 16714\n",
      "Data columns (total 11 columns):\n",
      " #   Column           Non-Null Count  Dtype  \n",
      "---  ------           --------------  -----  \n",
      " 0   Name             16713 non-null  object \n",
      " 1   Platform         16715 non-null  object \n",
      " 2   Year_of_Release  16446 non-null  float64\n",
      " 3   Genre            16713 non-null  object \n",
      " 4   NA_sales         16715 non-null  float64\n",
      " 5   EU_sales         16715 non-null  float64\n",
      " 6   JP_sales         16715 non-null  float64\n",
      " 7   Other_sales      16715 non-null  float64\n",
      " 8   Critic_Score     8137 non-null   float64\n",
      " 9   User_Score       10014 non-null  object \n",
      " 10  Rating           9949 non-null   object \n",
      "dtypes: float64(6), object(5)\n",
      "memory usage: 1.4+ MB\n"
     ]
    }
   ],
   "source": [
    "data.info()"
   ]
  },
  {
   "cell_type": "markdown",
   "metadata": {},
   "source": [
    "**Строю гистограммы для каждого столбца**"
   ]
  },
  {
   "cell_type": "code",
   "execution_count": 5,
   "metadata": {},
   "outputs": [
    {
     "data": {
      "image/png": "[encoded data removed]",
      "text/plain": [
       "<Figure size 1080x1440 with 6 Axes>"
      ]
     },
     "metadata": {
      "needs_background": "light"
     },
     "output_type": "display_data"
    }
   ],
   "source": [
    "import matplotlib.pyplot as plt\n",
    "\n",
    "data.hist(figsize=(15, 20))\n",
    "plt.show()"
   ]
  },
  {
   "cell_type": "markdown",
   "metadata": {},
   "source": [
    "### Подготавливаю данные"
   ]
  },
  {
   "cell_type": "markdown",
   "metadata": {},
   "source": [
    "**Переименовываю все столбцы, привожу названия к нижнему регистру**"
   ]
  },
  {
   "cell_type": "code",
   "execution_count": 6,
   "metadata": {},
   "outputs": [],
   "source": [
    "data = data.rename(\n",
    "    columns={\n",
    "        'Name': 'name',\n",
    "        'Platform': 'platform',\n",
    "        'Year_of_Release': 'year_of_release',\n",
    "        'Genre': 'genre',\n",
    "        'NA_sales': 'na_sales',\n",
    "        'EU_sales': 'eu_sales',\n",
    "        'JP_sales': 'jp_sales',\n",
    "        'Other_sales': 'other_sales',\n",
    "        'Critic_Score': 'critic_score',\n",
    "        'User_Score': 'user_score',\n",
    "        'Rating': 'rating'\n",
    "    }\n",
    ")"
   ]
  },
  {
   "cell_type": "markdown",
   "metadata": {},
   "source": [
    "**Преобразовываю данные в нужные типы данных**"
   ]
  },
  {
   "cell_type": "markdown",
   "metadata": {},
   "source": [
    "Прежде, чем преобразовать типы данных, мне необходимо избавить от пропусков в тех столбцах, в которых сделать это будет не критично. В столбцах name, year_of_release и genre я могу удалить все строчки, где есть пропуски значений, так как это уменьшит количество общих данных всего на 1,6%"
   ]
  },
  {
   "cell_type": "code",
   "execution_count": 7,
   "metadata": {},
   "outputs": [],
   "source": [
    "data = data.dropna(subset=['name', 'year_of_release', 'genre'])"
   ]
  },
  {
   "cell_type": "markdown",
   "metadata": {},
   "source": [
    "Преобразовываю столбец year_of_release из float в int, так как год не может быть дробным числом"
   ]
  },
  {
   "cell_type": "code",
   "execution_count": 8,
   "metadata": {},
   "outputs": [],
   "source": [
    "data['year_of_release'] = data['year_of_release'].astype('int')"
   ]
  },
  {
   "cell_type": "markdown",
   "metadata": {},
   "source": [
    "Мне необходимо изменить тип данных столбца user_score с Проверяю уникальные значения столбца user_score с object на float. Для этого для начала я проверяю все уникальные значения столбца"
   ]
  },
  {
   "cell_type": "code",
   "execution_count": 9,
   "metadata": {},
   "outputs": [
    {
     "data": {
      "text/plain": [
       "array(['8', nan, '8.3', '8.5', '6.6', '8.4', '8.6', '7.7', '6.3', '7.4',\n",
       "       '8.2', '9', '7.9', '8.1', '8.7', '7.1', '3.4', '5.3', '4.8', '3.2',\n",
       "       '8.9', '6.4', '7.8', '7.5', '2.6', '7.2', '9.2', '7', '7.3', '4.3',\n",
       "       '7.6', '5.7', '5', '9.1', '6.5', 'tbd', '8.8', '6.9', '9.4', '6.8',\n",
       "       '6.1', '6.7', '5.4', '4', '4.9', '4.5', '9.3', '6.2', '4.2', '6',\n",
       "       '3.7', '4.1', '5.8', '5.6', '5.5', '4.4', '4.6', '5.9', '3.9',\n",
       "       '3.1', '2.9', '5.2', '3.3', '4.7', '5.1', '3.5', '2.5', '1.9', '3',\n",
       "       '2.7', '2.2', '2', '9.5', '2.1', '3.6', '2.8', '1.8', '3.8', '0',\n",
       "       '1.6', '9.6', '2.4', '1.7', '1.1', '0.3', '1.5', '0.7', '1.2',\n",
       "       '2.3', '0.5', '1.3', '0.2', '0.6', '1.4', '0.9', '1', '9.7'],\n",
       "      dtype=object)"
      ]
     },
     "execution_count": 9,
     "metadata": {},
     "output_type": "execute_result"
    }
   ],
   "source": [
    "data['user_score'].unique()"
   ]
  },
  {
   "cell_type": "markdown",
   "metadata": {},
   "source": [
    "Так как мы видим в уникальных значениях помимо nan, ещё и tbd, я выполняю команду, чтобы все значения tbd приравнялись к значениям nan"
   ]
  },
  {
   "cell_type": "code",
   "execution_count": 10,
   "metadata": {},
   "outputs": [],
   "source": [
    "data['user_score'] = data['user_score'].replace('tbd')"
   ]
  },
  {
   "cell_type": "markdown",
   "metadata": {},
   "source": [
    "Снова проверяю на уникальные значения столбец user_score"
   ]
  },
  {
   "cell_type": "code",
   "execution_count": 11,
   "metadata": {},
   "outputs": [
    {
     "data": {
      "text/plain": [
       "array(['8', nan, '8.3', '8.5', '6.6', '8.4', '8.6', '7.7', '6.3', '7.4',\n",
       "       '8.2', '9', '7.9', '8.1', '8.7', '7.1', '3.4', '5.3', '4.8', '3.2',\n",
       "       '8.9', '6.4', '7.8', '7.5', '2.6', '7.2', '9.2', '7', '7.3', '4.3',\n",
       "       '7.6', '5.7', '5', '9.1', '6.5', '8.8', '6.9', '9.4', '6.8', '6.1',\n",
       "       '6.7', '5.4', '4', '4.9', '4.5', '9.3', '6.2', '4.2', '6', '3.7',\n",
       "       '4.1', '5.8', '5.6', '5.5', '4.4', '4.6', '5.9', '3.9', '3.1',\n",
       "       '2.9', '5.2', '3.3', '4.7', '5.1', '3.5', '2.5', '1.9', '3', '2.7',\n",
       "       '2.2', '2', '9.5', '2.1', '3.6', '2.8', '1.8', '3.8', '0', '1.6',\n",
       "       '9.6', '2.4', '1.7', '1.1', '0.3', '1.5', '0.7', '1.2', '2.3',\n",
       "       '0.5', '1.3', '0.2', '0.6', '1.4', '0.9', '1', '9.7'], dtype=object)"
      ]
     },
     "execution_count": 11,
     "metadata": {},
     "output_type": "execute_result"
    }
   ],
   "source": [
    "data['user_score'].unique()"
   ]
  },
  {
   "cell_type": "markdown",
   "metadata": {},
   "source": [
    "После замены tbd на nan, я изменяю тип данных стобца с object на float"
   ]
  },
  {
   "cell_type": "code",
   "execution_count": 12,
   "metadata": {},
   "outputs": [],
   "source": [
    "data['user_score'] = data['user_score'].astype('float')"
   ]
  },
  {
   "cell_type": "markdown",
   "metadata": {},
   "source": [
    "**Меняю все пропущенные значения в столбце rating на unknown**"
   ]
  },
  {
   "cell_type": "code",
   "execution_count": 13,
   "metadata": {},
   "outputs": [],
   "source": [
    "data['rating'] = data['rating'].fillna('unknown')"
   ]
  },
  {
   "cell_type": "markdown",
   "metadata": {},
   "source": [
    "Проверяю, изменились ли все типы данных"
   ]
  },
  {
   "cell_type": "code",
   "execution_count": 14,
   "metadata": {},
   "outputs": [
    {
     "name": "stdout",
     "output_type": "stream",
     "text": [
      "<class 'pandas.core.frame.DataFrame'>\n",
      "Int64Index: 16444 entries, 0 to 16714\n",
      "Data columns (total 11 columns):\n",
      " #   Column           Non-Null Count  Dtype  \n",
      "---  ------           --------------  -----  \n",
      " 0   name             16444 non-null  object \n",
      " 1   platform         16444 non-null  object \n",
      " 2   year_of_release  16444 non-null  int64  \n",
      " 3   genre            16444 non-null  object \n",
      " 4   na_sales         16444 non-null  float64\n",
      " 5   eu_sales         16444 non-null  float64\n",
      " 6   jp_sales         16444 non-null  float64\n",
      " 7   other_sales      16444 non-null  float64\n",
      " 8   critic_score     7983 non-null   float64\n",
      " 9   user_score       8610 non-null   float64\n",
      " 10  rating           16444 non-null  object \n",
      "dtypes: float64(6), int64(1), object(4)\n",
      "memory usage: 1.5+ MB\n"
     ]
    }
   ],
   "source": [
    "data.info()"
   ]
  },
  {
   "cell_type": "markdown",
   "metadata": {},
   "source": [
    "На данный момент таблица выглядит гораздо лучше, все типы данных приведены в нужный вид, а также я избавился от пропущенных значений в тех столбцах, где это было допустимо. В столбцах user_score и critic_score невозможно заполнить пропуски медианными или средними значениями, так как отсутствует 54-55% данных. Если я попытаюсь это сделать, данные потеряют точность, а продолжение дальнейшего выполнения проекта утратит смысл. В столбцах name, year_of_release и genre я могу удалить все строчки, где есть пропуски значений, так как это уменьшит количество общих данных всего на 1,6%, что вполне допустимо. И в столбце rating я также могу добавить недостающие данные, записав рейтинг игры как unknown, что никак не повлияет на результаты исследования"
   ]
  },
  {
   "cell_type": "markdown",
   "metadata": {},
   "source": [
    "**Считаю суммарные продажи в каждом регионе, добавляю для каждого региона отдельный столбец**"
   ]
  },
  {
   "cell_type": "code",
   "execution_count": 15,
   "metadata": {},
   "outputs": [],
   "source": [
    "data['na_sales_sum'] = data['na_sales'].sum()\n",
    "data['eu_sales_sum'] = data['eu_sales'].sum()\n",
    "data['jp_sales_sum'] = data['jp_sales'].sum()\n",
    "data['other_sales_sum'] = data['other_sales'].sum()"
   ]
  },
  {
   "cell_type": "markdown",
   "metadata": {},
   "source": [
    "Проверяю общую таблицу после предобработки данных"
   ]
  },
  {
   "cell_type": "code",
   "execution_count": 16,
   "metadata": {},
   "outputs": [
    {
     "name": "stdout",
     "output_type": "stream",
     "text": [
      "<class 'pandas.core.frame.DataFrame'>\n",
      "Int64Index: 16444 entries, 0 to 16714\n",
      "Data columns (total 15 columns):\n",
      " #   Column           Non-Null Count  Dtype  \n",
      "---  ------           --------------  -----  \n",
      " 0   name             16444 non-null  object \n",
      " 1   platform         16444 non-null  object \n",
      " 2   year_of_release  16444 non-null  int64  \n",
      " 3   genre            16444 non-null  object \n",
      " 4   na_sales         16444 non-null  float64\n",
      " 5   eu_sales         16444 non-null  float64\n",
      " 6   jp_sales         16444 non-null  float64\n",
      " 7   other_sales      16444 non-null  float64\n",
      " 8   critic_score     7983 non-null   float64\n",
      " 9   user_score       8610 non-null   float64\n",
      " 10  rating           16444 non-null  object \n",
      " 11  na_sales_sum     16444 non-null  float64\n",
      " 12  eu_sales_sum     16444 non-null  float64\n",
      " 13  jp_sales_sum     16444 non-null  float64\n",
      " 14  other_sales_sum  16444 non-null  float64\n",
      "dtypes: float64(10), int64(1), object(4)\n",
      "memory usage: 2.0+ MB\n"
     ]
    }
   ],
   "source": [
    "data.info()"
   ]
  },
  {
   "cell_type": "markdown",
   "metadata": {},
   "source": [
    "### Провожу исследовательский анализ данных"
   ]
  },
  {
   "cell_type": "markdown",
   "metadata": {},
   "source": [
    "**Проверяю количество игр, которые выпускались ежегодно**"
   ]
  },
  {
   "cell_type": "code",
   "execution_count": 17,
   "metadata": {},
   "outputs": [
    {
     "data": {
      "text/plain": [
       "2008    1427\n",
       "2009    1426\n",
       "2010    1255\n",
       "2007    1197\n",
       "2011    1136\n",
       "2006    1006\n",
       "2005     939\n",
       "2002     829\n",
       "2003     775\n",
       "2004     762\n",
       "2012     653\n",
       "2015     606\n",
       "2014     581\n",
       "2013     544\n",
       "2016     502\n",
       "2001     482\n",
       "1998     379\n",
       "2000     350\n",
       "1999     338\n",
       "1997     289\n",
       "1996     263\n",
       "1995     219\n",
       "1994     121\n",
       "1993      60\n",
       "1981      46\n",
       "1992      43\n",
       "1991      41\n",
       "1982      36\n",
       "1986      21\n",
       "1983      17\n",
       "1989      17\n",
       "1990      16\n",
       "1987      16\n",
       "1988      15\n",
       "1985      14\n",
       "1984      14\n",
       "1980       9\n",
       "Name: year_of_release, dtype: int64"
      ]
     },
     "execution_count": 17,
     "metadata": {},
     "output_type": "execute_result"
    }
   ],
   "source": [
    "data['year_of_release'].value_counts()"
   ]
  },
  {
   "cell_type": "markdown",
   "metadata": {},
   "source": [
    "**Строю диаграмму с количеством игр, которые выходили ежегодно**"
   ]
  },
  {
   "cell_type": "code",
   "execution_count": 18,
   "metadata": {},
   "outputs": [
    {
     "data": {
      "image/png": "[encoded data removed]",
      "text/plain": [
       "<Figure size 720x720 with 1 Axes>"
      ]
     },
     "metadata": {
      "needs_background": "light"
     },
     "output_type": "display_data"
    }
   ],
   "source": [
    "data['year_of_release'].hist(bins = 25, figsize=(10, 10))\n",
    "plt.show()"
   ]
  },
  {
   "cell_type": "markdown",
   "metadata": {},
   "source": [
    "**Строю график с количеством игр, которые выходили ежегодно**"
   ]
  },
  {
   "cell_type": "code",
   "execution_count": 19,
   "metadata": {},
   "outputs": [
    {
     "data": {
      "image/png": "[encoded data removed]",
      "text/plain": [
       "<Figure size 720x720 with 1 Axes>"
      ]
     },
     "metadata": {
      "needs_background": "light"
     },
     "output_type": "display_data"
    }
   ],
   "source": [
    "data.groupby('year_of_release')['name'].count().plot(xlim=(1980, 2016), figsize=(10, 10))\n",
    "plt.show()"
   ]
  },
  {
   "cell_type": "markdown",
   "metadata": {},
   "source": [
    "Судя по графику, вижу заметный прирост по количеству выпускаемых игр, начиная с 1980 года и по 2010 год, затем наблюдается небольшой спад"
   ]
  },
  {
   "cell_type": "markdown",
   "metadata": {},
   "source": [
    "**Считаю сумму продаж во всех регионах по каждой игре и добавляю этот столбец в общую таблицу**"
   ]
  },
  {
   "cell_type": "code",
   "execution_count": 20,
   "metadata": {},
   "outputs": [],
   "source": [
    "data['total_sales'] = data['na_sales'] + data['eu_sales'] + data['jp_sales'] + data['other_sales']"
   ]
  },
  {
   "cell_type": "markdown",
   "metadata": {},
   "source": [
    "**Выделяю 10 самых популярных платформ по продажам в мире**"
   ]
  },
  {
   "cell_type": "code",
   "execution_count": 21,
   "metadata": {},
   "outputs": [
    {
     "name": "stdout",
     "output_type": "stream",
     "text": [
      "['PS2' 'X360' 'PS3' 'Wii' 'DS' 'PS' 'PS4' 'GBA' 'PSP' '3DS']\n"
     ]
    }
   ],
   "source": [
    "most_expensive = data.groupby('platform').sum()['total_sales'].sort_values(ascending=False).index.values[:10]\n",
    "print(most_expensive)"
   ]
  },
  {
   "cell_type": "markdown",
   "metadata": {},
   "source": [
    "**Строю график суммарных продаж платформ за всё время**"
   ]
  },
  {
   "cell_type": "code",
   "execution_count": 22,
   "metadata": {},
   "outputs": [
    {
     "data": {
      "image/png": "[encoded data removed]",
      "text/plain": [
       "<Figure size 864x864 with 1 Axes>"
      ]
     },
     "metadata": {
      "needs_background": "light"
     },
     "output_type": "display_data"
    }
   ],
   "source": [
    "total_sales_sum_2 = data.pivot_table(index = 'year_of_release', columns = 'platform', values = 'total_sales', aggfunc = 'sum')\\\n",
    ".plot(figsize = (12, 12), grid=True, title = 'Суммарные продажи платформ за всё время')\n",
    "plt.show()"
   ]
  },
  {
   "cell_type": "markdown",
   "metadata": {},
   "source": [
    "**Строю график total_sales_sum, на котором будут собраны данные по суммарным продажам для каждой платформы**"
   ]
  },
  {
   "cell_type": "code",
   "execution_count": 23,
   "metadata": {},
   "outputs": [
    {
     "data": {
      "image/png": "[encoded data removed]",
      "text/plain": [
       "<Figure size 864x864 with 1 Axes>"
      ]
     },
     "metadata": {
      "needs_background": "light"
     },
     "output_type": "display_data"
    }
   ],
   "source": [
    "popular = data[data['platform'].isin(most_expensive)]\n",
    "\n",
    "total_sales_sum = popular.pivot_table(index = 'year_of_release', columns = 'platform', values = 'total_sales', aggfunc = 'sum')\\\n",
    ".plot(figsize = (12, 12), grid=True, title = 'Суммарные продажи 10 самых популярных платформ')\n",
    "plt.show()"
   ]
  },
  {
   "cell_type": "markdown",
   "metadata": {},
   "source": [
    "Судя по графику выше, видно, что каждая новая платформа набирает популярность примерно 3-5 лет, после чего появляется новая, а старая теряет популярность. Так происходит примерно с каждой из 10 самых популярных платформ"
   ]
  },
  {
   "cell_type": "markdown",
   "metadata": {},
   "source": [
    "Выбираю актуальными данные, начиная с 2006 года и заканчивая 2015, так как в этот период выходило набольшее количество игр в год (500+). Делаю срез данных"
   ]
  },
  {
   "cell_type": "code",
   "execution_count": 24,
   "metadata": {},
   "outputs": [],
   "source": [
    "data = data.query(\"2013 <= year_of_release <= 2015\")"
   ]
  },
  {
   "cell_type": "markdown",
   "metadata": {},
   "source": [
    "**Строю график с суммарными продажами по всем платформам с 2013 по 2015 годы**"
   ]
  },
  {
   "cell_type": "code",
   "execution_count": 25,
   "metadata": {},
   "outputs": [
    {
     "data": {
      "image/png": "[encoded data removed]",
      "text/plain": [
       "<Figure size 864x864 with 1 Axes>"
      ]
     },
     "metadata": {
      "needs_background": "light"
     },
     "output_type": "display_data"
    }
   ],
   "source": [
    "total_sales_sum = data.pivot_table(index = 'year_of_release', columns = 'platform', values = 'total_sales', aggfunc = 'sum')\\\n",
    ".plot(figsize = (12, 12), grid=True, title = 'Суммарные продажи 2013-2015')\n",
    "plt.show()"
   ]
  },
  {
   "cell_type": "markdown",
   "metadata": {},
   "source": [
    "Судя по графику за период времени с 2013 по 2015 годы, наилучший результат и рост продаж заметен у PS4, продажи растут вверх на протяжении всех лет. Что касается PS3 и X360, по графику видно, как продажи падают, это как раз таки можно свзять с тем, что вышла PS4. Среди самых не популярных платформ можно смело обозначить PSP и WII, их продажи не показывают динамики все 3 года"
   ]
  },
  {
   "cell_type": "markdown",
   "metadata": {},
   "source": [
    "**Считаю суммарно проданные игры у каждой платформы за 2013-2015 годы**"
   ]
  },
  {
   "cell_type": "code",
   "execution_count": 26,
   "metadata": {},
   "outputs": [
    {
     "data": {
      "text/html": [
       "<div>\n",
       "<style scoped>\n",
       "    .dataframe tbody tr th:only-of-type {\n",
       "        vertical-align: middle;\n",
       "    }\n",
       "\n",
       "    .dataframe tbody tr th {\n",
       "        vertical-align: top;\n",
       "    }\n",
       "\n",
       "    .dataframe thead tr th {\n",
       "        text-align: left;\n",
       "    }\n",
       "\n",
       "    .dataframe thead tr:last-of-type th {\n",
       "        text-align: right;\n",
       "    }\n",
       "</style>\n",
       "<table border=\"1\" class=\"dataframe\">\n",
       "  <thead>\n",
       "    <tr>\n",
       "      <th></th>\n",
       "      <th>name</th>\n",
       "    </tr>\n",
       "    <tr>\n",
       "      <th></th>\n",
       "      <th>count</th>\n",
       "    </tr>\n",
       "    <tr>\n",
       "      <th>platform</th>\n",
       "      <th></th>\n",
       "    </tr>\n",
       "  </thead>\n",
       "  <tbody>\n",
       "    <tr>\n",
       "      <th>3DS</th>\n",
       "      <td>257</td>\n",
       "    </tr>\n",
       "    <tr>\n",
       "      <th>DS</th>\n",
       "      <td>8</td>\n",
       "    </tr>\n",
       "    <tr>\n",
       "      <th>PC</th>\n",
       "      <td>135</td>\n",
       "    </tr>\n",
       "    <tr>\n",
       "      <th>PS3</th>\n",
       "      <td>307</td>\n",
       "    </tr>\n",
       "    <tr>\n",
       "      <th>PS4</th>\n",
       "      <td>228</td>\n",
       "    </tr>\n",
       "    <tr>\n",
       "      <th>PSP</th>\n",
       "      <td>67</td>\n",
       "    </tr>\n",
       "    <tr>\n",
       "      <th>PSV</th>\n",
       "      <td>273</td>\n",
       "    </tr>\n",
       "    <tr>\n",
       "      <th>Wii</th>\n",
       "      <td>22</td>\n",
       "    </tr>\n",
       "    <tr>\n",
       "      <th>WiiU</th>\n",
       "      <td>101</td>\n",
       "    </tr>\n",
       "    <tr>\n",
       "      <th>X360</th>\n",
       "      <td>173</td>\n",
       "    </tr>\n",
       "    <tr>\n",
       "      <th>XOne</th>\n",
       "      <td>160</td>\n",
       "    </tr>\n",
       "  </tbody>\n",
       "</table>\n",
       "</div>"
      ],
      "text/plain": [
       "          name\n",
       "         count\n",
       "platform      \n",
       "3DS        257\n",
       "DS           8\n",
       "PC         135\n",
       "PS3        307\n",
       "PS4        228\n",
       "PSP         67\n",
       "PSV        273\n",
       "Wii         22\n",
       "WiiU       101\n",
       "X360       173\n",
       "XOne       160"
      ]
     },
     "execution_count": 26,
     "metadata": {},
     "output_type": "execute_result"
    }
   ],
   "source": [
    "data.groupby('platform').agg({'name':['count']})"
   ]
  },
  {
   "cell_type": "markdown",
   "metadata": {},
   "source": [
    "**Вывожу числовое описание данных колонки**"
   ]
  },
  {
   "cell_type": "code",
   "execution_count": 27,
   "metadata": {},
   "outputs": [
    {
     "data": {
      "text/html": [
       "<div>\n",
       "<style scoped>\n",
       "    .dataframe tbody tr th:only-of-type {\n",
       "        vertical-align: middle;\n",
       "    }\n",
       "\n",
       "    .dataframe tbody tr th {\n",
       "        vertical-align: top;\n",
       "    }\n",
       "\n",
       "    .dataframe thead tr th {\n",
       "        text-align: left;\n",
       "    }\n",
       "</style>\n",
       "<table border=\"1\" class=\"dataframe\">\n",
       "  <thead>\n",
       "    <tr>\n",
       "      <th></th>\n",
       "      <th>name</th>\n",
       "    </tr>\n",
       "    <tr>\n",
       "      <th></th>\n",
       "      <th>count</th>\n",
       "    </tr>\n",
       "  </thead>\n",
       "  <tbody>\n",
       "    <tr>\n",
       "      <th>count</th>\n",
       "      <td>11.000000</td>\n",
       "    </tr>\n",
       "    <tr>\n",
       "      <th>mean</th>\n",
       "      <td>157.363636</td>\n",
       "    </tr>\n",
       "    <tr>\n",
       "      <th>std</th>\n",
       "      <td>101.689009</td>\n",
       "    </tr>\n",
       "    <tr>\n",
       "      <th>min</th>\n",
       "      <td>8.000000</td>\n",
       "    </tr>\n",
       "    <tr>\n",
       "      <th>25%</th>\n",
       "      <td>84.000000</td>\n",
       "    </tr>\n",
       "    <tr>\n",
       "      <th>50%</th>\n",
       "      <td>160.000000</td>\n",
       "    </tr>\n",
       "    <tr>\n",
       "      <th>75%</th>\n",
       "      <td>242.500000</td>\n",
       "    </tr>\n",
       "    <tr>\n",
       "      <th>max</th>\n",
       "      <td>307.000000</td>\n",
       "    </tr>\n",
       "  </tbody>\n",
       "</table>\n",
       "</div>"
      ],
      "text/plain": [
       "             name\n",
       "            count\n",
       "count   11.000000\n",
       "mean   157.363636\n",
       "std    101.689009\n",
       "min      8.000000\n",
       "25%     84.000000\n",
       "50%    160.000000\n",
       "75%    242.500000\n",
       "max    307.000000"
      ]
     },
     "execution_count": 27,
     "metadata": {},
     "output_type": "execute_result"
    }
   ],
   "source": [
    "data.groupby('platform').agg({'name':['count']}).describe()"
   ]
  },
  {
   "cell_type": "markdown",
   "metadata": {},
   "source": [
    "**Строю график \"ящик с усами\" по глобаным продажам игр в разбивке по платформам**"
   ]
  },
  {
   "cell_type": "code",
   "execution_count": 28,
   "metadata": {},
   "outputs": [
    {
     "data": {
      "image/png": "[encoded data removed]",
      "text/plain": [
       "<Figure size 432x288 with 1 Axes>"
      ]
     },
     "metadata": {
      "needs_background": "light"
     },
     "output_type": "display_data"
    }
   ],
   "source": [
    "data.boxplot(by='platform', column='total_sales')\n",
    "plt.ylim(0, 2)\n",
    "plt.show()"
   ]
  },
  {
   "cell_type": "markdown",
   "metadata": {},
   "source": [
    "График \"ящик с усами\" также отлично отражает, что наилучшие продажи за 2006-2015 годы были у Wii, Ds, PS3 и X360. Результаты данного графика идеально накладываются на результаты из предыдущих графиков"
   ]
  },
  {
   "cell_type": "markdown",
   "metadata": {},
   "source": [
    "**Строю диаграмму рассеяния, чтобы понять, насколько сильно влияют отзывы критиков и отзывы пользователей на продажи популярных игр**"
   ]
  },
  {
   "cell_type": "markdown",
   "metadata": {},
   "source": [
    "**Строю диаграмму рассения зависимости отзывов критиков от продаж**"
   ]
  },
  {
   "cell_type": "code",
   "execution_count": 29,
   "metadata": {},
   "outputs": [
    {
     "data": {
      "image/png": "[encoded data removed]",
      "text/plain": [
       "<Figure size 864x864 with 1 Axes>"
      ]
     },
     "metadata": {
      "needs_background": "light"
     },
     "output_type": "display_data"
    }
   ],
   "source": [
    "data.plot(x='user_score', y='total_sales', kind='scatter', figsize=(12,12))\n",
    "plt.show()"
   ]
  },
  {
   "cell_type": "markdown",
   "metadata": {},
   "source": [
    "**Строю диаграмму рассения зависимости отзывов пользователей от продаж**"
   ]
  },
  {
   "cell_type": "code",
   "execution_count": 30,
   "metadata": {},
   "outputs": [
    {
     "data": {
      "image/png": "[encoded data removed]",
      "text/plain": [
       "<Figure size 864x864 with 1 Axes>"
      ]
     },
     "metadata": {
      "needs_background": "light"
     },
     "output_type": "display_data"
    }
   ],
   "source": [
    "data.plot(x='critic_score', y='total_sales', kind='scatter', figsize=(12,12))\n",
    "plt.show()"
   ]
  },
  {
   "cell_type": "markdown",
   "metadata": {},
   "source": [
    "**Считаю коэффициент корреляции Пирсона между отзывами пользователей и продажами**"
   ]
  },
  {
   "cell_type": "code",
   "execution_count": 31,
   "metadata": {},
   "outputs": [
    {
     "name": "stdout",
     "output_type": "stream",
     "text": [
      "0.009741100114871235\n"
     ]
    }
   ],
   "source": [
    "print(data['total_sales'].corr(data['user_score']))"
   ]
  },
  {
   "cell_type": "markdown",
   "metadata": {},
   "source": [
    "**Считаю коэффициент корреляции Пирсона между отзывами критикой и продажами**"
   ]
  },
  {
   "cell_type": "code",
   "execution_count": 32,
   "metadata": {},
   "outputs": [
    {
     "name": "stdout",
     "output_type": "stream",
     "text": [
      "0.33122688603716643\n"
     ]
    }
   ],
   "source": [
    "print(data['total_sales'].corr(data['critic_score']))"
   ]
  },
  {
   "cell_type": "markdown",
   "metadata": {},
   "source": [
    "Судя по графикам и рассчётам коэффициентов корреляции, продажи в зависимости от отзывов критиков и пользователей не зависит, но отзывы критиков влияют немного влияют"
   ]
  },
  {
   "cell_type": "markdown",
   "metadata": {},
   "source": [
    "**Строю график зависимости жанра от продаж**"
   ]
  },
  {
   "cell_type": "code",
   "execution_count": 33,
   "metadata": {},
   "outputs": [
    {
     "data": {
      "image/png": "[encoded data removed]",
      "text/plain": [
       "<Figure size 864x864 with 1 Axes>"
      ]
     },
     "metadata": {
      "needs_background": "light"
     },
     "output_type": "display_data"
    }
   ],
   "source": [
    "data.plot(x='genre', y='total_sales', kind='scatter', ylim=(0, 40), figsize=(12,12), grid=True,\\\n",
    "          title = 'Зависимость жанра от продаж 2013-2015')\n",
    "plt.show()"
   ]
  },
  {
   "cell_type": "markdown",
   "metadata": {},
   "source": [
    "Судя по графику выше, можно сделать вывод, что жанр игры очень сильно влияет на продажи. Есть как прибыльные, так и не прибыльные игровые жанры. Самые прибыльные жанры это Shooter и Action, сразу после них идёт жанр Sports. Наименее же прибыльные жанры это Simulation и Puzzle, их продажи очень слабые, если вравнивать с другими жанрами. Думаю, популярность игровой платформы PS4 очень сказывается и на популярности определённых жанров"
   ]
  },
  {
   "cell_type": "markdown",
   "metadata": {},
   "source": [
    "###  Составляю портрет пользователя каждого региона"
   ]
  },
  {
   "cell_type": "markdown",
   "metadata": {},
   "source": [
    "**Вывожу список 5 самых популярных платформ по продажам в Северной Америке**"
   ]
  },
  {
   "cell_type": "code",
   "execution_count": 34,
   "metadata": {
    "scrolled": true
   },
   "outputs": [
    {
     "data": {
      "text/plain": [
       "platform\n",
       "PS4     87.25\n",
       "X360    80.97\n",
       "XOne    78.85\n",
       "PS3     62.83\n",
       "3DS     34.06\n",
       "Name: na_sales, dtype: float64"
      ]
     },
     "metadata": {},
     "output_type": "display_data"
    }
   ],
   "source": [
    "na_sales_platform = data.groupby('platform').sum()['na_sales'].sort_values(ascending=False)\n",
    "display(na_sales_platform.head(5))"
   ]
  },
  {
   "cell_type": "markdown",
   "metadata": {},
   "source": [
    "Самой популярной платформой, судя по прадажам, в Северной Америке, является PS4. На неё приходится 25% от всех продаж среди топ 5 самых продаваемых платформ. На X360 приходится 23.5%. X0ne - 23%, PS3 - 18%, 3DS - 10%. Всего в этом регионе 344 продажи, что составляет 46% от суммы всех продаж из 3 регионов"
   ]
  },
  {
   "cell_type": "markdown",
   "metadata": {},
   "source": [
    "<div class=\"alert alert-success\">\n",
    "\n",
    "**Артём:** 👍👍 Верно.\n",
    "\n",
    "</div>"
   ]
  },
  {
   "cell_type": "markdown",
   "metadata": {},
   "source": [
    "**Вывожу список 5 самых популярных платформ по продажам в Европе**"
   ]
  },
  {
   "cell_type": "code",
   "execution_count": 35,
   "metadata": {},
   "outputs": [
    {
     "data": {
      "text/plain": [
       "platform\n",
       "PS4     109.31\n",
       "PS3      66.55\n",
       "XOne     41.96\n",
       "X360     41.81\n",
       "3DS      28.63\n",
       "Name: eu_sales, dtype: float64"
      ]
     },
     "metadata": {},
     "output_type": "display_data"
    }
   ],
   "source": [
    "eu_sales_platform = data.groupby('platform').sum()['eu_sales'].sort_values(ascending=False)\n",
    "display(eu_sales_platform.head(5))"
   ]
  },
  {
   "cell_type": "markdown",
   "metadata": {},
   "source": [
    "Самой популярной платформой, судя по прадажам, в Европе, является PS4. На неё приходится 38% от всех продаж среди топ 5 самых продаваемых платформ. На PS3 приходится 23%. X0ne - 14.5%, X360 - 14.5%, 3DS - 10%. Всего в этом регионе 289 продажи, что составляет 39% от суммы всех продаж из 3 регионов"
   ]
  },
  {
   "cell_type": "markdown",
   "metadata": {},
   "source": [
    "**Вывожу список 5 самых популярных платформ по продажам в Японии**"
   ]
  },
  {
   "cell_type": "code",
   "execution_count": 36,
   "metadata": {},
   "outputs": [
    {
     "data": {
      "text/plain": [
       "platform\n",
       "3DS     59.78\n",
       "PS3     22.05\n",
       "PSV     15.03\n",
       "PS4     10.22\n",
       "WiiU    10.21\n",
       "Name: jp_sales, dtype: float64"
      ]
     },
     "metadata": {},
     "output_type": "display_data"
    }
   ],
   "source": [
    "jp_sales_platform = data.groupby('platform').sum()['jp_sales'].sort_values(ascending=False)\n",
    "display(jp_sales_platform.head(5))"
   ]
  },
  {
   "cell_type": "markdown",
   "metadata": {},
   "source": [
    "Самой популярной платформой, судя по прадажам, в Японии, является 3DS. На неё приходится 52% от всех продаж среди топ 5 самых продаваемых платформ. На PS3 приходится 19%. PSV - 13%, PS4 - 9%, WiiU - 9%. Всего в этом регионе 115 продажа, что составляет 15% от суммы всех продаж из 3 регионов"
   ]
  },
  {
   "cell_type": "markdown",
   "metadata": {},
   "source": [
    "**Вывожу список 5 самых популярных жанров по продажам в Северной Америке**"
   ]
  },
  {
   "cell_type": "code",
   "execution_count": 37,
   "metadata": {},
   "outputs": [
    {
     "data": {
      "text/plain": [
       "genre\n",
       "Action          116.76\n",
       "Shooter          93.50\n",
       "Sports           57.73\n",
       "Role-Playing     40.51\n",
       "Misc             26.73\n",
       "Name: na_sales, dtype: float64"
      ]
     },
     "metadata": {},
     "output_type": "display_data"
    }
   ],
   "source": [
    "na_sales_genre = data.groupby('genre').sum()['na_sales'].sort_values(ascending=False)\n",
    "display(na_sales_genre.head(5))"
   ]
  },
  {
   "cell_type": "markdown",
   "metadata": {},
   "source": [
    "Самый популярный жанр в Северной Америке это Action, чуть менее популярны Shooter и Sports. Наименее популярным стал жанр Misc"
   ]
  },
  {
   "cell_type": "markdown",
   "metadata": {},
   "source": [
    "**Вывожу список 5 самых популярных жанров по продажам в Европе**"
   ]
  },
  {
   "cell_type": "code",
   "execution_count": 38,
   "metadata": {},
   "outputs": [
    {
     "data": {
      "text/plain": [
       "genre\n",
       "Action          107.45\n",
       "Shooter          71.96\n",
       "Sports           48.51\n",
       "Role-Playing     32.69\n",
       "Misc             19.38\n",
       "Name: eu_sales, dtype: float64"
      ]
     },
     "metadata": {},
     "output_type": "display_data"
    }
   ],
   "source": [
    "eu_sales_genre = data.groupby('genre').sum()['eu_sales'].sort_values(ascending=False)\n",
    "display(eu_sales_genre.head(5))"
   ]
  },
  {
   "cell_type": "markdown",
   "metadata": {},
   "source": [
    "Самый популярный жанр в Европе это Action, чуть менее популярн Shooter и Sports. Наименее популярным стал жанр Misc"
   ]
  },
  {
   "cell_type": "markdown",
   "metadata": {},
   "source": [
    "**Вывожу список 5 самых популярных жанров по продажам в Японии**"
   ]
  },
  {
   "cell_type": "code",
   "execution_count": 39,
   "metadata": {},
   "outputs": [
    {
     "data": {
      "text/plain": [
       "genre\n",
       "Role-Playing    44.43\n",
       "Action          33.42\n",
       "Misc             8.16\n",
       "Fighting         6.90\n",
       "Shooter          5.55\n",
       "Name: jp_sales, dtype: float64"
      ]
     },
     "metadata": {},
     "output_type": "display_data"
    }
   ],
   "source": [
    "jp_sales_genre = data.groupby('genre').sum()['jp_sales'].sort_values(ascending=False)\n",
    "display(jp_sales_genre.head(5))"
   ]
  },
  {
   "cell_type": "markdown",
   "metadata": {},
   "source": [
    "Самый популярный жанр в Японии это Role-Playing, чуть менее популярн Action и Misc. Наименее популярным стал жанр Shooter"
   ]
  },
  {
   "cell_type": "markdown",
   "metadata": {},
   "source": [
    "Судя по данным о самых популярных платформах в Северной Америке, Европе и Японии, есть схожесть у Европы и Северной Америки, как по платформам, так и по игровым жанрам. Думаю, что игровые жанры сильно зависят от самой игровой платформы. Например, на платформе 3DS, которая является самой популярной платформой в Японии, вряд ли можно играть в жанры Shooter. Если и можно, то такие игры будут очень не популярны. Именно поэтому в Японии совершенно иные популярные жанры нежели в Северной Америке или Европе"
   ]
  },
  {
   "cell_type": "markdown",
   "metadata": {},
   "source": [
    "**Вывожу список 5 самых популярных игр по продажам в Северной Америке по рейтингу ESRB**"
   ]
  },
  {
   "cell_type": "code",
   "execution_count": 40,
   "metadata": {},
   "outputs": [
    {
     "data": {
      "text/plain": [
       "rating\n",
       "M          149.54\n",
       "unknown     80.89\n",
       "E           71.08\n",
       "E10+        50.43\n",
       "T           40.84\n",
       "Name: na_sales, dtype: float64"
      ]
     },
     "metadata": {},
     "output_type": "display_data"
    }
   ],
   "source": [
    "na_sales_genre = data.groupby('rating').sum()['na_sales'].sort_values(ascending=False)\n",
    "display(na_sales_genre.head(5))"
   ]
  },
  {
   "cell_type": "markdown",
   "metadata": {},
   "source": [
    "**Строю диаграмму рассения зависимости рейтинга пользователей от продаж в Северной Америке**"
   ]
  },
  {
   "cell_type": "code",
   "execution_count": 41,
   "metadata": {},
   "outputs": [
    {
     "data": {
      "image/png": "[encoded data removed]",
      "text/plain": [
       "<Figure size 864x864 with 1 Axes>"
      ]
     },
     "metadata": {
      "needs_background": "light"
     },
     "output_type": "display_data"
    }
   ],
   "source": [
    "data.plot(x='rating', y='na_sales', kind='scatter', figsize=(12,12))\n",
    "plt.show()"
   ]
  },
  {
   "cell_type": "markdown",
   "metadata": {},
   "source": [
    "**Считаю коэффициент корреляции Пирсона между рейтингом и продажами в Северной Америке**"
   ]
  },
  {
   "cell_type": "code",
   "execution_count": 42,
   "metadata": {},
   "outputs": [
    {
     "name": "stdout",
     "output_type": "stream",
     "text": [
      "0.926307678248367\n"
     ]
    }
   ],
   "source": [
    "print(data['total_sales'].corr(data['na_sales']))"
   ]
  },
  {
   "cell_type": "markdown",
   "metadata": {},
   "source": [
    "**Вывожу список 5 самых популярных игр по продажам в Европе по рейтингу ESRB**"
   ]
  },
  {
   "cell_type": "code",
   "execution_count": 43,
   "metadata": {},
   "outputs": [
    {
     "data": {
      "text/plain": [
       "rating\n",
       "M          128.78\n",
       "unknown     71.44\n",
       "E           69.75\n",
       "E10+        38.88\n",
       "T           32.16\n",
       "Name: eu_sales, dtype: float64"
      ]
     },
     "metadata": {},
     "output_type": "display_data"
    }
   ],
   "source": [
    "eu_sales_genre = data.groupby('rating').sum()['eu_sales'].sort_values(ascending=False)\n",
    "display(eu_sales_genre.head(5))"
   ]
  },
  {
   "cell_type": "markdown",
   "metadata": {},
   "source": [
    "**Строю диаграмму рассения зависимости рейтинга пользователей от продаж в Европе**"
   ]
  },
  {
   "cell_type": "code",
   "execution_count": 44,
   "metadata": {},
   "outputs": [
    {
     "data": {
      "image/png": "[encoded data removed]",
      "text/plain": [
       "<Figure size 864x864 with 1 Axes>"
      ]
     },
     "metadata": {
      "needs_background": "light"
     },
     "output_type": "display_data"
    }
   ],
   "source": [
    "data.plot(x='rating', y='eu_sales', kind='scatter', figsize=(12,12))\n",
    "plt.show()"
   ]
  },
  {
   "cell_type": "markdown",
   "metadata": {},
   "source": [
    "**Считаю коэффициент корреляции Пирсона между рейтингом и продажами в Европе**"
   ]
  },
  {
   "cell_type": "code",
   "execution_count": 45,
   "metadata": {},
   "outputs": [
    {
     "name": "stdout",
     "output_type": "stream",
     "text": [
      "0.9329895245907889\n"
     ]
    }
   ],
   "source": [
    "print(data['total_sales'].corr(data['eu_sales']))"
   ]
  },
  {
   "cell_type": "markdown",
   "metadata": {},
   "source": [
    "**Вывожу список 5 самых популярных игр по продажам в Японии по рейтингу ESRB**"
   ]
  },
  {
   "cell_type": "code",
   "execution_count": 46,
   "metadata": {},
   "outputs": [
    {
     "data": {
      "text/plain": [
       "rating\n",
       "unknown    70.73\n",
       "T          18.32\n",
       "E          14.07\n",
       "M          12.91\n",
       "E10+        5.44\n",
       "Name: jp_sales, dtype: float64"
      ]
     },
     "metadata": {},
     "output_type": "display_data"
    }
   ],
   "source": [
    "jp_sales_genre = data.groupby('rating').sum()['jp_sales'].sort_values(ascending=False)\n",
    "display(jp_sales_genre.head(5))"
   ]
  },
  {
   "cell_type": "markdown",
   "metadata": {},
   "source": [
    "**Строю диаграмму рассения зависимости рейтинга пользователей от продаж в Японии**"
   ]
  },
  {
   "cell_type": "code",
   "execution_count": 47,
   "metadata": {},
   "outputs": [
    {
     "data": {
      "image/png": "[encoded data removed]",
      "text/plain": [
       "<Figure size 864x864 with 1 Axes>"
      ]
     },
     "metadata": {
      "needs_background": "light"
     },
     "output_type": "display_data"
    }
   ],
   "source": [
    "data.plot(x='rating', y='jp_sales', kind='scatter', figsize=(12,12))\n",
    "plt.show()"
   ]
  },
  {
   "cell_type": "markdown",
   "metadata": {},
   "source": [
    "**Считаю коэффициент корреляции Пирсона между рейтингом и продажами в Японии**"
   ]
  },
  {
   "cell_type": "code",
   "execution_count": 48,
   "metadata": {},
   "outputs": [
    {
     "name": "stdout",
     "output_type": "stream",
     "text": [
      "0.42871657824936643\n"
     ]
    }
   ],
   "source": [
    "print(data['total_sales'].corr(data['jp_sales']))"
   ]
  },
  {
   "cell_type": "markdown",
   "metadata": {},
   "source": [
    "Рейтинг Северной Америки и Европы идентичен, по коэффициенту корреляции Пирсона видно, что продажи в Северной Америке и Европе сильно зависят от рейтинга, а в Японии это прослеживается слабо. Также, в Японии бОльшую часть занимают игры с рейтингом \"unknown\", о котором мы не можем сделать никаких выводов. Это также связано с тем, что в Японии по большей части используются непопулярные для других регионов игровые платформы, для которых даже рейтинг зачастую не выставляется. Самым популярным рейтингом для всех регионов принят \"M\""
   ]
  },
  {
   "cell_type": "code",
   "execution_count": 49,
   "metadata": {},
   "outputs": [
    {
     "data": {
      "text/plain": [
       "array(['PS3', 'X360', 'PS4', '3DS', 'XOne', 'WiiU', 'Wii', 'PC', 'PSV',\n",
       "       'DS', 'PSP'], dtype=object)"
      ]
     },
     "execution_count": 49,
     "metadata": {},
     "output_type": "execute_result"
    }
   ],
   "source": [
    "data['platform'].unique()"
   ]
  },
  {
   "cell_type": "markdown",
   "metadata": {},
   "source": [
    "### Проверяю гипотезы"
   ]
  },
  {
   "cell_type": "markdown",
   "metadata": {},
   "source": [
    "**Гипотеза №1: Средние пользовательские рейтинги платформ Xbox One и PC одинаковые**\n",
    "\n",
    "H0: Средний пользовательский рейтинг Xbox One == Pc\n",
    "\n",
    "H1: Средний пользовательский рейтинг Xbox One != Pc"
   ]
  },
  {
   "cell_type": "code",
   "execution_count": 50,
   "metadata": {},
   "outputs": [
    {
     "name": "stdout",
     "output_type": "stream",
     "text": [
      "0.3093146382598502\n",
      "Не получилось отвергнуть нулевую гипотезу\n"
     ]
    }
   ],
   "source": [
    "results = st.ttest_ind(\n",
    "    data[data['platform'] == 'XOne']['user_score'],\n",
    "    data[data['platform'] == 'PC']['user_score'],\n",
    "    equal_var = False, nan_policy=\"omit\" \n",
    ")\n",
    "    \n",
    "alpha = .05\n",
    "\n",
    "print(results.pvalue)\n",
    "if results.pvalue < alpha:\n",
    "    print(\"Отвергаем нулевую гипотезу\")\n",
    "else:\n",
    "    print(\"Не получилось отвергнуть нулевую гипотезу\")"
   ]
  },
  {
   "cell_type": "markdown",
   "metadata": {},
   "source": [
    "**Гипотеза №2: Средние пользовательские рейтинги жанров Action и Sports разные**\n",
    "\n",
    "H0: Средний пользовательский рейтинг Action == Sports\n",
    "\n",
    "H1: Средний пользовательский рейтинг Action != Sports\n",
    "\n",
    "Считаю гипотезы о равенстве среднего двух генеральных совокупностей по взятым из них выборкам"
   ]
  },
  {
   "cell_type": "code",
   "execution_count": 51,
   "metadata": {},
   "outputs": [
    {
     "name": "stdout",
     "output_type": "stream",
     "text": [
      "3.671310302373637e-18\n",
      "Отвергаем нулевую гипотезу\n"
     ]
    }
   ],
   "source": [
    "results = st.ttest_ind(\n",
    "    data[data['genre'] == 'Action']['user_score'],\n",
    "    data[data['genre'] == 'Sports']['user_score'],\n",
    "    equal_var = False, nan_policy=\"omit\" \n",
    ")\n",
    "    \n",
    "alpha = .05\n",
    "\n",
    "print(results.pvalue)\n",
    "if results.pvalue < alpha:\n",
    "    print(\"Отвергаем нулевую гипотезу\")\n",
    "else:\n",
    "    print(\"Не получилось отвергнуть нулевую гипотезу\")"
   ]
  },
  {
   "cell_type": "code",
   "execution_count": 52,
   "metadata": {},
   "outputs": [
    {
     "data": {
      "text/html": [
       "<div>\n",
       "<style scoped>\n",
       "    .dataframe tbody tr th:only-of-type {\n",
       "        vertical-align: middle;\n",
       "    }\n",
       "\n",
       "    .dataframe tbody tr th {\n",
       "        vertical-align: top;\n",
       "    }\n",
       "\n",
       "    .dataframe thead th {\n",
       "        text-align: right;\n",
       "    }\n",
       "</style>\n",
       "<table border=\"1\" class=\"dataframe\">\n",
       "  <thead>\n",
       "    <tr style=\"text-align: right;\">\n",
       "      <th></th>\n",
       "      <th>year_of_release</th>\n",
       "      <th>na_sales</th>\n",
       "      <th>eu_sales</th>\n",
       "      <th>jp_sales</th>\n",
       "      <th>other_sales</th>\n",
       "      <th>critic_score</th>\n",
       "      <th>user_score</th>\n",
       "      <th>na_sales_sum</th>\n",
       "      <th>eu_sales_sum</th>\n",
       "      <th>jp_sales_sum</th>\n",
       "      <th>other_sales_sum</th>\n",
       "      <th>total_sales</th>\n",
       "    </tr>\n",
       "  </thead>\n",
       "  <tbody>\n",
       "    <tr>\n",
       "      <th>year_of_release</th>\n",
       "      <td>1.000000</td>\n",
       "      <td>-0.071632</td>\n",
       "      <td>-0.048055</td>\n",
       "      <td>-0.049867</td>\n",
       "      <td>-0.046416</td>\n",
       "      <td>0.046880</td>\n",
       "      <td>0.053837</td>\n",
       "      <td>NaN</td>\n",
       "      <td>NaN</td>\n",
       "      <td>NaN</td>\n",
       "      <td>NaN</td>\n",
       "      <td>-0.067388</td>\n",
       "    </tr>\n",
       "    <tr>\n",
       "      <th>na_sales</th>\n",
       "      <td>-0.071632</td>\n",
       "      <td>1.000000</td>\n",
       "      <td>0.786968</td>\n",
       "      <td>0.250625</td>\n",
       "      <td>0.818870</td>\n",
       "      <td>0.317483</td>\n",
       "      <td>-0.010853</td>\n",
       "      <td>NaN</td>\n",
       "      <td>NaN</td>\n",
       "      <td>NaN</td>\n",
       "      <td>NaN</td>\n",
       "      <td>0.926308</td>\n",
       "    </tr>\n",
       "    <tr>\n",
       "      <th>eu_sales</th>\n",
       "      <td>-0.048055</td>\n",
       "      <td>0.786968</td>\n",
       "      <td>1.000000</td>\n",
       "      <td>0.248031</td>\n",
       "      <td>0.938122</td>\n",
       "      <td>0.298819</td>\n",
       "      <td>-0.016990</td>\n",
       "      <td>NaN</td>\n",
       "      <td>NaN</td>\n",
       "      <td>NaN</td>\n",
       "      <td>NaN</td>\n",
       "      <td>0.932990</td>\n",
       "    </tr>\n",
       "    <tr>\n",
       "      <th>jp_sales</th>\n",
       "      <td>-0.049867</td>\n",
       "      <td>0.250625</td>\n",
       "      <td>0.248031</td>\n",
       "      <td>1.000000</td>\n",
       "      <td>0.189049</td>\n",
       "      <td>0.144842</td>\n",
       "      <td>0.208938</td>\n",
       "      <td>NaN</td>\n",
       "      <td>NaN</td>\n",
       "      <td>NaN</td>\n",
       "      <td>NaN</td>\n",
       "      <td>0.428717</td>\n",
       "    </tr>\n",
       "    <tr>\n",
       "      <th>other_sales</th>\n",
       "      <td>-0.046416</td>\n",
       "      <td>0.818870</td>\n",
       "      <td>0.938122</td>\n",
       "      <td>0.189049</td>\n",
       "      <td>1.000000</td>\n",
       "      <td>0.287837</td>\n",
       "      <td>-0.001537</td>\n",
       "      <td>NaN</td>\n",
       "      <td>NaN</td>\n",
       "      <td>NaN</td>\n",
       "      <td>NaN</td>\n",
       "      <td>0.919228</td>\n",
       "    </tr>\n",
       "    <tr>\n",
       "      <th>critic_score</th>\n",
       "      <td>0.046880</td>\n",
       "      <td>0.317483</td>\n",
       "      <td>0.298819</td>\n",
       "      <td>0.144842</td>\n",
       "      <td>0.287837</td>\n",
       "      <td>1.000000</td>\n",
       "      <td>0.517515</td>\n",
       "      <td>NaN</td>\n",
       "      <td>NaN</td>\n",
       "      <td>NaN</td>\n",
       "      <td>NaN</td>\n",
       "      <td>0.331227</td>\n",
       "    </tr>\n",
       "    <tr>\n",
       "      <th>user_score</th>\n",
       "      <td>0.053837</td>\n",
       "      <td>-0.010853</td>\n",
       "      <td>-0.016990</td>\n",
       "      <td>0.208938</td>\n",
       "      <td>-0.001537</td>\n",
       "      <td>0.517515</td>\n",
       "      <td>1.000000</td>\n",
       "      <td>NaN</td>\n",
       "      <td>NaN</td>\n",
       "      <td>NaN</td>\n",
       "      <td>NaN</td>\n",
       "      <td>0.009741</td>\n",
       "    </tr>\n",
       "    <tr>\n",
       "      <th>na_sales_sum</th>\n",
       "      <td>NaN</td>\n",
       "      <td>NaN</td>\n",
       "      <td>NaN</td>\n",
       "      <td>NaN</td>\n",
       "      <td>NaN</td>\n",
       "      <td>NaN</td>\n",
       "      <td>NaN</td>\n",
       "      <td>NaN</td>\n",
       "      <td>NaN</td>\n",
       "      <td>NaN</td>\n",
       "      <td>NaN</td>\n",
       "      <td>NaN</td>\n",
       "    </tr>\n",
       "    <tr>\n",
       "      <th>eu_sales_sum</th>\n",
       "      <td>NaN</td>\n",
       "      <td>NaN</td>\n",
       "      <td>NaN</td>\n",
       "      <td>NaN</td>\n",
       "      <td>NaN</td>\n",
       "      <td>NaN</td>\n",
       "      <td>NaN</td>\n",
       "      <td>NaN</td>\n",
       "      <td>NaN</td>\n",
       "      <td>NaN</td>\n",
       "      <td>NaN</td>\n",
       "      <td>NaN</td>\n",
       "    </tr>\n",
       "    <tr>\n",
       "      <th>jp_sales_sum</th>\n",
       "      <td>NaN</td>\n",
       "      <td>NaN</td>\n",
       "      <td>NaN</td>\n",
       "      <td>NaN</td>\n",
       "      <td>NaN</td>\n",
       "      <td>NaN</td>\n",
       "      <td>NaN</td>\n",
       "      <td>NaN</td>\n",
       "      <td>NaN</td>\n",
       "      <td>NaN</td>\n",
       "      <td>NaN</td>\n",
       "      <td>NaN</td>\n",
       "    </tr>\n",
       "    <tr>\n",
       "      <th>other_sales_sum</th>\n",
       "      <td>NaN</td>\n",
       "      <td>NaN</td>\n",
       "      <td>NaN</td>\n",
       "      <td>NaN</td>\n",
       "      <td>NaN</td>\n",
       "      <td>NaN</td>\n",
       "      <td>NaN</td>\n",
       "      <td>NaN</td>\n",
       "      <td>NaN</td>\n",
       "      <td>NaN</td>\n",
       "      <td>NaN</td>\n",
       "      <td>NaN</td>\n",
       "    </tr>\n",
       "    <tr>\n",
       "      <th>total_sales</th>\n",
       "      <td>-0.067388</td>\n",
       "      <td>0.926308</td>\n",
       "      <td>0.932990</td>\n",
       "      <td>0.428717</td>\n",
       "      <td>0.919228</td>\n",
       "      <td>0.331227</td>\n",
       "      <td>0.009741</td>\n",
       "      <td>NaN</td>\n",
       "      <td>NaN</td>\n",
       "      <td>NaN</td>\n",
       "      <td>NaN</td>\n",
       "      <td>1.000000</td>\n",
       "    </tr>\n",
       "  </tbody>\n",
       "</table>\n",
       "</div>"
      ],
      "text/plain": [
       "                 year_of_release  na_sales  eu_sales  jp_sales  other_sales  \\\n",
       "year_of_release         1.000000 -0.071632 -0.048055 -0.049867    -0.046416   \n",
       "na_sales               -0.071632  1.000000  0.786968  0.250625     0.818870   \n",
       "eu_sales               -0.048055  0.786968  1.000000  0.248031     0.938122   \n",
       "jp_sales               -0.049867  0.250625  0.248031  1.000000     0.189049   \n",
       "other_sales            -0.046416  0.818870  0.938122  0.189049     1.000000   \n",
       "critic_score            0.046880  0.317483  0.298819  0.144842     0.287837   \n",
       "user_score              0.053837 -0.010853 -0.016990  0.208938    -0.001537   \n",
       "na_sales_sum                 NaN       NaN       NaN       NaN          NaN   \n",
       "eu_sales_sum                 NaN       NaN       NaN       NaN          NaN   \n",
       "jp_sales_sum                 NaN       NaN       NaN       NaN          NaN   \n",
       "other_sales_sum              NaN       NaN       NaN       NaN          NaN   \n",
       "total_sales            -0.067388  0.926308  0.932990  0.428717     0.919228   \n",
       "\n",
       "                 critic_score  user_score  na_sales_sum  eu_sales_sum  \\\n",
       "year_of_release      0.046880    0.053837           NaN           NaN   \n",
       "na_sales             0.317483   -0.010853           NaN           NaN   \n",
       "eu_sales             0.298819   -0.016990           NaN           NaN   \n",
       "jp_sales             0.144842    0.208938           NaN           NaN   \n",
       "other_sales          0.287837   -0.001537           NaN           NaN   \n",
       "critic_score         1.000000    0.517515           NaN           NaN   \n",
       "user_score           0.517515    1.000000           NaN           NaN   \n",
       "na_sales_sum              NaN         NaN           NaN           NaN   \n",
       "eu_sales_sum              NaN         NaN           NaN           NaN   \n",
       "jp_sales_sum              NaN         NaN           NaN           NaN   \n",
       "other_sales_sum           NaN         NaN           NaN           NaN   \n",
       "total_sales          0.331227    0.009741           NaN           NaN   \n",
       "\n",
       "                 jp_sales_sum  other_sales_sum  total_sales  \n",
       "year_of_release           NaN              NaN    -0.067388  \n",
       "na_sales                  NaN              NaN     0.926308  \n",
       "eu_sales                  NaN              NaN     0.932990  \n",
       "jp_sales                  NaN              NaN     0.428717  \n",
       "other_sales               NaN              NaN     0.919228  \n",
       "critic_score              NaN              NaN     0.331227  \n",
       "user_score                NaN              NaN     0.009741  \n",
       "na_sales_sum              NaN              NaN          NaN  \n",
       "eu_sales_sum              NaN              NaN          NaN  \n",
       "jp_sales_sum              NaN              NaN          NaN  \n",
       "other_sales_sum           NaN              NaN          NaN  \n",
       "total_sales               NaN              NaN     1.000000  "
      ]
     },
     "execution_count": 52,
     "metadata": {},
     "output_type": "execute_result"
    }
   ],
   "source": [
    "data.corr()"
   ]
  },
  {
   "cell_type": "markdown",
   "metadata": {},
   "source": [
    "### Общий вывод"
   ]
  },
  {
   "cell_type": "markdown",
   "metadata": {},
   "source": [
    "Проделанные мною действия:\n",
    "\n",
    "**1. Получение данных и их изучение**\n",
    "\n",
    "**2. Подготовка данных:**\n",
    "\n",
    "- Замена названий столбцов\n",
    "- Преобразование данных в нужные типы\n",
    "- Обработка пропусков\n",
    "- Подсчёт суммарных продаж во всех регионах\n",
    "\n",
    "**3. Проведение исследовательнского анализа данных:**\n",
    "\n",
    "- Подсчёт количества игр, которые выпускались в разные годы\n",
    "- Подсчёт суммарных продаж во всех регионах по каждой игре\n",
    "- Выделение 10 самых популярных платформ\n",
    "- Построение графика, на котором будут собраны данные по суммарным продажам для каждой платформы\n",
    "- Делаю срез данных с 2006 ро 2015 годы\n",
    "- Построение диаграммы рассеяния, на которой видно, насколько сильно влияют отзывы критиков и отзывы пользователей на продажи популярных игр. Рассчёт коэффициента корреляции Пирсона\n",
    "- Построение графика зависимости жанра от продаж\n",
    "\n",
    "**4. Составляю портрет пользователя каждого региона:**\n",
    "\n",
    "- Вывожу список 5 самых популярных платформ в каждом регионе\n",
    "- Вывожу список 5 самых популярных жанров в каждом регионе\n",
    "- Вывожу список 5 самых популярных игр по продажам в каждом регионе по рейтингу ESRB\n",
    "- Строю диаграмму рассения зависимости рейтинга пользователей от продаж в каждом регионе\n",
    "- Считаю коэффициент корреляции Пирсона между рейтингом и продажами в каждом регионе\n",
    "\n",
    "**5. Проверяю гипотезы:**\n",
    "\n",
    "- Гипотеза №1: Средние пользовательские рейтинги платформ Xbox One и PC одинаковые\n",
    "\n",
    "- Гипотеза №2: Средние пользовательские рейтинги жанров Action и Sports разные"
   ]
  },
  {
   "cell_type": "markdown",
   "metadata": {},
   "source": [
    "# Вывод"
   ]
  },
  {
   "cell_type": "markdown",
   "metadata": {},
   "source": [
    "**Успешность игры в каждом из регионов определяется по своему, что связано с популярностью игровых платформ. Показатели Северной Америки и Европы примерно идентичны, поэтому выводы по этим двум регионам можно сделать одинаковыми. В Европе и Северной Америке успешность игры совершенно не зависит от оценок пользователей, на оценки критиков покупатели обращают гораздо больше внимания. Также, продажи в этих регионах очень зависят от рейтинга ESRB, поэтому при оценивании успешности новой игры стоит учитывать её рейтинг. Самыми продаваемыми жанрами в Северной Америке являются Action, Sports и Shooter, а самой популярной платформой на 2013-2015 годы является PS4. Учитывая, что PS4 вышла только в 2013 году, а к 2015 году её популярность только растёт, можно смело выпускать игру на этой платформе до 2018 года. Показатели Японии очень сильно отличаются от Северной Америки и Европы. В этом регионе больше всего стоит обратить внимание на игровые платформы, присущие Японии. Самая популярная игровая платформа на данный момент это 3DS. Несмотря на свою популярность этих платформ в Японии, в мире на 2013-2015 годы они уже утратили свою актуальность. Самыми популярными жанрами в Японии являются Role-Playing и Action. В целом, жанр Action является самым платёжеспособным жанром в мире. Популярность игры в Японии также немного зависит и от рейтинга ESRB, куда больше. чем от оценок критиков или пользователей**"
   ]
  }
 ],
 "metadata": {
  "ExecuteTimeLog": [
   {
    "duration": 58,
    "start_time": "2023-01-16T09:31:40.208Z"
   },
   {
    "duration": 54,
    "start_time": "2023-01-16T09:31:43.286Z"
   },
   {
    "duration": 363,
    "start_time": "2023-01-16T09:31:52.233Z"
   },
   {
    "duration": 97,
    "start_time": "2023-01-16T09:32:49.064Z"
   },
   {
    "duration": 65,
    "start_time": "2023-01-16T09:33:00.161Z"
   },
   {
    "duration": 15,
    "start_time": "2023-01-16T09:33:04.299Z"
   },
   {
    "duration": 48,
    "start_time": "2023-01-16T09:33:19.661Z"
   },
   {
    "duration": 6,
    "start_time": "2023-01-16T09:33:24.459Z"
   },
   {
    "duration": 52,
    "start_time": "2023-01-16T09:33:29.005Z"
   },
   {
    "duration": 13,
    "start_time": "2023-01-16T09:33:31.181Z"
   },
   {
    "duration": 7,
    "start_time": "2023-01-16T10:08:07.994Z"
   },
   {
    "duration": 12,
    "start_time": "2023-01-16T10:08:16.249Z"
   },
   {
    "duration": 14,
    "start_time": "2023-01-16T10:11:24.206Z"
   },
   {
    "duration": 1244,
    "start_time": "2023-01-16T10:13:00.198Z"
   },
   {
    "duration": 850,
    "start_time": "2023-01-16T10:13:12.827Z"
   },
   {
    "duration": 16,
    "start_time": "2023-01-16T10:34:21.709Z"
   },
   {
    "duration": 6,
    "start_time": "2023-01-16T10:35:48.692Z"
   },
   {
    "duration": 25,
    "start_time": "2023-01-16T10:43:24.974Z"
   },
   {
    "duration": 5,
    "start_time": "2023-01-16T10:44:05.991Z"
   },
   {
    "duration": 7,
    "start_time": "2023-01-16T10:46:03.705Z"
   },
   {
    "duration": 15,
    "start_time": "2023-01-16T10:49:33.842Z"
   },
   {
    "duration": 7,
    "start_time": "2023-01-16T10:49:39.977Z"
   },
   {
    "duration": 13,
    "start_time": "2023-01-16T10:49:47.623Z"
   },
   {
    "duration": 7,
    "start_time": "2023-01-16T10:50:46.820Z"
   },
   {
    "duration": 6,
    "start_time": "2023-01-16T10:50:49.768Z"
   },
   {
    "duration": 6,
    "start_time": "2023-01-16T10:51:45.078Z"
   },
   {
    "duration": 13,
    "start_time": "2023-01-16T10:52:07.254Z"
   },
   {
    "duration": 4,
    "start_time": "2023-01-16T10:52:11.395Z"
   },
   {
    "duration": 4,
    "start_time": "2023-01-16T10:52:13.785Z"
   },
   {
    "duration": 82,
    "start_time": "2023-01-16T10:52:13.791Z"
   },
   {
    "duration": 16,
    "start_time": "2023-01-16T10:52:13.875Z"
   },
   {
    "duration": 39,
    "start_time": "2023-01-16T10:52:13.893Z"
   },
   {
    "duration": 816,
    "start_time": "2023-01-16T10:52:13.934Z"
   },
   {
    "duration": 5,
    "start_time": "2023-01-16T10:52:14.752Z"
   },
   {
    "duration": 21,
    "start_time": "2023-01-16T10:52:14.758Z"
   },
   {
    "duration": 6,
    "start_time": "2023-01-16T10:52:14.781Z"
   },
   {
    "duration": 14,
    "start_time": "2023-01-16T10:52:14.789Z"
   },
   {
    "duration": 0,
    "start_time": "2023-01-16T10:52:14.805Z"
   },
   {
    "duration": 15,
    "start_time": "2023-01-16T10:52:28.052Z"
   },
   {
    "duration": 6,
    "start_time": "2023-01-16T10:52:47.159Z"
   },
   {
    "duration": 8,
    "start_time": "2023-01-16T10:57:01.558Z"
   },
   {
    "duration": 13,
    "start_time": "2023-01-16T10:57:12.532Z"
   },
   {
    "duration": 4,
    "start_time": "2023-01-16T10:59:22.474Z"
   },
   {
    "duration": 14,
    "start_time": "2023-01-16T10:59:23.765Z"
   },
   {
    "duration": 2,
    "start_time": "2023-01-16T10:59:30.287Z"
   },
   {
    "duration": 61,
    "start_time": "2023-01-16T10:59:30.292Z"
   },
   {
    "duration": 13,
    "start_time": "2023-01-16T10:59:30.355Z"
   },
   {
    "duration": 27,
    "start_time": "2023-01-16T10:59:30.370Z"
   },
   {
    "duration": 831,
    "start_time": "2023-01-16T10:59:30.399Z"
   },
   {
    "duration": 5,
    "start_time": "2023-01-16T10:59:31.232Z"
   },
   {
    "duration": 19,
    "start_time": "2023-01-16T10:59:31.239Z"
   },
   {
    "duration": 10,
    "start_time": "2023-01-16T10:59:31.260Z"
   },
   {
    "duration": 9,
    "start_time": "2023-01-16T10:59:31.278Z"
   },
   {
    "duration": 19,
    "start_time": "2023-01-16T10:59:31.288Z"
   },
   {
    "duration": 15,
    "start_time": "2023-01-17T15:22:19.443Z"
   },
   {
    "duration": 31,
    "start_time": "2023-01-17T15:22:29.227Z"
   },
   {
    "duration": 4,
    "start_time": "2023-01-17T15:22:54.254Z"
   },
   {
    "duration": 15,
    "start_time": "2023-01-17T15:22:55.602Z"
   },
   {
    "duration": 4,
    "start_time": "2023-01-17T15:23:19.758Z"
   },
   {
    "duration": 20,
    "start_time": "2023-01-17T15:23:21.316Z"
   },
   {
    "duration": 3,
    "start_time": "2023-01-17T15:23:36.498Z"
   },
   {
    "duration": 79,
    "start_time": "2023-01-17T15:23:36.503Z"
   },
   {
    "duration": 14,
    "start_time": "2023-01-17T15:23:36.583Z"
   },
   {
    "duration": 19,
    "start_time": "2023-01-17T15:23:36.598Z"
   },
   {
    "duration": 999,
    "start_time": "2023-01-17T15:23:36.619Z"
   },
   {
    "duration": 17,
    "start_time": "2023-01-17T15:23:37.620Z"
   },
   {
    "duration": 22,
    "start_time": "2023-01-17T15:23:37.638Z"
   },
   {
    "duration": 26,
    "start_time": "2023-01-17T15:23:37.661Z"
   },
   {
    "duration": 4,
    "start_time": "2023-01-17T15:23:38.491Z"
   },
   {
    "duration": 79,
    "start_time": "2023-01-17T15:23:38.498Z"
   },
   {
    "duration": 13,
    "start_time": "2023-01-17T15:23:38.579Z"
   },
   {
    "duration": 15,
    "start_time": "2023-01-17T15:23:38.594Z"
   },
   {
    "duration": 790,
    "start_time": "2023-01-17T15:23:38.611Z"
   },
   {
    "duration": 5,
    "start_time": "2023-01-17T15:23:39.403Z"
   },
   {
    "duration": 15,
    "start_time": "2023-01-17T15:23:39.409Z"
   },
   {
    "duration": 13,
    "start_time": "2023-01-17T15:23:39.426Z"
   },
   {
    "duration": 9,
    "start_time": "2023-01-17T15:23:39.441Z"
   },
   {
    "duration": 6,
    "start_time": "2023-01-17T15:23:39.451Z"
   },
   {
    "duration": 24,
    "start_time": "2023-01-17T15:23:39.458Z"
   },
   {
    "duration": 4,
    "start_time": "2023-01-17T15:23:46.425Z"
   },
   {
    "duration": 15,
    "start_time": "2023-01-17T15:23:47.850Z"
   },
   {
    "duration": 3,
    "start_time": "2023-01-17T15:23:51.428Z"
   },
   {
    "duration": 62,
    "start_time": "2023-01-17T15:23:51.433Z"
   },
   {
    "duration": 12,
    "start_time": "2023-01-17T15:23:51.497Z"
   },
   {
    "duration": 19,
    "start_time": "2023-01-17T15:23:51.511Z"
   },
   {
    "duration": 775,
    "start_time": "2023-01-17T15:23:51.532Z"
   },
   {
    "duration": 6,
    "start_time": "2023-01-17T15:23:52.308Z"
   },
   {
    "duration": 24,
    "start_time": "2023-01-17T15:23:52.315Z"
   },
   {
    "duration": 4,
    "start_time": "2023-01-17T15:23:52.341Z"
   },
   {
    "duration": 8,
    "start_time": "2023-01-17T15:23:52.346Z"
   },
   {
    "duration": 5,
    "start_time": "2023-01-17T15:23:52.356Z"
   },
   {
    "duration": 16,
    "start_time": "2023-01-17T15:23:52.362Z"
   },
   {
    "duration": 10,
    "start_time": "2023-01-17T16:06:59.313Z"
   },
   {
    "duration": 12,
    "start_time": "2023-01-17T16:07:41.748Z"
   },
   {
    "duration": 13,
    "start_time": "2023-01-17T16:08:27.262Z"
   },
   {
    "duration": 5,
    "start_time": "2023-01-17T16:37:10.006Z"
   },
   {
    "duration": 69,
    "start_time": "2023-01-17T16:37:10.014Z"
   },
   {
    "duration": 19,
    "start_time": "2023-01-17T16:37:10.085Z"
   },
   {
    "duration": 21,
    "start_time": "2023-01-17T16:37:10.107Z"
   },
   {
    "duration": 878,
    "start_time": "2023-01-17T16:37:10.130Z"
   },
   {
    "duration": 6,
    "start_time": "2023-01-17T16:37:11.010Z"
   },
   {
    "duration": 26,
    "start_time": "2023-01-17T16:37:11.017Z"
   },
   {
    "duration": 4,
    "start_time": "2023-01-17T16:37:11.045Z"
   },
   {
    "duration": 13,
    "start_time": "2023-01-17T16:37:11.051Z"
   },
   {
    "duration": 8,
    "start_time": "2023-01-17T16:37:11.067Z"
   },
   {
    "duration": 21,
    "start_time": "2023-01-17T16:37:11.077Z"
   },
   {
    "duration": 26,
    "start_time": "2023-01-17T16:37:11.099Z"
   },
   {
    "duration": 12,
    "start_time": "2023-01-17T16:37:58.749Z"
   },
   {
    "duration": 13,
    "start_time": "2023-01-17T16:38:02.910Z"
   },
   {
    "duration": 9,
    "start_time": "2023-01-17T16:39:52.889Z"
   },
   {
    "duration": 14,
    "start_time": "2023-01-17T16:40:06.057Z"
   },
   {
    "duration": 8,
    "start_time": "2023-01-17T16:40:38.852Z"
   },
   {
    "duration": 15,
    "start_time": "2023-01-17T16:41:49.972Z"
   },
   {
    "duration": 11,
    "start_time": "2023-01-17T16:41:58.247Z"
   },
   {
    "duration": 11,
    "start_time": "2023-01-17T16:45:16.935Z"
   },
   {
    "duration": 16,
    "start_time": "2023-01-17T16:45:25.774Z"
   },
   {
    "duration": 181,
    "start_time": "2023-01-17T16:45:49.934Z"
   },
   {
    "duration": 8,
    "start_time": "2023-01-17T17:05:17.300Z"
   },
   {
    "duration": 3,
    "start_time": "2023-01-17T17:05:21.012Z"
   },
   {
    "duration": 55,
    "start_time": "2023-01-17T17:05:21.017Z"
   },
   {
    "duration": 13,
    "start_time": "2023-01-17T17:05:21.074Z"
   },
   {
    "duration": 18,
    "start_time": "2023-01-17T17:05:21.089Z"
   },
   {
    "duration": 762,
    "start_time": "2023-01-17T17:05:21.109Z"
   },
   {
    "duration": 5,
    "start_time": "2023-01-17T17:05:21.873Z"
   },
   {
    "duration": 13,
    "start_time": "2023-01-17T17:05:21.879Z"
   },
   {
    "duration": 4,
    "start_time": "2023-01-17T17:05:21.893Z"
   },
   {
    "duration": 7,
    "start_time": "2023-01-17T17:05:21.898Z"
   },
   {
    "duration": 31,
    "start_time": "2023-01-17T17:05:21.906Z"
   },
   {
    "duration": 14,
    "start_time": "2023-01-17T17:05:21.939Z"
   },
   {
    "duration": 4,
    "start_time": "2023-01-17T17:05:21.954Z"
   },
   {
    "duration": 15,
    "start_time": "2023-01-17T17:05:33.602Z"
   },
   {
    "duration": 8,
    "start_time": "2023-01-17T17:06:01.214Z"
   },
   {
    "duration": 11,
    "start_time": "2023-01-17T17:06:05.735Z"
   },
   {
    "duration": 6,
    "start_time": "2023-01-17T17:06:21.273Z"
   },
   {
    "duration": 19,
    "start_time": "2023-01-17T17:06:28.399Z"
   },
   {
    "duration": 11,
    "start_time": "2023-01-17T17:07:10.789Z"
   },
   {
    "duration": 2,
    "start_time": "2023-01-17T17:07:12.911Z"
   },
   {
    "duration": 51,
    "start_time": "2023-01-17T17:07:12.915Z"
   },
   {
    "duration": 12,
    "start_time": "2023-01-17T17:07:12.968Z"
   },
   {
    "duration": 16,
    "start_time": "2023-01-17T17:07:12.981Z"
   },
   {
    "duration": 746,
    "start_time": "2023-01-17T17:07:13.000Z"
   },
   {
    "duration": 5,
    "start_time": "2023-01-17T17:07:13.747Z"
   },
   {
    "duration": 17,
    "start_time": "2023-01-17T17:07:13.754Z"
   },
   {
    "duration": 3,
    "start_time": "2023-01-17T17:07:13.773Z"
   },
   {
    "duration": 6,
    "start_time": "2023-01-17T17:07:13.778Z"
   },
   {
    "duration": 21,
    "start_time": "2023-01-17T17:07:13.785Z"
   },
   {
    "duration": 12,
    "start_time": "2023-01-17T17:07:13.808Z"
   },
   {
    "duration": 26,
    "start_time": "2023-01-17T17:07:13.821Z"
   },
   {
    "duration": 0,
    "start_time": "2023-01-17T17:07:13.848Z"
   },
   {
    "duration": 0,
    "start_time": "2023-01-17T17:07:13.849Z"
   },
   {
    "duration": 0,
    "start_time": "2023-01-17T17:07:13.851Z"
   },
   {
    "duration": 6,
    "start_time": "2023-01-17T17:16:49.499Z"
   },
   {
    "duration": 18,
    "start_time": "2023-01-17T17:16:55.644Z"
   },
   {
    "duration": 8,
    "start_time": "2023-01-17T17:20:24.825Z"
   },
   {
    "duration": 5,
    "start_time": "2023-01-17T17:21:45.666Z"
   },
   {
    "duration": 6,
    "start_time": "2023-01-17T17:22:02.258Z"
   },
   {
    "duration": 3,
    "start_time": "2023-01-17T17:22:11.885Z"
   },
   {
    "duration": 73,
    "start_time": "2023-01-17T17:22:11.891Z"
   },
   {
    "duration": 12,
    "start_time": "2023-01-17T17:22:11.966Z"
   },
   {
    "duration": 43,
    "start_time": "2023-01-17T17:22:11.981Z"
   },
   {
    "duration": 873,
    "start_time": "2023-01-17T17:22:12.026Z"
   },
   {
    "duration": 5,
    "start_time": "2023-01-17T17:22:12.900Z"
   },
   {
    "duration": 23,
    "start_time": "2023-01-17T17:22:12.907Z"
   },
   {
    "duration": 52,
    "start_time": "2023-01-17T17:22:12.932Z"
   },
   {
    "duration": 20,
    "start_time": "2023-01-17T17:22:12.986Z"
   },
   {
    "duration": 26,
    "start_time": "2023-01-17T17:22:13.009Z"
   },
   {
    "duration": 34,
    "start_time": "2023-01-17T17:22:13.037Z"
   },
   {
    "duration": 21,
    "start_time": "2023-01-17T17:22:13.074Z"
   },
   {
    "duration": 25,
    "start_time": "2023-01-17T17:22:13.097Z"
   },
   {
    "duration": 22,
    "start_time": "2023-01-17T17:22:13.123Z"
   },
   {
    "duration": 33,
    "start_time": "2023-01-17T17:22:13.147Z"
   },
   {
    "duration": 7,
    "start_time": "2023-01-17T17:22:13.182Z"
   },
   {
    "duration": 31,
    "start_time": "2023-01-17T17:22:13.191Z"
   },
   {
    "duration": 5,
    "start_time": "2023-01-17T17:28:27.596Z"
   },
   {
    "duration": 15,
    "start_time": "2023-01-17T17:28:30.540Z"
   },
   {
    "duration": 2,
    "start_time": "2023-01-17T17:28:32.969Z"
   },
   {
    "duration": 62,
    "start_time": "2023-01-17T17:28:32.973Z"
   },
   {
    "duration": 13,
    "start_time": "2023-01-17T17:28:33.036Z"
   },
   {
    "duration": 23,
    "start_time": "2023-01-17T17:28:33.051Z"
   },
   {
    "duration": 818,
    "start_time": "2023-01-17T17:28:33.076Z"
   },
   {
    "duration": 7,
    "start_time": "2023-01-17T17:28:33.896Z"
   },
   {
    "duration": 22,
    "start_time": "2023-01-17T17:28:33.904Z"
   },
   {
    "duration": 10,
    "start_time": "2023-01-17T17:28:33.928Z"
   },
   {
    "duration": 6,
    "start_time": "2023-01-17T17:28:33.940Z"
   },
   {
    "duration": 7,
    "start_time": "2023-01-17T17:28:33.948Z"
   },
   {
    "duration": 15,
    "start_time": "2023-01-17T17:28:33.957Z"
   },
   {
    "duration": 7,
    "start_time": "2023-01-17T17:28:33.973Z"
   },
   {
    "duration": 193,
    "start_time": "2023-01-17T17:28:33.981Z"
   },
   {
    "duration": 0,
    "start_time": "2023-01-17T17:28:34.175Z"
   },
   {
    "duration": 9,
    "start_time": "2023-01-17T17:28:44.467Z"
   },
   {
    "duration": 200,
    "start_time": "2023-01-17T17:28:56.583Z"
   },
   {
    "duration": 216,
    "start_time": "2023-01-17T17:29:03.377Z"
   },
   {
    "duration": 4,
    "start_time": "2023-01-17T17:29:39.220Z"
   },
   {
    "duration": 16,
    "start_time": "2023-01-17T17:29:40.739Z"
   },
   {
    "duration": 8,
    "start_time": "2023-01-17T17:29:42.608Z"
   },
   {
    "duration": 186,
    "start_time": "2023-01-17T17:29:45.499Z"
   },
   {
    "duration": 5,
    "start_time": "2023-01-17T17:30:35.009Z"
   },
   {
    "duration": 4,
    "start_time": "2023-01-17T17:31:36.064Z"
   },
   {
    "duration": 9,
    "start_time": "2023-01-17T17:31:50.981Z"
   },
   {
    "duration": 17,
    "start_time": "2023-01-17T17:31:52.447Z"
   },
   {
    "duration": 12,
    "start_time": "2023-01-17T17:32:03.665Z"
   },
   {
    "duration": 3,
    "start_time": "2023-01-17T17:32:08.376Z"
   },
   {
    "duration": 60,
    "start_time": "2023-01-17T17:32:08.380Z"
   },
   {
    "duration": 15,
    "start_time": "2023-01-17T17:32:08.442Z"
   },
   {
    "duration": 21,
    "start_time": "2023-01-17T17:32:08.459Z"
   },
   {
    "duration": 811,
    "start_time": "2023-01-17T17:32:08.483Z"
   },
   {
    "duration": 6,
    "start_time": "2023-01-17T17:32:09.296Z"
   },
   {
    "duration": 21,
    "start_time": "2023-01-17T17:32:09.303Z"
   },
   {
    "duration": 11,
    "start_time": "2023-01-17T17:32:09.326Z"
   },
   {
    "duration": 23,
    "start_time": "2023-01-17T17:32:09.339Z"
   },
   {
    "duration": 22,
    "start_time": "2023-01-17T17:32:09.365Z"
   },
   {
    "duration": 23,
    "start_time": "2023-01-17T17:32:09.389Z"
   },
   {
    "duration": 20,
    "start_time": "2023-01-17T17:32:09.414Z"
   },
   {
    "duration": 14,
    "start_time": "2023-01-17T17:32:09.436Z"
   },
   {
    "duration": 28,
    "start_time": "2023-01-17T17:32:09.452Z"
   },
   {
    "duration": 4,
    "start_time": "2023-01-17T17:32:40.066Z"
   },
   {
    "duration": 4,
    "start_time": "2023-01-17T17:36:43.063Z"
   },
   {
    "duration": 15,
    "start_time": "2023-01-17T17:36:53.275Z"
   },
   {
    "duration": 8,
    "start_time": "2023-01-17T17:37:11.407Z"
   },
   {
    "duration": 19,
    "start_time": "2023-01-17T17:37:40.400Z"
   },
   {
    "duration": 621,
    "start_time": "2023-01-17T17:41:46.886Z"
   },
   {
    "duration": 54,
    "start_time": "2023-01-17T17:45:52.575Z"
   },
   {
    "duration": 48,
    "start_time": "2023-01-17T17:45:58.554Z"
   },
   {
    "duration": 12,
    "start_time": "2023-01-17T17:46:13.309Z"
   },
   {
    "duration": 10,
    "start_time": "2023-01-17T17:46:36.371Z"
   },
   {
    "duration": 13,
    "start_time": "2023-01-17T17:46:48.466Z"
   },
   {
    "duration": 4,
    "start_time": "2023-01-17T17:47:06.758Z"
   },
   {
    "duration": 10,
    "start_time": "2023-01-17T17:47:24.012Z"
   },
   {
    "duration": 11,
    "start_time": "2023-01-17T17:47:41.109Z"
   },
   {
    "duration": 3,
    "start_time": "2023-01-17T17:47:43.876Z"
   },
   {
    "duration": 52,
    "start_time": "2023-01-17T17:47:43.881Z"
   },
   {
    "duration": 14,
    "start_time": "2023-01-17T17:47:43.935Z"
   },
   {
    "duration": 17,
    "start_time": "2023-01-17T17:47:43.951Z"
   },
   {
    "duration": 801,
    "start_time": "2023-01-17T17:47:43.970Z"
   },
   {
    "duration": 4,
    "start_time": "2023-01-17T17:47:44.773Z"
   },
   {
    "duration": 12,
    "start_time": "2023-01-17T17:47:44.779Z"
   },
   {
    "duration": 5,
    "start_time": "2023-01-17T17:47:44.793Z"
   },
   {
    "duration": 5,
    "start_time": "2023-01-17T17:47:44.799Z"
   },
   {
    "duration": 5,
    "start_time": "2023-01-17T17:47:44.805Z"
   },
   {
    "duration": 36,
    "start_time": "2023-01-17T17:47:44.811Z"
   },
   {
    "duration": 6,
    "start_time": "2023-01-17T17:47:44.849Z"
   },
   {
    "duration": 16,
    "start_time": "2023-01-17T17:47:44.857Z"
   },
   {
    "duration": 0,
    "start_time": "2023-01-17T17:47:44.875Z"
   },
   {
    "duration": 4,
    "start_time": "2023-01-17T17:47:51.883Z"
   },
   {
    "duration": 54,
    "start_time": "2023-01-17T17:47:51.890Z"
   },
   {
    "duration": 13,
    "start_time": "2023-01-17T17:47:51.946Z"
   },
   {
    "duration": 14,
    "start_time": "2023-01-17T17:47:51.962Z"
   },
   {
    "duration": 924,
    "start_time": "2023-01-17T17:47:51.978Z"
   },
   {
    "duration": 5,
    "start_time": "2023-01-17T17:47:52.904Z"
   },
   {
    "duration": 25,
    "start_time": "2023-01-17T17:47:52.910Z"
   },
   {
    "duration": 4,
    "start_time": "2023-01-17T17:47:52.937Z"
   },
   {
    "duration": 13,
    "start_time": "2023-01-17T17:47:52.942Z"
   },
   {
    "duration": 6,
    "start_time": "2023-01-17T17:47:52.957Z"
   },
   {
    "duration": 20,
    "start_time": "2023-01-17T17:47:52.964Z"
   },
   {
    "duration": 6,
    "start_time": "2023-01-17T17:47:52.986Z"
   },
   {
    "duration": 18,
    "start_time": "2023-01-17T17:47:52.994Z"
   },
   {
    "duration": 0,
    "start_time": "2023-01-17T17:47:53.013Z"
   },
   {
    "duration": 5,
    "start_time": "2023-01-17T17:47:58.564Z"
   },
   {
    "duration": 111,
    "start_time": "2023-01-17T17:47:58.571Z"
   },
   {
    "duration": 21,
    "start_time": "2023-01-17T17:47:58.685Z"
   },
   {
    "duration": 42,
    "start_time": "2023-01-17T17:47:58.710Z"
   },
   {
    "duration": 959,
    "start_time": "2023-01-17T17:47:58.755Z"
   },
   {
    "duration": 7,
    "start_time": "2023-01-17T17:47:59.715Z"
   },
   {
    "duration": 14,
    "start_time": "2023-01-17T17:47:59.737Z"
   },
   {
    "duration": 5,
    "start_time": "2023-01-17T17:47:59.754Z"
   },
   {
    "duration": 15,
    "start_time": "2023-01-17T17:47:59.760Z"
   },
   {
    "duration": 13,
    "start_time": "2023-01-17T17:47:59.779Z"
   },
   {
    "duration": 44,
    "start_time": "2023-01-17T17:47:59.795Z"
   },
   {
    "duration": 12,
    "start_time": "2023-01-17T17:47:59.841Z"
   },
   {
    "duration": 23,
    "start_time": "2023-01-17T17:47:59.855Z"
   },
   {
    "duration": 0,
    "start_time": "2023-01-17T17:47:59.880Z"
   },
   {
    "duration": 22,
    "start_time": "2023-01-17T17:48:36.078Z"
   },
   {
    "duration": 10,
    "start_time": "2023-01-17T17:48:40.654Z"
   },
   {
    "duration": 8,
    "start_time": "2023-01-17T18:09:05.402Z"
   },
   {
    "duration": 3,
    "start_time": "2023-01-17T18:09:08.022Z"
   },
   {
    "duration": 52,
    "start_time": "2023-01-17T18:09:08.026Z"
   },
   {
    "duration": 13,
    "start_time": "2023-01-17T18:09:08.080Z"
   },
   {
    "duration": 16,
    "start_time": "2023-01-17T18:09:08.094Z"
   },
   {
    "duration": 832,
    "start_time": "2023-01-17T18:09:08.112Z"
   },
   {
    "duration": 6,
    "start_time": "2023-01-17T18:09:08.945Z"
   },
   {
    "duration": 12,
    "start_time": "2023-01-17T18:09:08.953Z"
   },
   {
    "duration": 5,
    "start_time": "2023-01-17T18:09:08.967Z"
   },
   {
    "duration": 3,
    "start_time": "2023-01-17T18:09:08.974Z"
   },
   {
    "duration": 6,
    "start_time": "2023-01-17T18:09:08.979Z"
   },
   {
    "duration": 14,
    "start_time": "2023-01-17T18:09:08.986Z"
   },
   {
    "duration": 38,
    "start_time": "2023-01-17T18:09:09.002Z"
   },
   {
    "duration": 7,
    "start_time": "2023-01-17T18:09:09.042Z"
   },
   {
    "duration": 21,
    "start_time": "2023-01-17T18:09:09.050Z"
   },
   {
    "duration": 0,
    "start_time": "2023-01-17T18:09:09.072Z"
   },
   {
    "duration": 5,
    "start_time": "2023-01-17T18:18:16.896Z"
   },
   {
    "duration": 15,
    "start_time": "2023-01-17T18:18:21.505Z"
   },
   {
    "duration": 8,
    "start_time": "2023-01-17T18:19:48.553Z"
   },
   {
    "duration": 3,
    "start_time": "2023-01-17T18:20:12.685Z"
   },
   {
    "duration": 59,
    "start_time": "2023-01-17T18:20:12.690Z"
   },
   {
    "duration": 13,
    "start_time": "2023-01-17T18:20:12.750Z"
   },
   {
    "duration": 18,
    "start_time": "2023-01-17T18:20:12.765Z"
   },
   {
    "duration": 989,
    "start_time": "2023-01-17T18:20:12.786Z"
   },
   {
    "duration": 5,
    "start_time": "2023-01-17T18:20:13.777Z"
   },
   {
    "duration": 10,
    "start_time": "2023-01-17T18:20:13.784Z"
   },
   {
    "duration": 8,
    "start_time": "2023-01-17T18:20:13.796Z"
   },
   {
    "duration": 7,
    "start_time": "2023-01-17T18:20:13.805Z"
   },
   {
    "duration": 5,
    "start_time": "2023-01-17T18:20:13.813Z"
   },
   {
    "duration": 23,
    "start_time": "2023-01-17T18:20:13.819Z"
   },
   {
    "duration": 27,
    "start_time": "2023-01-17T18:20:13.843Z"
   },
   {
    "duration": 6,
    "start_time": "2023-01-17T18:20:13.871Z"
   },
   {
    "duration": 13,
    "start_time": "2023-01-17T18:20:13.879Z"
   },
   {
    "duration": 0,
    "start_time": "2023-01-17T18:20:13.894Z"
   },
   {
    "duration": 0,
    "start_time": "2023-01-17T18:20:13.895Z"
   },
   {
    "duration": 0,
    "start_time": "2023-01-17T18:20:13.896Z"
   },
   {
    "duration": 8,
    "start_time": "2023-01-17T18:20:21.080Z"
   },
   {
    "duration": 5,
    "start_time": "2023-01-17T18:20:25.603Z"
   },
   {
    "duration": 14,
    "start_time": "2023-01-17T18:20:27.117Z"
   },
   {
    "duration": 6,
    "start_time": "2023-01-17T18:20:34.199Z"
   },
   {
    "duration": 8,
    "start_time": "2023-01-17T18:22:10.122Z"
   },
   {
    "duration": 10,
    "start_time": "2023-01-17T18:22:41.770Z"
   },
   {
    "duration": 14,
    "start_time": "2023-01-17T18:22:55.594Z"
   },
   {
    "duration": 4,
    "start_time": "2023-01-17T18:25:09.820Z"
   },
   {
    "duration": 77,
    "start_time": "2023-01-17T18:25:09.826Z"
   },
   {
    "duration": 14,
    "start_time": "2023-01-17T18:25:09.904Z"
   },
   {
    "duration": 18,
    "start_time": "2023-01-17T18:25:09.920Z"
   },
   {
    "duration": 864,
    "start_time": "2023-01-17T18:25:09.940Z"
   },
   {
    "duration": 6,
    "start_time": "2023-01-17T18:25:10.807Z"
   },
   {
    "duration": 25,
    "start_time": "2023-01-17T18:25:10.814Z"
   },
   {
    "duration": 32,
    "start_time": "2023-01-17T18:25:10.844Z"
   },
   {
    "duration": 36,
    "start_time": "2023-01-17T18:25:10.878Z"
   },
   {
    "duration": 57,
    "start_time": "2023-01-17T18:25:10.916Z"
   },
   {
    "duration": 49,
    "start_time": "2023-01-17T18:25:10.975Z"
   },
   {
    "duration": 62,
    "start_time": "2023-01-17T18:25:11.026Z"
   },
   {
    "duration": 9,
    "start_time": "2023-01-17T18:26:20.548Z"
   },
   {
    "duration": 6,
    "start_time": "2023-01-17T18:26:27.728Z"
   },
   {
    "duration": 7,
    "start_time": "2023-01-17T18:26:40.981Z"
   },
   {
    "duration": 9,
    "start_time": "2023-01-17T18:27:19.372Z"
   },
   {
    "duration": 14,
    "start_time": "2023-01-17T18:27:25.664Z"
   },
   {
    "duration": 3,
    "start_time": "2023-01-17T18:28:07.182Z"
   },
   {
    "duration": 5,
    "start_time": "2023-01-17T18:28:14.657Z"
   },
   {
    "duration": 6,
    "start_time": "2023-01-17T18:28:18.323Z"
   },
   {
    "duration": 4,
    "start_time": "2023-01-17T18:28:23.060Z"
   },
   {
    "duration": 51,
    "start_time": "2023-01-17T18:28:23.066Z"
   },
   {
    "duration": 14,
    "start_time": "2023-01-17T18:28:23.119Z"
   },
   {
    "duration": 15,
    "start_time": "2023-01-17T18:28:23.135Z"
   },
   {
    "duration": 775,
    "start_time": "2023-01-17T18:28:23.153Z"
   },
   {
    "duration": 5,
    "start_time": "2023-01-17T18:28:23.936Z"
   },
   {
    "duration": 16,
    "start_time": "2023-01-17T18:28:23.942Z"
   },
   {
    "duration": 5,
    "start_time": "2023-01-17T18:28:23.960Z"
   },
   {
    "duration": 6,
    "start_time": "2023-01-17T18:28:23.967Z"
   },
   {
    "duration": 20,
    "start_time": "2023-01-17T18:28:23.975Z"
   },
   {
    "duration": 11,
    "start_time": "2023-01-17T18:28:23.997Z"
   },
   {
    "duration": 38,
    "start_time": "2023-01-17T18:28:24.010Z"
   },
   {
    "duration": 6,
    "start_time": "2023-01-17T18:28:24.050Z"
   },
   {
    "duration": 5,
    "start_time": "2023-01-17T18:28:24.059Z"
   },
   {
    "duration": 5,
    "start_time": "2023-01-17T18:28:24.066Z"
   },
   {
    "duration": 5,
    "start_time": "2023-01-17T18:28:24.073Z"
   },
   {
    "duration": 8,
    "start_time": "2023-01-17T18:33:28.031Z"
   },
   {
    "duration": 7,
    "start_time": "2023-01-17T18:33:32.708Z"
   },
   {
    "duration": 6,
    "start_time": "2023-01-17T18:33:42.394Z"
   },
   {
    "duration": 3,
    "start_time": "2023-01-17T18:33:58.570Z"
   },
   {
    "duration": 77,
    "start_time": "2023-01-17T18:33:58.576Z"
   },
   {
    "duration": 16,
    "start_time": "2023-01-17T18:33:58.655Z"
   },
   {
    "duration": 39,
    "start_time": "2023-01-17T18:33:58.673Z"
   },
   {
    "duration": 965,
    "start_time": "2023-01-17T18:33:58.714Z"
   },
   {
    "duration": 7,
    "start_time": "2023-01-17T18:33:59.682Z"
   },
   {
    "duration": 56,
    "start_time": "2023-01-17T18:33:59.691Z"
   },
   {
    "duration": 16,
    "start_time": "2023-01-17T18:33:59.749Z"
   },
   {
    "duration": 7,
    "start_time": "2023-01-17T18:33:59.767Z"
   },
   {
    "duration": 17,
    "start_time": "2023-01-17T18:33:59.776Z"
   },
   {
    "duration": 13,
    "start_time": "2023-01-17T18:33:59.795Z"
   },
   {
    "duration": 17,
    "start_time": "2023-01-17T18:33:59.810Z"
   },
   {
    "duration": 15,
    "start_time": "2023-01-17T18:33:59.828Z"
   },
   {
    "duration": 13,
    "start_time": "2023-01-17T18:33:59.846Z"
   },
   {
    "duration": 6,
    "start_time": "2023-01-17T18:33:59.861Z"
   },
   {
    "duration": 5,
    "start_time": "2023-01-17T18:33:59.869Z"
   },
   {
    "duration": 8,
    "start_time": "2023-01-17T18:33:59.876Z"
   },
   {
    "duration": 3,
    "start_time": "2023-01-17T18:34:11.423Z"
   },
   {
    "duration": 5,
    "start_time": "2023-01-17T18:34:17.281Z"
   },
   {
    "duration": 3,
    "start_time": "2023-01-17T18:34:23.576Z"
   },
   {
    "duration": 6,
    "start_time": "2023-01-17T18:34:24.800Z"
   },
   {
    "duration": 5,
    "start_time": "2023-01-17T18:34:29.475Z"
   },
   {
    "duration": 57,
    "start_time": "2023-01-17T18:34:29.482Z"
   },
   {
    "duration": 26,
    "start_time": "2023-01-17T18:34:29.542Z"
   },
   {
    "duration": 24,
    "start_time": "2023-01-17T18:34:29.569Z"
   },
   {
    "duration": 873,
    "start_time": "2023-01-17T18:34:29.596Z"
   },
   {
    "duration": 5,
    "start_time": "2023-01-17T18:34:30.471Z"
   },
   {
    "duration": 192,
    "start_time": "2023-01-17T18:34:30.478Z"
   },
   {
    "duration": 96,
    "start_time": "2023-01-17T18:34:30.672Z"
   },
   {
    "duration": 110,
    "start_time": "2023-01-17T18:34:30.770Z"
   },
   {
    "duration": 133,
    "start_time": "2023-01-17T18:34:30.882Z"
   },
   {
    "duration": 86,
    "start_time": "2023-01-17T18:34:31.017Z"
   },
   {
    "duration": 61,
    "start_time": "2023-01-17T18:34:31.105Z"
   },
   {
    "duration": 30,
    "start_time": "2023-01-17T18:34:31.171Z"
   },
   {
    "duration": 66,
    "start_time": "2023-01-17T18:34:31.204Z"
   },
   {
    "duration": 53,
    "start_time": "2023-01-17T18:34:31.272Z"
   },
   {
    "duration": 42,
    "start_time": "2023-01-17T18:34:31.327Z"
   },
   {
    "duration": 40,
    "start_time": "2023-01-17T18:34:31.371Z"
   },
   {
    "duration": 61,
    "start_time": "2023-01-17T18:34:31.413Z"
   },
   {
    "duration": 4,
    "start_time": "2023-01-17T18:34:39.175Z"
   },
   {
    "duration": 6,
    "start_time": "2023-01-17T18:34:40.764Z"
   },
   {
    "duration": 3,
    "start_time": "2023-01-17T18:34:42.801Z"
   },
   {
    "duration": 63,
    "start_time": "2023-01-17T18:34:42.806Z"
   },
   {
    "duration": 13,
    "start_time": "2023-01-17T18:34:42.871Z"
   },
   {
    "duration": 19,
    "start_time": "2023-01-17T18:34:42.886Z"
   },
   {
    "duration": 860,
    "start_time": "2023-01-17T18:34:42.907Z"
   },
   {
    "duration": 5,
    "start_time": "2023-01-17T18:34:43.769Z"
   },
   {
    "duration": 19,
    "start_time": "2023-01-17T18:34:43.776Z"
   },
   {
    "duration": 4,
    "start_time": "2023-01-17T18:34:43.797Z"
   },
   {
    "duration": 20,
    "start_time": "2023-01-17T18:34:43.803Z"
   },
   {
    "duration": 24,
    "start_time": "2023-01-17T18:34:43.825Z"
   },
   {
    "duration": 26,
    "start_time": "2023-01-17T18:34:43.851Z"
   },
   {
    "duration": 16,
    "start_time": "2023-01-17T18:34:43.879Z"
   },
   {
    "duration": 6,
    "start_time": "2023-01-17T18:34:43.896Z"
   },
   {
    "duration": 6,
    "start_time": "2023-01-17T18:34:43.905Z"
   },
   {
    "duration": 6,
    "start_time": "2023-01-17T18:34:43.913Z"
   },
   {
    "duration": 3,
    "start_time": "2023-01-17T18:34:43.921Z"
   },
   {
    "duration": 30,
    "start_time": "2023-01-17T18:34:43.926Z"
   },
   {
    "duration": 8,
    "start_time": "2023-01-17T18:34:43.963Z"
   },
   {
    "duration": 11,
    "start_time": "2023-01-17T18:34:52.318Z"
   },
   {
    "duration": 9,
    "start_time": "2023-01-17T18:34:59.545Z"
   },
   {
    "duration": 7,
    "start_time": "2023-01-17T18:35:01.233Z"
   },
   {
    "duration": 4,
    "start_time": "2023-01-17T18:35:03.512Z"
   },
   {
    "duration": 69,
    "start_time": "2023-01-17T18:35:03.518Z"
   },
   {
    "duration": 15,
    "start_time": "2023-01-17T18:35:03.588Z"
   },
   {
    "duration": 35,
    "start_time": "2023-01-17T18:35:03.604Z"
   },
   {
    "duration": 1002,
    "start_time": "2023-01-17T18:35:03.641Z"
   },
   {
    "duration": 9,
    "start_time": "2023-01-17T18:35:04.645Z"
   },
   {
    "duration": 44,
    "start_time": "2023-01-17T18:35:04.657Z"
   },
   {
    "duration": 16,
    "start_time": "2023-01-17T18:35:04.702Z"
   },
   {
    "duration": 13,
    "start_time": "2023-01-17T18:35:04.719Z"
   },
   {
    "duration": 34,
    "start_time": "2023-01-17T18:35:04.735Z"
   },
   {
    "duration": 14,
    "start_time": "2023-01-17T18:35:04.771Z"
   },
   {
    "duration": 19,
    "start_time": "2023-01-17T18:35:04.787Z"
   },
   {
    "duration": 13,
    "start_time": "2023-01-17T18:35:04.808Z"
   },
   {
    "duration": 11,
    "start_time": "2023-01-17T18:35:04.823Z"
   },
   {
    "duration": 26,
    "start_time": "2023-01-17T18:35:04.836Z"
   },
   {
    "duration": 5,
    "start_time": "2023-01-17T18:35:04.864Z"
   },
   {
    "duration": 12,
    "start_time": "2023-01-17T18:35:04.871Z"
   },
   {
    "duration": 8,
    "start_time": "2023-01-17T18:35:04.885Z"
   },
   {
    "duration": 3,
    "start_time": "2023-01-17T18:35:15.587Z"
   },
   {
    "duration": 702,
    "start_time": "2023-01-17T18:35:16.712Z"
   },
   {
    "duration": 847,
    "start_time": "2023-01-17T18:35:46.565Z"
   },
   {
    "duration": 695,
    "start_time": "2023-01-17T18:36:03.364Z"
   },
   {
    "duration": 4,
    "start_time": "2023-01-17T18:36:08.620Z"
   },
   {
    "duration": 90,
    "start_time": "2023-01-17T18:36:08.628Z"
   },
   {
    "duration": 13,
    "start_time": "2023-01-17T18:36:08.719Z"
   },
   {
    "duration": 40,
    "start_time": "2023-01-17T18:36:08.734Z"
   },
   {
    "duration": 843,
    "start_time": "2023-01-17T18:36:08.776Z"
   },
   {
    "duration": 4,
    "start_time": "2023-01-17T18:36:09.621Z"
   },
   {
    "duration": 34,
    "start_time": "2023-01-17T18:36:09.637Z"
   },
   {
    "duration": 4,
    "start_time": "2023-01-17T18:36:09.673Z"
   },
   {
    "duration": 10,
    "start_time": "2023-01-17T18:36:09.679Z"
   },
   {
    "duration": 16,
    "start_time": "2023-01-17T18:36:09.691Z"
   },
   {
    "duration": 10,
    "start_time": "2023-01-17T18:36:09.709Z"
   },
   {
    "duration": 14,
    "start_time": "2023-01-17T18:36:09.720Z"
   },
   {
    "duration": 22,
    "start_time": "2023-01-17T18:36:09.738Z"
   },
   {
    "duration": 10,
    "start_time": "2023-01-17T18:36:09.763Z"
   },
   {
    "duration": 7,
    "start_time": "2023-01-17T18:36:09.774Z"
   },
   {
    "duration": 6,
    "start_time": "2023-01-17T18:36:09.782Z"
   },
   {
    "duration": 8,
    "start_time": "2023-01-17T18:36:09.789Z"
   },
   {
    "duration": 8,
    "start_time": "2023-01-17T18:36:09.798Z"
   },
   {
    "duration": 7,
    "start_time": "2023-01-17T18:43:54.276Z"
   },
   {
    "duration": 7,
    "start_time": "2023-01-17T18:44:06.555Z"
   },
   {
    "duration": 7,
    "start_time": "2023-01-17T18:44:13.766Z"
   },
   {
    "duration": 6,
    "start_time": "2023-01-17T18:44:22.916Z"
   },
   {
    "duration": 17,
    "start_time": "2023-01-17T18:44:36.674Z"
   },
   {
    "duration": 4,
    "start_time": "2023-01-17T18:44:40.804Z"
   },
   {
    "duration": 101,
    "start_time": "2023-01-17T18:44:40.810Z"
   },
   {
    "duration": 13,
    "start_time": "2023-01-17T18:44:40.913Z"
   },
   {
    "duration": 58,
    "start_time": "2023-01-17T18:44:40.927Z"
   },
   {
    "duration": 858,
    "start_time": "2023-01-17T18:44:40.987Z"
   },
   {
    "duration": 9,
    "start_time": "2023-01-17T18:44:41.847Z"
   },
   {
    "duration": 36,
    "start_time": "2023-01-17T18:44:41.857Z"
   },
   {
    "duration": 24,
    "start_time": "2023-01-17T18:44:41.895Z"
   },
   {
    "duration": 9,
    "start_time": "2023-01-17T18:44:41.920Z"
   },
   {
    "duration": 48,
    "start_time": "2023-01-17T18:44:41.930Z"
   },
   {
    "duration": 21,
    "start_time": "2023-01-17T18:44:41.979Z"
   },
   {
    "duration": 18,
    "start_time": "2023-01-17T18:44:42.002Z"
   },
   {
    "duration": 11,
    "start_time": "2023-01-17T18:44:42.021Z"
   },
   {
    "duration": 32,
    "start_time": "2023-01-17T18:44:42.034Z"
   },
   {
    "duration": 13,
    "start_time": "2023-01-17T18:44:42.068Z"
   },
   {
    "duration": 11,
    "start_time": "2023-01-17T18:44:42.083Z"
   },
   {
    "duration": 14,
    "start_time": "2023-01-17T18:44:42.095Z"
   },
   {
    "duration": 13,
    "start_time": "2023-01-17T18:44:42.110Z"
   },
   {
    "duration": 37,
    "start_time": "2023-01-17T18:44:42.125Z"
   },
   {
    "duration": 26,
    "start_time": "2023-01-17T18:44:42.164Z"
   },
   {
    "duration": 6,
    "start_time": "2023-01-17T18:45:22.262Z"
   },
   {
    "duration": 18,
    "start_time": "2023-01-17T18:45:26.861Z"
   },
   {
    "duration": 7,
    "start_time": "2023-01-17T18:45:31.002Z"
   },
   {
    "duration": 7,
    "start_time": "2023-01-17T18:45:34.502Z"
   },
   {
    "duration": 5,
    "start_time": "2023-01-17T18:45:36.974Z"
   },
   {
    "duration": 17,
    "start_time": "2023-01-17T18:45:39.452Z"
   },
   {
    "duration": 3,
    "start_time": "2023-01-17T18:45:52.268Z"
   },
   {
    "duration": 55,
    "start_time": "2023-01-17T18:45:52.273Z"
   },
   {
    "duration": 19,
    "start_time": "2023-01-17T18:45:52.330Z"
   },
   {
    "duration": 23,
    "start_time": "2023-01-17T18:45:52.359Z"
   },
   {
    "duration": 947,
    "start_time": "2023-01-17T18:45:52.384Z"
   },
   {
    "duration": 10,
    "start_time": "2023-01-17T18:45:53.332Z"
   },
   {
    "duration": 36,
    "start_time": "2023-01-17T18:45:53.345Z"
   },
   {
    "duration": 4,
    "start_time": "2023-01-17T18:45:53.383Z"
   },
   {
    "duration": 7,
    "start_time": "2023-01-17T18:45:53.389Z"
   },
   {
    "duration": 14,
    "start_time": "2023-01-17T18:45:53.399Z"
   },
   {
    "duration": 10,
    "start_time": "2023-01-17T18:45:53.415Z"
   },
   {
    "duration": 34,
    "start_time": "2023-01-17T18:45:53.427Z"
   },
   {
    "duration": 8,
    "start_time": "2023-01-17T18:45:53.466Z"
   },
   {
    "duration": 10,
    "start_time": "2023-01-17T18:45:53.475Z"
   },
   {
    "duration": 4,
    "start_time": "2023-01-17T18:45:53.486Z"
   },
   {
    "duration": 16,
    "start_time": "2023-01-17T18:45:53.492Z"
   },
   {
    "duration": 18,
    "start_time": "2023-01-17T18:45:53.509Z"
   },
   {
    "duration": 16,
    "start_time": "2023-01-17T18:45:53.529Z"
   },
   {
    "duration": 26,
    "start_time": "2023-01-17T18:45:53.547Z"
   },
   {
    "duration": 16,
    "start_time": "2023-01-17T18:45:53.574Z"
   },
   {
    "duration": 19,
    "start_time": "2023-01-17T18:46:23.053Z"
   },
   {
    "duration": 4,
    "start_time": "2023-01-17T18:46:25.912Z"
   },
   {
    "duration": 69,
    "start_time": "2023-01-17T18:46:25.918Z"
   },
   {
    "duration": 14,
    "start_time": "2023-01-17T18:46:25.989Z"
   },
   {
    "duration": 18,
    "start_time": "2023-01-17T18:46:26.005Z"
   },
   {
    "duration": 875,
    "start_time": "2023-01-17T18:46:26.025Z"
   },
   {
    "duration": 6,
    "start_time": "2023-01-17T18:46:26.902Z"
   },
   {
    "duration": 11,
    "start_time": "2023-01-17T18:46:26.910Z"
   },
   {
    "duration": 34,
    "start_time": "2023-01-17T18:46:26.923Z"
   },
   {
    "duration": 17,
    "start_time": "2023-01-17T18:46:26.959Z"
   },
   {
    "duration": 21,
    "start_time": "2023-01-17T18:46:26.978Z"
   },
   {
    "duration": 8,
    "start_time": "2023-01-17T18:46:27.001Z"
   },
   {
    "duration": 12,
    "start_time": "2023-01-17T18:46:27.011Z"
   },
   {
    "duration": 6,
    "start_time": "2023-01-17T18:46:27.025Z"
   },
   {
    "duration": 27,
    "start_time": "2023-01-17T18:46:27.033Z"
   },
   {
    "duration": 6,
    "start_time": "2023-01-17T18:46:27.062Z"
   },
   {
    "duration": 10,
    "start_time": "2023-01-17T18:46:27.070Z"
   },
   {
    "duration": 27,
    "start_time": "2023-01-17T18:46:27.082Z"
   },
   {
    "duration": 50,
    "start_time": "2023-01-17T18:46:27.110Z"
   },
   {
    "duration": 31,
    "start_time": "2023-01-17T18:46:27.162Z"
   },
   {
    "duration": 35,
    "start_time": "2023-01-17T18:46:27.194Z"
   },
   {
    "duration": 10,
    "start_time": "2023-01-17T19:44:39.415Z"
   },
   {
    "duration": 9,
    "start_time": "2023-01-17T19:44:46.723Z"
   },
   {
    "duration": 8,
    "start_time": "2023-01-17T19:44:53.507Z"
   },
   {
    "duration": 14,
    "start_time": "2023-01-17T19:44:57.267Z"
   },
   {
    "duration": 5,
    "start_time": "2023-01-17T19:45:22.992Z"
   },
   {
    "duration": 14,
    "start_time": "2023-01-17T19:46:42.201Z"
   },
   {
    "duration": 6,
    "start_time": "2023-01-17T19:47:57.060Z"
   },
   {
    "duration": 5,
    "start_time": "2023-01-17T19:48:05.668Z"
   },
   {
    "duration": 6,
    "start_time": "2023-01-17T19:49:13.148Z"
   },
   {
    "duration": 5,
    "start_time": "2023-01-17T19:49:21.632Z"
   },
   {
    "duration": 74,
    "start_time": "2023-01-17T19:49:21.640Z"
   },
   {
    "duration": 13,
    "start_time": "2023-01-17T19:49:21.717Z"
   },
   {
    "duration": 20,
    "start_time": "2023-01-17T19:49:21.731Z"
   },
   {
    "duration": 829,
    "start_time": "2023-01-17T19:49:21.753Z"
   },
   {
    "duration": 8,
    "start_time": "2023-01-17T19:49:22.584Z"
   },
   {
    "duration": 41,
    "start_time": "2023-01-17T19:49:22.594Z"
   },
   {
    "duration": 19,
    "start_time": "2023-01-17T19:49:22.642Z"
   },
   {
    "duration": 9,
    "start_time": "2023-01-17T19:49:22.662Z"
   },
   {
    "duration": 21,
    "start_time": "2023-01-17T19:49:22.673Z"
   },
   {
    "duration": 28,
    "start_time": "2023-01-17T19:49:22.696Z"
   },
   {
    "duration": 60,
    "start_time": "2023-01-17T19:49:22.726Z"
   },
   {
    "duration": 6,
    "start_time": "2023-01-17T19:49:54.198Z"
   },
   {
    "duration": 4,
    "start_time": "2023-01-17T19:50:02.968Z"
   },
   {
    "duration": 67,
    "start_time": "2023-01-17T19:50:02.975Z"
   },
   {
    "duration": 15,
    "start_time": "2023-01-17T19:50:03.044Z"
   },
   {
    "duration": 40,
    "start_time": "2023-01-17T19:50:03.061Z"
   },
   {
    "duration": 961,
    "start_time": "2023-01-17T19:50:03.103Z"
   },
   {
    "duration": 5,
    "start_time": "2023-01-17T19:50:04.065Z"
   },
   {
    "duration": 39,
    "start_time": "2023-01-17T19:50:04.072Z"
   },
   {
    "duration": 34,
    "start_time": "2023-01-17T19:50:04.113Z"
   },
   {
    "duration": 28,
    "start_time": "2023-01-17T19:50:04.149Z"
   },
   {
    "duration": 27,
    "start_time": "2023-01-17T19:50:04.179Z"
   },
   {
    "duration": 15,
    "start_time": "2023-01-17T19:50:04.208Z"
   },
   {
    "duration": 47,
    "start_time": "2023-01-17T19:50:04.225Z"
   },
   {
    "duration": 6,
    "start_time": "2023-01-17T19:50:18.468Z"
   },
   {
    "duration": 5,
    "start_time": "2023-01-17T19:50:42.147Z"
   },
   {
    "duration": 7,
    "start_time": "2023-01-17T19:54:08.728Z"
   },
   {
    "duration": 6,
    "start_time": "2023-01-17T19:54:23.500Z"
   },
   {
    "duration": 5,
    "start_time": "2023-01-17T19:54:32.669Z"
   },
   {
    "duration": 6,
    "start_time": "2023-01-17T19:54:35.223Z"
   },
   {
    "duration": 10,
    "start_time": "2023-01-17T19:54:54.505Z"
   },
   {
    "duration": 5,
    "start_time": "2023-01-17T19:55:00.700Z"
   },
   {
    "duration": 4,
    "start_time": "2023-01-17T19:55:03.265Z"
   },
   {
    "duration": 57,
    "start_time": "2023-01-17T19:55:03.272Z"
   },
   {
    "duration": 21,
    "start_time": "2023-01-17T19:55:03.331Z"
   },
   {
    "duration": 20,
    "start_time": "2023-01-17T19:55:03.353Z"
   },
   {
    "duration": 899,
    "start_time": "2023-01-17T19:55:03.376Z"
   },
   {
    "duration": 8,
    "start_time": "2023-01-17T19:55:04.277Z"
   },
   {
    "duration": 45,
    "start_time": "2023-01-17T19:55:04.287Z"
   },
   {
    "duration": 41,
    "start_time": "2023-01-17T19:55:04.335Z"
   },
   {
    "duration": 29,
    "start_time": "2023-01-17T19:55:04.379Z"
   },
   {
    "duration": 44,
    "start_time": "2023-01-17T19:55:04.411Z"
   },
   {
    "duration": 47,
    "start_time": "2023-01-17T19:55:04.457Z"
   },
   {
    "duration": 26,
    "start_time": "2023-01-17T19:55:04.506Z"
   },
   {
    "duration": 85,
    "start_time": "2023-01-17T19:55:04.534Z"
   },
   {
    "duration": 4,
    "start_time": "2023-01-17T20:02:20.492Z"
   },
   {
    "duration": 6,
    "start_time": "2023-01-17T20:02:29.199Z"
   },
   {
    "duration": 5,
    "start_time": "2023-01-17T20:02:53.824Z"
   },
   {
    "duration": 10,
    "start_time": "2023-01-17T20:03:01.452Z"
   },
   {
    "duration": 5,
    "start_time": "2023-01-17T20:03:21.911Z"
   },
   {
    "duration": 6,
    "start_time": "2023-01-17T20:03:36.166Z"
   },
   {
    "duration": 6,
    "start_time": "2023-01-17T20:03:38.650Z"
   },
   {
    "duration": 5,
    "start_time": "2023-01-17T20:03:57.365Z"
   },
   {
    "duration": 5,
    "start_time": "2023-01-17T20:04:59.152Z"
   },
   {
    "duration": 25,
    "start_time": "2023-01-17T20:05:06.425Z"
   },
   {
    "duration": 7,
    "start_time": "2023-01-17T20:05:24.400Z"
   },
   {
    "duration": 19,
    "start_time": "2023-01-17T20:05:25.535Z"
   },
   {
    "duration": 3,
    "start_time": "2023-01-17T20:06:16.391Z"
   },
   {
    "duration": 2,
    "start_time": "2023-01-17T20:06:32.275Z"
   },
   {
    "duration": 5,
    "start_time": "2023-01-17T20:08:32.800Z"
   },
   {
    "duration": 3,
    "start_time": "2023-01-17T20:08:35.975Z"
   },
   {
    "duration": 90,
    "start_time": "2023-01-17T20:08:35.980Z"
   },
   {
    "duration": 14,
    "start_time": "2023-01-17T20:08:36.071Z"
   },
   {
    "duration": 37,
    "start_time": "2023-01-17T20:08:36.086Z"
   },
   {
    "duration": 936,
    "start_time": "2023-01-17T20:08:36.125Z"
   },
   {
    "duration": 6,
    "start_time": "2023-01-17T20:08:37.064Z"
   },
   {
    "duration": 44,
    "start_time": "2023-01-17T20:08:37.072Z"
   },
   {
    "duration": 12,
    "start_time": "2023-01-17T20:08:37.118Z"
   },
   {
    "duration": 30,
    "start_time": "2023-01-17T20:08:37.131Z"
   },
   {
    "duration": 34,
    "start_time": "2023-01-17T20:08:37.163Z"
   },
   {
    "duration": 34,
    "start_time": "2023-01-17T20:08:37.199Z"
   },
   {
    "duration": 0,
    "start_time": "2023-01-17T20:08:37.235Z"
   },
   {
    "duration": 0,
    "start_time": "2023-01-17T20:08:37.236Z"
   },
   {
    "duration": 1,
    "start_time": "2023-01-17T20:08:37.236Z"
   },
   {
    "duration": 0,
    "start_time": "2023-01-17T20:08:37.237Z"
   },
   {
    "duration": 7,
    "start_time": "2023-01-17T20:08:54.670Z"
   },
   {
    "duration": 7,
    "start_time": "2023-01-17T20:08:58.172Z"
   },
   {
    "duration": 3,
    "start_time": "2023-01-17T20:09:00.500Z"
   },
   {
    "duration": 91,
    "start_time": "2023-01-17T20:09:00.506Z"
   },
   {
    "duration": 12,
    "start_time": "2023-01-17T20:09:00.599Z"
   },
   {
    "duration": 22,
    "start_time": "2023-01-17T20:09:00.613Z"
   },
   {
    "duration": 905,
    "start_time": "2023-01-17T20:09:00.637Z"
   },
   {
    "duration": 7,
    "start_time": "2023-01-17T20:09:01.543Z"
   },
   {
    "duration": 73,
    "start_time": "2023-01-17T20:09:01.552Z"
   },
   {
    "duration": 47,
    "start_time": "2023-01-17T20:09:01.627Z"
   },
   {
    "duration": 22,
    "start_time": "2023-01-17T20:09:01.676Z"
   },
   {
    "duration": 27,
    "start_time": "2023-01-17T20:09:01.700Z"
   },
   {
    "duration": 50,
    "start_time": "2023-01-17T20:09:01.729Z"
   },
   {
    "duration": 30,
    "start_time": "2023-01-17T20:09:01.781Z"
   },
   {
    "duration": 40,
    "start_time": "2023-01-17T20:09:01.813Z"
   },
   {
    "duration": 18,
    "start_time": "2023-01-17T20:09:01.867Z"
   },
   {
    "duration": 36,
    "start_time": "2023-01-17T20:09:01.887Z"
   },
   {
    "duration": 47,
    "start_time": "2023-01-17T20:11:58.962Z"
   },
   {
    "duration": 4,
    "start_time": "2023-01-17T20:12:05.010Z"
   },
   {
    "duration": 5,
    "start_time": "2023-01-17T20:12:27.263Z"
   },
   {
    "duration": 3,
    "start_time": "2023-01-17T20:12:32.082Z"
   },
   {
    "duration": 83,
    "start_time": "2023-01-17T20:12:32.088Z"
   },
   {
    "duration": 23,
    "start_time": "2023-01-17T20:12:32.172Z"
   },
   {
    "duration": 35,
    "start_time": "2023-01-17T20:12:32.198Z"
   },
   {
    "duration": 855,
    "start_time": "2023-01-17T20:12:32.235Z"
   },
   {
    "duration": 5,
    "start_time": "2023-01-17T20:12:33.092Z"
   },
   {
    "duration": 33,
    "start_time": "2023-01-17T20:12:33.099Z"
   },
   {
    "duration": 49,
    "start_time": "2023-01-17T20:12:33.134Z"
   },
   {
    "duration": 20,
    "start_time": "2023-01-17T20:12:33.185Z"
   },
   {
    "duration": 64,
    "start_time": "2023-01-17T20:12:33.208Z"
   },
   {
    "duration": 29,
    "start_time": "2023-01-17T20:12:33.273Z"
   },
   {
    "duration": 80,
    "start_time": "2023-01-17T20:12:33.303Z"
   },
   {
    "duration": 0,
    "start_time": "2023-01-17T20:12:33.384Z"
   },
   {
    "duration": 0,
    "start_time": "2023-01-17T20:12:33.386Z"
   },
   {
    "duration": 0,
    "start_time": "2023-01-17T20:12:33.387Z"
   },
   {
    "duration": 0,
    "start_time": "2023-01-17T20:12:33.388Z"
   },
   {
    "duration": 5,
    "start_time": "2023-01-17T20:18:42.303Z"
   },
   {
    "duration": 7,
    "start_time": "2023-01-17T20:18:44.198Z"
   },
   {
    "duration": 11,
    "start_time": "2023-01-17T20:18:51.463Z"
   },
   {
    "duration": 5,
    "start_time": "2023-01-17T20:18:55.263Z"
   },
   {
    "duration": 4,
    "start_time": "2023-01-17T20:19:05.726Z"
   },
   {
    "duration": 6,
    "start_time": "2023-01-17T20:19:07.602Z"
   },
   {
    "duration": 4,
    "start_time": "2023-01-17T20:19:11.016Z"
   },
   {
    "duration": 64,
    "start_time": "2023-01-17T20:19:11.023Z"
   },
   {
    "duration": 13,
    "start_time": "2023-01-17T20:19:11.089Z"
   },
   {
    "duration": 18,
    "start_time": "2023-01-17T20:19:11.103Z"
   },
   {
    "duration": 1051,
    "start_time": "2023-01-17T20:19:11.123Z"
   },
   {
    "duration": 6,
    "start_time": "2023-01-17T20:19:12.176Z"
   },
   {
    "duration": 13,
    "start_time": "2023-01-17T20:19:12.184Z"
   },
   {
    "duration": 8,
    "start_time": "2023-01-17T20:19:12.199Z"
   },
   {
    "duration": 11,
    "start_time": "2023-01-17T20:19:12.209Z"
   },
   {
    "duration": 21,
    "start_time": "2023-01-17T20:19:12.222Z"
   },
   {
    "duration": 32,
    "start_time": "2023-01-17T20:19:12.246Z"
   },
   {
    "duration": 19,
    "start_time": "2023-01-17T20:19:12.280Z"
   },
   {
    "duration": 10,
    "start_time": "2023-01-17T20:19:12.301Z"
   },
   {
    "duration": 14,
    "start_time": "2023-01-17T20:19:12.314Z"
   },
   {
    "duration": 12,
    "start_time": "2023-01-17T20:19:12.330Z"
   },
   {
    "duration": 51,
    "start_time": "2023-01-17T20:19:12.346Z"
   },
   {
    "duration": 9,
    "start_time": "2023-01-17T20:20:11.951Z"
   },
   {
    "duration": 4,
    "start_time": "2023-01-17T20:20:43.967Z"
   },
   {
    "duration": 6,
    "start_time": "2023-01-17T20:20:45.948Z"
   },
   {
    "duration": 3,
    "start_time": "2023-01-17T20:20:51.450Z"
   },
   {
    "duration": 61,
    "start_time": "2023-01-17T20:20:51.458Z"
   },
   {
    "duration": 14,
    "start_time": "2023-01-17T20:20:51.520Z"
   },
   {
    "duration": 29,
    "start_time": "2023-01-17T20:20:51.535Z"
   },
   {
    "duration": 786,
    "start_time": "2023-01-17T20:20:51.567Z"
   },
   {
    "duration": 5,
    "start_time": "2023-01-17T20:20:52.355Z"
   },
   {
    "duration": 12,
    "start_time": "2023-01-17T20:20:52.361Z"
   },
   {
    "duration": 4,
    "start_time": "2023-01-17T20:20:52.375Z"
   },
   {
    "duration": 6,
    "start_time": "2023-01-17T20:20:52.380Z"
   },
   {
    "duration": 12,
    "start_time": "2023-01-17T20:20:52.388Z"
   },
   {
    "duration": 10,
    "start_time": "2023-01-17T20:20:52.402Z"
   },
   {
    "duration": 41,
    "start_time": "2023-01-17T20:20:52.413Z"
   },
   {
    "duration": 15,
    "start_time": "2023-01-17T20:20:52.456Z"
   },
   {
    "duration": 0,
    "start_time": "2023-01-17T20:20:52.473Z"
   },
   {
    "duration": 0,
    "start_time": "2023-01-17T20:20:52.474Z"
   },
   {
    "duration": 0,
    "start_time": "2023-01-17T20:20:52.475Z"
   },
   {
    "duration": 0,
    "start_time": "2023-01-17T20:20:52.477Z"
   },
   {
    "duration": 3,
    "start_time": "2023-01-17T20:20:59.179Z"
   },
   {
    "duration": 59,
    "start_time": "2023-01-17T20:20:59.184Z"
   },
   {
    "duration": 14,
    "start_time": "2023-01-17T20:20:59.248Z"
   },
   {
    "duration": 16,
    "start_time": "2023-01-17T20:20:59.264Z"
   },
   {
    "duration": 804,
    "start_time": "2023-01-17T20:20:59.282Z"
   },
   {
    "duration": 6,
    "start_time": "2023-01-17T20:21:00.087Z"
   },
   {
    "duration": 21,
    "start_time": "2023-01-17T20:21:00.094Z"
   },
   {
    "duration": 5,
    "start_time": "2023-01-17T20:21:00.116Z"
   },
   {
    "duration": 19,
    "start_time": "2023-01-17T20:21:00.123Z"
   },
   {
    "duration": 12,
    "start_time": "2023-01-17T20:21:00.144Z"
   },
   {
    "duration": 26,
    "start_time": "2023-01-17T20:21:00.157Z"
   },
   {
    "duration": 15,
    "start_time": "2023-01-17T20:21:00.185Z"
   },
   {
    "duration": 12,
    "start_time": "2023-01-17T20:21:00.202Z"
   },
   {
    "duration": 9,
    "start_time": "2023-01-17T20:21:00.216Z"
   },
   {
    "duration": 46,
    "start_time": "2023-01-17T20:21:00.227Z"
   },
   {
    "duration": 6,
    "start_time": "2023-01-17T20:21:00.275Z"
   },
   {
    "duration": 22,
    "start_time": "2023-01-17T20:21:00.283Z"
   },
   {
    "duration": 775,
    "start_time": "2023-01-17T20:21:40.023Z"
   },
   {
    "duration": 5,
    "start_time": "2023-01-17T20:22:53.715Z"
   },
   {
    "duration": 5,
    "start_time": "2023-01-17T20:23:13.435Z"
   },
   {
    "duration": 4,
    "start_time": "2023-01-17T20:23:24.074Z"
   },
   {
    "duration": 5,
    "start_time": "2023-01-17T20:23:29.313Z"
   },
   {
    "duration": 4,
    "start_time": "2023-01-17T20:23:32.418Z"
   },
   {
    "duration": 75,
    "start_time": "2023-01-17T20:23:32.424Z"
   },
   {
    "duration": 14,
    "start_time": "2023-01-17T20:23:32.501Z"
   },
   {
    "duration": 24,
    "start_time": "2023-01-17T20:23:32.517Z"
   },
   {
    "duration": 965,
    "start_time": "2023-01-17T20:23:32.548Z"
   },
   {
    "duration": 5,
    "start_time": "2023-01-17T20:23:33.515Z"
   },
   {
    "duration": 34,
    "start_time": "2023-01-17T20:23:33.522Z"
   },
   {
    "duration": 17,
    "start_time": "2023-01-17T20:23:33.558Z"
   },
   {
    "duration": 21,
    "start_time": "2023-01-17T20:23:33.576Z"
   },
   {
    "duration": 10,
    "start_time": "2023-01-17T20:23:33.598Z"
   },
   {
    "duration": 28,
    "start_time": "2023-01-17T20:23:33.610Z"
   },
   {
    "duration": 0,
    "start_time": "2023-01-17T20:23:33.646Z"
   },
   {
    "duration": 0,
    "start_time": "2023-01-17T20:23:33.647Z"
   },
   {
    "duration": 0,
    "start_time": "2023-01-17T20:23:33.647Z"
   },
   {
    "duration": 0,
    "start_time": "2023-01-17T20:23:33.648Z"
   },
   {
    "duration": 0,
    "start_time": "2023-01-17T20:23:33.649Z"
   },
   {
    "duration": 0,
    "start_time": "2023-01-17T20:23:33.652Z"
   },
   {
    "duration": 0,
    "start_time": "2023-01-17T20:23:33.653Z"
   },
   {
    "duration": 0,
    "start_time": "2023-01-17T20:23:33.653Z"
   },
   {
    "duration": 3,
    "start_time": "2023-01-17T20:24:10.269Z"
   },
   {
    "duration": 50,
    "start_time": "2023-01-17T20:24:10.275Z"
   },
   {
    "duration": 12,
    "start_time": "2023-01-17T20:24:10.327Z"
   },
   {
    "duration": 15,
    "start_time": "2023-01-17T20:24:10.341Z"
   },
   {
    "duration": 754,
    "start_time": "2023-01-17T20:24:10.359Z"
   },
   {
    "duration": 5,
    "start_time": "2023-01-17T20:24:11.115Z"
   },
   {
    "duration": 29,
    "start_time": "2023-01-17T20:24:11.122Z"
   },
   {
    "duration": 5,
    "start_time": "2023-01-17T20:24:11.153Z"
   },
   {
    "duration": 21,
    "start_time": "2023-01-17T20:24:11.160Z"
   },
   {
    "duration": 9,
    "start_time": "2023-01-17T20:24:11.183Z"
   },
   {
    "duration": 13,
    "start_time": "2023-01-17T20:24:11.194Z"
   },
   {
    "duration": 7,
    "start_time": "2023-01-17T20:24:11.208Z"
   },
   {
    "duration": 19,
    "start_time": "2023-01-17T20:24:11.216Z"
   },
   {
    "duration": 0,
    "start_time": "2023-01-17T20:24:11.238Z"
   },
   {
    "duration": 0,
    "start_time": "2023-01-17T20:24:11.239Z"
   },
   {
    "duration": 0,
    "start_time": "2023-01-17T20:24:11.240Z"
   },
   {
    "duration": 0,
    "start_time": "2023-01-17T20:24:11.241Z"
   },
   {
    "duration": 0,
    "start_time": "2023-01-17T20:24:11.242Z"
   },
   {
    "duration": 3,
    "start_time": "2023-01-17T20:25:05.781Z"
   },
   {
    "duration": 72,
    "start_time": "2023-01-17T20:25:05.786Z"
   },
   {
    "duration": 13,
    "start_time": "2023-01-17T20:25:05.860Z"
   },
   {
    "duration": 38,
    "start_time": "2023-01-17T20:25:05.875Z"
   },
   {
    "duration": 737,
    "start_time": "2023-01-17T20:25:05.916Z"
   },
   {
    "duration": 5,
    "start_time": "2023-01-17T20:25:06.655Z"
   },
   {
    "duration": 56,
    "start_time": "2023-01-17T20:25:06.661Z"
   },
   {
    "duration": 15,
    "start_time": "2023-01-17T20:25:06.719Z"
   },
   {
    "duration": 34,
    "start_time": "2023-01-17T20:25:06.736Z"
   },
   {
    "duration": 16,
    "start_time": "2023-01-17T20:25:06.772Z"
   },
   {
    "duration": 27,
    "start_time": "2023-01-17T20:25:06.790Z"
   },
   {
    "duration": 37,
    "start_time": "2023-01-17T20:25:06.818Z"
   },
   {
    "duration": 40,
    "start_time": "2023-01-17T20:25:06.857Z"
   },
   {
    "duration": 14,
    "start_time": "2023-01-17T20:25:06.900Z"
   },
   {
    "duration": 32,
    "start_time": "2023-01-17T20:25:06.915Z"
   },
   {
    "duration": 5,
    "start_time": "2023-01-17T20:26:02.658Z"
   },
   {
    "duration": 7,
    "start_time": "2023-01-18T06:27:52.249Z"
   },
   {
    "duration": 341,
    "start_time": "2023-01-18T06:29:05.976Z"
   },
   {
    "duration": 167,
    "start_time": "2023-01-18T06:29:12.148Z"
   },
   {
    "duration": 149,
    "start_time": "2023-01-18T06:29:15.337Z"
   },
   {
    "duration": 168,
    "start_time": "2023-01-18T06:29:42.786Z"
   },
   {
    "duration": 239,
    "start_time": "2023-01-18T06:29:46.252Z"
   },
   {
    "duration": 365,
    "start_time": "2023-01-18T06:30:13.262Z"
   },
   {
    "duration": 242,
    "start_time": "2023-01-18T06:30:21.671Z"
   },
   {
    "duration": 250,
    "start_time": "2023-01-18T06:30:25.947Z"
   },
   {
    "duration": 274,
    "start_time": "2023-01-18T06:30:32.154Z"
   },
   {
    "duration": 327,
    "start_time": "2023-01-18T06:30:36.162Z"
   },
   {
    "duration": 343,
    "start_time": "2023-01-18T06:30:56.617Z"
   },
   {
    "duration": 201,
    "start_time": "2023-01-18T06:31:02.026Z"
   },
   {
    "duration": 14,
    "start_time": "2023-01-18T06:37:58.805Z"
   },
   {
    "duration": 9,
    "start_time": "2023-01-18T06:38:03.036Z"
   },
   {
    "duration": 8,
    "start_time": "2023-01-18T06:38:10.710Z"
   },
   {
    "duration": 12,
    "start_time": "2023-01-18T06:38:26.864Z"
   },
   {
    "duration": 52,
    "start_time": "2023-01-18T06:40:08.566Z"
   },
   {
    "duration": 376,
    "start_time": "2023-01-18T06:40:16.000Z"
   },
   {
    "duration": 344,
    "start_time": "2023-01-18T06:40:24.104Z"
   },
   {
    "duration": 344,
    "start_time": "2023-01-18T06:40:27.800Z"
   },
   {
    "duration": 18,
    "start_time": "2023-01-18T06:41:18.333Z"
   },
   {
    "duration": 714,
    "start_time": "2023-01-18T06:43:51.581Z"
   },
   {
    "duration": 782,
    "start_time": "2023-01-18T06:44:10.405Z"
   },
   {
    "duration": 888,
    "start_time": "2023-01-18T07:04:37.177Z"
   },
   {
    "duration": 16,
    "start_time": "2023-01-18T07:05:59.954Z"
   },
   {
    "duration": 10,
    "start_time": "2023-01-18T07:07:02.042Z"
   },
   {
    "duration": 16,
    "start_time": "2023-01-18T07:07:16.618Z"
   },
   {
    "duration": 19,
    "start_time": "2023-01-18T07:07:27.422Z"
   },
   {
    "duration": 14,
    "start_time": "2023-01-18T07:07:30.721Z"
   },
   {
    "duration": 12,
    "start_time": "2023-01-18T07:07:41.781Z"
   },
   {
    "duration": 14,
    "start_time": "2023-01-18T07:07:52.918Z"
   },
   {
    "duration": 15,
    "start_time": "2023-01-18T07:09:13.991Z"
   },
   {
    "duration": 9,
    "start_time": "2023-01-18T07:09:57.753Z"
   },
   {
    "duration": 9,
    "start_time": "2023-01-18T07:09:59.304Z"
   },
   {
    "duration": 403,
    "start_time": "2023-01-18T07:13:19.368Z"
   },
   {
    "duration": 340,
    "start_time": "2023-01-18T07:13:26.187Z"
   },
   {
    "duration": 375,
    "start_time": "2023-01-18T07:13:29.153Z"
   },
   {
    "duration": 19,
    "start_time": "2023-01-18T07:17:10.717Z"
   },
   {
    "duration": 13,
    "start_time": "2023-01-18T07:17:40.722Z"
   },
   {
    "duration": 21,
    "start_time": "2023-01-18T07:17:51.847Z"
   },
   {
    "duration": 51,
    "start_time": "2023-01-18T07:18:24.319Z"
   },
   {
    "duration": 17,
    "start_time": "2023-01-18T07:18:37.171Z"
   },
   {
    "duration": 13,
    "start_time": "2023-01-18T07:18:54.246Z"
   },
   {
    "duration": 4,
    "start_time": "2023-01-18T07:18:58.626Z"
   },
   {
    "duration": 71,
    "start_time": "2023-01-18T07:18:58.634Z"
   },
   {
    "duration": 14,
    "start_time": "2023-01-18T07:18:58.707Z"
   },
   {
    "duration": 20,
    "start_time": "2023-01-18T07:18:58.724Z"
   },
   {
    "duration": 1014,
    "start_time": "2023-01-18T07:18:58.746Z"
   },
   {
    "duration": 6,
    "start_time": "2023-01-18T07:18:59.762Z"
   },
   {
    "duration": 21,
    "start_time": "2023-01-18T07:18:59.770Z"
   },
   {
    "duration": 5,
    "start_time": "2023-01-18T07:18:59.793Z"
   },
   {
    "duration": 12,
    "start_time": "2023-01-18T07:18:59.801Z"
   },
   {
    "duration": 8,
    "start_time": "2023-01-18T07:18:59.835Z"
   },
   {
    "duration": 16,
    "start_time": "2023-01-18T07:18:59.846Z"
   },
   {
    "duration": 10,
    "start_time": "2023-01-18T07:18:59.864Z"
   },
   {
    "duration": 8,
    "start_time": "2023-01-18T07:18:59.876Z"
   },
   {
    "duration": 18,
    "start_time": "2023-01-18T07:18:59.886Z"
   },
   {
    "duration": 32,
    "start_time": "2023-01-18T07:18:59.906Z"
   },
   {
    "duration": 17,
    "start_time": "2023-01-18T07:18:59.941Z"
   },
   {
    "duration": 8,
    "start_time": "2023-01-18T07:18:59.960Z"
   },
   {
    "duration": 241,
    "start_time": "2023-01-18T07:18:59.970Z"
   },
   {
    "duration": 365,
    "start_time": "2023-01-18T07:19:00.212Z"
   },
   {
    "duration": 14,
    "start_time": "2023-01-18T07:19:00.579Z"
   },
   {
    "duration": 30,
    "start_time": "2023-01-18T07:19:00.596Z"
   },
   {
    "duration": 415,
    "start_time": "2023-01-18T07:19:00.628Z"
   },
   {
    "duration": 378,
    "start_time": "2023-01-18T07:19:21.466Z"
   },
   {
    "duration": 804,
    "start_time": "2023-01-18T07:20:14.304Z"
   },
   {
    "duration": 1040,
    "start_time": "2023-01-18T07:20:48.343Z"
   },
   {
    "duration": 4,
    "start_time": "2023-01-18T07:20:54.017Z"
   },
   {
    "duration": 82,
    "start_time": "2023-01-18T07:20:54.023Z"
   },
   {
    "duration": 15,
    "start_time": "2023-01-18T07:20:54.107Z"
   },
   {
    "duration": 23,
    "start_time": "2023-01-18T07:20:54.125Z"
   },
   {
    "duration": 1055,
    "start_time": "2023-01-18T07:20:54.151Z"
   },
   {
    "duration": 7,
    "start_time": "2023-01-18T07:20:55.208Z"
   },
   {
    "duration": 31,
    "start_time": "2023-01-18T07:20:55.218Z"
   },
   {
    "duration": 16,
    "start_time": "2023-01-18T07:20:55.251Z"
   },
   {
    "duration": 12,
    "start_time": "2023-01-18T07:20:55.270Z"
   },
   {
    "duration": 11,
    "start_time": "2023-01-18T07:20:55.283Z"
   },
   {
    "duration": 12,
    "start_time": "2023-01-18T07:20:55.296Z"
   },
   {
    "duration": 48,
    "start_time": "2023-01-18T07:20:55.319Z"
   },
   {
    "duration": 11,
    "start_time": "2023-01-18T07:20:55.370Z"
   },
   {
    "duration": 17,
    "start_time": "2023-01-18T07:20:55.385Z"
   },
   {
    "duration": 9,
    "start_time": "2023-01-18T07:20:55.404Z"
   },
   {
    "duration": 17,
    "start_time": "2023-01-18T07:20:55.415Z"
   },
   {
    "duration": 7,
    "start_time": "2023-01-18T07:20:55.436Z"
   },
   {
    "duration": 217,
    "start_time": "2023-01-18T07:20:55.445Z"
   },
   {
    "duration": 808,
    "start_time": "2023-01-18T07:20:55.664Z"
   },
   {
    "duration": 11,
    "start_time": "2023-01-18T07:20:56.474Z"
   },
   {
    "duration": 7,
    "start_time": "2023-01-18T07:20:56.487Z"
   },
   {
    "duration": 954,
    "start_time": "2023-01-18T07:20:56.496Z"
   },
   {
    "duration": 327,
    "start_time": "2023-01-18T07:21:02.463Z"
   },
   {
    "duration": 689,
    "start_time": "2023-01-18T07:21:24.856Z"
   },
   {
    "duration": 15,
    "start_time": "2023-01-18T07:22:25.678Z"
   },
   {
    "duration": 4,
    "start_time": "2023-01-18T07:22:32.665Z"
   },
   {
    "duration": 82,
    "start_time": "2023-01-18T07:22:32.672Z"
   },
   {
    "duration": 19,
    "start_time": "2023-01-18T07:22:32.756Z"
   },
   {
    "duration": 76,
    "start_time": "2023-01-18T07:22:32.779Z"
   },
   {
    "duration": 939,
    "start_time": "2023-01-18T07:22:32.857Z"
   },
   {
    "duration": 6,
    "start_time": "2023-01-18T07:22:33.798Z"
   },
   {
    "duration": 31,
    "start_time": "2023-01-18T07:22:33.806Z"
   },
   {
    "duration": 31,
    "start_time": "2023-01-18T07:22:33.839Z"
   },
   {
    "duration": 43,
    "start_time": "2023-01-18T07:22:33.873Z"
   },
   {
    "duration": 19,
    "start_time": "2023-01-18T07:22:33.919Z"
   },
   {
    "duration": 16,
    "start_time": "2023-01-18T07:22:33.941Z"
   },
   {
    "duration": 14,
    "start_time": "2023-01-18T07:22:33.961Z"
   },
   {
    "duration": 14,
    "start_time": "2023-01-18T07:22:33.977Z"
   },
   {
    "duration": 27,
    "start_time": "2023-01-18T07:22:33.993Z"
   },
   {
    "duration": 10,
    "start_time": "2023-01-18T07:22:34.022Z"
   },
   {
    "duration": 30,
    "start_time": "2023-01-18T07:22:34.034Z"
   },
   {
    "duration": 10,
    "start_time": "2023-01-18T07:22:34.067Z"
   },
   {
    "duration": 437,
    "start_time": "2023-01-18T07:22:34.080Z"
   },
   {
    "duration": 666,
    "start_time": "2023-01-18T07:22:34.519Z"
   },
   {
    "duration": 15,
    "start_time": "2023-01-18T07:22:35.187Z"
   },
   {
    "duration": 33,
    "start_time": "2023-01-18T07:22:35.205Z"
   },
   {
    "duration": 31,
    "start_time": "2023-01-18T07:22:35.242Z"
   },
   {
    "duration": 744,
    "start_time": "2023-01-18T07:23:00.000Z"
   },
   {
    "duration": 676,
    "start_time": "2023-01-18T07:23:15.050Z"
   },
   {
    "duration": 7,
    "start_time": "2023-01-18T07:46:46.869Z"
   },
   {
    "duration": 9,
    "start_time": "2023-01-18T07:46:54.030Z"
   },
   {
    "duration": 11,
    "start_time": "2023-01-18T07:54:22.748Z"
   },
   {
    "duration": 7,
    "start_time": "2023-01-18T07:54:27.273Z"
   },
   {
    "duration": 669,
    "start_time": "2023-01-18T07:55:32.463Z"
   },
   {
    "duration": 14,
    "start_time": "2023-01-18T07:56:34.918Z"
   },
   {
    "duration": 11,
    "start_time": "2023-01-18T07:56:43.462Z"
   },
   {
    "duration": 13,
    "start_time": "2023-01-18T07:56:46.292Z"
   },
   {
    "duration": 3,
    "start_time": "2023-01-18T07:56:52.903Z"
   },
   {
    "duration": 64,
    "start_time": "2023-01-18T07:56:52.908Z"
   },
   {
    "duration": 15,
    "start_time": "2023-01-18T07:56:52.974Z"
   },
   {
    "duration": 22,
    "start_time": "2023-01-18T07:56:52.991Z"
   },
   {
    "duration": 1043,
    "start_time": "2023-01-18T07:56:53.015Z"
   },
   {
    "duration": 5,
    "start_time": "2023-01-18T07:56:54.062Z"
   },
   {
    "duration": 19,
    "start_time": "2023-01-18T07:56:54.068Z"
   },
   {
    "duration": 11,
    "start_time": "2023-01-18T07:56:54.089Z"
   },
   {
    "duration": 13,
    "start_time": "2023-01-18T07:56:54.101Z"
   },
   {
    "duration": 7,
    "start_time": "2023-01-18T07:56:54.116Z"
   },
   {
    "duration": 9,
    "start_time": "2023-01-18T07:56:54.125Z"
   },
   {
    "duration": 25,
    "start_time": "2023-01-18T07:56:54.135Z"
   },
   {
    "duration": 7,
    "start_time": "2023-01-18T07:56:54.163Z"
   },
   {
    "duration": 16,
    "start_time": "2023-01-18T07:56:54.172Z"
   },
   {
    "duration": 14,
    "start_time": "2023-01-18T07:56:54.190Z"
   },
   {
    "duration": 15,
    "start_time": "2023-01-18T07:56:54.205Z"
   },
   {
    "duration": 6,
    "start_time": "2023-01-18T07:56:54.222Z"
   },
   {
    "duration": 225,
    "start_time": "2023-01-18T07:56:54.229Z"
   },
   {
    "duration": 7,
    "start_time": "2023-01-18T07:56:54.456Z"
   },
   {
    "duration": 708,
    "start_time": "2023-01-18T07:56:54.466Z"
   },
   {
    "duration": 12,
    "start_time": "2023-01-18T07:56:55.176Z"
   },
   {
    "duration": 17,
    "start_time": "2023-01-18T07:56:55.190Z"
   },
   {
    "duration": 9,
    "start_time": "2023-01-18T07:57:13.486Z"
   },
   {
    "duration": 11,
    "start_time": "2023-01-18T07:57:26.505Z"
   },
   {
    "duration": 4,
    "start_time": "2023-01-18T07:57:29.180Z"
   },
   {
    "duration": 66,
    "start_time": "2023-01-18T07:57:29.186Z"
   },
   {
    "duration": 20,
    "start_time": "2023-01-18T07:57:29.255Z"
   },
   {
    "duration": 18,
    "start_time": "2023-01-18T07:57:29.278Z"
   },
   {
    "duration": 900,
    "start_time": "2023-01-18T07:57:29.304Z"
   },
   {
    "duration": 7,
    "start_time": "2023-01-18T07:57:30.207Z"
   },
   {
    "duration": 53,
    "start_time": "2023-01-18T07:57:30.215Z"
   },
   {
    "duration": 16,
    "start_time": "2023-01-18T07:57:30.270Z"
   },
   {
    "duration": 30,
    "start_time": "2023-01-18T07:57:30.288Z"
   },
   {
    "duration": 41,
    "start_time": "2023-01-18T07:57:30.320Z"
   },
   {
    "duration": 32,
    "start_time": "2023-01-18T07:57:30.363Z"
   },
   {
    "duration": 65,
    "start_time": "2023-01-18T07:57:30.397Z"
   },
   {
    "duration": 17,
    "start_time": "2023-01-18T07:57:30.464Z"
   },
   {
    "duration": 51,
    "start_time": "2023-01-18T07:57:30.485Z"
   },
   {
    "duration": 29,
    "start_time": "2023-01-18T07:57:30.540Z"
   },
   {
    "duration": 26,
    "start_time": "2023-01-18T07:57:30.571Z"
   },
   {
    "duration": 12,
    "start_time": "2023-01-18T07:57:30.598Z"
   },
   {
    "duration": 215,
    "start_time": "2023-01-18T07:57:30.611Z"
   },
   {
    "duration": 18,
    "start_time": "2023-01-18T07:57:30.828Z"
   },
   {
    "duration": 844,
    "start_time": "2023-01-18T07:57:30.851Z"
   },
   {
    "duration": 10,
    "start_time": "2023-01-18T07:57:31.697Z"
   },
   {
    "duration": 29,
    "start_time": "2023-01-18T07:57:31.709Z"
   },
   {
    "duration": 11,
    "start_time": "2023-01-18T07:57:41.516Z"
   },
   {
    "duration": 11,
    "start_time": "2023-01-18T07:57:49.757Z"
   },
   {
    "duration": 13,
    "start_time": "2023-01-18T07:58:04.686Z"
   },
   {
    "duration": 10,
    "start_time": "2023-01-18T07:58:45.484Z"
   },
   {
    "duration": 12,
    "start_time": "2023-01-18T07:58:47.049Z"
   },
   {
    "duration": 18,
    "start_time": "2023-01-18T07:59:23.723Z"
   },
   {
    "duration": 18,
    "start_time": "2023-01-18T07:59:56.713Z"
   },
   {
    "duration": 749,
    "start_time": "2023-01-18T08:00:48.746Z"
   },
   {
    "duration": 15,
    "start_time": "2023-01-18T08:01:27.187Z"
   },
   {
    "duration": 19,
    "start_time": "2023-01-18T08:02:06.137Z"
   },
   {
    "duration": 17,
    "start_time": "2023-01-18T08:02:09.424Z"
   },
   {
    "duration": 4,
    "start_time": "2023-01-18T08:02:12.899Z"
   },
   {
    "duration": 81,
    "start_time": "2023-01-18T08:02:12.905Z"
   },
   {
    "duration": 19,
    "start_time": "2023-01-18T08:02:12.989Z"
   },
   {
    "duration": 31,
    "start_time": "2023-01-18T08:02:13.010Z"
   },
   {
    "duration": 936,
    "start_time": "2023-01-18T08:02:13.043Z"
   },
   {
    "duration": 7,
    "start_time": "2023-01-18T08:02:13.981Z"
   },
   {
    "duration": 37,
    "start_time": "2023-01-18T08:02:13.990Z"
   },
   {
    "duration": 17,
    "start_time": "2023-01-18T08:02:14.029Z"
   },
   {
    "duration": 21,
    "start_time": "2023-01-18T08:02:14.050Z"
   },
   {
    "duration": 25,
    "start_time": "2023-01-18T08:02:14.073Z"
   },
   {
    "duration": 23,
    "start_time": "2023-01-18T08:02:14.101Z"
   },
   {
    "duration": 37,
    "start_time": "2023-01-18T08:02:14.127Z"
   },
   {
    "duration": 16,
    "start_time": "2023-01-18T08:02:14.166Z"
   },
   {
    "duration": 44,
    "start_time": "2023-01-18T08:02:14.185Z"
   },
   {
    "duration": 36,
    "start_time": "2023-01-18T08:02:14.231Z"
   },
   {
    "duration": 36,
    "start_time": "2023-01-18T08:02:14.270Z"
   },
   {
    "duration": 18,
    "start_time": "2023-01-18T08:02:14.308Z"
   },
   {
    "duration": 245,
    "start_time": "2023-01-18T08:02:14.328Z"
   },
   {
    "duration": 8,
    "start_time": "2023-01-18T08:02:14.574Z"
   },
   {
    "duration": 733,
    "start_time": "2023-01-18T08:02:14.584Z"
   },
   {
    "duration": 22,
    "start_time": "2023-01-18T08:02:15.319Z"
   },
   {
    "duration": 0,
    "start_time": "2023-01-18T08:02:15.342Z"
   },
   {
    "duration": 7,
    "start_time": "2023-01-18T08:02:36.326Z"
   },
   {
    "duration": 18,
    "start_time": "2023-01-18T08:02:45.810Z"
   },
   {
    "duration": 6,
    "start_time": "2023-01-18T08:03:17.967Z"
   },
   {
    "duration": 254,
    "start_time": "2023-01-18T11:58:33.688Z"
   },
   {
    "duration": 206,
    "start_time": "2023-01-18T11:58:38.890Z"
   },
   {
    "duration": 239,
    "start_time": "2023-01-18T11:58:53.291Z"
   },
   {
    "duration": 12,
    "start_time": "2023-01-18T12:03:45.269Z"
   },
   {
    "duration": 14,
    "start_time": "2023-01-18T12:04:20.527Z"
   },
   {
    "duration": 16,
    "start_time": "2023-01-18T12:13:45.898Z"
   },
   {
    "duration": 12,
    "start_time": "2023-01-18T12:13:49.004Z"
   },
   {
    "duration": 3,
    "start_time": "2023-01-18T12:13:51.081Z"
   },
   {
    "duration": 57,
    "start_time": "2023-01-18T12:13:51.086Z"
   },
   {
    "duration": 18,
    "start_time": "2023-01-18T12:13:51.145Z"
   },
   {
    "duration": 25,
    "start_time": "2023-01-18T12:13:51.165Z"
   },
   {
    "duration": 1105,
    "start_time": "2023-01-18T12:13:51.194Z"
   },
   {
    "duration": 6,
    "start_time": "2023-01-18T12:13:52.302Z"
   },
   {
    "duration": 32,
    "start_time": "2023-01-18T12:13:52.310Z"
   },
   {
    "duration": 12,
    "start_time": "2023-01-18T12:13:52.344Z"
   },
   {
    "duration": 16,
    "start_time": "2023-01-18T12:13:52.358Z"
   },
   {
    "duration": 14,
    "start_time": "2023-01-18T12:13:52.377Z"
   },
   {
    "duration": 9,
    "start_time": "2023-01-18T12:13:52.393Z"
   },
   {
    "duration": 14,
    "start_time": "2023-01-18T12:13:52.404Z"
   },
   {
    "duration": 21,
    "start_time": "2023-01-18T12:13:52.421Z"
   },
   {
    "duration": 21,
    "start_time": "2023-01-18T12:13:52.445Z"
   },
   {
    "duration": 8,
    "start_time": "2023-01-18T12:13:52.467Z"
   },
   {
    "duration": 21,
    "start_time": "2023-01-18T12:13:52.477Z"
   },
   {
    "duration": 9,
    "start_time": "2023-01-18T12:13:52.501Z"
   },
   {
    "duration": 255,
    "start_time": "2023-01-18T12:13:52.512Z"
   },
   {
    "duration": 5,
    "start_time": "2023-01-18T12:13:52.769Z"
   },
   {
    "duration": 19,
    "start_time": "2023-01-18T12:13:52.776Z"
   },
   {
    "duration": 691,
    "start_time": "2023-01-18T12:13:52.797Z"
   },
   {
    "duration": 13,
    "start_time": "2023-01-18T12:13:53.490Z"
   },
   {
    "duration": 17,
    "start_time": "2023-01-18T12:14:01.655Z"
   },
   {
    "duration": 11,
    "start_time": "2023-01-18T12:15:39.224Z"
   },
   {
    "duration": 16,
    "start_time": "2023-01-18T12:18:37.516Z"
   },
   {
    "duration": 18,
    "start_time": "2023-01-18T12:18:49.324Z"
   },
   {
    "duration": 699,
    "start_time": "2023-01-18T12:18:53.103Z"
   },
   {
    "duration": 21,
    "start_time": "2023-01-18T12:19:23.701Z"
   },
   {
    "duration": 12,
    "start_time": "2023-01-18T12:19:33.574Z"
   },
   {
    "duration": 13,
    "start_time": "2023-01-18T12:29:34.570Z"
   },
   {
    "duration": 18,
    "start_time": "2023-01-18T12:31:57.825Z"
   },
   {
    "duration": 21,
    "start_time": "2023-01-18T12:32:06.813Z"
   },
   {
    "duration": 10,
    "start_time": "2023-01-18T12:45:55.172Z"
   },
   {
    "duration": 13,
    "start_time": "2023-01-18T12:46:10.420Z"
   },
   {
    "duration": 17,
    "start_time": "2023-01-18T12:59:44.941Z"
   },
   {
    "duration": 14,
    "start_time": "2023-01-18T12:59:54.202Z"
   },
   {
    "duration": 16,
    "start_time": "2023-01-18T13:06:29.352Z"
   },
   {
    "duration": 17,
    "start_time": "2023-01-18T13:08:24.012Z"
   },
   {
    "duration": 14,
    "start_time": "2023-01-18T13:08:29.492Z"
   },
   {
    "duration": 6,
    "start_time": "2023-01-18T13:09:47.720Z"
   },
   {
    "duration": 18,
    "start_time": "2023-01-18T13:09:56.934Z"
   },
   {
    "duration": 14,
    "start_time": "2023-01-18T13:10:07.863Z"
   },
   {
    "duration": 33,
    "start_time": "2023-01-18T13:10:21.800Z"
   },
   {
    "duration": 5,
    "start_time": "2023-01-18T13:10:41.006Z"
   },
   {
    "duration": 237,
    "start_time": "2023-01-18T13:10:54.088Z"
   },
   {
    "duration": 4,
    "start_time": "2023-01-18T13:11:01.720Z"
   },
   {
    "duration": 93,
    "start_time": "2023-01-18T13:11:01.726Z"
   },
   {
    "duration": 14,
    "start_time": "2023-01-18T13:11:01.821Z"
   },
   {
    "duration": 62,
    "start_time": "2023-01-18T13:11:01.839Z"
   },
   {
    "duration": 1088,
    "start_time": "2023-01-18T13:11:01.903Z"
   },
   {
    "duration": 8,
    "start_time": "2023-01-18T13:11:02.995Z"
   },
   {
    "duration": 16,
    "start_time": "2023-01-18T13:11:03.006Z"
   },
   {
    "duration": 14,
    "start_time": "2023-01-18T13:11:03.024Z"
   },
   {
    "duration": 20,
    "start_time": "2023-01-18T13:11:03.041Z"
   },
   {
    "duration": 19,
    "start_time": "2023-01-18T13:11:03.064Z"
   },
   {
    "duration": 14,
    "start_time": "2023-01-18T13:11:03.085Z"
   },
   {
    "duration": 14,
    "start_time": "2023-01-18T13:11:03.102Z"
   },
   {
    "duration": 19,
    "start_time": "2023-01-18T13:11:03.118Z"
   },
   {
    "duration": 31,
    "start_time": "2023-01-18T13:11:03.139Z"
   },
   {
    "duration": 11,
    "start_time": "2023-01-18T13:11:03.172Z"
   },
   {
    "duration": 24,
    "start_time": "2023-01-18T13:11:03.186Z"
   },
   {
    "duration": 30,
    "start_time": "2023-01-18T13:11:03.212Z"
   },
   {
    "duration": 272,
    "start_time": "2023-01-18T13:11:03.245Z"
   },
   {
    "duration": 17,
    "start_time": "2023-01-18T13:11:03.520Z"
   },
   {
    "duration": 24,
    "start_time": "2023-01-18T13:11:03.539Z"
   },
   {
    "duration": 23,
    "start_time": "2023-01-18T13:11:03.564Z"
   },
   {
    "duration": 257,
    "start_time": "2023-01-18T13:11:03.589Z"
   },
   {
    "duration": 0,
    "start_time": "2023-01-18T13:11:03.849Z"
   },
   {
    "duration": 713,
    "start_time": "2023-01-18T13:11:11.927Z"
   },
   {
    "duration": 845,
    "start_time": "2023-01-18T13:11:19.804Z"
   },
   {
    "duration": 681,
    "start_time": "2023-01-18T13:11:27.141Z"
   },
   {
    "duration": 15,
    "start_time": "2023-01-18T13:12:08.588Z"
   },
   {
    "duration": 14,
    "start_time": "2023-01-18T13:12:24.673Z"
   },
   {
    "duration": 663,
    "start_time": "2023-01-18T13:19:20.791Z"
   },
   {
    "duration": 574,
    "start_time": "2023-01-18T13:19:36.512Z"
   },
   {
    "duration": 586,
    "start_time": "2023-01-18T13:19:43.765Z"
   },
   {
    "duration": 495,
    "start_time": "2023-01-18T13:19:53.686Z"
   },
   {
    "duration": 10,
    "start_time": "2023-01-19T05:09:51.275Z"
   },
   {
    "duration": 3,
    "start_time": "2023-01-19T05:18:23.880Z"
   },
   {
    "duration": 49,
    "start_time": "2023-01-19T05:18:23.885Z"
   },
   {
    "duration": 13,
    "start_time": "2023-01-19T05:18:23.936Z"
   },
   {
    "duration": 15,
    "start_time": "2023-01-19T05:18:23.951Z"
   },
   {
    "duration": 948,
    "start_time": "2023-01-19T05:18:23.968Z"
   },
   {
    "duration": 5,
    "start_time": "2023-01-19T05:18:24.918Z"
   },
   {
    "duration": 27,
    "start_time": "2023-01-19T05:18:24.925Z"
   },
   {
    "duration": 13,
    "start_time": "2023-01-19T05:18:24.954Z"
   },
   {
    "duration": 33,
    "start_time": "2023-01-19T05:18:24.969Z"
   },
   {
    "duration": 26,
    "start_time": "2023-01-19T05:18:25.004Z"
   },
   {
    "duration": 15,
    "start_time": "2023-01-19T05:18:25.032Z"
   },
   {
    "duration": 22,
    "start_time": "2023-01-19T05:18:25.048Z"
   },
   {
    "duration": 17,
    "start_time": "2023-01-19T05:18:25.072Z"
   },
   {
    "duration": 25,
    "start_time": "2023-01-19T05:18:25.091Z"
   },
   {
    "duration": 22,
    "start_time": "2023-01-19T05:18:25.118Z"
   },
   {
    "duration": 15,
    "start_time": "2023-01-19T05:18:25.142Z"
   },
   {
    "duration": 22,
    "start_time": "2023-01-19T05:18:25.159Z"
   },
   {
    "duration": 181,
    "start_time": "2023-01-19T05:18:25.183Z"
   },
   {
    "duration": 6,
    "start_time": "2023-01-19T05:18:25.365Z"
   },
   {
    "duration": 46,
    "start_time": "2023-01-19T05:18:25.373Z"
   },
   {
    "duration": 474,
    "start_time": "2023-01-19T05:18:25.421Z"
   },
   {
    "duration": 13,
    "start_time": "2023-01-19T05:18:25.896Z"
   },
   {
    "duration": 842,
    "start_time": "2023-01-19T06:20:48.172Z"
   },
   {
    "duration": 27,
    "start_time": "2023-01-19T06:20:56.764Z"
   },
   {
    "duration": 25,
    "start_time": "2023-01-19T06:28:11.042Z"
   },
   {
    "duration": 5,
    "start_time": "2023-01-19T06:37:22.320Z"
   },
   {
    "duration": 24,
    "start_time": "2023-01-19T06:37:32.322Z"
   },
   {
    "duration": 3,
    "start_time": "2023-01-19T06:37:36.867Z"
   },
   {
    "duration": 55,
    "start_time": "2023-01-19T06:37:36.872Z"
   },
   {
    "duration": 12,
    "start_time": "2023-01-19T06:37:36.929Z"
   },
   {
    "duration": 18,
    "start_time": "2023-01-19T06:37:36.943Z"
   },
   {
    "duration": 710,
    "start_time": "2023-01-19T06:37:36.963Z"
   },
   {
    "duration": 5,
    "start_time": "2023-01-19T06:37:37.675Z"
   },
   {
    "duration": 11,
    "start_time": "2023-01-19T06:37:37.682Z"
   },
   {
    "duration": 4,
    "start_time": "2023-01-19T06:37:37.694Z"
   },
   {
    "duration": 6,
    "start_time": "2023-01-19T06:37:37.701Z"
   },
   {
    "duration": 28,
    "start_time": "2023-01-19T06:37:37.709Z"
   },
   {
    "duration": 6,
    "start_time": "2023-01-19T06:37:37.738Z"
   },
   {
    "duration": 7,
    "start_time": "2023-01-19T06:37:37.745Z"
   },
   {
    "duration": 4,
    "start_time": "2023-01-19T06:37:37.754Z"
   },
   {
    "duration": 14,
    "start_time": "2023-01-19T06:37:37.760Z"
   },
   {
    "duration": 6,
    "start_time": "2023-01-19T06:37:37.775Z"
   },
   {
    "duration": 12,
    "start_time": "2023-01-19T06:37:37.783Z"
   },
   {
    "duration": 40,
    "start_time": "2023-01-19T06:37:37.797Z"
   },
   {
    "duration": 176,
    "start_time": "2023-01-19T06:37:37.839Z"
   },
   {
    "duration": 5,
    "start_time": "2023-01-19T06:37:38.016Z"
   },
   {
    "duration": 26,
    "start_time": "2023-01-19T06:37:38.023Z"
   },
   {
    "duration": 4,
    "start_time": "2023-01-19T06:37:38.051Z"
   },
   {
    "duration": 27,
    "start_time": "2023-01-19T06:37:38.057Z"
   },
   {
    "duration": 0,
    "start_time": "2023-01-19T06:37:38.086Z"
   },
   {
    "duration": 645,
    "start_time": "2023-01-19T06:37:49.172Z"
   },
   {
    "duration": 103,
    "start_time": "2023-01-19T06:38:02.078Z"
   },
   {
    "duration": 7,
    "start_time": "2023-01-19T06:38:33.423Z"
   },
   {
    "duration": 11,
    "start_time": "2023-01-19T06:39:38.561Z"
   },
   {
    "duration": 444,
    "start_time": "2023-01-19T06:39:43.670Z"
   },
   {
    "duration": 12,
    "start_time": "2023-01-19T06:43:27.975Z"
   },
   {
    "duration": 10,
    "start_time": "2023-01-19T06:43:55.462Z"
   },
   {
    "duration": 10,
    "start_time": "2023-01-19T06:44:08.105Z"
   },
   {
    "duration": 3,
    "start_time": "2023-01-19T06:44:10.197Z"
   },
   {
    "duration": 52,
    "start_time": "2023-01-19T06:44:10.202Z"
   },
   {
    "duration": 12,
    "start_time": "2023-01-19T06:44:10.255Z"
   },
   {
    "duration": 16,
    "start_time": "2023-01-19T06:44:10.269Z"
   },
   {
    "duration": 752,
    "start_time": "2023-01-19T06:44:10.287Z"
   },
   {
    "duration": 5,
    "start_time": "2023-01-19T06:44:11.041Z"
   },
   {
    "duration": 14,
    "start_time": "2023-01-19T06:44:11.047Z"
   },
   {
    "duration": 4,
    "start_time": "2023-01-19T06:44:11.063Z"
   },
   {
    "duration": 7,
    "start_time": "2023-01-19T06:44:11.068Z"
   },
   {
    "duration": 6,
    "start_time": "2023-01-19T06:44:11.076Z"
   },
   {
    "duration": 6,
    "start_time": "2023-01-19T06:44:11.083Z"
   },
   {
    "duration": 7,
    "start_time": "2023-01-19T06:44:11.091Z"
   },
   {
    "duration": 39,
    "start_time": "2023-01-19T06:44:11.099Z"
   },
   {
    "duration": 14,
    "start_time": "2023-01-19T06:44:11.141Z"
   },
   {
    "duration": 6,
    "start_time": "2023-01-19T06:44:11.157Z"
   },
   {
    "duration": 16,
    "start_time": "2023-01-19T06:44:11.164Z"
   },
   {
    "duration": 5,
    "start_time": "2023-01-19T06:44:11.181Z"
   },
   {
    "duration": 207,
    "start_time": "2023-01-19T06:44:11.188Z"
   },
   {
    "duration": 5,
    "start_time": "2023-01-19T06:44:11.397Z"
   },
   {
    "duration": 22,
    "start_time": "2023-01-19T06:44:11.403Z"
   },
   {
    "duration": 18,
    "start_time": "2023-01-19T06:44:11.427Z"
   },
   {
    "duration": 0,
    "start_time": "2023-01-19T06:44:11.447Z"
   },
   {
    "duration": 0,
    "start_time": "2023-01-19T06:44:11.448Z"
   },
   {
    "duration": 10,
    "start_time": "2023-01-19T06:47:38.397Z"
   },
   {
    "duration": 6,
    "start_time": "2023-01-19T06:47:41.022Z"
   },
   {
    "duration": 284,
    "start_time": "2023-01-19T06:47:55.212Z"
   },
   {
    "duration": 288,
    "start_time": "2023-01-19T06:49:24.041Z"
   },
   {
    "duration": 93,
    "start_time": "2023-01-19T07:03:33.027Z"
   },
   {
    "duration": 6,
    "start_time": "2023-01-19T07:03:38.394Z"
   },
   {
    "duration": 9,
    "start_time": "2023-01-19T07:06:14.559Z"
   },
   {
    "duration": 298,
    "start_time": "2023-01-19T07:08:09.716Z"
   },
   {
    "duration": 320,
    "start_time": "2023-01-19T07:09:53.423Z"
   },
   {
    "duration": 333,
    "start_time": "2023-01-19T07:18:01.349Z"
   },
   {
    "duration": 511,
    "start_time": "2023-01-19T07:18:06.209Z"
   },
   {
    "duration": 268,
    "start_time": "2023-01-19T07:18:24.722Z"
   },
   {
    "duration": 8,
    "start_time": "2023-01-19T07:23:59.456Z"
   },
   {
    "duration": 325,
    "start_time": "2023-01-19T07:24:01.406Z"
   },
   {
    "duration": 8,
    "start_time": "2023-01-19T07:24:12.310Z"
   },
   {
    "duration": 318,
    "start_time": "2023-01-19T07:24:13.748Z"
   },
   {
    "duration": 3,
    "start_time": "2023-01-19T07:24:18.882Z"
   },
   {
    "duration": 65,
    "start_time": "2023-01-19T07:24:18.887Z"
   },
   {
    "duration": 12,
    "start_time": "2023-01-19T07:24:18.954Z"
   },
   {
    "duration": 44,
    "start_time": "2023-01-19T07:24:18.968Z"
   },
   {
    "duration": 766,
    "start_time": "2023-01-19T07:24:19.014Z"
   },
   {
    "duration": 5,
    "start_time": "2023-01-19T07:24:19.782Z"
   },
   {
    "duration": 36,
    "start_time": "2023-01-19T07:24:19.788Z"
   },
   {
    "duration": 23,
    "start_time": "2023-01-19T07:24:19.826Z"
   },
   {
    "duration": 24,
    "start_time": "2023-01-19T07:24:19.851Z"
   },
   {
    "duration": 34,
    "start_time": "2023-01-19T07:24:19.877Z"
   },
   {
    "duration": 18,
    "start_time": "2023-01-19T07:24:19.913Z"
   },
   {
    "duration": 34,
    "start_time": "2023-01-19T07:24:19.933Z"
   },
   {
    "duration": 14,
    "start_time": "2023-01-19T07:24:19.968Z"
   },
   {
    "duration": 37,
    "start_time": "2023-01-19T07:24:19.985Z"
   },
   {
    "duration": 30,
    "start_time": "2023-01-19T07:24:20.024Z"
   },
   {
    "duration": 42,
    "start_time": "2023-01-19T07:24:20.056Z"
   },
   {
    "duration": 16,
    "start_time": "2023-01-19T07:24:20.099Z"
   },
   {
    "duration": 185,
    "start_time": "2023-01-19T07:24:20.117Z"
   },
   {
    "duration": 6,
    "start_time": "2023-01-19T07:24:20.304Z"
   },
   {
    "duration": 28,
    "start_time": "2023-01-19T07:24:20.312Z"
   },
   {
    "duration": 296,
    "start_time": "2023-01-19T07:24:20.342Z"
   },
   {
    "duration": 9,
    "start_time": "2023-01-19T07:24:20.640Z"
   },
   {
    "duration": 425,
    "start_time": "2023-01-19T07:24:20.651Z"
   },
   {
    "duration": 9,
    "start_time": "2023-01-19T07:24:47.937Z"
   },
   {
    "duration": 496,
    "start_time": "2023-01-19T07:24:49.218Z"
   },
   {
    "duration": 113,
    "start_time": "2023-01-19T07:43:25.025Z"
   },
   {
    "duration": 119,
    "start_time": "2023-01-19T07:43:44.452Z"
   },
   {
    "duration": 112,
    "start_time": "2023-01-19T07:44:40.878Z"
   },
   {
    "duration": 283,
    "start_time": "2023-01-19T07:44:57.739Z"
   },
   {
    "duration": 375,
    "start_time": "2023-01-19T07:45:11.230Z"
   },
   {
    "duration": 325,
    "start_time": "2023-01-19T07:45:20.608Z"
   },
   {
    "duration": 151,
    "start_time": "2023-01-19T07:47:35.118Z"
   },
   {
    "duration": 149,
    "start_time": "2023-01-19T07:47:42.813Z"
   },
   {
    "duration": 327,
    "start_time": "2023-01-19T07:47:46.611Z"
   },
   {
    "duration": 1304,
    "start_time": "2023-01-19T07:48:52.882Z"
   },
   {
    "duration": 337,
    "start_time": "2023-01-19T07:49:23.248Z"
   },
   {
    "duration": 138,
    "start_time": "2023-01-19T08:07:26.020Z"
   },
   {
    "duration": 148,
    "start_time": "2023-01-19T08:07:31.172Z"
   },
   {
    "duration": 178,
    "start_time": "2023-01-19T08:07:46.785Z"
   },
   {
    "duration": 180,
    "start_time": "2023-01-19T08:08:31.300Z"
   },
   {
    "duration": 11,
    "start_time": "2023-01-19T08:10:33.940Z"
   },
   {
    "duration": 11,
    "start_time": "2023-01-19T08:10:38.834Z"
   },
   {
    "duration": 5,
    "start_time": "2023-01-19T08:10:41.518Z"
   },
   {
    "duration": 5,
    "start_time": "2023-01-19T08:10:49.288Z"
   },
   {
    "duration": 6,
    "start_time": "2023-01-19T08:11:02.286Z"
   },
   {
    "duration": 5,
    "start_time": "2023-01-19T08:11:15.884Z"
   },
   {
    "duration": 1294,
    "start_time": "2023-01-19T11:21:06.084Z"
   },
   {
    "duration": 194,
    "start_time": "2023-01-19T11:21:07.380Z"
   },
   {
    "duration": 17,
    "start_time": "2023-01-19T11:21:07.576Z"
   },
   {
    "duration": 27,
    "start_time": "2023-01-19T11:21:07.594Z"
   },
   {
    "duration": 818,
    "start_time": "2023-01-19T11:21:07.623Z"
   },
   {
    "duration": 5,
    "start_time": "2023-01-19T11:21:08.443Z"
   },
   {
    "duration": 19,
    "start_time": "2023-01-19T11:21:08.450Z"
   },
   {
    "duration": 9,
    "start_time": "2023-01-19T11:21:08.471Z"
   },
   {
    "duration": 11,
    "start_time": "2023-01-19T11:21:08.481Z"
   },
   {
    "duration": 25,
    "start_time": "2023-01-19T11:21:08.494Z"
   },
   {
    "duration": 14,
    "start_time": "2023-01-19T11:21:08.520Z"
   },
   {
    "duration": 16,
    "start_time": "2023-01-19T11:21:08.536Z"
   },
   {
    "duration": 27,
    "start_time": "2023-01-19T11:21:08.554Z"
   },
   {
    "duration": 23,
    "start_time": "2023-01-19T11:21:08.584Z"
   },
   {
    "duration": 7,
    "start_time": "2023-01-19T11:21:08.609Z"
   },
   {
    "duration": 23,
    "start_time": "2023-01-19T11:21:08.618Z"
   },
   {
    "duration": 25,
    "start_time": "2023-01-19T11:21:08.643Z"
   },
   {
    "duration": 176,
    "start_time": "2023-01-19T11:21:08.670Z"
   },
   {
    "duration": 5,
    "start_time": "2023-01-19T11:21:08.848Z"
   },
   {
    "duration": 27,
    "start_time": "2023-01-19T11:21:08.855Z"
   },
   {
    "duration": 328,
    "start_time": "2023-01-19T11:21:08.884Z"
   },
   {
    "duration": 8,
    "start_time": "2023-01-19T11:21:09.213Z"
   },
   {
    "duration": 345,
    "start_time": "2023-01-19T11:21:09.223Z"
   },
   {
    "duration": 426,
    "start_time": "2023-01-19T11:21:09.570Z"
   },
   {
    "duration": 172,
    "start_time": "2023-01-19T11:21:09.998Z"
   },
   {
    "duration": 187,
    "start_time": "2023-01-19T11:21:10.172Z"
   },
   {
    "duration": 4,
    "start_time": "2023-01-19T11:21:10.361Z"
   },
   {
    "duration": 23,
    "start_time": "2023-01-19T11:21:10.367Z"
   },
   {
    "duration": 102,
    "start_time": "2023-01-19T11:21:33.450Z"
   },
   {
    "duration": 199,
    "start_time": "2023-01-19T11:24:12.743Z"
   },
   {
    "duration": 15,
    "start_time": "2023-01-19T11:24:45.001Z"
   },
   {
    "duration": 16,
    "start_time": "2023-01-19T11:25:36.188Z"
   },
   {
    "duration": 9,
    "start_time": "2023-01-19T11:27:53.369Z"
   },
   {
    "duration": 12,
    "start_time": "2023-01-19T11:27:54.209Z"
   },
   {
    "duration": 14,
    "start_time": "2023-01-19T11:27:54.239Z"
   },
   {
    "duration": 707,
    "start_time": "2023-01-19T11:27:54.265Z"
   },
   {
    "duration": 8,
    "start_time": "2023-01-19T11:27:54.979Z"
   },
   {
    "duration": 11,
    "start_time": "2023-01-19T11:27:54.996Z"
   },
   {
    "duration": 23,
    "start_time": "2023-01-19T11:27:55.014Z"
   },
   {
    "duration": 12,
    "start_time": "2023-01-19T11:27:55.051Z"
   },
   {
    "duration": 12,
    "start_time": "2023-01-19T11:27:55.077Z"
   },
   {
    "duration": 10,
    "start_time": "2023-01-19T11:27:55.100Z"
   },
   {
    "duration": 3,
    "start_time": "2023-01-19T11:27:55.139Z"
   },
   {
    "duration": 4,
    "start_time": "2023-01-19T11:27:55.154Z"
   },
   {
    "duration": 13,
    "start_time": "2023-01-19T11:27:55.177Z"
   },
   {
    "duration": 6,
    "start_time": "2023-01-19T11:27:55.198Z"
   },
   {
    "duration": 22,
    "start_time": "2023-01-19T11:27:55.399Z"
   },
   {
    "duration": 11,
    "start_time": "2023-01-19T11:27:55.444Z"
   },
   {
    "duration": 167,
    "start_time": "2023-01-19T11:27:55.475Z"
   },
   {
    "duration": 5,
    "start_time": "2023-01-19T11:27:55.924Z"
   },
   {
    "duration": 14,
    "start_time": "2023-01-19T11:27:55.946Z"
   },
   {
    "duration": 300,
    "start_time": "2023-01-19T11:27:56.291Z"
   },
   {
    "duration": 6,
    "start_time": "2023-01-19T11:27:56.905Z"
   },
   {
    "duration": 324,
    "start_time": "2023-01-19T11:27:57.080Z"
   },
   {
    "duration": 333,
    "start_time": "2023-01-19T11:27:57.571Z"
   },
   {
    "duration": 0,
    "start_time": "2023-01-19T11:27:59.597Z"
   },
   {
    "duration": 0,
    "start_time": "2023-01-19T11:27:59.599Z"
   },
   {
    "duration": 0,
    "start_time": "2023-01-19T11:27:59.601Z"
   },
   {
    "duration": 0,
    "start_time": "2023-01-19T11:27:59.603Z"
   },
   {
    "duration": 0,
    "start_time": "2023-01-19T11:27:59.604Z"
   },
   {
    "duration": 0,
    "start_time": "2023-01-19T11:27:59.638Z"
   },
   {
    "duration": 0,
    "start_time": "2023-01-19T11:27:59.640Z"
   },
   {
    "duration": 0,
    "start_time": "2023-01-19T11:27:59.642Z"
   },
   {
    "duration": 0,
    "start_time": "2023-01-19T11:27:59.644Z"
   },
   {
    "duration": 0,
    "start_time": "2023-01-19T11:27:59.646Z"
   },
   {
    "duration": 0,
    "start_time": "2023-01-19T11:27:59.648Z"
   },
   {
    "duration": 0,
    "start_time": "2023-01-19T11:27:59.650Z"
   },
   {
    "duration": 0,
    "start_time": "2023-01-19T11:27:59.651Z"
   },
   {
    "duration": 0,
    "start_time": "2023-01-19T11:27:59.653Z"
   },
   {
    "duration": 0,
    "start_time": "2023-01-19T11:27:59.655Z"
   },
   {
    "duration": 0,
    "start_time": "2023-01-19T11:27:59.656Z"
   },
   {
    "duration": 0,
    "start_time": "2023-01-19T11:27:59.658Z"
   },
   {
    "duration": 0,
    "start_time": "2023-01-19T11:27:59.660Z"
   },
   {
    "duration": 0,
    "start_time": "2023-01-19T11:27:59.661Z"
   },
   {
    "duration": 0,
    "start_time": "2023-01-19T11:27:59.663Z"
   },
   {
    "duration": 0,
    "start_time": "2023-01-19T11:27:59.665Z"
   },
   {
    "duration": 0,
    "start_time": "2023-01-19T11:27:59.667Z"
   },
   {
    "duration": 0,
    "start_time": "2023-01-19T11:27:59.669Z"
   },
   {
    "duration": 0,
    "start_time": "2023-01-19T11:27:59.671Z"
   },
   {
    "duration": 0,
    "start_time": "2023-01-19T11:27:59.673Z"
   },
   {
    "duration": 0,
    "start_time": "2023-01-19T11:27:59.675Z"
   },
   {
    "duration": 0,
    "start_time": "2023-01-19T11:27:59.737Z"
   },
   {
    "duration": 0,
    "start_time": "2023-01-19T11:27:59.740Z"
   },
   {
    "duration": 0,
    "start_time": "2023-01-19T11:27:59.742Z"
   },
   {
    "duration": 3,
    "start_time": "2023-01-19T11:28:05.247Z"
   },
   {
    "duration": 48,
    "start_time": "2023-01-19T11:28:06.155Z"
   },
   {
    "duration": 12,
    "start_time": "2023-01-19T11:28:06.867Z"
   },
   {
    "duration": 16,
    "start_time": "2023-01-19T11:28:07.910Z"
   },
   {
    "duration": 780,
    "start_time": "2023-01-19T11:28:08.248Z"
   },
   {
    "duration": 9,
    "start_time": "2023-01-19T11:28:09.030Z"
   },
   {
    "duration": 25,
    "start_time": "2023-01-19T11:28:09.041Z"
   },
   {
    "duration": 33,
    "start_time": "2023-01-19T11:28:09.068Z"
   },
   {
    "duration": 21,
    "start_time": "2023-01-19T11:28:09.103Z"
   },
   {
    "duration": 7,
    "start_time": "2023-01-19T11:28:09.132Z"
   },
   {
    "duration": 6,
    "start_time": "2023-01-19T11:28:09.186Z"
   },
   {
    "duration": 5,
    "start_time": "2023-01-19T11:28:09.258Z"
   },
   {
    "duration": 5,
    "start_time": "2023-01-19T11:28:09.309Z"
   },
   {
    "duration": 16,
    "start_time": "2023-01-19T11:28:09.388Z"
   },
   {
    "duration": 6,
    "start_time": "2023-01-19T11:28:09.483Z"
   },
   {
    "duration": 14,
    "start_time": "2023-01-19T11:28:09.559Z"
   },
   {
    "duration": 7,
    "start_time": "2023-01-19T11:28:09.643Z"
   },
   {
    "duration": 185,
    "start_time": "2023-01-19T11:28:09.733Z"
   },
   {
    "duration": 18,
    "start_time": "2023-01-19T11:28:09.920Z"
   },
   {
    "duration": 13,
    "start_time": "2023-01-19T11:28:09.940Z"
   },
   {
    "duration": 311,
    "start_time": "2023-01-19T11:28:09.955Z"
   },
   {
    "duration": 9,
    "start_time": "2023-01-19T11:28:10.269Z"
   },
   {
    "duration": 383,
    "start_time": "2023-01-19T11:28:10.280Z"
   },
   {
    "duration": 351,
    "start_time": "2023-01-19T11:28:10.666Z"
   },
   {
    "duration": 189,
    "start_time": "2023-01-19T11:28:11.020Z"
   },
   {
    "duration": 177,
    "start_time": "2023-01-19T11:28:11.212Z"
   },
   {
    "duration": 5,
    "start_time": "2023-01-19T11:28:11.391Z"
   },
   {
    "duration": 11,
    "start_time": "2023-01-19T11:28:11.398Z"
   },
   {
    "duration": 219,
    "start_time": "2023-01-19T11:28:11.411Z"
   },
   {
    "duration": 8,
    "start_time": "2023-01-19T11:29:28.133Z"
   },
   {
    "duration": 203,
    "start_time": "2023-01-19T11:29:56.286Z"
   },
   {
    "duration": 215,
    "start_time": "2023-01-19T11:30:29.178Z"
   },
   {
    "duration": 239,
    "start_time": "2023-01-19T11:30:46.340Z"
   },
   {
    "duration": 270,
    "start_time": "2023-01-19T11:31:43.260Z"
   },
   {
    "duration": 57,
    "start_time": "2023-01-19T11:31:54.500Z"
   },
   {
    "duration": 230,
    "start_time": "2023-01-19T11:31:57.475Z"
   },
   {
    "duration": 9,
    "start_time": "2023-01-19T11:46:12.285Z"
   },
   {
    "duration": 9,
    "start_time": "2023-01-19T11:46:22.232Z"
   },
   {
    "duration": 10,
    "start_time": "2023-01-19T11:49:58.311Z"
   },
   {
    "duration": 13,
    "start_time": "2023-01-19T11:50:05.410Z"
   },
   {
    "duration": 46,
    "start_time": "2023-01-19T11:50:29.779Z"
   },
   {
    "duration": 12,
    "start_time": "2023-01-19T11:50:35.039Z"
   },
   {
    "duration": 10,
    "start_time": "2023-01-19T11:51:04.440Z"
   },
   {
    "duration": 12,
    "start_time": "2023-01-19T11:51:13.368Z"
   },
   {
    "duration": 10,
    "start_time": "2023-01-19T11:55:49.597Z"
   },
   {
    "duration": 13,
    "start_time": "2023-01-19T11:56:07.305Z"
   },
   {
    "duration": 13,
    "start_time": "2023-01-19T11:56:33.469Z"
   },
   {
    "duration": 1002,
    "start_time": "2023-01-19T12:01:52.771Z"
   },
   {
    "duration": 13,
    "start_time": "2023-01-19T12:02:10.969Z"
   },
   {
    "duration": 156829,
    "start_time": "2023-01-19T12:04:52.390Z"
   },
   {
    "duration": 20,
    "start_time": "2023-01-19T12:07:29.287Z"
   },
   {
    "duration": 20,
    "start_time": "2023-01-19T12:07:29.309Z"
   },
   {
    "duration": 25,
    "start_time": "2023-01-19T12:07:29.331Z"
   },
   {
    "duration": 149319,
    "start_time": "2023-01-19T12:08:08.304Z"
   },
   {
    "duration": 15,
    "start_time": "2023-01-19T12:10:37.653Z"
   },
   {
    "duration": 14,
    "start_time": "2023-01-19T12:10:37.670Z"
   },
   {
    "duration": 10,
    "start_time": "2023-01-19T12:56:12.261Z"
   },
   {
    "duration": 71,
    "start_time": "2023-01-19T14:57:56.964Z"
   },
   {
    "duration": 89,
    "start_time": "2023-01-19T14:58:08.300Z"
   },
   {
    "duration": 0,
    "start_time": "2023-01-19T14:58:08.393Z"
   },
   {
    "duration": 0,
    "start_time": "2023-01-19T14:58:08.394Z"
   },
   {
    "duration": 0,
    "start_time": "2023-01-19T14:58:08.395Z"
   },
   {
    "duration": 0,
    "start_time": "2023-01-19T14:58:08.397Z"
   },
   {
    "duration": 0,
    "start_time": "2023-01-19T14:58:08.398Z"
   },
   {
    "duration": 0,
    "start_time": "2023-01-19T14:58:08.399Z"
   },
   {
    "duration": 0,
    "start_time": "2023-01-19T14:58:08.401Z"
   },
   {
    "duration": 0,
    "start_time": "2023-01-19T14:58:08.402Z"
   },
   {
    "duration": 0,
    "start_time": "2023-01-19T14:58:08.403Z"
   },
   {
    "duration": 0,
    "start_time": "2023-01-19T14:58:08.405Z"
   },
   {
    "duration": 0,
    "start_time": "2023-01-19T14:58:08.406Z"
   },
   {
    "duration": 0,
    "start_time": "2023-01-19T14:58:08.407Z"
   },
   {
    "duration": 0,
    "start_time": "2023-01-19T14:58:08.408Z"
   },
   {
    "duration": 0,
    "start_time": "2023-01-19T14:58:08.409Z"
   },
   {
    "duration": 0,
    "start_time": "2023-01-19T14:58:08.410Z"
   },
   {
    "duration": 0,
    "start_time": "2023-01-19T14:58:08.411Z"
   },
   {
    "duration": 0,
    "start_time": "2023-01-19T14:58:08.412Z"
   },
   {
    "duration": 0,
    "start_time": "2023-01-19T14:58:08.413Z"
   },
   {
    "duration": 0,
    "start_time": "2023-01-19T14:58:08.414Z"
   },
   {
    "duration": 0,
    "start_time": "2023-01-19T14:58:08.415Z"
   },
   {
    "duration": 0,
    "start_time": "2023-01-19T14:58:08.415Z"
   },
   {
    "duration": 0,
    "start_time": "2023-01-19T14:58:08.417Z"
   },
   {
    "duration": 0,
    "start_time": "2023-01-19T14:58:08.417Z"
   },
   {
    "duration": 0,
    "start_time": "2023-01-19T14:58:08.419Z"
   },
   {
    "duration": 0,
    "start_time": "2023-01-19T14:58:08.420Z"
   },
   {
    "duration": 0,
    "start_time": "2023-01-19T14:58:08.421Z"
   },
   {
    "duration": 0,
    "start_time": "2023-01-19T14:58:08.422Z"
   },
   {
    "duration": 0,
    "start_time": "2023-01-19T14:58:08.423Z"
   },
   {
    "duration": 0,
    "start_time": "2023-01-19T14:58:08.424Z"
   },
   {
    "duration": 0,
    "start_time": "2023-01-19T14:58:08.425Z"
   },
   {
    "duration": 0,
    "start_time": "2023-01-19T14:58:08.426Z"
   },
   {
    "duration": 0,
    "start_time": "2023-01-19T14:58:08.427Z"
   },
   {
    "duration": 1540,
    "start_time": "2023-01-19T14:58:30.636Z"
   },
   {
    "duration": 113,
    "start_time": "2023-01-19T14:58:32.179Z"
   },
   {
    "duration": 17,
    "start_time": "2023-01-19T14:58:32.294Z"
   },
   {
    "duration": 20,
    "start_time": "2023-01-19T14:58:32.313Z"
   },
   {
    "duration": 969,
    "start_time": "2023-01-19T14:58:32.336Z"
   },
   {
    "duration": 7,
    "start_time": "2023-01-19T14:58:33.307Z"
   },
   {
    "duration": 14,
    "start_time": "2023-01-19T14:58:33.316Z"
   },
   {
    "duration": 21,
    "start_time": "2023-01-19T14:58:33.332Z"
   },
   {
    "duration": 8,
    "start_time": "2023-01-19T14:58:33.356Z"
   },
   {
    "duration": 15,
    "start_time": "2023-01-19T14:58:33.367Z"
   },
   {
    "duration": 7,
    "start_time": "2023-01-19T14:58:33.384Z"
   },
   {
    "duration": 10,
    "start_time": "2023-01-19T14:58:33.393Z"
   },
   {
    "duration": 8,
    "start_time": "2023-01-19T14:58:33.405Z"
   },
   {
    "duration": 39,
    "start_time": "2023-01-19T14:58:33.415Z"
   },
   {
    "duration": 9,
    "start_time": "2023-01-19T14:58:33.456Z"
   },
   {
    "duration": 39,
    "start_time": "2023-01-19T14:58:33.467Z"
   },
   {
    "duration": 7,
    "start_time": "2023-01-19T14:58:33.508Z"
   },
   {
    "duration": 276,
    "start_time": "2023-01-19T14:58:33.517Z"
   },
   {
    "duration": 6,
    "start_time": "2023-01-19T14:58:33.795Z"
   },
   {
    "duration": 18,
    "start_time": "2023-01-19T14:58:33.803Z"
   },
   {
    "duration": 421,
    "start_time": "2023-01-19T14:58:33.825Z"
   },
   {
    "duration": 11,
    "start_time": "2023-01-19T14:58:34.248Z"
   },
   {
    "duration": 443,
    "start_time": "2023-01-19T14:58:34.261Z"
   },
   {
    "duration": 566,
    "start_time": "2023-01-19T14:58:34.706Z"
   },
   {
    "duration": 218,
    "start_time": "2023-01-19T14:58:35.278Z"
   },
   {
    "duration": 214,
    "start_time": "2023-01-19T14:58:35.498Z"
   },
   {
    "duration": 6,
    "start_time": "2023-01-19T14:58:35.714Z"
   },
   {
    "duration": 24,
    "start_time": "2023-01-19T14:58:35.724Z"
   },
   {
    "duration": 330,
    "start_time": "2023-01-19T14:58:35.753Z"
   },
   {
    "duration": 20,
    "start_time": "2023-01-19T14:58:36.086Z"
   },
   {
    "duration": 30,
    "start_time": "2023-01-19T14:58:36.108Z"
   },
   {
    "duration": 49,
    "start_time": "2023-01-19T14:58:36.144Z"
   },
   {
    "duration": 14,
    "start_time": "2023-01-19T14:58:36.195Z"
   },
   {
    "duration": 16,
    "start_time": "2023-01-19T14:58:48.030Z"
   },
   {
    "duration": 17,
    "start_time": "2023-01-19T14:58:57.886Z"
   },
   {
    "duration": 272,
    "start_time": "2023-01-19T15:41:01.935Z"
   },
   {
    "duration": 6,
    "start_time": "2023-01-19T15:42:38.505Z"
   },
   {
    "duration": 266,
    "start_time": "2023-01-19T15:43:25.413Z"
   },
   {
    "duration": 110,
    "start_time": "2023-01-19T15:43:42.815Z"
   },
   {
    "duration": 4,
    "start_time": "2023-01-19T15:43:56.178Z"
   },
   {
    "duration": 243,
    "start_time": "2023-01-19T15:44:28.476Z"
   },
   {
    "duration": 6,
    "start_time": "2023-01-19T15:44:53.733Z"
   },
   {
    "duration": 28,
    "start_time": "2023-01-19T15:47:18.649Z"
   },
   {
    "duration": 123,
    "start_time": "2023-01-19T15:49:02.409Z"
   },
   {
    "duration": 11,
    "start_time": "2023-01-19T15:49:58.509Z"
   },
   {
    "duration": 22,
    "start_time": "2023-01-19T15:50:19.921Z"
   },
   {
    "duration": 10,
    "start_time": "2023-01-19T17:28:45.869Z"
   },
   {
    "duration": 11,
    "start_time": "2023-01-19T17:30:08.973Z"
   },
   {
    "duration": 25,
    "start_time": "2023-01-19T17:31:06.040Z"
   },
   {
    "duration": 8,
    "start_time": "2023-01-19T17:40:05.793Z"
   },
   {
    "duration": 3,
    "start_time": "2023-01-19T17:40:09.679Z"
   },
   {
    "duration": 52,
    "start_time": "2023-01-19T17:40:09.683Z"
   },
   {
    "duration": 12,
    "start_time": "2023-01-19T17:40:09.737Z"
   },
   {
    "duration": 27,
    "start_time": "2023-01-19T17:40:09.751Z"
   },
   {
    "duration": 816,
    "start_time": "2023-01-19T17:40:09.780Z"
   },
   {
    "duration": 5,
    "start_time": "2023-01-19T17:40:10.598Z"
   },
   {
    "duration": 13,
    "start_time": "2023-01-19T17:40:10.604Z"
   },
   {
    "duration": 5,
    "start_time": "2023-01-19T17:40:10.619Z"
   },
   {
    "duration": 30,
    "start_time": "2023-01-19T17:40:10.627Z"
   },
   {
    "duration": 13,
    "start_time": "2023-01-19T17:40:10.658Z"
   },
   {
    "duration": 16,
    "start_time": "2023-01-19T17:40:10.672Z"
   },
   {
    "duration": 11,
    "start_time": "2023-01-19T17:40:10.690Z"
   },
   {
    "duration": 10,
    "start_time": "2023-01-19T17:40:10.703Z"
   },
   {
    "duration": 16,
    "start_time": "2023-01-19T17:40:10.715Z"
   },
   {
    "duration": 8,
    "start_time": "2023-01-19T17:40:10.733Z"
   },
   {
    "duration": 20,
    "start_time": "2023-01-19T17:40:10.742Z"
   },
   {
    "duration": 8,
    "start_time": "2023-01-19T17:40:10.766Z"
   },
   {
    "duration": 172,
    "start_time": "2023-01-19T17:40:10.775Z"
   },
   {
    "duration": 14,
    "start_time": "2023-01-19T17:40:10.952Z"
   },
   {
    "duration": 22,
    "start_time": "2023-01-19T17:40:10.968Z"
   },
   {
    "duration": 304,
    "start_time": "2023-01-19T17:40:10.992Z"
   },
   {
    "duration": 7,
    "start_time": "2023-01-19T17:40:11.298Z"
   },
   {
    "duration": 343,
    "start_time": "2023-01-19T17:40:11.307Z"
   },
   {
    "duration": 335,
    "start_time": "2023-01-19T17:40:11.654Z"
   },
   {
    "duration": 180,
    "start_time": "2023-01-19T17:40:11.990Z"
   },
   {
    "duration": 171,
    "start_time": "2023-01-19T17:40:12.173Z"
   },
   {
    "duration": 7,
    "start_time": "2023-01-19T17:40:12.346Z"
   },
   {
    "duration": 19,
    "start_time": "2023-01-19T17:40:12.355Z"
   },
   {
    "duration": 236,
    "start_time": "2023-01-19T17:40:12.376Z"
   },
   {
    "duration": 10,
    "start_time": "2023-01-19T17:40:12.613Z"
   },
   {
    "duration": 10,
    "start_time": "2023-01-19T17:40:12.624Z"
   },
   {
    "duration": 12,
    "start_time": "2023-01-19T17:40:12.656Z"
   },
   {
    "duration": 12,
    "start_time": "2023-01-19T17:40:12.669Z"
   },
   {
    "duration": 9,
    "start_time": "2023-01-19T17:40:12.682Z"
   },
   {
    "duration": 8,
    "start_time": "2023-01-19T17:40:12.692Z"
   },
   {
    "duration": 8,
    "start_time": "2023-01-19T17:40:12.702Z"
   },
   {
    "duration": 212,
    "start_time": "2023-01-19T17:40:12.711Z"
   },
   {
    "duration": 4,
    "start_time": "2023-01-19T17:40:12.925Z"
   },
   {
    "duration": 37,
    "start_time": "2023-01-19T17:40:12.931Z"
   },
   {
    "duration": 173,
    "start_time": "2023-01-19T17:40:12.970Z"
   },
   {
    "duration": 11,
    "start_time": "2023-01-19T17:40:13.145Z"
   },
   {
    "duration": 10,
    "start_time": "2023-01-19T17:40:13.166Z"
   },
   {
    "duration": 290,
    "start_time": "2023-01-19T17:40:13.178Z"
   },
   {
    "duration": 5,
    "start_time": "2023-01-19T17:40:13.469Z"
   },
   {
    "duration": 8,
    "start_time": "2023-01-19T17:40:13.475Z"
   },
   {
    "duration": 15,
    "start_time": "2023-01-19T17:40:13.484Z"
   },
   {
    "duration": 10,
    "start_time": "2023-01-19T17:40:24.586Z"
   },
   {
    "duration": 9,
    "start_time": "2023-01-19T17:49:18.629Z"
   },
   {
    "duration": 15,
    "start_time": "2023-01-19T18:13:23.505Z"
   },
   {
    "duration": 15,
    "start_time": "2023-01-19T18:13:29.003Z"
   },
   {
    "duration": 14,
    "start_time": "2023-01-19T18:13:35.128Z"
   },
   {
    "duration": 10,
    "start_time": "2023-01-20T07:40:58.486Z"
   },
   {
    "duration": 10,
    "start_time": "2023-01-20T07:41:41.379Z"
   },
   {
    "duration": 10,
    "start_time": "2023-01-20T07:42:33.138Z"
   },
   {
    "duration": 11,
    "start_time": "2023-01-20T07:42:38.320Z"
   },
   {
    "duration": 11,
    "start_time": "2023-01-20T07:42:42.263Z"
   },
   {
    "duration": 14,
    "start_time": "2023-01-20T07:42:50.392Z"
   },
   {
    "duration": 11,
    "start_time": "2023-01-20T07:42:56.875Z"
   },
   {
    "duration": 23,
    "start_time": "2023-01-20T08:02:45.805Z"
   },
   {
    "duration": 1214,
    "start_time": "2023-01-20T11:57:26.131Z"
   },
   {
    "duration": 205,
    "start_time": "2023-01-20T11:57:27.347Z"
   },
   {
    "duration": 15,
    "start_time": "2023-01-20T11:57:27.554Z"
   },
   {
    "duration": 30,
    "start_time": "2023-01-20T11:57:27.571Z"
   },
   {
    "duration": 836,
    "start_time": "2023-01-20T11:57:27.603Z"
   },
   {
    "duration": 6,
    "start_time": "2023-01-20T11:57:28.440Z"
   },
   {
    "duration": 29,
    "start_time": "2023-01-20T11:57:28.451Z"
   },
   {
    "duration": 5,
    "start_time": "2023-01-20T11:57:28.482Z"
   },
   {
    "duration": 15,
    "start_time": "2023-01-20T11:57:28.488Z"
   },
   {
    "duration": 27,
    "start_time": "2023-01-20T11:57:28.505Z"
   },
   {
    "duration": 11,
    "start_time": "2023-01-20T11:57:28.535Z"
   },
   {
    "duration": 9,
    "start_time": "2023-01-20T11:57:28.548Z"
   },
   {
    "duration": 9,
    "start_time": "2023-01-20T11:57:28.559Z"
   },
   {
    "duration": 20,
    "start_time": "2023-01-20T11:57:28.570Z"
   },
   {
    "duration": 7,
    "start_time": "2023-01-20T11:57:28.592Z"
   },
   {
    "duration": 29,
    "start_time": "2023-01-20T11:57:28.600Z"
   },
   {
    "duration": 6,
    "start_time": "2023-01-20T11:57:28.631Z"
   },
   {
    "duration": 200,
    "start_time": "2023-01-20T11:57:28.639Z"
   },
   {
    "duration": 5,
    "start_time": "2023-01-20T11:57:28.841Z"
   },
   {
    "duration": 22,
    "start_time": "2023-01-20T11:57:28.848Z"
   },
   {
    "duration": 355,
    "start_time": "2023-01-20T11:57:28.873Z"
   },
   {
    "duration": 9,
    "start_time": "2023-01-20T11:57:29.230Z"
   },
   {
    "duration": 367,
    "start_time": "2023-01-20T11:57:29.241Z"
   },
   {
    "duration": 418,
    "start_time": "2023-01-20T11:57:29.610Z"
   },
   {
    "duration": 183,
    "start_time": "2023-01-20T11:57:30.030Z"
   },
   {
    "duration": 185,
    "start_time": "2023-01-20T11:57:30.221Z"
   },
   {
    "duration": 15,
    "start_time": "2023-01-20T11:57:30.408Z"
   },
   {
    "duration": 28,
    "start_time": "2023-01-20T11:57:30.426Z"
   },
   {
    "duration": 267,
    "start_time": "2023-01-20T11:57:30.456Z"
   },
   {
    "duration": 10,
    "start_time": "2023-01-20T11:57:30.725Z"
   },
   {
    "duration": 19,
    "start_time": "2023-01-20T11:57:30.736Z"
   },
   {
    "duration": 19,
    "start_time": "2023-01-20T11:57:30.757Z"
   },
   {
    "duration": 35,
    "start_time": "2023-01-20T11:57:30.778Z"
   },
   {
    "duration": 50,
    "start_time": "2023-01-20T11:57:30.815Z"
   },
   {
    "duration": 20,
    "start_time": "2023-01-20T11:57:30.867Z"
   },
   {
    "duration": 30,
    "start_time": "2023-01-20T11:57:30.888Z"
   },
   {
    "duration": 191,
    "start_time": "2023-01-20T11:57:30.919Z"
   },
   {
    "duration": 5,
    "start_time": "2023-01-20T11:57:31.112Z"
   },
   {
    "duration": 52,
    "start_time": "2023-01-20T11:57:31.120Z"
   },
   {
    "duration": 203,
    "start_time": "2023-01-20T11:57:31.174Z"
   },
   {
    "duration": 5,
    "start_time": "2023-01-20T11:57:31.378Z"
   },
   {
    "duration": 26,
    "start_time": "2023-01-20T11:57:31.385Z"
   },
   {
    "duration": 198,
    "start_time": "2023-01-20T11:57:31.413Z"
   },
   {
    "duration": 9,
    "start_time": "2023-01-20T11:57:31.613Z"
   },
   {
    "duration": 18,
    "start_time": "2023-01-20T11:57:31.624Z"
   },
   {
    "duration": 35,
    "start_time": "2023-01-20T11:57:31.644Z"
   },
   {
    "duration": 35,
    "start_time": "2023-01-20T11:57:31.681Z"
   },
   {
    "duration": 25,
    "start_time": "2023-01-20T11:57:31.718Z"
   },
   {
    "duration": 1253,
    "start_time": "2023-01-20T13:08:27.295Z"
   },
   {
    "duration": 55,
    "start_time": "2023-01-20T13:08:28.550Z"
   },
   {
    "duration": 14,
    "start_time": "2023-01-20T13:08:28.607Z"
   },
   {
    "duration": 17,
    "start_time": "2023-01-20T13:08:28.624Z"
   },
   {
    "duration": 809,
    "start_time": "2023-01-20T13:08:28.643Z"
   },
   {
    "duration": 6,
    "start_time": "2023-01-20T13:08:29.453Z"
   },
   {
    "duration": 13,
    "start_time": "2023-01-20T13:08:29.460Z"
   },
   {
    "duration": 4,
    "start_time": "2023-01-20T13:08:29.475Z"
   },
   {
    "duration": 7,
    "start_time": "2023-01-20T13:08:29.480Z"
   },
   {
    "duration": 5,
    "start_time": "2023-01-20T13:08:29.490Z"
   },
   {
    "duration": 6,
    "start_time": "2023-01-20T13:08:29.520Z"
   },
   {
    "duration": 7,
    "start_time": "2023-01-20T13:08:29.527Z"
   },
   {
    "duration": 9,
    "start_time": "2023-01-20T13:08:29.536Z"
   },
   {
    "duration": 20,
    "start_time": "2023-01-20T13:08:29.547Z"
   },
   {
    "duration": 6,
    "start_time": "2023-01-20T13:08:29.569Z"
   },
   {
    "duration": 15,
    "start_time": "2023-01-20T13:08:29.576Z"
   },
   {
    "duration": 30,
    "start_time": "2023-01-20T13:08:29.592Z"
   },
   {
    "duration": 188,
    "start_time": "2023-01-20T13:08:29.623Z"
   },
   {
    "duration": 9,
    "start_time": "2023-01-20T13:08:29.813Z"
   },
   {
    "duration": 24,
    "start_time": "2023-01-20T13:08:29.824Z"
   },
   {
    "duration": 367,
    "start_time": "2023-01-20T13:08:29.849Z"
   },
   {
    "duration": 9,
    "start_time": "2023-01-20T13:08:30.218Z"
   },
   {
    "duration": 368,
    "start_time": "2023-01-20T13:08:30.229Z"
   },
   {
    "duration": 436,
    "start_time": "2023-01-20T13:08:30.599Z"
   },
   {
    "duration": 179,
    "start_time": "2023-01-20T13:08:31.037Z"
   },
   {
    "duration": 179,
    "start_time": "2023-01-20T13:08:31.218Z"
   },
   {
    "duration": 5,
    "start_time": "2023-01-20T13:08:31.399Z"
   },
   {
    "duration": 31,
    "start_time": "2023-01-20T13:08:31.408Z"
   },
   {
    "duration": 255,
    "start_time": "2023-01-20T13:08:31.441Z"
   },
   {
    "duration": 10,
    "start_time": "2023-01-20T13:08:31.697Z"
   },
   {
    "duration": 25,
    "start_time": "2023-01-20T13:08:31.709Z"
   },
   {
    "duration": 30,
    "start_time": "2023-01-20T13:08:31.736Z"
   },
   {
    "duration": 31,
    "start_time": "2023-01-20T13:08:31.768Z"
   },
   {
    "duration": 41,
    "start_time": "2023-01-20T13:08:31.801Z"
   },
   {
    "duration": 34,
    "start_time": "2023-01-20T13:08:31.844Z"
   },
   {
    "duration": 25,
    "start_time": "2023-01-20T13:08:31.880Z"
   },
   {
    "duration": 206,
    "start_time": "2023-01-20T13:08:31.907Z"
   },
   {
    "duration": 4,
    "start_time": "2023-01-20T13:08:32.115Z"
   },
   {
    "duration": 20,
    "start_time": "2023-01-20T13:08:32.121Z"
   },
   {
    "duration": 186,
    "start_time": "2023-01-20T13:08:32.143Z"
   },
   {
    "duration": 8,
    "start_time": "2023-01-20T13:08:32.331Z"
   },
   {
    "duration": 19,
    "start_time": "2023-01-20T13:08:32.341Z"
   },
   {
    "duration": 224,
    "start_time": "2023-01-20T13:08:32.362Z"
   },
   {
    "duration": 5,
    "start_time": "2023-01-20T13:08:32.588Z"
   },
   {
    "duration": 9,
    "start_time": "2023-01-20T13:08:32.595Z"
   },
   {
    "duration": 26,
    "start_time": "2023-01-20T13:08:32.606Z"
   },
   {
    "duration": 16,
    "start_time": "2023-01-20T13:08:32.635Z"
   },
   {
    "duration": 21,
    "start_time": "2023-01-20T13:08:32.653Z"
   },
   {
    "duration": 29,
    "start_time": "2023-01-20T13:35:38.500Z"
   },
   {
    "duration": 174,
    "start_time": "2023-01-20T13:38:27.260Z"
   },
   {
    "duration": 1106,
    "start_time": "2023-01-20T13:38:38.124Z"
   },
   {
    "duration": 52,
    "start_time": "2023-01-20T13:38:39.232Z"
   },
   {
    "duration": 14,
    "start_time": "2023-01-20T13:38:39.286Z"
   },
   {
    "duration": 16,
    "start_time": "2023-01-20T13:38:39.303Z"
   },
   {
    "duration": 746,
    "start_time": "2023-01-20T13:38:39.321Z"
   },
   {
    "duration": 5,
    "start_time": "2023-01-20T13:38:40.069Z"
   },
   {
    "duration": 15,
    "start_time": "2023-01-20T13:38:40.076Z"
   },
   {
    "duration": 7,
    "start_time": "2023-01-20T13:38:40.093Z"
   },
   {
    "duration": 19,
    "start_time": "2023-01-20T13:38:40.102Z"
   },
   {
    "duration": 4,
    "start_time": "2023-01-20T13:38:40.124Z"
   },
   {
    "duration": 7,
    "start_time": "2023-01-20T13:38:40.129Z"
   },
   {
    "duration": 11,
    "start_time": "2023-01-20T13:38:40.138Z"
   },
   {
    "duration": 6,
    "start_time": "2023-01-20T13:38:40.150Z"
   },
   {
    "duration": 15,
    "start_time": "2023-01-20T13:38:40.157Z"
   },
   {
    "duration": 6,
    "start_time": "2023-01-20T13:38:40.174Z"
   },
   {
    "duration": 14,
    "start_time": "2023-01-20T13:38:40.182Z"
   },
   {
    "duration": 27,
    "start_time": "2023-01-20T13:38:40.197Z"
   },
   {
    "duration": 226,
    "start_time": "2023-01-20T13:38:40.226Z"
   },
   {
    "duration": 4,
    "start_time": "2023-01-20T13:38:40.454Z"
   },
   {
    "duration": 16,
    "start_time": "2023-01-20T13:38:40.460Z"
   },
   {
    "duration": 309,
    "start_time": "2023-01-20T13:38:40.478Z"
   },
   {
    "duration": 8,
    "start_time": "2023-01-20T13:38:40.789Z"
   },
   {
    "duration": 334,
    "start_time": "2023-01-20T13:38:40.799Z"
   },
   {
    "duration": 421,
    "start_time": "2023-01-20T13:38:41.135Z"
   },
   {
    "duration": 219,
    "start_time": "2023-01-20T13:38:41.558Z"
   },
   {
    "duration": 183,
    "start_time": "2023-01-20T13:38:41.779Z"
   },
   {
    "duration": 6,
    "start_time": "2023-01-20T13:38:41.963Z"
   },
   {
    "duration": 6,
    "start_time": "2023-01-20T13:38:41.972Z"
   },
   {
    "duration": 261,
    "start_time": "2023-01-20T13:38:41.980Z"
   },
   {
    "duration": 10,
    "start_time": "2023-01-20T13:38:42.243Z"
   },
   {
    "duration": 10,
    "start_time": "2023-01-20T13:38:42.255Z"
   },
   {
    "duration": 15,
    "start_time": "2023-01-20T13:38:42.267Z"
   },
   {
    "duration": 13,
    "start_time": "2023-01-20T13:38:42.284Z"
   },
   {
    "duration": 29,
    "start_time": "2023-01-20T13:38:42.299Z"
   },
   {
    "duration": 19,
    "start_time": "2023-01-20T13:38:42.329Z"
   },
   {
    "duration": 10,
    "start_time": "2023-01-20T13:38:42.350Z"
   },
   {
    "duration": 219,
    "start_time": "2023-01-20T13:38:42.362Z"
   },
   {
    "duration": 6,
    "start_time": "2023-01-20T13:38:42.583Z"
   },
   {
    "duration": 34,
    "start_time": "2023-01-20T13:38:42.591Z"
   },
   {
    "duration": 214,
    "start_time": "2023-01-20T13:38:42.627Z"
   },
   {
    "duration": 5,
    "start_time": "2023-01-20T13:38:42.843Z"
   },
   {
    "duration": 11,
    "start_time": "2023-01-20T13:38:42.849Z"
   },
   {
    "duration": 216,
    "start_time": "2023-01-20T13:38:42.862Z"
   },
   {
    "duration": 4,
    "start_time": "2023-01-20T13:38:43.080Z"
   },
   {
    "duration": 7,
    "start_time": "2023-01-20T13:38:43.086Z"
   },
   {
    "duration": 32,
    "start_time": "2023-01-20T13:38:43.095Z"
   },
   {
    "duration": 11,
    "start_time": "2023-01-20T13:38:43.129Z"
   },
   {
    "duration": 25,
    "start_time": "2023-01-20T13:38:43.142Z"
   },
   {
    "duration": 169,
    "start_time": "2023-01-20T13:39:17.871Z"
   },
   {
    "duration": 1188,
    "start_time": "2023-01-20T14:56:56.137Z"
   },
   {
    "duration": 779,
    "start_time": "2023-01-20T14:56:57.418Z"
   },
   {
    "duration": 6,
    "start_time": "2023-01-20T14:56:58.198Z"
   },
   {
    "duration": 23,
    "start_time": "2023-01-20T14:56:58.205Z"
   },
   {
    "duration": 4,
    "start_time": "2023-01-20T14:56:58.229Z"
   },
   {
    "duration": 8,
    "start_time": "2023-01-20T14:56:58.235Z"
   },
   {
    "duration": 7,
    "start_time": "2023-01-20T14:56:58.246Z"
   },
   {
    "duration": 7,
    "start_time": "2023-01-20T14:56:58.255Z"
   },
   {
    "duration": 10,
    "start_time": "2023-01-20T14:56:58.264Z"
   },
   {
    "duration": 12,
    "start_time": "2023-01-20T14:56:58.275Z"
   },
   {
    "duration": 35,
    "start_time": "2023-01-20T14:56:58.289Z"
   },
   {
    "duration": 8,
    "start_time": "2023-01-20T14:56:58.326Z"
   },
   {
    "duration": 19,
    "start_time": "2023-01-20T14:56:58.336Z"
   },
   {
    "duration": 7,
    "start_time": "2023-01-20T14:56:58.357Z"
   },
   {
    "duration": 134,
    "start_time": "2023-01-20T14:56:58.366Z"
   },
   {
    "duration": 0,
    "start_time": "2023-01-20T14:56:58.503Z"
   },
   {
    "duration": 0,
    "start_time": "2023-01-20T14:56:58.504Z"
   },
   {
    "duration": 0,
    "start_time": "2023-01-20T14:56:58.505Z"
   },
   {
    "duration": 0,
    "start_time": "2023-01-20T14:56:58.506Z"
   },
   {
    "duration": 0,
    "start_time": "2023-01-20T14:56:58.507Z"
   },
   {
    "duration": 0,
    "start_time": "2023-01-20T14:56:58.508Z"
   },
   {
    "duration": 0,
    "start_time": "2023-01-20T14:56:58.508Z"
   },
   {
    "duration": 0,
    "start_time": "2023-01-20T14:56:58.509Z"
   },
   {
    "duration": 0,
    "start_time": "2023-01-20T14:56:58.510Z"
   },
   {
    "duration": 0,
    "start_time": "2023-01-20T14:56:58.510Z"
   },
   {
    "duration": 1,
    "start_time": "2023-01-20T14:56:58.520Z"
   },
   {
    "duration": 0,
    "start_time": "2023-01-20T14:56:58.522Z"
   },
   {
    "duration": 0,
    "start_time": "2023-01-20T14:56:58.523Z"
   },
   {
    "duration": 0,
    "start_time": "2023-01-20T14:56:58.525Z"
   },
   {
    "duration": 0,
    "start_time": "2023-01-20T14:56:58.525Z"
   },
   {
    "duration": 0,
    "start_time": "2023-01-20T14:56:58.526Z"
   },
   {
    "duration": 0,
    "start_time": "2023-01-20T14:56:58.527Z"
   },
   {
    "duration": 0,
    "start_time": "2023-01-20T14:56:58.529Z"
   },
   {
    "duration": 0,
    "start_time": "2023-01-20T14:56:58.530Z"
   },
   {
    "duration": 0,
    "start_time": "2023-01-20T14:56:58.531Z"
   },
   {
    "duration": 0,
    "start_time": "2023-01-20T14:56:58.532Z"
   },
   {
    "duration": 0,
    "start_time": "2023-01-20T14:56:58.533Z"
   },
   {
    "duration": 0,
    "start_time": "2023-01-20T14:56:58.534Z"
   },
   {
    "duration": 1,
    "start_time": "2023-01-20T14:56:58.534Z"
   },
   {
    "duration": 0,
    "start_time": "2023-01-20T14:56:58.536Z"
   },
   {
    "duration": 0,
    "start_time": "2023-01-20T14:56:58.537Z"
   },
   {
    "duration": 0,
    "start_time": "2023-01-20T14:56:58.538Z"
   },
   {
    "duration": 0,
    "start_time": "2023-01-20T14:56:58.539Z"
   },
   {
    "duration": 0,
    "start_time": "2023-01-20T14:56:58.540Z"
   },
   {
    "duration": 0,
    "start_time": "2023-01-20T14:56:58.541Z"
   },
   {
    "duration": 0,
    "start_time": "2023-01-20T14:56:58.542Z"
   },
   {
    "duration": 7,
    "start_time": "2023-01-20T14:57:43.126Z"
   },
   {
    "duration": 198,
    "start_time": "2023-01-20T14:57:44.250Z"
   },
   {
    "duration": 193,
    "start_time": "2023-01-20T14:57:59.955Z"
   },
   {
    "duration": 167,
    "start_time": "2023-01-20T14:58:01.491Z"
   },
   {
    "duration": 234,
    "start_time": "2023-01-20T14:58:32.828Z"
   },
   {
    "duration": 348,
    "start_time": "2023-01-20T14:58:40.583Z"
   },
   {
    "duration": 263,
    "start_time": "2023-01-20T14:58:48.578Z"
   },
   {
    "duration": 236,
    "start_time": "2023-01-20T14:58:57.878Z"
   },
   {
    "duration": 1181,
    "start_time": "2023-01-20T15:00:46.071Z"
   },
   {
    "duration": 54,
    "start_time": "2023-01-20T15:00:47.254Z"
   },
   {
    "duration": 17,
    "start_time": "2023-01-20T15:00:47.310Z"
   },
   {
    "duration": 34,
    "start_time": "2023-01-20T15:00:47.329Z"
   },
   {
    "duration": 890,
    "start_time": "2023-01-20T15:00:47.365Z"
   },
   {
    "duration": 7,
    "start_time": "2023-01-20T15:00:48.258Z"
   },
   {
    "duration": 34,
    "start_time": "2023-01-20T15:00:48.266Z"
   },
   {
    "duration": 21,
    "start_time": "2023-01-20T15:00:48.302Z"
   },
   {
    "duration": 29,
    "start_time": "2023-01-20T15:00:48.325Z"
   },
   {
    "duration": 12,
    "start_time": "2023-01-20T15:00:48.357Z"
   },
   {
    "duration": 15,
    "start_time": "2023-01-20T15:00:48.371Z"
   },
   {
    "duration": 33,
    "start_time": "2023-01-20T15:00:48.388Z"
   },
   {
    "duration": 13,
    "start_time": "2023-01-20T15:00:48.424Z"
   },
   {
    "duration": 23,
    "start_time": "2023-01-20T15:00:48.439Z"
   },
   {
    "duration": 6,
    "start_time": "2023-01-20T15:00:48.464Z"
   },
   {
    "duration": 14,
    "start_time": "2023-01-20T15:00:48.472Z"
   },
   {
    "duration": 5,
    "start_time": "2023-01-20T15:00:48.488Z"
   },
   {
    "duration": 233,
    "start_time": "2023-01-20T15:00:48.495Z"
   },
   {
    "duration": 7,
    "start_time": "2023-01-20T15:00:48.731Z"
   },
   {
    "duration": 27,
    "start_time": "2023-01-20T15:00:48.740Z"
   },
   {
    "duration": 322,
    "start_time": "2023-01-20T15:00:48.769Z"
   },
   {
    "duration": 9,
    "start_time": "2023-01-20T15:00:49.093Z"
   },
   {
    "duration": 383,
    "start_time": "2023-01-20T15:00:49.104Z"
   },
   {
    "duration": 418,
    "start_time": "2023-01-20T15:00:49.488Z"
   },
   {
    "duration": 192,
    "start_time": "2023-01-20T15:00:49.908Z"
   },
   {
    "duration": 196,
    "start_time": "2023-01-20T15:00:50.101Z"
   },
   {
    "duration": 5,
    "start_time": "2023-01-20T15:00:50.299Z"
   },
   {
    "duration": 24,
    "start_time": "2023-01-20T15:00:50.307Z"
   },
   {
    "duration": 255,
    "start_time": "2023-01-20T15:00:50.337Z"
   },
   {
    "duration": 13,
    "start_time": "2023-01-20T15:00:50.594Z"
   },
   {
    "duration": 50,
    "start_time": "2023-01-20T15:00:50.609Z"
   },
   {
    "duration": 29,
    "start_time": "2023-01-20T15:00:50.661Z"
   },
   {
    "duration": 19,
    "start_time": "2023-01-20T15:00:50.691Z"
   },
   {
    "duration": 33,
    "start_time": "2023-01-20T15:00:50.713Z"
   },
   {
    "duration": 12,
    "start_time": "2023-01-20T15:00:50.748Z"
   },
   {
    "duration": 31,
    "start_time": "2023-01-20T15:00:50.762Z"
   },
   {
    "duration": 196,
    "start_time": "2023-01-20T15:00:50.795Z"
   },
   {
    "duration": 5,
    "start_time": "2023-01-20T15:00:50.993Z"
   },
   {
    "duration": 27,
    "start_time": "2023-01-20T15:00:51.000Z"
   },
   {
    "duration": 196,
    "start_time": "2023-01-20T15:00:51.029Z"
   },
   {
    "duration": 8,
    "start_time": "2023-01-20T15:00:51.227Z"
   },
   {
    "duration": 44,
    "start_time": "2023-01-20T15:00:51.238Z"
   },
   {
    "duration": 201,
    "start_time": "2023-01-20T15:00:51.285Z"
   },
   {
    "duration": 6,
    "start_time": "2023-01-20T15:00:51.488Z"
   },
   {
    "duration": 35,
    "start_time": "2023-01-20T15:00:51.496Z"
   },
   {
    "duration": 34,
    "start_time": "2023-01-20T15:00:51.534Z"
   },
   {
    "duration": 13,
    "start_time": "2023-01-20T15:00:51.571Z"
   },
   {
    "duration": 46,
    "start_time": "2023-01-20T15:00:51.586Z"
   },
   {
    "duration": 50,
    "start_time": "2023-01-21T09:03:40.401Z"
   },
   {
    "duration": 7,
    "start_time": "2023-01-21T09:04:55.676Z"
   },
   {
    "duration": 6,
    "start_time": "2023-01-21T09:05:04.405Z"
   },
   {
    "duration": 1293,
    "start_time": "2023-01-21T15:18:50.873Z"
   },
   {
    "duration": 96,
    "start_time": "2023-01-21T15:18:52.168Z"
   },
   {
    "duration": 14,
    "start_time": "2023-01-21T15:18:52.266Z"
   },
   {
    "duration": 14,
    "start_time": "2023-01-21T15:18:52.282Z"
   },
   {
    "duration": 736,
    "start_time": "2023-01-21T15:18:52.298Z"
   },
   {
    "duration": 6,
    "start_time": "2023-01-21T15:18:53.036Z"
   },
   {
    "duration": 20,
    "start_time": "2023-01-21T15:18:53.043Z"
   },
   {
    "duration": 4,
    "start_time": "2023-01-21T15:18:53.065Z"
   },
   {
    "duration": 9,
    "start_time": "2023-01-21T15:18:53.071Z"
   },
   {
    "duration": 4,
    "start_time": "2023-01-21T15:18:53.083Z"
   },
   {
    "duration": 9,
    "start_time": "2023-01-21T15:18:53.088Z"
   },
   {
    "duration": 6,
    "start_time": "2023-01-21T15:18:53.099Z"
   },
   {
    "duration": 5,
    "start_time": "2023-01-21T15:18:53.107Z"
   },
   {
    "duration": 45,
    "start_time": "2023-01-21T15:18:53.113Z"
   },
   {
    "duration": 6,
    "start_time": "2023-01-21T15:18:53.160Z"
   },
   {
    "duration": 14,
    "start_time": "2023-01-21T15:18:53.167Z"
   },
   {
    "duration": 5,
    "start_time": "2023-01-21T15:18:53.183Z"
   },
   {
    "duration": 205,
    "start_time": "2023-01-21T15:18:53.189Z"
   },
   {
    "duration": 5,
    "start_time": "2023-01-21T15:18:53.395Z"
   },
   {
    "duration": 13,
    "start_time": "2023-01-21T15:18:53.402Z"
   },
   {
    "duration": 322,
    "start_time": "2023-01-21T15:18:53.416Z"
   },
   {
    "duration": 7,
    "start_time": "2023-01-21T15:18:53.740Z"
   },
   {
    "duration": 315,
    "start_time": "2023-01-21T15:18:53.749Z"
   },
   {
    "duration": 394,
    "start_time": "2023-01-21T15:18:54.066Z"
   },
   {
    "duration": 163,
    "start_time": "2023-01-21T15:18:54.462Z"
   },
   {
    "duration": 151,
    "start_time": "2023-01-21T15:18:54.626Z"
   },
   {
    "duration": 4,
    "start_time": "2023-01-21T15:18:54.778Z"
   },
   {
    "duration": 4,
    "start_time": "2023-01-21T15:18:54.785Z"
   },
   {
    "duration": 240,
    "start_time": "2023-01-21T15:18:54.790Z"
   },
   {
    "duration": 9,
    "start_time": "2023-01-21T15:18:55.032Z"
   },
   {
    "duration": 17,
    "start_time": "2023-01-21T15:18:55.043Z"
   },
   {
    "duration": 28,
    "start_time": "2023-01-21T15:18:55.062Z"
   },
   {
    "duration": 20,
    "start_time": "2023-01-21T15:18:55.092Z"
   },
   {
    "duration": 23,
    "start_time": "2023-01-21T15:18:55.113Z"
   },
   {
    "duration": 17,
    "start_time": "2023-01-21T15:18:55.138Z"
   },
   {
    "duration": 18,
    "start_time": "2023-01-21T15:18:55.157Z"
   },
   {
    "duration": 187,
    "start_time": "2023-01-21T15:18:55.177Z"
   },
   {
    "duration": 4,
    "start_time": "2023-01-21T15:18:55.366Z"
   },
   {
    "duration": 17,
    "start_time": "2023-01-21T15:18:55.371Z"
   },
   {
    "duration": 185,
    "start_time": "2023-01-21T15:18:55.390Z"
   },
   {
    "duration": 5,
    "start_time": "2023-01-21T15:18:55.576Z"
   },
   {
    "duration": 29,
    "start_time": "2023-01-21T15:18:55.582Z"
   },
   {
    "duration": 181,
    "start_time": "2023-01-21T15:18:55.612Z"
   },
   {
    "duration": 4,
    "start_time": "2023-01-21T15:18:55.795Z"
   },
   {
    "duration": 7,
    "start_time": "2023-01-21T15:18:55.800Z"
   },
   {
    "duration": 12,
    "start_time": "2023-01-21T15:18:55.808Z"
   },
   {
    "duration": 8,
    "start_time": "2023-01-21T15:18:55.822Z"
   },
   {
    "duration": 34,
    "start_time": "2023-01-21T15:18:55.831Z"
   },
   {
    "duration": 37,
    "start_time": "2023-01-21T15:19:16.254Z"
   },
   {
    "duration": 9,
    "start_time": "2023-01-21T15:55:23.095Z"
   },
   {
    "duration": 11,
    "start_time": "2023-01-21T16:31:39.108Z"
   },
   {
    "duration": 11,
    "start_time": "2023-01-21T16:31:42.664Z"
   },
   {
    "duration": 14,
    "start_time": "2023-01-21T16:31:45.071Z"
   },
   {
    "duration": 72,
    "start_time": "2023-01-21T16:31:52.949Z"
   },
   {
    "duration": 11,
    "start_time": "2023-01-21T16:31:54.583Z"
   },
   {
    "duration": 11,
    "start_time": "2023-01-21T16:31:58.284Z"
   },
   {
    "duration": 10,
    "start_time": "2023-01-21T16:32:00.484Z"
   },
   {
    "duration": 12,
    "start_time": "2023-01-21T16:32:02.862Z"
   },
   {
    "duration": 6,
    "start_time": "2023-01-21T16:32:06.651Z"
   },
   {
    "duration": 5,
    "start_time": "2023-01-21T16:32:09.632Z"
   },
   {
    "duration": 10,
    "start_time": "2023-01-21T16:32:12.057Z"
   },
   {
    "duration": 10,
    "start_time": "2023-01-21T16:32:18.694Z"
   },
   {
    "duration": 15,
    "start_time": "2023-01-21T16:32:59.623Z"
   },
   {
    "duration": 15,
    "start_time": "2023-01-21T16:33:07.799Z"
   },
   {
    "duration": 17,
    "start_time": "2023-01-21T17:04:23.942Z"
   },
   {
    "duration": 39,
    "start_time": "2023-01-21T17:04:29.462Z"
   },
   {
    "duration": 176,
    "start_time": "2023-01-21T17:13:01.509Z"
   },
   {
    "duration": 3,
    "start_time": "2023-01-21T17:13:52.334Z"
   },
   {
    "duration": 46,
    "start_time": "2023-01-21T17:13:52.340Z"
   },
   {
    "duration": 23,
    "start_time": "2023-01-21T17:13:52.388Z"
   },
   {
    "duration": 14,
    "start_time": "2023-01-21T17:13:52.412Z"
   },
   {
    "duration": 770,
    "start_time": "2023-01-21T17:13:52.428Z"
   },
   {
    "duration": 5,
    "start_time": "2023-01-21T17:13:53.201Z"
   },
   {
    "duration": 12,
    "start_time": "2023-01-21T17:13:53.207Z"
   },
   {
    "duration": 3,
    "start_time": "2023-01-21T17:13:53.221Z"
   },
   {
    "duration": 6,
    "start_time": "2023-01-21T17:13:53.226Z"
   },
   {
    "duration": 160,
    "start_time": "2023-01-21T17:14:05.298Z"
   },
   {
    "duration": 159,
    "start_time": "2023-01-21T17:14:27.159Z"
   },
   {
    "duration": 985,
    "start_time": "2023-01-21T18:06:06.691Z"
   },
   {
    "duration": 805,
    "start_time": "2023-01-21T18:06:32.563Z"
   },
   {
    "duration": 796,
    "start_time": "2023-01-21T18:06:41.411Z"
   },
   {
    "duration": 370,
    "start_time": "2023-01-21T18:06:55.907Z"
   },
   {
    "duration": 796,
    "start_time": "2023-01-21T18:07:01.299Z"
   },
   {
    "duration": 46,
    "start_time": "2023-01-22T16:33:49.139Z"
   },
   {
    "duration": 1292,
    "start_time": "2023-01-22T16:33:52.371Z"
   },
   {
    "duration": 103,
    "start_time": "2023-01-22T16:33:53.666Z"
   },
   {
    "duration": 27,
    "start_time": "2023-01-22T16:33:53.771Z"
   },
   {
    "duration": 14,
    "start_time": "2023-01-22T16:33:53.800Z"
   },
   {
    "duration": 777,
    "start_time": "2023-01-22T16:33:53.816Z"
   },
   {
    "duration": 5,
    "start_time": "2023-01-22T16:33:54.594Z"
   },
   {
    "duration": 17,
    "start_time": "2023-01-22T16:33:54.601Z"
   },
   {
    "duration": 10,
    "start_time": "2023-01-22T16:33:54.619Z"
   },
   {
    "duration": 17,
    "start_time": "2023-01-22T16:33:54.631Z"
   },
   {
    "duration": 11,
    "start_time": "2023-01-22T16:33:54.651Z"
   },
   {
    "duration": 16,
    "start_time": "2023-01-22T16:33:54.664Z"
   },
   {
    "duration": 10,
    "start_time": "2023-01-22T16:33:54.682Z"
   },
   {
    "duration": 6,
    "start_time": "2023-01-22T16:33:54.693Z"
   },
   {
    "duration": 16,
    "start_time": "2023-01-22T16:33:54.701Z"
   },
   {
    "duration": 6,
    "start_time": "2023-01-22T16:33:54.726Z"
   },
   {
    "duration": 14,
    "start_time": "2023-01-22T16:33:54.734Z"
   },
   {
    "duration": 5,
    "start_time": "2023-01-22T16:33:54.750Z"
   },
   {
    "duration": 208,
    "start_time": "2023-01-22T16:33:54.756Z"
   },
   {
    "duration": 5,
    "start_time": "2023-01-22T16:33:54.967Z"
   },
   {
    "duration": 11,
    "start_time": "2023-01-22T16:33:54.973Z"
   },
   {
    "duration": 14,
    "start_time": "2023-01-22T16:33:54.986Z"
   },
   {
    "duration": 361,
    "start_time": "2023-01-22T16:33:55.002Z"
   },
   {
    "duration": 8,
    "start_time": "2023-01-22T16:33:55.365Z"
   },
   {
    "duration": 336,
    "start_time": "2023-01-22T16:33:55.375Z"
   },
   {
    "duration": 423,
    "start_time": "2023-01-22T16:33:55.712Z"
   },
   {
    "duration": 172,
    "start_time": "2023-01-22T16:33:56.138Z"
   },
   {
    "duration": 197,
    "start_time": "2023-01-22T16:33:56.314Z"
   },
   {
    "duration": 13,
    "start_time": "2023-01-22T16:33:56.514Z"
   },
   {
    "duration": 4,
    "start_time": "2023-01-22T16:33:56.528Z"
   },
   {
    "duration": 250,
    "start_time": "2023-01-22T16:33:56.534Z"
   },
   {
    "duration": 11,
    "start_time": "2023-01-22T16:33:56.786Z"
   },
   {
    "duration": 13,
    "start_time": "2023-01-22T16:33:56.798Z"
   },
   {
    "duration": 10,
    "start_time": "2023-01-22T16:33:56.828Z"
   },
   {
    "duration": 13,
    "start_time": "2023-01-22T16:33:56.840Z"
   },
   {
    "duration": 14,
    "start_time": "2023-01-22T16:33:56.855Z"
   },
   {
    "duration": 13,
    "start_time": "2023-01-22T16:33:56.872Z"
   },
   {
    "duration": 48,
    "start_time": "2023-01-22T16:33:56.887Z"
   },
   {
    "duration": 181,
    "start_time": "2023-01-22T16:33:56.937Z"
   },
   {
    "duration": 12,
    "start_time": "2023-01-22T16:33:57.120Z"
   },
   {
    "duration": 22,
    "start_time": "2023-01-22T16:33:57.133Z"
   },
   {
    "duration": 194,
    "start_time": "2023-01-22T16:33:57.157Z"
   },
   {
    "duration": 6,
    "start_time": "2023-01-22T16:33:57.353Z"
   },
   {
    "duration": 21,
    "start_time": "2023-01-22T16:33:57.360Z"
   },
   {
    "duration": 228,
    "start_time": "2023-01-22T16:33:57.384Z"
   },
   {
    "duration": 14,
    "start_time": "2023-01-22T16:33:57.613Z"
   },
   {
    "duration": 15,
    "start_time": "2023-01-22T16:33:57.628Z"
   },
   {
    "duration": 12,
    "start_time": "2023-01-22T16:33:57.645Z"
   },
   {
    "duration": 9,
    "start_time": "2023-01-22T16:33:57.659Z"
   },
   {
    "duration": 20,
    "start_time": "2023-01-22T16:33:57.670Z"
   },
   {
    "duration": 110,
    "start_time": "2023-01-22T16:34:14.923Z"
   },
   {
    "duration": 295,
    "start_time": "2023-01-22T16:34:24.423Z"
   },
   {
    "duration": 136,
    "start_time": "2023-01-22T16:34:38.876Z"
   },
   {
    "duration": 261,
    "start_time": "2023-01-22T16:34:52.622Z"
   },
   {
    "duration": 157,
    "start_time": "2023-01-22T16:35:15.732Z"
   },
   {
    "duration": 4,
    "start_time": "2023-01-22T16:35:29.943Z"
   },
   {
    "duration": 66,
    "start_time": "2023-01-22T16:35:29.949Z"
   },
   {
    "duration": 30,
    "start_time": "2023-01-22T16:35:30.017Z"
   },
   {
    "duration": 25,
    "start_time": "2023-01-22T16:35:30.049Z"
   },
   {
    "duration": 899,
    "start_time": "2023-01-22T16:35:30.076Z"
   },
   {
    "duration": 5,
    "start_time": "2023-01-22T16:35:30.977Z"
   },
   {
    "duration": 29,
    "start_time": "2023-01-22T16:35:30.985Z"
   },
   {
    "duration": 17,
    "start_time": "2023-01-22T16:35:31.016Z"
   },
   {
    "duration": 22,
    "start_time": "2023-01-22T16:35:31.035Z"
   },
   {
    "duration": 12,
    "start_time": "2023-01-22T16:35:31.059Z"
   },
   {
    "duration": 24,
    "start_time": "2023-01-22T16:35:31.073Z"
   },
   {
    "duration": 18,
    "start_time": "2023-01-22T16:35:31.099Z"
   },
   {
    "duration": 13,
    "start_time": "2023-01-22T16:35:31.118Z"
   },
   {
    "duration": 26,
    "start_time": "2023-01-22T16:35:31.133Z"
   },
   {
    "duration": 13,
    "start_time": "2023-01-22T16:35:31.161Z"
   },
   {
    "duration": 22,
    "start_time": "2023-01-22T16:35:31.175Z"
   },
   {
    "duration": 6,
    "start_time": "2023-01-22T16:35:31.198Z"
   },
   {
    "duration": 192,
    "start_time": "2023-01-22T16:35:31.206Z"
   },
   {
    "duration": 203,
    "start_time": "2023-01-22T16:41:06.377Z"
   },
   {
    "duration": 923,
    "start_time": "2023-01-22T16:41:23.337Z"
   },
   {
    "duration": 209,
    "start_time": "2023-01-22T16:41:34.643Z"
   },
   {
    "duration": 40,
    "start_time": "2023-01-22T16:46:01.163Z"
   },
   {
    "duration": 130,
    "start_time": "2023-01-22T16:50:20.412Z"
   },
   {
    "duration": 4,
    "start_time": "2023-01-22T16:50:40.241Z"
   },
   {
    "duration": 55,
    "start_time": "2023-01-22T16:50:40.249Z"
   },
   {
    "duration": 30,
    "start_time": "2023-01-22T16:50:40.307Z"
   },
   {
    "duration": 24,
    "start_time": "2023-01-22T16:50:40.340Z"
   },
   {
    "duration": 964,
    "start_time": "2023-01-22T16:50:40.367Z"
   },
   {
    "duration": 5,
    "start_time": "2023-01-22T16:50:41.332Z"
   },
   {
    "duration": 26,
    "start_time": "2023-01-22T16:50:41.339Z"
   },
   {
    "duration": 5,
    "start_time": "2023-01-22T16:50:41.366Z"
   },
   {
    "duration": 6,
    "start_time": "2023-01-22T16:50:41.372Z"
   },
   {
    "duration": 5,
    "start_time": "2023-01-22T16:50:41.380Z"
   },
   {
    "duration": 9,
    "start_time": "2023-01-22T16:50:41.387Z"
   },
   {
    "duration": 7,
    "start_time": "2023-01-22T16:50:41.397Z"
   },
   {
    "duration": 26,
    "start_time": "2023-01-22T16:50:41.405Z"
   },
   {
    "duration": 28,
    "start_time": "2023-01-22T16:50:41.432Z"
   },
   {
    "duration": 7,
    "start_time": "2023-01-22T16:50:41.461Z"
   },
   {
    "duration": 21,
    "start_time": "2023-01-22T16:50:41.469Z"
   },
   {
    "duration": 23,
    "start_time": "2023-01-22T16:50:41.492Z"
   },
   {
    "duration": 208,
    "start_time": "2023-01-22T16:50:41.517Z"
   },
   {
    "duration": 177,
    "start_time": "2023-01-22T16:50:41.727Z"
   },
   {
    "duration": 6,
    "start_time": "2023-01-22T16:50:41.906Z"
   },
   {
    "duration": 22,
    "start_time": "2023-01-22T16:50:41.914Z"
   },
   {
    "duration": 518,
    "start_time": "2023-01-22T16:50:41.938Z"
   },
   {
    "duration": 532,
    "start_time": "2023-01-22T16:51:07.440Z"
   },
   {
    "duration": 18,
    "start_time": "2023-01-22T17:00:14.875Z"
   },
   {
    "duration": 7,
    "start_time": "2023-01-22T17:15:38.224Z"
   },
   {
    "duration": 4,
    "start_time": "2023-01-22T17:15:51.858Z"
   },
   {
    "duration": 60,
    "start_time": "2023-01-22T17:15:51.864Z"
   },
   {
    "duration": 18,
    "start_time": "2023-01-22T17:15:51.926Z"
   },
   {
    "duration": 16,
    "start_time": "2023-01-22T17:15:51.946Z"
   },
   {
    "duration": 879,
    "start_time": "2023-01-22T17:15:51.963Z"
   },
   {
    "duration": 5,
    "start_time": "2023-01-22T17:15:52.844Z"
   },
   {
    "duration": 15,
    "start_time": "2023-01-22T17:15:52.850Z"
   },
   {
    "duration": 7,
    "start_time": "2023-01-22T17:15:52.867Z"
   },
   {
    "duration": 8,
    "start_time": "2023-01-22T17:15:52.876Z"
   },
   {
    "duration": 8,
    "start_time": "2023-01-22T17:15:52.886Z"
   },
   {
    "duration": 30,
    "start_time": "2023-01-22T17:15:52.898Z"
   },
   {
    "duration": 8,
    "start_time": "2023-01-22T17:15:52.931Z"
   },
   {
    "duration": 10,
    "start_time": "2023-01-22T17:15:52.941Z"
   },
   {
    "duration": 15,
    "start_time": "2023-01-22T17:15:52.952Z"
   },
   {
    "duration": 7,
    "start_time": "2023-01-22T17:15:52.968Z"
   },
   {
    "duration": 15,
    "start_time": "2023-01-22T17:15:52.976Z"
   },
   {
    "duration": 6,
    "start_time": "2023-01-22T17:15:52.992Z"
   },
   {
    "duration": 188,
    "start_time": "2023-01-22T17:15:53.028Z"
   },
   {
    "duration": 167,
    "start_time": "2023-01-22T17:15:53.218Z"
   },
   {
    "duration": 6,
    "start_time": "2023-01-22T17:15:53.387Z"
   },
   {
    "duration": 16,
    "start_time": "2023-01-22T17:15:53.395Z"
   },
   {
    "duration": 494,
    "start_time": "2023-01-22T17:15:53.413Z"
   },
   {
    "duration": 310,
    "start_time": "2023-01-22T17:15:53.909Z"
   },
   {
    "duration": 11,
    "start_time": "2023-01-22T17:15:54.221Z"
   },
   {
    "duration": 334,
    "start_time": "2023-01-22T17:15:54.234Z"
   },
   {
    "duration": 301,
    "start_time": "2023-01-22T17:15:54.570Z"
   },
   {
    "duration": 167,
    "start_time": "2023-01-22T17:15:54.873Z"
   },
   {
    "duration": 273,
    "start_time": "2023-01-22T17:15:55.042Z"
   },
   {
    "duration": 9,
    "start_time": "2023-01-22T17:15:55.319Z"
   },
   {
    "duration": 6,
    "start_time": "2023-01-22T17:15:55.329Z"
   },
   {
    "duration": 226,
    "start_time": "2023-01-22T17:15:55.336Z"
   },
   {
    "duration": 9,
    "start_time": "2023-01-22T17:15:55.564Z"
   },
   {
    "duration": 13,
    "start_time": "2023-01-22T17:15:55.575Z"
   },
   {
    "duration": 10,
    "start_time": "2023-01-22T17:15:55.590Z"
   },
   {
    "duration": 35,
    "start_time": "2023-01-22T17:15:55.603Z"
   },
   {
    "duration": 13,
    "start_time": "2023-01-22T17:15:55.641Z"
   },
   {
    "duration": 15,
    "start_time": "2023-01-22T17:15:55.656Z"
   },
   {
    "duration": 12,
    "start_time": "2023-01-22T17:15:55.673Z"
   },
   {
    "duration": 195,
    "start_time": "2023-01-22T17:15:55.686Z"
   },
   {
    "duration": 5,
    "start_time": "2023-01-22T17:15:55.883Z"
   },
   {
    "duration": 15,
    "start_time": "2023-01-22T17:15:55.890Z"
   },
   {
    "duration": 176,
    "start_time": "2023-01-22T17:15:55.906Z"
   },
   {
    "duration": 5,
    "start_time": "2023-01-22T17:15:56.084Z"
   },
   {
    "duration": 15,
    "start_time": "2023-01-22T17:15:56.091Z"
   },
   {
    "duration": 166,
    "start_time": "2023-01-22T17:15:56.107Z"
   },
   {
    "duration": 4,
    "start_time": "2023-01-22T17:15:56.275Z"
   },
   {
    "duration": 9,
    "start_time": "2023-01-22T17:15:56.281Z"
   },
   {
    "duration": 11,
    "start_time": "2023-01-22T17:15:56.291Z"
   },
   {
    "duration": 27,
    "start_time": "2023-01-22T17:15:56.303Z"
   },
   {
    "duration": 25,
    "start_time": "2023-01-22T17:15:56.332Z"
   },
   {
    "duration": 3,
    "start_time": "2023-01-23T06:07:43.031Z"
   },
   {
    "duration": 56,
    "start_time": "2023-01-23T06:07:43.036Z"
   },
   {
    "duration": 15,
    "start_time": "2023-01-23T06:07:43.093Z"
   },
   {
    "duration": 31,
    "start_time": "2023-01-23T06:07:43.110Z"
   },
   {
    "duration": 806,
    "start_time": "2023-01-23T06:07:43.143Z"
   },
   {
    "duration": 5,
    "start_time": "2023-01-23T06:07:43.951Z"
   },
   {
    "duration": 12,
    "start_time": "2023-01-23T06:07:43.957Z"
   },
   {
    "duration": 4,
    "start_time": "2023-01-23T06:07:43.971Z"
   },
   {
    "duration": 8,
    "start_time": "2023-01-23T06:07:43.977Z"
   },
   {
    "duration": 10,
    "start_time": "2023-01-23T06:07:43.986Z"
   },
   {
    "duration": 11,
    "start_time": "2023-01-23T06:07:43.997Z"
   },
   {
    "duration": 5,
    "start_time": "2023-01-23T06:07:44.027Z"
   },
   {
    "duration": 11,
    "start_time": "2023-01-23T06:07:44.033Z"
   },
   {
    "duration": 19,
    "start_time": "2023-01-23T06:07:44.046Z"
   },
   {
    "duration": 8,
    "start_time": "2023-01-23T06:07:44.066Z"
   },
   {
    "duration": 15,
    "start_time": "2023-01-23T06:07:44.075Z"
   },
   {
    "duration": 6,
    "start_time": "2023-01-23T06:07:44.092Z"
   },
   {
    "duration": 212,
    "start_time": "2023-01-23T06:07:44.100Z"
   },
   {
    "duration": 167,
    "start_time": "2023-01-23T06:07:44.314Z"
   },
   {
    "duration": 6,
    "start_time": "2023-01-23T06:07:44.483Z"
   },
   {
    "duration": 13,
    "start_time": "2023-01-23T06:07:44.490Z"
   },
   {
    "duration": 587,
    "start_time": "2023-01-23T06:07:44.505Z"
   },
   {
    "duration": 311,
    "start_time": "2023-01-23T06:07:45.094Z"
   },
   {
    "duration": 18,
    "start_time": "2023-01-23T06:07:45.409Z"
   },
   {
    "duration": 331,
    "start_time": "2023-01-23T06:07:45.428Z"
   },
   {
    "duration": 273,
    "start_time": "2023-01-23T06:07:45.760Z"
   },
   {
    "duration": 161,
    "start_time": "2023-01-23T06:07:46.034Z"
   },
   {
    "duration": 188,
    "start_time": "2023-01-23T06:07:46.196Z"
   },
   {
    "duration": 5,
    "start_time": "2023-01-23T06:07:46.386Z"
   },
   {
    "duration": 23,
    "start_time": "2023-01-23T06:07:46.394Z"
   },
   {
    "duration": 222,
    "start_time": "2023-01-23T06:07:46.419Z"
   },
   {
    "duration": 10,
    "start_time": "2023-01-23T06:07:46.643Z"
   },
   {
    "duration": 19,
    "start_time": "2023-01-23T06:07:46.654Z"
   },
   {
    "duration": 25,
    "start_time": "2023-01-23T06:07:46.675Z"
   },
   {
    "duration": 9,
    "start_time": "2023-01-23T06:07:46.702Z"
   },
   {
    "duration": 15,
    "start_time": "2023-01-23T06:07:46.713Z"
   },
   {
    "duration": 8,
    "start_time": "2023-01-23T06:07:46.730Z"
   },
   {
    "duration": 9,
    "start_time": "2023-01-23T06:07:46.739Z"
   },
   {
    "duration": 179,
    "start_time": "2023-01-23T06:07:46.750Z"
   },
   {
    "duration": 4,
    "start_time": "2023-01-23T06:07:46.931Z"
   },
   {
    "duration": 17,
    "start_time": "2023-01-23T06:07:46.937Z"
   },
   {
    "duration": 162,
    "start_time": "2023-01-23T06:07:46.955Z"
   },
   {
    "duration": 10,
    "start_time": "2023-01-23T06:07:47.119Z"
   },
   {
    "duration": 12,
    "start_time": "2023-01-23T06:07:47.134Z"
   },
   {
    "duration": 261,
    "start_time": "2023-01-23T06:07:47.148Z"
   },
   {
    "duration": 5,
    "start_time": "2023-01-23T06:07:47.412Z"
   },
   {
    "duration": 6,
    "start_time": "2023-01-23T06:07:47.427Z"
   },
   {
    "duration": 11,
    "start_time": "2023-01-23T06:07:47.435Z"
   },
   {
    "duration": 13,
    "start_time": "2023-01-23T06:07:47.448Z"
   },
   {
    "duration": 22,
    "start_time": "2023-01-23T06:07:47.463Z"
   },
   {
    "duration": 376,
    "start_time": "2023-01-23T06:08:03.082Z"
   },
   {
    "duration": 264,
    "start_time": "2023-01-23T06:12:18.847Z"
   },
   {
    "duration": 5,
    "start_time": "2023-01-23T06:14:49.009Z"
   },
   {
    "duration": 12,
    "start_time": "2023-01-23T06:16:38.777Z"
   },
   {
    "duration": 26,
    "start_time": "2023-01-23T06:17:20.116Z"
   },
   {
    "duration": 11,
    "start_time": "2023-01-23T06:17:24.576Z"
   },
   {
    "duration": 16,
    "start_time": "2023-01-23T06:18:42.809Z"
   },
   {
    "duration": 13,
    "start_time": "2023-01-23T06:19:04.678Z"
   },
   {
    "duration": 18,
    "start_time": "2023-01-23T06:19:06.448Z"
   },
   {
    "duration": 250,
    "start_time": "2023-01-23T06:20:59.904Z"
   },
   {
    "duration": 273,
    "start_time": "2023-01-23T06:21:16.091Z"
   },
   {
    "duration": 117,
    "start_time": "2023-01-23T06:25:09.392Z"
   },
   {
    "duration": 223,
    "start_time": "2023-01-23T06:25:17.494Z"
   },
   {
    "duration": 363,
    "start_time": "2023-01-23T06:26:28.715Z"
   },
   {
    "duration": 205,
    "start_time": "2023-01-23T06:31:54.926Z"
   },
   {
    "duration": 11,
    "start_time": "2023-01-23T07:13:22.753Z"
   },
   {
    "duration": 55,
    "start_time": "2023-01-23T21:16:44.665Z"
   },
   {
    "duration": 75,
    "start_time": "2023-01-24T05:46:20.440Z"
   },
   {
    "duration": 48,
    "start_time": "2023-01-24T05:48:50.678Z"
   },
   {
    "duration": 1345,
    "start_time": "2023-01-24T05:48:57.899Z"
   },
   {
    "duration": 190,
    "start_time": "2023-01-24T05:48:59.247Z"
   },
   {
    "duration": 19,
    "start_time": "2023-01-24T05:48:59.439Z"
   },
   {
    "duration": 25,
    "start_time": "2023-01-24T05:48:59.462Z"
   },
   {
    "duration": 879,
    "start_time": "2023-01-24T05:48:59.489Z"
   },
   {
    "duration": 6,
    "start_time": "2023-01-24T05:49:00.370Z"
   },
   {
    "duration": 38,
    "start_time": "2023-01-24T05:49:00.377Z"
   },
   {
    "duration": 28,
    "start_time": "2023-01-24T05:49:00.418Z"
   },
   {
    "duration": 32,
    "start_time": "2023-01-24T05:49:00.448Z"
   },
   {
    "duration": 33,
    "start_time": "2023-01-24T05:49:00.484Z"
   },
   {
    "duration": 30,
    "start_time": "2023-01-24T05:49:00.519Z"
   },
   {
    "duration": 36,
    "start_time": "2023-01-24T05:49:00.552Z"
   },
   {
    "duration": 34,
    "start_time": "2023-01-24T05:49:00.590Z"
   },
   {
    "duration": 38,
    "start_time": "2023-01-24T05:49:00.626Z"
   },
   {
    "duration": 29,
    "start_time": "2023-01-24T05:49:00.666Z"
   },
   {
    "duration": 44,
    "start_time": "2023-01-24T05:49:00.696Z"
   },
   {
    "duration": 26,
    "start_time": "2023-01-24T05:49:00.742Z"
   },
   {
    "duration": 222,
    "start_time": "2023-01-24T05:49:00.770Z"
   },
   {
    "duration": 193,
    "start_time": "2023-01-24T05:49:00.994Z"
   },
   {
    "duration": 5,
    "start_time": "2023-01-24T05:49:01.189Z"
   },
   {
    "duration": 40,
    "start_time": "2023-01-24T05:49:01.196Z"
   },
   {
    "duration": 602,
    "start_time": "2023-01-24T05:49:01.238Z"
   },
   {
    "duration": 300,
    "start_time": "2023-01-24T05:49:01.842Z"
   },
   {
    "duration": 8,
    "start_time": "2023-01-24T05:49:02.144Z"
   },
   {
    "duration": 335,
    "start_time": "2023-01-24T05:49:02.154Z"
   },
   {
    "duration": 11,
    "start_time": "2023-01-24T05:49:02.490Z"
   },
   {
    "duration": 32,
    "start_time": "2023-01-24T05:49:02.503Z"
   },
   {
    "duration": 233,
    "start_time": "2023-01-24T05:49:02.538Z"
   },
   {
    "duration": 161,
    "start_time": "2023-01-24T05:49:02.773Z"
   },
   {
    "duration": 170,
    "start_time": "2023-01-24T05:49:02.936Z"
   },
   {
    "duration": 4,
    "start_time": "2023-01-24T05:49:03.108Z"
   },
   {
    "duration": 9,
    "start_time": "2023-01-24T05:49:03.120Z"
   },
   {
    "duration": 215,
    "start_time": "2023-01-24T05:49:03.131Z"
   },
   {
    "duration": 9,
    "start_time": "2023-01-24T05:49:03.349Z"
   },
   {
    "duration": 10,
    "start_time": "2023-01-24T05:49:03.360Z"
   },
   {
    "duration": 9,
    "start_time": "2023-01-24T05:49:03.372Z"
   },
   {
    "duration": 39,
    "start_time": "2023-01-24T05:49:03.383Z"
   },
   {
    "duration": 9,
    "start_time": "2023-01-24T05:49:03.424Z"
   },
   {
    "duration": 14,
    "start_time": "2023-01-24T05:49:03.435Z"
   },
   {
    "duration": 8,
    "start_time": "2023-01-24T05:49:03.451Z"
   },
   {
    "duration": 172,
    "start_time": "2023-01-24T05:49:03.460Z"
   },
   {
    "duration": 4,
    "start_time": "2023-01-24T05:49:03.634Z"
   },
   {
    "duration": 12,
    "start_time": "2023-01-24T05:49:03.641Z"
   },
   {
    "duration": 170,
    "start_time": "2023-01-24T05:49:03.655Z"
   },
   {
    "duration": 5,
    "start_time": "2023-01-24T05:49:03.828Z"
   },
   {
    "duration": 12,
    "start_time": "2023-01-24T05:49:03.835Z"
   },
   {
    "duration": 180,
    "start_time": "2023-01-24T05:49:03.848Z"
   },
   {
    "duration": 5,
    "start_time": "2023-01-24T05:49:04.030Z"
   },
   {
    "duration": 8,
    "start_time": "2023-01-24T05:49:04.037Z"
   },
   {
    "duration": 28,
    "start_time": "2023-01-24T05:49:04.048Z"
   },
   {
    "duration": 16,
    "start_time": "2023-01-24T05:49:04.078Z"
   },
   {
    "duration": 30,
    "start_time": "2023-01-24T05:49:04.096Z"
   },
   {
    "duration": 8,
    "start_time": "2023-01-24T05:51:42.790Z"
   },
   {
    "duration": 9,
    "start_time": "2023-01-24T05:51:47.230Z"
   },
   {
    "duration": 4,
    "start_time": "2023-01-24T05:51:50.862Z"
   },
   {
    "duration": 65,
    "start_time": "2023-01-24T05:51:50.869Z"
   },
   {
    "duration": 15,
    "start_time": "2023-01-24T05:51:50.937Z"
   },
   {
    "duration": 17,
    "start_time": "2023-01-24T05:51:50.954Z"
   },
   {
    "duration": 882,
    "start_time": "2023-01-24T05:51:50.973Z"
   },
   {
    "duration": 6,
    "start_time": "2023-01-24T05:51:51.857Z"
   },
   {
    "duration": 24,
    "start_time": "2023-01-24T05:51:51.865Z"
   },
   {
    "duration": 5,
    "start_time": "2023-01-24T05:51:51.891Z"
   },
   {
    "duration": 13,
    "start_time": "2023-01-24T05:51:51.898Z"
   },
   {
    "duration": 12,
    "start_time": "2023-01-24T05:51:51.913Z"
   },
   {
    "duration": 19,
    "start_time": "2023-01-24T05:51:51.927Z"
   },
   {
    "duration": 8,
    "start_time": "2023-01-24T05:51:51.948Z"
   },
   {
    "duration": 9,
    "start_time": "2023-01-24T05:51:51.958Z"
   },
   {
    "duration": 25,
    "start_time": "2023-01-24T05:51:51.968Z"
   },
   {
    "duration": 10,
    "start_time": "2023-01-24T05:51:51.995Z"
   },
   {
    "duration": 31,
    "start_time": "2023-01-24T05:51:52.007Z"
   },
   {
    "duration": 8,
    "start_time": "2023-01-24T05:51:52.041Z"
   },
   {
    "duration": 188,
    "start_time": "2023-01-24T05:51:52.050Z"
   },
   {
    "duration": 193,
    "start_time": "2023-01-24T05:51:52.240Z"
   },
   {
    "duration": 5,
    "start_time": "2023-01-24T05:51:52.435Z"
   },
   {
    "duration": 32,
    "start_time": "2023-01-24T05:51:52.442Z"
   },
   {
    "duration": 503,
    "start_time": "2023-01-24T05:51:52.476Z"
   },
   {
    "duration": 344,
    "start_time": "2023-01-24T05:51:52.981Z"
   },
   {
    "duration": 9,
    "start_time": "2023-01-24T05:51:53.327Z"
   },
   {
    "duration": 365,
    "start_time": "2023-01-24T05:51:53.338Z"
   },
   {
    "duration": 22,
    "start_time": "2023-01-24T05:51:53.705Z"
   },
   {
    "duration": 22,
    "start_time": "2023-01-24T05:51:53.729Z"
   },
   {
    "duration": 358,
    "start_time": "2023-01-24T05:51:53.753Z"
   },
   {
    "duration": 177,
    "start_time": "2023-01-24T05:51:54.124Z"
   },
   {
    "duration": 231,
    "start_time": "2023-01-24T05:51:54.304Z"
   },
   {
    "duration": 9,
    "start_time": "2023-01-24T05:51:54.537Z"
   },
   {
    "duration": 23,
    "start_time": "2023-01-24T05:51:54.548Z"
   },
   {
    "duration": 331,
    "start_time": "2023-01-24T05:51:54.573Z"
   },
   {
    "duration": 18,
    "start_time": "2023-01-24T05:51:54.906Z"
   },
   {
    "duration": 17,
    "start_time": "2023-01-24T05:51:54.926Z"
   },
   {
    "duration": 13,
    "start_time": "2023-01-24T05:51:54.945Z"
   },
   {
    "duration": 10,
    "start_time": "2023-01-24T05:51:54.960Z"
   },
   {
    "duration": 13,
    "start_time": "2023-01-24T05:51:54.972Z"
   },
   {
    "duration": 13,
    "start_time": "2023-01-24T05:51:55.021Z"
   },
   {
    "duration": 11,
    "start_time": "2023-01-24T05:51:55.036Z"
   },
   {
    "duration": 262,
    "start_time": "2023-01-24T05:51:55.050Z"
   },
   {
    "duration": 10,
    "start_time": "2023-01-24T05:51:55.314Z"
   },
   {
    "duration": 21,
    "start_time": "2023-01-24T05:51:55.327Z"
   },
   {
    "duration": 201,
    "start_time": "2023-01-24T05:51:55.351Z"
   },
   {
    "duration": 5,
    "start_time": "2023-01-24T05:51:55.554Z"
   },
   {
    "duration": 23,
    "start_time": "2023-01-24T05:51:55.561Z"
   },
   {
    "duration": 172,
    "start_time": "2023-01-24T05:51:55.586Z"
   },
   {
    "duration": 6,
    "start_time": "2023-01-24T05:51:55.761Z"
   },
   {
    "duration": 10,
    "start_time": "2023-01-24T05:51:55.769Z"
   },
   {
    "duration": 16,
    "start_time": "2023-01-24T05:51:55.781Z"
   },
   {
    "duration": 30,
    "start_time": "2023-01-24T05:51:55.799Z"
   },
   {
    "duration": 25,
    "start_time": "2023-01-24T05:51:55.831Z"
   },
   {
    "duration": 1277,
    "start_time": "2023-01-24T21:28:51.572Z"
   },
   {
    "duration": 207,
    "start_time": "2023-01-24T21:28:52.851Z"
   },
   {
    "duration": 17,
    "start_time": "2023-01-24T21:28:53.059Z"
   },
   {
    "duration": 14,
    "start_time": "2023-01-24T21:28:53.079Z"
   },
   {
    "duration": 734,
    "start_time": "2023-01-24T21:28:53.094Z"
   },
   {
    "duration": 5,
    "start_time": "2023-01-24T21:28:53.829Z"
   },
   {
    "duration": 19,
    "start_time": "2023-01-24T21:28:53.836Z"
   },
   {
    "duration": 4,
    "start_time": "2023-01-24T21:28:53.856Z"
   },
   {
    "duration": 11,
    "start_time": "2023-01-24T21:28:53.861Z"
   },
   {
    "duration": 6,
    "start_time": "2023-01-24T21:28:53.874Z"
   },
   {
    "duration": 7,
    "start_time": "2023-01-24T21:28:53.881Z"
   },
   {
    "duration": 7,
    "start_time": "2023-01-24T21:28:53.889Z"
   },
   {
    "duration": 5,
    "start_time": "2023-01-24T21:28:53.898Z"
   },
   {
    "duration": 16,
    "start_time": "2023-01-24T21:28:53.905Z"
   },
   {
    "duration": 30,
    "start_time": "2023-01-24T21:28:53.922Z"
   },
   {
    "duration": 14,
    "start_time": "2023-01-24T21:28:53.954Z"
   },
   {
    "duration": 5,
    "start_time": "2023-01-24T21:28:53.969Z"
   },
   {
    "duration": 170,
    "start_time": "2023-01-24T21:28:53.975Z"
   },
   {
    "duration": 153,
    "start_time": "2023-01-24T21:28:54.148Z"
   },
   {
    "duration": 5,
    "start_time": "2023-01-24T21:28:54.302Z"
   },
   {
    "duration": 26,
    "start_time": "2023-01-24T21:28:54.309Z"
   },
   {
    "duration": 437,
    "start_time": "2023-01-24T21:28:54.336Z"
   },
   {
    "duration": 333,
    "start_time": "2023-01-24T21:28:54.775Z"
   },
   {
    "duration": 7,
    "start_time": "2023-01-24T21:28:55.110Z"
   },
   {
    "duration": 304,
    "start_time": "2023-01-24T21:28:55.118Z"
   },
   {
    "duration": 11,
    "start_time": "2023-01-24T21:28:55.423Z"
   },
   {
    "duration": 26,
    "start_time": "2023-01-24T21:28:55.435Z"
   },
   {
    "duration": 225,
    "start_time": "2023-01-24T21:28:55.465Z"
   },
   {
    "duration": 155,
    "start_time": "2023-01-24T21:28:55.691Z"
   },
   {
    "duration": 154,
    "start_time": "2023-01-24T21:28:55.848Z"
   },
   {
    "duration": 5,
    "start_time": "2023-01-24T21:28:56.003Z"
   },
   {
    "duration": 9,
    "start_time": "2023-01-24T21:28:56.009Z"
   },
   {
    "duration": 207,
    "start_time": "2023-01-24T21:28:56.020Z"
   },
   {
    "duration": 9,
    "start_time": "2023-01-24T21:28:56.228Z"
   },
   {
    "duration": 17,
    "start_time": "2023-01-24T21:28:56.238Z"
   },
   {
    "duration": 8,
    "start_time": "2023-01-24T21:28:56.257Z"
   },
   {
    "duration": 7,
    "start_time": "2023-01-24T21:28:56.266Z"
   },
   {
    "duration": 8,
    "start_time": "2023-01-24T21:28:56.275Z"
   },
   {
    "duration": 7,
    "start_time": "2023-01-24T21:28:56.285Z"
   },
   {
    "duration": 12,
    "start_time": "2023-01-24T21:28:56.294Z"
   },
   {
    "duration": 214,
    "start_time": "2023-01-24T21:28:56.308Z"
   },
   {
    "duration": 4,
    "start_time": "2023-01-24T21:28:56.524Z"
   },
   {
    "duration": 22,
    "start_time": "2023-01-24T21:28:56.530Z"
   },
   {
    "duration": 135,
    "start_time": "2023-01-24T21:28:56.553Z"
   },
   {
    "duration": 4,
    "start_time": "2023-01-24T21:28:56.690Z"
   },
   {
    "duration": 11,
    "start_time": "2023-01-24T21:28:56.696Z"
   },
   {
    "duration": 152,
    "start_time": "2023-01-24T21:28:56.708Z"
   },
   {
    "duration": 4,
    "start_time": "2023-01-24T21:28:56.861Z"
   },
   {
    "duration": 9,
    "start_time": "2023-01-24T21:28:56.867Z"
   },
   {
    "duration": 10,
    "start_time": "2023-01-24T21:28:56.877Z"
   },
   {
    "duration": 13,
    "start_time": "2023-01-24T21:28:56.888Z"
   },
   {
    "duration": 16,
    "start_time": "2023-01-24T21:28:56.902Z"
   },
   {
    "duration": 1147,
    "start_time": "2023-01-24T21:29:39.950Z"
   },
   {
    "duration": 54,
    "start_time": "2023-01-24T21:29:41.099Z"
   },
   {
    "duration": 16,
    "start_time": "2023-01-24T21:29:41.154Z"
   },
   {
    "duration": 12,
    "start_time": "2023-01-24T21:29:41.172Z"
   },
   {
    "duration": 719,
    "start_time": "2023-01-24T21:29:41.185Z"
   },
   {
    "duration": 5,
    "start_time": "2023-01-24T21:29:41.906Z"
   },
   {
    "duration": 12,
    "start_time": "2023-01-24T21:29:41.913Z"
   },
   {
    "duration": 4,
    "start_time": "2023-01-24T21:29:41.926Z"
   },
   {
    "duration": 20,
    "start_time": "2023-01-24T21:29:41.931Z"
   },
   {
    "duration": 7,
    "start_time": "2023-01-24T21:29:41.953Z"
   },
   {
    "duration": 6,
    "start_time": "2023-01-24T21:29:41.961Z"
   },
   {
    "duration": 8,
    "start_time": "2023-01-24T21:29:41.968Z"
   },
   {
    "duration": 15,
    "start_time": "2023-01-24T21:29:41.977Z"
   },
   {
    "duration": 17,
    "start_time": "2023-01-24T21:29:41.993Z"
   },
   {
    "duration": 6,
    "start_time": "2023-01-24T21:29:42.012Z"
   },
   {
    "duration": 17,
    "start_time": "2023-01-24T21:29:42.019Z"
   },
   {
    "duration": 15,
    "start_time": "2023-01-24T21:29:42.037Z"
   },
   {
    "duration": 169,
    "start_time": "2023-01-24T21:29:42.053Z"
   },
   {
    "duration": 160,
    "start_time": "2023-01-24T21:29:42.224Z"
   },
   {
    "duration": 5,
    "start_time": "2023-01-24T21:29:42.386Z"
   },
   {
    "duration": 15,
    "start_time": "2023-01-24T21:29:42.393Z"
   },
   {
    "duration": 485,
    "start_time": "2023-01-24T21:29:42.410Z"
   },
   {
    "duration": 346,
    "start_time": "2023-01-24T21:29:42.896Z"
   },
   {
    "duration": 6,
    "start_time": "2023-01-24T21:29:43.248Z"
   },
   {
    "duration": 340,
    "start_time": "2023-01-24T21:29:43.256Z"
   },
   {
    "duration": 13,
    "start_time": "2023-01-24T21:29:43.597Z"
   },
   {
    "duration": 16,
    "start_time": "2023-01-24T21:29:43.612Z"
   },
   {
    "duration": 236,
    "start_time": "2023-01-24T21:29:43.650Z"
   },
   {
    "duration": 155,
    "start_time": "2023-01-24T21:29:43.887Z"
   },
   {
    "duration": 141,
    "start_time": "2023-01-24T21:29:44.048Z"
   },
   {
    "duration": 4,
    "start_time": "2023-01-24T21:29:44.190Z"
   },
   {
    "duration": 5,
    "start_time": "2023-01-24T21:29:44.195Z"
   },
   {
    "duration": 206,
    "start_time": "2023-01-24T21:29:44.202Z"
   },
   {
    "duration": 9,
    "start_time": "2023-01-24T21:29:44.410Z"
   },
   {
    "duration": 14,
    "start_time": "2023-01-24T21:29:44.420Z"
   },
   {
    "duration": 18,
    "start_time": "2023-01-24T21:29:44.435Z"
   },
   {
    "duration": 7,
    "start_time": "2023-01-24T21:29:44.455Z"
   },
   {
    "duration": 7,
    "start_time": "2023-01-24T21:29:44.464Z"
   },
   {
    "duration": 7,
    "start_time": "2023-01-24T21:29:44.473Z"
   },
   {
    "duration": 11,
    "start_time": "2023-01-24T21:29:44.481Z"
   },
   {
    "duration": 166,
    "start_time": "2023-01-24T21:29:44.494Z"
   },
   {
    "duration": 5,
    "start_time": "2023-01-24T21:29:44.661Z"
   },
   {
    "duration": 10,
    "start_time": "2023-01-24T21:29:44.667Z"
   },
   {
    "duration": 157,
    "start_time": "2023-01-24T21:29:44.678Z"
   },
   {
    "duration": 11,
    "start_time": "2023-01-24T21:29:44.837Z"
   },
   {
    "duration": 9,
    "start_time": "2023-01-24T21:29:44.850Z"
   },
   {
    "duration": 151,
    "start_time": "2023-01-24T21:29:44.860Z"
   },
   {
    "duration": 4,
    "start_time": "2023-01-24T21:29:45.013Z"
   },
   {
    "duration": 38,
    "start_time": "2023-01-24T21:29:45.019Z"
   },
   {
    "duration": 9,
    "start_time": "2023-01-24T21:29:45.059Z"
   },
   {
    "duration": 26,
    "start_time": "2023-01-24T21:29:45.070Z"
   },
   {
    "duration": 15,
    "start_time": "2023-01-24T21:29:45.098Z"
   }
  ],
  "kernelspec": {
   "display_name": "Python 3 (ipykernel)",
   "language": "python",
   "name": "python3"
  },
  "language_info": {
   "codemirror_mode": {
    "name": "ipython",
    "version": 3
   },
   "file_extension": ".py",
   "mimetype": "text/x-python",
   "name": "python",
   "nbconvert_exporter": "python",
   "pygments_lexer": "ipython3",
   "version": "3.9.13"
  },
  "toc": {
   "base_numbering": 1,
   "nav_menu": {},
   "number_sections": true,
   "sideBar": true,
   "skip_h1_title": true,
   "title_cell": "Table of Contents",
   "title_sidebar": "Contents",
   "toc_cell": false,
   "toc_position": {
    "height": "calc(100% - 180px)",
    "left": "10px",
    "top": "150px",
    "width": "358px"
   },
   "toc_section_display": true,
   "toc_window_display": true
  }
 },
 "nbformat": 4,
 "nbformat_minor": 2
}
