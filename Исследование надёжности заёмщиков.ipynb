{
 "cells": [
  {
   "cell_type": "markdown",
   "id": "9fc7e668",
   "metadata": {
    "deletable": false,
    "editable": false,
    "id": "c81daeeb"
   },
   "source": [
    "# Исследование надежности заемщиков\n"
   ]
  },
  {
   "cell_type": "markdown",
   "id": "cbbdeeae",
   "metadata": {},
   "source": [
    "Заказчик — кредитный отдел банка. Нужно разобраться, влияет ли семейное положение и количество детей клиента на факт погашения кредита в срок. Входные данные от банка — статистика о платёжеспособности клиентов.\n",
    "\n",
    "Результаты исследования будут учтены при построении модели кредитного скоринга — специальной системы, которая оценивает способность потенциального заёмщика вернуть кредит банку.\n",
    "\n",
    "Описание данных\n",
    "* children — количество детей в семье\n",
    "* days_employed — общий трудовой стаж в днях\n",
    "* dob_years — возраст клиента в годах\n",
    "* education — уровень образования клиента\n",
    "* education_id — идентификатор уровня образования\n",
    "* family_status — семейное положение\n",
    "* family_status_id — идентификатор семейного положения\n",
    "* gender — пол клиента\n",
    "* income_type — тип занятости\n",
    "* debt — имел ли задолженность по возврату кредитов\n",
    "* total_income — ежемесячный доход\n",
    "* purpose — цель получения кредита"
   ]
  },
  {
   "cell_type": "markdown",
   "id": "b2a45f94",
   "metadata": {
    "id": "744d7639"
   },
   "source": [
    "## Открываю таблицу и изучаю общую информацию о данных"
   ]
  },
  {
   "cell_type": "markdown",
   "id": "0c547647",
   "metadata": {
    "id": "e7a14c31"
   },
   "source": [
    "**Импортирую библиотеку pandas. Считываю данные из csv-файла в датафрейм и сохраните в переменную `data`. Путь к файлу:**\n",
    "\n",
    "`/datasets/data.csv`"
   ]
  },
  {
   "cell_type": "code",
   "execution_count": 1,
   "id": "564674ae",
   "metadata": {
    "deletable": false,
    "id": "7bcf75c9"
   },
   "outputs": [],
   "source": [
    "import pandas as pd\n",
    "\n",
    "try:\n",
    "    data = pd.read_csv('/datasets/data.csv')\n",
    "except:\n",
    "    data = pd.read_csv('https://code.s3.yandex.net/datasets/data.csv')"
   ]
  },
  {
   "cell_type": "markdown",
   "id": "3b9ba8ff",
   "metadata": {
    "id": "b8038fe3"
   },
   "source": [
    "**Вывожу первые 20 строчек датафрейма `data` на экран.**"
   ]
  },
  {
   "cell_type": "code",
   "execution_count": 2,
   "id": "1c50d12f",
   "metadata": {
    "deletable": false,
    "id": "2a7cab99",
    "outputId": "1a8f3ef2-d323-4ec2-ddf7-89670b5944c4"
   },
   "outputs": [
    {
     "data": {
      "text/html": [
       "<div>\n",
       "<style scoped>\n",
       "    .dataframe tbody tr th:only-of-type {\n",
       "        vertical-align: middle;\n",
       "    }\n",
       "\n",
       "    .dataframe tbody tr th {\n",
       "        vertical-align: top;\n",
       "    }\n",
       "\n",
       "    .dataframe thead th {\n",
       "        text-align: right;\n",
       "    }\n",
       "</style>\n",
       "<table border=\"1\" class=\"dataframe\">\n",
       "  <thead>\n",
       "    <tr style=\"text-align: right;\">\n",
       "      <th></th>\n",
       "      <th>children</th>\n",
       "      <th>days_employed</th>\n",
       "      <th>dob_years</th>\n",
       "      <th>education</th>\n",
       "      <th>education_id</th>\n",
       "      <th>family_status</th>\n",
       "      <th>family_status_id</th>\n",
       "      <th>gender</th>\n",
       "      <th>income_type</th>\n",
       "      <th>debt</th>\n",
       "      <th>total_income</th>\n",
       "      <th>purpose</th>\n",
       "    </tr>\n",
       "  </thead>\n",
       "  <tbody>\n",
       "    <tr>\n",
       "      <th>0</th>\n",
       "      <td>1</td>\n",
       "      <td>-8437.673028</td>\n",
       "      <td>42</td>\n",
       "      <td>высшее</td>\n",
       "      <td>0</td>\n",
       "      <td>женат / замужем</td>\n",
       "      <td>0</td>\n",
       "      <td>F</td>\n",
       "      <td>сотрудник</td>\n",
       "      <td>0</td>\n",
       "      <td>253875.639453</td>\n",
       "      <td>покупка жилья</td>\n",
       "    </tr>\n",
       "    <tr>\n",
       "      <th>1</th>\n",
       "      <td>1</td>\n",
       "      <td>-4024.803754</td>\n",
       "      <td>36</td>\n",
       "      <td>среднее</td>\n",
       "      <td>1</td>\n",
       "      <td>женат / замужем</td>\n",
       "      <td>0</td>\n",
       "      <td>F</td>\n",
       "      <td>сотрудник</td>\n",
       "      <td>0</td>\n",
       "      <td>112080.014102</td>\n",
       "      <td>приобретение автомобиля</td>\n",
       "    </tr>\n",
       "    <tr>\n",
       "      <th>2</th>\n",
       "      <td>0</td>\n",
       "      <td>-5623.422610</td>\n",
       "      <td>33</td>\n",
       "      <td>Среднее</td>\n",
       "      <td>1</td>\n",
       "      <td>женат / замужем</td>\n",
       "      <td>0</td>\n",
       "      <td>M</td>\n",
       "      <td>сотрудник</td>\n",
       "      <td>0</td>\n",
       "      <td>145885.952297</td>\n",
       "      <td>покупка жилья</td>\n",
       "    </tr>\n",
       "    <tr>\n",
       "      <th>3</th>\n",
       "      <td>3</td>\n",
       "      <td>-4124.747207</td>\n",
       "      <td>32</td>\n",
       "      <td>среднее</td>\n",
       "      <td>1</td>\n",
       "      <td>женат / замужем</td>\n",
       "      <td>0</td>\n",
       "      <td>M</td>\n",
       "      <td>сотрудник</td>\n",
       "      <td>0</td>\n",
       "      <td>267628.550329</td>\n",
       "      <td>дополнительное образование</td>\n",
       "    </tr>\n",
       "    <tr>\n",
       "      <th>4</th>\n",
       "      <td>0</td>\n",
       "      <td>340266.072047</td>\n",
       "      <td>53</td>\n",
       "      <td>среднее</td>\n",
       "      <td>1</td>\n",
       "      <td>гражданский брак</td>\n",
       "      <td>1</td>\n",
       "      <td>F</td>\n",
       "      <td>пенсионер</td>\n",
       "      <td>0</td>\n",
       "      <td>158616.077870</td>\n",
       "      <td>сыграть свадьбу</td>\n",
       "    </tr>\n",
       "    <tr>\n",
       "      <th>5</th>\n",
       "      <td>0</td>\n",
       "      <td>-926.185831</td>\n",
       "      <td>27</td>\n",
       "      <td>высшее</td>\n",
       "      <td>0</td>\n",
       "      <td>гражданский брак</td>\n",
       "      <td>1</td>\n",
       "      <td>M</td>\n",
       "      <td>компаньон</td>\n",
       "      <td>0</td>\n",
       "      <td>255763.565419</td>\n",
       "      <td>покупка жилья</td>\n",
       "    </tr>\n",
       "    <tr>\n",
       "      <th>6</th>\n",
       "      <td>0</td>\n",
       "      <td>-2879.202052</td>\n",
       "      <td>43</td>\n",
       "      <td>высшее</td>\n",
       "      <td>0</td>\n",
       "      <td>женат / замужем</td>\n",
       "      <td>0</td>\n",
       "      <td>F</td>\n",
       "      <td>компаньон</td>\n",
       "      <td>0</td>\n",
       "      <td>240525.971920</td>\n",
       "      <td>операции с жильем</td>\n",
       "    </tr>\n",
       "    <tr>\n",
       "      <th>7</th>\n",
       "      <td>0</td>\n",
       "      <td>-152.779569</td>\n",
       "      <td>50</td>\n",
       "      <td>СРЕДНЕЕ</td>\n",
       "      <td>1</td>\n",
       "      <td>женат / замужем</td>\n",
       "      <td>0</td>\n",
       "      <td>M</td>\n",
       "      <td>сотрудник</td>\n",
       "      <td>0</td>\n",
       "      <td>135823.934197</td>\n",
       "      <td>образование</td>\n",
       "    </tr>\n",
       "    <tr>\n",
       "      <th>8</th>\n",
       "      <td>2</td>\n",
       "      <td>-6929.865299</td>\n",
       "      <td>35</td>\n",
       "      <td>ВЫСШЕЕ</td>\n",
       "      <td>0</td>\n",
       "      <td>гражданский брак</td>\n",
       "      <td>1</td>\n",
       "      <td>F</td>\n",
       "      <td>сотрудник</td>\n",
       "      <td>0</td>\n",
       "      <td>95856.832424</td>\n",
       "      <td>на проведение свадьбы</td>\n",
       "    </tr>\n",
       "    <tr>\n",
       "      <th>9</th>\n",
       "      <td>0</td>\n",
       "      <td>-2188.756445</td>\n",
       "      <td>41</td>\n",
       "      <td>среднее</td>\n",
       "      <td>1</td>\n",
       "      <td>женат / замужем</td>\n",
       "      <td>0</td>\n",
       "      <td>M</td>\n",
       "      <td>сотрудник</td>\n",
       "      <td>0</td>\n",
       "      <td>144425.938277</td>\n",
       "      <td>покупка жилья для семьи</td>\n",
       "    </tr>\n",
       "    <tr>\n",
       "      <th>10</th>\n",
       "      <td>2</td>\n",
       "      <td>-4171.483647</td>\n",
       "      <td>36</td>\n",
       "      <td>высшее</td>\n",
       "      <td>0</td>\n",
       "      <td>женат / замужем</td>\n",
       "      <td>0</td>\n",
       "      <td>M</td>\n",
       "      <td>компаньон</td>\n",
       "      <td>0</td>\n",
       "      <td>113943.491460</td>\n",
       "      <td>покупка недвижимости</td>\n",
       "    </tr>\n",
       "    <tr>\n",
       "      <th>11</th>\n",
       "      <td>0</td>\n",
       "      <td>-792.701887</td>\n",
       "      <td>40</td>\n",
       "      <td>среднее</td>\n",
       "      <td>1</td>\n",
       "      <td>женат / замужем</td>\n",
       "      <td>0</td>\n",
       "      <td>F</td>\n",
       "      <td>сотрудник</td>\n",
       "      <td>0</td>\n",
       "      <td>77069.234271</td>\n",
       "      <td>покупка коммерческой недвижимости</td>\n",
       "    </tr>\n",
       "    <tr>\n",
       "      <th>12</th>\n",
       "      <td>0</td>\n",
       "      <td>NaN</td>\n",
       "      <td>65</td>\n",
       "      <td>среднее</td>\n",
       "      <td>1</td>\n",
       "      <td>гражданский брак</td>\n",
       "      <td>1</td>\n",
       "      <td>M</td>\n",
       "      <td>пенсионер</td>\n",
       "      <td>0</td>\n",
       "      <td>NaN</td>\n",
       "      <td>сыграть свадьбу</td>\n",
       "    </tr>\n",
       "    <tr>\n",
       "      <th>13</th>\n",
       "      <td>0</td>\n",
       "      <td>-1846.641941</td>\n",
       "      <td>54</td>\n",
       "      <td>неоконченное высшее</td>\n",
       "      <td>2</td>\n",
       "      <td>женат / замужем</td>\n",
       "      <td>0</td>\n",
       "      <td>F</td>\n",
       "      <td>сотрудник</td>\n",
       "      <td>0</td>\n",
       "      <td>130458.228857</td>\n",
       "      <td>приобретение автомобиля</td>\n",
       "    </tr>\n",
       "    <tr>\n",
       "      <th>14</th>\n",
       "      <td>0</td>\n",
       "      <td>-1844.956182</td>\n",
       "      <td>56</td>\n",
       "      <td>высшее</td>\n",
       "      <td>0</td>\n",
       "      <td>гражданский брак</td>\n",
       "      <td>1</td>\n",
       "      <td>F</td>\n",
       "      <td>компаньон</td>\n",
       "      <td>1</td>\n",
       "      <td>165127.911772</td>\n",
       "      <td>покупка жилой недвижимости</td>\n",
       "    </tr>\n",
       "    <tr>\n",
       "      <th>15</th>\n",
       "      <td>1</td>\n",
       "      <td>-972.364419</td>\n",
       "      <td>26</td>\n",
       "      <td>среднее</td>\n",
       "      <td>1</td>\n",
       "      <td>женат / замужем</td>\n",
       "      <td>0</td>\n",
       "      <td>F</td>\n",
       "      <td>сотрудник</td>\n",
       "      <td>0</td>\n",
       "      <td>116820.904450</td>\n",
       "      <td>строительство собственной недвижимости</td>\n",
       "    </tr>\n",
       "    <tr>\n",
       "      <th>16</th>\n",
       "      <td>0</td>\n",
       "      <td>-1719.934226</td>\n",
       "      <td>35</td>\n",
       "      <td>среднее</td>\n",
       "      <td>1</td>\n",
       "      <td>женат / замужем</td>\n",
       "      <td>0</td>\n",
       "      <td>F</td>\n",
       "      <td>сотрудник</td>\n",
       "      <td>0</td>\n",
       "      <td>289202.704229</td>\n",
       "      <td>недвижимость</td>\n",
       "    </tr>\n",
       "    <tr>\n",
       "      <th>17</th>\n",
       "      <td>0</td>\n",
       "      <td>-2369.999720</td>\n",
       "      <td>33</td>\n",
       "      <td>высшее</td>\n",
       "      <td>0</td>\n",
       "      <td>гражданский брак</td>\n",
       "      <td>1</td>\n",
       "      <td>M</td>\n",
       "      <td>сотрудник</td>\n",
       "      <td>0</td>\n",
       "      <td>90410.586745</td>\n",
       "      <td>строительство недвижимости</td>\n",
       "    </tr>\n",
       "    <tr>\n",
       "      <th>18</th>\n",
       "      <td>0</td>\n",
       "      <td>400281.136913</td>\n",
       "      <td>53</td>\n",
       "      <td>среднее</td>\n",
       "      <td>1</td>\n",
       "      <td>вдовец / вдова</td>\n",
       "      <td>2</td>\n",
       "      <td>F</td>\n",
       "      <td>пенсионер</td>\n",
       "      <td>0</td>\n",
       "      <td>56823.777243</td>\n",
       "      <td>на покупку подержанного автомобиля</td>\n",
       "    </tr>\n",
       "    <tr>\n",
       "      <th>19</th>\n",
       "      <td>0</td>\n",
       "      <td>-10038.818549</td>\n",
       "      <td>48</td>\n",
       "      <td>СРЕДНЕЕ</td>\n",
       "      <td>1</td>\n",
       "      <td>в разводе</td>\n",
       "      <td>3</td>\n",
       "      <td>F</td>\n",
       "      <td>сотрудник</td>\n",
       "      <td>0</td>\n",
       "      <td>242831.107982</td>\n",
       "      <td>на покупку своего автомобиля</td>\n",
       "    </tr>\n",
       "  </tbody>\n",
       "</table>\n",
       "</div>"
      ],
      "text/plain": [
       "    children  days_employed  dob_years            education  education_id  \\\n",
       "0          1   -8437.673028         42               высшее             0   \n",
       "1          1   -4024.803754         36              среднее             1   \n",
       "2          0   -5623.422610         33              Среднее             1   \n",
       "3          3   -4124.747207         32              среднее             1   \n",
       "4          0  340266.072047         53              среднее             1   \n",
       "5          0    -926.185831         27               высшее             0   \n",
       "6          0   -2879.202052         43               высшее             0   \n",
       "7          0    -152.779569         50              СРЕДНЕЕ             1   \n",
       "8          2   -6929.865299         35               ВЫСШЕЕ             0   \n",
       "9          0   -2188.756445         41              среднее             1   \n",
       "10         2   -4171.483647         36               высшее             0   \n",
       "11         0    -792.701887         40              среднее             1   \n",
       "12         0            NaN         65              среднее             1   \n",
       "13         0   -1846.641941         54  неоконченное высшее             2   \n",
       "14         0   -1844.956182         56               высшее             0   \n",
       "15         1    -972.364419         26              среднее             1   \n",
       "16         0   -1719.934226         35              среднее             1   \n",
       "17         0   -2369.999720         33               высшее             0   \n",
       "18         0  400281.136913         53              среднее             1   \n",
       "19         0  -10038.818549         48              СРЕДНЕЕ             1   \n",
       "\n",
       "       family_status  family_status_id gender income_type  debt  \\\n",
       "0    женат / замужем                 0      F   сотрудник     0   \n",
       "1    женат / замужем                 0      F   сотрудник     0   \n",
       "2    женат / замужем                 0      M   сотрудник     0   \n",
       "3    женат / замужем                 0      M   сотрудник     0   \n",
       "4   гражданский брак                 1      F   пенсионер     0   \n",
       "5   гражданский брак                 1      M   компаньон     0   \n",
       "6    женат / замужем                 0      F   компаньон     0   \n",
       "7    женат / замужем                 0      M   сотрудник     0   \n",
       "8   гражданский брак                 1      F   сотрудник     0   \n",
       "9    женат / замужем                 0      M   сотрудник     0   \n",
       "10   женат / замужем                 0      M   компаньон     0   \n",
       "11   женат / замужем                 0      F   сотрудник     0   \n",
       "12  гражданский брак                 1      M   пенсионер     0   \n",
       "13   женат / замужем                 0      F   сотрудник     0   \n",
       "14  гражданский брак                 1      F   компаньон     1   \n",
       "15   женат / замужем                 0      F   сотрудник     0   \n",
       "16   женат / замужем                 0      F   сотрудник     0   \n",
       "17  гражданский брак                 1      M   сотрудник     0   \n",
       "18    вдовец / вдова                 2      F   пенсионер     0   \n",
       "19         в разводе                 3      F   сотрудник     0   \n",
       "\n",
       "     total_income                                 purpose  \n",
       "0   253875.639453                           покупка жилья  \n",
       "1   112080.014102                 приобретение автомобиля  \n",
       "2   145885.952297                           покупка жилья  \n",
       "3   267628.550329              дополнительное образование  \n",
       "4   158616.077870                         сыграть свадьбу  \n",
       "5   255763.565419                           покупка жилья  \n",
       "6   240525.971920                       операции с жильем  \n",
       "7   135823.934197                             образование  \n",
       "8    95856.832424                   на проведение свадьбы  \n",
       "9   144425.938277                 покупка жилья для семьи  \n",
       "10  113943.491460                    покупка недвижимости  \n",
       "11   77069.234271       покупка коммерческой недвижимости  \n",
       "12            NaN                         сыграть свадьбу  \n",
       "13  130458.228857                 приобретение автомобиля  \n",
       "14  165127.911772              покупка жилой недвижимости  \n",
       "15  116820.904450  строительство собственной недвижимости  \n",
       "16  289202.704229                            недвижимость  \n",
       "17   90410.586745              строительство недвижимости  \n",
       "18   56823.777243      на покупку подержанного автомобиля  \n",
       "19  242831.107982            на покупку своего автомобиля  "
      ]
     },
     "execution_count": 2,
     "metadata": {},
     "output_type": "execute_result"
    }
   ],
   "source": [
    "data.head(20)"
   ]
  },
  {
   "cell_type": "markdown",
   "id": "18b75a88",
   "metadata": {
    "id": "1c12e233"
   },
   "source": [
    "**Вывожу основную информацию о датафрейме с помощью метода `info()`.**"
   ]
  },
  {
   "cell_type": "code",
   "execution_count": 3,
   "id": "6bbdbe33",
   "metadata": {
    "deletable": false,
    "id": "2b757bca",
    "outputId": "15376089-8dad-46c9-b520-c05248d43158"
   },
   "outputs": [
    {
     "name": "stdout",
     "output_type": "stream",
     "text": [
      "<class 'pandas.core.frame.DataFrame'>\n",
      "RangeIndex: 21525 entries, 0 to 21524\n",
      "Data columns (total 12 columns):\n",
      " #   Column            Non-Null Count  Dtype  \n",
      "---  ------            --------------  -----  \n",
      " 0   children          21525 non-null  int64  \n",
      " 1   days_employed     19351 non-null  float64\n",
      " 2   dob_years         21525 non-null  int64  \n",
      " 3   education         21525 non-null  object \n",
      " 4   education_id      21525 non-null  int64  \n",
      " 5   family_status     21525 non-null  object \n",
      " 6   family_status_id  21525 non-null  int64  \n",
      " 7   gender            21525 non-null  object \n",
      " 8   income_type       21525 non-null  object \n",
      " 9   debt              21525 non-null  int64  \n",
      " 10  total_income      19351 non-null  float64\n",
      " 11  purpose           21525 non-null  object \n",
      "dtypes: float64(2), int64(5), object(5)\n",
      "memory usage: 2.0+ MB\n"
     ]
    }
   ],
   "source": [
    "data.info()"
   ]
  },
  {
   "cell_type": "markdown",
   "id": "4a7cb888",
   "metadata": {
    "deletable": false,
    "editable": false,
    "id": "333ec665"
   },
   "source": [
    "## Предобработка данных"
   ]
  },
  {
   "cell_type": "markdown",
   "id": "da69f0c6",
   "metadata": {
    "deletable": false,
    "editable": false,
    "id": "02d92d53"
   },
   "source": [
    "### Удаление пропусков"
   ]
  },
  {
   "cell_type": "markdown",
   "id": "b0814166",
   "metadata": {
    "id": "cd84967c"
   },
   "source": [
    "**Вывожу количество пропущенных значений для каждого столбца. Использую комбинацию двух методов.**"
   ]
  },
  {
   "cell_type": "code",
   "execution_count": 4,
   "id": "598123f4",
   "metadata": {
    "deletable": false,
    "id": "7f9b2309",
    "outputId": "81f4d817-781c-465c-ed15-91ce4446810d"
   },
   "outputs": [
    {
     "data": {
      "text/plain": [
       "children               0\n",
       "days_employed       2174\n",
       "dob_years              0\n",
       "education              0\n",
       "education_id           0\n",
       "family_status          0\n",
       "family_status_id       0\n",
       "gender                 0\n",
       "income_type            0\n",
       "debt                   0\n",
       "total_income        2174\n",
       "purpose                0\n",
       "dtype: int64"
      ]
     },
     "execution_count": 4,
     "metadata": {},
     "output_type": "execute_result"
    }
   ],
   "source": [
    "data.isna().sum()"
   ]
  },
  {
   "cell_type": "markdown",
   "id": "e1c927c8",
   "metadata": {
    "id": "db86e27b"
   },
   "source": [
    "**В двух столбцах есть пропущенные значения. Один из них — `days_employed`. Пропуски в этом столбце я обработаю на следующем этапе. Другой столбец с пропущенными значениями — `total_income` — хранит данные о доходах. На сумму дохода сильнее всего влияет тип занятости, поэтому заполнить пропуски в этом столбце нужно медианным значением по каждому типу из столбца `income_type`. Например, у человека с типом занятости `сотрудник` пропуск в столбце `total_income` должен быть заполнен медианным доходом среди всех записей с тем же типом.**"
   ]
  },
  {
   "cell_type": "code",
   "execution_count": 5,
   "id": "0ca3ff54",
   "metadata": {
    "deletable": false,
    "id": "42006a93"
   },
   "outputs": [],
   "source": [
    "for t in data['income_type'].unique():\n",
    "    data.loc[(data['income_type'] == t) & (data['total_income'].isna()), 'total_income'] = \\\n",
    "    data.loc[(data['income_type'] == t), 'total_income'].median()"
   ]
  },
  {
   "cell_type": "markdown",
   "id": "a7fe663f",
   "metadata": {
    "deletable": false,
    "editable": false,
    "id": "89da5ece"
   },
   "source": [
    "### Обработка аномальных значений"
   ]
  },
  {
   "cell_type": "markdown",
   "id": "1cb1d1d2",
   "metadata": {
    "id": "57964554"
   },
   "source": [
    "**В данных могут встречаться артефакты (аномалии) — значения, которые не отражают действительность и появились по какой-то ошибке. Таким артефактом будет отрицательное количество дней трудового стажа в столбце `days_employed`. Для реальных данных это нормально. Обрабатываю значения в этом столбце: заменяю все отрицательные значения положительными с помощью метода `abs()`.**"
   ]
  },
  {
   "cell_type": "code",
   "execution_count": 6,
   "id": "759755c0",
   "metadata": {
    "deletable": false,
    "id": "f6f055bf"
   },
   "outputs": [],
   "source": [
    "data['days_employed'] = data['days_employed'].abs()"
   ]
  },
  {
   "cell_type": "markdown",
   "id": "baede2d5",
   "metadata": {
    "id": "6107dd2f"
   },
   "source": [
    "**Для каждого типа занятости вывожу медианное значение трудового стажа `days_employed` в днях.**"
   ]
  },
  {
   "cell_type": "code",
   "execution_count": 7,
   "id": "5a17e78c",
   "metadata": {
    "deletable": false,
    "id": "85a5faf6",
    "outputId": "801ef80e-522b-4668-f34e-565af7432bcf"
   },
   "outputs": [
    {
     "data": {
      "text/plain": [
       "income_type\n",
       "безработный        366413.652744\n",
       "в декрете            3296.759962\n",
       "госслужащий          2689.368353\n",
       "компаньон            1547.382223\n",
       "пенсионер          365213.306266\n",
       "предприниматель       520.848083\n",
       "сотрудник            1574.202821\n",
       "студент               578.751554\n",
       "Name: days_employed, dtype: float64"
      ]
     },
     "execution_count": 7,
     "metadata": {},
     "output_type": "execute_result"
    }
   ],
   "source": [
    "data.groupby('income_type')['days_employed'].agg('median')\n",
    "#data.groupby('income_type')['total_income'].agg('median')\n",
    "#data[data['days_employed'].isna()].groupby('income_type').count()"
   ]
  },
  {
   "cell_type": "markdown",
   "id": "9bba99cc",
   "metadata": {
    "id": "38d1a030"
   },
   "source": [
    "У двух типов (безработные и пенсионеры) получатся аномально большие значения. Исправить такие значения сложно, поэтому оставляю их как есть. Тем более этот столбец не понадобится для исследования."
   ]
  },
  {
   "cell_type": "markdown",
   "id": "c448ed21",
   "metadata": {
    "id": "d8a9f147"
   },
   "source": [
    "**Вывожу перечень уникальных значений столбца `children`.**"
   ]
  },
  {
   "cell_type": "code",
   "execution_count": 8,
   "id": "0f68e9c7",
   "metadata": {
    "deletable": false,
    "id": "ef5056eb",
    "outputId": "6975b15c-7f95-4697-d16d-a0c79b657b03"
   },
   "outputs": [
    {
     "data": {
      "text/plain": [
       "array([ 1,  0,  3,  2, -1,  4, 20,  5])"
      ]
     },
     "execution_count": 8,
     "metadata": {},
     "output_type": "execute_result"
    }
   ],
   "source": [
    "data['children'].unique()"
   ]
  },
  {
   "cell_type": "markdown",
   "id": "4304e01d",
   "metadata": {
    "id": "40b9ebf2"
   },
   "source": [
    "**В столбце `children` есть два аномальных значения. Удаляю строки, в которых встречаются такие аномальные значения из датафрейма `data`.**"
   ]
  },
  {
   "cell_type": "code",
   "execution_count": 9,
   "id": "d35da984",
   "metadata": {
    "deletable": false,
    "id": "3ff9801d"
   },
   "outputs": [],
   "source": [
    "data = data[(data['children'] != -1) & (data['children'] != 20)]"
   ]
  },
  {
   "cell_type": "markdown",
   "id": "6aeb9ed6",
   "metadata": {
    "id": "bbc4d0ce"
   },
   "source": [
    "**Ещё раз вывожу перечень уникальных значений столбца `children`, чтобы убедиться, что артефакты удалены.**"
   ]
  },
  {
   "cell_type": "code",
   "execution_count": 10,
   "id": "d51f8a03",
   "metadata": {
    "deletable": false,
    "id": "ad4fa8b7",
    "outputId": "b2097101-d49d-44d9-901b-32a65c9463d1"
   },
   "outputs": [
    {
     "data": {
      "text/plain": [
       "array([1, 0, 3, 2, 4, 5])"
      ]
     },
     "execution_count": 10,
     "metadata": {},
     "output_type": "execute_result"
    }
   ],
   "source": [
    "data['children'].unique()"
   ]
  },
  {
   "cell_type": "markdown",
   "id": "d827b98f",
   "metadata": {
    "deletable": false,
    "editable": false,
    "id": "75440b63"
   },
   "source": [
    "### Удаление пропусков (продолжение)"
   ]
  },
  {
   "cell_type": "markdown",
   "id": "0bdbcf4d",
   "metadata": {
    "id": "f4ea573f"
   },
   "source": [
    "**Заполняю пропуски в столбце `days_employed` медианными значениями по каждого типа занятости `income_type`.**"
   ]
  },
  {
   "cell_type": "code",
   "execution_count": 11,
   "id": "914f6b97",
   "metadata": {
    "deletable": false,
    "id": "af6b1a7e"
   },
   "outputs": [],
   "source": [
    "for t in data['income_type'].unique():\n",
    "    data.loc[(data['income_type'] == t) & (data['days_employed'].isna()), 'days_employed'] = \\\n",
    "    data.loc[(data['income_type'] == t), 'days_employed'].median()"
   ]
  },
  {
   "cell_type": "markdown",
   "id": "234c8c19",
   "metadata": {
    "id": "2753f40d"
   },
   "source": [
    "**Убеждаюсь, что все пропуски заполнены. Проверяю себя и ещё раз вывожу количество пропущенных значений для каждого столбца с помощью двух методов.**"
   ]
  },
  {
   "cell_type": "code",
   "execution_count": 12,
   "id": "6213e50e",
   "metadata": {
    "deletable": false,
    "id": "55f78bc2",
    "outputId": "8da1e4e1-358e-4e87-98c9-f261bce0a7b2"
   },
   "outputs": [
    {
     "data": {
      "text/plain": [
       "children            0\n",
       "days_employed       0\n",
       "dob_years           0\n",
       "education           0\n",
       "education_id        0\n",
       "family_status       0\n",
       "family_status_id    0\n",
       "gender              0\n",
       "income_type         0\n",
       "debt                0\n",
       "total_income        0\n",
       "purpose             0\n",
       "dtype: int64"
      ]
     },
     "execution_count": 12,
     "metadata": {},
     "output_type": "execute_result"
    }
   ],
   "source": [
    "data.isna().sum()"
   ]
  },
  {
   "cell_type": "markdown",
   "id": "a1768903",
   "metadata": {
    "deletable": false,
    "editable": false,
    "id": "ddc81e43"
   },
   "source": [
    "### Изменение типов данных"
   ]
  },
  {
   "cell_type": "markdown",
   "id": "21b95153",
   "metadata": {
    "id": "42d19d24"
   },
   "source": [
    "**Заменяю вещественный тип данных в столбце `total_income` на целочисленный с помощью метода `astype()`.**"
   ]
  },
  {
   "cell_type": "code",
   "execution_count": 13,
   "id": "667bb12b",
   "metadata": {
    "deletable": false,
    "id": "920b65ad"
   },
   "outputs": [],
   "source": [
    "data['total_income'] = data['total_income'].astype(int)"
   ]
  },
  {
   "cell_type": "markdown",
   "id": "97b1ff80",
   "metadata": {
    "deletable": false,
    "editable": false,
    "id": "80c420ba"
   },
   "source": [
    "### Обработка дубликатов"
   ]
  },
  {
   "cell_type": "markdown",
   "id": "9daf982b",
   "metadata": {},
   "source": [
    "**Обрабатываю неявные дубликаты в столбце `education`. В этом столбце есть одни и те же значения, но записанные по-разному: с использованием заглавных и строчных букв. Привожу их к нижнему регистру. Проверяю остальные столбцы.**"
   ]
  },
  {
   "cell_type": "code",
   "execution_count": 14,
   "id": "e49c0c35",
   "metadata": {
    "deletable": false
   },
   "outputs": [],
   "source": [
    "data['education'] = data['education'].str.lower()"
   ]
  },
  {
   "cell_type": "markdown",
   "id": "e2b0c912",
   "metadata": {
    "id": "dc587695"
   },
   "source": [
    "**Вывожу на экран количество строк-дубликатов в данных. Если такие строки присутствуют, удаляю их.**"
   ]
  },
  {
   "cell_type": "code",
   "execution_count": 15,
   "id": "7e7276d2",
   "metadata": {
    "deletable": false,
    "id": "3ee445e4",
    "outputId": "9684deba-1934-42d1-99e1-cda61740f822"
   },
   "outputs": [
    {
     "data": {
      "text/plain": [
       "71"
      ]
     },
     "execution_count": 15,
     "metadata": {},
     "output_type": "execute_result"
    }
   ],
   "source": [
    "data.duplicated().sum()"
   ]
  },
  {
   "cell_type": "code",
   "execution_count": 16,
   "id": "c6fa4b18",
   "metadata": {
    "deletable": false,
    "id": "8575fe05"
   },
   "outputs": [],
   "source": [
    "data = data.drop_duplicates()"
   ]
  },
  {
   "cell_type": "markdown",
   "id": "adfbf227",
   "metadata": {
    "deletable": false,
    "editable": false,
    "id": "9904cf55"
   },
   "source": [
    "### Категоризация данных"
   ]
  },
  {
   "cell_type": "markdown",
   "id": "6ec034dd",
   "metadata": {
    "id": "72fcc8a2"
   },
   "source": [
    "**На основании диапазонов, указанных ниже, создаю в датафрейме `data` столбец `total_income_category` с категориями:**\n",
    "\n",
    "- 0–30000 — `'E'`;\n",
    "- 30001–50000 — `'D'`;\n",
    "- 50001–200000 — `'C'`;\n",
    "- 200001–1000000 — `'B'`;\n",
    "- 1000001 и выше — `'A'`.\n",
    "\n",
    "\n",
    "**Например, кредитополучателю с доходом 25000 нужно назначить категорию `'E'`, а клиенту, получающему 235000, — `'B'`. Использую собственную функцию с именем `categorize_income()` и метод `apply()`.**"
   ]
  },
  {
   "cell_type": "code",
   "execution_count": 17,
   "id": "351756a0",
   "metadata": {
    "deletable": false,
    "id": "e1771346"
   },
   "outputs": [],
   "source": [
    "def categorize_income(income):\n",
    "    try:\n",
    "        if 0 <= income <= 30000:\n",
    "            return 'E'\n",
    "        elif 30001 <= income <= 50000:\n",
    "            return 'D'\n",
    "        elif 50001 <= income <= 200000:\n",
    "            return 'C'\n",
    "        elif 200001 <= income <= 1000000:\n",
    "            return 'B'\n",
    "        elif income >= 1000001:\n",
    "            return 'A'\n",
    "    except:\n",
    "        pass"
   ]
  },
  {
   "cell_type": "code",
   "execution_count": 18,
   "id": "0df86246",
   "metadata": {
    "deletable": false,
    "id": "d5f3586d"
   },
   "outputs": [],
   "source": [
    "data['total_income_category'] = data['total_income'].apply(categorize_income)"
   ]
  },
  {
   "cell_type": "markdown",
   "id": "95b084f7",
   "metadata": {
    "id": "dde49b5c"
   },
   "source": [
    "**Вывожу на экран перечень уникальных целей взятия кредита из столбца `purpose`.**"
   ]
  },
  {
   "cell_type": "code",
   "execution_count": 19,
   "id": "bffc209f",
   "metadata": {
    "deletable": false,
    "id": "f67ce9b3",
    "outputId": "673c12d9-7d7e-4ae0-9812-c622c89dd244"
   },
   "outputs": [
    {
     "data": {
      "text/plain": [
       "array(['покупка жилья', 'приобретение автомобиля',\n",
       "       'дополнительное образование', 'сыграть свадьбу',\n",
       "       'операции с жильем', 'образование', 'на проведение свадьбы',\n",
       "       'покупка жилья для семьи', 'покупка недвижимости',\n",
       "       'покупка коммерческой недвижимости', 'покупка жилой недвижимости',\n",
       "       'строительство собственной недвижимости', 'недвижимость',\n",
       "       'строительство недвижимости', 'на покупку подержанного автомобиля',\n",
       "       'на покупку своего автомобиля',\n",
       "       'операции с коммерческой недвижимостью',\n",
       "       'строительство жилой недвижимости', 'жилье',\n",
       "       'операции со своей недвижимостью', 'автомобили',\n",
       "       'заняться образованием', 'сделка с подержанным автомобилем',\n",
       "       'получение образования', 'автомобиль', 'свадьба',\n",
       "       'получение дополнительного образования', 'покупка своего жилья',\n",
       "       'операции с недвижимостью', 'получение высшего образования',\n",
       "       'свой автомобиль', 'сделка с автомобилем',\n",
       "       'профильное образование', 'высшее образование',\n",
       "       'покупка жилья для сдачи', 'на покупку автомобиля', 'ремонт жилью',\n",
       "       'заняться высшим образованием'], dtype=object)"
      ]
     },
     "execution_count": 19,
     "metadata": {},
     "output_type": "execute_result"
    }
   ],
   "source": [
    "data['purpose'].unique()"
   ]
  },
  {
   "cell_type": "markdown",
   "id": "dd2696f7",
   "metadata": {
    "id": "85d0aef0"
   },
   "source": [
    "**Создаю функцию, которая на основании данных из столбца `purpose` сформирует новый столбец `purpose_category`, в который войдут следующие категории:**\n",
    "\n",
    "- `'операции с автомобилем'`,\n",
    "- `'операции с недвижимостью'`,\n",
    "- `'проведение свадьбы'`,\n",
    "- `'получение образования'`.\n",
    "\n",
    "**Например, если в столбце `purpose` находится подстрока `'на покупку автомобиля'`, то в столбце `purpose_category` должна появиться строка `'операции с автомобилем'`.**\n",
    "\n",
    "**Использую собственную функцию с именем `categorize_purpose()` и метод `apply()`. Изучаю данные в столбце `purpose` и определяю, какие подстроки помогут правильно определить категорию.**"
   ]
  },
  {
   "cell_type": "code",
   "execution_count": 20,
   "id": "8ed33f5c",
   "metadata": {
    "deletable": false,
    "id": "e149fab4"
   },
   "outputs": [],
   "source": [
    "def categorize_purpose(row):\n",
    "    try:\n",
    "        if 'автом' in row:\n",
    "            return 'операции с автомобилем'\n",
    "        elif 'жил' in row or 'недвиж' in row:\n",
    "            return 'операции с недвижимостью'\n",
    "        elif 'свад' in row:\n",
    "            return 'проведение свадьбы'\n",
    "        elif 'образов' in row:\n",
    "            return 'получение образования'\n",
    "    except:\n",
    "        return 'нет категории'"
   ]
  },
  {
   "cell_type": "code",
   "execution_count": 21,
   "id": "05be5e0b",
   "metadata": {
    "deletable": false,
    "id": "bf36e69b"
   },
   "outputs": [],
   "source": [
    "data['purpose_category'] = data['purpose'].apply(categorize_purpose)"
   ]
  },
  {
   "cell_type": "markdown",
   "id": "6c2a4b28",
   "metadata": {
    "id": "09b242bf"
   },
   "source": [
    "### Шаг 3. Исследую данные и отвечаю на вопросы"
   ]
  },
  {
   "cell_type": "markdown",
   "id": "0184b1cf",
   "metadata": {
    "deletable": false,
    "editable": false,
    "id": "c5d66278"
   },
   "source": [
    "#### 3.1 Есть ли зависимость между количеством детей и возвратом кредита в срок?"
   ]
  },
  {
   "cell_type": "code",
   "execution_count": 22,
   "id": "ba6e6037",
   "metadata": {
    "deletable": false,
    "id": "2cacfc4a"
   },
   "outputs": [
    {
     "data": {
      "text/html": [
       "<div>\n",
       "<style scoped>\n",
       "    .dataframe tbody tr th:only-of-type {\n",
       "        vertical-align: middle;\n",
       "    }\n",
       "\n",
       "    .dataframe tbody tr th {\n",
       "        vertical-align: top;\n",
       "    }\n",
       "\n",
       "    .dataframe thead th {\n",
       "        text-align: right;\n",
       "    }\n",
       "</style>\n",
       "<table border=\"1\" class=\"dataframe\">\n",
       "  <thead>\n",
       "    <tr style=\"text-align: right;\">\n",
       "      <th></th>\n",
       "      <th>Всего кредитополучателей</th>\n",
       "      <th>Всего должников</th>\n",
       "      <th>Доля должников</th>\n",
       "    </tr>\n",
       "    <tr>\n",
       "      <th>children</th>\n",
       "      <th></th>\n",
       "      <th></th>\n",
       "      <th></th>\n",
       "    </tr>\n",
       "  </thead>\n",
       "  <tbody>\n",
       "    <tr>\n",
       "      <th>5</th>\n",
       "      <td>9</td>\n",
       "      <td>0</td>\n",
       "      <td>0.000000</td>\n",
       "    </tr>\n",
       "    <tr>\n",
       "      <th>0</th>\n",
       "      <td>14091</td>\n",
       "      <td>1063</td>\n",
       "      <td>0.075438</td>\n",
       "    </tr>\n",
       "    <tr>\n",
       "      <th>3</th>\n",
       "      <td>330</td>\n",
       "      <td>27</td>\n",
       "      <td>0.081818</td>\n",
       "    </tr>\n",
       "    <tr>\n",
       "      <th>1</th>\n",
       "      <td>4808</td>\n",
       "      <td>444</td>\n",
       "      <td>0.092346</td>\n",
       "    </tr>\n",
       "    <tr>\n",
       "      <th>2</th>\n",
       "      <td>2052</td>\n",
       "      <td>194</td>\n",
       "      <td>0.094542</td>\n",
       "    </tr>\n",
       "    <tr>\n",
       "      <th>4</th>\n",
       "      <td>41</td>\n",
       "      <td>4</td>\n",
       "      <td>0.097561</td>\n",
       "    </tr>\n",
       "  </tbody>\n",
       "</table>\n",
       "</div>"
      ],
      "text/plain": [
       "          Всего кредитополучателей  Всего должников  Доля должников\n",
       "children                                                           \n",
       "5                                9                0        0.000000\n",
       "0                            14091             1063        0.075438\n",
       "3                              330               27        0.081818\n",
       "1                             4808              444        0.092346\n",
       "2                             2052              194        0.094542\n",
       "4                               41                4        0.097561"
      ]
     },
     "metadata": {},
     "output_type": "display_data"
    }
   ],
   "source": [
    "#0 - платят кредит в срок\n",
    "#1 - не платят кредит в срок\n",
    "#children_groupby = data.groupby('children')['debt'].mean()\n",
    "#children_unique = data['children'].unique()\n",
    "#children_grouped = data.groupby(['children', 'debt']).agg({'children':'sum'})\n",
    "##print(children_groupby.sort_values())# Ваш код будет здесь. Вы можете создавать новые ячейки.\n",
    "\n",
    "def data_pivot(df, category_column):\n",
    "    table_total = df.pivot_table(index = category_column, values = 'debt', aggfunc=['count', 'sum', 'mean'])\n",
    "    table_total.columns = ['Всего кредитополучателей', 'Всего должников', 'Доля должников']\n",
    "    table_total = table_total.sort_values(by='Доля должников')\n",
    "    display(table_total)\n",
    "data_pivot(data, 'children')"
   ]
  },
  {
   "cell_type": "markdown",
   "id": "c2802980",
   "metadata": {
    "deletable": false,
    "id": "3a6b99ec"
   },
   "source": [
    "**Вывод:** Судя по данным выше, нет никакой прямой зависимости между возвратом кредита в срок и количеством детей, но кое-какие моменты выделить всё же можно. Люди без детей являются наиболее ответственными заёмщиками, а люди с 4 детьми наоборот, наименее ответственными"
   ]
  },
  {
   "cell_type": "markdown",
   "id": "c3b5bec2",
   "metadata": {
    "deletable": false,
    "editable": false,
    "id": "97be82ca"
   },
   "source": [
    "#### 3.2 Есть ли зависимость между семейным положением и возвратом кредита в срок?"
   ]
  },
  {
   "cell_type": "code",
   "execution_count": 23,
   "id": "37e81d7f",
   "metadata": {
    "deletable": false,
    "id": "dc3f7ee8"
   },
   "outputs": [
    {
     "data": {
      "text/html": [
       "<div>\n",
       "<style scoped>\n",
       "    .dataframe tbody tr th:only-of-type {\n",
       "        vertical-align: middle;\n",
       "    }\n",
       "\n",
       "    .dataframe tbody tr th {\n",
       "        vertical-align: top;\n",
       "    }\n",
       "\n",
       "    .dataframe thead th {\n",
       "        text-align: right;\n",
       "    }\n",
       "</style>\n",
       "<table border=\"1\" class=\"dataframe\">\n",
       "  <thead>\n",
       "    <tr style=\"text-align: right;\">\n",
       "      <th></th>\n",
       "      <th>Всего кредитополучателей</th>\n",
       "      <th>Всего должников</th>\n",
       "      <th>Доля должников</th>\n",
       "    </tr>\n",
       "    <tr>\n",
       "      <th>family_status</th>\n",
       "      <th></th>\n",
       "      <th></th>\n",
       "      <th></th>\n",
       "    </tr>\n",
       "  </thead>\n",
       "  <tbody>\n",
       "    <tr>\n",
       "      <th>вдовец / вдова</th>\n",
       "      <td>951</td>\n",
       "      <td>63</td>\n",
       "      <td>0.066246</td>\n",
       "    </tr>\n",
       "    <tr>\n",
       "      <th>в разводе</th>\n",
       "      <td>1189</td>\n",
       "      <td>84</td>\n",
       "      <td>0.070648</td>\n",
       "    </tr>\n",
       "    <tr>\n",
       "      <th>женат / замужем</th>\n",
       "      <td>12261</td>\n",
       "      <td>927</td>\n",
       "      <td>0.075606</td>\n",
       "    </tr>\n",
       "    <tr>\n",
       "      <th>гражданский брак</th>\n",
       "      <td>4134</td>\n",
       "      <td>385</td>\n",
       "      <td>0.093130</td>\n",
       "    </tr>\n",
       "    <tr>\n",
       "      <th>Не женат / не замужем</th>\n",
       "      <td>2796</td>\n",
       "      <td>273</td>\n",
       "      <td>0.097639</td>\n",
       "    </tr>\n",
       "  </tbody>\n",
       "</table>\n",
       "</div>"
      ],
      "text/plain": [
       "                       Всего кредитополучателей  Всего должников  \\\n",
       "family_status                                                      \n",
       "вдовец / вдова                              951               63   \n",
       "в разводе                                  1189               84   \n",
       "женат / замужем                           12261              927   \n",
       "гражданский брак                           4134              385   \n",
       "Не женат / не замужем                      2796              273   \n",
       "\n",
       "                       Доля должников  \n",
       "family_status                          \n",
       "вдовец / вдова               0.066246  \n",
       "в разводе                    0.070648  \n",
       "женат / замужем              0.075606  \n",
       "гражданский брак             0.093130  \n",
       "Не женат / не замужем        0.097639  "
      ]
     },
     "metadata": {},
     "output_type": "display_data"
    }
   ],
   "source": [
    "#0 - платят кредит в срок\n",
    "#1 - не платят кредит в срок\n",
    "\n",
    "#family_unique = data['family_status'].unique\n",
    "#family_groupby = data.groupby('family_status')['debt'].mean()\n",
    "#print(family_groupby.sort_values())# Ваш код будет здесь. Вы можете создавать новые ячейки.\n",
    "data_pivot(data, 'family_status')"
   ]
  },
  {
   "cell_type": "markdown",
   "id": "415c8351",
   "metadata": {
    "deletable": false,
    "id": "1cef7837"
   },
   "source": [
    "**Вывод:** Люди, которые были в браке, выплачивают кредит в срок чаще всего, это касается категории 'вдовец/вдова' и 'в разводе', люди из первой категории имеют лучшую статистку по выпалатам кредитов в срок. Люди, состоящие в браке на данный момент, имеют статистику чуть хуже, при этом люди в категории 'женат/замужем' выплачивают кредит в срок чаще, чем люди из категории 'гражданский брак'. И худшая статистика по выплатам кредита в срок у людей, которые никогда не были женаты или замужем"
   ]
  },
  {
   "cell_type": "markdown",
   "id": "1aace7f5",
   "metadata": {
    "deletable": false,
    "editable": false,
    "id": "1e8b2fca"
   },
   "source": [
    "#### 3.3 Есть ли зависимость между уровнем дохода и возвратом кредита в срок?"
   ]
  },
  {
   "cell_type": "code",
   "execution_count": 24,
   "id": "d5708528",
   "metadata": {
    "deletable": false,
    "id": "cd7e3720"
   },
   "outputs": [
    {
     "data": {
      "text/html": [
       "<div>\n",
       "<style scoped>\n",
       "    .dataframe tbody tr th:only-of-type {\n",
       "        vertical-align: middle;\n",
       "    }\n",
       "\n",
       "    .dataframe tbody tr th {\n",
       "        vertical-align: top;\n",
       "    }\n",
       "\n",
       "    .dataframe thead th {\n",
       "        text-align: right;\n",
       "    }\n",
       "</style>\n",
       "<table border=\"1\" class=\"dataframe\">\n",
       "  <thead>\n",
       "    <tr style=\"text-align: right;\">\n",
       "      <th></th>\n",
       "      <th>Всего кредитополучателей</th>\n",
       "      <th>Всего должников</th>\n",
       "      <th>Доля должников</th>\n",
       "    </tr>\n",
       "    <tr>\n",
       "      <th>total_income_category</th>\n",
       "      <th></th>\n",
       "      <th></th>\n",
       "      <th></th>\n",
       "    </tr>\n",
       "  </thead>\n",
       "  <tbody>\n",
       "    <tr>\n",
       "      <th>D</th>\n",
       "      <td>349</td>\n",
       "      <td>21</td>\n",
       "      <td>0.060172</td>\n",
       "    </tr>\n",
       "    <tr>\n",
       "      <th>B</th>\n",
       "      <td>5014</td>\n",
       "      <td>354</td>\n",
       "      <td>0.070602</td>\n",
       "    </tr>\n",
       "    <tr>\n",
       "      <th>A</th>\n",
       "      <td>25</td>\n",
       "      <td>2</td>\n",
       "      <td>0.080000</td>\n",
       "    </tr>\n",
       "    <tr>\n",
       "      <th>C</th>\n",
       "      <td>15921</td>\n",
       "      <td>1353</td>\n",
       "      <td>0.084982</td>\n",
       "    </tr>\n",
       "    <tr>\n",
       "      <th>E</th>\n",
       "      <td>22</td>\n",
       "      <td>2</td>\n",
       "      <td>0.090909</td>\n",
       "    </tr>\n",
       "  </tbody>\n",
       "</table>\n",
       "</div>"
      ],
      "text/plain": [
       "                       Всего кредитополучателей  Всего должников  \\\n",
       "total_income_category                                              \n",
       "D                                           349               21   \n",
       "B                                          5014              354   \n",
       "A                                            25                2   \n",
       "C                                         15921             1353   \n",
       "E                                            22                2   \n",
       "\n",
       "                       Доля должников  \n",
       "total_income_category                  \n",
       "D                            0.060172  \n",
       "B                            0.070602  \n",
       "A                            0.080000  \n",
       "C                            0.084982  \n",
       "E                            0.090909  "
      ]
     },
     "metadata": {},
     "output_type": "display_data"
    }
   ],
   "source": [
    "#0 - платят кредит в срок\n",
    "#1 - не платят кредит в срок\n",
    "\n",
    "#total_income_category = data['total_income_category'].unique()\n",
    "#total_income_category_groupby = data.groupby('total_income_category')['debt'].mean()\n",
    "#print(total_income_category_groupby.sort_values())# Ваш код будет здесь. Вы можете создавать новые ячейки.\n",
    "data_pivot(data, 'total_income_category')"
   ]
  },
  {
   "cell_type": "markdown",
   "id": "5f737a60",
   "metadata": {
    "deletable": false,
    "id": "e8593def"
   },
   "source": [
    "**Вывод:** Судя по данным выше, нет никакой прямой зависимости между возвратом кредита в срок и уровнем дохода, но можно выделить клиентов из категории B, так как они являются наиболее платёжеспособными клиентами, и чаще всего возвращают кредит в срок. К категотрии B относятся клиенты с доходом 200001–1000000. Клиентов из категории С рассматривать не стоит, так как они достаточно редко возвращают кредит в срок, к ним относятся клиенты с доходом 50001–200000. Рассмотреть их можно только в совокупности с другими положительными признаками для выплата кредита в срок"
   ]
  },
  {
   "cell_type": "markdown",
   "id": "6dd9b4af",
   "metadata": {
    "deletable": false,
    "editable": false,
    "id": "99ecbd1f"
   },
   "source": [
    "#### 3.4 Как разные цели кредита влияют на его возврат в срок?"
   ]
  },
  {
   "cell_type": "code",
   "execution_count": 25,
   "id": "9df68402",
   "metadata": {
    "deletable": false,
    "id": "2b687290"
   },
   "outputs": [
    {
     "data": {
      "text/html": [
       "<div>\n",
       "<style scoped>\n",
       "    .dataframe tbody tr th:only-of-type {\n",
       "        vertical-align: middle;\n",
       "    }\n",
       "\n",
       "    .dataframe tbody tr th {\n",
       "        vertical-align: top;\n",
       "    }\n",
       "\n",
       "    .dataframe thead th {\n",
       "        text-align: right;\n",
       "    }\n",
       "</style>\n",
       "<table border=\"1\" class=\"dataframe\">\n",
       "  <thead>\n",
       "    <tr style=\"text-align: right;\">\n",
       "      <th></th>\n",
       "      <th>Всего кредитополучателей</th>\n",
       "      <th>Всего должников</th>\n",
       "      <th>Доля должников</th>\n",
       "    </tr>\n",
       "    <tr>\n",
       "      <th>purpose_category</th>\n",
       "      <th></th>\n",
       "      <th></th>\n",
       "      <th></th>\n",
       "    </tr>\n",
       "  </thead>\n",
       "  <tbody>\n",
       "    <tr>\n",
       "      <th>операции с недвижимостью</th>\n",
       "      <td>10751</td>\n",
       "      <td>780</td>\n",
       "      <td>0.072551</td>\n",
       "    </tr>\n",
       "    <tr>\n",
       "      <th>проведение свадьбы</th>\n",
       "      <td>2313</td>\n",
       "      <td>183</td>\n",
       "      <td>0.079118</td>\n",
       "    </tr>\n",
       "    <tr>\n",
       "      <th>получение образования</th>\n",
       "      <td>3988</td>\n",
       "      <td>369</td>\n",
       "      <td>0.092528</td>\n",
       "    </tr>\n",
       "    <tr>\n",
       "      <th>операции с автомобилем</th>\n",
       "      <td>4279</td>\n",
       "      <td>400</td>\n",
       "      <td>0.093480</td>\n",
       "    </tr>\n",
       "  </tbody>\n",
       "</table>\n",
       "</div>"
      ],
      "text/plain": [
       "                          Всего кредитополучателей  Всего должников  \\\n",
       "purpose_category                                                      \n",
       "операции с недвижимостью                     10751              780   \n",
       "проведение свадьбы                            2313              183   \n",
       "получение образования                         3988              369   \n",
       "операции с автомобилем                        4279              400   \n",
       "\n",
       "                          Доля должников  \n",
       "purpose_category                          \n",
       "операции с недвижимостью        0.072551  \n",
       "проведение свадьбы              0.079118  \n",
       "получение образования           0.092528  \n",
       "операции с автомобилем          0.093480  "
      ]
     },
     "metadata": {},
     "output_type": "display_data"
    }
   ],
   "source": [
    "#0 - платят кредит в срок\n",
    "#1 - не платят кредит в срок\n",
    "\n",
    "#purpose_category_gtoupby = data.groupby('purpose_category')['debt'].mean()\n",
    "#print(purpose_category_gtoupby.sort_values())# Ваш код будет здесь. Вы можете создавать новые ячейки.\n",
    "data_pivot(data, 'purpose_category')"
   ]
  },
  {
   "cell_type": "markdown",
   "id": "458c3460",
   "metadata": {
    "deletable": false,
    "id": "b4bb2ce6"
   },
   "source": [
    "**Вывод:** Судя по данным ниже, люди, берущие кредит на опреиации с недвижимостью, выплачивают кредит в срок чаще всего. Возможно, это связано с тем, что они более ответственные. Те люди, которые берут кредит на проведение свадьбы, также достаточно\n",
    "часто выплачивают кредит в срок, но реже, чем люди в категории 'операции с недвижимостью'. Люди, берущие кредит для получения образования и операций с автомобилем выплачивают кредит в срок реже остальных категорий, поэтому я бы не советовал выдавать им кредит, особенно на операции с автомобилями, статистика их выплаты кредита в срок самая худшая, но так как таких клиентов около 25%, стоит рассмотреть и их, но в совокупности с другими признаками, о которых я напишу в выводе"
   ]
  },
  {
   "cell_type": "markdown",
   "id": "fda8285c",
   "metadata": {
    "id": "09c3ac4c"
   },
   "source": [
    "#### 3.5 Какие возможные причины появления пропусков в исходных данных?"
   ]
  },
  {
   "cell_type": "markdown",
   "id": "5d96f228",
   "metadata": {
    "deletable": false,
    "id": "9da2ceda"
   },
   "source": [
    "*Ответ:* пропуски присутствуют в столбцах общего трудового стажа в днях и ежемесячного дохода, причём в обоих столбацх пропусков одинаковое количество, а именно 2174. Также, мы знаем из столбца тип занятости все уникальные значения, а именно безработный, в декрете, госслужащий, компаньон, пенсионер, предприниматель, сотрудник и студент. \n",
    "Если в коде прописать следующую строчку:\n",
    "data[data['days_employed'].isna()].groupby('income_type').count()\n",
    "то можно заметить, что у нас отсутствуют данные ежемесячного дохода и общего трудового стажа по предпринимателям, госслужащим, сотрудникам, компаньонам и пенсионерам, в связи с этим мы имеем такое большое количество пропусков. Помимо того, что я описал выше, также в данных могут присутствовать пропуски из-за человеческого и технического фактора. Люди могли просто сообщать не всю информацию, возможно, где-то они ошибались, возможно, просто эта информация была необходима. Технический фактор также мог сыграть свою роль. Объединение таблиц или другие операции могли удалить часть данных из таблиц."
   ]
  },
  {
   "cell_type": "markdown",
   "id": "4f93b6bf",
   "metadata": {
    "deletable": false,
    "editable": false,
    "id": "7b0487d6"
   },
   "source": [
    "#### 3.6 Объясните, почему заполнить пропуски медианным значением — лучшее решение для количественных переменных."
   ]
  },
  {
   "cell_type": "markdown",
   "id": "b1c4b0d6",
   "metadata": {
    "deletable": false,
    "id": "7ecf2b8e"
   },
   "source": [
    "*Ответ:* совсем удалять недостающие данные будет не лучшим решением, так как мы потеряем 9,9% данных. В случае с медианными значениями мы получаем цифры, которые максимально были бы похожими на реальные показатели. Мы выбираем именно медианные показатели, а не средние, так как в этом случае данные не будут сильно отличаться в случае, если в доступных данных из таблицы будут значения, сильно отличающиеся от общей выборки"
   ]
  },
  {
   "cell_type": "markdown",
   "id": "b4454466",
   "metadata": {
    "deletable": false,
    "editable": false,
    "id": "6db5255a"
   },
   "source": [
    "### Шаг 4: общий вывод."
   ]
  },
  {
   "cell_type": "markdown",
   "id": "263ec658",
   "metadata": {
    "deletable": false,
    "id": "bad65432"
   },
   "source": [
    "Вывод: при решении, одобрять ли кредит клиенту, в первую очередь нужно учитывать его семейное положение, которое непосредственно влияет на погашение кредита в срок. Наилучшими клиентами, которые с большей вероятностью будут погашать кредит в срок, будут люди без детей, состоявшие в браки ранее, с уровнем дохода в 200001–1000000, а также их кредит должен быть для операций с недвижимостью. Самыми худшими же клиентами будут не женатые/замужние с детьми, их уровень дохода будет составлять от 50001 до 200000, а также их цель кредита это соверешние операций с машинами. "
   ]
  }
 ],
 "metadata": {
  "ExecuteTimeLog": [
   {
    "duration": 450,
    "start_time": "2022-11-17T07:48:27.858Z"
   },
   {
    "duration": 70,
    "start_time": "2022-11-17T07:48:31.846Z"
   },
   {
    "duration": 31,
    "start_time": "2022-11-17T07:48:31.918Z"
   },
   {
    "duration": 15,
    "start_time": "2022-11-17T07:48:31.951Z"
   },
   {
    "duration": 13,
    "start_time": "2022-11-17T07:48:31.968Z"
   },
   {
    "duration": 64,
    "start_time": "2022-11-17T07:48:31.982Z"
   },
   {
    "duration": 3,
    "start_time": "2022-11-17T07:48:32.049Z"
   },
   {
    "duration": 26,
    "start_time": "2022-11-17T07:48:32.054Z"
   },
   {
    "duration": 9,
    "start_time": "2022-11-17T07:48:32.081Z"
   },
   {
    "duration": 21,
    "start_time": "2022-11-17T07:48:32.091Z"
   },
   {
    "duration": 19,
    "start_time": "2022-11-17T07:48:32.116Z"
   },
   {
    "duration": 43,
    "start_time": "2022-11-17T07:48:32.137Z"
   },
   {
    "duration": 10,
    "start_time": "2022-11-17T07:48:32.182Z"
   },
   {
    "duration": 12,
    "start_time": "2022-11-17T07:48:32.193Z"
   },
   {
    "duration": 35,
    "start_time": "2022-11-17T07:48:32.207Z"
   },
   {
    "duration": 25,
    "start_time": "2022-11-17T07:48:32.244Z"
   },
   {
    "duration": 19,
    "start_time": "2022-11-17T07:48:32.272Z"
   },
   {
    "duration": 4,
    "start_time": "2022-11-17T07:48:32.294Z"
   },
   {
    "duration": 47,
    "start_time": "2022-11-17T07:48:32.300Z"
   },
   {
    "duration": 27,
    "start_time": "2022-11-17T07:48:32.349Z"
   },
   {
    "duration": 30,
    "start_time": "2022-11-17T07:48:32.378Z"
   },
   {
    "duration": 26,
    "start_time": "2022-11-17T07:48:32.410Z"
   },
   {
    "duration": 29,
    "start_time": "2022-11-17T07:48:32.439Z"
   },
   {
    "duration": 25,
    "start_time": "2022-11-17T07:48:32.470Z"
   },
   {
    "duration": 17,
    "start_time": "2022-11-17T07:48:32.498Z"
   },
   {
    "duration": 19,
    "start_time": "2022-11-17T07:48:32.518Z"
   },
   {
    "duration": 3,
    "start_time": "2022-11-17T08:00:40.196Z"
   },
   {
    "duration": 3,
    "start_time": "2022-11-17T08:00:48.429Z"
   },
   {
    "duration": 3,
    "start_time": "2022-11-17T08:01:48.250Z"
   },
   {
    "duration": 5,
    "start_time": "2022-11-17T08:02:03.538Z"
   },
   {
    "duration": 66,
    "start_time": "2022-11-17T08:02:09.506Z"
   },
   {
    "duration": 15,
    "start_time": "2022-11-17T08:02:09.574Z"
   },
   {
    "duration": 17,
    "start_time": "2022-11-17T08:02:09.591Z"
   },
   {
    "duration": 26,
    "start_time": "2022-11-17T08:02:09.610Z"
   },
   {
    "duration": 32,
    "start_time": "2022-11-17T08:02:09.638Z"
   },
   {
    "duration": 3,
    "start_time": "2022-11-17T08:02:09.672Z"
   },
   {
    "duration": 13,
    "start_time": "2022-11-17T08:02:09.676Z"
   },
   {
    "duration": 4,
    "start_time": "2022-11-17T08:02:09.691Z"
   },
   {
    "duration": 8,
    "start_time": "2022-11-17T08:02:09.696Z"
   },
   {
    "duration": 6,
    "start_time": "2022-11-17T08:02:09.706Z"
   },
   {
    "duration": 51,
    "start_time": "2022-11-17T08:02:09.736Z"
   },
   {
    "duration": 15,
    "start_time": "2022-11-17T08:02:09.789Z"
   },
   {
    "duration": 9,
    "start_time": "2022-11-17T08:02:09.805Z"
   },
   {
    "duration": 26,
    "start_time": "2022-11-17T08:02:09.815Z"
   },
   {
    "duration": 31,
    "start_time": "2022-11-17T08:02:09.843Z"
   },
   {
    "duration": 19,
    "start_time": "2022-11-17T08:02:09.876Z"
   },
   {
    "duration": 4,
    "start_time": "2022-11-17T08:02:09.897Z"
   },
   {
    "duration": 14,
    "start_time": "2022-11-17T08:02:09.903Z"
   },
   {
    "duration": 18,
    "start_time": "2022-11-17T08:02:09.919Z"
   },
   {
    "duration": 6,
    "start_time": "2022-11-17T08:02:09.940Z"
   },
   {
    "duration": 17,
    "start_time": "2022-11-17T08:02:09.947Z"
   },
   {
    "duration": 5,
    "start_time": "2022-11-17T08:02:09.966Z"
   },
   {
    "duration": 7,
    "start_time": "2022-11-17T08:02:09.973Z"
   },
   {
    "duration": 7,
    "start_time": "2022-11-17T08:02:09.981Z"
   },
   {
    "duration": 5,
    "start_time": "2022-11-17T08:02:09.989Z"
   },
   {
    "duration": 11,
    "start_time": "2022-11-17T11:40:46.890Z"
   },
   {
    "duration": 10,
    "start_time": "2022-11-17T11:57:08.180Z"
   },
   {
    "duration": 3,
    "start_time": "2022-11-17T11:57:22.930Z"
   },
   {
    "duration": 6,
    "start_time": "2022-11-17T12:11:44.630Z"
   },
   {
    "duration": 7,
    "start_time": "2022-11-17T12:12:00.832Z"
   },
   {
    "duration": 6,
    "start_time": "2022-11-17T12:12:27.138Z"
   },
   {
    "duration": 8,
    "start_time": "2022-11-17T12:12:33.497Z"
   },
   {
    "duration": 7,
    "start_time": "2022-11-17T12:12:38.729Z"
   },
   {
    "duration": 6,
    "start_time": "2022-11-17T12:12:46.579Z"
   },
   {
    "duration": 6,
    "start_time": "2022-11-17T12:18:47.780Z"
   },
   {
    "duration": 4,
    "start_time": "2022-11-17T14:18:07.436Z"
   },
   {
    "duration": 6,
    "start_time": "2022-11-17T14:26:41.706Z"
   },
   {
    "duration": 69,
    "start_time": "2022-11-17T14:26:48.749Z"
   },
   {
    "duration": 750,
    "start_time": "2022-11-17T14:27:46.010Z"
   },
   {
    "duration": 6,
    "start_time": "2022-11-17T14:27:50.150Z"
   },
   {
    "duration": 4,
    "start_time": "2022-11-17T14:28:39.812Z"
   },
   {
    "duration": 5,
    "start_time": "2022-11-17T14:29:22.362Z"
   },
   {
    "duration": 5,
    "start_time": "2022-11-17T14:29:26.375Z"
   },
   {
    "duration": 48,
    "start_time": "2022-11-17T14:29:51.067Z"
   },
   {
    "duration": 7,
    "start_time": "2022-11-17T14:29:59.193Z"
   },
   {
    "duration": 4,
    "start_time": "2022-11-17T14:30:03.475Z"
   },
   {
    "duration": 8,
    "start_time": "2022-11-17T14:33:29.673Z"
   },
   {
    "duration": 7,
    "start_time": "2022-11-17T14:33:34.803Z"
   },
   {
    "duration": 5,
    "start_time": "2022-11-17T14:34:45.311Z"
   },
   {
    "duration": 8,
    "start_time": "2022-11-17T14:34:56.913Z"
   },
   {
    "duration": 8,
    "start_time": "2022-11-17T14:35:09.620Z"
   },
   {
    "duration": 6,
    "start_time": "2022-11-17T14:39:57.890Z"
   },
   {
    "duration": 7,
    "start_time": "2022-11-17T14:40:21.848Z"
   },
   {
    "duration": 6,
    "start_time": "2022-11-17T14:40:44.513Z"
   },
   {
    "duration": 6,
    "start_time": "2022-11-17T14:40:53.484Z"
   },
   {
    "duration": 9,
    "start_time": "2022-11-17T14:41:23.474Z"
   },
   {
    "duration": 10,
    "start_time": "2022-11-17T14:41:34.124Z"
   },
   {
    "duration": 7,
    "start_time": "2022-11-17T14:41:36.701Z"
   },
   {
    "duration": 8,
    "start_time": "2022-11-17T14:47:02.046Z"
   },
   {
    "duration": 8,
    "start_time": "2022-11-17T14:47:19.062Z"
   },
   {
    "duration": 7,
    "start_time": "2022-11-17T14:47:37.684Z"
   },
   {
    "duration": 3,
    "start_time": "2022-11-17T14:51:29.449Z"
   },
   {
    "duration": 7,
    "start_time": "2022-11-17T14:56:16.484Z"
   },
   {
    "duration": 11,
    "start_time": "2022-11-17T14:56:22.557Z"
   },
   {
    "duration": 47,
    "start_time": "2022-11-18T05:50:07.916Z"
   },
   {
    "duration": 759,
    "start_time": "2022-11-18T05:50:15.092Z"
   },
   {
    "duration": 23,
    "start_time": "2022-11-18T05:50:15.853Z"
   },
   {
    "duration": 21,
    "start_time": "2022-11-18T05:50:15.878Z"
   },
   {
    "duration": 14,
    "start_time": "2022-11-18T05:50:15.902Z"
   },
   {
    "duration": 41,
    "start_time": "2022-11-18T05:50:15.918Z"
   },
   {
    "duration": 4,
    "start_time": "2022-11-18T05:50:15.960Z"
   },
   {
    "duration": 32,
    "start_time": "2022-11-18T05:50:15.965Z"
   },
   {
    "duration": 38,
    "start_time": "2022-11-18T05:50:15.998Z"
   },
   {
    "duration": 23,
    "start_time": "2022-11-18T05:50:16.038Z"
   },
   {
    "duration": 13,
    "start_time": "2022-11-18T05:50:16.064Z"
   },
   {
    "duration": 56,
    "start_time": "2022-11-18T05:50:16.078Z"
   },
   {
    "duration": 14,
    "start_time": "2022-11-18T05:50:16.135Z"
   },
   {
    "duration": 4,
    "start_time": "2022-11-18T05:50:16.150Z"
   },
   {
    "duration": 15,
    "start_time": "2022-11-18T05:50:16.156Z"
   },
   {
    "duration": 26,
    "start_time": "2022-11-18T05:50:16.172Z"
   },
   {
    "duration": 21,
    "start_time": "2022-11-18T05:50:16.211Z"
   },
   {
    "duration": 4,
    "start_time": "2022-11-18T05:50:16.233Z"
   },
   {
    "duration": 17,
    "start_time": "2022-11-18T05:50:16.239Z"
   },
   {
    "duration": 13,
    "start_time": "2022-11-18T05:50:16.258Z"
   },
   {
    "duration": 8,
    "start_time": "2022-11-18T05:50:16.273Z"
   },
   {
    "duration": 19,
    "start_time": "2022-11-18T05:50:16.283Z"
   },
   {
    "duration": 7,
    "start_time": "2022-11-18T05:50:16.313Z"
   },
   {
    "duration": 21,
    "start_time": "2022-11-18T05:50:16.322Z"
   },
   {
    "duration": 15,
    "start_time": "2022-11-18T05:50:16.345Z"
   },
   {
    "duration": 29,
    "start_time": "2022-11-18T05:50:16.363Z"
   },
   {
    "duration": 47,
    "start_time": "2022-11-18T05:50:26.680Z"
   },
   {
    "duration": 8,
    "start_time": "2022-11-18T05:50:33.029Z"
   },
   {
    "duration": 4,
    "start_time": "2022-11-18T05:50:38.409Z"
   },
   {
    "duration": 4,
    "start_time": "2022-11-18T05:50:41.694Z"
   },
   {
    "duration": 5,
    "start_time": "2022-11-18T05:50:45.279Z"
   },
   {
    "duration": 4,
    "start_time": "2022-11-18T05:50:49.955Z"
   },
   {
    "duration": 5,
    "start_time": "2022-11-18T05:50:54.160Z"
   },
   {
    "duration": 7,
    "start_time": "2022-11-18T05:51:08.826Z"
   },
   {
    "duration": 7,
    "start_time": "2022-11-18T05:51:55.494Z"
   },
   {
    "duration": 9,
    "start_time": "2022-11-18T05:52:00.764Z"
   },
   {
    "duration": 49,
    "start_time": "2022-11-18T05:53:29.370Z"
   },
   {
    "duration": 8,
    "start_time": "2022-11-18T05:53:38.067Z"
   },
   {
    "duration": 11,
    "start_time": "2022-11-18T05:54:29.057Z"
   },
   {
    "duration": 13,
    "start_time": "2022-11-18T05:57:19.164Z"
   },
   {
    "duration": 7,
    "start_time": "2022-11-18T05:57:27.865Z"
   },
   {
    "duration": 7,
    "start_time": "2022-11-18T05:57:36.553Z"
   },
   {
    "duration": 9,
    "start_time": "2022-11-18T05:59:01.831Z"
   },
   {
    "duration": 10,
    "start_time": "2022-11-18T05:59:16.549Z"
   },
   {
    "duration": 8,
    "start_time": "2022-11-18T06:00:11.151Z"
   },
   {
    "duration": 8,
    "start_time": "2022-11-18T06:00:59.891Z"
   },
   {
    "duration": 9,
    "start_time": "2022-11-18T06:01:21.932Z"
   },
   {
    "duration": 11,
    "start_time": "2022-11-18T06:02:27.756Z"
   },
   {
    "duration": 8,
    "start_time": "2022-11-18T06:41:27.960Z"
   },
   {
    "duration": 8,
    "start_time": "2022-11-18T06:42:33.208Z"
   },
   {
    "duration": 10,
    "start_time": "2022-11-18T06:42:42.922Z"
   },
   {
    "duration": 13,
    "start_time": "2022-11-18T06:42:51.475Z"
   },
   {
    "duration": 7,
    "start_time": "2022-11-18T06:42:59.390Z"
   },
   {
    "duration": 173,
    "start_time": "2022-11-18T06:43:04.201Z"
   },
   {
    "duration": 10,
    "start_time": "2022-11-18T06:43:19.824Z"
   },
   {
    "duration": 23,
    "start_time": "2022-11-18T06:43:42.400Z"
   },
   {
    "duration": 7,
    "start_time": "2022-11-18T06:43:51.593Z"
   },
   {
    "duration": 9,
    "start_time": "2022-11-18T06:44:06.847Z"
   },
   {
    "duration": 10,
    "start_time": "2022-11-18T06:44:28.632Z"
   },
   {
    "duration": 12,
    "start_time": "2022-11-18T06:44:45.638Z"
   },
   {
    "duration": 32,
    "start_time": "2022-11-18T06:48:35.774Z"
   },
   {
    "duration": 5,
    "start_time": "2022-11-18T06:49:16.555Z"
   },
   {
    "duration": 10,
    "start_time": "2022-11-18T06:49:19.237Z"
   },
   {
    "duration": 9,
    "start_time": "2022-11-18T06:49:39.169Z"
   },
   {
    "duration": 10,
    "start_time": "2022-11-18T06:49:57.849Z"
   },
   {
    "duration": 7,
    "start_time": "2022-11-18T06:50:27.468Z"
   },
   {
    "duration": 8,
    "start_time": "2022-11-18T06:53:25.249Z"
   },
   {
    "duration": 7,
    "start_time": "2022-11-18T08:12:06.895Z"
   },
   {
    "duration": 414,
    "start_time": "2022-11-18T18:55:52.581Z"
   },
   {
    "duration": 23,
    "start_time": "2022-11-18T18:55:52.996Z"
   },
   {
    "duration": 13,
    "start_time": "2022-11-18T18:55:53.020Z"
   },
   {
    "duration": 9,
    "start_time": "2022-11-18T18:55:53.035Z"
   },
   {
    "duration": 32,
    "start_time": "2022-11-18T18:55:53.046Z"
   },
   {
    "duration": 3,
    "start_time": "2022-11-18T18:55:53.080Z"
   },
   {
    "duration": 10,
    "start_time": "2022-11-18T18:55:53.085Z"
   },
   {
    "duration": 5,
    "start_time": "2022-11-18T18:55:53.123Z"
   },
   {
    "duration": 8,
    "start_time": "2022-11-18T18:55:53.130Z"
   },
   {
    "duration": 5,
    "start_time": "2022-11-18T18:55:53.141Z"
   },
   {
    "duration": 31,
    "start_time": "2022-11-18T18:55:53.148Z"
   },
   {
    "duration": 42,
    "start_time": "2022-11-18T18:55:53.181Z"
   },
   {
    "duration": 4,
    "start_time": "2022-11-18T18:55:53.225Z"
   },
   {
    "duration": 18,
    "start_time": "2022-11-18T18:55:53.230Z"
   },
   {
    "duration": 19,
    "start_time": "2022-11-18T18:55:53.250Z"
   },
   {
    "duration": 16,
    "start_time": "2022-11-18T18:55:53.271Z"
   },
   {
    "duration": 4,
    "start_time": "2022-11-18T18:55:53.289Z"
   },
   {
    "duration": 39,
    "start_time": "2022-11-18T18:55:53.295Z"
   },
   {
    "duration": 8,
    "start_time": "2022-11-18T18:55:53.335Z"
   },
   {
    "duration": 7,
    "start_time": "2022-11-18T18:55:53.345Z"
   },
   {
    "duration": 18,
    "start_time": "2022-11-18T18:55:53.353Z"
   },
   {
    "duration": 5,
    "start_time": "2022-11-18T18:55:53.373Z"
   },
   {
    "duration": 13,
    "start_time": "2022-11-18T18:55:53.380Z"
   },
   {
    "duration": 27,
    "start_time": "2022-11-18T18:55:53.395Z"
   },
   {
    "duration": 8,
    "start_time": "2022-11-18T18:55:53.423Z"
   },
   {
    "duration": 598,
    "start_time": "2022-11-21T04:03:10.558Z"
   },
   {
    "duration": 25,
    "start_time": "2022-11-21T04:03:11.158Z"
   },
   {
    "duration": 17,
    "start_time": "2022-11-21T04:03:11.184Z"
   },
   {
    "duration": 11,
    "start_time": "2022-11-21T04:03:11.203Z"
   },
   {
    "duration": 62,
    "start_time": "2022-11-21T04:03:11.215Z"
   },
   {
    "duration": 3,
    "start_time": "2022-11-21T04:03:11.279Z"
   },
   {
    "duration": 11,
    "start_time": "2022-11-21T04:03:11.284Z"
   },
   {
    "duration": 4,
    "start_time": "2022-11-21T04:03:11.297Z"
   },
   {
    "duration": 12,
    "start_time": "2022-11-21T04:03:11.303Z"
   },
   {
    "duration": 35,
    "start_time": "2022-11-21T04:03:11.317Z"
   },
   {
    "duration": 38,
    "start_time": "2022-11-21T04:03:11.354Z"
   },
   {
    "duration": 12,
    "start_time": "2022-11-21T04:03:11.393Z"
   },
   {
    "duration": 5,
    "start_time": "2022-11-21T04:03:11.406Z"
   },
   {
    "duration": 47,
    "start_time": "2022-11-21T04:03:11.412Z"
   },
   {
    "duration": 21,
    "start_time": "2022-11-21T04:03:11.460Z"
   },
   {
    "duration": 19,
    "start_time": "2022-11-21T04:03:11.483Z"
   },
   {
    "duration": 4,
    "start_time": "2022-11-21T04:03:11.505Z"
   },
   {
    "duration": 17,
    "start_time": "2022-11-21T04:03:11.511Z"
   },
   {
    "duration": 26,
    "start_time": "2022-11-21T04:03:11.530Z"
   },
   {
    "duration": 9,
    "start_time": "2022-11-21T04:03:11.557Z"
   },
   {
    "duration": 26,
    "start_time": "2022-11-21T04:03:11.567Z"
   },
   {
    "duration": 24,
    "start_time": "2022-11-21T04:03:11.595Z"
   },
   {
    "duration": 13,
    "start_time": "2022-11-21T04:03:11.621Z"
   },
   {
    "duration": 11,
    "start_time": "2022-11-21T04:03:11.636Z"
   },
   {
    "duration": 9,
    "start_time": "2022-11-21T04:03:11.649Z"
   },
   {
    "duration": 73,
    "start_time": "2022-11-21T05:05:04.332Z"
   },
   {
    "duration": 15,
    "start_time": "2022-11-21T05:05:04.408Z"
   },
   {
    "duration": 26,
    "start_time": "2022-11-21T05:05:04.425Z"
   },
   {
    "duration": 11,
    "start_time": "2022-11-21T05:05:04.454Z"
   },
   {
    "duration": 35,
    "start_time": "2022-11-21T05:05:04.466Z"
   },
   {
    "duration": 4,
    "start_time": "2022-11-21T05:05:04.502Z"
   },
   {
    "duration": 11,
    "start_time": "2022-11-21T05:05:04.507Z"
   },
   {
    "duration": 32,
    "start_time": "2022-11-21T05:05:04.520Z"
   },
   {
    "duration": 7,
    "start_time": "2022-11-21T05:05:04.554Z"
   },
   {
    "duration": 9,
    "start_time": "2022-11-21T05:05:04.564Z"
   },
   {
    "duration": 35,
    "start_time": "2022-11-21T05:05:04.575Z"
   },
   {
    "duration": 10,
    "start_time": "2022-11-21T05:05:04.612Z"
   },
   {
    "duration": 4,
    "start_time": "2022-11-21T05:05:04.623Z"
   },
   {
    "duration": 11,
    "start_time": "2022-11-21T05:05:04.652Z"
   },
   {
    "duration": 22,
    "start_time": "2022-11-21T05:05:04.665Z"
   },
   {
    "duration": 18,
    "start_time": "2022-11-21T05:05:04.689Z"
   },
   {
    "duration": 4,
    "start_time": "2022-11-21T05:05:04.708Z"
   },
   {
    "duration": 38,
    "start_time": "2022-11-21T05:05:04.713Z"
   },
   {
    "duration": 6,
    "start_time": "2022-11-21T05:05:04.753Z"
   },
   {
    "duration": 4,
    "start_time": "2022-11-21T05:05:04.761Z"
   },
   {
    "duration": 17,
    "start_time": "2022-11-21T05:05:04.766Z"
   },
   {
    "duration": 10,
    "start_time": "2022-11-21T05:05:04.784Z"
   },
   {
    "duration": 10,
    "start_time": "2022-11-21T05:05:04.796Z"
   },
   {
    "duration": 8,
    "start_time": "2022-11-21T05:05:04.807Z"
   },
   {
    "duration": 7,
    "start_time": "2022-11-21T05:05:04.817Z"
   },
   {
    "duration": 65,
    "start_time": "2022-11-21T05:06:44.553Z"
   },
   {
    "duration": 17,
    "start_time": "2022-11-21T05:07:04.365Z"
   },
   {
    "duration": 13,
    "start_time": "2022-11-21T05:07:18.665Z"
   },
   {
    "duration": 6,
    "start_time": "2022-11-21T05:08:35.702Z"
   },
   {
    "duration": 6,
    "start_time": "2022-11-21T05:08:44.103Z"
   },
   {
    "duration": 12,
    "start_time": "2022-11-21T05:08:47.287Z"
   },
   {
    "duration": 12,
    "start_time": "2022-11-21T05:09:08.433Z"
   },
   {
    "duration": 13,
    "start_time": "2022-11-21T05:09:16.304Z"
   },
   {
    "duration": 12,
    "start_time": "2022-11-21T05:09:18.703Z"
   },
   {
    "duration": 30,
    "start_time": "2022-11-21T05:14:03.362Z"
   },
   {
    "duration": 26,
    "start_time": "2022-11-21T10:16:36.775Z"
   },
   {
    "duration": 26,
    "start_time": "2022-11-21T10:16:52.184Z"
   },
   {
    "duration": 42,
    "start_time": "2022-11-21T10:17:28.783Z"
   },
   {
    "duration": 26,
    "start_time": "2022-11-21T10:17:52.523Z"
   },
   {
    "duration": 29,
    "start_time": "2022-11-21T10:17:55.626Z"
   },
   {
    "duration": 36,
    "start_time": "2022-11-21T10:18:42.388Z"
   },
   {
    "duration": 31,
    "start_time": "2022-11-21T10:19:30.385Z"
   },
   {
    "duration": 486,
    "start_time": "2022-11-21T11:36:22.900Z"
   },
   {
    "duration": 24,
    "start_time": "2022-11-21T11:36:23.388Z"
   },
   {
    "duration": 16,
    "start_time": "2022-11-21T11:36:23.414Z"
   },
   {
    "duration": 36,
    "start_time": "2022-11-21T11:36:23.432Z"
   },
   {
    "duration": 56,
    "start_time": "2022-11-21T11:36:23.470Z"
   },
   {
    "duration": 4,
    "start_time": "2022-11-21T11:36:23.527Z"
   },
   {
    "duration": 13,
    "start_time": "2022-11-21T11:36:23.532Z"
   },
   {
    "duration": 5,
    "start_time": "2022-11-21T11:36:23.547Z"
   },
   {
    "duration": 31,
    "start_time": "2022-11-21T11:36:23.553Z"
   },
   {
    "duration": 6,
    "start_time": "2022-11-21T11:36:23.587Z"
   },
   {
    "duration": 36,
    "start_time": "2022-11-21T11:36:23.595Z"
   },
   {
    "duration": 15,
    "start_time": "2022-11-21T11:36:23.633Z"
   },
   {
    "duration": 28,
    "start_time": "2022-11-21T11:36:23.650Z"
   },
   {
    "duration": 13,
    "start_time": "2022-11-21T11:36:23.680Z"
   },
   {
    "duration": 22,
    "start_time": "2022-11-21T11:36:23.695Z"
   },
   {
    "duration": 18,
    "start_time": "2022-11-21T11:36:23.719Z"
   },
   {
    "duration": 5,
    "start_time": "2022-11-21T11:36:23.739Z"
   },
   {
    "duration": 45,
    "start_time": "2022-11-21T11:36:23.746Z"
   },
   {
    "duration": 11,
    "start_time": "2022-11-21T11:36:23.793Z"
   },
   {
    "duration": 5,
    "start_time": "2022-11-21T11:36:23.806Z"
   },
   {
    "duration": 14,
    "start_time": "2022-11-21T11:36:23.813Z"
   },
   {
    "duration": 61,
    "start_time": "2022-11-21T11:36:23.829Z"
   },
   {
    "duration": 40,
    "start_time": "2022-11-21T11:36:23.892Z"
   },
   {
    "duration": 61,
    "start_time": "2022-11-21T11:36:23.934Z"
   },
   {
    "duration": 40,
    "start_time": "2022-11-21T11:36:23.997Z"
   },
   {
    "duration": 508,
    "start_time": "2022-11-21T14:28:02.501Z"
   },
   {
    "duration": 28,
    "start_time": "2022-11-21T14:28:03.011Z"
   },
   {
    "duration": 16,
    "start_time": "2022-11-21T14:28:03.041Z"
   },
   {
    "duration": 27,
    "start_time": "2022-11-21T14:28:03.059Z"
   },
   {
    "duration": 36,
    "start_time": "2022-11-21T14:28:03.088Z"
   },
   {
    "duration": 4,
    "start_time": "2022-11-21T14:28:03.126Z"
   },
   {
    "duration": 10,
    "start_time": "2022-11-21T14:28:03.132Z"
   },
   {
    "duration": 5,
    "start_time": "2022-11-21T14:28:03.144Z"
   },
   {
    "duration": 6,
    "start_time": "2022-11-21T14:28:03.179Z"
   },
   {
    "duration": 12,
    "start_time": "2022-11-21T14:28:03.190Z"
   },
   {
    "duration": 37,
    "start_time": "2022-11-21T14:28:03.204Z"
   },
   {
    "duration": 11,
    "start_time": "2022-11-21T14:28:03.243Z"
   },
   {
    "duration": 25,
    "start_time": "2022-11-21T14:28:03.255Z"
   },
   {
    "duration": 16,
    "start_time": "2022-11-21T14:28:03.282Z"
   },
   {
    "duration": 27,
    "start_time": "2022-11-21T14:28:03.300Z"
   },
   {
    "duration": 21,
    "start_time": "2022-11-21T14:28:03.329Z"
   },
   {
    "duration": 28,
    "start_time": "2022-11-21T14:28:03.352Z"
   },
   {
    "duration": 19,
    "start_time": "2022-11-21T14:28:03.382Z"
   },
   {
    "duration": 16,
    "start_time": "2022-11-21T14:28:03.403Z"
   },
   {
    "duration": 10,
    "start_time": "2022-11-21T14:28:03.420Z"
   },
   {
    "duration": 12,
    "start_time": "2022-11-21T14:28:03.432Z"
   },
   {
    "duration": 45,
    "start_time": "2022-11-21T14:28:03.446Z"
   },
   {
    "duration": 32,
    "start_time": "2022-11-21T14:28:03.494Z"
   },
   {
    "duration": 52,
    "start_time": "2022-11-21T14:28:03.527Z"
   },
   {
    "duration": 31,
    "start_time": "2022-11-21T14:28:03.581Z"
   },
   {
    "duration": 7,
    "start_time": "2022-11-21T14:42:15.886Z"
   },
   {
    "duration": 6,
    "start_time": "2022-11-21T14:43:08.206Z"
   },
   {
    "duration": 10,
    "start_time": "2022-11-21T14:43:17.655Z"
   },
   {
    "duration": 67,
    "start_time": "2022-11-21T14:43:29.481Z"
   },
   {
    "duration": 8,
    "start_time": "2022-11-21T14:43:36.656Z"
   },
   {
    "duration": 15,
    "start_time": "2022-11-21T14:44:01.266Z"
   },
   {
    "duration": 13,
    "start_time": "2022-11-21T14:46:34.431Z"
   },
   {
    "duration": 47,
    "start_time": "2022-11-22T05:42:58.776Z"
   },
   {
    "duration": 7,
    "start_time": "2022-11-22T05:43:01.179Z"
   },
   {
    "duration": 666,
    "start_time": "2022-11-22T05:43:07.684Z"
   },
   {
    "duration": 23,
    "start_time": "2022-11-22T05:43:08.351Z"
   },
   {
    "duration": 30,
    "start_time": "2022-11-22T05:43:08.375Z"
   },
   {
    "duration": 21,
    "start_time": "2022-11-22T05:43:08.407Z"
   },
   {
    "duration": 56,
    "start_time": "2022-11-22T05:43:08.430Z"
   },
   {
    "duration": 3,
    "start_time": "2022-11-22T05:43:08.488Z"
   },
   {
    "duration": 23,
    "start_time": "2022-11-22T05:43:08.493Z"
   },
   {
    "duration": 32,
    "start_time": "2022-11-22T05:43:08.518Z"
   },
   {
    "duration": 28,
    "start_time": "2022-11-22T05:43:08.552Z"
   },
   {
    "duration": 16,
    "start_time": "2022-11-22T05:43:08.583Z"
   },
   {
    "duration": 67,
    "start_time": "2022-11-22T05:43:08.601Z"
   },
   {
    "duration": 10,
    "start_time": "2022-11-22T05:43:08.670Z"
   },
   {
    "duration": 15,
    "start_time": "2022-11-22T05:43:08.682Z"
   },
   {
    "duration": 31,
    "start_time": "2022-11-22T05:43:08.698Z"
   },
   {
    "duration": 39,
    "start_time": "2022-11-22T05:43:08.730Z"
   },
   {
    "duration": 18,
    "start_time": "2022-11-22T05:43:08.771Z"
   },
   {
    "duration": 4,
    "start_time": "2022-11-22T05:43:08.790Z"
   },
   {
    "duration": 57,
    "start_time": "2022-11-22T05:43:08.795Z"
   },
   {
    "duration": 19,
    "start_time": "2022-11-22T05:43:08.854Z"
   },
   {
    "duration": 31,
    "start_time": "2022-11-22T05:43:08.875Z"
   },
   {
    "duration": 51,
    "start_time": "2022-11-22T05:43:08.908Z"
   },
   {
    "duration": 57,
    "start_time": "2022-11-22T05:43:08.960Z"
   },
   {
    "duration": 54,
    "start_time": "2022-11-22T05:43:09.018Z"
   },
   {
    "duration": 44,
    "start_time": "2022-11-22T05:43:09.074Z"
   },
   {
    "duration": 35,
    "start_time": "2022-11-22T05:43:09.119Z"
   },
   {
    "duration": 10,
    "start_time": "2022-11-22T05:43:21.008Z"
   },
   {
    "duration": 40,
    "start_time": "2022-11-22T05:44:19.455Z"
   },
   {
    "duration": 14,
    "start_time": "2022-11-22T05:44:34.936Z"
   },
   {
    "duration": 8,
    "start_time": "2022-11-22T05:44:43.489Z"
   },
   {
    "duration": 498,
    "start_time": "2022-11-22T11:02:57.917Z"
   },
   {
    "duration": 25,
    "start_time": "2022-11-22T11:02:58.417Z"
   },
   {
    "duration": 15,
    "start_time": "2022-11-22T11:02:58.444Z"
   },
   {
    "duration": 11,
    "start_time": "2022-11-22T11:02:58.461Z"
   },
   {
    "duration": 36,
    "start_time": "2022-11-22T11:02:58.474Z"
   },
   {
    "duration": 4,
    "start_time": "2022-11-22T11:02:58.511Z"
   },
   {
    "duration": 36,
    "start_time": "2022-11-22T11:02:58.517Z"
   },
   {
    "duration": 5,
    "start_time": "2022-11-22T11:02:58.555Z"
   },
   {
    "duration": 10,
    "start_time": "2022-11-22T11:02:58.561Z"
   },
   {
    "duration": 5,
    "start_time": "2022-11-22T11:02:58.575Z"
   },
   {
    "duration": 39,
    "start_time": "2022-11-22T11:02:58.581Z"
   },
   {
    "duration": 33,
    "start_time": "2022-11-22T11:02:58.622Z"
   },
   {
    "duration": 4,
    "start_time": "2022-11-22T11:02:58.656Z"
   },
   {
    "duration": 14,
    "start_time": "2022-11-22T11:02:58.662Z"
   },
   {
    "duration": 22,
    "start_time": "2022-11-22T11:02:58.678Z"
   },
   {
    "duration": 19,
    "start_time": "2022-11-22T11:02:58.702Z"
   },
   {
    "duration": 4,
    "start_time": "2022-11-22T11:02:58.750Z"
   },
   {
    "duration": 17,
    "start_time": "2022-11-22T11:02:58.756Z"
   },
   {
    "duration": 10,
    "start_time": "2022-11-22T11:02:58.774Z"
   },
   {
    "duration": 3,
    "start_time": "2022-11-22T11:02:58.786Z"
   },
   {
    "duration": 18,
    "start_time": "2022-11-22T11:02:58.791Z"
   },
   {
    "duration": 46,
    "start_time": "2022-11-22T11:02:58.811Z"
   },
   {
    "duration": 32,
    "start_time": "2022-11-22T11:02:58.859Z"
   },
   {
    "duration": 28,
    "start_time": "2022-11-22T11:02:58.892Z"
   },
   {
    "duration": 50,
    "start_time": "2022-11-22T11:02:58.922Z"
   },
   {
    "duration": 20,
    "start_time": "2022-11-22T11:05:18.186Z"
   },
   {
    "duration": 1161,
    "start_time": "2022-11-22T11:06:53.650Z"
   },
   {
    "duration": 483,
    "start_time": "2022-11-22T12:01:41.159Z"
   },
   {
    "duration": 26,
    "start_time": "2022-11-22T12:01:41.644Z"
   },
   {
    "duration": 31,
    "start_time": "2022-11-22T12:01:41.672Z"
   },
   {
    "duration": 12,
    "start_time": "2022-11-22T12:01:41.705Z"
   },
   {
    "duration": 47,
    "start_time": "2022-11-22T12:01:41.718Z"
   },
   {
    "duration": 4,
    "start_time": "2022-11-22T12:01:41.767Z"
   },
   {
    "duration": 10,
    "start_time": "2022-11-22T12:01:41.773Z"
   },
   {
    "duration": 4,
    "start_time": "2022-11-22T12:01:41.786Z"
   },
   {
    "duration": 11,
    "start_time": "2022-11-22T12:01:41.792Z"
   },
   {
    "duration": 6,
    "start_time": "2022-11-22T12:01:41.807Z"
   },
   {
    "duration": 67,
    "start_time": "2022-11-22T12:01:41.815Z"
   },
   {
    "duration": 10,
    "start_time": "2022-11-22T12:01:41.884Z"
   },
   {
    "duration": 5,
    "start_time": "2022-11-22T12:01:41.896Z"
   },
   {
    "duration": 16,
    "start_time": "2022-11-22T12:01:41.903Z"
   },
   {
    "duration": 41,
    "start_time": "2022-11-22T12:01:41.921Z"
   },
   {
    "duration": 19,
    "start_time": "2022-11-22T12:01:41.964Z"
   },
   {
    "duration": 3,
    "start_time": "2022-11-22T12:01:41.985Z"
   },
   {
    "duration": 17,
    "start_time": "2022-11-22T12:01:41.989Z"
   },
   {
    "duration": 6,
    "start_time": "2022-11-22T12:01:42.008Z"
   },
   {
    "duration": 7,
    "start_time": "2022-11-22T12:01:42.016Z"
   },
   {
    "duration": 29,
    "start_time": "2022-11-22T12:01:42.024Z"
   },
   {
    "duration": 34,
    "start_time": "2022-11-22T12:01:42.055Z"
   },
   {
    "duration": 29,
    "start_time": "2022-11-22T12:01:42.091Z"
   },
   {
    "duration": 47,
    "start_time": "2022-11-22T12:01:42.122Z"
   },
   {
    "duration": 29,
    "start_time": "2022-11-22T12:01:42.171Z"
   }
  ],
  "celltoolbar": "Edit Metadata",
  "colab": {
   "name": "dpp_template_part2.ipynb",
   "provenance": []
  },
  "kernelspec": {
   "display_name": "Python 3 (ipykernel)",
   "language": "python",
   "name": "python3"
  },
  "language_info": {
   "codemirror_mode": {
    "name": "ipython",
    "version": 3
   },
   "file_extension": ".py",
   "mimetype": "text/x-python",
   "name": "python",
   "nbconvert_exporter": "python",
   "pygments_lexer": "ipython3",
   "version": "3.9.13"
  },
  "toc": {
   "base_numbering": 1,
   "nav_menu": {},
   "number_sections": true,
   "sideBar": true,
   "skip_h1_title": true,
   "title_cell": "Table of Contents",
   "title_sidebar": "Contents",
   "toc_cell": false,
   "toc_position": {},
   "toc_section_display": true,
   "toc_window_display": false
  }
 },
 "nbformat": 4,
 "nbformat_minor": 5
}
