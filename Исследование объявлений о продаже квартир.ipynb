{
 "cells": [
  {
   "cell_type": "markdown",
   "metadata": {},
   "source": [
    "# Исследование объявлений о продаже квартир"
   ]
  },
  {
   "cell_type": "markdown",
   "metadata": {},
   "source": [
    "## Описание проекта "
   ]
  },
  {
   "cell_type": "markdown",
   "metadata": {},
   "source": [
    "В вашем распоряжении данные сервиса Яндекс Недвижимость — архив объявлений за несколько лет о продаже квартир в Санкт-Петербурге и соседних населённых пунктах.\n",
    "\n",
    "Ваша задача — выполнить предобработку данных и изучить их, чтобы найти интересные особенности и зависимости, которые существуют на рынке недвижимости.\n",
    "\n",
    "О каждой квартире в базе содержится два типа данных: добавленные пользователем и картографические. Например, к первому типу относятся площадь квартиры, её этаж и количество балконов, ко второму — расстояния до центра города, аэропорта и ближайшего парка."
   ]
  },
  {
   "cell_type": "markdown",
   "metadata": {},
   "source": [
    "**Описание данных**\n",
    "* airports_nearest — расстояние до ближайшего аэропорта в метрах (м)\n",
    "* balcony — число балконов\n",
    "* ceiling_height — высота потолков (м)\n",
    "* cityCenters_nearest — расстояние до центра города (м)\n",
    "* days_exposition — сколько дней было размещено объявление (от публикации до снятия)\n",
    "* first_day_exposition — дата публикации\n",
    "* floor — этаж\n",
    "* floors_total — всего этажей в доме\n",
    "* is_apartment — апартаменты (булев тип)\n",
    "* kitchen_area — площадь кухни в квадратных метрах (м²)\n",
    "* last_price — цена на момент снятия с публикации\n",
    "* living_area — жилая площадь в квадратных метрах (м²)\n",
    "* locality_name — название населённого пункта\n",
    "* open_plan — свободная планировка (булев тип)\n",
    "* parks_around3000 — число парков в радиусе 3 км\n",
    "* parks_nearest — расстояние до ближайшего парка (м)\n",
    "* ponds_around3000 — число водоёмов в радиусе 3 км\n",
    "* ponds_nearest — расстояние до ближайшего водоёма (м)\n",
    "* rooms — число комнат\n",
    "* studio — квартира-студия (булев тип)\n",
    "* total_area — общая площадь квартиры в квадратных метрах (м²)\n",
    "* total_images — число фотографий квартиры в объявлении"
   ]
  },
  {
   "cell_type": "markdown",
   "metadata": {},
   "source": [
    "### Открываю файл с данными и изучаю общую информацию. "
   ]
  },
  {
   "cell_type": "markdown",
   "metadata": {},
   "source": [
    "Импортирую pandas для получения данных, затем строю гистограммы каждого столбца"
   ]
  },
  {
   "cell_type": "code",
   "execution_count": 1,
   "metadata": {
    "scrolled": false
   },
   "outputs": [
    {
     "name": "stdout",
     "output_type": "stream",
     "text": [
      "    total_images  last_price  total_area first_day_exposition  rooms  \\\n",
      "0             20  13000000.0      108.00  2019-03-07T00:00:00      3   \n",
      "1              7   3350000.0       40.40  2018-12-04T00:00:00      1   \n",
      "2             10   5196000.0       56.00  2015-08-20T00:00:00      2   \n",
      "3              0  64900000.0      159.00  2015-07-24T00:00:00      3   \n",
      "4              2  10000000.0      100.00  2018-06-19T00:00:00      2   \n",
      "5             10   2890000.0       30.40  2018-09-10T00:00:00      1   \n",
      "6              6   3700000.0       37.30  2017-11-02T00:00:00      1   \n",
      "7              5   7915000.0       71.60  2019-04-18T00:00:00      2   \n",
      "8             20   2900000.0       33.16  2018-05-23T00:00:00      1   \n",
      "9             18   5400000.0       61.00  2017-02-26T00:00:00      3   \n",
      "10             5   5050000.0       39.60  2017-11-16T00:00:00      1   \n",
      "11             9   3300000.0       44.00  2018-08-27T00:00:00      2   \n",
      "12            10   3890000.0       54.00  2016-06-30T00:00:00      2   \n",
      "13            20   3550000.0       42.80  2017-07-01T00:00:00      2   \n",
      "14             1   4400000.0       36.00  2016-06-23T00:00:00      1   \n",
      "15            16   4650000.0       39.00  2017-11-18T00:00:00      1   \n",
      "16            11   6700000.0       82.00  2017-11-23T00:00:00      3   \n",
      "17             6   4180000.0       36.00  2016-09-09T00:00:00      1   \n",
      "18             8   3250000.0       31.00  2017-01-27T00:00:00      1   \n",
      "19            16  14200000.0      121.00  2019-01-09T00:00:00      3   \n",
      "\n",
      "    ceiling_height  floors_total  living_area  floor is_apartment  ...  \\\n",
      "0             2.70          16.0        51.00      8          NaN  ...   \n",
      "1              NaN          11.0        18.60      1          NaN  ...   \n",
      "2              NaN           5.0        34.30      4          NaN  ...   \n",
      "3              NaN          14.0          NaN      9          NaN  ...   \n",
      "4             3.03          14.0        32.00     13          NaN  ...   \n",
      "5              NaN          12.0        14.40      5          NaN  ...   \n",
      "6              NaN          26.0        10.60      6          NaN  ...   \n",
      "7              NaN          24.0          NaN     22          NaN  ...   \n",
      "8              NaN          27.0        15.43     26          NaN  ...   \n",
      "9             2.50           9.0        43.60      7          NaN  ...   \n",
      "10            2.67          12.0        20.30      3          NaN  ...   \n",
      "11             NaN           5.0        31.00      4        False  ...   \n",
      "12             NaN           5.0        30.00      5          NaN  ...   \n",
      "13            2.56           5.0        27.00      5          NaN  ...   \n",
      "14             NaN           6.0        17.00      1          NaN  ...   \n",
      "15             NaN          14.0        20.50      5          NaN  ...   \n",
      "16            3.05           5.0        55.60      1          NaN  ...   \n",
      "17             NaN          17.0        16.50      7          NaN  ...   \n",
      "18            2.50           5.0        19.40      2          NaN  ...   \n",
      "19            2.75          16.0        76.00      8          NaN  ...   \n",
      "\n",
      "    kitchen_area  balcony              locality_name  airports_nearest  \\\n",
      "0          25.00      NaN            Санкт-Петербург           18863.0   \n",
      "1          11.00      2.0             посёлок Шушары           12817.0   \n",
      "2           8.30      0.0            Санкт-Петербург           21741.0   \n",
      "3            NaN      0.0            Санкт-Петербург           28098.0   \n",
      "4          41.00      NaN            Санкт-Петербург           31856.0   \n",
      "5           9.10      NaN  городской посёлок Янино-1               NaN   \n",
      "6          14.40      1.0          посёлок Парголово           52996.0   \n",
      "7          18.90      2.0            Санкт-Петербург           23982.0   \n",
      "8           8.81      NaN             посёлок Мурино               NaN   \n",
      "9           6.50      2.0            Санкт-Петербург           50898.0   \n",
      "10          8.50      NaN            Санкт-Петербург           38357.0   \n",
      "11          6.00      1.0                  Ломоносов           48252.0   \n",
      "12          9.00      0.0                  Сертолово               NaN   \n",
      "13          5.20      1.0                   Петергоф           37868.0   \n",
      "14          8.00      0.0                     Пушкин           20782.0   \n",
      "15          7.60      1.0            Санкт-Петербург           12900.0   \n",
      "16          9.00      NaN            Санкт-Петербург           22108.0   \n",
      "17         11.00      1.0            Санкт-Петербург           33564.0   \n",
      "18          5.60      1.0            Санкт-Петербург           44060.0   \n",
      "19         12.00      NaN            Санкт-Петербург           38900.0   \n",
      "\n",
      "   cityCenters_nearest  parks_around3000  parks_nearest  ponds_around3000  \\\n",
      "0              16028.0               1.0          482.0               2.0   \n",
      "1              18603.0               0.0            NaN               0.0   \n",
      "2              13933.0               1.0           90.0               2.0   \n",
      "3               6800.0               2.0           84.0               3.0   \n",
      "4               8098.0               2.0          112.0               1.0   \n",
      "5                  NaN               NaN            NaN               NaN   \n",
      "6              19143.0               0.0            NaN               0.0   \n",
      "7              11634.0               0.0            NaN               0.0   \n",
      "8                  NaN               NaN            NaN               NaN   \n",
      "9              15008.0               0.0            NaN               0.0   \n",
      "10             13878.0               1.0          310.0               2.0   \n",
      "11             51677.0               0.0            NaN               0.0   \n",
      "12                 NaN               NaN            NaN               NaN   \n",
      "13             33058.0               1.0          294.0               3.0   \n",
      "14             30759.0               0.0            NaN               1.0   \n",
      "15             14259.0               1.0          590.0               1.0   \n",
      "16             10698.0               3.0          420.0               0.0   \n",
      "17             14616.0               0.0            NaN               1.0   \n",
      "18             10842.0               1.0          759.0               0.0   \n",
      "19             12843.0               0.0            NaN               0.0   \n",
      "\n",
      "    ponds_nearest  days_exposition  \n",
      "0           755.0              NaN  \n",
      "1             NaN             81.0  \n",
      "2           574.0            558.0  \n",
      "3           234.0            424.0  \n",
      "4            48.0            121.0  \n",
      "5             NaN             55.0  \n",
      "6             NaN            155.0  \n",
      "7             NaN              NaN  \n",
      "8             NaN            189.0  \n",
      "9             NaN            289.0  \n",
      "10          553.0            137.0  \n",
      "11            NaN              7.0  \n",
      "12            NaN             90.0  \n",
      "13          298.0            366.0  \n",
      "14           96.0            203.0  \n",
      "15          296.0             19.0  \n",
      "16            NaN            397.0  \n",
      "17          859.0            571.0  \n",
      "18            NaN            168.0  \n",
      "19            NaN             97.0  \n",
      "\n",
      "[20 rows x 22 columns]\n",
      "\n",
      "<class 'pandas.core.frame.DataFrame'>\n",
      "RangeIndex: 23699 entries, 0 to 23698\n",
      "Data columns (total 22 columns):\n",
      " #   Column                Non-Null Count  Dtype  \n",
      "---  ------                --------------  -----  \n",
      " 0   total_images          23699 non-null  int64  \n",
      " 1   last_price            23699 non-null  float64\n",
      " 2   total_area            23699 non-null  float64\n",
      " 3   first_day_exposition  23699 non-null  object \n",
      " 4   rooms                 23699 non-null  int64  \n",
      " 5   ceiling_height        14504 non-null  float64\n",
      " 6   floors_total          23613 non-null  float64\n",
      " 7   living_area           21796 non-null  float64\n",
      " 8   floor                 23699 non-null  int64  \n",
      " 9   is_apartment          2775 non-null   object \n",
      " 10  studio                23699 non-null  bool   \n",
      " 11  open_plan             23699 non-null  bool   \n",
      " 12  kitchen_area          21421 non-null  float64\n",
      " 13  balcony               12180 non-null  float64\n",
      " 14  locality_name         23650 non-null  object \n",
      " 15  airports_nearest      18157 non-null  float64\n",
      " 16  cityCenters_nearest   18180 non-null  float64\n",
      " 17  parks_around3000      18181 non-null  float64\n",
      " 18  parks_nearest         8079 non-null   float64\n",
      " 19  ponds_around3000      18181 non-null  float64\n",
      " 20  ponds_nearest         9110 non-null   float64\n",
      " 21  days_exposition       20518 non-null  float64\n",
      "dtypes: bool(2), float64(14), int64(3), object(3)\n",
      "memory usage: 3.7+ MB\n",
      "\n"
     ]
    },
    {
     "data": {
      "image/png": "[encoded data removed]",
      "text/plain": [
       "<Figure size 1080x1440 with 20 Axes>"
      ]
     },
     "metadata": {
      "needs_background": "light"
     },
     "output_type": "display_data"
    }
   ],
   "source": [
    "import matplotlib.pyplot as plt\n",
    "import pandas as pd\n",
    "data = pd.read_csv('/datasets/real_estate_data.csv', sep='\\t')\n",
    "print(data.head(20))\n",
    "print()\n",
    "data.info()\n",
    "print()\n",
    "data.hist(figsize=(15, 20))\n",
    "plt.show()"
   ]
  },
  {
   "cell_type": "markdown",
   "metadata": {},
   "source": [
    "### Предобработка данных"
   ]
  },
  {
   "cell_type": "markdown",
   "metadata": {},
   "source": [
    "Изменяю типы данных в тех столбцах, где это возможно без заполнения значений"
   ]
  },
  {
   "cell_type": "code",
   "execution_count": 2,
   "metadata": {},
   "outputs": [],
   "source": [
    "data['last_price'] = data['last_price'].astype('int')"
   ]
  },
  {
   "cell_type": "markdown",
   "metadata": {},
   "source": [
    "Заменяю пропущенные значения на 0 в столбцах, в которых посчитал это приемлемым, а также сразу изменяю тип данных"
   ]
  },
  {
   "cell_type": "code",
   "execution_count": 3,
   "metadata": {},
   "outputs": [],
   "source": [
    "data['balcony'] = data['balcony'].fillna(0).astype('int')\n",
    "data['parks_around3000'] = data['parks_around3000'].fillna(0).astype('int')\n",
    "data['ponds_around3000'] = data['ponds_around3000'].fillna(0).astype('int')"
   ]
  },
  {
   "cell_type": "markdown",
   "metadata": {},
   "source": [
    "Считаю среднее значения столбца \"floors_total\", чтобы заменить недостающие значения на среднее значение"
   ]
  },
  {
   "cell_type": "code",
   "execution_count": 4,
   "metadata": {},
   "outputs": [
    {
     "name": "stdout",
     "output_type": "stream",
     "text": [
      "10.673823741159529\n"
     ]
    }
   ],
   "source": [
    "floor_mean = data['floors_total'].mean()\n",
    "data['floors_total'] = data['floors_total'].fillna(floor_mean)\n",
    "print(data['floors_total'].mean())"
   ]
  },
  {
   "cell_type": "markdown",
   "metadata": {},
   "source": [
    "Заменяю пропущенные значения в столбце \"floors_total\" на 11, а также изменяю тип данных"
   ]
  },
  {
   "cell_type": "code",
   "execution_count": 5,
   "metadata": {},
   "outputs": [],
   "source": [
    "data['floors_total'] = data['floors_total'].fillna(11).astype('int')"
   ]
  },
  {
   "cell_type": "markdown",
   "metadata": {},
   "source": [
    "Изменяю тип данных в столбце \"is_apartment\", а также заменяю все пропущенные значения на \"False\", так как скорее всего этот пункт просто не заполняли, если квартира не являлась апартаментами"
   ]
  },
  {
   "cell_type": "code",
   "execution_count": 6,
   "metadata": {},
   "outputs": [],
   "source": [
    "data['is_apartment'] = data['is_apartment'].fillna(False).astype('bool')"
   ]
  },
  {
   "cell_type": "markdown",
   "metadata": {},
   "source": [
    "Проверяю, всё ли сработало"
   ]
  },
  {
   "cell_type": "code",
   "execution_count": 7,
   "metadata": {},
   "outputs": [
    {
     "name": "stdout",
     "output_type": "stream",
     "text": [
      "<class 'pandas.core.frame.DataFrame'>\n",
      "RangeIndex: 23699 entries, 0 to 23698\n",
      "Data columns (total 22 columns):\n",
      " #   Column                Non-Null Count  Dtype  \n",
      "---  ------                --------------  -----  \n",
      " 0   total_images          23699 non-null  int64  \n",
      " 1   last_price            23699 non-null  int64  \n",
      " 2   total_area            23699 non-null  float64\n",
      " 3   first_day_exposition  23699 non-null  object \n",
      " 4   rooms                 23699 non-null  int64  \n",
      " 5   ceiling_height        14504 non-null  float64\n",
      " 6   floors_total          23699 non-null  int64  \n",
      " 7   living_area           21796 non-null  float64\n",
      " 8   floor                 23699 non-null  int64  \n",
      " 9   is_apartment          23699 non-null  bool   \n",
      " 10  studio                23699 non-null  bool   \n",
      " 11  open_plan             23699 non-null  bool   \n",
      " 12  kitchen_area          21421 non-null  float64\n",
      " 13  balcony               23699 non-null  int64  \n",
      " 14  locality_name         23650 non-null  object \n",
      " 15  airports_nearest      18157 non-null  float64\n",
      " 16  cityCenters_nearest   18180 non-null  float64\n",
      " 17  parks_around3000      23699 non-null  int64  \n",
      " 18  parks_nearest         8079 non-null   float64\n",
      " 19  ponds_around3000      23699 non-null  int64  \n",
      " 20  ponds_nearest         9110 non-null   float64\n",
      " 21  days_exposition       20518 non-null  float64\n",
      "dtypes: bool(3), float64(9), int64(8), object(2)\n",
      "memory usage: 3.5+ MB\n"
     ]
    }
   ],
   "source": [
    "data.info()"
   ]
  },
  {
   "cell_type": "markdown",
   "metadata": {},
   "source": [
    "Устраняю неявные дубликаты в названиях населённых пунктов"
   ]
  },
  {
   "cell_type": "code",
   "execution_count": 8,
   "metadata": {},
   "outputs": [],
   "source": [
    "data['locality_name'] = data['locality_name'].str.replace('ё', 'е')\n",
    "data['locality_name'] = data['locality_name'].str.replace('деревня Кудрово', 'Кудрово')\n",
    "data['locality_name'] = data['locality_name'].str.replace('поселок Коммунары', 'Коммунар')\n",
    "data['locality_name'] = data['locality_name'].str.replace('поселок Мурино', 'Мурино')\n",
    "data['locality_name'] = data['locality_name'].str.replace('городской посeлок Фeдоровское', 'деревня Фeдоровское')\n",
    "data['locality_name'] = data['locality_name'].str.replace('поселок Кингисеппский', 'Кингисепп')\n",
    "data['locality_name'] = data['locality_name'].str.replace('село Никольское', 'Никольское')\n",
    "data['locality_name'] = data['locality_name'].str.replace('поселок городского типа Никольский', 'Никольское')\n",
    "data['locality_name'] = data['locality_name'].str.replace('городской поселок Рощино', 'поселок городского типа Рощино')\n",
    "data['locality_name'] = data['locality_name'].str.replace('село Павлово', 'поселок городского типа Павлово')\n",
    "data['locality_name'] = data['locality_name'].str.replace('городской поселок Павлово', 'поселок городского типа Павлово')\n",
    "data['locality_name'] = data['locality_name'].str.replace('городской поселок Большая Ижора', 'поселок городского типа Большая Ижора')\n",
    "data['locality_name'] = data['locality_name'].str.replace('городской поселок Лесогорский', 'поселок городского типа Лесогорский')\n",
    "data['locality_name'] = data['locality_name'].str.replace('городской поселок Федоровское', 'деревня Федоровское')\n",
    "data['locality_name'] = data['locality_name'].str.replace('поселок Зимитицы', 'деревня Зимитицы')\n",
    "data['locality_name'] = data['locality_name'].str.replace('поселок Рябово', 'поселок городского типа Рябово')\n",
    "data['locality_name'] = data['locality_name'].str.replace('городской поселок Мга', 'поселок городского типа Мга')\n",
    "data['locality_name'] = data['locality_name'].str.replace('поселок станции Вещево', 'поселок при железнодорожной станции Вещево')\n",
    "data['locality_name'] = data['locality_name'].str.replace('поселок Калитино', 'деревня Калитино')\n",
    "data['locality_name'] = data['locality_name'].str.replace('садовое товарищество Приладожский', 'поселок городского типа Приладожский')\n",
    "data['locality_name'] = data['locality_name'].str.replace('садовое товарищество Новая Ропша', 'поселок Ропша')\n",
    "data['locality_name'] = data['locality_name'].str.replace('садовое товарищество Рахья', 'поселок городского типа Рахья')\n",
    "data['locality_name'] = data['locality_name'].str.replace('поселок Щеглово', 'деревня Щеглово')\n",
    "data['locality_name'] = data['locality_name'].str.replace('поселок Рабитицы', 'деревня Рабитицы')\n",
    "data['locality_name'] = data['locality_name'].str.replace('городской поселок Назия', 'поселок городского типа Назия')\n",
    "data['locality_name'] = data['locality_name'].str.replace('деревня Бегуницы', 'деревня Старые Бегуницы')\n",
    "data['locality_name'] = data['locality_name'].str.replace('поселок Саперный', 'поселок Саперное')\n",
    "data['locality_name'] = data['locality_name'].str.replace('поселок Гарболово', 'деревня Гарболово')\n",
    "data['locality_name'] = data['locality_name'].str.replace('поселок станции Приветнинское', 'поселок при железнодорожной станции Приветнинское')\n",
    "data['locality_name'] = data['locality_name'].str.replace('поселок Любань', 'Любань')\n",
    "data['locality_name'] = data['locality_name'].str.replace('поселок станции Громово', 'поселок Громово')\n",
    "data['locality_name'] = data['locality_name'].str.replace('городской поселок Советский', 'поселок городского типа Советский')\n",
    "data['locality_name'] = data['locality_name'].str.replace('коттеджный поселок Лесное', 'поселок Лесное')"
   ]
  },
  {
   "cell_type": "markdown",
   "metadata": {},
   "source": [
    "Ориентируясь на гистограммы выше, удаляю анамальные значения в столбцах \"airports_nearest\", \"ceiling_height\" и \"kitchen_area\""
   ]
  },
  {
   "cell_type": "code",
   "execution_count": 9,
   "metadata": {},
   "outputs": [
    {
     "name": "stdout",
     "output_type": "stream",
     "text": [
      "<class 'pandas.core.frame.DataFrame'>\n",
      "RangeIndex: 23699 entries, 0 to 23698\n",
      "Data columns (total 22 columns):\n",
      " #   Column                Non-Null Count  Dtype  \n",
      "---  ------                --------------  -----  \n",
      " 0   total_images          23699 non-null  int64  \n",
      " 1   last_price            23699 non-null  int64  \n",
      " 2   total_area            23699 non-null  float64\n",
      " 3   first_day_exposition  23699 non-null  object \n",
      " 4   rooms                 23699 non-null  int64  \n",
      " 5   ceiling_height        14504 non-null  float64\n",
      " 6   floors_total          23699 non-null  int64  \n",
      " 7   living_area           21796 non-null  float64\n",
      " 8   floor                 23699 non-null  int64  \n",
      " 9   is_apartment          23699 non-null  bool   \n",
      " 10  studio                23699 non-null  bool   \n",
      " 11  open_plan             23699 non-null  bool   \n",
      " 12  kitchen_area          21421 non-null  float64\n",
      " 13  balcony               23699 non-null  int64  \n",
      " 14  locality_name         23650 non-null  object \n",
      " 15  airports_nearest      18157 non-null  float64\n",
      " 16  cityCenters_nearest   18180 non-null  float64\n",
      " 17  parks_around3000      23699 non-null  int64  \n",
      " 18  parks_nearest         8079 non-null   float64\n",
      " 19  ponds_around3000      23699 non-null  int64  \n",
      " 20  ponds_nearest         9110 non-null   float64\n",
      " 21  days_exposition       20518 non-null  float64\n",
      "dtypes: bool(3), float64(9), int64(8), object(2)\n",
      "memory usage: 3.5+ MB\n"
     ]
    }
   ],
   "source": [
    "data.info()"
   ]
  },
  {
   "cell_type": "code",
   "execution_count": 12,
   "metadata": {},
   "outputs": [
    {
     "data": {
      "text/plain": [
       "array([  2.7 ,    nan,   3.03,   2.5 ,   2.67,   2.56,   3.05,   2.75,\n",
       "         2.6 ,   2.9 ,   2.8 ,   2.55,   3.  ,   2.65,   3.2 ,   2.61,\n",
       "         3.25,   3.45,   2.77,   2.85,   2.64,   2.57,   4.15,   3.5 ,\n",
       "         3.3 ,   2.71,   4.  ,   2.47,   2.73,   2.84,   3.1 ,   2.34,\n",
       "         3.4 ,   3.06,   2.72,   2.54,   2.51,   2.78,   2.76,  25.  ,\n",
       "         2.58,   3.7 ,   2.52,   5.2 ,   2.87,   2.66,   2.59,   2.  ,\n",
       "         2.45,   3.6 ,   2.92,   3.11,   3.13,   3.8 ,   3.15,   3.55,\n",
       "         3.16,   3.62,   3.12,   2.53,   2.74,   2.96,   2.46,   5.3 ,\n",
       "         5.  ,   2.79,   2.95,   4.06,   2.94,   3.82,   3.54,   3.53,\n",
       "         2.83,   4.7 ,   2.4 ,   3.38,   3.01,   5.6 ,   3.65,   3.9 ,\n",
       "         3.18,   3.35,   2.3 ,   3.57,   2.48,   2.62,   2.82,   3.98,\n",
       "         2.63,   3.83,   3.52,   3.95,   3.75,   2.88,   3.67,   3.87,\n",
       "         3.66,   3.85,   3.86,   4.19,   3.24,   4.8 ,   4.5 ,   4.2 ,\n",
       "         3.36,  32.  ,   3.08,   3.68,   3.07,   3.37,   3.09,   8.  ,\n",
       "         3.26,   3.34,   2.81,   3.44,   2.97,   3.14,   4.37,   2.68,\n",
       "         3.22,   3.27,  27.  ,   4.1 ,   2.93,   3.46,  24.  ,   3.47,\n",
       "         3.33,   3.63,   3.32,  26.  ,   1.2 ,   8.3 ,   2.98,   2.86,\n",
       "         3.17,   4.4 ,   3.28,   3.04,   4.45,   5.5 ,   3.84,   3.23,\n",
       "         3.02,   3.21,   3.43,   3.78,   4.3 ,   3.39,   2.69,   3.31,\n",
       "         4.65,   3.56,   2.2 ,   3.51,   3.93,   3.42,   2.99,   3.49,\n",
       "        14.  ,   4.14,   2.91,   3.88,   1.75,   4.25,   3.29,  20.  ,\n",
       "         2.25,   3.76,   3.69,   6.  ,  22.6 ,   2.89,   3.58,   5.8 ,\n",
       "        27.5 ,   2.49,   4.9 ,   3.48,  10.3 ,   1.  , 100.  ,   3.59])"
      ]
     },
     "execution_count": 12,
     "metadata": {},
     "output_type": "execute_result"
    }
   ],
   "source": [
    "data['ceiling_height'].unique()"
   ]
  },
  {
   "cell_type": "markdown",
   "metadata": {},
   "source": [
    "Делю на 10 все аномальные значения потолков"
   ]
  },
  {
   "cell_type": "code",
   "execution_count": 13,
   "metadata": {},
   "outputs": [
    {
     "data": {
      "text/plain": [
       "array([ 2.7 ,   nan,  3.03,  2.5 ,  2.67,  2.56,  3.05,  2.75,  2.6 ,\n",
       "        2.9 ,  2.8 ,  2.55,  3.  ,  2.65,  3.2 ,  2.61,  3.25,  3.45,\n",
       "        2.77,  2.85,  2.64,  2.57,  4.15,  3.5 ,  3.3 ,  2.71,  4.  ,\n",
       "        2.47,  2.73,  2.84,  3.1 ,  2.34,  3.4 ,  3.06,  2.72,  2.54,\n",
       "        2.51,  2.78,  2.76,  2.58,  3.7 ,  2.52,  5.2 ,  2.87,  2.66,\n",
       "        2.59,  2.  ,  2.45,  3.6 ,  2.92,  3.11,  3.13,  3.8 ,  3.15,\n",
       "        3.55,  3.16,  3.62,  3.12,  2.53,  2.74,  2.96,  2.46,  5.3 ,\n",
       "        5.  ,  2.79,  2.95,  4.06,  2.94,  3.82,  3.54,  3.53,  2.83,\n",
       "        4.7 ,  2.4 ,  3.38,  3.01,  5.6 ,  3.65,  3.9 ,  3.18,  3.35,\n",
       "        2.3 ,  3.57,  2.48,  2.62,  2.82,  3.98,  2.63,  3.83,  3.52,\n",
       "        3.95,  3.75,  2.88,  3.67,  3.87,  3.66,  3.85,  3.86,  4.19,\n",
       "        3.24,  4.8 ,  4.5 ,  4.2 ,  3.36,  3.08,  3.68,  3.07,  3.37,\n",
       "        3.09,  8.  ,  3.26,  3.34,  2.81,  3.44,  2.97,  3.14,  4.37,\n",
       "        2.68,  3.22,  3.27,  4.1 ,  2.93,  3.46,  3.47,  3.33,  3.63,\n",
       "        3.32,  1.2 ,  8.3 ,  2.98,  2.86,  3.17,  4.4 ,  3.28,  3.04,\n",
       "        4.45,  5.5 ,  3.84,  3.23,  3.02,  3.21,  3.43,  3.78,  4.3 ,\n",
       "        3.39,  2.69,  3.31,  4.65,  3.56,  2.2 ,  3.51,  3.93,  3.42,\n",
       "        2.99,  3.49, 14.  ,  4.14,  2.91,  3.88,  1.75,  4.25,  3.29,\n",
       "       20.  ,  2.25,  3.76,  3.69,  6.  ,  2.89,  3.58,  5.8 ,  2.49,\n",
       "        4.9 ,  3.48, 10.3 ,  1.  ,  3.59])"
      ]
     },
     "execution_count": 13,
     "metadata": {},
     "output_type": "execute_result"
    }
   ],
   "source": [
    "data.loc[(data['ceiling_height']>20)]  = data['ceiling_height']/10\n",
    "data['ceiling_height'].unique()"
   ]
  },
  {
   "cell_type": "markdown",
   "metadata": {},
   "source": [
    "Выводим на экран явные дубликаты"
   ]
  },
  {
   "cell_type": "code",
   "execution_count": 14,
   "metadata": {},
   "outputs": [
    {
     "data": {
      "text/plain": [
       "21"
      ]
     },
     "execution_count": 14,
     "metadata": {},
     "output_type": "execute_result"
    }
   ],
   "source": [
    "data.duplicated().sum()"
   ]
  },
  {
   "cell_type": "markdown",
   "metadata": {},
   "source": [
    "Пропущенные значения имеются в столбцах ceiling_height, floors_total, living_area, is_apartment, kitchen_area, balcony, locality_name, airports_nearest, cityCenters_nearest, parks_around3000, parks_nearest, ponds_around3000, ponds_nearest и days_exposition. Все этим параметры не заполнены из-за человечского фактора, они не явллись обязательными к заполнению, из всех этих значений логично предположить, что в параметры \"balcony\" в незаполнненных строчках балкон просто отсутствует, соответственно все пропуски мы можем заменить на 0. Все пропуски в \"is_apartment\" мы также заменяем на False, что означает, что квартира не является апартаментами. В столбцах \"ponds_around3000\", \"parks_around3000\" мы также заменяем пропущенные значения на 0, так как скорее всего рядом с квартирами просто нет водоёмов и парков. Что касается столбца \"floors_total\", там не хватало всего 86 значений, таким небольшим количеством можно пренебречь и заменить все недостуюащие цифры на 11(среднее значение по столбцу). Также, мы изменяем типы данных в столбцах \"last_price\", \"floors_total\", \"balcony\", \"parks_around3000\" и \"ponds_around3000\" с дробного на целое (с float на int). В столбце \"is_apartment\" мы заменяем тип данных с object на bool, так как в столбце присутствуют только булевые значения True и False."
   ]
  },
  {
   "cell_type": "markdown",
   "metadata": {},
   "source": [
    "### Считаю и добавляю в таблицу новые столбцы"
   ]
  },
  {
   "cell_type": "markdown",
   "metadata": {},
   "source": [
    "Добавляю столбец \"цена одного квадратного метра\":\n",
    "average_cost -  цена одного квадртаного метра"
   ]
  },
  {
   "cell_type": "code",
   "execution_count": 15,
   "metadata": {},
   "outputs": [],
   "source": [
    "data['average_cost'] = data['last_price'] / data['total_area']"
   ]
  },
  {
   "cell_type": "markdown",
   "metadata": {},
   "source": [
    "Добавляю столбец \"день публикации объявления (0 - понедельник, 1 - вторник и т.д.)\", предварительно поменяв формат даты:\n",
    "weekday_new - день публикации объявления"
   ]
  },
  {
   "cell_type": "code",
   "execution_count": 16,
   "metadata": {},
   "outputs": [],
   "source": [
    "data['first_day_exposition'] = pd.to_datetime(data['first_day_exposition'], format='%Y-%m-%d %H:%M')\n",
    "data['weekday'] = data['first_day_exposition'].dt.weekday\n",
    "def day_of_the_week(weekday):\n",
    "    if weekday == 0:\n",
    "        return 'понедельник'\n",
    "    if weekday == 1:\n",
    "        return 'вторник'\n",
    "    if weekday == 2:\n",
    "        return 'среда'\n",
    "    if weekday == 3:\n",
    "        return 'четверг'\n",
    "    if weekday == 4:\n",
    "        return 'пятница'\n",
    "    if weekday == 5:\n",
    "        return 'суббота'\n",
    "    if weekday == 6:\n",
    "        return 'воскресенье'\n",
    "data['weekday_new'] = data['weekday'].apply(day_of_the_week)"
   ]
  },
  {
   "cell_type": "markdown",
   "metadata": {},
   "source": [
    "Добавляю столбец \"месяц публикации объявления\":\n",
    "month - месяц публикации объявления"
   ]
  },
  {
   "cell_type": "code",
   "execution_count": 17,
   "metadata": {},
   "outputs": [],
   "source": [
    "data['month'] = data['first_day_exposition'].dt.month"
   ]
  },
  {
   "cell_type": "markdown",
   "metadata": {},
   "source": [
    "Добавляю столбец \"год публикации объявления\":\n",
    "year - год публикации объявления"
   ]
  },
  {
   "cell_type": "code",
   "execution_count": 18,
   "metadata": {},
   "outputs": [],
   "source": [
    "data['year'] = data['first_day_exposition'].dt.year"
   ]
  },
  {
   "cell_type": "markdown",
   "metadata": {},
   "source": [
    "Добавляю столбец с разницей этажей в доме и этажом квартиры:\n",
    "floor_difference - разница этажей в доме и этажом квартиры"
   ]
  },
  {
   "cell_type": "code",
   "execution_count": 19,
   "metadata": {},
   "outputs": [],
   "source": [
    "data['floor_difference'] = data['floors_total'] - data['floor']"
   ]
  },
  {
   "cell_type": "markdown",
   "metadata": {},
   "source": [
    "Добавляю столбец \"тип этажа квартиры (значения — «первый», «последний», «другой»)\":\n",
    "floor_categorize - тип этажа квартиры (значения — «первый», «последний», «другой»)"
   ]
  },
  {
   "cell_type": "code",
   "execution_count": 20,
   "metadata": {},
   "outputs": [],
   "source": [
    "def floor_categorize(floor_difference):\n",
    "    if floor_difference == 1:\n",
    "        return 'первый'\n",
    "    if floor_difference == 0:\n",
    "        return 'последний'\n",
    "    else:\n",
    "        return 'другой'\n",
    "data['floor_categorize'] = data['floor_difference'].apply(floor_categorize)"
   ]
  },
  {
   "cell_type": "markdown",
   "metadata": {},
   "source": [
    "Добавляю столбец \"расстояние в км до центра города\" и округляем значения:\n",
    "cityCenters_nearest_km - расстояние в км до центра города"
   ]
  },
  {
   "cell_type": "code",
   "execution_count": 21,
   "metadata": {},
   "outputs": [],
   "source": [
    "data['cityCenters_nearest_km'] = data['cityCenters_nearest'] / 1000"
   ]
  },
  {
   "cell_type": "markdown",
   "metadata": {},
   "source": [
    "Заменяю пропущенные значения на 0, а также изменяю тип данных в столбце \"cityCenters_nearest_km\""
   ]
  },
  {
   "cell_type": "code",
   "execution_count": 22,
   "metadata": {},
   "outputs": [],
   "source": [
    "data['cityCenters_nearest_km'] = data['cityCenters_nearest_km'].fillna(0).astype('int')"
   ]
  },
  {
   "cell_type": "markdown",
   "metadata": {},
   "source": [
    "### Провожу исследовательский анализ данных"
   ]
  },
  {
   "cell_type": "markdown",
   "metadata": {},
   "source": [
    "Строю гистограммы"
   ]
  },
  {
   "cell_type": "code",
   "execution_count": 23,
   "metadata": {
    "scrolled": true
   },
   "outputs": [
    {
     "data": {
      "image/png": "[encoded data removed]",
      "text/plain": [
       "<Figure size 1080x1440 with 25 Axes>"
      ]
     },
     "metadata": {
      "needs_background": "light"
     },
     "output_type": "display_data"
    }
   ],
   "source": [
    "data.hist(figsize=(15, 20))\n",
    "plt.show()"
   ]
  },
  {
   "cell_type": "markdown",
   "metadata": {},
   "source": [
    "Изучаю полученные гистограммы более детально:"
   ]
  },
  {
   "cell_type": "markdown",
   "metadata": {},
   "source": [
    "Строю гистограмму общей площади"
   ]
  },
  {
   "cell_type": "code",
   "execution_count": 24,
   "metadata": {},
   "outputs": [
    {
     "data": {
      "image/png": "[encoded data removed]",
      "text/plain": [
       "<Figure size 432x288 with 1 Axes>"
      ]
     },
     "metadata": {
      "needs_background": "light"
     },
     "output_type": "display_data"
    }
   ],
   "source": [
    "data['total_area'].hist(bins=50, range=(0, 400))\n",
    "plt.show()"
   ]
  },
  {
   "cell_type": "markdown",
   "metadata": {},
   "source": [
    "Гистограмма общей площади выглядит вполне нормально без каких-либо выбивающихся значений. Как и ожидалось, лишь малая часть квартир будет с высокой площадью"
   ]
  },
  {
   "cell_type": "code",
   "execution_count": 25,
   "metadata": {
    "scrolled": true
   },
   "outputs": [
    {
     "data": {
      "image/png": "[encoded data removed]",
      "text/plain": [
       "<Figure size 432x288 with 1 Axes>"
      ]
     },
     "metadata": {
      "needs_background": "light"
     },
     "output_type": "display_data"
    }
   ],
   "source": [
    "data['living_area'].hist(bins=50, range=(0, 300))\n",
    "plt.show()"
   ]
  },
  {
   "cell_type": "markdown",
   "metadata": {},
   "source": [
    "Гистограмма жилой площади выглядит примерно также, как и гистограмма общей площади, что также логично, она прямо пропорциональна общей площади квартиры. Показания не выбиваются из общей массы"
   ]
  },
  {
   "cell_type": "markdown",
   "metadata": {},
   "source": [
    "Строю гистограмму площади кухни"
   ]
  },
  {
   "cell_type": "code",
   "execution_count": 26,
   "metadata": {},
   "outputs": [
    {
     "data": {
      "image/png": "[encoded data removed]",
      "text/plain": [
       "<Figure size 432x288 with 1 Axes>"
      ]
     },
     "metadata": {
      "needs_background": "light"
     },
     "output_type": "display_data"
    }
   ],
   "source": [
    "data['kitchen_area'].hist(bins=50, range=(0, 100))\n",
    "plt.show()"
   ]
  },
  {
   "cell_type": "markdown",
   "metadata": {},
   "source": [
    "Посмотрев на гистограмму площади кухни, можно сделать вывод, что она прямо пропорицональна общей площади квартиры"
   ]
  },
  {
   "cell_type": "markdown",
   "metadata": {},
   "source": [
    "Строю гистограмму этажей"
   ]
  },
  {
   "cell_type": "code",
   "execution_count": 27,
   "metadata": {},
   "outputs": [
    {
     "data": {
      "image/png": "[encoded data removed]",
      "text/plain": [
       "<Figure size 432x288 with 1 Axes>"
      ]
     },
     "metadata": {
      "needs_background": "light"
     },
     "output_type": "display_data"
    }
   ],
   "source": [
    "data['floor'].hist(bins=50, range=(0, 40))\n",
    "plt.show()"
   ]
  },
  {
   "cell_type": "markdown",
   "metadata": {},
   "source": [
    "Гистограмма этажей показывает, что гораздо больше квартир встречается с 1 по 5, а дальше идёт на спад"
   ]
  },
  {
   "cell_type": "markdown",
   "metadata": {},
   "source": [
    "Строю гистограмму общего количества этажей в доме"
   ]
  },
  {
   "cell_type": "code",
   "execution_count": 28,
   "metadata": {},
   "outputs": [
    {
     "data": {
      "image/png": "[encoded data removed]",
      "text/plain": [
       "<Figure size 432x288 with 1 Axes>"
      ]
     },
     "metadata": {
      "needs_background": "light"
     },
     "output_type": "display_data"
    }
   ],
   "source": [
    "data['floors_total'].hist(bins=50, range=(0, 50))\n",
    "plt.show()"
   ]
  },
  {
   "cell_type": "markdown",
   "metadata": {},
   "source": [
    "Гистограмма общего количества этажей в доме также выглядит абсолютно логично без каких-либо выбивающихся значений"
   ]
  },
  {
   "cell_type": "markdown",
   "metadata": {},
   "source": [
    "Строю гистограмму расстояния до центра в метрах"
   ]
  },
  {
   "cell_type": "code",
   "execution_count": 29,
   "metadata": {},
   "outputs": [
    {
     "data": {
      "image/png": "[encoded data removed]",
      "text/plain": [
       "<Figure size 432x288 with 1 Axes>"
      ]
     },
     "metadata": {
      "needs_background": "light"
     },
     "output_type": "display_data"
    }
   ],
   "source": [
    "data['cityCenters_nearest'].hist(bins=50, range=(0, 70000))\n",
    "plt.show()"
   ]
  },
  {
   "cell_type": "markdown",
   "metadata": {},
   "source": [
    "Гистограмма расстояния до центра в метрах не выглядит абсолютно логично без каких-либо выбивающихся значений"
   ]
  },
  {
   "cell_type": "markdown",
   "metadata": {},
   "source": [
    "Строю гистограмму расстояния до ближайшего аэропорта"
   ]
  },
  {
   "cell_type": "code",
   "execution_count": 30,
   "metadata": {},
   "outputs": [
    {
     "data": {
      "image/png": "[encoded data removed]",
      "text/plain": [
       "<Figure size 432x288 with 1 Axes>"
      ]
     },
     "metadata": {
      "needs_background": "light"
     },
     "output_type": "display_data"
    }
   ],
   "source": [
    "data['airports_nearest'].hist(bins=50, range=(0, 90000))\n",
    "plt.show()"
   ]
  },
  {
   "cell_type": "markdown",
   "metadata": {},
   "source": [
    "Гистограмма расстояния до ближайшего аэропорта очень похожа на гистограмму расстояния до центра в метрах, не является чем-то особенным"
   ]
  },
  {
   "cell_type": "markdown",
   "metadata": {},
   "source": [
    "Строю гистограмму расстояния до ближайшего парка"
   ]
  },
  {
   "cell_type": "code",
   "execution_count": 31,
   "metadata": {},
   "outputs": [
    {
     "data": {
      "image/png": "[encoded data removed]",
      "text/plain": [
       "<Figure size 432x288 with 1 Axes>"
      ]
     },
     "metadata": {
      "needs_background": "light"
     },
     "output_type": "display_data"
    }
   ],
   "source": [
    "data['parks_nearest'].hist(bins=50, range=(0, 3000))\n",
    "plt.show()"
   ]
  },
  {
   "cell_type": "markdown",
   "metadata": {},
   "source": [
    "Гистограмма расстояния до ближайшего парка абсолютна идентична двум гистограммам, описанным выше"
   ]
  },
  {
   "cell_type": "markdown",
   "metadata": {},
   "source": [
    "Строю гистограмму публикации объявлений по дням"
   ]
  },
  {
   "cell_type": "code",
   "execution_count": 32,
   "metadata": {},
   "outputs": [
    {
     "data": {
      "image/png": "[encoded data removed]",
      "text/plain": [
       "<Figure size 432x288 with 1 Axes>"
      ]
     },
     "metadata": {
      "needs_background": "light"
     },
     "output_type": "display_data"
    }
   ],
   "source": [
    "data['weekday_new'].hist(bins=50, range=(0, 7))\n",
    "plt.show()"
   ]
  },
  {
   "cell_type": "markdown",
   "metadata": {},
   "source": [
    "Что касается гистограммы публикации объявлений по дням, то здесь чётко видно, как неохотно люди занимаются этим в выходные, более, чем в 2 раза меньше, люди публикуют свои объявления в выходные дни"
   ]
  },
  {
   "cell_type": "markdown",
   "metadata": {},
   "source": [
    "Строю гистограмму публикации объявлений по месяцам"
   ]
  },
  {
   "cell_type": "code",
   "execution_count": 33,
   "metadata": {},
   "outputs": [
    {
     "data": {
      "image/png": "[encoded data removed]",
      "text/plain": [
       "<Figure size 432x288 with 1 Axes>"
      ]
     },
     "metadata": {
      "needs_background": "light"
     },
     "output_type": "display_data"
    }
   ],
   "source": [
    "data['month'].hist(bins=50, range=(0, 12))\n",
    "plt.show()"
   ]
  },
  {
   "cell_type": "markdown",
   "metadata": {},
   "source": [
    "Гистограмма публикации объявлений по месяцам показывает, что люди чаще публикуют объявления в начале и конце года, к середине года их активность падает"
   ]
  },
  {
   "cell_type": "markdown",
   "metadata": {},
   "source": [
    "Строю гистограмму по типу этажа"
   ]
  },
  {
   "cell_type": "code",
   "execution_count": 34,
   "metadata": {},
   "outputs": [
    {
     "data": {
      "image/png": "[encoded data removed]",
      "text/plain": [
       "<Figure size 432x288 with 1 Axes>"
      ]
     },
     "metadata": {
      "needs_background": "light"
     },
     "output_type": "display_data"
    }
   ],
   "source": [
    "data['floor_categorize'].hist(bins=10, range=(0, 3))\n",
    "plt.show()"
   ]
  },
  {
   "cell_type": "markdown",
   "metadata": {},
   "source": [
    "На гистограмме распространения квартир по типам этажа видно, что гораздо больше квартир не на первом и последнем этажах, что вполне логично"
   ]
  },
  {
   "cell_type": "markdown",
   "metadata": {},
   "source": [
    "Чтобы более детально рассмотреть гистограмму цены квартиры, приходится построить другую более показательную диаграмму. На гистограмме цены за квартиру мы видим, что цены поднимаются, на что нам указывает пик на значении 4 миллиона, а затем снова падают"
   ]
  },
  {
   "cell_type": "code",
   "execution_count": 35,
   "metadata": {},
   "outputs": [
    {
     "data": {
      "image/png": "[encoded data removed]",
      "text/plain": [
       "<Figure size 432x288 with 1 Axes>"
      ]
     },
     "metadata": {
      "needs_background": "light"
     },
     "output_type": "display_data"
    }
   ],
   "source": [
    "data['last_price'].hist(bins=50, range=(1000000, 10000000))\n",
    "plt.show()"
   ]
  },
  {
   "cell_type": "markdown",
   "metadata": {},
   "source": [
    "Чтобы более детально оценить столбец с количеством комнатми, нам также приходится построить диаграмму с другим числом корзин, минимальным и максимальными значениями. Гистограмма напоминает гистограмму со стоимостью квартир, из чего можно сделать вывод, что количество комнат также влияет на цену квартиры"
   ]
  },
  {
   "cell_type": "code",
   "execution_count": 36,
   "metadata": {},
   "outputs": [
    {
     "data": {
      "image/png": "[encoded data removed]",
      "text/plain": [
       "<Figure size 432x288 with 1 Axes>"
      ]
     },
     "metadata": {
      "needs_background": "light"
     },
     "output_type": "display_data"
    }
   ],
   "source": [
    "data['rooms'].hist(bins=10, range=(0, 10))\n",
    "plt.show()"
   ]
  },
  {
   "cell_type": "markdown",
   "metadata": {},
   "source": [
    "Чтобы более детально оценить столбец с высотой потолков, нам также приходится построить диаграмму с другим числом корзин, минимальным и максимальными значениями. На полученном графике мы видим, что высота потолков чаще всего бывает 2 метра, 3-4 метра встречается гораздо реже"
   ]
  },
  {
   "cell_type": "code",
   "execution_count": 37,
   "metadata": {},
   "outputs": [
    {
     "data": {
      "image/png": "[encoded data removed]",
      "text/plain": [
       "<Figure size 432x288 with 1 Axes>"
      ]
     },
     "metadata": {
      "needs_background": "light"
     },
     "output_type": "display_data"
    }
   ],
   "source": [
    "data['ceiling_height'].hist(bins=10, range=(0, 10))\n",
    "plt.show()"
   ]
  },
  {
   "cell_type": "markdown",
   "metadata": {},
   "source": [
    "Гистограмму типов этажей квартиры мы построить не можем, так как здесь отсутствуют цифровые значения, но мы можем построить точечную диаграмму рассеяния, где x - тип этажа квартиры, y - цена на момент снятия с публикации. По диаграмме видно, что квартиры на первом этаже чаще стоят дешевле, чем на других иои последних этажах."
   ]
  },
  {
   "cell_type": "code",
   "execution_count": 38,
   "metadata": {},
   "outputs": [
    {
     "data": {
      "image/png": "[encoded data removed]",
      "text/plain": [
       "<Figure size 432x288 with 1 Axes>"
      ]
     },
     "metadata": {
      "needs_background": "light"
     },
     "output_type": "display_data"
    }
   ],
   "source": [
    "data.plot(x='floor_categorize', y='last_price', kind='scatter')\n",
    "plt.show()"
   ]
  },
  {
   "cell_type": "markdown",
   "metadata": {},
   "source": [
    "Строю гистограмму столбца \"days_exposition\""
   ]
  },
  {
   "cell_type": "code",
   "execution_count": 39,
   "metadata": {},
   "outputs": [
    {
     "data": {
      "image/png": "[encoded data removed]",
      "text/plain": [
       "<Figure size 432x288 with 1 Axes>"
      ]
     },
     "metadata": {
      "needs_background": "light"
     },
     "output_type": "display_data"
    }
   ],
   "source": [
    "data['days_exposition'].hist(bins=100, range=(0, 1000))\n",
    "plt.show()"
   ]
  },
  {
   "cell_type": "markdown",
   "metadata": {},
   "source": [
    "Смотрю распределение данных столбца \"days_exposition\", чтобы после сделать вывод о быстрых и медленных продажах"
   ]
  },
  {
   "cell_type": "code",
   "execution_count": 40,
   "metadata": {},
   "outputs": [
    {
     "data": {
      "text/plain": [
       "count    20523.000000\n",
       "mean       180.736559\n",
       "std        219.729659\n",
       "min          1.000000\n",
       "25%         45.000000\n",
       "50%         95.000000\n",
       "75%        231.000000\n",
       "max       1580.000000\n",
       "Name: days_exposition, dtype: float64"
      ]
     },
     "execution_count": 40,
     "metadata": {},
     "output_type": "execute_result"
    }
   ],
   "source": [
    "data['days_exposition'].describe()"
   ]
  },
  {
   "cell_type": "markdown",
   "metadata": {},
   "source": [
    "Среднее значение по столбцу \"сколько дней было размещено объявление (от публикации до снятия)\" показывает 190. По данным, полученным выше, мы видим, что 25% квартир сдаётся за 43 дня, а 75% квартир за 246 дней. Быстрыми продажами можно считать те квартиры, которые были проданы за 43 дня и меньше, медленными продажами мы будем считать те квартиры, которые не были проданы за 245 дней"
   ]
  },
  {
   "cell_type": "markdown",
   "metadata": {},
   "source": [
    "Строю графики, которые покажут зависимость цены от указанных ниже параметров:\n",
    "\n",
    "Цена от общей площади"
   ]
  },
  {
   "cell_type": "code",
   "execution_count": 41,
   "metadata": {},
   "outputs": [
    {
     "data": {
      "image/png": "[encoded data removed]",
      "text/plain": [
       "<Figure size 432x288 with 1 Axes>"
      ]
     },
     "metadata": {
      "needs_background": "light"
     },
     "output_type": "display_data"
    }
   ],
   "source": [
    "data.plot(x='last_price', y='total_area', kind='scatter')\n",
    "plt.show()"
   ]
  },
  {
   "cell_type": "markdown",
   "metadata": {},
   "source": [
    "Считаю коэффициент корреляции между параметрами \"last_price\" и \"total_area\""
   ]
  },
  {
   "cell_type": "code",
   "execution_count": 42,
   "metadata": {},
   "outputs": [
    {
     "data": {
      "text/plain": [
       "0.6537583920756967"
      ]
     },
     "execution_count": 42,
     "metadata": {},
     "output_type": "execute_result"
    }
   ],
   "source": [
    "data.last_price.corr(data.total_area)"
   ]
  },
  {
   "cell_type": "markdown",
   "metadata": {},
   "source": [
    "Цена от жилой площади"
   ]
  },
  {
   "cell_type": "code",
   "execution_count": 43,
   "metadata": {},
   "outputs": [
    {
     "data": {
      "image/png": "[encoded data removed]",
      "text/plain": [
       "<Figure size 432x288 with 1 Axes>"
      ]
     },
     "metadata": {
      "needs_background": "light"
     },
     "output_type": "display_data"
    }
   ],
   "source": [
    "data.plot(x='last_price', y='living_area', kind='scatter')\n",
    "plt.show()"
   ]
  },
  {
   "cell_type": "markdown",
   "metadata": {},
   "source": [
    "Считаю коэффициент корреляции между параметрами \"last_price\" и \"living_area\""
   ]
  },
  {
   "cell_type": "code",
   "execution_count": 44,
   "metadata": {},
   "outputs": [
    {
     "data": {
      "text/plain": [
       "0.5667943306562363"
      ]
     },
     "execution_count": 44,
     "metadata": {},
     "output_type": "execute_result"
    }
   ],
   "source": [
    "data.last_price.corr(data.living_area)"
   ]
  },
  {
   "cell_type": "markdown",
   "metadata": {},
   "source": [
    "Цена от площади кухни"
   ]
  },
  {
   "cell_type": "code",
   "execution_count": 45,
   "metadata": {},
   "outputs": [
    {
     "data": {
      "image/png": "[encoded data removed]",
      "text/plain": [
       "<Figure size 432x288 with 1 Axes>"
      ]
     },
     "metadata": {
      "needs_background": "light"
     },
     "output_type": "display_data"
    }
   ],
   "source": [
    "data.plot(x='last_price', y='kitchen_area', kind='scatter')\n",
    "plt.show()"
   ]
  },
  {
   "cell_type": "markdown",
   "metadata": {},
   "source": [
    "Считаю коэффициент корреляции между параметрами \"last_price\" и \"kitchen_area\""
   ]
  },
  {
   "cell_type": "code",
   "execution_count": 46,
   "metadata": {},
   "outputs": [
    {
     "data": {
      "text/plain": [
       "0.5201739181355342"
      ]
     },
     "execution_count": 46,
     "metadata": {},
     "output_type": "execute_result"
    }
   ],
   "source": [
    "data.last_price.corr(data.kitchen_area)"
   ]
  },
  {
   "cell_type": "markdown",
   "metadata": {},
   "source": [
    "Цена от количества комнат"
   ]
  },
  {
   "cell_type": "code",
   "execution_count": 47,
   "metadata": {},
   "outputs": [
    {
     "data": {
      "image/png": "[encoded data removed]",
      "text/plain": [
       "<Figure size 432x288 with 1 Axes>"
      ]
     },
     "metadata": {
      "needs_background": "light"
     },
     "output_type": "display_data"
    }
   ],
   "source": [
    "data.plot(x='last_price', y='rooms', kind='scatter')\n",
    "plt.show()"
   ]
  },
  {
   "cell_type": "markdown",
   "metadata": {},
   "source": [
    "Считаю коэффициент корреляции между параметрами \"last_price\" и \"rooms\""
   ]
  },
  {
   "cell_type": "code",
   "execution_count": 48,
   "metadata": {},
   "outputs": [
    {
     "data": {
      "text/plain": [
       "0.36323000921224385"
      ]
     },
     "execution_count": 48,
     "metadata": {},
     "output_type": "execute_result"
    }
   ],
   "source": [
    "data.last_price.corr(data.rooms)"
   ]
  },
  {
   "cell_type": "markdown",
   "metadata": {},
   "source": [
    "Цена от типа этажа, на котором расположена квартира (первый, последний, другой)"
   ]
  },
  {
   "cell_type": "code",
   "execution_count": 49,
   "metadata": {},
   "outputs": [
    {
     "data": {
      "image/png": "[encoded data removed]",
      "text/plain": [
       "<Figure size 432x288 with 1 Axes>"
      ]
     },
     "metadata": {
      "needs_background": "light"
     },
     "output_type": "display_data"
    }
   ],
   "source": [
    "data.plot(x='last_price', y='floor_categorize', kind='scatter')\n",
    "plt.show()"
   ]
  },
  {
   "cell_type": "markdown",
   "metadata": {},
   "source": [
    "Цена от дня недели"
   ]
  },
  {
   "cell_type": "code",
   "execution_count": 50,
   "metadata": {},
   "outputs": [
    {
     "data": {
      "image/png": "[encoded data removed]",
      "text/plain": [
       "<Figure size 432x288 with 1 Axes>"
      ]
     },
     "metadata": {
      "needs_background": "light"
     },
     "output_type": "display_data"
    }
   ],
   "source": [
    "data.plot(x='last_price', y='weekday_new', kind='scatter')\n",
    "plt.show()"
   ]
  },
  {
   "cell_type": "markdown",
   "metadata": {},
   "source": [
    "Цена от месяца"
   ]
  },
  {
   "cell_type": "code",
   "execution_count": 51,
   "metadata": {},
   "outputs": [
    {
     "data": {
      "image/png": "[encoded data removed]",
      "text/plain": [
       "<Figure size 432x288 with 1 Axes>"
      ]
     },
     "metadata": {
      "needs_background": "light"
     },
     "output_type": "display_data"
    }
   ],
   "source": [
    "data.plot(x='last_price', y='month', kind='scatter')\n",
    "plt.show()"
   ]
  },
  {
   "cell_type": "markdown",
   "metadata": {},
   "source": [
    "Цена от года"
   ]
  },
  {
   "cell_type": "code",
   "execution_count": 52,
   "metadata": {},
   "outputs": [
    {
     "data": {
      "image/png": "[encoded data removed]",
      "text/plain": [
       "<Figure size 432x288 with 1 Axes>"
      ]
     },
     "metadata": {
      "needs_background": "light"
     },
     "output_type": "display_data"
    }
   ],
   "source": [
    "data.plot(x='last_price', y='year', kind='scatter')\n",
    "plt.show()"
   ]
  },
  {
   "cell_type": "markdown",
   "metadata": {},
   "source": [
    "Исходя из полученных выше 8 графиков, а также коэффициентов корреляции, где их было возможно получить (невозможно их получить в данных, где второе значение является не числовым (годе, месяц, день, категория этажа)), можем сделать вывод, от каких параметров наиболее зависит цена на квартиру. Самый большой коэффициент корреляции между ценой на квартиру и общей площадью (0.68), больше всего цена на квартиру зависит от общей площади. Чуть менее зависимый параметр это жилая площадь (0.6). Затем с коэффициентом 0.51 идёт площадь кухни и с наименьшая зависимость цены наблюдается от количества комнат (0.4). Что касается не числовых показателей, то видно, как сильно цена на квартиру зависит от этажа, на котором расположена квартира. Квартиры на первых этажах в среднем имеют цену ниже, чем на последних и других этажах. От дня недели, месяца и года, в которые было выложено объявление, также зависит цена. На графиках видно, что в 2014 году квартиры имели наименьшую цену, в 2015 цена увеличилась, а в 2016 она снова упала. В 2017 году цена была наивысшей относительно остальных годов. В 2018 и 2019 годах цены немного упали относительно 2017. Среди неудачных месяцев для публикации объявления можно выделить май, возможно это связано с летними каникулами. Наиболее же удачными месяцами можно считать февраль, ноябрь и декабрь. В выходные публикация объявлений тоже считается самым неудачным решением, на графике видно, что стоимость таких квартир наименьшая. "
   ]
  },
  {
   "cell_type": "markdown",
   "metadata": {},
   "source": [
    "Считаю среднюю цену одного квадратного метра в 10 населённых пунктах с наибольшим числом объявлений"
   ]
  },
  {
   "cell_type": "code",
   "execution_count": 53,
   "metadata": {},
   "outputs": [
    {
     "name": "stdout",
     "output_type": "stream",
     "text": [
      "                   count           mean         median\n",
      "locality_name                                         \n",
      "Санкт-Петербург    15709  114824.424343  104770.266315\n",
      "Мурино               588   86064.821204   86175.643522\n",
      "Кудрово              472   95324.930544   95675.473579\n",
      "поселок Шушары       440   78677.364217   76876.172608\n",
      "Всеволожск           398   68654.473986   65789.473684\n",
      "Пушкин               369  103125.819291  100000.000000\n",
      "Колпино              338   75424.579098   74723.748474\n",
      "поселок Парголово    327   90175.913458   91642.857143\n",
      "Гатчина              306   68757.678644   67860.569236\n",
      "Выборг               237   58141.909153   58158.319871\n"
     ]
    }
   ],
   "source": [
    "locality_name_sorted = data.groupby('locality_name')['average_cost'].agg(['count', 'mean', 'median']).sort_values(by='count', ascending=False)\n",
    "print(locality_name_sorted.head(10))"
   ]
  },
  {
   "cell_type": "markdown",
   "metadata": {},
   "source": [
    "Среди всех населённых пунктов с самой высокой стоимостью квадратного метра оказался Санкт-Петербург, не далеко от него ушёл Пушкин. С самой низкой стоимостью квадратного метра оказался Выборг, довольно близко к нему по цене Всеволожск и Гатчина. "
   ]
  },
  {
   "cell_type": "markdown",
   "metadata": {},
   "source": [
    "Выделяю все значения стоблца \"locality_name\" со значением \"Санкт-Петербург\" и вычисляю среднюю цену каждого километра"
   ]
  },
  {
   "cell_type": "code",
   "execution_count": 54,
   "metadata": {},
   "outputs": [
    {
     "name": "stdout",
     "output_type": "stream",
     "text": [
      "                        count          mean\n",
      "cityCenters_nearest_km                     \n",
      "0                         147  2.022673e+07\n",
      "1                         240  1.885085e+07\n",
      "2                         307  1.616331e+07\n",
      "3                         524  1.345377e+07\n",
      "4                         907  1.363202e+07\n",
      "5                         769  1.530612e+07\n",
      "6                         470  1.438911e+07\n",
      "7                         407  1.279767e+07\n",
      "8                         667  8.449374e+06\n",
      "9                         689  6.428270e+06\n",
      "10                        911  6.378261e+06\n",
      "11                       1415  5.977039e+06\n",
      "12                       1514  5.972835e+06\n",
      "13                       1400  6.025638e+06\n",
      "14                       1512  5.769469e+06\n",
      "15                       1372  5.546976e+06\n",
      "16                       1106  5.527928e+06\n",
      "17                        534  4.865574e+06\n",
      "18                        174  5.334929e+06\n",
      "19                         82  4.678756e+06\n",
      "20                         83  6.344369e+06\n",
      "21                        195  5.183239e+06\n",
      "22                        139  5.425513e+06\n",
      "23                         30  4.126867e+06\n",
      "24                         22  3.862235e+06\n",
      "25                         75  4.014913e+06\n",
      "26                          3  3.575000e+06\n",
      "27                          2  8.300000e+06\n",
      "28                         10  4.910500e+06\n",
      "29                          3  3.833333e+06\n"
     ]
    }
   ],
   "source": [
    "print(data[data['locality_name']=='Санкт-Петербург'].groupby('cityCenters_nearest_km')['last_price'].agg(['count', 'mean']).head(60))"
   ]
  },
  {
   "cell_type": "markdown",
   "metadata": {},
   "source": [
    "Строю столбчатую диаграмму"
   ]
  },
  {
   "cell_type": "code",
   "execution_count": 57,
   "metadata": {},
   "outputs": [
    {
     "data": {
      "image/png": "[encoded data removed]",
      "text/plain": [
       "<Figure size 1440x1800 with 1 Axes>"
      ]
     },
     "metadata": {
      "needs_background": "light"
     },
     "output_type": "display_data"
    }
   ],
   "source": [
    "#data.pivot_table(index='cityCenters_nearest_km', values='last_price')\n",
    "#data.query('locality_name == \"Санкт-Петербург\"').plot(y='last_price', kind='bar')\n",
    "data.query('locality_name == \"Санкт-Петербург\"').pivot_table(index='cityCenters_nearest_km', values='last_price')\\\n",
    "    .plot(figsize=(20, 25), grid=True, title = 'Заголовок')\n",
    "plt.show()"
   ]
  },
  {
   "cell_type": "markdown",
   "metadata": {},
   "source": [
    "Судя по диаграмме, видно, что цена в Санкт Петербурге значительно зависит от удалённости от центра. Чем больше удалённость, тем ниже цена, самые дорогие квартиры находятся близко к центру. Есть два исключения либо выброса"
   ]
  },
  {
   "cell_type": "markdown",
   "metadata": {},
   "source": [
    "Строю точечную диаграмму"
   ]
  },
  {
   "cell_type": "code",
   "execution_count": 56,
   "metadata": {
    "scrolled": false
   },
   "outputs": [
    {
     "data": {
      "image/png": "[encoded data removed]",
      "text/plain": [
       "<Figure size 1440x1800 with 1 Axes>"
      ]
     },
     "metadata": {
      "needs_background": "light"
     },
     "output_type": "display_data"
    }
   ],
   "source": [
    "data.plot(x='cityCenters_nearest_km', y='last_price', style='o', figsize=(20, 25), grid=True)\n",
    "plt.show()"
   ]
  },
  {
   "cell_type": "markdown",
   "metadata": {},
   "source": [
    "Судя по диаграмме, видно, что цена значительно зависит от удалённости от центра. Чем больше удалённость, тем ниже цена, самые дорогие квартиры находятся близко к центру"
   ]
  },
  {
   "cell_type": "markdown",
   "metadata": {},
   "source": [
    "### Общий вывод"
   ]
  },
  {
   "cell_type": "markdown",
   "metadata": {},
   "source": [
    "Из всей проделанной работы можно сделать несколько интересных выводов, которые смогут повлиять на выбор квартиры, а также на то, в какой момент лучше всего публиковать объявление и что в нём указывать. Самые дорогие квартиры находятся в Санкт-Петербурге, чем выше общая площадь квартиры, тем выше и цена на неё, это касается как населённых пунктов помимо Санкт-Петербруга, так и самого города, там тоже цена зависит от удалённости от центра. Лучше всего публиковать объявления с продажей квартир в будний день в феврале, ноябре и декабре. От года публикации также многое зависит, но предсказать, какой год будет более удачным, какой - нет, не представляет возможности. Самыми дешёвыми же квартирами будут те, что расположены на 1 этаже, в населённых пунктах Красное село, Ломоносов и Колпино, а также с наименьшей жилой площадью"
   ]
  },
  {
   "cell_type": "markdown",
   "metadata": {},
   "source": [
    "- [x]  открыт файл\n",
    "- [x]  файлы изучены (выведены первые строки, метод `info()`, гистограммы и т.д.)\n",
    "- [x]  определены пропущенные значения\n",
    "- [x]  заполнены пропущенные значения там, где это возможно\n",
    "- [x]  есть пояснение, какие пропущенные значения обнаружены\n",
    "- [x]  изменены типы данных\n",
    "- [x]  есть пояснение, в каких столбцах изменены типы и почему\n",
    "- [x]  устранены неявные дубликаты в названиях населённых пунктов\n",
    "- [x]  устранены редкие и выбивающиеся значения (аномалии) во всех столбцах\n",
    "- [x]  посчитано и добавлено в таблицу: цена одного квадратного метра\n",
    "- [x]  посчитано и добавлено в таблицу: день публикации объявления (0 - понедельник, 1 - вторник и т.д.)\n",
    "- [x]  посчитано и добавлено в таблицу: месяц публикации объявления\n",
    "- [x]  посчитано и добавлено в таблицу: год публикации объявления\n",
    "- [x]  посчитано и добавлено в таблицу: тип этажа квартиры (значения — «первый», «последний», «другой»)\n",
    "- [x]  посчитано и добавлено в таблицу: расстояние в км до центра города\n",
    "- [x]  изучены и описаны следующие параметры:\n",
    "        - общая площадь;\n",
    "        - жилая площадь;\n",
    "        - площадь кухни;\n",
    "        - цена объекта;\n",
    "        - количество комнат;\n",
    "        - высота потолков;\n",
    "        - этаж квартиры;\n",
    "        - тип этажа квартиры («первый», «последний», «другой»);\n",
    "        - общее количество этажей в доме;\n",
    "        - расстояние до центра города в метрах;\n",
    "        - расстояние до ближайшего аэропорта;\n",
    "        - расстояние до ближайшего парка;\n",
    "        - день и месяц публикации объявления\n",
    "- [x]  построены гистограммы для каждого параметра\n",
    "- [x]  выполнено задание: \"Изучите, как быстро продавались квартиры (столбец days_exposition). Этот параметр показывает, сколько дней «висело» каждое объявление.\n",
    "    - Постройте гистограмму.\n",
    "    - Посчитайте среднее и медиану.\n",
    "    - В ячейке типа markdown опишите, сколько обычно занимает продажа. Какие продажи можно считать быстрыми, а какие — необычно долгими?\"\n",
    "- [x]  выполнено задание: \"Какие факторы больше всего влияют на общую (полную) стоимость объекта? Постройте графики, которые покажут зависимость цены от указанных ниже параметров. Для подготовки данных перед визуализацией вы можете использовать сводные таблицы.\"\n",
    "        - общей площади;\n",
    "        - жилой площади;\n",
    "        - площади кухни;\n",
    "        - количество комнат;\n",
    "        - типа этажа, на котором расположена квартира (первый, последний, другой);\n",
    "        - даты размещения (день недели, месяц, год);\n",
    "- [x]  выполнено задание: \"Посчитайте среднюю цену одного квадратного метра в 10 населённых пунктах с наибольшим числом объявлений. Выделите населённые пункты с самой высокой и низкой стоимостью квадратного метра. Эти данные можно найти по имени в столбце `locality_name`.\"\n",
    "- [x]  выполнено задание: \"Ранее вы посчитали расстояние до центра в километрах. Теперь выделите квартиры в Санкт-Петербурге с помощью столбца `locality_name` и вычислите среднюю цену каждого километра. Опишите, как стоимость объектов зависит от расстояния до центра города.\"\n",
    "- [x]  в каждом этапе есть промежуточные выводы\n",
    "- [x]  есть общий вывод"
   ]
  }
 ],
 "metadata": {
  "ExecuteTimeLog": [
   {
    "duration": 728,
    "start_time": "2022-12-15T07:05:56.012Z"
   },
   {
    "duration": 107,
    "start_time": "2022-12-15T07:06:00.091Z"
   },
   {
    "duration": 88,
    "start_time": "2022-12-15T07:06:10.186Z"
   },
   {
    "duration": 82,
    "start_time": "2022-12-15T07:06:53.071Z"
   },
   {
    "duration": 90,
    "start_time": "2022-12-15T07:08:05.951Z"
   },
   {
    "duration": 88,
    "start_time": "2022-12-15T07:08:17.879Z"
   },
   {
    "duration": 481,
    "start_time": "2022-12-15T07:08:56.866Z"
   },
   {
    "duration": 99,
    "start_time": "2022-12-15T07:09:14.753Z"
   },
   {
    "duration": 96,
    "start_time": "2022-12-15T07:09:17.282Z"
   },
   {
    "duration": 90,
    "start_time": "2022-12-15T07:10:57.070Z"
   },
   {
    "duration": 87,
    "start_time": "2022-12-15T07:11:09.394Z"
   },
   {
    "duration": 419,
    "start_time": "2022-12-15T07:11:19.127Z"
   },
   {
    "duration": 95,
    "start_time": "2022-12-15T07:11:22.420Z"
   },
   {
    "duration": 106,
    "start_time": "2022-12-15T07:11:39.932Z"
   },
   {
    "duration": 101,
    "start_time": "2022-12-15T07:11:46.391Z"
   },
   {
    "duration": 145,
    "start_time": "2022-12-15T07:11:50.357Z"
   },
   {
    "duration": 84,
    "start_time": "2022-12-15T07:11:54.784Z"
   },
   {
    "duration": 89,
    "start_time": "2022-12-15T07:12:11.642Z"
   },
   {
    "duration": 85,
    "start_time": "2022-12-15T07:12:35.115Z"
   },
   {
    "duration": 52,
    "start_time": "2022-12-15T07:13:13.010Z"
   },
   {
    "duration": 50,
    "start_time": "2022-12-15T07:13:16.611Z"
   },
   {
    "duration": 107,
    "start_time": "2022-12-15T07:13:22.733Z"
   },
   {
    "duration": 105,
    "start_time": "2022-12-15T07:13:27.106Z"
   },
   {
    "duration": 122,
    "start_time": "2022-12-15T07:13:29.989Z"
   },
   {
    "duration": 92,
    "start_time": "2022-12-15T07:13:53.328Z"
   },
   {
    "duration": 90,
    "start_time": "2022-12-15T07:14:50.503Z"
   },
   {
    "duration": 92,
    "start_time": "2022-12-15T07:16:54.495Z"
   },
   {
    "duration": 74,
    "start_time": "2022-12-15T07:22:30.320Z"
   },
   {
    "duration": 51,
    "start_time": "2022-12-15T07:22:43.169Z"
   },
   {
    "duration": 52,
    "start_time": "2022-12-15T07:22:52.276Z"
   },
   {
    "duration": 102,
    "start_time": "2022-12-15T07:23:01.612Z"
   },
   {
    "duration": 125,
    "start_time": "2022-12-15T07:24:49.873Z"
   },
   {
    "duration": 120,
    "start_time": "2022-12-15T07:25:10.188Z"
   },
   {
    "duration": 113,
    "start_time": "2022-12-15T07:25:24.384Z"
   },
   {
    "duration": 123,
    "start_time": "2022-12-15T07:38:37.033Z"
   },
   {
    "duration": 119,
    "start_time": "2022-12-15T07:38:40.837Z"
   },
   {
    "duration": 2343,
    "start_time": "2022-12-15T07:39:20.029Z"
   },
   {
    "duration": 92,
    "start_time": "2022-12-15T07:44:40.287Z"
   },
   {
    "duration": 131,
    "start_time": "2022-12-15T07:44:51.747Z"
   },
   {
    "duration": 113,
    "start_time": "2022-12-15T07:45:09.019Z"
   },
   {
    "duration": 2218,
    "start_time": "2022-12-15T07:45:15.618Z"
   },
   {
    "duration": 6,
    "start_time": "2022-12-15T08:16:27.165Z"
   },
   {
    "duration": 6,
    "start_time": "2022-12-15T08:17:24.243Z"
   },
   {
    "duration": 6,
    "start_time": "2022-12-15T08:18:20.727Z"
   },
   {
    "duration": 6,
    "start_time": "2022-12-15T08:18:24.445Z"
   },
   {
    "duration": 6,
    "start_time": "2022-12-15T08:19:56.735Z"
   },
   {
    "duration": 17,
    "start_time": "2022-12-15T08:20:51.998Z"
   },
   {
    "duration": 5,
    "start_time": "2022-12-15T08:21:04.568Z"
   },
   {
    "duration": 2,
    "start_time": "2022-12-15T08:22:00.709Z"
   },
   {
    "duration": 11,
    "start_time": "2022-12-15T08:33:18.298Z"
   },
   {
    "duration": 22,
    "start_time": "2022-12-15T08:33:25.265Z"
   },
   {
    "duration": 60,
    "start_time": "2022-12-15T08:34:19.393Z"
   },
   {
    "duration": 6,
    "start_time": "2022-12-15T08:34:30.852Z"
   },
   {
    "duration": 18,
    "start_time": "2022-12-15T08:46:03.989Z"
   },
   {
    "duration": 8,
    "start_time": "2022-12-15T08:49:31.110Z"
   },
   {
    "duration": 9,
    "start_time": "2022-12-15T08:49:37.474Z"
   },
   {
    "duration": 9,
    "start_time": "2022-12-15T08:49:42.169Z"
   },
   {
    "duration": 10,
    "start_time": "2022-12-15T08:49:48.021Z"
   },
   {
    "duration": 7,
    "start_time": "2022-12-15T08:49:50.494Z"
   },
   {
    "duration": 8,
    "start_time": "2022-12-15T08:49:53.092Z"
   },
   {
    "duration": 18,
    "start_time": "2022-12-15T08:50:03.895Z"
   },
   {
    "duration": 11,
    "start_time": "2022-12-15T08:51:21.005Z"
   },
   {
    "duration": 19,
    "start_time": "2022-12-15T08:51:38.987Z"
   },
   {
    "duration": 19,
    "start_time": "2022-12-15T08:51:47.032Z"
   },
   {
    "duration": 2264,
    "start_time": "2022-12-15T08:51:49.750Z"
   },
   {
    "duration": 0,
    "start_time": "2022-12-15T08:51:52.036Z"
   },
   {
    "duration": 15,
    "start_time": "2022-12-15T08:51:53.389Z"
   },
   {
    "duration": 16,
    "start_time": "2022-12-15T08:51:59.804Z"
   },
   {
    "duration": 2402,
    "start_time": "2022-12-15T08:52:05.669Z"
   },
   {
    "duration": 20,
    "start_time": "2022-12-15T08:52:08.074Z"
   },
   {
    "duration": 15,
    "start_time": "2022-12-15T08:52:36.327Z"
   },
   {
    "duration": 16,
    "start_time": "2022-12-15T08:52:41.651Z"
   },
   {
    "duration": 15,
    "start_time": "2022-12-15T08:53:24.008Z"
   },
   {
    "duration": 2028,
    "start_time": "2022-12-15T08:53:40.874Z"
   },
   {
    "duration": 17,
    "start_time": "2022-12-15T08:53:42.904Z"
   },
   {
    "duration": 5,
    "start_time": "2022-12-15T08:53:54.706Z"
   },
   {
    "duration": 16,
    "start_time": "2022-12-15T08:53:58.021Z"
   },
   {
    "duration": 16,
    "start_time": "2022-12-15T08:54:13.783Z"
   },
   {
    "duration": 16,
    "start_time": "2022-12-15T08:54:20.808Z"
   },
   {
    "duration": 16,
    "start_time": "2022-12-15T08:54:28.569Z"
   },
   {
    "duration": 22,
    "start_time": "2022-12-15T08:54:30.938Z"
   },
   {
    "duration": 15,
    "start_time": "2022-12-15T08:54:33.437Z"
   },
   {
    "duration": 19,
    "start_time": "2022-12-15T08:54:35.848Z"
   },
   {
    "duration": 20,
    "start_time": "2022-12-15T08:54:41.403Z"
   },
   {
    "duration": 18,
    "start_time": "2022-12-15T08:54:43.930Z"
   },
   {
    "duration": 19,
    "start_time": "2022-12-15T08:54:46.219Z"
   },
   {
    "duration": 20,
    "start_time": "2022-12-15T08:54:54.472Z"
   },
   {
    "duration": 16,
    "start_time": "2022-12-15T08:55:27.920Z"
   },
   {
    "duration": 199,
    "start_time": "2022-12-15T08:55:30.486Z"
   },
   {
    "duration": 8,
    "start_time": "2022-12-15T08:55:40.078Z"
   },
   {
    "duration": 8,
    "start_time": "2022-12-15T08:56:38.514Z"
   },
   {
    "duration": 20,
    "start_time": "2022-12-15T08:57:25.394Z"
   },
   {
    "duration": 11,
    "start_time": "2022-12-15T08:57:45.364Z"
   },
   {
    "duration": 10,
    "start_time": "2022-12-15T08:58:00.666Z"
   },
   {
    "duration": 8,
    "start_time": "2022-12-15T08:59:08.513Z"
   },
   {
    "duration": 9,
    "start_time": "2022-12-15T09:28:25.997Z"
   },
   {
    "duration": 105,
    "start_time": "2022-12-15T09:29:46.590Z"
   },
   {
    "duration": 10,
    "start_time": "2022-12-15T09:30:15.626Z"
   },
   {
    "duration": 8,
    "start_time": "2022-12-15T09:30:22.561Z"
   },
   {
    "duration": 9,
    "start_time": "2022-12-15T09:30:31.563Z"
   },
   {
    "duration": 11,
    "start_time": "2022-12-15T09:30:54.345Z"
   },
   {
    "duration": 20,
    "start_time": "2022-12-15T09:30:59.720Z"
   },
   {
    "duration": 2160,
    "start_time": "2022-12-15T09:31:39.357Z"
   },
   {
    "duration": 23,
    "start_time": "2022-12-15T09:32:46.441Z"
   },
   {
    "duration": 2361,
    "start_time": "2022-12-15T09:32:51.145Z"
   },
   {
    "duration": 24,
    "start_time": "2022-12-15T09:32:53.508Z"
   },
   {
    "duration": 26,
    "start_time": "2022-12-15T09:33:01.839Z"
   },
   {
    "duration": 2294,
    "start_time": "2022-12-15T09:33:06.748Z"
   },
   {
    "duration": 33,
    "start_time": "2022-12-15T09:33:09.045Z"
   },
   {
    "duration": 22,
    "start_time": "2022-12-15T09:33:19.042Z"
   },
   {
    "duration": 58,
    "start_time": "2022-12-15T11:25:12.569Z"
   },
   {
    "duration": 12,
    "start_time": "2022-12-15T11:25:21.031Z"
   },
   {
    "duration": 3595,
    "start_time": "2022-12-15T11:25:24.630Z"
   },
   {
    "duration": 36,
    "start_time": "2022-12-15T11:25:28.228Z"
   },
   {
    "duration": 31,
    "start_time": "2022-12-15T11:25:35.911Z"
   },
   {
    "duration": 30,
    "start_time": "2022-12-15T11:32:41.902Z"
   },
   {
    "duration": 25,
    "start_time": "2022-12-15T11:33:14.898Z"
   },
   {
    "duration": 20,
    "start_time": "2022-12-15T11:33:24.980Z"
   },
   {
    "duration": 19,
    "start_time": "2022-12-15T11:33:41.102Z"
   },
   {
    "duration": 22,
    "start_time": "2022-12-15T11:33:49.475Z"
   },
   {
    "duration": 13,
    "start_time": "2022-12-15T11:35:26.837Z"
   },
   {
    "duration": 21,
    "start_time": "2022-12-15T11:36:01.707Z"
   },
   {
    "duration": 26,
    "start_time": "2022-12-15T11:36:33.789Z"
   },
   {
    "duration": 13,
    "start_time": "2022-12-15T11:37:41.473Z"
   },
   {
    "duration": 16,
    "start_time": "2022-12-15T11:38:16.970Z"
   },
   {
    "duration": 13,
    "start_time": "2022-12-15T11:38:32.276Z"
   },
   {
    "duration": 23,
    "start_time": "2022-12-15T11:39:13.525Z"
   },
   {
    "duration": 28,
    "start_time": "2022-12-15T11:40:06.349Z"
   },
   {
    "duration": 27,
    "start_time": "2022-12-15T11:40:41.488Z"
   },
   {
    "duration": 37,
    "start_time": "2022-12-15T11:40:58.480Z"
   },
   {
    "duration": 31,
    "start_time": "2022-12-15T11:41:35.200Z"
   },
   {
    "duration": 38,
    "start_time": "2022-12-15T12:02:22.585Z"
   },
   {
    "duration": 3542,
    "start_time": "2022-12-15T12:02:38.904Z"
   },
   {
    "duration": 75,
    "start_time": "2022-12-15T12:12:51.250Z"
   },
   {
    "duration": 38,
    "start_time": "2022-12-15T12:12:59.675Z"
   },
   {
    "duration": 26,
    "start_time": "2022-12-15T12:13:54.444Z"
   },
   {
    "duration": 32,
    "start_time": "2022-12-15T12:14:04.104Z"
   },
   {
    "duration": 28,
    "start_time": "2022-12-15T12:16:43.566Z"
   },
   {
    "duration": 2344,
    "start_time": "2022-12-15T12:17:04.523Z"
   },
   {
    "duration": 2324,
    "start_time": "2022-12-15T12:17:10.218Z"
   },
   {
    "duration": 42,
    "start_time": "2022-12-15T12:17:12.545Z"
   },
   {
    "duration": 181,
    "start_time": "2022-12-15T12:18:01.021Z"
   },
   {
    "duration": 30,
    "start_time": "2022-12-15T12:25:45.519Z"
   },
   {
    "duration": 26,
    "start_time": "2022-12-15T12:25:53.955Z"
   },
   {
    "duration": 2268,
    "start_time": "2022-12-15T12:25:59.279Z"
   },
   {
    "duration": 37,
    "start_time": "2022-12-15T12:26:01.549Z"
   },
   {
    "duration": 21,
    "start_time": "2022-12-15T12:26:09.225Z"
   },
   {
    "duration": 22,
    "start_time": "2022-12-15T12:26:12.894Z"
   },
   {
    "duration": 23,
    "start_time": "2022-12-15T12:29:06.241Z"
   },
   {
    "duration": 2494,
    "start_time": "2022-12-15T12:29:14.285Z"
   },
   {
    "duration": 32,
    "start_time": "2022-12-15T12:29:16.782Z"
   },
   {
    "duration": 18,
    "start_time": "2022-12-15T12:31:00.548Z"
   },
   {
    "duration": 20,
    "start_time": "2022-12-15T12:31:03.748Z"
   },
   {
    "duration": 47,
    "start_time": "2022-12-18T09:44:22.412Z"
   },
   {
    "duration": 7,
    "start_time": "2022-12-18T09:44:33.062Z"
   },
   {
    "duration": 3193,
    "start_time": "2022-12-18T09:44:38.489Z"
   },
   {
    "duration": 29,
    "start_time": "2022-12-18T09:44:41.684Z"
   },
   {
    "duration": 19,
    "start_time": "2022-12-18T09:44:44.745Z"
   },
   {
    "duration": 22,
    "start_time": "2022-12-18T09:44:59.596Z"
   },
   {
    "duration": 4,
    "start_time": "2022-12-18T09:45:23.356Z"
   },
   {
    "duration": 23,
    "start_time": "2022-12-18T09:45:36.504Z"
   },
   {
    "duration": 4,
    "start_time": "2022-12-18T09:45:42.661Z"
   },
   {
    "duration": 2193,
    "start_time": "2022-12-18T09:45:46.436Z"
   },
   {
    "duration": 24,
    "start_time": "2022-12-18T09:45:48.631Z"
   },
   {
    "duration": 19,
    "start_time": "2022-12-18T09:46:24.352Z"
   },
   {
    "duration": 2184,
    "start_time": "2022-12-18T09:46:29.847Z"
   },
   {
    "duration": 24,
    "start_time": "2022-12-18T09:46:32.033Z"
   },
   {
    "duration": 4,
    "start_time": "2022-12-18T09:46:51.763Z"
   },
   {
    "duration": 21,
    "start_time": "2022-12-18T09:46:57.706Z"
   },
   {
    "duration": 5,
    "start_time": "2022-12-18T09:47:00.112Z"
   },
   {
    "duration": 2083,
    "start_time": "2022-12-18T09:47:03.769Z"
   },
   {
    "duration": 24,
    "start_time": "2022-12-18T09:47:05.854Z"
   },
   {
    "duration": 26,
    "start_time": "2022-12-18T09:47:05.879Z"
   },
   {
    "duration": 5,
    "start_time": "2022-12-18T09:47:19.615Z"
   },
   {
    "duration": 25,
    "start_time": "2022-12-18T09:47:21.792Z"
   },
   {
    "duration": 2200,
    "start_time": "2022-12-18T09:47:26.506Z"
   },
   {
    "duration": 23,
    "start_time": "2022-12-18T09:47:28.710Z"
   },
   {
    "duration": 5,
    "start_time": "2022-12-18T09:47:33.939Z"
   },
   {
    "duration": 2146,
    "start_time": "2022-12-18T09:47:38.637Z"
   },
   {
    "duration": 33,
    "start_time": "2022-12-18T09:47:40.785Z"
   },
   {
    "duration": 5,
    "start_time": "2022-12-18T09:47:40.819Z"
   },
   {
    "duration": 20,
    "start_time": "2022-12-18T09:47:50.133Z"
   },
   {
    "duration": 4,
    "start_time": "2022-12-18T09:47:55.479Z"
   },
   {
    "duration": 2075,
    "start_time": "2022-12-18T09:48:01.214Z"
   },
   {
    "duration": 34,
    "start_time": "2022-12-18T09:48:03.291Z"
   },
   {
    "duration": 3,
    "start_time": "2022-12-18T09:48:03.327Z"
   },
   {
    "duration": 3,
    "start_time": "2022-12-18T09:48:08.422Z"
   },
   {
    "duration": 4,
    "start_time": "2022-12-18T09:48:17.139Z"
   },
   {
    "duration": 24,
    "start_time": "2022-12-18T09:48:19.348Z"
   },
   {
    "duration": 4,
    "start_time": "2022-12-18T09:48:21.568Z"
   },
   {
    "duration": 2312,
    "start_time": "2022-12-18T09:48:24.345Z"
   },
   {
    "duration": 23,
    "start_time": "2022-12-18T09:48:26.660Z"
   },
   {
    "duration": 8,
    "start_time": "2022-12-18T09:48:26.696Z"
   },
   {
    "duration": 2071,
    "start_time": "2022-12-18T09:48:42.617Z"
   },
   {
    "duration": 28,
    "start_time": "2022-12-18T09:48:44.690Z"
   },
   {
    "duration": 2340,
    "start_time": "2022-12-18T09:49:15.332Z"
   },
   {
    "duration": 40,
    "start_time": "2022-12-18T09:49:17.675Z"
   },
   {
    "duration": 2066,
    "start_time": "2022-12-18T09:49:28.884Z"
   },
   {
    "duration": 24,
    "start_time": "2022-12-18T09:49:30.952Z"
   },
   {
    "duration": 4,
    "start_time": "2022-12-18T09:49:39.959Z"
   },
   {
    "duration": 19,
    "start_time": "2022-12-18T09:49:45.828Z"
   },
   {
    "duration": 4,
    "start_time": "2022-12-18T09:49:48.721Z"
   },
   {
    "duration": 6,
    "start_time": "2022-12-18T09:49:54.106Z"
   },
   {
    "duration": 27,
    "start_time": "2022-12-18T09:50:01.233Z"
   },
   {
    "duration": 3,
    "start_time": "2022-12-18T09:50:05.639Z"
   },
   {
    "duration": 2279,
    "start_time": "2022-12-18T09:50:09.005Z"
   },
   {
    "duration": 39,
    "start_time": "2022-12-18T09:50:11.286Z"
   },
   {
    "duration": 4,
    "start_time": "2022-12-18T09:50:14.885Z"
   },
   {
    "duration": 17,
    "start_time": "2022-12-18T09:55:12.964Z"
   },
   {
    "duration": 4,
    "start_time": "2022-12-18T09:55:15.436Z"
   },
   {
    "duration": 1969,
    "start_time": "2022-12-18T09:55:19.912Z"
   },
   {
    "duration": 47,
    "start_time": "2022-12-18T09:55:21.883Z"
   },
   {
    "duration": 3,
    "start_time": "2022-12-18T09:55:21.932Z"
   },
   {
    "duration": 1999,
    "start_time": "2022-12-18T09:55:31.351Z"
   },
   {
    "duration": 28,
    "start_time": "2022-12-18T09:55:33.352Z"
   },
   {
    "duration": 15,
    "start_time": "2022-12-18T09:55:33.396Z"
   },
   {
    "duration": 2373,
    "start_time": "2022-12-18T09:55:43.684Z"
   },
   {
    "duration": 44,
    "start_time": "2022-12-18T09:55:46.059Z"
   },
   {
    "duration": 4,
    "start_time": "2022-12-18T09:55:46.111Z"
   },
   {
    "duration": 4,
    "start_time": "2022-12-18T09:56:17.445Z"
   },
   {
    "duration": 2146,
    "start_time": "2022-12-18T09:56:22.214Z"
   },
   {
    "duration": 46,
    "start_time": "2022-12-18T09:56:24.362Z"
   },
   {
    "duration": 2001,
    "start_time": "2022-12-18T09:56:29.134Z"
   },
   {
    "duration": 23,
    "start_time": "2022-12-18T09:56:31.137Z"
   },
   {
    "duration": 6,
    "start_time": "2022-12-18T09:56:31.162Z"
   },
   {
    "duration": 22,
    "start_time": "2022-12-18T10:04:25.517Z"
   },
   {
    "duration": 28,
    "start_time": "2022-12-18T10:04:47.382Z"
   },
   {
    "duration": 24,
    "start_time": "2022-12-18T10:05:02.086Z"
   },
   {
    "duration": 22,
    "start_time": "2022-12-18T10:05:05.411Z"
   },
   {
    "duration": 31,
    "start_time": "2022-12-18T10:05:40.378Z"
   },
   {
    "duration": 68,
    "start_time": "2022-12-18T10:07:02.848Z"
   },
   {
    "duration": 47,
    "start_time": "2022-12-18T10:07:09.452Z"
   },
   {
    "duration": 33,
    "start_time": "2022-12-18T10:07:46.184Z"
   },
   {
    "duration": 2594,
    "start_time": "2022-12-18T10:07:57.167Z"
   },
   {
    "duration": 55,
    "start_time": "2022-12-18T10:07:59.764Z"
   },
   {
    "duration": 12,
    "start_time": "2022-12-18T10:09:30.061Z"
   },
   {
    "duration": 26,
    "start_time": "2022-12-18T10:09:35.912Z"
   },
   {
    "duration": 23,
    "start_time": "2022-12-18T10:23:33.647Z"
   },
   {
    "duration": 20,
    "start_time": "2022-12-18T10:23:57.361Z"
   },
   {
    "duration": 1983,
    "start_time": "2022-12-18T10:24:06.426Z"
   },
   {
    "duration": 39,
    "start_time": "2022-12-18T10:24:08.414Z"
   },
   {
    "duration": 25,
    "start_time": "2022-12-18T10:24:45.695Z"
   },
   {
    "duration": 2153,
    "start_time": "2022-12-18T10:24:56.323Z"
   },
   {
    "duration": 43,
    "start_time": "2022-12-18T10:24:58.477Z"
   },
   {
    "duration": 25,
    "start_time": "2022-12-18T10:25:20.863Z"
   },
   {
    "duration": 21,
    "start_time": "2022-12-18T10:25:30.250Z"
   },
   {
    "duration": 17,
    "start_time": "2022-12-18T10:25:42.010Z"
   },
   {
    "duration": 20,
    "start_time": "2022-12-18T10:25:52.052Z"
   },
   {
    "duration": 17,
    "start_time": "2022-12-18T10:28:50.509Z"
   },
   {
    "duration": 20,
    "start_time": "2022-12-18T10:29:19.592Z"
   },
   {
    "duration": 21,
    "start_time": "2022-12-18T10:29:59.891Z"
   },
   {
    "duration": 21,
    "start_time": "2022-12-18T10:30:08.797Z"
   },
   {
    "duration": 17,
    "start_time": "2022-12-18T10:30:15.944Z"
   },
   {
    "duration": 18,
    "start_time": "2022-12-18T10:30:20.921Z"
   },
   {
    "duration": 19,
    "start_time": "2022-12-18T10:32:01.314Z"
   },
   {
    "duration": 25,
    "start_time": "2022-12-18T10:32:56.318Z"
   },
   {
    "duration": 18,
    "start_time": "2022-12-18T10:33:02.840Z"
   },
   {
    "duration": 48,
    "start_time": "2022-12-20T13:08:47.718Z"
   },
   {
    "duration": 8,
    "start_time": "2022-12-20T13:08:58.849Z"
   },
   {
    "duration": 11,
    "start_time": "2022-12-20T13:09:02.514Z"
   },
   {
    "duration": 3220,
    "start_time": "2022-12-20T13:09:08.593Z"
   },
   {
    "duration": 35,
    "start_time": "2022-12-20T13:09:11.815Z"
   },
   {
    "duration": 22,
    "start_time": "2022-12-20T13:09:17.076Z"
   },
   {
    "duration": 2032,
    "start_time": "2022-12-20T13:09:21.083Z"
   },
   {
    "duration": 34,
    "start_time": "2022-12-20T13:09:23.118Z"
   },
   {
    "duration": 1959,
    "start_time": "2022-12-20T13:09:41.360Z"
   },
   {
    "duration": 27,
    "start_time": "2022-12-20T13:09:43.321Z"
   },
   {
    "duration": 50,
    "start_time": "2022-12-20T13:10:00.837Z"
   },
   {
    "duration": 21,
    "start_time": "2022-12-20T13:12:42.634Z"
   },
   {
    "duration": 74,
    "start_time": "2022-12-20T15:07:51.528Z"
   },
   {
    "duration": 23,
    "start_time": "2022-12-20T15:08:07.689Z"
   },
   {
    "duration": 1990,
    "start_time": "2022-12-20T15:08:18.926Z"
   },
   {
    "duration": 27,
    "start_time": "2022-12-20T15:08:20.918Z"
   },
   {
    "duration": 24,
    "start_time": "2022-12-20T15:08:39.198Z"
   },
   {
    "duration": 2051,
    "start_time": "2022-12-20T15:08:44.871Z"
   },
   {
    "duration": 31,
    "start_time": "2022-12-20T15:08:46.924Z"
   },
   {
    "duration": 50,
    "start_time": "2022-12-21T09:43:19.061Z"
   },
   {
    "duration": 2898,
    "start_time": "2022-12-21T09:43:24.296Z"
   },
   {
    "duration": 43,
    "start_time": "2022-12-21T09:43:27.196Z"
   },
   {
    "duration": 38,
    "start_time": "2022-12-21T09:43:58.821Z"
   },
   {
    "duration": 54,
    "start_time": "2022-12-21T09:44:36.409Z"
   },
   {
    "duration": 25,
    "start_time": "2022-12-21T09:45:22.046Z"
   },
   {
    "duration": 31,
    "start_time": "2022-12-21T09:45:29.535Z"
   },
   {
    "duration": 43,
    "start_time": "2022-12-21T09:46:52.767Z"
   },
   {
    "duration": 45,
    "start_time": "2022-12-21T09:47:27.885Z"
   },
   {
    "duration": 31,
    "start_time": "2022-12-21T09:47:47.608Z"
   },
   {
    "duration": 2007,
    "start_time": "2022-12-21T09:48:01.426Z"
   },
   {
    "duration": 2192,
    "start_time": "2022-12-21T09:48:11.586Z"
   },
   {
    "duration": 50,
    "start_time": "2022-12-21T09:48:16.801Z"
   },
   {
    "duration": 33,
    "start_time": "2022-12-21T09:48:51.020Z"
   },
   {
    "duration": 2065,
    "start_time": "2022-12-21T09:48:57.642Z"
   },
   {
    "duration": 174,
    "start_time": "2022-12-21T09:49:00.091Z"
   },
   {
    "duration": 45,
    "start_time": "2022-12-21T10:42:38.164Z"
   },
   {
    "duration": 50,
    "start_time": "2022-12-21T10:47:48.153Z"
   },
   {
    "duration": 61,
    "start_time": "2022-12-21T10:48:28.577Z"
   },
   {
    "duration": 76,
    "start_time": "2022-12-21T10:53:54.383Z"
   },
   {
    "duration": 91,
    "start_time": "2022-12-21T10:55:08.317Z"
   },
   {
    "duration": 71,
    "start_time": "2022-12-21T10:55:22.307Z"
   },
   {
    "duration": 25,
    "start_time": "2022-12-21T10:56:57.101Z"
   },
   {
    "duration": 1954,
    "start_time": "2022-12-21T10:56:59.947Z"
   },
   {
    "duration": 32,
    "start_time": "2022-12-21T10:57:01.904Z"
   },
   {
    "duration": 37,
    "start_time": "2022-12-21T10:57:08.313Z"
   },
   {
    "duration": 2314,
    "start_time": "2022-12-21T10:57:10.696Z"
   },
   {
    "duration": 41,
    "start_time": "2022-12-21T10:57:13.012Z"
   },
   {
    "duration": 2050,
    "start_time": "2022-12-21T10:57:20.442Z"
   },
   {
    "duration": 79,
    "start_time": "2022-12-21T10:57:25.293Z"
   },
   {
    "duration": 33,
    "start_time": "2022-12-21T10:59:46.622Z"
   },
   {
    "duration": 1926,
    "start_time": "2022-12-21T10:59:48.993Z"
   },
   {
    "duration": 57,
    "start_time": "2022-12-21T10:59:50.921Z"
   },
   {
    "duration": 72,
    "start_time": "2022-12-21T11:00:07.193Z"
   },
   {
    "duration": 2296,
    "start_time": "2022-12-21T11:00:10.005Z"
   },
   {
    "duration": 104,
    "start_time": "2022-12-21T11:00:12.303Z"
   },
   {
    "duration": 84,
    "start_time": "2022-12-21T11:01:30.352Z"
   },
   {
    "duration": 102,
    "start_time": "2022-12-21T11:04:46.790Z"
   },
   {
    "duration": 1953,
    "start_time": "2022-12-21T11:04:49.923Z"
   },
   {
    "duration": 107,
    "start_time": "2022-12-21T11:04:51.879Z"
   },
   {
    "duration": 87,
    "start_time": "2022-12-21T11:05:00.154Z"
   },
   {
    "duration": 2107,
    "start_time": "2022-12-21T11:05:03.071Z"
   },
   {
    "duration": 387,
    "start_time": "2022-12-21T11:05:05.180Z"
   },
   {
    "duration": 78,
    "start_time": "2022-12-21T11:07:04.606Z"
   },
   {
    "duration": 1973,
    "start_time": "2022-12-21T11:07:08.416Z"
   },
   {
    "duration": 111,
    "start_time": "2022-12-21T11:07:10.392Z"
   },
   {
    "duration": 80,
    "start_time": "2022-12-21T11:08:23.100Z"
   },
   {
    "duration": 1962,
    "start_time": "2022-12-21T11:08:25.632Z"
   },
   {
    "duration": 103,
    "start_time": "2022-12-21T11:08:27.596Z"
   },
   {
    "duration": 91,
    "start_time": "2022-12-21T11:11:11.616Z"
   },
   {
    "duration": 2393,
    "start_time": "2022-12-21T11:11:13.903Z"
   },
   {
    "duration": 105,
    "start_time": "2022-12-21T11:11:16.298Z"
   },
   {
    "duration": 89,
    "start_time": "2022-12-21T11:11:43.649Z"
   },
   {
    "duration": 1966,
    "start_time": "2022-12-21T11:11:46.463Z"
   },
   {
    "duration": 90,
    "start_time": "2022-12-21T11:11:48.431Z"
   },
   {
    "duration": 89,
    "start_time": "2022-12-21T11:20:18.225Z"
   },
   {
    "duration": 98,
    "start_time": "2022-12-21T11:20:45.861Z"
   },
   {
    "duration": 1891,
    "start_time": "2022-12-21T11:21:37.891Z"
   },
   {
    "duration": 98,
    "start_time": "2022-12-21T11:21:39.784Z"
   },
   {
    "duration": 93,
    "start_time": "2022-12-21T11:27:18.124Z"
   },
   {
    "duration": 125,
    "start_time": "2022-12-21T11:27:39.271Z"
   },
   {
    "duration": 141,
    "start_time": "2022-12-21T11:31:41.074Z"
   },
   {
    "duration": 168,
    "start_time": "2022-12-21T11:32:57.482Z"
   },
   {
    "duration": 158,
    "start_time": "2022-12-21T11:36:32.174Z"
   },
   {
    "duration": 162,
    "start_time": "2022-12-21T11:37:35.319Z"
   },
   {
    "duration": 198,
    "start_time": "2022-12-21T11:39:11.953Z"
   },
   {
    "duration": 201,
    "start_time": "2022-12-21T11:56:43.251Z"
   },
   {
    "duration": 202,
    "start_time": "2022-12-21T11:57:35.788Z"
   },
   {
    "duration": 201,
    "start_time": "2022-12-21T11:58:33.646Z"
   },
   {
    "duration": 219,
    "start_time": "2022-12-21T12:09:16.266Z"
   },
   {
    "duration": 238,
    "start_time": "2022-12-21T12:10:05.080Z"
   },
   {
    "duration": 321,
    "start_time": "2022-12-21T12:11:47.517Z"
   },
   {
    "duration": 321,
    "start_time": "2022-12-21T12:14:39.581Z"
   },
   {
    "duration": 328,
    "start_time": "2022-12-21T12:15:32.308Z"
   },
   {
    "duration": 433,
    "start_time": "2022-12-21T12:16:43.673Z"
   },
   {
    "duration": 408,
    "start_time": "2022-12-21T12:20:49.458Z"
   },
   {
    "duration": 436,
    "start_time": "2022-12-21T12:22:06.064Z"
   },
   {
    "duration": 455,
    "start_time": "2022-12-21T12:22:20.918Z"
   },
   {
    "duration": 506,
    "start_time": "2022-12-21T12:22:45.183Z"
   },
   {
    "duration": 442,
    "start_time": "2022-12-21T12:22:56.662Z"
   },
   {
    "duration": 1973,
    "start_time": "2022-12-21T12:23:02.775Z"
   },
   {
    "duration": 447,
    "start_time": "2022-12-21T12:23:04.750Z"
   },
   {
    "duration": 441,
    "start_time": "2022-12-21T12:28:29.995Z"
   },
   {
    "duration": 423,
    "start_time": "2022-12-21T12:30:31.183Z"
   },
   {
    "duration": 432,
    "start_time": "2022-12-21T12:31:53.054Z"
   },
   {
    "duration": 447,
    "start_time": "2022-12-21T12:35:44.683Z"
   },
   {
    "duration": 462,
    "start_time": "2022-12-21T13:02:43.099Z"
   },
   {
    "duration": 62,
    "start_time": "2022-12-22T12:42:02.143Z"
   },
   {
    "duration": 16,
    "start_time": "2022-12-22T12:42:15.703Z"
   },
   {
    "duration": 25,
    "start_time": "2022-12-22T12:42:28.158Z"
   },
   {
    "duration": 19,
    "start_time": "2022-12-22T12:42:38.072Z"
   },
   {
    "duration": 14,
    "start_time": "2022-12-22T12:42:45.379Z"
   },
   {
    "duration": 14,
    "start_time": "2022-12-22T12:43:37.379Z"
   },
   {
    "duration": 2980,
    "start_time": "2022-12-22T12:43:41.649Z"
   },
   {
    "duration": 407,
    "start_time": "2022-12-22T12:43:44.631Z"
   },
   {
    "duration": 384,
    "start_time": "2022-12-22T12:43:55.013Z"
   },
   {
    "duration": 564,
    "start_time": "2022-12-22T12:50:33.097Z"
   },
   {
    "duration": 554,
    "start_time": "2022-12-22T12:51:11.398Z"
   },
   {
    "duration": 404,
    "start_time": "2022-12-22T12:52:04.338Z"
   },
   {
    "duration": 571,
    "start_time": "2022-12-22T12:52:11.040Z"
   },
   {
    "duration": 1662,
    "start_time": "2022-12-22T13:01:51.288Z"
   },
   {
    "duration": 588,
    "start_time": "2022-12-22T13:02:30.526Z"
   },
   {
    "duration": 24,
    "start_time": "2022-12-22T13:02:52.762Z"
   },
   {
    "duration": 2122,
    "start_time": "2022-12-22T13:02:56.540Z"
   },
   {
    "duration": 554,
    "start_time": "2022-12-22T13:02:58.664Z"
   },
   {
    "duration": 2018,
    "start_time": "2022-12-22T13:03:04.774Z"
   },
   {
    "duration": 533,
    "start_time": "2022-12-22T14:50:22.849Z"
   },
   {
    "duration": 1957,
    "start_time": "2022-12-22T14:50:25.602Z"
   },
   {
    "duration": 726,
    "start_time": "2022-12-22T14:50:27.561Z"
   },
   {
    "duration": 513,
    "start_time": "2022-12-22T14:51:15.347Z"
   },
   {
    "duration": 1880,
    "start_time": "2022-12-22T14:51:18.684Z"
   },
   {
    "duration": 552,
    "start_time": "2022-12-22T14:51:20.567Z"
   },
   {
    "duration": 73,
    "start_time": "2022-12-22T14:51:45.240Z"
   },
   {
    "duration": 83,
    "start_time": "2022-12-22T14:51:48.593Z"
   },
   {
    "duration": 595,
    "start_time": "2022-12-22T14:51:56.133Z"
   },
   {
    "duration": 595,
    "start_time": "2022-12-22T14:52:08.066Z"
   },
   {
    "duration": 498,
    "start_time": "2022-12-22T14:52:14.972Z"
   },
   {
    "duration": 2038,
    "start_time": "2022-12-22T14:52:20.279Z"
   },
   {
    "duration": 532,
    "start_time": "2022-12-22T14:52:22.318Z"
   },
   {
    "duration": 533,
    "start_time": "2022-12-22T14:52:46.864Z"
   },
   {
    "duration": 560,
    "start_time": "2022-12-22T14:53:05.546Z"
   },
   {
    "duration": 2057,
    "start_time": "2022-12-22T14:53:08.653Z"
   },
   {
    "duration": 588,
    "start_time": "2022-12-22T14:53:10.712Z"
   },
   {
    "duration": 521,
    "start_time": "2022-12-22T14:53:16.101Z"
   },
   {
    "duration": 485,
    "start_time": "2022-12-22T14:53:29.080Z"
   },
   {
    "duration": 1900,
    "start_time": "2022-12-22T14:53:32.449Z"
   },
   {
    "duration": 553,
    "start_time": "2022-12-22T14:53:34.351Z"
   },
   {
    "duration": 2732,
    "start_time": "2022-12-25T15:44:12.377Z"
   },
   {
    "duration": 465,
    "start_time": "2022-12-25T15:50:42.280Z"
   },
   {
    "duration": 355,
    "start_time": "2022-12-25T16:04:07.177Z"
   },
   {
    "duration": 504,
    "start_time": "2022-12-25T16:41:13.722Z"
   },
   {
    "duration": 481,
    "start_time": "2022-12-25T16:41:23.336Z"
   },
   {
    "duration": 489,
    "start_time": "2022-12-25T16:41:30.831Z"
   },
   {
    "duration": 479,
    "start_time": "2022-12-25T16:41:32.787Z"
   },
   {
    "duration": 1914,
    "start_time": "2022-12-25T16:41:37.081Z"
   },
   {
    "duration": 517,
    "start_time": "2022-12-25T16:41:38.997Z"
   },
   {
    "duration": 1571,
    "start_time": "2022-12-25T16:42:02.368Z"
   },
   {
    "duration": 621,
    "start_time": "2022-12-25T16:42:43.817Z"
   },
   {
    "duration": 504,
    "start_time": "2022-12-25T16:42:59.202Z"
   },
   {
    "duration": 506,
    "start_time": "2022-12-25T16:43:16.425Z"
   },
   {
    "duration": 541,
    "start_time": "2022-12-25T16:43:20.773Z"
   },
   {
    "duration": 357,
    "start_time": "2022-12-25T16:45:53.565Z"
   },
   {
    "duration": 1996,
    "start_time": "2022-12-25T16:45:59.290Z"
   },
   {
    "duration": 426,
    "start_time": "2022-12-25T16:46:01.288Z"
   },
   {
    "duration": 4,
    "start_time": "2022-12-25T16:46:59.609Z"
   },
   {
    "duration": 6,
    "start_time": "2022-12-25T16:47:11.794Z"
   },
   {
    "duration": 6,
    "start_time": "2022-12-25T16:48:04.932Z"
   },
   {
    "duration": 6,
    "start_time": "2022-12-25T16:49:37.361Z"
   },
   {
    "duration": 48,
    "start_time": "2022-12-26T02:58:21.330Z"
   },
   {
    "duration": 6,
    "start_time": "2022-12-26T02:58:23.623Z"
   },
   {
    "duration": 3007,
    "start_time": "2022-12-26T02:58:26.845Z"
   },
   {
    "duration": 452,
    "start_time": "2022-12-26T02:58:29.854Z"
   },
   {
    "duration": 6,
    "start_time": "2022-12-26T02:58:30.308Z"
   },
   {
    "duration": 6,
    "start_time": "2022-12-26T02:58:57.009Z"
   },
   {
    "duration": 40,
    "start_time": "2022-12-26T03:09:17.083Z"
   },
   {
    "duration": 15,
    "start_time": "2022-12-26T03:09:22.162Z"
   },
   {
    "duration": 15,
    "start_time": "2022-12-26T03:10:46.599Z"
   },
   {
    "duration": 2277,
    "start_time": "2022-12-26T03:10:49.592Z"
   },
   {
    "duration": 453,
    "start_time": "2022-12-26T03:10:51.872Z"
   },
   {
    "duration": 26,
    "start_time": "2022-12-26T03:10:52.327Z"
   },
   {
    "duration": 17,
    "start_time": "2022-12-26T03:11:14.935Z"
   },
   {
    "duration": 2398,
    "start_time": "2022-12-26T03:11:18.165Z"
   },
   {
    "duration": 486,
    "start_time": "2022-12-26T03:11:20.566Z"
   },
   {
    "duration": 13,
    "start_time": "2022-12-26T03:11:21.054Z"
   },
   {
    "duration": 14,
    "start_time": "2022-12-26T03:11:44.727Z"
   },
   {
    "duration": 2393,
    "start_time": "2022-12-26T03:11:47.472Z"
   },
   {
    "duration": 475,
    "start_time": "2022-12-26T03:11:49.868Z"
   },
   {
    "duration": 14,
    "start_time": "2022-12-26T03:11:50.345Z"
   },
   {
    "duration": 10,
    "start_time": "2022-12-26T03:14:40.681Z"
   },
   {
    "duration": 16,
    "start_time": "2022-12-26T03:14:55.721Z"
   },
   {
    "duration": 24,
    "start_time": "2022-12-26T03:14:59.047Z"
   },
   {
    "duration": 20,
    "start_time": "2022-12-26T03:15:15.163Z"
   },
   {
    "duration": 18,
    "start_time": "2022-12-26T03:17:19.443Z"
   },
   {
    "duration": 71,
    "start_time": "2022-12-26T03:39:40.717Z"
   },
   {
    "duration": 19,
    "start_time": "2022-12-26T03:39:50.501Z"
   },
   {
    "duration": 23,
    "start_time": "2022-12-26T03:40:06.200Z"
   },
   {
    "duration": 10,
    "start_time": "2022-12-26T04:11:13.627Z"
   },
   {
    "duration": 11,
    "start_time": "2022-12-26T04:13:47.737Z"
   },
   {
    "duration": 2318,
    "start_time": "2022-12-26T04:13:50.849Z"
   },
   {
    "duration": 481,
    "start_time": "2022-12-26T04:13:53.169Z"
   },
   {
    "duration": 99,
    "start_time": "2022-12-26T04:13:53.652Z"
   },
   {
    "duration": 20,
    "start_time": "2022-12-26T04:37:33.647Z"
   },
   {
    "duration": 86,
    "start_time": "2022-12-26T04:37:45.178Z"
   },
   {
    "duration": 81,
    "start_time": "2022-12-26T04:37:57.737Z"
   },
   {
    "duration": 236,
    "start_time": "2022-12-26T04:38:05.625Z"
   },
   {
    "duration": 84,
    "start_time": "2022-12-26T04:38:43.975Z"
   },
   {
    "duration": 2219,
    "start_time": "2022-12-26T04:38:50.763Z"
   },
   {
    "duration": 425,
    "start_time": "2022-12-26T04:38:52.985Z"
   },
   {
    "duration": 93,
    "start_time": "2022-12-26T04:38:53.412Z"
   },
   {
    "duration": 88,
    "start_time": "2022-12-26T04:38:55.939Z"
   },
   {
    "duration": 91,
    "start_time": "2022-12-26T04:39:00.769Z"
   },
   {
    "duration": 278,
    "start_time": "2022-12-26T04:40:13.914Z"
   },
   {
    "duration": 2294,
    "start_time": "2022-12-26T04:40:17.620Z"
   },
   {
    "duration": 479,
    "start_time": "2022-12-26T04:40:19.916Z"
   },
   {
    "duration": 101,
    "start_time": "2022-12-26T04:40:20.397Z"
   },
   {
    "duration": 92,
    "start_time": "2022-12-26T04:40:25.781Z"
   },
   {
    "duration": 560,
    "start_time": "2022-12-26T04:42:13.794Z"
   },
   {
    "duration": 28,
    "start_time": "2022-12-26T04:42:56.188Z"
   },
   {
    "duration": 36,
    "start_time": "2022-12-26T04:43:07.377Z"
   },
   {
    "duration": 31,
    "start_time": "2022-12-26T04:43:51.219Z"
   },
   {
    "duration": 31,
    "start_time": "2022-12-26T04:43:54.956Z"
   },
   {
    "duration": 31,
    "start_time": "2022-12-26T04:43:58.613Z"
   },
   {
    "duration": 339,
    "start_time": "2022-12-26T04:56:43.724Z"
   },
   {
    "duration": 34,
    "start_time": "2022-12-26T04:57:07.263Z"
   },
   {
    "duration": 35,
    "start_time": "2022-12-26T04:57:25.398Z"
   },
   {
    "duration": 34,
    "start_time": "2022-12-26T04:57:28.761Z"
   },
   {
    "duration": 1124,
    "start_time": "2022-12-26T04:58:55.019Z"
   },
   {
    "duration": 1151,
    "start_time": "2022-12-26T04:59:09.644Z"
   },
   {
    "duration": 38,
    "start_time": "2022-12-26T04:59:18.444Z"
   },
   {
    "duration": 329,
    "start_time": "2022-12-26T04:59:41.088Z"
   },
   {
    "duration": 2288,
    "start_time": "2022-12-26T04:59:44.010Z"
   },
   {
    "duration": 461,
    "start_time": "2022-12-26T04:59:46.301Z"
   },
   {
    "duration": 314,
    "start_time": "2022-12-26T04:59:46.764Z"
   },
   {
    "duration": 667,
    "start_time": "2022-12-26T04:59:51.208Z"
   },
   {
    "duration": 2015,
    "start_time": "2022-12-26T04:59:54.711Z"
   },
   {
    "duration": 431,
    "start_time": "2022-12-26T04:59:56.729Z"
   },
   {
    "duration": 340,
    "start_time": "2022-12-26T04:59:57.162Z"
   },
   {
    "duration": 38,
    "start_time": "2022-12-26T05:00:03.439Z"
   },
   {
    "duration": 2418,
    "start_time": "2022-12-26T05:00:08.624Z"
   },
   {
    "duration": 446,
    "start_time": "2022-12-26T05:00:11.051Z"
   },
   {
    "duration": 37,
    "start_time": "2022-12-26T05:00:11.499Z"
   },
   {
    "duration": 39,
    "start_time": "2022-12-26T05:01:04.635Z"
   },
   {
    "duration": 37,
    "start_time": "2022-12-26T05:08:44.243Z"
   },
   {
    "duration": 46,
    "start_time": "2022-12-26T05:09:29.152Z"
   },
   {
    "duration": 43,
    "start_time": "2022-12-26T05:10:39.038Z"
   },
   {
    "duration": 56,
    "start_time": "2022-12-26T05:10:42.624Z"
   },
   {
    "duration": 72,
    "start_time": "2022-12-26T05:11:09.643Z"
   },
   {
    "duration": 2121,
    "start_time": "2022-12-26T05:11:17.259Z"
   },
   {
    "duration": 614,
    "start_time": "2022-12-26T05:11:19.382Z"
   },
   {
    "duration": 61,
    "start_time": "2022-12-26T05:11:19.998Z"
   },
   {
    "duration": 38,
    "start_time": "2022-12-26T05:11:33.862Z"
   },
   {
    "duration": 47,
    "start_time": "2022-12-26T05:11:52.411Z"
   },
   {
    "duration": 3007,
    "start_time": "2022-12-26T05:15:45.504Z"
   },
   {
    "duration": 2289,
    "start_time": "2022-12-26T05:22:59.525Z"
   },
   {
    "duration": 3339,
    "start_time": "2022-12-26T05:23:07.513Z"
   },
   {
    "duration": 3425,
    "start_time": "2022-12-26T05:23:22.099Z"
   },
   {
    "duration": 3013,
    "start_time": "2022-12-26T05:23:34.522Z"
   },
   {
    "duration": 2705,
    "start_time": "2022-12-26T05:25:46.342Z"
   },
   {
    "duration": 179,
    "start_time": "2022-12-26T05:25:57.135Z"
   },
   {
    "duration": 123,
    "start_time": "2022-12-26T05:26:04.830Z"
   },
   {
    "duration": 143,
    "start_time": "2022-12-26T05:26:10.575Z"
   },
   {
    "duration": 178,
    "start_time": "2022-12-26T05:26:18.592Z"
   },
   {
    "duration": 183,
    "start_time": "2022-12-26T05:26:27.190Z"
   },
   {
    "duration": 199,
    "start_time": "2022-12-26T05:26:44.998Z"
   },
   {
    "duration": 205,
    "start_time": "2022-12-26T05:26:48.888Z"
   },
   {
    "duration": 191,
    "start_time": "2022-12-26T05:26:53.590Z"
   },
   {
    "duration": 167,
    "start_time": "2022-12-26T05:27:03.719Z"
   },
   {
    "duration": 179,
    "start_time": "2022-12-26T05:27:13.457Z"
   },
   {
    "duration": 378,
    "start_time": "2022-12-26T05:27:28.041Z"
   },
   {
    "duration": 181,
    "start_time": "2022-12-26T05:27:30.685Z"
   },
   {
    "duration": 175,
    "start_time": "2022-12-26T05:28:35.799Z"
   },
   {
    "duration": 222,
    "start_time": "2022-12-26T05:29:02.409Z"
   },
   {
    "duration": 3090,
    "start_time": "2022-12-26T05:29:13.566Z"
   },
   {
    "duration": 2045,
    "start_time": "2022-12-26T05:29:27.452Z"
   },
   {
    "duration": 517,
    "start_time": "2022-12-26T05:29:29.499Z"
   },
   {
    "duration": 45,
    "start_time": "2022-12-26T05:29:30.018Z"
   },
   {
    "duration": 2643,
    "start_time": "2022-12-26T05:29:30.066Z"
   },
   {
    "duration": 233,
    "start_time": "2022-12-26T05:31:12.613Z"
   },
   {
    "duration": 161,
    "start_time": "2022-12-26T05:31:18.126Z"
   },
   {
    "duration": 2916,
    "start_time": "2022-12-26T05:33:59.635Z"
   },
   {
    "duration": 3761,
    "start_time": "2022-12-26T05:35:11.437Z"
   },
   {
    "duration": 222,
    "start_time": "2022-12-26T05:35:22.149Z"
   },
   {
    "duration": 133,
    "start_time": "2022-12-26T05:35:26.880Z"
   },
   {
    "duration": 2764,
    "start_time": "2022-12-26T09:05:59.343Z"
   },
   {
    "duration": 17,
    "start_time": "2022-12-26T09:10:54.837Z"
   },
   {
    "duration": 2072,
    "start_time": "2022-12-26T09:11:00.678Z"
   },
   {
    "duration": 431,
    "start_time": "2022-12-26T09:11:02.753Z"
   },
   {
    "duration": 35,
    "start_time": "2022-12-26T09:11:03.185Z"
   },
   {
    "duration": 30,
    "start_time": "2022-12-26T09:11:03.222Z"
   },
   {
    "duration": 185,
    "start_time": "2022-12-26T09:11:32.701Z"
   },
   {
    "duration": 3068,
    "start_time": "2022-12-26T09:14:40.383Z"
   },
   {
    "duration": 2809,
    "start_time": "2022-12-26T10:09:46.229Z"
   },
   {
    "duration": 2939,
    "start_time": "2022-12-26T10:09:55.973Z"
   },
   {
    "duration": 461,
    "start_time": "2022-12-26T10:09:58.915Z"
   },
   {
    "duration": 36,
    "start_time": "2022-12-26T10:09:59.378Z"
   },
   {
    "duration": 2900,
    "start_time": "2022-12-26T10:09:59.416Z"
   },
   {
    "duration": 142,
    "start_time": "2022-12-26T10:10:08.772Z"
   },
   {
    "duration": 262,
    "start_time": "2022-12-26T10:10:23.940Z"
   },
   {
    "duration": 272,
    "start_time": "2022-12-26T10:11:34.555Z"
   },
   {
    "duration": 349,
    "start_time": "2022-12-26T10:11:44.230Z"
   },
   {
    "duration": 297,
    "start_time": "2022-12-26T10:11:48.092Z"
   },
   {
    "duration": 328,
    "start_time": "2022-12-26T10:11:50.107Z"
   },
   {
    "duration": 294,
    "start_time": "2022-12-26T10:12:00.467Z"
   },
   {
    "duration": 270,
    "start_time": "2022-12-26T10:12:09.800Z"
   },
   {
    "duration": 257,
    "start_time": "2022-12-26T10:13:03.700Z"
   },
   {
    "duration": 1712,
    "start_time": "2022-12-27T05:50:52.574Z"
   },
   {
    "duration": 2323,
    "start_time": "2022-12-27T05:51:08.957Z"
   },
   {
    "duration": 615,
    "start_time": "2022-12-27T05:52:33.771Z"
   },
   {
    "duration": 627,
    "start_time": "2022-12-27T05:53:23.429Z"
   },
   {
    "duration": 546,
    "start_time": "2022-12-27T05:53:47.191Z"
   },
   {
    "duration": 2178,
    "start_time": "2022-12-27T05:53:57.214Z"
   },
   {
    "duration": 819,
    "start_time": "2022-12-27T05:53:59.395Z"
   },
   {
    "duration": 516,
    "start_time": "2022-12-27T05:54:55.981Z"
   },
   {
    "duration": 515,
    "start_time": "2022-12-27T05:55:57.807Z"
   },
   {
    "duration": 381,
    "start_time": "2022-12-27T05:56:12.816Z"
   },
   {
    "duration": 432,
    "start_time": "2022-12-27T05:56:24.018Z"
   },
   {
    "duration": 403,
    "start_time": "2022-12-27T05:56:38.452Z"
   },
   {
    "duration": 400,
    "start_time": "2022-12-27T05:56:50.114Z"
   },
   {
    "duration": 383,
    "start_time": "2022-12-27T05:57:03.236Z"
   },
   {
    "duration": 400,
    "start_time": "2022-12-27T05:57:15.396Z"
   },
   {
    "duration": 403,
    "start_time": "2022-12-27T05:57:36.531Z"
   },
   {
    "duration": 624,
    "start_time": "2022-12-27T05:57:48.820Z"
   },
   {
    "duration": 418,
    "start_time": "2022-12-27T05:58:05.041Z"
   },
   {
    "duration": 492,
    "start_time": "2022-12-27T05:58:29.106Z"
   },
   {
    "duration": 502,
    "start_time": "2022-12-27T05:58:38.138Z"
   },
   {
    "duration": 405,
    "start_time": "2022-12-27T05:58:48.599Z"
   },
   {
    "duration": 391,
    "start_time": "2022-12-27T05:58:57.159Z"
   },
   {
    "duration": 436,
    "start_time": "2022-12-27T05:59:06.227Z"
   },
   {
    "duration": 453,
    "start_time": "2022-12-27T05:59:23.169Z"
   },
   {
    "duration": 416,
    "start_time": "2022-12-27T05:59:33.766Z"
   },
   {
    "duration": 490,
    "start_time": "2022-12-27T06:05:34.106Z"
   },
   {
    "duration": 1508,
    "start_time": "2022-12-27T06:06:00.297Z"
   },
   {
    "duration": 2102,
    "start_time": "2022-12-27T06:10:31.501Z"
   },
   {
    "duration": 2061,
    "start_time": "2022-12-27T06:18:57.401Z"
   },
   {
    "duration": 2255,
    "start_time": "2022-12-27T06:27:18.605Z"
   },
   {
    "duration": 231,
    "start_time": "2022-12-27T06:27:21.659Z"
   },
   {
    "duration": 63,
    "start_time": "2022-12-27T06:27:26.291Z"
   },
   {
    "duration": 2399,
    "start_time": "2022-12-27T06:27:29.312Z"
   },
   {
    "duration": 400,
    "start_time": "2022-12-27T06:34:28.032Z"
   },
   {
    "duration": 468,
    "start_time": "2022-12-27T06:34:58.830Z"
   },
   {
    "duration": 438,
    "start_time": "2022-12-27T06:35:21.980Z"
   },
   {
    "duration": 302,
    "start_time": "2022-12-27T06:35:29.849Z"
   },
   {
    "duration": 432,
    "start_time": "2022-12-27T06:37:13.648Z"
   },
   {
    "duration": 1520,
    "start_time": "2022-12-27T06:37:27.497Z"
   },
   {
    "duration": 400,
    "start_time": "2022-12-27T06:37:33.495Z"
   },
   {
    "duration": 407,
    "start_time": "2022-12-27T06:37:42.780Z"
   },
   {
    "duration": 408,
    "start_time": "2022-12-27T06:37:47.313Z"
   },
   {
    "duration": 162,
    "start_time": "2022-12-27T06:38:35.126Z"
   },
   {
    "duration": 173,
    "start_time": "2022-12-27T06:39:07.684Z"
   },
   {
    "duration": 173,
    "start_time": "2022-12-27T06:39:47.446Z"
   },
   {
    "duration": 395,
    "start_time": "2022-12-27T06:40:27.345Z"
   },
   {
    "duration": 15,
    "start_time": "2022-12-27T06:41:34.971Z"
   },
   {
    "duration": 2209,
    "start_time": "2022-12-27T06:41:37.804Z"
   },
   {
    "duration": 481,
    "start_time": "2022-12-27T06:41:40.016Z"
   },
   {
    "duration": 26,
    "start_time": "2022-12-27T06:41:40.499Z"
   },
   {
    "duration": 469,
    "start_time": "2022-12-27T06:41:40.527Z"
   },
   {
    "duration": 181,
    "start_time": "2022-12-27T06:41:40.998Z"
   },
   {
    "duration": 193,
    "start_time": "2022-12-27T06:41:41.181Z"
   },
   {
    "duration": 185,
    "start_time": "2022-12-27T06:41:41.376Z"
   },
   {
    "duration": 17,
    "start_time": "2022-12-27T06:41:41.563Z"
   },
   {
    "duration": 150,
    "start_time": "2022-12-27T06:42:28.079Z"
   },
   {
    "duration": 411,
    "start_time": "2022-12-27T06:42:39.199Z"
   },
   {
    "duration": 139,
    "start_time": "2022-12-27T06:42:43.827Z"
   },
   {
    "duration": 159,
    "start_time": "2022-12-27T06:43:28.376Z"
   },
   {
    "duration": 200,
    "start_time": "2022-12-27T06:44:54.005Z"
   },
   {
    "duration": 165,
    "start_time": "2022-12-27T06:45:00.329Z"
   },
   {
    "duration": 172,
    "start_time": "2022-12-27T06:45:04.019Z"
   },
   {
    "duration": 2017,
    "start_time": "2022-12-27T06:46:03.234Z"
   },
   {
    "duration": 449,
    "start_time": "2022-12-27T06:46:05.254Z"
   },
   {
    "duration": 26,
    "start_time": "2022-12-27T06:46:05.705Z"
   },
   {
    "duration": 435,
    "start_time": "2022-12-27T06:46:05.734Z"
   },
   {
    "duration": 189,
    "start_time": "2022-12-27T06:46:06.171Z"
   },
   {
    "duration": 190,
    "start_time": "2022-12-27T06:46:06.362Z"
   },
   {
    "duration": 172,
    "start_time": "2022-12-27T06:46:06.554Z"
   },
   {
    "duration": 162,
    "start_time": "2022-12-27T06:46:06.728Z"
   },
   {
    "duration": 197,
    "start_time": "2022-12-27T06:46:06.892Z"
   },
   {
    "duration": 175,
    "start_time": "2022-12-27T06:46:07.092Z"
   },
   {
    "duration": 186,
    "start_time": "2022-12-27T06:46:19.122Z"
   },
   {
    "duration": 166,
    "start_time": "2022-12-27T06:46:24.159Z"
   },
   {
    "duration": 164,
    "start_time": "2022-12-27T06:46:58.850Z"
   },
   {
    "duration": 178,
    "start_time": "2022-12-27T06:47:08.977Z"
   },
   {
    "duration": 447,
    "start_time": "2022-12-27T06:47:20.515Z"
   },
   {
    "duration": 168,
    "start_time": "2022-12-27T06:47:23.975Z"
   },
   {
    "duration": 153,
    "start_time": "2022-12-27T06:47:28.901Z"
   },
   {
    "duration": 155,
    "start_time": "2022-12-27T06:47:32.375Z"
   },
   {
    "duration": 224,
    "start_time": "2022-12-27T06:47:59.750Z"
   },
   {
    "duration": 5,
    "start_time": "2022-12-27T06:48:28.937Z"
   },
   {
    "duration": 243,
    "start_time": "2022-12-27T06:48:42.769Z"
   },
   {
    "duration": 272,
    "start_time": "2022-12-27T06:50:15.651Z"
   },
   {
    "duration": 200,
    "start_time": "2022-12-27T06:50:40.085Z"
   },
   {
    "duration": 144,
    "start_time": "2022-12-27T06:50:48.534Z"
   },
   {
    "duration": 126,
    "start_time": "2022-12-27T06:50:56.269Z"
   },
   {
    "duration": 143,
    "start_time": "2022-12-27T06:51:06.726Z"
   },
   {
    "duration": 2599,
    "start_time": "2022-12-27T06:51:21.419Z"
   },
   {
    "duration": 6,
    "start_time": "2022-12-27T07:08:04.972Z"
   },
   {
    "duration": 8,
    "start_time": "2022-12-27T07:09:22.229Z"
   },
   {
    "duration": 25,
    "start_time": "2022-12-27T07:10:05.029Z"
   },
   {
    "duration": 5,
    "start_time": "2022-12-27T07:11:21.915Z"
   },
   {
    "duration": 5,
    "start_time": "2022-12-27T07:11:44.830Z"
   },
   {
    "duration": 26,
    "start_time": "2022-12-27T07:11:50.529Z"
   },
   {
    "duration": 6,
    "start_time": "2022-12-27T07:11:53.970Z"
   },
   {
    "duration": 4,
    "start_time": "2022-12-27T07:13:34.470Z"
   },
   {
    "duration": 2175,
    "start_time": "2022-12-27T07:13:37.064Z"
   },
   {
    "duration": 534,
    "start_time": "2022-12-27T07:13:39.242Z"
   },
   {
    "duration": 35,
    "start_time": "2022-12-27T07:13:39.780Z"
   },
   {
    "duration": 2826,
    "start_time": "2022-12-27T07:13:39.818Z"
   },
   {
    "duration": 228,
    "start_time": "2022-12-27T07:13:42.650Z"
   },
   {
    "duration": 158,
    "start_time": "2022-12-27T07:13:42.880Z"
   },
   {
    "duration": 148,
    "start_time": "2022-12-27T07:13:43.040Z"
   },
   {
    "duration": 175,
    "start_time": "2022-12-27T07:13:43.190Z"
   },
   {
    "duration": 267,
    "start_time": "2022-12-27T07:13:43.367Z"
   },
   {
    "duration": 14,
    "start_time": "2022-12-27T07:13:43.637Z"
   },
   {
    "duration": 182,
    "start_time": "2022-12-27T07:13:43.652Z"
   },
   {
    "duration": 184,
    "start_time": "2022-12-27T07:13:43.835Z"
   },
   {
    "duration": 195,
    "start_time": "2022-12-27T07:13:44.020Z"
   },
   {
    "duration": 224,
    "start_time": "2022-12-27T07:13:44.216Z"
   },
   {
    "duration": 156,
    "start_time": "2022-12-27T07:13:44.442Z"
   },
   {
    "duration": 174,
    "start_time": "2022-12-27T07:13:44.600Z"
   },
   {
    "duration": 177,
    "start_time": "2022-12-27T07:13:44.776Z"
   },
   {
    "duration": 176,
    "start_time": "2022-12-27T07:13:44.955Z"
   },
   {
    "duration": 6,
    "start_time": "2022-12-27T07:14:05.323Z"
   },
   {
    "duration": 2342,
    "start_time": "2022-12-27T07:14:08.376Z"
   },
   {
    "duration": 478,
    "start_time": "2022-12-27T07:14:10.720Z"
   },
   {
    "duration": 26,
    "start_time": "2022-12-27T07:14:11.200Z"
   },
   {
    "duration": 2707,
    "start_time": "2022-12-27T07:14:11.228Z"
   },
   {
    "duration": 219,
    "start_time": "2022-12-27T07:14:13.937Z"
   },
   {
    "duration": 161,
    "start_time": "2022-12-27T07:14:14.159Z"
   },
   {
    "duration": 153,
    "start_time": "2022-12-27T07:14:14.322Z"
   },
   {
    "duration": 172,
    "start_time": "2022-12-27T07:14:14.478Z"
   },
   {
    "duration": 271,
    "start_time": "2022-12-27T07:14:14.652Z"
   },
   {
    "duration": 5,
    "start_time": "2022-12-27T07:14:14.926Z"
   },
   {
    "duration": 197,
    "start_time": "2022-12-27T07:14:14.932Z"
   },
   {
    "duration": 189,
    "start_time": "2022-12-27T07:14:15.131Z"
   },
   {
    "duration": 198,
    "start_time": "2022-12-27T07:14:15.322Z"
   },
   {
    "duration": 196,
    "start_time": "2022-12-27T07:14:15.522Z"
   },
   {
    "duration": 164,
    "start_time": "2022-12-27T07:14:15.719Z"
   },
   {
    "duration": 202,
    "start_time": "2022-12-27T07:14:15.885Z"
   },
   {
    "duration": 189,
    "start_time": "2022-12-27T07:14:16.089Z"
   },
   {
    "duration": 197,
    "start_time": "2022-12-27T07:14:16.280Z"
   },
   {
    "duration": 42,
    "start_time": "2022-12-27T07:14:26.294Z"
   },
   {
    "duration": 22,
    "start_time": "2022-12-27T07:15:39.622Z"
   },
   {
    "duration": 37,
    "start_time": "2022-12-27T07:15:49.682Z"
   },
   {
    "duration": 21,
    "start_time": "2022-12-27T07:17:08.190Z"
   },
   {
    "duration": 19,
    "start_time": "2022-12-27T07:17:18.576Z"
   },
   {
    "duration": 20,
    "start_time": "2022-12-27T07:17:22.320Z"
   },
   {
    "duration": 21,
    "start_time": "2022-12-27T07:17:27.261Z"
   },
   {
    "duration": 20,
    "start_time": "2022-12-27T07:17:59.508Z"
   },
   {
    "duration": 28,
    "start_time": "2022-12-27T07:18:08.077Z"
   },
   {
    "duration": 38,
    "start_time": "2022-12-27T07:18:17.005Z"
   },
   {
    "duration": 9,
    "start_time": "2022-12-27T07:20:08.568Z"
   },
   {
    "duration": 21,
    "start_time": "2022-12-27T07:20:18.764Z"
   },
   {
    "duration": 20,
    "start_time": "2022-12-27T07:20:26.263Z"
   },
   {
    "duration": 21,
    "start_time": "2022-12-27T07:20:41.294Z"
   },
   {
    "duration": 13,
    "start_time": "2022-12-27T07:20:46.132Z"
   },
   {
    "duration": 28,
    "start_time": "2022-12-27T07:24:39.858Z"
   },
   {
    "duration": 17,
    "start_time": "2022-12-27T07:24:58.341Z"
   },
   {
    "duration": 389,
    "start_time": "2022-12-27T07:29:20.201Z"
   },
   {
    "duration": 393,
    "start_time": "2022-12-27T07:29:46.364Z"
   },
   {
    "duration": 31,
    "start_time": "2022-12-27T07:30:21.279Z"
   },
   {
    "duration": 27,
    "start_time": "2022-12-27T07:30:30.312Z"
   },
   {
    "duration": 370,
    "start_time": "2022-12-27T07:30:35.299Z"
   },
   {
    "duration": 26,
    "start_time": "2022-12-27T07:31:19.062Z"
   },
   {
    "duration": 1422,
    "start_time": "2022-12-27T07:31:24.837Z"
   },
   {
    "duration": 360,
    "start_time": "2022-12-27T07:31:54.992Z"
   },
   {
    "duration": 395,
    "start_time": "2022-12-27T07:32:27.524Z"
   },
   {
    "duration": 15,
    "start_time": "2022-12-27T07:50:22.768Z"
   },
   {
    "duration": 15,
    "start_time": "2022-12-27T07:50:35.256Z"
   },
   {
    "duration": 16,
    "start_time": "2022-12-27T07:50:41.599Z"
   },
   {
    "duration": 69,
    "start_time": "2022-12-27T07:52:44.309Z"
   },
   {
    "duration": 20,
    "start_time": "2022-12-27T07:52:48.452Z"
   },
   {
    "duration": 17,
    "start_time": "2022-12-27T07:52:53.921Z"
   },
   {
    "duration": 10,
    "start_time": "2022-12-27T07:53:55.764Z"
   },
   {
    "duration": 9,
    "start_time": "2022-12-27T07:54:05.508Z"
   },
   {
    "duration": 8,
    "start_time": "2022-12-27T07:54:09.025Z"
   },
   {
    "duration": 8,
    "start_time": "2022-12-27T07:54:18.242Z"
   },
   {
    "duration": 8,
    "start_time": "2022-12-27T07:54:35.593Z"
   },
   {
    "duration": 9,
    "start_time": "2022-12-27T07:55:02.911Z"
   },
   {
    "duration": 13,
    "start_time": "2022-12-27T07:55:16.517Z"
   },
   {
    "duration": 9,
    "start_time": "2022-12-27T07:55:26.783Z"
   },
   {
    "duration": 13,
    "start_time": "2022-12-27T07:55:38.705Z"
   },
   {
    "duration": 9,
    "start_time": "2022-12-27T07:55:42.217Z"
   },
   {
    "duration": 13,
    "start_time": "2022-12-27T07:55:52.944Z"
   },
   {
    "duration": 12,
    "start_time": "2022-12-27T07:55:58.750Z"
   },
   {
    "duration": 8,
    "start_time": "2022-12-27T07:56:01.903Z"
   },
   {
    "duration": 10,
    "start_time": "2022-12-27T07:56:22.156Z"
   },
   {
    "duration": 8,
    "start_time": "2022-12-27T07:56:31.477Z"
   },
   {
    "duration": 2043,
    "start_time": "2022-12-27T07:56:35.625Z"
   },
   {
    "duration": 447,
    "start_time": "2022-12-27T07:56:37.670Z"
   },
   {
    "duration": 31,
    "start_time": "2022-12-27T07:56:38.119Z"
   },
   {
    "duration": 2990,
    "start_time": "2022-12-27T07:56:38.153Z"
   },
   {
    "duration": 259,
    "start_time": "2022-12-27T07:56:41.151Z"
   },
   {
    "duration": 169,
    "start_time": "2022-12-27T07:56:41.412Z"
   },
   {
    "duration": 159,
    "start_time": "2022-12-27T07:56:41.583Z"
   },
   {
    "duration": 170,
    "start_time": "2022-12-27T07:56:41.751Z"
   },
   {
    "duration": 276,
    "start_time": "2022-12-27T07:56:41.923Z"
   },
   {
    "duration": 7,
    "start_time": "2022-12-27T07:56:42.202Z"
   },
   {
    "duration": 244,
    "start_time": "2022-12-27T07:56:42.211Z"
   },
   {
    "duration": 197,
    "start_time": "2022-12-27T07:56:42.457Z"
   },
   {
    "duration": 215,
    "start_time": "2022-12-27T07:56:42.657Z"
   },
   {
    "duration": 191,
    "start_time": "2022-12-27T07:56:42.874Z"
   },
   {
    "duration": 163,
    "start_time": "2022-12-27T07:56:43.067Z"
   },
   {
    "duration": 176,
    "start_time": "2022-12-27T07:56:43.232Z"
   },
   {
    "duration": 170,
    "start_time": "2022-12-27T07:56:43.410Z"
   },
   {
    "duration": 186,
    "start_time": "2022-12-27T07:56:43.582Z"
   },
   {
    "duration": 8,
    "start_time": "2022-12-27T07:57:11.585Z"
   },
   {
    "duration": 15,
    "start_time": "2022-12-27T07:57:32.496Z"
   },
   {
    "duration": 14,
    "start_time": "2022-12-27T07:57:43.628Z"
   },
   {
    "duration": 13,
    "start_time": "2022-12-27T07:57:56.834Z"
   },
   {
    "duration": 8,
    "start_time": "2022-12-27T07:58:09.147Z"
   },
   {
    "duration": 381,
    "start_time": "2022-12-27T08:00:43.738Z"
   },
   {
    "duration": 359,
    "start_time": "2022-12-27T08:01:15.565Z"
   },
   {
    "duration": 379,
    "start_time": "2022-12-27T08:01:18.663Z"
   },
   {
    "duration": 368,
    "start_time": "2022-12-27T08:01:24.997Z"
   },
   {
    "duration": 817,
    "start_time": "2022-12-27T08:02:11.370Z"
   },
   {
    "duration": 12,
    "start_time": "2022-12-27T08:02:32.004Z"
   },
   {
    "duration": 75,
    "start_time": "2022-12-27T08:02:56.141Z"
   },
   {
    "duration": 77,
    "start_time": "2022-12-27T08:03:06.276Z"
   },
   {
    "duration": 82,
    "start_time": "2022-12-27T08:03:10.296Z"
   },
   {
    "duration": 12,
    "start_time": "2022-12-27T08:03:17.592Z"
   },
   {
    "duration": 12,
    "start_time": "2022-12-27T08:03:51.420Z"
   },
   {
    "duration": 13,
    "start_time": "2022-12-27T08:03:59.741Z"
   },
   {
    "duration": 110,
    "start_time": "2022-12-27T09:08:32.608Z"
   },
   {
    "duration": 101,
    "start_time": "2022-12-27T09:09:03.099Z"
   },
   {
    "duration": 15,
    "start_time": "2022-12-27T09:09:07.163Z"
   },
   {
    "duration": 51,
    "start_time": "2022-12-27T09:10:23.063Z"
   },
   {
    "duration": 9,
    "start_time": "2022-12-27T09:10:34.654Z"
   },
   {
    "duration": 8,
    "start_time": "2022-12-27T09:10:41.339Z"
   },
   {
    "duration": 3049,
    "start_time": "2022-12-27T09:10:45.960Z"
   },
   {
    "duration": 496,
    "start_time": "2022-12-27T09:10:49.012Z"
   },
   {
    "duration": 26,
    "start_time": "2022-12-27T09:10:49.509Z"
   },
   {
    "duration": 3031,
    "start_time": "2022-12-27T09:10:49.550Z"
   },
   {
    "duration": 222,
    "start_time": "2022-12-27T09:10:52.584Z"
   },
   {
    "duration": 170,
    "start_time": "2022-12-27T09:10:52.807Z"
   },
   {
    "duration": 138,
    "start_time": "2022-12-27T09:10:52.979Z"
   },
   {
    "duration": 159,
    "start_time": "2022-12-27T09:10:53.118Z"
   },
   {
    "duration": 366,
    "start_time": "2022-12-27T09:10:53.279Z"
   },
   {
    "duration": 7,
    "start_time": "2022-12-27T09:10:53.647Z"
   },
   {
    "duration": 202,
    "start_time": "2022-12-27T09:10:53.656Z"
   },
   {
    "duration": 183,
    "start_time": "2022-12-27T09:10:53.859Z"
   },
   {
    "duration": 187,
    "start_time": "2022-12-27T09:10:54.050Z"
   },
   {
    "duration": 175,
    "start_time": "2022-12-27T09:10:54.240Z"
   },
   {
    "duration": 168,
    "start_time": "2022-12-27T09:10:54.416Z"
   },
   {
    "duration": 188,
    "start_time": "2022-12-27T09:10:54.586Z"
   },
   {
    "duration": 169,
    "start_time": "2022-12-27T09:10:54.776Z"
   },
   {
    "duration": 170,
    "start_time": "2022-12-27T09:10:54.950Z"
   },
   {
    "duration": 2083,
    "start_time": "2022-12-27T09:10:55.122Z"
   },
   {
    "duration": 52,
    "start_time": "2022-12-27T09:11:31.843Z"
   },
   {
    "duration": 7,
    "start_time": "2022-12-27T09:11:39.003Z"
   },
   {
    "duration": 3035,
    "start_time": "2022-12-27T09:11:41.174Z"
   },
   {
    "duration": 460,
    "start_time": "2022-12-27T09:11:44.211Z"
   },
   {
    "duration": 27,
    "start_time": "2022-12-27T09:11:44.673Z"
   },
   {
    "duration": 2882,
    "start_time": "2022-12-27T09:11:44.702Z"
   },
   {
    "duration": 207,
    "start_time": "2022-12-27T09:11:47.586Z"
   },
   {
    "duration": 149,
    "start_time": "2022-12-27T09:11:47.795Z"
   },
   {
    "duration": 137,
    "start_time": "2022-12-27T09:11:47.946Z"
   },
   {
    "duration": 162,
    "start_time": "2022-12-27T09:11:48.084Z"
   },
   {
    "duration": 373,
    "start_time": "2022-12-27T09:11:48.251Z"
   },
   {
    "duration": 5,
    "start_time": "2022-12-27T09:11:48.627Z"
   },
   {
    "duration": 207,
    "start_time": "2022-12-27T09:11:48.634Z"
   },
   {
    "duration": 187,
    "start_time": "2022-12-27T09:11:48.843Z"
   },
   {
    "duration": 224,
    "start_time": "2022-12-27T09:11:49.032Z"
   },
   {
    "duration": 193,
    "start_time": "2022-12-27T09:11:49.258Z"
   },
   {
    "duration": 164,
    "start_time": "2022-12-27T09:11:49.452Z"
   },
   {
    "duration": 242,
    "start_time": "2022-12-27T09:11:49.618Z"
   },
   {
    "duration": 177,
    "start_time": "2022-12-27T09:11:49.863Z"
   },
   {
    "duration": 180,
    "start_time": "2022-12-27T09:11:50.041Z"
   },
   {
    "duration": 2249,
    "start_time": "2022-12-27T09:11:50.222Z"
   },
   {
    "duration": 11,
    "start_time": "2022-12-27T09:12:03.369Z"
   },
   {
    "duration": 9,
    "start_time": "2022-12-27T09:24:52.333Z"
   },
   {
    "duration": 2277,
    "start_time": "2022-12-27T09:25:01.246Z"
   },
   {
    "duration": 464,
    "start_time": "2022-12-27T09:25:03.525Z"
   },
   {
    "duration": 25,
    "start_time": "2022-12-27T09:25:03.991Z"
   },
   {
    "duration": 2863,
    "start_time": "2022-12-27T09:25:04.018Z"
   },
   {
    "duration": 211,
    "start_time": "2022-12-27T09:25:06.883Z"
   },
   {
    "duration": 155,
    "start_time": "2022-12-27T09:25:07.096Z"
   },
   {
    "duration": 140,
    "start_time": "2022-12-27T09:25:07.253Z"
   },
   {
    "duration": 157,
    "start_time": "2022-12-27T09:25:07.395Z"
   },
   {
    "duration": 254,
    "start_time": "2022-12-27T09:25:07.554Z"
   },
   {
    "duration": 5,
    "start_time": "2022-12-27T09:25:07.810Z"
   },
   {
    "duration": 180,
    "start_time": "2022-12-27T09:25:07.816Z"
   },
   {
    "duration": 189,
    "start_time": "2022-12-27T09:25:07.998Z"
   },
   {
    "duration": 189,
    "start_time": "2022-12-27T09:25:08.189Z"
   },
   {
    "duration": 181,
    "start_time": "2022-12-27T09:25:08.379Z"
   },
   {
    "duration": 156,
    "start_time": "2022-12-27T09:25:08.562Z"
   },
   {
    "duration": 179,
    "start_time": "2022-12-27T09:25:08.720Z"
   },
   {
    "duration": 173,
    "start_time": "2022-12-27T09:25:08.901Z"
   },
   {
    "duration": 200,
    "start_time": "2022-12-27T09:25:09.076Z"
   },
   {
    "duration": 61,
    "start_time": "2022-12-27T09:25:11.232Z"
   },
   {
    "duration": 8,
    "start_time": "2022-12-27T09:25:47.076Z"
   },
   {
    "duration": 17,
    "start_time": "2022-12-27T09:26:34.404Z"
   },
   {
    "duration": 15,
    "start_time": "2022-12-27T09:26:41.138Z"
   },
   {
    "duration": 24,
    "start_time": "2022-12-27T09:27:13.804Z"
   },
   {
    "duration": 15,
    "start_time": "2022-12-27T09:27:21.590Z"
   },
   {
    "duration": 18,
    "start_time": "2022-12-27T09:27:37.073Z"
   },
   {
    "duration": 15,
    "start_time": "2022-12-27T09:27:40.511Z"
   },
   {
    "duration": 17,
    "start_time": "2022-12-27T09:28:05.623Z"
   },
   {
    "duration": 19,
    "start_time": "2022-12-27T09:29:48.093Z"
   },
   {
    "duration": 16,
    "start_time": "2022-12-27T09:31:03.964Z"
   },
   {
    "duration": 77,
    "start_time": "2022-12-27T09:31:37.472Z"
   },
   {
    "duration": 20,
    "start_time": "2022-12-27T09:31:40.678Z"
   },
   {
    "duration": 17,
    "start_time": "2022-12-27T09:32:37.243Z"
   },
   {
    "duration": 16,
    "start_time": "2022-12-27T09:36:10.093Z"
   },
   {
    "duration": 2416,
    "start_time": "2022-12-27T09:36:13.416Z"
   },
   {
    "duration": 507,
    "start_time": "2022-12-27T09:36:15.834Z"
   },
   {
    "duration": 37,
    "start_time": "2022-12-27T09:36:16.343Z"
   },
   {
    "duration": 2798,
    "start_time": "2022-12-27T09:36:16.382Z"
   },
   {
    "duration": 502,
    "start_time": "2022-12-27T09:36:19.183Z"
   },
   {
    "duration": 202,
    "start_time": "2022-12-27T09:36:19.690Z"
   },
   {
    "duration": 179,
    "start_time": "2022-12-27T09:36:19.894Z"
   },
   {
    "duration": 166,
    "start_time": "2022-12-27T09:36:20.076Z"
   },
   {
    "duration": 249,
    "start_time": "2022-12-27T09:36:20.251Z"
   },
   {
    "duration": 5,
    "start_time": "2022-12-27T09:36:20.502Z"
   },
   {
    "duration": 201,
    "start_time": "2022-12-27T09:36:20.509Z"
   },
   {
    "duration": 187,
    "start_time": "2022-12-27T09:36:20.712Z"
   },
   {
    "duration": 194,
    "start_time": "2022-12-27T09:36:20.901Z"
   },
   {
    "duration": 189,
    "start_time": "2022-12-27T09:36:21.097Z"
   },
   {
    "duration": 165,
    "start_time": "2022-12-27T09:36:21.288Z"
   },
   {
    "duration": 180,
    "start_time": "2022-12-27T09:36:21.456Z"
   },
   {
    "duration": 178,
    "start_time": "2022-12-27T09:36:21.637Z"
   },
   {
    "duration": 246,
    "start_time": "2022-12-27T09:36:21.818Z"
   },
   {
    "duration": 16,
    "start_time": "2022-12-27T09:41:44.977Z"
   },
   {
    "duration": 12,
    "start_time": "2022-12-27T09:41:53.114Z"
   },
   {
    "duration": 12,
    "start_time": "2022-12-27T09:41:58.673Z"
   },
   {
    "duration": 15,
    "start_time": "2022-12-27T09:42:13.468Z"
   },
   {
    "duration": 17,
    "start_time": "2022-12-27T09:43:36.288Z"
   },
   {
    "duration": 9,
    "start_time": "2022-12-27T09:43:43.690Z"
   },
   {
    "duration": 17,
    "start_time": "2022-12-27T09:43:47.832Z"
   },
   {
    "duration": 14,
    "start_time": "2022-12-27T09:44:26.833Z"
   },
   {
    "duration": 17,
    "start_time": "2022-12-27T09:44:30.978Z"
   },
   {
    "duration": 18,
    "start_time": "2022-12-27T09:45:03.728Z"
   },
   {
    "duration": 17,
    "start_time": "2022-12-27T09:45:19.394Z"
   },
   {
    "duration": 18,
    "start_time": "2022-12-27T09:45:25.321Z"
   },
   {
    "duration": 73,
    "start_time": "2022-12-27T09:46:55.134Z"
   },
   {
    "duration": 79,
    "start_time": "2022-12-27T09:47:13.245Z"
   },
   {
    "duration": 76,
    "start_time": "2022-12-27T09:47:23.686Z"
   },
   {
    "duration": 11,
    "start_time": "2022-12-27T09:47:28.825Z"
   },
   {
    "duration": 14,
    "start_time": "2022-12-27T09:47:39.515Z"
   },
   {
    "duration": 10,
    "start_time": "2022-12-27T09:48:04.156Z"
   },
   {
    "duration": 11,
    "start_time": "2022-12-27T09:48:52.636Z"
   },
   {
    "duration": 8,
    "start_time": "2022-12-27T10:26:12.821Z"
   },
   {
    "duration": 9,
    "start_time": "2022-12-27T10:26:25.269Z"
   },
   {
    "duration": 9,
    "start_time": "2022-12-27T10:30:24.308Z"
   },
   {
    "duration": 10,
    "start_time": "2022-12-27T10:30:35.706Z"
   },
   {
    "duration": 73,
    "start_time": "2022-12-27T10:36:26.964Z"
   },
   {
    "duration": 24,
    "start_time": "2022-12-27T10:36:32.354Z"
   },
   {
    "duration": 13,
    "start_time": "2022-12-27T10:39:26.820Z"
   },
   {
    "duration": 37,
    "start_time": "2022-12-27T10:39:48.968Z"
   },
   {
    "duration": 1939,
    "start_time": "2022-12-27T10:40:15.090Z"
   },
   {
    "duration": 2372,
    "start_time": "2022-12-27T10:40:38.356Z"
   },
   {
    "duration": 492,
    "start_time": "2022-12-27T10:40:40.730Z"
   },
   {
    "duration": 39,
    "start_time": "2022-12-27T10:40:41.224Z"
   },
   {
    "duration": 3189,
    "start_time": "2022-12-27T10:40:41.265Z"
   },
   {
    "duration": 222,
    "start_time": "2022-12-27T10:40:44.456Z"
   },
   {
    "duration": 163,
    "start_time": "2022-12-27T10:40:44.680Z"
   },
   {
    "duration": 154,
    "start_time": "2022-12-27T10:40:44.852Z"
   },
   {
    "duration": 194,
    "start_time": "2022-12-27T10:40:45.008Z"
   },
   {
    "duration": 269,
    "start_time": "2022-12-27T10:40:45.208Z"
   },
   {
    "duration": 6,
    "start_time": "2022-12-27T10:40:45.480Z"
   },
   {
    "duration": 208,
    "start_time": "2022-12-27T10:40:45.488Z"
   },
   {
    "duration": 189,
    "start_time": "2022-12-27T10:40:45.698Z"
   },
   {
    "duration": 189,
    "start_time": "2022-12-27T10:40:45.890Z"
   },
   {
    "duration": 201,
    "start_time": "2022-12-27T10:40:46.081Z"
   },
   {
    "duration": 171,
    "start_time": "2022-12-27T10:40:46.285Z"
   },
   {
    "duration": 196,
    "start_time": "2022-12-27T10:40:46.459Z"
   },
   {
    "duration": 187,
    "start_time": "2022-12-27T10:40:46.657Z"
   },
   {
    "duration": 180,
    "start_time": "2022-12-27T10:40:46.850Z"
   },
   {
    "duration": 22,
    "start_time": "2022-12-27T10:40:47.032Z"
   },
   {
    "duration": 8,
    "start_time": "2022-12-27T10:40:47.056Z"
   },
   {
    "duration": 36,
    "start_time": "2022-12-27T10:41:00.636Z"
   },
   {
    "duration": 13,
    "start_time": "2022-12-27T10:41:18.871Z"
   },
   {
    "duration": 32,
    "start_time": "2022-12-27T10:41:33.071Z"
   },
   {
    "duration": 1139,
    "start_time": "2022-12-27T10:42:32.579Z"
   },
   {
    "duration": 6,
    "start_time": "2022-12-27T10:42:43.416Z"
   },
   {
    "duration": 1162,
    "start_time": "2022-12-27T10:43:03.382Z"
   },
   {
    "duration": 8,
    "start_time": "2022-12-27T10:43:14.645Z"
   },
   {
    "duration": 2536,
    "start_time": "2022-12-27T10:43:19.981Z"
   },
   {
    "duration": 464,
    "start_time": "2022-12-27T10:43:22.520Z"
   },
   {
    "duration": 28,
    "start_time": "2022-12-27T10:43:22.986Z"
   },
   {
    "duration": 2728,
    "start_time": "2022-12-27T10:43:23.016Z"
   },
   {
    "duration": 222,
    "start_time": "2022-12-27T10:43:25.745Z"
   },
   {
    "duration": 158,
    "start_time": "2022-12-27T10:43:25.970Z"
   },
   {
    "duration": 151,
    "start_time": "2022-12-27T10:43:26.130Z"
   },
   {
    "duration": 166,
    "start_time": "2022-12-27T10:43:26.283Z"
   },
   {
    "duration": 256,
    "start_time": "2022-12-27T10:43:26.451Z"
   },
   {
    "duration": 5,
    "start_time": "2022-12-27T10:43:26.710Z"
   },
   {
    "duration": 191,
    "start_time": "2022-12-27T10:43:26.716Z"
   },
   {
    "duration": 182,
    "start_time": "2022-12-27T10:43:26.909Z"
   },
   {
    "duration": 192,
    "start_time": "2022-12-27T10:43:27.093Z"
   },
   {
    "duration": 182,
    "start_time": "2022-12-27T10:43:27.287Z"
   },
   {
    "duration": 165,
    "start_time": "2022-12-27T10:43:27.471Z"
   },
   {
    "duration": 186,
    "start_time": "2022-12-27T10:43:27.637Z"
   },
   {
    "duration": 174,
    "start_time": "2022-12-27T10:43:27.825Z"
   },
   {
    "duration": 192,
    "start_time": "2022-12-27T10:43:28.000Z"
   },
   {
    "duration": 13,
    "start_time": "2022-12-27T10:43:28.197Z"
   },
   {
    "duration": 11,
    "start_time": "2022-12-27T10:43:28.213Z"
   },
   {
    "duration": 30,
    "start_time": "2022-12-27T10:43:34.853Z"
   },
   {
    "duration": 2734,
    "start_time": "2022-12-27T10:43:38.354Z"
   },
   {
    "duration": 491,
    "start_time": "2022-12-27T10:43:41.091Z"
   },
   {
    "duration": 29,
    "start_time": "2022-12-27T10:43:41.584Z"
   },
   {
    "duration": 2717,
    "start_time": "2022-12-27T10:43:41.615Z"
   },
   {
    "duration": 221,
    "start_time": "2022-12-27T10:43:44.334Z"
   },
   {
    "duration": 162,
    "start_time": "2022-12-27T10:43:44.557Z"
   },
   {
    "duration": 148,
    "start_time": "2022-12-27T10:43:44.721Z"
   },
   {
    "duration": 163,
    "start_time": "2022-12-27T10:43:44.871Z"
   },
   {
    "duration": 270,
    "start_time": "2022-12-27T10:43:45.036Z"
   },
   {
    "duration": 6,
    "start_time": "2022-12-27T10:43:45.309Z"
   },
   {
    "duration": 194,
    "start_time": "2022-12-27T10:43:45.317Z"
   },
   {
    "duration": 188,
    "start_time": "2022-12-27T10:43:45.514Z"
   },
   {
    "duration": 201,
    "start_time": "2022-12-27T10:43:45.704Z"
   },
   {
    "duration": 193,
    "start_time": "2022-12-27T10:43:45.907Z"
   },
   {
    "duration": 170,
    "start_time": "2022-12-27T10:43:46.102Z"
   },
   {
    "duration": 203,
    "start_time": "2022-12-27T10:43:46.274Z"
   },
   {
    "duration": 174,
    "start_time": "2022-12-27T10:43:46.479Z"
   },
   {
    "duration": 177,
    "start_time": "2022-12-27T10:43:46.654Z"
   },
   {
    "duration": 20,
    "start_time": "2022-12-27T10:43:46.834Z"
   },
   {
    "duration": 6,
    "start_time": "2022-12-27T10:43:46.856Z"
   },
   {
    "duration": 42,
    "start_time": "2022-12-27T10:43:46.864Z"
   },
   {
    "duration": 9,
    "start_time": "2022-12-27T10:43:52.092Z"
   },
   {
    "duration": 30,
    "start_time": "2022-12-27T10:43:57.435Z"
   },
   {
    "duration": 9,
    "start_time": "2022-12-27T10:44:14.014Z"
   },
   {
    "duration": 12,
    "start_time": "2022-12-27T10:44:29.638Z"
   },
   {
    "duration": 9,
    "start_time": "2022-12-27T10:44:34.173Z"
   },
   {
    "duration": 58,
    "start_time": "2022-12-27T10:45:12.226Z"
   },
   {
    "duration": 73,
    "start_time": "2022-12-27T10:49:00.172Z"
   },
   {
    "duration": 75,
    "start_time": "2022-12-27T10:49:10.296Z"
   },
   {
    "duration": 48,
    "start_time": "2022-12-27T10:54:24.499Z"
   },
   {
    "duration": 14,
    "start_time": "2022-12-27T10:54:37.874Z"
   },
   {
    "duration": 9,
    "start_time": "2022-12-27T10:55:24.469Z"
   },
   {
    "duration": 15,
    "start_time": "2022-12-27T10:55:31.118Z"
   },
   {
    "duration": 9,
    "start_time": "2022-12-27T10:55:35.412Z"
   },
   {
    "duration": 83,
    "start_time": "2022-12-27T10:56:12.483Z"
   },
   {
    "duration": 13,
    "start_time": "2022-12-27T10:59:56.203Z"
   },
   {
    "duration": 13,
    "start_time": "2022-12-27T11:00:49.868Z"
   },
   {
    "duration": 15,
    "start_time": "2022-12-27T11:00:54.676Z"
   },
   {
    "duration": 19,
    "start_time": "2022-12-27T11:01:17.215Z"
   },
   {
    "duration": 15,
    "start_time": "2022-12-27T11:01:30.934Z"
   },
   {
    "duration": 22,
    "start_time": "2022-12-27T11:01:36.985Z"
   },
   {
    "duration": 56,
    "start_time": "2022-12-27T11:02:11.811Z"
   },
   {
    "duration": 11,
    "start_time": "2022-12-27T11:02:45.693Z"
   },
   {
    "duration": 8,
    "start_time": "2022-12-27T11:05:01.595Z"
   },
   {
    "duration": 22,
    "start_time": "2022-12-27T11:06:19.301Z"
   },
   {
    "duration": 17,
    "start_time": "2022-12-27T11:06:41.560Z"
   },
   {
    "duration": 8,
    "start_time": "2022-12-27T11:08:08.577Z"
   },
   {
    "duration": 6,
    "start_time": "2022-12-27T11:08:19.158Z"
   },
   {
    "duration": 76,
    "start_time": "2022-12-27T11:09:29.388Z"
   },
   {
    "duration": 73,
    "start_time": "2022-12-27T11:09:35.079Z"
   },
   {
    "duration": 16,
    "start_time": "2022-12-27T11:09:40.154Z"
   },
   {
    "duration": 12,
    "start_time": "2022-12-27T11:11:01.466Z"
   },
   {
    "duration": 20,
    "start_time": "2022-12-27T11:11:40.336Z"
   },
   {
    "duration": 15,
    "start_time": "2022-12-27T11:11:44.195Z"
   },
   {
    "duration": 12,
    "start_time": "2022-12-27T11:13:39.318Z"
   },
   {
    "duration": 5,
    "start_time": "2022-12-27T11:13:45.240Z"
   },
   {
    "duration": 16,
    "start_time": "2022-12-27T11:14:23.629Z"
   },
   {
    "duration": 12,
    "start_time": "2022-12-27T11:14:44.932Z"
   },
   {
    "duration": 22,
    "start_time": "2022-12-27T11:15:38.471Z"
   },
   {
    "duration": 27,
    "start_time": "2022-12-27T11:15:51.637Z"
   },
   {
    "duration": 24,
    "start_time": "2022-12-27T11:15:55.946Z"
   },
   {
    "duration": 28,
    "start_time": "2022-12-27T11:16:03.983Z"
   },
   {
    "duration": 37,
    "start_time": "2022-12-27T11:16:25.248Z"
   },
   {
    "duration": 15,
    "start_time": "2022-12-27T11:17:07.643Z"
   },
   {
    "duration": 15,
    "start_time": "2022-12-27T11:18:08.892Z"
   },
   {
    "duration": 23,
    "start_time": "2022-12-27T11:18:23.090Z"
   },
   {
    "duration": 14,
    "start_time": "2022-12-27T11:18:28.959Z"
   },
   {
    "duration": 18,
    "start_time": "2022-12-27T11:18:33.455Z"
   },
   {
    "duration": 4,
    "start_time": "2022-12-27T11:23:44.797Z"
   },
   {
    "duration": 3,
    "start_time": "2022-12-27T11:23:52.205Z"
   },
   {
    "duration": 37,
    "start_time": "2022-12-27T11:33:08.310Z"
   },
   {
    "duration": 9,
    "start_time": "2022-12-27T11:34:08.245Z"
   },
   {
    "duration": 30,
    "start_time": "2022-12-27T11:34:14.915Z"
   },
   {
    "duration": 16,
    "start_time": "2022-12-27T11:34:19.663Z"
   },
   {
    "duration": 3062,
    "start_time": "2022-12-27T11:35:29.858Z"
   },
   {
    "duration": 593,
    "start_time": "2022-12-27T11:35:32.922Z"
   },
   {
    "duration": 46,
    "start_time": "2022-12-27T11:35:33.517Z"
   },
   {
    "duration": 3333,
    "start_time": "2022-12-27T11:35:33.567Z"
   },
   {
    "duration": 330,
    "start_time": "2022-12-27T11:35:36.903Z"
   },
   {
    "duration": 227,
    "start_time": "2022-12-27T11:35:37.236Z"
   },
   {
    "duration": 202,
    "start_time": "2022-12-27T11:35:37.466Z"
   },
   {
    "duration": 193,
    "start_time": "2022-12-27T11:35:37.670Z"
   },
   {
    "duration": 359,
    "start_time": "2022-12-27T11:35:37.865Z"
   },
   {
    "duration": 12,
    "start_time": "2022-12-27T11:35:38.228Z"
   },
   {
    "duration": 230,
    "start_time": "2022-12-27T11:35:38.253Z"
   },
   {
    "duration": 195,
    "start_time": "2022-12-27T11:35:38.485Z"
   },
   {
    "duration": 216,
    "start_time": "2022-12-27T11:35:38.682Z"
   },
   {
    "duration": 195,
    "start_time": "2022-12-27T11:35:38.900Z"
   },
   {
    "duration": 193,
    "start_time": "2022-12-27T11:35:39.097Z"
   },
   {
    "duration": 225,
    "start_time": "2022-12-27T11:35:39.293Z"
   },
   {
    "duration": 241,
    "start_time": "2022-12-27T11:35:39.521Z"
   },
   {
    "duration": 267,
    "start_time": "2022-12-27T11:35:39.765Z"
   },
   {
    "duration": 23,
    "start_time": "2022-12-27T11:35:40.034Z"
   },
   {
    "duration": 1207,
    "start_time": "2022-12-27T11:35:40.059Z"
   },
   {
    "duration": 0,
    "start_time": "2022-12-27T11:35:41.269Z"
   },
   {
    "duration": 1260,
    "start_time": "2022-12-27T11:35:53.997Z"
   },
   {
    "duration": 1192,
    "start_time": "2022-12-27T11:36:41.558Z"
   },
   {
    "duration": 16,
    "start_time": "2022-12-27T11:36:52.254Z"
   },
   {
    "duration": 2898,
    "start_time": "2022-12-27T11:36:56.146Z"
   },
   {
    "duration": 486,
    "start_time": "2022-12-27T11:36:59.052Z"
   },
   {
    "duration": 32,
    "start_time": "2022-12-27T11:36:59.540Z"
   },
   {
    "duration": 3077,
    "start_time": "2022-12-27T11:36:59.577Z"
   },
   {
    "duration": 241,
    "start_time": "2022-12-27T11:37:02.656Z"
   },
   {
    "duration": 174,
    "start_time": "2022-12-27T11:37:02.898Z"
   },
   {
    "duration": 157,
    "start_time": "2022-12-27T11:37:03.074Z"
   },
   {
    "duration": 223,
    "start_time": "2022-12-27T11:37:03.233Z"
   },
   {
    "duration": 339,
    "start_time": "2022-12-27T11:37:03.458Z"
   },
   {
    "duration": 5,
    "start_time": "2022-12-27T11:37:03.800Z"
   },
   {
    "duration": 207,
    "start_time": "2022-12-27T11:37:03.807Z"
   },
   {
    "duration": 236,
    "start_time": "2022-12-27T11:37:04.017Z"
   },
   {
    "duration": 222,
    "start_time": "2022-12-27T11:37:04.255Z"
   },
   {
    "duration": 197,
    "start_time": "2022-12-27T11:37:04.479Z"
   },
   {
    "duration": 169,
    "start_time": "2022-12-27T11:37:04.678Z"
   },
   {
    "duration": 192,
    "start_time": "2022-12-27T11:37:04.849Z"
   },
   {
    "duration": 216,
    "start_time": "2022-12-27T11:37:05.043Z"
   },
   {
    "duration": 212,
    "start_time": "2022-12-27T11:37:05.261Z"
   },
   {
    "duration": 12,
    "start_time": "2022-12-27T11:37:05.475Z"
   },
   {
    "duration": 20,
    "start_time": "2022-12-27T11:37:05.489Z"
   },
   {
    "duration": 19,
    "start_time": "2022-12-27T11:38:36.839Z"
   },
   {
    "duration": 17,
    "start_time": "2022-12-27T11:38:56.024Z"
   },
   {
    "duration": 5,
    "start_time": "2022-12-27T11:39:16.859Z"
   },
   {
    "duration": 16,
    "start_time": "2022-12-27T11:39:24.742Z"
   },
   {
    "duration": 11,
    "start_time": "2022-12-27T11:39:44.500Z"
   },
   {
    "duration": 12,
    "start_time": "2022-12-27T11:40:02.839Z"
   },
   {
    "duration": 9,
    "start_time": "2022-12-27T11:40:17.003Z"
   },
   {
    "duration": 13,
    "start_time": "2022-12-27T11:43:00.905Z"
   },
   {
    "duration": 18,
    "start_time": "2022-12-27T11:45:51.323Z"
   },
   {
    "duration": 14,
    "start_time": "2022-12-27T11:45:55.606Z"
   },
   {
    "duration": 15,
    "start_time": "2022-12-27T11:46:06.700Z"
   },
   {
    "duration": 2652,
    "start_time": "2022-12-27T12:42:00.379Z"
   },
   {
    "duration": 394,
    "start_time": "2022-12-27T12:42:03.033Z"
   },
   {
    "duration": 23,
    "start_time": "2022-12-27T12:42:03.429Z"
   },
   {
    "duration": 2548,
    "start_time": "2022-12-27T12:42:03.454Z"
   },
   {
    "duration": 184,
    "start_time": "2022-12-27T12:42:06.003Z"
   },
   {
    "duration": 146,
    "start_time": "2022-12-27T12:42:06.189Z"
   },
   {
    "duration": 127,
    "start_time": "2022-12-27T12:42:06.337Z"
   },
   {
    "duration": 138,
    "start_time": "2022-12-27T12:42:06.465Z"
   },
   {
    "duration": 370,
    "start_time": "2022-12-27T12:42:06.605Z"
   },
   {
    "duration": 6,
    "start_time": "2022-12-27T12:42:06.977Z"
   },
   {
    "duration": 170,
    "start_time": "2022-12-27T12:42:06.984Z"
   },
   {
    "duration": 166,
    "start_time": "2022-12-27T12:42:07.155Z"
   },
   {
    "duration": 177,
    "start_time": "2022-12-27T12:42:07.323Z"
   },
   {
    "duration": 163,
    "start_time": "2022-12-27T12:42:07.502Z"
   },
   {
    "duration": 140,
    "start_time": "2022-12-27T12:42:07.667Z"
   },
   {
    "duration": 163,
    "start_time": "2022-12-27T12:42:07.816Z"
   },
   {
    "duration": 160,
    "start_time": "2022-12-27T12:42:07.981Z"
   },
   {
    "duration": 154,
    "start_time": "2022-12-27T12:42:08.143Z"
   },
   {
    "duration": 23,
    "start_time": "2022-12-27T12:42:08.298Z"
   },
   {
    "duration": 18,
    "start_time": "2022-12-27T12:42:08.323Z"
   },
   {
    "duration": 85,
    "start_time": "2022-12-27T12:42:08.342Z"
   },
   {
    "duration": 103,
    "start_time": "2022-12-28T17:13:18.897Z"
   },
   {
    "duration": 72,
    "start_time": "2022-12-28T17:13:39.308Z"
   },
   {
    "duration": 76,
    "start_time": "2022-12-28T17:13:46.547Z"
   },
   {
    "duration": 2128,
    "start_time": "2022-12-28T17:13:52.562Z"
   },
   {
    "duration": 2187,
    "start_time": "2022-12-28T17:14:11.912Z"
   },
   {
    "duration": 2747,
    "start_time": "2022-12-28T17:14:25.996Z"
   },
   {
    "duration": 4,
    "start_time": "2022-12-28T17:30:12.506Z"
   },
   {
    "duration": 7,
    "start_time": "2022-12-28T17:30:46.860Z"
   },
   {
    "duration": 9,
    "start_time": "2022-12-28T17:30:58.444Z"
   },
   {
    "duration": 5,
    "start_time": "2022-12-28T17:30:59.900Z"
   },
   {
    "duration": 6,
    "start_time": "2022-12-28T17:32:01.615Z"
   },
   {
    "duration": 16,
    "start_time": "2022-12-28T17:33:49.949Z"
   },
   {
    "duration": 5,
    "start_time": "2022-12-28T17:34:42.784Z"
   },
   {
    "duration": 11,
    "start_time": "2022-12-28T17:37:35.348Z"
   },
   {
    "duration": 200,
    "start_time": "2022-12-28T17:37:46.982Z"
   },
   {
    "duration": 2138,
    "start_time": "2022-12-28T19:28:21.282Z"
   },
   {
    "duration": 6,
    "start_time": "2022-12-28T19:34:08.228Z"
   },
   {
    "duration": 197,
    "start_time": "2022-12-28T19:34:13.683Z"
   },
   {
    "duration": 196,
    "start_time": "2022-12-28T19:34:35.779Z"
   },
   {
    "duration": 145,
    "start_time": "2022-12-28T19:34:50.739Z"
   },
   {
    "duration": 138,
    "start_time": "2022-12-28T19:35:01.473Z"
   },
   {
    "duration": 1440,
    "start_time": "2022-12-28T19:35:16.244Z"
   },
   {
    "duration": 1379,
    "start_time": "2022-12-28T19:35:21.532Z"
   },
   {
    "duration": 1370,
    "start_time": "2022-12-28T19:35:28.109Z"
   },
   {
    "duration": 2403,
    "start_time": "2022-12-28T19:35:59.233Z"
   },
   {
    "duration": 14,
    "start_time": "2022-12-28T19:36:01.638Z"
   },
   {
    "duration": 27,
    "start_time": "2022-12-28T19:36:01.658Z"
   },
   {
    "duration": 12,
    "start_time": "2022-12-28T19:36:01.688Z"
   },
   {
    "duration": 25,
    "start_time": "2022-12-28T19:36:01.701Z"
   },
   {
    "duration": 18,
    "start_time": "2022-12-28T19:36:01.727Z"
   },
   {
    "duration": 46,
    "start_time": "2022-12-28T19:36:01.747Z"
   },
   {
    "duration": 450,
    "start_time": "2022-12-28T19:36:01.795Z"
   },
   {
    "duration": 22,
    "start_time": "2022-12-28T19:36:02.246Z"
   },
   {
    "duration": 33,
    "start_time": "2022-12-28T19:36:02.270Z"
   },
   {
    "duration": 25,
    "start_time": "2022-12-28T19:36:02.305Z"
   },
   {
    "duration": 29,
    "start_time": "2022-12-28T19:36:02.332Z"
   },
   {
    "duration": 24,
    "start_time": "2022-12-28T19:36:02.363Z"
   },
   {
    "duration": 32,
    "start_time": "2022-12-28T19:36:02.389Z"
   },
   {
    "duration": 11,
    "start_time": "2022-12-28T19:36:02.423Z"
   },
   {
    "duration": 10,
    "start_time": "2022-12-28T19:36:02.436Z"
   },
   {
    "duration": 82,
    "start_time": "2022-12-28T19:36:02.448Z"
   },
   {
    "duration": 0,
    "start_time": "2022-12-28T19:36:02.532Z"
   },
   {
    "duration": 0,
    "start_time": "2022-12-28T19:36:02.533Z"
   },
   {
    "duration": 0,
    "start_time": "2022-12-28T19:36:02.534Z"
   },
   {
    "duration": 0,
    "start_time": "2022-12-28T19:36:02.536Z"
   },
   {
    "duration": 0,
    "start_time": "2022-12-28T19:36:02.536Z"
   },
   {
    "duration": 2283,
    "start_time": "2022-12-28T19:36:25.404Z"
   },
   {
    "duration": 4,
    "start_time": "2022-12-28T19:36:27.690Z"
   },
   {
    "duration": 13,
    "start_time": "2022-12-28T19:36:27.696Z"
   },
   {
    "duration": 8,
    "start_time": "2022-12-28T19:36:27.712Z"
   },
   {
    "duration": 8,
    "start_time": "2022-12-28T19:36:27.751Z"
   },
   {
    "duration": 12,
    "start_time": "2022-12-28T19:36:27.763Z"
   },
   {
    "duration": 23,
    "start_time": "2022-12-28T19:36:27.777Z"
   },
   {
    "duration": 468,
    "start_time": "2022-12-28T19:36:27.802Z"
   },
   {
    "duration": 11,
    "start_time": "2022-12-28T19:36:28.272Z"
   },
   {
    "duration": 4,
    "start_time": "2022-12-28T19:36:28.286Z"
   },
   {
    "duration": 20,
    "start_time": "2022-12-28T19:36:28.292Z"
   },
   {
    "duration": 28,
    "start_time": "2022-12-28T19:36:28.316Z"
   },
   {
    "duration": 23,
    "start_time": "2022-12-28T19:36:28.346Z"
   },
   {
    "duration": 6,
    "start_time": "2022-12-28T19:36:28.371Z"
   },
   {
    "duration": 9,
    "start_time": "2022-12-28T19:36:28.378Z"
   },
   {
    "duration": 7,
    "start_time": "2022-12-28T19:36:28.389Z"
   },
   {
    "duration": 7,
    "start_time": "2022-12-28T19:36:28.397Z"
   },
   {
    "duration": 3723,
    "start_time": "2022-12-28T19:36:28.405Z"
   },
   {
    "duration": 229,
    "start_time": "2022-12-28T19:36:32.130Z"
   },
   {
    "duration": 146,
    "start_time": "2022-12-28T19:36:32.364Z"
   },
   {
    "duration": 150,
    "start_time": "2022-12-28T19:36:32.512Z"
   },
   {
    "duration": 160,
    "start_time": "2022-12-28T19:36:32.668Z"
   },
   {
    "duration": 277,
    "start_time": "2022-12-28T19:36:32.830Z"
   },
   {
    "duration": 6,
    "start_time": "2022-12-28T19:36:33.109Z"
   },
   {
    "duration": 189,
    "start_time": "2022-12-28T19:36:33.116Z"
   },
   {
    "duration": 5,
    "start_time": "2022-12-28T19:36:33.308Z"
   },
   {
    "duration": 198,
    "start_time": "2022-12-28T19:36:33.315Z"
   },
   {
    "duration": 201,
    "start_time": "2022-12-28T19:36:33.517Z"
   },
   {
    "duration": 184,
    "start_time": "2022-12-28T19:36:33.720Z"
   },
   {
    "duration": 166,
    "start_time": "2022-12-28T19:36:33.905Z"
   },
   {
    "duration": 194,
    "start_time": "2022-12-28T19:36:34.073Z"
   },
   {
    "duration": 165,
    "start_time": "2022-12-28T19:36:34.269Z"
   },
   {
    "duration": 180,
    "start_time": "2022-12-28T19:36:34.435Z"
   },
   {
    "duration": 10,
    "start_time": "2022-12-28T19:36:34.616Z"
   },
   {
    "duration": 47,
    "start_time": "2022-12-28T19:36:34.628Z"
   },
   {
    "duration": 177,
    "start_time": "2022-12-28T19:37:01.892Z"
   },
   {
    "duration": 174,
    "start_time": "2022-12-28T19:37:07.772Z"
   },
   {
    "duration": 166,
    "start_time": "2022-12-28T19:37:10.516Z"
   },
   {
    "duration": 6,
    "start_time": "2022-12-28T19:40:22.204Z"
   },
   {
    "duration": 298,
    "start_time": "2022-12-28T19:40:24.175Z"
   },
   {
    "duration": 306,
    "start_time": "2022-12-28T19:40:37.873Z"
   },
   {
    "duration": 170,
    "start_time": "2022-12-28T19:41:16.936Z"
   },
   {
    "duration": 175,
    "start_time": "2022-12-28T19:42:20.329Z"
   },
   {
    "duration": 6,
    "start_time": "2022-12-28T19:42:22.372Z"
   },
   {
    "duration": 178,
    "start_time": "2022-12-28T19:43:08.966Z"
   },
   {
    "duration": 7,
    "start_time": "2022-12-28T19:43:11.879Z"
   },
   {
    "duration": 167,
    "start_time": "2022-12-28T19:43:33.865Z"
   },
   {
    "duration": 166,
    "start_time": "2022-12-28T19:44:15.596Z"
   },
   {
    "duration": 166,
    "start_time": "2022-12-28T19:44:34.838Z"
   },
   {
    "duration": 157,
    "start_time": "2022-12-28T19:44:51.109Z"
   },
   {
    "duration": 169,
    "start_time": "2022-12-28T19:45:12.049Z"
   },
   {
    "duration": 2196,
    "start_time": "2022-12-28T19:45:56.074Z"
   },
   {
    "duration": 5,
    "start_time": "2022-12-28T19:45:58.272Z"
   },
   {
    "duration": 17,
    "start_time": "2022-12-28T19:45:58.279Z"
   },
   {
    "duration": 18,
    "start_time": "2022-12-28T19:45:58.298Z"
   },
   {
    "duration": 32,
    "start_time": "2022-12-28T19:45:58.318Z"
   },
   {
    "duration": 16,
    "start_time": "2022-12-28T19:45:58.360Z"
   },
   {
    "duration": 39,
    "start_time": "2022-12-28T19:45:58.377Z"
   },
   {
    "duration": 448,
    "start_time": "2022-12-28T19:45:58.418Z"
   },
   {
    "duration": 10,
    "start_time": "2022-12-28T19:45:58.868Z"
   },
   {
    "duration": 5,
    "start_time": "2022-12-28T19:45:58.880Z"
   },
   {
    "duration": 33,
    "start_time": "2022-12-28T19:45:58.887Z"
   },
   {
    "duration": 15,
    "start_time": "2022-12-28T19:45:58.921Z"
   },
   {
    "duration": 24,
    "start_time": "2022-12-28T19:45:58.938Z"
   },
   {
    "duration": 26,
    "start_time": "2022-12-28T19:45:58.965Z"
   },
   {
    "duration": 26,
    "start_time": "2022-12-28T19:45:58.993Z"
   },
   {
    "duration": 16,
    "start_time": "2022-12-28T19:45:59.021Z"
   },
   {
    "duration": 5,
    "start_time": "2022-12-28T19:45:59.039Z"
   },
   {
    "duration": 2882,
    "start_time": "2022-12-28T19:45:59.046Z"
   },
   {
    "duration": 242,
    "start_time": "2022-12-28T19:46:01.929Z"
   },
   {
    "duration": 163,
    "start_time": "2022-12-28T19:46:02.173Z"
   },
   {
    "duration": 144,
    "start_time": "2022-12-28T19:46:02.338Z"
   },
   {
    "duration": 160,
    "start_time": "2022-12-28T19:46:02.484Z"
   },
   {
    "duration": 284,
    "start_time": "2022-12-28T19:46:02.652Z"
   },
   {
    "duration": 25,
    "start_time": "2022-12-28T19:46:02.939Z"
   },
   {
    "duration": 9,
    "start_time": "2022-12-28T19:46:02.966Z"
   },
   {
    "duration": 186,
    "start_time": "2022-12-28T19:46:02.977Z"
   },
   {
    "duration": 6,
    "start_time": "2022-12-28T19:46:03.166Z"
   },
   {
    "duration": 171,
    "start_time": "2022-12-28T19:46:03.173Z"
   },
   {
    "duration": 10,
    "start_time": "2022-12-28T19:46:03.346Z"
   },
   {
    "duration": 193,
    "start_time": "2022-12-28T19:46:03.358Z"
   },
   {
    "duration": 14,
    "start_time": "2022-12-28T19:46:03.556Z"
   },
   {
    "duration": 170,
    "start_time": "2022-12-28T19:46:03.572Z"
   },
   {
    "duration": 12,
    "start_time": "2022-12-28T19:46:03.750Z"
   },
   {
    "duration": 149,
    "start_time": "2022-12-28T19:46:03.764Z"
   },
   {
    "duration": 187,
    "start_time": "2022-12-28T19:46:03.915Z"
   },
   {
    "duration": 172,
    "start_time": "2022-12-28T19:46:04.104Z"
   },
   {
    "duration": 189,
    "start_time": "2022-12-28T19:46:04.277Z"
   },
   {
    "duration": 11,
    "start_time": "2022-12-28T19:46:04.468Z"
   },
   {
    "duration": 94,
    "start_time": "2022-12-28T19:46:04.481Z"
   },
   {
    "duration": 0,
    "start_time": "2022-12-28T19:46:04.577Z"
   },
   {
    "duration": 3214,
    "start_time": "2022-12-28T19:46:16.392Z"
   },
   {
    "duration": 6,
    "start_time": "2022-12-28T19:46:19.608Z"
   },
   {
    "duration": 11,
    "start_time": "2022-12-28T19:46:19.616Z"
   },
   {
    "duration": 41,
    "start_time": "2022-12-28T19:46:19.629Z"
   },
   {
    "duration": 21,
    "start_time": "2022-12-28T19:46:19.672Z"
   },
   {
    "duration": 28,
    "start_time": "2022-12-28T19:46:19.695Z"
   },
   {
    "duration": 53,
    "start_time": "2022-12-28T19:46:19.726Z"
   },
   {
    "duration": 473,
    "start_time": "2022-12-28T19:46:19.781Z"
   },
   {
    "duration": 14,
    "start_time": "2022-12-28T19:46:20.258Z"
   },
   {
    "duration": 15,
    "start_time": "2022-12-28T19:46:20.275Z"
   },
   {
    "duration": 72,
    "start_time": "2022-12-28T19:46:20.292Z"
   },
   {
    "duration": 21,
    "start_time": "2022-12-28T19:46:20.367Z"
   },
   {
    "duration": 38,
    "start_time": "2022-12-28T19:46:20.390Z"
   },
   {
    "duration": 39,
    "start_time": "2022-12-28T19:46:20.430Z"
   },
   {
    "duration": 39,
    "start_time": "2022-12-28T19:46:20.471Z"
   },
   {
    "duration": 36,
    "start_time": "2022-12-28T19:46:20.512Z"
   },
   {
    "duration": 44,
    "start_time": "2022-12-28T19:46:20.550Z"
   },
   {
    "duration": 2744,
    "start_time": "2022-12-28T19:46:20.596Z"
   },
   {
    "duration": 222,
    "start_time": "2022-12-28T19:46:23.342Z"
   },
   {
    "duration": 138,
    "start_time": "2022-12-28T19:46:23.566Z"
   },
   {
    "duration": 133,
    "start_time": "2022-12-28T19:46:23.705Z"
   },
   {
    "duration": 155,
    "start_time": "2022-12-28T19:46:23.840Z"
   },
   {
    "duration": 287,
    "start_time": "2022-12-28T19:46:23.997Z"
   },
   {
    "duration": 5,
    "start_time": "2022-12-28T19:46:24.286Z"
   },
   {
    "duration": 8,
    "start_time": "2022-12-28T19:46:24.293Z"
   },
   {
    "duration": 191,
    "start_time": "2022-12-28T19:46:24.303Z"
   },
   {
    "duration": 6,
    "start_time": "2022-12-28T19:46:24.496Z"
   },
   {
    "duration": 196,
    "start_time": "2022-12-28T19:46:24.505Z"
   },
   {
    "duration": 5,
    "start_time": "2022-12-28T19:46:24.703Z"
   },
   {
    "duration": 190,
    "start_time": "2022-12-28T19:46:24.710Z"
   },
   {
    "duration": 7,
    "start_time": "2022-12-28T19:46:24.902Z"
   },
   {
    "duration": 189,
    "start_time": "2022-12-28T19:46:24.911Z"
   },
   {
    "duration": 5,
    "start_time": "2022-12-28T19:46:25.102Z"
   },
   {
    "duration": 176,
    "start_time": "2022-12-28T19:46:25.109Z"
   },
   {
    "duration": 185,
    "start_time": "2022-12-28T19:46:25.287Z"
   },
   {
    "duration": 170,
    "start_time": "2022-12-28T19:46:25.474Z"
   },
   {
    "duration": 179,
    "start_time": "2022-12-28T19:46:25.647Z"
   },
   {
    "duration": 10,
    "start_time": "2022-12-28T19:46:25.827Z"
   },
   {
    "duration": 40,
    "start_time": "2022-12-28T19:46:25.838Z"
   },
   {
    "duration": 5,
    "start_time": "2022-12-28T19:52:26.530Z"
   },
   {
    "duration": 7,
    "start_time": "2022-12-28T19:53:16.403Z"
   },
   {
    "duration": 7,
    "start_time": "2022-12-28T19:54:01.416Z"
   },
   {
    "duration": 5,
    "start_time": "2022-12-28T19:54:07.423Z"
   },
   {
    "duration": 5,
    "start_time": "2022-12-28T19:54:37.161Z"
   },
   {
    "duration": 5,
    "start_time": "2022-12-28T19:54:43.318Z"
   },
   {
    "duration": 5,
    "start_time": "2022-12-28T19:55:00.319Z"
   },
   {
    "duration": 2187,
    "start_time": "2022-12-28T19:55:04.309Z"
   },
   {
    "duration": 5,
    "start_time": "2022-12-28T19:55:06.499Z"
   },
   {
    "duration": 29,
    "start_time": "2022-12-28T19:55:06.506Z"
   },
   {
    "duration": 53,
    "start_time": "2022-12-28T19:55:06.537Z"
   },
   {
    "duration": 25,
    "start_time": "2022-12-28T19:55:06.591Z"
   },
   {
    "duration": 39,
    "start_time": "2022-12-28T19:55:06.618Z"
   },
   {
    "duration": 43,
    "start_time": "2022-12-28T19:55:06.659Z"
   },
   {
    "duration": 489,
    "start_time": "2022-12-28T19:55:06.704Z"
   },
   {
    "duration": 11,
    "start_time": "2022-12-28T19:55:07.195Z"
   },
   {
    "duration": 1173,
    "start_time": "2022-12-28T19:55:07.208Z"
   },
   {
    "duration": 0,
    "start_time": "2022-12-28T19:55:08.383Z"
   },
   {
    "duration": 0,
    "start_time": "2022-12-28T19:55:08.384Z"
   },
   {
    "duration": 0,
    "start_time": "2022-12-28T19:55:08.385Z"
   },
   {
    "duration": 0,
    "start_time": "2022-12-28T19:55:08.387Z"
   },
   {
    "duration": 5,
    "start_time": "2022-12-28T19:55:15.707Z"
   },
   {
    "duration": 6,
    "start_time": "2022-12-28T19:55:37.481Z"
   },
   {
    "duration": 7,
    "start_time": "2022-12-28T19:57:00.572Z"
   },
   {
    "duration": 1248,
    "start_time": "2022-12-28T20:11:44.461Z"
   },
   {
    "duration": 251,
    "start_time": "2022-12-28T20:11:48.738Z"
   },
   {
    "duration": 259,
    "start_time": "2022-12-28T20:28:59.585Z"
   },
   {
    "duration": 267,
    "start_time": "2022-12-28T20:30:43.088Z"
   },
   {
    "duration": 195,
    "start_time": "2022-12-28T20:30:50.423Z"
   },
   {
    "duration": 265,
    "start_time": "2022-12-28T20:31:59.193Z"
   },
   {
    "duration": 207,
    "start_time": "2022-12-28T20:32:04.088Z"
   },
   {
    "duration": 192,
    "start_time": "2022-12-28T20:33:25.904Z"
   },
   {
    "duration": 186,
    "start_time": "2022-12-28T20:33:31.655Z"
   },
   {
    "duration": 179,
    "start_time": "2022-12-28T20:33:34.937Z"
   },
   {
    "duration": 206,
    "start_time": "2022-12-28T20:35:14.827Z"
   },
   {
    "duration": 198,
    "start_time": "2022-12-28T20:35:21.130Z"
   },
   {
    "duration": 210,
    "start_time": "2022-12-28T20:37:21.257Z"
   },
   {
    "duration": 189,
    "start_time": "2022-12-28T20:38:25.793Z"
   },
   {
    "duration": 1096,
    "start_time": "2022-12-28T20:38:42.025Z"
   },
   {
    "duration": 182,
    "start_time": "2022-12-28T20:47:40.600Z"
   },
   {
    "duration": 188,
    "start_time": "2022-12-28T20:48:02.004Z"
   },
   {
    "duration": 1097,
    "start_time": "2022-12-28T20:54:00.502Z"
   },
   {
    "duration": 1140,
    "start_time": "2022-12-28T20:54:08.318Z"
   },
   {
    "duration": 1124,
    "start_time": "2022-12-28T20:54:18.617Z"
   },
   {
    "duration": 1351,
    "start_time": "2022-12-28T20:55:05.670Z"
   },
   {
    "duration": 1111,
    "start_time": "2022-12-28T20:55:13.518Z"
   },
   {
    "duration": 1056,
    "start_time": "2022-12-28T20:56:41.307Z"
   },
   {
    "duration": 2167,
    "start_time": "2022-12-28T20:57:08.933Z"
   },
   {
    "duration": 6,
    "start_time": "2022-12-28T20:57:11.103Z"
   },
   {
    "duration": 13,
    "start_time": "2022-12-28T20:57:11.111Z"
   },
   {
    "duration": 28,
    "start_time": "2022-12-28T20:57:11.126Z"
   },
   {
    "duration": 10,
    "start_time": "2022-12-28T20:57:11.156Z"
   },
   {
    "duration": 8,
    "start_time": "2022-12-28T20:57:11.168Z"
   },
   {
    "duration": 18,
    "start_time": "2022-12-28T20:57:11.178Z"
   },
   {
    "duration": 418,
    "start_time": "2022-12-28T20:57:11.197Z"
   },
   {
    "duration": 10,
    "start_time": "2022-12-28T20:57:11.617Z"
   },
   {
    "duration": 22,
    "start_time": "2022-12-28T20:57:11.629Z"
   },
   {
    "duration": 16,
    "start_time": "2022-12-28T20:57:11.654Z"
   },
   {
    "duration": 6,
    "start_time": "2022-12-28T20:57:11.673Z"
   },
   {
    "duration": 13,
    "start_time": "2022-12-28T20:57:11.681Z"
   },
   {
    "duration": 4,
    "start_time": "2022-12-28T20:57:11.697Z"
   },
   {
    "duration": 6,
    "start_time": "2022-12-28T20:57:11.703Z"
   },
   {
    "duration": 4,
    "start_time": "2022-12-28T20:57:11.711Z"
   },
   {
    "duration": 37,
    "start_time": "2022-12-28T20:57:11.716Z"
   },
   {
    "duration": 7,
    "start_time": "2022-12-28T20:57:11.755Z"
   },
   {
    "duration": 5,
    "start_time": "2022-12-28T20:57:11.764Z"
   },
   {
    "duration": 2638,
    "start_time": "2022-12-28T20:57:11.771Z"
   },
   {
    "duration": 235,
    "start_time": "2022-12-28T20:57:14.411Z"
   },
   {
    "duration": 200,
    "start_time": "2022-12-28T20:57:14.650Z"
   },
   {
    "duration": 176,
    "start_time": "2022-12-28T20:57:14.852Z"
   },
   {
    "duration": 206,
    "start_time": "2022-12-28T20:57:15.030Z"
   },
   {
    "duration": 188,
    "start_time": "2022-12-28T20:57:15.238Z"
   },
   {
    "duration": 198,
    "start_time": "2022-12-28T20:57:15.428Z"
   },
   {
    "duration": 184,
    "start_time": "2022-12-28T20:57:15.628Z"
   },
   {
    "duration": 190,
    "start_time": "2022-12-28T20:57:15.813Z"
   },
   {
    "duration": 154,
    "start_time": "2022-12-28T20:57:16.005Z"
   },
   {
    "duration": 201,
    "start_time": "2022-12-28T20:57:16.161Z"
   },
   {
    "duration": 199,
    "start_time": "2022-12-28T20:57:16.364Z"
   },
   {
    "duration": 140,
    "start_time": "2022-12-28T20:57:16.565Z"
   },
   {
    "duration": 130,
    "start_time": "2022-12-28T20:57:16.707Z"
   },
   {
    "duration": 152,
    "start_time": "2022-12-28T20:57:16.839Z"
   },
   {
    "duration": 259,
    "start_time": "2022-12-28T20:57:16.993Z"
   },
   {
    "duration": 5,
    "start_time": "2022-12-28T20:57:17.254Z"
   },
   {
    "duration": 8,
    "start_time": "2022-12-28T20:57:17.261Z"
   },
   {
    "duration": 186,
    "start_time": "2022-12-28T20:57:17.271Z"
   },
   {
    "duration": 5,
    "start_time": "2022-12-28T20:57:17.459Z"
   },
   {
    "duration": 176,
    "start_time": "2022-12-28T20:57:17.466Z"
   },
   {
    "duration": 6,
    "start_time": "2022-12-28T20:57:17.650Z"
   },
   {
    "duration": 195,
    "start_time": "2022-12-28T20:57:17.658Z"
   },
   {
    "duration": 6,
    "start_time": "2022-12-28T20:57:17.855Z"
   },
   {
    "duration": 182,
    "start_time": "2022-12-28T20:57:17.863Z"
   },
   {
    "duration": 7,
    "start_time": "2022-12-28T20:57:18.047Z"
   },
   {
    "duration": 166,
    "start_time": "2022-12-28T20:57:18.056Z"
   },
   {
    "duration": 179,
    "start_time": "2022-12-28T20:57:18.224Z"
   },
   {
    "duration": 160,
    "start_time": "2022-12-28T20:57:18.405Z"
   },
   {
    "duration": 171,
    "start_time": "2022-12-28T20:57:18.567Z"
   },
   {
    "duration": 17,
    "start_time": "2022-12-28T20:57:18.740Z"
   },
   {
    "duration": 12,
    "start_time": "2022-12-28T20:57:18.759Z"
   },
   {
    "duration": 217,
    "start_time": "2022-12-28T20:57:45.710Z"
   },
   {
    "duration": 169,
    "start_time": "2022-12-28T21:01:21.762Z"
   },
   {
    "duration": 147,
    "start_time": "2022-12-28T21:01:35.905Z"
   },
   {
    "duration": 143,
    "start_time": "2022-12-28T21:01:41.410Z"
   },
   {
    "duration": 130,
    "start_time": "2022-12-28T21:01:43.808Z"
   },
   {
    "duration": 182,
    "start_time": "2022-12-28T21:11:27.247Z"
   },
   {
    "duration": 192,
    "start_time": "2022-12-28T21:11:36.901Z"
   },
   {
    "duration": 175,
    "start_time": "2022-12-28T21:11:40.111Z"
   },
   {
    "duration": 4,
    "start_time": "2022-12-28T21:14:47.308Z"
   },
   {
    "duration": 5,
    "start_time": "2022-12-28T21:15:17.695Z"
   },
   {
    "duration": 4,
    "start_time": "2022-12-28T21:17:38.658Z"
   },
   {
    "duration": 5,
    "start_time": "2022-12-28T21:17:47.958Z"
   },
   {
    "duration": 188,
    "start_time": "2022-12-28T21:17:51.753Z"
   },
   {
    "duration": 1182,
    "start_time": "2022-12-28T21:17:58.710Z"
   },
   {
    "duration": 195,
    "start_time": "2022-12-28T21:18:06.004Z"
   },
   {
    "duration": 183,
    "start_time": "2022-12-28T21:18:10.138Z"
   },
   {
    "duration": 170,
    "start_time": "2022-12-28T21:18:20.841Z"
   },
   {
    "duration": 175,
    "start_time": "2022-12-28T21:18:27.404Z"
   },
   {
    "duration": 5,
    "start_time": "2022-12-28T21:18:38.230Z"
   },
   {
    "duration": 175,
    "start_time": "2022-12-28T21:20:06.853Z"
   },
   {
    "duration": 193,
    "start_time": "2022-12-28T21:20:10.768Z"
   },
   {
    "duration": 177,
    "start_time": "2022-12-28T21:20:16.339Z"
   },
   {
    "duration": 166,
    "start_time": "2022-12-28T21:20:27.288Z"
   },
   {
    "duration": 9,
    "start_time": "2022-12-28T21:29:53.559Z"
   },
   {
    "duration": 127,
    "start_time": "2022-12-28T21:36:15.234Z"
   },
   {
    "duration": 233,
    "start_time": "2022-12-28T21:36:21.500Z"
   },
   {
    "duration": 231,
    "start_time": "2022-12-28T21:36:26.059Z"
   },
   {
    "duration": 248,
    "start_time": "2022-12-28T21:36:31.518Z"
   },
   {
    "duration": 9,
    "start_time": "2022-12-28T21:50:36.074Z"
   },
   {
    "duration": 264,
    "start_time": "2022-12-28T21:57:11.592Z"
   },
   {
    "duration": 230,
    "start_time": "2022-12-28T21:57:23.593Z"
   },
   {
    "duration": 222,
    "start_time": "2022-12-28T21:57:38.902Z"
   },
   {
    "duration": 135,
    "start_time": "2022-12-28T21:57:51.037Z"
   },
   {
    "duration": 2183,
    "start_time": "2022-12-28T21:58:00.344Z"
   },
   {
    "duration": 5,
    "start_time": "2022-12-28T21:58:02.529Z"
   },
   {
    "duration": 22,
    "start_time": "2022-12-28T21:58:02.535Z"
   },
   {
    "duration": 13,
    "start_time": "2022-12-28T21:58:02.559Z"
   },
   {
    "duration": 19,
    "start_time": "2022-12-28T21:58:02.574Z"
   },
   {
    "duration": 11,
    "start_time": "2022-12-28T21:58:02.595Z"
   },
   {
    "duration": 21,
    "start_time": "2022-12-28T21:58:02.607Z"
   },
   {
    "duration": 423,
    "start_time": "2022-12-28T21:58:02.630Z"
   },
   {
    "duration": 11,
    "start_time": "2022-12-28T21:58:03.054Z"
   },
   {
    "duration": 6,
    "start_time": "2022-12-28T21:58:03.068Z"
   },
   {
    "duration": 8,
    "start_time": "2022-12-28T21:58:03.076Z"
   },
   {
    "duration": 12,
    "start_time": "2022-12-28T21:58:03.086Z"
   },
   {
    "duration": 19,
    "start_time": "2022-12-28T21:58:03.101Z"
   },
   {
    "duration": 33,
    "start_time": "2022-12-28T21:58:03.122Z"
   },
   {
    "duration": 12,
    "start_time": "2022-12-28T21:58:03.156Z"
   },
   {
    "duration": 14,
    "start_time": "2022-12-28T21:58:03.169Z"
   },
   {
    "duration": 15,
    "start_time": "2022-12-28T21:58:03.185Z"
   },
   {
    "duration": 15,
    "start_time": "2022-12-28T21:58:03.201Z"
   },
   {
    "duration": 14,
    "start_time": "2022-12-28T21:58:03.218Z"
   },
   {
    "duration": 2697,
    "start_time": "2022-12-28T21:58:03.234Z"
   },
   {
    "duration": 217,
    "start_time": "2022-12-28T21:58:05.933Z"
   },
   {
    "duration": 213,
    "start_time": "2022-12-28T21:58:06.153Z"
   },
   {
    "duration": 185,
    "start_time": "2022-12-28T21:58:06.368Z"
   },
   {
    "duration": 205,
    "start_time": "2022-12-28T21:58:06.555Z"
   },
   {
    "duration": 173,
    "start_time": "2022-12-28T21:58:06.762Z"
   },
   {
    "duration": 200,
    "start_time": "2022-12-28T21:58:06.937Z"
   },
   {
    "duration": 214,
    "start_time": "2022-12-28T21:58:07.139Z"
   },
   {
    "duration": 196,
    "start_time": "2022-12-28T21:58:07.357Z"
   },
   {
    "duration": 220,
    "start_time": "2022-12-28T21:58:07.555Z"
   },
   {
    "duration": 199,
    "start_time": "2022-12-28T21:58:07.777Z"
   },
   {
    "duration": 132,
    "start_time": "2022-12-28T21:58:07.978Z"
   },
   {
    "duration": 190,
    "start_time": "2022-12-28T21:58:08.111Z"
   },
   {
    "duration": 1047,
    "start_time": "2022-12-28T21:58:08.304Z"
   },
   {
    "duration": 137,
    "start_time": "2022-12-28T21:58:09.352Z"
   },
   {
    "duration": 163,
    "start_time": "2022-12-28T21:58:09.491Z"
   },
   {
    "duration": 292,
    "start_time": "2022-12-28T21:58:09.657Z"
   },
   {
    "duration": 9,
    "start_time": "2022-12-28T21:58:09.951Z"
   },
   {
    "duration": 225,
    "start_time": "2022-12-28T21:58:09.963Z"
   },
   {
    "duration": 7,
    "start_time": "2022-12-28T21:58:10.190Z"
   },
   {
    "duration": 185,
    "start_time": "2022-12-28T21:58:10.199Z"
   },
   {
    "duration": 7,
    "start_time": "2022-12-28T21:58:10.386Z"
   },
   {
    "duration": 192,
    "start_time": "2022-12-28T21:58:10.394Z"
   },
   {
    "duration": 7,
    "start_time": "2022-12-28T21:58:10.588Z"
   },
   {
    "duration": 199,
    "start_time": "2022-12-28T21:58:10.597Z"
   },
   {
    "duration": 6,
    "start_time": "2022-12-28T21:58:10.798Z"
   },
   {
    "duration": 161,
    "start_time": "2022-12-28T21:58:10.806Z"
   },
   {
    "duration": 169,
    "start_time": "2022-12-28T21:58:10.969Z"
   },
   {
    "duration": 167,
    "start_time": "2022-12-28T21:58:11.140Z"
   },
   {
    "duration": 185,
    "start_time": "2022-12-28T21:58:11.310Z"
   },
   {
    "duration": 10,
    "start_time": "2022-12-28T21:58:11.496Z"
   },
   {
    "duration": 12,
    "start_time": "2022-12-28T21:58:11.508Z"
   },
   {
    "duration": 161,
    "start_time": "2022-12-28T21:58:11.522Z"
   },
   {
    "duration": 4,
    "start_time": "2022-12-28T21:59:24.028Z"
   },
   {
    "duration": 139,
    "start_time": "2022-12-28T21:59:35.209Z"
   },
   {
    "duration": 144,
    "start_time": "2022-12-28T21:59:44.244Z"
   },
   {
    "duration": 410,
    "start_time": "2022-12-28T22:02:32.165Z"
   },
   {
    "duration": 2222,
    "start_time": "2022-12-28T22:02:57.225Z"
   },
   {
    "duration": 182,
    "start_time": "2022-12-28T22:05:16.325Z"
   },
   {
    "duration": 2295,
    "start_time": "2022-12-28T22:35:36.273Z"
   },
   {
    "duration": 6,
    "start_time": "2022-12-28T22:35:38.570Z"
   },
   {
    "duration": 10,
    "start_time": "2022-12-28T22:35:38.578Z"
   },
   {
    "duration": 7,
    "start_time": "2022-12-28T22:35:38.590Z"
   },
   {
    "duration": 6,
    "start_time": "2022-12-28T22:35:38.599Z"
   },
   {
    "duration": 45,
    "start_time": "2022-12-28T22:35:38.607Z"
   },
   {
    "duration": 31,
    "start_time": "2022-12-28T22:35:38.655Z"
   },
   {
    "duration": 458,
    "start_time": "2022-12-28T22:35:38.688Z"
   },
   {
    "duration": 21,
    "start_time": "2022-12-28T22:35:39.150Z"
   },
   {
    "duration": 15,
    "start_time": "2022-12-28T22:35:39.174Z"
   },
   {
    "duration": 8,
    "start_time": "2022-12-28T22:35:39.191Z"
   },
   {
    "duration": 10,
    "start_time": "2022-12-28T22:35:39.201Z"
   },
   {
    "duration": 19,
    "start_time": "2022-12-28T22:35:39.212Z"
   },
   {
    "duration": 29,
    "start_time": "2022-12-28T22:35:39.233Z"
   },
   {
    "duration": 11,
    "start_time": "2022-12-28T22:35:39.264Z"
   },
   {
    "duration": 5,
    "start_time": "2022-12-28T22:35:39.277Z"
   },
   {
    "duration": 11,
    "start_time": "2022-12-28T22:35:39.283Z"
   },
   {
    "duration": 16,
    "start_time": "2022-12-28T22:35:39.296Z"
   },
   {
    "duration": 8,
    "start_time": "2022-12-28T22:35:39.314Z"
   },
   {
    "duration": 6417,
    "start_time": "2022-12-28T22:35:39.324Z"
   },
   {
    "duration": 238,
    "start_time": "2022-12-28T22:35:45.743Z"
   },
   {
    "duration": 228,
    "start_time": "2022-12-28T22:35:45.983Z"
   },
   {
    "duration": 212,
    "start_time": "2022-12-28T22:35:46.213Z"
   },
   {
    "duration": 220,
    "start_time": "2022-12-28T22:35:46.427Z"
   },
   {
    "duration": 191,
    "start_time": "2022-12-28T22:35:46.652Z"
   },
   {
    "duration": 218,
    "start_time": "2022-12-28T22:35:46.845Z"
   },
   {
    "duration": 218,
    "start_time": "2022-12-28T22:35:47.066Z"
   },
   {
    "duration": 205,
    "start_time": "2022-12-28T22:35:47.287Z"
   },
   {
    "duration": 224,
    "start_time": "2022-12-28T22:35:47.494Z"
   },
   {
    "duration": 205,
    "start_time": "2022-12-28T22:35:47.720Z"
   },
   {
    "duration": 155,
    "start_time": "2022-12-28T22:35:47.928Z"
   },
   {
    "duration": 204,
    "start_time": "2022-12-28T22:35:48.085Z"
   },
   {
    "duration": 154,
    "start_time": "2022-12-28T22:35:48.291Z"
   },
   {
    "duration": 144,
    "start_time": "2022-12-28T22:35:48.447Z"
   },
   {
    "duration": 165,
    "start_time": "2022-12-28T22:35:48.593Z"
   },
   {
    "duration": 273,
    "start_time": "2022-12-28T22:35:48.761Z"
   },
   {
    "duration": 18,
    "start_time": "2022-12-28T22:35:49.036Z"
   },
   {
    "duration": 219,
    "start_time": "2022-12-28T22:35:49.057Z"
   },
   {
    "duration": 8,
    "start_time": "2022-12-28T22:35:49.279Z"
   },
   {
    "duration": 218,
    "start_time": "2022-12-28T22:35:49.289Z"
   },
   {
    "duration": 6,
    "start_time": "2022-12-28T22:35:49.509Z"
   },
   {
    "duration": 217,
    "start_time": "2022-12-28T22:35:49.517Z"
   },
   {
    "duration": 15,
    "start_time": "2022-12-28T22:35:49.737Z"
   },
   {
    "duration": 217,
    "start_time": "2022-12-28T22:35:49.754Z"
   },
   {
    "duration": 6,
    "start_time": "2022-12-28T22:35:49.974Z"
   },
   {
    "duration": 166,
    "start_time": "2022-12-28T22:35:49.981Z"
   },
   {
    "duration": 189,
    "start_time": "2022-12-28T22:35:50.152Z"
   },
   {
    "duration": 173,
    "start_time": "2022-12-28T22:35:50.343Z"
   },
   {
    "duration": 190,
    "start_time": "2022-12-28T22:35:50.518Z"
   },
   {
    "duration": 10,
    "start_time": "2022-12-28T22:35:50.710Z"
   },
   {
    "duration": 29,
    "start_time": "2022-12-28T22:35:50.722Z"
   },
   {
    "duration": 2205,
    "start_time": "2022-12-28T22:35:50.753Z"
   },
   {
    "duration": 155673,
    "start_time": "2022-12-28T22:35:52.961Z"
   },
   {
    "duration": 2201,
    "start_time": "2022-12-29T04:06:16.488Z"
   },
   {
    "duration": 8,
    "start_time": "2022-12-29T04:06:18.699Z"
   },
   {
    "duration": 37,
    "start_time": "2022-12-29T04:06:18.716Z"
   },
   {
    "duration": 8,
    "start_time": "2022-12-29T04:06:18.764Z"
   },
   {
    "duration": 4,
    "start_time": "2022-12-29T04:06:18.793Z"
   },
   {
    "duration": 4,
    "start_time": "2022-12-29T04:06:19.291Z"
   },
   {
    "duration": 31,
    "start_time": "2022-12-29T04:06:19.320Z"
   },
   {
    "duration": 241,
    "start_time": "2022-12-29T04:06:19.363Z"
   },
   {
    "duration": 22,
    "start_time": "2022-12-29T04:06:19.614Z"
   },
   {
    "duration": 35,
    "start_time": "2022-12-29T04:06:19.659Z"
   },
   {
    "duration": 11,
    "start_time": "2022-12-29T04:06:19.756Z"
   },
   {
    "duration": 14,
    "start_time": "2022-12-29T04:06:19.795Z"
   },
   {
    "duration": 31,
    "start_time": "2022-12-29T04:06:19.829Z"
   },
   {
    "duration": 18,
    "start_time": "2022-12-29T04:06:19.873Z"
   },
   {
    "duration": 16,
    "start_time": "2022-12-29T04:06:19.918Z"
   },
   {
    "duration": 24,
    "start_time": "2022-12-29T04:06:19.954Z"
   },
   {
    "duration": 27,
    "start_time": "2022-12-29T04:06:20.008Z"
   },
   {
    "duration": 5,
    "start_time": "2022-12-29T04:06:22.866Z"
   },
   {
    "duration": 4,
    "start_time": "2022-12-29T04:06:23.107Z"
   },
   {
    "duration": 2606,
    "start_time": "2022-12-29T04:06:23.322Z"
   },
   {
    "duration": 205,
    "start_time": "2022-12-29T04:06:26.124Z"
   },
   {
    "duration": 208,
    "start_time": "2022-12-29T04:06:26.533Z"
   },
   {
    "duration": 193,
    "start_time": "2022-12-29T04:06:26.923Z"
   },
   {
    "duration": 204,
    "start_time": "2022-12-29T04:06:27.315Z"
   },
   {
    "duration": 176,
    "start_time": "2022-12-29T04:06:27.714Z"
   },
   {
    "duration": 206,
    "start_time": "2022-12-29T04:06:28.081Z"
   },
   {
    "duration": 183,
    "start_time": "2022-12-29T04:06:28.492Z"
   },
   {
    "duration": 185,
    "start_time": "2022-12-29T04:06:28.862Z"
   },
   {
    "duration": 195,
    "start_time": "2022-12-29T04:06:29.200Z"
   },
   {
    "duration": 245,
    "start_time": "2022-12-29T04:06:29.574Z"
   },
   {
    "duration": 139,
    "start_time": "2022-12-29T04:06:29.975Z"
   },
   {
    "duration": 191,
    "start_time": "2022-12-29T04:06:30.265Z"
   },
   {
    "duration": 167,
    "start_time": "2022-12-29T04:06:30.627Z"
   },
   {
    "duration": 139,
    "start_time": "2022-12-29T04:06:31.053Z"
   },
   {
    "duration": 179,
    "start_time": "2022-12-29T04:06:31.205Z"
   },
   {
    "duration": 248,
    "start_time": "2022-12-29T04:06:31.559Z"
   },
   {
    "duration": 34,
    "start_time": "2022-12-29T04:06:31.817Z"
   },
   {
    "duration": 172,
    "start_time": "2022-12-29T04:06:32.032Z"
   },
   {
    "duration": 32,
    "start_time": "2022-12-29T04:06:32.219Z"
   },
   {
    "duration": 167,
    "start_time": "2022-12-29T04:06:32.463Z"
   },
   {
    "duration": 30,
    "start_time": "2022-12-29T04:06:32.651Z"
   },
   {
    "duration": 173,
    "start_time": "2022-12-29T04:06:32.896Z"
   },
   {
    "duration": 26,
    "start_time": "2022-12-29T04:06:33.079Z"
   },
   {
    "duration": 161,
    "start_time": "2022-12-29T04:06:33.275Z"
   },
   {
    "duration": 6,
    "start_time": "2022-12-29T04:06:33.606Z"
   },
   {
    "duration": 172,
    "start_time": "2022-12-29T04:06:36.637Z"
   },
   {
    "duration": 172,
    "start_time": "2022-12-29T04:06:36.985Z"
   },
   {
    "duration": 171,
    "start_time": "2022-12-29T04:06:37.171Z"
   },
   {
    "duration": 196,
    "start_time": "2022-12-29T04:06:37.366Z"
   },
   {
    "duration": 13,
    "start_time": "2022-12-29T04:06:39.676Z"
   },
   {
    "duration": 60,
    "start_time": "2022-12-29T04:06:39.691Z"
   },
   {
    "duration": 2228,
    "start_time": "2022-12-29T04:06:39.754Z"
   },
   {
    "duration": 148508,
    "start_time": "2022-12-29T04:06:41.984Z"
   },
   {
    "duration": 640,
    "start_time": "2022-12-29T04:09:10.496Z"
   },
   {
    "duration": 314,
    "start_time": "2022-12-29T04:09:52.456Z"
   },
   {
    "duration": 2503,
    "start_time": "2022-12-29T11:59:31.527Z"
   },
   {
    "duration": 5,
    "start_time": "2022-12-29T11:59:34.032Z"
   },
   {
    "duration": 10,
    "start_time": "2022-12-29T11:59:34.039Z"
   },
   {
    "duration": 4,
    "start_time": "2022-12-29T11:59:34.051Z"
   },
   {
    "duration": 4,
    "start_time": "2022-12-29T11:59:34.057Z"
   },
   {
    "duration": 9,
    "start_time": "2022-12-29T11:59:34.062Z"
   },
   {
    "duration": 14,
    "start_time": "2022-12-29T11:59:34.073Z"
   },
   {
    "duration": 384,
    "start_time": "2022-12-29T11:59:34.088Z"
   },
   {
    "duration": 10,
    "start_time": "2022-12-29T11:59:34.474Z"
   },
   {
    "duration": 5,
    "start_time": "2022-12-29T11:59:34.486Z"
   },
   {
    "duration": 8,
    "start_time": "2022-12-29T11:59:34.492Z"
   },
   {
    "duration": 20,
    "start_time": "2022-12-29T11:59:34.501Z"
   },
   {
    "duration": 11,
    "start_time": "2022-12-29T11:59:34.522Z"
   },
   {
    "duration": 4,
    "start_time": "2022-12-29T11:59:34.535Z"
   },
   {
    "duration": 8,
    "start_time": "2022-12-29T11:59:34.540Z"
   },
   {
    "duration": 6,
    "start_time": "2022-12-29T11:59:34.549Z"
   },
   {
    "duration": 11,
    "start_time": "2022-12-29T11:59:34.557Z"
   },
   {
    "duration": 15,
    "start_time": "2022-12-29T11:59:34.569Z"
   },
   {
    "duration": 7,
    "start_time": "2022-12-29T11:59:34.586Z"
   },
   {
    "duration": 2506,
    "start_time": "2022-12-29T11:59:34.595Z"
   },
   {
    "duration": 182,
    "start_time": "2022-12-29T11:59:37.103Z"
   },
   {
    "duration": 172,
    "start_time": "2022-12-29T11:59:37.287Z"
   },
   {
    "duration": 162,
    "start_time": "2022-12-29T11:59:37.460Z"
   },
   {
    "duration": 278,
    "start_time": "2022-12-29T11:59:37.623Z"
   },
   {
    "duration": 163,
    "start_time": "2022-12-29T11:59:37.903Z"
   },
   {
    "duration": 169,
    "start_time": "2022-12-29T11:59:38.068Z"
   },
   {
    "duration": 164,
    "start_time": "2022-12-29T11:59:38.238Z"
   },
   {
    "duration": 162,
    "start_time": "2022-12-29T11:59:38.405Z"
   },
   {
    "duration": 181,
    "start_time": "2022-12-29T11:59:38.570Z"
   },
   {
    "duration": 169,
    "start_time": "2022-12-29T11:59:38.752Z"
   },
   {
    "duration": 125,
    "start_time": "2022-12-29T11:59:38.922Z"
   },
   {
    "duration": 156,
    "start_time": "2022-12-29T11:59:39.048Z"
   },
   {
    "duration": 118,
    "start_time": "2022-12-29T11:59:39.206Z"
   },
   {
    "duration": 191,
    "start_time": "2022-12-29T11:59:39.326Z"
   },
   {
    "duration": 142,
    "start_time": "2022-12-29T11:59:39.520Z"
   },
   {
    "duration": 212,
    "start_time": "2022-12-29T11:59:39.664Z"
   },
   {
    "duration": 8,
    "start_time": "2022-12-29T11:59:39.878Z"
   },
   {
    "duration": 150,
    "start_time": "2022-12-29T11:59:39.888Z"
   },
   {
    "duration": 4,
    "start_time": "2022-12-29T11:59:40.040Z"
   },
   {
    "duration": 152,
    "start_time": "2022-12-29T11:59:40.046Z"
   },
   {
    "duration": 5,
    "start_time": "2022-12-29T11:59:40.199Z"
   },
   {
    "duration": 152,
    "start_time": "2022-12-29T11:59:40.206Z"
   },
   {
    "duration": 5,
    "start_time": "2022-12-29T11:59:40.359Z"
   },
   {
    "duration": 158,
    "start_time": "2022-12-29T11:59:40.365Z"
   },
   {
    "duration": 4,
    "start_time": "2022-12-29T11:59:40.525Z"
   },
   {
    "duration": 146,
    "start_time": "2022-12-29T11:59:40.530Z"
   },
   {
    "duration": 164,
    "start_time": "2022-12-29T11:59:40.678Z"
   },
   {
    "duration": 145,
    "start_time": "2022-12-29T11:59:40.844Z"
   },
   {
    "duration": 210,
    "start_time": "2022-12-29T11:59:40.991Z"
   },
   {
    "duration": 8,
    "start_time": "2022-12-29T11:59:41.203Z"
   },
   {
    "duration": 10,
    "start_time": "2022-12-29T11:59:41.221Z"
   },
   {
    "duration": 316,
    "start_time": "2022-12-29T11:59:41.233Z"
   },
   {
    "duration": 2527,
    "start_time": "2022-12-29T12:01:22.148Z"
   },
   {
    "duration": 5,
    "start_time": "2022-12-29T12:01:24.677Z"
   },
   {
    "duration": 15,
    "start_time": "2022-12-29T12:01:24.683Z"
   },
   {
    "duration": 6,
    "start_time": "2022-12-29T12:01:24.700Z"
   },
   {
    "duration": 14,
    "start_time": "2022-12-29T12:01:24.708Z"
   },
   {
    "duration": 5,
    "start_time": "2022-12-29T12:01:24.724Z"
   },
   {
    "duration": 30,
    "start_time": "2022-12-29T12:01:24.730Z"
   },
   {
    "duration": 361,
    "start_time": "2022-12-29T12:01:24.762Z"
   },
   {
    "duration": 11,
    "start_time": "2022-12-29T12:01:25.124Z"
   },
   {
    "duration": 5,
    "start_time": "2022-12-29T12:01:25.137Z"
   },
   {
    "duration": 7,
    "start_time": "2022-12-29T12:01:25.144Z"
   },
   {
    "duration": 7,
    "start_time": "2022-12-29T12:01:25.153Z"
   },
   {
    "duration": 17,
    "start_time": "2022-12-29T12:01:25.161Z"
   },
   {
    "duration": 18,
    "start_time": "2022-12-29T12:01:25.180Z"
   },
   {
    "duration": 8,
    "start_time": "2022-12-29T12:01:25.199Z"
   },
   {
    "duration": 4,
    "start_time": "2022-12-29T12:01:25.220Z"
   },
   {
    "duration": 9,
    "start_time": "2022-12-29T12:01:25.226Z"
   },
   {
    "duration": 14,
    "start_time": "2022-12-29T12:01:25.237Z"
   },
   {
    "duration": 22,
    "start_time": "2022-12-29T12:01:25.252Z"
   },
   {
    "duration": 2491,
    "start_time": "2022-12-29T12:01:25.276Z"
   },
   {
    "duration": 190,
    "start_time": "2022-12-29T12:01:27.768Z"
   },
   {
    "duration": 175,
    "start_time": "2022-12-29T12:01:27.959Z"
   },
   {
    "duration": 156,
    "start_time": "2022-12-29T12:01:28.136Z"
   },
   {
    "duration": 284,
    "start_time": "2022-12-29T12:01:28.294Z"
   },
   {
    "duration": 153,
    "start_time": "2022-12-29T12:01:28.580Z"
   },
   {
    "duration": 165,
    "start_time": "2022-12-29T12:01:28.735Z"
   },
   {
    "duration": 166,
    "start_time": "2022-12-29T12:01:28.901Z"
   },
   {
    "duration": 164,
    "start_time": "2022-12-29T12:01:29.070Z"
   },
   {
    "duration": 173,
    "start_time": "2022-12-29T12:01:29.235Z"
   },
   {
    "duration": 169,
    "start_time": "2022-12-29T12:01:29.410Z"
   },
   {
    "duration": 107,
    "start_time": "2022-12-29T12:01:29.581Z"
   },
   {
    "duration": 153,
    "start_time": "2022-12-29T12:01:29.689Z"
   },
   {
    "duration": 120,
    "start_time": "2022-12-29T12:01:29.844Z"
   },
   {
    "duration": 205,
    "start_time": "2022-12-29T12:01:29.966Z"
   },
   {
    "duration": 167,
    "start_time": "2022-12-29T12:01:30.173Z"
   },
   {
    "duration": 222,
    "start_time": "2022-12-29T12:01:30.342Z"
   },
   {
    "duration": 8,
    "start_time": "2022-12-29T12:01:30.566Z"
   },
   {
    "duration": 166,
    "start_time": "2022-12-29T12:01:30.576Z"
   },
   {
    "duration": 5,
    "start_time": "2022-12-29T12:01:30.744Z"
   },
   {
    "duration": 170,
    "start_time": "2022-12-29T12:01:30.750Z"
   },
   {
    "duration": 5,
    "start_time": "2022-12-29T12:01:30.922Z"
   },
   {
    "duration": 213,
    "start_time": "2022-12-29T12:01:30.933Z"
   },
   {
    "duration": 6,
    "start_time": "2022-12-29T12:01:31.147Z"
   },
   {
    "duration": 161,
    "start_time": "2022-12-29T12:01:31.154Z"
   },
   {
    "duration": 5,
    "start_time": "2022-12-29T12:01:31.320Z"
   },
   {
    "duration": 180,
    "start_time": "2022-12-29T12:01:31.327Z"
   },
   {
    "duration": 159,
    "start_time": "2022-12-29T12:01:31.508Z"
   },
   {
    "duration": 146,
    "start_time": "2022-12-29T12:01:31.669Z"
   },
   {
    "duration": 215,
    "start_time": "2022-12-29T12:01:31.817Z"
   },
   {
    "duration": 10,
    "start_time": "2022-12-29T12:01:32.034Z"
   },
   {
    "duration": 28,
    "start_time": "2022-12-29T12:01:32.046Z"
   },
   {
    "duration": 297,
    "start_time": "2022-12-29T12:01:32.076Z"
   },
   {
    "duration": 13,
    "start_time": "2022-12-29T12:07:41.637Z"
   },
   {
    "duration": 2648,
    "start_time": "2022-12-29T12:08:00.048Z"
   },
   {
    "duration": 6,
    "start_time": "2022-12-29T12:08:02.698Z"
   },
   {
    "duration": 25,
    "start_time": "2022-12-29T12:08:02.705Z"
   },
   {
    "duration": 18,
    "start_time": "2022-12-29T12:08:02.733Z"
   },
   {
    "duration": 7,
    "start_time": "2022-12-29T12:08:02.753Z"
   },
   {
    "duration": 22,
    "start_time": "2022-12-29T12:08:02.762Z"
   },
   {
    "duration": 25,
    "start_time": "2022-12-29T12:08:02.785Z"
   },
   {
    "duration": 385,
    "start_time": "2022-12-29T12:08:02.812Z"
   },
   {
    "duration": 22,
    "start_time": "2022-12-29T12:08:03.199Z"
   },
   {
    "duration": 10,
    "start_time": "2022-12-29T12:08:03.223Z"
   },
   {
    "duration": 12,
    "start_time": "2022-12-29T12:08:03.235Z"
   },
   {
    "duration": 20,
    "start_time": "2022-12-29T12:08:03.249Z"
   },
   {
    "duration": 14,
    "start_time": "2022-12-29T12:08:03.270Z"
   },
   {
    "duration": 15,
    "start_time": "2022-12-29T12:08:03.285Z"
   },
   {
    "duration": 13,
    "start_time": "2022-12-29T12:08:03.301Z"
   },
   {
    "duration": 30,
    "start_time": "2022-12-29T12:08:03.316Z"
   },
   {
    "duration": 24,
    "start_time": "2022-12-29T12:08:03.348Z"
   },
   {
    "duration": 4,
    "start_time": "2022-12-29T12:08:03.374Z"
   },
   {
    "duration": 8,
    "start_time": "2022-12-29T12:08:03.380Z"
   },
   {
    "duration": 18,
    "start_time": "2022-12-29T12:08:03.389Z"
   },
   {
    "duration": 9,
    "start_time": "2022-12-29T12:08:03.409Z"
   },
   {
    "duration": 2568,
    "start_time": "2022-12-29T12:08:03.419Z"
   },
   {
    "duration": 205,
    "start_time": "2022-12-29T12:08:05.989Z"
   },
   {
    "duration": 168,
    "start_time": "2022-12-29T12:08:06.196Z"
   },
   {
    "duration": 180,
    "start_time": "2022-12-29T12:08:06.365Z"
   },
   {
    "duration": 275,
    "start_time": "2022-12-29T12:08:06.546Z"
   },
   {
    "duration": 148,
    "start_time": "2022-12-29T12:08:06.823Z"
   },
   {
    "duration": 175,
    "start_time": "2022-12-29T12:08:06.975Z"
   },
   {
    "duration": 159,
    "start_time": "2022-12-29T12:08:07.152Z"
   },
   {
    "duration": 164,
    "start_time": "2022-12-29T12:08:07.313Z"
   },
   {
    "duration": 179,
    "start_time": "2022-12-29T12:08:07.479Z"
   },
   {
    "duration": 163,
    "start_time": "2022-12-29T12:08:07.660Z"
   },
   {
    "duration": 115,
    "start_time": "2022-12-29T12:08:07.825Z"
   },
   {
    "duration": 160,
    "start_time": "2022-12-29T12:08:07.942Z"
   },
   {
    "duration": 121,
    "start_time": "2022-12-29T12:08:08.104Z"
   },
   {
    "duration": 179,
    "start_time": "2022-12-29T12:08:08.226Z"
   },
   {
    "duration": 131,
    "start_time": "2022-12-29T12:08:08.407Z"
   },
   {
    "duration": 213,
    "start_time": "2022-12-29T12:08:08.540Z"
   },
   {
    "duration": 10,
    "start_time": "2022-12-29T12:08:08.754Z"
   },
   {
    "duration": 149,
    "start_time": "2022-12-29T12:08:08.765Z"
   },
   {
    "duration": 5,
    "start_time": "2022-12-29T12:08:08.921Z"
   },
   {
    "duration": 150,
    "start_time": "2022-12-29T12:08:08.928Z"
   },
   {
    "duration": 5,
    "start_time": "2022-12-29T12:08:09.081Z"
   },
   {
    "duration": 164,
    "start_time": "2022-12-29T12:08:09.087Z"
   },
   {
    "duration": 5,
    "start_time": "2022-12-29T12:08:09.253Z"
   },
   {
    "duration": 145,
    "start_time": "2022-12-29T12:08:09.259Z"
   },
   {
    "duration": 4,
    "start_time": "2022-12-29T12:08:09.406Z"
   },
   {
    "duration": 132,
    "start_time": "2022-12-29T12:08:09.411Z"
   },
   {
    "duration": 144,
    "start_time": "2022-12-29T12:08:09.544Z"
   },
   {
    "duration": 141,
    "start_time": "2022-12-29T12:08:09.690Z"
   },
   {
    "duration": 209,
    "start_time": "2022-12-29T12:08:09.833Z"
   },
   {
    "duration": 8,
    "start_time": "2022-12-29T12:08:10.044Z"
   },
   {
    "duration": 29,
    "start_time": "2022-12-29T12:08:10.053Z"
   },
   {
    "duration": 11,
    "start_time": "2022-12-29T12:08:10.084Z"
   },
   {
    "duration": 310,
    "start_time": "2022-12-29T12:08:10.097Z"
   },
   {
    "duration": 3080,
    "start_time": "2023-01-04T09:31:58.296Z"
   },
   {
    "duration": 6,
    "start_time": "2023-01-04T09:32:01.379Z"
   },
   {
    "duration": 16,
    "start_time": "2023-01-04T09:32:01.386Z"
   },
   {
    "duration": 25,
    "start_time": "2023-01-04T09:32:01.404Z"
   },
   {
    "duration": 26,
    "start_time": "2023-01-04T09:32:01.432Z"
   },
   {
    "duration": 25,
    "start_time": "2023-01-04T09:32:01.459Z"
   },
   {
    "duration": 43,
    "start_time": "2023-01-04T09:32:01.486Z"
   },
   {
    "duration": 410,
    "start_time": "2023-01-04T09:32:01.531Z"
   },
   {
    "duration": 14,
    "start_time": "2023-01-04T09:32:01.942Z"
   },
   {
    "duration": 2,
    "start_time": "2023-01-04T09:32:01.958Z"
   },
   {
    "duration": 17,
    "start_time": "2023-01-04T09:32:01.961Z"
   },
   {
    "duration": 10,
    "start_time": "2023-01-04T09:32:01.980Z"
   },
   {
    "duration": 14,
    "start_time": "2023-01-04T09:32:01.991Z"
   },
   {
    "duration": 10,
    "start_time": "2023-01-04T09:32:02.007Z"
   },
   {
    "duration": 17,
    "start_time": "2023-01-04T09:32:02.019Z"
   },
   {
    "duration": 9,
    "start_time": "2023-01-04T09:32:02.038Z"
   },
   {
    "duration": 11,
    "start_time": "2023-01-04T09:32:02.048Z"
   },
   {
    "duration": 19,
    "start_time": "2023-01-04T09:32:02.060Z"
   },
   {
    "duration": 11,
    "start_time": "2023-01-04T09:32:02.081Z"
   },
   {
    "duration": 7,
    "start_time": "2023-01-04T09:32:02.093Z"
   },
   {
    "duration": 32,
    "start_time": "2023-01-04T09:32:02.102Z"
   },
   {
    "duration": 2680,
    "start_time": "2023-01-04T09:32:02.135Z"
   },
   {
    "duration": 191,
    "start_time": "2023-01-04T09:32:04.817Z"
   },
   {
    "duration": 194,
    "start_time": "2023-01-04T09:32:05.009Z"
   },
   {
    "duration": 179,
    "start_time": "2023-01-04T09:32:05.205Z"
   },
   {
    "duration": 195,
    "start_time": "2023-01-04T09:32:05.385Z"
   },
   {
    "duration": 307,
    "start_time": "2023-01-04T09:32:05.582Z"
   },
   {
    "duration": 181,
    "start_time": "2023-01-04T09:32:05.892Z"
   },
   {
    "duration": 179,
    "start_time": "2023-01-04T09:32:06.075Z"
   },
   {
    "duration": 205,
    "start_time": "2023-01-04T09:32:06.256Z"
   },
   {
    "duration": 174,
    "start_time": "2023-01-04T09:32:06.462Z"
   },
   {
    "duration": 177,
    "start_time": "2023-01-04T09:32:06.637Z"
   },
   {
    "duration": 123,
    "start_time": "2023-01-04T09:32:06.815Z"
   },
   {
    "duration": 169,
    "start_time": "2023-01-04T09:32:06.939Z"
   },
   {
    "duration": 139,
    "start_time": "2023-01-04T09:32:07.110Z"
   },
   {
    "duration": 127,
    "start_time": "2023-01-04T09:32:07.251Z"
   },
   {
    "duration": 258,
    "start_time": "2023-01-04T09:32:07.380Z"
   },
   {
    "duration": 251,
    "start_time": "2023-01-04T09:32:07.639Z"
   },
   {
    "duration": 11,
    "start_time": "2023-01-04T09:32:07.892Z"
   },
   {
    "duration": 192,
    "start_time": "2023-01-04T09:32:07.904Z"
   },
   {
    "duration": 5,
    "start_time": "2023-01-04T09:32:08.100Z"
   },
   {
    "duration": 242,
    "start_time": "2023-01-04T09:32:08.107Z"
   },
   {
    "duration": 6,
    "start_time": "2023-01-04T09:32:08.352Z"
   },
   {
    "duration": 212,
    "start_time": "2023-01-04T09:32:08.360Z"
   },
   {
    "duration": 9,
    "start_time": "2023-01-04T09:32:08.573Z"
   },
   {
    "duration": 234,
    "start_time": "2023-01-04T09:32:08.583Z"
   },
   {
    "duration": 5,
    "start_time": "2023-01-04T09:32:08.819Z"
   },
   {
    "duration": 195,
    "start_time": "2023-01-04T09:32:08.826Z"
   },
   {
    "duration": 205,
    "start_time": "2023-01-04T09:32:09.022Z"
   },
   {
    "duration": 201,
    "start_time": "2023-01-04T09:32:09.229Z"
   },
   {
    "duration": 203,
    "start_time": "2023-01-04T09:32:09.432Z"
   },
   {
    "duration": 11,
    "start_time": "2023-01-04T09:32:09.636Z"
   },
   {
    "duration": 14,
    "start_time": "2023-01-04T09:32:09.649Z"
   },
   {
    "duration": 475,
    "start_time": "2023-01-04T09:32:09.678Z"
   },
   {
    "duration": 29,
    "start_time": "2023-01-04T09:47:05.486Z"
   },
   {
    "duration": 11,
    "start_time": "2023-01-04T09:50:20.412Z"
   },
   {
    "duration": 13,
    "start_time": "2023-01-04T09:52:18.692Z"
   },
   {
    "duration": 14,
    "start_time": "2023-01-04T09:52:47.624Z"
   },
   {
    "duration": 2195,
    "start_time": "2023-01-04T10:50:10.419Z"
   },
   {
    "duration": 6,
    "start_time": "2023-01-04T10:50:12.616Z"
   },
   {
    "duration": 28,
    "start_time": "2023-01-04T10:50:12.623Z"
   },
   {
    "duration": 29,
    "start_time": "2023-01-04T10:50:12.652Z"
   },
   {
    "duration": 19,
    "start_time": "2023-01-04T10:50:12.682Z"
   },
   {
    "duration": 19,
    "start_time": "2023-01-04T10:50:12.703Z"
   },
   {
    "duration": 32,
    "start_time": "2023-01-04T10:50:12.724Z"
   },
   {
    "duration": 400,
    "start_time": "2023-01-04T10:50:12.758Z"
   },
   {
    "duration": 27,
    "start_time": "2023-01-04T10:50:13.160Z"
   },
   {
    "duration": 2,
    "start_time": "2023-01-04T10:50:13.189Z"
   },
   {
    "duration": 22,
    "start_time": "2023-01-04T10:50:13.193Z"
   },
   {
    "duration": 34,
    "start_time": "2023-01-04T10:50:13.217Z"
   },
   {
    "duration": 9,
    "start_time": "2023-01-04T10:50:13.253Z"
   },
   {
    "duration": 31,
    "start_time": "2023-01-04T10:50:13.264Z"
   },
   {
    "duration": 14,
    "start_time": "2023-01-04T10:50:13.297Z"
   },
   {
    "duration": 29,
    "start_time": "2023-01-04T10:50:13.312Z"
   },
   {
    "duration": 18,
    "start_time": "2023-01-04T10:50:13.344Z"
   },
   {
    "duration": 35,
    "start_time": "2023-01-04T10:50:13.363Z"
   },
   {
    "duration": 13,
    "start_time": "2023-01-04T10:50:13.400Z"
   },
   {
    "duration": 23,
    "start_time": "2023-01-04T10:50:13.415Z"
   },
   {
    "duration": 2826,
    "start_time": "2023-01-04T10:50:13.440Z"
   },
   {
    "duration": 202,
    "start_time": "2023-01-04T10:50:16.277Z"
   },
   {
    "duration": 204,
    "start_time": "2023-01-04T10:50:16.481Z"
   },
   {
    "duration": 192,
    "start_time": "2023-01-04T10:50:16.688Z"
   },
   {
    "duration": 250,
    "start_time": "2023-01-04T10:50:16.882Z"
   },
   {
    "duration": 214,
    "start_time": "2023-01-04T10:50:17.134Z"
   },
   {
    "duration": 206,
    "start_time": "2023-01-04T10:50:17.349Z"
   },
   {
    "duration": 189,
    "start_time": "2023-01-04T10:50:17.557Z"
   },
   {
    "duration": 225,
    "start_time": "2023-01-04T10:50:17.748Z"
   },
   {
    "duration": 196,
    "start_time": "2023-01-04T10:50:17.975Z"
   },
   {
    "duration": 280,
    "start_time": "2023-01-04T10:50:18.173Z"
   },
   {
    "duration": 170,
    "start_time": "2023-01-04T10:50:18.455Z"
   },
   {
    "duration": 191,
    "start_time": "2023-01-04T10:50:18.627Z"
   },
   {
    "duration": 157,
    "start_time": "2023-01-04T10:50:18.820Z"
   },
   {
    "duration": 153,
    "start_time": "2023-01-04T10:50:18.979Z"
   },
   {
    "duration": 199,
    "start_time": "2023-01-04T10:50:19.133Z"
   },
   {
    "duration": 269,
    "start_time": "2023-01-04T10:50:19.334Z"
   },
   {
    "duration": 10,
    "start_time": "2023-01-04T10:50:19.605Z"
   },
   {
    "duration": 204,
    "start_time": "2023-01-04T10:50:19.616Z"
   },
   {
    "duration": 5,
    "start_time": "2023-01-04T10:50:19.822Z"
   },
   {
    "duration": 210,
    "start_time": "2023-01-04T10:50:19.829Z"
   },
   {
    "duration": 6,
    "start_time": "2023-01-04T10:50:20.040Z"
   },
   {
    "duration": 191,
    "start_time": "2023-01-04T10:50:20.048Z"
   },
   {
    "duration": 6,
    "start_time": "2023-01-04T10:50:20.240Z"
   },
   {
    "duration": 212,
    "start_time": "2023-01-04T10:50:20.248Z"
   },
   {
    "duration": 16,
    "start_time": "2023-01-04T10:50:20.462Z"
   },
   {
    "duration": 195,
    "start_time": "2023-01-04T10:50:20.480Z"
   },
   {
    "duration": 215,
    "start_time": "2023-01-04T10:50:20.677Z"
   },
   {
    "duration": 201,
    "start_time": "2023-01-04T10:50:20.894Z"
   },
   {
    "duration": 195,
    "start_time": "2023-01-04T10:50:21.096Z"
   },
   {
    "duration": 12,
    "start_time": "2023-01-04T10:50:21.293Z"
   },
   {
    "duration": 13,
    "start_time": "2023-01-04T10:50:21.307Z"
   },
   {
    "duration": 337273,
    "start_time": "2023-01-04T10:50:21.321Z"
   },
   {
    "duration": 371,
    "start_time": "2023-01-04T10:55:58.596Z"
   },
   {
    "duration": 845,
    "start_time": "2023-01-04T11:14:42.395Z"
   },
   {
    "duration": 988,
    "start_time": "2023-01-04T11:16:06.977Z"
   },
   {
    "duration": 9,
    "start_time": "2023-01-04T11:19:56.638Z"
   },
   {
    "duration": 7,
    "start_time": "2023-01-04T11:20:09.677Z"
   },
   {
    "duration": 965,
    "start_time": "2023-01-04T11:20:34.177Z"
   },
   {
    "duration": 787,
    "start_time": "2023-01-04T11:21:45.863Z"
   },
   {
    "duration": 853,
    "start_time": "2023-01-04T11:21:52.174Z"
   },
   {
    "duration": 28,
    "start_time": "2023-01-04T11:22:04.833Z"
   },
   {
    "duration": 7,
    "start_time": "2023-01-04T11:26:08.292Z"
   },
   {
    "duration": 12,
    "start_time": "2023-01-04T11:26:13.508Z"
   },
   {
    "duration": 756,
    "start_time": "2023-01-04T11:27:03.776Z"
   },
   {
    "duration": 16,
    "start_time": "2023-01-04T11:27:11.078Z"
   },
   {
    "duration": 19,
    "start_time": "2023-01-04T11:27:21.300Z"
   },
   {
    "duration": 11,
    "start_time": "2023-01-04T11:27:32.311Z"
   },
   {
    "duration": 15,
    "start_time": "2023-01-04T11:27:57.274Z"
   },
   {
    "duration": 33,
    "start_time": "2023-01-04T11:58:59.201Z"
   },
   {
    "duration": 2007,
    "start_time": "2023-01-04T12:07:00.884Z"
   },
   {
    "duration": 5,
    "start_time": "2023-01-04T12:07:02.893Z"
   },
   {
    "duration": 8,
    "start_time": "2023-01-04T12:07:02.900Z"
   },
   {
    "duration": 5,
    "start_time": "2023-01-04T12:07:02.909Z"
   },
   {
    "duration": 4,
    "start_time": "2023-01-04T12:07:02.916Z"
   },
   {
    "duration": 6,
    "start_time": "2023-01-04T12:07:02.922Z"
   },
   {
    "duration": 15,
    "start_time": "2023-01-04T12:07:02.930Z"
   },
   {
    "duration": 488,
    "start_time": "2023-01-04T12:07:02.977Z"
   },
   {
    "duration": 17,
    "start_time": "2023-01-04T12:07:03.467Z"
   },
   {
    "duration": 2,
    "start_time": "2023-01-04T12:07:03.486Z"
   },
   {
    "duration": 4,
    "start_time": "2023-01-04T12:07:03.490Z"
   },
   {
    "duration": 24,
    "start_time": "2023-01-04T12:07:03.495Z"
   },
   {
    "duration": 4,
    "start_time": "2023-01-04T12:07:03.521Z"
   },
   {
    "duration": 19,
    "start_time": "2023-01-04T12:07:03.526Z"
   },
   {
    "duration": 31,
    "start_time": "2023-01-04T12:07:03.547Z"
   },
   {
    "duration": 6,
    "start_time": "2023-01-04T12:07:03.580Z"
   },
   {
    "duration": 4,
    "start_time": "2023-01-04T12:07:03.588Z"
   },
   {
    "duration": 10,
    "start_time": "2023-01-04T12:07:03.594Z"
   },
   {
    "duration": 5,
    "start_time": "2023-01-04T12:07:03.605Z"
   },
   {
    "duration": 6,
    "start_time": "2023-01-04T12:07:03.611Z"
   },
   {
    "duration": 2700,
    "start_time": "2023-01-04T12:07:03.619Z"
   },
   {
    "duration": 197,
    "start_time": "2023-01-04T12:07:06.327Z"
   },
   {
    "duration": 194,
    "start_time": "2023-01-04T12:07:06.526Z"
   },
   {
    "duration": 176,
    "start_time": "2023-01-04T12:07:06.721Z"
   },
   {
    "duration": 206,
    "start_time": "2023-01-04T12:07:06.899Z"
   },
   {
    "duration": 184,
    "start_time": "2023-01-04T12:07:07.106Z"
   },
   {
    "duration": 188,
    "start_time": "2023-01-04T12:07:07.292Z"
   },
   {
    "duration": 169,
    "start_time": "2023-01-04T12:07:07.483Z"
   },
   {
    "duration": 201,
    "start_time": "2023-01-04T12:07:07.653Z"
   },
   {
    "duration": 205,
    "start_time": "2023-01-04T12:07:07.858Z"
   },
   {
    "duration": 205,
    "start_time": "2023-01-04T12:07:08.066Z"
   },
   {
    "duration": 374,
    "start_time": "2023-01-04T12:07:08.277Z"
   },
   {
    "duration": 178,
    "start_time": "2023-01-04T12:07:08.653Z"
   },
   {
    "duration": 145,
    "start_time": "2023-01-04T12:07:08.833Z"
   },
   {
    "duration": 128,
    "start_time": "2023-01-04T12:07:08.980Z"
   },
   {
    "duration": 176,
    "start_time": "2023-01-04T12:07:09.110Z"
   },
   {
    "duration": 244,
    "start_time": "2023-01-04T12:07:09.288Z"
   },
   {
    "duration": 9,
    "start_time": "2023-01-04T12:07:09.534Z"
   },
   {
    "duration": 191,
    "start_time": "2023-01-04T12:07:09.545Z"
   },
   {
    "duration": 5,
    "start_time": "2023-01-04T12:07:09.737Z"
   },
   {
    "duration": 213,
    "start_time": "2023-01-04T12:07:09.744Z"
   },
   {
    "duration": 5,
    "start_time": "2023-01-04T12:07:09.959Z"
   },
   {
    "duration": 178,
    "start_time": "2023-01-04T12:07:09.966Z"
   },
   {
    "duration": 5,
    "start_time": "2023-01-04T12:07:10.146Z"
   },
   {
    "duration": 204,
    "start_time": "2023-01-04T12:07:10.153Z"
   },
   {
    "duration": 7,
    "start_time": "2023-01-04T12:07:10.359Z"
   },
   {
    "duration": 266,
    "start_time": "2023-01-04T12:07:10.378Z"
   },
   {
    "duration": 190,
    "start_time": "2023-01-04T12:07:10.646Z"
   },
   {
    "duration": 203,
    "start_time": "2023-01-04T12:07:10.838Z"
   },
   {
    "duration": 197,
    "start_time": "2023-01-04T12:07:11.044Z"
   },
   {
    "duration": 13,
    "start_time": "2023-01-04T12:07:11.242Z"
   },
   {
    "duration": 30,
    "start_time": "2023-01-04T12:07:11.256Z"
   },
   {
    "duration": 30,
    "start_time": "2023-01-04T12:07:11.288Z"
   },
   {
    "duration": 989,
    "start_time": "2023-01-04T12:07:11.320Z"
   },
   {
    "duration": 15,
    "start_time": "2023-01-04T12:07:12.311Z"
   },
   {
    "duration": 356,
    "start_time": "2023-01-04T12:07:12.328Z"
   },
   {
    "duration": 205414,
    "start_time": "2023-01-04T12:07:27.117Z"
   },
   {
    "duration": 19,
    "start_time": "2023-01-04T12:10:52.549Z"
   },
   {
    "duration": 208890,
    "start_time": "2023-01-04T12:11:20.144Z"
   },
   {
    "duration": 14,
    "start_time": "2023-01-04T12:14:49.036Z"
   },
   {
    "duration": 2838,
    "start_time": "2023-01-05T08:57:12.732Z"
   },
   {
    "duration": 5,
    "start_time": "2023-01-05T08:57:15.572Z"
   },
   {
    "duration": 12,
    "start_time": "2023-01-05T08:57:15.578Z"
   },
   {
    "duration": 5,
    "start_time": "2023-01-05T08:57:15.592Z"
   },
   {
    "duration": 4,
    "start_time": "2023-01-05T08:57:15.599Z"
   },
   {
    "duration": 7,
    "start_time": "2023-01-05T08:57:15.604Z"
   },
   {
    "duration": 19,
    "start_time": "2023-01-05T08:57:15.613Z"
   },
   {
    "duration": 369,
    "start_time": "2023-01-05T08:57:15.634Z"
   },
   {
    "duration": 14,
    "start_time": "2023-01-05T08:57:16.005Z"
   },
   {
    "duration": 6,
    "start_time": "2023-01-05T08:57:16.021Z"
   },
   {
    "duration": 5,
    "start_time": "2023-01-05T08:57:16.028Z"
   },
   {
    "duration": 29,
    "start_time": "2023-01-05T08:57:16.034Z"
   },
   {
    "duration": 4,
    "start_time": "2023-01-05T08:57:16.064Z"
   },
   {
    "duration": 31,
    "start_time": "2023-01-05T08:57:16.071Z"
   },
   {
    "duration": 5,
    "start_time": "2023-01-05T08:57:16.104Z"
   },
   {
    "duration": 6,
    "start_time": "2023-01-05T08:57:16.110Z"
   },
   {
    "duration": 9,
    "start_time": "2023-01-05T08:57:16.117Z"
   },
   {
    "duration": 16,
    "start_time": "2023-01-05T08:57:16.127Z"
   },
   {
    "duration": 3,
    "start_time": "2023-01-05T08:57:16.144Z"
   },
   {
    "duration": 6,
    "start_time": "2023-01-05T08:57:16.149Z"
   },
   {
    "duration": 2433,
    "start_time": "2023-01-05T08:57:16.156Z"
   },
   {
    "duration": 161,
    "start_time": "2023-01-05T08:57:18.590Z"
   },
   {
    "duration": 167,
    "start_time": "2023-01-05T08:57:18.752Z"
   },
   {
    "duration": 166,
    "start_time": "2023-01-05T08:57:18.921Z"
   },
   {
    "duration": 177,
    "start_time": "2023-01-05T08:57:19.088Z"
   },
   {
    "duration": 261,
    "start_time": "2023-01-05T08:57:19.266Z"
   },
   {
    "duration": 154,
    "start_time": "2023-01-05T08:57:19.529Z"
   },
   {
    "duration": 143,
    "start_time": "2023-01-05T08:57:19.685Z"
   },
   {
    "duration": 178,
    "start_time": "2023-01-05T08:57:19.830Z"
   },
   {
    "duration": 181,
    "start_time": "2023-01-05T08:57:20.010Z"
   },
   {
    "duration": 165,
    "start_time": "2023-01-05T08:57:20.192Z"
   },
   {
    "duration": 127,
    "start_time": "2023-01-05T08:57:20.359Z"
   },
   {
    "duration": 172,
    "start_time": "2023-01-05T08:57:20.488Z"
   },
   {
    "duration": 129,
    "start_time": "2023-01-05T08:57:20.662Z"
   },
   {
    "duration": 126,
    "start_time": "2023-01-05T08:57:20.793Z"
   },
   {
    "duration": 245,
    "start_time": "2023-01-05T08:57:20.921Z"
   },
   {
    "duration": 217,
    "start_time": "2023-01-05T08:57:21.168Z"
   },
   {
    "duration": 19,
    "start_time": "2023-01-05T08:57:21.386Z"
   },
   {
    "duration": 170,
    "start_time": "2023-01-05T08:57:21.407Z"
   },
   {
    "duration": 4,
    "start_time": "2023-01-05T08:57:21.579Z"
   },
   {
    "duration": 194,
    "start_time": "2023-01-05T08:57:21.587Z"
   },
   {
    "duration": 15,
    "start_time": "2023-01-05T08:57:21.783Z"
   },
   {
    "duration": 152,
    "start_time": "2023-01-05T08:57:21.799Z"
   },
   {
    "duration": 5,
    "start_time": "2023-01-05T08:57:21.952Z"
   },
   {
    "duration": 171,
    "start_time": "2023-01-05T08:57:21.958Z"
   },
   {
    "duration": 5,
    "start_time": "2023-01-05T08:57:22.131Z"
   },
   {
    "duration": 169,
    "start_time": "2023-01-05T08:57:22.137Z"
   },
   {
    "duration": 178,
    "start_time": "2023-01-05T08:57:22.308Z"
   },
   {
    "duration": 172,
    "start_time": "2023-01-05T08:57:22.488Z"
   },
   {
    "duration": 181,
    "start_time": "2023-01-05T08:57:22.662Z"
   },
   {
    "duration": 12,
    "start_time": "2023-01-05T08:57:22.845Z"
   },
   {
    "duration": 26,
    "start_time": "2023-01-05T08:57:22.858Z"
   },
   {
    "duration": 84,
    "start_time": "2023-01-05T08:57:22.885Z"
   },
   {
    "duration": 335,
    "start_time": "2023-01-05T09:00:30.633Z"
   },
   {
    "duration": 2435,
    "start_time": "2023-01-05T16:33:49.577Z"
   },
   {
    "duration": 6,
    "start_time": "2023-01-05T16:33:52.014Z"
   },
   {
    "duration": 11,
    "start_time": "2023-01-05T16:33:52.021Z"
   },
   {
    "duration": 6,
    "start_time": "2023-01-05T16:33:52.033Z"
   },
   {
    "duration": 4,
    "start_time": "2023-01-05T16:33:52.041Z"
   },
   {
    "duration": 7,
    "start_time": "2023-01-05T16:33:52.047Z"
   },
   {
    "duration": 14,
    "start_time": "2023-01-05T16:33:52.055Z"
   },
   {
    "duration": 363,
    "start_time": "2023-01-05T16:33:52.071Z"
   },
   {
    "duration": 14,
    "start_time": "2023-01-05T16:33:52.435Z"
   },
   {
    "duration": 3,
    "start_time": "2023-01-05T16:33:52.451Z"
   },
   {
    "duration": 11,
    "start_time": "2023-01-05T16:33:52.455Z"
   },
   {
    "duration": 25,
    "start_time": "2023-01-05T16:33:52.468Z"
   },
   {
    "duration": 19,
    "start_time": "2023-01-05T16:33:52.494Z"
   },
   {
    "duration": 15,
    "start_time": "2023-01-05T16:33:52.516Z"
   },
   {
    "duration": 14,
    "start_time": "2023-01-05T16:33:52.533Z"
   },
   {
    "duration": 8,
    "start_time": "2023-01-05T16:33:52.548Z"
   },
   {
    "duration": 7,
    "start_time": "2023-01-05T16:33:52.557Z"
   },
   {
    "duration": 10,
    "start_time": "2023-01-05T16:33:52.566Z"
   },
   {
    "duration": 7,
    "start_time": "2023-01-05T16:33:52.577Z"
   },
   {
    "duration": 6,
    "start_time": "2023-01-05T16:33:52.585Z"
   },
   {
    "duration": 2342,
    "start_time": "2023-01-05T16:33:52.592Z"
   },
   {
    "duration": 170,
    "start_time": "2023-01-05T16:33:54.936Z"
   },
   {
    "duration": 181,
    "start_time": "2023-01-05T16:33:55.107Z"
   },
   {
    "duration": 157,
    "start_time": "2023-01-05T16:33:55.290Z"
   },
   {
    "duration": 166,
    "start_time": "2023-01-05T16:33:55.449Z"
   },
   {
    "duration": 263,
    "start_time": "2023-01-05T16:33:55.616Z"
   },
   {
    "duration": 152,
    "start_time": "2023-01-05T16:33:55.880Z"
   },
   {
    "duration": 146,
    "start_time": "2023-01-05T16:33:56.033Z"
   },
   {
    "duration": 165,
    "start_time": "2023-01-05T16:33:56.181Z"
   },
   {
    "duration": 156,
    "start_time": "2023-01-05T16:33:56.347Z"
   },
   {
    "duration": 159,
    "start_time": "2023-01-05T16:33:56.504Z"
   },
   {
    "duration": 112,
    "start_time": "2023-01-05T16:33:56.665Z"
   },
   {
    "duration": 147,
    "start_time": "2023-01-05T16:33:56.778Z"
   },
   {
    "duration": 130,
    "start_time": "2023-01-05T16:33:56.927Z"
   },
   {
    "duration": 114,
    "start_time": "2023-01-05T16:33:57.058Z"
   },
   {
    "duration": 265,
    "start_time": "2023-01-05T16:33:57.173Z"
   },
   {
    "duration": 238,
    "start_time": "2023-01-05T16:33:57.440Z"
   },
   {
    "duration": 9,
    "start_time": "2023-01-05T16:33:57.680Z"
   },
   {
    "duration": 201,
    "start_time": "2023-01-05T16:33:57.690Z"
   },
   {
    "duration": 6,
    "start_time": "2023-01-05T16:33:57.892Z"
   },
   {
    "duration": 203,
    "start_time": "2023-01-05T16:33:57.901Z"
   },
   {
    "duration": 5,
    "start_time": "2023-01-05T16:33:58.112Z"
   },
   {
    "duration": 169,
    "start_time": "2023-01-05T16:33:58.119Z"
   },
   {
    "duration": 6,
    "start_time": "2023-01-05T16:33:58.290Z"
   },
   {
    "duration": 180,
    "start_time": "2023-01-05T16:33:58.298Z"
   },
   {
    "duration": 5,
    "start_time": "2023-01-05T16:33:58.481Z"
   },
   {
    "duration": 158,
    "start_time": "2023-01-05T16:33:58.488Z"
   },
   {
    "duration": 169,
    "start_time": "2023-01-05T16:33:58.648Z"
   },
   {
    "duration": 167,
    "start_time": "2023-01-05T16:33:58.819Z"
   },
   {
    "duration": 171,
    "start_time": "2023-01-05T16:33:58.988Z"
   },
   {
    "duration": 11,
    "start_time": "2023-01-05T16:33:59.161Z"
   },
   {
    "duration": 14,
    "start_time": "2023-01-05T16:33:59.174Z"
   },
   {
    "duration": 123,
    "start_time": "2023-01-05T16:33:59.190Z"
   },
   {
    "duration": 3,
    "start_time": "2023-01-05T16:33:59.314Z"
   },
   {
    "duration": 20,
    "start_time": "2023-01-05T16:33:59.318Z"
   },
   {
    "duration": 309,
    "start_time": "2023-01-05T16:33:59.340Z"
   },
   {
    "duration": 15,
    "start_time": "2023-01-05T16:34:03.760Z"
   },
   {
    "duration": 5,
    "start_time": "2023-01-05T16:34:14.800Z"
   },
   {
    "duration": 7,
    "start_time": "2023-01-05T16:34:45.596Z"
   },
   {
    "duration": 84,
    "start_time": "2023-01-05T16:36:12.156Z"
   },
   {
    "duration": 2412,
    "start_time": "2023-01-05T16:36:18.628Z"
   },
   {
    "duration": 5,
    "start_time": "2023-01-05T16:36:21.041Z"
   },
   {
    "duration": 12,
    "start_time": "2023-01-05T16:36:21.048Z"
   },
   {
    "duration": 5,
    "start_time": "2023-01-05T16:36:21.062Z"
   },
   {
    "duration": 10,
    "start_time": "2023-01-05T16:36:21.068Z"
   },
   {
    "duration": 12,
    "start_time": "2023-01-05T16:36:21.079Z"
   },
   {
    "duration": 20,
    "start_time": "2023-01-05T16:36:21.093Z"
   },
   {
    "duration": 334,
    "start_time": "2023-01-05T16:36:21.115Z"
   },
   {
    "duration": 13,
    "start_time": "2023-01-05T16:36:21.451Z"
   },
   {
    "duration": 2,
    "start_time": "2023-01-05T16:36:21.466Z"
   },
   {
    "duration": 9,
    "start_time": "2023-01-05T16:36:21.470Z"
   },
   {
    "duration": 12,
    "start_time": "2023-01-05T16:36:21.481Z"
   },
   {
    "duration": 48,
    "start_time": "2023-01-05T16:36:21.495Z"
   },
   {
    "duration": 4,
    "start_time": "2023-01-05T16:36:21.545Z"
   },
   {
    "duration": 17,
    "start_time": "2023-01-05T16:36:21.551Z"
   },
   {
    "duration": 5,
    "start_time": "2023-01-05T16:36:21.569Z"
   },
   {
    "duration": 13,
    "start_time": "2023-01-05T16:36:21.575Z"
   },
   {
    "duration": 5,
    "start_time": "2023-01-05T16:36:21.590Z"
   },
   {
    "duration": 22,
    "start_time": "2023-01-05T16:36:21.596Z"
   },
   {
    "duration": 8,
    "start_time": "2023-01-05T16:36:21.620Z"
   },
   {
    "duration": 10,
    "start_time": "2023-01-05T16:36:21.629Z"
   },
   {
    "duration": 2323,
    "start_time": "2023-01-05T16:36:21.641Z"
   },
   {
    "duration": 161,
    "start_time": "2023-01-05T16:36:23.966Z"
   },
   {
    "duration": 178,
    "start_time": "2023-01-05T16:36:24.129Z"
   },
   {
    "duration": 153,
    "start_time": "2023-01-05T16:36:24.309Z"
   },
   {
    "duration": 178,
    "start_time": "2023-01-05T16:36:24.463Z"
   },
   {
    "duration": 263,
    "start_time": "2023-01-05T16:36:24.642Z"
   },
   {
    "duration": 154,
    "start_time": "2023-01-05T16:36:24.908Z"
   },
   {
    "duration": 144,
    "start_time": "2023-01-05T16:36:25.063Z"
   },
   {
    "duration": 167,
    "start_time": "2023-01-05T16:36:25.212Z"
   },
   {
    "duration": 150,
    "start_time": "2023-01-05T16:36:25.380Z"
   },
   {
    "duration": 150,
    "start_time": "2023-01-05T16:36:25.532Z"
   },
   {
    "duration": 112,
    "start_time": "2023-01-05T16:36:25.683Z"
   },
   {
    "duration": 148,
    "start_time": "2023-01-05T16:36:25.797Z"
   },
   {
    "duration": 123,
    "start_time": "2023-01-05T16:36:25.946Z"
   },
   {
    "duration": 116,
    "start_time": "2023-01-05T16:36:26.070Z"
   },
   {
    "duration": 227,
    "start_time": "2023-01-05T16:36:26.188Z"
   },
   {
    "duration": 203,
    "start_time": "2023-01-05T16:36:26.417Z"
   },
   {
    "duration": 8,
    "start_time": "2023-01-05T16:36:26.621Z"
   },
   {
    "duration": 172,
    "start_time": "2023-01-05T16:36:26.630Z"
   },
   {
    "duration": 12,
    "start_time": "2023-01-05T16:36:26.803Z"
   },
   {
    "duration": 183,
    "start_time": "2023-01-05T16:36:26.817Z"
   },
   {
    "duration": 12,
    "start_time": "2023-01-05T16:36:27.001Z"
   },
   {
    "duration": 149,
    "start_time": "2023-01-05T16:36:27.015Z"
   },
   {
    "duration": 4,
    "start_time": "2023-01-05T16:36:27.166Z"
   },
   {
    "duration": 176,
    "start_time": "2023-01-05T16:36:27.172Z"
   },
   {
    "duration": 4,
    "start_time": "2023-01-05T16:36:27.350Z"
   },
   {
    "duration": 169,
    "start_time": "2023-01-05T16:36:27.356Z"
   },
   {
    "duration": 170,
    "start_time": "2023-01-05T16:36:27.526Z"
   },
   {
    "duration": 162,
    "start_time": "2023-01-05T16:36:27.698Z"
   },
   {
    "duration": 170,
    "start_time": "2023-01-05T16:36:27.862Z"
   },
   {
    "duration": 10,
    "start_time": "2023-01-05T16:36:28.034Z"
   },
   {
    "duration": 17,
    "start_time": "2023-01-05T16:36:28.045Z"
   },
   {
    "duration": 92,
    "start_time": "2023-01-05T16:36:28.064Z"
   },
   {
    "duration": 98,
    "start_time": "2023-01-05T16:36:28.158Z"
   },
   {
    "duration": 0,
    "start_time": "2023-01-05T16:36:28.258Z"
   },
   {
    "duration": 0,
    "start_time": "2023-01-05T16:36:28.259Z"
   },
   {
    "duration": 2,
    "start_time": "2023-01-05T16:36:47.948Z"
   },
   {
    "duration": 13,
    "start_time": "2023-01-05T16:36:50.543Z"
   },
   {
    "duration": 307,
    "start_time": "2023-01-05T16:36:50.715Z"
   },
   {
    "duration": 50,
    "start_time": "2023-01-08T12:12:40.682Z"
   },
   {
    "duration": 6,
    "start_time": "2023-01-08T12:12:57.511Z"
   },
   {
    "duration": 7,
    "start_time": "2023-01-08T12:15:53.075Z"
   },
   {
    "duration": 7,
    "start_time": "2023-01-08T12:16:11.211Z"
   },
   {
    "duration": 7,
    "start_time": "2023-01-08T12:16:32.796Z"
   },
   {
    "duration": 3048,
    "start_time": "2023-01-08T12:16:41.366Z"
   },
   {
    "duration": 6,
    "start_time": "2023-01-08T12:16:44.416Z"
   },
   {
    "duration": 32,
    "start_time": "2023-01-08T12:16:44.423Z"
   },
   {
    "duration": 24,
    "start_time": "2023-01-08T12:16:44.457Z"
   },
   {
    "duration": 28,
    "start_time": "2023-01-08T12:16:44.483Z"
   },
   {
    "duration": 29,
    "start_time": "2023-01-08T12:16:44.513Z"
   },
   {
    "duration": 44,
    "start_time": "2023-01-08T12:16:44.544Z"
   },
   {
    "duration": 431,
    "start_time": "2023-01-08T12:16:44.590Z"
   },
   {
    "duration": 21,
    "start_time": "2023-01-08T12:16:45.024Z"
   },
   {
    "duration": 31,
    "start_time": "2023-01-08T12:16:45.048Z"
   },
   {
    "duration": 22,
    "start_time": "2023-01-08T12:16:45.081Z"
   },
   {
    "duration": 36,
    "start_time": "2023-01-08T12:16:45.105Z"
   },
   {
    "duration": 26,
    "start_time": "2023-01-08T12:16:45.142Z"
   },
   {
    "duration": 34,
    "start_time": "2023-01-08T12:16:45.169Z"
   },
   {
    "duration": 4,
    "start_time": "2023-01-08T12:16:45.205Z"
   },
   {
    "duration": 52,
    "start_time": "2023-01-08T12:16:45.210Z"
   },
   {
    "duration": 40,
    "start_time": "2023-01-08T12:16:45.263Z"
   },
   {
    "duration": 73,
    "start_time": "2023-01-08T12:16:45.305Z"
   },
   {
    "duration": 64,
    "start_time": "2023-01-08T12:16:45.380Z"
   },
   {
    "duration": 48,
    "start_time": "2023-01-08T12:16:45.446Z"
   },
   {
    "duration": 45,
    "start_time": "2023-01-08T12:16:45.495Z"
   },
   {
    "duration": 22,
    "start_time": "2023-01-08T12:16:45.541Z"
   },
   {
    "duration": 2955,
    "start_time": "2023-01-08T12:16:45.564Z"
   },
   {
    "duration": 224,
    "start_time": "2023-01-08T12:16:48.522Z"
   },
   {
    "duration": 275,
    "start_time": "2023-01-08T12:16:48.748Z"
   },
   {
    "duration": 277,
    "start_time": "2023-01-08T12:16:49.026Z"
   },
   {
    "duration": 234,
    "start_time": "2023-01-08T12:16:49.306Z"
   },
   {
    "duration": 339,
    "start_time": "2023-01-08T12:16:49.544Z"
   },
   {
    "duration": 189,
    "start_time": "2023-01-08T12:16:49.885Z"
   },
   {
    "duration": 181,
    "start_time": "2023-01-08T12:16:50.076Z"
   },
   {
    "duration": 204,
    "start_time": "2023-01-08T12:16:50.259Z"
   },
   {
    "duration": 195,
    "start_time": "2023-01-08T12:16:50.465Z"
   },
   {
    "duration": 189,
    "start_time": "2023-01-08T12:16:50.662Z"
   },
   {
    "duration": 131,
    "start_time": "2023-01-08T12:16:50.853Z"
   },
   {
    "duration": 172,
    "start_time": "2023-01-08T12:16:50.986Z"
   },
   {
    "duration": 139,
    "start_time": "2023-01-08T12:16:51.160Z"
   },
   {
    "duration": 136,
    "start_time": "2023-01-08T12:16:51.301Z"
   },
   {
    "duration": 260,
    "start_time": "2023-01-08T12:16:51.438Z"
   },
   {
    "duration": 266,
    "start_time": "2023-01-08T12:16:51.700Z"
   },
   {
    "duration": 9,
    "start_time": "2023-01-08T12:16:51.967Z"
   },
   {
    "duration": 188,
    "start_time": "2023-01-08T12:16:51.978Z"
   },
   {
    "duration": 6,
    "start_time": "2023-01-08T12:16:52.168Z"
   },
   {
    "duration": 214,
    "start_time": "2023-01-08T12:16:52.176Z"
   },
   {
    "duration": 6,
    "start_time": "2023-01-08T12:16:52.393Z"
   },
   {
    "duration": 182,
    "start_time": "2023-01-08T12:16:52.401Z"
   },
   {
    "duration": 6,
    "start_time": "2023-01-08T12:16:52.584Z"
   },
   {
    "duration": 206,
    "start_time": "2023-01-08T12:16:52.593Z"
   },
   {
    "duration": 7,
    "start_time": "2023-01-08T12:16:52.801Z"
   },
   {
    "duration": 189,
    "start_time": "2023-01-08T12:16:52.810Z"
   },
   {
    "duration": 199,
    "start_time": "2023-01-08T12:16:53.001Z"
   },
   {
    "duration": 188,
    "start_time": "2023-01-08T12:16:53.202Z"
   },
   {
    "duration": 200,
    "start_time": "2023-01-08T12:16:53.392Z"
   },
   {
    "duration": 12,
    "start_time": "2023-01-08T12:16:53.594Z"
   },
   {
    "duration": 31,
    "start_time": "2023-01-08T12:16:53.607Z"
   },
   {
    "duration": 80,
    "start_time": "2023-01-08T12:16:53.640Z"
   },
   {
    "duration": 17,
    "start_time": "2023-01-08T12:16:53.721Z"
   },
   {
    "duration": 17,
    "start_time": "2023-01-08T12:16:53.740Z"
   },
   {
    "duration": 378,
    "start_time": "2023-01-08T12:16:53.759Z"
   },
   {
    "duration": 8,
    "start_time": "2023-01-08T12:18:15.096Z"
   },
   {
    "duration": 8,
    "start_time": "2023-01-08T12:18:35.670Z"
   },
   {
    "duration": 7,
    "start_time": "2023-01-08T12:18:41.646Z"
   },
   {
    "duration": 2236,
    "start_time": "2023-01-08T12:18:47.717Z"
   },
   {
    "duration": 5,
    "start_time": "2023-01-08T12:18:49.956Z"
   },
   {
    "duration": 12,
    "start_time": "2023-01-08T12:18:49.964Z"
   },
   {
    "duration": 7,
    "start_time": "2023-01-08T12:18:49.979Z"
   },
   {
    "duration": 8,
    "start_time": "2023-01-08T12:18:49.988Z"
   },
   {
    "duration": 8,
    "start_time": "2023-01-08T12:18:49.998Z"
   },
   {
    "duration": 46,
    "start_time": "2023-01-08T12:18:50.007Z"
   },
   {
    "duration": 428,
    "start_time": "2023-01-08T12:18:50.055Z"
   },
   {
    "duration": 17,
    "start_time": "2023-01-08T12:18:50.493Z"
   },
   {
    "duration": 3,
    "start_time": "2023-01-08T12:18:50.512Z"
   },
   {
    "duration": 8,
    "start_time": "2023-01-08T12:18:50.517Z"
   },
   {
    "duration": 7,
    "start_time": "2023-01-08T12:18:50.537Z"
   },
   {
    "duration": 23,
    "start_time": "2023-01-08T12:19:41.492Z"
   },
   {
    "duration": 13,
    "start_time": "2023-01-08T12:19:46.931Z"
   },
   {
    "duration": 8,
    "start_time": "2023-01-08T12:19:50.935Z"
   },
   {
    "duration": 2410,
    "start_time": "2023-01-08T12:19:54.456Z"
   },
   {
    "duration": 6,
    "start_time": "2023-01-08T12:19:56.869Z"
   },
   {
    "duration": 19,
    "start_time": "2023-01-08T12:19:56.877Z"
   },
   {
    "duration": 7,
    "start_time": "2023-01-08T12:19:56.899Z"
   },
   {
    "duration": 38,
    "start_time": "2023-01-08T12:19:56.908Z"
   },
   {
    "duration": 27,
    "start_time": "2023-01-08T12:19:56.948Z"
   },
   {
    "duration": 24,
    "start_time": "2023-01-08T12:19:56.978Z"
   },
   {
    "duration": 473,
    "start_time": "2023-01-08T12:19:57.005Z"
   },
   {
    "duration": 16,
    "start_time": "2023-01-08T12:19:57.480Z"
   },
   {
    "duration": 3,
    "start_time": "2023-01-08T12:19:57.498Z"
   },
   {
    "duration": 10,
    "start_time": "2023-01-08T12:19:57.503Z"
   },
   {
    "duration": 28,
    "start_time": "2023-01-08T12:19:57.516Z"
   },
   {
    "duration": 27,
    "start_time": "2023-01-08T12:19:57.547Z"
   },
   {
    "duration": 48,
    "start_time": "2023-01-08T12:24:14.221Z"
   },
   {
    "duration": 2,
    "start_time": "2023-01-08T12:26:10.989Z"
   },
   {
    "duration": 1407,
    "start_time": "2023-01-08T12:27:37.612Z"
   },
   {
    "duration": 1132,
    "start_time": "2023-01-08T12:27:49.258Z"
   },
   {
    "duration": 1469,
    "start_time": "2023-01-08T12:28:02.786Z"
   },
   {
    "duration": 8,
    "start_time": "2023-01-08T12:28:23.017Z"
   },
   {
    "duration": 6,
    "start_time": "2023-01-08T12:28:29.256Z"
   },
   {
    "duration": 1146,
    "start_time": "2023-01-08T12:28:36.272Z"
   },
   {
    "duration": 13,
    "start_time": "2023-01-08T12:29:43.006Z"
   },
   {
    "duration": 14,
    "start_time": "2023-01-08T12:30:16.154Z"
   },
   {
    "duration": 13,
    "start_time": "2023-01-08T12:30:31.354Z"
   },
   {
    "duration": 3,
    "start_time": "2023-01-08T12:30:35.937Z"
   },
   {
    "duration": 45,
    "start_time": "2023-01-08T12:30:40.630Z"
   },
   {
    "duration": 0,
    "start_time": "2023-01-08T12:38:03.156Z"
   },
   {
    "duration": 0,
    "start_time": "2023-01-08T12:38:03.157Z"
   },
   {
    "duration": 0,
    "start_time": "2023-01-08T12:38:03.158Z"
   },
   {
    "duration": 0,
    "start_time": "2023-01-08T12:38:03.160Z"
   },
   {
    "duration": 0,
    "start_time": "2023-01-08T12:38:03.161Z"
   },
   {
    "duration": 0,
    "start_time": "2023-01-08T12:38:03.163Z"
   },
   {
    "duration": 0,
    "start_time": "2023-01-08T12:38:03.164Z"
   },
   {
    "duration": 0,
    "start_time": "2023-01-08T12:38:03.165Z"
   },
   {
    "duration": 0,
    "start_time": "2023-01-08T12:38:03.167Z"
   },
   {
    "duration": 0,
    "start_time": "2023-01-08T12:38:03.169Z"
   },
   {
    "duration": 0,
    "start_time": "2023-01-08T12:38:03.170Z"
   },
   {
    "duration": 0,
    "start_time": "2023-01-08T12:38:03.171Z"
   },
   {
    "duration": 0,
    "start_time": "2023-01-08T12:38:03.174Z"
   },
   {
    "duration": 0,
    "start_time": "2023-01-08T12:38:03.175Z"
   },
   {
    "duration": 0,
    "start_time": "2023-01-08T12:38:03.176Z"
   },
   {
    "duration": 0,
    "start_time": "2023-01-08T12:38:03.177Z"
   },
   {
    "duration": 0,
    "start_time": "2023-01-08T12:38:03.179Z"
   },
   {
    "duration": 0,
    "start_time": "2023-01-08T12:38:03.180Z"
   },
   {
    "duration": 0,
    "start_time": "2023-01-08T12:38:03.181Z"
   },
   {
    "duration": 0,
    "start_time": "2023-01-08T12:38:03.182Z"
   },
   {
    "duration": 0,
    "start_time": "2023-01-08T12:38:03.183Z"
   },
   {
    "duration": 0,
    "start_time": "2023-01-08T12:38:03.238Z"
   },
   {
    "duration": 0,
    "start_time": "2023-01-08T12:38:03.239Z"
   },
   {
    "duration": 0,
    "start_time": "2023-01-08T12:38:03.240Z"
   },
   {
    "duration": 0,
    "start_time": "2023-01-08T12:38:03.241Z"
   },
   {
    "duration": 0,
    "start_time": "2023-01-08T12:38:03.243Z"
   },
   {
    "duration": 0,
    "start_time": "2023-01-08T12:38:03.244Z"
   },
   {
    "duration": 0,
    "start_time": "2023-01-08T12:38:03.245Z"
   },
   {
    "duration": 0,
    "start_time": "2023-01-08T12:38:03.246Z"
   },
   {
    "duration": 0,
    "start_time": "2023-01-08T12:38:03.247Z"
   },
   {
    "duration": 0,
    "start_time": "2023-01-08T12:38:03.248Z"
   },
   {
    "duration": 0,
    "start_time": "2023-01-08T12:38:03.250Z"
   },
   {
    "duration": 0,
    "start_time": "2023-01-08T12:38:03.250Z"
   },
   {
    "duration": 0,
    "start_time": "2023-01-08T12:38:03.251Z"
   },
   {
    "duration": 0,
    "start_time": "2023-01-08T12:38:03.252Z"
   },
   {
    "duration": 0,
    "start_time": "2023-01-08T12:38:03.253Z"
   },
   {
    "duration": 0,
    "start_time": "2023-01-08T12:38:03.254Z"
   },
   {
    "duration": 0,
    "start_time": "2023-01-08T12:38:03.255Z"
   },
   {
    "duration": 0,
    "start_time": "2023-01-08T12:38:03.256Z"
   },
   {
    "duration": 0,
    "start_time": "2023-01-08T12:38:03.258Z"
   },
   {
    "duration": 0,
    "start_time": "2023-01-08T12:38:03.259Z"
   },
   {
    "duration": 0,
    "start_time": "2023-01-08T12:38:03.260Z"
   },
   {
    "duration": 0,
    "start_time": "2023-01-08T12:38:03.261Z"
   },
   {
    "duration": 0,
    "start_time": "2023-01-08T12:38:03.263Z"
   },
   {
    "duration": 0,
    "start_time": "2023-01-08T12:38:03.264Z"
   },
   {
    "duration": 0,
    "start_time": "2023-01-08T12:38:03.265Z"
   },
   {
    "duration": 0,
    "start_time": "2023-01-08T12:38:03.266Z"
   },
   {
    "duration": 0,
    "start_time": "2023-01-08T12:38:03.268Z"
   },
   {
    "duration": 0,
    "start_time": "2023-01-08T12:38:03.268Z"
   },
   {
    "duration": 0,
    "start_time": "2023-01-08T12:38:03.270Z"
   },
   {
    "duration": 0,
    "start_time": "2023-01-08T12:38:03.271Z"
   },
   {
    "duration": 0,
    "start_time": "2023-01-08T12:38:03.272Z"
   },
   {
    "duration": 0,
    "start_time": "2023-01-08T12:38:03.273Z"
   },
   {
    "duration": 0,
    "start_time": "2023-01-08T12:38:03.337Z"
   },
   {
    "duration": 0,
    "start_time": "2023-01-08T12:38:03.338Z"
   },
   {
    "duration": 0,
    "start_time": "2023-01-08T12:38:03.340Z"
   },
   {
    "duration": 0,
    "start_time": "2023-01-08T12:38:03.341Z"
   },
   {
    "duration": 0,
    "start_time": "2023-01-08T12:38:03.342Z"
   },
   {
    "duration": 2140,
    "start_time": "2023-01-08T13:39:06.140Z"
   },
   {
    "duration": 6,
    "start_time": "2023-01-08T13:39:08.283Z"
   },
   {
    "duration": 33,
    "start_time": "2023-01-08T13:39:08.290Z"
   },
   {
    "duration": 16,
    "start_time": "2023-01-08T13:39:08.325Z"
   },
   {
    "duration": 18,
    "start_time": "2023-01-08T13:39:08.342Z"
   },
   {
    "duration": 27,
    "start_time": "2023-01-08T13:39:08.362Z"
   },
   {
    "duration": 22,
    "start_time": "2023-01-08T13:39:08.391Z"
   },
   {
    "duration": 406,
    "start_time": "2023-01-08T13:39:08.415Z"
   },
   {
    "duration": 26,
    "start_time": "2023-01-08T13:39:08.823Z"
   },
   {
    "duration": 4,
    "start_time": "2023-01-08T13:39:08.853Z"
   },
   {
    "duration": 20,
    "start_time": "2023-01-08T13:39:08.859Z"
   },
   {
    "duration": 50,
    "start_time": "2023-01-08T13:39:08.883Z"
   },
   {
    "duration": 45,
    "start_time": "2023-01-08T13:39:08.936Z"
   },
   {
    "duration": 40,
    "start_time": "2023-01-08T13:39:08.983Z"
   },
   {
    "duration": 5,
    "start_time": "2023-01-08T13:39:09.025Z"
   },
   {
    "duration": 33,
    "start_time": "2023-01-08T13:39:09.032Z"
   },
   {
    "duration": 15,
    "start_time": "2023-01-08T13:39:09.068Z"
   },
   {
    "duration": 13,
    "start_time": "2023-01-08T13:39:09.085Z"
   },
   {
    "duration": 20,
    "start_time": "2023-01-08T13:39:09.100Z"
   },
   {
    "duration": 19,
    "start_time": "2023-01-08T13:39:09.123Z"
   },
   {
    "duration": 10,
    "start_time": "2023-01-08T13:39:09.144Z"
   },
   {
    "duration": 9,
    "start_time": "2023-01-08T13:39:09.155Z"
   },
   {
    "duration": 2630,
    "start_time": "2023-01-08T13:39:09.166Z"
   },
   {
    "duration": 214,
    "start_time": "2023-01-08T13:39:11.798Z"
   },
   {
    "duration": 226,
    "start_time": "2023-01-08T13:39:12.014Z"
   },
   {
    "duration": 177,
    "start_time": "2023-01-08T13:39:12.242Z"
   },
   {
    "duration": 220,
    "start_time": "2023-01-08T13:39:12.420Z"
   },
   {
    "duration": 187,
    "start_time": "2023-01-08T13:39:12.645Z"
   },
   {
    "duration": 182,
    "start_time": "2023-01-08T13:39:12.837Z"
   },
   {
    "duration": 181,
    "start_time": "2023-01-08T13:39:13.022Z"
   },
   {
    "duration": 207,
    "start_time": "2023-01-08T13:39:13.205Z"
   },
   {
    "duration": 194,
    "start_time": "2023-01-08T13:39:13.414Z"
   },
   {
    "duration": 188,
    "start_time": "2023-01-08T13:39:13.610Z"
   },
   {
    "duration": 148,
    "start_time": "2023-01-08T13:39:13.799Z"
   },
   {
    "duration": 202,
    "start_time": "2023-01-08T13:39:13.949Z"
   },
   {
    "duration": 150,
    "start_time": "2023-01-08T13:39:14.153Z"
   },
   {
    "duration": 147,
    "start_time": "2023-01-08T13:39:14.304Z"
   },
   {
    "duration": 190,
    "start_time": "2023-01-08T13:39:14.453Z"
   },
   {
    "duration": 251,
    "start_time": "2023-01-08T13:39:14.644Z"
   },
   {
    "duration": 10,
    "start_time": "2023-01-08T13:39:14.896Z"
   },
   {
    "duration": 206,
    "start_time": "2023-01-08T13:39:14.908Z"
   },
   {
    "duration": 8,
    "start_time": "2023-01-08T13:39:15.116Z"
   },
   {
    "duration": 204,
    "start_time": "2023-01-08T13:39:15.137Z"
   },
   {
    "duration": 7,
    "start_time": "2023-01-08T13:39:15.343Z"
   },
   {
    "duration": 182,
    "start_time": "2023-01-08T13:39:15.351Z"
   },
   {
    "duration": 6,
    "start_time": "2023-01-08T13:39:15.537Z"
   },
   {
    "duration": 233,
    "start_time": "2023-01-08T13:39:15.545Z"
   },
   {
    "duration": 6,
    "start_time": "2023-01-08T13:39:15.780Z"
   },
   {
    "duration": 211,
    "start_time": "2023-01-08T13:39:15.788Z"
   },
   {
    "duration": 214,
    "start_time": "2023-01-08T13:39:16.001Z"
   },
   {
    "duration": 201,
    "start_time": "2023-01-08T13:39:16.216Z"
   },
   {
    "duration": 200,
    "start_time": "2023-01-08T13:39:16.418Z"
   },
   {
    "duration": 25,
    "start_time": "2023-01-08T13:39:16.620Z"
   },
   {
    "duration": 17,
    "start_time": "2023-01-08T13:39:16.647Z"
   },
   {
    "duration": 3,
    "start_time": "2023-01-08T13:39:16.665Z"
   },
   {
    "duration": 32,
    "start_time": "2023-01-08T13:43:04.278Z"
   },
   {
    "duration": 7,
    "start_time": "2023-01-08T13:43:04.311Z"
   },
   {
    "duration": 218172,
    "start_time": "2023-01-08T13:43:04.320Z"
   },
   {
    "duration": 2,
    "start_time": "2023-01-08T13:46:42.494Z"
   },
   {
    "duration": 355,
    "start_time": "2023-01-08T13:46:42.498Z"
   },
   {
    "duration": 32,
    "start_time": "2023-01-08T13:46:42.855Z"
   },
   {
    "duration": 2103,
    "start_time": "2023-01-08T13:46:42.889Z"
   },
   {
    "duration": 4,
    "start_time": "2023-01-08T13:46:44.994Z"
   },
   {
    "duration": 35,
    "start_time": "2023-01-08T13:46:45.000Z"
   },
   {
    "duration": 24,
    "start_time": "2023-01-08T13:46:45.037Z"
   },
   {
    "duration": 7,
    "start_time": "2023-01-08T13:46:45.069Z"
   },
   {
    "duration": 8,
    "start_time": "2023-01-08T13:46:45.078Z"
   },
   {
    "duration": 31,
    "start_time": "2023-01-08T13:46:45.088Z"
   },
   {
    "duration": 405,
    "start_time": "2023-01-08T13:46:45.121Z"
   },
   {
    "duration": 19,
    "start_time": "2023-01-08T13:46:45.528Z"
   },
   {
    "duration": 9,
    "start_time": "2023-01-08T13:46:45.549Z"
   },
   {
    "duration": 20,
    "start_time": "2023-01-08T13:46:45.559Z"
   },
   {
    "duration": 43,
    "start_time": "2023-01-08T13:46:45.581Z"
   },
   {
    "duration": 39,
    "start_time": "2023-01-08T13:46:45.626Z"
   },
   {
    "duration": 25,
    "start_time": "2023-01-08T13:46:45.667Z"
   },
   {
    "duration": 4,
    "start_time": "2023-01-08T13:46:45.694Z"
   },
   {
    "duration": 33,
    "start_time": "2023-01-08T13:46:45.700Z"
   },
   {
    "duration": 20,
    "start_time": "2023-01-08T13:46:45.735Z"
   },
   {
    "duration": 29,
    "start_time": "2023-01-08T13:46:45.756Z"
   },
   {
    "duration": 18,
    "start_time": "2023-01-08T13:46:45.787Z"
   },
   {
    "duration": 74,
    "start_time": "2023-01-08T13:46:45.807Z"
   },
   {
    "duration": 14,
    "start_time": "2023-01-08T13:46:45.883Z"
   },
   {
    "duration": 45,
    "start_time": "2023-01-08T13:46:45.899Z"
   },
   {
    "duration": 2567,
    "start_time": "2023-01-08T13:46:45.945Z"
   },
   {
    "duration": 191,
    "start_time": "2023-01-08T13:46:48.514Z"
   },
   {
    "duration": 259,
    "start_time": "2023-01-08T13:46:48.707Z"
   },
   {
    "duration": 241,
    "start_time": "2023-01-08T13:46:48.968Z"
   },
   {
    "duration": 209,
    "start_time": "2023-01-08T13:46:49.211Z"
   },
   {
    "duration": 198,
    "start_time": "2023-01-08T13:46:49.422Z"
   },
   {
    "duration": 221,
    "start_time": "2023-01-08T13:46:49.622Z"
   },
   {
    "duration": 210,
    "start_time": "2023-01-08T13:46:49.845Z"
   },
   {
    "duration": 212,
    "start_time": "2023-01-08T13:46:50.057Z"
   },
   {
    "duration": 186,
    "start_time": "2023-01-08T13:46:50.271Z"
   },
   {
    "duration": 192,
    "start_time": "2023-01-08T13:46:50.459Z"
   },
   {
    "duration": 151,
    "start_time": "2023-01-08T13:46:50.653Z"
   },
   {
    "duration": 181,
    "start_time": "2023-01-08T13:46:50.806Z"
   },
   {
    "duration": 152,
    "start_time": "2023-01-08T13:46:50.989Z"
   },
   {
    "duration": 165,
    "start_time": "2023-01-08T13:46:51.143Z"
   },
   {
    "duration": 186,
    "start_time": "2023-01-08T13:46:51.309Z"
   },
   {
    "duration": 260,
    "start_time": "2023-01-08T13:46:51.497Z"
   },
   {
    "duration": 10,
    "start_time": "2023-01-08T13:46:51.759Z"
   },
   {
    "duration": 200,
    "start_time": "2023-01-08T13:46:51.770Z"
   },
   {
    "duration": 6,
    "start_time": "2023-01-08T13:46:51.973Z"
   },
   {
    "duration": 223,
    "start_time": "2023-01-08T13:46:51.981Z"
   },
   {
    "duration": 6,
    "start_time": "2023-01-08T13:46:52.206Z"
   },
   {
    "duration": 194,
    "start_time": "2023-01-08T13:46:52.214Z"
   },
   {
    "duration": 5,
    "start_time": "2023-01-08T13:46:52.410Z"
   },
   {
    "duration": 223,
    "start_time": "2023-01-08T13:46:52.417Z"
   },
   {
    "duration": 5,
    "start_time": "2023-01-08T13:46:52.642Z"
   },
   {
    "duration": 189,
    "start_time": "2023-01-08T13:46:52.648Z"
   },
   {
    "duration": 201,
    "start_time": "2023-01-08T13:46:52.838Z"
   },
   {
    "duration": 206,
    "start_time": "2023-01-08T13:46:53.041Z"
   },
   {
    "duration": 203,
    "start_time": "2023-01-08T13:46:53.248Z"
   },
   {
    "duration": 12,
    "start_time": "2023-01-08T13:46:53.453Z"
   },
   {
    "duration": 2310,
    "start_time": "2023-01-09T08:02:57.150Z"
   },
   {
    "duration": 59,
    "start_time": "2023-01-09T08:02:59.590Z"
   },
   {
    "duration": 35,
    "start_time": "2023-01-09T08:03:02.100Z"
   },
   {
    "duration": 15,
    "start_time": "2023-01-09T08:03:02.247Z"
   },
   {
    "duration": 8,
    "start_time": "2023-01-09T08:03:02.364Z"
   },
   {
    "duration": 12,
    "start_time": "2023-01-09T08:03:07.247Z"
   },
   {
    "duration": 15,
    "start_time": "2023-01-09T08:03:07.349Z"
   },
   {
    "duration": 458,
    "start_time": "2023-01-09T08:03:07.903Z"
   },
   {
    "duration": 77,
    "start_time": "2023-01-09T08:03:08.467Z"
   },
   {
    "duration": 18,
    "start_time": "2023-01-09T08:03:09.054Z"
   },
   {
    "duration": 9,
    "start_time": "2023-01-09T08:03:09.152Z"
   },
   {
    "duration": 6,
    "start_time": "2023-01-09T08:03:09.260Z"
   },
   {
    "duration": 17,
    "start_time": "2023-01-09T08:03:09.355Z"
   },
   {
    "duration": 44,
    "start_time": "2023-01-09T08:03:09.495Z"
   },
   {
    "duration": 4,
    "start_time": "2023-01-09T08:03:09.649Z"
   },
   {
    "duration": 57,
    "start_time": "2023-01-09T08:03:09.787Z"
   },
   {
    "duration": 9,
    "start_time": "2023-01-09T08:03:09.949Z"
   },
   {
    "duration": 29,
    "start_time": "2023-01-09T08:03:10.073Z"
   },
   {
    "duration": 63,
    "start_time": "2023-01-09T08:03:10.171Z"
   },
   {
    "duration": 24,
    "start_time": "2023-01-09T08:03:10.270Z"
   },
   {
    "duration": 7,
    "start_time": "2023-01-09T08:03:13.235Z"
   },
   {
    "duration": 7,
    "start_time": "2023-01-09T08:03:13.464Z"
   },
   {
    "duration": 3264,
    "start_time": "2023-01-09T08:03:16.767Z"
   },
   {
    "duration": 424,
    "start_time": "2023-01-09T08:03:20.536Z"
   },
   {
    "duration": 221,
    "start_time": "2023-01-09T08:03:24.383Z"
   },
   {
    "duration": 207,
    "start_time": "2023-01-09T08:03:25.262Z"
   },
   {
    "duration": 219,
    "start_time": "2023-01-09T08:03:26.363Z"
   },
   {
    "duration": 193,
    "start_time": "2023-01-09T08:03:27.190Z"
   },
   {
    "duration": 197,
    "start_time": "2023-01-09T08:03:28.127Z"
   },
   {
    "duration": 195,
    "start_time": "2023-01-09T08:03:28.933Z"
   },
   {
    "duration": 211,
    "start_time": "2023-01-09T08:03:29.732Z"
   },
   {
    "duration": 197,
    "start_time": "2023-01-09T08:03:30.617Z"
   },
   {
    "duration": 206,
    "start_time": "2023-01-09T08:03:31.423Z"
   },
   {
    "duration": 257,
    "start_time": "2023-01-09T08:03:32.143Z"
   },
   {
    "duration": 188,
    "start_time": "2023-01-09T08:03:32.954Z"
   },
   {
    "duration": 193,
    "start_time": "2023-01-09T08:03:33.659Z"
   },
   {
    "duration": 164,
    "start_time": "2023-01-09T08:03:34.655Z"
   },
   {
    "duration": 208,
    "start_time": "2023-01-09T08:03:35.208Z"
   },
   {
    "duration": 437,
    "start_time": "2023-01-09T08:03:36.056Z"
   },
   {
    "duration": 88,
    "start_time": "2023-01-09T08:03:36.839Z"
   },
   {
    "duration": 223,
    "start_time": "2023-01-09T08:03:37.737Z"
   },
   {
    "duration": 108,
    "start_time": "2023-01-09T08:03:38.136Z"
   },
   {
    "duration": 221,
    "start_time": "2023-01-09T08:03:38.981Z"
   },
   {
    "duration": 108,
    "start_time": "2023-01-09T08:03:39.423Z"
   },
   {
    "duration": 186,
    "start_time": "2023-01-09T08:03:40.357Z"
   },
   {
    "duration": 71,
    "start_time": "2023-01-09T08:03:40.677Z"
   },
   {
    "duration": 213,
    "start_time": "2023-01-09T08:03:41.434Z"
   },
   {
    "duration": 28,
    "start_time": "2023-01-09T08:03:42.019Z"
   },
   {
    "duration": 235,
    "start_time": "2023-01-09T08:03:42.801Z"
   },
   {
    "duration": 204,
    "start_time": "2023-01-09T08:03:43.534Z"
   },
   {
    "duration": 250,
    "start_time": "2023-01-09T08:03:44.301Z"
   },
   {
    "duration": 219,
    "start_time": "2023-01-09T08:03:45.119Z"
   },
   {
    "duration": 113,
    "start_time": "2023-01-09T08:03:45.842Z"
   },
   {
    "duration": 0,
    "start_time": "2023-01-09T08:07:47.542Z"
   },
   {
    "duration": 0,
    "start_time": "2023-01-09T08:07:47.545Z"
   },
   {
    "duration": 0,
    "start_time": "2023-01-09T08:07:47.547Z"
   },
   {
    "duration": 0,
    "start_time": "2023-01-09T08:07:47.581Z"
   },
   {
    "duration": 0,
    "start_time": "2023-01-09T08:07:47.582Z"
   },
   {
    "duration": 0,
    "start_time": "2023-01-09T08:07:47.584Z"
   },
   {
    "duration": 0,
    "start_time": "2023-01-09T08:07:47.585Z"
   },
   {
    "duration": 0,
    "start_time": "2023-01-09T08:07:47.589Z"
   },
   {
    "duration": 0,
    "start_time": "2023-01-09T08:07:47.590Z"
   },
   {
    "duration": 0,
    "start_time": "2023-01-09T08:07:47.593Z"
   },
   {
    "duration": 0,
    "start_time": "2023-01-09T08:07:47.595Z"
   },
   {
    "duration": 0,
    "start_time": "2023-01-09T08:07:47.599Z"
   },
   {
    "duration": 0,
    "start_time": "2023-01-09T08:07:47.600Z"
   },
   {
    "duration": 0,
    "start_time": "2023-01-09T08:07:47.602Z"
   },
   {
    "duration": 0,
    "start_time": "2023-01-09T08:07:47.604Z"
   },
   {
    "duration": 0,
    "start_time": "2023-01-09T08:07:47.606Z"
   },
   {
    "duration": 0,
    "start_time": "2023-01-09T08:07:47.610Z"
   },
   {
    "duration": 0,
    "start_time": "2023-01-09T08:07:47.612Z"
   },
   {
    "duration": 0,
    "start_time": "2023-01-09T08:07:47.613Z"
   },
   {
    "duration": 0,
    "start_time": "2023-01-09T08:07:47.615Z"
   },
   {
    "duration": 0,
    "start_time": "2023-01-09T08:07:47.617Z"
   },
   {
    "duration": 0,
    "start_time": "2023-01-09T08:07:47.619Z"
   },
   {
    "duration": 0,
    "start_time": "2023-01-09T08:07:47.620Z"
   },
   {
    "duration": 0,
    "start_time": "2023-01-09T08:07:47.622Z"
   },
   {
    "duration": 0,
    "start_time": "2023-01-09T08:07:47.624Z"
   },
   {
    "duration": 0,
    "start_time": "2023-01-09T08:07:47.626Z"
   },
   {
    "duration": 0,
    "start_time": "2023-01-09T08:07:47.628Z"
   },
   {
    "duration": 0,
    "start_time": "2023-01-09T08:07:47.678Z"
   },
   {
    "duration": 0,
    "start_time": "2023-01-09T08:07:47.679Z"
   },
   {
    "duration": 0,
    "start_time": "2023-01-09T08:07:47.680Z"
   },
   {
    "duration": 0,
    "start_time": "2023-01-09T08:07:47.681Z"
   },
   {
    "duration": 0,
    "start_time": "2023-01-09T08:07:47.681Z"
   },
   {
    "duration": 0,
    "start_time": "2023-01-09T08:07:47.682Z"
   },
   {
    "duration": 0,
    "start_time": "2023-01-09T08:07:47.685Z"
   },
   {
    "duration": 0,
    "start_time": "2023-01-09T08:07:47.685Z"
   },
   {
    "duration": 0,
    "start_time": "2023-01-09T08:07:47.686Z"
   },
   {
    "duration": 0,
    "start_time": "2023-01-09T08:07:47.686Z"
   },
   {
    "duration": 0,
    "start_time": "2023-01-09T08:07:47.689Z"
   },
   {
    "duration": 0,
    "start_time": "2023-01-09T08:07:47.690Z"
   },
   {
    "duration": 0,
    "start_time": "2023-01-09T08:07:47.690Z"
   },
   {
    "duration": 0,
    "start_time": "2023-01-09T08:07:47.691Z"
   },
   {
    "duration": 0,
    "start_time": "2023-01-09T08:07:47.691Z"
   },
   {
    "duration": 0,
    "start_time": "2023-01-09T08:07:47.692Z"
   },
   {
    "duration": 0,
    "start_time": "2023-01-09T08:07:47.696Z"
   },
   {
    "duration": 0,
    "start_time": "2023-01-09T08:07:47.697Z"
   },
   {
    "duration": 0,
    "start_time": "2023-01-09T08:07:47.698Z"
   },
   {
    "duration": 0,
    "start_time": "2023-01-09T08:07:47.698Z"
   },
   {
    "duration": 0,
    "start_time": "2023-01-09T08:07:47.699Z"
   },
   {
    "duration": 0,
    "start_time": "2023-01-09T08:07:47.700Z"
   },
   {
    "duration": 0,
    "start_time": "2023-01-09T08:07:47.701Z"
   },
   {
    "duration": 0,
    "start_time": "2023-01-09T08:07:47.702Z"
   },
   {
    "duration": 0,
    "start_time": "2023-01-09T08:07:47.705Z"
   },
   {
    "duration": 0,
    "start_time": "2023-01-09T08:07:47.705Z"
   },
   {
    "duration": 0,
    "start_time": "2023-01-09T08:07:47.706Z"
   },
   {
    "duration": 0,
    "start_time": "2023-01-09T08:07:47.707Z"
   },
   {
    "duration": 0,
    "start_time": "2023-01-09T08:07:47.707Z"
   },
   {
    "duration": 0,
    "start_time": "2023-01-09T08:07:47.708Z"
   },
   {
    "duration": 0,
    "start_time": "2023-01-09T08:07:47.709Z"
   },
   {
    "duration": 1679,
    "start_time": "2023-01-09T08:08:33.246Z"
   },
   {
    "duration": 2301,
    "start_time": "2023-01-09T08:08:39.337Z"
   },
   {
    "duration": 5,
    "start_time": "2023-01-09T08:08:41.640Z"
   },
   {
    "duration": 25,
    "start_time": "2023-01-09T08:08:41.646Z"
   },
   {
    "duration": 28,
    "start_time": "2023-01-09T08:08:41.674Z"
   },
   {
    "duration": 15,
    "start_time": "2023-01-09T08:08:41.709Z"
   },
   {
    "duration": 14,
    "start_time": "2023-01-09T08:08:41.726Z"
   },
   {
    "duration": 20,
    "start_time": "2023-01-09T08:08:41.742Z"
   },
   {
    "duration": 463,
    "start_time": "2023-01-09T08:08:41.763Z"
   },
   {
    "duration": 13,
    "start_time": "2023-01-09T08:08:42.228Z"
   },
   {
    "duration": 17,
    "start_time": "2023-01-09T08:08:42.244Z"
   },
   {
    "duration": 61,
    "start_time": "2023-01-09T08:08:42.263Z"
   },
   {
    "duration": 28,
    "start_time": "2023-01-09T08:08:42.326Z"
   },
   {
    "duration": 80,
    "start_time": "2023-01-09T08:08:42.356Z"
   },
   {
    "duration": 23,
    "start_time": "2023-01-09T08:08:42.438Z"
   },
   {
    "duration": 4,
    "start_time": "2023-01-09T08:08:42.463Z"
   },
   {
    "duration": 70,
    "start_time": "2023-01-09T08:08:42.468Z"
   },
   {
    "duration": 6,
    "start_time": "2023-01-09T08:08:42.540Z"
   },
   {
    "duration": 7,
    "start_time": "2023-01-09T08:08:42.548Z"
   },
   {
    "duration": 7,
    "start_time": "2023-01-09T08:08:42.557Z"
   },
   {
    "duration": 21,
    "start_time": "2023-01-09T08:08:42.566Z"
   },
   {
    "duration": 45,
    "start_time": "2023-01-09T08:08:42.589Z"
   },
   {
    "duration": 6,
    "start_time": "2023-01-09T08:08:42.635Z"
   },
   {
    "duration": 7219,
    "start_time": "2023-01-09T08:08:42.643Z"
   },
   {
    "duration": 226,
    "start_time": "2023-01-09T08:08:49.864Z"
   },
   {
    "duration": 230,
    "start_time": "2023-01-09T08:08:50.092Z"
   },
   {
    "duration": 215,
    "start_time": "2023-01-09T08:08:50.324Z"
   },
   {
    "duration": 242,
    "start_time": "2023-01-09T08:08:50.541Z"
   },
   {
    "duration": 224,
    "start_time": "2023-01-09T08:08:50.790Z"
   },
   {
    "duration": 231,
    "start_time": "2023-01-09T08:08:51.016Z"
   },
   {
    "duration": 220,
    "start_time": "2023-01-09T08:08:51.249Z"
   },
   {
    "duration": 219,
    "start_time": "2023-01-09T08:08:51.471Z"
   },
   {
    "duration": 210,
    "start_time": "2023-01-09T08:08:51.692Z"
   },
   {
    "duration": 418,
    "start_time": "2023-01-09T08:08:51.904Z"
   },
   {
    "duration": 130,
    "start_time": "2023-01-09T08:08:52.328Z"
   },
   {
    "duration": 197,
    "start_time": "2023-01-09T08:08:52.460Z"
   },
   {
    "duration": 160,
    "start_time": "2023-01-09T08:08:52.659Z"
   },
   {
    "duration": 195,
    "start_time": "2023-01-09T08:08:52.821Z"
   },
   {
    "duration": 202,
    "start_time": "2023-01-09T08:08:53.026Z"
   },
   {
    "duration": 265,
    "start_time": "2023-01-09T08:08:53.231Z"
   },
   {
    "duration": 15,
    "start_time": "2023-01-09T08:08:53.502Z"
   },
   {
    "duration": 202,
    "start_time": "2023-01-09T08:08:53.520Z"
   },
   {
    "duration": 6,
    "start_time": "2023-01-09T08:08:53.728Z"
   },
   {
    "duration": 218,
    "start_time": "2023-01-09T08:08:53.736Z"
   },
   {
    "duration": 9,
    "start_time": "2023-01-09T08:08:53.956Z"
   },
   {
    "duration": 255,
    "start_time": "2023-01-09T08:08:53.980Z"
   },
   {
    "duration": 15,
    "start_time": "2023-01-09T08:08:54.236Z"
   },
   {
    "duration": 352,
    "start_time": "2023-01-09T08:08:54.253Z"
   },
   {
    "duration": 15,
    "start_time": "2023-01-09T08:08:54.612Z"
   },
   {
    "duration": 198,
    "start_time": "2023-01-09T08:08:54.629Z"
   },
   {
    "duration": 225,
    "start_time": "2023-01-09T08:08:54.829Z"
   },
   {
    "duration": 241,
    "start_time": "2023-01-09T08:08:55.056Z"
   },
   {
    "duration": 231,
    "start_time": "2023-01-09T08:08:55.299Z"
   },
   {
    "duration": 13,
    "start_time": "2023-01-09T08:08:55.532Z"
   },
   {
    "duration": 14,
    "start_time": "2023-01-09T08:08:55.547Z"
   },
   {
    "duration": 2,
    "start_time": "2023-01-09T08:08:55.563Z"
   },
   {
    "duration": 2308,
    "start_time": "2023-01-09T08:12:56.328Z"
   },
   {
    "duration": 5,
    "start_time": "2023-01-09T08:12:58.638Z"
   },
   {
    "duration": 84,
    "start_time": "2023-01-09T08:12:58.645Z"
   },
   {
    "duration": 43,
    "start_time": "2023-01-09T08:12:58.730Z"
   },
   {
    "duration": 71,
    "start_time": "2023-01-09T08:12:58.775Z"
   },
   {
    "duration": 34,
    "start_time": "2023-01-09T08:12:58.848Z"
   },
   {
    "duration": 82,
    "start_time": "2023-01-09T08:12:58.884Z"
   },
   {
    "duration": 525,
    "start_time": "2023-01-09T08:12:58.969Z"
   },
   {
    "duration": 29,
    "start_time": "2023-01-09T08:12:59.496Z"
   },
   {
    "duration": 30,
    "start_time": "2023-01-09T08:12:59.529Z"
   },
   {
    "duration": 61,
    "start_time": "2023-01-09T08:12:59.561Z"
   },
   {
    "duration": 48,
    "start_time": "2023-01-09T08:12:59.625Z"
   },
   {
    "duration": 76,
    "start_time": "2023-01-09T08:12:59.675Z"
   },
   {
    "duration": 36,
    "start_time": "2023-01-09T08:12:59.752Z"
   },
   {
    "duration": 37,
    "start_time": "2023-01-09T08:12:59.790Z"
   },
   {
    "duration": 30,
    "start_time": "2023-01-09T08:12:59.829Z"
   },
   {
    "duration": 5,
    "start_time": "2023-01-09T08:12:59.862Z"
   },
   {
    "duration": 9,
    "start_time": "2023-01-09T08:12:59.869Z"
   },
   {
    "duration": 51,
    "start_time": "2023-01-09T08:12:59.880Z"
   },
   {
    "duration": 21,
    "start_time": "2023-01-09T08:12:59.932Z"
   },
   {
    "duration": 5,
    "start_time": "2023-01-09T08:12:59.955Z"
   },
   {
    "duration": 19,
    "start_time": "2023-01-09T08:12:59.962Z"
   },
   {
    "duration": 2866,
    "start_time": "2023-01-09T08:12:59.985Z"
   },
   {
    "duration": 237,
    "start_time": "2023-01-09T08:13:02.854Z"
   },
   {
    "duration": 236,
    "start_time": "2023-01-09T08:13:03.100Z"
   },
   {
    "duration": 224,
    "start_time": "2023-01-09T08:13:03.338Z"
   },
   {
    "duration": 269,
    "start_time": "2023-01-09T08:13:03.564Z"
   },
   {
    "duration": 255,
    "start_time": "2023-01-09T08:13:03.838Z"
   },
   {
    "duration": 4368,
    "start_time": "2023-01-09T08:13:04.097Z"
   },
   {
    "duration": 208,
    "start_time": "2023-01-09T08:13:08.466Z"
   },
   {
    "duration": 215,
    "start_time": "2023-01-09T08:13:08.676Z"
   },
   {
    "duration": 222,
    "start_time": "2023-01-09T08:13:08.898Z"
   },
   {
    "duration": 195,
    "start_time": "2023-01-09T08:13:09.122Z"
   },
   {
    "duration": 132,
    "start_time": "2023-01-09T08:13:09.326Z"
   },
   {
    "duration": 194,
    "start_time": "2023-01-09T08:13:09.460Z"
   },
   {
    "duration": 174,
    "start_time": "2023-01-09T08:13:09.656Z"
   },
   {
    "duration": 158,
    "start_time": "2023-01-09T08:13:09.833Z"
   },
   {
    "duration": 223,
    "start_time": "2023-01-09T08:13:09.999Z"
   },
   {
    "duration": 346,
    "start_time": "2023-01-09T08:13:10.224Z"
   },
   {
    "duration": 15,
    "start_time": "2023-01-09T08:13:10.571Z"
   },
   {
    "duration": 240,
    "start_time": "2023-01-09T08:13:10.588Z"
   },
   {
    "duration": 6,
    "start_time": "2023-01-09T08:13:10.830Z"
   },
   {
    "duration": 261,
    "start_time": "2023-01-09T08:13:10.837Z"
   },
   {
    "duration": 13,
    "start_time": "2023-01-09T08:13:11.111Z"
   },
   {
    "duration": 188,
    "start_time": "2023-01-09T08:13:11.125Z"
   },
   {
    "duration": 5,
    "start_time": "2023-01-09T08:13:11.315Z"
   },
   {
    "duration": 226,
    "start_time": "2023-01-09T08:13:11.322Z"
   },
   {
    "duration": 7,
    "start_time": "2023-01-09T08:13:11.550Z"
   },
   {
    "duration": 197,
    "start_time": "2023-01-09T08:13:11.559Z"
   },
   {
    "duration": 216,
    "start_time": "2023-01-09T08:13:11.758Z"
   },
   {
    "duration": 222,
    "start_time": "2023-01-09T08:13:11.976Z"
   },
   {
    "duration": 198,
    "start_time": "2023-01-09T08:13:12.210Z"
   },
   {
    "duration": 16,
    "start_time": "2023-01-09T08:13:12.410Z"
   },
   {
    "duration": 21,
    "start_time": "2023-01-09T08:13:12.430Z"
   },
   {
    "duration": 2,
    "start_time": "2023-01-09T08:13:12.453Z"
   },
   {
    "duration": 10,
    "start_time": "2023-01-09T08:13:12.457Z"
   },
   {
    "duration": 403,
    "start_time": "2023-01-09T08:13:12.469Z"
   },
   {
    "duration": 36,
    "start_time": "2023-01-09T08:13:12.874Z"
   },
   {
    "duration": 2277,
    "start_time": "2023-01-09T08:28:21.241Z"
   },
   {
    "duration": 11,
    "start_time": "2023-01-09T08:28:23.530Z"
   },
   {
    "duration": 29,
    "start_time": "2023-01-09T08:28:23.562Z"
   },
   {
    "duration": 13,
    "start_time": "2023-01-09T08:28:24.069Z"
   },
   {
    "duration": 22,
    "start_time": "2023-01-09T08:28:24.134Z"
   },
   {
    "duration": 50,
    "start_time": "2023-01-09T08:28:24.184Z"
   },
   {
    "duration": 38,
    "start_time": "2023-01-09T08:28:24.252Z"
   },
   {
    "duration": 429,
    "start_time": "2023-01-09T08:28:24.325Z"
   },
   {
    "duration": 23,
    "start_time": "2023-01-09T08:28:24.780Z"
   },
   {
    "duration": 3,
    "start_time": "2023-01-09T08:28:24.846Z"
   },
   {
    "duration": 7,
    "start_time": "2023-01-09T08:28:24.869Z"
   },
   {
    "duration": 30,
    "start_time": "2023-01-09T08:28:24.936Z"
   },
   {
    "duration": 35,
    "start_time": "2023-01-09T08:28:25.023Z"
   },
   {
    "duration": 63,
    "start_time": "2023-01-09T08:28:25.111Z"
   },
   {
    "duration": 36,
    "start_time": "2023-01-09T08:28:25.204Z"
   },
   {
    "duration": 65,
    "start_time": "2023-01-09T08:28:25.268Z"
   },
   {
    "duration": 60,
    "start_time": "2023-01-09T08:28:25.356Z"
   },
   {
    "duration": 21,
    "start_time": "2023-01-09T08:28:25.443Z"
   },
   {
    "duration": 8,
    "start_time": "2023-01-09T08:28:28.308Z"
   },
   {
    "duration": 10,
    "start_time": "2023-01-09T08:28:28.643Z"
   },
   {
    "duration": 24,
    "start_time": "2023-01-09T08:28:28.965Z"
   },
   {
    "duration": 9,
    "start_time": "2023-01-09T08:28:29.301Z"
   },
   {
    "duration": 2754,
    "start_time": "2023-01-09T08:28:29.613Z"
   },
   {
    "duration": 186,
    "start_time": "2023-01-09T08:28:32.596Z"
   },
   {
    "duration": 214,
    "start_time": "2023-01-09T08:28:33.010Z"
   },
   {
    "duration": 4680,
    "start_time": "2023-01-09T08:28:33.431Z"
   },
   {
    "duration": 243,
    "start_time": "2023-01-09T08:28:38.343Z"
   },
   {
    "duration": 213,
    "start_time": "2023-01-09T08:28:38.771Z"
   },
   {
    "duration": 179,
    "start_time": "2023-01-09T08:28:39.205Z"
   },
   {
    "duration": 194,
    "start_time": "2023-01-09T08:28:39.520Z"
   },
   {
    "duration": 236,
    "start_time": "2023-01-09T08:28:40.025Z"
   },
   {
    "duration": 201,
    "start_time": "2023-01-09T08:28:40.442Z"
   },
   {
    "duration": 206,
    "start_time": "2023-01-09T08:28:40.786Z"
   },
   {
    "duration": 134,
    "start_time": "2023-01-09T08:28:41.190Z"
   },
   {
    "duration": 276,
    "start_time": "2023-01-09T08:28:41.599Z"
   },
   {
    "duration": 177,
    "start_time": "2023-01-09T08:28:41.902Z"
   },
   {
    "duration": 149,
    "start_time": "2023-01-09T08:28:42.327Z"
   },
   {
    "duration": 222,
    "start_time": "2023-01-09T08:28:42.496Z"
   },
   {
    "duration": 304,
    "start_time": "2023-01-09T08:28:42.939Z"
   },
   {
    "duration": 60,
    "start_time": "2023-01-09T08:28:43.254Z"
   },
   {
    "duration": 202,
    "start_time": "2023-01-09T08:28:43.504Z"
   },
   {
    "duration": 7,
    "start_time": "2023-01-09T08:28:43.716Z"
   },
   {
    "duration": 351,
    "start_time": "2023-01-09T08:28:43.959Z"
   },
   {
    "duration": 47,
    "start_time": "2023-01-09T08:28:44.321Z"
   },
   {
    "duration": 218,
    "start_time": "2023-01-09T08:28:44.645Z"
   },
   {
    "duration": 9,
    "start_time": "2023-01-09T08:28:45.140Z"
   },
   {
    "duration": 262,
    "start_time": "2023-01-09T08:28:45.429Z"
   },
   {
    "duration": 8,
    "start_time": "2023-01-09T08:28:45.954Z"
   },
   {
    "duration": 241,
    "start_time": "2023-01-09T08:28:46.029Z"
   },
   {
    "duration": 265,
    "start_time": "2023-01-09T08:28:46.307Z"
   },
   {
    "duration": 294,
    "start_time": "2023-01-09T08:28:46.588Z"
   },
   {
    "duration": 2151,
    "start_time": "2023-01-09T08:36:26.088Z"
   },
   {
    "duration": 11,
    "start_time": "2023-01-09T08:36:28.248Z"
   },
   {
    "duration": 12,
    "start_time": "2023-01-09T08:36:28.288Z"
   },
   {
    "duration": 14,
    "start_time": "2023-01-09T08:36:28.326Z"
   },
   {
    "duration": 6,
    "start_time": "2023-01-09T08:36:28.356Z"
   },
   {
    "duration": 32,
    "start_time": "2023-01-09T08:36:28.392Z"
   },
   {
    "duration": 21,
    "start_time": "2023-01-09T08:36:28.449Z"
   },
   {
    "duration": 454,
    "start_time": "2023-01-09T08:36:28.957Z"
   },
   {
    "duration": 20,
    "start_time": "2023-01-09T08:36:29.435Z"
   },
   {
    "duration": 9,
    "start_time": "2023-01-09T08:36:29.481Z"
   },
   {
    "duration": 20,
    "start_time": "2023-01-09T08:36:29.542Z"
   },
   {
    "duration": 25,
    "start_time": "2023-01-09T08:36:29.623Z"
   },
   {
    "duration": 25,
    "start_time": "2023-01-09T08:36:29.723Z"
   },
   {
    "duration": 23,
    "start_time": "2023-01-09T08:36:29.828Z"
   },
   {
    "duration": 67,
    "start_time": "2023-01-09T08:36:29.864Z"
   },
   {
    "duration": 63,
    "start_time": "2023-01-09T08:36:29.974Z"
   },
   {
    "duration": 69,
    "start_time": "2023-01-09T08:36:30.067Z"
   },
   {
    "duration": 46,
    "start_time": "2023-01-09T08:36:30.212Z"
   },
   {
    "duration": 63,
    "start_time": "2023-01-09T08:36:30.345Z"
   },
   {
    "duration": 109,
    "start_time": "2023-01-09T08:36:30.469Z"
   },
   {
    "duration": 61,
    "start_time": "2023-01-09T08:36:30.659Z"
   },
   {
    "duration": 62,
    "start_time": "2023-01-09T08:36:30.757Z"
   },
   {
    "duration": 6987,
    "start_time": "2023-01-09T08:36:33.647Z"
   },
   {
    "duration": 209,
    "start_time": "2023-01-09T08:36:40.839Z"
   },
   {
    "duration": 211,
    "start_time": "2023-01-09T08:36:41.295Z"
   },
   {
    "duration": 175,
    "start_time": "2023-01-09T08:36:41.696Z"
   },
   {
    "duration": 214,
    "start_time": "2023-01-09T08:36:42.098Z"
   },
   {
    "duration": 414,
    "start_time": "2023-01-09T08:36:42.513Z"
   },
   {
    "duration": 190,
    "start_time": "2023-01-09T08:36:43.139Z"
   },
   {
    "duration": 171,
    "start_time": "2023-01-09T08:36:43.518Z"
   },
   {
    "duration": 256,
    "start_time": "2023-01-09T08:36:43.893Z"
   },
   {
    "duration": 237,
    "start_time": "2023-01-09T08:36:44.383Z"
   },
   {
    "duration": 370,
    "start_time": "2023-01-09T08:36:44.843Z"
   },
   {
    "duration": 158,
    "start_time": "2023-01-09T08:36:45.367Z"
   },
   {
    "duration": 246,
    "start_time": "2023-01-09T08:36:45.776Z"
   },
   {
    "duration": 165,
    "start_time": "2023-01-09T08:36:46.207Z"
   },
   {
    "duration": 163,
    "start_time": "2023-01-09T08:36:46.553Z"
   },
   {
    "duration": 214,
    "start_time": "2023-01-09T08:36:46.922Z"
   },
   {
    "duration": 269,
    "start_time": "2023-01-09T08:36:47.533Z"
   },
   {
    "duration": 26,
    "start_time": "2023-01-09T08:36:47.817Z"
   },
   {
    "duration": 191,
    "start_time": "2023-01-09T08:36:48.055Z"
   },
   {
    "duration": 13,
    "start_time": "2023-01-09T08:36:48.254Z"
   },
   {
    "duration": 209,
    "start_time": "2023-01-09T08:36:48.535Z"
   },
   {
    "duration": 17,
    "start_time": "2023-01-09T08:36:48.753Z"
   },
   {
    "duration": 194,
    "start_time": "2023-01-09T08:36:49.015Z"
   },
   {
    "duration": 50,
    "start_time": "2023-01-09T08:36:49.221Z"
   },
   {
    "duration": 274,
    "start_time": "2023-01-09T08:36:49.607Z"
   },
   {
    "duration": 46,
    "start_time": "2023-01-09T08:36:49.897Z"
   },
   {
    "duration": 184,
    "start_time": "2023-01-09T08:36:50.144Z"
   },
   {
    "duration": 206,
    "start_time": "2023-01-09T08:36:50.542Z"
   },
   {
    "duration": 215,
    "start_time": "2023-01-09T08:36:50.944Z"
   },
   {
    "duration": 199,
    "start_time": "2023-01-09T08:36:51.388Z"
   },
   {
    "duration": 38,
    "start_time": "2023-01-09T08:36:51.616Z"
   },
   {
    "duration": 43,
    "start_time": "2023-01-09T08:36:51.736Z"
   },
   {
    "duration": 38,
    "start_time": "2023-01-09T08:36:51.822Z"
   },
   {
    "duration": 391,
    "start_time": "2023-01-09T08:36:52.250Z"
   },
   {
    "duration": 369,
    "start_time": "2023-01-09T08:36:53.124Z"
   },
   {
    "duration": 32,
    "start_time": "2023-01-09T08:36:53.522Z"
   },
   {
    "duration": 2593,
    "start_time": "2023-01-09T13:18:24.695Z"
   },
   {
    "duration": 5,
    "start_time": "2023-01-09T13:18:27.290Z"
   },
   {
    "duration": 39,
    "start_time": "2023-01-09T13:18:27.297Z"
   },
   {
    "duration": 19,
    "start_time": "2023-01-09T13:18:27.338Z"
   },
   {
    "duration": 19,
    "start_time": "2023-01-09T13:18:27.358Z"
   },
   {
    "duration": 16,
    "start_time": "2023-01-09T13:18:27.378Z"
   },
   {
    "duration": 41,
    "start_time": "2023-01-09T13:18:27.396Z"
   },
   {
    "duration": 379,
    "start_time": "2023-01-09T13:18:27.439Z"
   },
   {
    "duration": 14,
    "start_time": "2023-01-09T13:18:27.820Z"
   },
   {
    "duration": 18,
    "start_time": "2023-01-09T13:18:27.837Z"
   },
   {
    "duration": 10,
    "start_time": "2023-01-09T13:18:27.858Z"
   },
   {
    "duration": 33,
    "start_time": "2023-01-09T13:18:27.870Z"
   },
   {
    "duration": 20,
    "start_time": "2023-01-09T13:18:27.905Z"
   },
   {
    "duration": 27,
    "start_time": "2023-01-09T13:18:27.927Z"
   },
   {
    "duration": 4,
    "start_time": "2023-01-09T13:18:27.956Z"
   },
   {
    "duration": 24,
    "start_time": "2023-01-09T13:18:27.961Z"
   },
   {
    "duration": 17,
    "start_time": "2023-01-09T13:18:27.987Z"
   },
   {
    "duration": 8,
    "start_time": "2023-01-09T13:18:28.006Z"
   },
   {
    "duration": 24,
    "start_time": "2023-01-09T13:18:28.016Z"
   },
   {
    "duration": 22,
    "start_time": "2023-01-09T13:18:28.042Z"
   },
   {
    "duration": 12,
    "start_time": "2023-01-09T13:18:28.066Z"
   },
   {
    "duration": 29,
    "start_time": "2023-01-09T13:18:28.079Z"
   },
   {
    "duration": 2609,
    "start_time": "2023-01-09T13:18:28.110Z"
   },
   {
    "duration": 187,
    "start_time": "2023-01-09T13:18:30.721Z"
   },
   {
    "duration": 195,
    "start_time": "2023-01-09T13:18:30.910Z"
   },
   {
    "duration": 172,
    "start_time": "2023-01-09T13:18:31.106Z"
   },
   {
    "duration": 187,
    "start_time": "2023-01-09T13:18:31.279Z"
   },
   {
    "duration": 310,
    "start_time": "2023-01-09T13:18:31.470Z"
   },
   {
    "duration": 172,
    "start_time": "2023-01-09T13:18:31.782Z"
   },
   {
    "duration": 159,
    "start_time": "2023-01-09T13:18:31.956Z"
   },
   {
    "duration": 185,
    "start_time": "2023-01-09T13:18:32.116Z"
   },
   {
    "duration": 215,
    "start_time": "2023-01-09T13:18:32.303Z"
   },
   {
    "duration": 203,
    "start_time": "2023-01-09T13:18:32.520Z"
   },
   {
    "duration": 122,
    "start_time": "2023-01-09T13:18:32.726Z"
   },
   {
    "duration": 171,
    "start_time": "2023-01-09T13:18:32.852Z"
   },
   {
    "duration": 135,
    "start_time": "2023-01-09T13:18:33.026Z"
   },
   {
    "duration": 133,
    "start_time": "2023-01-09T13:18:33.163Z"
   },
   {
    "duration": 266,
    "start_time": "2023-01-09T13:18:33.298Z"
   },
   {
    "duration": 235,
    "start_time": "2023-01-09T13:18:33.565Z"
   },
   {
    "duration": 9,
    "start_time": "2023-01-09T13:18:33.802Z"
   },
   {
    "duration": 192,
    "start_time": "2023-01-09T13:18:33.812Z"
   },
   {
    "duration": 5,
    "start_time": "2023-01-09T13:18:34.006Z"
   },
   {
    "duration": 209,
    "start_time": "2023-01-09T13:18:34.013Z"
   },
   {
    "duration": 6,
    "start_time": "2023-01-09T13:18:34.224Z"
   },
   {
    "duration": 187,
    "start_time": "2023-01-09T13:18:34.232Z"
   },
   {
    "duration": 4,
    "start_time": "2023-01-09T13:18:34.421Z"
   },
   {
    "duration": 211,
    "start_time": "2023-01-09T13:18:34.427Z"
   },
   {
    "duration": 5,
    "start_time": "2023-01-09T13:18:34.640Z"
   },
   {
    "duration": 187,
    "start_time": "2023-01-09T13:18:34.652Z"
   },
   {
    "duration": 205,
    "start_time": "2023-01-09T13:18:34.840Z"
   },
   {
    "duration": 186,
    "start_time": "2023-01-09T13:18:35.052Z"
   },
   {
    "duration": 198,
    "start_time": "2023-01-09T13:18:35.240Z"
   },
   {
    "duration": 17,
    "start_time": "2023-01-09T13:18:35.440Z"
   },
   {
    "duration": 14,
    "start_time": "2023-01-09T13:18:35.459Z"
   },
   {
    "duration": 399,
    "start_time": "2023-01-09T13:18:35.474Z"
   },
   {
    "duration": 338,
    "start_time": "2023-01-09T13:18:35.875Z"
   },
   {
    "duration": 316,
    "start_time": "2023-01-09T13:19:48.456Z"
   }
  ],
  "kernelspec": {
   "display_name": "Python 3 (ipykernel)",
   "language": "python",
   "name": "python3"
  },
  "language_info": {
   "codemirror_mode": {
    "name": "ipython",
    "version": 3
   },
   "file_extension": ".py",
   "mimetype": "text/x-python",
   "name": "python",
   "nbconvert_exporter": "python",
   "pygments_lexer": "ipython3",
   "version": "3.9.13"
  },
  "toc": {
   "base_numbering": 1,
   "nav_menu": {},
   "number_sections": true,
   "sideBar": true,
   "skip_h1_title": true,
   "title_cell": "Table of Contents",
   "title_sidebar": "Contents",
   "toc_cell": false,
   "toc_position": {
    "height": "calc(100% - 180px)",
    "left": "10px",
    "top": "150px",
    "width": "358px"
   },
   "toc_section_display": true,
   "toc_window_display": true
  }
 },
 "nbformat": 4,
 "nbformat_minor": 2
}
