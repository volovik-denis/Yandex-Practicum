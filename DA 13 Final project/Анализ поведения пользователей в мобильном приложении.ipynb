{
 "cells": [
  {
   "cell_type": "markdown",
   "metadata": {},
   "source": [
    "# Анализ поведения пользователей в мобильном приложении"
   ]
  },
  {
   "cell_type": "markdown",
   "metadata": {},
   "source": [
    "# Описание проекта"
   ]
  },
  {
   "cell_type": "markdown",
   "metadata": {},
   "source": [
    "**План исследования:**\n",
    "\n",
    "**Загрузка данных и их изучение**\n",
    "* Обзор таблиц на их размер и содержание\n",
    "* Обзор на полноту данных\n",
    "* Проверка типов данных\n",
    "\n",
    "**Предобработка данных**\n",
    "* Изменение типов данных\n",
    "* Приведение названий столбцов к правильному формату\n",
    "* Удаление дубликатов\n",
    "* Заполнение/удаление пропусков\n",
    "\n",
    "**Исследовательский анализ данных**\n",
    "* Исследовать общее поведение пользователей: Retention Rate, время, проведённое в приложении, частота, конверсия\n",
    "* Сделать промежуточные выводы для того, чтобы можно было приступить к следующему этапу (сегментация)\n",
    "\n",
    "**Сегментация пользователей на группы на основе их действий**\n",
    "* Выделить 3-4 группы пользователей, отличающихся в зависимости от своих действий в приложении и конечного результата\n",
    "* Для каждой группы посчитать Retention Rate и конверсию \n",
    "* Убедиться в том, что разделение было верным (данные должны отличаться в зависимости от группы, в которой находится пользователь)\n",
    "\n",
    "**Формулировка гипотез и их проверка** \n",
    "* Проверка гипотезы (Некоторые пользователи установили приложение по ссылке из yandex, другие — из google. Проверить гипотезу: две эти группы демонстрируют разную конверсию в просмотры контактов)\n",
    "* Некоторые пользователи установили приложение по ссылке из Yandex, другие — из Google. Проверить гипотезу: две эти группы демонстрируют разную длительность пользовательских сессий\n",
    "\n",
    "**Выводы**\n",
    "\n",
    "**Рекомендации**\n",
    "\n",
    "**Построение дашборда**\n",
    "\n",
    "**Подготовка презентации**"
   ]
  },
  {
   "cell_type": "markdown",
   "metadata": {},
   "source": [
    "# Описание данных"
   ]
  },
  {
   "cell_type": "markdown",
   "metadata": {},
   "source": [
    "Датасет содержит данные о событиях, совершенных в мобильном приложении \"Ненужные вещи\". В нем пользователи продают свои ненужные вещи, размещая их на доске объявлений.\n",
    "\n",
    "В датасете содержатся данные пользователей, впервые совершивших действия в приложении после **7 октября 2019 года**.\n",
    "\n",
    "Колонки в `mobile_sources.csv`: \n",
    "\n",
    "- `userId` — **идентификатор пользователя**\n",
    "- `source` — **источник, с которого пользователь установил приложение**\n",
    "\n",
    "Колонки в mobile_dataset.csv:\n",
    "\n",
    "- `event.time` — **время совершения**\n",
    "- `user.id` — **идентификатор пользователя**\n",
    "- `event.name` — **действие пользователя**\n",
    "\n",
    "Виды действий:\n",
    "\n",
    "- `advert_open` — **открыл карточки объявления**\n",
    "- `photos_show` — **просмотрел фотографий в объявлении**\n",
    "- `tips_show` — **увидел рекомендованные объявления**\n",
    "- `tips_click` — **кликнул по рекомендованному объявлению**\n",
    "- `contacts_show` и `show_contacts` — **посмотрел номер телефона**\n",
    "- `contacts_call` — **позвонил по номеру из объявления**\n",
    "- `map` — **открыл карту объявлений**\n",
    "- `search_1`—`search_7` — **разные действия, связанные с поиском по сайту**\n",
    "- `favorites_add` — **добавил объявление в избранное**"
   ]
  },
  {
   "cell_type": "markdown",
   "metadata": {},
   "source": [
    "# Работа с проектом"
   ]
  },
  {
   "cell_type": "markdown",
   "metadata": {},
   "source": [
    "# Открываю файл с данными и изучаю общую информацию"
   ]
  },
  {
   "cell_type": "markdown",
   "metadata": {},
   "source": [
    "**Импортирую все необходимые библиотеки для проекта**"
   ]
  },
  {
   "cell_type": "code",
   "execution_count": 1,
   "metadata": {},
   "outputs": [],
   "source": [
    "import pandas as pd\n",
    "import matplotlib.pyplot as plt\n",
    "import numpy as np\n",
    "import seaborn as sns\n",
    "from scipy import stats as st\n",
    "import math as mth\n",
    "import matplotlib.ticker as mtick\n",
    "import warnings\n",
    "import plotly.express as px\n",
    "from plotly import graph_objects as go\n",
    "warnings.filterwarnings('ignore')\n",
    "pd.set_option('display.max_colwidth', False)"
   ]
  },
  {
   "cell_type": "markdown",
   "metadata": {},
   "source": [
    "**Открываю файлы с данными**"
   ]
  },
  {
   "cell_type": "code",
   "execution_count": 2,
   "metadata": {},
   "outputs": [],
   "source": [
    "dataset = pd.read_csv('/datasets/mobile_dataset.csv')\n",
    "sources = pd.read_csv('/datasets/mobile_soures.csv')"
   ]
  },
  {
   "cell_type": "markdown",
   "metadata": {},
   "source": [
    "**Вывожу на экран первые 10 строк таблиц, изучаю данные**"
   ]
  },
  {
   "cell_type": "code",
   "execution_count": 3,
   "metadata": {},
   "outputs": [
    {
     "data": {
      "text/html": [
       "<div>\n",
       "<style scoped>\n",
       "    .dataframe tbody tr th:only-of-type {\n",
       "        vertical-align: middle;\n",
       "    }\n",
       "\n",
       "    .dataframe tbody tr th {\n",
       "        vertical-align: top;\n",
       "    }\n",
       "\n",
       "    .dataframe thead th {\n",
       "        text-align: right;\n",
       "    }\n",
       "</style>\n",
       "<table border=\"1\" class=\"dataframe\">\n",
       "  <thead>\n",
       "    <tr style=\"text-align: right;\">\n",
       "      <th></th>\n",
       "      <th>event.time</th>\n",
       "      <th>event.name</th>\n",
       "      <th>user.id</th>\n",
       "    </tr>\n",
       "  </thead>\n",
       "  <tbody>\n",
       "    <tr>\n",
       "      <th>0</th>\n",
       "      <td>2019-10-07 00:00:00.431357</td>\n",
       "      <td>advert_open</td>\n",
       "      <td>020292ab-89bc-4156-9acf-68bc2783f894</td>\n",
       "    </tr>\n",
       "    <tr>\n",
       "      <th>1</th>\n",
       "      <td>2019-10-07 00:00:01.236320</td>\n",
       "      <td>tips_show</td>\n",
       "      <td>020292ab-89bc-4156-9acf-68bc2783f894</td>\n",
       "    </tr>\n",
       "    <tr>\n",
       "      <th>2</th>\n",
       "      <td>2019-10-07 00:00:02.245341</td>\n",
       "      <td>tips_show</td>\n",
       "      <td>cf7eda61-9349-469f-ac27-e5b6f5ec475c</td>\n",
       "    </tr>\n",
       "    <tr>\n",
       "      <th>3</th>\n",
       "      <td>2019-10-07 00:00:07.039334</td>\n",
       "      <td>tips_show</td>\n",
       "      <td>020292ab-89bc-4156-9acf-68bc2783f894</td>\n",
       "    </tr>\n",
       "    <tr>\n",
       "      <th>4</th>\n",
       "      <td>2019-10-07 00:00:56.319813</td>\n",
       "      <td>advert_open</td>\n",
       "      <td>cf7eda61-9349-469f-ac27-e5b6f5ec475c</td>\n",
       "    </tr>\n",
       "    <tr>\n",
       "      <th>5</th>\n",
       "      <td>2019-10-07 00:01:19.993624</td>\n",
       "      <td>tips_show</td>\n",
       "      <td>cf7eda61-9349-469f-ac27-e5b6f5ec475c</td>\n",
       "    </tr>\n",
       "    <tr>\n",
       "      <th>6</th>\n",
       "      <td>2019-10-07 00:01:27.770232</td>\n",
       "      <td>advert_open</td>\n",
       "      <td>020292ab-89bc-4156-9acf-68bc2783f894</td>\n",
       "    </tr>\n",
       "    <tr>\n",
       "      <th>7</th>\n",
       "      <td>2019-10-07 00:01:34.804591</td>\n",
       "      <td>tips_show</td>\n",
       "      <td>020292ab-89bc-4156-9acf-68bc2783f894</td>\n",
       "    </tr>\n",
       "    <tr>\n",
       "      <th>8</th>\n",
       "      <td>2019-10-07 00:01:49.732803</td>\n",
       "      <td>advert_open</td>\n",
       "      <td>cf7eda61-9349-469f-ac27-e5b6f5ec475c</td>\n",
       "    </tr>\n",
       "    <tr>\n",
       "      <th>9</th>\n",
       "      <td>2019-10-07 00:01:54.958298</td>\n",
       "      <td>advert_open</td>\n",
       "      <td>020292ab-89bc-4156-9acf-68bc2783f894</td>\n",
       "    </tr>\n",
       "  </tbody>\n",
       "</table>\n",
       "</div>"
      ],
      "text/plain": [
       "                   event.time   event.name  \\\n",
       "0  2019-10-07 00:00:00.431357  advert_open   \n",
       "1  2019-10-07 00:00:01.236320  tips_show     \n",
       "2  2019-10-07 00:00:02.245341  tips_show     \n",
       "3  2019-10-07 00:00:07.039334  tips_show     \n",
       "4  2019-10-07 00:00:56.319813  advert_open   \n",
       "5  2019-10-07 00:01:19.993624  tips_show     \n",
       "6  2019-10-07 00:01:27.770232  advert_open   \n",
       "7  2019-10-07 00:01:34.804591  tips_show     \n",
       "8  2019-10-07 00:01:49.732803  advert_open   \n",
       "9  2019-10-07 00:01:54.958298  advert_open   \n",
       "\n",
       "                                user.id  \n",
       "0  020292ab-89bc-4156-9acf-68bc2783f894  \n",
       "1  020292ab-89bc-4156-9acf-68bc2783f894  \n",
       "2  cf7eda61-9349-469f-ac27-e5b6f5ec475c  \n",
       "3  020292ab-89bc-4156-9acf-68bc2783f894  \n",
       "4  cf7eda61-9349-469f-ac27-e5b6f5ec475c  \n",
       "5  cf7eda61-9349-469f-ac27-e5b6f5ec475c  \n",
       "6  020292ab-89bc-4156-9acf-68bc2783f894  \n",
       "7  020292ab-89bc-4156-9acf-68bc2783f894  \n",
       "8  cf7eda61-9349-469f-ac27-e5b6f5ec475c  \n",
       "9  020292ab-89bc-4156-9acf-68bc2783f894  "
      ]
     },
     "metadata": {},
     "output_type": "display_data"
    },
    {
     "data": {
      "text/html": [
       "<div>\n",
       "<style scoped>\n",
       "    .dataframe tbody tr th:only-of-type {\n",
       "        vertical-align: middle;\n",
       "    }\n",
       "\n",
       "    .dataframe tbody tr th {\n",
       "        vertical-align: top;\n",
       "    }\n",
       "\n",
       "    .dataframe thead th {\n",
       "        text-align: right;\n",
       "    }\n",
       "</style>\n",
       "<table border=\"1\" class=\"dataframe\">\n",
       "  <thead>\n",
       "    <tr style=\"text-align: right;\">\n",
       "      <th></th>\n",
       "      <th>userId</th>\n",
       "      <th>source</th>\n",
       "    </tr>\n",
       "  </thead>\n",
       "  <tbody>\n",
       "    <tr>\n",
       "      <th>0</th>\n",
       "      <td>020292ab-89bc-4156-9acf-68bc2783f894</td>\n",
       "      <td>other</td>\n",
       "    </tr>\n",
       "    <tr>\n",
       "      <th>1</th>\n",
       "      <td>cf7eda61-9349-469f-ac27-e5b6f5ec475c</td>\n",
       "      <td>yandex</td>\n",
       "    </tr>\n",
       "    <tr>\n",
       "      <th>2</th>\n",
       "      <td>8c356c42-3ba9-4cb6-80b8-3f868d0192c3</td>\n",
       "      <td>yandex</td>\n",
       "    </tr>\n",
       "    <tr>\n",
       "      <th>3</th>\n",
       "      <td>d9b06b47-0f36-419b-bbb0-3533e582a6cb</td>\n",
       "      <td>other</td>\n",
       "    </tr>\n",
       "    <tr>\n",
       "      <th>4</th>\n",
       "      <td>f32e1e2a-3027-4693-b793-b7b3ff274439</td>\n",
       "      <td>google</td>\n",
       "    </tr>\n",
       "    <tr>\n",
       "      <th>5</th>\n",
       "      <td>17f6b2db-2964-4d11-89d8-7e38d2cb4750</td>\n",
       "      <td>yandex</td>\n",
       "    </tr>\n",
       "    <tr>\n",
       "      <th>6</th>\n",
       "      <td>62aa104f-592d-4ccb-8226-2ba0e719ded5</td>\n",
       "      <td>yandex</td>\n",
       "    </tr>\n",
       "    <tr>\n",
       "      <th>7</th>\n",
       "      <td>57321726-5d66-4d51-84f4-c797c35dcf2b</td>\n",
       "      <td>google</td>\n",
       "    </tr>\n",
       "    <tr>\n",
       "      <th>8</th>\n",
       "      <td>c2cf55c0-95f7-4269-896c-931d14deaab5</td>\n",
       "      <td>google</td>\n",
       "    </tr>\n",
       "    <tr>\n",
       "      <th>9</th>\n",
       "      <td>48e614d6-fe03-40f7-bf9e-4c4f61c19f64</td>\n",
       "      <td>yandex</td>\n",
       "    </tr>\n",
       "  </tbody>\n",
       "</table>\n",
       "</div>"
      ],
      "text/plain": [
       "                                 userId  source\n",
       "0  020292ab-89bc-4156-9acf-68bc2783f894  other \n",
       "1  cf7eda61-9349-469f-ac27-e5b6f5ec475c  yandex\n",
       "2  8c356c42-3ba9-4cb6-80b8-3f868d0192c3  yandex\n",
       "3  d9b06b47-0f36-419b-bbb0-3533e582a6cb  other \n",
       "4  f32e1e2a-3027-4693-b793-b7b3ff274439  google\n",
       "5  17f6b2db-2964-4d11-89d8-7e38d2cb4750  yandex\n",
       "6  62aa104f-592d-4ccb-8226-2ba0e719ded5  yandex\n",
       "7  57321726-5d66-4d51-84f4-c797c35dcf2b  google\n",
       "8  c2cf55c0-95f7-4269-896c-931d14deaab5  google\n",
       "9  48e614d6-fe03-40f7-bf9e-4c4f61c19f64  yandex"
      ]
     },
     "metadata": {},
     "output_type": "display_data"
    }
   ],
   "source": [
    "display(dataset.head(10))\n",
    "display(sources.head(10))"
   ]
  },
  {
   "cell_type": "markdown",
   "metadata": {},
   "source": [
    "**Вывожу сводную информацию о каждой таблице**"
   ]
  },
  {
   "cell_type": "code",
   "execution_count": 4,
   "metadata": {},
   "outputs": [
    {
     "name": "stdout",
     "output_type": "stream",
     "text": [
      "<class 'pandas.core.frame.DataFrame'>\n",
      "RangeIndex: 74197 entries, 0 to 74196\n",
      "Data columns (total 3 columns):\n",
      " #   Column      Non-Null Count  Dtype \n",
      "---  ------      --------------  ----- \n",
      " 0   event.time  74197 non-null  object\n",
      " 1   event.name  74197 non-null  object\n",
      " 2   user.id     74197 non-null  object\n",
      "dtypes: object(3)\n",
      "memory usage: 1.7+ MB\n",
      "<class 'pandas.core.frame.DataFrame'>\n",
      "RangeIndex: 4293 entries, 0 to 4292\n",
      "Data columns (total 2 columns):\n",
      " #   Column  Non-Null Count  Dtype \n",
      "---  ------  --------------  ----- \n",
      " 0   userId  4293 non-null   object\n",
      " 1   source  4293 non-null   object\n",
      "dtypes: object(2)\n",
      "memory usage: 67.2+ KB\n"
     ]
    }
   ],
   "source": [
    "dataset.info()\n",
    "sources.info()"
   ]
  },
  {
   "cell_type": "markdown",
   "metadata": {},
   "source": [
    "**Вывожу на экран количество пользователей, которые пришли в приложении через разные источники трафика**"
   ]
  },
  {
   "cell_type": "code",
   "execution_count": 5,
   "metadata": {},
   "outputs": [
    {
     "data": {
      "text/plain": [
       "yandex    1934\n",
       "other     1230\n",
       "google    1129\n",
       "Name: source, dtype: int64"
      ]
     },
     "execution_count": 5,
     "metadata": {},
     "output_type": "execute_result"
    }
   ],
   "source": [
    "sources['source'].value_counts()"
   ]
  },
  {
   "cell_type": "markdown",
   "metadata": {},
   "source": [
    "**Пропусков в таблице нет, названия столбцов необходимо изменить для удобства, тип данных в столбце `event.name` не обходимо изменить, наличие дубликатов проверю в следующих этапах**"
   ]
  },
  {
   "cell_type": "markdown",
   "metadata": {},
   "source": [
    "# Предобработка данных"
   ]
  },
  {
   "cell_type": "markdown",
   "metadata": {},
   "source": [
    "**Переименовываю столбцы, привожу к змеиному регистру**"
   ]
  },
  {
   "cell_type": "code",
   "execution_count": 6,
   "metadata": {},
   "outputs": [],
   "source": [
    "dataset = dataset.rename(\n",
    "    columns={\n",
    "        'event.time':'event_time',\n",
    "        'event.name':'event_name',\n",
    "        'user.id':'user_id'\n",
    "    }\n",
    ")\n",
    "\n",
    "sources = sources.rename(\n",
    "    columns={\n",
    "        'userId':'user_id'\n",
    "    }\n",
    ")"
   ]
  },
  {
   "cell_type": "markdown",
   "metadata": {},
   "source": [
    "**Проверяю таблицы на наличие дубликатов**"
   ]
  },
  {
   "cell_type": "code",
   "execution_count": 7,
   "metadata": {},
   "outputs": [
    {
     "name": "stdout",
     "output_type": "stream",
     "text": [
      "Количество дубликатов: 0\n"
     ]
    }
   ],
   "source": [
    "print('Количество дубликатов:',dataset.duplicated().sum())"
   ]
  },
  {
   "cell_type": "code",
   "execution_count": 8,
   "metadata": {},
   "outputs": [
    {
     "name": "stdout",
     "output_type": "stream",
     "text": [
      "Количество дубликатов: 0\n"
     ]
    }
   ],
   "source": [
    "print('Количество дубликатов:',sources.duplicated().sum())"
   ]
  },
  {
   "cell_type": "markdown",
   "metadata": {},
   "source": [
    "**Дубликаты в таблицах отсутствуют**"
   ]
  },
  {
   "cell_type": "markdown",
   "metadata": {},
   "source": [
    "**Привожу столбец `event.name` к необходимому формату, избавляюсь от милисекунд**"
   ]
  },
  {
   "cell_type": "code",
   "execution_count": 9,
   "metadata": {},
   "outputs": [
    {
     "data": {
      "text/html": [
       "<div>\n",
       "<style scoped>\n",
       "    .dataframe tbody tr th:only-of-type {\n",
       "        vertical-align: middle;\n",
       "    }\n",
       "\n",
       "    .dataframe tbody tr th {\n",
       "        vertical-align: top;\n",
       "    }\n",
       "\n",
       "    .dataframe thead th {\n",
       "        text-align: right;\n",
       "    }\n",
       "</style>\n",
       "<table border=\"1\" class=\"dataframe\">\n",
       "  <thead>\n",
       "    <tr style=\"text-align: right;\">\n",
       "      <th></th>\n",
       "      <th>event_time</th>\n",
       "      <th>event_name</th>\n",
       "      <th>user_id</th>\n",
       "    </tr>\n",
       "  </thead>\n",
       "  <tbody>\n",
       "    <tr>\n",
       "      <th>0</th>\n",
       "      <td>2019-10-07 00:00:00</td>\n",
       "      <td>advert_open</td>\n",
       "      <td>020292ab-89bc-4156-9acf-68bc2783f894</td>\n",
       "    </tr>\n",
       "    <tr>\n",
       "      <th>1</th>\n",
       "      <td>2019-10-07 00:00:01</td>\n",
       "      <td>tips_show</td>\n",
       "      <td>020292ab-89bc-4156-9acf-68bc2783f894</td>\n",
       "    </tr>\n",
       "    <tr>\n",
       "      <th>2</th>\n",
       "      <td>2019-10-07 00:00:02</td>\n",
       "      <td>tips_show</td>\n",
       "      <td>cf7eda61-9349-469f-ac27-e5b6f5ec475c</td>\n",
       "    </tr>\n",
       "    <tr>\n",
       "      <th>3</th>\n",
       "      <td>2019-10-07 00:00:07</td>\n",
       "      <td>tips_show</td>\n",
       "      <td>020292ab-89bc-4156-9acf-68bc2783f894</td>\n",
       "    </tr>\n",
       "    <tr>\n",
       "      <th>4</th>\n",
       "      <td>2019-10-07 00:00:56</td>\n",
       "      <td>advert_open</td>\n",
       "      <td>cf7eda61-9349-469f-ac27-e5b6f5ec475c</td>\n",
       "    </tr>\n",
       "  </tbody>\n",
       "</table>\n",
       "</div>"
      ],
      "text/plain": [
       "           event_time   event_name                               user_id\n",
       "0 2019-10-07 00:00:00  advert_open  020292ab-89bc-4156-9acf-68bc2783f894\n",
       "1 2019-10-07 00:00:01  tips_show    020292ab-89bc-4156-9acf-68bc2783f894\n",
       "2 2019-10-07 00:00:02  tips_show    cf7eda61-9349-469f-ac27-e5b6f5ec475c\n",
       "3 2019-10-07 00:00:07  tips_show    020292ab-89bc-4156-9acf-68bc2783f894\n",
       "4 2019-10-07 00:00:56  advert_open  cf7eda61-9349-469f-ac27-e5b6f5ec475c"
      ]
     },
     "execution_count": 9,
     "metadata": {},
     "output_type": "execute_result"
    }
   ],
   "source": [
    "dataset['event_time'] = dataset['event_time'].astype('datetime64[s]')\n",
    "dataset.head()"
   ]
  },
  {
   "cell_type": "markdown",
   "metadata": {},
   "source": [
    "**Проверяю таблицы на наличие дубликатов**"
   ]
  },
  {
   "cell_type": "code",
   "execution_count": 10,
   "metadata": {},
   "outputs": [
    {
     "name": "stdout",
     "output_type": "stream",
     "text": [
      "Количество дубликатов: 1143\n"
     ]
    }
   ],
   "source": [
    "print('Количество дубликатов:',dataset.duplicated().sum())"
   ]
  },
  {
   "cell_type": "markdown",
   "metadata": {},
   "source": [
    "**Дубликаты появились после удаления милисекунд в `event_name`, чуть позже от них необходимо будет избавиться**"
   ]
  },
  {
   "cell_type": "markdown",
   "metadata": {},
   "source": [
    "**Объединяю обе таблицы в одну по столбцу `user_id`, чтобы в дальнейшем было проще работать**"
   ]
  },
  {
   "cell_type": "code",
   "execution_count": 11,
   "metadata": {},
   "outputs": [],
   "source": [
    "data = dataset.merge(sources, on='user_id', how='left')"
   ]
  },
  {
   "cell_type": "markdown",
   "metadata": {},
   "source": [
    "**Проверяю количество дубликатов после объединения двух таблиц**"
   ]
  },
  {
   "cell_type": "code",
   "execution_count": 12,
   "metadata": {},
   "outputs": [
    {
     "name": "stdout",
     "output_type": "stream",
     "text": [
      "Количество дубликатов: 1143\n"
     ]
    }
   ],
   "source": [
    "print('Количество дубликатов:',data.duplicated().sum())"
   ]
  },
  {
   "cell_type": "markdown",
   "metadata": {},
   "source": [
    "**Вывожу на экран сводную информацию о таблице**"
   ]
  },
  {
   "cell_type": "code",
   "execution_count": 13,
   "metadata": {},
   "outputs": [
    {
     "name": "stdout",
     "output_type": "stream",
     "text": [
      "<class 'pandas.core.frame.DataFrame'>\n",
      "Int64Index: 74197 entries, 0 to 74196\n",
      "Data columns (total 4 columns):\n",
      " #   Column      Non-Null Count  Dtype         \n",
      "---  ------      --------------  -----         \n",
      " 0   event_time  74197 non-null  datetime64[ns]\n",
      " 1   event_name  74197 non-null  object        \n",
      " 2   user_id     74197 non-null  object        \n",
      " 3   source      74197 non-null  object        \n",
      "dtypes: datetime64[ns](1), object(3)\n",
      "memory usage: 2.8+ MB\n"
     ]
    }
   ],
   "source": [
    "data.info()"
   ]
  },
  {
   "cell_type": "code",
   "execution_count": 14,
   "metadata": {
    "scrolled": true
   },
   "outputs": [
    {
     "name": "stdout",
     "output_type": "stream",
     "text": [
      "Процентное соотношение дубликатов к остальным данным: 1.54 %\n"
     ]
    }
   ],
   "source": [
    "print('Процентное соотношение дубликатов к остальным данным:',round(1143*100/74197, 2), '%')"
   ]
  },
  {
   "cell_type": "markdown",
   "metadata": {},
   "source": [
    "**Так как процент дубликатов составляет всего лишь 1,54, можно смело их удалить, не беспокоясь о большой потере в данных**"
   ]
  },
  {
   "cell_type": "markdown",
   "metadata": {},
   "source": [
    "**Удаляю дубликаты**"
   ]
  },
  {
   "cell_type": "code",
   "execution_count": 15,
   "metadata": {},
   "outputs": [],
   "source": [
    "data = data.drop_duplicates()"
   ]
  },
  {
   "cell_type": "markdown",
   "metadata": {},
   "source": [
    "**Вывожу на экран новую таблицу `data`, проверяю всю проделанную работу выше**"
   ]
  },
  {
   "cell_type": "code",
   "execution_count": 16,
   "metadata": {},
   "outputs": [
    {
     "data": {
      "text/html": [
       "<div>\n",
       "<style scoped>\n",
       "    .dataframe tbody tr th:only-of-type {\n",
       "        vertical-align: middle;\n",
       "    }\n",
       "\n",
       "    .dataframe tbody tr th {\n",
       "        vertical-align: top;\n",
       "    }\n",
       "\n",
       "    .dataframe thead th {\n",
       "        text-align: right;\n",
       "    }\n",
       "</style>\n",
       "<table border=\"1\" class=\"dataframe\">\n",
       "  <thead>\n",
       "    <tr style=\"text-align: right;\">\n",
       "      <th></th>\n",
       "      <th>event_time</th>\n",
       "      <th>event_name</th>\n",
       "      <th>user_id</th>\n",
       "      <th>source</th>\n",
       "    </tr>\n",
       "  </thead>\n",
       "  <tbody>\n",
       "    <tr>\n",
       "      <th>0</th>\n",
       "      <td>2019-10-07 00:00:00</td>\n",
       "      <td>advert_open</td>\n",
       "      <td>020292ab-89bc-4156-9acf-68bc2783f894</td>\n",
       "      <td>other</td>\n",
       "    </tr>\n",
       "    <tr>\n",
       "      <th>1</th>\n",
       "      <td>2019-10-07 00:00:01</td>\n",
       "      <td>tips_show</td>\n",
       "      <td>020292ab-89bc-4156-9acf-68bc2783f894</td>\n",
       "      <td>other</td>\n",
       "    </tr>\n",
       "    <tr>\n",
       "      <th>2</th>\n",
       "      <td>2019-10-07 00:00:02</td>\n",
       "      <td>tips_show</td>\n",
       "      <td>cf7eda61-9349-469f-ac27-e5b6f5ec475c</td>\n",
       "      <td>yandex</td>\n",
       "    </tr>\n",
       "    <tr>\n",
       "      <th>3</th>\n",
       "      <td>2019-10-07 00:00:07</td>\n",
       "      <td>tips_show</td>\n",
       "      <td>020292ab-89bc-4156-9acf-68bc2783f894</td>\n",
       "      <td>other</td>\n",
       "    </tr>\n",
       "    <tr>\n",
       "      <th>4</th>\n",
       "      <td>2019-10-07 00:00:56</td>\n",
       "      <td>advert_open</td>\n",
       "      <td>cf7eda61-9349-469f-ac27-e5b6f5ec475c</td>\n",
       "      <td>yandex</td>\n",
       "    </tr>\n",
       "    <tr>\n",
       "      <th>5</th>\n",
       "      <td>2019-10-07 00:01:19</td>\n",
       "      <td>tips_show</td>\n",
       "      <td>cf7eda61-9349-469f-ac27-e5b6f5ec475c</td>\n",
       "      <td>yandex</td>\n",
       "    </tr>\n",
       "    <tr>\n",
       "      <th>6</th>\n",
       "      <td>2019-10-07 00:01:27</td>\n",
       "      <td>advert_open</td>\n",
       "      <td>020292ab-89bc-4156-9acf-68bc2783f894</td>\n",
       "      <td>other</td>\n",
       "    </tr>\n",
       "    <tr>\n",
       "      <th>7</th>\n",
       "      <td>2019-10-07 00:01:34</td>\n",
       "      <td>tips_show</td>\n",
       "      <td>020292ab-89bc-4156-9acf-68bc2783f894</td>\n",
       "      <td>other</td>\n",
       "    </tr>\n",
       "    <tr>\n",
       "      <th>8</th>\n",
       "      <td>2019-10-07 00:01:49</td>\n",
       "      <td>advert_open</td>\n",
       "      <td>cf7eda61-9349-469f-ac27-e5b6f5ec475c</td>\n",
       "      <td>yandex</td>\n",
       "    </tr>\n",
       "    <tr>\n",
       "      <th>9</th>\n",
       "      <td>2019-10-07 00:01:54</td>\n",
       "      <td>advert_open</td>\n",
       "      <td>020292ab-89bc-4156-9acf-68bc2783f894</td>\n",
       "      <td>other</td>\n",
       "    </tr>\n",
       "  </tbody>\n",
       "</table>\n",
       "</div>"
      ],
      "text/plain": [
       "           event_time   event_name                               user_id  \\\n",
       "0 2019-10-07 00:00:00  advert_open  020292ab-89bc-4156-9acf-68bc2783f894   \n",
       "1 2019-10-07 00:00:01  tips_show    020292ab-89bc-4156-9acf-68bc2783f894   \n",
       "2 2019-10-07 00:00:02  tips_show    cf7eda61-9349-469f-ac27-e5b6f5ec475c   \n",
       "3 2019-10-07 00:00:07  tips_show    020292ab-89bc-4156-9acf-68bc2783f894   \n",
       "4 2019-10-07 00:00:56  advert_open  cf7eda61-9349-469f-ac27-e5b6f5ec475c   \n",
       "5 2019-10-07 00:01:19  tips_show    cf7eda61-9349-469f-ac27-e5b6f5ec475c   \n",
       "6 2019-10-07 00:01:27  advert_open  020292ab-89bc-4156-9acf-68bc2783f894   \n",
       "7 2019-10-07 00:01:34  tips_show    020292ab-89bc-4156-9acf-68bc2783f894   \n",
       "8 2019-10-07 00:01:49  advert_open  cf7eda61-9349-469f-ac27-e5b6f5ec475c   \n",
       "9 2019-10-07 00:01:54  advert_open  020292ab-89bc-4156-9acf-68bc2783f894   \n",
       "\n",
       "   source  \n",
       "0  other   \n",
       "1  other   \n",
       "2  yandex  \n",
       "3  other   \n",
       "4  yandex  \n",
       "5  yandex  \n",
       "6  other   \n",
       "7  other   \n",
       "8  yandex  \n",
       "9  other   "
      ]
     },
     "metadata": {},
     "output_type": "display_data"
    },
    {
     "name": "stdout",
     "output_type": "stream",
     "text": [
      "<class 'pandas.core.frame.DataFrame'>\n",
      "Int64Index: 73054 entries, 0 to 74196\n",
      "Data columns (total 4 columns):\n",
      " #   Column      Non-Null Count  Dtype         \n",
      "---  ------      --------------  -----         \n",
      " 0   event_time  73054 non-null  datetime64[ns]\n",
      " 1   event_name  73054 non-null  object        \n",
      " 2   user_id     73054 non-null  object        \n",
      " 3   source      73054 non-null  object        \n",
      "dtypes: datetime64[ns](1), object(3)\n",
      "memory usage: 2.8+ MB\n"
     ]
    }
   ],
   "source": [
    "display(data.head(10))\n",
    "data.info()"
   ]
  },
  {
   "cell_type": "markdown",
   "metadata": {},
   "source": [
    "**Таблицы объединены в одну, дубликаты отсутствуют, пропуски отсутствуют, типы данных и названия столбцов верные. Теперь необходимо поработать над названиями в столбцах**"
   ]
  },
  {
   "cell_type": "markdown",
   "metadata": {},
   "source": [
    "**Вывожу на экран уникальных пользователей в столбце `event_name`**"
   ]
  },
  {
   "cell_type": "code",
   "execution_count": 17,
   "metadata": {},
   "outputs": [
    {
     "data": {
      "text/plain": [
       "tips_show        39907\n",
       "photos_show      9352 \n",
       "advert_open      6146 \n",
       "contacts_show    4297 \n",
       "map              3749 \n",
       "search_1         3488 \n",
       "favorites_add    1414 \n",
       "search_5         1049 \n",
       "tips_click       811  \n",
       "search_4         701  \n",
       "contacts_call    534  \n",
       "search_3         521  \n",
       "search_6         460  \n",
       "search_2         324  \n",
       "search_7         222  \n",
       "show_contacts    79   \n",
       "Name: event_name, dtype: int64"
      ]
     },
     "execution_count": 17,
     "metadata": {},
     "output_type": "execute_result"
    }
   ],
   "source": [
    "data['event_name'].value_counts()"
   ]
  },
  {
   "cell_type": "markdown",
   "metadata": {},
   "source": [
    "**Переименовывю виды действий из стобца `event_name` с `search_1`-`search_7` в `search`**"
   ]
  },
  {
   "cell_type": "code",
   "execution_count": 18,
   "metadata": {},
   "outputs": [],
   "source": [
    "data['event_name'] = data['event_name'].str.replace('search_1', 'search', regex = True)\n",
    "data['event_name'] = data['event_name'].str.replace('search_2', 'search', regex = True)\n",
    "data['event_name'] = data['event_name'].str.replace('search_3', 'search', regex = True)\n",
    "data['event_name'] = data['event_name'].str.replace('search_4', 'search', regex = True)\n",
    "data['event_name'] = data['event_name'].str.replace('search_5', 'search', regex = True)\n",
    "data['event_name'] = data['event_name'].str.replace('search_6', 'search', regex = True)\n",
    "data['event_name'] = data['event_name'].str.replace('search_7', 'search', regex = True)"
   ]
  },
  {
   "cell_type": "markdown",
   "metadata": {},
   "source": [
    "**Переименовываю виды действий из стобца `event_name` с `show_contacts` в `contacts_show`, так как по описанию данных это одно и то же действие**"
   ]
  },
  {
   "cell_type": "code",
   "execution_count": 19,
   "metadata": {},
   "outputs": [],
   "source": [
    "data['event_name'] = data['event_name'].str.replace('show_contacts', 'contacts_show', regex = True)"
   ]
  },
  {
   "cell_type": "markdown",
   "metadata": {},
   "source": [
    "**Вывожу на экран столбец `event_name`, проверяю проделанную работу**"
   ]
  },
  {
   "cell_type": "markdown",
   "metadata": {},
   "source": [
    "**После объединения типов событий снова проверяю на наличие дубликатов**"
   ]
  },
  {
   "cell_type": "code",
   "execution_count": 20,
   "metadata": {},
   "outputs": [
    {
     "name": "stdout",
     "output_type": "stream",
     "text": [
      "Количество дубликатов: 81\n",
      "Процентное соотношение дубликатов к остальным данным: 0.11 %\n"
     ]
    }
   ],
   "source": [
    "print('Количество дубликатов:',data.duplicated().sum())\n",
    "print('Процентное соотношение дубликатов к остальным данным:',round(81*100/73054, 2), '%')"
   ]
  },
  {
   "cell_type": "markdown",
   "metadata": {},
   "source": [
    "**Процент дубликатов составляет всего лишь 0,11, снова удаляю дубликаты без большой потери в данных**"
   ]
  },
  {
   "cell_type": "code",
   "execution_count": 21,
   "metadata": {},
   "outputs": [],
   "source": [
    "data = data.drop_duplicates()"
   ]
  },
  {
   "cell_type": "markdown",
   "metadata": {},
   "source": [
    "**Проверяю таблицу на дубликаты**"
   ]
  },
  {
   "cell_type": "code",
   "execution_count": 22,
   "metadata": {},
   "outputs": [
    {
     "name": "stdout",
     "output_type": "stream",
     "text": [
      "Количество дубликатов: 0\n"
     ]
    }
   ],
   "source": [
    "print('Количество дубликатов:',data.duplicated().sum())"
   ]
  },
  {
   "cell_type": "code",
   "execution_count": 23,
   "metadata": {},
   "outputs": [
    {
     "data": {
      "text/plain": [
       "tips_show        39907\n",
       "photos_show      9352 \n",
       "search           6684 \n",
       "advert_open      6146 \n",
       "contacts_show    4376 \n",
       "map              3749 \n",
       "favorites_add    1414 \n",
       "tips_click       811  \n",
       "contacts_call    534  \n",
       "Name: event_name, dtype: int64"
      ]
     },
     "execution_count": 23,
     "metadata": {},
     "output_type": "execute_result"
    }
   ],
   "source": [
    "data['event_name'].value_counts()"
   ]
  },
  {
   "cell_type": "markdown",
   "metadata": {},
   "source": [
    "# Итог предобработки данных:\n",
    "* Объединены 2 таблицы в 1\n",
    "* Столбцы приведены к змеиному регистру и переименованы\n",
    "* Изменены типы данных\n",
    "* Таблица проверена на наличие пропусков (не обнаружено)\n",
    "* Таблица проверена на наличие дубликатов, дубликаты удалены\n",
    "* Типы события объединены в 1"
   ]
  },
  {
   "cell_type": "markdown",
   "metadata": {},
   "source": [
    "# Исследовательский анализ данных"
   ]
  },
  {
   "cell_type": "markdown",
   "metadata": {},
   "source": [
    "**Вывожу на экран число уникальных пользователей в таблице**"
   ]
  },
  {
   "cell_type": "code",
   "execution_count": 24,
   "metadata": {},
   "outputs": [
    {
     "data": {
      "text/plain": [
       "4293"
      ]
     },
     "execution_count": 24,
     "metadata": {},
     "output_type": "execute_result"
    }
   ],
   "source": [
    "data['user_id'].nunique()"
   ]
  },
  {
   "cell_type": "markdown",
   "metadata": {},
   "source": [
    "**Вывожу на экран самую первую и последнюю пользовательские сессии**"
   ]
  },
  {
   "cell_type": "code",
   "execution_count": 25,
   "metadata": {},
   "outputs": [
    {
     "data": {
      "text/plain": [
       "Timestamp('2019-10-07 00:00:00')"
      ]
     },
     "execution_count": 25,
     "metadata": {},
     "output_type": "execute_result"
    }
   ],
   "source": [
    "data['event_time'].min()"
   ]
  },
  {
   "cell_type": "code",
   "execution_count": 26,
   "metadata": {},
   "outputs": [
    {
     "data": {
      "text/plain": [
       "Timestamp('2019-11-03 23:58:12')"
      ]
     },
     "execution_count": 26,
     "metadata": {},
     "output_type": "execute_result"
    }
   ],
   "source": [
    "data['event_time'].max()"
   ]
  },
  {
   "cell_type": "markdown",
   "metadata": {},
   "source": [
    "**Первая пользовательская сессия была 7 октября в 00:00, последняя - 3 ноября в 23:58:12**"
   ]
  },
  {
   "cell_type": "markdown",
   "metadata": {},
   "source": [
    "**Строю гистограмму распределения события по датам**"
   ]
  },
  {
   "cell_type": "code",
   "execution_count": 27,
   "metadata": {},
   "outputs": [
    {
     "data": {
      "image/png": "[encoded data removed]",
      "text/plain": [
       "<Figure size 1440x360 with 1 Axes>"
      ]
     },
     "metadata": {
      "needs_background": "light"
     },
     "output_type": "display_data"
    }
   ],
   "source": [
    "data['event_time'].hist(bins=35, figsize =(20, 5))\n",
    "plt.title('Распределение событий по датам', fontsize=20)\n",
    "plt.xlabel('Даты', fontsize=18)\n",
    "plt.ylabel('Количество событий', fontsize=18)\n",
    "plt.show()"
   ]
  },
  {
   "cell_type": "markdown",
   "metadata": {},
   "source": [
    "**На графике заметен спад количества событий 12 октября, в остальном события циклично повторяются каждую неделю**"
   ]
  },
  {
   "cell_type": "markdown",
   "metadata": {},
   "source": [
    "# Анализирую время, проведённое пользователями в приложении"
   ]
  },
  {
   "cell_type": "markdown",
   "metadata": {},
   "source": [
    "**Добавляю в таблицу отдельный столбец с датой без времени, вывожу на экран таблицу**"
   ]
  },
  {
   "cell_type": "code",
   "execution_count": 28,
   "metadata": {},
   "outputs": [
    {
     "data": {
      "text/html": [
       "<div>\n",
       "<style scoped>\n",
       "    .dataframe tbody tr th:only-of-type {\n",
       "        vertical-align: middle;\n",
       "    }\n",
       "\n",
       "    .dataframe tbody tr th {\n",
       "        vertical-align: top;\n",
       "    }\n",
       "\n",
       "    .dataframe thead th {\n",
       "        text-align: right;\n",
       "    }\n",
       "</style>\n",
       "<table border=\"1\" class=\"dataframe\">\n",
       "  <thead>\n",
       "    <tr style=\"text-align: right;\">\n",
       "      <th></th>\n",
       "      <th>event_time</th>\n",
       "      <th>event_name</th>\n",
       "      <th>user_id</th>\n",
       "      <th>source</th>\n",
       "      <th>event_date</th>\n",
       "    </tr>\n",
       "  </thead>\n",
       "  <tbody>\n",
       "    <tr>\n",
       "      <th>0</th>\n",
       "      <td>2019-10-07 00:00:00</td>\n",
       "      <td>advert_open</td>\n",
       "      <td>020292ab-89bc-4156-9acf-68bc2783f894</td>\n",
       "      <td>other</td>\n",
       "      <td>2019-10-07</td>\n",
       "    </tr>\n",
       "    <tr>\n",
       "      <th>1</th>\n",
       "      <td>2019-10-07 00:00:01</td>\n",
       "      <td>tips_show</td>\n",
       "      <td>020292ab-89bc-4156-9acf-68bc2783f894</td>\n",
       "      <td>other</td>\n",
       "      <td>2019-10-07</td>\n",
       "    </tr>\n",
       "    <tr>\n",
       "      <th>2</th>\n",
       "      <td>2019-10-07 00:00:02</td>\n",
       "      <td>tips_show</td>\n",
       "      <td>cf7eda61-9349-469f-ac27-e5b6f5ec475c</td>\n",
       "      <td>yandex</td>\n",
       "      <td>2019-10-07</td>\n",
       "    </tr>\n",
       "    <tr>\n",
       "      <th>3</th>\n",
       "      <td>2019-10-07 00:00:07</td>\n",
       "      <td>tips_show</td>\n",
       "      <td>020292ab-89bc-4156-9acf-68bc2783f894</td>\n",
       "      <td>other</td>\n",
       "      <td>2019-10-07</td>\n",
       "    </tr>\n",
       "    <tr>\n",
       "      <th>4</th>\n",
       "      <td>2019-10-07 00:00:56</td>\n",
       "      <td>advert_open</td>\n",
       "      <td>cf7eda61-9349-469f-ac27-e5b6f5ec475c</td>\n",
       "      <td>yandex</td>\n",
       "      <td>2019-10-07</td>\n",
       "    </tr>\n",
       "    <tr>\n",
       "      <th>...</th>\n",
       "      <td>...</td>\n",
       "      <td>...</td>\n",
       "      <td>...</td>\n",
       "      <td>...</td>\n",
       "      <td>...</td>\n",
       "    </tr>\n",
       "    <tr>\n",
       "      <th>74192</th>\n",
       "      <td>2019-11-03 23:53:29</td>\n",
       "      <td>tips_show</td>\n",
       "      <td>28fccdf4-7b9e-42f5-bc73-439a265f20e9</td>\n",
       "      <td>google</td>\n",
       "      <td>2019-11-03</td>\n",
       "    </tr>\n",
       "    <tr>\n",
       "      <th>74193</th>\n",
       "      <td>2019-11-03 23:54:00</td>\n",
       "      <td>tips_show</td>\n",
       "      <td>28fccdf4-7b9e-42f5-bc73-439a265f20e9</td>\n",
       "      <td>google</td>\n",
       "      <td>2019-11-03</td>\n",
       "    </tr>\n",
       "    <tr>\n",
       "      <th>74194</th>\n",
       "      <td>2019-11-03 23:56:57</td>\n",
       "      <td>search</td>\n",
       "      <td>20850c8f-4135-4059-b13b-198d3ac59902</td>\n",
       "      <td>google</td>\n",
       "      <td>2019-11-03</td>\n",
       "    </tr>\n",
       "    <tr>\n",
       "      <th>74195</th>\n",
       "      <td>2019-11-03 23:57:06</td>\n",
       "      <td>tips_show</td>\n",
       "      <td>28fccdf4-7b9e-42f5-bc73-439a265f20e9</td>\n",
       "      <td>google</td>\n",
       "      <td>2019-11-03</td>\n",
       "    </tr>\n",
       "    <tr>\n",
       "      <th>74196</th>\n",
       "      <td>2019-11-03 23:58:12</td>\n",
       "      <td>tips_show</td>\n",
       "      <td>28fccdf4-7b9e-42f5-bc73-439a265f20e9</td>\n",
       "      <td>google</td>\n",
       "      <td>2019-11-03</td>\n",
       "    </tr>\n",
       "  </tbody>\n",
       "</table>\n",
       "<p>72973 rows × 5 columns</p>\n",
       "</div>"
      ],
      "text/plain": [
       "               event_time   event_name                               user_id  \\\n",
       "0     2019-10-07 00:00:00  advert_open  020292ab-89bc-4156-9acf-68bc2783f894   \n",
       "1     2019-10-07 00:00:01  tips_show    020292ab-89bc-4156-9acf-68bc2783f894   \n",
       "2     2019-10-07 00:00:02  tips_show    cf7eda61-9349-469f-ac27-e5b6f5ec475c   \n",
       "3     2019-10-07 00:00:07  tips_show    020292ab-89bc-4156-9acf-68bc2783f894   \n",
       "4     2019-10-07 00:00:56  advert_open  cf7eda61-9349-469f-ac27-e5b6f5ec475c   \n",
       "...                   ...          ...                                   ...   \n",
       "74192 2019-11-03 23:53:29  tips_show    28fccdf4-7b9e-42f5-bc73-439a265f20e9   \n",
       "74193 2019-11-03 23:54:00  tips_show    28fccdf4-7b9e-42f5-bc73-439a265f20e9   \n",
       "74194 2019-11-03 23:56:57  search       20850c8f-4135-4059-b13b-198d3ac59902   \n",
       "74195 2019-11-03 23:57:06  tips_show    28fccdf4-7b9e-42f5-bc73-439a265f20e9   \n",
       "74196 2019-11-03 23:58:12  tips_show    28fccdf4-7b9e-42f5-bc73-439a265f20e9   \n",
       "\n",
       "       source event_date  \n",
       "0      other  2019-10-07  \n",
       "1      other  2019-10-07  \n",
       "2      yandex 2019-10-07  \n",
       "3      other  2019-10-07  \n",
       "4      yandex 2019-10-07  \n",
       "...       ...        ...  \n",
       "74192  google 2019-11-03  \n",
       "74193  google 2019-11-03  \n",
       "74194  google 2019-11-03  \n",
       "74195  google 2019-11-03  \n",
       "74196  google 2019-11-03  \n",
       "\n",
       "[72973 rows x 5 columns]"
      ]
     },
     "execution_count": 28,
     "metadata": {},
     "output_type": "execute_result"
    }
   ],
   "source": [
    "data['event_date'] = data['event_time'].astype('datetime64[D]')\n",
    "data"
   ]
  },
  {
   "cell_type": "markdown",
   "metadata": {},
   "source": [
    "**Создаю таблицу длительности сессий, взяв 1 сессию максимум за 1 календарный день**"
   ]
  },
  {
   "cell_type": "markdown",
   "metadata": {},
   "source": [
    "**Создаю таблицы максимальных и минимальных значений времени в течение одного дня для уникального пользователя**"
   ]
  },
  {
   "cell_type": "code",
   "execution_count": 29,
   "metadata": {},
   "outputs": [],
   "source": [
    "session_min = data.groupby(['user_id', 'event_date'])['event_time'].agg('min').reset_index()\n",
    "session_max = data.groupby(['user_id', 'event_date'])['event_time'].agg('max').reset_index()"
   ]
  },
  {
   "cell_type": "markdown",
   "metadata": {},
   "source": [
    "**Объединяю обе таблицы в одну по столбцам `user_id` и `event_date`, переименовываю столбцы, вывожу таблицу на экран**"
   ]
  },
  {
   "cell_type": "code",
   "execution_count": 30,
   "metadata": {},
   "outputs": [
    {
     "data": {
      "text/html": [
       "<div>\n",
       "<style scoped>\n",
       "    .dataframe tbody tr th:only-of-type {\n",
       "        vertical-align: middle;\n",
       "    }\n",
       "\n",
       "    .dataframe tbody tr th {\n",
       "        vertical-align: top;\n",
       "    }\n",
       "\n",
       "    .dataframe thead th {\n",
       "        text-align: right;\n",
       "    }\n",
       "</style>\n",
       "<table border=\"1\" class=\"dataframe\">\n",
       "  <thead>\n",
       "    <tr style=\"text-align: right;\">\n",
       "      <th></th>\n",
       "      <th>user_id</th>\n",
       "      <th>event_date</th>\n",
       "      <th>event_time_max</th>\n",
       "      <th>event_time_min</th>\n",
       "    </tr>\n",
       "  </thead>\n",
       "  <tbody>\n",
       "    <tr>\n",
       "      <th>0</th>\n",
       "      <td>0001b1d5-b74a-4cbf-aeb0-7df5947bf349</td>\n",
       "      <td>2019-10-07</td>\n",
       "      <td>2019-10-07 13:49:41</td>\n",
       "      <td>2019-10-07 13:39:45</td>\n",
       "    </tr>\n",
       "    <tr>\n",
       "      <th>1</th>\n",
       "      <td>0001b1d5-b74a-4cbf-aeb0-7df5947bf349</td>\n",
       "      <td>2019-10-09</td>\n",
       "      <td>2019-10-09 18:42:22</td>\n",
       "      <td>2019-10-09 18:33:55</td>\n",
       "    </tr>\n",
       "    <tr>\n",
       "      <th>2</th>\n",
       "      <td>0001b1d5-b74a-4cbf-aeb0-7df5947bf349</td>\n",
       "      <td>2019-10-21</td>\n",
       "      <td>2019-10-21 20:07:30</td>\n",
       "      <td>2019-10-21 19:52:30</td>\n",
       "    </tr>\n",
       "    <tr>\n",
       "      <th>3</th>\n",
       "      <td>0001b1d5-b74a-4cbf-aeb0-7df5947bf349</td>\n",
       "      <td>2019-10-22</td>\n",
       "      <td>2019-10-22 11:30:52</td>\n",
       "      <td>2019-10-22 11:18:14</td>\n",
       "    </tr>\n",
       "    <tr>\n",
       "      <th>4</th>\n",
       "      <td>00157779-810c-4498-9e05-a1e9e3cedf93</td>\n",
       "      <td>2019-10-19</td>\n",
       "      <td>2019-10-19 21:59:54</td>\n",
       "      <td>2019-10-19 21:34:33</td>\n",
       "    </tr>\n",
       "    <tr>\n",
       "      <th>...</th>\n",
       "      <td>...</td>\n",
       "      <td>...</td>\n",
       "      <td>...</td>\n",
       "      <td>...</td>\n",
       "    </tr>\n",
       "    <tr>\n",
       "      <th>7812</th>\n",
       "      <td>fffb9e79-b927-4dbb-9b48-7fd09b23a62b</td>\n",
       "      <td>2019-10-29</td>\n",
       "      <td>2019-10-29 16:13:00</td>\n",
       "      <td>2019-10-29 13:58:47</td>\n",
       "    </tr>\n",
       "    <tr>\n",
       "      <th>7813</th>\n",
       "      <td>fffb9e79-b927-4dbb-9b48-7fd09b23a62b</td>\n",
       "      <td>2019-10-30</td>\n",
       "      <td>2019-10-30 11:31:45</td>\n",
       "      <td>2019-10-30 00:15:43</td>\n",
       "    </tr>\n",
       "    <tr>\n",
       "      <th>7814</th>\n",
       "      <td>fffb9e79-b927-4dbb-9b48-7fd09b23a62b</td>\n",
       "      <td>2019-11-01</td>\n",
       "      <td>2019-11-01 00:24:53</td>\n",
       "      <td>2019-11-01 00:24:31</td>\n",
       "    </tr>\n",
       "    <tr>\n",
       "      <th>7815</th>\n",
       "      <td>fffb9e79-b927-4dbb-9b48-7fd09b23a62b</td>\n",
       "      <td>2019-11-02</td>\n",
       "      <td>2019-11-02 19:30:50</td>\n",
       "      <td>2019-11-02 01:16:48</td>\n",
       "    </tr>\n",
       "    <tr>\n",
       "      <th>7816</th>\n",
       "      <td>fffb9e79-b927-4dbb-9b48-7fd09b23a62b</td>\n",
       "      <td>2019-11-03</td>\n",
       "      <td>2019-11-03 16:08:25</td>\n",
       "      <td>2019-11-03 14:32:55</td>\n",
       "    </tr>\n",
       "  </tbody>\n",
       "</table>\n",
       "<p>7817 rows × 4 columns</p>\n",
       "</div>"
      ],
      "text/plain": [
       "                                   user_id event_date      event_time_max  \\\n",
       "0     0001b1d5-b74a-4cbf-aeb0-7df5947bf349 2019-10-07 2019-10-07 13:49:41   \n",
       "1     0001b1d5-b74a-4cbf-aeb0-7df5947bf349 2019-10-09 2019-10-09 18:42:22   \n",
       "2     0001b1d5-b74a-4cbf-aeb0-7df5947bf349 2019-10-21 2019-10-21 20:07:30   \n",
       "3     0001b1d5-b74a-4cbf-aeb0-7df5947bf349 2019-10-22 2019-10-22 11:30:52   \n",
       "4     00157779-810c-4498-9e05-a1e9e3cedf93 2019-10-19 2019-10-19 21:59:54   \n",
       "...                                    ...        ...                 ...   \n",
       "7812  fffb9e79-b927-4dbb-9b48-7fd09b23a62b 2019-10-29 2019-10-29 16:13:00   \n",
       "7813  fffb9e79-b927-4dbb-9b48-7fd09b23a62b 2019-10-30 2019-10-30 11:31:45   \n",
       "7814  fffb9e79-b927-4dbb-9b48-7fd09b23a62b 2019-11-01 2019-11-01 00:24:53   \n",
       "7815  fffb9e79-b927-4dbb-9b48-7fd09b23a62b 2019-11-02 2019-11-02 19:30:50   \n",
       "7816  fffb9e79-b927-4dbb-9b48-7fd09b23a62b 2019-11-03 2019-11-03 16:08:25   \n",
       "\n",
       "          event_time_min  \n",
       "0    2019-10-07 13:39:45  \n",
       "1    2019-10-09 18:33:55  \n",
       "2    2019-10-21 19:52:30  \n",
       "3    2019-10-22 11:18:14  \n",
       "4    2019-10-19 21:34:33  \n",
       "...                  ...  \n",
       "7812 2019-10-29 13:58:47  \n",
       "7813 2019-10-30 00:15:43  \n",
       "7814 2019-11-01 00:24:31  \n",
       "7815 2019-11-02 01:16:48  \n",
       "7816 2019-11-03 14:32:55  \n",
       "\n",
       "[7817 rows x 4 columns]"
      ]
     },
     "execution_count": 30,
     "metadata": {},
     "output_type": "execute_result"
    }
   ],
   "source": [
    "session = session_max.merge(session_min, on = ['user_id', 'event_date'], how = 'left')\n",
    "session = session.rename(columns = {'event_time_x':'event_time_max', 'event_time_y':'event_time_min'})\n",
    "session"
   ]
  },
  {
   "cell_type": "markdown",
   "metadata": {},
   "source": [
    "**Создаю столбец с разницей максимального и минимального значения длительности действий в приложении уникальным пользователем в течение дня, вывожу таблицу на экран**"
   ]
  },
  {
   "cell_type": "code",
   "execution_count": 31,
   "metadata": {},
   "outputs": [
    {
     "data": {
      "text/html": [
       "<div>\n",
       "<style scoped>\n",
       "    .dataframe tbody tr th:only-of-type {\n",
       "        vertical-align: middle;\n",
       "    }\n",
       "\n",
       "    .dataframe tbody tr th {\n",
       "        vertical-align: top;\n",
       "    }\n",
       "\n",
       "    .dataframe thead th {\n",
       "        text-align: right;\n",
       "    }\n",
       "</style>\n",
       "<table border=\"1\" class=\"dataframe\">\n",
       "  <thead>\n",
       "    <tr style=\"text-align: right;\">\n",
       "      <th></th>\n",
       "      <th>user_id</th>\n",
       "      <th>event_date</th>\n",
       "      <th>event_time_max</th>\n",
       "      <th>event_time_min</th>\n",
       "      <th>session_duration</th>\n",
       "    </tr>\n",
       "  </thead>\n",
       "  <tbody>\n",
       "    <tr>\n",
       "      <th>0</th>\n",
       "      <td>0001b1d5-b74a-4cbf-aeb0-7df5947bf349</td>\n",
       "      <td>2019-10-07</td>\n",
       "      <td>2019-10-07 13:49:41</td>\n",
       "      <td>2019-10-07 13:39:45</td>\n",
       "      <td>596</td>\n",
       "    </tr>\n",
       "    <tr>\n",
       "      <th>1</th>\n",
       "      <td>0001b1d5-b74a-4cbf-aeb0-7df5947bf349</td>\n",
       "      <td>2019-10-09</td>\n",
       "      <td>2019-10-09 18:42:22</td>\n",
       "      <td>2019-10-09 18:33:55</td>\n",
       "      <td>507</td>\n",
       "    </tr>\n",
       "    <tr>\n",
       "      <th>2</th>\n",
       "      <td>0001b1d5-b74a-4cbf-aeb0-7df5947bf349</td>\n",
       "      <td>2019-10-21</td>\n",
       "      <td>2019-10-21 20:07:30</td>\n",
       "      <td>2019-10-21 19:52:30</td>\n",
       "      <td>900</td>\n",
       "    </tr>\n",
       "    <tr>\n",
       "      <th>3</th>\n",
       "      <td>0001b1d5-b74a-4cbf-aeb0-7df5947bf349</td>\n",
       "      <td>2019-10-22</td>\n",
       "      <td>2019-10-22 11:30:52</td>\n",
       "      <td>2019-10-22 11:18:14</td>\n",
       "      <td>758</td>\n",
       "    </tr>\n",
       "    <tr>\n",
       "      <th>4</th>\n",
       "      <td>00157779-810c-4498-9e05-a1e9e3cedf93</td>\n",
       "      <td>2019-10-19</td>\n",
       "      <td>2019-10-19 21:59:54</td>\n",
       "      <td>2019-10-19 21:34:33</td>\n",
       "      <td>1521</td>\n",
       "    </tr>\n",
       "    <tr>\n",
       "      <th>...</th>\n",
       "      <td>...</td>\n",
       "      <td>...</td>\n",
       "      <td>...</td>\n",
       "      <td>...</td>\n",
       "      <td>...</td>\n",
       "    </tr>\n",
       "    <tr>\n",
       "      <th>7812</th>\n",
       "      <td>fffb9e79-b927-4dbb-9b48-7fd09b23a62b</td>\n",
       "      <td>2019-10-29</td>\n",
       "      <td>2019-10-29 16:13:00</td>\n",
       "      <td>2019-10-29 13:58:47</td>\n",
       "      <td>8053</td>\n",
       "    </tr>\n",
       "    <tr>\n",
       "      <th>7813</th>\n",
       "      <td>fffb9e79-b927-4dbb-9b48-7fd09b23a62b</td>\n",
       "      <td>2019-10-30</td>\n",
       "      <td>2019-10-30 11:31:45</td>\n",
       "      <td>2019-10-30 00:15:43</td>\n",
       "      <td>40562</td>\n",
       "    </tr>\n",
       "    <tr>\n",
       "      <th>7814</th>\n",
       "      <td>fffb9e79-b927-4dbb-9b48-7fd09b23a62b</td>\n",
       "      <td>2019-11-01</td>\n",
       "      <td>2019-11-01 00:24:53</td>\n",
       "      <td>2019-11-01 00:24:31</td>\n",
       "      <td>22</td>\n",
       "    </tr>\n",
       "    <tr>\n",
       "      <th>7815</th>\n",
       "      <td>fffb9e79-b927-4dbb-9b48-7fd09b23a62b</td>\n",
       "      <td>2019-11-02</td>\n",
       "      <td>2019-11-02 19:30:50</td>\n",
       "      <td>2019-11-02 01:16:48</td>\n",
       "      <td>65642</td>\n",
       "    </tr>\n",
       "    <tr>\n",
       "      <th>7816</th>\n",
       "      <td>fffb9e79-b927-4dbb-9b48-7fd09b23a62b</td>\n",
       "      <td>2019-11-03</td>\n",
       "      <td>2019-11-03 16:08:25</td>\n",
       "      <td>2019-11-03 14:32:55</td>\n",
       "      <td>5730</td>\n",
       "    </tr>\n",
       "  </tbody>\n",
       "</table>\n",
       "<p>7817 rows × 5 columns</p>\n",
       "</div>"
      ],
      "text/plain": [
       "                                   user_id event_date      event_time_max  \\\n",
       "0     0001b1d5-b74a-4cbf-aeb0-7df5947bf349 2019-10-07 2019-10-07 13:49:41   \n",
       "1     0001b1d5-b74a-4cbf-aeb0-7df5947bf349 2019-10-09 2019-10-09 18:42:22   \n",
       "2     0001b1d5-b74a-4cbf-aeb0-7df5947bf349 2019-10-21 2019-10-21 20:07:30   \n",
       "3     0001b1d5-b74a-4cbf-aeb0-7df5947bf349 2019-10-22 2019-10-22 11:30:52   \n",
       "4     00157779-810c-4498-9e05-a1e9e3cedf93 2019-10-19 2019-10-19 21:59:54   \n",
       "...                                    ...        ...                 ...   \n",
       "7812  fffb9e79-b927-4dbb-9b48-7fd09b23a62b 2019-10-29 2019-10-29 16:13:00   \n",
       "7813  fffb9e79-b927-4dbb-9b48-7fd09b23a62b 2019-10-30 2019-10-30 11:31:45   \n",
       "7814  fffb9e79-b927-4dbb-9b48-7fd09b23a62b 2019-11-01 2019-11-01 00:24:53   \n",
       "7815  fffb9e79-b927-4dbb-9b48-7fd09b23a62b 2019-11-02 2019-11-02 19:30:50   \n",
       "7816  fffb9e79-b927-4dbb-9b48-7fd09b23a62b 2019-11-03 2019-11-03 16:08:25   \n",
       "\n",
       "          event_time_min  session_duration  \n",
       "0    2019-10-07 13:39:45  596               \n",
       "1    2019-10-09 18:33:55  507               \n",
       "2    2019-10-21 19:52:30  900               \n",
       "3    2019-10-22 11:18:14  758               \n",
       "4    2019-10-19 21:34:33  1521              \n",
       "...                  ...   ...              \n",
       "7812 2019-10-29 13:58:47  8053              \n",
       "7813 2019-10-30 00:15:43  40562             \n",
       "7814 2019-11-01 00:24:31  22                \n",
       "7815 2019-11-02 01:16:48  65642             \n",
       "7816 2019-11-03 14:32:55  5730              \n",
       "\n",
       "[7817 rows x 5 columns]"
      ]
     },
     "execution_count": 31,
     "metadata": {},
     "output_type": "execute_result"
    }
   ],
   "source": [
    "session['session_duration'] = (session['event_time_max'] - session['event_time_min']).dt.seconds\n",
    "session"
   ]
  },
  {
   "cell_type": "markdown",
   "metadata": {},
   "source": [
    "**Создаю столбец, в котором перевожу значения длительности сессии из секунд в минуты, вывожу таблицу на экран**"
   ]
  },
  {
   "cell_type": "code",
   "execution_count": 32,
   "metadata": {},
   "outputs": [
    {
     "data": {
      "text/html": [
       "<div>\n",
       "<style scoped>\n",
       "    .dataframe tbody tr th:only-of-type {\n",
       "        vertical-align: middle;\n",
       "    }\n",
       "\n",
       "    .dataframe tbody tr th {\n",
       "        vertical-align: top;\n",
       "    }\n",
       "\n",
       "    .dataframe thead th {\n",
       "        text-align: right;\n",
       "    }\n",
       "</style>\n",
       "<table border=\"1\" class=\"dataframe\">\n",
       "  <thead>\n",
       "    <tr style=\"text-align: right;\">\n",
       "      <th></th>\n",
       "      <th>user_id</th>\n",
       "      <th>event_date</th>\n",
       "      <th>event_time_max</th>\n",
       "      <th>event_time_min</th>\n",
       "      <th>session_duration</th>\n",
       "      <th>session_duration_minute</th>\n",
       "    </tr>\n",
       "  </thead>\n",
       "  <tbody>\n",
       "    <tr>\n",
       "      <th>0</th>\n",
       "      <td>0001b1d5-b74a-4cbf-aeb0-7df5947bf349</td>\n",
       "      <td>2019-10-07</td>\n",
       "      <td>2019-10-07 13:49:41</td>\n",
       "      <td>2019-10-07 13:39:45</td>\n",
       "      <td>596</td>\n",
       "      <td>9.9</td>\n",
       "    </tr>\n",
       "    <tr>\n",
       "      <th>1</th>\n",
       "      <td>0001b1d5-b74a-4cbf-aeb0-7df5947bf349</td>\n",
       "      <td>2019-10-09</td>\n",
       "      <td>2019-10-09 18:42:22</td>\n",
       "      <td>2019-10-09 18:33:55</td>\n",
       "      <td>507</td>\n",
       "      <td>8.4</td>\n",
       "    </tr>\n",
       "    <tr>\n",
       "      <th>2</th>\n",
       "      <td>0001b1d5-b74a-4cbf-aeb0-7df5947bf349</td>\n",
       "      <td>2019-10-21</td>\n",
       "      <td>2019-10-21 20:07:30</td>\n",
       "      <td>2019-10-21 19:52:30</td>\n",
       "      <td>900</td>\n",
       "      <td>15.0</td>\n",
       "    </tr>\n",
       "    <tr>\n",
       "      <th>3</th>\n",
       "      <td>0001b1d5-b74a-4cbf-aeb0-7df5947bf349</td>\n",
       "      <td>2019-10-22</td>\n",
       "      <td>2019-10-22 11:30:52</td>\n",
       "      <td>2019-10-22 11:18:14</td>\n",
       "      <td>758</td>\n",
       "      <td>12.6</td>\n",
       "    </tr>\n",
       "    <tr>\n",
       "      <th>4</th>\n",
       "      <td>00157779-810c-4498-9e05-a1e9e3cedf93</td>\n",
       "      <td>2019-10-19</td>\n",
       "      <td>2019-10-19 21:59:54</td>\n",
       "      <td>2019-10-19 21:34:33</td>\n",
       "      <td>1521</td>\n",
       "      <td>25.4</td>\n",
       "    </tr>\n",
       "    <tr>\n",
       "      <th>...</th>\n",
       "      <td>...</td>\n",
       "      <td>...</td>\n",
       "      <td>...</td>\n",
       "      <td>...</td>\n",
       "      <td>...</td>\n",
       "      <td>...</td>\n",
       "    </tr>\n",
       "    <tr>\n",
       "      <th>7812</th>\n",
       "      <td>fffb9e79-b927-4dbb-9b48-7fd09b23a62b</td>\n",
       "      <td>2019-10-29</td>\n",
       "      <td>2019-10-29 16:13:00</td>\n",
       "      <td>2019-10-29 13:58:47</td>\n",
       "      <td>8053</td>\n",
       "      <td>134.2</td>\n",
       "    </tr>\n",
       "    <tr>\n",
       "      <th>7813</th>\n",
       "      <td>fffb9e79-b927-4dbb-9b48-7fd09b23a62b</td>\n",
       "      <td>2019-10-30</td>\n",
       "      <td>2019-10-30 11:31:45</td>\n",
       "      <td>2019-10-30 00:15:43</td>\n",
       "      <td>40562</td>\n",
       "      <td>676.0</td>\n",
       "    </tr>\n",
       "    <tr>\n",
       "      <th>7814</th>\n",
       "      <td>fffb9e79-b927-4dbb-9b48-7fd09b23a62b</td>\n",
       "      <td>2019-11-01</td>\n",
       "      <td>2019-11-01 00:24:53</td>\n",
       "      <td>2019-11-01 00:24:31</td>\n",
       "      <td>22</td>\n",
       "      <td>0.4</td>\n",
       "    </tr>\n",
       "    <tr>\n",
       "      <th>7815</th>\n",
       "      <td>fffb9e79-b927-4dbb-9b48-7fd09b23a62b</td>\n",
       "      <td>2019-11-02</td>\n",
       "      <td>2019-11-02 19:30:50</td>\n",
       "      <td>2019-11-02 01:16:48</td>\n",
       "      <td>65642</td>\n",
       "      <td>1094.0</td>\n",
       "    </tr>\n",
       "    <tr>\n",
       "      <th>7816</th>\n",
       "      <td>fffb9e79-b927-4dbb-9b48-7fd09b23a62b</td>\n",
       "      <td>2019-11-03</td>\n",
       "      <td>2019-11-03 16:08:25</td>\n",
       "      <td>2019-11-03 14:32:55</td>\n",
       "      <td>5730</td>\n",
       "      <td>95.5</td>\n",
       "    </tr>\n",
       "  </tbody>\n",
       "</table>\n",
       "<p>7817 rows × 6 columns</p>\n",
       "</div>"
      ],
      "text/plain": [
       "                                   user_id event_date      event_time_max  \\\n",
       "0     0001b1d5-b74a-4cbf-aeb0-7df5947bf349 2019-10-07 2019-10-07 13:49:41   \n",
       "1     0001b1d5-b74a-4cbf-aeb0-7df5947bf349 2019-10-09 2019-10-09 18:42:22   \n",
       "2     0001b1d5-b74a-4cbf-aeb0-7df5947bf349 2019-10-21 2019-10-21 20:07:30   \n",
       "3     0001b1d5-b74a-4cbf-aeb0-7df5947bf349 2019-10-22 2019-10-22 11:30:52   \n",
       "4     00157779-810c-4498-9e05-a1e9e3cedf93 2019-10-19 2019-10-19 21:59:54   \n",
       "...                                    ...        ...                 ...   \n",
       "7812  fffb9e79-b927-4dbb-9b48-7fd09b23a62b 2019-10-29 2019-10-29 16:13:00   \n",
       "7813  fffb9e79-b927-4dbb-9b48-7fd09b23a62b 2019-10-30 2019-10-30 11:31:45   \n",
       "7814  fffb9e79-b927-4dbb-9b48-7fd09b23a62b 2019-11-01 2019-11-01 00:24:53   \n",
       "7815  fffb9e79-b927-4dbb-9b48-7fd09b23a62b 2019-11-02 2019-11-02 19:30:50   \n",
       "7816  fffb9e79-b927-4dbb-9b48-7fd09b23a62b 2019-11-03 2019-11-03 16:08:25   \n",
       "\n",
       "          event_time_min  session_duration  session_duration_minute  \n",
       "0    2019-10-07 13:39:45  596               9.9                      \n",
       "1    2019-10-09 18:33:55  507               8.4                      \n",
       "2    2019-10-21 19:52:30  900               15.0                     \n",
       "3    2019-10-22 11:18:14  758               12.6                     \n",
       "4    2019-10-19 21:34:33  1521              25.4                     \n",
       "...                  ...   ...               ...                     \n",
       "7812 2019-10-29 13:58:47  8053              134.2                    \n",
       "7813 2019-10-30 00:15:43  40562             676.0                    \n",
       "7814 2019-11-01 00:24:31  22                0.4                      \n",
       "7815 2019-11-02 01:16:48  65642             1094.0                   \n",
       "7816 2019-11-03 14:32:55  5730              95.5                     \n",
       "\n",
       "[7817 rows x 6 columns]"
      ]
     },
     "execution_count": 32,
     "metadata": {},
     "output_type": "execute_result"
    }
   ],
   "source": [
    "session['session_duration_minute'] = (session['session_duration']/60).round(1)\n",
    "session"
   ]
  },
  {
   "cell_type": "markdown",
   "metadata": {},
   "source": [
    "**Вывожу на экран числовое описание данных для `session['session_duration_minute']`**"
   ]
  },
  {
   "cell_type": "code",
   "execution_count": 33,
   "metadata": {},
   "outputs": [
    {
     "data": {
      "text/plain": [
       "count    7817.0\n",
       "mean     83.0  \n",
       "std      190.2 \n",
       "min      0.0   \n",
       "25%      2.5   \n",
       "50%      11.8  \n",
       "75%      48.8  \n",
       "max      1417.5\n",
       "Name: session_duration_minute, dtype: float64"
      ]
     },
     "execution_count": 33,
     "metadata": {},
     "output_type": "execute_result"
    }
   ],
   "source": [
    "session['session_duration_minute'].describe().round(1)"
   ]
  },
  {
   "cell_type": "markdown",
   "metadata": {},
   "source": [
    "**Строю гистограмму длительности сессий в зависимости от числа пользователей**"
   ]
  },
  {
   "cell_type": "code",
   "execution_count": 34,
   "metadata": {},
   "outputs": [
    {
     "data": {
      "image/png": "[encoded data removed]",
      "text/plain": [
       "<Figure size 720x360 with 1 Axes>"
      ]
     },
     "metadata": {
      "needs_background": "light"
     },
     "output_type": "display_data"
    }
   ],
   "source": [
    "session['session_duration'].hist(bins=35, figsize =(10, 5))\n",
    "plt.title('Распределение длительности сессий', fontsize=20)\n",
    "plt.xlabel('Пользовательская сессия', fontsize=18)\n",
    "plt.ylabel('Количество пользователей', fontsize=18)\n",
    "plt.show()"
   ]
  },
  {
   "cell_type": "markdown",
   "metadata": {},
   "source": [
    "**Судя по результатам, максимальная длительность сессии в сутки составила почти 1417 минут, 25% пользователей тратят в сутки 2.5 минуты, 50% пользоваталей пользуются приложением всего 11.8 минут в сутки, 75% пользователей пользуются приложением 48.8 минут в сутки**"
   ]
  },
  {
   "cell_type": "markdown",
   "metadata": {},
   "source": [
    "# Анализирую частоту совершаемых действий в приложении"
   ]
  },
  {
   "cell_type": "markdown",
   "metadata": {},
   "source": [
    "**Вывожу на экран количество уникальных значений каждого типа действий**"
   ]
  },
  {
   "cell_type": "code",
   "execution_count": 35,
   "metadata": {},
   "outputs": [
    {
     "data": {
      "text/plain": [
       "tips_show        39907\n",
       "photos_show      9352 \n",
       "search           6684 \n",
       "advert_open      6146 \n",
       "contacts_show    4376 \n",
       "map              3749 \n",
       "favorites_add    1414 \n",
       "tips_click       811  \n",
       "contacts_call    534  \n",
       "Name: event_name, dtype: int64"
      ]
     },
     "execution_count": 35,
     "metadata": {},
     "output_type": "execute_result"
    }
   ],
   "source": [
    "frequency = data['event_name'].value_counts()\n",
    "frequency"
   ]
  },
  {
   "cell_type": "markdown",
   "metadata": {},
   "source": [
    "**Строю гистограмму частоты совершаемых действий в приложении**"
   ]
  },
  {
   "cell_type": "code",
   "execution_count": 36,
   "metadata": {},
   "outputs": [
    {
     "data": {
      "image/png": "[encoded data removed]",
      "text/plain": [
       "<Figure size 1080x720 with 1 Axes>"
      ]
     },
     "metadata": {
      "needs_background": "light"
     },
     "output_type": "display_data"
    }
   ],
   "source": [
    "frequency.plot(kind='bar', figsize=(15, 10))\n",
    "plt.title('Частота совершаемых действий', fontsize=20)\n",
    "plt.xlabel('Тип действия', fontsize=18)\n",
    "plt.ylabel('Количество событий', fontsize=18)\n",
    "plt.xticks(rotation=45)\n",
    "plt.show()"
   ]
  },
  {
   "cell_type": "markdown",
   "metadata": {},
   "source": [
    "**Топ 3 самых частых совершаемых действий пользователей в приложении:**\n",
    "* увидел рекомендованные объявления\n",
    "* просмотрел фотографий в объявлении\n",
    "* разные действия, связанные с поиском по сайту"
   ]
  },
  {
   "cell_type": "markdown",
   "metadata": {},
   "source": [
    "**Пользователи видят рекомендованные объялвения более, чем в 4 раз чаще, чем любое другое действие в приложении**"
   ]
  },
  {
   "cell_type": "markdown",
   "metadata": {},
   "source": [
    "# Рассчитываю Retention Rate"
   ]
  },
  {
   "cell_type": "markdown",
   "metadata": {},
   "source": [
    "**Создаю таблицу `first_event`, в которой определяю, когда каждый пользователь впервые совершил действие в приложении, вывожу её на экран, называю столбец с минимальной датой совершённого действия `start_dt`**"
   ]
  },
  {
   "cell_type": "code",
   "execution_count": 37,
   "metadata": {},
   "outputs": [
    {
     "data": {
      "text/plain": [
       "user_id\n",
       "0001b1d5-b74a-4cbf-aeb0-7df5947bf349   2019-10-07\n",
       "00157779-810c-4498-9e05-a1e9e3cedf93   2019-10-19\n",
       "00463033-5717-4bf1-91b4-09183923b9df   2019-11-01\n",
       "004690c3-5a84-4bb7-a8af-e0c8f8fca64e   2019-10-18\n",
       "00551e79-152e-4441-9cf7-565d7eb04090   2019-10-25\n",
       "                                          ...    \n",
       "ffab8d8a-30bb-424a-a3ab-0b63ebbf7b07   2019-10-13\n",
       "ffc01466-fdb1-4460-ae94-e800f52eb136   2019-10-07\n",
       "ffcf50d9-293c-4254-8243-4890b030b238   2019-10-23\n",
       "ffe68f10-e48e-470e-be9b-eeb93128ff1a   2019-10-21\n",
       "fffb9e79-b927-4dbb-9b48-7fd09b23a62b   2019-10-12\n",
       "Name: start_dt, Length: 4293, dtype: datetime64[ns]"
      ]
     },
     "execution_count": 37,
     "metadata": {},
     "output_type": "execute_result"
    }
   ],
   "source": [
    "first_event = data.groupby(['user_id'])['event_date'].min()\n",
    "first_event.name = 'start_dt'\n",
    "first_event"
   ]
  },
  {
   "cell_type": "markdown",
   "metadata": {},
   "source": [
    "**Создаю новую таблицу, объеденив в ней по столбцу `user_id` таблицы `data` и `first_event`, вывожу её на экран**"
   ]
  },
  {
   "cell_type": "code",
   "execution_count": 38,
   "metadata": {},
   "outputs": [
    {
     "data": {
      "text/html": [
       "<div>\n",
       "<style scoped>\n",
       "    .dataframe tbody tr th:only-of-type {\n",
       "        vertical-align: middle;\n",
       "    }\n",
       "\n",
       "    .dataframe tbody tr th {\n",
       "        vertical-align: top;\n",
       "    }\n",
       "\n",
       "    .dataframe thead th {\n",
       "        text-align: right;\n",
       "    }\n",
       "</style>\n",
       "<table border=\"1\" class=\"dataframe\">\n",
       "  <thead>\n",
       "    <tr style=\"text-align: right;\">\n",
       "      <th></th>\n",
       "      <th>event_time</th>\n",
       "      <th>event_name</th>\n",
       "      <th>user_id</th>\n",
       "      <th>source</th>\n",
       "      <th>event_date</th>\n",
       "      <th>start_dt</th>\n",
       "    </tr>\n",
       "  </thead>\n",
       "  <tbody>\n",
       "    <tr>\n",
       "      <th>0</th>\n",
       "      <td>2019-10-07 00:00:00</td>\n",
       "      <td>advert_open</td>\n",
       "      <td>020292ab-89bc-4156-9acf-68bc2783f894</td>\n",
       "      <td>other</td>\n",
       "      <td>2019-10-07</td>\n",
       "      <td>2019-10-07</td>\n",
       "    </tr>\n",
       "    <tr>\n",
       "      <th>1</th>\n",
       "      <td>2019-10-07 00:00:01</td>\n",
       "      <td>tips_show</td>\n",
       "      <td>020292ab-89bc-4156-9acf-68bc2783f894</td>\n",
       "      <td>other</td>\n",
       "      <td>2019-10-07</td>\n",
       "      <td>2019-10-07</td>\n",
       "    </tr>\n",
       "    <tr>\n",
       "      <th>2</th>\n",
       "      <td>2019-10-07 00:00:02</td>\n",
       "      <td>tips_show</td>\n",
       "      <td>cf7eda61-9349-469f-ac27-e5b6f5ec475c</td>\n",
       "      <td>yandex</td>\n",
       "      <td>2019-10-07</td>\n",
       "      <td>2019-10-07</td>\n",
       "    </tr>\n",
       "    <tr>\n",
       "      <th>3</th>\n",
       "      <td>2019-10-07 00:00:07</td>\n",
       "      <td>tips_show</td>\n",
       "      <td>020292ab-89bc-4156-9acf-68bc2783f894</td>\n",
       "      <td>other</td>\n",
       "      <td>2019-10-07</td>\n",
       "      <td>2019-10-07</td>\n",
       "    </tr>\n",
       "    <tr>\n",
       "      <th>4</th>\n",
       "      <td>2019-10-07 00:00:56</td>\n",
       "      <td>advert_open</td>\n",
       "      <td>cf7eda61-9349-469f-ac27-e5b6f5ec475c</td>\n",
       "      <td>yandex</td>\n",
       "      <td>2019-10-07</td>\n",
       "      <td>2019-10-07</td>\n",
       "    </tr>\n",
       "    <tr>\n",
       "      <th>...</th>\n",
       "      <td>...</td>\n",
       "      <td>...</td>\n",
       "      <td>...</td>\n",
       "      <td>...</td>\n",
       "      <td>...</td>\n",
       "      <td>...</td>\n",
       "    </tr>\n",
       "    <tr>\n",
       "      <th>72968</th>\n",
       "      <td>2019-11-03 23:53:29</td>\n",
       "      <td>tips_show</td>\n",
       "      <td>28fccdf4-7b9e-42f5-bc73-439a265f20e9</td>\n",
       "      <td>google</td>\n",
       "      <td>2019-11-03</td>\n",
       "      <td>2019-10-16</td>\n",
       "    </tr>\n",
       "    <tr>\n",
       "      <th>72969</th>\n",
       "      <td>2019-11-03 23:54:00</td>\n",
       "      <td>tips_show</td>\n",
       "      <td>28fccdf4-7b9e-42f5-bc73-439a265f20e9</td>\n",
       "      <td>google</td>\n",
       "      <td>2019-11-03</td>\n",
       "      <td>2019-10-16</td>\n",
       "    </tr>\n",
       "    <tr>\n",
       "      <th>72970</th>\n",
       "      <td>2019-11-03 23:56:57</td>\n",
       "      <td>search</td>\n",
       "      <td>20850c8f-4135-4059-b13b-198d3ac59902</td>\n",
       "      <td>google</td>\n",
       "      <td>2019-11-03</td>\n",
       "      <td>2019-10-27</td>\n",
       "    </tr>\n",
       "    <tr>\n",
       "      <th>72971</th>\n",
       "      <td>2019-11-03 23:57:06</td>\n",
       "      <td>tips_show</td>\n",
       "      <td>28fccdf4-7b9e-42f5-bc73-439a265f20e9</td>\n",
       "      <td>google</td>\n",
       "      <td>2019-11-03</td>\n",
       "      <td>2019-10-16</td>\n",
       "    </tr>\n",
       "    <tr>\n",
       "      <th>72972</th>\n",
       "      <td>2019-11-03 23:58:12</td>\n",
       "      <td>tips_show</td>\n",
       "      <td>28fccdf4-7b9e-42f5-bc73-439a265f20e9</td>\n",
       "      <td>google</td>\n",
       "      <td>2019-11-03</td>\n",
       "      <td>2019-10-16</td>\n",
       "    </tr>\n",
       "  </tbody>\n",
       "</table>\n",
       "<p>72973 rows × 6 columns</p>\n",
       "</div>"
      ],
      "text/plain": [
       "               event_time   event_name                               user_id  \\\n",
       "0     2019-10-07 00:00:00  advert_open  020292ab-89bc-4156-9acf-68bc2783f894   \n",
       "1     2019-10-07 00:00:01  tips_show    020292ab-89bc-4156-9acf-68bc2783f894   \n",
       "2     2019-10-07 00:00:02  tips_show    cf7eda61-9349-469f-ac27-e5b6f5ec475c   \n",
       "3     2019-10-07 00:00:07  tips_show    020292ab-89bc-4156-9acf-68bc2783f894   \n",
       "4     2019-10-07 00:00:56  advert_open  cf7eda61-9349-469f-ac27-e5b6f5ec475c   \n",
       "...                   ...          ...                                   ...   \n",
       "72968 2019-11-03 23:53:29  tips_show    28fccdf4-7b9e-42f5-bc73-439a265f20e9   \n",
       "72969 2019-11-03 23:54:00  tips_show    28fccdf4-7b9e-42f5-bc73-439a265f20e9   \n",
       "72970 2019-11-03 23:56:57  search       20850c8f-4135-4059-b13b-198d3ac59902   \n",
       "72971 2019-11-03 23:57:06  tips_show    28fccdf4-7b9e-42f5-bc73-439a265f20e9   \n",
       "72972 2019-11-03 23:58:12  tips_show    28fccdf4-7b9e-42f5-bc73-439a265f20e9   \n",
       "\n",
       "       source event_date   start_dt  \n",
       "0      other  2019-10-07 2019-10-07  \n",
       "1      other  2019-10-07 2019-10-07  \n",
       "2      yandex 2019-10-07 2019-10-07  \n",
       "3      other  2019-10-07 2019-10-07  \n",
       "4      yandex 2019-10-07 2019-10-07  \n",
       "...       ...        ...        ...  \n",
       "72968  google 2019-11-03 2019-10-16  \n",
       "72969  google 2019-11-03 2019-10-16  \n",
       "72970  google 2019-11-03 2019-10-27  \n",
       "72971  google 2019-11-03 2019-10-16  \n",
       "72972  google 2019-11-03 2019-10-16  \n",
       "\n",
       "[72973 rows x 6 columns]"
      ]
     },
     "execution_count": 38,
     "metadata": {},
     "output_type": "execute_result"
    }
   ],
   "source": [
    "data_active = data.merge(first_event, on='user_id', how='left')\n",
    "data_active"
   ]
  },
  {
   "cell_type": "markdown",
   "metadata": {},
   "source": [
    "**Создаю столбцы `active_week` и `first_week`, которые будут содержать даты, которые были посчитаны путём вычисления интервалов времени, соответствующих дням недели**"
   ]
  },
  {
   "cell_type": "code",
   "execution_count": 39,
   "metadata": {},
   "outputs": [],
   "source": [
    "data_active['active_week'] = pd.to_datetime(data_active['event_date'], unit='d') - pd.to_timedelta(data_active['event_date']\n",
    "                                                                                                   .dt.dayofweek, unit='d')\n",
    "data_active['first_week'] = pd.to_datetime(data_active['start_dt'], unit='d') - pd.to_timedelta(data_active['start_dt']\n",
    "                                                                                                .dt.dayofweek, unit='d')"
   ]
  },
  {
   "cell_type": "markdown",
   "metadata": {},
   "source": [
    "**Вывожу на экран таблицу с новыми столбцами**"
   ]
  },
  {
   "cell_type": "code",
   "execution_count": 40,
   "metadata": {},
   "outputs": [
    {
     "data": {
      "text/html": [
       "<div>\n",
       "<style scoped>\n",
       "    .dataframe tbody tr th:only-of-type {\n",
       "        vertical-align: middle;\n",
       "    }\n",
       "\n",
       "    .dataframe tbody tr th {\n",
       "        vertical-align: top;\n",
       "    }\n",
       "\n",
       "    .dataframe thead th {\n",
       "        text-align: right;\n",
       "    }\n",
       "</style>\n",
       "<table border=\"1\" class=\"dataframe\">\n",
       "  <thead>\n",
       "    <tr style=\"text-align: right;\">\n",
       "      <th></th>\n",
       "      <th>event_time</th>\n",
       "      <th>event_name</th>\n",
       "      <th>user_id</th>\n",
       "      <th>source</th>\n",
       "      <th>event_date</th>\n",
       "      <th>start_dt</th>\n",
       "      <th>active_week</th>\n",
       "      <th>first_week</th>\n",
       "    </tr>\n",
       "  </thead>\n",
       "  <tbody>\n",
       "    <tr>\n",
       "      <th>0</th>\n",
       "      <td>2019-10-07 00:00:00</td>\n",
       "      <td>advert_open</td>\n",
       "      <td>020292ab-89bc-4156-9acf-68bc2783f894</td>\n",
       "      <td>other</td>\n",
       "      <td>2019-10-07</td>\n",
       "      <td>2019-10-07</td>\n",
       "      <td>2019-10-07</td>\n",
       "      <td>2019-10-07</td>\n",
       "    </tr>\n",
       "    <tr>\n",
       "      <th>1</th>\n",
       "      <td>2019-10-07 00:00:01</td>\n",
       "      <td>tips_show</td>\n",
       "      <td>020292ab-89bc-4156-9acf-68bc2783f894</td>\n",
       "      <td>other</td>\n",
       "      <td>2019-10-07</td>\n",
       "      <td>2019-10-07</td>\n",
       "      <td>2019-10-07</td>\n",
       "      <td>2019-10-07</td>\n",
       "    </tr>\n",
       "    <tr>\n",
       "      <th>2</th>\n",
       "      <td>2019-10-07 00:00:02</td>\n",
       "      <td>tips_show</td>\n",
       "      <td>cf7eda61-9349-469f-ac27-e5b6f5ec475c</td>\n",
       "      <td>yandex</td>\n",
       "      <td>2019-10-07</td>\n",
       "      <td>2019-10-07</td>\n",
       "      <td>2019-10-07</td>\n",
       "      <td>2019-10-07</td>\n",
       "    </tr>\n",
       "    <tr>\n",
       "      <th>3</th>\n",
       "      <td>2019-10-07 00:00:07</td>\n",
       "      <td>tips_show</td>\n",
       "      <td>020292ab-89bc-4156-9acf-68bc2783f894</td>\n",
       "      <td>other</td>\n",
       "      <td>2019-10-07</td>\n",
       "      <td>2019-10-07</td>\n",
       "      <td>2019-10-07</td>\n",
       "      <td>2019-10-07</td>\n",
       "    </tr>\n",
       "    <tr>\n",
       "      <th>4</th>\n",
       "      <td>2019-10-07 00:00:56</td>\n",
       "      <td>advert_open</td>\n",
       "      <td>cf7eda61-9349-469f-ac27-e5b6f5ec475c</td>\n",
       "      <td>yandex</td>\n",
       "      <td>2019-10-07</td>\n",
       "      <td>2019-10-07</td>\n",
       "      <td>2019-10-07</td>\n",
       "      <td>2019-10-07</td>\n",
       "    </tr>\n",
       "    <tr>\n",
       "      <th>...</th>\n",
       "      <td>...</td>\n",
       "      <td>...</td>\n",
       "      <td>...</td>\n",
       "      <td>...</td>\n",
       "      <td>...</td>\n",
       "      <td>...</td>\n",
       "      <td>...</td>\n",
       "      <td>...</td>\n",
       "    </tr>\n",
       "    <tr>\n",
       "      <th>72968</th>\n",
       "      <td>2019-11-03 23:53:29</td>\n",
       "      <td>tips_show</td>\n",
       "      <td>28fccdf4-7b9e-42f5-bc73-439a265f20e9</td>\n",
       "      <td>google</td>\n",
       "      <td>2019-11-03</td>\n",
       "      <td>2019-10-16</td>\n",
       "      <td>2019-10-28</td>\n",
       "      <td>2019-10-14</td>\n",
       "    </tr>\n",
       "    <tr>\n",
       "      <th>72969</th>\n",
       "      <td>2019-11-03 23:54:00</td>\n",
       "      <td>tips_show</td>\n",
       "      <td>28fccdf4-7b9e-42f5-bc73-439a265f20e9</td>\n",
       "      <td>google</td>\n",
       "      <td>2019-11-03</td>\n",
       "      <td>2019-10-16</td>\n",
       "      <td>2019-10-28</td>\n",
       "      <td>2019-10-14</td>\n",
       "    </tr>\n",
       "    <tr>\n",
       "      <th>72970</th>\n",
       "      <td>2019-11-03 23:56:57</td>\n",
       "      <td>search</td>\n",
       "      <td>20850c8f-4135-4059-b13b-198d3ac59902</td>\n",
       "      <td>google</td>\n",
       "      <td>2019-11-03</td>\n",
       "      <td>2019-10-27</td>\n",
       "      <td>2019-10-28</td>\n",
       "      <td>2019-10-21</td>\n",
       "    </tr>\n",
       "    <tr>\n",
       "      <th>72971</th>\n",
       "      <td>2019-11-03 23:57:06</td>\n",
       "      <td>tips_show</td>\n",
       "      <td>28fccdf4-7b9e-42f5-bc73-439a265f20e9</td>\n",
       "      <td>google</td>\n",
       "      <td>2019-11-03</td>\n",
       "      <td>2019-10-16</td>\n",
       "      <td>2019-10-28</td>\n",
       "      <td>2019-10-14</td>\n",
       "    </tr>\n",
       "    <tr>\n",
       "      <th>72972</th>\n",
       "      <td>2019-11-03 23:58:12</td>\n",
       "      <td>tips_show</td>\n",
       "      <td>28fccdf4-7b9e-42f5-bc73-439a265f20e9</td>\n",
       "      <td>google</td>\n",
       "      <td>2019-11-03</td>\n",
       "      <td>2019-10-16</td>\n",
       "      <td>2019-10-28</td>\n",
       "      <td>2019-10-14</td>\n",
       "    </tr>\n",
       "  </tbody>\n",
       "</table>\n",
       "<p>72973 rows × 8 columns</p>\n",
       "</div>"
      ],
      "text/plain": [
       "               event_time   event_name                               user_id  \\\n",
       "0     2019-10-07 00:00:00  advert_open  020292ab-89bc-4156-9acf-68bc2783f894   \n",
       "1     2019-10-07 00:00:01  tips_show    020292ab-89bc-4156-9acf-68bc2783f894   \n",
       "2     2019-10-07 00:00:02  tips_show    cf7eda61-9349-469f-ac27-e5b6f5ec475c   \n",
       "3     2019-10-07 00:00:07  tips_show    020292ab-89bc-4156-9acf-68bc2783f894   \n",
       "4     2019-10-07 00:00:56  advert_open  cf7eda61-9349-469f-ac27-e5b6f5ec475c   \n",
       "...                   ...          ...                                   ...   \n",
       "72968 2019-11-03 23:53:29  tips_show    28fccdf4-7b9e-42f5-bc73-439a265f20e9   \n",
       "72969 2019-11-03 23:54:00  tips_show    28fccdf4-7b9e-42f5-bc73-439a265f20e9   \n",
       "72970 2019-11-03 23:56:57  search       20850c8f-4135-4059-b13b-198d3ac59902   \n",
       "72971 2019-11-03 23:57:06  tips_show    28fccdf4-7b9e-42f5-bc73-439a265f20e9   \n",
       "72972 2019-11-03 23:58:12  tips_show    28fccdf4-7b9e-42f5-bc73-439a265f20e9   \n",
       "\n",
       "       source event_date   start_dt active_week first_week  \n",
       "0      other  2019-10-07 2019-10-07 2019-10-07  2019-10-07  \n",
       "1      other  2019-10-07 2019-10-07 2019-10-07  2019-10-07  \n",
       "2      yandex 2019-10-07 2019-10-07 2019-10-07  2019-10-07  \n",
       "3      other  2019-10-07 2019-10-07 2019-10-07  2019-10-07  \n",
       "4      yandex 2019-10-07 2019-10-07 2019-10-07  2019-10-07  \n",
       "...       ...        ...        ...        ...         ...  \n",
       "72968  google 2019-11-03 2019-10-16 2019-10-28  2019-10-14  \n",
       "72969  google 2019-11-03 2019-10-16 2019-10-28  2019-10-14  \n",
       "72970  google 2019-11-03 2019-10-27 2019-10-28  2019-10-21  \n",
       "72971  google 2019-11-03 2019-10-16 2019-10-28  2019-10-14  \n",
       "72972  google 2019-11-03 2019-10-16 2019-10-28  2019-10-14  \n",
       "\n",
       "[72973 rows x 8 columns]"
      ]
     },
     "execution_count": 40,
     "metadata": {},
     "output_type": "execute_result"
    }
   ],
   "source": [
    "data_active"
   ]
  },
  {
   "cell_type": "markdown",
   "metadata": {},
   "source": [
    "**Выписываю для себя обозначения новых столбцов, чтобы не запутаться:**\n",
    "* event_date - дата совершения действия\n",
    "* start_dt - впервые совершённое действие пользователем\n",
    "* active_week - день начала недели, за которую произошло событие\n",
    "* first_week - день начала первой недели, в которую произошло событие \n",
    "\n",
    "Всего выделяется 4 недели: 7 октября, 14 октября, 21 октября и 28 октября"
   ]
  },
  {
   "cell_type": "markdown",
   "metadata": {},
   "source": [
    "**Считаю lifetime пользователей в неделях, вывожу на экране таблицу**"
   ]
  },
  {
   "cell_type": "code",
   "execution_count": 41,
   "metadata": {},
   "outputs": [
    {
     "data": {
      "text/html": [
       "<div>\n",
       "<style scoped>\n",
       "    .dataframe tbody tr th:only-of-type {\n",
       "        vertical-align: middle;\n",
       "    }\n",
       "\n",
       "    .dataframe tbody tr th {\n",
       "        vertical-align: top;\n",
       "    }\n",
       "\n",
       "    .dataframe thead th {\n",
       "        text-align: right;\n",
       "    }\n",
       "</style>\n",
       "<table border=\"1\" class=\"dataframe\">\n",
       "  <thead>\n",
       "    <tr style=\"text-align: right;\">\n",
       "      <th></th>\n",
       "      <th>event_time</th>\n",
       "      <th>event_name</th>\n",
       "      <th>user_id</th>\n",
       "      <th>source</th>\n",
       "      <th>event_date</th>\n",
       "      <th>start_dt</th>\n",
       "      <th>active_week</th>\n",
       "      <th>first_week</th>\n",
       "      <th>lifetime</th>\n",
       "    </tr>\n",
       "  </thead>\n",
       "  <tbody>\n",
       "    <tr>\n",
       "      <th>0</th>\n",
       "      <td>2019-10-07 00:00:00</td>\n",
       "      <td>advert_open</td>\n",
       "      <td>020292ab-89bc-4156-9acf-68bc2783f894</td>\n",
       "      <td>other</td>\n",
       "      <td>2019-10-07</td>\n",
       "      <td>2019-10-07</td>\n",
       "      <td>2019-10-07</td>\n",
       "      <td>2019-10-07</td>\n",
       "      <td>0.0</td>\n",
       "    </tr>\n",
       "    <tr>\n",
       "      <th>1</th>\n",
       "      <td>2019-10-07 00:00:01</td>\n",
       "      <td>tips_show</td>\n",
       "      <td>020292ab-89bc-4156-9acf-68bc2783f894</td>\n",
       "      <td>other</td>\n",
       "      <td>2019-10-07</td>\n",
       "      <td>2019-10-07</td>\n",
       "      <td>2019-10-07</td>\n",
       "      <td>2019-10-07</td>\n",
       "      <td>0.0</td>\n",
       "    </tr>\n",
       "    <tr>\n",
       "      <th>2</th>\n",
       "      <td>2019-10-07 00:00:02</td>\n",
       "      <td>tips_show</td>\n",
       "      <td>cf7eda61-9349-469f-ac27-e5b6f5ec475c</td>\n",
       "      <td>yandex</td>\n",
       "      <td>2019-10-07</td>\n",
       "      <td>2019-10-07</td>\n",
       "      <td>2019-10-07</td>\n",
       "      <td>2019-10-07</td>\n",
       "      <td>0.0</td>\n",
       "    </tr>\n",
       "    <tr>\n",
       "      <th>3</th>\n",
       "      <td>2019-10-07 00:00:07</td>\n",
       "      <td>tips_show</td>\n",
       "      <td>020292ab-89bc-4156-9acf-68bc2783f894</td>\n",
       "      <td>other</td>\n",
       "      <td>2019-10-07</td>\n",
       "      <td>2019-10-07</td>\n",
       "      <td>2019-10-07</td>\n",
       "      <td>2019-10-07</td>\n",
       "      <td>0.0</td>\n",
       "    </tr>\n",
       "    <tr>\n",
       "      <th>4</th>\n",
       "      <td>2019-10-07 00:00:56</td>\n",
       "      <td>advert_open</td>\n",
       "      <td>cf7eda61-9349-469f-ac27-e5b6f5ec475c</td>\n",
       "      <td>yandex</td>\n",
       "      <td>2019-10-07</td>\n",
       "      <td>2019-10-07</td>\n",
       "      <td>2019-10-07</td>\n",
       "      <td>2019-10-07</td>\n",
       "      <td>0.0</td>\n",
       "    </tr>\n",
       "    <tr>\n",
       "      <th>...</th>\n",
       "      <td>...</td>\n",
       "      <td>...</td>\n",
       "      <td>...</td>\n",
       "      <td>...</td>\n",
       "      <td>...</td>\n",
       "      <td>...</td>\n",
       "      <td>...</td>\n",
       "      <td>...</td>\n",
       "      <td>...</td>\n",
       "    </tr>\n",
       "    <tr>\n",
       "      <th>72968</th>\n",
       "      <td>2019-11-03 23:53:29</td>\n",
       "      <td>tips_show</td>\n",
       "      <td>28fccdf4-7b9e-42f5-bc73-439a265f20e9</td>\n",
       "      <td>google</td>\n",
       "      <td>2019-11-03</td>\n",
       "      <td>2019-10-16</td>\n",
       "      <td>2019-10-28</td>\n",
       "      <td>2019-10-14</td>\n",
       "      <td>2.0</td>\n",
       "    </tr>\n",
       "    <tr>\n",
       "      <th>72969</th>\n",
       "      <td>2019-11-03 23:54:00</td>\n",
       "      <td>tips_show</td>\n",
       "      <td>28fccdf4-7b9e-42f5-bc73-439a265f20e9</td>\n",
       "      <td>google</td>\n",
       "      <td>2019-11-03</td>\n",
       "      <td>2019-10-16</td>\n",
       "      <td>2019-10-28</td>\n",
       "      <td>2019-10-14</td>\n",
       "      <td>2.0</td>\n",
       "    </tr>\n",
       "    <tr>\n",
       "      <th>72970</th>\n",
       "      <td>2019-11-03 23:56:57</td>\n",
       "      <td>search</td>\n",
       "      <td>20850c8f-4135-4059-b13b-198d3ac59902</td>\n",
       "      <td>google</td>\n",
       "      <td>2019-11-03</td>\n",
       "      <td>2019-10-27</td>\n",
       "      <td>2019-10-28</td>\n",
       "      <td>2019-10-21</td>\n",
       "      <td>1.0</td>\n",
       "    </tr>\n",
       "    <tr>\n",
       "      <th>72971</th>\n",
       "      <td>2019-11-03 23:57:06</td>\n",
       "      <td>tips_show</td>\n",
       "      <td>28fccdf4-7b9e-42f5-bc73-439a265f20e9</td>\n",
       "      <td>google</td>\n",
       "      <td>2019-11-03</td>\n",
       "      <td>2019-10-16</td>\n",
       "      <td>2019-10-28</td>\n",
       "      <td>2019-10-14</td>\n",
       "      <td>2.0</td>\n",
       "    </tr>\n",
       "    <tr>\n",
       "      <th>72972</th>\n",
       "      <td>2019-11-03 23:58:12</td>\n",
       "      <td>tips_show</td>\n",
       "      <td>28fccdf4-7b9e-42f5-bc73-439a265f20e9</td>\n",
       "      <td>google</td>\n",
       "      <td>2019-11-03</td>\n",
       "      <td>2019-10-16</td>\n",
       "      <td>2019-10-28</td>\n",
       "      <td>2019-10-14</td>\n",
       "      <td>2.0</td>\n",
       "    </tr>\n",
       "  </tbody>\n",
       "</table>\n",
       "<p>72973 rows × 9 columns</p>\n",
       "</div>"
      ],
      "text/plain": [
       "               event_time   event_name                               user_id  \\\n",
       "0     2019-10-07 00:00:00  advert_open  020292ab-89bc-4156-9acf-68bc2783f894   \n",
       "1     2019-10-07 00:00:01  tips_show    020292ab-89bc-4156-9acf-68bc2783f894   \n",
       "2     2019-10-07 00:00:02  tips_show    cf7eda61-9349-469f-ac27-e5b6f5ec475c   \n",
       "3     2019-10-07 00:00:07  tips_show    020292ab-89bc-4156-9acf-68bc2783f894   \n",
       "4     2019-10-07 00:00:56  advert_open  cf7eda61-9349-469f-ac27-e5b6f5ec475c   \n",
       "...                   ...          ...                                   ...   \n",
       "72968 2019-11-03 23:53:29  tips_show    28fccdf4-7b9e-42f5-bc73-439a265f20e9   \n",
       "72969 2019-11-03 23:54:00  tips_show    28fccdf4-7b9e-42f5-bc73-439a265f20e9   \n",
       "72970 2019-11-03 23:56:57  search       20850c8f-4135-4059-b13b-198d3ac59902   \n",
       "72971 2019-11-03 23:57:06  tips_show    28fccdf4-7b9e-42f5-bc73-439a265f20e9   \n",
       "72972 2019-11-03 23:58:12  tips_show    28fccdf4-7b9e-42f5-bc73-439a265f20e9   \n",
       "\n",
       "       source event_date   start_dt active_week first_week  lifetime  \n",
       "0      other  2019-10-07 2019-10-07 2019-10-07  2019-10-07  0.0       \n",
       "1      other  2019-10-07 2019-10-07 2019-10-07  2019-10-07  0.0       \n",
       "2      yandex 2019-10-07 2019-10-07 2019-10-07  2019-10-07  0.0       \n",
       "3      other  2019-10-07 2019-10-07 2019-10-07  2019-10-07  0.0       \n",
       "4      yandex 2019-10-07 2019-10-07 2019-10-07  2019-10-07  0.0       \n",
       "...       ...        ...        ...        ...         ...  ...       \n",
       "72968  google 2019-11-03 2019-10-16 2019-10-28  2019-10-14  2.0       \n",
       "72969  google 2019-11-03 2019-10-16 2019-10-28  2019-10-14  2.0       \n",
       "72970  google 2019-11-03 2019-10-27 2019-10-28  2019-10-21  1.0       \n",
       "72971  google 2019-11-03 2019-10-16 2019-10-28  2019-10-14  2.0       \n",
       "72972  google 2019-11-03 2019-10-16 2019-10-28  2019-10-14  2.0       \n",
       "\n",
       "[72973 rows x 9 columns]"
      ]
     },
     "execution_count": 41,
     "metadata": {},
     "output_type": "execute_result"
    }
   ],
   "source": [
    "data_active['lifetime'] = data_active['active_week'] - data_active['first_week']\n",
    "data_active['lifetime'] = data_active['lifetime'] / np.timedelta64(1,'W')\n",
    "data_active"
   ]
  },
  {
   "cell_type": "markdown",
   "metadata": {},
   "source": [
    "**Вывожу сводную информацию о таблице**"
   ]
  },
  {
   "cell_type": "code",
   "execution_count": 42,
   "metadata": {},
   "outputs": [
    {
     "name": "stdout",
     "output_type": "stream",
     "text": [
      "<class 'pandas.core.frame.DataFrame'>\n",
      "Int64Index: 72973 entries, 0 to 72972\n",
      "Data columns (total 9 columns):\n",
      " #   Column       Non-Null Count  Dtype         \n",
      "---  ------       --------------  -----         \n",
      " 0   event_time   72973 non-null  datetime64[ns]\n",
      " 1   event_name   72973 non-null  object        \n",
      " 2   user_id      72973 non-null  object        \n",
      " 3   source       72973 non-null  object        \n",
      " 4   event_date   72973 non-null  datetime64[ns]\n",
      " 5   start_dt     72973 non-null  datetime64[ns]\n",
      " 6   active_week  72973 non-null  datetime64[ns]\n",
      " 7   first_week   72973 non-null  datetime64[ns]\n",
      " 8   lifetime     72973 non-null  float64       \n",
      "dtypes: datetime64[ns](5), float64(1), object(3)\n",
      "memory usage: 5.6+ MB\n"
     ]
    }
   ],
   "source": [
    "data_active.info()"
   ]
  },
  {
   "cell_type": "markdown",
   "metadata": {},
   "source": [
    "**Меняю тип данных столбца `lifetime` с float(дробного) на int(целый), вывожу таблицу на экран**"
   ]
  },
  {
   "cell_type": "code",
   "execution_count": 43,
   "metadata": {},
   "outputs": [
    {
     "data": {
      "text/html": [
       "<div>\n",
       "<style scoped>\n",
       "    .dataframe tbody tr th:only-of-type {\n",
       "        vertical-align: middle;\n",
       "    }\n",
       "\n",
       "    .dataframe tbody tr th {\n",
       "        vertical-align: top;\n",
       "    }\n",
       "\n",
       "    .dataframe thead th {\n",
       "        text-align: right;\n",
       "    }\n",
       "</style>\n",
       "<table border=\"1\" class=\"dataframe\">\n",
       "  <thead>\n",
       "    <tr style=\"text-align: right;\">\n",
       "      <th></th>\n",
       "      <th>event_time</th>\n",
       "      <th>event_name</th>\n",
       "      <th>user_id</th>\n",
       "      <th>source</th>\n",
       "      <th>event_date</th>\n",
       "      <th>start_dt</th>\n",
       "      <th>active_week</th>\n",
       "      <th>first_week</th>\n",
       "      <th>lifetime</th>\n",
       "    </tr>\n",
       "  </thead>\n",
       "  <tbody>\n",
       "    <tr>\n",
       "      <th>0</th>\n",
       "      <td>2019-10-07 00:00:00</td>\n",
       "      <td>advert_open</td>\n",
       "      <td>020292ab-89bc-4156-9acf-68bc2783f894</td>\n",
       "      <td>other</td>\n",
       "      <td>2019-10-07</td>\n",
       "      <td>2019-10-07</td>\n",
       "      <td>2019-10-07</td>\n",
       "      <td>2019-10-07</td>\n",
       "      <td>0</td>\n",
       "    </tr>\n",
       "    <tr>\n",
       "      <th>1</th>\n",
       "      <td>2019-10-07 00:00:01</td>\n",
       "      <td>tips_show</td>\n",
       "      <td>020292ab-89bc-4156-9acf-68bc2783f894</td>\n",
       "      <td>other</td>\n",
       "      <td>2019-10-07</td>\n",
       "      <td>2019-10-07</td>\n",
       "      <td>2019-10-07</td>\n",
       "      <td>2019-10-07</td>\n",
       "      <td>0</td>\n",
       "    </tr>\n",
       "    <tr>\n",
       "      <th>2</th>\n",
       "      <td>2019-10-07 00:00:02</td>\n",
       "      <td>tips_show</td>\n",
       "      <td>cf7eda61-9349-469f-ac27-e5b6f5ec475c</td>\n",
       "      <td>yandex</td>\n",
       "      <td>2019-10-07</td>\n",
       "      <td>2019-10-07</td>\n",
       "      <td>2019-10-07</td>\n",
       "      <td>2019-10-07</td>\n",
       "      <td>0</td>\n",
       "    </tr>\n",
       "    <tr>\n",
       "      <th>3</th>\n",
       "      <td>2019-10-07 00:00:07</td>\n",
       "      <td>tips_show</td>\n",
       "      <td>020292ab-89bc-4156-9acf-68bc2783f894</td>\n",
       "      <td>other</td>\n",
       "      <td>2019-10-07</td>\n",
       "      <td>2019-10-07</td>\n",
       "      <td>2019-10-07</td>\n",
       "      <td>2019-10-07</td>\n",
       "      <td>0</td>\n",
       "    </tr>\n",
       "    <tr>\n",
       "      <th>4</th>\n",
       "      <td>2019-10-07 00:00:56</td>\n",
       "      <td>advert_open</td>\n",
       "      <td>cf7eda61-9349-469f-ac27-e5b6f5ec475c</td>\n",
       "      <td>yandex</td>\n",
       "      <td>2019-10-07</td>\n",
       "      <td>2019-10-07</td>\n",
       "      <td>2019-10-07</td>\n",
       "      <td>2019-10-07</td>\n",
       "      <td>0</td>\n",
       "    </tr>\n",
       "    <tr>\n",
       "      <th>...</th>\n",
       "      <td>...</td>\n",
       "      <td>...</td>\n",
       "      <td>...</td>\n",
       "      <td>...</td>\n",
       "      <td>...</td>\n",
       "      <td>...</td>\n",
       "      <td>...</td>\n",
       "      <td>...</td>\n",
       "      <td>...</td>\n",
       "    </tr>\n",
       "    <tr>\n",
       "      <th>72968</th>\n",
       "      <td>2019-11-03 23:53:29</td>\n",
       "      <td>tips_show</td>\n",
       "      <td>28fccdf4-7b9e-42f5-bc73-439a265f20e9</td>\n",
       "      <td>google</td>\n",
       "      <td>2019-11-03</td>\n",
       "      <td>2019-10-16</td>\n",
       "      <td>2019-10-28</td>\n",
       "      <td>2019-10-14</td>\n",
       "      <td>2</td>\n",
       "    </tr>\n",
       "    <tr>\n",
       "      <th>72969</th>\n",
       "      <td>2019-11-03 23:54:00</td>\n",
       "      <td>tips_show</td>\n",
       "      <td>28fccdf4-7b9e-42f5-bc73-439a265f20e9</td>\n",
       "      <td>google</td>\n",
       "      <td>2019-11-03</td>\n",
       "      <td>2019-10-16</td>\n",
       "      <td>2019-10-28</td>\n",
       "      <td>2019-10-14</td>\n",
       "      <td>2</td>\n",
       "    </tr>\n",
       "    <tr>\n",
       "      <th>72970</th>\n",
       "      <td>2019-11-03 23:56:57</td>\n",
       "      <td>search</td>\n",
       "      <td>20850c8f-4135-4059-b13b-198d3ac59902</td>\n",
       "      <td>google</td>\n",
       "      <td>2019-11-03</td>\n",
       "      <td>2019-10-27</td>\n",
       "      <td>2019-10-28</td>\n",
       "      <td>2019-10-21</td>\n",
       "      <td>1</td>\n",
       "    </tr>\n",
       "    <tr>\n",
       "      <th>72971</th>\n",
       "      <td>2019-11-03 23:57:06</td>\n",
       "      <td>tips_show</td>\n",
       "      <td>28fccdf4-7b9e-42f5-bc73-439a265f20e9</td>\n",
       "      <td>google</td>\n",
       "      <td>2019-11-03</td>\n",
       "      <td>2019-10-16</td>\n",
       "      <td>2019-10-28</td>\n",
       "      <td>2019-10-14</td>\n",
       "      <td>2</td>\n",
       "    </tr>\n",
       "    <tr>\n",
       "      <th>72972</th>\n",
       "      <td>2019-11-03 23:58:12</td>\n",
       "      <td>tips_show</td>\n",
       "      <td>28fccdf4-7b9e-42f5-bc73-439a265f20e9</td>\n",
       "      <td>google</td>\n",
       "      <td>2019-11-03</td>\n",
       "      <td>2019-10-16</td>\n",
       "      <td>2019-10-28</td>\n",
       "      <td>2019-10-14</td>\n",
       "      <td>2</td>\n",
       "    </tr>\n",
       "  </tbody>\n",
       "</table>\n",
       "<p>72973 rows × 9 columns</p>\n",
       "</div>"
      ],
      "text/plain": [
       "               event_time   event_name                               user_id  \\\n",
       "0     2019-10-07 00:00:00  advert_open  020292ab-89bc-4156-9acf-68bc2783f894   \n",
       "1     2019-10-07 00:00:01  tips_show    020292ab-89bc-4156-9acf-68bc2783f894   \n",
       "2     2019-10-07 00:00:02  tips_show    cf7eda61-9349-469f-ac27-e5b6f5ec475c   \n",
       "3     2019-10-07 00:00:07  tips_show    020292ab-89bc-4156-9acf-68bc2783f894   \n",
       "4     2019-10-07 00:00:56  advert_open  cf7eda61-9349-469f-ac27-e5b6f5ec475c   \n",
       "...                   ...          ...                                   ...   \n",
       "72968 2019-11-03 23:53:29  tips_show    28fccdf4-7b9e-42f5-bc73-439a265f20e9   \n",
       "72969 2019-11-03 23:54:00  tips_show    28fccdf4-7b9e-42f5-bc73-439a265f20e9   \n",
       "72970 2019-11-03 23:56:57  search       20850c8f-4135-4059-b13b-198d3ac59902   \n",
       "72971 2019-11-03 23:57:06  tips_show    28fccdf4-7b9e-42f5-bc73-439a265f20e9   \n",
       "72972 2019-11-03 23:58:12  tips_show    28fccdf4-7b9e-42f5-bc73-439a265f20e9   \n",
       "\n",
       "       source event_date   start_dt active_week first_week  lifetime  \n",
       "0      other  2019-10-07 2019-10-07 2019-10-07  2019-10-07  0         \n",
       "1      other  2019-10-07 2019-10-07 2019-10-07  2019-10-07  0         \n",
       "2      yandex 2019-10-07 2019-10-07 2019-10-07  2019-10-07  0         \n",
       "3      other  2019-10-07 2019-10-07 2019-10-07  2019-10-07  0         \n",
       "4      yandex 2019-10-07 2019-10-07 2019-10-07  2019-10-07  0         \n",
       "...       ...        ...        ...        ...         ... ..         \n",
       "72968  google 2019-11-03 2019-10-16 2019-10-28  2019-10-14  2         \n",
       "72969  google 2019-11-03 2019-10-16 2019-10-28  2019-10-14  2         \n",
       "72970  google 2019-11-03 2019-10-27 2019-10-28  2019-10-21  1         \n",
       "72971  google 2019-11-03 2019-10-16 2019-10-28  2019-10-14  2         \n",
       "72972  google 2019-11-03 2019-10-16 2019-10-28  2019-10-14  2         \n",
       "\n",
       "[72973 rows x 9 columns]"
      ]
     },
     "execution_count": 43,
     "metadata": {},
     "output_type": "execute_result"
    }
   ],
   "source": [
    "data_active['lifetime'] = data_active['lifetime'].astype(int)\n",
    "data_active"
   ]
  },
  {
   "cell_type": "markdown",
   "metadata": {},
   "source": [
    "**Создаю таблицу, в которой группирую данные по `first_week` и `lifetime`, вывожу на экран**"
   ]
  },
  {
   "cell_type": "code",
   "execution_count": 44,
   "metadata": {},
   "outputs": [
    {
     "data": {
      "text/html": [
       "<div>\n",
       "<style scoped>\n",
       "    .dataframe tbody tr th:only-of-type {\n",
       "        vertical-align: middle;\n",
       "    }\n",
       "\n",
       "    .dataframe tbody tr th {\n",
       "        vertical-align: top;\n",
       "    }\n",
       "\n",
       "    .dataframe thead th {\n",
       "        text-align: right;\n",
       "    }\n",
       "</style>\n",
       "<table border=\"1\" class=\"dataframe\">\n",
       "  <thead>\n",
       "    <tr style=\"text-align: right;\">\n",
       "      <th></th>\n",
       "      <th>first_week</th>\n",
       "      <th>lifetime</th>\n",
       "      <th>user_id</th>\n",
       "    </tr>\n",
       "  </thead>\n",
       "  <tbody>\n",
       "    <tr>\n",
       "      <th>0</th>\n",
       "      <td>2019-10-07</td>\n",
       "      <td>0</td>\n",
       "      <td>1130</td>\n",
       "    </tr>\n",
       "    <tr>\n",
       "      <th>1</th>\n",
       "      <td>2019-10-07</td>\n",
       "      <td>1</td>\n",
       "      <td>272</td>\n",
       "    </tr>\n",
       "    <tr>\n",
       "      <th>2</th>\n",
       "      <td>2019-10-07</td>\n",
       "      <td>2</td>\n",
       "      <td>170</td>\n",
       "    </tr>\n",
       "    <tr>\n",
       "      <th>3</th>\n",
       "      <td>2019-10-07</td>\n",
       "      <td>3</td>\n",
       "      <td>119</td>\n",
       "    </tr>\n",
       "    <tr>\n",
       "      <th>4</th>\n",
       "      <td>2019-10-14</td>\n",
       "      <td>0</td>\n",
       "      <td>1166</td>\n",
       "    </tr>\n",
       "    <tr>\n",
       "      <th>5</th>\n",
       "      <td>2019-10-14</td>\n",
       "      <td>1</td>\n",
       "      <td>282</td>\n",
       "    </tr>\n",
       "    <tr>\n",
       "      <th>6</th>\n",
       "      <td>2019-10-14</td>\n",
       "      <td>2</td>\n",
       "      <td>155</td>\n",
       "    </tr>\n",
       "    <tr>\n",
       "      <th>7</th>\n",
       "      <td>2019-10-21</td>\n",
       "      <td>0</td>\n",
       "      <td>1094</td>\n",
       "    </tr>\n",
       "    <tr>\n",
       "      <th>8</th>\n",
       "      <td>2019-10-21</td>\n",
       "      <td>1</td>\n",
       "      <td>239</td>\n",
       "    </tr>\n",
       "    <tr>\n",
       "      <th>9</th>\n",
       "      <td>2019-10-28</td>\n",
       "      <td>0</td>\n",
       "      <td>903</td>\n",
       "    </tr>\n",
       "  </tbody>\n",
       "</table>\n",
       "</div>"
      ],
      "text/plain": [
       "  first_week  lifetime  user_id\n",
       "0 2019-10-07  0         1130   \n",
       "1 2019-10-07  1         272    \n",
       "2 2019-10-07  2         170    \n",
       "3 2019-10-07  3         119    \n",
       "4 2019-10-14  0         1166   \n",
       "5 2019-10-14  1         282    \n",
       "6 2019-10-14  2         155    \n",
       "7 2019-10-21  0         1094   \n",
       "8 2019-10-21  1         239    \n",
       "9 2019-10-28  0         903    "
      ]
     },
     "execution_count": 44,
     "metadata": {},
     "output_type": "execute_result"
    }
   ],
   "source": [
    "cohorts = data_active.groupby(['first_week','lifetime']).agg({'user_id':'nunique'}).reset_index()\n",
    "cohorts"
   ]
  },
  {
   "cell_type": "markdown",
   "metadata": {},
   "source": [
    "**Выделяю число пользователей в каждой нулевой неделе, вывожу на экран таблицу**"
   ]
  },
  {
   "cell_type": "code",
   "execution_count": 45,
   "metadata": {},
   "outputs": [
    {
     "data": {
      "text/html": [
       "<div>\n",
       "<style scoped>\n",
       "    .dataframe tbody tr th:only-of-type {\n",
       "        vertical-align: middle;\n",
       "    }\n",
       "\n",
       "    .dataframe tbody tr th {\n",
       "        vertical-align: top;\n",
       "    }\n",
       "\n",
       "    .dataframe thead th {\n",
       "        text-align: right;\n",
       "    }\n",
       "</style>\n",
       "<table border=\"1\" class=\"dataframe\">\n",
       "  <thead>\n",
       "    <tr style=\"text-align: right;\">\n",
       "      <th></th>\n",
       "      <th>first_week</th>\n",
       "      <th>user_id</th>\n",
       "    </tr>\n",
       "  </thead>\n",
       "  <tbody>\n",
       "    <tr>\n",
       "      <th>0</th>\n",
       "      <td>2019-10-07</td>\n",
       "      <td>1130</td>\n",
       "    </tr>\n",
       "    <tr>\n",
       "      <th>4</th>\n",
       "      <td>2019-10-14</td>\n",
       "      <td>1166</td>\n",
       "    </tr>\n",
       "    <tr>\n",
       "      <th>7</th>\n",
       "      <td>2019-10-21</td>\n",
       "      <td>1094</td>\n",
       "    </tr>\n",
       "    <tr>\n",
       "      <th>9</th>\n",
       "      <td>2019-10-28</td>\n",
       "      <td>903</td>\n",
       "    </tr>\n",
       "  </tbody>\n",
       "</table>\n",
       "</div>"
      ],
      "text/plain": [
       "  first_week  user_id\n",
       "0 2019-10-07  1130   \n",
       "4 2019-10-14  1166   \n",
       "7 2019-10-21  1094   \n",
       "9 2019-10-28  903    "
      ]
     },
     "execution_count": 45,
     "metadata": {},
     "output_type": "execute_result"
    }
   ],
   "source": [
    "users_count0 = cohorts[cohorts['lifetime'] == 0][['first_week','user_id']]\n",
    "users_count0"
   ]
  },
  {
   "cell_type": "markdown",
   "metadata": {},
   "source": [
    "**Переименовываю столбец `user_id` в `cohort_users0`, вывожу таблицу на экран**"
   ]
  },
  {
   "cell_type": "code",
   "execution_count": 46,
   "metadata": {},
   "outputs": [
    {
     "data": {
      "text/html": [
       "<div>\n",
       "<style scoped>\n",
       "    .dataframe tbody tr th:only-of-type {\n",
       "        vertical-align: middle;\n",
       "    }\n",
       "\n",
       "    .dataframe tbody tr th {\n",
       "        vertical-align: top;\n",
       "    }\n",
       "\n",
       "    .dataframe thead th {\n",
       "        text-align: right;\n",
       "    }\n",
       "</style>\n",
       "<table border=\"1\" class=\"dataframe\">\n",
       "  <thead>\n",
       "    <tr style=\"text-align: right;\">\n",
       "      <th></th>\n",
       "      <th>first_week</th>\n",
       "      <th>cohort_users0</th>\n",
       "    </tr>\n",
       "  </thead>\n",
       "  <tbody>\n",
       "    <tr>\n",
       "      <th>0</th>\n",
       "      <td>2019-10-07</td>\n",
       "      <td>1130</td>\n",
       "    </tr>\n",
       "    <tr>\n",
       "      <th>4</th>\n",
       "      <td>2019-10-14</td>\n",
       "      <td>1166</td>\n",
       "    </tr>\n",
       "    <tr>\n",
       "      <th>7</th>\n",
       "      <td>2019-10-21</td>\n",
       "      <td>1094</td>\n",
       "    </tr>\n",
       "    <tr>\n",
       "      <th>9</th>\n",
       "      <td>2019-10-28</td>\n",
       "      <td>903</td>\n",
       "    </tr>\n",
       "  </tbody>\n",
       "</table>\n",
       "</div>"
      ],
      "text/plain": [
       "  first_week  cohort_users0\n",
       "0 2019-10-07  1130         \n",
       "4 2019-10-14  1166         \n",
       "7 2019-10-21  1094         \n",
       "9 2019-10-28  903          "
      ]
     },
     "execution_count": 46,
     "metadata": {},
     "output_type": "execute_result"
    }
   ],
   "source": [
    "users_count0 = users_count0.rename(columns={'user_id': 'cohort_users0'})\n",
    "users_count0"
   ]
  },
  {
   "cell_type": "markdown",
   "metadata": {},
   "source": [
    "**Объединяю таблицы `users_count0` и `cohorts` по столбцу `first_week`, вывожу на экран таблицу**"
   ]
  },
  {
   "cell_type": "code",
   "execution_count": 47,
   "metadata": {},
   "outputs": [
    {
     "data": {
      "text/html": [
       "<div>\n",
       "<style scoped>\n",
       "    .dataframe tbody tr th:only-of-type {\n",
       "        vertical-align: middle;\n",
       "    }\n",
       "\n",
       "    .dataframe tbody tr th {\n",
       "        vertical-align: top;\n",
       "    }\n",
       "\n",
       "    .dataframe thead th {\n",
       "        text-align: right;\n",
       "    }\n",
       "</style>\n",
       "<table border=\"1\" class=\"dataframe\">\n",
       "  <thead>\n",
       "    <tr style=\"text-align: right;\">\n",
       "      <th></th>\n",
       "      <th>first_week</th>\n",
       "      <th>cohort_users0</th>\n",
       "      <th>lifetime</th>\n",
       "      <th>user_id</th>\n",
       "    </tr>\n",
       "  </thead>\n",
       "  <tbody>\n",
       "    <tr>\n",
       "      <th>0</th>\n",
       "      <td>2019-10-07</td>\n",
       "      <td>1130</td>\n",
       "      <td>0</td>\n",
       "      <td>1130</td>\n",
       "    </tr>\n",
       "    <tr>\n",
       "      <th>1</th>\n",
       "      <td>2019-10-07</td>\n",
       "      <td>1130</td>\n",
       "      <td>1</td>\n",
       "      <td>272</td>\n",
       "    </tr>\n",
       "    <tr>\n",
       "      <th>2</th>\n",
       "      <td>2019-10-07</td>\n",
       "      <td>1130</td>\n",
       "      <td>2</td>\n",
       "      <td>170</td>\n",
       "    </tr>\n",
       "    <tr>\n",
       "      <th>3</th>\n",
       "      <td>2019-10-07</td>\n",
       "      <td>1130</td>\n",
       "      <td>3</td>\n",
       "      <td>119</td>\n",
       "    </tr>\n",
       "    <tr>\n",
       "      <th>4</th>\n",
       "      <td>2019-10-14</td>\n",
       "      <td>1166</td>\n",
       "      <td>0</td>\n",
       "      <td>1166</td>\n",
       "    </tr>\n",
       "    <tr>\n",
       "      <th>5</th>\n",
       "      <td>2019-10-14</td>\n",
       "      <td>1166</td>\n",
       "      <td>1</td>\n",
       "      <td>282</td>\n",
       "    </tr>\n",
       "    <tr>\n",
       "      <th>6</th>\n",
       "      <td>2019-10-14</td>\n",
       "      <td>1166</td>\n",
       "      <td>2</td>\n",
       "      <td>155</td>\n",
       "    </tr>\n",
       "    <tr>\n",
       "      <th>7</th>\n",
       "      <td>2019-10-21</td>\n",
       "      <td>1094</td>\n",
       "      <td>0</td>\n",
       "      <td>1094</td>\n",
       "    </tr>\n",
       "    <tr>\n",
       "      <th>8</th>\n",
       "      <td>2019-10-21</td>\n",
       "      <td>1094</td>\n",
       "      <td>1</td>\n",
       "      <td>239</td>\n",
       "    </tr>\n",
       "    <tr>\n",
       "      <th>9</th>\n",
       "      <td>2019-10-28</td>\n",
       "      <td>903</td>\n",
       "      <td>0</td>\n",
       "      <td>903</td>\n",
       "    </tr>\n",
       "  </tbody>\n",
       "</table>\n",
       "</div>"
      ],
      "text/plain": [
       "  first_week  cohort_users0  lifetime  user_id\n",
       "0 2019-10-07  1130           0         1130   \n",
       "1 2019-10-07  1130           1         272    \n",
       "2 2019-10-07  1130           2         170    \n",
       "3 2019-10-07  1130           3         119    \n",
       "4 2019-10-14  1166           0         1166   \n",
       "5 2019-10-14  1166           1         282    \n",
       "6 2019-10-14  1166           2         155    \n",
       "7 2019-10-21  1094           0         1094   \n",
       "8 2019-10-21  1094           1         239    \n",
       "9 2019-10-28  903            0         903    "
      ]
     },
     "execution_count": 47,
     "metadata": {},
     "output_type": "execute_result"
    }
   ],
   "source": [
    "cohorts = users_count0.merge(cohorts, on='first_week', how='left')\n",
    "cohorts"
   ]
  },
  {
   "cell_type": "markdown",
   "metadata": {},
   "source": [
    "**Подготовительные работы для подсчёта Retention Rate были сделаны, теперь можно посчитать Retention Rate**"
   ]
  },
  {
   "cell_type": "code",
   "execution_count": 48,
   "metadata": {},
   "outputs": [
    {
     "data": {
      "text/html": [
       "<div>\n",
       "<style scoped>\n",
       "    .dataframe tbody tr th:only-of-type {\n",
       "        vertical-align: middle;\n",
       "    }\n",
       "\n",
       "    .dataframe tbody tr th {\n",
       "        vertical-align: top;\n",
       "    }\n",
       "\n",
       "    .dataframe thead th {\n",
       "        text-align: right;\n",
       "    }\n",
       "</style>\n",
       "<table border=\"1\" class=\"dataframe\">\n",
       "  <thead>\n",
       "    <tr style=\"text-align: right;\">\n",
       "      <th>lifetime</th>\n",
       "      <th>0</th>\n",
       "      <th>1</th>\n",
       "      <th>2</th>\n",
       "      <th>3</th>\n",
       "    </tr>\n",
       "    <tr>\n",
       "      <th>first_week</th>\n",
       "      <th></th>\n",
       "      <th></th>\n",
       "      <th></th>\n",
       "      <th></th>\n",
       "    </tr>\n",
       "  </thead>\n",
       "  <tbody>\n",
       "    <tr>\n",
       "      <th>2019-10-07</th>\n",
       "      <td>1.0</td>\n",
       "      <td>0.240708</td>\n",
       "      <td>0.150442</td>\n",
       "      <td>0.10531</td>\n",
       "    </tr>\n",
       "    <tr>\n",
       "      <th>2019-10-14</th>\n",
       "      <td>1.0</td>\n",
       "      <td>0.241852</td>\n",
       "      <td>0.132933</td>\n",
       "      <td>NaN</td>\n",
       "    </tr>\n",
       "    <tr>\n",
       "      <th>2019-10-21</th>\n",
       "      <td>1.0</td>\n",
       "      <td>0.218464</td>\n",
       "      <td>NaN</td>\n",
       "      <td>NaN</td>\n",
       "    </tr>\n",
       "    <tr>\n",
       "      <th>2019-10-28</th>\n",
       "      <td>1.0</td>\n",
       "      <td>NaN</td>\n",
       "      <td>NaN</td>\n",
       "      <td>NaN</td>\n",
       "    </tr>\n",
       "  </tbody>\n",
       "</table>\n",
       "</div>"
      ],
      "text/plain": [
       "lifetime      0         1         2        3\n",
       "first_week                                  \n",
       "2019-10-07  1.0  0.240708  0.150442  0.10531\n",
       "2019-10-14  1.0  0.241852  0.132933 NaN     \n",
       "2019-10-21  1.0  0.218464 NaN       NaN     \n",
       "2019-10-28  1.0 NaN       NaN       NaN     "
      ]
     },
     "execution_count": 48,
     "metadata": {},
     "output_type": "execute_result"
    }
   ],
   "source": [
    "cohorts['retention'] = cohorts['user_id']/cohorts['cohort_users0']\n",
    "retention = cohorts.pivot_table(index='first_week', columns='lifetime', values='retention', aggfunc='sum')\n",
    "retention"
   ]
  },
  {
   "cell_type": "markdown",
   "metadata": {},
   "source": [
    "**Строю хитмэп**"
   ]
  },
  {
   "cell_type": "code",
   "execution_count": 49,
   "metadata": {},
   "outputs": [
    {
     "data": {
      "image/png": "[encoded data removed]",
      "text/plain": [
       "<Figure size 1080x432 with 2 Axes>"
      ]
     },
     "metadata": {
      "needs_background": "light"
     },
     "output_type": "display_data"
    }
   ],
   "source": [
    "plt.figure(figsize=(15, 6))  # задаём размер графика\n",
    "ax = sns.heatmap(\n",
    "    retention,  # удаляем размеры когорт\n",
    "    annot=True,  # включаем подписи\n",
    "    fmt='.2%',  # переводим значения в проценты\n",
    "    linewidths=0.5\n",
    ")\n",
    "plt.xlabel('Lifetime', fontsize=15)\n",
    "plt.ylabel('Неделя', fontsize=15)\n",
    "plt.title('Retention Rate', fontsize=18)# название графика\n",
    "ax.set_yticklabels(retention.index.date)\n",
    "plt.show() "
   ]
  },
  {
   "cell_type": "markdown",
   "metadata": {},
   "source": [
    "**Рассчитываю средний коэффициент удержания когорт**"
   ]
  },
  {
   "cell_type": "code",
   "execution_count": 50,
   "metadata": {},
   "outputs": [
    {
     "name": "stdout",
     "output_type": "stream",
     "text": [
      "2 неделя 23.37 %\n",
      "3 неделя 14.17 %\n",
      "4 неделя 10.53 %\n"
     ]
    }
   ],
   "source": [
    "print('2 неделя', ((retention[1].mean())*100).round(2), '%')\n",
    "print('3 неделя', ((retention[2].mean())*100).round(2), '%')\n",
    "print('4 неделя', ((retention[3].mean())*100).round(2), '%')"
   ]
  },
  {
   "cell_type": "markdown",
   "metadata": {},
   "source": [
    "**Средние коэффициенты удержания:**\n",
    "* 2 неделя - 23,37%\n",
    "* 3 неделя - 14,17%\n",
    "* 4 неделя - 10,53%"
   ]
  },
  {
   "cell_type": "markdown",
   "metadata": {},
   "source": [
    "**Ко второй неделе жизни когорт коэффициент удержания примерно 23%, к концу 4 недели пользователей остаётся всего 10,5%**"
   ]
  },
  {
   "cell_type": "markdown",
   "metadata": {},
   "source": [
    "# Рассчитываю конверсию"
   ]
  },
  {
   "cell_type": "markdown",
   "metadata": {},
   "source": [
    "**Создаю таблицу для рассчёта конверсии, вывожу её на экран**"
   ]
  },
  {
   "cell_type": "code",
   "execution_count": 51,
   "metadata": {},
   "outputs": [
    {
     "data": {
      "text/html": [
       "<div>\n",
       "<style scoped>\n",
       "    .dataframe tbody tr th:only-of-type {\n",
       "        vertical-align: middle;\n",
       "    }\n",
       "\n",
       "    .dataframe tbody tr th {\n",
       "        vertical-align: top;\n",
       "    }\n",
       "\n",
       "    .dataframe thead th {\n",
       "        text-align: right;\n",
       "    }\n",
       "</style>\n",
       "<table border=\"1\" class=\"dataframe\">\n",
       "  <thead>\n",
       "    <tr style=\"text-align: right;\">\n",
       "      <th></th>\n",
       "      <th>user_id</th>\n",
       "      <th>user_contacts_show</th>\n",
       "    </tr>\n",
       "  </thead>\n",
       "  <tbody>\n",
       "    <tr>\n",
       "      <th>0</th>\n",
       "      <td>user_id</td>\n",
       "      <td>981</td>\n",
       "    </tr>\n",
       "  </tbody>\n",
       "</table>\n",
       "</div>"
      ],
      "text/plain": [
       "   user_id  user_contacts_show\n",
       "0  user_id  981               "
      ]
     },
     "execution_count": 51,
     "metadata": {},
     "output_type": "execute_result"
    }
   ],
   "source": [
    "conversion = data.query('event_name == \"contacts_show\"').agg({'user_id': 'nunique'}).reset_index()\n",
    "conversion = conversion.rename(columns = {'index': 'user_id', 0: 'user_contacts_show'})\n",
    "conversion"
   ]
  },
  {
   "cell_type": "markdown",
   "metadata": {},
   "source": [
    "**Считаю конверсию отношением пользователей, совершивших целевое действие `contacts_show` к уникальным пользователям, вывожу таблицу на экран**"
   ]
  },
  {
   "cell_type": "code",
   "execution_count": 52,
   "metadata": {},
   "outputs": [
    {
     "data": {
      "text/html": [
       "<div>\n",
       "<style scoped>\n",
       "    .dataframe tbody tr th:only-of-type {\n",
       "        vertical-align: middle;\n",
       "    }\n",
       "\n",
       "    .dataframe tbody tr th {\n",
       "        vertical-align: top;\n",
       "    }\n",
       "\n",
       "    .dataframe thead th {\n",
       "        text-align: right;\n",
       "    }\n",
       "</style>\n",
       "<table border=\"1\" class=\"dataframe\">\n",
       "  <thead>\n",
       "    <tr style=\"text-align: right;\">\n",
       "      <th></th>\n",
       "      <th>user_id</th>\n",
       "      <th>user_contacts_show</th>\n",
       "      <th>conversion</th>\n",
       "    </tr>\n",
       "  </thead>\n",
       "  <tbody>\n",
       "    <tr>\n",
       "      <th>0</th>\n",
       "      <td>user_id</td>\n",
       "      <td>981</td>\n",
       "      <td>0.228512</td>\n",
       "    </tr>\n",
       "  </tbody>\n",
       "</table>\n",
       "</div>"
      ],
      "text/plain": [
       "   user_id  user_contacts_show  conversion\n",
       "0  user_id  981                 0.228512  "
      ]
     },
     "execution_count": 52,
     "metadata": {},
     "output_type": "execute_result"
    }
   ],
   "source": [
    "conversion['conversion'] = conversion['user_contacts_show'] / (data['user_id'].nunique())\n",
    "conversion"
   ]
  },
  {
   "cell_type": "markdown",
   "metadata": {},
   "source": [
    "**В среднем конверсия в приложении 22%, примерно каждый 4-5 пользователь просматривает номер телефона в приложении**"
   ]
  },
  {
   "cell_type": "markdown",
   "metadata": {},
   "source": [
    "**Вывод по исследовательскому анализу данных:**\n",
    "- Всего в данных 4293 уникальных пользователя\n",
    "- Первая пользовательская сессия была 7 октября в 00:00, последняя - 3 ноября в 23:58:12\n",
    "- На графике распределения событий по датам заметен спад количества событий 12 октября\n",
    "- Максимальная длительность сессии в сутки составила почти 1417 минут, 25% пользователей тратят в сутки 2.5 минуты, 50% пользоваталей пользуются приложением всего 11.8 минут в сутки, 75% пользователей пользуются приложением 48.8 минут в сутки\n",
    "- Пользователи видят рекомендованные объялвения более, чем в 4 раз чаще, чем любое другое действие в приложении\n",
    "- Ко второй неделе жизни когорт Retention Rate примерно 23%, к концу 4 недели пользователей остаётся всего 10,5%\n",
    "- В среднем конверсия в приложении 22%, примерно каждый 4-5 пользователь просматривает номер телефона в приложении"
   ]
  },
  {
   "cell_type": "markdown",
   "metadata": {},
   "source": [
    "# Сегментация пользователей"
   ]
  },
  {
   "cell_type": "markdown",
   "metadata": {},
   "source": [
    "**Думаю, вполне логично было бы разделить пользователей на 3 группы: `Yandex`, `Google` и `other`, после чего проверить конверсию и Retention Rate для каждой из групп**"
   ]
  },
  {
   "cell_type": "markdown",
   "metadata": {},
   "source": [
    "**Пользователи попадают в приложение благодаря 3 источникам трафкам `Yandex`, `Google` и `other`. Источником трафика `other` могут быть другие социальные сети, а также другие поисковые сайты. Чтобы в дальнейшем настроить рекламу, чтобы привлечь более подходящих нам пользователей с более высокой конверсией и Retention Rate, мы можем разделить пользователей на 3 группы: `Yandex`, `Google` и `other`, посчитать Retention Rate и конверсию в каждой из групп, чтобы понять, через какой источник трафика стоит привлекать больше всего пользователей, а через какой - не нужно. В конечном итоге результаты этого раздлеления могли бы принести прибыль для приложения. В каждой группе пользователей мы имеем достаточно данных, чтобы это разделение получилось с хорошей выборкой (`Yandex` - 1934 пользователей, `Google` - 1129 пользователей, `Other` - 1230)**\n",
    "\n",
    "- Пользователи не пересекаются между собой\n",
    "- Самый маленький сегмент (`Other`) составляет более 10% от самого большого сегмента (`Yandex`)"
   ]
  },
  {
   "cell_type": "markdown",
   "metadata": {},
   "source": [
    "# Рассчитываю Retention Rate для пользователей из каждой группы"
   ]
  },
  {
   "cell_type": "markdown",
   "metadata": {},
   "source": [
    "**Создаю таблицу, в которой группирую данные по `first_week` и `lifetime` для каждой группы, вывожу на экран**"
   ]
  },
  {
   "cell_type": "code",
   "execution_count": 53,
   "metadata": {},
   "outputs": [
    {
     "data": {
      "text/html": [
       "<div>\n",
       "<style scoped>\n",
       "    .dataframe tbody tr th:only-of-type {\n",
       "        vertical-align: middle;\n",
       "    }\n",
       "\n",
       "    .dataframe tbody tr th {\n",
       "        vertical-align: top;\n",
       "    }\n",
       "\n",
       "    .dataframe thead th {\n",
       "        text-align: right;\n",
       "    }\n",
       "</style>\n",
       "<table border=\"1\" class=\"dataframe\">\n",
       "  <thead>\n",
       "    <tr style=\"text-align: right;\">\n",
       "      <th></th>\n",
       "      <th>first_week</th>\n",
       "      <th>lifetime</th>\n",
       "      <th>user_id</th>\n",
       "    </tr>\n",
       "  </thead>\n",
       "  <tbody>\n",
       "    <tr>\n",
       "      <th>0</th>\n",
       "      <td>2019-10-07</td>\n",
       "      <td>0</td>\n",
       "      <td>284</td>\n",
       "    </tr>\n",
       "    <tr>\n",
       "      <th>1</th>\n",
       "      <td>2019-10-07</td>\n",
       "      <td>1</td>\n",
       "      <td>60</td>\n",
       "    </tr>\n",
       "    <tr>\n",
       "      <th>2</th>\n",
       "      <td>2019-10-07</td>\n",
       "      <td>2</td>\n",
       "      <td>41</td>\n",
       "    </tr>\n",
       "    <tr>\n",
       "      <th>3</th>\n",
       "      <td>2019-10-07</td>\n",
       "      <td>3</td>\n",
       "      <td>29</td>\n",
       "    </tr>\n",
       "    <tr>\n",
       "      <th>4</th>\n",
       "      <td>2019-10-14</td>\n",
       "      <td>0</td>\n",
       "      <td>333</td>\n",
       "    </tr>\n",
       "    <tr>\n",
       "      <th>5</th>\n",
       "      <td>2019-10-14</td>\n",
       "      <td>1</td>\n",
       "      <td>77</td>\n",
       "    </tr>\n",
       "    <tr>\n",
       "      <th>6</th>\n",
       "      <td>2019-10-14</td>\n",
       "      <td>2</td>\n",
       "      <td>42</td>\n",
       "    </tr>\n",
       "    <tr>\n",
       "      <th>7</th>\n",
       "      <td>2019-10-21</td>\n",
       "      <td>0</td>\n",
       "      <td>288</td>\n",
       "    </tr>\n",
       "    <tr>\n",
       "      <th>8</th>\n",
       "      <td>2019-10-21</td>\n",
       "      <td>1</td>\n",
       "      <td>58</td>\n",
       "    </tr>\n",
       "    <tr>\n",
       "      <th>9</th>\n",
       "      <td>2019-10-28</td>\n",
       "      <td>0</td>\n",
       "      <td>224</td>\n",
       "    </tr>\n",
       "  </tbody>\n",
       "</table>\n",
       "</div>"
      ],
      "text/plain": [
       "  first_week  lifetime  user_id\n",
       "0 2019-10-07  0         284    \n",
       "1 2019-10-07  1         60     \n",
       "2 2019-10-07  2         41     \n",
       "3 2019-10-07  3         29     \n",
       "4 2019-10-14  0         333    \n",
       "5 2019-10-14  1         77     \n",
       "6 2019-10-14  2         42     \n",
       "7 2019-10-21  0         288    \n",
       "8 2019-10-21  1         58     \n",
       "9 2019-10-28  0         224    "
      ]
     },
     "execution_count": 53,
     "metadata": {},
     "output_type": "execute_result"
    }
   ],
   "source": [
    "cohorts_google = data_active.query('source == \"google\"').groupby(['first_week','lifetime']).agg({'user_id':'nunique'}).reset_index()\n",
    "cohorts_google"
   ]
  },
  {
   "cell_type": "code",
   "execution_count": 54,
   "metadata": {},
   "outputs": [
    {
     "data": {
      "text/html": [
       "<div>\n",
       "<style scoped>\n",
       "    .dataframe tbody tr th:only-of-type {\n",
       "        vertical-align: middle;\n",
       "    }\n",
       "\n",
       "    .dataframe tbody tr th {\n",
       "        vertical-align: top;\n",
       "    }\n",
       "\n",
       "    .dataframe thead th {\n",
       "        text-align: right;\n",
       "    }\n",
       "</style>\n",
       "<table border=\"1\" class=\"dataframe\">\n",
       "  <thead>\n",
       "    <tr style=\"text-align: right;\">\n",
       "      <th></th>\n",
       "      <th>first_week</th>\n",
       "      <th>lifetime</th>\n",
       "      <th>user_id</th>\n",
       "    </tr>\n",
       "  </thead>\n",
       "  <tbody>\n",
       "    <tr>\n",
       "      <th>0</th>\n",
       "      <td>2019-10-07</td>\n",
       "      <td>0</td>\n",
       "      <td>538</td>\n",
       "    </tr>\n",
       "    <tr>\n",
       "      <th>1</th>\n",
       "      <td>2019-10-07</td>\n",
       "      <td>1</td>\n",
       "      <td>135</td>\n",
       "    </tr>\n",
       "    <tr>\n",
       "      <th>2</th>\n",
       "      <td>2019-10-07</td>\n",
       "      <td>2</td>\n",
       "      <td>74</td>\n",
       "    </tr>\n",
       "    <tr>\n",
       "      <th>3</th>\n",
       "      <td>2019-10-07</td>\n",
       "      <td>3</td>\n",
       "      <td>51</td>\n",
       "    </tr>\n",
       "    <tr>\n",
       "      <th>4</th>\n",
       "      <td>2019-10-14</td>\n",
       "      <td>0</td>\n",
       "      <td>506</td>\n",
       "    </tr>\n",
       "    <tr>\n",
       "      <th>5</th>\n",
       "      <td>2019-10-14</td>\n",
       "      <td>1</td>\n",
       "      <td>126</td>\n",
       "    </tr>\n",
       "    <tr>\n",
       "      <th>6</th>\n",
       "      <td>2019-10-14</td>\n",
       "      <td>2</td>\n",
       "      <td>66</td>\n",
       "    </tr>\n",
       "    <tr>\n",
       "      <th>7</th>\n",
       "      <td>2019-10-21</td>\n",
       "      <td>0</td>\n",
       "      <td>497</td>\n",
       "    </tr>\n",
       "    <tr>\n",
       "      <th>8</th>\n",
       "      <td>2019-10-21</td>\n",
       "      <td>1</td>\n",
       "      <td>111</td>\n",
       "    </tr>\n",
       "    <tr>\n",
       "      <th>9</th>\n",
       "      <td>2019-10-28</td>\n",
       "      <td>0</td>\n",
       "      <td>393</td>\n",
       "    </tr>\n",
       "  </tbody>\n",
       "</table>\n",
       "</div>"
      ],
      "text/plain": [
       "  first_week  lifetime  user_id\n",
       "0 2019-10-07  0         538    \n",
       "1 2019-10-07  1         135    \n",
       "2 2019-10-07  2         74     \n",
       "3 2019-10-07  3         51     \n",
       "4 2019-10-14  0         506    \n",
       "5 2019-10-14  1         126    \n",
       "6 2019-10-14  2         66     \n",
       "7 2019-10-21  0         497    \n",
       "8 2019-10-21  1         111    \n",
       "9 2019-10-28  0         393    "
      ]
     },
     "execution_count": 54,
     "metadata": {},
     "output_type": "execute_result"
    }
   ],
   "source": [
    "cohorts_yandex = data_active.query('source == \"yandex\"').groupby(['first_week','lifetime']).agg({'user_id':'nunique'}).reset_index()\n",
    "cohorts_yandex"
   ]
  },
  {
   "cell_type": "code",
   "execution_count": 55,
   "metadata": {},
   "outputs": [
    {
     "data": {
      "text/html": [
       "<div>\n",
       "<style scoped>\n",
       "    .dataframe tbody tr th:only-of-type {\n",
       "        vertical-align: middle;\n",
       "    }\n",
       "\n",
       "    .dataframe tbody tr th {\n",
       "        vertical-align: top;\n",
       "    }\n",
       "\n",
       "    .dataframe thead th {\n",
       "        text-align: right;\n",
       "    }\n",
       "</style>\n",
       "<table border=\"1\" class=\"dataframe\">\n",
       "  <thead>\n",
       "    <tr style=\"text-align: right;\">\n",
       "      <th></th>\n",
       "      <th>first_week</th>\n",
       "      <th>lifetime</th>\n",
       "      <th>user_id</th>\n",
       "    </tr>\n",
       "  </thead>\n",
       "  <tbody>\n",
       "    <tr>\n",
       "      <th>0</th>\n",
       "      <td>2019-10-07</td>\n",
       "      <td>0</td>\n",
       "      <td>308</td>\n",
       "    </tr>\n",
       "    <tr>\n",
       "      <th>1</th>\n",
       "      <td>2019-10-07</td>\n",
       "      <td>1</td>\n",
       "      <td>77</td>\n",
       "    </tr>\n",
       "    <tr>\n",
       "      <th>2</th>\n",
       "      <td>2019-10-07</td>\n",
       "      <td>2</td>\n",
       "      <td>55</td>\n",
       "    </tr>\n",
       "    <tr>\n",
       "      <th>3</th>\n",
       "      <td>2019-10-07</td>\n",
       "      <td>3</td>\n",
       "      <td>39</td>\n",
       "    </tr>\n",
       "    <tr>\n",
       "      <th>4</th>\n",
       "      <td>2019-10-14</td>\n",
       "      <td>0</td>\n",
       "      <td>327</td>\n",
       "    </tr>\n",
       "    <tr>\n",
       "      <th>5</th>\n",
       "      <td>2019-10-14</td>\n",
       "      <td>1</td>\n",
       "      <td>79</td>\n",
       "    </tr>\n",
       "    <tr>\n",
       "      <th>6</th>\n",
       "      <td>2019-10-14</td>\n",
       "      <td>2</td>\n",
       "      <td>47</td>\n",
       "    </tr>\n",
       "    <tr>\n",
       "      <th>7</th>\n",
       "      <td>2019-10-21</td>\n",
       "      <td>0</td>\n",
       "      <td>309</td>\n",
       "    </tr>\n",
       "    <tr>\n",
       "      <th>8</th>\n",
       "      <td>2019-10-21</td>\n",
       "      <td>1</td>\n",
       "      <td>70</td>\n",
       "    </tr>\n",
       "    <tr>\n",
       "      <th>9</th>\n",
       "      <td>2019-10-28</td>\n",
       "      <td>0</td>\n",
       "      <td>286</td>\n",
       "    </tr>\n",
       "  </tbody>\n",
       "</table>\n",
       "</div>"
      ],
      "text/plain": [
       "  first_week  lifetime  user_id\n",
       "0 2019-10-07  0         308    \n",
       "1 2019-10-07  1         77     \n",
       "2 2019-10-07  2         55     \n",
       "3 2019-10-07  3         39     \n",
       "4 2019-10-14  0         327    \n",
       "5 2019-10-14  1         79     \n",
       "6 2019-10-14  2         47     \n",
       "7 2019-10-21  0         309    \n",
       "8 2019-10-21  1         70     \n",
       "9 2019-10-28  0         286    "
      ]
     },
     "execution_count": 55,
     "metadata": {},
     "output_type": "execute_result"
    }
   ],
   "source": [
    "cohorts_other = data_active.query('source == \"other\"').groupby(['first_week','lifetime']).agg({'user_id':'nunique'}).reset_index()\n",
    "cohorts_other"
   ]
  },
  {
   "cell_type": "markdown",
   "metadata": {},
   "source": [
    "**Объединяю таблицы `users_count0` и `cohorts_google` по столбцу `first_week`, `users_count0` и `cohorts_yandex`, затем `users_count0` и `cohorts_other`, вывожу таблицы на экран**"
   ]
  },
  {
   "cell_type": "code",
   "execution_count": 56,
   "metadata": {},
   "outputs": [
    {
     "data": {
      "text/html": [
       "<div>\n",
       "<style scoped>\n",
       "    .dataframe tbody tr th:only-of-type {\n",
       "        vertical-align: middle;\n",
       "    }\n",
       "\n",
       "    .dataframe tbody tr th {\n",
       "        vertical-align: top;\n",
       "    }\n",
       "\n",
       "    .dataframe thead th {\n",
       "        text-align: right;\n",
       "    }\n",
       "</style>\n",
       "<table border=\"1\" class=\"dataframe\">\n",
       "  <thead>\n",
       "    <tr style=\"text-align: right;\">\n",
       "      <th></th>\n",
       "      <th>first_week</th>\n",
       "      <th>cohort_users0</th>\n",
       "      <th>lifetime</th>\n",
       "      <th>user_id</th>\n",
       "    </tr>\n",
       "  </thead>\n",
       "  <tbody>\n",
       "    <tr>\n",
       "      <th>0</th>\n",
       "      <td>2019-10-07</td>\n",
       "      <td>1130</td>\n",
       "      <td>0</td>\n",
       "      <td>284</td>\n",
       "    </tr>\n",
       "    <tr>\n",
       "      <th>1</th>\n",
       "      <td>2019-10-07</td>\n",
       "      <td>1130</td>\n",
       "      <td>1</td>\n",
       "      <td>60</td>\n",
       "    </tr>\n",
       "    <tr>\n",
       "      <th>2</th>\n",
       "      <td>2019-10-07</td>\n",
       "      <td>1130</td>\n",
       "      <td>2</td>\n",
       "      <td>41</td>\n",
       "    </tr>\n",
       "    <tr>\n",
       "      <th>3</th>\n",
       "      <td>2019-10-07</td>\n",
       "      <td>1130</td>\n",
       "      <td>3</td>\n",
       "      <td>29</td>\n",
       "    </tr>\n",
       "    <tr>\n",
       "      <th>4</th>\n",
       "      <td>2019-10-14</td>\n",
       "      <td>1166</td>\n",
       "      <td>0</td>\n",
       "      <td>333</td>\n",
       "    </tr>\n",
       "    <tr>\n",
       "      <th>5</th>\n",
       "      <td>2019-10-14</td>\n",
       "      <td>1166</td>\n",
       "      <td>1</td>\n",
       "      <td>77</td>\n",
       "    </tr>\n",
       "    <tr>\n",
       "      <th>6</th>\n",
       "      <td>2019-10-14</td>\n",
       "      <td>1166</td>\n",
       "      <td>2</td>\n",
       "      <td>42</td>\n",
       "    </tr>\n",
       "    <tr>\n",
       "      <th>7</th>\n",
       "      <td>2019-10-21</td>\n",
       "      <td>1094</td>\n",
       "      <td>0</td>\n",
       "      <td>288</td>\n",
       "    </tr>\n",
       "    <tr>\n",
       "      <th>8</th>\n",
       "      <td>2019-10-21</td>\n",
       "      <td>1094</td>\n",
       "      <td>1</td>\n",
       "      <td>58</td>\n",
       "    </tr>\n",
       "    <tr>\n",
       "      <th>9</th>\n",
       "      <td>2019-10-28</td>\n",
       "      <td>903</td>\n",
       "      <td>0</td>\n",
       "      <td>224</td>\n",
       "    </tr>\n",
       "  </tbody>\n",
       "</table>\n",
       "</div>"
      ],
      "text/plain": [
       "  first_week  cohort_users0  lifetime  user_id\n",
       "0 2019-10-07  1130           0         284    \n",
       "1 2019-10-07  1130           1         60     \n",
       "2 2019-10-07  1130           2         41     \n",
       "3 2019-10-07  1130           3         29     \n",
       "4 2019-10-14  1166           0         333    \n",
       "5 2019-10-14  1166           1         77     \n",
       "6 2019-10-14  1166           2         42     \n",
       "7 2019-10-21  1094           0         288    \n",
       "8 2019-10-21  1094           1         58     \n",
       "9 2019-10-28  903            0         224    "
      ]
     },
     "execution_count": 56,
     "metadata": {},
     "output_type": "execute_result"
    }
   ],
   "source": [
    "cohorts_google = users_count0.merge(cohorts_google, on='first_week', how='left')\n",
    "cohorts_google"
   ]
  },
  {
   "cell_type": "code",
   "execution_count": 57,
   "metadata": {},
   "outputs": [
    {
     "data": {
      "text/html": [
       "<div>\n",
       "<style scoped>\n",
       "    .dataframe tbody tr th:only-of-type {\n",
       "        vertical-align: middle;\n",
       "    }\n",
       "\n",
       "    .dataframe tbody tr th {\n",
       "        vertical-align: top;\n",
       "    }\n",
       "\n",
       "    .dataframe thead th {\n",
       "        text-align: right;\n",
       "    }\n",
       "</style>\n",
       "<table border=\"1\" class=\"dataframe\">\n",
       "  <thead>\n",
       "    <tr style=\"text-align: right;\">\n",
       "      <th></th>\n",
       "      <th>first_week</th>\n",
       "      <th>cohort_users0</th>\n",
       "      <th>lifetime</th>\n",
       "      <th>user_id</th>\n",
       "    </tr>\n",
       "  </thead>\n",
       "  <tbody>\n",
       "    <tr>\n",
       "      <th>0</th>\n",
       "      <td>2019-10-07</td>\n",
       "      <td>1130</td>\n",
       "      <td>0</td>\n",
       "      <td>538</td>\n",
       "    </tr>\n",
       "    <tr>\n",
       "      <th>1</th>\n",
       "      <td>2019-10-07</td>\n",
       "      <td>1130</td>\n",
       "      <td>1</td>\n",
       "      <td>135</td>\n",
       "    </tr>\n",
       "    <tr>\n",
       "      <th>2</th>\n",
       "      <td>2019-10-07</td>\n",
       "      <td>1130</td>\n",
       "      <td>2</td>\n",
       "      <td>74</td>\n",
       "    </tr>\n",
       "    <tr>\n",
       "      <th>3</th>\n",
       "      <td>2019-10-07</td>\n",
       "      <td>1130</td>\n",
       "      <td>3</td>\n",
       "      <td>51</td>\n",
       "    </tr>\n",
       "    <tr>\n",
       "      <th>4</th>\n",
       "      <td>2019-10-14</td>\n",
       "      <td>1166</td>\n",
       "      <td>0</td>\n",
       "      <td>506</td>\n",
       "    </tr>\n",
       "    <tr>\n",
       "      <th>5</th>\n",
       "      <td>2019-10-14</td>\n",
       "      <td>1166</td>\n",
       "      <td>1</td>\n",
       "      <td>126</td>\n",
       "    </tr>\n",
       "    <tr>\n",
       "      <th>6</th>\n",
       "      <td>2019-10-14</td>\n",
       "      <td>1166</td>\n",
       "      <td>2</td>\n",
       "      <td>66</td>\n",
       "    </tr>\n",
       "    <tr>\n",
       "      <th>7</th>\n",
       "      <td>2019-10-21</td>\n",
       "      <td>1094</td>\n",
       "      <td>0</td>\n",
       "      <td>497</td>\n",
       "    </tr>\n",
       "    <tr>\n",
       "      <th>8</th>\n",
       "      <td>2019-10-21</td>\n",
       "      <td>1094</td>\n",
       "      <td>1</td>\n",
       "      <td>111</td>\n",
       "    </tr>\n",
       "    <tr>\n",
       "      <th>9</th>\n",
       "      <td>2019-10-28</td>\n",
       "      <td>903</td>\n",
       "      <td>0</td>\n",
       "      <td>393</td>\n",
       "    </tr>\n",
       "  </tbody>\n",
       "</table>\n",
       "</div>"
      ],
      "text/plain": [
       "  first_week  cohort_users0  lifetime  user_id\n",
       "0 2019-10-07  1130           0         538    \n",
       "1 2019-10-07  1130           1         135    \n",
       "2 2019-10-07  1130           2         74     \n",
       "3 2019-10-07  1130           3         51     \n",
       "4 2019-10-14  1166           0         506    \n",
       "5 2019-10-14  1166           1         126    \n",
       "6 2019-10-14  1166           2         66     \n",
       "7 2019-10-21  1094           0         497    \n",
       "8 2019-10-21  1094           1         111    \n",
       "9 2019-10-28  903            0         393    "
      ]
     },
     "execution_count": 57,
     "metadata": {},
     "output_type": "execute_result"
    }
   ],
   "source": [
    "cohorts_yandex = users_count0.merge(cohorts_yandex, on='first_week', how='left')\n",
    "cohorts_yandex"
   ]
  },
  {
   "cell_type": "code",
   "execution_count": 58,
   "metadata": {},
   "outputs": [
    {
     "data": {
      "text/html": [
       "<div>\n",
       "<style scoped>\n",
       "    .dataframe tbody tr th:only-of-type {\n",
       "        vertical-align: middle;\n",
       "    }\n",
       "\n",
       "    .dataframe tbody tr th {\n",
       "        vertical-align: top;\n",
       "    }\n",
       "\n",
       "    .dataframe thead th {\n",
       "        text-align: right;\n",
       "    }\n",
       "</style>\n",
       "<table border=\"1\" class=\"dataframe\">\n",
       "  <thead>\n",
       "    <tr style=\"text-align: right;\">\n",
       "      <th></th>\n",
       "      <th>first_week</th>\n",
       "      <th>cohort_users0</th>\n",
       "      <th>lifetime</th>\n",
       "      <th>user_id</th>\n",
       "    </tr>\n",
       "  </thead>\n",
       "  <tbody>\n",
       "    <tr>\n",
       "      <th>0</th>\n",
       "      <td>2019-10-07</td>\n",
       "      <td>1130</td>\n",
       "      <td>0</td>\n",
       "      <td>308</td>\n",
       "    </tr>\n",
       "    <tr>\n",
       "      <th>1</th>\n",
       "      <td>2019-10-07</td>\n",
       "      <td>1130</td>\n",
       "      <td>1</td>\n",
       "      <td>77</td>\n",
       "    </tr>\n",
       "    <tr>\n",
       "      <th>2</th>\n",
       "      <td>2019-10-07</td>\n",
       "      <td>1130</td>\n",
       "      <td>2</td>\n",
       "      <td>55</td>\n",
       "    </tr>\n",
       "    <tr>\n",
       "      <th>3</th>\n",
       "      <td>2019-10-07</td>\n",
       "      <td>1130</td>\n",
       "      <td>3</td>\n",
       "      <td>39</td>\n",
       "    </tr>\n",
       "    <tr>\n",
       "      <th>4</th>\n",
       "      <td>2019-10-14</td>\n",
       "      <td>1166</td>\n",
       "      <td>0</td>\n",
       "      <td>327</td>\n",
       "    </tr>\n",
       "    <tr>\n",
       "      <th>5</th>\n",
       "      <td>2019-10-14</td>\n",
       "      <td>1166</td>\n",
       "      <td>1</td>\n",
       "      <td>79</td>\n",
       "    </tr>\n",
       "    <tr>\n",
       "      <th>6</th>\n",
       "      <td>2019-10-14</td>\n",
       "      <td>1166</td>\n",
       "      <td>2</td>\n",
       "      <td>47</td>\n",
       "    </tr>\n",
       "    <tr>\n",
       "      <th>7</th>\n",
       "      <td>2019-10-21</td>\n",
       "      <td>1094</td>\n",
       "      <td>0</td>\n",
       "      <td>309</td>\n",
       "    </tr>\n",
       "    <tr>\n",
       "      <th>8</th>\n",
       "      <td>2019-10-21</td>\n",
       "      <td>1094</td>\n",
       "      <td>1</td>\n",
       "      <td>70</td>\n",
       "    </tr>\n",
       "    <tr>\n",
       "      <th>9</th>\n",
       "      <td>2019-10-28</td>\n",
       "      <td>903</td>\n",
       "      <td>0</td>\n",
       "      <td>286</td>\n",
       "    </tr>\n",
       "  </tbody>\n",
       "</table>\n",
       "</div>"
      ],
      "text/plain": [
       "  first_week  cohort_users0  lifetime  user_id\n",
       "0 2019-10-07  1130           0         308    \n",
       "1 2019-10-07  1130           1         77     \n",
       "2 2019-10-07  1130           2         55     \n",
       "3 2019-10-07  1130           3         39     \n",
       "4 2019-10-14  1166           0         327    \n",
       "5 2019-10-14  1166           1         79     \n",
       "6 2019-10-14  1166           2         47     \n",
       "7 2019-10-21  1094           0         309    \n",
       "8 2019-10-21  1094           1         70     \n",
       "9 2019-10-28  903            0         286    "
      ]
     },
     "execution_count": 58,
     "metadata": {},
     "output_type": "execute_result"
    }
   ],
   "source": [
    "cohorts_other = users_count0.merge(cohorts_other, on='first_week', how='left')\n",
    "cohorts_other"
   ]
  },
  {
   "cell_type": "markdown",
   "metadata": {},
   "source": [
    "**Считаю Retention Rate для каждой группы пользователей**"
   ]
  },
  {
   "cell_type": "code",
   "execution_count": 59,
   "metadata": {},
   "outputs": [
    {
     "data": {
      "text/html": [
       "<div>\n",
       "<style scoped>\n",
       "    .dataframe tbody tr th:only-of-type {\n",
       "        vertical-align: middle;\n",
       "    }\n",
       "\n",
       "    .dataframe tbody tr th {\n",
       "        vertical-align: top;\n",
       "    }\n",
       "\n",
       "    .dataframe thead th {\n",
       "        text-align: right;\n",
       "    }\n",
       "</style>\n",
       "<table border=\"1\" class=\"dataframe\">\n",
       "  <thead>\n",
       "    <tr style=\"text-align: right;\">\n",
       "      <th>lifetime</th>\n",
       "      <th>0</th>\n",
       "      <th>1</th>\n",
       "      <th>2</th>\n",
       "      <th>3</th>\n",
       "    </tr>\n",
       "    <tr>\n",
       "      <th>first_week</th>\n",
       "      <th></th>\n",
       "      <th></th>\n",
       "      <th></th>\n",
       "      <th></th>\n",
       "    </tr>\n",
       "  </thead>\n",
       "  <tbody>\n",
       "    <tr>\n",
       "      <th>2019-10-07</th>\n",
       "      <td>0.251327</td>\n",
       "      <td>0.053097</td>\n",
       "      <td>0.036283</td>\n",
       "      <td>0.025664</td>\n",
       "    </tr>\n",
       "    <tr>\n",
       "      <th>2019-10-14</th>\n",
       "      <td>0.285592</td>\n",
       "      <td>0.066038</td>\n",
       "      <td>0.036021</td>\n",
       "      <td>NaN</td>\n",
       "    </tr>\n",
       "    <tr>\n",
       "      <th>2019-10-21</th>\n",
       "      <td>0.263254</td>\n",
       "      <td>0.053016</td>\n",
       "      <td>NaN</td>\n",
       "      <td>NaN</td>\n",
       "    </tr>\n",
       "    <tr>\n",
       "      <th>2019-10-28</th>\n",
       "      <td>0.248062</td>\n",
       "      <td>NaN</td>\n",
       "      <td>NaN</td>\n",
       "      <td>NaN</td>\n",
       "    </tr>\n",
       "  </tbody>\n",
       "</table>\n",
       "</div>"
      ],
      "text/plain": [
       "lifetime           0         1         2         3\n",
       "first_week                                        \n",
       "2019-10-07  0.251327  0.053097  0.036283  0.025664\n",
       "2019-10-14  0.285592  0.066038  0.036021 NaN      \n",
       "2019-10-21  0.263254  0.053016 NaN       NaN      \n",
       "2019-10-28  0.248062 NaN       NaN       NaN      "
      ]
     },
     "execution_count": 59,
     "metadata": {},
     "output_type": "execute_result"
    }
   ],
   "source": [
    "cohorts_google['retention'] = cohorts_google['user_id']/cohorts_google['cohort_users0']\n",
    "retention_google = cohorts_google.pivot_table(index='first_week', columns='lifetime', values='retention', aggfunc='sum')\n",
    "retention_google"
   ]
  },
  {
   "cell_type": "code",
   "execution_count": 60,
   "metadata": {},
   "outputs": [
    {
     "data": {
      "text/html": [
       "<div>\n",
       "<style scoped>\n",
       "    .dataframe tbody tr th:only-of-type {\n",
       "        vertical-align: middle;\n",
       "    }\n",
       "\n",
       "    .dataframe tbody tr th {\n",
       "        vertical-align: top;\n",
       "    }\n",
       "\n",
       "    .dataframe thead th {\n",
       "        text-align: right;\n",
       "    }\n",
       "</style>\n",
       "<table border=\"1\" class=\"dataframe\">\n",
       "  <thead>\n",
       "    <tr style=\"text-align: right;\">\n",
       "      <th>lifetime</th>\n",
       "      <th>0</th>\n",
       "      <th>1</th>\n",
       "      <th>2</th>\n",
       "      <th>3</th>\n",
       "    </tr>\n",
       "    <tr>\n",
       "      <th>first_week</th>\n",
       "      <th></th>\n",
       "      <th></th>\n",
       "      <th></th>\n",
       "      <th></th>\n",
       "    </tr>\n",
       "  </thead>\n",
       "  <tbody>\n",
       "    <tr>\n",
       "      <th>2019-10-07</th>\n",
       "      <td>0.476106</td>\n",
       "      <td>0.119469</td>\n",
       "      <td>0.065487</td>\n",
       "      <td>0.045133</td>\n",
       "    </tr>\n",
       "    <tr>\n",
       "      <th>2019-10-14</th>\n",
       "      <td>0.433962</td>\n",
       "      <td>0.108062</td>\n",
       "      <td>0.056604</td>\n",
       "      <td>NaN</td>\n",
       "    </tr>\n",
       "    <tr>\n",
       "      <th>2019-10-21</th>\n",
       "      <td>0.454296</td>\n",
       "      <td>0.101463</td>\n",
       "      <td>NaN</td>\n",
       "      <td>NaN</td>\n",
       "    </tr>\n",
       "    <tr>\n",
       "      <th>2019-10-28</th>\n",
       "      <td>0.435216</td>\n",
       "      <td>NaN</td>\n",
       "      <td>NaN</td>\n",
       "      <td>NaN</td>\n",
       "    </tr>\n",
       "  </tbody>\n",
       "</table>\n",
       "</div>"
      ],
      "text/plain": [
       "lifetime           0         1         2         3\n",
       "first_week                                        \n",
       "2019-10-07  0.476106  0.119469  0.065487  0.045133\n",
       "2019-10-14  0.433962  0.108062  0.056604 NaN      \n",
       "2019-10-21  0.454296  0.101463 NaN       NaN      \n",
       "2019-10-28  0.435216 NaN       NaN       NaN      "
      ]
     },
     "execution_count": 60,
     "metadata": {},
     "output_type": "execute_result"
    }
   ],
   "source": [
    "cohorts_yandex['retention'] = cohorts_yandex['user_id']/cohorts_yandex['cohort_users0']\n",
    "retention_yandex = cohorts_yandex.pivot_table(index='first_week', columns='lifetime', values='retention', aggfunc='sum')\n",
    "retention_yandex"
   ]
  },
  {
   "cell_type": "code",
   "execution_count": 61,
   "metadata": {},
   "outputs": [
    {
     "data": {
      "text/html": [
       "<div>\n",
       "<style scoped>\n",
       "    .dataframe tbody tr th:only-of-type {\n",
       "        vertical-align: middle;\n",
       "    }\n",
       "\n",
       "    .dataframe tbody tr th {\n",
       "        vertical-align: top;\n",
       "    }\n",
       "\n",
       "    .dataframe thead th {\n",
       "        text-align: right;\n",
       "    }\n",
       "</style>\n",
       "<table border=\"1\" class=\"dataframe\">\n",
       "  <thead>\n",
       "    <tr style=\"text-align: right;\">\n",
       "      <th>lifetime</th>\n",
       "      <th>0</th>\n",
       "      <th>1</th>\n",
       "      <th>2</th>\n",
       "      <th>3</th>\n",
       "    </tr>\n",
       "    <tr>\n",
       "      <th>first_week</th>\n",
       "      <th></th>\n",
       "      <th></th>\n",
       "      <th></th>\n",
       "      <th></th>\n",
       "    </tr>\n",
       "  </thead>\n",
       "  <tbody>\n",
       "    <tr>\n",
       "      <th>2019-10-07</th>\n",
       "      <td>0.272566</td>\n",
       "      <td>0.068142</td>\n",
       "      <td>0.048673</td>\n",
       "      <td>0.034513</td>\n",
       "    </tr>\n",
       "    <tr>\n",
       "      <th>2019-10-14</th>\n",
       "      <td>0.280446</td>\n",
       "      <td>0.067753</td>\n",
       "      <td>0.040309</td>\n",
       "      <td>NaN</td>\n",
       "    </tr>\n",
       "    <tr>\n",
       "      <th>2019-10-21</th>\n",
       "      <td>0.282450</td>\n",
       "      <td>0.063985</td>\n",
       "      <td>NaN</td>\n",
       "      <td>NaN</td>\n",
       "    </tr>\n",
       "    <tr>\n",
       "      <th>2019-10-28</th>\n",
       "      <td>0.316722</td>\n",
       "      <td>NaN</td>\n",
       "      <td>NaN</td>\n",
       "      <td>NaN</td>\n",
       "    </tr>\n",
       "  </tbody>\n",
       "</table>\n",
       "</div>"
      ],
      "text/plain": [
       "lifetime           0         1         2         3\n",
       "first_week                                        \n",
       "2019-10-07  0.272566  0.068142  0.048673  0.034513\n",
       "2019-10-14  0.280446  0.067753  0.040309 NaN      \n",
       "2019-10-21  0.282450  0.063985 NaN       NaN      \n",
       "2019-10-28  0.316722 NaN       NaN       NaN      "
      ]
     },
     "execution_count": 61,
     "metadata": {},
     "output_type": "execute_result"
    }
   ],
   "source": [
    "cohorts_other['retention'] = cohorts_other['user_id']/cohorts_other['cohort_users0']\n",
    "retention_other = cohorts_other.pivot_table(index='first_week', columns='lifetime', values='retention', aggfunc='sum')\n",
    "retention_other"
   ]
  },
  {
   "cell_type": "markdown",
   "metadata": {},
   "source": [
    "**Строю хитмэп для каждой группы пользователей**"
   ]
  },
  {
   "cell_type": "code",
   "execution_count": 62,
   "metadata": {},
   "outputs": [
    {
     "data": {
      "image/png": "[encoded data removed]",
      "text/plain": [
       "<Figure size 1080x432 with 2 Axes>"
      ]
     },
     "metadata": {
      "needs_background": "light"
     },
     "output_type": "display_data"
    }
   ],
   "source": [
    "plt.figure(figsize=(15, 6))  # задаём размер графика\n",
    "ax = sns.heatmap(\n",
    "    retention_google,  # удаляем размеры когорт\n",
    "    annot=True,  # включаем подписи\n",
    "    fmt='.2%',  # переводим значения в проценты\n",
    "    linewidths=0.5\n",
    ")\n",
    "plt.xlabel('Lifetime', fontsize=15)\n",
    "plt.ylabel('Неделя', fontsize=15)\n",
    "plt.title('Retention Rate для пользователей группы Google', fontsize=18)  # название графика\n",
    "ax.set_yticklabels(retention_google.index.date)\n",
    "plt.show() "
   ]
  },
  {
   "cell_type": "markdown",
   "metadata": {},
   "source": [
    "**Удержание пользователей `Google`:**\n",
    "* 2 неделя - 5,71%\n",
    "* 3 неделя - 3,62%\n",
    "* 4 неделя - 2,57%"
   ]
  },
  {
   "cell_type": "code",
   "execution_count": 63,
   "metadata": {},
   "outputs": [
    {
     "data": {
      "image/png": "[encoded data removed]",
      "text/plain": [
       "<Figure size 1080x432 with 2 Axes>"
      ]
     },
     "metadata": {
      "needs_background": "light"
     },
     "output_type": "display_data"
    }
   ],
   "source": [
    "plt.figure(figsize=(15, 6))  # задаём размер графика\n",
    "ax = sns.heatmap(\n",
    "    retention_yandex,  # удаляем размеры когорт\n",
    "    annot=True,  # включаем подписи\n",
    "    fmt='.2%',  # переводим значения в проценты\n",
    "    linewidths=0.5\n",
    ")\n",
    "plt.xlabel('Lifetime', fontsize=15)\n",
    "plt.ylabel('Неделя', fontsize=15)\n",
    "plt.title('Retention Rate для пользователей группы Yandex', fontsize=18)  # название графика\n",
    "ax.set_yticklabels(retention_yandex.index.date)\n",
    "plt.show() "
   ]
  },
  {
   "cell_type": "markdown",
   "metadata": {},
   "source": [
    "**Удержание пользователей `Yandex`:**\n",
    "* 2 неделя - 10,97%\n",
    "* 3 неделя - 6,1%\n",
    "* 4 неделя - 4,51%"
   ]
  },
  {
   "cell_type": "code",
   "execution_count": 64,
   "metadata": {},
   "outputs": [
    {
     "data": {
      "image/png": "[encoded data removed]",
      "text/plain": [
       "<Figure size 1080x432 with 2 Axes>"
      ]
     },
     "metadata": {
      "needs_background": "light"
     },
     "output_type": "display_data"
    }
   ],
   "source": [
    "plt.figure(figsize=(15, 6))  # задаём размер графика\n",
    "ax = sns.heatmap(\n",
    "    retention_other,  # удаляем размеры когорт\n",
    "    annot=True,  # включаем подписи\n",
    "    fmt='.2%',  # переводим значения в проценты\n",
    "    linewidths=0.5\n",
    ")\n",
    "plt.xlabel('Lifetime', fontsize=15)\n",
    "plt.ylabel('Неделя', fontsize=15)\n",
    "plt.title('Retention Rate для пользователей группы other', fontsize=18)  # название графика\n",
    "ax.set_yticklabels(retention_other.index.date)\n",
    "plt.show() "
   ]
  },
  {
   "cell_type": "markdown",
   "metadata": {},
   "source": [
    "**Удержание пользователей `Other`:**\n",
    "* 2 неделя - 6,6%\n",
    "* 3 неделя - 4,45%\n",
    "* 4 неделя - 3,45%"
   ]
  },
  {
   "cell_type": "markdown",
   "metadata": {},
   "source": [
    "**Рассчитываю средний коэффициент удержания когорт для каждой группы**"
   ]
  },
  {
   "cell_type": "code",
   "execution_count": 65,
   "metadata": {},
   "outputs": [
    {
     "name": "stdout",
     "output_type": "stream",
     "text": [
      "2 неделя 5.74 %\n",
      "3 неделя 3.62 %\n",
      "4 неделя 2.57 %\n"
     ]
    }
   ],
   "source": [
    "print('2 неделя', ((retention_google[1].mean())*100).round(2), '%')\n",
    "print('3 неделя', ((retention_google[2].mean())*100).round(2), '%')\n",
    "print('4 неделя', ((retention_google[3].mean())*100).round(2), '%')"
   ]
  },
  {
   "cell_type": "code",
   "execution_count": 66,
   "metadata": {},
   "outputs": [
    {
     "name": "stdout",
     "output_type": "stream",
     "text": [
      "2 неделя 10.97 %\n",
      "3 неделя 6.1 %\n",
      "4 неделя 4.51 %\n"
     ]
    }
   ],
   "source": [
    "print('2 неделя', ((retention_yandex[1].mean())*100).round(2), '%')\n",
    "print('3 неделя', ((retention_yandex[2].mean())*100).round(2), '%')\n",
    "print('4 неделя', ((retention_yandex[3].mean())*100).round(2), '%')"
   ]
  },
  {
   "cell_type": "code",
   "execution_count": 67,
   "metadata": {},
   "outputs": [
    {
     "name": "stdout",
     "output_type": "stream",
     "text": [
      "2 неделя 6.66 %\n",
      "3 неделя 4.45 %\n",
      "4 неделя 3.45 %\n"
     ]
    }
   ],
   "source": [
    "print('2 неделя', ((retention_other[1].mean())*100).round(2), '%')\n",
    "print('3 неделя', ((retention_other[2].mean())*100).round(2), '%')\n",
    "print('4 неделя', ((retention_other[3].mean())*100).round(2), '%')"
   ]
  },
  {
   "cell_type": "markdown",
   "metadata": {},
   "source": [
    "**Удержание пользователей `Google`:**\n",
    "* 2 неделя - 5,71%\n",
    "* 3 неделя - 3,62%\n",
    "* 4 неделя - 2,57%\n",
    "\n",
    "**Удержание пользователей `Yandex`:**\n",
    "* 2 неделя - 10,97%\n",
    "* 3 неделя - 6,1%\n",
    "* 4 неделя - 4,51%\n",
    "\n",
    "**Удержание пользователей `Other`:**\n",
    "* 2 неделя - 6,6%\n",
    "* 3 неделя - 4,45%\n",
    "* 4 неделя - 3,45%"
   ]
  },
  {
   "cell_type": "markdown",
   "metadata": {},
   "source": [
    "**Самое лучшее удержание у пользователей, которые пришли в приложение через `Yandex`, чуть хуже через источник трафика `other`, а самое низкое удержание у пользователей, пришедших через `Google`**"
   ]
  },
  {
   "cell_type": "markdown",
   "metadata": {},
   "source": [
    "# Рассчитываю конверсию для пользователей из каждой группы"
   ]
  },
  {
   "cell_type": "markdown",
   "metadata": {},
   "source": [
    "**Создаю таблицы для рассчёта конверсии для каждой группы пользователей, вывожу её на экран**"
   ]
  },
  {
   "cell_type": "code",
   "execution_count": 68,
   "metadata": {},
   "outputs": [
    {
     "data": {
      "text/html": [
       "<div>\n",
       "<style scoped>\n",
       "    .dataframe tbody tr th:only-of-type {\n",
       "        vertical-align: middle;\n",
       "    }\n",
       "\n",
       "    .dataframe tbody tr th {\n",
       "        vertical-align: top;\n",
       "    }\n",
       "\n",
       "    .dataframe thead th {\n",
       "        text-align: right;\n",
       "    }\n",
       "</style>\n",
       "<table border=\"1\" class=\"dataframe\">\n",
       "  <thead>\n",
       "    <tr style=\"text-align: right;\">\n",
       "      <th></th>\n",
       "      <th>user_id</th>\n",
       "      <th>user_contacts_show</th>\n",
       "    </tr>\n",
       "  </thead>\n",
       "  <tbody>\n",
       "    <tr>\n",
       "      <th>0</th>\n",
       "      <td>user_id</td>\n",
       "      <td>275</td>\n",
       "    </tr>\n",
       "  </tbody>\n",
       "</table>\n",
       "</div>"
      ],
      "text/plain": [
       "   user_id  user_contacts_show\n",
       "0  user_id  275               "
      ]
     },
     "execution_count": 68,
     "metadata": {},
     "output_type": "execute_result"
    }
   ],
   "source": [
    "conversion_google = data.query('event_name == \"contacts_show\"').query('source == \"google\"').agg({'user_id': 'nunique'}).reset_index()\n",
    "conversion_google = conversion_google.rename(columns = {'index': 'user_id', 0: 'user_contacts_show'})\n",
    "conversion_google"
   ]
  },
  {
   "cell_type": "code",
   "execution_count": 69,
   "metadata": {},
   "outputs": [
    {
     "data": {
      "text/html": [
       "<div>\n",
       "<style scoped>\n",
       "    .dataframe tbody tr th:only-of-type {\n",
       "        vertical-align: middle;\n",
       "    }\n",
       "\n",
       "    .dataframe tbody tr th {\n",
       "        vertical-align: top;\n",
       "    }\n",
       "\n",
       "    .dataframe thead th {\n",
       "        text-align: right;\n",
       "    }\n",
       "</style>\n",
       "<table border=\"1\" class=\"dataframe\">\n",
       "  <thead>\n",
       "    <tr style=\"text-align: right;\">\n",
       "      <th></th>\n",
       "      <th>user_id</th>\n",
       "      <th>user_contacts_show</th>\n",
       "    </tr>\n",
       "  </thead>\n",
       "  <tbody>\n",
       "    <tr>\n",
       "      <th>0</th>\n",
       "      <td>user_id</td>\n",
       "      <td>478</td>\n",
       "    </tr>\n",
       "  </tbody>\n",
       "</table>\n",
       "</div>"
      ],
      "text/plain": [
       "   user_id  user_contacts_show\n",
       "0  user_id  478               "
      ]
     },
     "execution_count": 69,
     "metadata": {},
     "output_type": "execute_result"
    }
   ],
   "source": [
    "conversion_yandex = data.query('event_name == \"contacts_show\"').query('source == \"yandex\"').agg({'user_id': 'nunique'}).reset_index()\n",
    "conversion_yandex = conversion_yandex.rename(columns = {'index': 'user_id', 0: 'user_contacts_show'})\n",
    "conversion_yandex"
   ]
  },
  {
   "cell_type": "code",
   "execution_count": 70,
   "metadata": {},
   "outputs": [
    {
     "data": {
      "text/html": [
       "<div>\n",
       "<style scoped>\n",
       "    .dataframe tbody tr th:only-of-type {\n",
       "        vertical-align: middle;\n",
       "    }\n",
       "\n",
       "    .dataframe tbody tr th {\n",
       "        vertical-align: top;\n",
       "    }\n",
       "\n",
       "    .dataframe thead th {\n",
       "        text-align: right;\n",
       "    }\n",
       "</style>\n",
       "<table border=\"1\" class=\"dataframe\">\n",
       "  <thead>\n",
       "    <tr style=\"text-align: right;\">\n",
       "      <th></th>\n",
       "      <th>user_id</th>\n",
       "      <th>user_contacts_show</th>\n",
       "    </tr>\n",
       "  </thead>\n",
       "  <tbody>\n",
       "    <tr>\n",
       "      <th>0</th>\n",
       "      <td>user_id</td>\n",
       "      <td>228</td>\n",
       "    </tr>\n",
       "  </tbody>\n",
       "</table>\n",
       "</div>"
      ],
      "text/plain": [
       "   user_id  user_contacts_show\n",
       "0  user_id  228               "
      ]
     },
     "execution_count": 70,
     "metadata": {},
     "output_type": "execute_result"
    }
   ],
   "source": [
    "conversion_other = data.query('event_name == \"contacts_show\"').query('source == \"other\"').agg({'user_id': 'nunique'}).reset_index()\n",
    "conversion_other = conversion_other.rename(columns = {'index': 'user_id', 0: 'user_contacts_show'})\n",
    "conversion_other"
   ]
  },
  {
   "cell_type": "markdown",
   "metadata": {},
   "source": [
    "**Создаю таблицу для каждой группы пользователей для дальнейшего рассчёта конверсии**"
   ]
  },
  {
   "cell_type": "code",
   "execution_count": 71,
   "metadata": {},
   "outputs": [
    {
     "data": {
      "text/html": [
       "<div>\n",
       "<style scoped>\n",
       "    .dataframe tbody tr th:only-of-type {\n",
       "        vertical-align: middle;\n",
       "    }\n",
       "\n",
       "    .dataframe tbody tr th {\n",
       "        vertical-align: top;\n",
       "    }\n",
       "\n",
       "    .dataframe thead th {\n",
       "        text-align: right;\n",
       "    }\n",
       "</style>\n",
       "<table border=\"1\" class=\"dataframe\">\n",
       "  <thead>\n",
       "    <tr style=\"text-align: right;\">\n",
       "      <th></th>\n",
       "      <th>event_time</th>\n",
       "      <th>event_name</th>\n",
       "      <th>user_id</th>\n",
       "      <th>source</th>\n",
       "      <th>event_date</th>\n",
       "    </tr>\n",
       "  </thead>\n",
       "  <tbody>\n",
       "    <tr>\n",
       "      <th>37</th>\n",
       "      <td>2019-10-07 00:09:33</td>\n",
       "      <td>tips_show</td>\n",
       "      <td>f32e1e2a-3027-4693-b793-b7b3ff274439</td>\n",
       "      <td>google</td>\n",
       "      <td>2019-10-07</td>\n",
       "    </tr>\n",
       "    <tr>\n",
       "      <th>44</th>\n",
       "      <td>2019-10-07 00:11:48</td>\n",
       "      <td>tips_show</td>\n",
       "      <td>f32e1e2a-3027-4693-b793-b7b3ff274439</td>\n",
       "      <td>google</td>\n",
       "      <td>2019-10-07</td>\n",
       "    </tr>\n",
       "    <tr>\n",
       "      <th>49</th>\n",
       "      <td>2019-10-07 00:13:34</td>\n",
       "      <td>tips_show</td>\n",
       "      <td>f32e1e2a-3027-4693-b793-b7b3ff274439</td>\n",
       "      <td>google</td>\n",
       "      <td>2019-10-07</td>\n",
       "    </tr>\n",
       "    <tr>\n",
       "      <th>50</th>\n",
       "      <td>2019-10-07 00:13:45</td>\n",
       "      <td>tips_show</td>\n",
       "      <td>f32e1e2a-3027-4693-b793-b7b3ff274439</td>\n",
       "      <td>google</td>\n",
       "      <td>2019-10-07</td>\n",
       "    </tr>\n",
       "    <tr>\n",
       "      <th>57</th>\n",
       "      <td>2019-10-07 00:15:03</td>\n",
       "      <td>tips_show</td>\n",
       "      <td>f32e1e2a-3027-4693-b793-b7b3ff274439</td>\n",
       "      <td>google</td>\n",
       "      <td>2019-10-07</td>\n",
       "    </tr>\n",
       "    <tr>\n",
       "      <th>...</th>\n",
       "      <td>...</td>\n",
       "      <td>...</td>\n",
       "      <td>...</td>\n",
       "      <td>...</td>\n",
       "      <td>...</td>\n",
       "    </tr>\n",
       "    <tr>\n",
       "      <th>74192</th>\n",
       "      <td>2019-11-03 23:53:29</td>\n",
       "      <td>tips_show</td>\n",
       "      <td>28fccdf4-7b9e-42f5-bc73-439a265f20e9</td>\n",
       "      <td>google</td>\n",
       "      <td>2019-11-03</td>\n",
       "    </tr>\n",
       "    <tr>\n",
       "      <th>74193</th>\n",
       "      <td>2019-11-03 23:54:00</td>\n",
       "      <td>tips_show</td>\n",
       "      <td>28fccdf4-7b9e-42f5-bc73-439a265f20e9</td>\n",
       "      <td>google</td>\n",
       "      <td>2019-11-03</td>\n",
       "    </tr>\n",
       "    <tr>\n",
       "      <th>74194</th>\n",
       "      <td>2019-11-03 23:56:57</td>\n",
       "      <td>search</td>\n",
       "      <td>20850c8f-4135-4059-b13b-198d3ac59902</td>\n",
       "      <td>google</td>\n",
       "      <td>2019-11-03</td>\n",
       "    </tr>\n",
       "    <tr>\n",
       "      <th>74195</th>\n",
       "      <td>2019-11-03 23:57:06</td>\n",
       "      <td>tips_show</td>\n",
       "      <td>28fccdf4-7b9e-42f5-bc73-439a265f20e9</td>\n",
       "      <td>google</td>\n",
       "      <td>2019-11-03</td>\n",
       "    </tr>\n",
       "    <tr>\n",
       "      <th>74196</th>\n",
       "      <td>2019-11-03 23:58:12</td>\n",
       "      <td>tips_show</td>\n",
       "      <td>28fccdf4-7b9e-42f5-bc73-439a265f20e9</td>\n",
       "      <td>google</td>\n",
       "      <td>2019-11-03</td>\n",
       "    </tr>\n",
       "  </tbody>\n",
       "</table>\n",
       "<p>20135 rows × 5 columns</p>\n",
       "</div>"
      ],
      "text/plain": [
       "               event_time event_name                               user_id  \\\n",
       "37    2019-10-07 00:09:33  tips_show  f32e1e2a-3027-4693-b793-b7b3ff274439   \n",
       "44    2019-10-07 00:11:48  tips_show  f32e1e2a-3027-4693-b793-b7b3ff274439   \n",
       "49    2019-10-07 00:13:34  tips_show  f32e1e2a-3027-4693-b793-b7b3ff274439   \n",
       "50    2019-10-07 00:13:45  tips_show  f32e1e2a-3027-4693-b793-b7b3ff274439   \n",
       "57    2019-10-07 00:15:03  tips_show  f32e1e2a-3027-4693-b793-b7b3ff274439   \n",
       "...                   ...        ...                                   ...   \n",
       "74192 2019-11-03 23:53:29  tips_show  28fccdf4-7b9e-42f5-bc73-439a265f20e9   \n",
       "74193 2019-11-03 23:54:00  tips_show  28fccdf4-7b9e-42f5-bc73-439a265f20e9   \n",
       "74194 2019-11-03 23:56:57  search     20850c8f-4135-4059-b13b-198d3ac59902   \n",
       "74195 2019-11-03 23:57:06  tips_show  28fccdf4-7b9e-42f5-bc73-439a265f20e9   \n",
       "74196 2019-11-03 23:58:12  tips_show  28fccdf4-7b9e-42f5-bc73-439a265f20e9   \n",
       "\n",
       "       source event_date  \n",
       "37     google 2019-10-07  \n",
       "44     google 2019-10-07  \n",
       "49     google 2019-10-07  \n",
       "50     google 2019-10-07  \n",
       "57     google 2019-10-07  \n",
       "...       ...        ...  \n",
       "74192  google 2019-11-03  \n",
       "74193  google 2019-11-03  \n",
       "74194  google 2019-11-03  \n",
       "74195  google 2019-11-03  \n",
       "74196  google 2019-11-03  \n",
       "\n",
       "[20135 rows x 5 columns]"
      ]
     },
     "execution_count": 71,
     "metadata": {},
     "output_type": "execute_result"
    }
   ],
   "source": [
    "data_google = data.query('source == \"google\"')\n",
    "data_google"
   ]
  },
  {
   "cell_type": "code",
   "execution_count": 72,
   "metadata": {},
   "outputs": [
    {
     "data": {
      "text/html": [
       "<div>\n",
       "<style scoped>\n",
       "    .dataframe tbody tr th:only-of-type {\n",
       "        vertical-align: middle;\n",
       "    }\n",
       "\n",
       "    .dataframe tbody tr th {\n",
       "        vertical-align: top;\n",
       "    }\n",
       "\n",
       "    .dataframe thead th {\n",
       "        text-align: right;\n",
       "    }\n",
       "</style>\n",
       "<table border=\"1\" class=\"dataframe\">\n",
       "  <thead>\n",
       "    <tr style=\"text-align: right;\">\n",
       "      <th></th>\n",
       "      <th>event_time</th>\n",
       "      <th>event_name</th>\n",
       "      <th>user_id</th>\n",
       "      <th>source</th>\n",
       "      <th>event_date</th>\n",
       "    </tr>\n",
       "  </thead>\n",
       "  <tbody>\n",
       "    <tr>\n",
       "      <th>2</th>\n",
       "      <td>2019-10-07 00:00:02</td>\n",
       "      <td>tips_show</td>\n",
       "      <td>cf7eda61-9349-469f-ac27-e5b6f5ec475c</td>\n",
       "      <td>yandex</td>\n",
       "      <td>2019-10-07</td>\n",
       "    </tr>\n",
       "    <tr>\n",
       "      <th>4</th>\n",
       "      <td>2019-10-07 00:00:56</td>\n",
       "      <td>advert_open</td>\n",
       "      <td>cf7eda61-9349-469f-ac27-e5b6f5ec475c</td>\n",
       "      <td>yandex</td>\n",
       "      <td>2019-10-07</td>\n",
       "    </tr>\n",
       "    <tr>\n",
       "      <th>5</th>\n",
       "      <td>2019-10-07 00:01:19</td>\n",
       "      <td>tips_show</td>\n",
       "      <td>cf7eda61-9349-469f-ac27-e5b6f5ec475c</td>\n",
       "      <td>yandex</td>\n",
       "      <td>2019-10-07</td>\n",
       "    </tr>\n",
       "    <tr>\n",
       "      <th>8</th>\n",
       "      <td>2019-10-07 00:01:49</td>\n",
       "      <td>advert_open</td>\n",
       "      <td>cf7eda61-9349-469f-ac27-e5b6f5ec475c</td>\n",
       "      <td>yandex</td>\n",
       "      <td>2019-10-07</td>\n",
       "    </tr>\n",
       "    <tr>\n",
       "      <th>11</th>\n",
       "      <td>2019-10-07 00:02:06</td>\n",
       "      <td>tips_show</td>\n",
       "      <td>cf7eda61-9349-469f-ac27-e5b6f5ec475c</td>\n",
       "      <td>yandex</td>\n",
       "      <td>2019-10-07</td>\n",
       "    </tr>\n",
       "    <tr>\n",
       "      <th>...</th>\n",
       "      <td>...</td>\n",
       "      <td>...</td>\n",
       "      <td>...</td>\n",
       "      <td>...</td>\n",
       "      <td>...</td>\n",
       "    </tr>\n",
       "    <tr>\n",
       "      <th>74181</th>\n",
       "      <td>2019-11-03 23:47:35</td>\n",
       "      <td>photos_show</td>\n",
       "      <td>12681fdf-d1d1-454b-9b92-e8a3ccfaf07b</td>\n",
       "      <td>yandex</td>\n",
       "      <td>2019-11-03</td>\n",
       "    </tr>\n",
       "    <tr>\n",
       "      <th>74184</th>\n",
       "      <td>2019-11-03 23:48:47</td>\n",
       "      <td>tips_click</td>\n",
       "      <td>c10055f0-0b47-477a-869e-d391b31fdf8f</td>\n",
       "      <td>yandex</td>\n",
       "      <td>2019-11-03</td>\n",
       "    </tr>\n",
       "    <tr>\n",
       "      <th>74187</th>\n",
       "      <td>2019-11-03 23:50:05</td>\n",
       "      <td>tips_click</td>\n",
       "      <td>c10055f0-0b47-477a-869e-d391b31fdf8f</td>\n",
       "      <td>yandex</td>\n",
       "      <td>2019-11-03</td>\n",
       "    </tr>\n",
       "    <tr>\n",
       "      <th>74188</th>\n",
       "      <td>2019-11-03 23:51:08</td>\n",
       "      <td>tips_click</td>\n",
       "      <td>c10055f0-0b47-477a-869e-d391b31fdf8f</td>\n",
       "      <td>yandex</td>\n",
       "      <td>2019-11-03</td>\n",
       "    </tr>\n",
       "    <tr>\n",
       "      <th>74189</th>\n",
       "      <td>2019-11-03 23:52:01</td>\n",
       "      <td>tips_click</td>\n",
       "      <td>c10055f0-0b47-477a-869e-d391b31fdf8f</td>\n",
       "      <td>yandex</td>\n",
       "      <td>2019-11-03</td>\n",
       "    </tr>\n",
       "  </tbody>\n",
       "</table>\n",
       "<p>33819 rows × 5 columns</p>\n",
       "</div>"
      ],
      "text/plain": [
       "               event_time   event_name                               user_id  \\\n",
       "2     2019-10-07 00:00:02  tips_show    cf7eda61-9349-469f-ac27-e5b6f5ec475c   \n",
       "4     2019-10-07 00:00:56  advert_open  cf7eda61-9349-469f-ac27-e5b6f5ec475c   \n",
       "5     2019-10-07 00:01:19  tips_show    cf7eda61-9349-469f-ac27-e5b6f5ec475c   \n",
       "8     2019-10-07 00:01:49  advert_open  cf7eda61-9349-469f-ac27-e5b6f5ec475c   \n",
       "11    2019-10-07 00:02:06  tips_show    cf7eda61-9349-469f-ac27-e5b6f5ec475c   \n",
       "...                   ...        ...                                     ...   \n",
       "74181 2019-11-03 23:47:35  photos_show  12681fdf-d1d1-454b-9b92-e8a3ccfaf07b   \n",
       "74184 2019-11-03 23:48:47  tips_click   c10055f0-0b47-477a-869e-d391b31fdf8f   \n",
       "74187 2019-11-03 23:50:05  tips_click   c10055f0-0b47-477a-869e-d391b31fdf8f   \n",
       "74188 2019-11-03 23:51:08  tips_click   c10055f0-0b47-477a-869e-d391b31fdf8f   \n",
       "74189 2019-11-03 23:52:01  tips_click   c10055f0-0b47-477a-869e-d391b31fdf8f   \n",
       "\n",
       "       source event_date  \n",
       "2      yandex 2019-10-07  \n",
       "4      yandex 2019-10-07  \n",
       "5      yandex 2019-10-07  \n",
       "8      yandex 2019-10-07  \n",
       "11     yandex 2019-10-07  \n",
       "...       ...        ...  \n",
       "74181  yandex 2019-11-03  \n",
       "74184  yandex 2019-11-03  \n",
       "74187  yandex 2019-11-03  \n",
       "74188  yandex 2019-11-03  \n",
       "74189  yandex 2019-11-03  \n",
       "\n",
       "[33819 rows x 5 columns]"
      ]
     },
     "execution_count": 72,
     "metadata": {},
     "output_type": "execute_result"
    }
   ],
   "source": [
    "data_yandex = data.query('source == \"yandex\"')\n",
    "data_yandex"
   ]
  },
  {
   "cell_type": "code",
   "execution_count": 73,
   "metadata": {},
   "outputs": [
    {
     "data": {
      "text/html": [
       "<div>\n",
       "<style scoped>\n",
       "    .dataframe tbody tr th:only-of-type {\n",
       "        vertical-align: middle;\n",
       "    }\n",
       "\n",
       "    .dataframe tbody tr th {\n",
       "        vertical-align: top;\n",
       "    }\n",
       "\n",
       "    .dataframe thead th {\n",
       "        text-align: right;\n",
       "    }\n",
       "</style>\n",
       "<table border=\"1\" class=\"dataframe\">\n",
       "  <thead>\n",
       "    <tr style=\"text-align: right;\">\n",
       "      <th></th>\n",
       "      <th>event_time</th>\n",
       "      <th>event_name</th>\n",
       "      <th>user_id</th>\n",
       "      <th>source</th>\n",
       "      <th>event_date</th>\n",
       "    </tr>\n",
       "  </thead>\n",
       "  <tbody>\n",
       "    <tr>\n",
       "      <th>0</th>\n",
       "      <td>2019-10-07 00:00:00</td>\n",
       "      <td>advert_open</td>\n",
       "      <td>020292ab-89bc-4156-9acf-68bc2783f894</td>\n",
       "      <td>other</td>\n",
       "      <td>2019-10-07</td>\n",
       "    </tr>\n",
       "    <tr>\n",
       "      <th>1</th>\n",
       "      <td>2019-10-07 00:00:01</td>\n",
       "      <td>tips_show</td>\n",
       "      <td>020292ab-89bc-4156-9acf-68bc2783f894</td>\n",
       "      <td>other</td>\n",
       "      <td>2019-10-07</td>\n",
       "    </tr>\n",
       "    <tr>\n",
       "      <th>3</th>\n",
       "      <td>2019-10-07 00:00:07</td>\n",
       "      <td>tips_show</td>\n",
       "      <td>020292ab-89bc-4156-9acf-68bc2783f894</td>\n",
       "      <td>other</td>\n",
       "      <td>2019-10-07</td>\n",
       "    </tr>\n",
       "    <tr>\n",
       "      <th>6</th>\n",
       "      <td>2019-10-07 00:01:27</td>\n",
       "      <td>advert_open</td>\n",
       "      <td>020292ab-89bc-4156-9acf-68bc2783f894</td>\n",
       "      <td>other</td>\n",
       "      <td>2019-10-07</td>\n",
       "    </tr>\n",
       "    <tr>\n",
       "      <th>7</th>\n",
       "      <td>2019-10-07 00:01:34</td>\n",
       "      <td>tips_show</td>\n",
       "      <td>020292ab-89bc-4156-9acf-68bc2783f894</td>\n",
       "      <td>other</td>\n",
       "      <td>2019-10-07</td>\n",
       "    </tr>\n",
       "    <tr>\n",
       "      <th>...</th>\n",
       "      <td>...</td>\n",
       "      <td>...</td>\n",
       "      <td>...</td>\n",
       "      <td>...</td>\n",
       "      <td>...</td>\n",
       "    </tr>\n",
       "    <tr>\n",
       "      <th>74105</th>\n",
       "      <td>2019-11-03 23:05:37</td>\n",
       "      <td>photos_show</td>\n",
       "      <td>804ba62d-0844-44cf-9853-0fd2d03ce3c8</td>\n",
       "      <td>other</td>\n",
       "      <td>2019-11-03</td>\n",
       "    </tr>\n",
       "    <tr>\n",
       "      <th>74116</th>\n",
       "      <td>2019-11-03 23:09:27</td>\n",
       "      <td>tips_show</td>\n",
       "      <td>87a6fff9-134a-467d-a100-a606995025cd</td>\n",
       "      <td>other</td>\n",
       "      <td>2019-11-03</td>\n",
       "    </tr>\n",
       "    <tr>\n",
       "      <th>74118</th>\n",
       "      <td>2019-11-03 23:09:53</td>\n",
       "      <td>contacts_show</td>\n",
       "      <td>87a6fff9-134a-467d-a100-a606995025cd</td>\n",
       "      <td>other</td>\n",
       "      <td>2019-11-03</td>\n",
       "    </tr>\n",
       "    <tr>\n",
       "      <th>74121</th>\n",
       "      <td>2019-11-03 23:10:21</td>\n",
       "      <td>tips_show</td>\n",
       "      <td>87a6fff9-134a-467d-a100-a606995025cd</td>\n",
       "      <td>other</td>\n",
       "      <td>2019-11-03</td>\n",
       "    </tr>\n",
       "    <tr>\n",
       "      <th>74125</th>\n",
       "      <td>2019-11-03 23:11:54</td>\n",
       "      <td>photos_show</td>\n",
       "      <td>804ba62d-0844-44cf-9853-0fd2d03ce3c8</td>\n",
       "      <td>other</td>\n",
       "      <td>2019-11-03</td>\n",
       "    </tr>\n",
       "  </tbody>\n",
       "</table>\n",
       "<p>19019 rows × 5 columns</p>\n",
       "</div>"
      ],
      "text/plain": [
       "               event_time     event_name  \\\n",
       "0     2019-10-07 00:00:00  advert_open     \n",
       "1     2019-10-07 00:00:01  tips_show       \n",
       "3     2019-10-07 00:00:07  tips_show       \n",
       "6     2019-10-07 00:01:27  advert_open     \n",
       "7     2019-10-07 00:01:34  tips_show       \n",
       "...                   ...        ...       \n",
       "74105 2019-11-03 23:05:37  photos_show     \n",
       "74116 2019-11-03 23:09:27  tips_show       \n",
       "74118 2019-11-03 23:09:53  contacts_show   \n",
       "74121 2019-11-03 23:10:21  tips_show       \n",
       "74125 2019-11-03 23:11:54  photos_show     \n",
       "\n",
       "                                    user_id source event_date  \n",
       "0      020292ab-89bc-4156-9acf-68bc2783f894  other 2019-10-07  \n",
       "1      020292ab-89bc-4156-9acf-68bc2783f894  other 2019-10-07  \n",
       "3      020292ab-89bc-4156-9acf-68bc2783f894  other 2019-10-07  \n",
       "6      020292ab-89bc-4156-9acf-68bc2783f894  other 2019-10-07  \n",
       "7      020292ab-89bc-4156-9acf-68bc2783f894  other 2019-10-07  \n",
       "...                                     ...    ...        ...  \n",
       "74105  804ba62d-0844-44cf-9853-0fd2d03ce3c8  other 2019-11-03  \n",
       "74116  87a6fff9-134a-467d-a100-a606995025cd  other 2019-11-03  \n",
       "74118  87a6fff9-134a-467d-a100-a606995025cd  other 2019-11-03  \n",
       "74121  87a6fff9-134a-467d-a100-a606995025cd  other 2019-11-03  \n",
       "74125  804ba62d-0844-44cf-9853-0fd2d03ce3c8  other 2019-11-03  \n",
       "\n",
       "[19019 rows x 5 columns]"
      ]
     },
     "execution_count": 73,
     "metadata": {},
     "output_type": "execute_result"
    }
   ],
   "source": [
    "data_other = data.query('source == \"other\"')\n",
    "data_other"
   ]
  },
  {
   "cell_type": "markdown",
   "metadata": {},
   "source": [
    "**Считаю конверсию отношением пользователей, совершивших целевое действие `contacts_show` к уникальным пользователям, вывожу таблицы на экран**"
   ]
  },
  {
   "cell_type": "code",
   "execution_count": 74,
   "metadata": {},
   "outputs": [
    {
     "data": {
      "text/html": [
       "<div>\n",
       "<style scoped>\n",
       "    .dataframe tbody tr th:only-of-type {\n",
       "        vertical-align: middle;\n",
       "    }\n",
       "\n",
       "    .dataframe tbody tr th {\n",
       "        vertical-align: top;\n",
       "    }\n",
       "\n",
       "    .dataframe thead th {\n",
       "        text-align: right;\n",
       "    }\n",
       "</style>\n",
       "<table border=\"1\" class=\"dataframe\">\n",
       "  <thead>\n",
       "    <tr style=\"text-align: right;\">\n",
       "      <th></th>\n",
       "      <th>user_id</th>\n",
       "      <th>user_contacts_show</th>\n",
       "      <th>conversion</th>\n",
       "    </tr>\n",
       "  </thead>\n",
       "  <tbody>\n",
       "    <tr>\n",
       "      <th>0</th>\n",
       "      <td>user_id</td>\n",
       "      <td>275</td>\n",
       "      <td>0.243578</td>\n",
       "    </tr>\n",
       "  </tbody>\n",
       "</table>\n",
       "</div>"
      ],
      "text/plain": [
       "   user_id  user_contacts_show  conversion\n",
       "0  user_id  275                 0.243578  "
      ]
     },
     "execution_count": 74,
     "metadata": {},
     "output_type": "execute_result"
    }
   ],
   "source": [
    "conversion_google['conversion'] = conversion_google['user_contacts_show'] / (data_google['user_id'].nunique())\n",
    "conversion_google"
   ]
  },
  {
   "cell_type": "code",
   "execution_count": 75,
   "metadata": {},
   "outputs": [
    {
     "data": {
      "text/html": [
       "<div>\n",
       "<style scoped>\n",
       "    .dataframe tbody tr th:only-of-type {\n",
       "        vertical-align: middle;\n",
       "    }\n",
       "\n",
       "    .dataframe tbody tr th {\n",
       "        vertical-align: top;\n",
       "    }\n",
       "\n",
       "    .dataframe thead th {\n",
       "        text-align: right;\n",
       "    }\n",
       "</style>\n",
       "<table border=\"1\" class=\"dataframe\">\n",
       "  <thead>\n",
       "    <tr style=\"text-align: right;\">\n",
       "      <th></th>\n",
       "      <th>user_id</th>\n",
       "      <th>user_contacts_show</th>\n",
       "      <th>conversion</th>\n",
       "    </tr>\n",
       "  </thead>\n",
       "  <tbody>\n",
       "    <tr>\n",
       "      <th>0</th>\n",
       "      <td>user_id</td>\n",
       "      <td>478</td>\n",
       "      <td>0.247156</td>\n",
       "    </tr>\n",
       "  </tbody>\n",
       "</table>\n",
       "</div>"
      ],
      "text/plain": [
       "   user_id  user_contacts_show  conversion\n",
       "0  user_id  478                 0.247156  "
      ]
     },
     "execution_count": 75,
     "metadata": {},
     "output_type": "execute_result"
    }
   ],
   "source": [
    "conversion_yandex['conversion'] = conversion_yandex['user_contacts_show'] / (data_yandex['user_id'].nunique())\n",
    "conversion_yandex"
   ]
  },
  {
   "cell_type": "code",
   "execution_count": 76,
   "metadata": {},
   "outputs": [
    {
     "data": {
      "text/html": [
       "<div>\n",
       "<style scoped>\n",
       "    .dataframe tbody tr th:only-of-type {\n",
       "        vertical-align: middle;\n",
       "    }\n",
       "\n",
       "    .dataframe tbody tr th {\n",
       "        vertical-align: top;\n",
       "    }\n",
       "\n",
       "    .dataframe thead th {\n",
       "        text-align: right;\n",
       "    }\n",
       "</style>\n",
       "<table border=\"1\" class=\"dataframe\">\n",
       "  <thead>\n",
       "    <tr style=\"text-align: right;\">\n",
       "      <th></th>\n",
       "      <th>user_id</th>\n",
       "      <th>user_contacts_show</th>\n",
       "      <th>conversion</th>\n",
       "    </tr>\n",
       "  </thead>\n",
       "  <tbody>\n",
       "    <tr>\n",
       "      <th>0</th>\n",
       "      <td>user_id</td>\n",
       "      <td>228</td>\n",
       "      <td>0.185366</td>\n",
       "    </tr>\n",
       "  </tbody>\n",
       "</table>\n",
       "</div>"
      ],
      "text/plain": [
       "   user_id  user_contacts_show  conversion\n",
       "0  user_id  228                 0.185366  "
      ]
     },
     "execution_count": 76,
     "metadata": {},
     "output_type": "execute_result"
    }
   ],
   "source": [
    "conversion_other['conversion'] = conversion_other['user_contacts_show'] / (data_other['user_id'].nunique())\n",
    "conversion_other"
   ]
  },
  {
   "cell_type": "markdown",
   "metadata": {},
   "source": [
    "**Конверсия пользователей по группам:**\n",
    "* Yandex - 0.247156\n",
    "* Google - 0.243578\n",
    "* Other - 0.185366\n",
    "\n",
    "**Самую худшую конверсию показывает группа пользователей `Other`, `Google` и `Yandex` показывают примерно одинаковую конверсию, но при этом у `Yandex` она слегка выше**"
   ]
  },
  {
   "cell_type": "markdown",
   "metadata": {},
   "source": [
    "# Вывод по сегмнетации:\n",
    "- Пользователи были раздены на 3 группы: `Google`, `Yandex` и `Other`\n",
    "- `Google` и `Yandex` имеют примерно одинаковые конверсии\n",
    "- Пользователи группы `Other` имеют самую низкую конверсию\n",
    "- Лучший показатель Retention Rate наблюдается у пользователей `Yandex`\n",
    "- Худший показатель Retention Rate наблюдается у пользователей `Google`\n",
    "\n",
    "**Рекомендации:**\n",
    "- Обратить внимание на пользователей, привлечённых в приложении через `Google`, несмотря на их низкое удержание в приложении, они имеют примерно такую же конверсию, как и пользователи `Yandex`\n",
    "- Стараться привлекать больше пользователей `Yandex`, так как они имеют лучшие показатели Retenrion Rate и конверсии"
   ]
  },
  {
   "cell_type": "markdown",
   "metadata": {},
   "source": [
    "# Формулировка гипотез и их проверка"
   ]
  },
  {
   "cell_type": "markdown",
   "metadata": {},
   "source": [
    "**Гипотеза №1. Некоторые пользователи установили приложение по ссылке из `Yandex`, другие — из `Google`. Проверить гипотезу: две эти группы демонстрируют разную конверсию в просмотры контактов.**"
   ]
  },
  {
   "cell_type": "markdown",
   "metadata": {},
   "source": [
    "H0 - статистически значимых различий в конверсиях между группами пользователей нет (нулевая гипотеза)\n",
    "\n",
    "H1 - статистические различия между конверсиями групп пользователей есть (альтернативная гипотеза)"
   ]
  },
  {
   "cell_type": "markdown",
   "metadata": {},
   "source": [
    "**Создаю таблицу для рассчёта конверсии в группах `Yandex` и `Google`**"
   ]
  },
  {
   "cell_type": "code",
   "execution_count": 77,
   "metadata": {},
   "outputs": [
    {
     "data": {
      "text/html": [
       "<div>\n",
       "<style scoped>\n",
       "    .dataframe tbody tr th:only-of-type {\n",
       "        vertical-align: middle;\n",
       "    }\n",
       "\n",
       "    .dataframe tbody tr th {\n",
       "        vertical-align: top;\n",
       "    }\n",
       "\n",
       "    .dataframe thead th {\n",
       "        text-align: right;\n",
       "    }\n",
       "</style>\n",
       "<table border=\"1\" class=\"dataframe\">\n",
       "  <thead>\n",
       "    <tr style=\"text-align: right;\">\n",
       "      <th></th>\n",
       "      <th>source</th>\n",
       "      <th>user_contacts_show</th>\n",
       "    </tr>\n",
       "  </thead>\n",
       "  <tbody>\n",
       "    <tr>\n",
       "      <th>0</th>\n",
       "      <td>google</td>\n",
       "      <td>275</td>\n",
       "    </tr>\n",
       "    <tr>\n",
       "      <th>1</th>\n",
       "      <td>other</td>\n",
       "      <td>228</td>\n",
       "    </tr>\n",
       "    <tr>\n",
       "      <th>2</th>\n",
       "      <td>yandex</td>\n",
       "      <td>478</td>\n",
       "    </tr>\n",
       "  </tbody>\n",
       "</table>\n",
       "</div>"
      ],
      "text/plain": [
       "   source  user_contacts_show\n",
       "0  google  275               \n",
       "1  other   228               \n",
       "2  yandex  478               "
      ]
     },
     "execution_count": 77,
     "metadata": {},
     "output_type": "execute_result"
    }
   ],
   "source": [
    "conversion = data.query('event_name == \"contacts_show\"').groupby('source').agg({'user_id': 'nunique'}).reset_index()\n",
    "conversion = conversion.rename(columns = {'user_id': 'user_contacts_show'})\n",
    "conversion"
   ]
  },
  {
   "cell_type": "code",
   "execution_count": 78,
   "metadata": {},
   "outputs": [
    {
     "data": {
      "text/html": [
       "<div>\n",
       "<style scoped>\n",
       "    .dataframe tbody tr th:only-of-type {\n",
       "        vertical-align: middle;\n",
       "    }\n",
       "\n",
       "    .dataframe tbody tr th {\n",
       "        vertical-align: top;\n",
       "    }\n",
       "\n",
       "    .dataframe thead th {\n",
       "        text-align: right;\n",
       "    }\n",
       "</style>\n",
       "<table border=\"1\" class=\"dataframe\">\n",
       "  <thead>\n",
       "    <tr style=\"text-align: right;\">\n",
       "      <th></th>\n",
       "      <th>source</th>\n",
       "      <th>user_contacts_show</th>\n",
       "      <th>unique_users_google</th>\n",
       "      <th>unique_users_yandex</th>\n",
       "    </tr>\n",
       "  </thead>\n",
       "  <tbody>\n",
       "    <tr>\n",
       "      <th>0</th>\n",
       "      <td>google</td>\n",
       "      <td>275</td>\n",
       "      <td>1129</td>\n",
       "      <td>1934</td>\n",
       "    </tr>\n",
       "    <tr>\n",
       "      <th>2</th>\n",
       "      <td>yandex</td>\n",
       "      <td>478</td>\n",
       "      <td>1129</td>\n",
       "      <td>1934</td>\n",
       "    </tr>\n",
       "  </tbody>\n",
       "</table>\n",
       "</div>"
      ],
      "text/plain": [
       "   source  user_contacts_show  unique_users_google  unique_users_yandex\n",
       "0  google  275                 1129                 1934               \n",
       "2  yandex  478                 1129                 1934               "
      ]
     },
     "execution_count": 78,
     "metadata": {},
     "output_type": "execute_result"
    }
   ],
   "source": [
    "conversion_google_yandex = conversion.query('source == \"google\" or source == \"yandex\"')\n",
    "conversion_google_yandex['unique_users_google'] = (data.query('source == \"google\"')['user_id'].nunique())\n",
    "conversion_google_yandex['unique_users_yandex'] = (data.query('source == \"yandex\"')['user_id'].nunique())\n",
    "conversion_google_yandex"
   ]
  },
  {
   "cell_type": "markdown",
   "metadata": {},
   "source": [
    "**Проверяю статистическую гипотезу**"
   ]
  },
  {
   "cell_type": "code",
   "execution_count": 79,
   "metadata": {},
   "outputs": [
    {
     "name": "stdout",
     "output_type": "stream",
     "text": [
      "p-значение:  [0.8244316]\n",
      "Не получилось отвергнуть нулевую гипотезу, нет оснований считать конверсии в группах разными\n"
     ]
    }
   ],
   "source": [
    "alpha = 0.05  \n",
    "\n",
    "event_users = np.array([conversion_google_yandex.query('source == \"google\"')['user_contacts_show'],\n",
    "                        conversion_google_yandex.query('source == \"yandex\"')['user_contacts_show']])\n",
    "total_users = np.array([conversion_google_yandex.query('source == \"google\"')['unique_users_google'],\n",
    "                        conversion_google_yandex.query('source == \"yandex\"')['unique_users_yandex']])\n",
    "\n",
    "\n",
    "#конверсия для обеих групп\n",
    "p1 = event_users[0]/total_users[0]\n",
    "p2 = event_users[1]/total_users[1]\n",
    "#в комбинированном\n",
    "p_combined = (event_users[0] + event_users[1]) / (total_users[0] + total_users[1])\n",
    "#разница конверсий в датасетах\n",
    "difference = p1 - p2\n",
    "#считаю статистику в стандартных отклонениях стандартного нормального распределения\n",
    "z_value = difference / mth.sqrt(p_combined * (1 - p_combined) * \\\n",
    "                                    (1 / total_users[0] + 1 / total_users[1]))\n",
    "\n",
    "#задаю стандартное нормальное распределение со средним 0 и стандартным отклонением 1)\n",
    "distr = st.norm(0, 1)\n",
    "\n",
    "p_value = (1 - distr.cdf(abs(z_value))) * 2\n",
    "\n",
    "print('p-значение: ', p_value)\n",
    "\n",
    "if p_value < alpha:\n",
    "    print('Отвергаем нулевую гипотезу: между конверсиями групп есть значимая разница')\n",
    "else:\n",
    "    print('Не получилось отвергнуть нулевую гипотезу, нет оснований считать конверсии в группах разными')"
   ]
  },
  {
   "cell_type": "markdown",
   "metadata": {},
   "source": [
    "**Нулевая гипотеза подтвердилась, статистически значимых различий в конверсиях между группами пользователей нет**"
   ]
  },
  {
   "cell_type": "markdown",
   "metadata": {},
   "source": [
    "**Формулирую собственную гипотезу и проверяю её**"
   ]
  },
  {
   "cell_type": "markdown",
   "metadata": {},
   "source": [
    "**Гипотеза №2. Некоторые пользователи установили приложение по ссылке из `Yandex`, другие — из `Google`. Проверить гипотезу: две эти группы демонстрируют разную длительность пользовательских сессий**"
   ]
  },
  {
   "cell_type": "markdown",
   "metadata": {},
   "source": [
    "H0 - разницы между длительностью пользовательских сессий нет (нулевая гипотеза)\n",
    "\n",
    "H1 - разница между длительностью пользовательских сессий есть (альтернативная гипотеза)"
   ]
  },
  {
   "cell_type": "markdown",
   "metadata": {},
   "source": [
    "**Добавляю столбец длительности `session_duration_seconds` сессии в секундах, вывожу таблицу на экран**"
   ]
  },
  {
   "cell_type": "code",
   "execution_count": 80,
   "metadata": {},
   "outputs": [
    {
     "data": {
      "text/html": [
       "<div>\n",
       "<style scoped>\n",
       "    .dataframe tbody tr th:only-of-type {\n",
       "        vertical-align: middle;\n",
       "    }\n",
       "\n",
       "    .dataframe tbody tr th {\n",
       "        vertical-align: top;\n",
       "    }\n",
       "\n",
       "    .dataframe thead th {\n",
       "        text-align: right;\n",
       "    }\n",
       "</style>\n",
       "<table border=\"1\" class=\"dataframe\">\n",
       "  <thead>\n",
       "    <tr style=\"text-align: right;\">\n",
       "      <th></th>\n",
       "      <th>user_id</th>\n",
       "      <th>event_date</th>\n",
       "      <th>event_time_max</th>\n",
       "      <th>event_time_min</th>\n",
       "      <th>session_duration</th>\n",
       "      <th>session_duration_minute</th>\n",
       "      <th>session_duration_seconds</th>\n",
       "    </tr>\n",
       "  </thead>\n",
       "  <tbody>\n",
       "    <tr>\n",
       "      <th>0</th>\n",
       "      <td>0001b1d5-b74a-4cbf-aeb0-7df5947bf349</td>\n",
       "      <td>2019-10-07</td>\n",
       "      <td>2019-10-07 13:49:41</td>\n",
       "      <td>2019-10-07 13:39:45</td>\n",
       "      <td>596</td>\n",
       "      <td>9.9</td>\n",
       "      <td>35760</td>\n",
       "    </tr>\n",
       "    <tr>\n",
       "      <th>1</th>\n",
       "      <td>0001b1d5-b74a-4cbf-aeb0-7df5947bf349</td>\n",
       "      <td>2019-10-09</td>\n",
       "      <td>2019-10-09 18:42:22</td>\n",
       "      <td>2019-10-09 18:33:55</td>\n",
       "      <td>507</td>\n",
       "      <td>8.4</td>\n",
       "      <td>30420</td>\n",
       "    </tr>\n",
       "    <tr>\n",
       "      <th>2</th>\n",
       "      <td>0001b1d5-b74a-4cbf-aeb0-7df5947bf349</td>\n",
       "      <td>2019-10-21</td>\n",
       "      <td>2019-10-21 20:07:30</td>\n",
       "      <td>2019-10-21 19:52:30</td>\n",
       "      <td>900</td>\n",
       "      <td>15.0</td>\n",
       "      <td>54000</td>\n",
       "    </tr>\n",
       "    <tr>\n",
       "      <th>3</th>\n",
       "      <td>0001b1d5-b74a-4cbf-aeb0-7df5947bf349</td>\n",
       "      <td>2019-10-22</td>\n",
       "      <td>2019-10-22 11:30:52</td>\n",
       "      <td>2019-10-22 11:18:14</td>\n",
       "      <td>758</td>\n",
       "      <td>12.6</td>\n",
       "      <td>45480</td>\n",
       "    </tr>\n",
       "    <tr>\n",
       "      <th>4</th>\n",
       "      <td>00157779-810c-4498-9e05-a1e9e3cedf93</td>\n",
       "      <td>2019-10-19</td>\n",
       "      <td>2019-10-19 21:59:54</td>\n",
       "      <td>2019-10-19 21:34:33</td>\n",
       "      <td>1521</td>\n",
       "      <td>25.4</td>\n",
       "      <td>91260</td>\n",
       "    </tr>\n",
       "    <tr>\n",
       "      <th>...</th>\n",
       "      <td>...</td>\n",
       "      <td>...</td>\n",
       "      <td>...</td>\n",
       "      <td>...</td>\n",
       "      <td>...</td>\n",
       "      <td>...</td>\n",
       "      <td>...</td>\n",
       "    </tr>\n",
       "    <tr>\n",
       "      <th>7812</th>\n",
       "      <td>fffb9e79-b927-4dbb-9b48-7fd09b23a62b</td>\n",
       "      <td>2019-10-29</td>\n",
       "      <td>2019-10-29 16:13:00</td>\n",
       "      <td>2019-10-29 13:58:47</td>\n",
       "      <td>8053</td>\n",
       "      <td>134.2</td>\n",
       "      <td>483180</td>\n",
       "    </tr>\n",
       "    <tr>\n",
       "      <th>7813</th>\n",
       "      <td>fffb9e79-b927-4dbb-9b48-7fd09b23a62b</td>\n",
       "      <td>2019-10-30</td>\n",
       "      <td>2019-10-30 11:31:45</td>\n",
       "      <td>2019-10-30 00:15:43</td>\n",
       "      <td>40562</td>\n",
       "      <td>676.0</td>\n",
       "      <td>2433720</td>\n",
       "    </tr>\n",
       "    <tr>\n",
       "      <th>7814</th>\n",
       "      <td>fffb9e79-b927-4dbb-9b48-7fd09b23a62b</td>\n",
       "      <td>2019-11-01</td>\n",
       "      <td>2019-11-01 00:24:53</td>\n",
       "      <td>2019-11-01 00:24:31</td>\n",
       "      <td>22</td>\n",
       "      <td>0.4</td>\n",
       "      <td>1320</td>\n",
       "    </tr>\n",
       "    <tr>\n",
       "      <th>7815</th>\n",
       "      <td>fffb9e79-b927-4dbb-9b48-7fd09b23a62b</td>\n",
       "      <td>2019-11-02</td>\n",
       "      <td>2019-11-02 19:30:50</td>\n",
       "      <td>2019-11-02 01:16:48</td>\n",
       "      <td>65642</td>\n",
       "      <td>1094.0</td>\n",
       "      <td>3938520</td>\n",
       "    </tr>\n",
       "    <tr>\n",
       "      <th>7816</th>\n",
       "      <td>fffb9e79-b927-4dbb-9b48-7fd09b23a62b</td>\n",
       "      <td>2019-11-03</td>\n",
       "      <td>2019-11-03 16:08:25</td>\n",
       "      <td>2019-11-03 14:32:55</td>\n",
       "      <td>5730</td>\n",
       "      <td>95.5</td>\n",
       "      <td>343800</td>\n",
       "    </tr>\n",
       "  </tbody>\n",
       "</table>\n",
       "<p>7817 rows × 7 columns</p>\n",
       "</div>"
      ],
      "text/plain": [
       "                                   user_id event_date      event_time_max  \\\n",
       "0     0001b1d5-b74a-4cbf-aeb0-7df5947bf349 2019-10-07 2019-10-07 13:49:41   \n",
       "1     0001b1d5-b74a-4cbf-aeb0-7df5947bf349 2019-10-09 2019-10-09 18:42:22   \n",
       "2     0001b1d5-b74a-4cbf-aeb0-7df5947bf349 2019-10-21 2019-10-21 20:07:30   \n",
       "3     0001b1d5-b74a-4cbf-aeb0-7df5947bf349 2019-10-22 2019-10-22 11:30:52   \n",
       "4     00157779-810c-4498-9e05-a1e9e3cedf93 2019-10-19 2019-10-19 21:59:54   \n",
       "...                                    ...        ...                 ...   \n",
       "7812  fffb9e79-b927-4dbb-9b48-7fd09b23a62b 2019-10-29 2019-10-29 16:13:00   \n",
       "7813  fffb9e79-b927-4dbb-9b48-7fd09b23a62b 2019-10-30 2019-10-30 11:31:45   \n",
       "7814  fffb9e79-b927-4dbb-9b48-7fd09b23a62b 2019-11-01 2019-11-01 00:24:53   \n",
       "7815  fffb9e79-b927-4dbb-9b48-7fd09b23a62b 2019-11-02 2019-11-02 19:30:50   \n",
       "7816  fffb9e79-b927-4dbb-9b48-7fd09b23a62b 2019-11-03 2019-11-03 16:08:25   \n",
       "\n",
       "          event_time_min  session_duration  session_duration_minute  \\\n",
       "0    2019-10-07 13:39:45  596               9.9                       \n",
       "1    2019-10-09 18:33:55  507               8.4                       \n",
       "2    2019-10-21 19:52:30  900               15.0                      \n",
       "3    2019-10-22 11:18:14  758               12.6                      \n",
       "4    2019-10-19 21:34:33  1521              25.4                      \n",
       "...                  ...   ...               ...                      \n",
       "7812 2019-10-29 13:58:47  8053              134.2                     \n",
       "7813 2019-10-30 00:15:43  40562             676.0                     \n",
       "7814 2019-11-01 00:24:31  22                0.4                       \n",
       "7815 2019-11-02 01:16:48  65642             1094.0                    \n",
       "7816 2019-11-03 14:32:55  5730              95.5                      \n",
       "\n",
       "      session_duration_seconds  \n",
       "0     35760                     \n",
       "1     30420                     \n",
       "2     54000                     \n",
       "3     45480                     \n",
       "4     91260                     \n",
       "...     ...                     \n",
       "7812  483180                    \n",
       "7813  2433720                   \n",
       "7814  1320                      \n",
       "7815  3938520                   \n",
       "7816  343800                    \n",
       "\n",
       "[7817 rows x 7 columns]"
      ]
     },
     "execution_count": 80,
     "metadata": {},
     "output_type": "execute_result"
    }
   ],
   "source": [
    "session['session_duration_seconds'] = session['session_duration'] * 60\n",
    "session"
   ]
  },
  {
   "cell_type": "markdown",
   "metadata": {},
   "source": [
    "**Объединяю таблицы `session` и `data` для дальнейшей работы с проверкой гипотезы, вывожу её на экран**"
   ]
  },
  {
   "cell_type": "code",
   "execution_count": 81,
   "metadata": {},
   "outputs": [
    {
     "data": {
      "text/html": [
       "<div>\n",
       "<style scoped>\n",
       "    .dataframe tbody tr th:only-of-type {\n",
       "        vertical-align: middle;\n",
       "    }\n",
       "\n",
       "    .dataframe tbody tr th {\n",
       "        vertical-align: top;\n",
       "    }\n",
       "\n",
       "    .dataframe thead th {\n",
       "        text-align: right;\n",
       "    }\n",
       "</style>\n",
       "<table border=\"1\" class=\"dataframe\">\n",
       "  <thead>\n",
       "    <tr style=\"text-align: right;\">\n",
       "      <th></th>\n",
       "      <th>user_id</th>\n",
       "      <th>event_date_x</th>\n",
       "      <th>event_time_max</th>\n",
       "      <th>event_time_min</th>\n",
       "      <th>session_duration</th>\n",
       "      <th>session_duration_minute</th>\n",
       "      <th>session_duration_seconds</th>\n",
       "      <th>event_time</th>\n",
       "      <th>event_name</th>\n",
       "      <th>source</th>\n",
       "      <th>event_date_y</th>\n",
       "    </tr>\n",
       "  </thead>\n",
       "  <tbody>\n",
       "    <tr>\n",
       "      <th>0</th>\n",
       "      <td>0001b1d5-b74a-4cbf-aeb0-7df5947bf349</td>\n",
       "      <td>2019-10-07</td>\n",
       "      <td>2019-10-07 13:49:41</td>\n",
       "      <td>2019-10-07 13:39:45</td>\n",
       "      <td>596</td>\n",
       "      <td>9.9</td>\n",
       "      <td>35760</td>\n",
       "      <td>2019-10-07 13:39:45</td>\n",
       "      <td>tips_show</td>\n",
       "      <td>other</td>\n",
       "      <td>2019-10-07</td>\n",
       "    </tr>\n",
       "    <tr>\n",
       "      <th>1</th>\n",
       "      <td>0001b1d5-b74a-4cbf-aeb0-7df5947bf349</td>\n",
       "      <td>2019-10-07</td>\n",
       "      <td>2019-10-07 13:49:41</td>\n",
       "      <td>2019-10-07 13:39:45</td>\n",
       "      <td>596</td>\n",
       "      <td>9.9</td>\n",
       "      <td>35760</td>\n",
       "      <td>2019-10-07 13:40:31</td>\n",
       "      <td>tips_show</td>\n",
       "      <td>other</td>\n",
       "      <td>2019-10-07</td>\n",
       "    </tr>\n",
       "    <tr>\n",
       "      <th>2</th>\n",
       "      <td>0001b1d5-b74a-4cbf-aeb0-7df5947bf349</td>\n",
       "      <td>2019-10-07</td>\n",
       "      <td>2019-10-07 13:49:41</td>\n",
       "      <td>2019-10-07 13:39:45</td>\n",
       "      <td>596</td>\n",
       "      <td>9.9</td>\n",
       "      <td>35760</td>\n",
       "      <td>2019-10-07 13:41:05</td>\n",
       "      <td>tips_show</td>\n",
       "      <td>other</td>\n",
       "      <td>2019-10-07</td>\n",
       "    </tr>\n",
       "    <tr>\n",
       "      <th>3</th>\n",
       "      <td>0001b1d5-b74a-4cbf-aeb0-7df5947bf349</td>\n",
       "      <td>2019-10-07</td>\n",
       "      <td>2019-10-07 13:49:41</td>\n",
       "      <td>2019-10-07 13:39:45</td>\n",
       "      <td>596</td>\n",
       "      <td>9.9</td>\n",
       "      <td>35760</td>\n",
       "      <td>2019-10-07 13:43:20</td>\n",
       "      <td>tips_show</td>\n",
       "      <td>other</td>\n",
       "      <td>2019-10-07</td>\n",
       "    </tr>\n",
       "    <tr>\n",
       "      <th>4</th>\n",
       "      <td>0001b1d5-b74a-4cbf-aeb0-7df5947bf349</td>\n",
       "      <td>2019-10-07</td>\n",
       "      <td>2019-10-07 13:49:41</td>\n",
       "      <td>2019-10-07 13:39:45</td>\n",
       "      <td>596</td>\n",
       "      <td>9.9</td>\n",
       "      <td>35760</td>\n",
       "      <td>2019-10-07 13:45:30</td>\n",
       "      <td>tips_show</td>\n",
       "      <td>other</td>\n",
       "      <td>2019-10-07</td>\n",
       "    </tr>\n",
       "    <tr>\n",
       "      <th>...</th>\n",
       "      <td>...</td>\n",
       "      <td>...</td>\n",
       "      <td>...</td>\n",
       "      <td>...</td>\n",
       "      <td>...</td>\n",
       "      <td>...</td>\n",
       "      <td>...</td>\n",
       "      <td>...</td>\n",
       "      <td>...</td>\n",
       "      <td>...</td>\n",
       "      <td>...</td>\n",
       "    </tr>\n",
       "    <tr>\n",
       "      <th>264985</th>\n",
       "      <td>fffb9e79-b927-4dbb-9b48-7fd09b23a62b</td>\n",
       "      <td>2019-11-03</td>\n",
       "      <td>2019-11-03 16:08:25</td>\n",
       "      <td>2019-11-03 14:32:55</td>\n",
       "      <td>5730</td>\n",
       "      <td>95.5</td>\n",
       "      <td>343800</td>\n",
       "      <td>2019-11-03 15:51:23</td>\n",
       "      <td>tips_show</td>\n",
       "      <td>google</td>\n",
       "      <td>2019-11-03</td>\n",
       "    </tr>\n",
       "    <tr>\n",
       "      <th>264986</th>\n",
       "      <td>fffb9e79-b927-4dbb-9b48-7fd09b23a62b</td>\n",
       "      <td>2019-11-03</td>\n",
       "      <td>2019-11-03 16:08:25</td>\n",
       "      <td>2019-11-03 14:32:55</td>\n",
       "      <td>5730</td>\n",
       "      <td>95.5</td>\n",
       "      <td>343800</td>\n",
       "      <td>2019-11-03 15:51:57</td>\n",
       "      <td>contacts_show</td>\n",
       "      <td>google</td>\n",
       "      <td>2019-11-03</td>\n",
       "    </tr>\n",
       "    <tr>\n",
       "      <th>264987</th>\n",
       "      <td>fffb9e79-b927-4dbb-9b48-7fd09b23a62b</td>\n",
       "      <td>2019-11-03</td>\n",
       "      <td>2019-11-03 16:08:25</td>\n",
       "      <td>2019-11-03 14:32:55</td>\n",
       "      <td>5730</td>\n",
       "      <td>95.5</td>\n",
       "      <td>343800</td>\n",
       "      <td>2019-11-03 16:07:40</td>\n",
       "      <td>tips_show</td>\n",
       "      <td>google</td>\n",
       "      <td>2019-11-03</td>\n",
       "    </tr>\n",
       "    <tr>\n",
       "      <th>264988</th>\n",
       "      <td>fffb9e79-b927-4dbb-9b48-7fd09b23a62b</td>\n",
       "      <td>2019-11-03</td>\n",
       "      <td>2019-11-03 16:08:25</td>\n",
       "      <td>2019-11-03 14:32:55</td>\n",
       "      <td>5730</td>\n",
       "      <td>95.5</td>\n",
       "      <td>343800</td>\n",
       "      <td>2019-11-03 16:08:18</td>\n",
       "      <td>tips_show</td>\n",
       "      <td>google</td>\n",
       "      <td>2019-11-03</td>\n",
       "    </tr>\n",
       "    <tr>\n",
       "      <th>264989</th>\n",
       "      <td>fffb9e79-b927-4dbb-9b48-7fd09b23a62b</td>\n",
       "      <td>2019-11-03</td>\n",
       "      <td>2019-11-03 16:08:25</td>\n",
       "      <td>2019-11-03 14:32:55</td>\n",
       "      <td>5730</td>\n",
       "      <td>95.5</td>\n",
       "      <td>343800</td>\n",
       "      <td>2019-11-03 16:08:25</td>\n",
       "      <td>tips_show</td>\n",
       "      <td>google</td>\n",
       "      <td>2019-11-03</td>\n",
       "    </tr>\n",
       "  </tbody>\n",
       "</table>\n",
       "<p>264990 rows × 11 columns</p>\n",
       "</div>"
      ],
      "text/plain": [
       "                                     user_id event_date_x      event_time_max  \\\n",
       "0       0001b1d5-b74a-4cbf-aeb0-7df5947bf349 2019-10-07   2019-10-07 13:49:41   \n",
       "1       0001b1d5-b74a-4cbf-aeb0-7df5947bf349 2019-10-07   2019-10-07 13:49:41   \n",
       "2       0001b1d5-b74a-4cbf-aeb0-7df5947bf349 2019-10-07   2019-10-07 13:49:41   \n",
       "3       0001b1d5-b74a-4cbf-aeb0-7df5947bf349 2019-10-07   2019-10-07 13:49:41   \n",
       "4       0001b1d5-b74a-4cbf-aeb0-7df5947bf349 2019-10-07   2019-10-07 13:49:41   \n",
       "...                                      ...        ...                   ...   \n",
       "264985  fffb9e79-b927-4dbb-9b48-7fd09b23a62b 2019-11-03   2019-11-03 16:08:25   \n",
       "264986  fffb9e79-b927-4dbb-9b48-7fd09b23a62b 2019-11-03   2019-11-03 16:08:25   \n",
       "264987  fffb9e79-b927-4dbb-9b48-7fd09b23a62b 2019-11-03   2019-11-03 16:08:25   \n",
       "264988  fffb9e79-b927-4dbb-9b48-7fd09b23a62b 2019-11-03   2019-11-03 16:08:25   \n",
       "264989  fffb9e79-b927-4dbb-9b48-7fd09b23a62b 2019-11-03   2019-11-03 16:08:25   \n",
       "\n",
       "            event_time_min  session_duration  session_duration_minute  \\\n",
       "0      2019-10-07 13:39:45  596               9.9                       \n",
       "1      2019-10-07 13:39:45  596               9.9                       \n",
       "2      2019-10-07 13:39:45  596               9.9                       \n",
       "3      2019-10-07 13:39:45  596               9.9                       \n",
       "4      2019-10-07 13:39:45  596               9.9                       \n",
       "...                    ...  ...               ...                       \n",
       "264985 2019-11-03 14:32:55  5730              95.5                      \n",
       "264986 2019-11-03 14:32:55  5730              95.5                      \n",
       "264987 2019-11-03 14:32:55  5730              95.5                      \n",
       "264988 2019-11-03 14:32:55  5730              95.5                      \n",
       "264989 2019-11-03 14:32:55  5730              95.5                      \n",
       "\n",
       "        session_duration_seconds          event_time     event_name  source  \\\n",
       "0       35760                    2019-10-07 13:39:45  tips_show      other    \n",
       "1       35760                    2019-10-07 13:40:31  tips_show      other    \n",
       "2       35760                    2019-10-07 13:41:05  tips_show      other    \n",
       "3       35760                    2019-10-07 13:43:20  tips_show      other    \n",
       "4       35760                    2019-10-07 13:45:30  tips_show      other    \n",
       "...       ...                                    ...        ...        ...    \n",
       "264985  343800                   2019-11-03 15:51:23  tips_show      google   \n",
       "264986  343800                   2019-11-03 15:51:57  contacts_show  google   \n",
       "264987  343800                   2019-11-03 16:07:40  tips_show      google   \n",
       "264988  343800                   2019-11-03 16:08:18  tips_show      google   \n",
       "264989  343800                   2019-11-03 16:08:25  tips_show      google   \n",
       "\n",
       "       event_date_y  \n",
       "0      2019-10-07    \n",
       "1      2019-10-07    \n",
       "2      2019-10-07    \n",
       "3      2019-10-07    \n",
       "4      2019-10-07    \n",
       "...           ...    \n",
       "264985 2019-11-03    \n",
       "264986 2019-11-03    \n",
       "264987 2019-11-03    \n",
       "264988 2019-11-03    \n",
       "264989 2019-11-03    \n",
       "\n",
       "[264990 rows x 11 columns]"
      ]
     },
     "execution_count": 81,
     "metadata": {},
     "output_type": "execute_result"
    }
   ],
   "source": [
    "source_duration = session.merge(data, on='user_id', how='left')\n",
    "source_duration"
   ]
  },
  {
   "cell_type": "markdown",
   "metadata": {},
   "source": [
    "**Проверяю гипотезу**"
   ]
  },
  {
   "cell_type": "code",
   "execution_count": 82,
   "metadata": {},
   "outputs": [
    {
     "name": "stdout",
     "output_type": "stream",
     "text": [
      "p-значение: 2.720019888234591e-10\n",
      "Отвергаем нулевую гипотезу\n"
     ]
    }
   ],
   "source": [
    "alpha = 0.05 \n",
    "\n",
    "results = st.ttest_ind(source_duration.query('source == \"google\"')['session_duration_minute'],\n",
    "                       source_duration.query('source == \"yandex\"')['session_duration_minute'])\n",
    "\n",
    "print('p-значение:', results.pvalue)\n",
    "\n",
    "if (results.pvalue < alpha):\n",
    "    print(\"Отвергаем нулевую гипотезу\")\n",
    "else:\n",
    "    print(\"Не получилось отвергнуть нулевую гипотезу\")"
   ]
  },
  {
   "cell_type": "markdown",
   "metadata": {},
   "source": [
    "**Нулевая гипотеза не подтвердилась, разница между длительностью пользовательских сессий пользователей, пришедших из `Google` и `Yandex`, есть**"
   ]
  },
  {
   "cell_type": "markdown",
   "metadata": {},
   "source": [
    "# Общий вывод:\n",
    "\n",
    "# Выполнена предобработка данных.\n",
    "\n",
    "# Выполнен исследовательский анализ данных:\n",
    "- **Всего в данных 4293 уникальных пользователя**\n",
    "- **Первая пользовательская сессия была 7 октября в 00:00, последняя - 3 ноября в 23:58:12**\n",
    "- **На графике распределения событий по датам заметен спад количества событий 12 октября**\n",
    "- **Максимальная длительность сессии в сутки составила почти 1417 минут, 25% пользователей тратят в сутки 2.5 минуты, 50% пользоваталей пользуются приложением всего 11.8 минут в сутки, 75% пользователей пользуются приложением 48.8 минут в сутки**\n",
    "- **Пользователи видят рекомендованные объялвения более, чем в 4 раз чаще, чем любое другое действие в приложении**\n",
    "- **Ко второй неделе жизни когорт Retention Rate примерно 23%, к концу 4 недели пользователей остаётся всего 10,5%**\n",
    "- **В среднем конверсия в приложении 22%, примерно каждый 4-5 пользователь просматривает номер телефона в приложении**\n",
    "\n",
    "# Сегментация\n",
    "\n",
    "**Пользователи попадают в приложение благодаря 3 источникам трафкам `Yandex`, `Google` и `other`. Источником трафика `other` могут быть другие социальные сети, а также другие поисковые сайты. Чтобы в дальнейшем настроить рекламу, чтобы привлечь более подходящих нам пользователей с более высокой конверсией и Retention Rate, мы можем разделить пользователей на 3 группы: `Yandex`, `Google` и `other`, посчитать Retention Rate и конверсию в каждой из групп, чтобы понять, через какой источник трафика стоит привлекать больше всего пользователей, а через какой - не нужно. В конечном итоге результаты этого раздлеления могли бы принести прибыль для приложения. В каждой группе пользователей мы имеем достаточно данных, чтобы это разделение получилось с хорошей выборкой (`Yandex` - 1934 пользователей, `Google` - 1129 пользователей, `Other` - 1230)**\n",
    "\n",
    "- Пользователи не пересекаются между собой\n",
    "- Самый маленький сегмент (`Other`) составляет более 10% от самого большого сегмента (`Yandex`)\n",
    "\n",
    "Выполнена сегментация пользователей на группы на основе их действий:\n",
    "- **Пользователи скачали приложение благодаря 3 источникам трафика, соответственно пользователи были разделены на 3 группы: `Yandex`, `Google` и `other`**\n",
    "- **Самое лучшее удержание у пользователей, которые пришли в приложение через `Yandex`, чуть хуже через источник трафика `other`, а самое низкое удержание у пользователей, пришедших через `Google`**\n",
    "- **Самую худшую конверсию показывает группа пользователей `Other`. `Google` и `Yandex` показывают примерно одинаковую конверсию, но при этом у `Yandex` она слегка выше**\n",
    "\n",
    "Удержание пользователей `Google`:\n",
    "\n",
    "2 неделя - 5,71%\n",
    "\n",
    "3 неделя - 3,62%\n",
    "\n",
    "4 неделя - 2,57%\n",
    "\n",
    "Удержание пользователей `Yandex`:\n",
    "\n",
    "2 неделя - 10,97%\n",
    "\n",
    "3 неделя - 6,1%\n",
    "\n",
    "4 неделя - 4,51%\n",
    "\n",
    "Удержание пользователей `Other`:\n",
    "\n",
    "2 неделя - 6,6%\n",
    "\n",
    "3 неделя - 4,45%\n",
    "\n",
    "4 неделя - 3,45%\n",
    "\n",
    "Конверсия пользователей по группам:\n",
    "\n",
    "`Yandex` - 0.247156\n",
    "\n",
    "`Google` - 0.243578\n",
    "\n",
    "`Other` - 0.185366\n",
    "\n",
    "\n",
    "# Выполнена проверка гипотез: \n",
    "- **Статистически значимых различий в конверсиях между группами пользователей нет**\n",
    "- **разница между длительностью пользовательских сессий пользователей, пришедших из `Google` и `Yandex`, есть**"
   ]
  },
  {
   "cell_type": "markdown",
   "metadata": {},
   "source": [
    "# Рекомендации:\n",
    "- Обратить внимание на пользователей, привлечённых в приложении через `Google`, несмотря на их низкое удержание в приложении, они имеют примерно такую же конверсию, как и пользователи `Yandex`\n",
    "- Стараться привлекать больше пользователей `Yandex`, так как они имеют лучшие показатели Retenrion Rate и конверсии"
   ]
  },
  {
   "cell_type": "markdown",
   "metadata": {},
   "source": [
    "# Дашборд"
   ]
  },
  {
   "cell_type": "markdown",
   "metadata": {},
   "source": [
    "<https://public.tableau.com/app/profile/denis.volovik/viz/_16849614742840/sheet2?publish=yes>"
   ]
  },
  {
   "cell_type": "markdown",
   "metadata": {},
   "source": [
    "# Презентация"
   ]
  },
  {
   "cell_type": "markdown",
   "metadata": {},
   "source": [
    "<https://docs.google.com/presentation/d/1tQa3MGHgFztYChZoQxsjqrsLigRjpGGmYX6n3BN9Gsg/edit?usp=sharing>"
   ]
  }
 ],
 "metadata": {
  "ExecuteTimeLog": [
   {
    "duration": 1381,
    "start_time": "2023-05-17T16:29:07.321Z"
   },
   {
    "duration": 236,
    "start_time": "2023-05-17T16:29:26.982Z"
   },
   {
    "duration": 15,
    "start_time": "2023-05-17T16:30:18.413Z"
   },
   {
    "duration": 44,
    "start_time": "2023-05-18T02:17:33.748Z"
   },
   {
    "duration": 1372,
    "start_time": "2023-05-18T02:17:40.221Z"
   },
   {
    "duration": 514,
    "start_time": "2023-05-18T02:17:41.595Z"
   },
   {
    "duration": 18,
    "start_time": "2023-05-18T02:17:42.111Z"
   },
   {
    "duration": 21,
    "start_time": "2023-05-18T02:18:36.364Z"
   },
   {
    "duration": 6,
    "start_time": "2023-05-18T02:24:00.775Z"
   },
   {
    "duration": 17,
    "start_time": "2023-05-18T02:24:09.029Z"
   },
   {
    "duration": 21,
    "start_time": "2023-05-18T02:24:19.047Z"
   },
   {
    "duration": 9,
    "start_time": "2023-05-18T02:24:25.576Z"
   },
   {
    "duration": 22,
    "start_time": "2023-05-18T02:24:26.635Z"
   },
   {
    "duration": 7,
    "start_time": "2023-05-18T02:24:32.664Z"
   },
   {
    "duration": 23,
    "start_time": "2023-05-18T02:24:34.175Z"
   },
   {
    "duration": 4,
    "start_time": "2023-05-18T02:24:39.127Z"
   },
   {
    "duration": 127,
    "start_time": "2023-05-18T02:24:39.132Z"
   },
   {
    "duration": 11,
    "start_time": "2023-05-18T02:24:39.260Z"
   },
   {
    "duration": 39,
    "start_time": "2023-05-18T02:24:39.273Z"
   },
   {
    "duration": 6,
    "start_time": "2023-05-18T02:24:39.314Z"
   },
   {
    "duration": 40,
    "start_time": "2023-05-18T02:24:39.322Z"
   },
   {
    "duration": 6,
    "start_time": "2023-05-18T02:24:43.508Z"
   },
   {
    "duration": 24,
    "start_time": "2023-05-18T02:24:44.471Z"
   },
   {
    "duration": 4,
    "start_time": "2023-05-18T02:24:46.998Z"
   },
   {
    "duration": 117,
    "start_time": "2023-05-18T02:24:47.003Z"
   },
   {
    "duration": 12,
    "start_time": "2023-05-18T02:24:47.121Z"
   },
   {
    "duration": 26,
    "start_time": "2023-05-18T02:24:47.135Z"
   },
   {
    "duration": 6,
    "start_time": "2023-05-18T02:24:47.162Z"
   },
   {
    "duration": 37,
    "start_time": "2023-05-18T02:24:47.170Z"
   },
   {
    "duration": 70,
    "start_time": "2023-05-18T02:26:14.915Z"
   },
   {
    "duration": 24,
    "start_time": "2023-05-18T02:26:25.902Z"
   },
   {
    "duration": 15,
    "start_time": "2023-05-18T02:26:59.419Z"
   },
   {
    "duration": 25,
    "start_time": "2023-05-18T02:28:07.901Z"
   },
   {
    "duration": 24,
    "start_time": "2023-05-18T02:28:16.542Z"
   },
   {
    "duration": 7,
    "start_time": "2023-05-18T02:28:24.189Z"
   },
   {
    "duration": 19,
    "start_time": "2023-05-18T02:29:08.350Z"
   },
   {
    "duration": 5,
    "start_time": "2023-05-18T02:29:20.014Z"
   },
   {
    "duration": 20,
    "start_time": "2023-05-18T02:29:43.245Z"
   },
   {
    "duration": 18,
    "start_time": "2023-05-18T02:30:03.670Z"
   },
   {
    "duration": 4,
    "start_time": "2023-05-18T02:30:06.237Z"
   },
   {
    "duration": 134,
    "start_time": "2023-05-18T02:30:06.243Z"
   },
   {
    "duration": 10,
    "start_time": "2023-05-18T02:30:06.379Z"
   },
   {
    "duration": 22,
    "start_time": "2023-05-18T02:30:06.391Z"
   },
   {
    "duration": 16,
    "start_time": "2023-05-18T02:30:06.415Z"
   },
   {
    "duration": 42,
    "start_time": "2023-05-18T02:30:06.432Z"
   },
   {
    "duration": 26,
    "start_time": "2023-05-18T02:30:06.475Z"
   },
   {
    "duration": 5,
    "start_time": "2023-05-18T02:30:06.503Z"
   },
   {
    "duration": 44,
    "start_time": "2023-05-18T02:30:06.509Z"
   },
   {
    "duration": 4,
    "start_time": "2023-05-18T02:30:38.866Z"
   },
   {
    "duration": 113,
    "start_time": "2023-05-18T02:30:38.872Z"
   },
   {
    "duration": 12,
    "start_time": "2023-05-18T02:30:38.987Z"
   },
   {
    "duration": 23,
    "start_time": "2023-05-18T02:30:39.000Z"
   },
   {
    "duration": 5,
    "start_time": "2023-05-18T02:30:39.025Z"
   },
   {
    "duration": 24,
    "start_time": "2023-05-18T02:30:39.031Z"
   },
   {
    "duration": 44,
    "start_time": "2023-05-18T02:30:39.056Z"
   },
   {
    "duration": 5,
    "start_time": "2023-05-18T02:30:39.101Z"
   },
   {
    "duration": 3,
    "start_time": "2023-05-18T02:31:56.947Z"
   },
   {
    "duration": 112,
    "start_time": "2023-05-18T02:31:56.952Z"
   },
   {
    "duration": 12,
    "start_time": "2023-05-18T02:31:57.065Z"
   },
   {
    "duration": 21,
    "start_time": "2023-05-18T02:31:57.078Z"
   },
   {
    "duration": 30,
    "start_time": "2023-05-18T02:31:57.102Z"
   },
   {
    "duration": 22,
    "start_time": "2023-05-18T02:31:57.134Z"
   },
   {
    "duration": 19,
    "start_time": "2023-05-18T02:31:57.158Z"
   },
   {
    "duration": 5,
    "start_time": "2023-05-18T02:31:57.179Z"
   },
   {
    "duration": 11,
    "start_time": "2023-05-18T02:34:29.154Z"
   },
   {
    "duration": 10,
    "start_time": "2023-05-18T02:35:26.772Z"
   },
   {
    "duration": 10,
    "start_time": "2023-05-18T02:35:33.227Z"
   },
   {
    "duration": 15,
    "start_time": "2023-05-18T02:37:19.696Z"
   },
   {
    "duration": 23,
    "start_time": "2023-05-18T02:38:14.351Z"
   },
   {
    "duration": 28,
    "start_time": "2023-05-18T02:38:24.542Z"
   },
   {
    "duration": 25,
    "start_time": "2023-05-18T02:39:17.792Z"
   },
   {
    "duration": 3,
    "start_time": "2023-05-18T02:39:22.569Z"
   },
   {
    "duration": 114,
    "start_time": "2023-05-18T02:39:22.574Z"
   },
   {
    "duration": 10,
    "start_time": "2023-05-18T02:39:22.690Z"
   },
   {
    "duration": 24,
    "start_time": "2023-05-18T02:39:22.701Z"
   },
   {
    "duration": 7,
    "start_time": "2023-05-18T02:39:22.727Z"
   },
   {
    "duration": 24,
    "start_time": "2023-05-18T02:39:22.735Z"
   },
   {
    "duration": 40,
    "start_time": "2023-05-18T02:39:22.760Z"
   },
   {
    "duration": 4,
    "start_time": "2023-05-18T02:39:22.802Z"
   },
   {
    "duration": 14,
    "start_time": "2023-05-18T02:39:22.808Z"
   },
   {
    "duration": 22,
    "start_time": "2023-05-18T02:39:22.823Z"
   },
   {
    "duration": 22,
    "start_time": "2023-05-18T02:39:22.846Z"
   },
   {
    "duration": 9,
    "start_time": "2023-05-18T02:39:22.894Z"
   },
   {
    "duration": 11,
    "start_time": "2023-05-18T02:40:14.858Z"
   },
   {
    "duration": 234,
    "start_time": "2023-05-18T02:40:59.564Z"
   },
   {
    "duration": 250,
    "start_time": "2023-05-18T02:42:20.395Z"
   },
   {
    "duration": 35,
    "start_time": "2023-05-18T03:00:45.093Z"
   },
   {
    "duration": 10,
    "start_time": "2023-05-18T03:00:50.837Z"
   },
   {
    "duration": 9,
    "start_time": "2023-05-18T03:03:00.396Z"
   },
   {
    "duration": 22,
    "start_time": "2023-05-18T03:04:25.360Z"
   },
   {
    "duration": 3,
    "start_time": "2023-05-18T03:04:27.990Z"
   },
   {
    "duration": 112,
    "start_time": "2023-05-18T03:04:27.995Z"
   },
   {
    "duration": 11,
    "start_time": "2023-05-18T03:04:28.109Z"
   },
   {
    "duration": 21,
    "start_time": "2023-05-18T03:04:28.122Z"
   },
   {
    "duration": 7,
    "start_time": "2023-05-18T03:04:28.145Z"
   },
   {
    "duration": 22,
    "start_time": "2023-05-18T03:04:28.154Z"
   },
   {
    "duration": 19,
    "start_time": "2023-05-18T03:04:28.195Z"
   },
   {
    "duration": 4,
    "start_time": "2023-05-18T03:04:28.215Z"
   },
   {
    "duration": 16,
    "start_time": "2023-05-18T03:04:28.221Z"
   },
   {
    "duration": 22,
    "start_time": "2023-05-18T03:04:28.239Z"
   },
   {
    "duration": 9,
    "start_time": "2023-05-18T03:04:28.262Z"
   },
   {
    "duration": 241,
    "start_time": "2023-05-18T03:04:28.295Z"
   },
   {
    "duration": 35,
    "start_time": "2023-05-18T03:04:28.538Z"
   },
   {
    "duration": 19,
    "start_time": "2023-05-18T03:04:28.575Z"
   },
   {
    "duration": 21,
    "start_time": "2023-05-18T03:04:28.596Z"
   },
   {
    "duration": 3,
    "start_time": "2023-05-18T03:08:07.536Z"
   },
   {
    "duration": 116,
    "start_time": "2023-05-18T03:08:07.541Z"
   },
   {
    "duration": 10,
    "start_time": "2023-05-18T03:08:07.659Z"
   },
   {
    "duration": 24,
    "start_time": "2023-05-18T03:08:07.671Z"
   },
   {
    "duration": 9,
    "start_time": "2023-05-18T03:08:07.696Z"
   },
   {
    "duration": 25,
    "start_time": "2023-05-18T03:08:07.706Z"
   },
   {
    "duration": 18,
    "start_time": "2023-05-18T03:08:07.732Z"
   },
   {
    "duration": 5,
    "start_time": "2023-05-18T03:08:07.751Z"
   },
   {
    "duration": 14,
    "start_time": "2023-05-18T03:08:07.758Z"
   },
   {
    "duration": 40,
    "start_time": "2023-05-18T03:08:07.775Z"
   },
   {
    "duration": 9,
    "start_time": "2023-05-18T03:08:07.817Z"
   },
   {
    "duration": 253,
    "start_time": "2023-05-18T03:08:07.827Z"
   },
   {
    "duration": 38,
    "start_time": "2023-05-18T03:08:08.081Z"
   },
   {
    "duration": 11,
    "start_time": "2023-05-18T03:08:08.121Z"
   },
   {
    "duration": 15,
    "start_time": "2023-05-18T03:08:11.790Z"
   },
   {
    "duration": 9,
    "start_time": "2023-05-18T03:11:48.892Z"
   },
   {
    "duration": 44,
    "start_time": "2023-05-18T03:11:59.239Z"
   },
   {
    "duration": 0,
    "start_time": "2023-05-18T03:12:31.699Z"
   },
   {
    "duration": 12,
    "start_time": "2023-05-18T03:12:40.167Z"
   },
   {
    "duration": 6,
    "start_time": "2023-05-18T03:16:37.761Z"
   },
   {
    "duration": 5,
    "start_time": "2023-05-18T03:16:47.482Z"
   },
   {
    "duration": 10,
    "start_time": "2023-05-18T03:17:05.255Z"
   },
   {
    "duration": 15,
    "start_time": "2023-05-18T03:17:08.747Z"
   },
   {
    "duration": 22,
    "start_time": "2023-05-18T03:18:55.780Z"
   },
   {
    "duration": 18,
    "start_time": "2023-05-18T03:18:57.452Z"
   },
   {
    "duration": 4,
    "start_time": "2023-05-18T03:19:04.081Z"
   },
   {
    "duration": 135,
    "start_time": "2023-05-18T03:19:04.087Z"
   },
   {
    "duration": 11,
    "start_time": "2023-05-18T03:19:04.223Z"
   },
   {
    "duration": 26,
    "start_time": "2023-05-18T03:19:04.235Z"
   },
   {
    "duration": 6,
    "start_time": "2023-05-18T03:19:04.264Z"
   },
   {
    "duration": 50,
    "start_time": "2023-05-18T03:19:04.272Z"
   },
   {
    "duration": 17,
    "start_time": "2023-05-18T03:19:04.324Z"
   },
   {
    "duration": 4,
    "start_time": "2023-05-18T03:19:04.342Z"
   },
   {
    "duration": 16,
    "start_time": "2023-05-18T03:19:04.348Z"
   },
   {
    "duration": 44,
    "start_time": "2023-05-18T03:19:04.366Z"
   },
   {
    "duration": 9,
    "start_time": "2023-05-18T03:19:04.412Z"
   },
   {
    "duration": 306,
    "start_time": "2023-05-18T03:19:04.423Z"
   },
   {
    "duration": 35,
    "start_time": "2023-05-18T03:19:04.730Z"
   },
   {
    "duration": 9,
    "start_time": "2023-05-18T03:19:04.767Z"
   },
   {
    "duration": 37,
    "start_time": "2023-05-18T03:19:04.778Z"
   },
   {
    "duration": 5,
    "start_time": "2023-05-18T03:19:04.817Z"
   },
   {
    "duration": 35,
    "start_time": "2023-05-18T03:19:04.823Z"
   },
   {
    "duration": 13,
    "start_time": "2023-05-18T03:19:57.759Z"
   },
   {
    "duration": 3,
    "start_time": "2023-05-18T03:20:01.848Z"
   },
   {
    "duration": 164,
    "start_time": "2023-05-18T03:20:01.853Z"
   },
   {
    "duration": 11,
    "start_time": "2023-05-18T03:20:02.019Z"
   },
   {
    "duration": 71,
    "start_time": "2023-05-18T03:20:02.032Z"
   },
   {
    "duration": 28,
    "start_time": "2023-05-18T03:20:02.105Z"
   },
   {
    "duration": 58,
    "start_time": "2023-05-18T03:20:02.135Z"
   },
   {
    "duration": 35,
    "start_time": "2023-05-18T03:20:02.195Z"
   },
   {
    "duration": 28,
    "start_time": "2023-05-18T03:20:02.231Z"
   },
   {
    "duration": 46,
    "start_time": "2023-05-18T03:20:02.260Z"
   },
   {
    "duration": 64,
    "start_time": "2023-05-18T03:20:02.308Z"
   },
   {
    "duration": 109,
    "start_time": "2023-05-18T03:20:02.374Z"
   },
   {
    "duration": 279,
    "start_time": "2023-05-18T03:20:02.485Z"
   },
   {
    "duration": 38,
    "start_time": "2023-05-18T03:20:02.766Z"
   },
   {
    "duration": 27,
    "start_time": "2023-05-18T03:20:02.807Z"
   },
   {
    "duration": 56,
    "start_time": "2023-05-18T03:20:02.836Z"
   },
   {
    "duration": 8,
    "start_time": "2023-05-18T03:20:02.893Z"
   },
   {
    "duration": 40,
    "start_time": "2023-05-18T03:20:02.902Z"
   },
   {
    "duration": 22,
    "start_time": "2023-05-18T03:22:32.286Z"
   },
   {
    "duration": 28,
    "start_time": "2023-05-18T03:22:40.514Z"
   },
   {
    "duration": 25,
    "start_time": "2023-05-18T03:22:41.703Z"
   },
   {
    "duration": 19,
    "start_time": "2023-05-18T03:23:52.920Z"
   },
   {
    "duration": 5,
    "start_time": "2023-05-18T03:23:58.711Z"
   },
   {
    "duration": 4,
    "start_time": "2023-05-18T03:24:17.044Z"
   },
   {
    "duration": 114,
    "start_time": "2023-05-18T03:24:17.050Z"
   },
   {
    "duration": 10,
    "start_time": "2023-05-18T03:24:17.166Z"
   },
   {
    "duration": 21,
    "start_time": "2023-05-18T03:24:17.178Z"
   },
   {
    "duration": 6,
    "start_time": "2023-05-18T03:24:17.201Z"
   },
   {
    "duration": 31,
    "start_time": "2023-05-18T03:24:17.208Z"
   },
   {
    "duration": 6,
    "start_time": "2023-05-18T03:24:17.240Z"
   },
   {
    "duration": 48,
    "start_time": "2023-05-18T03:24:17.247Z"
   },
   {
    "duration": 21,
    "start_time": "2023-05-18T03:24:17.297Z"
   },
   {
    "duration": 5,
    "start_time": "2023-05-18T03:24:17.319Z"
   },
   {
    "duration": 73,
    "start_time": "2023-05-18T03:24:17.326Z"
   },
   {
    "duration": 0,
    "start_time": "2023-05-18T03:24:17.402Z"
   },
   {
    "duration": 0,
    "start_time": "2023-05-18T03:24:17.403Z"
   },
   {
    "duration": 0,
    "start_time": "2023-05-18T03:24:17.405Z"
   },
   {
    "duration": 0,
    "start_time": "2023-05-18T03:24:17.406Z"
   },
   {
    "duration": 0,
    "start_time": "2023-05-18T03:24:17.406Z"
   },
   {
    "duration": 0,
    "start_time": "2023-05-18T03:24:17.407Z"
   },
   {
    "duration": 0,
    "start_time": "2023-05-18T03:24:17.408Z"
   },
   {
    "duration": 0,
    "start_time": "2023-05-18T03:24:17.409Z"
   },
   {
    "duration": 0,
    "start_time": "2023-05-18T03:24:17.410Z"
   },
   {
    "duration": 0,
    "start_time": "2023-05-18T03:24:17.411Z"
   },
   {
    "duration": 23,
    "start_time": "2023-05-18T03:25:52.754Z"
   },
   {
    "duration": 24,
    "start_time": "2023-05-18T03:26:06.623Z"
   },
   {
    "duration": 3,
    "start_time": "2023-05-18T03:26:11.755Z"
   },
   {
    "duration": 154,
    "start_time": "2023-05-18T03:26:11.760Z"
   },
   {
    "duration": 11,
    "start_time": "2023-05-18T03:26:11.915Z"
   },
   {
    "duration": 24,
    "start_time": "2023-05-18T03:26:11.927Z"
   },
   {
    "duration": 5,
    "start_time": "2023-05-18T03:26:11.953Z"
   },
   {
    "duration": 30,
    "start_time": "2023-05-18T03:26:11.960Z"
   },
   {
    "duration": 6,
    "start_time": "2023-05-18T03:26:11.991Z"
   },
   {
    "duration": 41,
    "start_time": "2023-05-18T03:26:11.998Z"
   },
   {
    "duration": 19,
    "start_time": "2023-05-18T03:26:12.040Z"
   },
   {
    "duration": 12,
    "start_time": "2023-05-18T03:26:12.061Z"
   },
   {
    "duration": 33,
    "start_time": "2023-05-18T03:26:12.074Z"
   },
   {
    "duration": 29,
    "start_time": "2023-05-18T03:26:12.108Z"
   },
   {
    "duration": 22,
    "start_time": "2023-05-18T03:26:12.138Z"
   },
   {
    "duration": 11,
    "start_time": "2023-05-18T03:26:12.162Z"
   },
   {
    "duration": 239,
    "start_time": "2023-05-18T03:26:12.196Z"
   },
   {
    "duration": 40,
    "start_time": "2023-05-18T03:26:12.437Z"
   },
   {
    "duration": 23,
    "start_time": "2023-05-18T03:26:12.478Z"
   },
   {
    "duration": 16,
    "start_time": "2023-05-18T03:26:12.502Z"
   },
   {
    "duration": 4,
    "start_time": "2023-05-18T03:26:12.520Z"
   },
   {
    "duration": 4,
    "start_time": "2023-05-18T03:26:12.525Z"
   },
   {
    "duration": 18,
    "start_time": "2023-05-18T03:26:40.781Z"
   },
   {
    "duration": 5,
    "start_time": "2023-05-18T03:27:04.531Z"
   },
   {
    "duration": 149,
    "start_time": "2023-05-18T03:27:04.538Z"
   },
   {
    "duration": 14,
    "start_time": "2023-05-18T03:27:04.688Z"
   },
   {
    "duration": 34,
    "start_time": "2023-05-18T03:27:04.704Z"
   },
   {
    "duration": 10,
    "start_time": "2023-05-18T03:27:04.740Z"
   },
   {
    "duration": 45,
    "start_time": "2023-05-18T03:27:04.751Z"
   },
   {
    "duration": 5,
    "start_time": "2023-05-18T03:27:04.798Z"
   },
   {
    "duration": 39,
    "start_time": "2023-05-18T03:27:04.804Z"
   },
   {
    "duration": 21,
    "start_time": "2023-05-18T03:27:04.845Z"
   },
   {
    "duration": 13,
    "start_time": "2023-05-18T03:27:04.867Z"
   },
   {
    "duration": 34,
    "start_time": "2023-05-18T03:27:04.882Z"
   },
   {
    "duration": 16,
    "start_time": "2023-05-18T03:27:04.917Z"
   },
   {
    "duration": 27,
    "start_time": "2023-05-18T03:27:04.934Z"
   },
   {
    "duration": 39,
    "start_time": "2023-05-18T03:27:04.963Z"
   },
   {
    "duration": 9,
    "start_time": "2023-05-18T03:27:05.003Z"
   },
   {
    "duration": 239,
    "start_time": "2023-05-18T03:27:05.014Z"
   },
   {
    "duration": 41,
    "start_time": "2023-05-18T03:27:05.255Z"
   },
   {
    "duration": 9,
    "start_time": "2023-05-18T03:27:05.297Z"
   },
   {
    "duration": 14,
    "start_time": "2023-05-18T03:27:05.308Z"
   },
   {
    "duration": 3,
    "start_time": "2023-05-18T03:27:05.324Z"
   },
   {
    "duration": 5,
    "start_time": "2023-05-18T03:27:05.329Z"
   },
   {
    "duration": 3,
    "start_time": "2023-05-18T03:27:38.121Z"
   },
   {
    "duration": 3,
    "start_time": "2023-05-18T03:28:39.610Z"
   },
   {
    "duration": 80,
    "start_time": "2023-05-18T03:28:53.658Z"
   },
   {
    "duration": 64,
    "start_time": "2023-05-18T03:29:01.979Z"
   },
   {
    "duration": 71,
    "start_time": "2023-05-18T03:29:20.960Z"
   },
   {
    "duration": 3,
    "start_time": "2023-05-18T03:29:27.731Z"
   },
   {
    "duration": 73,
    "start_time": "2023-05-18T03:29:40.050Z"
   },
   {
    "duration": 4,
    "start_time": "2023-05-18T03:29:48.386Z"
   },
   {
    "duration": 73,
    "start_time": "2023-05-18T03:30:09.444Z"
   },
   {
    "duration": 4,
    "start_time": "2023-05-18T03:31:45.046Z"
   },
   {
    "duration": 23,
    "start_time": "2023-05-18T03:53:27.009Z"
   },
   {
    "duration": 26,
    "start_time": "2023-05-18T03:54:11.871Z"
   },
   {
    "duration": 22,
    "start_time": "2023-05-18T03:54:27.417Z"
   },
   {
    "duration": 4,
    "start_time": "2023-05-18T03:54:57.387Z"
   },
   {
    "duration": 123,
    "start_time": "2023-05-18T03:54:57.392Z"
   },
   {
    "duration": 16,
    "start_time": "2023-05-18T03:54:57.517Z"
   },
   {
    "duration": 22,
    "start_time": "2023-05-18T03:54:57.535Z"
   },
   {
    "duration": 5,
    "start_time": "2023-05-18T03:54:57.559Z"
   },
   {
    "duration": 34,
    "start_time": "2023-05-18T03:54:57.566Z"
   },
   {
    "duration": 6,
    "start_time": "2023-05-18T03:54:57.601Z"
   },
   {
    "duration": 47,
    "start_time": "2023-05-18T03:54:57.608Z"
   },
   {
    "duration": 21,
    "start_time": "2023-05-18T03:54:57.657Z"
   },
   {
    "duration": 16,
    "start_time": "2023-05-18T03:54:57.681Z"
   },
   {
    "duration": 30,
    "start_time": "2023-05-18T03:54:57.699Z"
   },
   {
    "duration": 19,
    "start_time": "2023-05-18T03:54:57.731Z"
   },
   {
    "duration": 3,
    "start_time": "2023-05-18T03:54:57.752Z"
   },
   {
    "duration": 45,
    "start_time": "2023-05-18T03:54:57.757Z"
   },
   {
    "duration": 24,
    "start_time": "2023-05-18T03:54:57.803Z"
   },
   {
    "duration": 10,
    "start_time": "2023-05-18T03:54:57.828Z"
   },
   {
    "duration": 246,
    "start_time": "2023-05-18T03:54:57.840Z"
   },
   {
    "duration": 37,
    "start_time": "2023-05-18T03:54:58.087Z"
   },
   {
    "duration": 23,
    "start_time": "2023-05-18T03:54:58.125Z"
   },
   {
    "duration": 10,
    "start_time": "2023-05-18T03:54:58.149Z"
   },
   {
    "duration": 34,
    "start_time": "2023-05-18T03:54:58.161Z"
   },
   {
    "duration": 4,
    "start_time": "2023-05-18T03:54:58.197Z"
   },
   {
    "duration": 4,
    "start_time": "2023-05-18T03:54:58.203Z"
   },
   {
    "duration": 22,
    "start_time": "2023-05-18T03:55:14.347Z"
   },
   {
    "duration": 23,
    "start_time": "2023-05-18T03:55:52.950Z"
   },
   {
    "duration": 23,
    "start_time": "2023-05-18T03:56:00.886Z"
   },
   {
    "duration": 4,
    "start_time": "2023-05-18T03:56:59.669Z"
   },
   {
    "duration": 119,
    "start_time": "2023-05-18T03:56:59.676Z"
   },
   {
    "duration": 12,
    "start_time": "2023-05-18T03:56:59.797Z"
   },
   {
    "duration": 24,
    "start_time": "2023-05-18T03:56:59.810Z"
   },
   {
    "duration": 11,
    "start_time": "2023-05-18T03:56:59.837Z"
   },
   {
    "duration": 44,
    "start_time": "2023-05-18T03:56:59.850Z"
   },
   {
    "duration": 6,
    "start_time": "2023-05-18T03:56:59.895Z"
   },
   {
    "duration": 59,
    "start_time": "2023-05-18T03:56:59.902Z"
   },
   {
    "duration": 19,
    "start_time": "2023-05-18T03:56:59.963Z"
   },
   {
    "duration": 14,
    "start_time": "2023-05-18T03:56:59.984Z"
   },
   {
    "duration": 25,
    "start_time": "2023-05-18T03:56:59.999Z"
   },
   {
    "duration": 18,
    "start_time": "2023-05-18T03:57:00.026Z"
   },
   {
    "duration": 13,
    "start_time": "2023-05-18T03:57:00.045Z"
   },
   {
    "duration": 57,
    "start_time": "2023-05-18T03:57:00.060Z"
   },
   {
    "duration": 87,
    "start_time": "2023-05-18T03:57:00.118Z"
   },
   {
    "duration": 9,
    "start_time": "2023-05-18T03:57:00.207Z"
   },
   {
    "duration": 270,
    "start_time": "2023-05-18T03:57:00.217Z"
   },
   {
    "duration": 40,
    "start_time": "2023-05-18T03:57:00.488Z"
   },
   {
    "duration": 52,
    "start_time": "2023-05-18T03:57:00.529Z"
   },
   {
    "duration": 33,
    "start_time": "2023-05-18T03:57:00.582Z"
   },
   {
    "duration": 37,
    "start_time": "2023-05-18T03:57:00.616Z"
   },
   {
    "duration": 47,
    "start_time": "2023-05-18T03:57:00.655Z"
   },
   {
    "duration": 39,
    "start_time": "2023-05-18T03:57:00.703Z"
   },
   {
    "duration": 81,
    "start_time": "2023-05-18T03:57:00.743Z"
   },
   {
    "duration": 135,
    "start_time": "2023-05-18T03:57:00.826Z"
   },
   {
    "duration": 52,
    "start_time": "2023-05-18T18:51:35.696Z"
   },
   {
    "duration": 1354,
    "start_time": "2023-05-18T18:51:38.379Z"
   },
   {
    "duration": 220,
    "start_time": "2023-05-18T18:51:39.735Z"
   },
   {
    "duration": 18,
    "start_time": "2023-05-18T18:51:39.957Z"
   },
   {
    "duration": 32,
    "start_time": "2023-05-18T18:51:39.977Z"
   },
   {
    "duration": 7,
    "start_time": "2023-05-18T18:51:40.011Z"
   },
   {
    "duration": 60,
    "start_time": "2023-05-18T18:51:40.019Z"
   },
   {
    "duration": 5,
    "start_time": "2023-05-18T18:51:40.081Z"
   },
   {
    "duration": 34,
    "start_time": "2023-05-18T18:51:40.088Z"
   },
   {
    "duration": 43,
    "start_time": "2023-05-18T18:51:40.126Z"
   },
   {
    "duration": 17,
    "start_time": "2023-05-18T18:51:40.171Z"
   },
   {
    "duration": 38,
    "start_time": "2023-05-18T18:51:40.191Z"
   },
   {
    "duration": 45,
    "start_time": "2023-05-18T18:51:40.231Z"
   },
   {
    "duration": 4,
    "start_time": "2023-05-18T18:51:40.278Z"
   },
   {
    "duration": 30,
    "start_time": "2023-05-18T18:51:40.285Z"
   },
   {
    "duration": 48,
    "start_time": "2023-05-18T18:51:40.316Z"
   },
   {
    "duration": 11,
    "start_time": "2023-05-18T18:51:40.366Z"
   },
   {
    "duration": 279,
    "start_time": "2023-05-18T18:51:40.378Z"
   },
   {
    "duration": 40,
    "start_time": "2023-05-18T18:51:40.659Z"
   },
   {
    "duration": 29,
    "start_time": "2023-05-18T18:51:40.701Z"
   },
   {
    "duration": 48,
    "start_time": "2023-05-18T18:51:40.732Z"
   },
   {
    "duration": 30,
    "start_time": "2023-05-18T18:51:40.782Z"
   },
   {
    "duration": 11,
    "start_time": "2023-05-18T18:51:40.814Z"
   },
   {
    "duration": 42,
    "start_time": "2023-05-18T18:51:40.827Z"
   },
   {
    "duration": 5,
    "start_time": "2023-05-18T18:51:40.871Z"
   },
   {
    "duration": 6,
    "start_time": "2023-05-18T18:51:40.878Z"
   },
   {
    "duration": 399,
    "start_time": "2023-05-18T18:51:40.886Z"
   },
   {
    "duration": 212,
    "start_time": "2023-05-18T18:51:51.853Z"
   },
   {
    "duration": 242,
    "start_time": "2023-05-18T18:51:56.162Z"
   },
   {
    "duration": 235,
    "start_time": "2023-05-18T18:51:59.687Z"
   },
   {
    "duration": 246,
    "start_time": "2023-05-18T18:52:15.245Z"
   },
   {
    "duration": 231,
    "start_time": "2023-05-18T18:52:19.445Z"
   },
   {
    "duration": 325,
    "start_time": "2023-05-18T18:52:25.499Z"
   },
   {
    "duration": 217,
    "start_time": "2023-05-18T18:52:32.742Z"
   },
   {
    "duration": 311,
    "start_time": "2023-05-18T18:52:41.447Z"
   },
   {
    "duration": 260,
    "start_time": "2023-05-18T18:52:46.584Z"
   },
   {
    "duration": 249,
    "start_time": "2023-05-18T18:52:51.823Z"
   },
   {
    "duration": 274,
    "start_time": "2023-05-18T18:52:55.717Z"
   },
   {
    "duration": 233,
    "start_time": "2023-05-18T18:53:02.187Z"
   },
   {
    "duration": 74,
    "start_time": "2023-05-18T19:06:17.834Z"
   },
   {
    "duration": 35,
    "start_time": "2023-05-18T19:06:25.727Z"
   },
   {
    "duration": 32,
    "start_time": "2023-05-18T19:08:46.291Z"
   },
   {
    "duration": 50,
    "start_time": "2023-05-18T19:09:04.057Z"
   },
   {
    "duration": 32,
    "start_time": "2023-05-18T19:09:10.016Z"
   },
   {
    "duration": 26,
    "start_time": "2023-05-18T19:09:15.645Z"
   },
   {
    "duration": 48,
    "start_time": "2023-05-18T19:09:43.646Z"
   },
   {
    "duration": 17,
    "start_time": "2023-05-18T19:12:09.094Z"
   },
   {
    "duration": 12,
    "start_time": "2023-05-18T19:14:16.179Z"
   },
   {
    "duration": 7,
    "start_time": "2023-05-18T19:14:23.446Z"
   },
   {
    "duration": 20,
    "start_time": "2023-05-18T19:14:29.983Z"
   },
   {
    "duration": 25,
    "start_time": "2023-05-18T19:15:55.279Z"
   },
   {
    "duration": 16,
    "start_time": "2023-05-18T19:16:24.214Z"
   },
   {
    "duration": 3,
    "start_time": "2023-05-18T19:16:26.760Z"
   },
   {
    "duration": 122,
    "start_time": "2023-05-18T19:16:26.775Z"
   },
   {
    "duration": 14,
    "start_time": "2023-05-18T19:16:26.899Z"
   },
   {
    "duration": 28,
    "start_time": "2023-05-18T19:16:26.914Z"
   },
   {
    "duration": 15,
    "start_time": "2023-05-18T19:16:26.943Z"
   },
   {
    "duration": 113,
    "start_time": "2023-05-18T19:16:26.960Z"
   },
   {
    "duration": 7,
    "start_time": "2023-05-18T19:16:27.075Z"
   },
   {
    "duration": 30,
    "start_time": "2023-05-18T19:16:27.083Z"
   },
   {
    "duration": 27,
    "start_time": "2023-05-18T19:16:27.115Z"
   },
   {
    "duration": 17,
    "start_time": "2023-05-18T19:16:27.158Z"
   },
   {
    "duration": 42,
    "start_time": "2023-05-18T19:16:27.176Z"
   },
   {
    "duration": 18,
    "start_time": "2023-05-18T19:16:27.220Z"
   },
   {
    "duration": 10,
    "start_time": "2023-05-18T19:16:27.240Z"
   },
   {
    "duration": 35,
    "start_time": "2023-05-18T19:16:27.258Z"
   },
   {
    "duration": 23,
    "start_time": "2023-05-18T19:16:27.295Z"
   },
   {
    "duration": 10,
    "start_time": "2023-05-18T19:16:27.319Z"
   },
   {
    "duration": 238,
    "start_time": "2023-05-18T19:16:27.331Z"
   },
   {
    "duration": 31,
    "start_time": "2023-05-18T19:16:27.571Z"
   },
   {
    "duration": 27,
    "start_time": "2023-05-18T19:16:27.604Z"
   },
   {
    "duration": 46,
    "start_time": "2023-05-18T19:16:27.632Z"
   },
   {
    "duration": 26,
    "start_time": "2023-05-18T19:16:27.680Z"
   },
   {
    "duration": 9,
    "start_time": "2023-05-18T19:16:27.708Z"
   },
   {
    "duration": 17,
    "start_time": "2023-05-18T19:16:27.719Z"
   },
   {
    "duration": 6,
    "start_time": "2023-05-18T19:16:27.756Z"
   },
   {
    "duration": 5,
    "start_time": "2023-05-18T19:16:27.764Z"
   },
   {
    "duration": 258,
    "start_time": "2023-05-18T19:16:27.771Z"
   },
   {
    "duration": 46,
    "start_time": "2023-05-18T19:16:28.031Z"
   },
   {
    "duration": 15,
    "start_time": "2023-05-18T19:16:28.079Z"
   },
   {
    "duration": 14,
    "start_time": "2023-05-18T19:16:28.096Z"
   },
   {
    "duration": 189,
    "start_time": "2023-05-18T19:18:50.927Z"
   },
   {
    "duration": 182,
    "start_time": "2023-05-18T19:19:12.253Z"
   },
   {
    "duration": 177,
    "start_time": "2023-05-18T19:19:17.308Z"
   },
   {
    "duration": 302,
    "start_time": "2023-05-18T19:19:21.513Z"
   },
   {
    "duration": 193,
    "start_time": "2023-05-18T19:19:29.146Z"
   },
   {
    "duration": 8,
    "start_time": "2023-05-18T19:21:12.090Z"
   },
   {
    "duration": 21,
    "start_time": "2023-05-18T19:24:05.247Z"
   },
   {
    "duration": 48,
    "start_time": "2023-05-18T19:24:13.225Z"
   },
   {
    "duration": 4,
    "start_time": "2023-05-18T19:24:49.218Z"
   },
   {
    "duration": 14,
    "start_time": "2023-05-18T19:24:53.186Z"
   },
   {
    "duration": 9,
    "start_time": "2023-05-18T19:25:03.057Z"
   },
   {
    "duration": 17,
    "start_time": "2023-05-18T19:42:43.140Z"
   },
   {
    "duration": 4,
    "start_time": "2023-05-18T19:42:47.689Z"
   },
   {
    "duration": 152,
    "start_time": "2023-05-18T19:42:47.696Z"
   },
   {
    "duration": 14,
    "start_time": "2023-05-18T19:42:47.850Z"
   },
   {
    "duration": 24,
    "start_time": "2023-05-18T19:42:47.866Z"
   },
   {
    "duration": 7,
    "start_time": "2023-05-18T19:42:47.892Z"
   },
   {
    "duration": 34,
    "start_time": "2023-05-18T19:42:47.900Z"
   },
   {
    "duration": 24,
    "start_time": "2023-05-18T19:42:47.936Z"
   },
   {
    "duration": 29,
    "start_time": "2023-05-18T19:42:47.962Z"
   },
   {
    "duration": 21,
    "start_time": "2023-05-18T19:42:47.992Z"
   },
   {
    "duration": 42,
    "start_time": "2023-05-18T19:42:48.015Z"
   },
   {
    "duration": 26,
    "start_time": "2023-05-18T19:42:48.059Z"
   },
   {
    "duration": 17,
    "start_time": "2023-05-18T19:42:48.087Z"
   },
   {
    "duration": 3,
    "start_time": "2023-05-18T19:42:48.106Z"
   },
   {
    "duration": 56,
    "start_time": "2023-05-18T19:42:48.112Z"
   },
   {
    "duration": 22,
    "start_time": "2023-05-18T19:42:48.169Z"
   },
   {
    "duration": 10,
    "start_time": "2023-05-18T19:42:48.193Z"
   },
   {
    "duration": 234,
    "start_time": "2023-05-18T19:42:48.204Z"
   },
   {
    "duration": 34,
    "start_time": "2023-05-18T19:42:48.439Z"
   },
   {
    "duration": 24,
    "start_time": "2023-05-18T19:42:48.475Z"
   },
   {
    "duration": 33,
    "start_time": "2023-05-18T19:42:48.501Z"
   },
   {
    "duration": 34,
    "start_time": "2023-05-18T19:42:48.536Z"
   },
   {
    "duration": 9,
    "start_time": "2023-05-18T19:42:48.572Z"
   },
   {
    "duration": 13,
    "start_time": "2023-05-18T19:42:48.582Z"
   },
   {
    "duration": 5,
    "start_time": "2023-05-18T19:42:48.596Z"
   },
   {
    "duration": 4,
    "start_time": "2023-05-18T19:42:48.602Z"
   },
   {
    "duration": 269,
    "start_time": "2023-05-18T19:42:48.608Z"
   },
   {
    "duration": 38,
    "start_time": "2023-05-18T19:42:48.879Z"
   },
   {
    "duration": 14,
    "start_time": "2023-05-18T19:42:48.919Z"
   },
   {
    "duration": 34,
    "start_time": "2023-05-18T19:42:48.935Z"
   },
   {
    "duration": 195,
    "start_time": "2023-05-18T19:42:48.970Z"
   },
   {
    "duration": 10,
    "start_time": "2023-05-18T19:42:49.167Z"
   },
   {
    "duration": 16,
    "start_time": "2023-05-18T19:42:49.179Z"
   },
   {
    "duration": 10,
    "start_time": "2023-05-18T19:42:49.196Z"
   },
   {
    "duration": 52,
    "start_time": "2023-05-18T19:42:53.846Z"
   },
   {
    "duration": 17,
    "start_time": "2023-05-18T19:42:57.748Z"
   },
   {
    "duration": 11,
    "start_time": "2023-05-18T19:43:28.769Z"
   },
   {
    "duration": 16,
    "start_time": "2023-05-18T19:43:32.687Z"
   },
   {
    "duration": 18,
    "start_time": "2023-05-18T19:43:50.003Z"
   },
   {
    "duration": 15,
    "start_time": "2023-05-18T19:43:54.286Z"
   },
   {
    "duration": 17,
    "start_time": "2023-05-18T19:43:56.701Z"
   },
   {
    "duration": 15,
    "start_time": "2023-05-18T19:44:04.686Z"
   },
   {
    "duration": 8,
    "start_time": "2023-05-18T19:45:18.499Z"
   },
   {
    "duration": 5,
    "start_time": "2023-05-18T19:47:49.159Z"
   },
   {
    "duration": 168,
    "start_time": "2023-05-18T19:50:21.148Z"
   },
   {
    "duration": 178,
    "start_time": "2023-05-18T19:50:36.726Z"
   },
   {
    "duration": 171,
    "start_time": "2023-05-18T19:50:39.826Z"
   },
   {
    "duration": 189,
    "start_time": "2023-05-18T19:50:42.450Z"
   },
   {
    "duration": 183,
    "start_time": "2023-05-18T19:50:45.721Z"
   },
   {
    "duration": 162,
    "start_time": "2023-05-18T19:50:48.558Z"
   },
   {
    "duration": 7,
    "start_time": "2023-05-18T20:06:03.300Z"
   },
   {
    "duration": 8,
    "start_time": "2023-05-18T20:06:07.411Z"
   },
   {
    "duration": 13,
    "start_time": "2023-05-18T20:06:18.556Z"
   },
   {
    "duration": 12,
    "start_time": "2023-05-18T20:06:25.158Z"
   },
   {
    "duration": 12,
    "start_time": "2023-05-18T20:06:30.260Z"
   },
   {
    "duration": 10,
    "start_time": "2023-05-18T20:07:15.413Z"
   },
   {
    "duration": 8,
    "start_time": "2023-05-18T20:07:36.199Z"
   },
   {
    "duration": 9,
    "start_time": "2023-05-18T20:07:49.985Z"
   },
   {
    "duration": 4,
    "start_time": "2023-05-18T20:07:52.112Z"
   },
   {
    "duration": 129,
    "start_time": "2023-05-18T20:07:52.118Z"
   },
   {
    "duration": 15,
    "start_time": "2023-05-18T20:07:52.248Z"
   },
   {
    "duration": 27,
    "start_time": "2023-05-18T20:07:52.265Z"
   },
   {
    "duration": 8,
    "start_time": "2023-05-18T20:07:52.295Z"
   },
   {
    "duration": 77,
    "start_time": "2023-05-18T20:07:52.305Z"
   },
   {
    "duration": 7,
    "start_time": "2023-05-18T20:07:52.384Z"
   },
   {
    "duration": 59,
    "start_time": "2023-05-18T20:07:52.393Z"
   },
   {
    "duration": 126,
    "start_time": "2023-05-18T20:07:52.454Z"
   },
   {
    "duration": 18,
    "start_time": "2023-05-18T20:07:52.583Z"
   },
   {
    "duration": 28,
    "start_time": "2023-05-18T20:07:52.603Z"
   },
   {
    "duration": 39,
    "start_time": "2023-05-18T20:07:52.633Z"
   },
   {
    "duration": 11,
    "start_time": "2023-05-18T20:07:52.674Z"
   },
   {
    "duration": 31,
    "start_time": "2023-05-18T20:07:52.689Z"
   },
   {
    "duration": 41,
    "start_time": "2023-05-18T20:07:52.722Z"
   },
   {
    "duration": 9,
    "start_time": "2023-05-18T20:07:52.765Z"
   },
   {
    "duration": 225,
    "start_time": "2023-05-18T20:07:52.776Z"
   },
   {
    "duration": 37,
    "start_time": "2023-05-18T20:07:53.003Z"
   },
   {
    "duration": 41,
    "start_time": "2023-05-18T20:07:53.042Z"
   },
   {
    "duration": 26,
    "start_time": "2023-05-18T20:07:53.085Z"
   },
   {
    "duration": 44,
    "start_time": "2023-05-18T20:07:53.113Z"
   },
   {
    "duration": 10,
    "start_time": "2023-05-18T20:07:53.159Z"
   },
   {
    "duration": 13,
    "start_time": "2023-05-18T20:07:53.171Z"
   },
   {
    "duration": 4,
    "start_time": "2023-05-18T20:07:53.186Z"
   },
   {
    "duration": 5,
    "start_time": "2023-05-18T20:07:53.192Z"
   },
   {
    "duration": 288,
    "start_time": "2023-05-18T20:07:53.199Z"
   },
   {
    "duration": 50,
    "start_time": "2023-05-18T20:07:53.489Z"
   },
   {
    "duration": 31,
    "start_time": "2023-05-18T20:07:53.541Z"
   },
   {
    "duration": 14,
    "start_time": "2023-05-18T20:07:53.574Z"
   },
   {
    "duration": 232,
    "start_time": "2023-05-18T20:07:53.590Z"
   },
   {
    "duration": 9,
    "start_time": "2023-05-18T20:07:53.824Z"
   },
   {
    "duration": 39,
    "start_time": "2023-05-18T20:07:53.834Z"
   },
   {
    "duration": 10,
    "start_time": "2023-05-18T20:07:53.875Z"
   },
   {
    "duration": 12,
    "start_time": "2023-05-18T20:07:53.887Z"
   },
   {
    "duration": 10,
    "start_time": "2023-05-18T20:07:58.753Z"
   },
   {
    "duration": 229,
    "start_time": "2023-05-18T20:17:54.790Z"
   },
   {
    "duration": 11,
    "start_time": "2023-05-18T20:18:38.361Z"
   },
   {
    "duration": 264,
    "start_time": "2023-05-18T20:18:44.319Z"
   },
   {
    "duration": 191,
    "start_time": "2023-05-18T20:19:49.232Z"
   },
   {
    "duration": 215,
    "start_time": "2023-05-18T20:19:57.294Z"
   },
   {
    "duration": 179,
    "start_time": "2023-05-18T20:20:28.010Z"
   },
   {
    "duration": 4,
    "start_time": "2023-05-18T20:20:33.395Z"
   },
   {
    "duration": 232,
    "start_time": "2023-05-18T20:20:36.155Z"
   },
   {
    "duration": 243,
    "start_time": "2023-05-18T20:20:42.243Z"
   },
   {
    "duration": 236,
    "start_time": "2023-05-18T20:22:00.497Z"
   },
   {
    "duration": 212,
    "start_time": "2023-05-18T20:22:39.406Z"
   },
   {
    "duration": 301,
    "start_time": "2023-05-18T20:22:47.892Z"
   },
   {
    "duration": 248,
    "start_time": "2023-05-18T20:22:52.149Z"
   },
   {
    "duration": 204,
    "start_time": "2023-05-18T20:23:06.237Z"
   },
   {
    "duration": 43,
    "start_time": "2023-05-19T07:01:13.013Z"
   },
   {
    "duration": 1347,
    "start_time": "2023-05-19T07:01:21.387Z"
   },
   {
    "duration": 794,
    "start_time": "2023-05-19T07:01:22.736Z"
   },
   {
    "duration": 15,
    "start_time": "2023-05-19T07:01:23.531Z"
   },
   {
    "duration": 22,
    "start_time": "2023-05-19T07:01:23.547Z"
   },
   {
    "duration": 9,
    "start_time": "2023-05-19T07:01:23.571Z"
   },
   {
    "duration": 37,
    "start_time": "2023-05-19T07:01:23.582Z"
   },
   {
    "duration": 18,
    "start_time": "2023-05-19T07:01:23.621Z"
   },
   {
    "duration": 51,
    "start_time": "2023-05-19T07:01:23.641Z"
   },
   {
    "duration": 26,
    "start_time": "2023-05-19T07:01:23.694Z"
   },
   {
    "duration": 15,
    "start_time": "2023-05-19T07:01:23.722Z"
   },
   {
    "duration": 23,
    "start_time": "2023-05-19T07:01:23.739Z"
   },
   {
    "duration": 27,
    "start_time": "2023-05-19T07:01:23.764Z"
   },
   {
    "duration": 12,
    "start_time": "2023-05-19T07:01:23.792Z"
   },
   {
    "duration": 35,
    "start_time": "2023-05-19T07:01:23.806Z"
   },
   {
    "duration": 22,
    "start_time": "2023-05-19T07:01:23.842Z"
   },
   {
    "duration": 23,
    "start_time": "2023-05-19T07:01:23.865Z"
   },
   {
    "duration": 261,
    "start_time": "2023-05-19T07:01:23.889Z"
   },
   {
    "duration": 66,
    "start_time": "2023-05-19T07:01:24.152Z"
   },
   {
    "duration": 46,
    "start_time": "2023-05-19T07:01:24.220Z"
   },
   {
    "duration": 43,
    "start_time": "2023-05-19T07:01:24.268Z"
   },
   {
    "duration": 27,
    "start_time": "2023-05-19T07:01:24.313Z"
   },
   {
    "duration": 9,
    "start_time": "2023-05-19T07:01:24.342Z"
   },
   {
    "duration": 48,
    "start_time": "2023-05-19T07:01:24.353Z"
   },
   {
    "duration": 7,
    "start_time": "2023-05-19T07:01:24.402Z"
   },
   {
    "duration": 15,
    "start_time": "2023-05-19T07:01:24.411Z"
   },
   {
    "duration": 362,
    "start_time": "2023-05-19T07:01:24.428Z"
   },
   {
    "duration": 43,
    "start_time": "2023-05-19T07:01:24.791Z"
   },
   {
    "duration": 16,
    "start_time": "2023-05-19T07:01:24.836Z"
   },
   {
    "duration": 43,
    "start_time": "2023-05-19T07:01:24.854Z"
   },
   {
    "duration": 172,
    "start_time": "2023-05-19T07:01:24.898Z"
   },
   {
    "duration": 14,
    "start_time": "2023-05-19T07:01:25.071Z"
   },
   {
    "duration": 14,
    "start_time": "2023-05-19T07:01:25.087Z"
   },
   {
    "duration": 6,
    "start_time": "2023-05-19T07:01:25.103Z"
   },
   {
    "duration": 15,
    "start_time": "2023-05-19T07:01:25.111Z"
   },
   {
    "duration": 244,
    "start_time": "2023-05-19T07:01:25.128Z"
   },
   {
    "duration": 75,
    "start_time": "2023-05-19T07:01:25.373Z"
   },
   {
    "duration": 10,
    "start_time": "2023-05-19T07:02:23.201Z"
   },
   {
    "duration": 10,
    "start_time": "2023-05-19T07:02:37.937Z"
   },
   {
    "duration": 8,
    "start_time": "2023-05-19T07:04:35.012Z"
   },
   {
    "duration": 23,
    "start_time": "2023-05-19T07:04:51.274Z"
   },
   {
    "duration": 20,
    "start_time": "2023-05-19T07:04:58.401Z"
   },
   {
    "duration": 8,
    "start_time": "2023-05-19T07:05:41.893Z"
   },
   {
    "duration": 5,
    "start_time": "2023-05-19T07:05:50.623Z"
   },
   {
    "duration": 14,
    "start_time": "2023-05-19T07:08:19.306Z"
   },
   {
    "duration": 13,
    "start_time": "2023-05-19T07:08:22.786Z"
   },
   {
    "duration": 35,
    "start_time": "2023-05-19T07:08:36.424Z"
   },
   {
    "duration": 17,
    "start_time": "2023-05-19T07:08:45.908Z"
   },
   {
    "duration": 15,
    "start_time": "2023-05-19T07:09:10.094Z"
   },
   {
    "duration": 19,
    "start_time": "2023-05-19T07:09:35.048Z"
   },
   {
    "duration": 12,
    "start_time": "2023-05-19T07:09:38.539Z"
   },
   {
    "duration": 23,
    "start_time": "2023-05-19T07:10:03.133Z"
   },
   {
    "duration": 12,
    "start_time": "2023-05-19T07:10:04.498Z"
   },
   {
    "duration": 25,
    "start_time": "2023-05-19T07:10:27.732Z"
   },
   {
    "duration": 14,
    "start_time": "2023-05-19T07:10:29.281Z"
   },
   {
    "duration": 14,
    "start_time": "2023-05-19T07:10:57.123Z"
   },
   {
    "duration": 15,
    "start_time": "2023-05-19T07:12:07.185Z"
   },
   {
    "duration": 23,
    "start_time": "2023-05-19T07:12:22.159Z"
   },
   {
    "duration": 14,
    "start_time": "2023-05-19T07:13:07.762Z"
   },
   {
    "duration": 15,
    "start_time": "2023-05-19T07:14:59.931Z"
   },
   {
    "duration": 10,
    "start_time": "2023-05-19T07:16:38.243Z"
   },
   {
    "duration": 80,
    "start_time": "2023-05-19T07:16:43.798Z"
   },
   {
    "duration": 16,
    "start_time": "2023-05-19T07:22:52.119Z"
   },
   {
    "duration": 37,
    "start_time": "2023-05-19T07:31:46.180Z"
   },
   {
    "duration": 16,
    "start_time": "2023-05-19T07:31:48.622Z"
   },
   {
    "duration": 32,
    "start_time": "2023-05-19T07:31:59.789Z"
   },
   {
    "duration": 17,
    "start_time": "2023-05-19T07:32:00.794Z"
   },
   {
    "duration": 93,
    "start_time": "2023-05-19T07:32:04.827Z"
   },
   {
    "duration": 27,
    "start_time": "2023-05-19T07:32:08.103Z"
   },
   {
    "duration": 15,
    "start_time": "2023-05-19T07:38:28.002Z"
   },
   {
    "duration": 4,
    "start_time": "2023-05-19T07:38:40.788Z"
   },
   {
    "duration": 118,
    "start_time": "2023-05-19T07:38:40.794Z"
   },
   {
    "duration": 12,
    "start_time": "2023-05-19T07:38:40.913Z"
   },
   {
    "duration": 20,
    "start_time": "2023-05-19T07:38:40.927Z"
   },
   {
    "duration": 5,
    "start_time": "2023-05-19T07:38:40.949Z"
   },
   {
    "duration": 37,
    "start_time": "2023-05-19T07:38:40.956Z"
   },
   {
    "duration": 6,
    "start_time": "2023-05-19T07:38:40.994Z"
   },
   {
    "duration": 35,
    "start_time": "2023-05-19T07:38:41.001Z"
   },
   {
    "duration": 29,
    "start_time": "2023-05-19T07:38:41.038Z"
   },
   {
    "duration": 34,
    "start_time": "2023-05-19T07:38:41.068Z"
   },
   {
    "duration": 39,
    "start_time": "2023-05-19T07:38:41.104Z"
   },
   {
    "duration": 17,
    "start_time": "2023-05-19T07:38:41.144Z"
   },
   {
    "duration": 4,
    "start_time": "2023-05-19T07:38:41.184Z"
   },
   {
    "duration": 37,
    "start_time": "2023-05-19T07:38:41.190Z"
   },
   {
    "duration": 23,
    "start_time": "2023-05-19T07:38:41.229Z"
   },
   {
    "duration": 34,
    "start_time": "2023-05-19T07:38:41.254Z"
   },
   {
    "duration": 265,
    "start_time": "2023-05-19T07:38:41.290Z"
   },
   {
    "duration": 41,
    "start_time": "2023-05-19T07:38:41.557Z"
   },
   {
    "duration": 25,
    "start_time": "2023-05-19T07:38:41.599Z"
   },
   {
    "duration": 25,
    "start_time": "2023-05-19T07:38:41.626Z"
   },
   {
    "duration": 48,
    "start_time": "2023-05-19T07:38:41.652Z"
   },
   {
    "duration": 10,
    "start_time": "2023-05-19T07:38:41.701Z"
   },
   {
    "duration": 13,
    "start_time": "2023-05-19T07:38:41.712Z"
   },
   {
    "duration": 4,
    "start_time": "2023-05-19T07:38:41.727Z"
   },
   {
    "duration": 13,
    "start_time": "2023-05-19T07:38:41.733Z"
   },
   {
    "duration": 242,
    "start_time": "2023-05-19T07:38:41.748Z"
   },
   {
    "duration": 41,
    "start_time": "2023-05-19T07:38:41.992Z"
   },
   {
    "duration": 21,
    "start_time": "2023-05-19T07:38:42.035Z"
   },
   {
    "duration": 39,
    "start_time": "2023-05-19T07:38:42.058Z"
   },
   {
    "duration": 193,
    "start_time": "2023-05-19T07:38:42.099Z"
   },
   {
    "duration": 9,
    "start_time": "2023-05-19T07:38:42.294Z"
   },
   {
    "duration": 17,
    "start_time": "2023-05-19T07:38:42.304Z"
   },
   {
    "duration": 12,
    "start_time": "2023-05-19T07:38:42.323Z"
   },
   {
    "duration": 18,
    "start_time": "2023-05-19T07:38:42.337Z"
   },
   {
    "duration": 317,
    "start_time": "2023-05-19T07:38:42.357Z"
   },
   {
    "duration": 26,
    "start_time": "2023-05-19T07:38:42.677Z"
   },
   {
    "duration": 15,
    "start_time": "2023-05-19T07:38:42.706Z"
   },
   {
    "duration": 28,
    "start_time": "2023-05-19T07:38:42.722Z"
   },
   {
    "duration": 52,
    "start_time": "2023-05-19T07:38:42.751Z"
   },
   {
    "duration": 16,
    "start_time": "2023-05-19T07:38:42.805Z"
   },
   {
    "duration": 9,
    "start_time": "2023-05-19T07:45:19.097Z"
   },
   {
    "duration": 1250,
    "start_time": "2023-05-19T07:45:26.549Z"
   },
   {
    "duration": 11,
    "start_time": "2023-05-19T07:45:36.240Z"
   },
   {
    "duration": 20,
    "start_time": "2023-05-19T07:45:40.346Z"
   },
   {
    "duration": 17,
    "start_time": "2023-05-19T07:47:28.858Z"
   },
   {
    "duration": 19,
    "start_time": "2023-05-19T07:47:38.458Z"
   },
   {
    "duration": 16,
    "start_time": "2023-05-19T07:48:15.755Z"
   },
   {
    "duration": 3,
    "start_time": "2023-05-19T07:49:06.843Z"
   },
   {
    "duration": 16,
    "start_time": "2023-05-19T07:49:12.747Z"
   },
   {
    "duration": 33,
    "start_time": "2023-05-19T07:56:24.253Z"
   },
   {
    "duration": 12,
    "start_time": "2023-05-19T07:56:37.007Z"
   },
   {
    "duration": 23,
    "start_time": "2023-05-19T07:56:39.930Z"
   },
   {
    "duration": 60,
    "start_time": "2023-05-19T07:56:43.387Z"
   },
   {
    "duration": 26,
    "start_time": "2023-05-19T07:56:46.049Z"
   },
   {
    "duration": 7,
    "start_time": "2023-05-19T07:59:04.758Z"
   },
   {
    "duration": 9,
    "start_time": "2023-05-19T08:06:05.278Z"
   },
   {
    "duration": 6,
    "start_time": "2023-05-19T08:08:40.816Z"
   },
   {
    "duration": 9,
    "start_time": "2023-05-19T08:10:47.918Z"
   },
   {
    "duration": 19,
    "start_time": "2023-05-19T08:13:20.060Z"
   },
   {
    "duration": 17,
    "start_time": "2023-05-19T08:13:44.348Z"
   },
   {
    "duration": 16,
    "start_time": "2023-05-19T08:13:51.178Z"
   },
   {
    "duration": 17,
    "start_time": "2023-05-19T08:14:10.918Z"
   },
   {
    "duration": 15,
    "start_time": "2023-05-19T08:14:18.434Z"
   },
   {
    "duration": 16,
    "start_time": "2023-05-19T08:14:23.308Z"
   },
   {
    "duration": 15,
    "start_time": "2023-05-19T08:26:18.597Z"
   },
   {
    "duration": 19,
    "start_time": "2023-05-19T08:36:06.105Z"
   },
   {
    "duration": 15,
    "start_time": "2023-05-19T08:36:22.996Z"
   },
   {
    "duration": 369,
    "start_time": "2023-05-19T08:36:56.263Z"
   },
   {
    "duration": 272,
    "start_time": "2023-05-19T08:37:45.431Z"
   },
   {
    "duration": 306,
    "start_time": "2023-05-19T08:37:51.780Z"
   },
   {
    "duration": 291,
    "start_time": "2023-05-19T08:37:59.739Z"
   },
   {
    "duration": 291,
    "start_time": "2023-05-19T08:38:21.840Z"
   },
   {
    "duration": 307,
    "start_time": "2023-05-19T08:38:27.498Z"
   },
   {
    "duration": 3258,
    "start_time": "2023-05-19T08:43:44.221Z"
   },
   {
    "duration": 6,
    "start_time": "2023-05-19T08:44:34.592Z"
   },
   {
    "duration": 5,
    "start_time": "2023-05-19T08:44:49.790Z"
   },
   {
    "duration": 5,
    "start_time": "2023-05-19T08:45:33.444Z"
   },
   {
    "duration": 5,
    "start_time": "2023-05-19T08:47:40.487Z"
   },
   {
    "duration": 5,
    "start_time": "2023-05-19T08:48:10.315Z"
   },
   {
    "duration": 5,
    "start_time": "2023-05-19T08:48:14.833Z"
   },
   {
    "duration": 5,
    "start_time": "2023-05-19T08:48:39.716Z"
   },
   {
    "duration": 9,
    "start_time": "2023-05-19T08:49:55.359Z"
   },
   {
    "duration": 5,
    "start_time": "2023-05-19T08:50:00.563Z"
   },
   {
    "duration": 46,
    "start_time": "2023-05-20T04:33:27.042Z"
   },
   {
    "duration": 1391,
    "start_time": "2023-05-20T04:33:29.560Z"
   },
   {
    "duration": 212,
    "start_time": "2023-05-20T04:33:30.953Z"
   },
   {
    "duration": 16,
    "start_time": "2023-05-20T04:33:31.167Z"
   },
   {
    "duration": 28,
    "start_time": "2023-05-20T04:33:31.184Z"
   },
   {
    "duration": 15,
    "start_time": "2023-05-20T04:33:31.214Z"
   },
   {
    "duration": 37,
    "start_time": "2023-05-20T04:33:31.231Z"
   },
   {
    "duration": 5,
    "start_time": "2023-05-20T04:33:31.270Z"
   },
   {
    "duration": 44,
    "start_time": "2023-05-20T04:33:31.277Z"
   },
   {
    "duration": 21,
    "start_time": "2023-05-20T04:33:31.322Z"
   },
   {
    "duration": 27,
    "start_time": "2023-05-20T04:33:31.344Z"
   },
   {
    "duration": 25,
    "start_time": "2023-05-20T04:33:31.373Z"
   },
   {
    "duration": 16,
    "start_time": "2023-05-20T04:33:31.400Z"
   },
   {
    "duration": 3,
    "start_time": "2023-05-20T04:33:31.418Z"
   },
   {
    "duration": 51,
    "start_time": "2023-05-20T04:33:31.424Z"
   },
   {
    "duration": 24,
    "start_time": "2023-05-20T04:33:31.477Z"
   },
   {
    "duration": 9,
    "start_time": "2023-05-20T04:33:31.503Z"
   },
   {
    "duration": 250,
    "start_time": "2023-05-20T04:33:31.514Z"
   },
   {
    "duration": 36,
    "start_time": "2023-05-20T04:33:31.766Z"
   },
   {
    "duration": 28,
    "start_time": "2023-05-20T04:33:31.804Z"
   },
   {
    "duration": 37,
    "start_time": "2023-05-20T04:33:31.834Z"
   },
   {
    "duration": 26,
    "start_time": "2023-05-20T04:33:31.873Z"
   },
   {
    "duration": 9,
    "start_time": "2023-05-20T04:33:31.901Z"
   },
   {
    "duration": 39,
    "start_time": "2023-05-20T04:33:31.912Z"
   },
   {
    "duration": 6,
    "start_time": "2023-05-20T04:33:31.953Z"
   },
   {
    "duration": 6,
    "start_time": "2023-05-20T04:33:31.960Z"
   },
   {
    "duration": 342,
    "start_time": "2023-05-20T04:33:31.968Z"
   },
   {
    "duration": 47,
    "start_time": "2023-05-20T04:33:32.312Z"
   },
   {
    "duration": 14,
    "start_time": "2023-05-20T04:33:32.360Z"
   },
   {
    "duration": 13,
    "start_time": "2023-05-20T04:33:32.376Z"
   },
   {
    "duration": 209,
    "start_time": "2023-05-20T04:33:32.391Z"
   },
   {
    "duration": 8,
    "start_time": "2023-05-20T04:33:32.602Z"
   },
   {
    "duration": 16,
    "start_time": "2023-05-20T04:33:32.611Z"
   },
   {
    "duration": 26,
    "start_time": "2023-05-20T04:33:32.628Z"
   },
   {
    "duration": 9,
    "start_time": "2023-05-20T04:33:32.656Z"
   },
   {
    "duration": 223,
    "start_time": "2023-05-20T04:33:32.667Z"
   },
   {
    "duration": 17,
    "start_time": "2023-05-20T04:33:32.892Z"
   },
   {
    "duration": 18,
    "start_time": "2023-05-20T04:33:32.911Z"
   },
   {
    "duration": 28,
    "start_time": "2023-05-20T04:33:32.950Z"
   },
   {
    "duration": 40,
    "start_time": "2023-05-20T04:33:32.979Z"
   },
   {
    "duration": 32,
    "start_time": "2023-05-20T04:33:33.021Z"
   },
   {
    "duration": 22,
    "start_time": "2023-05-20T04:33:33.056Z"
   },
   {
    "duration": 19,
    "start_time": "2023-05-20T04:33:33.079Z"
   },
   {
    "duration": 18,
    "start_time": "2023-05-20T04:33:33.099Z"
   },
   {
    "duration": 52,
    "start_time": "2023-05-20T04:33:33.118Z"
   },
   {
    "duration": 8,
    "start_time": "2023-05-20T04:33:33.171Z"
   },
   {
    "duration": 8,
    "start_time": "2023-05-20T04:33:33.180Z"
   },
   {
    "duration": 10,
    "start_time": "2023-05-20T04:33:33.189Z"
   },
   {
    "duration": 19,
    "start_time": "2023-05-20T04:33:33.201Z"
   },
   {
    "duration": 489,
    "start_time": "2023-05-20T04:33:33.221Z"
   },
   {
    "duration": 6,
    "start_time": "2023-05-20T04:33:33.711Z"
   },
   {
    "duration": 17,
    "start_time": "2023-05-20T04:33:33.719Z"
   },
   {
    "duration": 16,
    "start_time": "2023-05-20T04:34:06.299Z"
   },
   {
    "duration": 14,
    "start_time": "2023-05-20T04:34:16.862Z"
   },
   {
    "duration": 13,
    "start_time": "2023-05-20T04:36:16.790Z"
   },
   {
    "duration": 19,
    "start_time": "2023-05-20T04:36:29.635Z"
   },
   {
    "duration": 14,
    "start_time": "2023-05-20T04:37:33.370Z"
   },
   {
    "duration": 13,
    "start_time": "2023-05-20T04:37:36.733Z"
   },
   {
    "duration": 13,
    "start_time": "2023-05-20T04:38:50.884Z"
   },
   {
    "duration": 15,
    "start_time": "2023-05-20T04:39:38.222Z"
   },
   {
    "duration": 13,
    "start_time": "2023-05-20T04:39:43.184Z"
   },
   {
    "duration": 15,
    "start_time": "2023-05-20T04:39:58.323Z"
   },
   {
    "duration": 15,
    "start_time": "2023-05-20T04:41:25.268Z"
   },
   {
    "duration": 15,
    "start_time": "2023-05-20T04:41:29.684Z"
   },
   {
    "duration": 14,
    "start_time": "2023-05-20T04:41:34.450Z"
   },
   {
    "duration": 15,
    "start_time": "2023-05-20T04:42:05.937Z"
   },
   {
    "duration": 17,
    "start_time": "2023-05-20T04:46:08.484Z"
   },
   {
    "duration": 13,
    "start_time": "2023-05-20T04:46:25.133Z"
   },
   {
    "duration": 6,
    "start_time": "2023-05-20T04:46:30.780Z"
   },
   {
    "duration": 167,
    "start_time": "2023-05-20T04:47:14.383Z"
   },
   {
    "duration": 29,
    "start_time": "2023-05-20T04:48:50.832Z"
   },
   {
    "duration": 278,
    "start_time": "2023-05-20T04:49:51.535Z"
   },
   {
    "duration": 202,
    "start_time": "2023-05-20T04:49:59.812Z"
   },
   {
    "duration": 90615,
    "start_time": "2023-05-20T04:50:50.668Z"
   },
   {
    "duration": 14,
    "start_time": "2023-05-20T04:55:08.484Z"
   },
   {
    "duration": 11,
    "start_time": "2023-05-20T04:55:22.552Z"
   },
   {
    "duration": 25,
    "start_time": "2023-05-20T05:00:20.146Z"
   },
   {
    "duration": 30,
    "start_time": "2023-05-20T05:00:32.490Z"
   },
   {
    "duration": 22,
    "start_time": "2023-05-20T05:00:43.923Z"
   },
   {
    "duration": 23,
    "start_time": "2023-05-20T05:00:51.823Z"
   },
   {
    "duration": 4,
    "start_time": "2023-05-20T05:00:59.047Z"
   },
   {
    "duration": 132,
    "start_time": "2023-05-20T05:00:59.052Z"
   },
   {
    "duration": 14,
    "start_time": "2023-05-20T05:00:59.186Z"
   },
   {
    "duration": 23,
    "start_time": "2023-05-20T05:00:59.201Z"
   },
   {
    "duration": 11,
    "start_time": "2023-05-20T05:00:59.227Z"
   },
   {
    "duration": 41,
    "start_time": "2023-05-20T05:00:59.240Z"
   },
   {
    "duration": 7413,
    "start_time": "2023-05-20T05:00:59.283Z"
   },
   {
    "duration": 31,
    "start_time": "2023-05-20T05:01:06.697Z"
   },
   {
    "duration": 32,
    "start_time": "2023-05-20T05:01:06.730Z"
   },
   {
    "duration": 15,
    "start_time": "2023-05-20T05:01:06.764Z"
   },
   {
    "duration": 23,
    "start_time": "2023-05-20T05:01:06.781Z"
   },
   {
    "duration": 16,
    "start_time": "2023-05-20T05:01:06.806Z"
   },
   {
    "duration": 4,
    "start_time": "2023-05-20T05:01:06.849Z"
   },
   {
    "duration": 29,
    "start_time": "2023-05-20T05:01:06.855Z"
   },
   {
    "duration": 22,
    "start_time": "2023-05-20T05:01:06.886Z"
   },
   {
    "duration": 9,
    "start_time": "2023-05-20T05:01:06.910Z"
   },
   {
    "duration": 264,
    "start_time": "2023-05-20T05:01:06.920Z"
   },
   {
    "duration": 33,
    "start_time": "2023-05-20T05:01:07.186Z"
   },
   {
    "duration": 40,
    "start_time": "2023-05-20T05:01:07.221Z"
   },
   {
    "duration": 24,
    "start_time": "2023-05-20T05:01:07.263Z"
   },
   {
    "duration": 25,
    "start_time": "2023-05-20T05:01:07.289Z"
   },
   {
    "duration": 9,
    "start_time": "2023-05-20T05:01:07.315Z"
   },
   {
    "duration": 33,
    "start_time": "2023-05-20T05:01:07.325Z"
   },
   {
    "duration": 4,
    "start_time": "2023-05-20T05:01:07.360Z"
   },
   {
    "duration": 4,
    "start_time": "2023-05-20T05:01:07.366Z"
   },
   {
    "duration": 266,
    "start_time": "2023-05-20T05:01:07.371Z"
   },
   {
    "duration": 47,
    "start_time": "2023-05-20T05:01:07.638Z"
   },
   {
    "duration": 14,
    "start_time": "2023-05-20T05:01:07.687Z"
   },
   {
    "duration": 13,
    "start_time": "2023-05-20T05:01:07.702Z"
   },
   {
    "duration": 205,
    "start_time": "2023-05-20T05:01:07.716Z"
   },
   {
    "duration": 10,
    "start_time": "2023-05-20T05:01:07.923Z"
   },
   {
    "duration": 30,
    "start_time": "2023-05-20T05:01:07.934Z"
   },
   {
    "duration": 9,
    "start_time": "2023-05-20T05:01:07.965Z"
   },
   {
    "duration": 11,
    "start_time": "2023-05-20T05:01:07.976Z"
   },
   {
    "duration": 254,
    "start_time": "2023-05-20T05:01:07.989Z"
   },
   {
    "duration": 21,
    "start_time": "2023-05-20T05:01:08.245Z"
   },
   {
    "duration": 17,
    "start_time": "2023-05-20T05:01:08.270Z"
   },
   {
    "duration": 26,
    "start_time": "2023-05-20T05:01:08.290Z"
   },
   {
    "duration": 59,
    "start_time": "2023-05-20T05:01:08.318Z"
   },
   {
    "duration": 16,
    "start_time": "2023-05-20T05:01:08.379Z"
   },
   {
    "duration": 22,
    "start_time": "2023-05-20T05:01:08.397Z"
   },
   {
    "duration": 37,
    "start_time": "2023-05-20T05:01:08.420Z"
   },
   {
    "duration": 20,
    "start_time": "2023-05-20T05:01:08.459Z"
   },
   {
    "duration": 27,
    "start_time": "2023-05-20T05:01:08.480Z"
   },
   {
    "duration": 8,
    "start_time": "2023-05-20T05:01:08.509Z"
   },
   {
    "duration": 35,
    "start_time": "2023-05-20T05:01:08.519Z"
   },
   {
    "duration": 14,
    "start_time": "2023-05-20T05:01:08.556Z"
   },
   {
    "duration": 19,
    "start_time": "2023-05-20T05:01:08.571Z"
   },
   {
    "duration": 437,
    "start_time": "2023-05-20T05:01:08.592Z"
   },
   {
    "duration": 6,
    "start_time": "2023-05-20T05:01:09.031Z"
   },
   {
    "duration": 27,
    "start_time": "2023-05-20T05:01:09.039Z"
   },
   {
    "duration": 23,
    "start_time": "2023-05-20T05:01:09.068Z"
   },
   {
    "duration": 14,
    "start_time": "2023-05-20T05:01:09.093Z"
   },
   {
    "duration": 47,
    "start_time": "2023-05-20T05:01:09.109Z"
   },
   {
    "duration": 26,
    "start_time": "2023-05-20T05:02:30.780Z"
   },
   {
    "duration": 27,
    "start_time": "2023-05-20T05:02:42.998Z"
   },
   {
    "duration": 9,
    "start_time": "2023-05-20T05:03:57.646Z"
   },
   {
    "duration": 43,
    "start_time": "2023-05-20T05:04:13.287Z"
   },
   {
    "duration": 11,
    "start_time": "2023-05-20T05:05:54.946Z"
   },
   {
    "duration": 12,
    "start_time": "2023-05-20T05:08:08.502Z"
   },
   {
    "duration": 12,
    "start_time": "2023-05-20T05:08:33.536Z"
   },
   {
    "duration": 14,
    "start_time": "2023-05-20T05:08:45.382Z"
   },
   {
    "duration": 19,
    "start_time": "2023-05-20T05:15:12.565Z"
   },
   {
    "duration": 28,
    "start_time": "2023-05-20T05:15:54.082Z"
   },
   {
    "duration": 21,
    "start_time": "2023-05-20T05:16:06.026Z"
   },
   {
    "duration": 21,
    "start_time": "2023-05-20T05:18:50.528Z"
   },
   {
    "duration": 17,
    "start_time": "2023-05-20T05:19:02.252Z"
   },
   {
    "duration": 21,
    "start_time": "2023-05-20T05:19:50.651Z"
   },
   {
    "duration": 19,
    "start_time": "2023-05-20T05:21:19.864Z"
   },
   {
    "duration": 681,
    "start_time": "2023-05-20T05:22:02.329Z"
   },
   {
    "duration": 22,
    "start_time": "2023-05-20T05:25:31.354Z"
   },
   {
    "duration": 12,
    "start_time": "2023-05-20T05:25:40.108Z"
   },
   {
    "duration": 13,
    "start_time": "2023-05-20T05:25:49.192Z"
   },
   {
    "duration": 11,
    "start_time": "2023-05-20T05:25:53.393Z"
   },
   {
    "duration": 14,
    "start_time": "2023-05-20T05:26:48.045Z"
   },
   {
    "duration": 12,
    "start_time": "2023-05-20T05:26:50.993Z"
   },
   {
    "duration": 735,
    "start_time": "2023-05-20T05:28:16.585Z"
   },
   {
    "duration": 22,
    "start_time": "2023-05-20T05:28:51.584Z"
   },
   {
    "duration": 715,
    "start_time": "2023-05-20T05:29:09.411Z"
   },
   {
    "duration": 22,
    "start_time": "2023-05-20T05:29:22.505Z"
   },
   {
    "duration": 722,
    "start_time": "2023-05-20T05:29:26.594Z"
   },
   {
    "duration": 20,
    "start_time": "2023-05-20T05:29:48.031Z"
   },
   {
    "duration": 20,
    "start_time": "2023-05-20T05:30:17.536Z"
   },
   {
    "duration": 4,
    "start_time": "2023-05-20T05:30:54.745Z"
   },
   {
    "duration": 121,
    "start_time": "2023-05-20T05:30:54.753Z"
   },
   {
    "duration": 13,
    "start_time": "2023-05-20T05:30:54.875Z"
   },
   {
    "duration": 22,
    "start_time": "2023-05-20T05:30:54.891Z"
   },
   {
    "duration": 6,
    "start_time": "2023-05-20T05:30:54.914Z"
   },
   {
    "duration": 54,
    "start_time": "2023-05-20T05:30:54.922Z"
   },
   {
    "duration": 6,
    "start_time": "2023-05-20T05:30:54.978Z"
   },
   {
    "duration": 35,
    "start_time": "2023-05-20T05:30:54.986Z"
   },
   {
    "duration": 45,
    "start_time": "2023-05-20T05:30:55.023Z"
   },
   {
    "duration": 15,
    "start_time": "2023-05-20T05:30:55.072Z"
   },
   {
    "duration": 24,
    "start_time": "2023-05-20T05:30:55.089Z"
   },
   {
    "duration": 41,
    "start_time": "2023-05-20T05:30:55.114Z"
   },
   {
    "duration": 4,
    "start_time": "2023-05-20T05:30:55.156Z"
   },
   {
    "duration": 32,
    "start_time": "2023-05-20T05:30:55.161Z"
   },
   {
    "duration": 23,
    "start_time": "2023-05-20T05:30:55.194Z"
   },
   {
    "duration": 10,
    "start_time": "2023-05-20T05:30:55.219Z"
   },
   {
    "duration": 237,
    "start_time": "2023-05-20T05:30:55.230Z"
   },
   {
    "duration": 35,
    "start_time": "2023-05-20T05:30:55.469Z"
   },
   {
    "duration": 26,
    "start_time": "2023-05-20T05:30:55.506Z"
   },
   {
    "duration": 27,
    "start_time": "2023-05-20T05:30:55.549Z"
   },
   {
    "duration": 25,
    "start_time": "2023-05-20T05:30:55.578Z"
   },
   {
    "duration": 9,
    "start_time": "2023-05-20T05:30:55.605Z"
   },
   {
    "duration": 37,
    "start_time": "2023-05-20T05:30:55.616Z"
   },
   {
    "duration": 5,
    "start_time": "2023-05-20T05:30:55.655Z"
   },
   {
    "duration": 10,
    "start_time": "2023-05-20T05:30:55.661Z"
   },
   {
    "duration": 252,
    "start_time": "2023-05-20T05:30:55.673Z"
   },
   {
    "duration": 50,
    "start_time": "2023-05-20T05:30:55.927Z"
   },
   {
    "duration": 16,
    "start_time": "2023-05-20T05:30:55.981Z"
   },
   {
    "duration": 18,
    "start_time": "2023-05-20T05:30:55.999Z"
   },
   {
    "duration": 246,
    "start_time": "2023-05-20T05:30:56.019Z"
   },
   {
    "duration": 10,
    "start_time": "2023-05-20T05:30:56.267Z"
   },
   {
    "duration": 18,
    "start_time": "2023-05-20T05:30:56.279Z"
   },
   {
    "duration": 9,
    "start_time": "2023-05-20T05:30:56.299Z"
   },
   {
    "duration": 41,
    "start_time": "2023-05-20T05:30:56.310Z"
   },
   {
    "duration": 311,
    "start_time": "2023-05-20T05:30:56.353Z"
   },
   {
    "duration": 18,
    "start_time": "2023-05-20T05:30:56.665Z"
   },
   {
    "duration": 17,
    "start_time": "2023-05-20T05:30:56.685Z"
   },
   {
    "duration": 53,
    "start_time": "2023-05-20T05:30:56.704Z"
   },
   {
    "duration": 35,
    "start_time": "2023-05-20T05:30:56.759Z"
   },
   {
    "duration": 16,
    "start_time": "2023-05-20T05:30:56.796Z"
   },
   {
    "duration": 39,
    "start_time": "2023-05-20T05:30:56.813Z"
   },
   {
    "duration": 17,
    "start_time": "2023-05-20T05:30:56.853Z"
   },
   {
    "duration": 19,
    "start_time": "2023-05-20T05:30:56.872Z"
   },
   {
    "duration": 31,
    "start_time": "2023-05-20T05:30:56.892Z"
   },
   {
    "duration": 9,
    "start_time": "2023-05-20T05:30:56.924Z"
   },
   {
    "duration": 22,
    "start_time": "2023-05-20T05:30:56.934Z"
   },
   {
    "duration": 12,
    "start_time": "2023-05-20T05:30:56.957Z"
   },
   {
    "duration": 20,
    "start_time": "2023-05-20T05:30:56.971Z"
   },
   {
    "duration": 388,
    "start_time": "2023-05-20T05:30:56.992Z"
   },
   {
    "duration": 6,
    "start_time": "2023-05-20T05:30:57.382Z"
   },
   {
    "duration": 14,
    "start_time": "2023-05-20T05:30:57.389Z"
   },
   {
    "duration": 15,
    "start_time": "2023-05-20T05:30:57.405Z"
   },
   {
    "duration": 30,
    "start_time": "2023-05-20T05:30:57.421Z"
   },
   {
    "duration": 21,
    "start_time": "2023-05-20T05:30:57.452Z"
   },
   {
    "duration": 21,
    "start_time": "2023-05-20T05:30:57.475Z"
   },
   {
    "duration": 18,
    "start_time": "2023-05-20T05:30:57.497Z"
   },
   {
    "duration": 34,
    "start_time": "2023-05-20T05:30:57.517Z"
   },
   {
    "duration": 11,
    "start_time": "2023-05-20T05:30:57.552Z"
   },
   {
    "duration": 14,
    "start_time": "2023-05-20T05:30:57.564Z"
   },
   {
    "duration": 20,
    "start_time": "2023-05-20T05:30:57.579Z"
   },
   {
    "duration": 729,
    "start_time": "2023-05-20T05:30:57.600Z"
   },
   {
    "duration": 0,
    "start_time": "2023-05-20T05:30:58.330Z"
   },
   {
    "duration": 744,
    "start_time": "2023-05-20T05:32:47.496Z"
   },
   {
    "duration": 18,
    "start_time": "2023-05-20T05:33:08.292Z"
   },
   {
    "duration": 24,
    "start_time": "2023-05-20T05:33:09.775Z"
   },
   {
    "duration": 21,
    "start_time": "2023-05-20T05:33:13.275Z"
   },
   {
    "duration": 4,
    "start_time": "2023-05-20T05:33:53.573Z"
   },
   {
    "duration": 114,
    "start_time": "2023-05-20T05:33:53.579Z"
   },
   {
    "duration": 12,
    "start_time": "2023-05-20T05:33:53.695Z"
   },
   {
    "duration": 30,
    "start_time": "2023-05-20T05:33:53.709Z"
   },
   {
    "duration": 16,
    "start_time": "2023-05-20T05:33:53.741Z"
   },
   {
    "duration": 49,
    "start_time": "2023-05-20T05:33:53.760Z"
   },
   {
    "duration": 5,
    "start_time": "2023-05-20T05:33:53.812Z"
   },
   {
    "duration": 50,
    "start_time": "2023-05-20T05:33:53.819Z"
   },
   {
    "duration": 22,
    "start_time": "2023-05-20T05:33:53.871Z"
   },
   {
    "duration": 16,
    "start_time": "2023-05-20T05:33:53.895Z"
   },
   {
    "duration": 57,
    "start_time": "2023-05-20T05:33:53.913Z"
   },
   {
    "duration": 18,
    "start_time": "2023-05-20T05:33:53.972Z"
   },
   {
    "duration": 6,
    "start_time": "2023-05-20T05:33:53.991Z"
   },
   {
    "duration": 29,
    "start_time": "2023-05-20T05:33:54.000Z"
   },
   {
    "duration": 44,
    "start_time": "2023-05-20T05:33:54.049Z"
   },
   {
    "duration": 15,
    "start_time": "2023-05-20T05:33:54.095Z"
   },
   {
    "duration": 331,
    "start_time": "2023-05-20T05:33:54.113Z"
   },
   {
    "duration": 51,
    "start_time": "2023-05-20T05:33:54.446Z"
   },
   {
    "duration": 33,
    "start_time": "2023-05-20T05:33:54.499Z"
   },
   {
    "duration": 33,
    "start_time": "2023-05-20T05:33:54.549Z"
   },
   {
    "duration": 36,
    "start_time": "2023-05-20T05:33:54.584Z"
   },
   {
    "duration": 41,
    "start_time": "2023-05-20T05:33:54.623Z"
   },
   {
    "duration": 14,
    "start_time": "2023-05-20T05:33:54.669Z"
   },
   {
    "duration": 4,
    "start_time": "2023-05-20T05:33:54.685Z"
   },
   {
    "duration": 5,
    "start_time": "2023-05-20T05:33:54.692Z"
   },
   {
    "duration": 296,
    "start_time": "2023-05-20T05:33:54.699Z"
   },
   {
    "duration": 66,
    "start_time": "2023-05-20T05:33:54.996Z"
   },
   {
    "duration": 18,
    "start_time": "2023-05-20T05:33:55.064Z"
   },
   {
    "duration": 15,
    "start_time": "2023-05-20T05:33:55.083Z"
   },
   {
    "duration": 204,
    "start_time": "2023-05-20T05:33:55.099Z"
   },
   {
    "duration": 9,
    "start_time": "2023-05-20T05:33:55.305Z"
   },
   {
    "duration": 51,
    "start_time": "2023-05-20T05:33:55.315Z"
   },
   {
    "duration": 9,
    "start_time": "2023-05-20T05:33:55.369Z"
   },
   {
    "duration": 10,
    "start_time": "2023-05-20T05:33:55.379Z"
   },
   {
    "duration": 234,
    "start_time": "2023-05-20T05:33:55.390Z"
   },
   {
    "duration": 42,
    "start_time": "2023-05-20T05:33:55.625Z"
   },
   {
    "duration": 18,
    "start_time": "2023-05-20T05:33:55.668Z"
   },
   {
    "duration": 28,
    "start_time": "2023-05-20T05:33:55.688Z"
   },
   {
    "duration": 153,
    "start_time": "2023-05-20T05:33:55.718Z"
   },
   {
    "duration": 18,
    "start_time": "2023-05-20T05:33:55.873Z"
   },
   {
    "duration": 20,
    "start_time": "2023-05-20T05:33:55.896Z"
   },
   {
    "duration": 42,
    "start_time": "2023-05-20T05:33:55.917Z"
   },
   {
    "duration": 29,
    "start_time": "2023-05-20T05:33:55.963Z"
   },
   {
    "duration": 37,
    "start_time": "2023-05-20T05:33:55.994Z"
   },
   {
    "duration": 35,
    "start_time": "2023-05-20T05:33:56.033Z"
   },
   {
    "duration": 10,
    "start_time": "2023-05-20T05:33:56.070Z"
   },
   {
    "duration": 10,
    "start_time": "2023-05-20T05:33:56.083Z"
   },
   {
    "duration": 22,
    "start_time": "2023-05-20T05:33:56.095Z"
   },
   {
    "duration": 417,
    "start_time": "2023-05-20T05:33:56.118Z"
   },
   {
    "duration": 18,
    "start_time": "2023-05-20T05:33:56.537Z"
   },
   {
    "duration": 20,
    "start_time": "2023-05-20T05:33:56.557Z"
   },
   {
    "duration": 24,
    "start_time": "2023-05-20T05:33:56.580Z"
   },
   {
    "duration": 13,
    "start_time": "2023-05-20T05:33:56.606Z"
   },
   {
    "duration": 55,
    "start_time": "2023-05-20T05:33:56.621Z"
   },
   {
    "duration": 27,
    "start_time": "2023-05-20T05:33:56.679Z"
   },
   {
    "duration": 26,
    "start_time": "2023-05-20T05:33:56.708Z"
   },
   {
    "duration": 18,
    "start_time": "2023-05-20T05:33:56.752Z"
   },
   {
    "duration": 15,
    "start_time": "2023-05-20T05:33:56.773Z"
   },
   {
    "duration": 14,
    "start_time": "2023-05-20T05:33:56.790Z"
   },
   {
    "duration": 20,
    "start_time": "2023-05-20T05:33:56.806Z"
   },
   {
    "duration": 42,
    "start_time": "2023-05-20T05:33:56.828Z"
   },
   {
    "duration": 25,
    "start_time": "2023-05-20T05:33:56.872Z"
   },
   {
    "duration": 27,
    "start_time": "2023-05-20T05:35:26.614Z"
   },
   {
    "duration": 381,
    "start_time": "2023-05-20T07:24:48.643Z"
   },
   {
    "duration": 406,
    "start_time": "2023-05-20T07:25:00.323Z"
   },
   {
    "duration": 363,
    "start_time": "2023-05-20T07:25:10.507Z"
   },
   {
    "duration": 6,
    "start_time": "2023-05-20T07:53:09.946Z"
   },
   {
    "duration": 6,
    "start_time": "2023-05-20T07:53:21.189Z"
   },
   {
    "duration": 7,
    "start_time": "2023-05-20T07:53:31.336Z"
   },
   {
    "duration": 369,
    "start_time": "2023-05-20T07:55:22.740Z"
   },
   {
    "duration": 397,
    "start_time": "2023-05-20T07:56:10.603Z"
   },
   {
    "duration": 357,
    "start_time": "2023-05-20T07:56:25.918Z"
   },
   {
    "duration": 333,
    "start_time": "2023-05-20T07:56:43.690Z"
   },
   {
    "duration": 30,
    "start_time": "2023-05-20T08:02:14.761Z"
   },
   {
    "duration": 16,
    "start_time": "2023-05-20T08:03:45.169Z"
   },
   {
    "duration": 16,
    "start_time": "2023-05-20T08:03:58.692Z"
   },
   {
    "duration": 16,
    "start_time": "2023-05-20T08:04:21.687Z"
   },
   {
    "duration": 16,
    "start_time": "2023-05-20T08:04:38.386Z"
   },
   {
    "duration": 18,
    "start_time": "2023-05-20T08:04:39.688Z"
   },
   {
    "duration": 17,
    "start_time": "2023-05-20T08:04:53.022Z"
   },
   {
    "duration": 19,
    "start_time": "2023-05-20T08:06:53.603Z"
   },
   {
    "duration": 11,
    "start_time": "2023-05-20T08:07:30.271Z"
   },
   {
    "duration": 11,
    "start_time": "2023-05-20T08:08:11.992Z"
   },
   {
    "duration": 12,
    "start_time": "2023-05-20T08:08:23.358Z"
   },
   {
    "duration": 10,
    "start_time": "2023-05-20T08:08:32.186Z"
   },
   {
    "duration": 22,
    "start_time": "2023-05-20T08:09:02.646Z"
   },
   {
    "duration": 24,
    "start_time": "2023-05-20T08:09:06.142Z"
   },
   {
    "duration": 19,
    "start_time": "2023-05-20T08:09:22.948Z"
   },
   {
    "duration": 17,
    "start_time": "2023-05-20T08:09:33.772Z"
   },
   {
    "duration": 13,
    "start_time": "2023-05-20T08:09:54.259Z"
   },
   {
    "duration": 14,
    "start_time": "2023-05-20T08:10:15.046Z"
   },
   {
    "duration": 11,
    "start_time": "2023-05-20T08:10:28.186Z"
   },
   {
    "duration": 4,
    "start_time": "2023-05-20T08:10:42.019Z"
   },
   {
    "duration": 106,
    "start_time": "2023-05-20T08:10:42.025Z"
   },
   {
    "duration": 24,
    "start_time": "2023-05-20T08:10:42.132Z"
   },
   {
    "duration": 33,
    "start_time": "2023-05-20T08:10:42.158Z"
   },
   {
    "duration": 7,
    "start_time": "2023-05-20T08:10:42.193Z"
   },
   {
    "duration": 68,
    "start_time": "2023-05-20T08:10:42.202Z"
   },
   {
    "duration": 6,
    "start_time": "2023-05-20T08:10:42.272Z"
   },
   {
    "duration": 33,
    "start_time": "2023-05-20T08:10:42.279Z"
   },
   {
    "duration": 45,
    "start_time": "2023-05-20T08:10:42.315Z"
   },
   {
    "duration": 15,
    "start_time": "2023-05-20T08:10:42.362Z"
   },
   {
    "duration": 25,
    "start_time": "2023-05-20T08:10:42.379Z"
   },
   {
    "duration": 17,
    "start_time": "2023-05-20T08:10:42.406Z"
   },
   {
    "duration": 28,
    "start_time": "2023-05-20T08:10:42.425Z"
   },
   {
    "duration": 34,
    "start_time": "2023-05-20T08:10:42.455Z"
   },
   {
    "duration": 34,
    "start_time": "2023-05-20T08:10:42.491Z"
   },
   {
    "duration": 10,
    "start_time": "2023-05-20T08:10:42.549Z"
   },
   {
    "duration": 258,
    "start_time": "2023-05-20T08:10:42.561Z"
   },
   {
    "duration": 42,
    "start_time": "2023-05-20T08:10:42.821Z"
   },
   {
    "duration": 26,
    "start_time": "2023-05-20T08:10:42.864Z"
   },
   {
    "duration": 26,
    "start_time": "2023-05-20T08:10:42.892Z"
   },
   {
    "duration": 41,
    "start_time": "2023-05-20T08:10:42.920Z"
   },
   {
    "duration": 10,
    "start_time": "2023-05-20T08:10:42.963Z"
   },
   {
    "duration": 14,
    "start_time": "2023-05-20T08:10:42.976Z"
   },
   {
    "duration": 5,
    "start_time": "2023-05-20T08:10:42.994Z"
   },
   {
    "duration": 7,
    "start_time": "2023-05-20T08:10:43.001Z"
   },
   {
    "duration": 284,
    "start_time": "2023-05-20T08:10:43.010Z"
   },
   {
    "duration": 41,
    "start_time": "2023-05-20T08:10:43.296Z"
   },
   {
    "duration": 16,
    "start_time": "2023-05-20T08:10:43.349Z"
   },
   {
    "duration": 13,
    "start_time": "2023-05-20T08:10:43.366Z"
   },
   {
    "duration": 296,
    "start_time": "2023-05-20T08:10:43.380Z"
   },
   {
    "duration": 8,
    "start_time": "2023-05-20T08:10:43.678Z"
   },
   {
    "duration": 14,
    "start_time": "2023-05-20T08:10:43.688Z"
   },
   {
    "duration": 9,
    "start_time": "2023-05-20T08:10:43.704Z"
   },
   {
    "duration": 9,
    "start_time": "2023-05-20T08:10:43.714Z"
   },
   {
    "duration": 208,
    "start_time": "2023-05-20T08:10:43.751Z"
   },
   {
    "duration": 17,
    "start_time": "2023-05-20T08:10:43.961Z"
   },
   {
    "duration": 16,
    "start_time": "2023-05-20T08:10:43.980Z"
   },
   {
    "duration": 54,
    "start_time": "2023-05-20T08:10:43.997Z"
   },
   {
    "duration": 44,
    "start_time": "2023-05-20T08:10:44.053Z"
   },
   {
    "duration": 23,
    "start_time": "2023-05-20T08:10:44.099Z"
   },
   {
    "duration": 48,
    "start_time": "2023-05-20T08:10:44.125Z"
   },
   {
    "duration": 30,
    "start_time": "2023-05-20T08:10:44.176Z"
   },
   {
    "duration": 44,
    "start_time": "2023-05-20T08:10:44.208Z"
   },
   {
    "duration": 31,
    "start_time": "2023-05-20T08:10:44.255Z"
   },
   {
    "duration": 13,
    "start_time": "2023-05-20T08:10:44.288Z"
   },
   {
    "duration": 11,
    "start_time": "2023-05-20T08:10:44.303Z"
   },
   {
    "duration": 42,
    "start_time": "2023-05-20T08:10:44.316Z"
   },
   {
    "duration": 25,
    "start_time": "2023-05-20T08:10:44.360Z"
   },
   {
    "duration": 346,
    "start_time": "2023-05-20T08:10:44.387Z"
   },
   {
    "duration": 6,
    "start_time": "2023-05-20T08:10:44.735Z"
   },
   {
    "duration": 15,
    "start_time": "2023-05-20T08:10:44.750Z"
   },
   {
    "duration": 20,
    "start_time": "2023-05-20T08:10:44.767Z"
   },
   {
    "duration": 9,
    "start_time": "2023-05-20T08:10:44.789Z"
   },
   {
    "duration": 24,
    "start_time": "2023-05-20T08:10:44.799Z"
   },
   {
    "duration": 24,
    "start_time": "2023-05-20T08:10:44.851Z"
   },
   {
    "duration": 19,
    "start_time": "2023-05-20T08:10:44.877Z"
   },
   {
    "duration": 10,
    "start_time": "2023-05-20T08:10:44.898Z"
   },
   {
    "duration": 65,
    "start_time": "2023-05-20T08:10:44.910Z"
   },
   {
    "duration": 20,
    "start_time": "2023-05-20T08:10:44.977Z"
   },
   {
    "duration": 55,
    "start_time": "2023-05-20T08:10:44.999Z"
   },
   {
    "duration": 33,
    "start_time": "2023-05-20T08:10:45.056Z"
   },
   {
    "duration": 20,
    "start_time": "2023-05-20T08:10:45.091Z"
   },
   {
    "duration": 375,
    "start_time": "2023-05-20T08:10:45.113Z"
   },
   {
    "duration": 364,
    "start_time": "2023-05-20T08:10:45.490Z"
   },
   {
    "duration": 355,
    "start_time": "2023-05-20T08:10:45.855Z"
   },
   {
    "duration": 6,
    "start_time": "2023-05-20T08:10:46.212Z"
   },
   {
    "duration": 23,
    "start_time": "2023-05-20T08:10:46.219Z"
   },
   {
    "duration": 7,
    "start_time": "2023-05-20T08:10:46.244Z"
   },
   {
    "duration": 20,
    "start_time": "2023-05-20T08:10:46.255Z"
   },
   {
    "duration": 16,
    "start_time": "2023-05-20T08:10:46.276Z"
   },
   {
    "duration": 15,
    "start_time": "2023-05-20T08:10:46.294Z"
   },
   {
    "duration": 46,
    "start_time": "2023-05-20T08:10:46.311Z"
   },
   {
    "duration": 17,
    "start_time": "2023-05-20T08:10:46.359Z"
   },
   {
    "duration": 16,
    "start_time": "2023-05-20T08:10:46.377Z"
   },
   {
    "duration": 11,
    "start_time": "2023-05-20T08:10:46.394Z"
   },
   {
    "duration": 43,
    "start_time": "2023-05-20T08:10:46.407Z"
   },
   {
    "duration": 10,
    "start_time": "2023-05-20T08:10:46.452Z"
   },
   {
    "duration": 11,
    "start_time": "2023-05-20T08:13:37.872Z"
   },
   {
    "duration": 31,
    "start_time": "2023-05-20T10:35:51.791Z"
   },
   {
    "duration": 15,
    "start_time": "2023-05-20T10:39:22.217Z"
   },
   {
    "duration": 9,
    "start_time": "2023-05-20T10:39:29.475Z"
   },
   {
    "duration": 9,
    "start_time": "2023-05-20T10:41:05.895Z"
   },
   {
    "duration": 19,
    "start_time": "2023-05-20T10:42:38.705Z"
   },
   {
    "duration": 15,
    "start_time": "2023-05-20T10:42:51.496Z"
   },
   {
    "duration": 9,
    "start_time": "2023-05-20T10:46:52.472Z"
   },
   {
    "duration": 697,
    "start_time": "2023-05-20T10:47:03.584Z"
   },
   {
    "duration": 19,
    "start_time": "2023-05-20T10:48:29.908Z"
   },
   {
    "duration": 25,
    "start_time": "2023-05-20T10:48:57.794Z"
   },
   {
    "duration": 50,
    "start_time": "2023-05-20T10:49:38.034Z"
   },
   {
    "duration": 744,
    "start_time": "2023-05-20T10:49:43.769Z"
   },
   {
    "duration": 16,
    "start_time": "2023-05-20T10:49:54.656Z"
   },
   {
    "duration": 26,
    "start_time": "2023-05-20T10:49:57.292Z"
   },
   {
    "duration": 17,
    "start_time": "2023-05-20T10:50:01.506Z"
   },
   {
    "duration": 4,
    "start_time": "2023-05-20T10:51:23.291Z"
   },
   {
    "duration": 117,
    "start_time": "2023-05-20T10:51:23.297Z"
   },
   {
    "duration": 14,
    "start_time": "2023-05-20T10:51:23.416Z"
   },
   {
    "duration": 31,
    "start_time": "2023-05-20T10:51:23.452Z"
   },
   {
    "duration": 7,
    "start_time": "2023-05-20T10:51:23.486Z"
   },
   {
    "duration": 61,
    "start_time": "2023-05-20T10:51:23.495Z"
   },
   {
    "duration": 5,
    "start_time": "2023-05-20T10:51:23.558Z"
   },
   {
    "duration": 32,
    "start_time": "2023-05-20T10:51:23.565Z"
   },
   {
    "duration": 22,
    "start_time": "2023-05-20T10:51:23.599Z"
   },
   {
    "duration": 42,
    "start_time": "2023-05-20T10:51:23.622Z"
   },
   {
    "duration": 26,
    "start_time": "2023-05-20T10:51:23.666Z"
   },
   {
    "duration": 18,
    "start_time": "2023-05-20T10:51:23.693Z"
   },
   {
    "duration": 4,
    "start_time": "2023-05-20T10:51:23.713Z"
   },
   {
    "duration": 60,
    "start_time": "2023-05-20T10:51:23.719Z"
   },
   {
    "duration": 32,
    "start_time": "2023-05-20T10:51:23.781Z"
   },
   {
    "duration": 10,
    "start_time": "2023-05-20T10:51:23.816Z"
   },
   {
    "duration": 304,
    "start_time": "2023-05-20T10:51:23.827Z"
   },
   {
    "duration": 56,
    "start_time": "2023-05-20T10:51:24.134Z"
   },
   {
    "duration": 31,
    "start_time": "2023-05-20T10:51:24.192Z"
   },
   {
    "duration": 50,
    "start_time": "2023-05-20T10:51:24.225Z"
   },
   {
    "duration": 38,
    "start_time": "2023-05-20T10:51:24.278Z"
   },
   {
    "duration": 16,
    "start_time": "2023-05-20T10:51:24.318Z"
   },
   {
    "duration": 22,
    "start_time": "2023-05-20T10:51:24.351Z"
   },
   {
    "duration": 6,
    "start_time": "2023-05-20T10:51:24.377Z"
   },
   {
    "duration": 16,
    "start_time": "2023-05-20T10:51:24.385Z"
   },
   {
    "duration": 298,
    "start_time": "2023-05-20T10:51:24.404Z"
   },
   {
    "duration": 53,
    "start_time": "2023-05-20T10:51:24.703Z"
   },
   {
    "duration": 15,
    "start_time": "2023-05-20T10:51:24.757Z"
   },
   {
    "duration": 15,
    "start_time": "2023-05-20T10:51:24.774Z"
   },
   {
    "duration": 315,
    "start_time": "2023-05-20T10:51:24.791Z"
   },
   {
    "duration": 9,
    "start_time": "2023-05-20T10:51:25.108Z"
   },
   {
    "duration": 34,
    "start_time": "2023-05-20T10:51:25.118Z"
   },
   {
    "duration": 8,
    "start_time": "2023-05-20T10:51:25.154Z"
   },
   {
    "duration": 10,
    "start_time": "2023-05-20T10:51:25.163Z"
   },
   {
    "duration": 255,
    "start_time": "2023-05-20T10:51:25.175Z"
   },
   {
    "duration": 26,
    "start_time": "2023-05-20T10:51:25.431Z"
   },
   {
    "duration": 17,
    "start_time": "2023-05-20T10:51:25.458Z"
   },
   {
    "duration": 27,
    "start_time": "2023-05-20T10:51:25.476Z"
   },
   {
    "duration": 62,
    "start_time": "2023-05-20T10:51:25.505Z"
   },
   {
    "duration": 17,
    "start_time": "2023-05-20T10:51:25.569Z"
   },
   {
    "duration": 22,
    "start_time": "2023-05-20T10:51:25.587Z"
   },
   {
    "duration": 52,
    "start_time": "2023-05-20T10:51:25.611Z"
   },
   {
    "duration": 26,
    "start_time": "2023-05-20T10:51:25.665Z"
   },
   {
    "duration": 24,
    "start_time": "2023-05-20T10:51:25.692Z"
   },
   {
    "duration": 9,
    "start_time": "2023-05-20T10:51:25.718Z"
   },
   {
    "duration": 18,
    "start_time": "2023-05-20T10:51:25.751Z"
   },
   {
    "duration": 16,
    "start_time": "2023-05-20T10:51:25.772Z"
   },
   {
    "duration": 24,
    "start_time": "2023-05-20T10:51:25.790Z"
   },
   {
    "duration": 412,
    "start_time": "2023-05-20T10:51:25.816Z"
   },
   {
    "duration": 20,
    "start_time": "2023-05-20T10:51:26.231Z"
   },
   {
    "duration": 15,
    "start_time": "2023-05-20T10:51:26.253Z"
   },
   {
    "duration": 17,
    "start_time": "2023-05-20T10:51:26.270Z"
   },
   {
    "duration": 23,
    "start_time": "2023-05-20T10:51:26.290Z"
   },
   {
    "duration": 50,
    "start_time": "2023-05-20T10:51:26.315Z"
   },
   {
    "duration": 27,
    "start_time": "2023-05-20T10:51:26.367Z"
   },
   {
    "duration": 23,
    "start_time": "2023-05-20T10:51:26.396Z"
   },
   {
    "duration": 39,
    "start_time": "2023-05-20T10:51:26.421Z"
   },
   {
    "duration": 16,
    "start_time": "2023-05-20T10:51:26.462Z"
   },
   {
    "duration": 12,
    "start_time": "2023-05-20T10:51:26.480Z"
   },
   {
    "duration": 26,
    "start_time": "2023-05-20T10:51:26.494Z"
   },
   {
    "duration": 32,
    "start_time": "2023-05-20T10:51:26.549Z"
   },
   {
    "duration": 33,
    "start_time": "2023-05-20T10:51:26.583Z"
   },
   {
    "duration": 414,
    "start_time": "2023-05-20T10:51:26.618Z"
   },
   {
    "duration": 412,
    "start_time": "2023-05-20T10:51:27.034Z"
   },
   {
    "duration": 364,
    "start_time": "2023-05-20T10:51:27.451Z"
   },
   {
    "duration": 7,
    "start_time": "2023-05-20T10:51:27.817Z"
   },
   {
    "duration": 9,
    "start_time": "2023-05-20T10:51:27.826Z"
   },
   {
    "duration": 18,
    "start_time": "2023-05-20T10:51:27.836Z"
   },
   {
    "duration": 19,
    "start_time": "2023-05-20T10:51:27.859Z"
   },
   {
    "duration": 17,
    "start_time": "2023-05-20T10:51:27.879Z"
   },
   {
    "duration": 16,
    "start_time": "2023-05-20T10:51:27.898Z"
   },
   {
    "duration": 51,
    "start_time": "2023-05-20T10:51:27.916Z"
   },
   {
    "duration": 20,
    "start_time": "2023-05-20T10:51:27.969Z"
   },
   {
    "duration": 23,
    "start_time": "2023-05-20T10:51:27.991Z"
   },
   {
    "duration": 68,
    "start_time": "2023-05-20T10:51:28.016Z"
   },
   {
    "duration": 39,
    "start_time": "2023-05-20T10:51:28.086Z"
   },
   {
    "duration": 31,
    "start_time": "2023-05-20T10:51:28.127Z"
   },
   {
    "duration": 25,
    "start_time": "2023-05-20T10:51:28.160Z"
   },
   {
    "duration": 31,
    "start_time": "2023-05-20T10:51:28.188Z"
   },
   {
    "duration": 37,
    "start_time": "2023-05-20T10:51:28.221Z"
   },
   {
    "duration": 16,
    "start_time": "2023-05-20T10:51:54.967Z"
   },
   {
    "duration": 26,
    "start_time": "2023-05-20T10:51:59.796Z"
   },
   {
    "duration": 30,
    "start_time": "2023-05-20T10:52:03.297Z"
   },
   {
    "duration": 56,
    "start_time": "2023-05-20T10:52:11.150Z"
   },
   {
    "duration": 19,
    "start_time": "2023-05-20T10:52:21.454Z"
   },
   {
    "duration": 32,
    "start_time": "2023-05-20T10:52:42.417Z"
   },
   {
    "duration": 17,
    "start_time": "2023-05-20T10:52:56.293Z"
   },
   {
    "duration": 11,
    "start_time": "2023-05-20T11:14:03.291Z"
   },
   {
    "duration": 31,
    "start_time": "2023-05-20T11:14:21.599Z"
   },
   {
    "duration": 44,
    "start_time": "2023-05-20T11:15:55.669Z"
   },
   {
    "duration": 11,
    "start_time": "2023-05-20T11:16:01.828Z"
   },
   {
    "duration": 65,
    "start_time": "2023-05-20T11:16:06.846Z"
   },
   {
    "duration": 42,
    "start_time": "2023-05-20T11:16:13.705Z"
   },
   {
    "duration": 37,
    "start_time": "2023-05-20T11:16:44.438Z"
   },
   {
    "duration": 1007,
    "start_time": "2023-05-20T11:16:58.286Z"
   },
   {
    "duration": 674,
    "start_time": "2023-05-20T11:17:39.420Z"
   },
   {
    "duration": 729,
    "start_time": "2023-05-20T11:17:45.892Z"
   },
   {
    "duration": 738,
    "start_time": "2023-05-20T11:18:39.807Z"
   },
   {
    "duration": 17,
    "start_time": "2023-05-20T11:18:48.792Z"
   },
   {
    "duration": 18,
    "start_time": "2023-05-20T11:21:12.749Z"
   },
   {
    "duration": 20,
    "start_time": "2023-05-20T11:21:16.315Z"
   },
   {
    "duration": 18,
    "start_time": "2023-05-20T11:21:20.090Z"
   },
   {
    "duration": 23,
    "start_time": "2023-05-20T11:21:29.928Z"
   },
   {
    "duration": 17,
    "start_time": "2023-05-20T11:21:44.603Z"
   },
   {
    "duration": 1282,
    "start_time": "2023-05-20T23:56:09.575Z"
   },
   {
    "duration": 240,
    "start_time": "2023-05-20T23:56:10.860Z"
   },
   {
    "duration": 16,
    "start_time": "2023-05-20T23:56:11.101Z"
   },
   {
    "duration": 38,
    "start_time": "2023-05-20T23:56:11.119Z"
   },
   {
    "duration": 8,
    "start_time": "2023-05-20T23:56:11.159Z"
   },
   {
    "duration": 50,
    "start_time": "2023-05-20T23:56:11.169Z"
   },
   {
    "duration": 6,
    "start_time": "2023-05-20T23:56:11.220Z"
   },
   {
    "duration": 43,
    "start_time": "2023-05-20T23:56:11.227Z"
   },
   {
    "duration": 23,
    "start_time": "2023-05-20T23:56:11.272Z"
   },
   {
    "duration": 36,
    "start_time": "2023-05-20T23:56:11.299Z"
   },
   {
    "duration": 31,
    "start_time": "2023-05-20T23:56:11.337Z"
   },
   {
    "duration": 20,
    "start_time": "2023-05-20T23:56:11.371Z"
   },
   {
    "duration": 13,
    "start_time": "2023-05-20T23:56:11.392Z"
   },
   {
    "duration": 52,
    "start_time": "2023-05-20T23:56:11.406Z"
   },
   {
    "duration": 27,
    "start_time": "2023-05-20T23:56:11.460Z"
   },
   {
    "duration": 11,
    "start_time": "2023-05-20T23:56:11.488Z"
   },
   {
    "duration": 281,
    "start_time": "2023-05-20T23:56:11.500Z"
   },
   {
    "duration": 42,
    "start_time": "2023-05-20T23:56:11.783Z"
   },
   {
    "duration": 31,
    "start_time": "2023-05-20T23:56:11.827Z"
   },
   {
    "duration": 24,
    "start_time": "2023-05-20T23:56:11.860Z"
   },
   {
    "duration": 48,
    "start_time": "2023-05-20T23:56:11.886Z"
   },
   {
    "duration": 10,
    "start_time": "2023-05-20T23:56:11.938Z"
   },
   {
    "duration": 23,
    "start_time": "2023-05-20T23:56:11.949Z"
   },
   {
    "duration": 14,
    "start_time": "2023-05-20T23:56:11.974Z"
   },
   {
    "duration": 20,
    "start_time": "2023-05-20T23:56:11.990Z"
   },
   {
    "duration": 362,
    "start_time": "2023-05-20T23:56:12.012Z"
   },
   {
    "duration": 40,
    "start_time": "2023-05-20T23:56:12.376Z"
   },
   {
    "duration": 22,
    "start_time": "2023-05-20T23:56:12.429Z"
   },
   {
    "duration": 23,
    "start_time": "2023-05-20T23:56:12.452Z"
   },
   {
    "duration": 205,
    "start_time": "2023-05-20T23:56:12.477Z"
   },
   {
    "duration": 8,
    "start_time": "2023-05-20T23:56:12.684Z"
   },
   {
    "duration": 30,
    "start_time": "2023-05-20T23:56:12.693Z"
   },
   {
    "duration": 10,
    "start_time": "2023-05-20T23:56:12.725Z"
   },
   {
    "duration": 11,
    "start_time": "2023-05-20T23:56:12.738Z"
   },
   {
    "duration": 245,
    "start_time": "2023-05-20T23:56:12.751Z"
   },
   {
    "duration": 30,
    "start_time": "2023-05-20T23:56:12.999Z"
   },
   {
    "duration": 22,
    "start_time": "2023-05-20T23:56:13.031Z"
   },
   {
    "duration": 28,
    "start_time": "2023-05-20T23:56:13.055Z"
   },
   {
    "duration": 73,
    "start_time": "2023-05-20T23:56:13.085Z"
   },
   {
    "duration": 15,
    "start_time": "2023-05-20T23:56:13.159Z"
   },
   {
    "duration": 19,
    "start_time": "2023-05-20T23:56:13.176Z"
   },
   {
    "duration": 45,
    "start_time": "2023-05-20T23:56:13.197Z"
   },
   {
    "duration": 18,
    "start_time": "2023-05-20T23:56:13.243Z"
   },
   {
    "duration": 25,
    "start_time": "2023-05-20T23:56:13.262Z"
   },
   {
    "duration": 8,
    "start_time": "2023-05-20T23:56:13.289Z"
   },
   {
    "duration": 11,
    "start_time": "2023-05-20T23:56:13.327Z"
   },
   {
    "duration": 12,
    "start_time": "2023-05-20T23:56:13.340Z"
   },
   {
    "duration": 21,
    "start_time": "2023-05-20T23:56:13.354Z"
   },
   {
    "duration": 502,
    "start_time": "2023-05-20T23:56:13.377Z"
   },
   {
    "duration": 6,
    "start_time": "2023-05-20T23:56:13.881Z"
   },
   {
    "duration": 16,
    "start_time": "2023-05-20T23:56:13.889Z"
   },
   {
    "duration": 42,
    "start_time": "2023-05-20T23:56:13.907Z"
   },
   {
    "duration": 11,
    "start_time": "2023-05-20T23:56:13.950Z"
   },
   {
    "duration": 24,
    "start_time": "2023-05-20T23:56:13.962Z"
   },
   {
    "duration": 46,
    "start_time": "2023-05-20T23:56:13.988Z"
   },
   {
    "duration": 21,
    "start_time": "2023-05-20T23:56:14.035Z"
   },
   {
    "duration": 11,
    "start_time": "2023-05-20T23:56:14.057Z"
   },
   {
    "duration": 16,
    "start_time": "2023-05-20T23:56:14.070Z"
   },
   {
    "duration": 11,
    "start_time": "2023-05-20T23:56:14.087Z"
   },
   {
    "duration": 48,
    "start_time": "2023-05-20T23:56:14.100Z"
   },
   {
    "duration": 19,
    "start_time": "2023-05-20T23:56:14.150Z"
   },
   {
    "duration": 21,
    "start_time": "2023-05-20T23:56:14.171Z"
   },
   {
    "duration": 375,
    "start_time": "2023-05-20T23:56:14.194Z"
   },
   {
    "duration": 378,
    "start_time": "2023-05-20T23:56:14.571Z"
   },
   {
    "duration": 346,
    "start_time": "2023-05-20T23:56:14.951Z"
   },
   {
    "duration": 6,
    "start_time": "2023-05-20T23:56:15.298Z"
   },
   {
    "duration": 22,
    "start_time": "2023-05-20T23:56:15.306Z"
   },
   {
    "duration": 9,
    "start_time": "2023-05-20T23:56:15.331Z"
   },
   {
    "duration": 16,
    "start_time": "2023-05-20T23:56:15.342Z"
   },
   {
    "duration": 13,
    "start_time": "2023-05-20T23:56:15.359Z"
   },
   {
    "duration": 12,
    "start_time": "2023-05-20T23:56:15.374Z"
   },
   {
    "duration": 53,
    "start_time": "2023-05-20T23:56:15.388Z"
   },
   {
    "duration": 16,
    "start_time": "2023-05-20T23:56:15.443Z"
   },
   {
    "duration": 14,
    "start_time": "2023-05-20T23:56:15.461Z"
   },
   {
    "duration": 12,
    "start_time": "2023-05-20T23:56:15.476Z"
   },
   {
    "duration": 41,
    "start_time": "2023-05-20T23:56:15.490Z"
   },
   {
    "duration": 14,
    "start_time": "2023-05-20T23:56:15.534Z"
   },
   {
    "duration": 31,
    "start_time": "2023-05-20T23:56:15.549Z"
   },
   {
    "duration": 31,
    "start_time": "2023-05-20T23:56:15.582Z"
   },
   {
    "duration": 28,
    "start_time": "2023-05-20T23:56:15.615Z"
   },
   {
    "duration": 43,
    "start_time": "2023-05-20T23:56:15.645Z"
   },
   {
    "duration": 49,
    "start_time": "2023-05-20T23:56:15.694Z"
   },
   {
    "duration": 48,
    "start_time": "2023-05-23T04:13:58.947Z"
   },
   {
    "duration": 1357,
    "start_time": "2023-05-23T04:14:02.663Z"
   },
   {
    "duration": 469,
    "start_time": "2023-05-23T04:14:04.022Z"
   },
   {
    "duration": 15,
    "start_time": "2023-05-23T04:14:04.492Z"
   },
   {
    "duration": 25,
    "start_time": "2023-05-23T04:14:04.509Z"
   },
   {
    "duration": 10,
    "start_time": "2023-05-23T04:14:04.536Z"
   },
   {
    "duration": 32,
    "start_time": "2023-05-23T04:14:04.548Z"
   },
   {
    "duration": 6,
    "start_time": "2023-05-23T04:14:04.581Z"
   },
   {
    "duration": 50,
    "start_time": "2023-05-23T04:14:04.588Z"
   },
   {
    "duration": 21,
    "start_time": "2023-05-23T04:14:04.640Z"
   },
   {
    "duration": 15,
    "start_time": "2023-05-23T04:14:04.664Z"
   },
   {
    "duration": 47,
    "start_time": "2023-05-23T04:14:04.680Z"
   },
   {
    "duration": 25,
    "start_time": "2023-05-23T04:14:04.729Z"
   },
   {
    "duration": 5,
    "start_time": "2023-05-23T04:14:04.756Z"
   },
   {
    "duration": 62,
    "start_time": "2023-05-23T04:14:04.763Z"
   },
   {
    "duration": 31,
    "start_time": "2023-05-23T04:14:04.827Z"
   },
   {
    "duration": 11,
    "start_time": "2023-05-23T04:14:04.860Z"
   },
   {
    "duration": 287,
    "start_time": "2023-05-23T04:14:04.873Z"
   },
   {
    "duration": 38,
    "start_time": "2023-05-23T04:14:05.162Z"
   },
   {
    "duration": 39,
    "start_time": "2023-05-23T04:14:05.202Z"
   },
   {
    "duration": 30,
    "start_time": "2023-05-23T04:14:05.243Z"
   },
   {
    "duration": 29,
    "start_time": "2023-05-23T04:14:05.275Z"
   },
   {
    "duration": 12,
    "start_time": "2023-05-23T04:14:05.324Z"
   },
   {
    "duration": 32,
    "start_time": "2023-05-23T04:14:05.337Z"
   },
   {
    "duration": 26,
    "start_time": "2023-05-23T04:14:05.370Z"
   },
   {
    "duration": 17,
    "start_time": "2023-05-23T04:14:05.398Z"
   },
   {
    "duration": 349,
    "start_time": "2023-05-23T04:14:05.417Z"
   },
   {
    "duration": 40,
    "start_time": "2023-05-23T04:14:05.768Z"
   },
   {
    "duration": 27,
    "start_time": "2023-05-23T04:14:05.811Z"
   },
   {
    "duration": 31,
    "start_time": "2023-05-23T04:14:05.840Z"
   },
   {
    "duration": 170,
    "start_time": "2023-05-23T04:14:05.873Z"
   },
   {
    "duration": 7,
    "start_time": "2023-05-23T04:14:06.045Z"
   },
   {
    "duration": 16,
    "start_time": "2023-05-23T04:14:06.053Z"
   },
   {
    "duration": 8,
    "start_time": "2023-05-23T04:14:06.070Z"
   },
   {
    "duration": 88,
    "start_time": "2023-05-23T04:14:06.079Z"
   },
   {
    "duration": 0,
    "start_time": "2023-05-23T04:14:06.169Z"
   },
   {
    "duration": 0,
    "start_time": "2023-05-23T04:14:06.170Z"
   },
   {
    "duration": 0,
    "start_time": "2023-05-23T04:14:06.171Z"
   },
   {
    "duration": 0,
    "start_time": "2023-05-23T04:14:06.172Z"
   },
   {
    "duration": 0,
    "start_time": "2023-05-23T04:14:06.174Z"
   },
   {
    "duration": 0,
    "start_time": "2023-05-23T04:14:06.174Z"
   },
   {
    "duration": 0,
    "start_time": "2023-05-23T04:14:06.176Z"
   },
   {
    "duration": 0,
    "start_time": "2023-05-23T04:14:06.177Z"
   },
   {
    "duration": 0,
    "start_time": "2023-05-23T04:14:06.178Z"
   },
   {
    "duration": 0,
    "start_time": "2023-05-23T04:14:06.179Z"
   },
   {
    "duration": 0,
    "start_time": "2023-05-23T04:14:06.180Z"
   },
   {
    "duration": 0,
    "start_time": "2023-05-23T04:14:06.181Z"
   },
   {
    "duration": 0,
    "start_time": "2023-05-23T04:14:06.182Z"
   },
   {
    "duration": 0,
    "start_time": "2023-05-23T04:14:06.184Z"
   },
   {
    "duration": 0,
    "start_time": "2023-05-23T04:14:06.184Z"
   },
   {
    "duration": 0,
    "start_time": "2023-05-23T04:14:06.185Z"
   },
   {
    "duration": 0,
    "start_time": "2023-05-23T04:14:06.186Z"
   },
   {
    "duration": 0,
    "start_time": "2023-05-23T04:14:06.187Z"
   },
   {
    "duration": 0,
    "start_time": "2023-05-23T04:14:06.188Z"
   },
   {
    "duration": 0,
    "start_time": "2023-05-23T04:14:06.189Z"
   },
   {
    "duration": 0,
    "start_time": "2023-05-23T04:14:06.190Z"
   },
   {
    "duration": 0,
    "start_time": "2023-05-23T04:14:06.224Z"
   },
   {
    "duration": 0,
    "start_time": "2023-05-23T04:14:06.225Z"
   },
   {
    "duration": 0,
    "start_time": "2023-05-23T04:14:06.226Z"
   },
   {
    "duration": 0,
    "start_time": "2023-05-23T04:14:06.227Z"
   },
   {
    "duration": 0,
    "start_time": "2023-05-23T04:14:06.228Z"
   },
   {
    "duration": 0,
    "start_time": "2023-05-23T04:14:06.229Z"
   },
   {
    "duration": 0,
    "start_time": "2023-05-23T04:14:06.230Z"
   },
   {
    "duration": 0,
    "start_time": "2023-05-23T04:14:06.231Z"
   },
   {
    "duration": 0,
    "start_time": "2023-05-23T04:14:06.232Z"
   },
   {
    "duration": 0,
    "start_time": "2023-05-23T04:14:06.233Z"
   },
   {
    "duration": 0,
    "start_time": "2023-05-23T04:14:06.234Z"
   },
   {
    "duration": 0,
    "start_time": "2023-05-23T04:14:06.235Z"
   },
   {
    "duration": 0,
    "start_time": "2023-05-23T04:14:06.236Z"
   },
   {
    "duration": 0,
    "start_time": "2023-05-23T04:14:06.238Z"
   },
   {
    "duration": 0,
    "start_time": "2023-05-23T04:14:06.239Z"
   },
   {
    "duration": 0,
    "start_time": "2023-05-23T04:14:06.240Z"
   },
   {
    "duration": 0,
    "start_time": "2023-05-23T04:14:06.241Z"
   },
   {
    "duration": 0,
    "start_time": "2023-05-23T04:14:06.242Z"
   },
   {
    "duration": 0,
    "start_time": "2023-05-23T04:14:06.243Z"
   },
   {
    "duration": 0,
    "start_time": "2023-05-23T04:14:06.244Z"
   },
   {
    "duration": 0,
    "start_time": "2023-05-23T04:14:06.245Z"
   },
   {
    "duration": 0,
    "start_time": "2023-05-23T04:14:06.246Z"
   },
   {
    "duration": 0,
    "start_time": "2023-05-23T04:14:06.248Z"
   },
   {
    "duration": 0,
    "start_time": "2023-05-23T04:14:06.249Z"
   },
   {
    "duration": 0,
    "start_time": "2023-05-23T04:14:06.250Z"
   },
   {
    "duration": 0,
    "start_time": "2023-05-23T04:14:06.251Z"
   },
   {
    "duration": 0,
    "start_time": "2023-05-23T04:14:06.252Z"
   },
   {
    "duration": 0,
    "start_time": "2023-05-23T04:14:06.253Z"
   },
   {
    "duration": 11,
    "start_time": "2023-05-23T04:28:17.549Z"
   },
   {
    "duration": 8,
    "start_time": "2023-05-23T04:30:48.515Z"
   },
   {
    "duration": 13,
    "start_time": "2023-05-23T04:35:32.936Z"
   },
   {
    "duration": 42,
    "start_time": "2023-05-23T04:35:39.444Z"
   },
   {
    "duration": 41,
    "start_time": "2023-05-23T04:36:22.153Z"
   },
   {
    "duration": 4,
    "start_time": "2023-05-23T04:36:33.298Z"
   },
   {
    "duration": 142,
    "start_time": "2023-05-23T04:36:33.304Z"
   },
   {
    "duration": 11,
    "start_time": "2023-05-23T04:36:33.448Z"
   },
   {
    "duration": 40,
    "start_time": "2023-05-23T04:36:33.461Z"
   },
   {
    "duration": 11,
    "start_time": "2023-05-23T04:36:33.503Z"
   },
   {
    "duration": 65,
    "start_time": "2023-05-23T04:36:33.515Z"
   },
   {
    "duration": 14,
    "start_time": "2023-05-23T04:36:33.582Z"
   },
   {
    "duration": 46,
    "start_time": "2023-05-23T04:36:33.597Z"
   },
   {
    "duration": 46,
    "start_time": "2023-05-23T04:36:33.646Z"
   },
   {
    "duration": 33,
    "start_time": "2023-05-23T04:36:33.694Z"
   },
   {
    "duration": 39,
    "start_time": "2023-05-23T04:36:33.728Z"
   },
   {
    "duration": 17,
    "start_time": "2023-05-23T04:36:33.769Z"
   },
   {
    "duration": 4,
    "start_time": "2023-05-23T04:36:33.787Z"
   },
   {
    "duration": 48,
    "start_time": "2023-05-23T04:36:33.793Z"
   },
   {
    "duration": 25,
    "start_time": "2023-05-23T04:36:33.842Z"
   },
   {
    "duration": 17,
    "start_time": "2023-05-23T04:36:33.869Z"
   },
   {
    "duration": 252,
    "start_time": "2023-05-23T04:36:33.887Z"
   },
   {
    "duration": 32,
    "start_time": "2023-05-23T04:36:34.140Z"
   },
   {
    "duration": 40,
    "start_time": "2023-05-23T04:36:34.173Z"
   },
   {
    "duration": 30,
    "start_time": "2023-05-23T04:36:34.214Z"
   },
   {
    "duration": 23,
    "start_time": "2023-05-23T04:36:34.246Z"
   },
   {
    "duration": 9,
    "start_time": "2023-05-23T04:36:34.271Z"
   },
   {
    "duration": 41,
    "start_time": "2023-05-23T04:36:34.282Z"
   },
   {
    "duration": 10,
    "start_time": "2023-05-23T04:36:34.327Z"
   },
   {
    "duration": 18,
    "start_time": "2023-05-23T04:36:34.338Z"
   },
   {
    "duration": 233,
    "start_time": "2023-05-23T04:36:34.357Z"
   },
   {
    "duration": 49,
    "start_time": "2023-05-23T04:36:34.591Z"
   },
   {
    "duration": 13,
    "start_time": "2023-05-23T04:36:34.642Z"
   },
   {
    "duration": 26,
    "start_time": "2023-05-23T04:36:34.656Z"
   },
   {
    "duration": 231,
    "start_time": "2023-05-23T04:36:34.683Z"
   },
   {
    "duration": 11,
    "start_time": "2023-05-23T04:36:34.916Z"
   },
   {
    "duration": 38,
    "start_time": "2023-05-23T04:36:34.928Z"
   },
   {
    "duration": 21,
    "start_time": "2023-05-23T04:36:34.967Z"
   },
   {
    "duration": 19,
    "start_time": "2023-05-23T04:36:34.989Z"
   },
   {
    "duration": 60,
    "start_time": "2023-05-23T04:36:35.009Z"
   },
   {
    "duration": 0,
    "start_time": "2023-05-23T04:36:35.072Z"
   },
   {
    "duration": 0,
    "start_time": "2023-05-23T04:36:35.073Z"
   },
   {
    "duration": 0,
    "start_time": "2023-05-23T04:36:35.075Z"
   },
   {
    "duration": 0,
    "start_time": "2023-05-23T04:36:35.076Z"
   },
   {
    "duration": 0,
    "start_time": "2023-05-23T04:36:35.077Z"
   },
   {
    "duration": 0,
    "start_time": "2023-05-23T04:36:35.078Z"
   },
   {
    "duration": 0,
    "start_time": "2023-05-23T04:36:35.079Z"
   },
   {
    "duration": 0,
    "start_time": "2023-05-23T04:36:35.080Z"
   },
   {
    "duration": 0,
    "start_time": "2023-05-23T04:36:35.081Z"
   },
   {
    "duration": 0,
    "start_time": "2023-05-23T04:36:35.083Z"
   },
   {
    "duration": 0,
    "start_time": "2023-05-23T04:36:35.084Z"
   },
   {
    "duration": 0,
    "start_time": "2023-05-23T04:36:35.085Z"
   },
   {
    "duration": 0,
    "start_time": "2023-05-23T04:36:35.087Z"
   },
   {
    "duration": 0,
    "start_time": "2023-05-23T04:36:35.088Z"
   },
   {
    "duration": 0,
    "start_time": "2023-05-23T04:36:35.089Z"
   },
   {
    "duration": 0,
    "start_time": "2023-05-23T04:36:35.090Z"
   },
   {
    "duration": 0,
    "start_time": "2023-05-23T04:36:35.092Z"
   },
   {
    "duration": 0,
    "start_time": "2023-05-23T04:36:35.093Z"
   },
   {
    "duration": 0,
    "start_time": "2023-05-23T04:36:35.124Z"
   },
   {
    "duration": 0,
    "start_time": "2023-05-23T04:36:35.126Z"
   },
   {
    "duration": 0,
    "start_time": "2023-05-23T04:36:35.127Z"
   },
   {
    "duration": 0,
    "start_time": "2023-05-23T04:36:35.128Z"
   },
   {
    "duration": 0,
    "start_time": "2023-05-23T04:36:35.129Z"
   },
   {
    "duration": 0,
    "start_time": "2023-05-23T04:36:35.130Z"
   },
   {
    "duration": 0,
    "start_time": "2023-05-23T04:36:35.131Z"
   },
   {
    "duration": 0,
    "start_time": "2023-05-23T04:36:35.133Z"
   },
   {
    "duration": 0,
    "start_time": "2023-05-23T04:36:35.133Z"
   },
   {
    "duration": 0,
    "start_time": "2023-05-23T04:36:35.134Z"
   },
   {
    "duration": 0,
    "start_time": "2023-05-23T04:36:35.135Z"
   },
   {
    "duration": 0,
    "start_time": "2023-05-23T04:36:35.137Z"
   },
   {
    "duration": 0,
    "start_time": "2023-05-23T04:36:35.138Z"
   },
   {
    "duration": 0,
    "start_time": "2023-05-23T04:36:35.139Z"
   },
   {
    "duration": 0,
    "start_time": "2023-05-23T04:36:35.140Z"
   },
   {
    "duration": 0,
    "start_time": "2023-05-23T04:36:35.142Z"
   },
   {
    "duration": 0,
    "start_time": "2023-05-23T04:36:35.143Z"
   },
   {
    "duration": 0,
    "start_time": "2023-05-23T04:36:35.144Z"
   },
   {
    "duration": 0,
    "start_time": "2023-05-23T04:36:35.146Z"
   },
   {
    "duration": 0,
    "start_time": "2023-05-23T04:36:35.147Z"
   },
   {
    "duration": 0,
    "start_time": "2023-05-23T04:36:35.148Z"
   },
   {
    "duration": 0,
    "start_time": "2023-05-23T04:36:35.149Z"
   },
   {
    "duration": 0,
    "start_time": "2023-05-23T04:36:35.150Z"
   },
   {
    "duration": 0,
    "start_time": "2023-05-23T04:36:35.151Z"
   },
   {
    "duration": 0,
    "start_time": "2023-05-23T04:36:35.153Z"
   },
   {
    "duration": 0,
    "start_time": "2023-05-23T04:36:35.154Z"
   },
   {
    "duration": 0,
    "start_time": "2023-05-23T04:36:35.155Z"
   },
   {
    "duration": 0,
    "start_time": "2023-05-23T04:36:35.156Z"
   },
   {
    "duration": 0,
    "start_time": "2023-05-23T04:36:35.157Z"
   },
   {
    "duration": 0,
    "start_time": "2023-05-23T04:36:35.158Z"
   },
   {
    "duration": 0,
    "start_time": "2023-05-23T04:36:35.160Z"
   },
   {
    "duration": 12,
    "start_time": "2023-05-23T04:36:53.402Z"
   },
   {
    "duration": 12,
    "start_time": "2023-05-23T04:36:55.706Z"
   },
   {
    "duration": 43,
    "start_time": "2023-05-23T04:37:02.219Z"
   },
   {
    "duration": 4,
    "start_time": "2023-05-23T04:38:15.819Z"
   },
   {
    "duration": 125,
    "start_time": "2023-05-23T04:38:15.825Z"
   },
   {
    "duration": 12,
    "start_time": "2023-05-23T04:38:15.951Z"
   },
   {
    "duration": 29,
    "start_time": "2023-05-23T04:38:15.965Z"
   },
   {
    "duration": 6,
    "start_time": "2023-05-23T04:38:15.995Z"
   },
   {
    "duration": 52,
    "start_time": "2023-05-23T04:38:16.003Z"
   },
   {
    "duration": 5,
    "start_time": "2023-05-23T04:38:16.057Z"
   },
   {
    "duration": 63,
    "start_time": "2023-05-23T04:38:16.063Z"
   },
   {
    "duration": 23,
    "start_time": "2023-05-23T04:38:16.128Z"
   },
   {
    "duration": 14,
    "start_time": "2023-05-23T04:38:16.153Z"
   },
   {
    "duration": 28,
    "start_time": "2023-05-23T04:38:16.169Z"
   },
   {
    "duration": 35,
    "start_time": "2023-05-23T04:38:16.199Z"
   },
   {
    "duration": 9,
    "start_time": "2023-05-23T04:38:16.236Z"
   },
   {
    "duration": 30,
    "start_time": "2023-05-23T04:38:16.246Z"
   },
   {
    "duration": 25,
    "start_time": "2023-05-23T04:38:16.278Z"
   },
   {
    "duration": 27,
    "start_time": "2023-05-23T04:38:16.304Z"
   },
   {
    "duration": 245,
    "start_time": "2023-05-23T04:38:16.332Z"
   },
   {
    "duration": 35,
    "start_time": "2023-05-23T04:38:16.579Z"
   },
   {
    "duration": 25,
    "start_time": "2023-05-23T04:38:16.625Z"
   },
   {
    "duration": 25,
    "start_time": "2023-05-23T04:38:16.652Z"
   },
   {
    "duration": 47,
    "start_time": "2023-05-23T04:38:16.678Z"
   },
   {
    "duration": 11,
    "start_time": "2023-05-23T04:38:16.727Z"
   },
   {
    "duration": 19,
    "start_time": "2023-05-23T04:38:16.740Z"
   },
   {
    "duration": 4,
    "start_time": "2023-05-23T04:38:16.763Z"
   },
   {
    "duration": 10,
    "start_time": "2023-05-23T04:38:16.769Z"
   },
   {
    "duration": 329,
    "start_time": "2023-05-23T04:38:16.781Z"
   },
   {
    "duration": 46,
    "start_time": "2023-05-23T04:38:17.112Z"
   },
   {
    "duration": 14,
    "start_time": "2023-05-23T04:38:17.160Z"
   },
   {
    "duration": 12,
    "start_time": "2023-05-23T04:38:17.175Z"
   },
   {
    "duration": 207,
    "start_time": "2023-05-23T04:38:17.189Z"
   },
   {
    "duration": 8,
    "start_time": "2023-05-23T04:38:17.397Z"
   },
   {
    "duration": 28,
    "start_time": "2023-05-23T04:38:17.407Z"
   },
   {
    "duration": 8,
    "start_time": "2023-05-23T04:38:17.436Z"
   },
   {
    "duration": 6,
    "start_time": "2023-05-23T04:38:17.445Z"
   },
   {
    "duration": 47,
    "start_time": "2023-05-23T04:38:17.452Z"
   },
   {
    "duration": 0,
    "start_time": "2023-05-23T04:38:17.526Z"
   },
   {
    "duration": 0,
    "start_time": "2023-05-23T04:38:17.527Z"
   },
   {
    "duration": 0,
    "start_time": "2023-05-23T04:38:17.528Z"
   },
   {
    "duration": 0,
    "start_time": "2023-05-23T04:38:17.529Z"
   },
   {
    "duration": 0,
    "start_time": "2023-05-23T04:38:17.530Z"
   },
   {
    "duration": 0,
    "start_time": "2023-05-23T04:38:17.531Z"
   },
   {
    "duration": 0,
    "start_time": "2023-05-23T04:38:17.533Z"
   },
   {
    "duration": 0,
    "start_time": "2023-05-23T04:38:17.533Z"
   },
   {
    "duration": 0,
    "start_time": "2023-05-23T04:38:17.534Z"
   },
   {
    "duration": 0,
    "start_time": "2023-05-23T04:38:17.535Z"
   },
   {
    "duration": 0,
    "start_time": "2023-05-23T04:38:17.536Z"
   },
   {
    "duration": 0,
    "start_time": "2023-05-23T04:38:17.537Z"
   },
   {
    "duration": 0,
    "start_time": "2023-05-23T04:38:17.538Z"
   },
   {
    "duration": 0,
    "start_time": "2023-05-23T04:38:17.539Z"
   },
   {
    "duration": 0,
    "start_time": "2023-05-23T04:38:17.540Z"
   },
   {
    "duration": 0,
    "start_time": "2023-05-23T04:38:17.541Z"
   },
   {
    "duration": 0,
    "start_time": "2023-05-23T04:38:17.542Z"
   },
   {
    "duration": 0,
    "start_time": "2023-05-23T04:38:17.543Z"
   },
   {
    "duration": 0,
    "start_time": "2023-05-23T04:38:17.544Z"
   },
   {
    "duration": 0,
    "start_time": "2023-05-23T04:38:17.545Z"
   },
   {
    "duration": 0,
    "start_time": "2023-05-23T04:38:17.545Z"
   },
   {
    "duration": 0,
    "start_time": "2023-05-23T04:38:17.546Z"
   },
   {
    "duration": 0,
    "start_time": "2023-05-23T04:38:17.547Z"
   },
   {
    "duration": 0,
    "start_time": "2023-05-23T04:38:17.548Z"
   },
   {
    "duration": 0,
    "start_time": "2023-05-23T04:38:17.549Z"
   },
   {
    "duration": 0,
    "start_time": "2023-05-23T04:38:17.550Z"
   },
   {
    "duration": 0,
    "start_time": "2023-05-23T04:38:17.551Z"
   },
   {
    "duration": 0,
    "start_time": "2023-05-23T04:38:17.552Z"
   },
   {
    "duration": 0,
    "start_time": "2023-05-23T04:38:17.553Z"
   },
   {
    "duration": 0,
    "start_time": "2023-05-23T04:38:17.554Z"
   },
   {
    "duration": 1,
    "start_time": "2023-05-23T04:38:17.555Z"
   },
   {
    "duration": 0,
    "start_time": "2023-05-23T04:38:17.557Z"
   },
   {
    "duration": 0,
    "start_time": "2023-05-23T04:38:17.558Z"
   },
   {
    "duration": 0,
    "start_time": "2023-05-23T04:38:17.559Z"
   },
   {
    "duration": 0,
    "start_time": "2023-05-23T04:38:17.560Z"
   },
   {
    "duration": 0,
    "start_time": "2023-05-23T04:38:17.561Z"
   },
   {
    "duration": 0,
    "start_time": "2023-05-23T04:38:17.562Z"
   },
   {
    "duration": 0,
    "start_time": "2023-05-23T04:38:17.563Z"
   },
   {
    "duration": 0,
    "start_time": "2023-05-23T04:38:17.564Z"
   },
   {
    "duration": 0,
    "start_time": "2023-05-23T04:38:17.624Z"
   },
   {
    "duration": 0,
    "start_time": "2023-05-23T04:38:17.626Z"
   },
   {
    "duration": 0,
    "start_time": "2023-05-23T04:38:17.627Z"
   },
   {
    "duration": 0,
    "start_time": "2023-05-23T04:38:17.628Z"
   },
   {
    "duration": 0,
    "start_time": "2023-05-23T04:38:17.629Z"
   },
   {
    "duration": 0,
    "start_time": "2023-05-23T04:38:17.630Z"
   },
   {
    "duration": 0,
    "start_time": "2023-05-23T04:38:17.632Z"
   },
   {
    "duration": 0,
    "start_time": "2023-05-23T04:38:17.633Z"
   },
   {
    "duration": 0,
    "start_time": "2023-05-23T04:38:17.634Z"
   },
   {
    "duration": 0,
    "start_time": "2023-05-23T04:38:17.635Z"
   },
   {
    "duration": 4,
    "start_time": "2023-05-23T04:38:50.679Z"
   },
   {
    "duration": 116,
    "start_time": "2023-05-23T04:38:50.684Z"
   },
   {
    "duration": 24,
    "start_time": "2023-05-23T04:38:50.802Z"
   },
   {
    "duration": 21,
    "start_time": "2023-05-23T04:38:50.828Z"
   },
   {
    "duration": 5,
    "start_time": "2023-05-23T04:38:50.850Z"
   },
   {
    "duration": 33,
    "start_time": "2023-05-23T04:38:50.857Z"
   },
   {
    "duration": 5,
    "start_time": "2023-05-23T04:38:50.891Z"
   },
   {
    "duration": 52,
    "start_time": "2023-05-23T04:38:50.897Z"
   },
   {
    "duration": 18,
    "start_time": "2023-05-23T04:38:50.950Z"
   },
   {
    "duration": 27,
    "start_time": "2023-05-23T04:38:50.970Z"
   },
   {
    "duration": 32,
    "start_time": "2023-05-23T04:38:50.998Z"
   },
   {
    "duration": 25,
    "start_time": "2023-05-23T04:38:51.032Z"
   },
   {
    "duration": 26,
    "start_time": "2023-05-23T04:38:51.058Z"
   },
   {
    "duration": 41,
    "start_time": "2023-05-23T04:38:51.085Z"
   },
   {
    "duration": 21,
    "start_time": "2023-05-23T04:38:51.128Z"
   },
   {
    "duration": 18,
    "start_time": "2023-05-23T04:38:51.151Z"
   },
   {
    "duration": 248,
    "start_time": "2023-05-23T04:38:51.171Z"
   },
   {
    "duration": 36,
    "start_time": "2023-05-23T04:38:51.423Z"
   },
   {
    "duration": 22,
    "start_time": "2023-05-23T04:38:51.461Z"
   },
   {
    "duration": 22,
    "start_time": "2023-05-23T04:38:51.485Z"
   },
   {
    "duration": 21,
    "start_time": "2023-05-23T04:38:51.525Z"
   },
   {
    "duration": 9,
    "start_time": "2023-05-23T04:38:51.547Z"
   },
   {
    "duration": 20,
    "start_time": "2023-05-23T04:38:51.558Z"
   },
   {
    "duration": 6,
    "start_time": "2023-05-23T04:38:51.580Z"
   },
   {
    "duration": 8,
    "start_time": "2023-05-23T04:38:51.587Z"
   },
   {
    "duration": 231,
    "start_time": "2023-05-23T04:38:51.596Z"
   },
   {
    "duration": 37,
    "start_time": "2023-05-23T04:38:51.828Z"
   },
   {
    "duration": 13,
    "start_time": "2023-05-23T04:38:51.867Z"
   },
   {
    "duration": 19,
    "start_time": "2023-05-23T04:38:51.881Z"
   },
   {
    "duration": 176,
    "start_time": "2023-05-23T04:38:51.902Z"
   },
   {
    "duration": 8,
    "start_time": "2023-05-23T04:38:52.079Z"
   },
   {
    "duration": 36,
    "start_time": "2023-05-23T04:38:52.088Z"
   },
   {
    "duration": 30,
    "start_time": "2023-05-23T04:38:52.126Z"
   },
   {
    "duration": 33,
    "start_time": "2023-05-23T04:38:52.157Z"
   },
   {
    "duration": 41,
    "start_time": "2023-05-23T04:38:52.191Z"
   },
   {
    "duration": 0,
    "start_time": "2023-05-23T04:38:52.234Z"
   },
   {
    "duration": 0,
    "start_time": "2023-05-23T04:38:52.235Z"
   },
   {
    "duration": 0,
    "start_time": "2023-05-23T04:38:52.237Z"
   },
   {
    "duration": 0,
    "start_time": "2023-05-23T04:38:52.237Z"
   },
   {
    "duration": 0,
    "start_time": "2023-05-23T04:38:52.238Z"
   },
   {
    "duration": 0,
    "start_time": "2023-05-23T04:38:52.239Z"
   },
   {
    "duration": 0,
    "start_time": "2023-05-23T04:38:52.240Z"
   },
   {
    "duration": 0,
    "start_time": "2023-05-23T04:38:52.241Z"
   },
   {
    "duration": 0,
    "start_time": "2023-05-23T04:38:52.243Z"
   },
   {
    "duration": 0,
    "start_time": "2023-05-23T04:38:52.244Z"
   },
   {
    "duration": 0,
    "start_time": "2023-05-23T04:38:52.245Z"
   },
   {
    "duration": 0,
    "start_time": "2023-05-23T04:38:52.246Z"
   },
   {
    "duration": 0,
    "start_time": "2023-05-23T04:38:52.246Z"
   },
   {
    "duration": 0,
    "start_time": "2023-05-23T04:38:52.248Z"
   },
   {
    "duration": 0,
    "start_time": "2023-05-23T04:38:52.248Z"
   },
   {
    "duration": 0,
    "start_time": "2023-05-23T04:38:52.249Z"
   },
   {
    "duration": 0,
    "start_time": "2023-05-23T04:38:52.250Z"
   },
   {
    "duration": 0,
    "start_time": "2023-05-23T04:38:52.251Z"
   },
   {
    "duration": 4,
    "start_time": "2023-05-23T04:39:08.631Z"
   },
   {
    "duration": 117,
    "start_time": "2023-05-23T04:39:08.637Z"
   },
   {
    "duration": 12,
    "start_time": "2023-05-23T04:39:08.756Z"
   },
   {
    "duration": 31,
    "start_time": "2023-05-23T04:39:08.770Z"
   },
   {
    "duration": 22,
    "start_time": "2023-05-23T04:39:08.803Z"
   },
   {
    "duration": 33,
    "start_time": "2023-05-23T04:39:08.826Z"
   },
   {
    "duration": 6,
    "start_time": "2023-05-23T04:39:08.861Z"
   },
   {
    "duration": 57,
    "start_time": "2023-05-23T04:39:08.868Z"
   },
   {
    "duration": 21,
    "start_time": "2023-05-23T04:39:08.927Z"
   },
   {
    "duration": 14,
    "start_time": "2023-05-23T04:39:08.949Z"
   },
   {
    "duration": 24,
    "start_time": "2023-05-23T04:39:08.964Z"
   },
   {
    "duration": 38,
    "start_time": "2023-05-23T04:39:08.989Z"
   },
   {
    "duration": 4,
    "start_time": "2023-05-23T04:39:09.028Z"
   },
   {
    "duration": 28,
    "start_time": "2023-05-23T04:39:09.033Z"
   },
   {
    "duration": 22,
    "start_time": "2023-05-23T04:39:09.062Z"
   },
   {
    "duration": 9,
    "start_time": "2023-05-23T04:39:09.085Z"
   },
   {
    "duration": 269,
    "start_time": "2023-05-23T04:39:09.096Z"
   },
   {
    "duration": 33,
    "start_time": "2023-05-23T04:39:09.366Z"
   },
   {
    "duration": 35,
    "start_time": "2023-05-23T04:39:09.401Z"
   },
   {
    "duration": 25,
    "start_time": "2023-05-23T04:39:09.437Z"
   },
   {
    "duration": 25,
    "start_time": "2023-05-23T04:39:09.463Z"
   },
   {
    "duration": 10,
    "start_time": "2023-05-23T04:39:09.490Z"
   },
   {
    "duration": 13,
    "start_time": "2023-05-23T04:39:09.525Z"
   },
   {
    "duration": 4,
    "start_time": "2023-05-23T04:39:09.542Z"
   },
   {
    "duration": 5,
    "start_time": "2023-05-23T04:39:09.547Z"
   },
   {
    "duration": 244,
    "start_time": "2023-05-23T04:39:09.554Z"
   },
   {
    "duration": 51,
    "start_time": "2023-05-23T04:39:09.799Z"
   },
   {
    "duration": 15,
    "start_time": "2023-05-23T04:39:09.851Z"
   },
   {
    "duration": 13,
    "start_time": "2023-05-23T04:39:09.868Z"
   },
   {
    "duration": 186,
    "start_time": "2023-05-23T04:39:09.883Z"
   },
   {
    "duration": 7,
    "start_time": "2023-05-23T04:39:10.070Z"
   },
   {
    "duration": 56,
    "start_time": "2023-05-23T04:39:10.079Z"
   },
   {
    "duration": 33,
    "start_time": "2023-05-23T04:39:10.136Z"
   },
   {
    "duration": 52,
    "start_time": "2023-05-23T04:39:10.171Z"
   },
   {
    "duration": 40,
    "start_time": "2023-05-23T04:39:10.224Z"
   },
   {
    "duration": 39,
    "start_time": "2023-05-23T04:39:10.265Z"
   },
   {
    "duration": 205,
    "start_time": "2023-05-23T04:39:10.306Z"
   },
   {
    "duration": 19,
    "start_time": "2023-05-23T04:39:10.512Z"
   },
   {
    "duration": 53,
    "start_time": "2023-05-23T04:39:10.533Z"
   },
   {
    "duration": 54,
    "start_time": "2023-05-23T04:39:10.588Z"
   },
   {
    "duration": 130,
    "start_time": "2023-05-23T04:39:10.643Z"
   },
   {
    "duration": 15,
    "start_time": "2023-05-23T04:39:10.775Z"
   },
   {
    "duration": 32,
    "start_time": "2023-05-23T04:39:10.791Z"
   },
   {
    "duration": 21,
    "start_time": "2023-05-23T04:39:10.825Z"
   },
   {
    "duration": 46,
    "start_time": "2023-05-23T04:39:10.848Z"
   },
   {
    "duration": 27,
    "start_time": "2023-05-23T04:39:10.896Z"
   },
   {
    "duration": 12,
    "start_time": "2023-05-23T04:39:10.924Z"
   },
   {
    "duration": 24,
    "start_time": "2023-05-23T04:39:10.937Z"
   },
   {
    "duration": 29,
    "start_time": "2023-05-23T04:39:10.963Z"
   },
   {
    "duration": 44,
    "start_time": "2023-05-23T04:39:10.994Z"
   },
   {
    "duration": 464,
    "start_time": "2023-05-23T04:39:11.040Z"
   },
   {
    "duration": 7,
    "start_time": "2023-05-23T04:39:11.505Z"
   },
   {
    "duration": 30,
    "start_time": "2023-05-23T04:39:11.523Z"
   },
   {
    "duration": 15,
    "start_time": "2023-05-23T04:39:11.555Z"
   },
   {
    "duration": 10,
    "start_time": "2023-05-23T04:39:11.572Z"
   },
   {
    "duration": 44,
    "start_time": "2023-05-23T04:39:11.584Z"
   },
   {
    "duration": 23,
    "start_time": "2023-05-23T04:39:11.630Z"
   },
   {
    "duration": 20,
    "start_time": "2023-05-23T04:39:11.654Z"
   },
   {
    "duration": 11,
    "start_time": "2023-05-23T04:39:11.675Z"
   },
   {
    "duration": 43,
    "start_time": "2023-05-23T04:39:11.687Z"
   },
   {
    "duration": 39,
    "start_time": "2023-05-23T04:39:11.732Z"
   },
   {
    "duration": 33,
    "start_time": "2023-05-23T04:39:11.773Z"
   },
   {
    "duration": 26,
    "start_time": "2023-05-23T04:39:11.808Z"
   },
   {
    "duration": 19,
    "start_time": "2023-05-23T04:39:11.836Z"
   },
   {
    "duration": 356,
    "start_time": "2023-05-23T04:39:11.857Z"
   },
   {
    "duration": 378,
    "start_time": "2023-05-23T04:39:12.215Z"
   },
   {
    "duration": 369,
    "start_time": "2023-05-23T04:39:12.594Z"
   },
   {
    "duration": 6,
    "start_time": "2023-05-23T04:39:12.965Z"
   },
   {
    "duration": 16,
    "start_time": "2023-05-23T04:39:12.975Z"
   },
   {
    "duration": 6,
    "start_time": "2023-05-23T04:39:12.993Z"
   },
   {
    "duration": 33,
    "start_time": "2023-05-23T04:39:13.001Z"
   },
   {
    "duration": 22,
    "start_time": "2023-05-23T04:39:13.035Z"
   },
   {
    "duration": 16,
    "start_time": "2023-05-23T04:39:13.058Z"
   },
   {
    "duration": 17,
    "start_time": "2023-05-23T04:39:13.076Z"
   },
   {
    "duration": 38,
    "start_time": "2023-05-23T04:39:13.094Z"
   },
   {
    "duration": 18,
    "start_time": "2023-05-23T04:39:13.134Z"
   },
   {
    "duration": 11,
    "start_time": "2023-05-23T04:39:13.153Z"
   },
   {
    "duration": 18,
    "start_time": "2023-05-23T04:39:13.166Z"
   },
   {
    "duration": 11,
    "start_time": "2023-05-23T04:39:13.185Z"
   },
   {
    "duration": 52,
    "start_time": "2023-05-23T04:39:13.198Z"
   },
   {
    "duration": 33,
    "start_time": "2023-05-23T04:39:13.251Z"
   },
   {
    "duration": 19,
    "start_time": "2023-05-23T04:39:13.286Z"
   },
   {
    "duration": 38,
    "start_time": "2023-05-23T04:39:13.325Z"
   },
   {
    "duration": 22,
    "start_time": "2023-05-23T04:39:13.365Z"
   },
   {
    "duration": 16,
    "start_time": "2023-05-23T04:40:07.432Z"
   },
   {
    "duration": 53,
    "start_time": "2023-05-23T04:40:40.750Z"
   },
   {
    "duration": 1440,
    "start_time": "2023-05-23T15:30:41.137Z"
   },
   {
    "duration": 220,
    "start_time": "2023-05-23T15:30:42.579Z"
   },
   {
    "duration": 18,
    "start_time": "2023-05-23T15:30:42.801Z"
   },
   {
    "duration": 23,
    "start_time": "2023-05-23T15:30:42.822Z"
   },
   {
    "duration": 7,
    "start_time": "2023-05-23T15:30:42.846Z"
   },
   {
    "duration": 38,
    "start_time": "2023-05-23T15:30:42.855Z"
   },
   {
    "duration": 5,
    "start_time": "2023-05-23T15:30:42.895Z"
   },
   {
    "duration": 33,
    "start_time": "2023-05-23T15:30:42.902Z"
   },
   {
    "duration": 42,
    "start_time": "2023-05-23T15:30:42.937Z"
   },
   {
    "duration": 15,
    "start_time": "2023-05-23T15:30:42.983Z"
   },
   {
    "duration": 27,
    "start_time": "2023-05-23T15:30:43.000Z"
   },
   {
    "duration": 18,
    "start_time": "2023-05-23T15:30:43.056Z"
   },
   {
    "duration": 9,
    "start_time": "2023-05-23T15:30:43.076Z"
   },
   {
    "duration": 30,
    "start_time": "2023-05-23T15:30:43.086Z"
   },
   {
    "duration": 41,
    "start_time": "2023-05-23T15:30:43.118Z"
   },
   {
    "duration": 10,
    "start_time": "2023-05-23T15:30:43.160Z"
   },
   {
    "duration": 242,
    "start_time": "2023-05-23T15:30:43.171Z"
   },
   {
    "duration": 32,
    "start_time": "2023-05-23T15:30:43.415Z"
   },
   {
    "duration": 34,
    "start_time": "2023-05-23T15:30:43.448Z"
   },
   {
    "duration": 26,
    "start_time": "2023-05-23T15:30:43.483Z"
   },
   {
    "duration": 26,
    "start_time": "2023-05-23T15:30:43.511Z"
   },
   {
    "duration": 9,
    "start_time": "2023-05-23T15:30:43.557Z"
   },
   {
    "duration": 25,
    "start_time": "2023-05-23T15:30:43.567Z"
   },
   {
    "duration": 8,
    "start_time": "2023-05-23T15:30:43.594Z"
   },
   {
    "duration": 9,
    "start_time": "2023-05-23T15:30:43.604Z"
   },
   {
    "duration": 350,
    "start_time": "2023-05-23T15:30:43.615Z"
   },
   {
    "duration": 52,
    "start_time": "2023-05-23T15:30:43.967Z"
   },
   {
    "duration": 39,
    "start_time": "2023-05-23T15:30:44.024Z"
   },
   {
    "duration": 18,
    "start_time": "2023-05-23T15:30:44.065Z"
   },
   {
    "duration": 198,
    "start_time": "2023-05-23T15:30:44.085Z"
   },
   {
    "duration": 13,
    "start_time": "2023-05-23T15:30:44.285Z"
   },
   {
    "duration": 16,
    "start_time": "2023-05-23T15:30:44.299Z"
   },
   {
    "duration": 7,
    "start_time": "2023-05-23T15:30:44.316Z"
   },
   {
    "duration": 41,
    "start_time": "2023-05-23T15:30:44.325Z"
   },
   {
    "duration": 53,
    "start_time": "2023-05-23T15:30:44.367Z"
   },
   {
    "duration": 9,
    "start_time": "2023-05-23T15:30:44.421Z"
   },
   {
    "duration": 215,
    "start_time": "2023-05-23T15:30:44.431Z"
   },
   {
    "duration": 23,
    "start_time": "2023-05-23T15:30:44.648Z"
   },
   {
    "duration": 28,
    "start_time": "2023-05-23T15:30:44.673Z"
   },
   {
    "duration": 57,
    "start_time": "2023-05-23T15:30:44.703Z"
   },
   {
    "duration": 15,
    "start_time": "2023-05-23T15:30:44.762Z"
   },
   {
    "duration": 19,
    "start_time": "2023-05-23T15:30:44.779Z"
   },
   {
    "duration": 18,
    "start_time": "2023-05-23T15:30:44.799Z"
   },
   {
    "duration": 43,
    "start_time": "2023-05-23T15:30:44.819Z"
   },
   {
    "duration": 31,
    "start_time": "2023-05-23T15:30:44.864Z"
   },
   {
    "duration": 8,
    "start_time": "2023-05-23T15:30:44.896Z"
   },
   {
    "duration": 12,
    "start_time": "2023-05-23T15:30:44.906Z"
   },
   {
    "duration": 11,
    "start_time": "2023-05-23T15:30:44.919Z"
   },
   {
    "duration": 43,
    "start_time": "2023-05-23T15:30:44.932Z"
   },
   {
    "duration": 442,
    "start_time": "2023-05-23T15:30:44.977Z"
   },
   {
    "duration": 5,
    "start_time": "2023-05-23T15:30:45.422Z"
   },
   {
    "duration": 26,
    "start_time": "2023-05-23T15:30:45.429Z"
   },
   {
    "duration": 16,
    "start_time": "2023-05-23T15:30:45.457Z"
   },
   {
    "duration": 19,
    "start_time": "2023-05-23T15:30:45.475Z"
   },
   {
    "duration": 35,
    "start_time": "2023-05-23T15:30:45.496Z"
   },
   {
    "duration": 31,
    "start_time": "2023-05-23T15:30:45.533Z"
   },
   {
    "duration": 20,
    "start_time": "2023-05-23T15:30:45.566Z"
   },
   {
    "duration": 11,
    "start_time": "2023-05-23T15:30:45.587Z"
   },
   {
    "duration": 15,
    "start_time": "2023-05-23T15:30:45.600Z"
   },
   {
    "duration": 17,
    "start_time": "2023-05-23T15:30:45.617Z"
   },
   {
    "duration": 38,
    "start_time": "2023-05-23T15:30:45.636Z"
   },
   {
    "duration": 18,
    "start_time": "2023-05-23T15:30:45.676Z"
   },
   {
    "duration": 27,
    "start_time": "2023-05-23T15:30:45.696Z"
   },
   {
    "duration": 378,
    "start_time": "2023-05-23T15:30:45.725Z"
   },
   {
    "duration": 350,
    "start_time": "2023-05-23T15:30:46.105Z"
   },
   {
    "duration": 338,
    "start_time": "2023-05-23T15:30:46.457Z"
   },
   {
    "duration": 6,
    "start_time": "2023-05-23T15:30:46.797Z"
   },
   {
    "duration": 11,
    "start_time": "2023-05-23T15:30:46.805Z"
   },
   {
    "duration": 7,
    "start_time": "2023-05-23T15:30:46.818Z"
   },
   {
    "duration": 34,
    "start_time": "2023-05-23T15:30:46.827Z"
   },
   {
    "duration": 16,
    "start_time": "2023-05-23T15:30:46.863Z"
   },
   {
    "duration": 13,
    "start_time": "2023-05-23T15:30:46.881Z"
   },
   {
    "duration": 19,
    "start_time": "2023-05-23T15:30:46.896Z"
   },
   {
    "duration": 46,
    "start_time": "2023-05-23T15:30:46.917Z"
   },
   {
    "duration": 17,
    "start_time": "2023-05-23T15:30:46.964Z"
   },
   {
    "duration": 10,
    "start_time": "2023-05-23T15:30:46.983Z"
   },
   {
    "duration": 14,
    "start_time": "2023-05-23T15:30:46.994Z"
   },
   {
    "duration": 11,
    "start_time": "2023-05-23T15:30:47.010Z"
   },
   {
    "duration": 47,
    "start_time": "2023-05-23T15:30:47.022Z"
   },
   {
    "duration": 27,
    "start_time": "2023-05-23T15:30:47.072Z"
   },
   {
    "duration": 18,
    "start_time": "2023-05-23T15:30:47.101Z"
   },
   {
    "duration": 111,
    "start_time": "2023-05-23T15:30:47.125Z"
   },
   {
    "duration": 26,
    "start_time": "2023-05-23T15:30:47.238Z"
   },
   {
    "duration": 19,
    "start_time": "2023-05-23T15:32:35.564Z"
   },
   {
    "duration": 36,
    "start_time": "2023-05-23T15:33:08.480Z"
   },
   {
    "duration": 21,
    "start_time": "2023-05-23T15:33:24.924Z"
   },
   {
    "duration": 19,
    "start_time": "2023-05-23T15:33:56.558Z"
   },
   {
    "duration": 17,
    "start_time": "2023-05-23T15:34:12.498Z"
   },
   {
    "duration": 18,
    "start_time": "2023-05-23T15:34:18.688Z"
   },
   {
    "duration": 15,
    "start_time": "2023-05-23T15:34:26.976Z"
   },
   {
    "duration": 16,
    "start_time": "2023-05-23T15:34:47.454Z"
   },
   {
    "duration": 16,
    "start_time": "2023-05-23T15:35:15.048Z"
   },
   {
    "duration": 8,
    "start_time": "2023-05-23T15:35:35.414Z"
   },
   {
    "duration": 365,
    "start_time": "2023-05-23T15:37:43.898Z"
   },
   {
    "duration": 335,
    "start_time": "2023-05-23T15:38:05.790Z"
   },
   {
    "duration": 360,
    "start_time": "2023-05-23T15:38:38.541Z"
   },
   {
    "duration": 20,
    "start_time": "2023-05-23T15:40:15.840Z"
   },
   {
    "duration": 70,
    "start_time": "2023-05-23T15:40:40.234Z"
   },
   {
    "duration": 64,
    "start_time": "2023-05-23T15:41:00.225Z"
   },
   {
    "duration": 1359,
    "start_time": "2023-05-23T22:39:40.796Z"
   },
   {
    "duration": 542,
    "start_time": "2023-05-23T22:39:42.158Z"
   },
   {
    "duration": 20,
    "start_time": "2023-05-23T22:39:42.702Z"
   },
   {
    "duration": 40,
    "start_time": "2023-05-23T22:39:42.725Z"
   },
   {
    "duration": 20,
    "start_time": "2023-05-23T22:39:42.767Z"
   },
   {
    "duration": 53,
    "start_time": "2023-05-23T22:39:42.789Z"
   },
   {
    "duration": 6,
    "start_time": "2023-05-23T22:39:42.845Z"
   },
   {
    "duration": 53,
    "start_time": "2023-05-23T22:39:42.853Z"
   },
   {
    "duration": 31,
    "start_time": "2023-05-23T22:39:42.908Z"
   },
   {
    "duration": 22,
    "start_time": "2023-05-23T22:39:42.941Z"
   },
   {
    "duration": 64,
    "start_time": "2023-05-23T22:39:42.965Z"
   },
   {
    "duration": 23,
    "start_time": "2023-05-23T22:39:43.031Z"
   },
   {
    "duration": 4,
    "start_time": "2023-05-23T22:39:43.056Z"
   },
   {
    "duration": 69,
    "start_time": "2023-05-23T22:39:43.063Z"
   },
   {
    "duration": 36,
    "start_time": "2023-05-23T22:39:43.135Z"
   },
   {
    "duration": 25,
    "start_time": "2023-05-23T22:39:43.174Z"
   },
   {
    "duration": 273,
    "start_time": "2023-05-23T22:39:43.202Z"
   },
   {
    "duration": 44,
    "start_time": "2023-05-23T22:39:43.476Z"
   },
   {
    "duration": 43,
    "start_time": "2023-05-23T22:39:43.521Z"
   },
   {
    "duration": 52,
    "start_time": "2023-05-23T22:39:43.566Z"
   },
   {
    "duration": 32,
    "start_time": "2023-05-23T22:39:43.621Z"
   },
   {
    "duration": 10,
    "start_time": "2023-05-23T22:39:43.655Z"
   },
   {
    "duration": 38,
    "start_time": "2023-05-23T22:39:43.667Z"
   },
   {
    "duration": 6,
    "start_time": "2023-05-23T22:39:43.707Z"
   },
   {
    "duration": 13,
    "start_time": "2023-05-23T22:39:43.715Z"
   },
   {
    "duration": 355,
    "start_time": "2023-05-23T22:39:43.730Z"
   },
   {
    "duration": 45,
    "start_time": "2023-05-23T22:39:44.087Z"
   },
   {
    "duration": 19,
    "start_time": "2023-05-23T22:39:44.134Z"
   },
   {
    "duration": 42,
    "start_time": "2023-05-23T22:39:44.155Z"
   },
   {
    "duration": 234,
    "start_time": "2023-05-23T22:39:44.199Z"
   },
   {
    "duration": 13,
    "start_time": "2023-05-23T22:39:44.435Z"
   },
   {
    "duration": 58,
    "start_time": "2023-05-23T22:39:44.456Z"
   },
   {
    "duration": 11,
    "start_time": "2023-05-23T22:39:44.516Z"
   },
   {
    "duration": 30,
    "start_time": "2023-05-23T22:39:44.528Z"
   },
   {
    "duration": 73,
    "start_time": "2023-05-23T22:39:44.560Z"
   },
   {
    "duration": 27,
    "start_time": "2023-05-23T22:39:44.635Z"
   },
   {
    "duration": 32,
    "start_time": "2023-05-23T22:39:44.664Z"
   },
   {
    "duration": 16,
    "start_time": "2023-05-23T22:39:44.699Z"
   },
   {
    "duration": 8,
    "start_time": "2023-05-23T22:39:44.717Z"
   },
   {
    "duration": 10,
    "start_time": "2023-05-23T22:39:44.726Z"
   },
   {
    "duration": 320,
    "start_time": "2023-05-23T22:39:44.742Z"
   },
   {
    "duration": 36,
    "start_time": "2023-05-23T22:39:45.065Z"
   },
   {
    "duration": 35,
    "start_time": "2023-05-23T22:39:45.104Z"
   },
   {
    "duration": 72,
    "start_time": "2023-05-23T22:39:45.141Z"
   },
   {
    "duration": 25,
    "start_time": "2023-05-23T22:39:45.216Z"
   },
   {
    "duration": 29,
    "start_time": "2023-05-23T22:39:45.244Z"
   },
   {
    "duration": 29,
    "start_time": "2023-05-23T22:39:45.294Z"
   },
   {
    "duration": 21,
    "start_time": "2023-05-23T22:39:45.325Z"
   },
   {
    "duration": 59,
    "start_time": "2023-05-23T22:39:45.348Z"
   },
   {
    "duration": 12,
    "start_time": "2023-05-23T22:39:45.409Z"
   },
   {
    "duration": 17,
    "start_time": "2023-05-23T22:39:45.423Z"
   },
   {
    "duration": 13,
    "start_time": "2023-05-23T22:39:45.442Z"
   },
   {
    "duration": 48,
    "start_time": "2023-05-23T22:39:45.457Z"
   },
   {
    "duration": 447,
    "start_time": "2023-05-23T22:39:45.508Z"
   },
   {
    "duration": 6,
    "start_time": "2023-05-23T22:39:45.957Z"
   },
   {
    "duration": 17,
    "start_time": "2023-05-23T22:39:45.964Z"
   },
   {
    "duration": 19,
    "start_time": "2023-05-23T22:39:45.995Z"
   },
   {
    "duration": 17,
    "start_time": "2023-05-23T22:39:46.016Z"
   },
   {
    "duration": 33,
    "start_time": "2023-05-23T22:39:46.036Z"
   },
   {
    "duration": 23,
    "start_time": "2023-05-23T22:39:46.094Z"
   },
   {
    "duration": 21,
    "start_time": "2023-05-23T22:39:46.118Z"
   },
   {
    "duration": 10,
    "start_time": "2023-05-23T22:39:46.141Z"
   },
   {
    "duration": 44,
    "start_time": "2023-05-23T22:39:46.153Z"
   },
   {
    "duration": 13,
    "start_time": "2023-05-23T22:39:46.199Z"
   },
   {
    "duration": 24,
    "start_time": "2023-05-23T22:39:46.214Z"
   },
   {
    "duration": 26,
    "start_time": "2023-05-23T22:39:46.239Z"
   },
   {
    "duration": 38,
    "start_time": "2023-05-23T22:39:46.267Z"
   },
   {
    "duration": 397,
    "start_time": "2023-05-23T22:39:46.307Z"
   },
   {
    "duration": 448,
    "start_time": "2023-05-23T22:39:46.706Z"
   },
   {
    "duration": 417,
    "start_time": "2023-05-23T22:39:47.157Z"
   },
   {
    "duration": 21,
    "start_time": "2023-05-23T22:39:47.575Z"
   },
   {
    "duration": 10,
    "start_time": "2023-05-23T22:39:47.599Z"
   },
   {
    "duration": 8,
    "start_time": "2023-05-23T22:39:47.611Z"
   },
   {
    "duration": 19,
    "start_time": "2023-05-23T22:39:47.622Z"
   },
   {
    "duration": 18,
    "start_time": "2023-05-23T22:39:47.643Z"
   },
   {
    "duration": 50,
    "start_time": "2023-05-23T22:39:47.662Z"
   },
   {
    "duration": 23,
    "start_time": "2023-05-23T22:39:47.714Z"
   },
   {
    "duration": 25,
    "start_time": "2023-05-23T22:39:47.739Z"
   },
   {
    "duration": 27,
    "start_time": "2023-05-23T22:39:47.794Z"
   },
   {
    "duration": 15,
    "start_time": "2023-05-23T22:39:47.823Z"
   },
   {
    "duration": 14,
    "start_time": "2023-05-23T22:39:47.840Z"
   },
   {
    "duration": 47,
    "start_time": "2023-05-23T22:39:47.856Z"
   },
   {
    "duration": 21,
    "start_time": "2023-05-23T22:39:47.905Z"
   },
   {
    "duration": 67,
    "start_time": "2023-05-23T22:39:47.928Z"
   },
   {
    "duration": 27,
    "start_time": "2023-05-23T22:39:47.998Z"
   },
   {
    "duration": 30,
    "start_time": "2023-05-23T22:39:48.027Z"
   },
   {
    "duration": 119,
    "start_time": "2023-05-23T22:39:48.060Z"
   },
   {
    "duration": 81,
    "start_time": "2023-05-23T22:39:48.181Z"
   },
   {
    "duration": 47,
    "start_time": "2023-05-24T02:01:29.216Z"
   },
   {
    "duration": 1433,
    "start_time": "2023-05-24T02:01:33.171Z"
   },
   {
    "duration": 547,
    "start_time": "2023-05-24T02:01:34.611Z"
   },
   {
    "duration": 19,
    "start_time": "2023-05-24T02:01:35.160Z"
   },
   {
    "duration": 26,
    "start_time": "2023-05-24T02:01:35.181Z"
   },
   {
    "duration": 12,
    "start_time": "2023-05-24T02:01:35.208Z"
   },
   {
    "duration": 9,
    "start_time": "2023-05-24T02:01:35.222Z"
   },
   {
    "duration": 33,
    "start_time": "2023-05-24T02:01:35.232Z"
   },
   {
    "duration": 6,
    "start_time": "2023-05-24T02:01:35.267Z"
   },
   {
    "duration": 57,
    "start_time": "2023-05-24T02:01:35.274Z"
   },
   {
    "duration": 21,
    "start_time": "2023-05-24T02:01:35.333Z"
   },
   {
    "duration": 15,
    "start_time": "2023-05-24T02:01:35.355Z"
   },
   {
    "duration": 52,
    "start_time": "2023-05-24T02:01:35.371Z"
   },
   {
    "duration": 18,
    "start_time": "2023-05-24T02:01:35.424Z"
   },
   {
    "duration": 19,
    "start_time": "2023-05-24T02:01:35.443Z"
   },
   {
    "duration": 33,
    "start_time": "2023-05-24T02:01:35.463Z"
   },
   {
    "duration": 31,
    "start_time": "2023-05-24T02:01:35.502Z"
   },
   {
    "duration": 17,
    "start_time": "2023-05-24T02:01:35.535Z"
   },
   {
    "duration": 235,
    "start_time": "2023-05-24T02:01:35.554Z"
   },
   {
    "duration": 43,
    "start_time": "2023-05-24T02:01:35.791Z"
   },
   {
    "duration": 26,
    "start_time": "2023-05-24T02:01:35.836Z"
   },
   {
    "duration": 47,
    "start_time": "2023-05-24T02:01:35.864Z"
   },
   {
    "duration": 24,
    "start_time": "2023-05-24T02:01:35.913Z"
   },
   {
    "duration": 10,
    "start_time": "2023-05-24T02:01:35.938Z"
   },
   {
    "duration": 19,
    "start_time": "2023-05-24T02:01:35.950Z"
   },
   {
    "duration": 13,
    "start_time": "2023-05-24T02:01:35.971Z"
   },
   {
    "duration": 18,
    "start_time": "2023-05-24T02:01:35.986Z"
   },
   {
    "duration": 372,
    "start_time": "2023-05-24T02:01:36.006Z"
   },
   {
    "duration": 64,
    "start_time": "2023-05-24T02:01:36.383Z"
   },
   {
    "duration": 15,
    "start_time": "2023-05-24T02:01:36.449Z"
   },
   {
    "duration": 12,
    "start_time": "2023-05-24T02:01:36.465Z"
   },
   {
    "duration": 231,
    "start_time": "2023-05-24T02:01:36.479Z"
   },
   {
    "duration": 9,
    "start_time": "2023-05-24T02:01:36.712Z"
   },
   {
    "duration": 27,
    "start_time": "2023-05-24T02:01:36.723Z"
   },
   {
    "duration": 7,
    "start_time": "2023-05-24T02:01:36.751Z"
   },
   {
    "duration": 29,
    "start_time": "2023-05-24T02:01:36.760Z"
   },
   {
    "duration": 40,
    "start_time": "2023-05-24T02:01:36.790Z"
   },
   {
    "duration": 17,
    "start_time": "2023-05-24T02:01:36.831Z"
   },
   {
    "duration": 21,
    "start_time": "2023-05-24T02:01:36.849Z"
   },
   {
    "duration": 36,
    "start_time": "2023-05-24T02:01:36.872Z"
   },
   {
    "duration": 7,
    "start_time": "2023-05-24T02:01:36.911Z"
   },
   {
    "duration": 9,
    "start_time": "2023-05-24T02:01:36.919Z"
   },
   {
    "duration": 237,
    "start_time": "2023-05-24T02:01:36.929Z"
   },
   {
    "duration": 16,
    "start_time": "2023-05-24T02:01:37.168Z"
   },
   {
    "duration": 40,
    "start_time": "2023-05-24T02:01:37.186Z"
   },
   {
    "duration": 37,
    "start_time": "2023-05-24T02:01:37.227Z"
   },
   {
    "duration": 44,
    "start_time": "2023-05-24T02:01:37.266Z"
   },
   {
    "duration": 21,
    "start_time": "2023-05-24T02:01:37.313Z"
   },
   {
    "duration": 17,
    "start_time": "2023-05-24T02:01:37.335Z"
   },
   {
    "duration": 17,
    "start_time": "2023-05-24T02:01:37.353Z"
   },
   {
    "duration": 42,
    "start_time": "2023-05-24T02:01:37.371Z"
   },
   {
    "duration": 13,
    "start_time": "2023-05-24T02:01:37.415Z"
   },
   {
    "duration": 18,
    "start_time": "2023-05-24T02:01:37.430Z"
   },
   {
    "duration": 14,
    "start_time": "2023-05-24T02:01:37.449Z"
   },
   {
    "duration": 27,
    "start_time": "2023-05-24T02:01:37.465Z"
   },
   {
    "duration": 462,
    "start_time": "2023-05-24T02:01:37.494Z"
   },
   {
    "duration": 5,
    "start_time": "2023-05-24T02:01:37.957Z"
   },
   {
    "duration": 22,
    "start_time": "2023-05-24T02:01:37.964Z"
   },
   {
    "duration": 33,
    "start_time": "2023-05-24T02:01:37.987Z"
   },
   {
    "duration": 16,
    "start_time": "2023-05-24T02:01:38.022Z"
   },
   {
    "duration": 23,
    "start_time": "2023-05-24T02:01:38.040Z"
   },
   {
    "duration": 20,
    "start_time": "2023-05-24T02:01:38.064Z"
   },
   {
    "duration": 25,
    "start_time": "2023-05-24T02:01:38.103Z"
   },
   {
    "duration": 9,
    "start_time": "2023-05-24T02:01:38.129Z"
   },
   {
    "duration": 21,
    "start_time": "2023-05-24T02:01:38.139Z"
   },
   {
    "duration": 16,
    "start_time": "2023-05-24T02:01:38.162Z"
   },
   {
    "duration": 25,
    "start_time": "2023-05-24T02:01:38.180Z"
   },
   {
    "duration": 40,
    "start_time": "2023-05-24T02:01:38.208Z"
   },
   {
    "duration": 16,
    "start_time": "2023-05-24T02:01:38.249Z"
   },
   {
    "duration": 360,
    "start_time": "2023-05-24T02:01:38.266Z"
   },
   {
    "duration": 331,
    "start_time": "2023-05-24T02:01:38.627Z"
   },
   {
    "duration": 388,
    "start_time": "2023-05-24T02:01:38.960Z"
   },
   {
    "duration": 5,
    "start_time": "2023-05-24T02:01:39.350Z"
   },
   {
    "duration": 6,
    "start_time": "2023-05-24T02:01:39.357Z"
   },
   {
    "duration": 9,
    "start_time": "2023-05-24T02:01:39.365Z"
   },
   {
    "duration": 32,
    "start_time": "2023-05-24T02:01:39.376Z"
   },
   {
    "duration": 34,
    "start_time": "2023-05-24T02:01:39.410Z"
   },
   {
    "duration": 13,
    "start_time": "2023-05-24T02:01:39.445Z"
   },
   {
    "duration": 14,
    "start_time": "2023-05-24T02:01:39.459Z"
   },
   {
    "duration": 43,
    "start_time": "2023-05-24T02:01:39.474Z"
   },
   {
    "duration": 16,
    "start_time": "2023-05-24T02:01:39.520Z"
   },
   {
    "duration": 10,
    "start_time": "2023-05-24T02:01:39.538Z"
   },
   {
    "duration": 11,
    "start_time": "2023-05-24T02:01:39.553Z"
   },
   {
    "duration": 9,
    "start_time": "2023-05-24T02:01:39.565Z"
   },
   {
    "duration": 38,
    "start_time": "2023-05-24T02:01:39.575Z"
   },
   {
    "duration": 44,
    "start_time": "2023-05-24T02:01:39.619Z"
   },
   {
    "duration": 14,
    "start_time": "2023-05-24T02:01:39.665Z"
   },
   {
    "duration": 28,
    "start_time": "2023-05-24T02:01:39.680Z"
   },
   {
    "duration": 82,
    "start_time": "2023-05-24T02:01:39.710Z"
   },
   {
    "duration": 57,
    "start_time": "2023-05-24T02:01:39.801Z"
   },
   {
    "duration": 6,
    "start_time": "2023-05-24T02:02:17.060Z"
   },
   {
    "duration": 58,
    "start_time": "2023-05-24T02:13:49.093Z"
   },
   {
    "duration": 53,
    "start_time": "2023-05-24T02:13:52.696Z"
   },
   {
    "duration": 134,
    "start_time": "2023-05-24T02:14:18.209Z"
   },
   {
    "duration": 41,
    "start_time": "2023-05-24T02:14:25.221Z"
   },
   {
    "duration": 46,
    "start_time": "2023-05-24T02:14:52.263Z"
   },
   {
    "duration": 52,
    "start_time": "2023-05-24T02:15:43.361Z"
   },
   {
    "duration": 44,
    "start_time": "2023-05-24T02:16:22.957Z"
   },
   {
    "duration": 53,
    "start_time": "2023-05-24T02:16:41.492Z"
   },
   {
    "duration": 1282,
    "start_time": "2023-05-24T02:17:46.656Z"
   },
   {
    "duration": 681,
    "start_time": "2023-05-24T02:18:17.153Z"
   },
   {
    "duration": 754,
    "start_time": "2023-05-24T02:18:33.694Z"
   },
   {
    "duration": 44,
    "start_time": "2023-05-24T02:18:39.550Z"
   },
   {
    "duration": 49,
    "start_time": "2023-05-24T02:19:44.760Z"
   },
   {
    "duration": 49,
    "start_time": "2023-05-24T02:20:12.143Z"
   },
   {
    "duration": 49,
    "start_time": "2023-05-24T02:20:17.391Z"
   },
   {
    "duration": 3,
    "start_time": "2023-05-24T02:20:51.145Z"
   },
   {
    "duration": 128,
    "start_time": "2023-05-24T02:20:51.150Z"
   },
   {
    "duration": 33,
    "start_time": "2023-05-24T02:20:51.280Z"
   },
   {
    "duration": 25,
    "start_time": "2023-05-24T02:20:51.315Z"
   },
   {
    "duration": 5,
    "start_time": "2023-05-24T02:20:51.342Z"
   },
   {
    "duration": 9,
    "start_time": "2023-05-24T02:20:51.349Z"
   },
   {
    "duration": 71,
    "start_time": "2023-05-24T02:20:51.359Z"
   },
   {
    "duration": 4,
    "start_time": "2023-05-24T02:20:51.432Z"
   },
   {
    "duration": 30,
    "start_time": "2023-05-24T02:20:51.438Z"
   },
   {
    "duration": 38,
    "start_time": "2023-05-24T02:20:51.469Z"
   },
   {
    "duration": 14,
    "start_time": "2023-05-24T02:20:51.511Z"
   },
   {
    "duration": 30,
    "start_time": "2023-05-24T02:20:51.526Z"
   },
   {
    "duration": 18,
    "start_time": "2023-05-24T02:20:51.558Z"
   },
   {
    "duration": 20,
    "start_time": "2023-05-24T02:20:51.577Z"
   },
   {
    "duration": 31,
    "start_time": "2023-05-24T02:20:51.602Z"
   },
   {
    "duration": 23,
    "start_time": "2023-05-24T02:20:51.634Z"
   },
   {
    "duration": 11,
    "start_time": "2023-05-24T02:20:51.659Z"
   },
   {
    "duration": 247,
    "start_time": "2023-05-24T02:20:51.672Z"
   },
   {
    "duration": 32,
    "start_time": "2023-05-24T02:20:51.921Z"
   },
   {
    "duration": 26,
    "start_time": "2023-05-24T02:20:51.954Z"
   },
   {
    "duration": 26,
    "start_time": "2023-05-24T02:20:51.996Z"
   },
   {
    "duration": 23,
    "start_time": "2023-05-24T02:20:52.023Z"
   },
   {
    "duration": 11,
    "start_time": "2023-05-24T02:20:52.047Z"
   },
   {
    "duration": 47,
    "start_time": "2023-05-24T02:20:52.060Z"
   },
   {
    "duration": 4,
    "start_time": "2023-05-24T02:20:52.109Z"
   },
   {
    "duration": 18,
    "start_time": "2023-05-24T02:20:52.115Z"
   },
   {
    "duration": 235,
    "start_time": "2023-05-24T02:20:52.135Z"
   },
   {
    "duration": 50,
    "start_time": "2023-05-24T02:20:52.372Z"
   },
   {
    "duration": 14,
    "start_time": "2023-05-24T02:20:52.426Z"
   },
   {
    "duration": 13,
    "start_time": "2023-05-24T02:20:52.442Z"
   },
   {
    "duration": 185,
    "start_time": "2023-05-24T02:20:52.456Z"
   },
   {
    "duration": 7,
    "start_time": "2023-05-24T02:20:52.643Z"
   },
   {
    "duration": 16,
    "start_time": "2023-05-24T02:20:52.651Z"
   },
   {
    "duration": 8,
    "start_time": "2023-05-24T02:20:52.668Z"
   },
   {
    "duration": 34,
    "start_time": "2023-05-24T02:20:52.678Z"
   },
   {
    "duration": 42,
    "start_time": "2023-05-24T02:20:52.713Z"
   },
   {
    "duration": 16,
    "start_time": "2023-05-24T02:20:52.756Z"
   },
   {
    "duration": 33,
    "start_time": "2023-05-24T02:20:52.773Z"
   },
   {
    "duration": 13,
    "start_time": "2023-05-24T02:20:52.808Z"
   },
   {
    "duration": 8,
    "start_time": "2023-05-24T02:20:52.822Z"
   },
   {
    "duration": 9,
    "start_time": "2023-05-24T02:20:52.832Z"
   },
   {
    "duration": 221,
    "start_time": "2023-05-24T02:20:52.842Z"
   },
   {
    "duration": 16,
    "start_time": "2023-05-24T02:20:53.065Z"
   },
   {
    "duration": 42,
    "start_time": "2023-05-24T02:20:53.083Z"
   },
   {
    "duration": 47,
    "start_time": "2023-05-24T02:20:53.127Z"
   },
   {
    "duration": 14,
    "start_time": "2023-05-24T02:20:53.176Z"
   },
   {
    "duration": 27,
    "start_time": "2023-05-24T02:20:53.196Z"
   },
   {
    "duration": 17,
    "start_time": "2023-05-24T02:20:53.225Z"
   },
   {
    "duration": 18,
    "start_time": "2023-05-24T02:20:53.244Z"
   },
   {
    "duration": 33,
    "start_time": "2023-05-24T02:20:53.263Z"
   },
   {
    "duration": 14,
    "start_time": "2023-05-24T02:20:53.297Z"
   },
   {
    "duration": 7,
    "start_time": "2023-05-24T02:20:53.313Z"
   },
   {
    "duration": 12,
    "start_time": "2023-05-24T02:20:53.322Z"
   },
   {
    "duration": 24,
    "start_time": "2023-05-24T02:20:53.335Z"
   },
   {
    "duration": 452,
    "start_time": "2023-05-24T02:20:53.361Z"
   },
   {
    "duration": 6,
    "start_time": "2023-05-24T02:20:53.815Z"
   },
   {
    "duration": 21,
    "start_time": "2023-05-24T02:20:53.822Z"
   },
   {
    "duration": 17,
    "start_time": "2023-05-24T02:20:53.845Z"
   },
   {
    "duration": 54,
    "start_time": "2023-05-24T02:20:53.864Z"
   },
   {
    "duration": 21,
    "start_time": "2023-05-24T02:20:53.919Z"
   },
   {
    "duration": 17,
    "start_time": "2023-05-24T02:20:53.941Z"
   },
   {
    "duration": 9,
    "start_time": "2023-05-24T02:20:53.959Z"
   },
   {
    "duration": 10,
    "start_time": "2023-05-24T02:20:53.970Z"
   },
   {
    "duration": 27,
    "start_time": "2023-05-24T02:20:53.981Z"
   },
   {
    "duration": 20,
    "start_time": "2023-05-24T02:20:54.009Z"
   },
   {
    "duration": 17,
    "start_time": "2023-05-24T02:20:54.031Z"
   },
   {
    "duration": 17,
    "start_time": "2023-05-24T02:20:54.049Z"
   },
   {
    "duration": 356,
    "start_time": "2023-05-24T02:20:54.067Z"
   },
   {
    "duration": 366,
    "start_time": "2023-05-24T02:20:54.424Z"
   },
   {
    "duration": 337,
    "start_time": "2023-05-24T02:20:54.794Z"
   },
   {
    "duration": 6,
    "start_time": "2023-05-24T02:20:55.133Z"
   },
   {
    "duration": 12,
    "start_time": "2023-05-24T02:20:55.140Z"
   },
   {
    "duration": 9,
    "start_time": "2023-05-24T02:20:55.153Z"
   },
   {
    "duration": 45,
    "start_time": "2023-05-24T02:20:55.163Z"
   },
   {
    "duration": 17,
    "start_time": "2023-05-24T02:20:55.209Z"
   },
   {
    "duration": 41,
    "start_time": "2023-05-24T02:20:55.227Z"
   },
   {
    "duration": 17,
    "start_time": "2023-05-24T02:20:55.270Z"
   },
   {
    "duration": 29,
    "start_time": "2023-05-24T02:20:55.289Z"
   },
   {
    "duration": 21,
    "start_time": "2023-05-24T02:20:55.320Z"
   },
   {
    "duration": 11,
    "start_time": "2023-05-24T02:20:55.346Z"
   },
   {
    "duration": 12,
    "start_time": "2023-05-24T02:20:55.358Z"
   },
   {
    "duration": 25,
    "start_time": "2023-05-24T02:20:55.371Z"
   },
   {
    "duration": 20,
    "start_time": "2023-05-24T02:20:55.402Z"
   },
   {
    "duration": 28,
    "start_time": "2023-05-24T02:20:55.423Z"
   },
   {
    "duration": 14,
    "start_time": "2023-05-24T02:20:55.452Z"
   },
   {
    "duration": 42,
    "start_time": "2023-05-24T02:20:55.467Z"
   },
   {
    "duration": 58,
    "start_time": "2023-05-24T02:20:55.511Z"
   },
   {
    "duration": 62,
    "start_time": "2023-05-24T02:20:55.570Z"
   },
   {
    "duration": 50,
    "start_time": "2023-05-24T02:21:21.853Z"
   },
   {
    "duration": 13,
    "start_time": "2023-05-24T02:23:37.601Z"
   },
   {
    "duration": 33,
    "start_time": "2023-05-24T02:24:48.330Z"
   },
   {
    "duration": 4,
    "start_time": "2023-05-24T02:24:53.574Z"
   },
   {
    "duration": 120,
    "start_time": "2023-05-24T02:24:53.579Z"
   },
   {
    "duration": 17,
    "start_time": "2023-05-24T02:24:53.701Z"
   },
   {
    "duration": 35,
    "start_time": "2023-05-24T02:24:53.720Z"
   },
   {
    "duration": 5,
    "start_time": "2023-05-24T02:24:53.757Z"
   },
   {
    "duration": 32,
    "start_time": "2023-05-24T02:24:53.763Z"
   },
   {
    "duration": 42,
    "start_time": "2023-05-24T02:24:53.798Z"
   },
   {
    "duration": 9,
    "start_time": "2023-05-24T02:24:53.841Z"
   },
   {
    "duration": 73,
    "start_time": "2023-05-24T02:24:53.851Z"
   },
   {
    "duration": 30,
    "start_time": "2023-05-24T02:24:53.926Z"
   },
   {
    "duration": 18,
    "start_time": "2023-05-24T02:24:53.958Z"
   },
   {
    "duration": 37,
    "start_time": "2023-05-24T02:24:53.977Z"
   },
   {
    "duration": 26,
    "start_time": "2023-05-24T02:24:54.016Z"
   },
   {
    "duration": 7,
    "start_time": "2023-05-24T02:24:54.044Z"
   },
   {
    "duration": 56,
    "start_time": "2023-05-24T02:24:54.052Z"
   },
   {
    "duration": 37,
    "start_time": "2023-05-24T02:24:54.111Z"
   },
   {
    "duration": 12,
    "start_time": "2023-05-24T02:24:54.149Z"
   },
   {
    "duration": 280,
    "start_time": "2023-05-24T02:24:54.162Z"
   },
   {
    "duration": 31,
    "start_time": "2023-05-24T02:24:54.445Z"
   },
   {
    "duration": 42,
    "start_time": "2023-05-24T02:24:54.478Z"
   },
   {
    "duration": 51,
    "start_time": "2023-05-24T02:24:54.523Z"
   },
   {
    "duration": 60,
    "start_time": "2023-05-24T02:24:54.576Z"
   },
   {
    "duration": 13,
    "start_time": "2023-05-24T02:24:54.639Z"
   },
   {
    "duration": 53,
    "start_time": "2023-05-24T02:24:54.654Z"
   },
   {
    "duration": 31,
    "start_time": "2023-05-24T02:24:54.710Z"
   },
   {
    "duration": 40,
    "start_time": "2023-05-24T02:24:54.744Z"
   },
   {
    "duration": 339,
    "start_time": "2023-05-24T02:24:54.786Z"
   },
   {
    "duration": 38,
    "start_time": "2023-05-24T02:24:55.127Z"
   },
   {
    "duration": 32,
    "start_time": "2023-05-24T02:24:55.169Z"
   },
   {
    "duration": 15,
    "start_time": "2023-05-24T02:24:55.203Z"
   },
   {
    "duration": 182,
    "start_time": "2023-05-24T02:24:55.220Z"
   },
   {
    "duration": 8,
    "start_time": "2023-05-24T02:24:55.404Z"
   },
   {
    "duration": 45,
    "start_time": "2023-05-24T02:24:55.414Z"
   },
   {
    "duration": 7,
    "start_time": "2023-05-24T02:24:55.461Z"
   },
   {
    "duration": 18,
    "start_time": "2023-05-24T02:24:55.470Z"
   },
   {
    "duration": 40,
    "start_time": "2023-05-24T02:24:55.489Z"
   },
   {
    "duration": 24,
    "start_time": "2023-05-24T02:24:55.530Z"
   },
   {
    "duration": 20,
    "start_time": "2023-05-24T02:24:55.556Z"
   },
   {
    "duration": 20,
    "start_time": "2023-05-24T02:24:55.594Z"
   },
   {
    "duration": 9,
    "start_time": "2023-05-24T02:24:55.616Z"
   },
   {
    "duration": 16,
    "start_time": "2023-05-24T02:24:55.626Z"
   },
   {
    "duration": 214,
    "start_time": "2023-05-24T02:24:55.644Z"
   },
   {
    "duration": 15,
    "start_time": "2023-05-24T02:24:55.859Z"
   },
   {
    "duration": 42,
    "start_time": "2023-05-24T02:24:55.875Z"
   },
   {
    "duration": 44,
    "start_time": "2023-05-24T02:24:55.918Z"
   },
   {
    "duration": 18,
    "start_time": "2023-05-24T02:24:55.963Z"
   },
   {
    "duration": 19,
    "start_time": "2023-05-24T02:24:55.995Z"
   },
   {
    "duration": 18,
    "start_time": "2023-05-24T02:24:56.016Z"
   },
   {
    "duration": 33,
    "start_time": "2023-05-24T02:24:56.036Z"
   },
   {
    "duration": 51,
    "start_time": "2023-05-24T02:24:56.072Z"
   },
   {
    "duration": 9,
    "start_time": "2023-05-24T02:24:56.125Z"
   },
   {
    "duration": 16,
    "start_time": "2023-05-24T02:24:56.136Z"
   },
   {
    "duration": 25,
    "start_time": "2023-05-24T02:24:56.154Z"
   },
   {
    "duration": 28,
    "start_time": "2023-05-24T02:24:56.181Z"
   },
   {
    "duration": 466,
    "start_time": "2023-05-24T02:24:56.211Z"
   },
   {
    "duration": 6,
    "start_time": "2023-05-24T02:24:56.680Z"
   },
   {
    "duration": 16,
    "start_time": "2023-05-24T02:24:56.695Z"
   },
   {
    "duration": 16,
    "start_time": "2023-05-24T02:24:56.713Z"
   },
   {
    "duration": 22,
    "start_time": "2023-05-24T02:24:56.731Z"
   },
   {
    "duration": 51,
    "start_time": "2023-05-24T02:24:56.755Z"
   },
   {
    "duration": 19,
    "start_time": "2023-05-24T02:24:56.808Z"
   },
   {
    "duration": 9,
    "start_time": "2023-05-24T02:24:56.829Z"
   },
   {
    "duration": 14,
    "start_time": "2023-05-24T02:24:56.840Z"
   },
   {
    "duration": 17,
    "start_time": "2023-05-24T02:24:56.856Z"
   },
   {
    "duration": 37,
    "start_time": "2023-05-24T02:24:56.875Z"
   },
   {
    "duration": 18,
    "start_time": "2023-05-24T02:24:56.914Z"
   },
   {
    "duration": 21,
    "start_time": "2023-05-24T02:24:56.933Z"
   },
   {
    "duration": 387,
    "start_time": "2023-05-24T02:24:56.955Z"
   },
   {
    "duration": 350,
    "start_time": "2023-05-24T02:24:57.344Z"
   },
   {
    "duration": 347,
    "start_time": "2023-05-24T02:24:57.696Z"
   },
   {
    "duration": 7,
    "start_time": "2023-05-24T02:24:58.045Z"
   },
   {
    "duration": 17,
    "start_time": "2023-05-24T02:24:58.054Z"
   },
   {
    "duration": 10,
    "start_time": "2023-05-24T02:24:58.072Z"
   },
   {
    "duration": 28,
    "start_time": "2023-05-24T02:24:58.084Z"
   },
   {
    "duration": 15,
    "start_time": "2023-05-24T02:24:58.114Z"
   },
   {
    "duration": 16,
    "start_time": "2023-05-24T02:24:58.130Z"
   },
   {
    "duration": 18,
    "start_time": "2023-05-24T02:24:58.148Z"
   },
   {
    "duration": 41,
    "start_time": "2023-05-24T02:24:58.167Z"
   },
   {
    "duration": 16,
    "start_time": "2023-05-24T02:24:58.209Z"
   },
   {
    "duration": 11,
    "start_time": "2023-05-24T02:24:58.227Z"
   },
   {
    "duration": 14,
    "start_time": "2023-05-24T02:24:58.239Z"
   },
   {
    "duration": 13,
    "start_time": "2023-05-24T02:24:58.254Z"
   },
   {
    "duration": 18,
    "start_time": "2023-05-24T02:24:58.299Z"
   },
   {
    "duration": 28,
    "start_time": "2023-05-24T02:24:58.319Z"
   },
   {
    "duration": 13,
    "start_time": "2023-05-24T02:24:58.349Z"
   },
   {
    "duration": 40,
    "start_time": "2023-05-24T02:24:58.364Z"
   },
   {
    "duration": 57,
    "start_time": "2023-05-24T02:24:58.405Z"
   },
   {
    "duration": 91,
    "start_time": "2023-05-24T02:24:58.464Z"
   },
   {
    "duration": 1251,
    "start_time": "2023-05-24T13:26:34.400Z"
   },
   {
    "duration": 150,
    "start_time": "2023-05-24T13:26:35.653Z"
   },
   {
    "duration": 17,
    "start_time": "2023-05-24T13:26:35.805Z"
   },
   {
    "duration": 34,
    "start_time": "2023-05-24T13:26:35.823Z"
   },
   {
    "duration": 18,
    "start_time": "2023-05-24T13:26:35.859Z"
   },
   {
    "duration": 55,
    "start_time": "2023-05-24T13:26:35.879Z"
   },
   {
    "duration": 58,
    "start_time": "2023-05-24T13:26:35.936Z"
   },
   {
    "duration": 6,
    "start_time": "2023-05-24T13:26:35.996Z"
   },
   {
    "duration": 41,
    "start_time": "2023-05-24T13:26:36.004Z"
   },
   {
    "duration": 24,
    "start_time": "2023-05-24T13:26:36.055Z"
   },
   {
    "duration": 18,
    "start_time": "2023-05-24T13:26:36.081Z"
   },
   {
    "duration": 28,
    "start_time": "2023-05-24T13:26:36.101Z"
   },
   {
    "duration": 18,
    "start_time": "2023-05-24T13:26:36.156Z"
   },
   {
    "duration": 5,
    "start_time": "2023-05-24T13:26:36.178Z"
   },
   {
    "duration": 32,
    "start_time": "2023-05-24T13:26:36.186Z"
   },
   {
    "duration": 50,
    "start_time": "2023-05-24T13:26:36.220Z"
   },
   {
    "duration": 11,
    "start_time": "2023-05-24T13:26:36.272Z"
   },
   {
    "duration": 256,
    "start_time": "2023-05-24T13:26:36.284Z"
   },
   {
    "duration": 44,
    "start_time": "2023-05-24T13:26:36.541Z"
   },
   {
    "duration": 30,
    "start_time": "2023-05-24T13:26:36.587Z"
   },
   {
    "duration": 45,
    "start_time": "2023-05-24T13:26:36.618Z"
   },
   {
    "duration": 27,
    "start_time": "2023-05-24T13:26:36.665Z"
   },
   {
    "duration": 10,
    "start_time": "2023-05-24T13:26:36.694Z"
   },
   {
    "duration": 16,
    "start_time": "2023-05-24T13:26:36.706Z"
   },
   {
    "duration": 24,
    "start_time": "2023-05-24T13:26:36.724Z"
   },
   {
    "duration": 10,
    "start_time": "2023-05-24T13:26:36.750Z"
   },
   {
    "duration": 348,
    "start_time": "2023-05-24T13:26:36.761Z"
   },
   {
    "duration": 59,
    "start_time": "2023-05-24T13:26:37.111Z"
   },
   {
    "duration": 17,
    "start_time": "2023-05-24T13:26:37.171Z"
   },
   {
    "duration": 14,
    "start_time": "2023-05-24T13:26:37.190Z"
   },
   {
    "duration": 218,
    "start_time": "2023-05-24T13:26:37.206Z"
   },
   {
    "duration": 12,
    "start_time": "2023-05-24T13:26:37.426Z"
   },
   {
    "duration": 31,
    "start_time": "2023-05-24T13:26:37.440Z"
   },
   {
    "duration": 8,
    "start_time": "2023-05-24T13:26:37.473Z"
   },
   {
    "duration": 18,
    "start_time": "2023-05-24T13:26:37.482Z"
   },
   {
    "duration": 67,
    "start_time": "2023-05-24T13:26:37.502Z"
   },
   {
    "duration": 20,
    "start_time": "2023-05-24T13:26:37.571Z"
   },
   {
    "duration": 17,
    "start_time": "2023-05-24T13:26:37.593Z"
   },
   {
    "duration": 17,
    "start_time": "2023-05-24T13:26:37.612Z"
   },
   {
    "duration": 11,
    "start_time": "2023-05-24T13:26:37.657Z"
   },
   {
    "duration": 11,
    "start_time": "2023-05-24T13:26:37.673Z"
   },
   {
    "duration": 244,
    "start_time": "2023-05-24T13:26:37.686Z"
   },
   {
    "duration": 27,
    "start_time": "2023-05-24T13:26:37.932Z"
   },
   {
    "duration": 29,
    "start_time": "2023-05-24T13:26:37.961Z"
   },
   {
    "duration": 64,
    "start_time": "2023-05-24T13:26:37.992Z"
   },
   {
    "duration": 18,
    "start_time": "2023-05-24T13:26:38.058Z"
   },
   {
    "duration": 21,
    "start_time": "2023-05-24T13:26:38.078Z"
   },
   {
    "duration": 20,
    "start_time": "2023-05-24T13:26:38.101Z"
   },
   {
    "duration": 48,
    "start_time": "2023-05-24T13:26:38.123Z"
   },
   {
    "duration": 28,
    "start_time": "2023-05-24T13:26:38.173Z"
   },
   {
    "duration": 9,
    "start_time": "2023-05-24T13:26:38.202Z"
   },
   {
    "duration": 27,
    "start_time": "2023-05-24T13:26:38.212Z"
   },
   {
    "duration": 23,
    "start_time": "2023-05-24T13:26:38.241Z"
   },
   {
    "duration": 33,
    "start_time": "2023-05-24T13:26:38.266Z"
   },
   {
    "duration": 508,
    "start_time": "2023-05-24T13:26:38.301Z"
   },
   {
    "duration": 8,
    "start_time": "2023-05-24T13:26:38.810Z"
   },
   {
    "duration": 41,
    "start_time": "2023-05-24T13:26:38.820Z"
   },
   {
    "duration": 24,
    "start_time": "2023-05-24T13:26:38.863Z"
   },
   {
    "duration": 33,
    "start_time": "2023-05-24T13:26:38.889Z"
   },
   {
    "duration": 59,
    "start_time": "2023-05-24T13:26:38.924Z"
   },
   {
    "duration": 27,
    "start_time": "2023-05-24T13:26:38.985Z"
   },
   {
    "duration": 42,
    "start_time": "2023-05-24T13:26:39.014Z"
   },
   {
    "duration": 17,
    "start_time": "2023-05-24T13:26:39.060Z"
   },
   {
    "duration": 22,
    "start_time": "2023-05-24T13:26:39.079Z"
   },
   {
    "duration": 30,
    "start_time": "2023-05-24T13:26:39.103Z"
   },
   {
    "duration": 40,
    "start_time": "2023-05-24T13:26:39.136Z"
   },
   {
    "duration": 21,
    "start_time": "2023-05-24T13:26:39.178Z"
   },
   {
    "duration": 383,
    "start_time": "2023-05-24T13:26:39.202Z"
   },
   {
    "duration": 352,
    "start_time": "2023-05-24T13:26:39.587Z"
   },
   {
    "duration": 360,
    "start_time": "2023-05-24T13:26:39.941Z"
   },
   {
    "duration": 6,
    "start_time": "2023-05-24T13:26:40.303Z"
   },
   {
    "duration": 22,
    "start_time": "2023-05-24T13:26:40.311Z"
   },
   {
    "duration": 23,
    "start_time": "2023-05-24T13:26:40.336Z"
   },
   {
    "duration": 22,
    "start_time": "2023-05-24T13:26:40.361Z"
   },
   {
    "duration": 16,
    "start_time": "2023-05-24T13:26:40.384Z"
   },
   {
    "duration": 14,
    "start_time": "2023-05-24T13:26:40.402Z"
   },
   {
    "duration": 41,
    "start_time": "2023-05-24T13:26:40.418Z"
   },
   {
    "duration": 19,
    "start_time": "2023-05-24T13:26:40.461Z"
   },
   {
    "duration": 18,
    "start_time": "2023-05-24T13:26:40.481Z"
   },
   {
    "duration": 11,
    "start_time": "2023-05-24T13:26:40.501Z"
   },
   {
    "duration": 44,
    "start_time": "2023-05-24T13:26:40.513Z"
   },
   {
    "duration": 12,
    "start_time": "2023-05-24T13:26:40.559Z"
   },
   {
    "duration": 15,
    "start_time": "2023-05-24T13:26:40.573Z"
   },
   {
    "duration": 28,
    "start_time": "2023-05-24T13:26:40.590Z"
   },
   {
    "duration": 43,
    "start_time": "2023-05-24T13:26:40.620Z"
   },
   {
    "duration": 23,
    "start_time": "2023-05-24T13:26:40.665Z"
   },
   {
    "duration": 93,
    "start_time": "2023-05-24T13:26:40.690Z"
   },
   {
    "duration": 72,
    "start_time": "2023-05-24T13:26:40.785Z"
   },
   {
    "duration": 17,
    "start_time": "2023-05-24T13:29:03.866Z"
   },
   {
    "duration": 20,
    "start_time": "2023-05-24T13:29:18.090Z"
   },
   {
    "duration": 44,
    "start_time": "2023-05-24T16:23:01.022Z"
   },
   {
    "duration": 1362,
    "start_time": "2023-05-24T16:23:07.601Z"
   },
   {
    "duration": 221,
    "start_time": "2023-05-24T16:23:08.965Z"
   },
   {
    "duration": 15,
    "start_time": "2023-05-24T16:23:09.188Z"
   },
   {
    "duration": 23,
    "start_time": "2023-05-24T16:23:09.205Z"
   },
   {
    "duration": 8,
    "start_time": "2023-05-24T16:23:09.230Z"
   },
   {
    "duration": 14,
    "start_time": "2023-05-24T16:23:09.239Z"
   },
   {
    "duration": 36,
    "start_time": "2023-05-24T16:23:09.255Z"
   },
   {
    "duration": 5,
    "start_time": "2023-05-24T16:23:09.292Z"
   },
   {
    "duration": 45,
    "start_time": "2023-05-24T16:23:09.299Z"
   },
   {
    "duration": 31,
    "start_time": "2023-05-24T16:23:09.347Z"
   },
   {
    "duration": 17,
    "start_time": "2023-05-24T16:23:09.379Z"
   },
   {
    "duration": 27,
    "start_time": "2023-05-24T16:23:09.399Z"
   },
   {
    "duration": 19,
    "start_time": "2023-05-24T16:23:09.428Z"
   },
   {
    "duration": 30,
    "start_time": "2023-05-24T16:23:09.448Z"
   },
   {
    "duration": 30,
    "start_time": "2023-05-24T16:23:09.480Z"
   },
   {
    "duration": 24,
    "start_time": "2023-05-24T16:23:09.512Z"
   },
   {
    "duration": 10,
    "start_time": "2023-05-24T16:23:09.538Z"
   },
   {
    "duration": 242,
    "start_time": "2023-05-24T16:23:09.550Z"
   },
   {
    "duration": 33,
    "start_time": "2023-05-24T16:23:09.794Z"
   },
   {
    "duration": 23,
    "start_time": "2023-05-24T16:23:09.829Z"
   },
   {
    "duration": 40,
    "start_time": "2023-05-24T16:23:09.854Z"
   },
   {
    "duration": 28,
    "start_time": "2023-05-24T16:23:09.896Z"
   },
   {
    "duration": 11,
    "start_time": "2023-05-24T16:23:09.926Z"
   },
   {
    "duration": 41,
    "start_time": "2023-05-24T16:23:09.938Z"
   },
   {
    "duration": 9,
    "start_time": "2023-05-24T16:23:09.982Z"
   },
   {
    "duration": 8,
    "start_time": "2023-05-24T16:23:09.993Z"
   },
   {
    "duration": 340,
    "start_time": "2023-05-24T16:23:10.002Z"
   },
   {
    "duration": 53,
    "start_time": "2023-05-24T16:23:10.346Z"
   },
   {
    "duration": 16,
    "start_time": "2023-05-24T16:23:10.401Z"
   },
   {
    "duration": 16,
    "start_time": "2023-05-24T16:23:10.419Z"
   },
   {
    "duration": 204,
    "start_time": "2023-05-24T16:23:10.436Z"
   },
   {
    "duration": 8,
    "start_time": "2023-05-24T16:23:10.642Z"
   },
   {
    "duration": 28,
    "start_time": "2023-05-24T16:23:10.651Z"
   },
   {
    "duration": 8,
    "start_time": "2023-05-24T16:23:10.681Z"
   },
   {
    "duration": 21,
    "start_time": "2023-05-24T16:23:10.690Z"
   },
   {
    "duration": 39,
    "start_time": "2023-05-24T16:23:10.713Z"
   },
   {
    "duration": 20,
    "start_time": "2023-05-24T16:23:10.778Z"
   },
   {
    "duration": 804,
    "start_time": "2023-05-24T16:23:10.800Z"
   },
   {
    "duration": 0,
    "start_time": "2023-05-24T16:23:11.606Z"
   },
   {
    "duration": 0,
    "start_time": "2023-05-24T16:23:11.606Z"
   },
   {
    "duration": 0,
    "start_time": "2023-05-24T16:23:11.608Z"
   },
   {
    "duration": 0,
    "start_time": "2023-05-24T16:23:11.608Z"
   },
   {
    "duration": 0,
    "start_time": "2023-05-24T16:23:11.610Z"
   },
   {
    "duration": 0,
    "start_time": "2023-05-24T16:23:11.611Z"
   },
   {
    "duration": 0,
    "start_time": "2023-05-24T16:23:11.612Z"
   },
   {
    "duration": 0,
    "start_time": "2023-05-24T16:23:11.614Z"
   },
   {
    "duration": 0,
    "start_time": "2023-05-24T16:23:11.615Z"
   },
   {
    "duration": 1,
    "start_time": "2023-05-24T16:23:11.615Z"
   },
   {
    "duration": 0,
    "start_time": "2023-05-24T16:23:11.617Z"
   },
   {
    "duration": 0,
    "start_time": "2023-05-24T16:23:11.618Z"
   },
   {
    "duration": 0,
    "start_time": "2023-05-24T16:23:11.619Z"
   },
   {
    "duration": 0,
    "start_time": "2023-05-24T16:23:11.620Z"
   },
   {
    "duration": 0,
    "start_time": "2023-05-24T16:23:11.621Z"
   },
   {
    "duration": 0,
    "start_time": "2023-05-24T16:23:11.621Z"
   },
   {
    "duration": 0,
    "start_time": "2023-05-24T16:23:11.622Z"
   },
   {
    "duration": 0,
    "start_time": "2023-05-24T16:23:11.623Z"
   },
   {
    "duration": 0,
    "start_time": "2023-05-24T16:23:11.624Z"
   },
   {
    "duration": 0,
    "start_time": "2023-05-24T16:23:11.625Z"
   },
   {
    "duration": 0,
    "start_time": "2023-05-24T16:23:11.626Z"
   },
   {
    "duration": 0,
    "start_time": "2023-05-24T16:23:11.627Z"
   },
   {
    "duration": 0,
    "start_time": "2023-05-24T16:23:11.628Z"
   },
   {
    "duration": 0,
    "start_time": "2023-05-24T16:23:11.629Z"
   },
   {
    "duration": 0,
    "start_time": "2023-05-24T16:23:11.631Z"
   },
   {
    "duration": 0,
    "start_time": "2023-05-24T16:23:11.632Z"
   },
   {
    "duration": 0,
    "start_time": "2023-05-24T16:23:11.633Z"
   },
   {
    "duration": 0,
    "start_time": "2023-05-24T16:23:11.634Z"
   },
   {
    "duration": 0,
    "start_time": "2023-05-24T16:23:11.634Z"
   },
   {
    "duration": 0,
    "start_time": "2023-05-24T16:23:11.635Z"
   },
   {
    "duration": 0,
    "start_time": "2023-05-24T16:23:11.636Z"
   },
   {
    "duration": 0,
    "start_time": "2023-05-24T16:23:11.637Z"
   },
   {
    "duration": 0,
    "start_time": "2023-05-24T16:23:11.638Z"
   },
   {
    "duration": 0,
    "start_time": "2023-05-24T16:23:11.639Z"
   },
   {
    "duration": 0,
    "start_time": "2023-05-24T16:23:11.639Z"
   },
   {
    "duration": 0,
    "start_time": "2023-05-24T16:23:11.640Z"
   },
   {
    "duration": 0,
    "start_time": "2023-05-24T16:23:11.678Z"
   },
   {
    "duration": 0,
    "start_time": "2023-05-24T16:23:11.679Z"
   },
   {
    "duration": 0,
    "start_time": "2023-05-24T16:23:11.681Z"
   },
   {
    "duration": 0,
    "start_time": "2023-05-24T16:23:11.682Z"
   },
   {
    "duration": 0,
    "start_time": "2023-05-24T16:23:11.683Z"
   },
   {
    "duration": 0,
    "start_time": "2023-05-24T16:23:11.684Z"
   },
   {
    "duration": 0,
    "start_time": "2023-05-24T16:23:11.685Z"
   },
   {
    "duration": 0,
    "start_time": "2023-05-24T16:23:11.686Z"
   },
   {
    "duration": 0,
    "start_time": "2023-05-24T16:23:11.686Z"
   },
   {
    "duration": 0,
    "start_time": "2023-05-24T16:23:11.687Z"
   },
   {
    "duration": 0,
    "start_time": "2023-05-24T16:23:11.688Z"
   },
   {
    "duration": 1,
    "start_time": "2023-05-24T16:23:11.689Z"
   },
   {
    "duration": 0,
    "start_time": "2023-05-24T16:23:11.690Z"
   },
   {
    "duration": 0,
    "start_time": "2023-05-24T16:23:11.691Z"
   },
   {
    "duration": 0,
    "start_time": "2023-05-24T16:23:11.692Z"
   },
   {
    "duration": 8,
    "start_time": "2023-05-24T16:23:46.421Z"
   },
   {
    "duration": 14,
    "start_time": "2023-05-24T16:23:50.708Z"
   },
   {
    "duration": 15,
    "start_time": "2023-05-24T16:28:04.323Z"
   },
   {
    "duration": 8,
    "start_time": "2023-05-24T16:28:19.831Z"
   },
   {
    "duration": 16,
    "start_time": "2023-05-24T16:30:20.586Z"
   },
   {
    "duration": 45,
    "start_time": "2023-05-24T16:30:27.907Z"
   },
   {
    "duration": 10,
    "start_time": "2023-05-24T16:30:32.000Z"
   },
   {
    "duration": 59,
    "start_time": "2023-05-24T16:31:00.365Z"
   },
   {
    "duration": 42,
    "start_time": "2023-05-24T16:31:07.967Z"
   },
   {
    "duration": 14,
    "start_time": "2023-05-24T16:31:12.204Z"
   },
   {
    "duration": 25,
    "start_time": "2023-05-24T16:31:16.148Z"
   },
   {
    "duration": 16,
    "start_time": "2023-05-24T16:31:28.664Z"
   },
   {
    "duration": 4,
    "start_time": "2023-05-24T16:32:21.070Z"
   },
   {
    "duration": 114,
    "start_time": "2023-05-24T16:32:21.075Z"
   },
   {
    "duration": 11,
    "start_time": "2023-05-24T16:32:21.191Z"
   },
   {
    "duration": 19,
    "start_time": "2023-05-24T16:32:21.204Z"
   },
   {
    "duration": 6,
    "start_time": "2023-05-24T16:32:21.225Z"
   },
   {
    "duration": 12,
    "start_time": "2023-05-24T16:32:21.233Z"
   },
   {
    "duration": 51,
    "start_time": "2023-05-24T16:32:21.247Z"
   },
   {
    "duration": 4,
    "start_time": "2023-05-24T16:32:21.300Z"
   },
   {
    "duration": 34,
    "start_time": "2023-05-24T16:32:21.307Z"
   },
   {
    "duration": 49,
    "start_time": "2023-05-24T16:32:21.343Z"
   },
   {
    "duration": 14,
    "start_time": "2023-05-24T16:32:21.393Z"
   },
   {
    "duration": 22,
    "start_time": "2023-05-24T16:32:21.409Z"
   },
   {
    "duration": 14,
    "start_time": "2023-05-24T16:32:21.433Z"
   },
   {
    "duration": 31,
    "start_time": "2023-05-24T16:32:21.448Z"
   },
   {
    "duration": 28,
    "start_time": "2023-05-24T16:32:21.481Z"
   },
   {
    "duration": 23,
    "start_time": "2023-05-24T16:32:21.512Z"
   },
   {
    "duration": 10,
    "start_time": "2023-05-24T16:32:21.536Z"
   },
   {
    "duration": 234,
    "start_time": "2023-05-24T16:32:21.548Z"
   },
   {
    "duration": 32,
    "start_time": "2023-05-24T16:32:21.783Z"
   },
   {
    "duration": 24,
    "start_time": "2023-05-24T16:32:21.817Z"
   },
   {
    "duration": 39,
    "start_time": "2023-05-24T16:32:21.843Z"
   },
   {
    "duration": 24,
    "start_time": "2023-05-24T16:32:21.884Z"
   },
   {
    "duration": 10,
    "start_time": "2023-05-24T16:32:21.910Z"
   },
   {
    "duration": 13,
    "start_time": "2023-05-24T16:32:21.925Z"
   },
   {
    "duration": 4,
    "start_time": "2023-05-24T16:32:21.939Z"
   },
   {
    "duration": 35,
    "start_time": "2023-05-24T16:32:21.944Z"
   },
   {
    "duration": 231,
    "start_time": "2023-05-24T16:32:21.980Z"
   },
   {
    "duration": 38,
    "start_time": "2023-05-24T16:32:22.212Z"
   },
   {
    "duration": 34,
    "start_time": "2023-05-24T16:32:22.251Z"
   },
   {
    "duration": 14,
    "start_time": "2023-05-24T16:32:22.287Z"
   },
   {
    "duration": 175,
    "start_time": "2023-05-24T16:32:22.303Z"
   },
   {
    "duration": 7,
    "start_time": "2023-05-24T16:32:22.479Z"
   },
   {
    "duration": 24,
    "start_time": "2023-05-24T16:32:22.487Z"
   },
   {
    "duration": 27,
    "start_time": "2023-05-24T16:32:22.512Z"
   },
   {
    "duration": 32,
    "start_time": "2023-05-24T16:32:22.540Z"
   },
   {
    "duration": 46,
    "start_time": "2023-05-24T16:32:22.573Z"
   },
   {
    "duration": 18,
    "start_time": "2023-05-24T16:32:22.621Z"
   },
   {
    "duration": 25,
    "start_time": "2023-05-24T16:32:22.640Z"
   },
   {
    "duration": 16,
    "start_time": "2023-05-24T16:32:22.667Z"
   },
   {
    "duration": 28,
    "start_time": "2023-05-24T16:32:22.684Z"
   },
   {
    "duration": 15,
    "start_time": "2023-05-24T16:32:22.713Z"
   },
   {
    "duration": 221,
    "start_time": "2023-05-24T16:32:22.729Z"
   },
   {
    "duration": 16,
    "start_time": "2023-05-24T16:32:22.951Z"
   },
   {
    "duration": 37,
    "start_time": "2023-05-24T16:32:22.968Z"
   },
   {
    "duration": 128,
    "start_time": "2023-05-24T16:32:23.006Z"
   },
   {
    "duration": 15,
    "start_time": "2023-05-24T16:32:23.136Z"
   },
   {
    "duration": 33,
    "start_time": "2023-05-24T16:32:23.152Z"
   },
   {
    "duration": 31,
    "start_time": "2023-05-24T16:32:23.187Z"
   },
   {
    "duration": 28,
    "start_time": "2023-05-24T16:32:23.220Z"
   },
   {
    "duration": 39,
    "start_time": "2023-05-24T16:32:23.250Z"
   },
   {
    "duration": 11,
    "start_time": "2023-05-24T16:32:23.291Z"
   },
   {
    "duration": 35,
    "start_time": "2023-05-24T16:32:23.303Z"
   },
   {
    "duration": 53,
    "start_time": "2023-05-24T16:32:23.340Z"
   },
   {
    "duration": 33,
    "start_time": "2023-05-24T16:32:23.395Z"
   },
   {
    "duration": 429,
    "start_time": "2023-05-24T16:32:23.430Z"
   },
   {
    "duration": 5,
    "start_time": "2023-05-24T16:32:23.861Z"
   },
   {
    "duration": 31,
    "start_time": "2023-05-24T16:32:23.867Z"
   },
   {
    "duration": 32,
    "start_time": "2023-05-24T16:32:23.899Z"
   },
   {
    "duration": 34,
    "start_time": "2023-05-24T16:32:23.933Z"
   },
   {
    "duration": 23,
    "start_time": "2023-05-24T16:32:23.968Z"
   },
   {
    "duration": 32,
    "start_time": "2023-05-24T16:32:23.993Z"
   },
   {
    "duration": 10,
    "start_time": "2023-05-24T16:32:24.027Z"
   },
   {
    "duration": 29,
    "start_time": "2023-05-24T16:32:24.039Z"
   },
   {
    "duration": 25,
    "start_time": "2023-05-24T16:32:24.070Z"
   },
   {
    "duration": 35,
    "start_time": "2023-05-24T16:32:24.096Z"
   },
   {
    "duration": 37,
    "start_time": "2023-05-24T16:32:24.132Z"
   },
   {
    "duration": 22,
    "start_time": "2023-05-24T16:32:24.171Z"
   },
   {
    "duration": 316,
    "start_time": "2023-05-24T16:32:24.195Z"
   },
   {
    "duration": 323,
    "start_time": "2023-05-24T16:32:24.517Z"
   },
   {
    "duration": 359,
    "start_time": "2023-05-24T16:32:24.842Z"
   },
   {
    "duration": 6,
    "start_time": "2023-05-24T16:32:25.202Z"
   },
   {
    "duration": 21,
    "start_time": "2023-05-24T16:32:25.209Z"
   },
   {
    "duration": 25,
    "start_time": "2023-05-24T16:32:25.231Z"
   },
   {
    "duration": 26,
    "start_time": "2023-05-24T16:32:25.258Z"
   },
   {
    "duration": 17,
    "start_time": "2023-05-24T16:32:25.285Z"
   },
   {
    "duration": 14,
    "start_time": "2023-05-24T16:32:25.304Z"
   },
   {
    "duration": 26,
    "start_time": "2023-05-24T16:32:25.319Z"
   },
   {
    "duration": 21,
    "start_time": "2023-05-24T16:32:25.346Z"
   },
   {
    "duration": 16,
    "start_time": "2023-05-24T16:32:25.378Z"
   },
   {
    "duration": 9,
    "start_time": "2023-05-24T16:32:25.395Z"
   },
   {
    "duration": 12,
    "start_time": "2023-05-24T16:32:25.406Z"
   },
   {
    "duration": 10,
    "start_time": "2023-05-24T16:32:25.419Z"
   },
   {
    "duration": 14,
    "start_time": "2023-05-24T16:32:25.430Z"
   },
   {
    "duration": 55,
    "start_time": "2023-05-24T16:32:25.446Z"
   },
   {
    "duration": 19,
    "start_time": "2023-05-24T16:32:25.502Z"
   },
   {
    "duration": 16,
    "start_time": "2023-05-24T16:32:25.522Z"
   },
   {
    "duration": 100,
    "start_time": "2023-05-24T16:32:25.540Z"
   },
   {
    "duration": 79,
    "start_time": "2023-05-24T16:32:25.643Z"
   },
   {
    "duration": 8,
    "start_time": "2023-05-24T16:33:29.102Z"
   },
   {
    "duration": 10,
    "start_time": "2023-05-24T16:35:02.836Z"
   },
   {
    "duration": 8,
    "start_time": "2023-05-24T16:38:10.585Z"
   },
   {
    "duration": 29,
    "start_time": "2023-05-24T16:38:19.837Z"
   },
   {
    "duration": 5,
    "start_time": "2023-05-24T16:39:31.531Z"
   },
   {
    "duration": 123,
    "start_time": "2023-05-24T16:39:31.538Z"
   },
   {
    "duration": 22,
    "start_time": "2023-05-24T16:39:31.662Z"
   },
   {
    "duration": 41,
    "start_time": "2023-05-24T16:39:31.686Z"
   },
   {
    "duration": 11,
    "start_time": "2023-05-24T16:39:31.730Z"
   },
   {
    "duration": 38,
    "start_time": "2023-05-24T16:39:31.743Z"
   },
   {
    "duration": 58,
    "start_time": "2023-05-24T16:39:31.783Z"
   },
   {
    "duration": 5,
    "start_time": "2023-05-24T16:39:31.843Z"
   },
   {
    "duration": 46,
    "start_time": "2023-05-24T16:39:31.849Z"
   },
   {
    "duration": 22,
    "start_time": "2023-05-24T16:39:31.897Z"
   },
   {
    "duration": 14,
    "start_time": "2023-05-24T16:39:31.921Z"
   },
   {
    "duration": 31,
    "start_time": "2023-05-24T16:39:31.937Z"
   },
   {
    "duration": 22,
    "start_time": "2023-05-24T16:39:31.971Z"
   },
   {
    "duration": 9,
    "start_time": "2023-05-24T16:39:31.995Z"
   },
   {
    "duration": 36,
    "start_time": "2023-05-24T16:39:32.006Z"
   },
   {
    "duration": 20,
    "start_time": "2023-05-24T16:39:32.044Z"
   },
   {
    "duration": 17,
    "start_time": "2023-05-24T16:39:32.065Z"
   },
   {
    "duration": 220,
    "start_time": "2023-05-24T16:39:32.083Z"
   },
   {
    "duration": 30,
    "start_time": "2023-05-24T16:39:32.305Z"
   },
   {
    "duration": 32,
    "start_time": "2023-05-24T16:39:32.337Z"
   },
   {
    "duration": 27,
    "start_time": "2023-05-24T16:39:32.370Z"
   },
   {
    "duration": 31,
    "start_time": "2023-05-24T16:39:32.399Z"
   },
   {
    "duration": 9,
    "start_time": "2023-05-24T16:39:32.431Z"
   },
   {
    "duration": 26,
    "start_time": "2023-05-24T16:39:32.441Z"
   },
   {
    "duration": 4,
    "start_time": "2023-05-24T16:39:32.468Z"
   },
   {
    "duration": 5,
    "start_time": "2023-05-24T16:39:32.478Z"
   },
   {
    "duration": 219,
    "start_time": "2023-05-24T16:39:32.484Z"
   },
   {
    "duration": 36,
    "start_time": "2023-05-24T16:39:32.706Z"
   },
   {
    "duration": 37,
    "start_time": "2023-05-24T16:39:32.744Z"
   },
   {
    "duration": 13,
    "start_time": "2023-05-24T16:39:32.783Z"
   },
   {
    "duration": 170,
    "start_time": "2023-05-24T16:39:32.798Z"
   },
   {
    "duration": 11,
    "start_time": "2023-05-24T16:39:32.970Z"
   },
   {
    "duration": 13,
    "start_time": "2023-05-24T16:39:32.983Z"
   },
   {
    "duration": 7,
    "start_time": "2023-05-24T16:39:32.998Z"
   },
   {
    "duration": 15,
    "start_time": "2023-05-24T16:39:33.006Z"
   },
   {
    "duration": 54,
    "start_time": "2023-05-24T16:39:33.023Z"
   },
   {
    "duration": 18,
    "start_time": "2023-05-24T16:39:33.081Z"
   },
   {
    "duration": 13,
    "start_time": "2023-05-24T16:39:33.101Z"
   },
   {
    "duration": 14,
    "start_time": "2023-05-24T16:39:33.115Z"
   },
   {
    "duration": 8,
    "start_time": "2023-05-24T16:39:33.130Z"
   },
   {
    "duration": 9,
    "start_time": "2023-05-24T16:39:33.139Z"
   },
   {
    "duration": 189,
    "start_time": "2023-05-24T16:39:33.178Z"
   },
   {
    "duration": 21,
    "start_time": "2023-05-24T16:39:33.368Z"
   },
   {
    "duration": 24,
    "start_time": "2023-05-24T16:39:33.391Z"
   },
   {
    "duration": 136,
    "start_time": "2023-05-24T16:39:33.416Z"
   },
   {
    "duration": 28,
    "start_time": "2023-05-24T16:39:33.553Z"
   },
   {
    "duration": 18,
    "start_time": "2023-05-24T16:39:33.583Z"
   },
   {
    "duration": 16,
    "start_time": "2023-05-24T16:39:33.603Z"
   },
   {
    "duration": 16,
    "start_time": "2023-05-24T16:39:33.621Z"
   },
   {
    "duration": 51,
    "start_time": "2023-05-24T16:39:33.639Z"
   },
   {
    "duration": 8,
    "start_time": "2023-05-24T16:39:33.692Z"
   },
   {
    "duration": 8,
    "start_time": "2023-05-24T16:39:33.702Z"
   },
   {
    "duration": 11,
    "start_time": "2023-05-24T16:39:33.711Z"
   },
   {
    "duration": 18,
    "start_time": "2023-05-24T16:39:33.723Z"
   },
   {
    "duration": 369,
    "start_time": "2023-05-24T16:39:33.742Z"
   },
   {
    "duration": 7,
    "start_time": "2023-05-24T16:39:34.112Z"
   },
   {
    "duration": 19,
    "start_time": "2023-05-24T16:39:34.120Z"
   },
   {
    "duration": 16,
    "start_time": "2023-05-24T16:39:34.141Z"
   },
   {
    "duration": 40,
    "start_time": "2023-05-24T16:39:34.159Z"
   },
   {
    "duration": 22,
    "start_time": "2023-05-24T16:39:34.200Z"
   },
   {
    "duration": 19,
    "start_time": "2023-05-24T16:39:34.223Z"
   },
   {
    "duration": 10,
    "start_time": "2023-05-24T16:39:34.243Z"
   },
   {
    "duration": 11,
    "start_time": "2023-05-24T16:39:34.278Z"
   },
   {
    "duration": 14,
    "start_time": "2023-05-24T16:39:34.290Z"
   },
   {
    "duration": 22,
    "start_time": "2023-05-24T16:39:34.306Z"
   },
   {
    "duration": 21,
    "start_time": "2023-05-24T16:39:34.330Z"
   },
   {
    "duration": 43,
    "start_time": "2023-05-24T16:39:34.352Z"
   },
   {
    "duration": 307,
    "start_time": "2023-05-24T16:39:34.397Z"
   },
   {
    "duration": 333,
    "start_time": "2023-05-24T16:39:34.706Z"
   },
   {
    "duration": 352,
    "start_time": "2023-05-24T16:39:35.041Z"
   },
   {
    "duration": 7,
    "start_time": "2023-05-24T16:39:35.394Z"
   },
   {
    "duration": 9,
    "start_time": "2023-05-24T16:39:35.402Z"
   },
   {
    "duration": 24,
    "start_time": "2023-05-24T16:39:35.413Z"
   },
   {
    "duration": 26,
    "start_time": "2023-05-24T16:39:35.439Z"
   },
   {
    "duration": 15,
    "start_time": "2023-05-24T16:39:35.467Z"
   },
   {
    "duration": 14,
    "start_time": "2023-05-24T16:39:35.484Z"
   },
   {
    "duration": 19,
    "start_time": "2023-05-24T16:39:35.499Z"
   },
   {
    "duration": 17,
    "start_time": "2023-05-24T16:39:35.520Z"
   },
   {
    "duration": 47,
    "start_time": "2023-05-24T16:39:35.538Z"
   },
   {
    "duration": 10,
    "start_time": "2023-05-24T16:39:35.587Z"
   },
   {
    "duration": 20,
    "start_time": "2023-05-24T16:39:35.599Z"
   },
   {
    "duration": 11,
    "start_time": "2023-05-24T16:39:35.621Z"
   },
   {
    "duration": 20,
    "start_time": "2023-05-24T16:39:35.633Z"
   },
   {
    "duration": 25,
    "start_time": "2023-05-24T16:39:35.678Z"
   },
   {
    "duration": 14,
    "start_time": "2023-05-24T16:39:35.705Z"
   },
   {
    "duration": 19,
    "start_time": "2023-05-24T16:39:35.721Z"
   },
   {
    "duration": 85,
    "start_time": "2023-05-24T16:39:35.742Z"
   },
   {
    "duration": 68,
    "start_time": "2023-05-24T16:39:35.829Z"
   },
   {
    "duration": 28,
    "start_time": "2023-05-24T16:40:09.747Z"
   },
   {
    "duration": 30,
    "start_time": "2023-05-24T16:40:20.770Z"
   },
   {
    "duration": 670,
    "start_time": "2023-05-24T17:46:46.012Z"
   },
   {
    "duration": 74,
    "start_time": "2023-05-24T21:15:07.566Z"
   },
   {
    "duration": 309,
    "start_time": "2023-05-24T21:39:17.523Z"
   },
   {
    "duration": 44,
    "start_time": "2023-05-24T21:50:59.332Z"
   },
   {
    "duration": 3,
    "start_time": "2023-05-24T21:51:13.179Z"
   },
   {
    "duration": 112,
    "start_time": "2023-05-24T21:51:13.184Z"
   },
   {
    "duration": 12,
    "start_time": "2023-05-24T21:51:13.298Z"
   },
   {
    "duration": 20,
    "start_time": "2023-05-24T21:51:13.311Z"
   },
   {
    "duration": 5,
    "start_time": "2023-05-24T21:51:13.334Z"
   },
   {
    "duration": 10,
    "start_time": "2023-05-24T21:51:13.341Z"
   },
   {
    "duration": 50,
    "start_time": "2023-05-24T21:51:13.353Z"
   },
   {
    "duration": 6,
    "start_time": "2023-05-24T21:51:13.405Z"
   },
   {
    "duration": 33,
    "start_time": "2023-05-24T21:51:13.412Z"
   },
   {
    "duration": 43,
    "start_time": "2023-05-24T21:51:13.447Z"
   },
   {
    "duration": 14,
    "start_time": "2023-05-24T21:51:13.493Z"
   },
   {
    "duration": 25,
    "start_time": "2023-05-24T21:51:13.509Z"
   },
   {
    "duration": 48,
    "start_time": "2023-05-24T21:51:13.536Z"
   },
   {
    "duration": 3,
    "start_time": "2023-05-24T21:51:13.585Z"
   },
   {
    "duration": 32,
    "start_time": "2023-05-24T21:51:13.590Z"
   },
   {
    "duration": 20,
    "start_time": "2023-05-24T21:51:13.624Z"
   },
   {
    "duration": 43,
    "start_time": "2023-05-24T21:51:13.646Z"
   },
   {
    "duration": 220,
    "start_time": "2023-05-24T21:51:13.690Z"
   },
   {
    "duration": 31,
    "start_time": "2023-05-24T21:51:13.911Z"
   },
   {
    "duration": 35,
    "start_time": "2023-05-24T21:51:13.944Z"
   },
   {
    "duration": 25,
    "start_time": "2023-05-24T21:51:13.980Z"
   },
   {
    "duration": 25,
    "start_time": "2023-05-24T21:51:14.007Z"
   },
   {
    "duration": 10,
    "start_time": "2023-05-24T21:51:14.033Z"
   },
   {
    "duration": 38,
    "start_time": "2023-05-24T21:51:14.044Z"
   },
   {
    "duration": 4,
    "start_time": "2023-05-24T21:51:14.084Z"
   },
   {
    "duration": 6,
    "start_time": "2023-05-24T21:51:14.089Z"
   },
   {
    "duration": 237,
    "start_time": "2023-05-24T21:51:14.096Z"
   },
   {
    "duration": 46,
    "start_time": "2023-05-24T21:51:14.334Z"
   },
   {
    "duration": 14,
    "start_time": "2023-05-24T21:51:14.383Z"
   },
   {
    "duration": 12,
    "start_time": "2023-05-24T21:51:14.399Z"
   },
   {
    "duration": 177,
    "start_time": "2023-05-24T21:51:14.412Z"
   },
   {
    "duration": 8,
    "start_time": "2023-05-24T21:51:14.590Z"
   },
   {
    "duration": 18,
    "start_time": "2023-05-24T21:51:14.599Z"
   },
   {
    "duration": 8,
    "start_time": "2023-05-24T21:51:14.619Z"
   },
   {
    "duration": 19,
    "start_time": "2023-05-24T21:51:14.628Z"
   },
   {
    "duration": 50,
    "start_time": "2023-05-24T21:51:14.649Z"
   },
   {
    "duration": 17,
    "start_time": "2023-05-24T21:51:14.701Z"
   },
   {
    "duration": 13,
    "start_time": "2023-05-24T21:51:14.720Z"
   },
   {
    "duration": 14,
    "start_time": "2023-05-24T21:51:14.735Z"
   },
   {
    "duration": 8,
    "start_time": "2023-05-24T21:51:14.777Z"
   },
   {
    "duration": 8,
    "start_time": "2023-05-24T21:51:14.786Z"
   },
   {
    "duration": 200,
    "start_time": "2023-05-24T21:51:14.796Z"
   },
   {
    "duration": 16,
    "start_time": "2023-05-24T21:51:14.997Z"
   },
   {
    "duration": 39,
    "start_time": "2023-05-24T21:51:15.014Z"
   },
   {
    "duration": 136,
    "start_time": "2023-05-24T21:51:15.054Z"
   },
   {
    "duration": 14,
    "start_time": "2023-05-24T21:51:15.192Z"
   },
   {
    "duration": 19,
    "start_time": "2023-05-24T21:51:15.207Z"
   },
   {
    "duration": 18,
    "start_time": "2023-05-24T21:51:15.228Z"
   },
   {
    "duration": 44,
    "start_time": "2023-05-24T21:51:15.248Z"
   },
   {
    "duration": 23,
    "start_time": "2023-05-24T21:51:15.294Z"
   },
   {
    "duration": 8,
    "start_time": "2023-05-24T21:51:15.319Z"
   },
   {
    "duration": 8,
    "start_time": "2023-05-24T21:51:15.328Z"
   },
   {
    "duration": 14,
    "start_time": "2023-05-24T21:51:15.337Z"
   },
   {
    "duration": 42,
    "start_time": "2023-05-24T21:51:15.353Z"
   },
   {
    "duration": 339,
    "start_time": "2023-05-24T21:51:15.397Z"
   },
   {
    "duration": 7,
    "start_time": "2023-05-24T21:51:15.738Z"
   },
   {
    "duration": 32,
    "start_time": "2023-05-24T21:51:15.747Z"
   },
   {
    "duration": 20,
    "start_time": "2023-05-24T21:51:15.782Z"
   },
   {
    "duration": 24,
    "start_time": "2023-05-24T21:51:15.804Z"
   },
   {
    "duration": 52,
    "start_time": "2023-05-24T21:51:15.830Z"
   },
   {
    "duration": 20,
    "start_time": "2023-05-24T21:51:15.884Z"
   },
   {
    "duration": 10,
    "start_time": "2023-05-24T21:51:15.906Z"
   },
   {
    "duration": 13,
    "start_time": "2023-05-24T21:51:15.917Z"
   },
   {
    "duration": 11,
    "start_time": "2023-05-24T21:51:15.931Z"
   },
   {
    "duration": 48,
    "start_time": "2023-05-24T21:51:15.943Z"
   },
   {
    "duration": 17,
    "start_time": "2023-05-24T21:51:15.993Z"
   },
   {
    "duration": 21,
    "start_time": "2023-05-24T21:51:16.012Z"
   },
   {
    "duration": 371,
    "start_time": "2023-05-24T21:51:16.034Z"
   },
   {
    "duration": 331,
    "start_time": "2023-05-24T21:51:16.407Z"
   },
   {
    "duration": 358,
    "start_time": "2023-05-24T21:51:16.739Z"
   },
   {
    "duration": 6,
    "start_time": "2023-05-24T21:51:17.098Z"
   },
   {
    "duration": 7,
    "start_time": "2023-05-24T21:51:17.105Z"
   },
   {
    "duration": 21,
    "start_time": "2023-05-24T21:51:17.113Z"
   },
   {
    "duration": 18,
    "start_time": "2023-05-24T21:51:17.135Z"
   },
   {
    "duration": 27,
    "start_time": "2023-05-24T21:51:17.154Z"
   },
   {
    "duration": 15,
    "start_time": "2023-05-24T21:51:17.182Z"
   },
   {
    "duration": 14,
    "start_time": "2023-05-24T21:51:17.199Z"
   },
   {
    "duration": 15,
    "start_time": "2023-05-24T21:51:17.215Z"
   },
   {
    "duration": 15,
    "start_time": "2023-05-24T21:51:17.231Z"
   },
   {
    "duration": 40,
    "start_time": "2023-05-24T21:51:17.247Z"
   },
   {
    "duration": 14,
    "start_time": "2023-05-24T21:51:17.289Z"
   },
   {
    "duration": 13,
    "start_time": "2023-05-24T21:51:17.304Z"
   },
   {
    "duration": 14,
    "start_time": "2023-05-24T21:51:17.321Z"
   },
   {
    "duration": 50,
    "start_time": "2023-05-24T21:51:17.336Z"
   },
   {
    "duration": 15,
    "start_time": "2023-05-24T21:51:17.388Z"
   },
   {
    "duration": 14,
    "start_time": "2023-05-24T21:51:17.404Z"
   },
   {
    "duration": 72,
    "start_time": "2023-05-24T21:51:17.420Z"
   },
   {
    "duration": 57,
    "start_time": "2023-05-24T21:51:17.493Z"
   },
   {
    "duration": 1288,
    "start_time": "2023-05-24T22:30:24.871Z"
   },
   {
    "duration": 206,
    "start_time": "2023-05-24T22:30:26.161Z"
   },
   {
    "duration": 16,
    "start_time": "2023-05-24T22:30:26.368Z"
   },
   {
    "duration": 22,
    "start_time": "2023-05-24T22:30:26.386Z"
   },
   {
    "duration": 5,
    "start_time": "2023-05-24T22:30:26.409Z"
   },
   {
    "duration": 7,
    "start_time": "2023-05-24T22:30:26.415Z"
   },
   {
    "duration": 33,
    "start_time": "2023-05-24T22:30:26.424Z"
   },
   {
    "duration": 4,
    "start_time": "2023-05-24T22:30:26.459Z"
   },
   {
    "duration": 43,
    "start_time": "2023-05-24T22:30:26.465Z"
   },
   {
    "duration": 20,
    "start_time": "2023-05-24T22:30:26.510Z"
   },
   {
    "duration": 14,
    "start_time": "2023-05-24T22:30:26.532Z"
   },
   {
    "duration": 24,
    "start_time": "2023-05-24T22:30:26.549Z"
   },
   {
    "duration": 36,
    "start_time": "2023-05-24T22:30:26.575Z"
   },
   {
    "duration": 4,
    "start_time": "2023-05-24T22:30:26.613Z"
   },
   {
    "duration": 37,
    "start_time": "2023-05-24T22:30:26.618Z"
   },
   {
    "duration": 47,
    "start_time": "2023-05-24T22:30:26.657Z"
   },
   {
    "duration": 12,
    "start_time": "2023-05-24T22:30:26.706Z"
   },
   {
    "duration": 250,
    "start_time": "2023-05-24T22:30:26.720Z"
   },
   {
    "duration": 37,
    "start_time": "2023-05-24T22:30:26.971Z"
   },
   {
    "duration": 33,
    "start_time": "2023-05-24T22:30:27.010Z"
   },
   {
    "duration": 22,
    "start_time": "2023-05-24T22:30:27.044Z"
   },
   {
    "duration": 33,
    "start_time": "2023-05-24T22:30:27.067Z"
   },
   {
    "duration": 10,
    "start_time": "2023-05-24T22:30:27.101Z"
   },
   {
    "duration": 36,
    "start_time": "2023-05-24T22:30:27.112Z"
   },
   {
    "duration": 5,
    "start_time": "2023-05-24T22:30:27.149Z"
   },
   {
    "duration": 6,
    "start_time": "2023-05-24T22:30:27.155Z"
   },
   {
    "duration": 328,
    "start_time": "2023-05-24T22:30:27.162Z"
   },
   {
    "duration": 42,
    "start_time": "2023-05-24T22:30:27.496Z"
   },
   {
    "duration": 15,
    "start_time": "2023-05-24T22:30:27.540Z"
   },
   {
    "duration": 42,
    "start_time": "2023-05-24T22:30:27.557Z"
   },
   {
    "duration": 201,
    "start_time": "2023-05-24T22:30:27.600Z"
   },
   {
    "duration": 9,
    "start_time": "2023-05-24T22:30:27.802Z"
   },
   {
    "duration": 19,
    "start_time": "2023-05-24T22:30:27.812Z"
   },
   {
    "duration": 8,
    "start_time": "2023-05-24T22:30:27.832Z"
   },
   {
    "duration": 19,
    "start_time": "2023-05-24T22:30:27.841Z"
   },
   {
    "duration": 76,
    "start_time": "2023-05-24T22:30:27.862Z"
   },
   {
    "duration": 20,
    "start_time": "2023-05-24T22:30:27.940Z"
   },
   {
    "duration": 36,
    "start_time": "2023-05-24T22:30:27.962Z"
   },
   {
    "duration": 16,
    "start_time": "2023-05-24T22:30:28.000Z"
   },
   {
    "duration": 8,
    "start_time": "2023-05-24T22:30:28.018Z"
   },
   {
    "duration": 11,
    "start_time": "2023-05-24T22:30:28.028Z"
   },
   {
    "duration": 265,
    "start_time": "2023-05-24T22:30:28.040Z"
   },
   {
    "duration": 19,
    "start_time": "2023-05-24T22:30:28.307Z"
   },
   {
    "duration": 32,
    "start_time": "2023-05-24T22:30:28.328Z"
   },
   {
    "duration": 68,
    "start_time": "2023-05-24T22:30:28.362Z"
   },
   {
    "duration": 19,
    "start_time": "2023-05-24T22:30:28.432Z"
   },
   {
    "duration": 46,
    "start_time": "2023-05-24T22:30:28.453Z"
   },
   {
    "duration": 22,
    "start_time": "2023-05-24T22:30:28.500Z"
   },
   {
    "duration": 18,
    "start_time": "2023-05-24T22:30:28.525Z"
   },
   {
    "duration": 54,
    "start_time": "2023-05-24T22:30:28.545Z"
   },
   {
    "duration": 11,
    "start_time": "2023-05-24T22:30:28.601Z"
   },
   {
    "duration": 23,
    "start_time": "2023-05-24T22:30:28.613Z"
   },
   {
    "duration": 15,
    "start_time": "2023-05-24T22:30:28.638Z"
   },
   {
    "duration": 42,
    "start_time": "2023-05-24T22:30:28.655Z"
   },
   {
    "duration": 455,
    "start_time": "2023-05-24T22:30:28.700Z"
   },
   {
    "duration": 6,
    "start_time": "2023-05-24T22:30:29.157Z"
   },
   {
    "duration": 34,
    "start_time": "2023-05-24T22:30:29.165Z"
   },
   {
    "duration": 21,
    "start_time": "2023-05-24T22:30:29.201Z"
   },
   {
    "duration": 28,
    "start_time": "2023-05-24T22:30:29.224Z"
   },
   {
    "duration": 55,
    "start_time": "2023-05-24T22:30:29.254Z"
   },
   {
    "duration": 22,
    "start_time": "2023-05-24T22:30:29.311Z"
   },
   {
    "duration": 11,
    "start_time": "2023-05-24T22:30:29.335Z"
   },
   {
    "duration": 12,
    "start_time": "2023-05-24T22:30:29.349Z"
   },
   {
    "duration": 44,
    "start_time": "2023-05-24T22:30:29.363Z"
   },
   {
    "duration": 27,
    "start_time": "2023-05-24T22:30:29.409Z"
   },
   {
    "duration": 29,
    "start_time": "2023-05-24T22:30:29.438Z"
   },
   {
    "duration": 43,
    "start_time": "2023-05-24T22:30:29.469Z"
   },
   {
    "duration": 355,
    "start_time": "2023-05-24T22:30:29.514Z"
   },
   {
    "duration": 397,
    "start_time": "2023-05-24T22:30:29.871Z"
   },
   {
    "duration": 385,
    "start_time": "2023-05-24T22:30:30.270Z"
   },
   {
    "duration": 8,
    "start_time": "2023-05-24T22:30:30.657Z"
   },
   {
    "duration": 41,
    "start_time": "2023-05-24T22:30:30.666Z"
   },
   {
    "duration": 29,
    "start_time": "2023-05-24T22:30:30.709Z"
   },
   {
    "duration": 76,
    "start_time": "2023-05-24T22:30:30.740Z"
   },
   {
    "duration": 60,
    "start_time": "2023-05-24T22:30:30.818Z"
   },
   {
    "duration": 54,
    "start_time": "2023-05-24T22:30:30.879Z"
   },
   {
    "duration": 53,
    "start_time": "2023-05-24T22:30:30.935Z"
   },
   {
    "duration": 48,
    "start_time": "2023-05-24T22:30:30.990Z"
   },
   {
    "duration": 36,
    "start_time": "2023-05-24T22:30:31.041Z"
   },
   {
    "duration": 51,
    "start_time": "2023-05-24T22:30:31.080Z"
   },
   {
    "duration": 60,
    "start_time": "2023-05-24T22:30:31.133Z"
   },
   {
    "duration": 37,
    "start_time": "2023-05-24T22:30:31.199Z"
   },
   {
    "duration": 50,
    "start_time": "2023-05-24T22:30:31.238Z"
   },
   {
    "duration": 47,
    "start_time": "2023-05-24T22:30:31.290Z"
   },
   {
    "duration": 20,
    "start_time": "2023-05-24T22:30:31.339Z"
   },
   {
    "duration": 55,
    "start_time": "2023-05-24T22:30:31.361Z"
   },
   {
    "duration": 110,
    "start_time": "2023-05-24T22:30:31.418Z"
   },
   {
    "duration": 89,
    "start_time": "2023-05-24T22:30:31.530Z"
   },
   {
    "duration": 69,
    "start_time": "2023-05-25T05:18:53.185Z"
   },
   {
    "duration": 1404,
    "start_time": "2023-05-25T05:18:56.708Z"
   },
   {
    "duration": 480,
    "start_time": "2023-05-25T05:18:58.114Z"
   },
   {
    "duration": 16,
    "start_time": "2023-05-25T05:18:58.595Z"
   },
   {
    "duration": 26,
    "start_time": "2023-05-25T05:18:58.613Z"
   },
   {
    "duration": 6,
    "start_time": "2023-05-25T05:18:58.641Z"
   },
   {
    "duration": 9,
    "start_time": "2023-05-25T05:18:58.649Z"
   },
   {
    "duration": 32,
    "start_time": "2023-05-25T05:18:58.660Z"
   },
   {
    "duration": 6,
    "start_time": "2023-05-25T05:18:58.693Z"
   },
   {
    "duration": 32,
    "start_time": "2023-05-25T05:18:58.724Z"
   },
   {
    "duration": 35,
    "start_time": "2023-05-25T05:18:58.758Z"
   },
   {
    "duration": 15,
    "start_time": "2023-05-25T05:18:58.795Z"
   },
   {
    "duration": 39,
    "start_time": "2023-05-25T05:18:58.811Z"
   },
   {
    "duration": 20,
    "start_time": "2023-05-25T05:18:58.852Z"
   },
   {
    "duration": 4,
    "start_time": "2023-05-25T05:18:58.874Z"
   },
   {
    "duration": 60,
    "start_time": "2023-05-25T05:18:58.880Z"
   },
   {
    "duration": 28,
    "start_time": "2023-05-25T05:18:58.942Z"
   },
   {
    "duration": 12,
    "start_time": "2023-05-25T05:18:58.972Z"
   },
   {
    "duration": 245,
    "start_time": "2023-05-25T05:18:58.986Z"
   },
   {
    "duration": 32,
    "start_time": "2023-05-25T05:18:59.233Z"
   },
   {
    "duration": 46,
    "start_time": "2023-05-25T05:18:59.267Z"
   },
   {
    "duration": 50,
    "start_time": "2023-05-25T05:18:59.315Z"
   },
   {
    "duration": 40,
    "start_time": "2023-05-25T05:18:59.367Z"
   },
   {
    "duration": 16,
    "start_time": "2023-05-25T05:18:59.409Z"
   },
   {
    "duration": 30,
    "start_time": "2023-05-25T05:18:59.427Z"
   },
   {
    "duration": 21,
    "start_time": "2023-05-25T05:18:59.459Z"
   },
   {
    "duration": 28,
    "start_time": "2023-05-25T05:18:59.482Z"
   },
   {
    "duration": 322,
    "start_time": "2023-05-25T05:18:59.512Z"
   },
   {
    "duration": 63,
    "start_time": "2023-05-25T05:18:59.838Z"
   },
   {
    "duration": 0,
    "start_time": "2023-05-25T05:18:59.903Z"
   },
   {
    "duration": 0,
    "start_time": "2023-05-25T05:18:59.904Z"
   },
   {
    "duration": 0,
    "start_time": "2023-05-25T05:18:59.905Z"
   },
   {
    "duration": 0,
    "start_time": "2023-05-25T05:18:59.906Z"
   },
   {
    "duration": 0,
    "start_time": "2023-05-25T05:18:59.925Z"
   },
   {
    "duration": 0,
    "start_time": "2023-05-25T05:18:59.926Z"
   },
   {
    "duration": 0,
    "start_time": "2023-05-25T05:18:59.927Z"
   },
   {
    "duration": 0,
    "start_time": "2023-05-25T05:18:59.928Z"
   },
   {
    "duration": 0,
    "start_time": "2023-05-25T05:18:59.928Z"
   },
   {
    "duration": 0,
    "start_time": "2023-05-25T05:18:59.929Z"
   },
   {
    "duration": 0,
    "start_time": "2023-05-25T05:18:59.930Z"
   },
   {
    "duration": 0,
    "start_time": "2023-05-25T05:18:59.931Z"
   },
   {
    "duration": 0,
    "start_time": "2023-05-25T05:18:59.932Z"
   },
   {
    "duration": 0,
    "start_time": "2023-05-25T05:18:59.934Z"
   },
   {
    "duration": 0,
    "start_time": "2023-05-25T05:18:59.934Z"
   },
   {
    "duration": 0,
    "start_time": "2023-05-25T05:18:59.935Z"
   },
   {
    "duration": 0,
    "start_time": "2023-05-25T05:18:59.936Z"
   },
   {
    "duration": 0,
    "start_time": "2023-05-25T05:18:59.938Z"
   },
   {
    "duration": 0,
    "start_time": "2023-05-25T05:18:59.939Z"
   },
   {
    "duration": 0,
    "start_time": "2023-05-25T05:18:59.940Z"
   },
   {
    "duration": 0,
    "start_time": "2023-05-25T05:18:59.941Z"
   },
   {
    "duration": 0,
    "start_time": "2023-05-25T05:18:59.942Z"
   },
   {
    "duration": 0,
    "start_time": "2023-05-25T05:18:59.943Z"
   },
   {
    "duration": 0,
    "start_time": "2023-05-25T05:18:59.944Z"
   },
   {
    "duration": 0,
    "start_time": "2023-05-25T05:18:59.944Z"
   },
   {
    "duration": 0,
    "start_time": "2023-05-25T05:18:59.946Z"
   },
   {
    "duration": 0,
    "start_time": "2023-05-25T05:18:59.946Z"
   },
   {
    "duration": 0,
    "start_time": "2023-05-25T05:18:59.947Z"
   },
   {
    "duration": 1,
    "start_time": "2023-05-25T05:18:59.948Z"
   },
   {
    "duration": 0,
    "start_time": "2023-05-25T05:18:59.950Z"
   },
   {
    "duration": 0,
    "start_time": "2023-05-25T05:18:59.951Z"
   },
   {
    "duration": 0,
    "start_time": "2023-05-25T05:18:59.952Z"
   },
   {
    "duration": 0,
    "start_time": "2023-05-25T05:18:59.953Z"
   },
   {
    "duration": 0,
    "start_time": "2023-05-25T05:18:59.955Z"
   },
   {
    "duration": 0,
    "start_time": "2023-05-25T05:18:59.956Z"
   },
   {
    "duration": 0,
    "start_time": "2023-05-25T05:18:59.958Z"
   },
   {
    "duration": 0,
    "start_time": "2023-05-25T05:18:59.959Z"
   },
   {
    "duration": 0,
    "start_time": "2023-05-25T05:18:59.961Z"
   },
   {
    "duration": 0,
    "start_time": "2023-05-25T05:19:00.025Z"
   },
   {
    "duration": 0,
    "start_time": "2023-05-25T05:19:00.027Z"
   },
   {
    "duration": 0,
    "start_time": "2023-05-25T05:19:00.028Z"
   },
   {
    "duration": 0,
    "start_time": "2023-05-25T05:19:00.029Z"
   },
   {
    "duration": 0,
    "start_time": "2023-05-25T05:19:00.030Z"
   },
   {
    "duration": 0,
    "start_time": "2023-05-25T05:19:00.031Z"
   },
   {
    "duration": 0,
    "start_time": "2023-05-25T05:19:00.033Z"
   },
   {
    "duration": 1,
    "start_time": "2023-05-25T05:19:00.033Z"
   },
   {
    "duration": 0,
    "start_time": "2023-05-25T05:19:00.034Z"
   },
   {
    "duration": 0,
    "start_time": "2023-05-25T05:19:00.036Z"
   },
   {
    "duration": 0,
    "start_time": "2023-05-25T05:19:00.037Z"
   },
   {
    "duration": 0,
    "start_time": "2023-05-25T05:19:00.038Z"
   },
   {
    "duration": 0,
    "start_time": "2023-05-25T05:19:00.039Z"
   },
   {
    "duration": 0,
    "start_time": "2023-05-25T05:19:00.040Z"
   },
   {
    "duration": 0,
    "start_time": "2023-05-25T05:19:00.041Z"
   },
   {
    "duration": 0,
    "start_time": "2023-05-25T05:19:00.042Z"
   },
   {
    "duration": 0,
    "start_time": "2023-05-25T05:19:00.044Z"
   },
   {
    "duration": 244,
    "start_time": "2023-05-25T05:19:35.515Z"
   },
   {
    "duration": 10,
    "start_time": "2023-05-25T05:19:37.860Z"
   },
   {
    "duration": 3,
    "start_time": "2023-05-25T05:19:55.052Z"
   },
   {
    "duration": 137,
    "start_time": "2023-05-25T05:19:55.057Z"
   },
   {
    "duration": 12,
    "start_time": "2023-05-25T05:19:55.196Z"
   },
   {
    "duration": 32,
    "start_time": "2023-05-25T05:19:55.209Z"
   },
   {
    "duration": 19,
    "start_time": "2023-05-25T05:19:55.243Z"
   },
   {
    "duration": 41,
    "start_time": "2023-05-25T05:19:55.264Z"
   },
   {
    "duration": 61,
    "start_time": "2023-05-25T05:19:55.307Z"
   },
   {
    "duration": 5,
    "start_time": "2023-05-25T05:19:55.370Z"
   },
   {
    "duration": 56,
    "start_time": "2023-05-25T05:19:55.377Z"
   },
   {
    "duration": 39,
    "start_time": "2023-05-25T05:19:55.435Z"
   },
   {
    "duration": 20,
    "start_time": "2023-05-25T05:19:55.477Z"
   },
   {
    "duration": 45,
    "start_time": "2023-05-25T05:19:55.499Z"
   },
   {
    "duration": 18,
    "start_time": "2023-05-25T05:19:55.546Z"
   },
   {
    "duration": 18,
    "start_time": "2023-05-25T05:19:55.566Z"
   },
   {
    "duration": 47,
    "start_time": "2023-05-25T05:19:55.586Z"
   },
   {
    "duration": 24,
    "start_time": "2023-05-25T05:19:55.634Z"
   },
   {
    "duration": 22,
    "start_time": "2023-05-25T05:19:55.660Z"
   },
   {
    "duration": 233,
    "start_time": "2023-05-25T05:19:55.684Z"
   },
   {
    "duration": 38,
    "start_time": "2023-05-25T05:19:55.919Z"
   },
   {
    "duration": 52,
    "start_time": "2023-05-25T05:19:55.959Z"
   },
   {
    "duration": 23,
    "start_time": "2023-05-25T05:19:56.012Z"
   },
   {
    "duration": 23,
    "start_time": "2023-05-25T05:19:56.037Z"
   },
   {
    "duration": 11,
    "start_time": "2023-05-25T05:19:56.062Z"
   },
   {
    "duration": 26,
    "start_time": "2023-05-25T05:19:56.075Z"
   },
   {
    "duration": 12,
    "start_time": "2023-05-25T05:19:56.102Z"
   },
   {
    "duration": 13,
    "start_time": "2023-05-25T05:19:56.115Z"
   },
   {
    "duration": 225,
    "start_time": "2023-05-25T05:19:56.130Z"
   },
   {
    "duration": 17,
    "start_time": "2023-05-25T05:19:56.356Z"
   },
   {
    "duration": 47,
    "start_time": "2023-05-25T05:19:56.377Z"
   },
   {
    "duration": 19,
    "start_time": "2023-05-25T05:19:56.426Z"
   },
   {
    "duration": 13,
    "start_time": "2023-05-25T05:19:56.446Z"
   },
   {
    "duration": 14,
    "start_time": "2023-05-25T05:19:56.461Z"
   },
   {
    "duration": 7,
    "start_time": "2023-05-25T05:19:56.477Z"
   },
   {
    "duration": 14,
    "start_time": "2023-05-25T05:19:56.485Z"
   },
   {
    "duration": 0,
    "start_time": "2023-05-25T05:19:56.525Z"
   },
   {
    "duration": 0,
    "start_time": "2023-05-25T05:19:56.526Z"
   },
   {
    "duration": 0,
    "start_time": "2023-05-25T05:19:56.527Z"
   },
   {
    "duration": 0,
    "start_time": "2023-05-25T05:19:56.528Z"
   },
   {
    "duration": 0,
    "start_time": "2023-05-25T05:19:56.529Z"
   },
   {
    "duration": 0,
    "start_time": "2023-05-25T05:19:56.530Z"
   },
   {
    "duration": 0,
    "start_time": "2023-05-25T05:19:56.531Z"
   },
   {
    "duration": 0,
    "start_time": "2023-05-25T05:19:56.532Z"
   },
   {
    "duration": 0,
    "start_time": "2023-05-25T05:19:56.532Z"
   },
   {
    "duration": 0,
    "start_time": "2023-05-25T05:19:56.534Z"
   },
   {
    "duration": 0,
    "start_time": "2023-05-25T05:19:56.535Z"
   },
   {
    "duration": 0,
    "start_time": "2023-05-25T05:19:56.536Z"
   },
   {
    "duration": 0,
    "start_time": "2023-05-25T05:19:56.537Z"
   },
   {
    "duration": 0,
    "start_time": "2023-05-25T05:19:56.538Z"
   },
   {
    "duration": 0,
    "start_time": "2023-05-25T05:19:56.539Z"
   },
   {
    "duration": 0,
    "start_time": "2023-05-25T05:19:56.540Z"
   },
   {
    "duration": 0,
    "start_time": "2023-05-25T05:19:56.542Z"
   },
   {
    "duration": 0,
    "start_time": "2023-05-25T05:19:56.543Z"
   },
   {
    "duration": 0,
    "start_time": "2023-05-25T05:19:56.544Z"
   },
   {
    "duration": 0,
    "start_time": "2023-05-25T05:19:56.545Z"
   },
   {
    "duration": 0,
    "start_time": "2023-05-25T05:19:56.546Z"
   },
   {
    "duration": 0,
    "start_time": "2023-05-25T05:19:56.547Z"
   },
   {
    "duration": 0,
    "start_time": "2023-05-25T05:19:56.548Z"
   },
   {
    "duration": 0,
    "start_time": "2023-05-25T05:19:56.549Z"
   },
   {
    "duration": 0,
    "start_time": "2023-05-25T05:19:56.550Z"
   },
   {
    "duration": 0,
    "start_time": "2023-05-25T05:19:56.551Z"
   },
   {
    "duration": 0,
    "start_time": "2023-05-25T05:19:56.553Z"
   },
   {
    "duration": 0,
    "start_time": "2023-05-25T05:19:56.554Z"
   },
   {
    "duration": 0,
    "start_time": "2023-05-25T05:19:56.555Z"
   },
   {
    "duration": 0,
    "start_time": "2023-05-25T05:19:56.556Z"
   },
   {
    "duration": 0,
    "start_time": "2023-05-25T05:19:56.558Z"
   },
   {
    "duration": 0,
    "start_time": "2023-05-25T05:19:56.558Z"
   },
   {
    "duration": 0,
    "start_time": "2023-05-25T05:19:56.559Z"
   },
   {
    "duration": 0,
    "start_time": "2023-05-25T05:19:56.560Z"
   },
   {
    "duration": 0,
    "start_time": "2023-05-25T05:19:56.561Z"
   },
   {
    "duration": 0,
    "start_time": "2023-05-25T05:19:56.625Z"
   },
   {
    "duration": 0,
    "start_time": "2023-05-25T05:19:56.626Z"
   },
   {
    "duration": 0,
    "start_time": "2023-05-25T05:19:56.627Z"
   },
   {
    "duration": 0,
    "start_time": "2023-05-25T05:19:56.628Z"
   },
   {
    "duration": 0,
    "start_time": "2023-05-25T05:19:56.629Z"
   },
   {
    "duration": 0,
    "start_time": "2023-05-25T05:19:56.630Z"
   },
   {
    "duration": 0,
    "start_time": "2023-05-25T05:19:56.631Z"
   },
   {
    "duration": 0,
    "start_time": "2023-05-25T05:19:56.632Z"
   },
   {
    "duration": 0,
    "start_time": "2023-05-25T05:19:56.633Z"
   },
   {
    "duration": 0,
    "start_time": "2023-05-25T05:19:56.634Z"
   },
   {
    "duration": 0,
    "start_time": "2023-05-25T05:19:56.635Z"
   },
   {
    "duration": 0,
    "start_time": "2023-05-25T05:19:56.636Z"
   },
   {
    "duration": 0,
    "start_time": "2023-05-25T05:19:56.637Z"
   },
   {
    "duration": 178,
    "start_time": "2023-05-25T05:20:19.968Z"
   },
   {
    "duration": 267,
    "start_time": "2023-05-25T05:20:39.671Z"
   },
   {
    "duration": 5,
    "start_time": "2023-05-25T05:20:43.896Z"
   },
   {
    "duration": 140,
    "start_time": "2023-05-25T05:20:43.903Z"
   },
   {
    "duration": 12,
    "start_time": "2023-05-25T05:20:44.045Z"
   },
   {
    "duration": 29,
    "start_time": "2023-05-25T05:20:44.060Z"
   },
   {
    "duration": 35,
    "start_time": "2023-05-25T05:20:44.091Z"
   },
   {
    "duration": 7,
    "start_time": "2023-05-25T05:20:44.128Z"
   },
   {
    "duration": 41,
    "start_time": "2023-05-25T05:20:44.137Z"
   },
   {
    "duration": 6,
    "start_time": "2023-05-25T05:20:44.180Z"
   },
   {
    "duration": 53,
    "start_time": "2023-05-25T05:20:44.187Z"
   },
   {
    "duration": 23,
    "start_time": "2023-05-25T05:20:44.244Z"
   },
   {
    "duration": 17,
    "start_time": "2023-05-25T05:20:44.269Z"
   },
   {
    "duration": 59,
    "start_time": "2023-05-25T05:20:44.288Z"
   },
   {
    "duration": 19,
    "start_time": "2023-05-25T05:20:44.349Z"
   },
   {
    "duration": 3,
    "start_time": "2023-05-25T05:20:44.371Z"
   },
   {
    "duration": 52,
    "start_time": "2023-05-25T05:20:44.376Z"
   },
   {
    "duration": 27,
    "start_time": "2023-05-25T05:20:44.430Z"
   },
   {
    "duration": 11,
    "start_time": "2023-05-25T05:20:44.458Z"
   },
   {
    "duration": 301,
    "start_time": "2023-05-25T05:20:44.470Z"
   },
   {
    "duration": 54,
    "start_time": "2023-05-25T05:20:44.773Z"
   },
   {
    "duration": 32,
    "start_time": "2023-05-25T05:20:44.829Z"
   },
   {
    "duration": 35,
    "start_time": "2023-05-25T05:20:44.863Z"
   },
   {
    "duration": 54,
    "start_time": "2023-05-25T05:20:44.900Z"
   },
   {
    "duration": 27,
    "start_time": "2023-05-25T05:20:44.956Z"
   },
   {
    "duration": 31,
    "start_time": "2023-05-25T05:20:44.985Z"
   },
   {
    "duration": 37,
    "start_time": "2023-05-25T05:20:45.018Z"
   },
   {
    "duration": 45,
    "start_time": "2023-05-25T05:20:45.057Z"
   },
   {
    "duration": 308,
    "start_time": "2023-05-25T05:20:45.104Z"
   },
   {
    "duration": 20,
    "start_time": "2023-05-25T05:20:45.416Z"
   },
   {
    "duration": 44,
    "start_time": "2023-05-25T05:20:45.438Z"
   },
   {
    "duration": 21,
    "start_time": "2023-05-25T05:20:45.484Z"
   },
   {
    "duration": 40,
    "start_time": "2023-05-25T05:20:45.507Z"
   },
   {
    "duration": 77,
    "start_time": "2023-05-25T05:20:45.549Z"
   },
   {
    "duration": 69,
    "start_time": "2023-05-25T05:20:45.628Z"
   },
   {
    "duration": 221,
    "start_time": "2023-05-25T05:20:45.700Z"
   },
   {
    "duration": 18,
    "start_time": "2023-05-25T05:20:45.924Z"
   },
   {
    "duration": 242,
    "start_time": "2023-05-25T05:20:45.944Z"
   },
   {
    "duration": 18,
    "start_time": "2023-05-25T05:20:46.188Z"
   },
   {
    "duration": 40,
    "start_time": "2023-05-25T05:20:46.208Z"
   },
   {
    "duration": 53,
    "start_time": "2023-05-25T05:20:46.251Z"
   },
   {
    "duration": 38,
    "start_time": "2023-05-25T05:20:46.306Z"
   },
   {
    "duration": 38,
    "start_time": "2023-05-25T05:20:46.346Z"
   },
   {
    "duration": 86,
    "start_time": "2023-05-25T05:20:46.386Z"
   },
   {
    "duration": 44,
    "start_time": "2023-05-25T05:20:46.474Z"
   },
   {
    "duration": 64,
    "start_time": "2023-05-25T05:20:46.521Z"
   },
   {
    "duration": 8,
    "start_time": "2023-05-25T05:20:46.587Z"
   },
   {
    "duration": 25,
    "start_time": "2023-05-25T05:20:46.597Z"
   },
   {
    "duration": 32,
    "start_time": "2023-05-25T05:20:46.624Z"
   },
   {
    "duration": 27,
    "start_time": "2023-05-25T05:20:46.658Z"
   },
   {
    "duration": 425,
    "start_time": "2023-05-25T05:20:46.686Z"
   },
   {
    "duration": 11,
    "start_time": "2023-05-25T05:20:47.113Z"
   },
   {
    "duration": 71,
    "start_time": "2023-05-25T05:20:47.126Z"
   },
   {
    "duration": 39,
    "start_time": "2023-05-25T05:20:47.198Z"
   },
   {
    "duration": 24,
    "start_time": "2023-05-25T05:20:47.239Z"
   },
   {
    "duration": 23,
    "start_time": "2023-05-25T05:20:47.265Z"
   },
   {
    "duration": 40,
    "start_time": "2023-05-25T05:20:47.289Z"
   },
   {
    "duration": 12,
    "start_time": "2023-05-25T05:20:47.330Z"
   },
   {
    "duration": 34,
    "start_time": "2023-05-25T05:20:47.344Z"
   },
   {
    "duration": 21,
    "start_time": "2023-05-25T05:20:47.379Z"
   },
   {
    "duration": 92,
    "start_time": "2023-05-25T05:20:47.402Z"
   },
   {
    "duration": 34,
    "start_time": "2023-05-25T05:20:47.495Z"
   },
   {
    "duration": 19,
    "start_time": "2023-05-25T05:20:47.531Z"
   },
   {
    "duration": 327,
    "start_time": "2023-05-25T05:20:47.551Z"
   },
   {
    "duration": 394,
    "start_time": "2023-05-25T05:20:47.879Z"
   },
   {
    "duration": 407,
    "start_time": "2023-05-25T05:20:48.274Z"
   },
   {
    "duration": 6,
    "start_time": "2023-05-25T05:20:48.682Z"
   },
   {
    "duration": 19,
    "start_time": "2023-05-25T05:20:48.690Z"
   },
   {
    "duration": 26,
    "start_time": "2023-05-25T05:20:48.710Z"
   },
   {
    "duration": 23,
    "start_time": "2023-05-25T05:20:48.738Z"
   },
   {
    "duration": 16,
    "start_time": "2023-05-25T05:20:48.764Z"
   },
   {
    "duration": 28,
    "start_time": "2023-05-25T05:20:48.782Z"
   },
   {
    "duration": 16,
    "start_time": "2023-05-25T05:20:48.812Z"
   },
   {
    "duration": 18,
    "start_time": "2023-05-25T05:20:48.830Z"
   },
   {
    "duration": 30,
    "start_time": "2023-05-25T05:20:48.850Z"
   },
   {
    "duration": 11,
    "start_time": "2023-05-25T05:20:48.882Z"
   },
   {
    "duration": 30,
    "start_time": "2023-05-25T05:20:48.895Z"
   },
   {
    "duration": 11,
    "start_time": "2023-05-25T05:20:48.927Z"
   },
   {
    "duration": 15,
    "start_time": "2023-05-25T05:20:48.939Z"
   },
   {
    "duration": 37,
    "start_time": "2023-05-25T05:20:48.956Z"
   },
   {
    "duration": 37,
    "start_time": "2023-05-25T05:20:48.995Z"
   },
   {
    "duration": 32,
    "start_time": "2023-05-25T05:20:49.034Z"
   },
   {
    "duration": 73,
    "start_time": "2023-05-25T05:20:49.068Z"
   },
   {
    "duration": 64,
    "start_time": "2023-05-25T05:20:49.146Z"
   },
   {
    "duration": 78,
    "start_time": "2023-05-25T05:21:08.712Z"
   },
   {
    "duration": 1426,
    "start_time": "2023-05-26T06:55:25.292Z"
   },
   {
    "duration": 457,
    "start_time": "2023-05-26T06:55:26.720Z"
   },
   {
    "duration": 14,
    "start_time": "2023-05-26T06:55:27.179Z"
   },
   {
    "duration": 19,
    "start_time": "2023-05-26T06:55:27.194Z"
   },
   {
    "duration": 5,
    "start_time": "2023-05-26T06:55:27.215Z"
   },
   {
    "duration": 33,
    "start_time": "2023-05-26T06:55:27.221Z"
   },
   {
    "duration": 41,
    "start_time": "2023-05-26T06:55:27.255Z"
   },
   {
    "duration": 4,
    "start_time": "2023-05-26T06:55:27.298Z"
   },
   {
    "duration": 46,
    "start_time": "2023-05-26T06:55:27.303Z"
   },
   {
    "duration": 30,
    "start_time": "2023-05-26T06:55:27.350Z"
   },
   {
    "duration": 46,
    "start_time": "2023-05-26T06:55:27.381Z"
   },
   {
    "duration": 56,
    "start_time": "2023-05-26T06:55:27.429Z"
   },
   {
    "duration": 22,
    "start_time": "2023-05-26T06:55:27.486Z"
   },
   {
    "duration": 3,
    "start_time": "2023-05-26T06:55:27.511Z"
   },
   {
    "duration": 37,
    "start_time": "2023-05-26T06:55:27.515Z"
   },
   {
    "duration": 18,
    "start_time": "2023-05-26T06:55:27.553Z"
   },
   {
    "duration": 24,
    "start_time": "2023-05-26T06:55:27.573Z"
   },
   {
    "duration": 234,
    "start_time": "2023-05-26T06:55:27.599Z"
   },
   {
    "duration": 33,
    "start_time": "2023-05-26T06:55:27.835Z"
   },
   {
    "duration": 29,
    "start_time": "2023-05-26T06:55:27.870Z"
   },
   {
    "duration": 22,
    "start_time": "2023-05-26T06:55:27.900Z"
   },
   {
    "duration": 33,
    "start_time": "2023-05-26T06:55:27.923Z"
   },
   {
    "duration": 9,
    "start_time": "2023-05-26T06:55:27.958Z"
   },
   {
    "duration": 23,
    "start_time": "2023-05-26T06:55:27.969Z"
   },
   {
    "duration": 5,
    "start_time": "2023-05-26T06:55:27.994Z"
   },
   {
    "duration": 17,
    "start_time": "2023-05-26T06:55:28.000Z"
   },
   {
    "duration": 282,
    "start_time": "2023-05-26T06:55:28.019Z"
   },
   {
    "duration": 14,
    "start_time": "2023-05-26T06:55:28.303Z"
   },
   {
    "duration": 47,
    "start_time": "2023-05-26T06:55:28.318Z"
   },
   {
    "duration": 26,
    "start_time": "2023-05-26T06:55:28.366Z"
   },
   {
    "duration": 12,
    "start_time": "2023-05-26T06:55:28.393Z"
   },
   {
    "duration": 16,
    "start_time": "2023-05-26T06:55:28.406Z"
   },
   {
    "duration": 9,
    "start_time": "2023-05-26T06:55:28.424Z"
   },
   {
    "duration": 166,
    "start_time": "2023-05-26T06:55:28.434Z"
   },
   {
    "duration": 8,
    "start_time": "2023-05-26T06:55:28.602Z"
   },
   {
    "duration": 200,
    "start_time": "2023-05-26T06:55:28.611Z"
   },
   {
    "duration": 16,
    "start_time": "2023-05-26T06:55:28.812Z"
   },
   {
    "duration": 24,
    "start_time": "2023-05-26T06:55:28.829Z"
   },
   {
    "duration": 48,
    "start_time": "2023-05-26T06:55:28.855Z"
   },
   {
    "duration": 15,
    "start_time": "2023-05-26T06:55:28.905Z"
   },
   {
    "duration": 19,
    "start_time": "2023-05-26T06:55:28.924Z"
   },
   {
    "duration": 16,
    "start_time": "2023-05-26T06:55:28.945Z"
   },
   {
    "duration": 35,
    "start_time": "2023-05-26T06:55:28.963Z"
   },
   {
    "duration": 32,
    "start_time": "2023-05-26T06:55:28.999Z"
   },
   {
    "duration": 7,
    "start_time": "2023-05-26T06:55:29.033Z"
   },
   {
    "duration": 7,
    "start_time": "2023-05-26T06:55:29.042Z"
   },
   {
    "duration": 35,
    "start_time": "2023-05-26T06:55:29.051Z"
   },
   {
    "duration": 31,
    "start_time": "2023-05-26T06:55:29.087Z"
   },
   {
    "duration": 414,
    "start_time": "2023-05-26T06:55:29.120Z"
   },
   {
    "duration": 5,
    "start_time": "2023-05-26T06:55:29.535Z"
   },
   {
    "duration": 15,
    "start_time": "2023-05-26T06:55:29.542Z"
   },
   {
    "duration": 28,
    "start_time": "2023-05-26T06:55:29.558Z"
   },
   {
    "duration": 19,
    "start_time": "2023-05-26T06:55:29.588Z"
   },
   {
    "duration": 22,
    "start_time": "2023-05-26T06:55:29.609Z"
   },
   {
    "duration": 16,
    "start_time": "2023-05-26T06:55:29.632Z"
   },
   {
    "duration": 8,
    "start_time": "2023-05-26T06:55:29.649Z"
   },
   {
    "duration": 19,
    "start_time": "2023-05-26T06:55:29.685Z"
   },
   {
    "duration": 22,
    "start_time": "2023-05-26T06:55:29.705Z"
   },
   {
    "duration": 21,
    "start_time": "2023-05-26T06:55:29.729Z"
   },
   {
    "duration": 17,
    "start_time": "2023-05-26T06:55:29.751Z"
   },
   {
    "duration": 22,
    "start_time": "2023-05-26T06:55:29.769Z"
   },
   {
    "duration": 314,
    "start_time": "2023-05-26T06:55:29.792Z"
   },
   {
    "duration": 321,
    "start_time": "2023-05-26T06:55:30.107Z"
   },
   {
    "duration": 310,
    "start_time": "2023-05-26T06:55:30.430Z"
   },
   {
    "duration": 6,
    "start_time": "2023-05-26T06:55:30.742Z"
   },
   {
    "duration": 40,
    "start_time": "2023-05-26T06:55:30.750Z"
   },
   {
    "duration": 44,
    "start_time": "2023-05-26T06:55:30.792Z"
   },
   {
    "duration": 56,
    "start_time": "2023-05-26T06:55:30.837Z"
   },
   {
    "duration": 49,
    "start_time": "2023-05-26T06:55:30.894Z"
   },
   {
    "duration": 64,
    "start_time": "2023-05-26T06:55:30.944Z"
   },
   {
    "duration": 97,
    "start_time": "2023-05-26T06:55:31.009Z"
   },
   {
    "duration": 99,
    "start_time": "2023-05-26T06:55:31.107Z"
   },
   {
    "duration": 50,
    "start_time": "2023-05-26T06:55:31.208Z"
   },
   {
    "duration": 40,
    "start_time": "2023-05-26T06:55:31.260Z"
   },
   {
    "duration": 70,
    "start_time": "2023-05-26T06:55:31.301Z"
   },
   {
    "duration": 44,
    "start_time": "2023-05-26T06:55:31.373Z"
   },
   {
    "duration": 40,
    "start_time": "2023-05-26T06:55:31.418Z"
   },
   {
    "duration": 42,
    "start_time": "2023-05-26T06:55:31.460Z"
   },
   {
    "duration": 32,
    "start_time": "2023-05-26T06:55:31.504Z"
   },
   {
    "duration": 73,
    "start_time": "2023-05-26T06:55:31.538Z"
   },
   {
    "duration": 103,
    "start_time": "2023-05-26T06:55:31.613Z"
   },
   {
    "duration": 127,
    "start_time": "2023-05-26T06:55:31.718Z"
   }
  ],
  "kernelspec": {
   "display_name": "Python 3 (ipykernel)",
   "language": "python",
   "name": "python3"
  },
  "language_info": {
   "codemirror_mode": {
    "name": "ipython",
    "version": 3
   },
   "file_extension": ".py",
   "mimetype": "text/x-python",
   "name": "python",
   "nbconvert_exporter": "python",
   "pygments_lexer": "ipython3",
   "version": "3.9.13"
  },
  "toc": {
   "base_numbering": 1,
   "nav_menu": {},
   "number_sections": true,
   "sideBar": true,
   "skip_h1_title": true,
   "title_cell": "Table of Contents",
   "title_sidebar": "Contents",
   "toc_cell": false,
   "toc_position": {
    "height": "calc(100% - 180px)",
    "left": "10px",
    "top": "150px",
    "width": "323px"
   },
   "toc_section_display": true,
   "toc_window_display": true
  }
 },
 "nbformat": 4,
 "nbformat_minor": 2
}
