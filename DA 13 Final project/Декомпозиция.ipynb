{
 "cells": [
  {
   "cell_type": "markdown",
   "metadata": {},
   "source": [
    "# Декомпозиция"
   ]
  },
  {
   "cell_type": "markdown",
   "metadata": {},
   "source": [
    "**План исследования:**\n",
    "\n",
    "**Описание проекта**\n",
    "* Описать поставленные цели и задачи\n",
    "\n",
    "**Описание данных**\n",
    "* Полное описание датасета\n",
    "\n",
    "**Загрузка данных и их изучение**\n",
    "* Обзор таблиц на их размер и содержание\n",
    "* Обзор на полноту данных\n",
    "* Проверка типов данных\n",
    "\n",
    "**Предобработка данных**\n",
    "* Изменение типов данных\n",
    "* Приведение названий столбцов к правильному формату\n",
    "* Удаление дубликатов\n",
    "* Заполнение/удаление пропусков\n",
    "\n",
    "**Исследовательский анализ данных**\n",
    "* Исследовать общее поевдение пользователей: Retentanion Rate, время, проведённое в приложении, частота, конверсия\n",
    "* Сделать промежуточные выводы для того, чтобы можно было присутпить к следующему этапу (сегментация)\n",
    "\n",
    "**Сегментация пользователей на группы на основе их действий**\n",
    "* Выделить 3-4 группы пользователей, отличающихся в зависимости от своих действий в приложении и конечного результата\n",
    "* Для каждой группы посчитать Ratention Rate и конверсию \n",
    "* Убедиться в том, что разделение было верным (данные должны отличаться в зависимости от группы, в которой находится пользователь)\n",
    "\n",
    "**Формулировка гипотез и их проверка** \n",
    "* Проверка гипотезы (конверсия в просмотры контактов различается у групп `tips_show` и `tips_click`)\n",
    "* Формулировка и проверка собственной гипотезы (пользователи, пользующиеся `tips_click` и `tips_show` имеют статистическую значимость в целевом действии)\n",
    "\n",
    "**Выводы**\n",
    "\n",
    "**Рекомендации**\n",
    "\n",
    "**Построение дашборда**\n",
    "\n",
    "**Подготовка презентации**"
   ]
  },
  {
   "cell_type": "code",
   "execution_count": 2,
   "metadata": {},
   "outputs": [],
   "source": [
    "import pandas as pd\n",
    "import matplotlib.pyplot as plt\n",
    "import numpy as np\n",
    "import seaborn as sns\n",
    "from scipy import stats as st\n",
    "import math as mth\n",
    "import matplotlib.ticker as mtick\n",
    "import warnings\n",
    "import plotly.express as px\n",
    "from plotly import graph_objects as go\n",
    "warnings.filterwarnings('ignore')\n",
    "pd.set_option('display.max_colwidth', False)"
   ]
  },
  {
   "cell_type": "code",
   "execution_count": 3,
   "metadata": {},
   "outputs": [],
   "source": [
    "df_dataset = pd.read_csv('/datasets/mobile_dataset.csv')\n",
    "df_soures = pd.read_csv('/datasets/mobile_soures.csv')"
   ]
  },
  {
   "cell_type": "code",
   "execution_count": 4,
   "metadata": {},
   "outputs": [
    {
     "data": {
      "text/html": [
       "<div>\n",
       "<style scoped>\n",
       "    .dataframe tbody tr th:only-of-type {\n",
       "        vertical-align: middle;\n",
       "    }\n",
       "\n",
       "    .dataframe tbody tr th {\n",
       "        vertical-align: top;\n",
       "    }\n",
       "\n",
       "    .dataframe thead th {\n",
       "        text-align: right;\n",
       "    }\n",
       "</style>\n",
       "<table border=\"1\" class=\"dataframe\">\n",
       "  <thead>\n",
       "    <tr style=\"text-align: right;\">\n",
       "      <th></th>\n",
       "      <th>event.time</th>\n",
       "      <th>event.name</th>\n",
       "      <th>user.id</th>\n",
       "    </tr>\n",
       "  </thead>\n",
       "  <tbody>\n",
       "    <tr>\n",
       "      <th>0</th>\n",
       "      <td>2019-10-07 00:00:00.431357</td>\n",
       "      <td>advert_open</td>\n",
       "      <td>020292ab-89bc-4156-9acf-68bc2783f894</td>\n",
       "    </tr>\n",
       "    <tr>\n",
       "      <th>1</th>\n",
       "      <td>2019-10-07 00:00:01.236320</td>\n",
       "      <td>tips_show</td>\n",
       "      <td>020292ab-89bc-4156-9acf-68bc2783f894</td>\n",
       "    </tr>\n",
       "    <tr>\n",
       "      <th>2</th>\n",
       "      <td>2019-10-07 00:00:02.245341</td>\n",
       "      <td>tips_show</td>\n",
       "      <td>cf7eda61-9349-469f-ac27-e5b6f5ec475c</td>\n",
       "    </tr>\n",
       "    <tr>\n",
       "      <th>3</th>\n",
       "      <td>2019-10-07 00:00:07.039334</td>\n",
       "      <td>tips_show</td>\n",
       "      <td>020292ab-89bc-4156-9acf-68bc2783f894</td>\n",
       "    </tr>\n",
       "    <tr>\n",
       "      <th>4</th>\n",
       "      <td>2019-10-07 00:00:56.319813</td>\n",
       "      <td>advert_open</td>\n",
       "      <td>cf7eda61-9349-469f-ac27-e5b6f5ec475c</td>\n",
       "    </tr>\n",
       "    <tr>\n",
       "      <th>5</th>\n",
       "      <td>2019-10-07 00:01:19.993624</td>\n",
       "      <td>tips_show</td>\n",
       "      <td>cf7eda61-9349-469f-ac27-e5b6f5ec475c</td>\n",
       "    </tr>\n",
       "    <tr>\n",
       "      <th>6</th>\n",
       "      <td>2019-10-07 00:01:27.770232</td>\n",
       "      <td>advert_open</td>\n",
       "      <td>020292ab-89bc-4156-9acf-68bc2783f894</td>\n",
       "    </tr>\n",
       "    <tr>\n",
       "      <th>7</th>\n",
       "      <td>2019-10-07 00:01:34.804591</td>\n",
       "      <td>tips_show</td>\n",
       "      <td>020292ab-89bc-4156-9acf-68bc2783f894</td>\n",
       "    </tr>\n",
       "    <tr>\n",
       "      <th>8</th>\n",
       "      <td>2019-10-07 00:01:49.732803</td>\n",
       "      <td>advert_open</td>\n",
       "      <td>cf7eda61-9349-469f-ac27-e5b6f5ec475c</td>\n",
       "    </tr>\n",
       "    <tr>\n",
       "      <th>9</th>\n",
       "      <td>2019-10-07 00:01:54.958298</td>\n",
       "      <td>advert_open</td>\n",
       "      <td>020292ab-89bc-4156-9acf-68bc2783f894</td>\n",
       "    </tr>\n",
       "  </tbody>\n",
       "</table>\n",
       "</div>"
      ],
      "text/plain": [
       "                   event.time   event.name  \\\n",
       "0  2019-10-07 00:00:00.431357  advert_open   \n",
       "1  2019-10-07 00:00:01.236320  tips_show     \n",
       "2  2019-10-07 00:00:02.245341  tips_show     \n",
       "3  2019-10-07 00:00:07.039334  tips_show     \n",
       "4  2019-10-07 00:00:56.319813  advert_open   \n",
       "5  2019-10-07 00:01:19.993624  tips_show     \n",
       "6  2019-10-07 00:01:27.770232  advert_open   \n",
       "7  2019-10-07 00:01:34.804591  tips_show     \n",
       "8  2019-10-07 00:01:49.732803  advert_open   \n",
       "9  2019-10-07 00:01:54.958298  advert_open   \n",
       "\n",
       "                                user.id  \n",
       "0  020292ab-89bc-4156-9acf-68bc2783f894  \n",
       "1  020292ab-89bc-4156-9acf-68bc2783f894  \n",
       "2  cf7eda61-9349-469f-ac27-e5b6f5ec475c  \n",
       "3  020292ab-89bc-4156-9acf-68bc2783f894  \n",
       "4  cf7eda61-9349-469f-ac27-e5b6f5ec475c  \n",
       "5  cf7eda61-9349-469f-ac27-e5b6f5ec475c  \n",
       "6  020292ab-89bc-4156-9acf-68bc2783f894  \n",
       "7  020292ab-89bc-4156-9acf-68bc2783f894  \n",
       "8  cf7eda61-9349-469f-ac27-e5b6f5ec475c  \n",
       "9  020292ab-89bc-4156-9acf-68bc2783f894  "
      ]
     },
     "metadata": {},
     "output_type": "display_data"
    },
    {
     "data": {
      "text/html": [
       "<div>\n",
       "<style scoped>\n",
       "    .dataframe tbody tr th:only-of-type {\n",
       "        vertical-align: middle;\n",
       "    }\n",
       "\n",
       "    .dataframe tbody tr th {\n",
       "        vertical-align: top;\n",
       "    }\n",
       "\n",
       "    .dataframe thead th {\n",
       "        text-align: right;\n",
       "    }\n",
       "</style>\n",
       "<table border=\"1\" class=\"dataframe\">\n",
       "  <thead>\n",
       "    <tr style=\"text-align: right;\">\n",
       "      <th></th>\n",
       "      <th>userId</th>\n",
       "      <th>source</th>\n",
       "    </tr>\n",
       "  </thead>\n",
       "  <tbody>\n",
       "    <tr>\n",
       "      <th>0</th>\n",
       "      <td>020292ab-89bc-4156-9acf-68bc2783f894</td>\n",
       "      <td>other</td>\n",
       "    </tr>\n",
       "    <tr>\n",
       "      <th>1</th>\n",
       "      <td>cf7eda61-9349-469f-ac27-e5b6f5ec475c</td>\n",
       "      <td>yandex</td>\n",
       "    </tr>\n",
       "    <tr>\n",
       "      <th>2</th>\n",
       "      <td>8c356c42-3ba9-4cb6-80b8-3f868d0192c3</td>\n",
       "      <td>yandex</td>\n",
       "    </tr>\n",
       "    <tr>\n",
       "      <th>3</th>\n",
       "      <td>d9b06b47-0f36-419b-bbb0-3533e582a6cb</td>\n",
       "      <td>other</td>\n",
       "    </tr>\n",
       "    <tr>\n",
       "      <th>4</th>\n",
       "      <td>f32e1e2a-3027-4693-b793-b7b3ff274439</td>\n",
       "      <td>google</td>\n",
       "    </tr>\n",
       "    <tr>\n",
       "      <th>5</th>\n",
       "      <td>17f6b2db-2964-4d11-89d8-7e38d2cb4750</td>\n",
       "      <td>yandex</td>\n",
       "    </tr>\n",
       "    <tr>\n",
       "      <th>6</th>\n",
       "      <td>62aa104f-592d-4ccb-8226-2ba0e719ded5</td>\n",
       "      <td>yandex</td>\n",
       "    </tr>\n",
       "    <tr>\n",
       "      <th>7</th>\n",
       "      <td>57321726-5d66-4d51-84f4-c797c35dcf2b</td>\n",
       "      <td>google</td>\n",
       "    </tr>\n",
       "    <tr>\n",
       "      <th>8</th>\n",
       "      <td>c2cf55c0-95f7-4269-896c-931d14deaab5</td>\n",
       "      <td>google</td>\n",
       "    </tr>\n",
       "    <tr>\n",
       "      <th>9</th>\n",
       "      <td>48e614d6-fe03-40f7-bf9e-4c4f61c19f64</td>\n",
       "      <td>yandex</td>\n",
       "    </tr>\n",
       "  </tbody>\n",
       "</table>\n",
       "</div>"
      ],
      "text/plain": [
       "                                 userId  source\n",
       "0  020292ab-89bc-4156-9acf-68bc2783f894  other \n",
       "1  cf7eda61-9349-469f-ac27-e5b6f5ec475c  yandex\n",
       "2  8c356c42-3ba9-4cb6-80b8-3f868d0192c3  yandex\n",
       "3  d9b06b47-0f36-419b-bbb0-3533e582a6cb  other \n",
       "4  f32e1e2a-3027-4693-b793-b7b3ff274439  google\n",
       "5  17f6b2db-2964-4d11-89d8-7e38d2cb4750  yandex\n",
       "6  62aa104f-592d-4ccb-8226-2ba0e719ded5  yandex\n",
       "7  57321726-5d66-4d51-84f4-c797c35dcf2b  google\n",
       "8  c2cf55c0-95f7-4269-896c-931d14deaab5  google\n",
       "9  48e614d6-fe03-40f7-bf9e-4c4f61c19f64  yandex"
      ]
     },
     "metadata": {},
     "output_type": "display_data"
    }
   ],
   "source": [
    "display(df_dataset.head(10))\n",
    "display(df_soures.head(10))"
   ]
  },
  {
   "cell_type": "code",
   "execution_count": 5,
   "metadata": {},
   "outputs": [
    {
     "data": {
      "text/plain": [
       "array(['other', 'yandex', 'google'], dtype=object)"
      ]
     },
     "execution_count": 5,
     "metadata": {},
     "output_type": "execute_result"
    }
   ],
   "source": [
    "df_soures['source'].unique()"
   ]
  }
 ],
 "metadata": {
  "ExecuteTimeLog": [
   {
    "duration": 1374,
    "start_time": "2023-05-15T07:50:27.805Z"
   },
   {
    "duration": 727,
    "start_time": "2023-05-15T08:29:00.676Z"
   },
   {
    "duration": 11,
    "start_time": "2023-05-15T08:29:10.923Z"
   },
   {
    "duration": 177,
    "start_time": "2023-05-15T08:29:27.445Z"
   },
   {
    "duration": 7,
    "start_time": "2023-05-15T08:29:28.483Z"
   },
   {
    "duration": 165,
    "start_time": "2023-05-15T08:29:54.311Z"
   },
   {
    "duration": 106,
    "start_time": "2023-05-15T08:30:11.029Z"
   },
   {
    "duration": 13,
    "start_time": "2023-05-15T08:30:20.409Z"
   },
   {
    "duration": 115,
    "start_time": "2023-05-15T08:31:37.992Z"
   },
   {
    "duration": 13,
    "start_time": "2023-05-15T08:31:38.659Z"
   },
   {
    "duration": 50,
    "start_time": "2023-05-16T03:31:51.051Z"
   },
   {
    "duration": 1437,
    "start_time": "2023-05-16T03:31:58.938Z"
   },
   {
    "duration": 240,
    "start_time": "2023-05-16T03:32:00.377Z"
   },
   {
    "duration": 17,
    "start_time": "2023-05-16T03:32:00.619Z"
   },
   {
    "duration": 28,
    "start_time": "2023-05-16T03:32:00.638Z"
   },
   {
    "duration": 58,
    "start_time": "2023-05-16T03:42:01.978Z"
   },
   {
    "duration": 86,
    "start_time": "2023-05-17T01:47:43.052Z"
   }
  ],
  "kernelspec": {
   "display_name": "Python 3 (ipykernel)",
   "language": "python",
   "name": "python3"
  },
  "language_info": {
   "codemirror_mode": {
    "name": "ipython",
    "version": 3
   },
   "file_extension": ".py",
   "mimetype": "text/x-python",
   "name": "python",
   "nbconvert_exporter": "python",
   "pygments_lexer": "ipython3",
   "version": "3.9.13"
  },
  "toc": {
   "base_numbering": 1,
   "nav_menu": {},
   "number_sections": true,
   "sideBar": true,
   "skip_h1_title": true,
   "title_cell": "Table of Contents",
   "title_sidebar": "Contents",
   "toc_cell": false,
   "toc_position": {},
   "toc_section_display": true,
   "toc_window_display": false
  }
 },
 "nbformat": 4,
 "nbformat_minor": 2
}
